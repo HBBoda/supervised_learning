{
 "cells": [
  {
   "cell_type": "markdown",
   "metadata": {
    "toc": true
   },
   "source": [
    "<h1>Содержание<span class=\"tocSkip\"></span></h1>\n",
    "<div class=\"toc\"><ul class=\"toc-item\"><li><span><a href=\"#Подготовка-данных\" data-toc-modified-id=\"Подготовка-данных-1\"><span class=\"toc-item-num\">1&nbsp;&nbsp;</span>Подготовка данных</a></span></li><li><span><a href=\"#Исследование-задачи\" data-toc-modified-id=\"Исследование-задачи-2\"><span class=\"toc-item-num\">2&nbsp;&nbsp;</span>Исследование задачи</a></span><ul class=\"toc-item\"><li><span><a href=\"#Случайный-лес\" data-toc-modified-id=\"Случайный-лес-2.1\"><span class=\"toc-item-num\">2.1&nbsp;&nbsp;</span>Случайный лес</a></span></li><li><span><a href=\"#CatBoost\" data-toc-modified-id=\"CatBoost-2.2\"><span class=\"toc-item-num\">2.2&nbsp;&nbsp;</span>CatBoost</a></span></li><li><span><a href=\"#Дерево-решений\" data-toc-modified-id=\"Дерево-решений-2.3\"><span class=\"toc-item-num\">2.3&nbsp;&nbsp;</span>Дерево решений</a></span></li></ul></li><li><span><a href=\"#Борьба-с-дисбалансом\" data-toc-modified-id=\"Борьба-с-дисбалансом-3\"><span class=\"toc-item-num\">3&nbsp;&nbsp;</span>Борьба с дисбалансом</a></span><ul class=\"toc-item\"><li><span><a href=\"#Взвешивание-классов\" data-toc-modified-id=\"Взвешивание-классов-3.1\"><span class=\"toc-item-num\">3.1&nbsp;&nbsp;</span>Взвешивание классов</a></span><ul class=\"toc-item\"><li><span><a href=\"#Случайный-лес\" data-toc-modified-id=\"Случайный-лес-3.1.1\"><span class=\"toc-item-num\">3.1.1&nbsp;&nbsp;</span>Случайный лес</a></span></li><li><span><a href=\"#CatBoost\" data-toc-modified-id=\"CatBoost-3.1.2\"><span class=\"toc-item-num\">3.1.2&nbsp;&nbsp;</span>CatBoost</a></span></li><li><span><a href=\"#Дерево-решений\" data-toc-modified-id=\"Дерево-решений-3.1.3\"><span class=\"toc-item-num\">3.1.3&nbsp;&nbsp;</span>Дерево решений</a></span></li></ul></li><li><span><a href=\"#Upsampling\" data-toc-modified-id=\"Upsampling-3.2\"><span class=\"toc-item-num\">3.2&nbsp;&nbsp;</span>Upsampling</a></span><ul class=\"toc-item\"><li><span><a href=\"#Случайный-лес\" data-toc-modified-id=\"Случайный-лес-3.2.1\"><span class=\"toc-item-num\">3.2.1&nbsp;&nbsp;</span>Случайный лес</a></span></li><li><span><a href=\"#CatBoost\" data-toc-modified-id=\"CatBoost-3.2.2\"><span class=\"toc-item-num\">3.2.2&nbsp;&nbsp;</span>CatBoost</a></span></li><li><span><a href=\"#Дерево-решений\" data-toc-modified-id=\"Дерево-решений-3.2.3\"><span class=\"toc-item-num\">3.2.3&nbsp;&nbsp;</span>Дерево решений</a></span></li></ul></li><li><span><a href=\"#Downsampling\" data-toc-modified-id=\"Downsampling-3.3\"><span class=\"toc-item-num\">3.3&nbsp;&nbsp;</span>Downsampling</a></span><ul class=\"toc-item\"><li><span><a href=\"#Случайный-лес\" data-toc-modified-id=\"Случайный-лес-3.3.1\"><span class=\"toc-item-num\">3.3.1&nbsp;&nbsp;</span>Случайный лес</a></span></li><li><span><a href=\"#CatBoost\" data-toc-modified-id=\"CatBoost-3.3.2\"><span class=\"toc-item-num\">3.3.2&nbsp;&nbsp;</span>CatBoost</a></span></li><li><span><a href=\"#Дерево-решения\" data-toc-modified-id=\"Дерево-решения-3.3.3\"><span class=\"toc-item-num\">3.3.3&nbsp;&nbsp;</span>Дерево решения</a></span></li></ul></li></ul></li><li><span><a href=\"#Тестирование-модели\" data-toc-modified-id=\"Тестирование-модели-4\"><span class=\"toc-item-num\">4&nbsp;&nbsp;</span>Тестирование модели</a></span></li><li><span><a href=\"#Вывод\" data-toc-modified-id=\"Вывод-5\"><span class=\"toc-item-num\">5&nbsp;&nbsp;</span>Вывод</a></span></li></ul></div>"
   ]
  },
  {
   "cell_type": "markdown",
   "metadata": {},
   "source": [
    "# Отток клиентов"
   ]
  },
  {
   "cell_type": "markdown",
   "metadata": {},
   "source": [
    "Из «Бета-Банка» стали уходить клиенты. Каждый месяц. Немного, но заметно. Банковские маркетологи посчитали: сохранять текущих клиентов дешевле, чем привлекать новых.\n",
    "\n",
    "Нужно спрогнозировать, уйдёт клиент из банка в ближайшее время или нет. Вам предоставлены исторические данные о поведении клиентов и расторжении договоров с банком. \n",
    "\n",
    "Постройте модель с предельно большим значением *F1*-меры. Чтобы сдать проект успешно, нужно довести метрику до 0.59. Проверьте *F1*-меру на тестовой выборке самостоятельно.\n",
    "\n",
    "Дополнительно измеряйте *AUC-ROC*, сравнивайте её значение с *F1*-мерой.\n",
    "\n",
    "Источник данных: [https://www.kaggle.com/barelydedicated/bank-customer-churn-modeling](https://www.kaggle.com/barelydedicated/bank-customer-churn-modeling)"
   ]
  },
  {
   "cell_type": "markdown",
   "metadata": {},
   "source": [
    "## Подготовка данных"
   ]
  },
  {
   "cell_type": "markdown",
   "metadata": {},
   "source": [
    "Импортируем все необходимые библиотеки для работы."
   ]
  },
  {
   "cell_type": "code",
   "execution_count": 2,
   "metadata": {},
   "outputs": [
    {
     "name": "stdout",
     "output_type": "stream",
     "text": [
      "Collecting category_encoders\n",
      "  Using cached category_encoders-2.6.0-py2.py3-none-any.whl (81 kB)\n",
      "Requirement already satisfied: pandas>=1.0.5 in c:\\users\\banan\\anaconda3\\lib\\site-packages (from category_encoders) (1.4.4)\n",
      "Requirement already satisfied: patsy>=0.5.1 in c:\\users\\banan\\anaconda3\\lib\\site-packages (from category_encoders) (0.5.2)\n",
      "Requirement already satisfied: numpy>=1.14.0 in c:\\users\\banan\\anaconda3\\lib\\site-packages (from category_encoders) (1.21.5)\n",
      "Requirement already satisfied: statsmodels>=0.9.0 in c:\\users\\banan\\anaconda3\\lib\\site-packages (from category_encoders) (0.13.2)\n",
      "Requirement already satisfied: scipy>=1.0.0 in c:\\users\\banan\\anaconda3\\lib\\site-packages (from category_encoders) (1.9.1)\n",
      "Requirement already satisfied: scikit-learn>=0.20.0 in c:\\users\\banan\\anaconda3\\lib\\site-packages (from category_encoders) (1.0.2)\n",
      "Requirement already satisfied: python-dateutil>=2.8.1 in c:\\users\\banan\\anaconda3\\lib\\site-packages (from pandas>=1.0.5->category_encoders) (2.8.2)\n",
      "Requirement already satisfied: pytz>=2020.1 in c:\\users\\banan\\anaconda3\\lib\\site-packages (from pandas>=1.0.5->category_encoders) (2022.1)\n",
      "Requirement already satisfied: six in c:\\users\\banan\\anaconda3\\lib\\site-packages (from patsy>=0.5.1->category_encoders) (1.16.0)\n",
      "Requirement already satisfied: joblib>=0.11 in c:\\users\\banan\\anaconda3\\lib\\site-packages (from scikit-learn>=0.20.0->category_encoders) (1.1.0)\n",
      "Requirement already satisfied: threadpoolctl>=2.0.0 in c:\\users\\banan\\anaconda3\\lib\\site-packages (from scikit-learn>=0.20.0->category_encoders) (2.2.0)\n",
      "Requirement already satisfied: packaging>=21.3 in c:\\users\\banan\\anaconda3\\lib\\site-packages (from statsmodels>=0.9.0->category_encoders) (21.3)\n",
      "Requirement already satisfied: pyparsing!=3.0.5,>=2.0.2 in c:\\users\\banan\\anaconda3\\lib\\site-packages (from packaging>=21.3->statsmodels>=0.9.0->category_encoders) (3.0.9)\n",
      "Installing collected packages: category_encoders\n",
      "Successfully installed category_encoders-2.6.0\n",
      "Note: you may need to restart the kernel to use updated packages.\n"
     ]
    }
   ],
   "source": [
    "pip install category_encoders"
   ]
  },
  {
   "cell_type": "code",
   "execution_count": 3,
   "metadata": {},
   "outputs": [
    {
     "name": "stdout",
     "output_type": "stream",
     "text": [
      "Collecting optuna\n",
      "  Using cached optuna-3.1.0-py3-none-any.whl (365 kB)\n",
      "Requirement already satisfied: numpy in c:\\users\\banan\\anaconda3\\lib\\site-packages (from optuna) (1.21.5)\n",
      "Requirement already satisfied: sqlalchemy>=1.3.0 in c:\\users\\banan\\anaconda3\\lib\\site-packages (from optuna) (1.4.39)\n",
      "Collecting cmaes>=0.9.1\n",
      "  Using cached cmaes-0.9.1-py3-none-any.whl (21 kB)\n",
      "Collecting alembic>=1.5.0\n",
      "  Using cached alembic-1.10.2-py3-none-any.whl (212 kB)\n",
      "Requirement already satisfied: tqdm in c:\\users\\banan\\anaconda3\\lib\\site-packages (from optuna) (4.64.1)\n",
      "Collecting colorlog\n",
      "  Using cached colorlog-6.7.0-py2.py3-none-any.whl (11 kB)\n",
      "Requirement already satisfied: PyYAML in c:\\users\\banan\\anaconda3\\lib\\site-packages (from optuna) (6.0)\n",
      "Requirement already satisfied: packaging>=20.0 in c:\\users\\banan\\anaconda3\\lib\\site-packages (from optuna) (21.3)\n",
      "Requirement already satisfied: typing-extensions>=4 in c:\\users\\banan\\anaconda3\\lib\\site-packages (from alembic>=1.5.0->optuna) (4.3.0)\n",
      "Collecting Mako\n",
      "  Using cached Mako-1.2.4-py3-none-any.whl (78 kB)\n",
      "Requirement already satisfied: pyparsing!=3.0.5,>=2.0.2 in c:\\users\\banan\\anaconda3\\lib\\site-packages (from packaging>=20.0->optuna) (3.0.9)\n",
      "Requirement already satisfied: greenlet!=0.4.17 in c:\\users\\banan\\anaconda3\\lib\\site-packages (from sqlalchemy>=1.3.0->optuna) (1.1.1)\n",
      "Requirement already satisfied: colorama in c:\\users\\banan\\anaconda3\\lib\\site-packages (from colorlog->optuna) (0.4.5)\n",
      "Requirement already satisfied: MarkupSafe>=0.9.2 in c:\\users\\banan\\anaconda3\\lib\\site-packages (from Mako->alembic>=1.5.0->optuna) (2.0.1)\n",
      "Installing collected packages: Mako, colorlog, cmaes, alembic, optuna\n",
      "Successfully installed Mako-1.2.4 alembic-1.10.2 cmaes-0.9.1 colorlog-6.7.0 optuna-3.1.0\n",
      "Note: you may need to restart the kernel to use updated packages.\n"
     ]
    },
    {
     "name": "stderr",
     "output_type": "stream",
     "text": [
      "WARNING: Retrying (Retry(total=4, connect=None, read=None, redirect=None, status=None)) after connection broken by 'ProtocolError('Connection aborted.', ConnectionResetError(10054, 'Удаленный хост принудительно разорвал существующее подключение', None, 10054, None))': /simple/optuna/\n"
     ]
    }
   ],
   "source": [
    "pip install optuna"
   ]
  },
  {
   "cell_type": "code",
   "execution_count": 4,
   "metadata": {},
   "outputs": [
    {
     "ename": "ModuleNotFoundError",
     "evalue": "No module named 'catboost'",
     "output_type": "error",
     "traceback": [
      "\u001b[1;31m---------------------------------------------------------------------------\u001b[0m",
      "\u001b[1;31mModuleNotFoundError\u001b[0m                       Traceback (most recent call last)",
      "\u001b[1;32m~\\AppData\\Local\\Temp\\ipykernel_44436\\3546132891.py\u001b[0m in \u001b[0;36m<module>\u001b[1;34m\u001b[0m\n\u001b[0;32m     16\u001b[0m \u001b[1;32mimport\u001b[0m \u001b[0mcategory_encoders\u001b[0m \u001b[1;32mas\u001b[0m \u001b[0mce\u001b[0m\u001b[1;33m\u001b[0m\u001b[1;33m\u001b[0m\u001b[0m\n\u001b[0;32m     17\u001b[0m \u001b[1;32mimport\u001b[0m \u001b[0moptuna\u001b[0m\u001b[1;33m\u001b[0m\u001b[1;33m\u001b[0m\u001b[0m\n\u001b[1;32m---> 18\u001b[1;33m \u001b[1;32mfrom\u001b[0m \u001b[0mcatboost\u001b[0m \u001b[1;32mimport\u001b[0m \u001b[0mCatBoostClassifier\u001b[0m\u001b[1;33m\u001b[0m\u001b[1;33m\u001b[0m\u001b[0m\n\u001b[0m",
      "\u001b[1;31mModuleNotFoundError\u001b[0m: No module named 'catboost'"
     ]
    }
   ],
   "source": [
    "import pandas as pd\n",
    "from sklearn.model_selection import train_test_split\n",
    "from sklearn.tree import DecisionTreeClassifier \n",
    "from sklearn.ensemble import RandomForestClassifier\n",
    "from sklearn.linear_model import LogisticRegression \n",
    "from sklearn.metrics import f1_score\n",
    "from sklearn.preprocessing import StandardScaler\n",
    "import numpy as np\n",
    "import matplotlib.pyplot as plt\n",
    "from sklearn.metrics import roc_curve\n",
    "from sklearn.metrics import roc_auc_score\n",
    "from sklearn.utils import shuffle\n",
    "from sklearn.linear_model import LogisticRegression\n",
    "from sklearn.preprocessing import OneHotEncoder\n",
    "from sklearn.model_selection import GridSearchCV\n",
    "import category_encoders as ce\n",
    "import optuna\n",
    "from catboost import CatBoostClassifier"
   ]
  },
  {
   "cell_type": "markdown",
   "metadata": {},
   "source": [
    "Откроем файл с данными, сохраним в переменную `df` и выведем первые десять строк."
   ]
  },
  {
   "cell_type": "code",
   "execution_count": 4,
   "metadata": {},
   "outputs": [],
   "source": [
    "df = pd.read_csv('churn.csv')"
   ]
  },
  {
   "cell_type": "code",
   "execution_count": 5,
   "metadata": {},
   "outputs": [
    {
     "data": {
      "text/html": [
       "<div>\n",
       "<style scoped>\n",
       "    .dataframe tbody tr th:only-of-type {\n",
       "        vertical-align: middle;\n",
       "    }\n",
       "\n",
       "    .dataframe tbody tr th {\n",
       "        vertical-align: top;\n",
       "    }\n",
       "\n",
       "    .dataframe thead th {\n",
       "        text-align: right;\n",
       "    }\n",
       "</style>\n",
       "<table border=\"1\" class=\"dataframe\">\n",
       "  <thead>\n",
       "    <tr style=\"text-align: right;\">\n",
       "      <th></th>\n",
       "      <th>RowNumber</th>\n",
       "      <th>CustomerId</th>\n",
       "      <th>Surname</th>\n",
       "      <th>CreditScore</th>\n",
       "      <th>Geography</th>\n",
       "      <th>Gender</th>\n",
       "      <th>Age</th>\n",
       "      <th>Tenure</th>\n",
       "      <th>Balance</th>\n",
       "      <th>NumOfProducts</th>\n",
       "      <th>HasCrCard</th>\n",
       "      <th>IsActiveMember</th>\n",
       "      <th>EstimatedSalary</th>\n",
       "      <th>Exited</th>\n",
       "    </tr>\n",
       "  </thead>\n",
       "  <tbody>\n",
       "    <tr>\n",
       "      <th>0</th>\n",
       "      <td>1</td>\n",
       "      <td>15634602</td>\n",
       "      <td>Hargrave</td>\n",
       "      <td>619</td>\n",
       "      <td>France</td>\n",
       "      <td>Female</td>\n",
       "      <td>42</td>\n",
       "      <td>2.0</td>\n",
       "      <td>0.00</td>\n",
       "      <td>1</td>\n",
       "      <td>1</td>\n",
       "      <td>1</td>\n",
       "      <td>101348.88</td>\n",
       "      <td>1</td>\n",
       "    </tr>\n",
       "    <tr>\n",
       "      <th>1</th>\n",
       "      <td>2</td>\n",
       "      <td>15647311</td>\n",
       "      <td>Hill</td>\n",
       "      <td>608</td>\n",
       "      <td>Spain</td>\n",
       "      <td>Female</td>\n",
       "      <td>41</td>\n",
       "      <td>1.0</td>\n",
       "      <td>83807.86</td>\n",
       "      <td>1</td>\n",
       "      <td>0</td>\n",
       "      <td>1</td>\n",
       "      <td>112542.58</td>\n",
       "      <td>0</td>\n",
       "    </tr>\n",
       "    <tr>\n",
       "      <th>2</th>\n",
       "      <td>3</td>\n",
       "      <td>15619304</td>\n",
       "      <td>Onio</td>\n",
       "      <td>502</td>\n",
       "      <td>France</td>\n",
       "      <td>Female</td>\n",
       "      <td>42</td>\n",
       "      <td>8.0</td>\n",
       "      <td>159660.80</td>\n",
       "      <td>3</td>\n",
       "      <td>1</td>\n",
       "      <td>0</td>\n",
       "      <td>113931.57</td>\n",
       "      <td>1</td>\n",
       "    </tr>\n",
       "    <tr>\n",
       "      <th>3</th>\n",
       "      <td>4</td>\n",
       "      <td>15701354</td>\n",
       "      <td>Boni</td>\n",
       "      <td>699</td>\n",
       "      <td>France</td>\n",
       "      <td>Female</td>\n",
       "      <td>39</td>\n",
       "      <td>1.0</td>\n",
       "      <td>0.00</td>\n",
       "      <td>2</td>\n",
       "      <td>0</td>\n",
       "      <td>0</td>\n",
       "      <td>93826.63</td>\n",
       "      <td>0</td>\n",
       "    </tr>\n",
       "    <tr>\n",
       "      <th>4</th>\n",
       "      <td>5</td>\n",
       "      <td>15737888</td>\n",
       "      <td>Mitchell</td>\n",
       "      <td>850</td>\n",
       "      <td>Spain</td>\n",
       "      <td>Female</td>\n",
       "      <td>43</td>\n",
       "      <td>2.0</td>\n",
       "      <td>125510.82</td>\n",
       "      <td>1</td>\n",
       "      <td>1</td>\n",
       "      <td>1</td>\n",
       "      <td>79084.10</td>\n",
       "      <td>0</td>\n",
       "    </tr>\n",
       "    <tr>\n",
       "      <th>5</th>\n",
       "      <td>6</td>\n",
       "      <td>15574012</td>\n",
       "      <td>Chu</td>\n",
       "      <td>645</td>\n",
       "      <td>Spain</td>\n",
       "      <td>Male</td>\n",
       "      <td>44</td>\n",
       "      <td>8.0</td>\n",
       "      <td>113755.78</td>\n",
       "      <td>2</td>\n",
       "      <td>1</td>\n",
       "      <td>0</td>\n",
       "      <td>149756.71</td>\n",
       "      <td>1</td>\n",
       "    </tr>\n",
       "    <tr>\n",
       "      <th>6</th>\n",
       "      <td>7</td>\n",
       "      <td>15592531</td>\n",
       "      <td>Bartlett</td>\n",
       "      <td>822</td>\n",
       "      <td>France</td>\n",
       "      <td>Male</td>\n",
       "      <td>50</td>\n",
       "      <td>7.0</td>\n",
       "      <td>0.00</td>\n",
       "      <td>2</td>\n",
       "      <td>1</td>\n",
       "      <td>1</td>\n",
       "      <td>10062.80</td>\n",
       "      <td>0</td>\n",
       "    </tr>\n",
       "    <tr>\n",
       "      <th>7</th>\n",
       "      <td>8</td>\n",
       "      <td>15656148</td>\n",
       "      <td>Obinna</td>\n",
       "      <td>376</td>\n",
       "      <td>Germany</td>\n",
       "      <td>Female</td>\n",
       "      <td>29</td>\n",
       "      <td>4.0</td>\n",
       "      <td>115046.74</td>\n",
       "      <td>4</td>\n",
       "      <td>1</td>\n",
       "      <td>0</td>\n",
       "      <td>119346.88</td>\n",
       "      <td>1</td>\n",
       "    </tr>\n",
       "    <tr>\n",
       "      <th>8</th>\n",
       "      <td>9</td>\n",
       "      <td>15792365</td>\n",
       "      <td>He</td>\n",
       "      <td>501</td>\n",
       "      <td>France</td>\n",
       "      <td>Male</td>\n",
       "      <td>44</td>\n",
       "      <td>4.0</td>\n",
       "      <td>142051.07</td>\n",
       "      <td>2</td>\n",
       "      <td>0</td>\n",
       "      <td>1</td>\n",
       "      <td>74940.50</td>\n",
       "      <td>0</td>\n",
       "    </tr>\n",
       "    <tr>\n",
       "      <th>9</th>\n",
       "      <td>10</td>\n",
       "      <td>15592389</td>\n",
       "      <td>H?</td>\n",
       "      <td>684</td>\n",
       "      <td>France</td>\n",
       "      <td>Male</td>\n",
       "      <td>27</td>\n",
       "      <td>2.0</td>\n",
       "      <td>134603.88</td>\n",
       "      <td>1</td>\n",
       "      <td>1</td>\n",
       "      <td>1</td>\n",
       "      <td>71725.73</td>\n",
       "      <td>0</td>\n",
       "    </tr>\n",
       "  </tbody>\n",
       "</table>\n",
       "</div>"
      ],
      "text/plain": [
       "   RowNumber  CustomerId   Surname  CreditScore Geography  Gender  Age  \\\n",
       "0          1    15634602  Hargrave          619    France  Female   42   \n",
       "1          2    15647311      Hill          608     Spain  Female   41   \n",
       "2          3    15619304      Onio          502    France  Female   42   \n",
       "3          4    15701354      Boni          699    France  Female   39   \n",
       "4          5    15737888  Mitchell          850     Spain  Female   43   \n",
       "5          6    15574012       Chu          645     Spain    Male   44   \n",
       "6          7    15592531  Bartlett          822    France    Male   50   \n",
       "7          8    15656148    Obinna          376   Germany  Female   29   \n",
       "8          9    15792365        He          501    France    Male   44   \n",
       "9         10    15592389        H?          684    France    Male   27   \n",
       "\n",
       "   Tenure    Balance  NumOfProducts  HasCrCard  IsActiveMember  \\\n",
       "0     2.0       0.00              1          1               1   \n",
       "1     1.0   83807.86              1          0               1   \n",
       "2     8.0  159660.80              3          1               0   \n",
       "3     1.0       0.00              2          0               0   \n",
       "4     2.0  125510.82              1          1               1   \n",
       "5     8.0  113755.78              2          1               0   \n",
       "6     7.0       0.00              2          1               1   \n",
       "7     4.0  115046.74              4          1               0   \n",
       "8     4.0  142051.07              2          0               1   \n",
       "9     2.0  134603.88              1          1               1   \n",
       "\n",
       "   EstimatedSalary  Exited  \n",
       "0        101348.88       1  \n",
       "1        112542.58       0  \n",
       "2        113931.57       1  \n",
       "3         93826.63       0  \n",
       "4         79084.10       0  \n",
       "5        149756.71       1  \n",
       "6         10062.80       0  \n",
       "7        119346.88       1  \n",
       "8         74940.50       0  \n",
       "9         71725.73       0  "
      ]
     },
     "execution_count": 5,
     "metadata": {},
     "output_type": "execute_result"
    }
   ],
   "source": [
    "df.head(10)"
   ]
  },
  {
   "cell_type": "markdown",
   "metadata": {},
   "source": [
    "Выведем информацию о датафрейме с помощью метода `info()`."
   ]
  },
  {
   "cell_type": "code",
   "execution_count": 6,
   "metadata": {},
   "outputs": [
    {
     "name": "stdout",
     "output_type": "stream",
     "text": [
      "<class 'pandas.core.frame.DataFrame'>\n",
      "RangeIndex: 10000 entries, 0 to 9999\n",
      "Data columns (total 14 columns):\n",
      " #   Column           Non-Null Count  Dtype  \n",
      "---  ------           --------------  -----  \n",
      " 0   RowNumber        10000 non-null  int64  \n",
      " 1   CustomerId       10000 non-null  int64  \n",
      " 2   Surname          10000 non-null  object \n",
      " 3   CreditScore      10000 non-null  int64  \n",
      " 4   Geography        10000 non-null  object \n",
      " 5   Gender           10000 non-null  object \n",
      " 6   Age              10000 non-null  int64  \n",
      " 7   Tenure           9091 non-null   float64\n",
      " 8   Balance          10000 non-null  float64\n",
      " 9   NumOfProducts    10000 non-null  int64  \n",
      " 10  HasCrCard        10000 non-null  int64  \n",
      " 11  IsActiveMember   10000 non-null  int64  \n",
      " 12  EstimatedSalary  10000 non-null  float64\n",
      " 13  Exited           10000 non-null  int64  \n",
      "dtypes: float64(3), int64(8), object(3)\n",
      "memory usage: 1.1+ MB\n"
     ]
    }
   ],
   "source": [
    "df.info()"
   ]
  },
  {
   "cell_type": "code",
   "execution_count": 7,
   "metadata": {},
   "outputs": [
    {
     "data": {
      "text/plain": [
       "9.09"
      ]
     },
     "execution_count": 7,
     "metadata": {},
     "output_type": "execute_result"
    }
   ],
   "source": [
    "df['Tenure'].isna().mean()*100"
   ]
  },
  {
   "cell_type": "markdown",
   "metadata": {},
   "source": [
    "Признак `Tenure` содержит пропуски, чтобы не искажать данные удалим их."
   ]
  },
  {
   "cell_type": "code",
   "execution_count": 8,
   "metadata": {},
   "outputs": [],
   "source": [
    "df = df.dropna().reset_index(drop=True)"
   ]
  },
  {
   "cell_type": "markdown",
   "metadata": {},
   "source": [
    "Признаки сохраним в переменной features, а целевой признак - в target."
   ]
  },
  {
   "cell_type": "code",
   "execution_count": 9,
   "metadata": {},
   "outputs": [],
   "source": [
    "features = df.drop(['RowNumber', 'CustomerId', 'Surname', 'Exited'], axis=1)\n",
    "target = df['Exited']"
   ]
  },
  {
   "cell_type": "markdown",
   "metadata": {},
   "source": [
    "Разобьем данные на обучающую, валидационную и тестовую выборки в соотношении 3:1:1 соответственно."
   ]
  },
  {
   "cell_type": "code",
   "execution_count": 10,
   "metadata": {},
   "outputs": [],
   "source": [
    "features_train, features_temp, target_train, target_temp = (\n",
    "    train_test_split(features, target, test_size=0.4, random_state=322, stratify=target)\n",
    ")"
   ]
  },
  {
   "cell_type": "code",
   "execution_count": 11,
   "metadata": {},
   "outputs": [],
   "source": [
    "features_valid, features_test, target_valid, target_test = (\n",
    "    train_test_split(features_temp, target_temp, test_size=0.5, random_state=322, stratify=target_temp)\n",
    ")"
   ]
  },
  {
   "cell_type": "markdown",
   "metadata": {},
   "source": [
    "Проверим корректность разбиения."
   ]
  },
  {
   "cell_type": "code",
   "execution_count": 12,
   "metadata": {},
   "outputs": [
    {
     "data": {
      "text/plain": [
       "(5454, 10)"
      ]
     },
     "execution_count": 12,
     "metadata": {},
     "output_type": "execute_result"
    }
   ],
   "source": [
    "features_train.shape"
   ]
  },
  {
   "cell_type": "code",
   "execution_count": 13,
   "metadata": {},
   "outputs": [
    {
     "data": {
      "text/plain": [
       "(1818, 10)"
      ]
     },
     "execution_count": 13,
     "metadata": {},
     "output_type": "execute_result"
    }
   ],
   "source": [
    "features_valid.shape"
   ]
  },
  {
   "cell_type": "code",
   "execution_count": 14,
   "metadata": {},
   "outputs": [
    {
     "data": {
      "text/plain": [
       "(1819, 10)"
      ]
     },
     "execution_count": 14,
     "metadata": {},
     "output_type": "execute_result"
    }
   ],
   "source": [
    "features_test.shape"
   ]
  },
  {
   "cell_type": "markdown",
   "metadata": {},
   "source": [
    "Преобразуем категориальные признаки Geography и Gender в количественные с помощью OHE."
   ]
  },
  {
   "cell_type": "code",
   "execution_count": 15,
   "metadata": {},
   "outputs": [
    {
     "data": {
      "text/html": [
       "<div>\n",
       "<style scoped>\n",
       "    .dataframe tbody tr th:only-of-type {\n",
       "        vertical-align: middle;\n",
       "    }\n",
       "\n",
       "    .dataframe tbody tr th {\n",
       "        vertical-align: top;\n",
       "    }\n",
       "\n",
       "    .dataframe thead th {\n",
       "        text-align: right;\n",
       "    }\n",
       "</style>\n",
       "<table border=\"1\" class=\"dataframe\">\n",
       "  <thead>\n",
       "    <tr style=\"text-align: right;\">\n",
       "      <th></th>\n",
       "      <th>CreditScore</th>\n",
       "      <th>Geography_1</th>\n",
       "      <th>Geography_2</th>\n",
       "      <th>Geography_3</th>\n",
       "      <th>Gender_1</th>\n",
       "      <th>Gender_2</th>\n",
       "      <th>Age</th>\n",
       "      <th>Tenure</th>\n",
       "      <th>Balance</th>\n",
       "      <th>NumOfProducts</th>\n",
       "      <th>HasCrCard</th>\n",
       "      <th>IsActiveMember</th>\n",
       "      <th>EstimatedSalary</th>\n",
       "    </tr>\n",
       "  </thead>\n",
       "  <tbody>\n",
       "    <tr>\n",
       "      <th>6269</th>\n",
       "      <td>688</td>\n",
       "      <td>1</td>\n",
       "      <td>0</td>\n",
       "      <td>0</td>\n",
       "      <td>1</td>\n",
       "      <td>0</td>\n",
       "      <td>46</td>\n",
       "      <td>3.0</td>\n",
       "      <td>0.00</td>\n",
       "      <td>2</td>\n",
       "      <td>0</td>\n",
       "      <td>1</td>\n",
       "      <td>104902.68</td>\n",
       "    </tr>\n",
       "    <tr>\n",
       "      <th>3896</th>\n",
       "      <td>641</td>\n",
       "      <td>0</td>\n",
       "      <td>1</td>\n",
       "      <td>0</td>\n",
       "      <td>1</td>\n",
       "      <td>0</td>\n",
       "      <td>40</td>\n",
       "      <td>7.0</td>\n",
       "      <td>0.00</td>\n",
       "      <td>1</td>\n",
       "      <td>1</td>\n",
       "      <td>0</td>\n",
       "      <td>126996.67</td>\n",
       "    </tr>\n",
       "    <tr>\n",
       "      <th>4692</th>\n",
       "      <td>760</td>\n",
       "      <td>0</td>\n",
       "      <td>0</td>\n",
       "      <td>1</td>\n",
       "      <td>0</td>\n",
       "      <td>1</td>\n",
       "      <td>34</td>\n",
       "      <td>6.0</td>\n",
       "      <td>121303.77</td>\n",
       "      <td>2</td>\n",
       "      <td>1</td>\n",
       "      <td>1</td>\n",
       "      <td>59325.21</td>\n",
       "    </tr>\n",
       "    <tr>\n",
       "      <th>4220</th>\n",
       "      <td>850</td>\n",
       "      <td>0</td>\n",
       "      <td>0</td>\n",
       "      <td>1</td>\n",
       "      <td>1</td>\n",
       "      <td>0</td>\n",
       "      <td>39</td>\n",
       "      <td>5.0</td>\n",
       "      <td>114491.82</td>\n",
       "      <td>1</td>\n",
       "      <td>1</td>\n",
       "      <td>0</td>\n",
       "      <td>99689.48</td>\n",
       "    </tr>\n",
       "    <tr>\n",
       "      <th>6397</th>\n",
       "      <td>563</td>\n",
       "      <td>1</td>\n",
       "      <td>0</td>\n",
       "      <td>0</td>\n",
       "      <td>0</td>\n",
       "      <td>1</td>\n",
       "      <td>57</td>\n",
       "      <td>6.0</td>\n",
       "      <td>0.00</td>\n",
       "      <td>2</td>\n",
       "      <td>1</td>\n",
       "      <td>1</td>\n",
       "      <td>39297.48</td>\n",
       "    </tr>\n",
       "  </tbody>\n",
       "</table>\n",
       "</div>"
      ],
      "text/plain": [
       "      CreditScore  Geography_1  Geography_2  Geography_3  Gender_1  Gender_2  \\\n",
       "6269          688            1            0            0         1         0   \n",
       "3896          641            0            1            0         1         0   \n",
       "4692          760            0            0            1         0         1   \n",
       "4220          850            0            0            1         1         0   \n",
       "6397          563            1            0            0         0         1   \n",
       "\n",
       "      Age  Tenure    Balance  NumOfProducts  HasCrCard  IsActiveMember  \\\n",
       "6269   46     3.0       0.00              2          0               1   \n",
       "3896   40     7.0       0.00              1          1               0   \n",
       "4692   34     6.0  121303.77              2          1               1   \n",
       "4220   39     5.0  114491.82              1          1               0   \n",
       "6397   57     6.0       0.00              2          1               1   \n",
       "\n",
       "      EstimatedSalary  \n",
       "6269        104902.68  \n",
       "3896        126996.67  \n",
       "4692         59325.21  \n",
       "4220         99689.48  \n",
       "6397         39297.48  "
      ]
     },
     "execution_count": 15,
     "metadata": {},
     "output_type": "execute_result"
    }
   ],
   "source": [
    "ohe = ce.OneHotEncoder(drop_invariant=True)\n",
    "ohe.fit(features_train)\n",
    "features_train = ohe.transform(features_train)\n",
    "features_valid = ohe.transform(features_valid)\n",
    "features_test = ohe.transform(features_test)\n",
    "features_train.head()"
   ]
  },
  {
   "cell_type": "markdown",
   "metadata": {},
   "source": [
    "Стандартизируем численные признаки с помощью `StandardScaler`."
   ]
  },
  {
   "cell_type": "code",
   "execution_count": 16,
   "metadata": {},
   "outputs": [
    {
     "data": {
      "text/html": [
       "<div>\n",
       "<style scoped>\n",
       "    .dataframe tbody tr th:only-of-type {\n",
       "        vertical-align: middle;\n",
       "    }\n",
       "\n",
       "    .dataframe tbody tr th {\n",
       "        vertical-align: top;\n",
       "    }\n",
       "\n",
       "    .dataframe thead th {\n",
       "        text-align: right;\n",
       "    }\n",
       "</style>\n",
       "<table border=\"1\" class=\"dataframe\">\n",
       "  <thead>\n",
       "    <tr style=\"text-align: right;\">\n",
       "      <th></th>\n",
       "      <th>CreditScore</th>\n",
       "      <th>Geography_1</th>\n",
       "      <th>Geography_2</th>\n",
       "      <th>Geography_3</th>\n",
       "      <th>Gender_1</th>\n",
       "      <th>Gender_2</th>\n",
       "      <th>Age</th>\n",
       "      <th>Tenure</th>\n",
       "      <th>Balance</th>\n",
       "      <th>NumOfProducts</th>\n",
       "      <th>HasCrCard</th>\n",
       "      <th>IsActiveMember</th>\n",
       "      <th>EstimatedSalary</th>\n",
       "    </tr>\n",
       "  </thead>\n",
       "  <tbody>\n",
       "    <tr>\n",
       "      <th>6269</th>\n",
       "      <td>0.393274</td>\n",
       "      <td>1</td>\n",
       "      <td>0</td>\n",
       "      <td>0</td>\n",
       "      <td>1</td>\n",
       "      <td>0</td>\n",
       "      <td>0.684323</td>\n",
       "      <td>-0.689374</td>\n",
       "      <td>-1.214471</td>\n",
       "      <td>0.791149</td>\n",
       "      <td>0</td>\n",
       "      <td>1</td>\n",
       "      <td>0.103521</td>\n",
       "    </tr>\n",
       "    <tr>\n",
       "      <th>3896</th>\n",
       "      <td>-0.094186</td>\n",
       "      <td>0</td>\n",
       "      <td>1</td>\n",
       "      <td>0</td>\n",
       "      <td>1</td>\n",
       "      <td>0</td>\n",
       "      <td>0.116212</td>\n",
       "      <td>0.693685</td>\n",
       "      <td>-1.214471</td>\n",
       "      <td>-0.920444</td>\n",
       "      <td>1</td>\n",
       "      <td>0</td>\n",
       "      <td>0.485720</td>\n",
       "    </tr>\n",
       "    <tr>\n",
       "      <th>4692</th>\n",
       "      <td>1.140021</td>\n",
       "      <td>0</td>\n",
       "      <td>0</td>\n",
       "      <td>1</td>\n",
       "      <td>0</td>\n",
       "      <td>1</td>\n",
       "      <td>-0.451898</td>\n",
       "      <td>0.347920</td>\n",
       "      <td>0.734066</td>\n",
       "      <td>0.791149</td>\n",
       "      <td>1</td>\n",
       "      <td>1</td>\n",
       "      <td>-0.684914</td>\n",
       "    </tr>\n",
       "    <tr>\n",
       "      <th>4220</th>\n",
       "      <td>2.073455</td>\n",
       "      <td>0</td>\n",
       "      <td>0</td>\n",
       "      <td>1</td>\n",
       "      <td>1</td>\n",
       "      <td>0</td>\n",
       "      <td>0.021527</td>\n",
       "      <td>0.002155</td>\n",
       "      <td>0.624644</td>\n",
       "      <td>-0.920444</td>\n",
       "      <td>1</td>\n",
       "      <td>0</td>\n",
       "      <td>0.013339</td>\n",
       "    </tr>\n",
       "    <tr>\n",
       "      <th>6397</th>\n",
       "      <td>-0.903162</td>\n",
       "      <td>1</td>\n",
       "      <td>0</td>\n",
       "      <td>0</td>\n",
       "      <td>0</td>\n",
       "      <td>1</td>\n",
       "      <td>1.725858</td>\n",
       "      <td>0.347920</td>\n",
       "      <td>-1.214471</td>\n",
       "      <td>0.791149</td>\n",
       "      <td>1</td>\n",
       "      <td>1</td>\n",
       "      <td>-1.031369</td>\n",
       "    </tr>\n",
       "  </tbody>\n",
       "</table>\n",
       "</div>"
      ],
      "text/plain": [
       "      CreditScore  Geography_1  Geography_2  Geography_3  Gender_1  Gender_2  \\\n",
       "6269     0.393274            1            0            0         1         0   \n",
       "3896    -0.094186            0            1            0         1         0   \n",
       "4692     1.140021            0            0            1         0         1   \n",
       "4220     2.073455            0            0            1         1         0   \n",
       "6397    -0.903162            1            0            0         0         1   \n",
       "\n",
       "           Age    Tenure   Balance  NumOfProducts  HasCrCard  IsActiveMember  \\\n",
       "6269  0.684323 -0.689374 -1.214471       0.791149          0               1   \n",
       "3896  0.116212  0.693685 -1.214471      -0.920444          1               0   \n",
       "4692 -0.451898  0.347920  0.734066       0.791149          1               1   \n",
       "4220  0.021527  0.002155  0.624644      -0.920444          1               0   \n",
       "6397  1.725858  0.347920 -1.214471       0.791149          1               1   \n",
       "\n",
       "      EstimatedSalary  \n",
       "6269         0.103521  \n",
       "3896         0.485720  \n",
       "4692        -0.684914  \n",
       "4220         0.013339  \n",
       "6397        -1.031369  "
      ]
     },
     "execution_count": 16,
     "metadata": {},
     "output_type": "execute_result"
    }
   ],
   "source": [
    "numeric = ['CreditScore', 'Age', 'Tenure', 'Balance', 'NumOfProducts', 'EstimatedSalary']\n",
    "scaler = StandardScaler()\n",
    "scaler.fit(features_train[numeric])\n",
    "features_train[numeric] = scaler.transform(features_train[numeric])\n",
    "features_valid[numeric] = scaler.transform(features_valid[numeric])\n",
    "features_test[numeric] = scaler.transform(features_test[numeric])\n",
    "features_train.head()"
   ]
  },
  {
   "cell_type": "code",
   "execution_count": 17,
   "metadata": {},
   "outputs": [],
   "source": [
    "target_train = target_train.reset_index(drop=True)\n",
    "target_valid = target_valid.reset_index(drop=True)\n",
    "target_test = target_test.reset_index(drop=True)\n",
    "features_train = features_train.reset_index(drop=True)\n",
    "features_valid = features_valid.reset_index(drop=True)\n",
    "features_test = features_test.reset_index(drop=True)"
   ]
  },
  {
   "cell_type": "markdown",
   "metadata": {},
   "source": [
    "## Исследование задачи"
   ]
  },
  {
   "cell_type": "markdown",
   "metadata": {},
   "source": [
    "Исследуем баланс классов, выведем процентное соотношение классов в целевом признаке."
   ]
  },
  {
   "cell_type": "code",
   "execution_count": 18,
   "metadata": {},
   "outputs": [
    {
     "data": {
      "text/plain": [
       "0    0.796062\n",
       "1    0.203938\n",
       "Name: Exited, dtype: float64"
      ]
     },
     "execution_count": 18,
     "metadata": {},
     "output_type": "execute_result"
    }
   ],
   "source": [
    "target.value_counts(normalize=True)"
   ]
  },
  {
   "cell_type": "markdown",
   "metadata": {},
   "source": [
    "Выборка является несбалансированной, почти 80% нулей."
   ]
  },
  {
   "cell_type": "markdown",
   "metadata": {},
   "source": [
    "Сперва обучим модели без учета дисбаланса. Ипользовать будем модели решающего дерева, случайного леса и CatBoost."
   ]
  },
  {
   "cell_type": "markdown",
   "metadata": {},
   "source": [
    "### Случайный лес"
   ]
  },
  {
   "cell_type": "markdown",
   "metadata": {},
   "source": [
    "С помощью Optuna подберем оптимальные гиперпараметры для модели случайного леса."
   ]
  },
  {
   "cell_type": "code",
   "execution_count": 19,
   "metadata": {
    "scrolled": true
   },
   "outputs": [
    {
     "name": "stderr",
     "output_type": "stream",
     "text": [
      "\u001b[32m[I 2023-03-15 19:05:11,834]\u001b[0m A new study created in memory with name: no-name-f74ee354-e016-43b4-ac07-e5f1850d7a47\u001b[0m\n",
      "\u001b[32m[I 2023-03-15 19:05:11,966]\u001b[0m Trial 0 finished with value: 0.5276292335115864 and parameters: {'n_estimators': 33, 'max_depth': 29, 'min_samples_split': 13, 'min_samples_leaf': 20, 'criterion': 'entropy'}. Best is trial 0 with value: 0.5276292335115864.\u001b[0m\n",
      "\u001b[32m[I 2023-03-15 19:05:12,451]\u001b[0m Trial 1 finished with value: 0.5495652173913043 and parameters: {'n_estimators': 138, 'max_depth': 21, 'min_samples_split': 5, 'min_samples_leaf': 9, 'criterion': 'gini'}. Best is trial 1 with value: 0.5495652173913043.\u001b[0m\n",
      "\u001b[32m[I 2023-03-15 19:05:12,808]\u001b[0m Trial 2 finished with value: 0.5555555555555557 and parameters: {'n_estimators': 87, 'max_depth': 16, 'min_samples_split': 23, 'min_samples_leaf': 9, 'criterion': 'entropy'}. Best is trial 2 with value: 0.5555555555555557.\u001b[0m\n",
      "\u001b[32m[I 2023-03-15 19:05:13,211]\u001b[0m Trial 3 finished with value: 0.5425531914893618 and parameters: {'n_estimators': 103, 'max_depth': 30, 'min_samples_split': 4, 'min_samples_leaf': 13, 'criterion': 'entropy'}. Best is trial 2 with value: 0.5555555555555557.\u001b[0m\n",
      "\u001b[32m[I 2023-03-15 19:05:13,365]\u001b[0m Trial 4 finished with value: 0.3464912280701754 and parameters: {'n_estimators': 63, 'max_depth': 4, 'min_samples_split': 27, 'min_samples_leaf': 4, 'criterion': 'entropy'}. Best is trial 2 with value: 0.5555555555555557.\u001b[0m\n",
      "\u001b[32m[I 2023-03-15 19:05:13,626]\u001b[0m Trial 5 finished with value: 0.5445205479452054 and parameters: {'n_estimators': 74, 'max_depth': 24, 'min_samples_split': 21, 'min_samples_leaf': 7, 'criterion': 'gini'}. Best is trial 2 with value: 0.5555555555555557.\u001b[0m\n",
      "\u001b[32m[I 2023-03-15 19:05:13,860]\u001b[0m Trial 6 finished with value: 0.5359712230215827 and parameters: {'n_estimators': 76, 'max_depth': 25, 'min_samples_split': 14, 'min_samples_leaf': 23, 'criterion': 'gini'}. Best is trial 2 with value: 0.5555555555555557.\u001b[0m\n",
      "\u001b[32m[I 2023-03-15 19:05:14,408]\u001b[0m Trial 7 finished with value: 0.5547945205479452 and parameters: {'n_estimators': 126, 'max_depth': 13, 'min_samples_split': 5, 'min_samples_leaf': 4, 'criterion': 'entropy'}. Best is trial 2 with value: 0.5555555555555557.\u001b[0m\n",
      "\u001b[32m[I 2023-03-15 19:05:15,013]\u001b[0m Trial 8 finished with value: 0.5505226480836236 and parameters: {'n_estimators': 150, 'max_depth': 21, 'min_samples_split': 20, 'min_samples_leaf': 9, 'criterion': 'entropy'}. Best is trial 2 with value: 0.5555555555555557.\u001b[0m\n",
      "\u001b[32m[I 2023-03-15 19:05:15,255]\u001b[0m Trial 9 finished with value: 0.5261261261261262 and parameters: {'n_estimators': 68, 'max_depth': 9, 'min_samples_split': 25, 'min_samples_leaf': 21, 'criterion': 'entropy'}. Best is trial 2 with value: 0.5555555555555557.\u001b[0m\n",
      "\u001b[32m[I 2023-03-15 19:05:15,637]\u001b[0m Trial 10 finished with value: 0.5207956600361663 and parameters: {'n_estimators': 106, 'max_depth': 13, 'min_samples_split': 19, 'min_samples_leaf': 27, 'criterion': 'entropy'}. Best is trial 2 with value: 0.5555555555555557.\u001b[0m\n",
      "\u001b[32m[I 2023-03-15 19:05:16,221]\u001b[0m Trial 11 finished with value: 0.5510204081632654 and parameters: {'n_estimators': 124, 'max_depth': 15, 'min_samples_split': 9, 'min_samples_leaf': 1, 'criterion': 'entropy'}. Best is trial 2 with value: 0.5555555555555557.\u001b[0m\n",
      "\u001b[32m[I 2023-03-15 19:05:16,616]\u001b[0m Trial 12 finished with value: 0.5460992907801419 and parameters: {'n_estimators': 103, 'max_depth': 10, 'min_samples_split': 30, 'min_samples_leaf': 14, 'criterion': 'entropy'}. Best is trial 2 with value: 0.5555555555555557.\u001b[0m\n",
      "\u001b[32m[I 2023-03-15 19:05:16,836]\u001b[0m Trial 13 finished with value: 0.5585284280936454 and parameters: {'n_estimators': 44, 'max_depth': 17, 'min_samples_split': 9, 'min_samples_leaf': 2, 'criterion': 'entropy'}. Best is trial 13 with value: 0.5585284280936454.\u001b[0m\n",
      "\u001b[32m[I 2023-03-15 19:05:17,012]\u001b[0m Trial 14 finished with value: 0.5590682196339434 and parameters: {'n_estimators': 35, 'max_depth': 19, 'min_samples_split': 10, 'min_samples_leaf': 2, 'criterion': 'entropy'}. Best is trial 14 with value: 0.5590682196339434.\u001b[0m\n",
      "\u001b[32m[I 2023-03-15 19:05:17,132]\u001b[0m Trial 15 finished with value: 0.5494880546075085 and parameters: {'n_estimators': 27, 'max_depth': 20, 'min_samples_split': 9, 'min_samples_leaf': 1, 'criterion': 'gini'}. Best is trial 14 with value: 0.5590682196339434.\u001b[0m\n",
      "\u001b[32m[I 2023-03-15 19:05:17,323]\u001b[0m Trial 16 finished with value: 0.5425531914893618 and parameters: {'n_estimators': 48, 'max_depth': 18, 'min_samples_split': 10, 'min_samples_leaf': 17, 'criterion': 'entropy'}. Best is trial 14 with value: 0.5590682196339434.\u001b[0m\n",
      "\u001b[32m[I 2023-03-15 19:05:17,533]\u001b[0m Trial 17 finished with value: 0.552901023890785 and parameters: {'n_estimators': 45, 'max_depth': 25, 'min_samples_split': 2, 'min_samples_leaf': 5, 'criterion': 'entropy'}. Best is trial 14 with value: 0.5590682196339434.\u001b[0m\n",
      "\u001b[32m[I 2023-03-15 19:05:17,644]\u001b[0m Trial 18 finished with value: 0.36909871244635195 and parameters: {'n_estimators': 45, 'max_depth': 4, 'min_samples_split': 16, 'min_samples_leaf': 30, 'criterion': 'gini'}. Best is trial 14 with value: 0.5590682196339434.\u001b[0m\n",
      "\u001b[32m[I 2023-03-15 19:05:17,739]\u001b[0m Trial 19 finished with value: 0.5514834205933683 and parameters: {'n_estimators': 21, 'max_depth': 11, 'min_samples_split': 12, 'min_samples_leaf': 12, 'criterion': 'entropy'}. Best is trial 14 with value: 0.5590682196339434.\u001b[0m\n",
      "\u001b[32m[I 2023-03-15 19:05:18,014]\u001b[0m Trial 20 finished with value: 0.5476190476190477 and parameters: {'n_estimators': 56, 'max_depth': 17, 'min_samples_split': 7, 'min_samples_leaf': 2, 'criterion': 'entropy'}. Best is trial 14 with value: 0.5590682196339434.\u001b[0m\n",
      "\u001b[32m[I 2023-03-15 19:05:18,390]\u001b[0m Trial 21 finished with value: 0.5526770293609672 and parameters: {'n_estimators': 90, 'max_depth': 15, 'min_samples_split': 23, 'min_samples_leaf': 9, 'criterion': 'entropy'}. Best is trial 14 with value: 0.5590682196339434.\u001b[0m\n",
      "\u001b[32m[I 2023-03-15 19:05:18,545]\u001b[0m Trial 22 finished with value: 0.5557461406518011 and parameters: {'n_estimators': 33, 'max_depth': 19, 'min_samples_split': 17, 'min_samples_leaf': 6, 'criterion': 'entropy'}. Best is trial 14 with value: 0.5590682196339434.\u001b[0m\n",
      "\u001b[32m[I 2023-03-15 19:05:18,709]\u001b[0m Trial 23 finished with value: 0.5467128027681661 and parameters: {'n_estimators': 35, 'max_depth': 19, 'min_samples_split': 16, 'min_samples_leaf': 5, 'criterion': 'entropy'}. Best is trial 14 with value: 0.5590682196339434.\u001b[0m\n",
      "\u001b[32m[I 2023-03-15 19:05:18,888]\u001b[0m Trial 24 finished with value: 0.5513698630136986 and parameters: {'n_estimators': 39, 'max_depth': 23, 'min_samples_split': 17, 'min_samples_leaf': 6, 'criterion': 'entropy'}. Best is trial 14 with value: 0.5590682196339434.\u001b[0m\n",
      "\u001b[32m[I 2023-03-15 19:05:19,015]\u001b[0m Trial 25 finished with value: 0.5387205387205387 and parameters: {'n_estimators': 25, 'max_depth': 27, 'min_samples_split': 11, 'min_samples_leaf': 3, 'criterion': 'entropy'}. Best is trial 14 with value: 0.5590682196339434.\u001b[0m\n",
      "\u001b[32m[I 2023-03-15 19:05:19,232]\u001b[0m Trial 26 finished with value: 0.5445205479452054 and parameters: {'n_estimators': 57, 'max_depth': 22, 'min_samples_split': 7, 'min_samples_leaf': 7, 'criterion': 'gini'}. Best is trial 14 with value: 0.5590682196339434.\u001b[0m\n",
      "\u001b[32m[I 2023-03-15 19:05:19,314]\u001b[0m Trial 27 finished with value: 0.5323741007194245 and parameters: {'n_estimators': 20, 'max_depth': 7, 'min_samples_split': 15, 'min_samples_leaf': 11, 'criterion': 'entropy'}. Best is trial 14 with value: 0.5590682196339434.\u001b[0m\n",
      "\u001b[32m[I 2023-03-15 19:05:19,531]\u001b[0m Trial 28 finished with value: 0.557659208261618 and parameters: {'n_estimators': 54, 'max_depth': 18, 'min_samples_split': 18, 'min_samples_leaf': 16, 'criterion': 'entropy'}. Best is trial 14 with value: 0.5590682196339434.\u001b[0m\n",
      "\u001b[32m[I 2023-03-15 19:05:19,747]\u001b[0m Trial 29 finished with value: 0.5570934256055363 and parameters: {'n_estimators': 54, 'max_depth': 13, 'min_samples_split': 13, 'min_samples_leaf': 16, 'criterion': 'entropy'}. Best is trial 14 with value: 0.5590682196339434.\u001b[0m\n",
      "\u001b[32m[I 2023-03-15 19:05:19,909]\u001b[0m Trial 30 finished with value: 0.5203539823008849 and parameters: {'n_estimators': 40, 'max_depth': 28, 'min_samples_split': 7, 'min_samples_leaf': 21, 'criterion': 'entropy'}. Best is trial 14 with value: 0.5590682196339434.\u001b[0m\n"
     ]
    },
    {
     "name": "stderr",
     "output_type": "stream",
     "text": [
      "\u001b[32m[I 2023-03-15 19:05:20,129]\u001b[0m Trial 31 finished with value: 0.5526770293609672 and parameters: {'n_estimators': 55, 'max_depth': 13, 'min_samples_split': 13, 'min_samples_leaf': 16, 'criterion': 'entropy'}. Best is trial 14 with value: 0.5590682196339434.\u001b[0m\n",
      "\u001b[32m[I 2023-03-15 19:05:20,335]\u001b[0m Trial 32 finished with value: 0.5441696113074205 and parameters: {'n_estimators': 51, 'max_depth': 17, 'min_samples_split': 12, 'min_samples_leaf': 18, 'criterion': 'entropy'}. Best is trial 14 with value: 0.5590682196339434.\u001b[0m\n",
      "\u001b[32m[I 2023-03-15 19:05:20,589]\u001b[0m Trial 33 finished with value: 0.5402504472271914 and parameters: {'n_estimators': 65, 'max_depth': 14, 'min_samples_split': 14, 'min_samples_leaf': 19, 'criterion': 'entropy'}. Best is trial 14 with value: 0.5590682196339434.\u001b[0m\n",
      "\u001b[32m[I 2023-03-15 19:05:20,730]\u001b[0m Trial 34 finished with value: 0.5513698630136986 and parameters: {'n_estimators': 31, 'max_depth': 16, 'min_samples_split': 18, 'min_samples_leaf': 14, 'criterion': 'entropy'}. Best is trial 14 with value: 0.5590682196339434.\u001b[0m\n",
      "\u001b[32m[I 2023-03-15 19:05:21,011]\u001b[0m Trial 35 finished with value: 0.5244122965641953 and parameters: {'n_estimators': 80, 'max_depth': 7, 'min_samples_split': 9, 'min_samples_leaf': 15, 'criterion': 'entropy'}. Best is trial 14 with value: 0.5590682196339434.\u001b[0m\n",
      "\u001b[32m[I 2023-03-15 19:05:21,211]\u001b[0m Trial 36 finished with value: 0.5354609929078015 and parameters: {'n_estimators': 60, 'max_depth': 21, 'min_samples_split': 11, 'min_samples_leaf': 24, 'criterion': 'gini'}. Best is trial 14 with value: 0.5590682196339434.\u001b[0m\n",
      "\u001b[32m[I 2023-03-15 19:05:21,582]\u001b[0m Trial 37 finished with value: 0.5345132743362832 and parameters: {'n_estimators': 93, 'max_depth': 11, 'min_samples_split': 5, 'min_samples_leaf': 11, 'criterion': 'entropy'}. Best is trial 14 with value: 0.5590682196339434.\u001b[0m\n",
      "\u001b[32m[I 2023-03-15 19:05:21,832]\u001b[0m Trial 38 finished with value: 0.5435168738898757 and parameters: {'n_estimators': 72, 'max_depth': 18, 'min_samples_split': 14, 'min_samples_leaf': 17, 'criterion': 'gini'}. Best is trial 14 with value: 0.5590682196339434.\u001b[0m\n",
      "\u001b[32m[I 2023-03-15 19:05:21,988]\u001b[0m Trial 39 finished with value: 0.5326278659611993 and parameters: {'n_estimators': 39, 'max_depth': 16, 'min_samples_split': 21, 'min_samples_leaf': 23, 'criterion': 'entropy'}. Best is trial 14 with value: 0.5590682196339434.\u001b[0m\n",
      "\u001b[32m[I 2023-03-15 19:05:22,350]\u001b[0m Trial 40 finished with value: 0.5501730103806228 and parameters: {'n_estimators': 83, 'max_depth': 20, 'min_samples_split': 6, 'min_samples_leaf': 8, 'criterion': 'entropy'}. Best is trial 14 with value: 0.5590682196339434.\u001b[0m\n",
      "\u001b[32m[I 2023-03-15 19:05:22,516]\u001b[0m Trial 41 finished with value: 0.5621805792163543 and parameters: {'n_estimators': 34, 'max_depth': 18, 'min_samples_split': 17, 'min_samples_leaf': 3, 'criterion': 'entropy'}. Best is trial 41 with value: 0.5621805792163543.\u001b[0m\n",
      "\u001b[32m[I 2023-03-15 19:05:22,755]\u001b[0m Trial 42 finished with value: 0.5656565656565657 and parameters: {'n_estimators': 51, 'max_depth': 18, 'min_samples_split': 19, 'min_samples_leaf': 3, 'criterion': 'entropy'}. Best is trial 42 with value: 0.5656565656565657.\u001b[0m\n",
      "\u001b[32m[I 2023-03-15 19:05:22,969]\u001b[0m Trial 43 finished with value: 0.5656565656565657 and parameters: {'n_estimators': 45, 'max_depth': 23, 'min_samples_split': 19, 'min_samples_leaf': 3, 'criterion': 'entropy'}. Best is trial 42 with value: 0.5656565656565657.\u001b[0m\n",
      "\u001b[32m[I 2023-03-15 19:05:23,110]\u001b[0m Trial 44 finished with value: 0.5507745266781412 and parameters: {'n_estimators': 29, 'max_depth': 23, 'min_samples_split': 22, 'min_samples_leaf': 3, 'criterion': 'entropy'}. Best is trial 42 with value: 0.5656565656565657.\u001b[0m\n",
      "\u001b[32m[I 2023-03-15 19:05:23,304]\u001b[0m Trial 45 finished with value: 0.5500848896434635 and parameters: {'n_estimators': 41, 'max_depth': 26, 'min_samples_split': 25, 'min_samples_leaf': 2, 'criterion': 'entropy'}. Best is trial 42 with value: 0.5656565656565657.\u001b[0m\n",
      "\u001b[32m[I 2023-03-15 19:05:23,525]\u001b[0m Trial 46 finished with value: 0.5521885521885521 and parameters: {'n_estimators': 48, 'max_depth': 23, 'min_samples_split': 20, 'min_samples_leaf': 3, 'criterion': 'entropy'}. Best is trial 42 with value: 0.5656565656565657.\u001b[0m\n",
      "\u001b[32m[I 2023-03-15 19:05:23,841]\u001b[0m Trial 47 finished with value: 0.5606837606837606 and parameters: {'n_estimators': 67, 'max_depth': 21, 'min_samples_split': 19, 'min_samples_leaf': 1, 'criterion': 'entropy'}. Best is trial 42 with value: 0.5656565656565657.\u001b[0m\n",
      "\u001b[32m[I 2023-03-15 19:05:24,101]\u001b[0m Trial 48 finished with value: 0.555366269165247 and parameters: {'n_estimators': 65, 'max_depth': 20, 'min_samples_split': 19, 'min_samples_leaf': 1, 'criterion': 'gini'}. Best is trial 42 with value: 0.5656565656565657.\u001b[0m\n",
      "\u001b[32m[I 2023-03-15 19:05:24,414]\u001b[0m Trial 49 finished with value: 0.5435540069686411 and parameters: {'n_estimators': 71, 'max_depth': 30, 'min_samples_split': 21, 'min_samples_leaf': 6, 'criterion': 'entropy'}. Best is trial 42 with value: 0.5656565656565657.\u001b[0m\n",
      "\u001b[32m[I 2023-03-15 19:05:24,494]\u001b[0m Trial 50 finished with value: 0.07772020725388601 and parameters: {'n_estimators': 35, 'max_depth': 2, 'min_samples_split': 24, 'min_samples_leaf': 4, 'criterion': 'entropy'}. Best is trial 42 with value: 0.5656565656565657.\u001b[0m\n",
      "\u001b[32m[I 2023-03-15 19:05:24,704]\u001b[0m Trial 51 finished with value: 0.5527638190954773 and parameters: {'n_estimators': 44, 'max_depth': 21, 'min_samples_split': 19, 'min_samples_leaf': 2, 'criterion': 'entropy'}. Best is trial 42 with value: 0.5656565656565657.\u001b[0m\n",
      "\u001b[32m[I 2023-03-15 19:05:24,945]\u001b[0m Trial 52 finished with value: 0.5476190476190477 and parameters: {'n_estimators': 49, 'max_depth': 24, 'min_samples_split': 17, 'min_samples_leaf': 1, 'criterion': 'entropy'}. Best is trial 42 with value: 0.5656565656565657.\u001b[0m\n",
      "\u001b[32m[I 2023-03-15 19:05:25,242]\u001b[0m Trial 53 finished with value: 0.5538461538461538 and parameters: {'n_estimators': 62, 'max_depth': 19, 'min_samples_split': 3, 'min_samples_leaf': 4, 'criterion': 'entropy'}. Best is trial 42 with value: 0.5656565656565657.\u001b[0m\n",
      "\u001b[32m[I 2023-03-15 19:05:25,375]\u001b[0m Trial 54 finished with value: 0.5542168674698795 and parameters: {'n_estimators': 27, 'max_depth': 17, 'min_samples_split': 16, 'min_samples_leaf': 5, 'criterion': 'entropy'}. Best is trial 42 with value: 0.5656565656565657.\u001b[0m\n",
      "\u001b[32m[I 2023-03-15 19:05:25,550]\u001b[0m Trial 55 finished with value: 0.5665529010238908 and parameters: {'n_estimators': 36, 'max_depth': 15, 'min_samples_split': 20, 'min_samples_leaf': 2, 'criterion': 'entropy'}. Best is trial 55 with value: 0.5665529010238908.\u001b[0m\n",
      "\u001b[32m[I 2023-03-15 19:05:25,724]\u001b[0m Trial 56 finished with value: 0.5506756756756757 and parameters: {'n_estimators': 37, 'max_depth': 22, 'min_samples_split': 20, 'min_samples_leaf': 3, 'criterion': 'entropy'}. Best is trial 55 with value: 0.5665529010238908.\u001b[0m\n",
      "\u001b[32m[I 2023-03-15 19:05:25,872]\u001b[0m Trial 57 finished with value: 0.5583756345177666 and parameters: {'n_estimators': 32, 'max_depth': 15, 'min_samples_split': 22, 'min_samples_leaf': 8, 'criterion': 'entropy'}. Best is trial 55 with value: 0.5665529010238908.\u001b[0m\n",
      "\u001b[32m[I 2023-03-15 19:05:26,082]\u001b[0m Trial 58 finished with value: 0.5500848896434635 and parameters: {'n_estimators': 43, 'max_depth': 25, 'min_samples_split': 18, 'min_samples_leaf': 1, 'criterion': 'entropy'}. Best is trial 55 with value: 0.5665529010238908.\u001b[0m\n",
      "\u001b[32m[I 2023-03-15 19:05:26,184]\u001b[0m Trial 59 finished with value: 0.5582191780821918 and parameters: {'n_estimators': 24, 'max_depth': 21, 'min_samples_split': 26, 'min_samples_leaf': 5, 'criterion': 'gini'}. Best is trial 55 with value: 0.5665529010238908.\u001b[0m\n",
      "\u001b[32m[I 2023-03-15 19:05:26,410]\u001b[0m Trial 60 finished with value: 0.5582191780821918 and parameters: {'n_estimators': 50, 'max_depth': 14, 'min_samples_split': 23, 'min_samples_leaf': 4, 'criterion': 'entropy'}. Best is trial 55 with value: 0.5665529010238908.\u001b[0m\n",
      "\u001b[32m[I 2023-03-15 19:05:26,688]\u001b[0m Trial 61 finished with value: 0.5597269624573378 and parameters: {'n_estimators': 60, 'max_depth': 19, 'min_samples_split': 20, 'min_samples_leaf': 2, 'criterion': 'entropy'}. Best is trial 55 with value: 0.5665529010238908.\u001b[0m\n"
     ]
    },
    {
     "name": "stderr",
     "output_type": "stream",
     "text": [
      "\u001b[32m[I 2023-03-15 19:05:27,306]\u001b[0m Trial 62 finished with value: 0.5616438356164384 and parameters: {'n_estimators': 137, 'max_depth': 19, 'min_samples_split': 21, 'min_samples_leaf': 2, 'criterion': 'entropy'}. Best is trial 55 with value: 0.5665529010238908.\u001b[0m\n",
      "\u001b[32m[I 2023-03-15 19:05:27,958]\u001b[0m Trial 63 finished with value: 0.5587734241908007 and parameters: {'n_estimators': 147, 'max_depth': 18, 'min_samples_split': 21, 'min_samples_leaf': 3, 'criterion': 'entropy'}. Best is trial 55 with value: 0.5665529010238908.\u001b[0m\n",
      "\u001b[32m[I 2023-03-15 19:05:28,536]\u001b[0m Trial 64 finished with value: 0.5612244897959183 and parameters: {'n_estimators': 124, 'max_depth': 20, 'min_samples_split': 19, 'min_samples_leaf': 2, 'criterion': 'entropy'}. Best is trial 55 with value: 0.5665529010238908.\u001b[0m\n",
      "\u001b[32m[I 2023-03-15 19:05:29,086]\u001b[0m Trial 65 finished with value: 0.545138888888889 and parameters: {'n_estimators': 125, 'max_depth': 22, 'min_samples_split': 22, 'min_samples_leaf': 7, 'criterion': 'entropy'}. Best is trial 55 with value: 0.5665529010238908.\u001b[0m\n",
      "\u001b[32m[I 2023-03-15 19:05:29,689]\u001b[0m Trial 66 finished with value: 0.5523156089193826 and parameters: {'n_estimators': 131, 'max_depth': 24, 'min_samples_split': 19, 'min_samples_leaf': 1, 'criterion': 'entropy'}. Best is trial 55 with value: 0.5665529010238908.\u001b[0m\n",
      "\u001b[32m[I 2023-03-15 19:05:30,187]\u001b[0m Trial 67 finished with value: 0.5530434782608695 and parameters: {'n_estimators': 111, 'max_depth': 20, 'min_samples_split': 17, 'min_samples_leaf': 4, 'criterion': 'entropy'}. Best is trial 55 with value: 0.5665529010238908.\u001b[0m\n",
      "\u001b[32m[I 2023-03-15 19:05:30,809]\u001b[0m Trial 68 finished with value: 0.5438898450946643 and parameters: {'n_estimators': 136, 'max_depth': 18, 'min_samples_split': 15, 'min_samples_leaf': 2, 'criterion': 'entropy'}. Best is trial 55 with value: 0.5665529010238908.\u001b[0m\n",
      "\u001b[32m[I 2023-03-15 19:05:31,320]\u001b[0m Trial 69 finished with value: 0.5479930191972077 and parameters: {'n_estimators': 119, 'max_depth': 16, 'min_samples_split': 18, 'min_samples_leaf': 6, 'criterion': 'entropy'}. Best is trial 55 with value: 0.5665529010238908.\u001b[0m\n",
      "\u001b[32m[I 2023-03-15 19:05:31,873]\u001b[0m Trial 70 finished with value: 0.5477031802120141 and parameters: {'n_estimators': 133, 'max_depth': 22, 'min_samples_split': 29, 'min_samples_leaf': 5, 'criterion': 'entropy'}. Best is trial 55 with value: 0.5665529010238908.\u001b[0m\n",
      "\u001b[32m[I 2023-03-15 19:05:32,544]\u001b[0m Trial 71 finished with value: 0.5626072041166381 and parameters: {'n_estimators': 149, 'max_depth': 20, 'min_samples_split': 20, 'min_samples_leaf': 2, 'criterion': 'entropy'}. Best is trial 55 with value: 0.5665529010238908.\u001b[0m\n",
      "\u001b[32m[I 2023-03-15 19:05:33,167]\u001b[0m Trial 72 finished with value: 0.5513698630136986 and parameters: {'n_estimators': 143, 'max_depth': 21, 'min_samples_split': 21, 'min_samples_leaf': 3, 'criterion': 'entropy'}. Best is trial 55 with value: 0.5665529010238908.\u001b[0m\n",
      "\u001b[32m[I 2023-03-15 19:05:33,814]\u001b[0m Trial 73 finished with value: 0.555366269165247 and parameters: {'n_estimators': 140, 'max_depth': 17, 'min_samples_split': 19, 'min_samples_leaf': 1, 'criterion': 'entropy'}. Best is trial 55 with value: 0.5665529010238908.\u001b[0m\n",
      "\u001b[32m[I 2023-03-15 19:05:34,458]\u001b[0m Trial 74 finished with value: 0.5551724137931034 and parameters: {'n_estimators': 150, 'max_depth': 15, 'min_samples_split': 23, 'min_samples_leaf': 4, 'criterion': 'entropy'}. Best is trial 55 with value: 0.5665529010238908.\u001b[0m\n",
      "\u001b[32m[I 2023-03-15 19:05:35,092]\u001b[0m Trial 75 finished with value: 0.5601374570446737 and parameters: {'n_estimators': 141, 'max_depth': 20, 'min_samples_split': 20, 'min_samples_leaf': 2, 'criterion': 'entropy'}. Best is trial 55 with value: 0.5665529010238908.\u001b[0m\n",
      "\u001b[32m[I 2023-03-15 19:05:35,448]\u001b[0m Trial 76 finished with value: 0.5426621160409556 and parameters: {'n_estimators': 78, 'max_depth': 19, 'min_samples_split': 18, 'min_samples_leaf': 3, 'criterion': 'entropy'}. Best is trial 55 with value: 0.5665529010238908.\u001b[0m\n",
      "\u001b[32m[I 2023-03-15 19:05:36,011]\u001b[0m Trial 77 finished with value: 0.5504273504273504 and parameters: {'n_estimators': 144, 'max_depth': 17, 'min_samples_split': 16, 'min_samples_leaf': 1, 'criterion': 'gini'}. Best is trial 55 with value: 0.5665529010238908.\u001b[0m\n",
      "\u001b[32m[I 2023-03-15 19:05:36,436]\u001b[0m Trial 78 finished with value: 0.5504273504273504 and parameters: {'n_estimators': 97, 'max_depth': 20, 'min_samples_split': 22, 'min_samples_leaf': 5, 'criterion': 'entropy'}. Best is trial 55 with value: 0.5665529010238908.\u001b[0m\n",
      "\u001b[32m[I 2023-03-15 19:05:37,038]\u001b[0m Trial 79 finished with value: 0.5557461406518011 and parameters: {'n_estimators': 135, 'max_depth': 23, 'min_samples_split': 24, 'min_samples_leaf': 2, 'criterion': 'entropy'}. Best is trial 55 with value: 0.5665529010238908.\u001b[0m\n",
      "\u001b[32m[I 2023-03-15 19:05:37,586]\u001b[0m Trial 80 finished with value: 0.5476603119584055 and parameters: {'n_estimators': 128, 'max_depth': 18, 'min_samples_split': 17, 'min_samples_leaf': 7, 'criterion': 'entropy'}. Best is trial 55 with value: 0.5665529010238908.\u001b[0m\n",
      "\u001b[32m[I 2023-03-15 19:05:38,217]\u001b[0m Trial 81 finished with value: 0.5601374570446737 and parameters: {'n_estimators': 141, 'max_depth': 20, 'min_samples_split': 20, 'min_samples_leaf': 2, 'criterion': 'entropy'}. Best is trial 55 with value: 0.5665529010238908.\u001b[0m\n",
      "\u001b[32m[I 2023-03-15 19:05:38,856]\u001b[0m Trial 82 finished with value: 0.5536332179930796 and parameters: {'n_estimators': 146, 'max_depth': 19, 'min_samples_split': 20, 'min_samples_leaf': 4, 'criterion': 'entropy'}. Best is trial 55 with value: 0.5665529010238908.\u001b[0m\n",
      "\u001b[32m[I 2023-03-15 19:05:39,374]\u001b[0m Trial 83 finished with value: 0.5661016949152543 and parameters: {'n_estimators': 116, 'max_depth': 21, 'min_samples_split': 19, 'min_samples_leaf': 3, 'criterion': 'entropy'}. Best is trial 55 with value: 0.5665529010238908.\u001b[0m\n",
      "\u001b[32m[I 2023-03-15 19:05:39,949]\u001b[0m Trial 84 finished with value: 0.5612244897959183 and parameters: {'n_estimators': 129, 'max_depth': 24, 'min_samples_split': 19, 'min_samples_leaf': 3, 'criterion': 'entropy'}. Best is trial 55 with value: 0.5665529010238908.\u001b[0m\n",
      "\u001b[32m[I 2023-03-15 19:05:40,490]\u001b[0m Trial 85 finished with value: 0.5454545454545454 and parameters: {'n_estimators': 120, 'max_depth': 26, 'min_samples_split': 18, 'min_samples_leaf': 3, 'criterion': 'entropy'}. Best is trial 55 with value: 0.5665529010238908.\u001b[0m\n",
      "\u001b[32m[I 2023-03-15 19:05:41,014]\u001b[0m Trial 86 finished with value: 0.5542168674698795 and parameters: {'n_estimators': 120, 'max_depth': 24, 'min_samples_split': 15, 'min_samples_leaf': 6, 'criterion': 'entropy'}. Best is trial 55 with value: 0.5665529010238908.\u001b[0m\n",
      "\u001b[32m[I 2023-03-15 19:05:41,513]\u001b[0m Trial 87 finished with value: 0.542314335060449 and parameters: {'n_estimators': 114, 'max_depth': 22, 'min_samples_split': 21, 'min_samples_leaf': 4, 'criterion': 'entropy'}. Best is trial 55 with value: 0.5665529010238908.\u001b[0m\n",
      "\u001b[32m[I 2023-03-15 19:05:41,968]\u001b[0m Trial 88 finished with value: 0.5356521739130435 and parameters: {'n_estimators': 128, 'max_depth': 28, 'min_samples_split': 17, 'min_samples_leaf': 10, 'criterion': 'gini'}. Best is trial 55 with value: 0.5665529010238908.\u001b[0m\n",
      "\u001b[32m[I 2023-03-15 19:05:42,454]\u001b[0m Trial 89 finished with value: 0.5118829981718465 and parameters: {'n_estimators': 138, 'max_depth': 14, 'min_samples_split': 19, 'min_samples_leaf': 27, 'criterion': 'entropy'}. Best is trial 55 with value: 0.5665529010238908.\u001b[0m\n",
      "\u001b[32m[I 2023-03-15 19:05:43,004]\u001b[0m Trial 90 finished with value: 0.5470383275261325 and parameters: {'n_estimators': 130, 'max_depth': 26, 'min_samples_split': 23, 'min_samples_leaf': 8, 'criterion': 'entropy'}. Best is trial 55 with value: 0.5665529010238908.\u001b[0m\n",
      "\u001b[32m[I 2023-03-15 19:05:43,541]\u001b[0m Trial 91 finished with value: 0.5523156089193826 and parameters: {'n_estimators': 114, 'max_depth': 21, 'min_samples_split': 19, 'min_samples_leaf': 1, 'criterion': 'entropy'}. Best is trial 55 with value: 0.5665529010238908.\u001b[0m\n",
      "\u001b[32m[I 2023-03-15 19:05:44,100]\u001b[0m Trial 92 finished with value: 0.5587734241908007 and parameters: {'n_estimators': 123, 'max_depth': 23, 'min_samples_split': 19, 'min_samples_leaf': 3, 'criterion': 'entropy'}. Best is trial 55 with value: 0.5665529010238908.\u001b[0m\n"
     ]
    },
    {
     "name": "stderr",
     "output_type": "stream",
     "text": [
      "\u001b[32m[I 2023-03-15 19:05:44,708]\u001b[0m Trial 93 finished with value: 0.5567010309278351 and parameters: {'n_estimators': 133, 'max_depth': 21, 'min_samples_split': 21, 'min_samples_leaf': 2, 'criterion': 'entropy'}. Best is trial 55 with value: 0.5665529010238908.\u001b[0m\n",
      "\u001b[32m[I 2023-03-15 19:05:45,192]\u001b[0m Trial 94 finished with value: 0.5416666666666667 and parameters: {'n_estimators': 107, 'max_depth': 25, 'min_samples_split': 18, 'min_samples_leaf': 5, 'criterion': 'entropy'}. Best is trial 55 with value: 0.5665529010238908.\u001b[0m\n",
      "\u001b[32m[I 2023-03-15 19:05:45,420]\u001b[0m Trial 95 finished with value: 0.5476603119584055 and parameters: {'n_estimators': 47, 'max_depth': 19, 'min_samples_split': 16, 'min_samples_leaf': 3, 'criterion': 'entropy'}. Best is trial 55 with value: 0.5665529010238908.\u001b[0m\n",
      "\u001b[32m[I 2023-03-15 19:05:45,670]\u001b[0m Trial 96 finished with value: 0.5563139931740615 and parameters: {'n_estimators': 52, 'max_depth': 16, 'min_samples_split': 21, 'min_samples_leaf': 1, 'criterion': 'entropy'}. Best is trial 55 with value: 0.5665529010238908.\u001b[0m\n",
      "\u001b[32m[I 2023-03-15 19:05:45,870]\u001b[0m Trial 97 finished with value: 0.5517241379310345 and parameters: {'n_estimators': 42, 'max_depth': 22, 'min_samples_split': 20, 'min_samples_leaf': 4, 'criterion': 'entropy'}. Best is trial 55 with value: 0.5665529010238908.\u001b[0m\n",
      "\u001b[32m[I 2023-03-15 19:05:46,046]\u001b[0m Trial 98 finished with value: 0.5485519591141397 and parameters: {'n_estimators': 36, 'max_depth': 18, 'min_samples_split': 22, 'min_samples_leaf': 2, 'criterion': 'entropy'}. Best is trial 55 with value: 0.5665529010238908.\u001b[0m\n",
      "\u001b[32m[I 2023-03-15 19:05:46,473]\u001b[0m Trial 99 finished with value: 0.5544217687074829 and parameters: {'n_estimators': 88, 'max_depth': 24, 'min_samples_split': 18, 'min_samples_leaf': 1, 'criterion': 'entropy'}. Best is trial 55 with value: 0.5665529010238908.\u001b[0m\n",
      "\u001b[32m[I 2023-03-15 19:05:46,622]\u001b[0m Trial 100 finished with value: 0.5766666666666665 and parameters: {'n_estimators': 30, 'max_depth': 17, 'min_samples_split': 20, 'min_samples_leaf': 2, 'criterion': 'entropy'}. Best is trial 100 with value: 0.5766666666666665.\u001b[0m\n",
      "\u001b[32m[I 2023-03-15 19:05:46,748]\u001b[0m Trial 101 finished with value: 0.579124579124579 and parameters: {'n_estimators': 24, 'max_depth': 17, 'min_samples_split': 20, 'min_samples_leaf': 2, 'criterion': 'entropy'}. Best is trial 101 with value: 0.579124579124579.\u001b[0m\n",
      "\u001b[32m[I 2023-03-15 19:05:46,895]\u001b[0m Trial 102 finished with value: 0.5632377740303541 and parameters: {'n_estimators': 30, 'max_depth': 16, 'min_samples_split': 20, 'min_samples_leaf': 3, 'criterion': 'entropy'}. Best is trial 101 with value: 0.579124579124579.\u001b[0m\n",
      "\u001b[32m[I 2023-03-15 19:05:47,041]\u001b[0m Trial 103 finished with value: 0.5507745266781412 and parameters: {'n_estimators': 29, 'max_depth': 12, 'min_samples_split': 20, 'min_samples_leaf': 2, 'criterion': 'entropy'}. Best is trial 101 with value: 0.579124579124579.\u001b[0m\n",
      "\u001b[32m[I 2023-03-15 19:05:47,151]\u001b[0m Trial 104 finished with value: 0.5544217687074829 and parameters: {'n_estimators': 21, 'max_depth': 15, 'min_samples_split': 22, 'min_samples_leaf': 4, 'criterion': 'entropy'}. Best is trial 101 with value: 0.579124579124579.\u001b[0m\n",
      "\u001b[32m[I 2023-03-15 19:05:47,304]\u001b[0m Trial 105 finished with value: 0.5511265164644714 and parameters: {'n_estimators': 31, 'max_depth': 17, 'min_samples_split': 24, 'min_samples_leaf': 3, 'criterion': 'entropy'}. Best is trial 101 with value: 0.579124579124579.\u001b[0m\n",
      "\u001b[32m[I 2023-03-15 19:05:47,431]\u001b[0m Trial 106 finished with value: 0.555366269165247 and parameters: {'n_estimators': 25, 'max_depth': 15, 'min_samples_split': 20, 'min_samples_leaf': 6, 'criterion': 'entropy'}. Best is trial 101 with value: 0.579124579124579.\u001b[0m\n",
      "\u001b[32m[I 2023-03-15 19:05:47,589]\u001b[0m Trial 107 finished with value: 0.5531197301854975 and parameters: {'n_estimators': 38, 'max_depth': 16, 'min_samples_split': 21, 'min_samples_leaf': 2, 'criterion': 'gini'}. Best is trial 101 with value: 0.579124579124579.\u001b[0m\n",
      "\u001b[32m[I 2023-03-15 19:05:47,709]\u001b[0m Trial 108 finished with value: 0.5538461538461538 and parameters: {'n_estimators': 23, 'max_depth': 17, 'min_samples_split': 18, 'min_samples_leaf': 5, 'criterion': 'entropy'}. Best is trial 101 with value: 0.579124579124579.\u001b[0m\n",
      "\u001b[32m[I 2023-03-15 19:05:47,850]\u001b[0m Trial 109 finished with value: 0.5567010309278351 and parameters: {'n_estimators': 28, 'max_depth': 16, 'min_samples_split': 17, 'min_samples_leaf': 4, 'criterion': 'entropy'}. Best is trial 101 with value: 0.579124579124579.\u001b[0m\n",
      "\u001b[32m[I 2023-03-15 19:05:48,011]\u001b[0m Trial 110 finished with value: 0.5616438356164384 and parameters: {'n_estimators': 33, 'max_depth': 18, 'min_samples_split': 22, 'min_samples_leaf': 5, 'criterion': 'entropy'}. Best is trial 101 with value: 0.579124579124579.\u001b[0m\n",
      "\u001b[32m[I 2023-03-15 19:05:48,183]\u001b[0m Trial 111 finished with value: 0.5432937181663837 and parameters: {'n_estimators': 35, 'max_depth': 19, 'min_samples_split': 22, 'min_samples_leaf': 2, 'criterion': 'entropy'}. Best is trial 101 with value: 0.579124579124579.\u001b[0m\n",
      "\u001b[32m[I 2023-03-15 19:05:48,349]\u001b[0m Trial 112 finished with value: 0.5519591141396933 and parameters: {'n_estimators': 34, 'max_depth': 17, 'min_samples_split': 23, 'min_samples_leaf': 3, 'criterion': 'entropy'}. Best is trial 101 with value: 0.579124579124579.\u001b[0m\n",
      "\u001b[32m[I 2023-03-15 19:05:48,507]\u001b[0m Trial 113 finished with value: 0.567062818336163 and parameters: {'n_estimators': 31, 'max_depth': 18, 'min_samples_split': 20, 'min_samples_leaf': 1, 'criterion': 'entropy'}. Best is trial 101 with value: 0.579124579124579.\u001b[0m\n",
      "\u001b[32m[I 2023-03-15 19:05:48,668]\u001b[0m Trial 114 finished with value: 0.5617597292724197 and parameters: {'n_estimators': 31, 'max_depth': 18, 'min_samples_split': 21, 'min_samples_leaf': 1, 'criterion': 'entropy'}. Best is trial 101 with value: 0.579124579124579.\u001b[0m\n",
      "\u001b[32m[I 2023-03-15 19:05:48,820]\u001b[0m Trial 115 finished with value: 0.5593220338983051 and parameters: {'n_estimators': 30, 'max_depth': 18, 'min_samples_split': 21, 'min_samples_leaf': 1, 'criterion': 'entropy'}. Best is trial 101 with value: 0.579124579124579.\u001b[0m\n",
      "\u001b[32m[I 2023-03-15 19:05:49,016]\u001b[0m Trial 116 finished with value: 0.5559322033898305 and parameters: {'n_estimators': 40, 'max_depth': 14, 'min_samples_split': 20, 'min_samples_leaf': 1, 'criterion': 'entropy'}. Best is trial 101 with value: 0.579124579124579.\u001b[0m\n",
      "\u001b[32m[I 2023-03-15 19:05:49,148]\u001b[0m Trial 117 finished with value: 0.559463986599665 and parameters: {'n_estimators': 25, 'max_depth': 19, 'min_samples_split': 19, 'min_samples_leaf': 2, 'criterion': 'entropy'}. Best is trial 101 with value: 0.579124579124579.\u001b[0m\n",
      "\u001b[32m[I 2023-03-15 19:05:49,255]\u001b[0m Trial 118 finished with value: 0.568561872909699 and parameters: {'n_estimators': 20, 'max_depth': 16, 'min_samples_split': 20, 'min_samples_leaf': 3, 'criterion': 'entropy'}. Best is trial 101 with value: 0.579124579124579.\u001b[0m\n",
      "\u001b[32m[I 2023-03-15 19:05:49,363]\u001b[0m Trial 119 finished with value: 0.5525423728813559 and parameters: {'n_estimators': 20, 'max_depth': 16, 'min_samples_split': 18, 'min_samples_leaf': 3, 'criterion': 'entropy'}. Best is trial 101 with value: 0.579124579124579.\u001b[0m\n",
      "\u001b[32m[I 2023-03-15 19:05:49,499]\u001b[0m Trial 120 finished with value: 0.5820642978003384 and parameters: {'n_estimators': 27, 'max_depth': 17, 'min_samples_split': 20, 'min_samples_leaf': 4, 'criterion': 'entropy'}. Best is trial 120 with value: 0.5820642978003384.\u001b[0m\n",
      "\u001b[32m[I 2023-03-15 19:05:49,636]\u001b[0m Trial 121 finished with value: 0.5752961082910322 and parameters: {'n_estimators': 26, 'max_depth': 17, 'min_samples_split': 20, 'min_samples_leaf': 4, 'criterion': 'entropy'}. Best is trial 120 with value: 0.5820642978003384.\u001b[0m\n",
      "\u001b[32m[I 2023-03-15 19:05:49,769]\u001b[0m Trial 122 finished with value: 0.5567010309278351 and parameters: {'n_estimators': 26, 'max_depth': 15, 'min_samples_split': 20, 'min_samples_leaf': 4, 'criterion': 'entropy'}. Best is trial 120 with value: 0.5820642978003384.\u001b[0m\n",
      "\u001b[32m[I 2023-03-15 19:05:49,888]\u001b[0m Trial 123 finished with value: 0.5564924114671163 and parameters: {'n_estimators': 23, 'max_depth': 17, 'min_samples_split': 20, 'min_samples_leaf': 3, 'criterion': 'entropy'}. Best is trial 120 with value: 0.5820642978003384.\u001b[0m\n"
     ]
    },
    {
     "name": "stderr",
     "output_type": "stream",
     "text": [
      "\u001b[32m[I 2023-03-15 19:05:50,030]\u001b[0m Trial 124 finished with value: 0.547008547008547 and parameters: {'n_estimators': 28, 'max_depth': 17, 'min_samples_split': 19, 'min_samples_leaf': 4, 'criterion': 'entropy'}. Best is trial 120 with value: 0.5820642978003384.\u001b[0m\n",
      "\u001b[32m[I 2023-03-15 19:05:50,137]\u001b[0m Trial 125 finished with value: 0.5321739130434784 and parameters: {'n_estimators': 22, 'max_depth': 15, 'min_samples_split': 19, 'min_samples_leaf': 13, 'criterion': 'entropy'}. Best is trial 120 with value: 0.5820642978003384.\u001b[0m\n",
      "\u001b[32m[I 2023-03-15 19:05:50,299]\u001b[0m Trial 126 finished with value: 0.5578231292517006 and parameters: {'n_estimators': 33, 'max_depth': 13, 'min_samples_split': 18, 'min_samples_leaf': 3, 'criterion': 'entropy'}. Best is trial 120 with value: 0.5820642978003384.\u001b[0m\n",
      "\u001b[32m[I 2023-03-15 19:05:50,484]\u001b[0m Trial 127 finished with value: 0.5563139931740615 and parameters: {'n_estimators': 46, 'max_depth': 16, 'min_samples_split': 21, 'min_samples_leaf': 5, 'criterion': 'gini'}. Best is trial 120 with value: 0.5820642978003384.\u001b[0m\n",
      "\u001b[32m[I 2023-03-15 19:05:50,676]\u001b[0m Trial 128 finished with value: 0.5500848896434635 and parameters: {'n_estimators': 38, 'max_depth': 14, 'min_samples_split': 20, 'min_samples_leaf': 4, 'criterion': 'entropy'}. Best is trial 120 with value: 0.5820642978003384.\u001b[0m\n",
      "\u001b[32m[I 2023-03-15 19:05:50,807]\u001b[0m Trial 129 finished with value: 0.5557461406518011 and parameters: {'n_estimators': 26, 'max_depth': 18, 'min_samples_split': 17, 'min_samples_leaf': 6, 'criterion': 'entropy'}. Best is trial 120 with value: 0.5820642978003384.\u001b[0m\n",
      "\u001b[32m[I 2023-03-15 19:05:50,917]\u001b[0m Trial 130 finished with value: 0.5568760611205433 and parameters: {'n_estimators': 20, 'max_depth': 16, 'min_samples_split': 19, 'min_samples_leaf': 2, 'criterion': 'entropy'}. Best is trial 120 with value: 0.5820642978003384.\u001b[0m\n",
      "\u001b[32m[I 2023-03-15 19:05:51,077]\u001b[0m Trial 131 finished with value: 0.5617597292724197 and parameters: {'n_estimators': 31, 'max_depth': 18, 'min_samples_split': 21, 'min_samples_leaf': 1, 'criterion': 'entropy'}. Best is trial 120 with value: 0.5820642978003384.\u001b[0m\n",
      "\u001b[32m[I 2023-03-15 19:05:51,227]\u001b[0m Trial 132 finished with value: 0.566610455311973 and parameters: {'n_estimators': 29, 'max_depth': 17, 'min_samples_split': 21, 'min_samples_leaf': 1, 'criterion': 'entropy'}. Best is trial 120 with value: 0.5820642978003384.\u001b[0m\n",
      "\u001b[32m[I 2023-03-15 19:05:51,365]\u001b[0m Trial 133 finished with value: 0.5628140703517588 and parameters: {'n_estimators': 27, 'max_depth': 17, 'min_samples_split': 20, 'min_samples_leaf': 3, 'criterion': 'entropy'}. Best is trial 120 with value: 0.5820642978003384.\u001b[0m\n",
      "\u001b[32m[I 2023-03-15 19:05:51,506]\u001b[0m Trial 134 finished with value: 0.563758389261745 and parameters: {'n_estimators': 28, 'max_depth': 17, 'min_samples_split': 20, 'min_samples_leaf': 3, 'criterion': 'entropy'}. Best is trial 120 with value: 0.5820642978003384.\u001b[0m\n",
      "\u001b[32m[I 2023-03-15 19:05:51,643]\u001b[0m Trial 135 finished with value: 0.5547945205479452 and parameters: {'n_estimators': 27, 'max_depth': 17, 'min_samples_split': 22, 'min_samples_leaf': 3, 'criterion': 'entropy'}. Best is trial 120 with value: 0.5820642978003384.\u001b[0m\n",
      "\u001b[32m[I 2023-03-15 19:05:51,767]\u001b[0m Trial 136 finished with value: 0.5482233502538071 and parameters: {'n_estimators': 23, 'max_depth': 16, 'min_samples_split': 19, 'min_samples_leaf': 4, 'criterion': 'entropy'}. Best is trial 120 with value: 0.5820642978003384.\u001b[0m\n",
      "\u001b[32m[I 2023-03-15 19:05:51,915]\u001b[0m Trial 137 finished with value: 0.5598650927487353 and parameters: {'n_estimators': 29, 'max_depth': 17, 'min_samples_split': 20, 'min_samples_leaf': 3, 'criterion': 'entropy'}. Best is trial 120 with value: 0.5820642978003384.\u001b[0m\n",
      "\u001b[32m[I 2023-03-15 19:05:52,092]\u001b[0m Trial 138 finished with value: 0.549828178694158 and parameters: {'n_estimators': 36, 'max_depth': 14, 'min_samples_split': 21, 'min_samples_leaf': 2, 'criterion': 'entropy'}. Best is trial 120 with value: 0.5820642978003384.\u001b[0m\n",
      "\u001b[32m[I 2023-03-15 19:05:52,225]\u001b[0m Trial 139 finished with value: 0.561344537815126 and parameters: {'n_estimators': 25, 'max_depth': 16, 'min_samples_split': 20, 'min_samples_leaf': 1, 'criterion': 'entropy'}. Best is trial 120 with value: 0.5820642978003384.\u001b[0m\n",
      "\u001b[32m[I 2023-03-15 19:05:52,386]\u001b[0m Trial 140 finished with value: 0.5525423728813559 and parameters: {'n_estimators': 32, 'max_depth': 17, 'min_samples_split': 18, 'min_samples_leaf': 3, 'criterion': 'entropy'}. Best is trial 120 with value: 0.5820642978003384.\u001b[0m\n",
      "\u001b[32m[I 2023-03-15 19:05:52,532]\u001b[0m Trial 141 finished with value: 0.570940170940171 and parameters: {'n_estimators': 29, 'max_depth': 15, 'min_samples_split': 20, 'min_samples_leaf': 2, 'criterion': 'entropy'}. Best is trial 120 with value: 0.5820642978003384.\u001b[0m\n",
      "\u001b[32m[I 2023-03-15 19:05:52,676]\u001b[0m Trial 142 finished with value: 0.5709515859766278 and parameters: {'n_estimators': 28, 'max_depth': 15, 'min_samples_split': 19, 'min_samples_leaf': 2, 'criterion': 'entropy'}. Best is trial 120 with value: 0.5820642978003384.\u001b[0m\n",
      "\u001b[32m[I 2023-03-15 19:05:52,803]\u001b[0m Trial 143 finished with value: 0.5742904841402336 and parameters: {'n_estimators': 24, 'max_depth': 15, 'min_samples_split': 19, 'min_samples_leaf': 2, 'criterion': 'entropy'}. Best is trial 120 with value: 0.5820642978003384.\u001b[0m\n",
      "\u001b[32m[I 2023-03-15 19:05:52,930]\u001b[0m Trial 144 finished with value: 0.5538461538461538 and parameters: {'n_estimators': 23, 'max_depth': 13, 'min_samples_split': 19, 'min_samples_leaf': 2, 'criterion': 'entropy'}. Best is trial 120 with value: 0.5820642978003384.\u001b[0m\n",
      "\u001b[32m[I 2023-03-15 19:05:53,074]\u001b[0m Trial 145 finished with value: 0.5525423728813559 and parameters: {'n_estimators': 28, 'max_depth': 15, 'min_samples_split': 21, 'min_samples_leaf': 2, 'criterion': 'entropy'}. Best is trial 120 with value: 0.5820642978003384.\u001b[0m\n",
      "\u001b[32m[I 2023-03-15 19:05:53,189]\u001b[0m Trial 146 finished with value: 0.563758389261745 and parameters: {'n_estimators': 20, 'max_depth': 15, 'min_samples_split': 19, 'min_samples_leaf': 1, 'criterion': 'entropy'}. Best is trial 120 with value: 0.5820642978003384.\u001b[0m\n",
      "\u001b[32m[I 2023-03-15 19:05:53,399]\u001b[0m Trial 147 finished with value: 0.5567010309278351 and parameters: {'n_estimators': 42, 'max_depth': 14, 'min_samples_split': 22, 'min_samples_leaf': 1, 'criterion': 'entropy'}. Best is trial 120 with value: 0.5820642978003384.\u001b[0m\n",
      "\u001b[32m[I 2023-03-15 19:05:53,532]\u001b[0m Trial 148 finished with value: 0.5632377740303541 and parameters: {'n_estimators': 25, 'max_depth': 15, 'min_samples_split': 18, 'min_samples_leaf': 2, 'criterion': 'entropy'}. Best is trial 120 with value: 0.5820642978003384.\u001b[0m\n",
      "\u001b[32m[I 2023-03-15 19:05:53,697]\u001b[0m Trial 149 finished with value: 0.5591766723842196 and parameters: {'n_estimators': 34, 'max_depth': 16, 'min_samples_split': 20, 'min_samples_leaf': 5, 'criterion': 'entropy'}. Best is trial 120 with value: 0.5820642978003384.\u001b[0m\n",
      "\u001b[32m[I 2023-03-15 19:05:53,861]\u001b[0m Trial 150 finished with value: 0.571912013536379 and parameters: {'n_estimators': 38, 'max_depth': 15, 'min_samples_split': 19, 'min_samples_leaf': 2, 'criterion': 'gini'}. Best is trial 120 with value: 0.5820642978003384.\u001b[0m\n",
      "\u001b[32m[I 2023-03-15 19:05:54,026]\u001b[0m Trial 151 finished with value: 0.571912013536379 and parameters: {'n_estimators': 38, 'max_depth': 15, 'min_samples_split': 19, 'min_samples_leaf': 2, 'criterion': 'gini'}. Best is trial 120 with value: 0.5820642978003384.\u001b[0m\n",
      "\u001b[32m[I 2023-03-15 19:05:54,194]\u001b[0m Trial 152 finished with value: 0.5513698630136986 and parameters: {'n_estimators': 39, 'max_depth': 14, 'min_samples_split': 18, 'min_samples_leaf': 2, 'criterion': 'gini'}. Best is trial 120 with value: 0.5820642978003384.\u001b[0m\n",
      "\u001b[32m[I 2023-03-15 19:05:54,353]\u001b[0m Trial 153 finished with value: 0.5591766723842196 and parameters: {'n_estimators': 37, 'max_depth': 15, 'min_samples_split': 19, 'min_samples_leaf': 1, 'criterion': 'gini'}. Best is trial 120 with value: 0.5820642978003384.\u001b[0m\n",
      "\u001b[32m[I 2023-03-15 19:05:54,536]\u001b[0m Trial 154 finished with value: 0.5670103092783504 and parameters: {'n_estimators': 44, 'max_depth': 13, 'min_samples_split': 19, 'min_samples_leaf': 1, 'criterion': 'gini'}. Best is trial 120 with value: 0.5820642978003384.\u001b[0m\n"
     ]
    },
    {
     "name": "stderr",
     "output_type": "stream",
     "text": [
      "\u001b[32m[I 2023-03-15 19:05:54,698]\u001b[0m Trial 155 finished with value: 0.5567010309278351 and parameters: {'n_estimators': 41, 'max_depth': 10, 'min_samples_split': 21, 'min_samples_leaf': 1, 'criterion': 'gini'}. Best is trial 120 with value: 0.5820642978003384.\u001b[0m\n",
      "\u001b[32m[I 2023-03-15 19:05:54,838]\u001b[0m Trial 156 finished with value: 0.545144804088586 and parameters: {'n_estimators': 33, 'max_depth': 12, 'min_samples_split': 19, 'min_samples_leaf': 2, 'criterion': 'gini'}. Best is trial 120 with value: 0.5820642978003384.\u001b[0m\n",
      "\u001b[32m[I 2023-03-15 19:05:54,994]\u001b[0m Trial 157 finished with value: 0.5642737896494157 and parameters: {'n_estimators': 36, 'max_depth': 13, 'min_samples_split': 17, 'min_samples_leaf': 1, 'criterion': 'gini'}. Best is trial 120 with value: 0.5820642978003384.\u001b[0m\n",
      "\u001b[32m[I 2023-03-15 19:05:55,369]\u001b[0m Trial 158 finished with value: 0.5517241379310345 and parameters: {'n_estimators': 98, 'max_depth': 12, 'min_samples_split': 18, 'min_samples_leaf': 2, 'criterion': 'gini'}. Best is trial 120 with value: 0.5820642978003384.\u001b[0m\n",
      "\u001b[32m[I 2023-03-15 19:05:55,503]\u001b[0m Trial 159 finished with value: 0.5547945205479452 and parameters: {'n_estimators': 30, 'max_depth': 15, 'min_samples_split': 19, 'min_samples_leaf': 1, 'criterion': 'gini'}. Best is trial 120 with value: 0.5820642978003384.\u001b[0m\n",
      "\u001b[32m[I 2023-03-15 19:05:55,679]\u001b[0m Trial 160 finished with value: 0.5617597292724197 and parameters: {'n_estimators': 43, 'max_depth': 14, 'min_samples_split': 20, 'min_samples_leaf': 4, 'criterion': 'gini'}. Best is trial 120 with value: 0.5820642978003384.\u001b[0m\n",
      "\u001b[32m[I 2023-03-15 19:05:55,866]\u001b[0m Trial 161 finished with value: 0.5617597292724197 and parameters: {'n_estimators': 45, 'max_depth': 16, 'min_samples_split': 18, 'min_samples_leaf': 2, 'criterion': 'gini'}. Best is trial 120 with value: 0.5820642978003384.\u001b[0m\n",
      "\u001b[32m[I 2023-03-15 19:05:55,975]\u001b[0m Trial 162 finished with value: 0.545144804088586 and parameters: {'n_estimators': 23, 'max_depth': 15, 'min_samples_split': 19, 'min_samples_leaf': 3, 'criterion': 'gini'}. Best is trial 120 with value: 0.5820642978003384.\u001b[0m\n",
      "\u001b[32m[I 2023-03-15 19:05:56,177]\u001b[0m Trial 163 finished with value: 0.5494880546075085 and parameters: {'n_estimators': 50, 'max_depth': 14, 'min_samples_split': 21, 'min_samples_leaf': 2, 'criterion': 'gini'}. Best is trial 120 with value: 0.5820642978003384.\u001b[0m\n",
      "\u001b[32m[I 2023-03-15 19:05:56,344]\u001b[0m Trial 164 finished with value: 0.5606837606837606 and parameters: {'n_estimators': 40, 'max_depth': 13, 'min_samples_split': 20, 'min_samples_leaf': 3, 'criterion': 'gini'}. Best is trial 120 with value: 0.5820642978003384.\u001b[0m\n",
      "\u001b[32m[I 2023-03-15 19:05:56,487]\u001b[0m Trial 165 finished with value: 0.5570469798657719 and parameters: {'n_estimators': 32, 'max_depth': 16, 'min_samples_split': 19, 'min_samples_leaf': 1, 'criterion': 'gini'}. Best is trial 120 with value: 0.5820642978003384.\u001b[0m\n",
      "\u001b[32m[I 2023-03-15 19:05:56,638]\u001b[0m Trial 166 finished with value: 0.5544217687074829 and parameters: {'n_estimators': 36, 'max_depth': 12, 'min_samples_split': 20, 'min_samples_leaf': 2, 'criterion': 'gini'}. Best is trial 120 with value: 0.5820642978003384.\u001b[0m\n",
      "\u001b[32m[I 2023-03-15 19:05:56,754]\u001b[0m Trial 167 finished with value: 0.5578231292517006 and parameters: {'n_estimators': 26, 'max_depth': 18, 'min_samples_split': 21, 'min_samples_leaf': 4, 'criterion': 'gini'}. Best is trial 120 with value: 0.5820642978003384.\u001b[0m\n",
      "\u001b[32m[I 2023-03-15 19:05:56,980]\u001b[0m Trial 168 finished with value: 0.5636672325976231 and parameters: {'n_estimators': 48, 'max_depth': 15, 'min_samples_split': 19, 'min_samples_leaf': 3, 'criterion': 'entropy'}. Best is trial 120 with value: 0.5820642978003384.\u001b[0m\n",
      "\u001b[32m[I 2023-03-15 19:05:57,138]\u001b[0m Trial 169 finished with value: 0.5602716468590832 and parameters: {'n_estimators': 30, 'max_depth': 17, 'min_samples_split': 18, 'min_samples_leaf': 1, 'criterion': 'entropy'}. Best is trial 120 with value: 0.5820642978003384.\u001b[0m\n",
      "\u001b[32m[I 2023-03-15 19:05:57,394]\u001b[0m Trial 170 finished with value: 0.5621805792163543 and parameters: {'n_estimators': 53, 'max_depth': 16, 'min_samples_split': 17, 'min_samples_leaf': 2, 'criterion': 'entropy'}. Best is trial 120 with value: 0.5820642978003384.\u001b[0m\n",
      "\u001b[32m[I 2023-03-15 19:05:57,555]\u001b[0m Trial 171 finished with value: 0.5597269624573378 and parameters: {'n_estimators': 37, 'max_depth': 14, 'min_samples_split': 20, 'min_samples_leaf': 1, 'criterion': 'gini'}. Best is trial 120 with value: 0.5820642978003384.\u001b[0m\n",
      "\u001b[32m[I 2023-03-15 19:05:57,705]\u001b[0m Trial 172 finished with value: 0.5519591141396933 and parameters: {'n_estimators': 34, 'max_depth': 13, 'min_samples_split': 16, 'min_samples_leaf': 2, 'criterion': 'gini'}. Best is trial 120 with value: 0.5820642978003384.\u001b[0m\n",
      "\u001b[32m[I 2023-03-15 19:05:57,865]\u001b[0m Trial 173 finished with value: 0.5467128027681661 and parameters: {'n_estimators': 39, 'max_depth': 11, 'min_samples_split': 19, 'min_samples_leaf': 1, 'criterion': 'gini'}. Best is trial 120 with value: 0.5820642978003384.\u001b[0m\n",
      "\u001b[32m[I 2023-03-15 19:05:58,047]\u001b[0m Trial 174 finished with value: 0.5574324324324325 and parameters: {'n_estimators': 44, 'max_depth': 13, 'min_samples_split': 17, 'min_samples_leaf': 3, 'criterion': 'gini'}. Best is trial 120 with value: 0.5820642978003384.\u001b[0m\n",
      "\u001b[32m[I 2023-03-15 19:05:58,160]\u001b[0m Trial 175 finished with value: 0.555366269165247 and parameters: {'n_estimators': 24, 'max_depth': 18, 'min_samples_split': 18, 'min_samples_leaf': 1, 'criterion': 'gini'}. Best is trial 120 with value: 0.5820642978003384.\u001b[0m\n",
      "\u001b[32m[I 2023-03-15 19:05:58,305]\u001b[0m Trial 176 finished with value: 0.5660377358490566 and parameters: {'n_estimators': 28, 'max_depth': 15, 'min_samples_split': 20, 'min_samples_leaf': 2, 'criterion': 'entropy'}. Best is trial 120 with value: 0.5820642978003384.\u001b[0m\n",
      "\u001b[32m[I 2023-03-15 19:05:58,452]\u001b[0m Trial 177 finished with value: 0.5497470489038786 and parameters: {'n_estimators': 28, 'max_depth': 16, 'min_samples_split': 21, 'min_samples_leaf': 4, 'criterion': 'entropy'}. Best is trial 120 with value: 0.5820642978003384.\u001b[0m\n",
      "\u001b[32m[I 2023-03-15 19:05:58,571]\u001b[0m Trial 178 finished with value: 0.564625850340136 and parameters: {'n_estimators': 22, 'max_depth': 15, 'min_samples_split': 20, 'min_samples_leaf': 2, 'criterion': 'entropy'}. Best is trial 120 with value: 0.5820642978003384.\u001b[0m\n",
      "\u001b[32m[I 2023-03-15 19:05:58,875]\u001b[0m Trial 179 finished with value: 0.4981684981684982 and parameters: {'n_estimators': 82, 'max_depth': 17, 'min_samples_split': 20, 'min_samples_leaf': 29, 'criterion': 'entropy'}. Best is trial 120 with value: 0.5820642978003384.\u001b[0m\n",
      "\u001b[32m[I 2023-03-15 19:05:58,971]\u001b[0m Trial 180 finished with value: 0.5467128027681661 and parameters: {'n_estimators': 20, 'max_depth': 14, 'min_samples_split': 19, 'min_samples_leaf': 22, 'criterion': 'entropy'}. Best is trial 120 with value: 0.5820642978003384.\u001b[0m\n",
      "\u001b[32m[I 2023-03-15 19:05:59,105]\u001b[0m Trial 181 finished with value: 0.5675213675213676 and parameters: {'n_estimators': 25, 'max_depth': 15, 'min_samples_split': 20, 'min_samples_leaf': 2, 'criterion': 'entropy'}. Best is trial 120 with value: 0.5820642978003384.\u001b[0m\n",
      "\u001b[32m[I 2023-03-15 19:05:59,236]\u001b[0m Trial 182 finished with value: 0.5494137353433836 and parameters: {'n_estimators': 25, 'max_depth': 15, 'min_samples_split': 20, 'min_samples_leaf': 3, 'criterion': 'entropy'}. Best is trial 120 with value: 0.5820642978003384.\u001b[0m\n",
      "\u001b[32m[I 2023-03-15 19:05:59,393]\u001b[0m Trial 183 finished with value: 0.5494137353433836 and parameters: {'n_estimators': 30, 'max_depth': 16, 'min_samples_split': 22, 'min_samples_leaf': 2, 'criterion': 'entropy'}. Best is trial 120 with value: 0.5820642978003384.\u001b[0m\n",
      "\u001b[32m[I 2023-03-15 19:05:59,510]\u001b[0m Trial 184 finished with value: 0.5385996409335727 and parameters: {'n_estimators': 27, 'max_depth': 7, 'min_samples_split': 19, 'min_samples_leaf': 3, 'criterion': 'entropy'}. Best is trial 120 with value: 0.5820642978003384.\u001b[0m\n",
      "\u001b[32m[I 2023-03-15 19:05:59,674]\u001b[0m Trial 185 finished with value: 0.5460750853242321 and parameters: {'n_estimators': 31, 'max_depth': 15, 'min_samples_split': 21, 'min_samples_leaf': 2, 'criterion': 'entropy'}. Best is trial 120 with value: 0.5820642978003384.\u001b[0m\n"
     ]
    },
    {
     "name": "stderr",
     "output_type": "stream",
     "text": [
      "\u001b[32m[I 2023-03-15 19:05:59,803]\u001b[0m Trial 186 finished with value: 0.5597269624573378 and parameters: {'n_estimators': 23, 'max_depth': 16, 'min_samples_split': 20, 'min_samples_leaf': 4, 'criterion': 'entropy'}. Best is trial 120 with value: 0.5820642978003384.\u001b[0m\n",
      "\u001b[32m[I 2023-03-15 19:05:59,970]\u001b[0m Trial 187 finished with value: 0.5568760611205433 and parameters: {'n_estimators': 33, 'max_depth': 17, 'min_samples_split': 21, 'min_samples_leaf': 3, 'criterion': 'entropy'}. Best is trial 120 with value: 0.5820642978003384.\u001b[0m\n",
      "\u001b[32m[I 2023-03-15 19:06:00,115]\u001b[0m Trial 188 finished with value: 0.5719063545150501 and parameters: {'n_estimators': 27, 'max_depth': 15, 'min_samples_split': 19, 'min_samples_leaf': 2, 'criterion': 'entropy'}. Best is trial 120 with value: 0.5820642978003384.\u001b[0m\n",
      "\u001b[32m[I 2023-03-15 19:06:00,259]\u001b[0m Trial 189 finished with value: 0.5504273504273504 and parameters: {'n_estimators': 27, 'max_depth': 14, 'min_samples_split': 19, 'min_samples_leaf': 1, 'criterion': 'entropy'}. Best is trial 120 with value: 0.5820642978003384.\u001b[0m\n",
      "\u001b[32m[I 2023-03-15 19:06:00,394]\u001b[0m Trial 190 finished with value: 0.5675213675213676 and parameters: {'n_estimators': 25, 'max_depth': 15, 'min_samples_split': 20, 'min_samples_leaf': 2, 'criterion': 'entropy'}. Best is trial 120 with value: 0.5820642978003384.\u001b[0m\n",
      "\u001b[32m[I 2023-03-15 19:06:00,532]\u001b[0m Trial 191 finished with value: 0.5675213675213676 and parameters: {'n_estimators': 25, 'max_depth': 15, 'min_samples_split': 20, 'min_samples_leaf': 2, 'criterion': 'entropy'}. Best is trial 120 with value: 0.5820642978003384.\u001b[0m\n",
      "\u001b[32m[I 2023-03-15 19:06:00,656]\u001b[0m Trial 192 finished with value: 0.564625850340136 and parameters: {'n_estimators': 22, 'max_depth': 15, 'min_samples_split': 20, 'min_samples_leaf': 2, 'criterion': 'entropy'}. Best is trial 120 with value: 0.5820642978003384.\u001b[0m\n",
      "\u001b[32m[I 2023-03-15 19:06:00,795]\u001b[0m Trial 193 finished with value: 0.5531197301854975 and parameters: {'n_estimators': 25, 'max_depth': 15, 'min_samples_split': 21, 'min_samples_leaf': 1, 'criterion': 'entropy'}. Best is trial 120 with value: 0.5820642978003384.\u001b[0m\n",
      "\u001b[32m[I 2023-03-15 19:06:00,947]\u001b[0m Trial 194 finished with value: 0.5587734241908007 and parameters: {'n_estimators': 28, 'max_depth': 14, 'min_samples_split': 20, 'min_samples_leaf': 2, 'criterion': 'entropy'}. Best is trial 120 with value: 0.5820642978003384.\u001b[0m\n",
      "\u001b[32m[I 2023-03-15 19:06:01,084]\u001b[0m Trial 195 finished with value: 0.5579831932773109 and parameters: {'n_estimators': 25, 'max_depth': 16, 'min_samples_split': 21, 'min_samples_leaf': 2, 'criterion': 'entropy'}. Best is trial 120 with value: 0.5820642978003384.\u001b[0m\n",
      "\u001b[32m[I 2023-03-15 19:06:01,215]\u001b[0m Trial 196 finished with value: 0.5272407732864676 and parameters: {'n_estimators': 29, 'max_depth': 15, 'min_samples_split': 22, 'min_samples_leaf': 19, 'criterion': 'entropy'}. Best is trial 120 with value: 0.5820642978003384.\u001b[0m\n",
      "\u001b[32m[I 2023-03-15 19:06:01,333]\u001b[0m Trial 197 finished with value: 0.5568760611205433 and parameters: {'n_estimators': 21, 'max_depth': 16, 'min_samples_split': 20, 'min_samples_leaf': 1, 'criterion': 'entropy'}. Best is trial 120 with value: 0.5820642978003384.\u001b[0m\n",
      "\u001b[32m[I 2023-03-15 19:06:01,498]\u001b[0m Trial 198 finished with value: 0.5602716468590832 and parameters: {'n_estimators': 32, 'max_depth': 14, 'min_samples_split': 19, 'min_samples_leaf': 3, 'criterion': 'entropy'}. Best is trial 120 with value: 0.5820642978003384.\u001b[0m\n",
      "\u001b[32m[I 2023-03-15 19:06:01,637]\u001b[0m Trial 199 finished with value: 0.5738831615120275 and parameters: {'n_estimators': 26, 'max_depth': 16, 'min_samples_split': 20, 'min_samples_leaf': 2, 'criterion': 'entropy'}. Best is trial 120 with value: 0.5820642978003384.\u001b[0m\n"
     ]
    },
    {
     "name": "stdout",
     "output_type": "stream",
     "text": [
      "Best trial:\n",
      "  Score: 0.582\n",
      "  Params: \n",
      "    n_estimators: 27\n",
      "    max_depth: 17\n",
      "    min_samples_split: 20\n",
      "    min_samples_leaf: 4\n",
      "    criterion: entropy\n"
     ]
    }
   ],
   "source": [
    "def objective(trial):\n",
    "    # Определение гиперпараметров для модели\n",
    "    n_estimators = trial.suggest_int('n_estimators', 20, 150)\n",
    "    max_depth = trial.suggest_int('max_depth', 2, 30)\n",
    "    min_samples_split = trial.suggest_int('min_samples_split', 2, 30)\n",
    "    min_samples_leaf = trial.suggest_int('min_samples_leaf', 1, 30)\n",
    "    criterion = trial.suggest_categorical('criterion', ['gini', 'entropy'])\n",
    "\n",
    "    # Инициализация модели со значениями гиперпараметров\n",
    "    rfc = RandomForestClassifier(n_estimators=n_estimators,\n",
    "                                   max_depth=max_depth,\n",
    "                                   min_samples_split=min_samples_split,\n",
    "                                   min_samples_leaf=min_samples_leaf,\n",
    "                                   criterion=criterion,\n",
    "                                   random_state=322)\n",
    "\n",
    "    # Обучение модели на тренировочном наборе\n",
    "    rfc.fit(features_train, target_train)\n",
    "\n",
    "    # Предсказание на тестовом наборе\n",
    "    predicted_valid = rfc.predict(features_valid)\n",
    "\n",
    "    # Вычисление метрики качества (f1)\n",
    "    f1 = f1_score(predicted_valid, target_valid)\n",
    "\n",
    "    return f1\n",
    "\n",
    "# Создание объекта для оптимизации\n",
    "study = optuna.create_study(direction='maximize')\n",
    "\n",
    "# Запуск оптимизации\n",
    "study.optimize(objective, n_trials=200)\n",
    "\n",
    "# Вывод результатов\n",
    "print('Best trial:')\n",
    "trial = study.best_trial\n",
    "print(f'  Score: {trial.value:.3f}')\n",
    "print('  Params: ')\n",
    "for key, value in trial.params.items():\n",
    "    print(f'    {key}: {value}')"
   ]
  },
  {
   "cell_type": "markdown",
   "metadata": {},
   "source": [
    "Наивысший скор у модели с:\n",
    "- n_estimators: 27\n",
    "-  max_depth: 17\n",
    "-  min_samples_split: 20\n",
    "- min_samples_leaf: 4\n",
    "- criterion: entropy, \n",
    "    \n",
    "F1=0.582"
   ]
  },
  {
   "cell_type": "code",
   "execution_count": 20,
   "metadata": {},
   "outputs": [
    {
     "data": {
      "text/plain": [
       "RandomForestClassifier(criterion='entropy', max_depth=17, min_samples_leaf=4,\n",
       "                       min_samples_split=20, n_estimators=27, random_state=322)"
      ]
     },
     "execution_count": 20,
     "metadata": {},
     "output_type": "execute_result"
    }
   ],
   "source": [
    "rfc = RandomForestClassifier(n_estimators=27,\n",
    "                                   max_depth=17,\n",
    "                                   min_samples_split=20,\n",
    "                                   min_samples_leaf=4,\n",
    "                                   criterion='entropy',\n",
    "                                   random_state=322)\n",
    "rfc.fit(features_train, target_train)"
   ]
  },
  {
   "cell_type": "markdown",
   "metadata": {},
   "source": [
    "Для лучшей модели построим ROC-кривую и посчитаем AUC-ROC."
   ]
  },
  {
   "cell_type": "code",
   "execution_count": 21,
   "metadata": {},
   "outputs": [
    {
     "data": {
      "image/png": "[encoded data removed]",
      "text/plain": [
       "<Figure size 640x480 with 1 Axes>"
      ]
     },
     "metadata": {},
     "output_type": "display_data"
    }
   ],
   "source": [
    "prob_one_valid = rfc.predict_proba(features_valid)[:, 1]\n",
    "fpr, tpr, thresholds = roc_curve(target_valid, prob_one_valid)\n",
    "plt.plot(fpr, tpr)\n",
    "plt.plot([0, 1], [0, 1], linestyle='--')\n",
    "plt.xlim([0, 1])\n",
    "plt.ylim([0, 1])\n",
    "plt.xlabel('False Positive Rate')\n",
    "plt.ylabel('True Positive Rate')\n",
    "plt.title(\"ROC-кривая\")\n",
    "plt.grid()\n",
    "plt.show()"
   ]
  },
  {
   "cell_type": "code",
   "execution_count": 22,
   "metadata": {},
   "outputs": [
    {
     "data": {
      "text/plain": [
       "0.8595532722222946"
      ]
     },
     "execution_count": 22,
     "metadata": {},
     "output_type": "execute_result"
    }
   ],
   "source": [
    "roc_auc_score(target_valid, prob_one_valid)"
   ]
  },
  {
   "cell_type": "markdown",
   "metadata": {},
   "source": [
    "### CatBoost"
   ]
  },
  {
   "cell_type": "markdown",
   "metadata": {},
   "source": [
    "Обучим модель CatBoost и найдем F1 и AUC-ROC. "
   ]
  },
  {
   "cell_type": "code",
   "execution_count": 62,
   "metadata": {
    "scrolled": true
   },
   "outputs": [
    {
     "name": "stdout",
     "output_type": "stream",
     "text": [
      "Learning rate set to 0.021257\n",
      "0:\tlearn: 0.6756235\ttotal: 140ms\tremaining: 2m 20s\n",
      "1:\tlearn: 0.6585459\ttotal: 142ms\tremaining: 1m 10s\n",
      "2:\tlearn: 0.6432758\ttotal: 144ms\tremaining: 47.7s\n",
      "3:\tlearn: 0.6289605\ttotal: 145ms\tremaining: 36.1s\n",
      "4:\tlearn: 0.6148596\ttotal: 147ms\tremaining: 29.2s\n",
      "5:\tlearn: 0.6012962\ttotal: 148ms\tremaining: 24.6s\n",
      "6:\tlearn: 0.5896230\ttotal: 150ms\tremaining: 21.3s\n",
      "7:\tlearn: 0.5778238\ttotal: 151ms\tremaining: 18.8s\n",
      "8:\tlearn: 0.5660949\ttotal: 153ms\tremaining: 16.8s\n",
      "9:\tlearn: 0.5553439\ttotal: 155ms\tremaining: 15.3s\n",
      "10:\tlearn: 0.5454774\ttotal: 156ms\tremaining: 14s\n",
      "11:\tlearn: 0.5370947\ttotal: 158ms\tremaining: 13s\n",
      "12:\tlearn: 0.5279034\ttotal: 159ms\tremaining: 12.1s\n",
      "13:\tlearn: 0.5183620\ttotal: 161ms\tremaining: 11.3s\n",
      "14:\tlearn: 0.5108391\ttotal: 162ms\tremaining: 10.6s\n",
      "15:\tlearn: 0.5037513\ttotal: 164ms\tremaining: 10.1s\n",
      "16:\tlearn: 0.4959908\ttotal: 165ms\tremaining: 9.56s\n",
      "17:\tlearn: 0.4896682\ttotal: 167ms\tremaining: 9.1s\n",
      "18:\tlearn: 0.4832932\ttotal: 168ms\tremaining: 8.7s\n",
      "19:\tlearn: 0.4780499\ttotal: 170ms\tremaining: 8.33s\n",
      "20:\tlearn: 0.4713395\ttotal: 172ms\tremaining: 8s\n",
      "21:\tlearn: 0.4666352\ttotal: 173ms\tremaining: 7.69s\n",
      "22:\tlearn: 0.4612813\ttotal: 175ms\tremaining: 7.42s\n",
      "23:\tlearn: 0.4551542\ttotal: 176ms\tremaining: 7.17s\n",
      "24:\tlearn: 0.4499363\ttotal: 178ms\tremaining: 6.93s\n",
      "25:\tlearn: 0.4447065\ttotal: 179ms\tremaining: 6.72s\n",
      "26:\tlearn: 0.4400086\ttotal: 181ms\tremaining: 6.52s\n",
      "27:\tlearn: 0.4352517\ttotal: 182ms\tremaining: 6.33s\n",
      "28:\tlearn: 0.4319055\ttotal: 184ms\tremaining: 6.16s\n",
      "29:\tlearn: 0.4288689\ttotal: 186ms\tremaining: 6.01s\n",
      "30:\tlearn: 0.4245580\ttotal: 187ms\tremaining: 5.86s\n",
      "31:\tlearn: 0.4202175\ttotal: 189ms\tremaining: 5.72s\n",
      "32:\tlearn: 0.4169778\ttotal: 191ms\tremaining: 5.58s\n",
      "33:\tlearn: 0.4139986\ttotal: 192ms\tremaining: 5.46s\n",
      "34:\tlearn: 0.4105949\ttotal: 194ms\tremaining: 5.35s\n",
      "35:\tlearn: 0.4080479\ttotal: 196ms\tremaining: 5.24s\n",
      "36:\tlearn: 0.4047207\ttotal: 197ms\tremaining: 5.14s\n",
      "37:\tlearn: 0.4025031\ttotal: 199ms\tremaining: 5.04s\n",
      "38:\tlearn: 0.4004221\ttotal: 201ms\tremaining: 4.94s\n",
      "39:\tlearn: 0.3979894\ttotal: 202ms\tremaining: 4.85s\n",
      "40:\tlearn: 0.3953960\ttotal: 204ms\tremaining: 4.77s\n",
      "41:\tlearn: 0.3937608\ttotal: 206ms\tremaining: 4.69s\n",
      "42:\tlearn: 0.3914376\ttotal: 208ms\tremaining: 4.62s\n",
      "43:\tlearn: 0.3895079\ttotal: 209ms\tremaining: 4.55s\n",
      "44:\tlearn: 0.3877162\ttotal: 211ms\tremaining: 4.48s\n",
      "45:\tlearn: 0.3851187\ttotal: 213ms\tremaining: 4.41s\n",
      "46:\tlearn: 0.3823987\ttotal: 214ms\tremaining: 4.34s\n",
      "47:\tlearn: 0.3802053\ttotal: 216ms\tremaining: 4.28s\n",
      "48:\tlearn: 0.3786225\ttotal: 218ms\tremaining: 4.22s\n",
      "49:\tlearn: 0.3769641\ttotal: 219ms\tremaining: 4.17s\n",
      "50:\tlearn: 0.3755225\ttotal: 221ms\tremaining: 4.11s\n",
      "51:\tlearn: 0.3739544\ttotal: 223ms\tremaining: 4.06s\n",
      "52:\tlearn: 0.3724457\ttotal: 224ms\tremaining: 4.01s\n",
      "53:\tlearn: 0.3711800\ttotal: 226ms\tremaining: 3.96s\n",
      "54:\tlearn: 0.3697361\ttotal: 228ms\tremaining: 3.91s\n",
      "55:\tlearn: 0.3684258\ttotal: 229ms\tremaining: 3.86s\n",
      "56:\tlearn: 0.3669298\ttotal: 231ms\tremaining: 3.82s\n",
      "57:\tlearn: 0.3655153\ttotal: 233ms\tremaining: 3.78s\n",
      "58:\tlearn: 0.3643703\ttotal: 234ms\tremaining: 3.73s\n",
      "59:\tlearn: 0.3633026\ttotal: 236ms\tremaining: 3.69s\n",
      "60:\tlearn: 0.3616872\ttotal: 238ms\tremaining: 3.66s\n",
      "61:\tlearn: 0.3610519\ttotal: 239ms\tremaining: 3.61s\n",
      "62:\tlearn: 0.3602617\ttotal: 241ms\tremaining: 3.58s\n",
      "63:\tlearn: 0.3589087\ttotal: 243ms\tremaining: 3.55s\n",
      "64:\tlearn: 0.3580188\ttotal: 244ms\tremaining: 3.52s\n",
      "65:\tlearn: 0.3571122\ttotal: 246ms\tremaining: 3.48s\n",
      "66:\tlearn: 0.3560974\ttotal: 248ms\tremaining: 3.45s\n",
      "67:\tlearn: 0.3551572\ttotal: 249ms\tremaining: 3.42s\n",
      "68:\tlearn: 0.3539121\ttotal: 251ms\tremaining: 3.39s\n",
      "69:\tlearn: 0.3527526\ttotal: 253ms\tremaining: 3.35s\n",
      "70:\tlearn: 0.3520014\ttotal: 254ms\tremaining: 3.33s\n",
      "71:\tlearn: 0.3509666\ttotal: 256ms\tremaining: 3.3s\n",
      "72:\tlearn: 0.3502231\ttotal: 257ms\tremaining: 3.27s\n",
      "73:\tlearn: 0.3496012\ttotal: 259ms\tremaining: 3.24s\n",
      "74:\tlearn: 0.3488405\ttotal: 260ms\tremaining: 3.21s\n",
      "75:\tlearn: 0.3481358\ttotal: 262ms\tremaining: 3.19s\n",
      "76:\tlearn: 0.3474316\ttotal: 264ms\tremaining: 3.16s\n",
      "77:\tlearn: 0.3470482\ttotal: 266ms\tremaining: 3.14s\n",
      "78:\tlearn: 0.3460747\ttotal: 267ms\tremaining: 3.11s\n",
      "79:\tlearn: 0.3454077\ttotal: 269ms\tremaining: 3.09s\n",
      "80:\tlearn: 0.3445782\ttotal: 270ms\tremaining: 3.07s\n",
      "81:\tlearn: 0.3440124\ttotal: 272ms\tremaining: 3.04s\n",
      "82:\tlearn: 0.3432444\ttotal: 274ms\tremaining: 3.02s\n",
      "83:\tlearn: 0.3425781\ttotal: 275ms\tremaining: 3s\n",
      "84:\tlearn: 0.3420662\ttotal: 277ms\tremaining: 2.98s\n",
      "85:\tlearn: 0.3416860\ttotal: 278ms\tremaining: 2.96s\n",
      "86:\tlearn: 0.3410542\ttotal: 280ms\tremaining: 2.94s\n",
      "87:\tlearn: 0.3404684\ttotal: 282ms\tremaining: 2.92s\n",
      "88:\tlearn: 0.3401480\ttotal: 283ms\tremaining: 2.9s\n",
      "89:\tlearn: 0.3395315\ttotal: 285ms\tremaining: 2.88s\n",
      "90:\tlearn: 0.3390531\ttotal: 286ms\tremaining: 2.86s\n",
      "91:\tlearn: 0.3385616\ttotal: 288ms\tremaining: 2.84s\n",
      "92:\tlearn: 0.3379080\ttotal: 290ms\tremaining: 2.82s\n",
      "93:\tlearn: 0.3372389\ttotal: 291ms\tremaining: 2.81s\n",
      "94:\tlearn: 0.3368304\ttotal: 293ms\tremaining: 2.79s\n",
      "95:\tlearn: 0.3362949\ttotal: 294ms\tremaining: 2.77s\n",
      "96:\tlearn: 0.3356853\ttotal: 296ms\tremaining: 2.75s\n",
      "97:\tlearn: 0.3350712\ttotal: 297ms\tremaining: 2.74s\n",
      "98:\tlearn: 0.3347488\ttotal: 299ms\tremaining: 2.72s\n",
      "99:\tlearn: 0.3343519\ttotal: 301ms\tremaining: 2.71s\n",
      "100:\tlearn: 0.3340487\ttotal: 302ms\tremaining: 2.69s\n",
      "101:\tlearn: 0.3336135\ttotal: 304ms\tremaining: 2.67s\n",
      "102:\tlearn: 0.3333128\ttotal: 305ms\tremaining: 2.66s\n",
      "103:\tlearn: 0.3329972\ttotal: 307ms\tremaining: 2.64s\n",
      "104:\tlearn: 0.3326943\ttotal: 308ms\tremaining: 2.63s\n",
      "105:\tlearn: 0.3321817\ttotal: 310ms\tremaining: 2.62s\n",
      "106:\tlearn: 0.3316772\ttotal: 312ms\tremaining: 2.6s\n",
      "107:\tlearn: 0.3311953\ttotal: 313ms\tremaining: 2.59s\n",
      "108:\tlearn: 0.3307450\ttotal: 315ms\tremaining: 2.57s\n",
      "109:\tlearn: 0.3302771\ttotal: 317ms\tremaining: 2.56s\n",
      "110:\tlearn: 0.3300273\ttotal: 318ms\tremaining: 2.55s\n",
      "111:\tlearn: 0.3294921\ttotal: 320ms\tremaining: 2.53s\n",
      "112:\tlearn: 0.3291388\ttotal: 321ms\tremaining: 2.52s\n",
      "113:\tlearn: 0.3289588\ttotal: 323ms\tremaining: 2.51s\n",
      "114:\tlearn: 0.3287748\ttotal: 324ms\tremaining: 2.49s\n",
      "115:\tlearn: 0.3285031\ttotal: 326ms\tremaining: 2.48s\n",
      "116:\tlearn: 0.3282693\ttotal: 327ms\tremaining: 2.47s\n",
      "117:\tlearn: 0.3276953\ttotal: 329ms\tremaining: 2.46s\n",
      "118:\tlearn: 0.3273365\ttotal: 330ms\tremaining: 2.45s\n",
      "119:\tlearn: 0.3270772\ttotal: 332ms\tremaining: 2.43s\n",
      "120:\tlearn: 0.3267693\ttotal: 334ms\tremaining: 2.42s\n",
      "121:\tlearn: 0.3263754\ttotal: 335ms\tremaining: 2.41s\n",
      "122:\tlearn: 0.3261403\ttotal: 337ms\tremaining: 2.4s\n",
      "123:\tlearn: 0.3257099\ttotal: 338ms\tremaining: 2.39s\n",
      "124:\tlearn: 0.3254912\ttotal: 340ms\tremaining: 2.38s\n",
      "125:\tlearn: 0.3251070\ttotal: 342ms\tremaining: 2.37s\n",
      "126:\tlearn: 0.3248033\ttotal: 343ms\tremaining: 2.36s\n",
      "127:\tlearn: 0.3246142\ttotal: 345ms\tremaining: 2.35s\n",
      "128:\tlearn: 0.3242888\ttotal: 346ms\tremaining: 2.34s\n",
      "129:\tlearn: 0.3240451\ttotal: 348ms\tremaining: 2.33s\n",
      "130:\tlearn: 0.3238011\ttotal: 349ms\tremaining: 2.32s\n",
      "131:\tlearn: 0.3235576\ttotal: 351ms\tremaining: 2.31s\n",
      "132:\tlearn: 0.3231068\ttotal: 353ms\tremaining: 2.3s\n",
      "133:\tlearn: 0.3227968\ttotal: 354ms\tremaining: 2.29s\n",
      "134:\tlearn: 0.3225982\ttotal: 356ms\tremaining: 2.28s\n",
      "135:\tlearn: 0.3222398\ttotal: 358ms\tremaining: 2.27s\n",
      "136:\tlearn: 0.3220431\ttotal: 359ms\tremaining: 2.26s\n",
      "137:\tlearn: 0.3218926\ttotal: 361ms\tremaining: 2.25s\n",
      "138:\tlearn: 0.3215982\ttotal: 362ms\tremaining: 2.24s\n",
      "139:\tlearn: 0.3213003\ttotal: 364ms\tremaining: 2.23s\n",
      "140:\tlearn: 0.3210633\ttotal: 365ms\tremaining: 2.23s\n",
      "141:\tlearn: 0.3206847\ttotal: 367ms\tremaining: 2.22s\n",
      "142:\tlearn: 0.3203787\ttotal: 369ms\tremaining: 2.21s\n",
      "143:\tlearn: 0.3200926\ttotal: 370ms\tremaining: 2.2s\n",
      "144:\tlearn: 0.3198593\ttotal: 372ms\tremaining: 2.19s\n",
      "145:\tlearn: 0.3196401\ttotal: 373ms\tremaining: 2.18s\n",
      "146:\tlearn: 0.3193890\ttotal: 375ms\tremaining: 2.17s\n",
      "147:\tlearn: 0.3190929\ttotal: 377ms\tremaining: 2.17s\n",
      "148:\tlearn: 0.3188166\ttotal: 378ms\tremaining: 2.16s\n",
      "149:\tlearn: 0.3186797\ttotal: 380ms\tremaining: 2.15s\n",
      "150:\tlearn: 0.3185174\ttotal: 381ms\tremaining: 2.14s\n",
      "151:\tlearn: 0.3184033\ttotal: 383ms\tremaining: 2.14s\n",
      "152:\tlearn: 0.3181096\ttotal: 384ms\tremaining: 2.13s\n",
      "153:\tlearn: 0.3179421\ttotal: 386ms\tremaining: 2.12s\n",
      "154:\tlearn: 0.3176161\ttotal: 388ms\tremaining: 2.11s\n",
      "155:\tlearn: 0.3174059\ttotal: 389ms\tremaining: 2.11s\n",
      "156:\tlearn: 0.3172295\ttotal: 391ms\tremaining: 2.1s\n",
      "157:\tlearn: 0.3169693\ttotal: 392ms\tremaining: 2.09s\n",
      "158:\tlearn: 0.3167525\ttotal: 394ms\tremaining: 2.08s\n",
      "159:\tlearn: 0.3164865\ttotal: 396ms\tremaining: 2.08s\n",
      "160:\tlearn: 0.3161519\ttotal: 397ms\tremaining: 2.07s\n"
     ]
    },
    {
     "name": "stdout",
     "output_type": "stream",
     "text": [
      "161:\tlearn: 0.3160286\ttotal: 399ms\tremaining: 2.06s\n",
      "162:\tlearn: 0.3158610\ttotal: 401ms\tremaining: 2.06s\n",
      "163:\tlearn: 0.3156416\ttotal: 402ms\tremaining: 2.05s\n",
      "164:\tlearn: 0.3154811\ttotal: 404ms\tremaining: 2.04s\n",
      "165:\tlearn: 0.3153025\ttotal: 405ms\tremaining: 2.04s\n",
      "166:\tlearn: 0.3150063\ttotal: 407ms\tremaining: 2.03s\n",
      "167:\tlearn: 0.3147587\ttotal: 409ms\tremaining: 2.02s\n",
      "168:\tlearn: 0.3144890\ttotal: 411ms\tremaining: 2.02s\n",
      "169:\tlearn: 0.3142249\ttotal: 412ms\tremaining: 2.01s\n",
      "170:\tlearn: 0.3140675\ttotal: 414ms\tremaining: 2.01s\n",
      "171:\tlearn: 0.3138564\ttotal: 416ms\tremaining: 2s\n",
      "172:\tlearn: 0.3135980\ttotal: 418ms\tremaining: 2s\n",
      "173:\tlearn: 0.3132945\ttotal: 420ms\tremaining: 1.99s\n",
      "174:\tlearn: 0.3129783\ttotal: 422ms\tremaining: 1.99s\n",
      "175:\tlearn: 0.3128147\ttotal: 424ms\tremaining: 1.98s\n",
      "176:\tlearn: 0.3126280\ttotal: 425ms\tremaining: 1.98s\n",
      "177:\tlearn: 0.3123357\ttotal: 427ms\tremaining: 1.97s\n",
      "178:\tlearn: 0.3120990\ttotal: 429ms\tremaining: 1.97s\n",
      "179:\tlearn: 0.3118581\ttotal: 431ms\tremaining: 1.96s\n",
      "180:\tlearn: 0.3115888\ttotal: 433ms\tremaining: 1.96s\n",
      "181:\tlearn: 0.3112971\ttotal: 435ms\tremaining: 1.95s\n",
      "182:\tlearn: 0.3111205\ttotal: 437ms\tremaining: 1.95s\n",
      "183:\tlearn: 0.3109282\ttotal: 438ms\tremaining: 1.94s\n",
      "184:\tlearn: 0.3108275\ttotal: 440ms\tremaining: 1.94s\n",
      "185:\tlearn: 0.3107341\ttotal: 442ms\tremaining: 1.93s\n",
      "186:\tlearn: 0.3105813\ttotal: 443ms\tremaining: 1.93s\n",
      "187:\tlearn: 0.3104138\ttotal: 445ms\tremaining: 1.92s\n",
      "188:\tlearn: 0.3101662\ttotal: 447ms\tremaining: 1.92s\n",
      "189:\tlearn: 0.3100189\ttotal: 448ms\tremaining: 1.91s\n",
      "190:\tlearn: 0.3098691\ttotal: 450ms\tremaining: 1.91s\n",
      "191:\tlearn: 0.3096191\ttotal: 452ms\tremaining: 1.9s\n",
      "192:\tlearn: 0.3093435\ttotal: 453ms\tremaining: 1.9s\n",
      "193:\tlearn: 0.3092166\ttotal: 455ms\tremaining: 1.89s\n",
      "194:\tlearn: 0.3089537\ttotal: 456ms\tremaining: 1.88s\n",
      "195:\tlearn: 0.3088726\ttotal: 458ms\tremaining: 1.88s\n",
      "196:\tlearn: 0.3087385\ttotal: 460ms\tremaining: 1.87s\n",
      "197:\tlearn: 0.3085316\ttotal: 461ms\tremaining: 1.87s\n",
      "198:\tlearn: 0.3084400\ttotal: 463ms\tremaining: 1.86s\n",
      "199:\tlearn: 0.3082842\ttotal: 464ms\tremaining: 1.86s\n",
      "200:\tlearn: 0.3082010\ttotal: 466ms\tremaining: 1.85s\n",
      "201:\tlearn: 0.3080151\ttotal: 468ms\tremaining: 1.85s\n",
      "202:\tlearn: 0.3079243\ttotal: 469ms\tremaining: 1.84s\n",
      "203:\tlearn: 0.3078684\ttotal: 471ms\tremaining: 1.84s\n",
      "204:\tlearn: 0.3076842\ttotal: 472ms\tremaining: 1.83s\n",
      "205:\tlearn: 0.3075612\ttotal: 474ms\tremaining: 1.83s\n",
      "206:\tlearn: 0.3073933\ttotal: 476ms\tremaining: 1.82s\n",
      "207:\tlearn: 0.3072226\ttotal: 477ms\tremaining: 1.82s\n",
      "208:\tlearn: 0.3071229\ttotal: 478ms\tremaining: 1.81s\n",
      "209:\tlearn: 0.3069726\ttotal: 480ms\tremaining: 1.8s\n",
      "210:\tlearn: 0.3067940\ttotal: 482ms\tremaining: 1.8s\n",
      "211:\tlearn: 0.3066279\ttotal: 483ms\tremaining: 1.8s\n",
      "212:\tlearn: 0.3065064\ttotal: 485ms\tremaining: 1.79s\n",
      "213:\tlearn: 0.3062581\ttotal: 487ms\tremaining: 1.79s\n",
      "214:\tlearn: 0.3061060\ttotal: 488ms\tremaining: 1.78s\n",
      "215:\tlearn: 0.3059617\ttotal: 490ms\tremaining: 1.78s\n",
      "216:\tlearn: 0.3058231\ttotal: 491ms\tremaining: 1.77s\n",
      "217:\tlearn: 0.3055707\ttotal: 493ms\tremaining: 1.77s\n",
      "218:\tlearn: 0.3054394\ttotal: 494ms\tremaining: 1.76s\n",
      "219:\tlearn: 0.3052703\ttotal: 496ms\tremaining: 1.76s\n",
      "220:\tlearn: 0.3050958\ttotal: 498ms\tremaining: 1.75s\n",
      "221:\tlearn: 0.3049241\ttotal: 499ms\tremaining: 1.75s\n",
      "222:\tlearn: 0.3046849\ttotal: 501ms\tremaining: 1.74s\n",
      "223:\tlearn: 0.3046252\ttotal: 502ms\tremaining: 1.74s\n",
      "224:\tlearn: 0.3044185\ttotal: 504ms\tremaining: 1.74s\n",
      "225:\tlearn: 0.3042556\ttotal: 506ms\tremaining: 1.73s\n",
      "226:\tlearn: 0.3040900\ttotal: 507ms\tremaining: 1.73s\n",
      "227:\tlearn: 0.3039888\ttotal: 509ms\tremaining: 1.72s\n",
      "228:\tlearn: 0.3037766\ttotal: 510ms\tremaining: 1.72s\n",
      "229:\tlearn: 0.3036478\ttotal: 512ms\tremaining: 1.71s\n",
      "230:\tlearn: 0.3033370\ttotal: 514ms\tremaining: 1.71s\n",
      "231:\tlearn: 0.3032396\ttotal: 515ms\tremaining: 1.71s\n",
      "232:\tlearn: 0.3030954\ttotal: 517ms\tremaining: 1.7s\n",
      "233:\tlearn: 0.3029586\ttotal: 518ms\tremaining: 1.7s\n",
      "234:\tlearn: 0.3027816\ttotal: 520ms\tremaining: 1.69s\n",
      "235:\tlearn: 0.3025671\ttotal: 521ms\tremaining: 1.69s\n",
      "236:\tlearn: 0.3024314\ttotal: 523ms\tremaining: 1.68s\n",
      "237:\tlearn: 0.3022839\ttotal: 525ms\tremaining: 1.68s\n",
      "238:\tlearn: 0.3020944\ttotal: 526ms\tremaining: 1.68s\n",
      "239:\tlearn: 0.3019978\ttotal: 528ms\tremaining: 1.67s\n",
      "240:\tlearn: 0.3018428\ttotal: 529ms\tremaining: 1.67s\n",
      "241:\tlearn: 0.3016963\ttotal: 531ms\tremaining: 1.66s\n",
      "242:\tlearn: 0.3015200\ttotal: 533ms\tremaining: 1.66s\n",
      "243:\tlearn: 0.3013427\ttotal: 534ms\tremaining: 1.66s\n",
      "244:\tlearn: 0.3011330\ttotal: 536ms\tremaining: 1.65s\n",
      "245:\tlearn: 0.3009707\ttotal: 538ms\tremaining: 1.65s\n",
      "246:\tlearn: 0.3006698\ttotal: 539ms\tremaining: 1.64s\n",
      "247:\tlearn: 0.3005160\ttotal: 541ms\tremaining: 1.64s\n",
      "248:\tlearn: 0.3004090\ttotal: 542ms\tremaining: 1.64s\n",
      "249:\tlearn: 0.3002935\ttotal: 544ms\tremaining: 1.63s\n",
      "250:\tlearn: 0.3000929\ttotal: 546ms\tremaining: 1.63s\n",
      "251:\tlearn: 0.2998961\ttotal: 547ms\tremaining: 1.62s\n",
      "252:\tlearn: 0.2997991\ttotal: 549ms\tremaining: 1.62s\n",
      "253:\tlearn: 0.2996861\ttotal: 550ms\tremaining: 1.62s\n",
      "254:\tlearn: 0.2996146\ttotal: 552ms\tremaining: 1.61s\n",
      "255:\tlearn: 0.2995168\ttotal: 554ms\tremaining: 1.61s\n",
      "256:\tlearn: 0.2993590\ttotal: 555ms\tremaining: 1.6s\n",
      "257:\tlearn: 0.2991949\ttotal: 557ms\tremaining: 1.6s\n",
      "258:\tlearn: 0.2990978\ttotal: 558ms\tremaining: 1.6s\n",
      "259:\tlearn: 0.2989536\ttotal: 560ms\tremaining: 1.59s\n",
      "260:\tlearn: 0.2988073\ttotal: 562ms\tremaining: 1.59s\n",
      "261:\tlearn: 0.2986979\ttotal: 563ms\tremaining: 1.59s\n",
      "262:\tlearn: 0.2985589\ttotal: 565ms\tremaining: 1.58s\n",
      "263:\tlearn: 0.2983963\ttotal: 566ms\tremaining: 1.58s\n",
      "264:\tlearn: 0.2982909\ttotal: 568ms\tremaining: 1.57s\n",
      "265:\tlearn: 0.2981123\ttotal: 569ms\tremaining: 1.57s\n",
      "266:\tlearn: 0.2979467\ttotal: 571ms\tremaining: 1.57s\n",
      "267:\tlearn: 0.2977006\ttotal: 573ms\tremaining: 1.56s\n",
      "268:\tlearn: 0.2974931\ttotal: 574ms\tremaining: 1.56s\n",
      "269:\tlearn: 0.2974165\ttotal: 576ms\tremaining: 1.56s\n",
      "270:\tlearn: 0.2972660\ttotal: 577ms\tremaining: 1.55s\n",
      "271:\tlearn: 0.2971109\ttotal: 579ms\tremaining: 1.55s\n",
      "272:\tlearn: 0.2969879\ttotal: 581ms\tremaining: 1.55s\n",
      "273:\tlearn: 0.2968880\ttotal: 582ms\tremaining: 1.54s\n",
      "274:\tlearn: 0.2967352\ttotal: 584ms\tremaining: 1.54s\n",
      "275:\tlearn: 0.2965665\ttotal: 586ms\tremaining: 1.54s\n",
      "276:\tlearn: 0.2964396\ttotal: 587ms\tremaining: 1.53s\n",
      "277:\tlearn: 0.2963823\ttotal: 589ms\tremaining: 1.53s\n",
      "278:\tlearn: 0.2961972\ttotal: 590ms\tremaining: 1.52s\n",
      "279:\tlearn: 0.2960654\ttotal: 592ms\tremaining: 1.52s\n",
      "280:\tlearn: 0.2959635\ttotal: 593ms\tremaining: 1.52s\n",
      "281:\tlearn: 0.2957481\ttotal: 595ms\tremaining: 1.51s\n",
      "282:\tlearn: 0.2956619\ttotal: 597ms\tremaining: 1.51s\n",
      "283:\tlearn: 0.2955513\ttotal: 598ms\tremaining: 1.51s\n",
      "284:\tlearn: 0.2954123\ttotal: 600ms\tremaining: 1.5s\n",
      "285:\tlearn: 0.2953089\ttotal: 602ms\tremaining: 1.5s\n",
      "286:\tlearn: 0.2951546\ttotal: 603ms\tremaining: 1.5s\n",
      "287:\tlearn: 0.2950618\ttotal: 605ms\tremaining: 1.5s\n",
      "288:\tlearn: 0.2949124\ttotal: 606ms\tremaining: 1.49s\n",
      "289:\tlearn: 0.2947630\ttotal: 608ms\tremaining: 1.49s\n",
      "290:\tlearn: 0.2946174\ttotal: 610ms\tremaining: 1.49s\n",
      "291:\tlearn: 0.2944314\ttotal: 612ms\tremaining: 1.48s\n",
      "292:\tlearn: 0.2943213\ttotal: 613ms\tremaining: 1.48s\n",
      "293:\tlearn: 0.2941797\ttotal: 615ms\tremaining: 1.48s\n",
      "294:\tlearn: 0.2940153\ttotal: 617ms\tremaining: 1.47s\n",
      "295:\tlearn: 0.2938457\ttotal: 618ms\tremaining: 1.47s\n",
      "296:\tlearn: 0.2936364\ttotal: 620ms\tremaining: 1.47s\n",
      "297:\tlearn: 0.2934969\ttotal: 621ms\tremaining: 1.46s\n",
      "298:\tlearn: 0.2933278\ttotal: 623ms\tremaining: 1.46s\n",
      "299:\tlearn: 0.2932293\ttotal: 625ms\tremaining: 1.46s\n",
      "300:\tlearn: 0.2930728\ttotal: 626ms\tremaining: 1.45s\n",
      "301:\tlearn: 0.2929713\ttotal: 628ms\tremaining: 1.45s\n",
      "302:\tlearn: 0.2928842\ttotal: 629ms\tremaining: 1.45s\n",
      "303:\tlearn: 0.2928155\ttotal: 631ms\tremaining: 1.44s\n",
      "304:\tlearn: 0.2926003\ttotal: 633ms\tremaining: 1.44s\n",
      "305:\tlearn: 0.2924928\ttotal: 634ms\tremaining: 1.44s\n",
      "306:\tlearn: 0.2923632\ttotal: 636ms\tremaining: 1.44s\n",
      "307:\tlearn: 0.2921815\ttotal: 638ms\tremaining: 1.43s\n",
      "308:\tlearn: 0.2919418\ttotal: 639ms\tremaining: 1.43s\n",
      "309:\tlearn: 0.2916755\ttotal: 641ms\tremaining: 1.43s\n",
      "310:\tlearn: 0.2915455\ttotal: 643ms\tremaining: 1.42s\n",
      "311:\tlearn: 0.2914641\ttotal: 644ms\tremaining: 1.42s\n",
      "312:\tlearn: 0.2913789\ttotal: 646ms\tremaining: 1.42s\n",
      "313:\tlearn: 0.2912530\ttotal: 647ms\tremaining: 1.41s\n",
      "314:\tlearn: 0.2911094\ttotal: 649ms\tremaining: 1.41s\n",
      "315:\tlearn: 0.2909195\ttotal: 651ms\tremaining: 1.41s\n",
      "316:\tlearn: 0.2908396\ttotal: 652ms\tremaining: 1.41s\n",
      "317:\tlearn: 0.2906757\ttotal: 654ms\tremaining: 1.4s\n",
      "318:\tlearn: 0.2905743\ttotal: 656ms\tremaining: 1.4s\n",
      "319:\tlearn: 0.2905054\ttotal: 657ms\tremaining: 1.4s\n",
      "320:\tlearn: 0.2902856\ttotal: 659ms\tremaining: 1.39s\n",
      "321:\tlearn: 0.2901799\ttotal: 660ms\tremaining: 1.39s\n",
      "322:\tlearn: 0.2900338\ttotal: 662ms\tremaining: 1.39s\n",
      "323:\tlearn: 0.2899227\ttotal: 664ms\tremaining: 1.38s\n",
      "324:\tlearn: 0.2898073\ttotal: 665ms\tremaining: 1.38s\n",
      "325:\tlearn: 0.2897346\ttotal: 667ms\tremaining: 1.38s\n",
      "326:\tlearn: 0.2895716\ttotal: 669ms\tremaining: 1.38s\n",
      "327:\tlearn: 0.2894879\ttotal: 670ms\tremaining: 1.37s\n",
      "328:\tlearn: 0.2893607\ttotal: 672ms\tremaining: 1.37s\n",
      "329:\tlearn: 0.2891908\ttotal: 673ms\tremaining: 1.37s\n",
      "330:\tlearn: 0.2890714\ttotal: 675ms\tremaining: 1.36s\n",
      "331:\tlearn: 0.2889892\ttotal: 676ms\tremaining: 1.36s\n",
      "332:\tlearn: 0.2889030\ttotal: 678ms\tremaining: 1.36s\n",
      "333:\tlearn: 0.2888133\ttotal: 679ms\tremaining: 1.35s\n",
      "334:\tlearn: 0.2886962\ttotal: 681ms\tremaining: 1.35s\n",
      "335:\tlearn: 0.2885762\ttotal: 683ms\tremaining: 1.35s\n",
      "336:\tlearn: 0.2884978\ttotal: 684ms\tremaining: 1.35s\n",
      "337:\tlearn: 0.2883081\ttotal: 686ms\tremaining: 1.34s\n",
      "338:\tlearn: 0.2881529\ttotal: 688ms\tremaining: 1.34s\n",
      "339:\tlearn: 0.2880311\ttotal: 689ms\tremaining: 1.34s\n",
      "340:\tlearn: 0.2878826\ttotal: 691ms\tremaining: 1.33s\n",
      "341:\tlearn: 0.2877899\ttotal: 692ms\tremaining: 1.33s\n",
      "342:\tlearn: 0.2876409\ttotal: 694ms\tremaining: 1.33s\n",
      "343:\tlearn: 0.2875392\ttotal: 695ms\tremaining: 1.33s\n",
      "344:\tlearn: 0.2874423\ttotal: 697ms\tremaining: 1.32s\n",
      "345:\tlearn: 0.2872478\ttotal: 699ms\tremaining: 1.32s\n",
      "346:\tlearn: 0.2871430\ttotal: 700ms\tremaining: 1.32s\n",
      "347:\tlearn: 0.2869250\ttotal: 702ms\tremaining: 1.31s\n",
      "348:\tlearn: 0.2867970\ttotal: 703ms\tremaining: 1.31s\n",
      "349:\tlearn: 0.2866562\ttotal: 705ms\tremaining: 1.31s\n",
      "350:\tlearn: 0.2864909\ttotal: 707ms\tremaining: 1.31s\n",
      "351:\tlearn: 0.2863460\ttotal: 708ms\tremaining: 1.3s\n",
      "352:\tlearn: 0.2862509\ttotal: 710ms\tremaining: 1.3s\n",
      "353:\tlearn: 0.2861138\ttotal: 711ms\tremaining: 1.3s\n",
      "354:\tlearn: 0.2860044\ttotal: 713ms\tremaining: 1.29s\n",
      "355:\tlearn: 0.2858704\ttotal: 715ms\tremaining: 1.29s\n",
      "356:\tlearn: 0.2857677\ttotal: 716ms\tremaining: 1.29s\n",
      "357:\tlearn: 0.2856800\ttotal: 718ms\tremaining: 1.29s\n",
      "358:\tlearn: 0.2855144\ttotal: 719ms\tremaining: 1.28s\n",
      "359:\tlearn: 0.2854086\ttotal: 721ms\tremaining: 1.28s\n",
      "360:\tlearn: 0.2852743\ttotal: 723ms\tremaining: 1.28s\n",
      "361:\tlearn: 0.2851501\ttotal: 724ms\tremaining: 1.28s\n",
      "362:\tlearn: 0.2850002\ttotal: 726ms\tremaining: 1.27s\n",
      "363:\tlearn: 0.2848969\ttotal: 728ms\tremaining: 1.27s\n",
      "364:\tlearn: 0.2847420\ttotal: 729ms\tremaining: 1.27s\n",
      "365:\tlearn: 0.2845650\ttotal: 731ms\tremaining: 1.27s\n",
      "366:\tlearn: 0.2844867\ttotal: 733ms\tremaining: 1.26s\n",
      "367:\tlearn: 0.2843839\ttotal: 734ms\tremaining: 1.26s\n",
      "368:\tlearn: 0.2843129\ttotal: 736ms\tremaining: 1.26s\n",
      "369:\tlearn: 0.2841117\ttotal: 737ms\tremaining: 1.25s\n",
      "370:\tlearn: 0.2839580\ttotal: 739ms\tremaining: 1.25s\n",
      "371:\tlearn: 0.2838523\ttotal: 741ms\tremaining: 1.25s\n",
      "372:\tlearn: 0.2837744\ttotal: 742ms\tremaining: 1.25s\n",
      "373:\tlearn: 0.2836534\ttotal: 744ms\tremaining: 1.24s\n",
      "374:\tlearn: 0.2835457\ttotal: 745ms\tremaining: 1.24s\n",
      "375:\tlearn: 0.2834452\ttotal: 747ms\tremaining: 1.24s\n",
      "376:\tlearn: 0.2833779\ttotal: 748ms\tremaining: 1.24s\n",
      "377:\tlearn: 0.2832222\ttotal: 750ms\tremaining: 1.23s\n",
      "378:\tlearn: 0.2831607\ttotal: 752ms\tremaining: 1.23s\n",
      "379:\tlearn: 0.2829849\ttotal: 753ms\tremaining: 1.23s\n",
      "380:\tlearn: 0.2829032\ttotal: 755ms\tremaining: 1.23s\n",
      "381:\tlearn: 0.2827905\ttotal: 756ms\tremaining: 1.22s\n",
      "382:\tlearn: 0.2826259\ttotal: 758ms\tremaining: 1.22s\n",
      "383:\tlearn: 0.2824857\ttotal: 760ms\tremaining: 1.22s\n",
      "384:\tlearn: 0.2823615\ttotal: 761ms\tremaining: 1.22s\n",
      "385:\tlearn: 0.2821762\ttotal: 763ms\tremaining: 1.21s\n",
      "386:\tlearn: 0.2820780\ttotal: 764ms\tremaining: 1.21s\n",
      "387:\tlearn: 0.2820145\ttotal: 766ms\tremaining: 1.21s\n",
      "388:\tlearn: 0.2818301\ttotal: 768ms\tremaining: 1.21s\n",
      "389:\tlearn: 0.2816566\ttotal: 769ms\tremaining: 1.2s\n",
      "390:\tlearn: 0.2815956\ttotal: 771ms\tremaining: 1.2s\n",
      "391:\tlearn: 0.2814718\ttotal: 772ms\tremaining: 1.2s\n",
      "392:\tlearn: 0.2813758\ttotal: 774ms\tremaining: 1.2s\n",
      "393:\tlearn: 0.2812708\ttotal: 776ms\tremaining: 1.19s\n",
      "394:\tlearn: 0.2811375\ttotal: 777ms\tremaining: 1.19s\n",
      "395:\tlearn: 0.2810470\ttotal: 779ms\tremaining: 1.19s\n",
      "396:\tlearn: 0.2809126\ttotal: 780ms\tremaining: 1.19s\n",
      "397:\tlearn: 0.2808819\ttotal: 782ms\tremaining: 1.18s\n",
      "398:\tlearn: 0.2807798\ttotal: 783ms\tremaining: 1.18s\n",
      "399:\tlearn: 0.2806522\ttotal: 785ms\tremaining: 1.18s\n",
      "400:\tlearn: 0.2805663\ttotal: 787ms\tremaining: 1.17s\n",
      "401:\tlearn: 0.2804811\ttotal: 788ms\tremaining: 1.17s\n",
      "402:\tlearn: 0.2803828\ttotal: 790ms\tremaining: 1.17s\n",
      "403:\tlearn: 0.2802928\ttotal: 792ms\tremaining: 1.17s\n"
     ]
    },
    {
     "name": "stdout",
     "output_type": "stream",
     "text": [
      "404:\tlearn: 0.2801360\ttotal: 793ms\tremaining: 1.17s\n",
      "405:\tlearn: 0.2799378\ttotal: 795ms\tremaining: 1.16s\n",
      "406:\tlearn: 0.2797635\ttotal: 797ms\tremaining: 1.16s\n",
      "407:\tlearn: 0.2796823\ttotal: 798ms\tremaining: 1.16s\n",
      "408:\tlearn: 0.2795549\ttotal: 800ms\tremaining: 1.16s\n",
      "409:\tlearn: 0.2794079\ttotal: 801ms\tremaining: 1.15s\n",
      "410:\tlearn: 0.2793387\ttotal: 803ms\tremaining: 1.15s\n",
      "411:\tlearn: 0.2792091\ttotal: 805ms\tremaining: 1.15s\n",
      "412:\tlearn: 0.2791267\ttotal: 806ms\tremaining: 1.15s\n",
      "413:\tlearn: 0.2789319\ttotal: 808ms\tremaining: 1.14s\n",
      "414:\tlearn: 0.2787814\ttotal: 810ms\tremaining: 1.14s\n",
      "415:\tlearn: 0.2787071\ttotal: 811ms\tremaining: 1.14s\n",
      "416:\tlearn: 0.2785558\ttotal: 813ms\tremaining: 1.14s\n",
      "417:\tlearn: 0.2784680\ttotal: 815ms\tremaining: 1.13s\n",
      "418:\tlearn: 0.2782870\ttotal: 816ms\tremaining: 1.13s\n",
      "419:\tlearn: 0.2781831\ttotal: 818ms\tremaining: 1.13s\n",
      "420:\tlearn: 0.2780308\ttotal: 820ms\tremaining: 1.13s\n",
      "421:\tlearn: 0.2779275\ttotal: 822ms\tremaining: 1.13s\n",
      "422:\tlearn: 0.2777973\ttotal: 824ms\tremaining: 1.12s\n",
      "423:\tlearn: 0.2776558\ttotal: 825ms\tremaining: 1.12s\n",
      "424:\tlearn: 0.2775408\ttotal: 827ms\tremaining: 1.12s\n",
      "425:\tlearn: 0.2773930\ttotal: 829ms\tremaining: 1.12s\n",
      "426:\tlearn: 0.2772977\ttotal: 830ms\tremaining: 1.11s\n",
      "427:\tlearn: 0.2771292\ttotal: 832ms\tremaining: 1.11s\n",
      "428:\tlearn: 0.2769485\ttotal: 833ms\tremaining: 1.11s\n",
      "429:\tlearn: 0.2768500\ttotal: 835ms\tremaining: 1.11s\n",
      "430:\tlearn: 0.2767498\ttotal: 837ms\tremaining: 1.1s\n",
      "431:\tlearn: 0.2766003\ttotal: 838ms\tremaining: 1.1s\n",
      "432:\tlearn: 0.2764605\ttotal: 840ms\tremaining: 1.1s\n",
      "433:\tlearn: 0.2763662\ttotal: 841ms\tremaining: 1.1s\n",
      "434:\tlearn: 0.2763189\ttotal: 843ms\tremaining: 1.09s\n",
      "435:\tlearn: 0.2761970\ttotal: 845ms\tremaining: 1.09s\n",
      "436:\tlearn: 0.2760563\ttotal: 846ms\tremaining: 1.09s\n",
      "437:\tlearn: 0.2759470\ttotal: 848ms\tremaining: 1.09s\n",
      "438:\tlearn: 0.2757306\ttotal: 849ms\tremaining: 1.08s\n",
      "439:\tlearn: 0.2756175\ttotal: 851ms\tremaining: 1.08s\n",
      "440:\tlearn: 0.2754706\ttotal: 853ms\tremaining: 1.08s\n",
      "441:\tlearn: 0.2753837\ttotal: 854ms\tremaining: 1.08s\n",
      "442:\tlearn: 0.2752265\ttotal: 856ms\tremaining: 1.07s\n",
      "443:\tlearn: 0.2751021\ttotal: 857ms\tremaining: 1.07s\n",
      "444:\tlearn: 0.2749771\ttotal: 859ms\tremaining: 1.07s\n",
      "445:\tlearn: 0.2748386\ttotal: 861ms\tremaining: 1.07s\n",
      "446:\tlearn: 0.2746971\ttotal: 862ms\tremaining: 1.07s\n",
      "447:\tlearn: 0.2745602\ttotal: 864ms\tremaining: 1.06s\n",
      "448:\tlearn: 0.2744581\ttotal: 865ms\tremaining: 1.06s\n",
      "449:\tlearn: 0.2743415\ttotal: 867ms\tremaining: 1.06s\n",
      "450:\tlearn: 0.2742417\ttotal: 868ms\tremaining: 1.06s\n",
      "451:\tlearn: 0.2741100\ttotal: 870ms\tremaining: 1.05s\n",
      "452:\tlearn: 0.2739923\ttotal: 872ms\tremaining: 1.05s\n",
      "453:\tlearn: 0.2738720\ttotal: 873ms\tremaining: 1.05s\n",
      "454:\tlearn: 0.2736979\ttotal: 875ms\tremaining: 1.05s\n",
      "455:\tlearn: 0.2735762\ttotal: 877ms\tremaining: 1.04s\n",
      "456:\tlearn: 0.2734731\ttotal: 878ms\tremaining: 1.04s\n",
      "457:\tlearn: 0.2733455\ttotal: 880ms\tremaining: 1.04s\n",
      "458:\tlearn: 0.2731489\ttotal: 881ms\tremaining: 1.04s\n",
      "459:\tlearn: 0.2729818\ttotal: 883ms\tremaining: 1.04s\n",
      "460:\tlearn: 0.2728432\ttotal: 885ms\tremaining: 1.03s\n",
      "461:\tlearn: 0.2727307\ttotal: 887ms\tremaining: 1.03s\n",
      "462:\tlearn: 0.2726188\ttotal: 889ms\tremaining: 1.03s\n",
      "463:\tlearn: 0.2725019\ttotal: 890ms\tremaining: 1.03s\n",
      "464:\tlearn: 0.2723646\ttotal: 892ms\tremaining: 1.03s\n",
      "465:\tlearn: 0.2721805\ttotal: 894ms\tremaining: 1.02s\n",
      "466:\tlearn: 0.2720910\ttotal: 896ms\tremaining: 1.02s\n",
      "467:\tlearn: 0.2719657\ttotal: 897ms\tremaining: 1.02s\n",
      "468:\tlearn: 0.2718083\ttotal: 899ms\tremaining: 1.02s\n",
      "469:\tlearn: 0.2716925\ttotal: 901ms\tremaining: 1.02s\n",
      "470:\tlearn: 0.2715879\ttotal: 903ms\tremaining: 1.01s\n",
      "471:\tlearn: 0.2714661\ttotal: 905ms\tremaining: 1.01s\n",
      "472:\tlearn: 0.2712508\ttotal: 907ms\tremaining: 1.01s\n",
      "473:\tlearn: 0.2711396\ttotal: 909ms\tremaining: 1.01s\n",
      "474:\tlearn: 0.2710558\ttotal: 910ms\tremaining: 1.01s\n",
      "475:\tlearn: 0.2709742\ttotal: 912ms\tremaining: 1s\n",
      "476:\tlearn: 0.2708716\ttotal: 914ms\tremaining: 1s\n",
      "477:\tlearn: 0.2707284\ttotal: 916ms\tremaining: 1s\n",
      "478:\tlearn: 0.2706307\ttotal: 918ms\tremaining: 998ms\n",
      "479:\tlearn: 0.2705309\ttotal: 920ms\tremaining: 996ms\n",
      "480:\tlearn: 0.2704291\ttotal: 921ms\tremaining: 994ms\n",
      "481:\tlearn: 0.2702075\ttotal: 923ms\tremaining: 992ms\n",
      "482:\tlearn: 0.2700884\ttotal: 925ms\tremaining: 990ms\n",
      "483:\tlearn: 0.2699402\ttotal: 927ms\tremaining: 988ms\n",
      "484:\tlearn: 0.2698407\ttotal: 929ms\tremaining: 986ms\n",
      "485:\tlearn: 0.2697563\ttotal: 931ms\tremaining: 984ms\n",
      "486:\tlearn: 0.2696193\ttotal: 932ms\tremaining: 982ms\n",
      "487:\tlearn: 0.2695290\ttotal: 934ms\tremaining: 980ms\n",
      "488:\tlearn: 0.2694412\ttotal: 936ms\tremaining: 978ms\n",
      "489:\tlearn: 0.2693654\ttotal: 938ms\tremaining: 976ms\n",
      "490:\tlearn: 0.2692989\ttotal: 940ms\tremaining: 974ms\n",
      "491:\tlearn: 0.2692248\ttotal: 942ms\tremaining: 972ms\n",
      "492:\tlearn: 0.2691027\ttotal: 944ms\tremaining: 970ms\n",
      "493:\tlearn: 0.2689895\ttotal: 946ms\tremaining: 969ms\n",
      "494:\tlearn: 0.2688437\ttotal: 948ms\tremaining: 967ms\n",
      "495:\tlearn: 0.2687421\ttotal: 949ms\tremaining: 965ms\n",
      "496:\tlearn: 0.2686476\ttotal: 951ms\tremaining: 963ms\n",
      "497:\tlearn: 0.2685046\ttotal: 953ms\tremaining: 961ms\n",
      "498:\tlearn: 0.2683818\ttotal: 955ms\tremaining: 959ms\n",
      "499:\tlearn: 0.2682380\ttotal: 957ms\tremaining: 957ms\n",
      "500:\tlearn: 0.2681231\ttotal: 959ms\tremaining: 955ms\n",
      "501:\tlearn: 0.2680349\ttotal: 961ms\tremaining: 953ms\n",
      "502:\tlearn: 0.2678937\ttotal: 963ms\tremaining: 951ms\n",
      "503:\tlearn: 0.2677237\ttotal: 965ms\tremaining: 949ms\n",
      "504:\tlearn: 0.2675953\ttotal: 966ms\tremaining: 947ms\n",
      "505:\tlearn: 0.2674847\ttotal: 968ms\tremaining: 945ms\n",
      "506:\tlearn: 0.2674132\ttotal: 970ms\tremaining: 943ms\n",
      "507:\tlearn: 0.2673307\ttotal: 972ms\tremaining: 941ms\n",
      "508:\tlearn: 0.2672255\ttotal: 973ms\tremaining: 939ms\n",
      "509:\tlearn: 0.2670947\ttotal: 975ms\tremaining: 937ms\n",
      "510:\tlearn: 0.2669922\ttotal: 977ms\tremaining: 935ms\n",
      "511:\tlearn: 0.2668225\ttotal: 979ms\tremaining: 933ms\n",
      "512:\tlearn: 0.2667072\ttotal: 981ms\tremaining: 931ms\n",
      "513:\tlearn: 0.2665950\ttotal: 983ms\tremaining: 929ms\n",
      "514:\tlearn: 0.2664118\ttotal: 984ms\tremaining: 927ms\n",
      "515:\tlearn: 0.2663064\ttotal: 986ms\tremaining: 925ms\n",
      "516:\tlearn: 0.2661544\ttotal: 988ms\tremaining: 923ms\n",
      "517:\tlearn: 0.2660356\ttotal: 990ms\tremaining: 921ms\n",
      "518:\tlearn: 0.2659349\ttotal: 992ms\tremaining: 919ms\n",
      "519:\tlearn: 0.2657670\ttotal: 994ms\tremaining: 917ms\n",
      "520:\tlearn: 0.2655762\ttotal: 995ms\tremaining: 915ms\n",
      "521:\tlearn: 0.2653643\ttotal: 997ms\tremaining: 913ms\n",
      "522:\tlearn: 0.2651782\ttotal: 999ms\tremaining: 911ms\n",
      "523:\tlearn: 0.2650184\ttotal: 1s\tremaining: 909ms\n",
      "524:\tlearn: 0.2648941\ttotal: 1s\tremaining: 907ms\n",
      "525:\tlearn: 0.2648120\ttotal: 1s\tremaining: 905ms\n",
      "526:\tlearn: 0.2647455\ttotal: 1.01s\tremaining: 903ms\n",
      "527:\tlearn: 0.2645991\ttotal: 1.01s\tremaining: 901ms\n",
      "528:\tlearn: 0.2644941\ttotal: 1.01s\tremaining: 899ms\n",
      "529:\tlearn: 0.2643871\ttotal: 1.01s\tremaining: 897ms\n",
      "530:\tlearn: 0.2642741\ttotal: 1.01s\tremaining: 895ms\n",
      "531:\tlearn: 0.2640865\ttotal: 1.01s\tremaining: 893ms\n",
      "532:\tlearn: 0.2639134\ttotal: 1.02s\tremaining: 892ms\n",
      "533:\tlearn: 0.2638013\ttotal: 1.02s\tremaining: 890ms\n",
      "534:\tlearn: 0.2635906\ttotal: 1.02s\tremaining: 888ms\n",
      "535:\tlearn: 0.2634881\ttotal: 1.02s\tremaining: 886ms\n",
      "536:\tlearn: 0.2633859\ttotal: 1.02s\tremaining: 884ms\n",
      "537:\tlearn: 0.2631959\ttotal: 1.03s\tremaining: 882ms\n",
      "538:\tlearn: 0.2631195\ttotal: 1.03s\tremaining: 880ms\n",
      "539:\tlearn: 0.2629990\ttotal: 1.03s\tremaining: 878ms\n",
      "540:\tlearn: 0.2629357\ttotal: 1.03s\tremaining: 876ms\n",
      "541:\tlearn: 0.2628260\ttotal: 1.03s\tremaining: 874ms\n",
      "542:\tlearn: 0.2626756\ttotal: 1.04s\tremaining: 872ms\n",
      "543:\tlearn: 0.2625882\ttotal: 1.04s\tremaining: 870ms\n",
      "544:\tlearn: 0.2624641\ttotal: 1.04s\tremaining: 868ms\n",
      "545:\tlearn: 0.2623506\ttotal: 1.04s\tremaining: 866ms\n",
      "546:\tlearn: 0.2621838\ttotal: 1.04s\tremaining: 864ms\n",
      "547:\tlearn: 0.2619740\ttotal: 1.04s\tremaining: 862ms\n",
      "548:\tlearn: 0.2618828\ttotal: 1.05s\tremaining: 860ms\n",
      "549:\tlearn: 0.2617588\ttotal: 1.05s\tremaining: 858ms\n",
      "550:\tlearn: 0.2616166\ttotal: 1.05s\tremaining: 856ms\n",
      "551:\tlearn: 0.2615240\ttotal: 1.05s\tremaining: 854ms\n",
      "552:\tlearn: 0.2614324\ttotal: 1.05s\tremaining: 852ms\n",
      "553:\tlearn: 0.2613260\ttotal: 1.05s\tremaining: 850ms\n",
      "554:\tlearn: 0.2612216\ttotal: 1.06s\tremaining: 848ms\n",
      "555:\tlearn: 0.2611225\ttotal: 1.06s\tremaining: 846ms\n",
      "556:\tlearn: 0.2610214\ttotal: 1.06s\tremaining: 844ms\n",
      "557:\tlearn: 0.2608602\ttotal: 1.06s\tremaining: 841ms\n",
      "558:\tlearn: 0.2607618\ttotal: 1.06s\tremaining: 839ms\n",
      "559:\tlearn: 0.2606665\ttotal: 1.06s\tremaining: 837ms\n",
      "560:\tlearn: 0.2605781\ttotal: 1.07s\tremaining: 835ms\n",
      "561:\tlearn: 0.2604334\ttotal: 1.07s\tremaining: 833ms\n",
      "562:\tlearn: 0.2603084\ttotal: 1.07s\tremaining: 831ms\n",
      "563:\tlearn: 0.2601936\ttotal: 1.07s\tremaining: 829ms\n",
      "564:\tlearn: 0.2601253\ttotal: 1.07s\tremaining: 827ms\n",
      "565:\tlearn: 0.2600307\ttotal: 1.07s\tremaining: 824ms\n",
      "566:\tlearn: 0.2599757\ttotal: 1.08s\tremaining: 822ms\n",
      "567:\tlearn: 0.2598587\ttotal: 1.08s\tremaining: 820ms\n",
      "568:\tlearn: 0.2597209\ttotal: 1.08s\tremaining: 818ms\n",
      "569:\tlearn: 0.2595863\ttotal: 1.08s\tremaining: 816ms\n",
      "570:\tlearn: 0.2594668\ttotal: 1.08s\tremaining: 814ms\n",
      "571:\tlearn: 0.2592689\ttotal: 1.08s\tremaining: 812ms\n",
      "572:\tlearn: 0.2591755\ttotal: 1.09s\tremaining: 810ms\n",
      "573:\tlearn: 0.2590805\ttotal: 1.09s\tremaining: 808ms\n",
      "574:\tlearn: 0.2590076\ttotal: 1.09s\tremaining: 806ms\n",
      "575:\tlearn: 0.2588522\ttotal: 1.09s\tremaining: 803ms\n",
      "576:\tlearn: 0.2586806\ttotal: 1.09s\tremaining: 801ms\n",
      "577:\tlearn: 0.2585898\ttotal: 1.09s\tremaining: 799ms\n",
      "578:\tlearn: 0.2584755\ttotal: 1.1s\tremaining: 797ms\n",
      "579:\tlearn: 0.2583914\ttotal: 1.1s\tremaining: 795ms\n",
      "580:\tlearn: 0.2582268\ttotal: 1.1s\tremaining: 793ms\n",
      "581:\tlearn: 0.2581435\ttotal: 1.1s\tremaining: 791ms\n",
      "582:\tlearn: 0.2580668\ttotal: 1.1s\tremaining: 789ms\n",
      "583:\tlearn: 0.2578617\ttotal: 1.1s\tremaining: 787ms\n",
      "584:\tlearn: 0.2577051\ttotal: 1.11s\tremaining: 785ms\n",
      "585:\tlearn: 0.2576102\ttotal: 1.11s\tremaining: 783ms\n",
      "586:\tlearn: 0.2575119\ttotal: 1.11s\tremaining: 781ms\n",
      "587:\tlearn: 0.2574020\ttotal: 1.11s\tremaining: 779ms\n",
      "588:\tlearn: 0.2572900\ttotal: 1.11s\tremaining: 777ms\n",
      "589:\tlearn: 0.2571308\ttotal: 1.11s\tremaining: 775ms\n",
      "590:\tlearn: 0.2570237\ttotal: 1.12s\tremaining: 773ms\n",
      "591:\tlearn: 0.2569210\ttotal: 1.12s\tremaining: 771ms\n",
      "592:\tlearn: 0.2567893\ttotal: 1.12s\tremaining: 769ms\n",
      "593:\tlearn: 0.2566967\ttotal: 1.12s\tremaining: 767ms\n",
      "594:\tlearn: 0.2565937\ttotal: 1.12s\tremaining: 765ms\n",
      "595:\tlearn: 0.2565117\ttotal: 1.13s\tremaining: 763ms\n",
      "596:\tlearn: 0.2563188\ttotal: 1.13s\tremaining: 761ms\n",
      "597:\tlearn: 0.2562331\ttotal: 1.13s\tremaining: 759ms\n",
      "598:\tlearn: 0.2561110\ttotal: 1.13s\tremaining: 757ms\n",
      "599:\tlearn: 0.2560178\ttotal: 1.13s\tremaining: 755ms\n",
      "600:\tlearn: 0.2559063\ttotal: 1.13s\tremaining: 753ms\n",
      "601:\tlearn: 0.2558023\ttotal: 1.14s\tremaining: 751ms\n",
      "602:\tlearn: 0.2556968\ttotal: 1.14s\tremaining: 749ms\n",
      "603:\tlearn: 0.2554956\ttotal: 1.14s\tremaining: 747ms\n",
      "604:\tlearn: 0.2553911\ttotal: 1.14s\tremaining: 745ms\n",
      "605:\tlearn: 0.2553134\ttotal: 1.14s\tremaining: 744ms\n",
      "606:\tlearn: 0.2551561\ttotal: 1.15s\tremaining: 742ms\n",
      "607:\tlearn: 0.2550338\ttotal: 1.15s\tremaining: 740ms\n",
      "608:\tlearn: 0.2549682\ttotal: 1.15s\tremaining: 738ms\n",
      "609:\tlearn: 0.2548107\ttotal: 1.15s\tremaining: 736ms\n",
      "610:\tlearn: 0.2547130\ttotal: 1.15s\tremaining: 734ms\n",
      "611:\tlearn: 0.2546317\ttotal: 1.15s\tremaining: 732ms\n",
      "612:\tlearn: 0.2545194\ttotal: 1.16s\tremaining: 730ms\n",
      "613:\tlearn: 0.2544248\ttotal: 1.16s\tremaining: 728ms\n",
      "614:\tlearn: 0.2542785\ttotal: 1.16s\tremaining: 727ms\n",
      "615:\tlearn: 0.2541769\ttotal: 1.16s\tremaining: 725ms\n",
      "616:\tlearn: 0.2541143\ttotal: 1.16s\tremaining: 723ms\n",
      "617:\tlearn: 0.2540259\ttotal: 1.17s\tremaining: 721ms\n",
      "618:\tlearn: 0.2539298\ttotal: 1.17s\tremaining: 719ms\n",
      "619:\tlearn: 0.2538115\ttotal: 1.17s\tremaining: 717ms\n",
      "620:\tlearn: 0.2537446\ttotal: 1.17s\tremaining: 715ms\n",
      "621:\tlearn: 0.2536641\ttotal: 1.17s\tremaining: 713ms\n",
      "622:\tlearn: 0.2535807\ttotal: 1.18s\tremaining: 711ms\n",
      "623:\tlearn: 0.2535026\ttotal: 1.18s\tremaining: 709ms\n",
      "624:\tlearn: 0.2533663\ttotal: 1.18s\tremaining: 708ms\n",
      "625:\tlearn: 0.2532746\ttotal: 1.18s\tremaining: 706ms\n",
      "626:\tlearn: 0.2531553\ttotal: 1.18s\tremaining: 704ms\n"
     ]
    },
    {
     "name": "stdout",
     "output_type": "stream",
     "text": [
      "627:\tlearn: 0.2529678\ttotal: 1.19s\tremaining: 702ms\n",
      "628:\tlearn: 0.2528976\ttotal: 1.19s\tremaining: 700ms\n",
      "629:\tlearn: 0.2527662\ttotal: 1.19s\tremaining: 698ms\n",
      "630:\tlearn: 0.2526509\ttotal: 1.19s\tremaining: 696ms\n",
      "631:\tlearn: 0.2525491\ttotal: 1.19s\tremaining: 694ms\n",
      "632:\tlearn: 0.2524308\ttotal: 1.19s\tremaining: 692ms\n",
      "633:\tlearn: 0.2523541\ttotal: 1.2s\tremaining: 690ms\n",
      "634:\tlearn: 0.2522764\ttotal: 1.2s\tremaining: 688ms\n",
      "635:\tlearn: 0.2521614\ttotal: 1.2s\tremaining: 686ms\n",
      "636:\tlearn: 0.2520548\ttotal: 1.2s\tremaining: 684ms\n",
      "637:\tlearn: 0.2519728\ttotal: 1.2s\tremaining: 682ms\n",
      "638:\tlearn: 0.2519125\ttotal: 1.2s\tremaining: 680ms\n",
      "639:\tlearn: 0.2517898\ttotal: 1.21s\tremaining: 678ms\n",
      "640:\tlearn: 0.2517074\ttotal: 1.21s\tremaining: 677ms\n",
      "641:\tlearn: 0.2515414\ttotal: 1.21s\tremaining: 675ms\n",
      "642:\tlearn: 0.2514116\ttotal: 1.21s\tremaining: 673ms\n",
      "643:\tlearn: 0.2513073\ttotal: 1.21s\tremaining: 671ms\n",
      "644:\tlearn: 0.2512199\ttotal: 1.22s\tremaining: 669ms\n",
      "645:\tlearn: 0.2510926\ttotal: 1.22s\tremaining: 667ms\n",
      "646:\tlearn: 0.2510143\ttotal: 1.22s\tremaining: 665ms\n",
      "647:\tlearn: 0.2509297\ttotal: 1.22s\tremaining: 663ms\n",
      "648:\tlearn: 0.2508421\ttotal: 1.22s\tremaining: 661ms\n",
      "649:\tlearn: 0.2507334\ttotal: 1.22s\tremaining: 659ms\n",
      "650:\tlearn: 0.2506484\ttotal: 1.23s\tremaining: 657ms\n",
      "651:\tlearn: 0.2505403\ttotal: 1.23s\tremaining: 655ms\n",
      "652:\tlearn: 0.2504096\ttotal: 1.23s\tremaining: 654ms\n",
      "653:\tlearn: 0.2503350\ttotal: 1.23s\tremaining: 652ms\n",
      "654:\tlearn: 0.2501845\ttotal: 1.23s\tremaining: 650ms\n",
      "655:\tlearn: 0.2501004\ttotal: 1.24s\tremaining: 648ms\n",
      "656:\tlearn: 0.2500301\ttotal: 1.24s\tremaining: 646ms\n",
      "657:\tlearn: 0.2499347\ttotal: 1.24s\tremaining: 644ms\n",
      "658:\tlearn: 0.2498217\ttotal: 1.24s\tremaining: 642ms\n",
      "659:\tlearn: 0.2497495\ttotal: 1.24s\tremaining: 640ms\n",
      "660:\tlearn: 0.2496635\ttotal: 1.24s\tremaining: 638ms\n",
      "661:\tlearn: 0.2495454\ttotal: 1.25s\tremaining: 636ms\n",
      "662:\tlearn: 0.2494539\ttotal: 1.25s\tremaining: 634ms\n",
      "663:\tlearn: 0.2493033\ttotal: 1.25s\tremaining: 632ms\n",
      "664:\tlearn: 0.2492273\ttotal: 1.25s\tremaining: 630ms\n",
      "665:\tlearn: 0.2491455\ttotal: 1.25s\tremaining: 628ms\n",
      "666:\tlearn: 0.2490526\ttotal: 1.25s\tremaining: 626ms\n",
      "667:\tlearn: 0.2488644\ttotal: 1.25s\tremaining: 624ms\n",
      "668:\tlearn: 0.2487858\ttotal: 1.26s\tremaining: 622ms\n",
      "669:\tlearn: 0.2487175\ttotal: 1.26s\tremaining: 620ms\n",
      "670:\tlearn: 0.2485832\ttotal: 1.26s\tremaining: 618ms\n",
      "671:\tlearn: 0.2485008\ttotal: 1.26s\tremaining: 616ms\n",
      "672:\tlearn: 0.2484196\ttotal: 1.26s\tremaining: 614ms\n",
      "673:\tlearn: 0.2483797\ttotal: 1.27s\tremaining: 612ms\n",
      "674:\tlearn: 0.2483022\ttotal: 1.27s\tremaining: 610ms\n",
      "675:\tlearn: 0.2482305\ttotal: 1.27s\tremaining: 608ms\n",
      "676:\tlearn: 0.2481593\ttotal: 1.27s\tremaining: 606ms\n",
      "677:\tlearn: 0.2480620\ttotal: 1.27s\tremaining: 605ms\n",
      "678:\tlearn: 0.2479897\ttotal: 1.27s\tremaining: 603ms\n",
      "679:\tlearn: 0.2478576\ttotal: 1.28s\tremaining: 601ms\n",
      "680:\tlearn: 0.2478323\ttotal: 1.28s\tremaining: 599ms\n",
      "681:\tlearn: 0.2477666\ttotal: 1.28s\tremaining: 597ms\n",
      "682:\tlearn: 0.2476945\ttotal: 1.28s\tremaining: 595ms\n",
      "683:\tlearn: 0.2475740\ttotal: 1.28s\tremaining: 593ms\n",
      "684:\tlearn: 0.2474247\ttotal: 1.28s\tremaining: 591ms\n",
      "685:\tlearn: 0.2473221\ttotal: 1.29s\tremaining: 589ms\n",
      "686:\tlearn: 0.2472094\ttotal: 1.29s\tremaining: 587ms\n",
      "687:\tlearn: 0.2469797\ttotal: 1.29s\tremaining: 585ms\n",
      "688:\tlearn: 0.2468994\ttotal: 1.29s\tremaining: 583ms\n",
      "689:\tlearn: 0.2468071\ttotal: 1.29s\tremaining: 581ms\n",
      "690:\tlearn: 0.2466774\ttotal: 1.29s\tremaining: 579ms\n",
      "691:\tlearn: 0.2465595\ttotal: 1.3s\tremaining: 577ms\n",
      "692:\tlearn: 0.2465024\ttotal: 1.3s\tremaining: 575ms\n",
      "693:\tlearn: 0.2463437\ttotal: 1.3s\tremaining: 573ms\n",
      "694:\tlearn: 0.2462333\ttotal: 1.3s\tremaining: 571ms\n",
      "695:\tlearn: 0.2461184\ttotal: 1.3s\tremaining: 569ms\n",
      "696:\tlearn: 0.2459707\ttotal: 1.3s\tremaining: 567ms\n",
      "697:\tlearn: 0.2458203\ttotal: 1.31s\tremaining: 566ms\n",
      "698:\tlearn: 0.2457311\ttotal: 1.31s\tremaining: 564ms\n",
      "699:\tlearn: 0.2456570\ttotal: 1.31s\tremaining: 562ms\n",
      "700:\tlearn: 0.2455123\ttotal: 1.31s\tremaining: 560ms\n",
      "701:\tlearn: 0.2454481\ttotal: 1.31s\tremaining: 558ms\n",
      "702:\tlearn: 0.2453465\ttotal: 1.31s\tremaining: 556ms\n",
      "703:\tlearn: 0.2452647\ttotal: 1.32s\tremaining: 554ms\n",
      "704:\tlearn: 0.2451591\ttotal: 1.32s\tremaining: 552ms\n",
      "705:\tlearn: 0.2450863\ttotal: 1.32s\tremaining: 550ms\n",
      "706:\tlearn: 0.2450079\ttotal: 1.32s\tremaining: 548ms\n",
      "707:\tlearn: 0.2448128\ttotal: 1.32s\tremaining: 546ms\n",
      "708:\tlearn: 0.2447325\ttotal: 1.33s\tremaining: 544ms\n",
      "709:\tlearn: 0.2446530\ttotal: 1.33s\tremaining: 542ms\n",
      "710:\tlearn: 0.2445761\ttotal: 1.33s\tremaining: 540ms\n",
      "711:\tlearn: 0.2445100\ttotal: 1.33s\tremaining: 538ms\n",
      "712:\tlearn: 0.2444001\ttotal: 1.33s\tremaining: 537ms\n",
      "713:\tlearn: 0.2442881\ttotal: 1.33s\tremaining: 535ms\n",
      "714:\tlearn: 0.2441649\ttotal: 1.34s\tremaining: 533ms\n",
      "715:\tlearn: 0.2440609\ttotal: 1.34s\tremaining: 531ms\n",
      "716:\tlearn: 0.2440046\ttotal: 1.34s\tremaining: 529ms\n",
      "717:\tlearn: 0.2438452\ttotal: 1.34s\tremaining: 527ms\n",
      "718:\tlearn: 0.2437466\ttotal: 1.34s\tremaining: 525ms\n",
      "719:\tlearn: 0.2436463\ttotal: 1.34s\tremaining: 523ms\n",
      "720:\tlearn: 0.2435432\ttotal: 1.35s\tremaining: 521ms\n",
      "721:\tlearn: 0.2434765\ttotal: 1.35s\tremaining: 519ms\n",
      "722:\tlearn: 0.2433832\ttotal: 1.35s\tremaining: 517ms\n",
      "723:\tlearn: 0.2433174\ttotal: 1.35s\tremaining: 515ms\n",
      "724:\tlearn: 0.2432451\ttotal: 1.35s\tremaining: 513ms\n",
      "725:\tlearn: 0.2431194\ttotal: 1.35s\tremaining: 511ms\n",
      "726:\tlearn: 0.2429682\ttotal: 1.36s\tremaining: 509ms\n",
      "727:\tlearn: 0.2428171\ttotal: 1.36s\tremaining: 508ms\n",
      "728:\tlearn: 0.2427263\ttotal: 1.36s\tremaining: 506ms\n",
      "729:\tlearn: 0.2425832\ttotal: 1.36s\tremaining: 504ms\n",
      "730:\tlearn: 0.2424852\ttotal: 1.36s\tremaining: 502ms\n",
      "731:\tlearn: 0.2424260\ttotal: 1.36s\tremaining: 500ms\n",
      "732:\tlearn: 0.2423259\ttotal: 1.37s\tremaining: 498ms\n",
      "733:\tlearn: 0.2422511\ttotal: 1.37s\tremaining: 496ms\n",
      "734:\tlearn: 0.2421199\ttotal: 1.37s\tremaining: 494ms\n",
      "735:\tlearn: 0.2420378\ttotal: 1.37s\tremaining: 492ms\n",
      "736:\tlearn: 0.2419463\ttotal: 1.37s\tremaining: 490ms\n",
      "737:\tlearn: 0.2418192\ttotal: 1.38s\tremaining: 488ms\n",
      "738:\tlearn: 0.2417493\ttotal: 1.38s\tremaining: 486ms\n",
      "739:\tlearn: 0.2416738\ttotal: 1.38s\tremaining: 485ms\n",
      "740:\tlearn: 0.2415799\ttotal: 1.38s\tremaining: 483ms\n",
      "741:\tlearn: 0.2415048\ttotal: 1.38s\tremaining: 481ms\n",
      "742:\tlearn: 0.2413430\ttotal: 1.38s\tremaining: 479ms\n",
      "743:\tlearn: 0.2412992\ttotal: 1.39s\tremaining: 477ms\n",
      "744:\tlearn: 0.2411902\ttotal: 1.39s\tremaining: 475ms\n",
      "745:\tlearn: 0.2411167\ttotal: 1.39s\tremaining: 473ms\n",
      "746:\tlearn: 0.2410560\ttotal: 1.39s\tremaining: 471ms\n",
      "747:\tlearn: 0.2409664\ttotal: 1.39s\tremaining: 469ms\n",
      "748:\tlearn: 0.2408787\ttotal: 1.39s\tremaining: 467ms\n",
      "749:\tlearn: 0.2407490\ttotal: 1.4s\tremaining: 466ms\n",
      "750:\tlearn: 0.2406516\ttotal: 1.4s\tremaining: 464ms\n",
      "751:\tlearn: 0.2405389\ttotal: 1.4s\tremaining: 462ms\n",
      "752:\tlearn: 0.2404648\ttotal: 1.4s\tremaining: 460ms\n",
      "753:\tlearn: 0.2403614\ttotal: 1.4s\tremaining: 458ms\n",
      "754:\tlearn: 0.2402085\ttotal: 1.41s\tremaining: 456ms\n",
      "755:\tlearn: 0.2401285\ttotal: 1.41s\tremaining: 455ms\n",
      "756:\tlearn: 0.2400618\ttotal: 1.41s\tremaining: 453ms\n",
      "757:\tlearn: 0.2399092\ttotal: 1.41s\tremaining: 451ms\n",
      "758:\tlearn: 0.2398013\ttotal: 1.41s\tremaining: 449ms\n",
      "759:\tlearn: 0.2396792\ttotal: 1.42s\tremaining: 447ms\n",
      "760:\tlearn: 0.2396009\ttotal: 1.42s\tremaining: 445ms\n",
      "761:\tlearn: 0.2395093\ttotal: 1.42s\tremaining: 443ms\n",
      "762:\tlearn: 0.2394337\ttotal: 1.42s\tremaining: 441ms\n",
      "763:\tlearn: 0.2393205\ttotal: 1.42s\tremaining: 439ms\n",
      "764:\tlearn: 0.2392165\ttotal: 1.42s\tremaining: 437ms\n",
      "765:\tlearn: 0.2391348\ttotal: 1.43s\tremaining: 436ms\n",
      "766:\tlearn: 0.2390331\ttotal: 1.43s\tremaining: 434ms\n",
      "767:\tlearn: 0.2389604\ttotal: 1.43s\tremaining: 432ms\n",
      "768:\tlearn: 0.2388352\ttotal: 1.43s\tremaining: 430ms\n",
      "769:\tlearn: 0.2387591\ttotal: 1.43s\tremaining: 428ms\n",
      "770:\tlearn: 0.2386315\ttotal: 1.43s\tremaining: 426ms\n",
      "771:\tlearn: 0.2385320\ttotal: 1.44s\tremaining: 424ms\n",
      "772:\tlearn: 0.2383834\ttotal: 1.44s\tremaining: 422ms\n",
      "773:\tlearn: 0.2383077\ttotal: 1.44s\tremaining: 420ms\n",
      "774:\tlearn: 0.2381997\ttotal: 1.44s\tremaining: 418ms\n",
      "775:\tlearn: 0.2380647\ttotal: 1.44s\tremaining: 417ms\n",
      "776:\tlearn: 0.2379426\ttotal: 1.44s\tremaining: 415ms\n",
      "777:\tlearn: 0.2378684\ttotal: 1.45s\tremaining: 413ms\n",
      "778:\tlearn: 0.2378339\ttotal: 1.45s\tremaining: 411ms\n",
      "779:\tlearn: 0.2377652\ttotal: 1.45s\tremaining: 409ms\n",
      "780:\tlearn: 0.2376990\ttotal: 1.45s\tremaining: 407ms\n",
      "781:\tlearn: 0.2376027\ttotal: 1.45s\tremaining: 405ms\n",
      "782:\tlearn: 0.2374725\ttotal: 1.45s\tremaining: 403ms\n",
      "783:\tlearn: 0.2373762\ttotal: 1.46s\tremaining: 401ms\n",
      "784:\tlearn: 0.2373123\ttotal: 1.46s\tremaining: 399ms\n",
      "785:\tlearn: 0.2372023\ttotal: 1.46s\tremaining: 397ms\n",
      "786:\tlearn: 0.2371459\ttotal: 1.46s\tremaining: 396ms\n",
      "787:\tlearn: 0.2370802\ttotal: 1.46s\tremaining: 394ms\n",
      "788:\tlearn: 0.2369547\ttotal: 1.47s\tremaining: 392ms\n",
      "789:\tlearn: 0.2368438\ttotal: 1.47s\tremaining: 390ms\n",
      "790:\tlearn: 0.2367737\ttotal: 1.47s\tremaining: 388ms\n",
      "791:\tlearn: 0.2366887\ttotal: 1.47s\tremaining: 386ms\n",
      "792:\tlearn: 0.2365948\ttotal: 1.47s\tremaining: 384ms\n",
      "793:\tlearn: 0.2364922\ttotal: 1.47s\tremaining: 382ms\n",
      "794:\tlearn: 0.2364129\ttotal: 1.48s\tremaining: 380ms\n",
      "795:\tlearn: 0.2363425\ttotal: 1.48s\tremaining: 378ms\n",
      "796:\tlearn: 0.2362450\ttotal: 1.48s\tremaining: 377ms\n",
      "797:\tlearn: 0.2361671\ttotal: 1.48s\tremaining: 375ms\n",
      "798:\tlearn: 0.2360773\ttotal: 1.48s\tremaining: 373ms\n",
      "799:\tlearn: 0.2359989\ttotal: 1.48s\tremaining: 371ms\n",
      "800:\tlearn: 0.2359278\ttotal: 1.49s\tremaining: 369ms\n",
      "801:\tlearn: 0.2358797\ttotal: 1.49s\tremaining: 367ms\n",
      "802:\tlearn: 0.2357108\ttotal: 1.49s\tremaining: 365ms\n",
      "803:\tlearn: 0.2355474\ttotal: 1.49s\tremaining: 363ms\n",
      "804:\tlearn: 0.2354687\ttotal: 1.49s\tremaining: 361ms\n",
      "805:\tlearn: 0.2353478\ttotal: 1.49s\tremaining: 360ms\n",
      "806:\tlearn: 0.2352252\ttotal: 1.5s\tremaining: 358ms\n",
      "807:\tlearn: 0.2351515\ttotal: 1.5s\tremaining: 356ms\n",
      "808:\tlearn: 0.2350566\ttotal: 1.5s\tremaining: 354ms\n",
      "809:\tlearn: 0.2349734\ttotal: 1.5s\tremaining: 352ms\n",
      "810:\tlearn: 0.2348771\ttotal: 1.5s\tremaining: 350ms\n",
      "811:\tlearn: 0.2347902\ttotal: 1.5s\tremaining: 348ms\n",
      "812:\tlearn: 0.2347322\ttotal: 1.5s\tremaining: 346ms\n",
      "813:\tlearn: 0.2346260\ttotal: 1.51s\tremaining: 344ms\n",
      "814:\tlearn: 0.2345129\ttotal: 1.51s\tremaining: 343ms\n",
      "815:\tlearn: 0.2343846\ttotal: 1.51s\tremaining: 341ms\n",
      "816:\tlearn: 0.2343026\ttotal: 1.51s\tremaining: 339ms\n",
      "817:\tlearn: 0.2342456\ttotal: 1.51s\tremaining: 337ms\n",
      "818:\tlearn: 0.2341174\ttotal: 1.52s\tremaining: 335ms\n",
      "819:\tlearn: 0.2339957\ttotal: 1.52s\tremaining: 333ms\n",
      "820:\tlearn: 0.2338771\ttotal: 1.52s\tremaining: 331ms\n",
      "821:\tlearn: 0.2337217\ttotal: 1.52s\tremaining: 329ms\n",
      "822:\tlearn: 0.2335870\ttotal: 1.52s\tremaining: 328ms\n",
      "823:\tlearn: 0.2334479\ttotal: 1.52s\tremaining: 326ms\n",
      "824:\tlearn: 0.2333648\ttotal: 1.53s\tremaining: 324ms\n",
      "825:\tlearn: 0.2331951\ttotal: 1.53s\tremaining: 322ms\n",
      "826:\tlearn: 0.2330925\ttotal: 1.53s\tremaining: 320ms\n",
      "827:\tlearn: 0.2329473\ttotal: 1.53s\tremaining: 318ms\n",
      "828:\tlearn: 0.2328624\ttotal: 1.53s\tremaining: 316ms\n",
      "829:\tlearn: 0.2327869\ttotal: 1.53s\tremaining: 314ms\n",
      "830:\tlearn: 0.2326967\ttotal: 1.54s\tremaining: 313ms\n",
      "831:\tlearn: 0.2325231\ttotal: 1.54s\tremaining: 311ms\n",
      "832:\tlearn: 0.2323993\ttotal: 1.54s\tremaining: 309ms\n",
      "833:\tlearn: 0.2323395\ttotal: 1.54s\tremaining: 307ms\n",
      "834:\tlearn: 0.2322377\ttotal: 1.54s\tremaining: 305ms\n",
      "835:\tlearn: 0.2321583\ttotal: 1.55s\tremaining: 304ms\n",
      "836:\tlearn: 0.2320559\ttotal: 1.55s\tremaining: 302ms\n",
      "837:\tlearn: 0.2319225\ttotal: 1.55s\tremaining: 300ms\n",
      "838:\tlearn: 0.2318165\ttotal: 1.55s\tremaining: 298ms\n",
      "839:\tlearn: 0.2317436\ttotal: 1.55s\tremaining: 296ms\n",
      "840:\tlearn: 0.2316494\ttotal: 1.56s\tremaining: 294ms\n",
      "841:\tlearn: 0.2315693\ttotal: 1.56s\tremaining: 293ms\n",
      "842:\tlearn: 0.2314420\ttotal: 1.56s\tremaining: 291ms\n",
      "843:\tlearn: 0.2313056\ttotal: 1.56s\tremaining: 289ms\n",
      "844:\tlearn: 0.2311293\ttotal: 1.56s\tremaining: 287ms\n",
      "845:\tlearn: 0.2310512\ttotal: 1.57s\tremaining: 285ms\n",
      "846:\tlearn: 0.2309644\ttotal: 1.57s\tremaining: 283ms\n",
      "847:\tlearn: 0.2308222\ttotal: 1.57s\tremaining: 281ms\n",
      "848:\tlearn: 0.2307289\ttotal: 1.57s\tremaining: 280ms\n",
      "849:\tlearn: 0.2306308\ttotal: 1.57s\tremaining: 278ms\n"
     ]
    },
    {
     "name": "stdout",
     "output_type": "stream",
     "text": [
      "850:\tlearn: 0.2305602\ttotal: 1.58s\tremaining: 276ms\n",
      "851:\tlearn: 0.2304681\ttotal: 1.58s\tremaining: 274ms\n",
      "852:\tlearn: 0.2303729\ttotal: 1.58s\tremaining: 272ms\n",
      "853:\tlearn: 0.2302938\ttotal: 1.58s\tremaining: 271ms\n",
      "854:\tlearn: 0.2301628\ttotal: 1.58s\tremaining: 269ms\n",
      "855:\tlearn: 0.2300919\ttotal: 1.59s\tremaining: 267ms\n",
      "856:\tlearn: 0.2299626\ttotal: 1.59s\tremaining: 265ms\n",
      "857:\tlearn: 0.2298354\ttotal: 1.59s\tremaining: 263ms\n",
      "858:\tlearn: 0.2297999\ttotal: 1.59s\tremaining: 261ms\n",
      "859:\tlearn: 0.2296576\ttotal: 1.59s\tremaining: 260ms\n",
      "860:\tlearn: 0.2295550\ttotal: 1.6s\tremaining: 258ms\n",
      "861:\tlearn: 0.2294980\ttotal: 1.6s\tremaining: 256ms\n",
      "862:\tlearn: 0.2293904\ttotal: 1.6s\tremaining: 254ms\n",
      "863:\tlearn: 0.2292803\ttotal: 1.6s\tremaining: 252ms\n",
      "864:\tlearn: 0.2291851\ttotal: 1.6s\tremaining: 250ms\n",
      "865:\tlearn: 0.2291017\ttotal: 1.61s\tremaining: 249ms\n",
      "866:\tlearn: 0.2290289\ttotal: 1.61s\tremaining: 247ms\n",
      "867:\tlearn: 0.2289301\ttotal: 1.61s\tremaining: 245ms\n",
      "868:\tlearn: 0.2288398\ttotal: 1.61s\tremaining: 243ms\n",
      "869:\tlearn: 0.2287040\ttotal: 1.61s\tremaining: 241ms\n",
      "870:\tlearn: 0.2286531\ttotal: 1.62s\tremaining: 240ms\n",
      "871:\tlearn: 0.2285835\ttotal: 1.62s\tremaining: 238ms\n",
      "872:\tlearn: 0.2285211\ttotal: 1.62s\tremaining: 236ms\n",
      "873:\tlearn: 0.2283788\ttotal: 1.62s\tremaining: 234ms\n",
      "874:\tlearn: 0.2282713\ttotal: 1.62s\tremaining: 232ms\n",
      "875:\tlearn: 0.2282002\ttotal: 1.63s\tremaining: 230ms\n",
      "876:\tlearn: 0.2281195\ttotal: 1.63s\tremaining: 228ms\n",
      "877:\tlearn: 0.2279974\ttotal: 1.63s\tremaining: 227ms\n",
      "878:\tlearn: 0.2278510\ttotal: 1.63s\tremaining: 225ms\n",
      "879:\tlearn: 0.2277665\ttotal: 1.63s\tremaining: 223ms\n",
      "880:\tlearn: 0.2277013\ttotal: 1.64s\tremaining: 221ms\n",
      "881:\tlearn: 0.2275597\ttotal: 1.64s\tremaining: 219ms\n",
      "882:\tlearn: 0.2274178\ttotal: 1.64s\tremaining: 217ms\n",
      "883:\tlearn: 0.2273041\ttotal: 1.64s\tremaining: 216ms\n",
      "884:\tlearn: 0.2272359\ttotal: 1.64s\tremaining: 214ms\n",
      "885:\tlearn: 0.2271405\ttotal: 1.65s\tremaining: 212ms\n",
      "886:\tlearn: 0.2270484\ttotal: 1.65s\tremaining: 210ms\n",
      "887:\tlearn: 0.2269612\ttotal: 1.65s\tremaining: 208ms\n",
      "888:\tlearn: 0.2268952\ttotal: 1.65s\tremaining: 206ms\n",
      "889:\tlearn: 0.2267673\ttotal: 1.65s\tremaining: 204ms\n",
      "890:\tlearn: 0.2266414\ttotal: 1.66s\tremaining: 203ms\n",
      "891:\tlearn: 0.2265769\ttotal: 1.66s\tremaining: 201ms\n",
      "892:\tlearn: 0.2264851\ttotal: 1.66s\tremaining: 199ms\n",
      "893:\tlearn: 0.2263978\ttotal: 1.66s\tremaining: 197ms\n",
      "894:\tlearn: 0.2263192\ttotal: 1.66s\tremaining: 195ms\n",
      "895:\tlearn: 0.2262398\ttotal: 1.67s\tremaining: 193ms\n",
      "896:\tlearn: 0.2261693\ttotal: 1.67s\tremaining: 191ms\n",
      "897:\tlearn: 0.2260810\ttotal: 1.67s\tremaining: 190ms\n",
      "898:\tlearn: 0.2260126\ttotal: 1.67s\tremaining: 188ms\n",
      "899:\tlearn: 0.2259534\ttotal: 1.67s\tremaining: 186ms\n",
      "900:\tlearn: 0.2258560\ttotal: 1.67s\tremaining: 184ms\n",
      "901:\tlearn: 0.2258085\ttotal: 1.68s\tremaining: 182ms\n",
      "902:\tlearn: 0.2256956\ttotal: 1.68s\tremaining: 180ms\n",
      "903:\tlearn: 0.2256034\ttotal: 1.68s\tremaining: 178ms\n",
      "904:\tlearn: 0.2255212\ttotal: 1.68s\tremaining: 177ms\n",
      "905:\tlearn: 0.2254442\ttotal: 1.68s\tremaining: 175ms\n",
      "906:\tlearn: 0.2253415\ttotal: 1.69s\tremaining: 173ms\n",
      "907:\tlearn: 0.2252891\ttotal: 1.69s\tremaining: 171ms\n",
      "908:\tlearn: 0.2252586\ttotal: 1.69s\tremaining: 169ms\n",
      "909:\tlearn: 0.2251661\ttotal: 1.69s\tremaining: 167ms\n",
      "910:\tlearn: 0.2250973\ttotal: 1.69s\tremaining: 165ms\n",
      "911:\tlearn: 0.2250442\ttotal: 1.7s\tremaining: 164ms\n",
      "912:\tlearn: 0.2249754\ttotal: 1.7s\tremaining: 162ms\n",
      "913:\tlearn: 0.2249261\ttotal: 1.7s\tremaining: 160ms\n",
      "914:\tlearn: 0.2248209\ttotal: 1.7s\tremaining: 158ms\n",
      "915:\tlearn: 0.2247536\ttotal: 1.7s\tremaining: 156ms\n",
      "916:\tlearn: 0.2246931\ttotal: 1.71s\tremaining: 154ms\n",
      "917:\tlearn: 0.2245712\ttotal: 1.71s\tremaining: 152ms\n",
      "918:\tlearn: 0.2243997\ttotal: 1.71s\tremaining: 151ms\n",
      "919:\tlearn: 0.2242749\ttotal: 1.71s\tremaining: 149ms\n",
      "920:\tlearn: 0.2241496\ttotal: 1.71s\tremaining: 147ms\n",
      "921:\tlearn: 0.2240424\ttotal: 1.71s\tremaining: 145ms\n",
      "922:\tlearn: 0.2239824\ttotal: 1.72s\tremaining: 143ms\n",
      "923:\tlearn: 0.2239069\ttotal: 1.72s\tremaining: 141ms\n",
      "924:\tlearn: 0.2237980\ttotal: 1.72s\tremaining: 139ms\n",
      "925:\tlearn: 0.2237404\ttotal: 1.72s\tremaining: 138ms\n",
      "926:\tlearn: 0.2236472\ttotal: 1.72s\tremaining: 136ms\n",
      "927:\tlearn: 0.2235575\ttotal: 1.72s\tremaining: 134ms\n",
      "928:\tlearn: 0.2234844\ttotal: 1.73s\tremaining: 132ms\n",
      "929:\tlearn: 0.2233923\ttotal: 1.73s\tremaining: 130ms\n",
      "930:\tlearn: 0.2233170\ttotal: 1.73s\tremaining: 128ms\n",
      "931:\tlearn: 0.2232608\ttotal: 1.73s\tremaining: 126ms\n",
      "932:\tlearn: 0.2231837\ttotal: 1.73s\tremaining: 124ms\n",
      "933:\tlearn: 0.2231393\ttotal: 1.73s\tremaining: 123ms\n",
      "934:\tlearn: 0.2230278\ttotal: 1.74s\tremaining: 121ms\n",
      "935:\tlearn: 0.2229069\ttotal: 1.74s\tremaining: 119ms\n",
      "936:\tlearn: 0.2228027\ttotal: 1.74s\tremaining: 117ms\n",
      "937:\tlearn: 0.2227516\ttotal: 1.74s\tremaining: 115ms\n",
      "938:\tlearn: 0.2226585\ttotal: 1.74s\tremaining: 113ms\n",
      "939:\tlearn: 0.2225959\ttotal: 1.74s\tremaining: 111ms\n",
      "940:\tlearn: 0.2225095\ttotal: 1.75s\tremaining: 109ms\n",
      "941:\tlearn: 0.2224563\ttotal: 1.75s\tremaining: 108ms\n",
      "942:\tlearn: 0.2223885\ttotal: 1.75s\tremaining: 106ms\n",
      "943:\tlearn: 0.2223220\ttotal: 1.75s\tremaining: 104ms\n",
      "944:\tlearn: 0.2222149\ttotal: 1.75s\tremaining: 102ms\n",
      "945:\tlearn: 0.2221246\ttotal: 1.75s\tremaining: 100ms\n",
      "946:\tlearn: 0.2220504\ttotal: 1.76s\tremaining: 98.3ms\n",
      "947:\tlearn: 0.2219597\ttotal: 1.76s\tremaining: 96.4ms\n",
      "948:\tlearn: 0.2218896\ttotal: 1.76s\tremaining: 94.6ms\n",
      "949:\tlearn: 0.2217618\ttotal: 1.76s\tremaining: 92.7ms\n",
      "950:\tlearn: 0.2216893\ttotal: 1.76s\tremaining: 90.8ms\n",
      "951:\tlearn: 0.2216085\ttotal: 1.76s\tremaining: 89ms\n",
      "952:\tlearn: 0.2214847\ttotal: 1.77s\tremaining: 87.1ms\n",
      "953:\tlearn: 0.2213727\ttotal: 1.77s\tremaining: 85.3ms\n",
      "954:\tlearn: 0.2212796\ttotal: 1.77s\tremaining: 83.4ms\n",
      "955:\tlearn: 0.2212039\ttotal: 1.77s\tremaining: 81.5ms\n",
      "956:\tlearn: 0.2210880\ttotal: 1.77s\tremaining: 79.7ms\n",
      "957:\tlearn: 0.2210330\ttotal: 1.77s\tremaining: 77.8ms\n",
      "958:\tlearn: 0.2209576\ttotal: 1.78s\tremaining: 76ms\n",
      "959:\tlearn: 0.2208859\ttotal: 1.78s\tremaining: 74.1ms\n",
      "960:\tlearn: 0.2208203\ttotal: 1.78s\tremaining: 72.3ms\n",
      "961:\tlearn: 0.2207300\ttotal: 1.78s\tremaining: 70.4ms\n",
      "962:\tlearn: 0.2206492\ttotal: 1.78s\tremaining: 68.5ms\n",
      "963:\tlearn: 0.2205600\ttotal: 1.78s\tremaining: 66.7ms\n",
      "964:\tlearn: 0.2204312\ttotal: 1.79s\tremaining: 64.8ms\n",
      "965:\tlearn: 0.2203105\ttotal: 1.79s\tremaining: 63ms\n",
      "966:\tlearn: 0.2201912\ttotal: 1.79s\tremaining: 61.1ms\n",
      "967:\tlearn: 0.2201330\ttotal: 1.79s\tremaining: 59.3ms\n",
      "968:\tlearn: 0.2200745\ttotal: 1.79s\tremaining: 57.4ms\n",
      "969:\tlearn: 0.2199894\ttotal: 1.8s\tremaining: 55.6ms\n",
      "970:\tlearn: 0.2198800\ttotal: 1.8s\tremaining: 53.7ms\n",
      "971:\tlearn: 0.2198075\ttotal: 1.8s\tremaining: 51.9ms\n",
      "972:\tlearn: 0.2197291\ttotal: 1.8s\tremaining: 50ms\n",
      "973:\tlearn: 0.2196231\ttotal: 1.8s\tremaining: 48.1ms\n",
      "974:\tlearn: 0.2194766\ttotal: 1.8s\tremaining: 46.3ms\n",
      "975:\tlearn: 0.2194094\ttotal: 1.81s\tremaining: 44.4ms\n",
      "976:\tlearn: 0.2193242\ttotal: 1.81s\tremaining: 42.6ms\n",
      "977:\tlearn: 0.2192197\ttotal: 1.81s\tremaining: 40.7ms\n",
      "978:\tlearn: 0.2191436\ttotal: 1.81s\tremaining: 38.9ms\n",
      "979:\tlearn: 0.2190565\ttotal: 1.81s\tremaining: 37ms\n",
      "980:\tlearn: 0.2189331\ttotal: 1.81s\tremaining: 35.2ms\n",
      "981:\tlearn: 0.2188586\ttotal: 1.82s\tremaining: 33.3ms\n",
      "982:\tlearn: 0.2187600\ttotal: 1.82s\tremaining: 31.5ms\n",
      "983:\tlearn: 0.2186584\ttotal: 1.82s\tremaining: 29.6ms\n",
      "984:\tlearn: 0.2185436\ttotal: 1.82s\tremaining: 27.8ms\n",
      "985:\tlearn: 0.2184684\ttotal: 1.82s\tremaining: 25.9ms\n",
      "986:\tlearn: 0.2183950\ttotal: 1.82s\tremaining: 24ms\n",
      "987:\tlearn: 0.2183363\ttotal: 1.83s\tremaining: 22.2ms\n",
      "988:\tlearn: 0.2182370\ttotal: 1.83s\tremaining: 20.3ms\n",
      "989:\tlearn: 0.2181815\ttotal: 1.83s\tremaining: 18.5ms\n",
      "990:\tlearn: 0.2180766\ttotal: 1.83s\tremaining: 16.6ms\n",
      "991:\tlearn: 0.2179497\ttotal: 1.83s\tremaining: 14.8ms\n",
      "992:\tlearn: 0.2178826\ttotal: 1.83s\tremaining: 12.9ms\n",
      "993:\tlearn: 0.2178021\ttotal: 1.84s\tremaining: 11.1ms\n",
      "994:\tlearn: 0.2177438\ttotal: 1.84s\tremaining: 9.24ms\n",
      "995:\tlearn: 0.2176132\ttotal: 1.84s\tremaining: 7.39ms\n",
      "996:\tlearn: 0.2175361\ttotal: 1.84s\tremaining: 5.54ms\n",
      "997:\tlearn: 0.2174446\ttotal: 1.84s\tremaining: 3.69ms\n",
      "998:\tlearn: 0.2173580\ttotal: 1.84s\tremaining: 1.85ms\n",
      "999:\tlearn: 0.2172537\ttotal: 1.85s\tremaining: 0us\n",
      "F1 = 0.598 AUC-ROC= 0.862\n"
     ]
    }
   ],
   "source": [
    "cbc = CatBoostClassifier(random_state=322)\n",
    "cbc.fit(features_train, target_train)\n",
    "predicted_valid = cbc.predict(features_valid)\n",
    "f1_valid = f1_score(predicted_valid, target_valid)\n",
    "prob_one_valid = cbc.predict_proba(features_valid)[:, 1]\n",
    "roc_auc = roc_auc_score(target_valid, prob_one_valid)\n",
    "print('F1 =', f1_valid.round(3), 'AUC-ROC=', roc_auc.round(3))"
   ]
  },
  {
   "cell_type": "markdown",
   "metadata": {},
   "source": [
    "CatBoost оказался немного лучше случайного леса. F1=0,598, AUC-ROC=0,862."
   ]
  },
  {
   "cell_type": "markdown",
   "metadata": {},
   "source": [
    "### Дерево решений"
   ]
  },
  {
   "cell_type": "markdown",
   "metadata": {},
   "source": [
    "Применим optuna для нахождения лучших гиперпараметров."
   ]
  },
  {
   "cell_type": "code",
   "execution_count": 24,
   "metadata": {},
   "outputs": [],
   "source": [
    "def objective(trial):\n",
    "    max_depth = trial.suggest_int('max_depth', 3, 30)\n",
    "    min_samples_split = trial.suggest_int('min_samples_split', 2, 30)\n",
    "    min_samples_leaf = trial.suggest_int('min_samples_leaf', 1, 30)\n",
    "    criterion = trial.suggest_categorical('criterion', ['gini', 'entropy'])\n",
    "\n",
    "    dtc = DecisionTreeClassifier(max_depth=max_depth,\n",
    "                                    min_samples_split=min_samples_split,\n",
    "                                    min_samples_leaf=min_samples_leaf,\n",
    "                                    criterion=criterion,\n",
    "                                    random_state=42)\n",
    "\n",
    "    dtc.fit(features_train, target_train)\n",
    "\n",
    "    predicted_valid = dtc.predict(features_valid)\n",
    "\n",
    "    f1 = f1_score(target_valid, predicted_valid)\n",
    "\n",
    "    return f1"
   ]
  },
  {
   "cell_type": "code",
   "execution_count": 25,
   "metadata": {
    "scrolled": true
   },
   "outputs": [
    {
     "name": "stderr",
     "output_type": "stream",
     "text": [
      "\u001b[32m[I 2023-03-15 19:07:17,352]\u001b[0m A new study created in memory with name: no-name-a065b083-3a62-4832-abec-9ae5f639b339\u001b[0m\n",
      "\u001b[32m[I 2023-03-15 19:07:17,376]\u001b[0m Trial 0 finished with value: 0.546583850931677 and parameters: {'max_depth': 15, 'min_samples_split': 26, 'min_samples_leaf': 16, 'criterion': 'entropy'}. Best is trial 0 with value: 0.546583850931677.\u001b[0m\n",
      "\u001b[32m[I 2023-03-15 19:07:17,396]\u001b[0m Trial 1 finished with value: 0.5598705501618123 and parameters: {'max_depth': 7, 'min_samples_split': 5, 'min_samples_leaf': 4, 'criterion': 'entropy'}. Best is trial 1 with value: 0.5598705501618123.\u001b[0m\n",
      "\u001b[32m[I 2023-03-15 19:07:17,416]\u001b[0m Trial 2 finished with value: 0.5403111739745403 and parameters: {'max_depth': 27, 'min_samples_split': 22, 'min_samples_leaf': 3, 'criterion': 'gini'}. Best is trial 1 with value: 0.5598705501618123.\u001b[0m\n",
      "\u001b[32m[I 2023-03-15 19:07:17,440]\u001b[0m Trial 3 finished with value: 0.5238828967642527 and parameters: {'max_depth': 24, 'min_samples_split': 16, 'min_samples_leaf': 10, 'criterion': 'entropy'}. Best is trial 1 with value: 0.5598705501618123.\u001b[0m\n",
      "\u001b[32m[I 2023-03-15 19:07:17,466]\u001b[0m Trial 4 finished with value: 0.5428973277074542 and parameters: {'max_depth': 20, 'min_samples_split': 23, 'min_samples_leaf': 2, 'criterion': 'entropy'}. Best is trial 1 with value: 0.5598705501618123.\u001b[0m\n",
      "\u001b[32m[I 2023-03-15 19:07:17,484]\u001b[0m Trial 5 finished with value: 0.565537555228277 and parameters: {'max_depth': 10, 'min_samples_split': 5, 'min_samples_leaf': 10, 'criterion': 'gini'}. Best is trial 5 with value: 0.565537555228277.\u001b[0m\n",
      "\u001b[32m[I 2023-03-15 19:07:17,506]\u001b[0m Trial 6 finished with value: 0.5382352941176469 and parameters: {'max_depth': 28, 'min_samples_split': 21, 'min_samples_leaf': 6, 'criterion': 'gini'}. Best is trial 5 with value: 0.565537555228277.\u001b[0m\n",
      "\u001b[32m[I 2023-03-15 19:07:17,523]\u001b[0m Trial 7 finished with value: 0.5757575757575757 and parameters: {'max_depth': 11, 'min_samples_split': 7, 'min_samples_leaf': 26, 'criterion': 'gini'}. Best is trial 7 with value: 0.5757575757575757.\u001b[0m\n",
      "\u001b[32m[I 2023-03-15 19:07:17,538]\u001b[0m Trial 8 finished with value: 0.5583756345177666 and parameters: {'max_depth': 6, 'min_samples_split': 28, 'min_samples_leaf': 5, 'criterion': 'gini'}. Best is trial 7 with value: 0.5757575757575757.\u001b[0m\n",
      "\u001b[32m[I 2023-03-15 19:07:17,554]\u001b[0m Trial 9 finished with value: 0.5828025477707006 and parameters: {'max_depth': 7, 'min_samples_split': 8, 'min_samples_leaf': 18, 'criterion': 'gini'}. Best is trial 9 with value: 0.5828025477707006.\u001b[0m\n",
      "\u001b[32m[I 2023-03-15 19:07:17,573]\u001b[0m Trial 10 finished with value: 0.5315614617940199 and parameters: {'max_depth': 3, 'min_samples_split': 12, 'min_samples_leaf': 22, 'criterion': 'gini'}. Best is trial 9 with value: 0.5828025477707006.\u001b[0m\n",
      "\u001b[32m[I 2023-03-15 19:07:17,600]\u001b[0m Trial 11 finished with value: 0.573170731707317 and parameters: {'max_depth': 13, 'min_samples_split': 10, 'min_samples_leaf': 30, 'criterion': 'gini'}. Best is trial 9 with value: 0.5828025477707006.\u001b[0m\n",
      "\u001b[32m[I 2023-03-15 19:07:17,627]\u001b[0m Trial 12 finished with value: 0.5626911314984709 and parameters: {'max_depth': 11, 'min_samples_split': 10, 'min_samples_leaf': 24, 'criterion': 'gini'}. Best is trial 9 with value: 0.5828025477707006.\u001b[0m\n",
      "\u001b[32m[I 2023-03-15 19:07:17,655]\u001b[0m Trial 13 finished with value: 0.5705426356589148 and parameters: {'max_depth': 19, 'min_samples_split': 2, 'min_samples_leaf': 20, 'criterion': 'gini'}. Best is trial 9 with value: 0.5828025477707006.\u001b[0m\n",
      "\u001b[32m[I 2023-03-15 19:07:17,680]\u001b[0m Trial 14 finished with value: 0.5691823899371069 and parameters: {'max_depth': 8, 'min_samples_split': 15, 'min_samples_leaf': 28, 'criterion': 'gini'}. Best is trial 9 with value: 0.5828025477707006.\u001b[0m\n",
      "\u001b[32m[I 2023-03-15 19:07:17,699]\u001b[0m Trial 15 finished with value: 0.5315614617940199 and parameters: {'max_depth': 3, 'min_samples_split': 6, 'min_samples_leaf': 17, 'criterion': 'gini'}. Best is trial 9 with value: 0.5828025477707006.\u001b[0m\n",
      "\u001b[32m[I 2023-03-15 19:07:17,725]\u001b[0m Trial 16 finished with value: 0.573170731707317 and parameters: {'max_depth': 16, 'min_samples_split': 8, 'min_samples_leaf': 25, 'criterion': 'gini'}. Best is trial 9 with value: 0.5828025477707006.\u001b[0m\n",
      "\u001b[32m[I 2023-03-15 19:07:17,754]\u001b[0m Trial 17 finished with value: 0.5532544378698224 and parameters: {'max_depth': 12, 'min_samples_split': 2, 'min_samples_leaf': 13, 'criterion': 'gini'}. Best is trial 9 with value: 0.5828025477707006.\u001b[0m\n",
      "\u001b[32m[I 2023-03-15 19:07:17,780]\u001b[0m Trial 18 finished with value: 0.5612244897959183 and parameters: {'max_depth': 6, 'min_samples_split': 16, 'min_samples_leaf': 20, 'criterion': 'entropy'}. Best is trial 9 with value: 0.5828025477707006.\u001b[0m\n",
      "\u001b[32m[I 2023-03-15 19:07:17,807]\u001b[0m Trial 19 finished with value: 0.5775729646697388 and parameters: {'max_depth': 20, 'min_samples_split': 13, 'min_samples_leaf': 27, 'criterion': 'gini'}. Best is trial 9 with value: 0.5828025477707006.\u001b[0m\n",
      "\u001b[32m[I 2023-03-15 19:07:17,834]\u001b[0m Trial 20 finished with value: 0.573208722741433 and parameters: {'max_depth': 21, 'min_samples_split': 13, 'min_samples_leaf': 19, 'criterion': 'gini'}. Best is trial 9 with value: 0.5828025477707006.\u001b[0m\n",
      "\u001b[32m[I 2023-03-15 19:07:17,860]\u001b[0m Trial 21 finished with value: 0.5775729646697388 and parameters: {'max_depth': 18, 'min_samples_split': 8, 'min_samples_leaf': 27, 'criterion': 'gini'}. Best is trial 9 with value: 0.5828025477707006.\u001b[0m\n",
      "\u001b[32m[I 2023-03-15 19:07:17,887]\u001b[0m Trial 22 finished with value: 0.573170731707317 and parameters: {'max_depth': 18, 'min_samples_split': 18, 'min_samples_leaf': 30, 'criterion': 'gini'}. Best is trial 9 with value: 0.5828025477707006.\u001b[0m\n",
      "\u001b[32m[I 2023-03-15 19:07:17,914]\u001b[0m Trial 23 finished with value: 0.5626911314984709 and parameters: {'max_depth': 23, 'min_samples_split': 10, 'min_samples_leaf': 23, 'criterion': 'gini'}. Best is trial 9 with value: 0.5828025477707006.\u001b[0m\n",
      "\u001b[32m[I 2023-03-15 19:07:17,940]\u001b[0m Trial 24 finished with value: 0.5775729646697388 and parameters: {'max_depth': 15, 'min_samples_split': 13, 'min_samples_leaf': 27, 'criterion': 'gini'}. Best is trial 9 with value: 0.5828025477707006.\u001b[0m\n",
      "\u001b[32m[I 2023-03-15 19:07:18,034]\u001b[0m Trial 25 finished with value: 0.5532544378698224 and parameters: {'max_depth': 23, 'min_samples_split': 9, 'min_samples_leaf': 13, 'criterion': 'gini'}. Best is trial 9 with value: 0.5828025477707006.\u001b[0m\n",
      "\u001b[32m[I 2023-03-15 19:07:18,064]\u001b[0m Trial 26 finished with value: 0.5620915032679739 and parameters: {'max_depth': 30, 'min_samples_split': 19, 'min_samples_leaf': 22, 'criterion': 'entropy'}. Best is trial 9 with value: 0.5828025477707006.\u001b[0m\n",
      "\u001b[32m[I 2023-03-15 19:07:18,090]\u001b[0m Trial 27 finished with value: 0.5775729646697388 and parameters: {'max_depth': 17, 'min_samples_split': 12, 'min_samples_leaf': 27, 'criterion': 'gini'}. Best is trial 9 with value: 0.5828025477707006.\u001b[0m\n",
      "\u001b[32m[I 2023-03-15 19:07:18,118]\u001b[0m Trial 28 finished with value: 0.573170731707317 and parameters: {'max_depth': 21, 'min_samples_split': 3, 'min_samples_leaf': 29, 'criterion': 'gini'}. Best is trial 9 with value: 0.5828025477707006.\u001b[0m\n",
      "\u001b[32m[I 2023-03-15 19:07:18,150]\u001b[0m Trial 29 finished with value: 0.5468749999999999 and parameters: {'max_depth': 14, 'min_samples_split': 4, 'min_samples_leaf': 16, 'criterion': 'entropy'}. Best is trial 9 with value: 0.5828025477707006.\u001b[0m\n",
      "\u001b[32m[I 2023-03-15 19:07:18,177]\u001b[0m Trial 30 finished with value: 0.5820433436532507 and parameters: {'max_depth': 25, 'min_samples_split': 7, 'min_samples_leaf': 18, 'criterion': 'gini'}. Best is trial 9 with value: 0.5828025477707006.\u001b[0m\n",
      "\u001b[32m[I 2023-03-15 19:07:18,205]\u001b[0m Trial 31 finished with value: 0.5820433436532507 and parameters: {'max_depth': 25, 'min_samples_split': 7, 'min_samples_leaf': 18, 'criterion': 'gini'}. Best is trial 9 with value: 0.5828025477707006.\u001b[0m\n",
      "\u001b[32m[I 2023-03-15 19:07:18,234]\u001b[0m Trial 32 finished with value: 0.5820433436532507 and parameters: {'max_depth': 26, 'min_samples_split': 6, 'min_samples_leaf': 18, 'criterion': 'gini'}. Best is trial 9 with value: 0.5828025477707006.\u001b[0m\n",
      "\u001b[32m[I 2023-03-15 19:07:18,261]\u001b[0m Trial 33 finished with value: 0.5820433436532507 and parameters: {'max_depth': 25, 'min_samples_split': 6, 'min_samples_leaf': 18, 'criterion': 'gini'}. Best is trial 9 with value: 0.5828025477707006.\u001b[0m\n"
     ]
    },
    {
     "name": "stderr",
     "output_type": "stream",
     "text": [
      "\u001b[32m[I 2023-03-15 19:07:18,294]\u001b[0m Trial 34 finished with value: 0.5484848484848486 and parameters: {'max_depth': 26, 'min_samples_split': 4, 'min_samples_leaf': 14, 'criterion': 'entropy'}. Best is trial 9 with value: 0.5828025477707006.\u001b[0m\n",
      "\u001b[32m[I 2023-03-15 19:07:18,322]\u001b[0m Trial 35 finished with value: 0.5751824817518248 and parameters: {'max_depth': 30, 'min_samples_split': 7, 'min_samples_leaf': 15, 'criterion': 'gini'}. Best is trial 9 with value: 0.5828025477707006.\u001b[0m\n",
      "\u001b[32m[I 2023-03-15 19:07:18,352]\u001b[0m Trial 36 finished with value: 0.5562130177514794 and parameters: {'max_depth': 27, 'min_samples_split': 4, 'min_samples_leaf': 11, 'criterion': 'gini'}. Best is trial 9 with value: 0.5828025477707006.\u001b[0m\n",
      "\u001b[32m[I 2023-03-15 19:07:18,385]\u001b[0m Trial 37 finished with value: 0.5573770491803278 and parameters: {'max_depth': 24, 'min_samples_split': 6, 'min_samples_leaf': 21, 'criterion': 'entropy'}. Best is trial 9 with value: 0.5828025477707006.\u001b[0m\n",
      "\u001b[32m[I 2023-03-15 19:07:18,414]\u001b[0m Trial 38 finished with value: 0.5820433436532507 and parameters: {'max_depth': 28, 'min_samples_split': 11, 'min_samples_leaf': 18, 'criterion': 'gini'}. Best is trial 9 with value: 0.5828025477707006.\u001b[0m\n",
      "\u001b[32m[I 2023-03-15 19:07:18,443]\u001b[0m Trial 39 finished with value: 0.5643994211287988 and parameters: {'max_depth': 22, 'min_samples_split': 8, 'min_samples_leaf': 8, 'criterion': 'gini'}. Best is trial 9 with value: 0.5828025477707006.\u001b[0m\n",
      "\u001b[32m[I 2023-03-15 19:07:18,472]\u001b[0m Trial 40 finished with value: 0.5731895223420647 and parameters: {'max_depth': 26, 'min_samples_split': 24, 'min_samples_leaf': 17, 'criterion': 'gini'}. Best is trial 9 with value: 0.5828025477707006.\u001b[0m\n",
      "\u001b[32m[I 2023-03-15 19:07:18,500]\u001b[0m Trial 41 finished with value: 0.573208722741433 and parameters: {'max_depth': 25, 'min_samples_split': 6, 'min_samples_leaf': 19, 'criterion': 'gini'}. Best is trial 9 with value: 0.5828025477707006.\u001b[0m\n",
      "\u001b[32m[I 2023-03-15 19:07:18,529]\u001b[0m Trial 42 finished with value: 0.5751824817518248 and parameters: {'max_depth': 25, 'min_samples_split': 5, 'min_samples_leaf': 15, 'criterion': 'gini'}. Best is trial 9 with value: 0.5828025477707006.\u001b[0m\n",
      "\u001b[32m[I 2023-03-15 19:07:18,560]\u001b[0m Trial 43 finished with value: 0.5820433436532507 and parameters: {'max_depth': 28, 'min_samples_split': 7, 'min_samples_leaf': 18, 'criterion': 'gini'}. Best is trial 9 with value: 0.5828025477707006.\u001b[0m\n",
      "\u001b[32m[I 2023-03-15 19:07:18,588]\u001b[0m Trial 44 finished with value: 0.5731895223420647 and parameters: {'max_depth': 29, 'min_samples_split': 9, 'min_samples_leaf': 17, 'criterion': 'gini'}. Best is trial 9 with value: 0.5828025477707006.\u001b[0m\n",
      "\u001b[32m[I 2023-03-15 19:07:18,619]\u001b[0m Trial 45 finished with value: 0.565625 and parameters: {'max_depth': 26, 'min_samples_split': 5, 'min_samples_leaf': 21, 'criterion': 'gini'}. Best is trial 9 with value: 0.5828025477707006.\u001b[0m\n",
      "\u001b[32m[I 2023-03-15 19:07:18,652]\u001b[0m Trial 46 finished with value: 0.4922279792746114 and parameters: {'max_depth': 24, 'min_samples_split': 2, 'min_samples_leaf': 1, 'criterion': 'gini'}. Best is trial 9 with value: 0.5828025477707006.\u001b[0m\n",
      "\u001b[32m[I 2023-03-15 19:07:18,680]\u001b[0m Trial 47 finished with value: 0.5723172628304821 and parameters: {'max_depth': 8, 'min_samples_split': 29, 'min_samples_leaf': 12, 'criterion': 'gini'}. Best is trial 9 with value: 0.5828025477707006.\u001b[0m\n",
      "\u001b[32m[I 2023-03-15 19:07:18,713]\u001b[0m Trial 48 finished with value: 0.549520766773163 and parameters: {'max_depth': 22, 'min_samples_split': 9, 'min_samples_leaf': 19, 'criterion': 'entropy'}. Best is trial 9 with value: 0.5828025477707006.\u001b[0m\n",
      "\u001b[32m[I 2023-03-15 19:07:18,742]\u001b[0m Trial 49 finished with value: 0.5626911314984709 and parameters: {'max_depth': 27, 'min_samples_split': 6, 'min_samples_leaf': 23, 'criterion': 'gini'}. Best is trial 9 with value: 0.5828025477707006.\u001b[0m\n",
      "\u001b[32m[I 2023-03-15 19:07:18,766]\u001b[0m Trial 50 finished with value: 0.5283687943262411 and parameters: {'max_depth': 5, 'min_samples_split': 3, 'min_samples_leaf': 16, 'criterion': 'gini'}. Best is trial 9 with value: 0.5828025477707006.\u001b[0m\n",
      "\u001b[32m[I 2023-03-15 19:07:18,795]\u001b[0m Trial 51 finished with value: 0.5820433436532507 and parameters: {'max_depth': 28, 'min_samples_split': 10, 'min_samples_leaf': 18, 'criterion': 'gini'}. Best is trial 9 with value: 0.5828025477707006.\u001b[0m\n",
      "\u001b[32m[I 2023-03-15 19:07:18,824]\u001b[0m Trial 52 finished with value: 0.5820433436532507 and parameters: {'max_depth': 29, 'min_samples_split': 11, 'min_samples_leaf': 18, 'criterion': 'gini'}. Best is trial 9 with value: 0.5828025477707006.\u001b[0m\n",
      "\u001b[32m[I 2023-03-15 19:07:18,853]\u001b[0m Trial 53 finished with value: 0.5705426356589148 and parameters: {'max_depth': 25, 'min_samples_split': 11, 'min_samples_leaf': 20, 'criterion': 'gini'}. Best is trial 9 with value: 0.5828025477707006.\u001b[0m\n",
      "\u001b[32m[I 2023-03-15 19:07:18,882]\u001b[0m Trial 54 finished with value: 0.5650887573964497 and parameters: {'max_depth': 23, 'min_samples_split': 7, 'min_samples_leaf': 14, 'criterion': 'gini'}. Best is trial 9 with value: 0.5828025477707006.\u001b[0m\n",
      "\u001b[32m[I 2023-03-15 19:07:18,912]\u001b[0m Trial 55 finished with value: 0.565625 and parameters: {'max_depth': 29, 'min_samples_split': 15, 'min_samples_leaf': 21, 'criterion': 'gini'}. Best is trial 9 with value: 0.5828025477707006.\u001b[0m\n",
      "\u001b[32m[I 2023-03-15 19:07:18,940]\u001b[0m Trial 56 finished with value: 0.5731895223420647 and parameters: {'max_depth': 27, 'min_samples_split': 8, 'min_samples_leaf': 17, 'criterion': 'gini'}. Best is trial 9 with value: 0.5828025477707006.\u001b[0m\n",
      "\u001b[32m[I 2023-03-15 19:07:18,971]\u001b[0m Trial 57 finished with value: 0.5751824817518248 and parameters: {'max_depth': 20, 'min_samples_split': 11, 'min_samples_leaf': 15, 'criterion': 'gini'}. Best is trial 9 with value: 0.5828025477707006.\u001b[0m\n",
      "\u001b[32m[I 2023-03-15 19:07:19,005]\u001b[0m Trial 58 finished with value: 0.573208722741433 and parameters: {'max_depth': 28, 'min_samples_split': 6, 'min_samples_leaf': 19, 'criterion': 'gini'}. Best is trial 9 with value: 0.5828025477707006.\u001b[0m\n",
      "\u001b[32m[I 2023-03-15 19:07:19,033]\u001b[0m Trial 59 finished with value: 0.5645645645645645 and parameters: {'max_depth': 9, 'min_samples_split': 14, 'min_samples_leaf': 24, 'criterion': 'gini'}. Best is trial 9 with value: 0.5828025477707006.\u001b[0m\n",
      "\u001b[32m[I 2023-03-15 19:07:19,061]\u001b[0m Trial 60 finished with value: 0.5705426356589148 and parameters: {'max_depth': 25, 'min_samples_split': 9, 'min_samples_leaf': 20, 'criterion': 'gini'}. Best is trial 9 with value: 0.5828025477707006.\u001b[0m\n",
      "\u001b[32m[I 2023-03-15 19:07:19,093]\u001b[0m Trial 61 finished with value: 0.5820433436532507 and parameters: {'max_depth': 28, 'min_samples_split': 7, 'min_samples_leaf': 18, 'criterion': 'gini'}. Best is trial 9 with value: 0.5828025477707006.\u001b[0m\n",
      "\u001b[32m[I 2023-03-15 19:07:19,122]\u001b[0m Trial 62 finished with value: 0.5820433436532507 and parameters: {'max_depth': 24, 'min_samples_split': 5, 'min_samples_leaf': 18, 'criterion': 'gini'}. Best is trial 9 with value: 0.5828025477707006.\u001b[0m\n",
      "\u001b[32m[I 2023-03-15 19:07:19,152]\u001b[0m Trial 63 finished with value: 0.571875 and parameters: {'max_depth': 27, 'min_samples_split': 8, 'min_samples_leaf': 16, 'criterion': 'gini'}. Best is trial 9 with value: 0.5828025477707006.\u001b[0m\n",
      "\u001b[32m[I 2023-03-15 19:07:19,181]\u001b[0m Trial 64 finished with value: 0.5722983257229832 and parameters: {'max_depth': 30, 'min_samples_split': 7, 'min_samples_leaf': 22, 'criterion': 'gini'}. Best is trial 9 with value: 0.5828025477707006.\u001b[0m\n",
      "\u001b[32m[I 2023-03-15 19:07:19,211]\u001b[0m Trial 65 finished with value: 0.5731895223420647 and parameters: {'max_depth': 26, 'min_samples_split': 3, 'min_samples_leaf': 17, 'criterion': 'gini'}. Best is trial 9 with value: 0.5828025477707006.\u001b[0m\n",
      "\u001b[32m[I 2023-03-15 19:07:19,245]\u001b[0m Trial 66 finished with value: 0.5484848484848486 and parameters: {'max_depth': 22, 'min_samples_split': 4, 'min_samples_leaf': 14, 'criterion': 'entropy'}. Best is trial 9 with value: 0.5828025477707006.\u001b[0m\n",
      "\u001b[32m[I 2023-03-15 19:07:19,274]\u001b[0m Trial 67 finished with value: 0.573208722741433 and parameters: {'max_depth': 28, 'min_samples_split': 10, 'min_samples_leaf': 19, 'criterion': 'gini'}. Best is trial 9 with value: 0.5828025477707006.\u001b[0m\n"
     ]
    },
    {
     "name": "stderr",
     "output_type": "stream",
     "text": [
      "\u001b[32m[I 2023-03-15 19:07:19,306]\u001b[0m Trial 68 finished with value: 0.5705426356589148 and parameters: {'max_depth': 11, 'min_samples_split': 7, 'min_samples_leaf': 20, 'criterion': 'gini'}. Best is trial 9 with value: 0.5828025477707006.\u001b[0m\n",
      "\u001b[32m[I 2023-03-15 19:07:19,337]\u001b[0m Trial 69 finished with value: 0.571875 and parameters: {'max_depth': 23, 'min_samples_split': 12, 'min_samples_leaf': 16, 'criterion': 'gini'}. Best is trial 9 with value: 0.5828025477707006.\u001b[0m\n",
      "\u001b[32m[I 2023-03-15 19:07:19,367]\u001b[0m Trial 70 finished with value: 0.5532544378698224 and parameters: {'max_depth': 13, 'min_samples_split': 5, 'min_samples_leaf': 13, 'criterion': 'gini'}. Best is trial 9 with value: 0.5828025477707006.\u001b[0m\n",
      "\u001b[32m[I 2023-03-15 19:07:19,398]\u001b[0m Trial 71 finished with value: 0.5820433436532507 and parameters: {'max_depth': 28, 'min_samples_split': 10, 'min_samples_leaf': 18, 'criterion': 'gini'}. Best is trial 9 with value: 0.5828025477707006.\u001b[0m\n",
      "\u001b[32m[I 2023-03-15 19:07:19,427]\u001b[0m Trial 72 finished with value: 0.5820433436532507 and parameters: {'max_depth': 29, 'min_samples_split': 9, 'min_samples_leaf': 18, 'criterion': 'gini'}. Best is trial 9 with value: 0.5828025477707006.\u001b[0m\n",
      "\u001b[32m[I 2023-03-15 19:07:19,458]\u001b[0m Trial 73 finished with value: 0.565625 and parameters: {'max_depth': 27, 'min_samples_split': 8, 'min_samples_leaf': 21, 'criterion': 'gini'}. Best is trial 9 with value: 0.5828025477707006.\u001b[0m\n",
      "\u001b[32m[I 2023-03-15 19:07:19,488]\u001b[0m Trial 74 finished with value: 0.573208722741433 and parameters: {'max_depth': 26, 'min_samples_split': 17, 'min_samples_leaf': 19, 'criterion': 'gini'}. Best is trial 9 with value: 0.5828025477707006.\u001b[0m\n",
      "\u001b[32m[I 2023-03-15 19:07:19,519]\u001b[0m Trial 75 finished with value: 0.5731895223420647 and parameters: {'max_depth': 25, 'min_samples_split': 20, 'min_samples_leaf': 17, 'criterion': 'gini'}. Best is trial 9 with value: 0.5828025477707006.\u001b[0m\n",
      "\u001b[32m[I 2023-03-15 19:07:19,549]\u001b[0m Trial 76 finished with value: 0.5751824817518248 and parameters: {'max_depth': 30, 'min_samples_split': 6, 'min_samples_leaf': 15, 'criterion': 'gini'}. Best is trial 9 with value: 0.5828025477707006.\u001b[0m\n",
      "\u001b[32m[I 2023-03-15 19:07:19,583]\u001b[0m Trial 77 finished with value: 0.5620915032679739 and parameters: {'max_depth': 29, 'min_samples_split': 10, 'min_samples_leaf': 22, 'criterion': 'entropy'}. Best is trial 9 with value: 0.5828025477707006.\u001b[0m\n",
      "\u001b[32m[I 2023-03-15 19:07:19,614]\u001b[0m Trial 78 finished with value: 0.5820433436532507 and parameters: {'max_depth': 28, 'min_samples_split': 7, 'min_samples_leaf': 18, 'criterion': 'gini'}. Best is trial 9 with value: 0.5828025477707006.\u001b[0m\n",
      "\u001b[32m[I 2023-03-15 19:07:19,644]\u001b[0m Trial 79 finished with value: 0.5705426356589148 and parameters: {'max_depth': 24, 'min_samples_split': 12, 'min_samples_leaf': 20, 'criterion': 'gini'}. Best is trial 9 with value: 0.5828025477707006.\u001b[0m\n",
      "\u001b[32m[I 2023-03-15 19:07:19,675]\u001b[0m Trial 80 finished with value: 0.5731895223420647 and parameters: {'max_depth': 26, 'min_samples_split': 8, 'min_samples_leaf': 17, 'criterion': 'gini'}. Best is trial 9 with value: 0.5828025477707006.\u001b[0m\n",
      "\u001b[32m[I 2023-03-15 19:07:19,706]\u001b[0m Trial 81 finished with value: 0.573208722741433 and parameters: {'max_depth': 29, 'min_samples_split': 11, 'min_samples_leaf': 19, 'criterion': 'gini'}. Best is trial 9 with value: 0.5828025477707006.\u001b[0m\n",
      "\u001b[32m[I 2023-03-15 19:07:19,738]\u001b[0m Trial 82 finished with value: 0.5820433436532507 and parameters: {'max_depth': 29, 'min_samples_split': 14, 'min_samples_leaf': 18, 'criterion': 'gini'}. Best is trial 9 with value: 0.5828025477707006.\u001b[0m\n",
      "\u001b[32m[I 2023-03-15 19:07:19,768]\u001b[0m Trial 83 finished with value: 0.571875 and parameters: {'max_depth': 27, 'min_samples_split': 11, 'min_samples_leaf': 16, 'criterion': 'gini'}. Best is trial 9 with value: 0.5828025477707006.\u001b[0m\n",
      "\u001b[32m[I 2023-03-15 19:07:19,793]\u001b[0m Trial 84 finished with value: 0.5211267605633803 and parameters: {'max_depth': 4, 'min_samples_split': 9, 'min_samples_leaf': 18, 'criterion': 'gini'}. Best is trial 9 with value: 0.5828025477707006.\u001b[0m\n",
      "\u001b[32m[I 2023-03-15 19:07:19,824]\u001b[0m Trial 85 finished with value: 0.5705426356589148 and parameters: {'max_depth': 28, 'min_samples_split': 5, 'min_samples_leaf': 20, 'criterion': 'gini'}. Best is trial 9 with value: 0.5828025477707006.\u001b[0m\n",
      "\u001b[32m[I 2023-03-15 19:07:19,854]\u001b[0m Trial 86 finished with value: 0.5731895223420647 and parameters: {'max_depth': 25, 'min_samples_split': 10, 'min_samples_leaf': 17, 'criterion': 'gini'}. Best is trial 9 with value: 0.5828025477707006.\u001b[0m\n",
      "\u001b[32m[I 2023-03-15 19:07:19,888]\u001b[0m Trial 87 finished with value: 0.5573770491803278 and parameters: {'max_depth': 30, 'min_samples_split': 4, 'min_samples_leaf': 21, 'criterion': 'entropy'}. Best is trial 9 with value: 0.5828025477707006.\u001b[0m\n",
      "\u001b[32m[I 2023-03-15 19:07:19,919]\u001b[0m Trial 88 finished with value: 0.5751824817518248 and parameters: {'max_depth': 16, 'min_samples_split': 6, 'min_samples_leaf': 15, 'criterion': 'gini'}. Best is trial 9 with value: 0.5828025477707006.\u001b[0m\n",
      "\u001b[32m[I 2023-03-15 19:07:19,950]\u001b[0m Trial 89 finished with value: 0.573208722741433 and parameters: {'max_depth': 27, 'min_samples_split': 13, 'min_samples_leaf': 19, 'criterion': 'gini'}. Best is trial 9 with value: 0.5828025477707006.\u001b[0m\n",
      "\u001b[32m[I 2023-03-15 19:07:19,981]\u001b[0m Trial 90 finished with value: 0.571875 and parameters: {'max_depth': 21, 'min_samples_split': 7, 'min_samples_leaf': 16, 'criterion': 'gini'}. Best is trial 9 with value: 0.5828025477707006.\u001b[0m\n",
      "\u001b[32m[I 2023-03-15 19:07:20,011]\u001b[0m Trial 91 finished with value: 0.5820433436532507 and parameters: {'max_depth': 28, 'min_samples_split': 7, 'min_samples_leaf': 18, 'criterion': 'gini'}. Best is trial 9 with value: 0.5828025477707006.\u001b[0m\n",
      "\u001b[32m[I 2023-03-15 19:07:20,042]\u001b[0m Trial 92 finished with value: 0.5731895223420647 and parameters: {'max_depth': 26, 'min_samples_split': 8, 'min_samples_leaf': 17, 'criterion': 'gini'}. Best is trial 9 with value: 0.5828025477707006.\u001b[0m\n",
      "\u001b[32m[I 2023-03-15 19:07:20,072]\u001b[0m Trial 93 finished with value: 0.5820433436532507 and parameters: {'max_depth': 28, 'min_samples_split': 9, 'min_samples_leaf': 18, 'criterion': 'gini'}. Best is trial 9 with value: 0.5828025477707006.\u001b[0m\n",
      "\u001b[32m[I 2023-03-15 19:07:20,103]\u001b[0m Trial 94 finished with value: 0.5705426356589148 and parameters: {'max_depth': 26, 'min_samples_split': 6, 'min_samples_leaf': 20, 'criterion': 'gini'}. Best is trial 9 with value: 0.5828025477707006.\u001b[0m\n",
      "\u001b[32m[I 2023-03-15 19:07:20,135]\u001b[0m Trial 95 finished with value: 0.5650887573964497 and parameters: {'max_depth': 24, 'min_samples_split': 4, 'min_samples_leaf': 14, 'criterion': 'gini'}. Best is trial 9 with value: 0.5828025477707006.\u001b[0m\n",
      "\u001b[32m[I 2023-03-15 19:07:20,166]\u001b[0m Trial 96 finished with value: 0.573208722741433 and parameters: {'max_depth': 30, 'min_samples_split': 26, 'min_samples_leaf': 19, 'criterion': 'gini'}. Best is trial 9 with value: 0.5828025477707006.\u001b[0m\n",
      "\u001b[32m[I 2023-03-15 19:07:20,196]\u001b[0m Trial 97 finished with value: 0.571875 and parameters: {'max_depth': 19, 'min_samples_split': 7, 'min_samples_leaf': 16, 'criterion': 'gini'}. Best is trial 9 with value: 0.5828025477707006.\u001b[0m\n",
      "\u001b[32m[I 2023-03-15 19:07:20,226]\u001b[0m Trial 98 finished with value: 0.5820433436532507 and parameters: {'max_depth': 27, 'min_samples_split': 8, 'min_samples_leaf': 18, 'criterion': 'gini'}. Best is trial 9 with value: 0.5828025477707006.\u001b[0m\n",
      "\u001b[32m[I 2023-03-15 19:07:20,257]\u001b[0m Trial 99 finished with value: 0.573208722741433 and parameters: {'max_depth': 29, 'min_samples_split': 6, 'min_samples_leaf': 19, 'criterion': 'gini'}. Best is trial 9 with value: 0.5828025477707006.\u001b[0m\n",
      "\u001b[32m[I 2023-03-15 19:07:20,293]\u001b[0m Trial 100 finished with value: 0.5531250000000001 and parameters: {'max_depth': 25, 'min_samples_split': 5, 'min_samples_leaf': 17, 'criterion': 'entropy'}. Best is trial 9 with value: 0.5828025477707006.\u001b[0m\n",
      "\u001b[32m[I 2023-03-15 19:07:20,323]\u001b[0m Trial 101 finished with value: 0.5820433436532507 and parameters: {'max_depth': 23, 'min_samples_split': 5, 'min_samples_leaf': 18, 'criterion': 'gini'}. Best is trial 9 with value: 0.5828025477707006.\u001b[0m\n"
     ]
    },
    {
     "name": "stderr",
     "output_type": "stream",
     "text": [
      "\u001b[32m[I 2023-03-15 19:07:20,354]\u001b[0m Trial 102 finished with value: 0.5705426356589148 and parameters: {'max_depth': 28, 'min_samples_split': 3, 'min_samples_leaf': 20, 'criterion': 'gini'}. Best is trial 9 with value: 0.5828025477707006.\u001b[0m\n",
      "\u001b[32m[I 2023-03-15 19:07:20,386]\u001b[0m Trial 103 finished with value: 0.5731895223420647 and parameters: {'max_depth': 24, 'min_samples_split': 7, 'min_samples_leaf': 17, 'criterion': 'gini'}. Best is trial 9 with value: 0.5828025477707006.\u001b[0m\n",
      "\u001b[32m[I 2023-03-15 19:07:20,417]\u001b[0m Trial 104 finished with value: 0.5820433436532507 and parameters: {'max_depth': 27, 'min_samples_split': 9, 'min_samples_leaf': 18, 'criterion': 'gini'}. Best is trial 9 with value: 0.5828025477707006.\u001b[0m\n",
      "\u001b[32m[I 2023-03-15 19:07:20,449]\u001b[0m Trial 105 finished with value: 0.565625 and parameters: {'max_depth': 26, 'min_samples_split': 8, 'min_samples_leaf': 21, 'criterion': 'gini'}. Best is trial 9 with value: 0.5828025477707006.\u001b[0m\n",
      "\u001b[32m[I 2023-03-15 19:07:20,482]\u001b[0m Trial 106 finished with value: 0.535211267605634 and parameters: {'max_depth': 24, 'min_samples_split': 5, 'min_samples_leaf': 6, 'criterion': 'gini'}. Best is trial 9 with value: 0.5828025477707006.\u001b[0m\n",
      "\u001b[32m[I 2023-03-15 19:07:20,512]\u001b[0m Trial 107 finished with value: 0.5799373040752351 and parameters: {'max_depth': 7, 'min_samples_split': 6, 'min_samples_leaf': 15, 'criterion': 'gini'}. Best is trial 9 with value: 0.5828025477707006.\u001b[0m\n",
      "\u001b[32m[I 2023-03-15 19:07:20,545]\u001b[0m Trial 108 finished with value: 0.573208722741433 and parameters: {'max_depth': 25, 'min_samples_split': 11, 'min_samples_leaf': 19, 'criterion': 'gini'}. Best is trial 9 with value: 0.5828025477707006.\u001b[0m\n",
      "\u001b[32m[I 2023-03-15 19:07:20,578]\u001b[0m Trial 109 finished with value: 0.571875 and parameters: {'max_depth': 29, 'min_samples_split': 9, 'min_samples_leaf': 16, 'criterion': 'gini'}. Best is trial 9 with value: 0.5828025477707006.\u001b[0m\n",
      "\u001b[32m[I 2023-03-15 19:07:20,610]\u001b[0m Trial 110 finished with value: 0.565625 and parameters: {'max_depth': 22, 'min_samples_split': 10, 'min_samples_leaf': 21, 'criterion': 'gini'}. Best is trial 9 with value: 0.5828025477707006.\u001b[0m\n",
      "\u001b[32m[I 2023-03-15 19:07:20,644]\u001b[0m Trial 111 finished with value: 0.5820433436532507 and parameters: {'max_depth': 28, 'min_samples_split': 8, 'min_samples_leaf': 18, 'criterion': 'gini'}. Best is trial 9 with value: 0.5828025477707006.\u001b[0m\n",
      "\u001b[32m[I 2023-03-15 19:07:20,677]\u001b[0m Trial 112 finished with value: 0.5731895223420647 and parameters: {'max_depth': 27, 'min_samples_split': 10, 'min_samples_leaf': 17, 'criterion': 'gini'}. Best is trial 9 with value: 0.5828025477707006.\u001b[0m\n",
      "\u001b[32m[I 2023-03-15 19:07:20,709]\u001b[0m Trial 113 finished with value: 0.5820433436532507 and parameters: {'max_depth': 28, 'min_samples_split': 11, 'min_samples_leaf': 18, 'criterion': 'gini'}. Best is trial 9 with value: 0.5828025477707006.\u001b[0m\n",
      "\u001b[32m[I 2023-03-15 19:07:20,742]\u001b[0m Trial 114 finished with value: 0.5626911314984709 and parameters: {'max_depth': 29, 'min_samples_split': 12, 'min_samples_leaf': 23, 'criterion': 'gini'}. Best is trial 9 with value: 0.5828025477707006.\u001b[0m\n",
      "\u001b[32m[I 2023-03-15 19:07:20,774]\u001b[0m Trial 115 finished with value: 0.573208722741433 and parameters: {'max_depth': 30, 'min_samples_split': 14, 'min_samples_leaf': 19, 'criterion': 'gini'}. Best is trial 9 with value: 0.5828025477707006.\u001b[0m\n",
      "\u001b[32m[I 2023-03-15 19:07:20,808]\u001b[0m Trial 116 finished with value: 0.5705426356589148 and parameters: {'max_depth': 26, 'min_samples_split': 10, 'min_samples_leaf': 20, 'criterion': 'gini'}. Best is trial 9 with value: 0.5828025477707006.\u001b[0m\n",
      "\u001b[32m[I 2023-03-15 19:07:20,840]\u001b[0m Trial 117 finished with value: 0.5731895223420647 and parameters: {'max_depth': 27, 'min_samples_split': 6, 'min_samples_leaf': 17, 'criterion': 'gini'}. Best is trial 9 with value: 0.5828025477707006.\u001b[0m\n",
      "\u001b[32m[I 2023-03-15 19:07:20,873]\u001b[0m Trial 118 finished with value: 0.571875 and parameters: {'max_depth': 25, 'min_samples_split': 5, 'min_samples_leaf': 16, 'criterion': 'gini'}. Best is trial 9 with value: 0.5828025477707006.\u001b[0m\n",
      "\u001b[32m[I 2023-03-15 19:07:20,909]\u001b[0m Trial 119 finished with value: 0.5460420032310178 and parameters: {'max_depth': 28, 'min_samples_split': 7, 'min_samples_leaf': 18, 'criterion': 'entropy'}. Best is trial 9 with value: 0.5828025477707006.\u001b[0m\n",
      "\u001b[32m[I 2023-03-15 19:07:20,940]\u001b[0m Trial 120 finished with value: 0.573208722741433 and parameters: {'max_depth': 27, 'min_samples_split': 4, 'min_samples_leaf': 19, 'criterion': 'gini'}. Best is trial 9 with value: 0.5828025477707006.\u001b[0m\n",
      "\u001b[32m[I 2023-03-15 19:07:20,972]\u001b[0m Trial 121 finished with value: 0.5820433436532507 and parameters: {'max_depth': 29, 'min_samples_split': 9, 'min_samples_leaf': 18, 'criterion': 'gini'}. Best is trial 9 with value: 0.5828025477707006.\u001b[0m\n",
      "\u001b[32m[I 2023-03-15 19:07:21,004]\u001b[0m Trial 122 finished with value: 0.5820433436532507 and parameters: {'max_depth': 30, 'min_samples_split': 9, 'min_samples_leaf': 18, 'criterion': 'gini'}. Best is trial 9 with value: 0.5828025477707006.\u001b[0m\n",
      "\u001b[32m[I 2023-03-15 19:07:21,037]\u001b[0m Trial 123 finished with value: 0.5731895223420647 and parameters: {'max_depth': 29, 'min_samples_split': 8, 'min_samples_leaf': 17, 'criterion': 'gini'}. Best is trial 9 with value: 0.5828025477707006.\u001b[0m\n",
      "\u001b[32m[I 2023-03-15 19:07:21,069]\u001b[0m Trial 124 finished with value: 0.573208722741433 and parameters: {'max_depth': 28, 'min_samples_split': 7, 'min_samples_leaf': 19, 'criterion': 'gini'}. Best is trial 9 with value: 0.5828025477707006.\u001b[0m\n",
      "\u001b[32m[I 2023-03-15 19:07:21,100]\u001b[0m Trial 125 finished with value: 0.5705426356589148 and parameters: {'max_depth': 26, 'min_samples_split': 8, 'min_samples_leaf': 20, 'criterion': 'gini'}. Best is trial 9 with value: 0.5828025477707006.\u001b[0m\n",
      "\u001b[32m[I 2023-03-15 19:07:21,131]\u001b[0m Trial 126 finished with value: 0.5731895223420647 and parameters: {'max_depth': 29, 'min_samples_split': 12, 'min_samples_leaf': 17, 'criterion': 'gini'}. Best is trial 9 with value: 0.5828025477707006.\u001b[0m\n",
      "\u001b[32m[I 2023-03-15 19:07:21,163]\u001b[0m Trial 127 finished with value: 0.5751824817518248 and parameters: {'max_depth': 14, 'min_samples_split': 9, 'min_samples_leaf': 15, 'criterion': 'gini'}. Best is trial 9 with value: 0.5828025477707006.\u001b[0m\n",
      "\u001b[32m[I 2023-03-15 19:07:21,195]\u001b[0m Trial 128 finished with value: 0.571875 and parameters: {'max_depth': 24, 'min_samples_split': 10, 'min_samples_leaf': 16, 'criterion': 'gini'}. Best is trial 9 with value: 0.5828025477707006.\u001b[0m\n",
      "\u001b[32m[I 2023-03-15 19:07:21,226]\u001b[0m Trial 129 finished with value: 0.573208722741433 and parameters: {'max_depth': 26, 'min_samples_split': 6, 'min_samples_leaf': 19, 'criterion': 'gini'}. Best is trial 9 with value: 0.5828025477707006.\u001b[0m\n",
      "\u001b[32m[I 2023-03-15 19:07:21,257]\u001b[0m Trial 130 finished with value: 0.5709828393135725 and parameters: {'max_depth': 10, 'min_samples_split': 7, 'min_samples_leaf': 18, 'criterion': 'gini'}. Best is trial 9 with value: 0.5828025477707006.\u001b[0m\n",
      "\u001b[32m[I 2023-03-15 19:07:21,289]\u001b[0m Trial 131 finished with value: 0.5820433436532507 and parameters: {'max_depth': 28, 'min_samples_split': 7, 'min_samples_leaf': 18, 'criterion': 'gini'}. Best is trial 9 with value: 0.5828025477707006.\u001b[0m\n",
      "\u001b[32m[I 2023-03-15 19:07:21,321]\u001b[0m Trial 132 finished with value: 0.5731895223420647 and parameters: {'max_depth': 28, 'min_samples_split': 11, 'min_samples_leaf': 17, 'criterion': 'gini'}. Best is trial 9 with value: 0.5828025477707006.\u001b[0m\n",
      "\u001b[32m[I 2023-03-15 19:07:21,353]\u001b[0m Trial 133 finished with value: 0.5705426356589148 and parameters: {'max_depth': 27, 'min_samples_split': 6, 'min_samples_leaf': 20, 'criterion': 'gini'}. Best is trial 9 with value: 0.5828025477707006.\u001b[0m\n",
      "\u001b[32m[I 2023-03-15 19:07:21,385]\u001b[0m Trial 134 finished with value: 0.5820433436532507 and parameters: {'max_depth': 30, 'min_samples_split': 8, 'min_samples_leaf': 18, 'criterion': 'gini'}. Best is trial 9 with value: 0.5828025477707006.\u001b[0m\n",
      "\u001b[32m[I 2023-03-15 19:07:21,416]\u001b[0m Trial 135 finished with value: 0.571875 and parameters: {'max_depth': 29, 'min_samples_split': 7, 'min_samples_leaf': 16, 'criterion': 'gini'}. Best is trial 9 with value: 0.5828025477707006.\u001b[0m\n"
     ]
    },
    {
     "name": "stderr",
     "output_type": "stream",
     "text": [
      "\u001b[32m[I 2023-03-15 19:07:21,448]\u001b[0m Trial 136 finished with value: 0.573208722741433 and parameters: {'max_depth': 25, 'min_samples_split': 5, 'min_samples_leaf': 19, 'criterion': 'gini'}. Best is trial 9 with value: 0.5828025477707006.\u001b[0m\n",
      "\u001b[32m[I 2023-03-15 19:07:21,480]\u001b[0m Trial 137 finished with value: 0.5731895223420647 and parameters: {'max_depth': 28, 'min_samples_split': 13, 'min_samples_leaf': 17, 'criterion': 'gini'}. Best is trial 9 with value: 0.5828025477707006.\u001b[0m\n",
      "\u001b[32m[I 2023-03-15 19:07:21,511]\u001b[0m Trial 138 finished with value: 0.5820433436532507 and parameters: {'max_depth': 27, 'min_samples_split': 9, 'min_samples_leaf': 18, 'criterion': 'gini'}. Best is trial 9 with value: 0.5828025477707006.\u001b[0m\n",
      "\u001b[32m[I 2023-03-15 19:07:21,547]\u001b[0m Trial 139 finished with value: 0.549520766773163 and parameters: {'max_depth': 29, 'min_samples_split': 6, 'min_samples_leaf': 19, 'criterion': 'entropy'}. Best is trial 9 with value: 0.5828025477707006.\u001b[0m\n",
      "\u001b[32m[I 2023-03-15 19:07:21,578]\u001b[0m Trial 140 finished with value: 0.5705426356589148 and parameters: {'max_depth': 26, 'min_samples_split': 10, 'min_samples_leaf': 20, 'criterion': 'gini'}. Best is trial 9 with value: 0.5828025477707006.\u001b[0m\n",
      "\u001b[32m[I 2023-03-15 19:07:21,610]\u001b[0m Trial 141 finished with value: 0.5820433436532507 and parameters: {'max_depth': 29, 'min_samples_split': 15, 'min_samples_leaf': 18, 'criterion': 'gini'}. Best is trial 9 with value: 0.5828025477707006.\u001b[0m\n",
      "\u001b[32m[I 2023-03-15 19:07:21,643]\u001b[0m Trial 142 finished with value: 0.5731895223420647 and parameters: {'max_depth': 28, 'min_samples_split': 17, 'min_samples_leaf': 17, 'criterion': 'gini'}. Best is trial 9 with value: 0.5828025477707006.\u001b[0m\n",
      "\u001b[32m[I 2023-03-15 19:07:21,675]\u001b[0m Trial 143 finished with value: 0.5820433436532507 and parameters: {'max_depth': 30, 'min_samples_split': 7, 'min_samples_leaf': 18, 'criterion': 'gini'}. Best is trial 9 with value: 0.5828025477707006.\u001b[0m\n",
      "\u001b[32m[I 2023-03-15 19:07:21,707]\u001b[0m Trial 144 finished with value: 0.573208722741433 and parameters: {'max_depth': 29, 'min_samples_split': 14, 'min_samples_leaf': 19, 'criterion': 'gini'}. Best is trial 9 with value: 0.5828025477707006.\u001b[0m\n",
      "\u001b[32m[I 2023-03-15 19:07:21,740]\u001b[0m Trial 145 finished with value: 0.5731895223420647 and parameters: {'max_depth': 23, 'min_samples_split': 12, 'min_samples_leaf': 17, 'criterion': 'gini'}. Best is trial 9 with value: 0.5828025477707006.\u001b[0m\n",
      "\u001b[32m[I 2023-03-15 19:07:21,772]\u001b[0m Trial 146 finished with value: 0.5820433436532507 and parameters: {'max_depth': 27, 'min_samples_split': 11, 'min_samples_leaf': 18, 'criterion': 'gini'}. Best is trial 9 with value: 0.5828025477707006.\u001b[0m\n",
      "\u001b[32m[I 2023-03-15 19:07:21,804]\u001b[0m Trial 147 finished with value: 0.571875 and parameters: {'max_depth': 30, 'min_samples_split': 8, 'min_samples_leaf': 16, 'criterion': 'gini'}. Best is trial 9 with value: 0.5828025477707006.\u001b[0m\n",
      "\u001b[32m[I 2023-03-15 19:07:21,828]\u001b[0m Trial 148 finished with value: 0.5315614617940199 and parameters: {'max_depth': 3, 'min_samples_split': 10, 'min_samples_leaf': 19, 'criterion': 'gini'}. Best is trial 9 with value: 0.5828025477707006.\u001b[0m\n",
      "\u001b[32m[I 2023-03-15 19:07:21,859]\u001b[0m Trial 149 finished with value: 0.5705426356589148 and parameters: {'max_depth': 25, 'min_samples_split': 22, 'min_samples_leaf': 20, 'criterion': 'gini'}. Best is trial 9 with value: 0.5828025477707006.\u001b[0m\n",
      "\u001b[32m[I 2023-03-15 19:07:21,893]\u001b[0m Trial 150 finished with value: 0.5731895223420647 and parameters: {'max_depth': 28, 'min_samples_split': 9, 'min_samples_leaf': 17, 'criterion': 'gini'}. Best is trial 9 with value: 0.5828025477707006.\u001b[0m\n",
      "\u001b[32m[I 2023-03-15 19:07:21,926]\u001b[0m Trial 151 finished with value: 0.5820433436532507 and parameters: {'max_depth': 28, 'min_samples_split': 7, 'min_samples_leaf': 18, 'criterion': 'gini'}. Best is trial 9 with value: 0.5828025477707006.\u001b[0m\n",
      "\u001b[32m[I 2023-03-15 19:07:21,960]\u001b[0m Trial 152 finished with value: 0.5820433436532507 and parameters: {'max_depth': 17, 'min_samples_split': 6, 'min_samples_leaf': 18, 'criterion': 'gini'}. Best is trial 9 with value: 0.5828025477707006.\u001b[0m\n",
      "\u001b[32m[I 2023-03-15 19:07:21,992]\u001b[0m Trial 153 finished with value: 0.573208722741433 and parameters: {'max_depth': 29, 'min_samples_split': 5, 'min_samples_leaf': 19, 'criterion': 'gini'}. Best is trial 9 with value: 0.5828025477707006.\u001b[0m\n",
      "\u001b[32m[I 2023-03-15 19:07:22,024]\u001b[0m Trial 154 finished with value: 0.5731895223420647 and parameters: {'max_depth': 27, 'min_samples_split': 8, 'min_samples_leaf': 17, 'criterion': 'gini'}. Best is trial 9 with value: 0.5828025477707006.\u001b[0m\n",
      "\u001b[32m[I 2023-03-15 19:07:22,057]\u001b[0m Trial 155 finished with value: 0.5820433436532507 and parameters: {'max_depth': 26, 'min_samples_split': 7, 'min_samples_leaf': 18, 'criterion': 'gini'}. Best is trial 9 with value: 0.5828025477707006.\u001b[0m\n",
      "\u001b[32m[I 2023-03-15 19:07:22,089]\u001b[0m Trial 156 finished with value: 0.573208722741433 and parameters: {'max_depth': 28, 'min_samples_split': 8, 'min_samples_leaf': 19, 'criterion': 'gini'}. Best is trial 9 with value: 0.5828025477707006.\u001b[0m\n",
      "\u001b[32m[I 2023-03-15 19:07:22,122]\u001b[0m Trial 157 finished with value: 0.571875 and parameters: {'max_depth': 29, 'min_samples_split': 6, 'min_samples_leaf': 16, 'criterion': 'gini'}. Best is trial 9 with value: 0.5828025477707006.\u001b[0m\n",
      "\u001b[32m[I 2023-03-15 19:07:22,155]\u001b[0m Trial 158 finished with value: 0.5820433436532507 and parameters: {'max_depth': 27, 'min_samples_split': 4, 'min_samples_leaf': 18, 'criterion': 'gini'}. Best is trial 9 with value: 0.5828025477707006.\u001b[0m\n",
      "\u001b[32m[I 2023-03-15 19:07:22,189]\u001b[0m Trial 159 finished with value: 0.565625 and parameters: {'max_depth': 28, 'min_samples_split': 7, 'min_samples_leaf': 21, 'criterion': 'gini'}. Best is trial 9 with value: 0.5828025477707006.\u001b[0m\n",
      "\u001b[32m[I 2023-03-15 19:07:22,222]\u001b[0m Trial 160 finished with value: 0.5751824817518248 and parameters: {'max_depth': 24, 'min_samples_split': 9, 'min_samples_leaf': 15, 'criterion': 'gini'}. Best is trial 9 with value: 0.5828025477707006.\u001b[0m\n",
      "\u001b[32m[I 2023-03-15 19:07:22,255]\u001b[0m Trial 161 finished with value: 0.5820433436532507 and parameters: {'max_depth': 28, 'min_samples_split': 9, 'min_samples_leaf': 18, 'criterion': 'gini'}. Best is trial 9 with value: 0.5828025477707006.\u001b[0m\n",
      "\u001b[32m[I 2023-03-15 19:07:22,288]\u001b[0m Trial 162 finished with value: 0.5731895223420647 and parameters: {'max_depth': 27, 'min_samples_split': 10, 'min_samples_leaf': 17, 'criterion': 'gini'}. Best is trial 9 with value: 0.5828025477707006.\u001b[0m\n",
      "\u001b[32m[I 2023-03-15 19:07:22,321]\u001b[0m Trial 163 finished with value: 0.573208722741433 and parameters: {'max_depth': 30, 'min_samples_split': 11, 'min_samples_leaf': 19, 'criterion': 'gini'}. Best is trial 9 with value: 0.5828025477707006.\u001b[0m\n",
      "\u001b[32m[I 2023-03-15 19:07:22,354]\u001b[0m Trial 164 finished with value: 0.5731895223420647 and parameters: {'max_depth': 29, 'min_samples_split': 8, 'min_samples_leaf': 17, 'criterion': 'gini'}. Best is trial 9 with value: 0.5828025477707006.\u001b[0m\n",
      "\u001b[32m[I 2023-03-15 19:07:22,386]\u001b[0m Trial 165 finished with value: 0.5705426356589148 and parameters: {'max_depth': 28, 'min_samples_split': 7, 'min_samples_leaf': 20, 'criterion': 'gini'}. Best is trial 9 with value: 0.5828025477707006.\u001b[0m\n",
      "\u001b[32m[I 2023-03-15 19:07:22,422]\u001b[0m Trial 166 finished with value: 0.5460420032310178 and parameters: {'max_depth': 26, 'min_samples_split': 8, 'min_samples_leaf': 18, 'criterion': 'entropy'}. Best is trial 9 with value: 0.5828025477707006.\u001b[0m\n",
      "\u001b[32m[I 2023-03-15 19:07:22,449]\u001b[0m Trial 167 finished with value: 0.5365853658536586 and parameters: {'max_depth': 5, 'min_samples_split': 6, 'min_samples_leaf': 19, 'criterion': 'gini'}. Best is trial 9 with value: 0.5828025477707006.\u001b[0m\n",
      "\u001b[32m[I 2023-03-15 19:07:22,481]\u001b[0m Trial 168 finished with value: 0.5820433436532507 and parameters: {'max_depth': 12, 'min_samples_split': 9, 'min_samples_leaf': 18, 'criterion': 'gini'}. Best is trial 9 with value: 0.5828025477707006.\u001b[0m\n",
      "\u001b[32m[I 2023-03-15 19:07:22,513]\u001b[0m Trial 169 finished with value: 0.5731895223420647 and parameters: {'max_depth': 25, 'min_samples_split': 10, 'min_samples_leaf': 17, 'criterion': 'gini'}. Best is trial 9 with value: 0.5828025477707006.\u001b[0m\n"
     ]
    },
    {
     "name": "stderr",
     "output_type": "stream",
     "text": [
      "\u001b[32m[I 2023-03-15 19:07:22,547]\u001b[0m Trial 170 finished with value: 0.571875 and parameters: {'max_depth': 29, 'min_samples_split': 5, 'min_samples_leaf': 16, 'criterion': 'gini'}. Best is trial 9 with value: 0.5828025477707006.\u001b[0m\n",
      "\u001b[32m[I 2023-03-15 19:07:22,579]\u001b[0m Trial 171 finished with value: 0.5820433436532507 and parameters: {'max_depth': 27, 'min_samples_split': 13, 'min_samples_leaf': 18, 'criterion': 'gini'}. Best is trial 9 with value: 0.5828025477707006.\u001b[0m\n",
      "\u001b[32m[I 2023-03-15 19:07:22,613]\u001b[0m Trial 172 finished with value: 0.573208722741433 and parameters: {'max_depth': 28, 'min_samples_split': 7, 'min_samples_leaf': 19, 'criterion': 'gini'}. Best is trial 9 with value: 0.5828025477707006.\u001b[0m\n",
      "\u001b[32m[I 2023-03-15 19:07:22,645]\u001b[0m Trial 173 finished with value: 0.5820433436532507 and parameters: {'max_depth': 27, 'min_samples_split': 8, 'min_samples_leaf': 18, 'criterion': 'gini'}. Best is trial 9 with value: 0.5828025477707006.\u001b[0m\n",
      "\u001b[32m[I 2023-03-15 19:07:22,678]\u001b[0m Trial 174 finished with value: 0.5731895223420647 and parameters: {'max_depth': 28, 'min_samples_split': 9, 'min_samples_leaf': 17, 'criterion': 'gini'}. Best is trial 9 with value: 0.5828025477707006.\u001b[0m\n",
      "\u001b[32m[I 2023-03-15 19:07:22,711]\u001b[0m Trial 175 finished with value: 0.5820433436532507 and parameters: {'max_depth': 26, 'min_samples_split': 7, 'min_samples_leaf': 18, 'criterion': 'gini'}. Best is trial 9 with value: 0.5828025477707006.\u001b[0m\n",
      "\u001b[32m[I 2023-03-15 19:07:22,745]\u001b[0m Trial 176 finished with value: 0.573208722741433 and parameters: {'max_depth': 19, 'min_samples_split': 6, 'min_samples_leaf': 19, 'criterion': 'gini'}. Best is trial 9 with value: 0.5828025477707006.\u001b[0m\n",
      "\u001b[32m[I 2023-03-15 19:07:22,780]\u001b[0m Trial 177 finished with value: 0.5335157318741448 and parameters: {'max_depth': 27, 'min_samples_split': 12, 'min_samples_leaf': 3, 'criterion': 'gini'}. Best is trial 9 with value: 0.5828025477707006.\u001b[0m\n",
      "\u001b[32m[I 2023-03-15 19:07:22,813]\u001b[0m Trial 178 finished with value: 0.5705426356589148 and parameters: {'max_depth': 29, 'min_samples_split': 8, 'min_samples_leaf': 20, 'criterion': 'gini'}. Best is trial 9 with value: 0.5828025477707006.\u001b[0m\n",
      "\u001b[32m[I 2023-03-15 19:07:22,847]\u001b[0m Trial 179 finished with value: 0.5731895223420647 and parameters: {'max_depth': 28, 'min_samples_split': 8, 'min_samples_leaf': 17, 'criterion': 'gini'}. Best is trial 9 with value: 0.5828025477707006.\u001b[0m\n",
      "\u001b[32m[I 2023-03-15 19:07:22,882]\u001b[0m Trial 180 finished with value: 0.5820433436532507 and parameters: {'max_depth': 26, 'min_samples_split': 5, 'min_samples_leaf': 18, 'criterion': 'gini'}. Best is trial 9 with value: 0.5828025477707006.\u001b[0m\n",
      "\u001b[32m[I 2023-03-15 19:07:22,917]\u001b[0m Trial 181 finished with value: 0.5820433436532507 and parameters: {'max_depth': 24, 'min_samples_split': 6, 'min_samples_leaf': 18, 'criterion': 'gini'}. Best is trial 9 with value: 0.5828025477707006.\u001b[0m\n",
      "\u001b[32m[I 2023-03-15 19:07:22,952]\u001b[0m Trial 182 finished with value: 0.573208722741433 and parameters: {'max_depth': 23, 'min_samples_split': 4, 'min_samples_leaf': 19, 'criterion': 'gini'}. Best is trial 9 with value: 0.5828025477707006.\u001b[0m\n",
      "\u001b[32m[I 2023-03-15 19:07:22,986]\u001b[0m Trial 183 finished with value: 0.5731895223420647 and parameters: {'max_depth': 25, 'min_samples_split': 3, 'min_samples_leaf': 17, 'criterion': 'gini'}. Best is trial 9 with value: 0.5828025477707006.\u001b[0m\n",
      "\u001b[32m[I 2023-03-15 19:07:23,020]\u001b[0m Trial 184 finished with value: 0.5820433436532507 and parameters: {'max_depth': 27, 'min_samples_split': 6, 'min_samples_leaf': 18, 'criterion': 'gini'}. Best is trial 9 with value: 0.5828025477707006.\u001b[0m\n",
      "\u001b[32m[I 2023-03-15 19:07:23,053]\u001b[0m Trial 185 finished with value: 0.573208722741433 and parameters: {'max_depth': 25, 'min_samples_split': 11, 'min_samples_leaf': 19, 'criterion': 'gini'}. Best is trial 9 with value: 0.5828025477707006.\u001b[0m\n",
      "\u001b[32m[I 2023-03-15 19:07:23,087]\u001b[0m Trial 186 finished with value: 0.5731895223420647 and parameters: {'max_depth': 23, 'min_samples_split': 9, 'min_samples_leaf': 17, 'criterion': 'gini'}. Best is trial 9 with value: 0.5828025477707006.\u001b[0m\n",
      "\u001b[32m[I 2023-03-15 19:07:23,121]\u001b[0m Trial 187 finished with value: 0.5820433436532507 and parameters: {'max_depth': 24, 'min_samples_split': 5, 'min_samples_leaf': 18, 'criterion': 'gini'}. Best is trial 9 with value: 0.5828025477707006.\u001b[0m\n",
      "\u001b[32m[I 2023-03-15 19:07:23,154]\u001b[0m Trial 188 finished with value: 0.571875 and parameters: {'max_depth': 15, 'min_samples_split': 7, 'min_samples_leaf': 16, 'criterion': 'gini'}. Best is trial 9 with value: 0.5828025477707006.\u001b[0m\n",
      "\u001b[32m[I 2023-03-15 19:07:23,192]\u001b[0m Trial 189 finished with value: 0.5511811023622047 and parameters: {'max_depth': 29, 'min_samples_split': 7, 'min_samples_leaf': 20, 'criterion': 'entropy'}. Best is trial 9 with value: 0.5828025477707006.\u001b[0m\n",
      "\u001b[32m[I 2023-03-15 19:07:23,226]\u001b[0m Trial 190 finished with value: 0.5820433436532507 and parameters: {'max_depth': 28, 'min_samples_split': 10, 'min_samples_leaf': 18, 'criterion': 'gini'}. Best is trial 9 with value: 0.5828025477707006.\u001b[0m\n",
      "\u001b[32m[I 2023-03-15 19:07:23,260]\u001b[0m Trial 191 finished with value: 0.5820433436532507 and parameters: {'max_depth': 27, 'min_samples_split': 9, 'min_samples_leaf': 18, 'criterion': 'gini'}. Best is trial 9 with value: 0.5828025477707006.\u001b[0m\n",
      "\u001b[32m[I 2023-03-15 19:07:23,294]\u001b[0m Trial 192 finished with value: 0.573208722741433 and parameters: {'max_depth': 27, 'min_samples_split': 8, 'min_samples_leaf': 19, 'criterion': 'gini'}. Best is trial 9 with value: 0.5828025477707006.\u001b[0m\n",
      "\u001b[32m[I 2023-03-15 19:07:23,328]\u001b[0m Trial 193 finished with value: 0.5731895223420647 and parameters: {'max_depth': 26, 'min_samples_split': 10, 'min_samples_leaf': 17, 'criterion': 'gini'}. Best is trial 9 with value: 0.5828025477707006.\u001b[0m\n",
      "\u001b[32m[I 2023-03-15 19:07:23,362]\u001b[0m Trial 194 finished with value: 0.5820433436532507 and parameters: {'max_depth': 28, 'min_samples_split': 9, 'min_samples_leaf': 18, 'criterion': 'gini'}. Best is trial 9 with value: 0.5828025477707006.\u001b[0m\n",
      "\u001b[32m[I 2023-03-15 19:07:23,396]\u001b[0m Trial 195 finished with value: 0.5820433436532507 and parameters: {'max_depth': 29, 'min_samples_split': 7, 'min_samples_leaf': 18, 'criterion': 'gini'}. Best is trial 9 with value: 0.5828025477707006.\u001b[0m\n",
      "\u001b[32m[I 2023-03-15 19:07:23,429]\u001b[0m Trial 196 finished with value: 0.573208722741433 and parameters: {'max_depth': 28, 'min_samples_split': 8, 'min_samples_leaf': 19, 'criterion': 'gini'}. Best is trial 9 with value: 0.5828025477707006.\u001b[0m\n",
      "\u001b[32m[I 2023-03-15 19:07:23,463]\u001b[0m Trial 197 finished with value: 0.5731895223420647 and parameters: {'max_depth': 25, 'min_samples_split': 11, 'min_samples_leaf': 17, 'criterion': 'gini'}. Best is trial 9 with value: 0.5828025477707006.\u001b[0m\n",
      "\u001b[32m[I 2023-03-15 19:07:23,497]\u001b[0m Trial 198 finished with value: 0.5820433436532507 and parameters: {'max_depth': 30, 'min_samples_split': 19, 'min_samples_leaf': 18, 'criterion': 'gini'}. Best is trial 9 with value: 0.5828025477707006.\u001b[0m\n",
      "\u001b[32m[I 2023-03-15 19:07:23,531]\u001b[0m Trial 199 finished with value: 0.573208722741433 and parameters: {'max_depth': 27, 'min_samples_split': 6, 'min_samples_leaf': 19, 'criterion': 'gini'}. Best is trial 9 with value: 0.5828025477707006.\u001b[0m\n",
      "\u001b[32m[I 2023-03-15 19:07:23,565]\u001b[0m Trial 200 finished with value: 0.5731895223420647 and parameters: {'max_depth': 26, 'min_samples_split': 30, 'min_samples_leaf': 17, 'criterion': 'gini'}. Best is trial 9 with value: 0.5828025477707006.\u001b[0m\n",
      "\u001b[32m[I 2023-03-15 19:07:23,599]\u001b[0m Trial 201 finished with value: 0.5820433436532507 and parameters: {'max_depth': 28, 'min_samples_split': 9, 'min_samples_leaf': 18, 'criterion': 'gini'}. Best is trial 9 with value: 0.5828025477707006.\u001b[0m\n",
      "\u001b[32m[I 2023-03-15 19:07:23,633]\u001b[0m Trial 202 finished with value: 0.5820433436532507 and parameters: {'max_depth': 28, 'min_samples_split': 16, 'min_samples_leaf': 18, 'criterion': 'gini'}. Best is trial 9 with value: 0.5828025477707006.\u001b[0m\n",
      "\u001b[32m[I 2023-03-15 19:07:23,667]\u001b[0m Trial 203 finished with value: 0.573208722741433 and parameters: {'max_depth': 29, 'min_samples_split': 8, 'min_samples_leaf': 19, 'criterion': 'gini'}. Best is trial 9 with value: 0.5828025477707006.\u001b[0m\n"
     ]
    },
    {
     "name": "stderr",
     "output_type": "stream",
     "text": [
      "\u001b[32m[I 2023-03-15 19:07:23,701]\u001b[0m Trial 204 finished with value: 0.5731895223420647 and parameters: {'max_depth': 28, 'min_samples_split': 7, 'min_samples_leaf': 17, 'criterion': 'gini'}. Best is trial 9 with value: 0.5828025477707006.\u001b[0m\n",
      "\u001b[32m[I 2023-03-15 19:07:23,735]\u001b[0m Trial 205 finished with value: 0.5820433436532507 and parameters: {'max_depth': 27, 'min_samples_split': 8, 'min_samples_leaf': 18, 'criterion': 'gini'}. Best is trial 9 with value: 0.5828025477707006.\u001b[0m\n",
      "\u001b[32m[I 2023-03-15 19:07:23,770]\u001b[0m Trial 206 finished with value: 0.573208722741433 and parameters: {'max_depth': 29, 'min_samples_split': 6, 'min_samples_leaf': 19, 'criterion': 'gini'}. Best is trial 9 with value: 0.5828025477707006.\u001b[0m\n",
      "\u001b[32m[I 2023-03-15 19:07:23,804]\u001b[0m Trial 207 finished with value: 0.571875 and parameters: {'max_depth': 29, 'min_samples_split': 5, 'min_samples_leaf': 16, 'criterion': 'gini'}. Best is trial 9 with value: 0.5828025477707006.\u001b[0m\n",
      "\u001b[32m[I 2023-03-15 19:07:23,838]\u001b[0m Trial 208 finished with value: 0.5820433436532507 and parameters: {'max_depth': 28, 'min_samples_split': 9, 'min_samples_leaf': 18, 'criterion': 'gini'}. Best is trial 9 with value: 0.5828025477707006.\u001b[0m\n",
      "\u001b[32m[I 2023-03-15 19:07:23,874]\u001b[0m Trial 209 finished with value: 0.5643994211287988 and parameters: {'max_depth': 27, 'min_samples_split': 7, 'min_samples_leaf': 8, 'criterion': 'gini'}. Best is trial 9 with value: 0.5828025477707006.\u001b[0m\n",
      "\u001b[32m[I 2023-03-15 19:07:23,908]\u001b[0m Trial 210 finished with value: 0.5731895223420647 and parameters: {'max_depth': 26, 'min_samples_split': 10, 'min_samples_leaf': 17, 'criterion': 'gini'}. Best is trial 9 with value: 0.5828025477707006.\u001b[0m\n",
      "\u001b[32m[I 2023-03-15 19:07:23,942]\u001b[0m Trial 211 finished with value: 0.5820433436532507 and parameters: {'max_depth': 28, 'min_samples_split': 11, 'min_samples_leaf': 18, 'criterion': 'gini'}. Best is trial 9 with value: 0.5828025477707006.\u001b[0m\n",
      "\u001b[32m[I 2023-03-15 19:07:23,976]\u001b[0m Trial 212 finished with value: 0.5820433436532507 and parameters: {'max_depth': 28, 'min_samples_split': 10, 'min_samples_leaf': 18, 'criterion': 'gini'}. Best is trial 9 with value: 0.5828025477707006.\u001b[0m\n",
      "\u001b[32m[I 2023-03-15 19:07:24,009]\u001b[0m Trial 213 finished with value: 0.5746388443017657 and parameters: {'max_depth': 8, 'min_samples_split': 12, 'min_samples_leaf': 19, 'criterion': 'gini'}. Best is trial 9 with value: 0.5828025477707006.\u001b[0m\n",
      "\u001b[32m[I 2023-03-15 19:07:24,044]\u001b[0m Trial 214 finished with value: 0.5820433436532507 and parameters: {'max_depth': 30, 'min_samples_split': 8, 'min_samples_leaf': 18, 'criterion': 'gini'}. Best is trial 9 with value: 0.5828025477707006.\u001b[0m\n",
      "\u001b[32m[I 2023-03-15 19:07:24,079]\u001b[0m Trial 215 finished with value: 0.5731895223420647 and parameters: {'max_depth': 28, 'min_samples_split': 11, 'min_samples_leaf': 17, 'criterion': 'gini'}. Best is trial 9 with value: 0.5828025477707006.\u001b[0m\n",
      "\u001b[32m[I 2023-03-15 19:07:24,113]\u001b[0m Trial 216 finished with value: 0.573208722741433 and parameters: {'max_depth': 27, 'min_samples_split': 7, 'min_samples_leaf': 19, 'criterion': 'gini'}. Best is trial 9 with value: 0.5828025477707006.\u001b[0m\n",
      "\u001b[32m[I 2023-03-15 19:07:24,149]\u001b[0m Trial 217 finished with value: 0.5820433436532507 and parameters: {'max_depth': 24, 'min_samples_split': 5, 'min_samples_leaf': 18, 'criterion': 'gini'}. Best is trial 9 with value: 0.5828025477707006.\u001b[0m\n",
      "\u001b[32m[I 2023-03-15 19:07:24,182]\u001b[0m Trial 218 finished with value: 0.5731895223420647 and parameters: {'max_depth': 29, 'min_samples_split': 9, 'min_samples_leaf': 17, 'criterion': 'gini'}. Best is trial 9 with value: 0.5828025477707006.\u001b[0m\n",
      "\u001b[32m[I 2023-03-15 19:07:24,218]\u001b[0m Trial 219 finished with value: 0.5705426356589148 and parameters: {'max_depth': 25, 'min_samples_split': 8, 'min_samples_leaf': 20, 'criterion': 'gini'}. Best is trial 9 with value: 0.5828025477707006.\u001b[0m\n",
      "\u001b[32m[I 2023-03-15 19:07:24,253]\u001b[0m Trial 220 finished with value: 0.573208722741433 and parameters: {'max_depth': 27, 'min_samples_split': 11, 'min_samples_leaf': 19, 'criterion': 'gini'}. Best is trial 9 with value: 0.5828025477707006.\u001b[0m\n",
      "\u001b[32m[I 2023-03-15 19:07:24,287]\u001b[0m Trial 221 finished with value: 0.5820433436532507 and parameters: {'max_depth': 29, 'min_samples_split': 9, 'min_samples_leaf': 18, 'criterion': 'gini'}. Best is trial 9 with value: 0.5828025477707006.\u001b[0m\n",
      "\u001b[32m[I 2023-03-15 19:07:24,322]\u001b[0m Trial 222 finished with value: 0.5820433436532507 and parameters: {'max_depth': 29, 'min_samples_split': 10, 'min_samples_leaf': 18, 'criterion': 'gini'}. Best is trial 9 with value: 0.5828025477707006.\u001b[0m\n",
      "\u001b[32m[I 2023-03-15 19:07:24,356]\u001b[0m Trial 223 finished with value: 0.5731895223420647 and parameters: {'max_depth': 28, 'min_samples_split': 8, 'min_samples_leaf': 17, 'criterion': 'gini'}. Best is trial 9 with value: 0.5828025477707006.\u001b[0m\n",
      "\u001b[32m[I 2023-03-15 19:07:24,391]\u001b[0m Trial 224 finished with value: 0.5820433436532507 and parameters: {'max_depth': 29, 'min_samples_split': 9, 'min_samples_leaf': 18, 'criterion': 'gini'}. Best is trial 9 with value: 0.5828025477707006.\u001b[0m\n",
      "\u001b[32m[I 2023-03-15 19:07:24,429]\u001b[0m Trial 225 finished with value: 0.549520766773163 and parameters: {'max_depth': 28, 'min_samples_split': 7, 'min_samples_leaf': 19, 'criterion': 'entropy'}. Best is trial 9 with value: 0.5828025477707006.\u001b[0m\n",
      "\u001b[32m[I 2023-03-15 19:07:24,464]\u001b[0m Trial 226 finished with value: 0.5731895223420647 and parameters: {'max_depth': 30, 'min_samples_split': 6, 'min_samples_leaf': 17, 'criterion': 'gini'}. Best is trial 9 with value: 0.5828025477707006.\u001b[0m\n",
      "\u001b[32m[I 2023-03-15 19:07:24,499]\u001b[0m Trial 227 finished with value: 0.5820433436532507 and parameters: {'max_depth': 28, 'min_samples_split': 10, 'min_samples_leaf': 18, 'criterion': 'gini'}. Best is trial 9 with value: 0.5828025477707006.\u001b[0m\n",
      "\u001b[32m[I 2023-03-15 19:07:24,533]\u001b[0m Trial 228 finished with value: 0.573208722741433 and parameters: {'max_depth': 29, 'min_samples_split': 9, 'min_samples_leaf': 19, 'criterion': 'gini'}. Best is trial 9 with value: 0.5828025477707006.\u001b[0m\n",
      "\u001b[32m[I 2023-03-15 19:07:24,569]\u001b[0m Trial 229 finished with value: 0.5820433436532507 and parameters: {'max_depth': 25, 'min_samples_split': 15, 'min_samples_leaf': 18, 'criterion': 'gini'}. Best is trial 9 with value: 0.5828025477707006.\u001b[0m\n",
      "\u001b[32m[I 2023-03-15 19:07:24,604]\u001b[0m Trial 230 finished with value: 0.571875 and parameters: {'max_depth': 27, 'min_samples_split': 6, 'min_samples_leaf': 16, 'criterion': 'gini'}. Best is trial 9 with value: 0.5828025477707006.\u001b[0m\n",
      "\u001b[32m[I 2023-03-15 19:07:24,640]\u001b[0m Trial 231 finished with value: 0.5820433436532507 and parameters: {'max_depth': 30, 'min_samples_split': 8, 'min_samples_leaf': 18, 'criterion': 'gini'}. Best is trial 9 with value: 0.5828025477707006.\u001b[0m\n",
      "\u001b[32m[I 2023-03-15 19:07:24,676]\u001b[0m Trial 232 finished with value: 0.5731895223420647 and parameters: {'max_depth': 30, 'min_samples_split': 9, 'min_samples_leaf': 17, 'criterion': 'gini'}. Best is trial 9 with value: 0.5828025477707006.\u001b[0m\n",
      "\u001b[32m[I 2023-03-15 19:07:24,710]\u001b[0m Trial 233 finished with value: 0.573208722741433 and parameters: {'max_depth': 29, 'min_samples_split': 10, 'min_samples_leaf': 19, 'criterion': 'gini'}. Best is trial 9 with value: 0.5828025477707006.\u001b[0m\n",
      "\u001b[32m[I 2023-03-15 19:07:24,745]\u001b[0m Trial 234 finished with value: 0.5820433436532507 and parameters: {'max_depth': 28, 'min_samples_split': 7, 'min_samples_leaf': 18, 'criterion': 'gini'}. Best is trial 9 with value: 0.5828025477707006.\u001b[0m\n",
      "\u001b[32m[I 2023-03-15 19:07:24,781]\u001b[0m Trial 235 finished with value: 0.5731895223420647 and parameters: {'max_depth': 30, 'min_samples_split': 8, 'min_samples_leaf': 17, 'criterion': 'gini'}. Best is trial 9 with value: 0.5828025477707006.\u001b[0m\n",
      "\u001b[32m[I 2023-03-15 19:07:24,816]\u001b[0m Trial 236 finished with value: 0.5820433436532507 and parameters: {'max_depth': 26, 'min_samples_split': 9, 'min_samples_leaf': 18, 'criterion': 'gini'}. Best is trial 9 with value: 0.5828025477707006.\u001b[0m\n",
      "\u001b[32m[I 2023-03-15 19:07:24,852]\u001b[0m Trial 237 finished with value: 0.573208722741433 and parameters: {'max_depth': 29, 'min_samples_split': 8, 'min_samples_leaf': 19, 'criterion': 'gini'}. Best is trial 9 with value: 0.5828025477707006.\u001b[0m\n"
     ]
    },
    {
     "name": "stderr",
     "output_type": "stream",
     "text": [
      "\u001b[32m[I 2023-03-15 19:07:24,888]\u001b[0m Trial 238 finished with value: 0.5820433436532507 and parameters: {'max_depth': 28, 'min_samples_split': 7, 'min_samples_leaf': 18, 'criterion': 'gini'}. Best is trial 9 with value: 0.5828025477707006.\u001b[0m\n",
      "\u001b[32m[I 2023-03-15 19:07:24,923]\u001b[0m Trial 239 finished with value: 0.5731895223420647 and parameters: {'max_depth': 27, 'min_samples_split': 17, 'min_samples_leaf': 17, 'criterion': 'gini'}. Best is trial 9 with value: 0.5828025477707006.\u001b[0m\n",
      "\u001b[32m[I 2023-03-15 19:07:24,958]\u001b[0m Trial 240 finished with value: 0.5820433436532507 and parameters: {'max_depth': 20, 'min_samples_split': 10, 'min_samples_leaf': 18, 'criterion': 'gini'}. Best is trial 9 with value: 0.5828025477707006.\u001b[0m\n",
      "\u001b[32m[I 2023-03-15 19:07:24,996]\u001b[0m Trial 241 finished with value: 0.5820433436532507 and parameters: {'max_depth': 28, 'min_samples_split': 7, 'min_samples_leaf': 18, 'criterion': 'gini'}. Best is trial 9 with value: 0.5828025477707006.\u001b[0m\n",
      "\u001b[32m[I 2023-03-15 19:07:25,032]\u001b[0m Trial 242 finished with value: 0.5820433436532507 and parameters: {'max_depth': 28, 'min_samples_split': 7, 'min_samples_leaf': 18, 'criterion': 'gini'}. Best is trial 9 with value: 0.5828025477707006.\u001b[0m\n",
      "\u001b[32m[I 2023-03-15 19:07:25,069]\u001b[0m Trial 243 finished with value: 0.573208722741433 and parameters: {'max_depth': 29, 'min_samples_split': 6, 'min_samples_leaf': 19, 'criterion': 'gini'}. Best is trial 9 with value: 0.5828025477707006.\u001b[0m\n",
      "\u001b[32m[I 2023-03-15 19:07:25,105]\u001b[0m Trial 244 finished with value: 0.5731895223420647 and parameters: {'max_depth': 28, 'min_samples_split': 11, 'min_samples_leaf': 17, 'criterion': 'gini'}. Best is trial 9 with value: 0.5828025477707006.\u001b[0m\n",
      "\u001b[32m[I 2023-03-15 19:07:25,140]\u001b[0m Trial 245 finished with value: 0.573208722741433 and parameters: {'max_depth': 29, 'min_samples_split': 9, 'min_samples_leaf': 19, 'criterion': 'gini'}. Best is trial 9 with value: 0.5828025477707006.\u001b[0m\n",
      "\u001b[32m[I 2023-03-15 19:07:25,176]\u001b[0m Trial 246 finished with value: 0.5820433436532507 and parameters: {'max_depth': 27, 'min_samples_split': 25, 'min_samples_leaf': 18, 'criterion': 'gini'}. Best is trial 9 with value: 0.5828025477707006.\u001b[0m\n",
      "\u001b[32m[I 2023-03-15 19:07:25,212]\u001b[0m Trial 247 finished with value: 0.5820433436532507 and parameters: {'max_depth': 28, 'min_samples_split': 7, 'min_samples_leaf': 18, 'criterion': 'gini'}. Best is trial 9 with value: 0.5828025477707006.\u001b[0m\n",
      "\u001b[32m[I 2023-03-15 19:07:25,248]\u001b[0m Trial 248 finished with value: 0.573208722741433 and parameters: {'max_depth': 30, 'min_samples_split': 8, 'min_samples_leaf': 19, 'criterion': 'gini'}. Best is trial 9 with value: 0.5828025477707006.\u001b[0m\n",
      "\u001b[32m[I 2023-03-15 19:07:25,283]\u001b[0m Trial 249 finished with value: 0.5705426356589148 and parameters: {'max_depth': 24, 'min_samples_split': 8, 'min_samples_leaf': 20, 'criterion': 'gini'}. Best is trial 9 with value: 0.5828025477707006.\u001b[0m\n",
      "\u001b[32m[I 2023-03-15 19:07:25,319]\u001b[0m Trial 250 finished with value: 0.5731895223420647 and parameters: {'max_depth': 27, 'min_samples_split': 5, 'min_samples_leaf': 17, 'criterion': 'gini'}. Best is trial 9 with value: 0.5828025477707006.\u001b[0m\n",
      "\u001b[32m[I 2023-03-15 19:07:25,355]\u001b[0m Trial 251 finished with value: 0.5820433436532507 and parameters: {'max_depth': 29, 'min_samples_split': 12, 'min_samples_leaf': 18, 'criterion': 'gini'}. Best is trial 9 with value: 0.5828025477707006.\u001b[0m\n",
      "\u001b[32m[I 2023-03-15 19:07:25,391]\u001b[0m Trial 252 finished with value: 0.5731895223420647 and parameters: {'max_depth': 26, 'min_samples_split': 6, 'min_samples_leaf': 17, 'criterion': 'gini'}. Best is trial 9 with value: 0.5828025477707006.\u001b[0m\n",
      "\u001b[32m[I 2023-03-15 19:07:25,431]\u001b[0m Trial 253 finished with value: 0.5460420032310178 and parameters: {'max_depth': 10, 'min_samples_split': 9, 'min_samples_leaf': 18, 'criterion': 'entropy'}. Best is trial 9 with value: 0.5828025477707006.\u001b[0m\n",
      "\u001b[32m[I 2023-03-15 19:07:25,468]\u001b[0m Trial 254 finished with value: 0.573208722741433 and parameters: {'max_depth': 28, 'min_samples_split': 10, 'min_samples_leaf': 19, 'criterion': 'gini'}. Best is trial 9 with value: 0.5828025477707006.\u001b[0m\n",
      "\u001b[32m[I 2023-03-15 19:07:25,503]\u001b[0m Trial 255 finished with value: 0.5820433436532507 and parameters: {'max_depth': 23, 'min_samples_split': 7, 'min_samples_leaf': 18, 'criterion': 'gini'}. Best is trial 9 with value: 0.5828025477707006.\u001b[0m\n",
      "\u001b[32m[I 2023-03-15 19:07:25,540]\u001b[0m Trial 256 finished with value: 0.5731895223420647 and parameters: {'max_depth': 29, 'min_samples_split': 6, 'min_samples_leaf': 17, 'criterion': 'gini'}. Best is trial 9 with value: 0.5828025477707006.\u001b[0m\n",
      "\u001b[32m[I 2023-03-15 19:07:25,576]\u001b[0m Trial 257 finished with value: 0.573208722741433 and parameters: {'max_depth': 14, 'min_samples_split': 9, 'min_samples_leaf': 19, 'criterion': 'gini'}. Best is trial 9 with value: 0.5828025477707006.\u001b[0m\n",
      "\u001b[32m[I 2023-03-15 19:07:25,612]\u001b[0m Trial 258 finished with value: 0.5820433436532507 and parameters: {'max_depth': 25, 'min_samples_split': 14, 'min_samples_leaf': 18, 'criterion': 'gini'}. Best is trial 9 with value: 0.5828025477707006.\u001b[0m\n",
      "\u001b[32m[I 2023-03-15 19:07:25,649]\u001b[0m Trial 259 finished with value: 0.5731895223420647 and parameters: {'max_depth': 27, 'min_samples_split': 8, 'min_samples_leaf': 17, 'criterion': 'gini'}. Best is trial 9 with value: 0.5828025477707006.\u001b[0m\n",
      "\u001b[32m[I 2023-03-15 19:07:25,684]\u001b[0m Trial 260 finished with value: 0.573208722741433 and parameters: {'max_depth': 28, 'min_samples_split': 10, 'min_samples_leaf': 19, 'criterion': 'gini'}. Best is trial 9 with value: 0.5828025477707006.\u001b[0m\n",
      "\u001b[32m[I 2023-03-15 19:07:25,721]\u001b[0m Trial 261 finished with value: 0.5705426356589148 and parameters: {'max_depth': 28, 'min_samples_split': 4, 'min_samples_leaf': 20, 'criterion': 'gini'}. Best is trial 9 with value: 0.5828025477707006.\u001b[0m\n",
      "\u001b[32m[I 2023-03-15 19:07:25,758]\u001b[0m Trial 262 finished with value: 0.571875 and parameters: {'max_depth': 29, 'min_samples_split': 7, 'min_samples_leaf': 16, 'criterion': 'gini'}. Best is trial 9 with value: 0.5828025477707006.\u001b[0m\n",
      "\u001b[32m[I 2023-03-15 19:07:25,786]\u001b[0m Trial 263 finished with value: 0.5211267605633803 and parameters: {'max_depth': 4, 'min_samples_split': 11, 'min_samples_leaf': 18, 'criterion': 'gini'}. Best is trial 9 with value: 0.5828025477707006.\u001b[0m\n",
      "\u001b[32m[I 2023-03-15 19:07:25,822]\u001b[0m Trial 264 finished with value: 0.5731895223420647 and parameters: {'max_depth': 30, 'min_samples_split': 6, 'min_samples_leaf': 17, 'criterion': 'gini'}. Best is trial 9 with value: 0.5828025477707006.\u001b[0m\n",
      "\u001b[32m[I 2023-03-15 19:07:25,859]\u001b[0m Trial 265 finished with value: 0.5820433436532507 and parameters: {'max_depth': 27, 'min_samples_split': 8, 'min_samples_leaf': 18, 'criterion': 'gini'}. Best is trial 9 with value: 0.5828025477707006.\u001b[0m\n",
      "\u001b[32m[I 2023-03-15 19:07:25,894]\u001b[0m Trial 266 finished with value: 0.573170731707317 and parameters: {'max_depth': 25, 'min_samples_split': 5, 'min_samples_leaf': 29, 'criterion': 'gini'}. Best is trial 9 with value: 0.5828025477707006.\u001b[0m\n",
      "\u001b[32m[I 2023-03-15 19:07:25,934]\u001b[0m Trial 267 finished with value: 0.573208722741433 and parameters: {'max_depth': 28, 'min_samples_split': 7, 'min_samples_leaf': 19, 'criterion': 'gini'}. Best is trial 9 with value: 0.5828025477707006.\u001b[0m\n",
      "\u001b[32m[I 2023-03-15 19:07:25,970]\u001b[0m Trial 268 finished with value: 0.5820433436532507 and parameters: {'max_depth': 29, 'min_samples_split': 9, 'min_samples_leaf': 18, 'criterion': 'gini'}. Best is trial 9 with value: 0.5828025477707006.\u001b[0m\n",
      "\u001b[32m[I 2023-03-15 19:07:26,008]\u001b[0m Trial 269 finished with value: 0.5731895223420647 and parameters: {'max_depth': 26, 'min_samples_split': 10, 'min_samples_leaf': 17, 'criterion': 'gini'}. Best is trial 9 with value: 0.5828025477707006.\u001b[0m\n",
      "\u001b[32m[I 2023-03-15 19:07:26,044]\u001b[0m Trial 270 finished with value: 0.573208722741433 and parameters: {'max_depth': 24, 'min_samples_split': 8, 'min_samples_leaf': 19, 'criterion': 'gini'}. Best is trial 9 with value: 0.5828025477707006.\u001b[0m\n",
      "\u001b[32m[I 2023-03-15 19:07:26,080]\u001b[0m Trial 271 finished with value: 0.5820433436532507 and parameters: {'max_depth': 27, 'min_samples_split': 9, 'min_samples_leaf': 18, 'criterion': 'gini'}. Best is trial 9 with value: 0.5828025477707006.\u001b[0m\n"
     ]
    },
    {
     "name": "stderr",
     "output_type": "stream",
     "text": [
      "\u001b[32m[I 2023-03-15 19:07:26,115]\u001b[0m Trial 272 finished with value: 0.5736925515055468 and parameters: {'max_depth': 7, 'min_samples_split': 6, 'min_samples_leaf': 16, 'criterion': 'gini'}. Best is trial 9 with value: 0.5828025477707006.\u001b[0m\n",
      "\u001b[32m[I 2023-03-15 19:07:26,155]\u001b[0m Trial 273 finished with value: 0.5531250000000001 and parameters: {'max_depth': 28, 'min_samples_split': 11, 'min_samples_leaf': 17, 'criterion': 'entropy'}. Best is trial 9 with value: 0.5828025477707006.\u001b[0m\n",
      "\u001b[32m[I 2023-03-15 19:07:26,193]\u001b[0m Trial 274 finished with value: 0.573208722741433 and parameters: {'max_depth': 26, 'min_samples_split': 7, 'min_samples_leaf': 19, 'criterion': 'gini'}. Best is trial 9 with value: 0.5828025477707006.\u001b[0m\n",
      "\u001b[32m[I 2023-03-15 19:07:26,230]\u001b[0m Trial 275 finished with value: 0.5820433436532507 and parameters: {'max_depth': 29, 'min_samples_split': 8, 'min_samples_leaf': 18, 'criterion': 'gini'}. Best is trial 9 with value: 0.5828025477707006.\u001b[0m\n",
      "\u001b[32m[I 2023-03-15 19:07:26,267]\u001b[0m Trial 276 finished with value: 0.5820433436532507 and parameters: {'max_depth': 18, 'min_samples_split': 6, 'min_samples_leaf': 18, 'criterion': 'gini'}. Best is trial 9 with value: 0.5828025477707006.\u001b[0m\n",
      "\u001b[32m[I 2023-03-15 19:07:26,303]\u001b[0m Trial 277 finished with value: 0.5731895223420647 and parameters: {'max_depth': 27, 'min_samples_split': 9, 'min_samples_leaf': 17, 'criterion': 'gini'}. Best is trial 9 with value: 0.5828025477707006.\u001b[0m\n",
      "\u001b[32m[I 2023-03-15 19:07:26,340]\u001b[0m Trial 278 finished with value: 0.5705426356589148 and parameters: {'max_depth': 30, 'min_samples_split': 13, 'min_samples_leaf': 20, 'criterion': 'gini'}. Best is trial 9 with value: 0.5828025477707006.\u001b[0m\n",
      "\u001b[32m[I 2023-03-15 19:07:26,377]\u001b[0m Trial 279 finished with value: 0.573208722741433 and parameters: {'max_depth': 16, 'min_samples_split': 8, 'min_samples_leaf': 19, 'criterion': 'gini'}. Best is trial 9 with value: 0.5828025477707006.\u001b[0m\n",
      "\u001b[32m[I 2023-03-15 19:07:26,413]\u001b[0m Trial 280 finished with value: 0.5820433436532507 and parameters: {'max_depth': 28, 'min_samples_split': 12, 'min_samples_leaf': 18, 'criterion': 'gini'}. Best is trial 9 with value: 0.5828025477707006.\u001b[0m\n",
      "\u001b[32m[I 2023-03-15 19:07:26,449]\u001b[0m Trial 281 finished with value: 0.573170731707317 and parameters: {'max_depth': 29, 'min_samples_split': 7, 'min_samples_leaf': 25, 'criterion': 'gini'}. Best is trial 9 with value: 0.5828025477707006.\u001b[0m\n",
      "\u001b[32m[I 2023-03-15 19:07:26,486]\u001b[0m Trial 282 finished with value: 0.5820433436532507 and parameters: {'max_depth': 27, 'min_samples_split': 10, 'min_samples_leaf': 18, 'criterion': 'gini'}. Best is trial 9 with value: 0.5828025477707006.\u001b[0m\n",
      "\u001b[32m[I 2023-03-15 19:07:26,523]\u001b[0m Trial 283 finished with value: 0.5731895223420647 and parameters: {'max_depth': 22, 'min_samples_split': 5, 'min_samples_leaf': 17, 'criterion': 'gini'}. Best is trial 9 with value: 0.5828025477707006.\u001b[0m\n",
      "\u001b[32m[I 2023-03-15 19:07:26,559]\u001b[0m Trial 284 finished with value: 0.573208722741433 and parameters: {'max_depth': 26, 'min_samples_split': 7, 'min_samples_leaf': 19, 'criterion': 'gini'}. Best is trial 9 with value: 0.5828025477707006.\u001b[0m\n",
      "\u001b[32m[I 2023-03-15 19:07:26,595]\u001b[0m Trial 285 finished with value: 0.5731895223420647 and parameters: {'max_depth': 28, 'min_samples_split': 9, 'min_samples_leaf': 17, 'criterion': 'gini'}. Best is trial 9 with value: 0.5828025477707006.\u001b[0m\n",
      "\u001b[32m[I 2023-03-15 19:07:26,631]\u001b[0m Trial 286 finished with value: 0.5820433436532507 and parameters: {'max_depth': 30, 'min_samples_split': 6, 'min_samples_leaf': 18, 'criterion': 'gini'}. Best is trial 9 with value: 0.5828025477707006.\u001b[0m\n",
      "\u001b[32m[I 2023-03-15 19:07:26,669]\u001b[0m Trial 287 finished with value: 0.571875 and parameters: {'max_depth': 24, 'min_samples_split': 8, 'min_samples_leaf': 16, 'criterion': 'gini'}. Best is trial 9 with value: 0.5828025477707006.\u001b[0m\n",
      "\u001b[32m[I 2023-03-15 19:07:26,706]\u001b[0m Trial 288 finished with value: 0.5705426356589148 and parameters: {'max_depth': 29, 'min_samples_split': 11, 'min_samples_leaf': 20, 'criterion': 'gini'}. Best is trial 9 with value: 0.5828025477707006.\u001b[0m\n",
      "\u001b[32m[I 2023-03-15 19:07:26,743]\u001b[0m Trial 289 finished with value: 0.5820433436532507 and parameters: {'max_depth': 28, 'min_samples_split': 6, 'min_samples_leaf': 18, 'criterion': 'gini'}. Best is trial 9 with value: 0.5828025477707006.\u001b[0m\n",
      "\u001b[32m[I 2023-03-15 19:07:26,780]\u001b[0m Trial 290 finished with value: 0.573208722741433 and parameters: {'max_depth': 25, 'min_samples_split': 8, 'min_samples_leaf': 19, 'criterion': 'gini'}. Best is trial 9 with value: 0.5828025477707006.\u001b[0m\n",
      "\u001b[32m[I 2023-03-15 19:07:26,816]\u001b[0m Trial 291 finished with value: 0.5820433436532507 and parameters: {'max_depth': 27, 'min_samples_split': 10, 'min_samples_leaf': 18, 'criterion': 'gini'}. Best is trial 9 with value: 0.5828025477707006.\u001b[0m\n",
      "\u001b[32m[I 2023-03-15 19:07:26,857]\u001b[0m Trial 292 finished with value: 0.5531250000000001 and parameters: {'max_depth': 29, 'min_samples_split': 9, 'min_samples_leaf': 17, 'criterion': 'entropy'}. Best is trial 9 with value: 0.5828025477707006.\u001b[0m\n",
      "\u001b[32m[I 2023-03-15 19:07:26,895]\u001b[0m Trial 293 finished with value: 0.573208722741433 and parameters: {'max_depth': 28, 'min_samples_split': 7, 'min_samples_leaf': 19, 'criterion': 'gini'}. Best is trial 9 with value: 0.5828025477707006.\u001b[0m\n",
      "\u001b[32m[I 2023-03-15 19:07:26,932]\u001b[0m Trial 294 finished with value: 0.5731895223420647 and parameters: {'max_depth': 27, 'min_samples_split': 5, 'min_samples_leaf': 17, 'criterion': 'gini'}. Best is trial 9 with value: 0.5828025477707006.\u001b[0m\n",
      "\u001b[32m[I 2023-03-15 19:07:26,970]\u001b[0m Trial 295 finished with value: 0.5820433436532507 and parameters: {'max_depth': 28, 'min_samples_split': 9, 'min_samples_leaf': 18, 'criterion': 'gini'}. Best is trial 9 with value: 0.5828025477707006.\u001b[0m\n",
      "\u001b[32m[I 2023-03-15 19:07:27,007]\u001b[0m Trial 296 finished with value: 0.5820433436532507 and parameters: {'max_depth': 29, 'min_samples_split': 7, 'min_samples_leaf': 18, 'criterion': 'gini'}. Best is trial 9 with value: 0.5828025477707006.\u001b[0m\n",
      "\u001b[32m[I 2023-03-15 19:07:27,044]\u001b[0m Trial 297 finished with value: 0.573208722741433 and parameters: {'max_depth': 26, 'min_samples_split': 4, 'min_samples_leaf': 19, 'criterion': 'gini'}. Best is trial 9 with value: 0.5828025477707006.\u001b[0m\n",
      "\u001b[32m[I 2023-03-15 19:07:27,076]\u001b[0m Trial 298 finished with value: 0.5575959933222037 and parameters: {'max_depth': 6, 'min_samples_split': 10, 'min_samples_leaf': 17, 'criterion': 'gini'}. Best is trial 9 with value: 0.5828025477707006.\u001b[0m\n",
      "\u001b[32m[I 2023-03-15 19:07:27,114]\u001b[0m Trial 299 finished with value: 0.571875 and parameters: {'max_depth': 25, 'min_samples_split': 8, 'min_samples_leaf': 16, 'criterion': 'gini'}. Best is trial 9 with value: 0.5828025477707006.\u001b[0m\n"
     ]
    },
    {
     "name": "stdout",
     "output_type": "stream",
     "text": [
      "Best trial:\n",
      "  Score: 0.583\n",
      "  Params: \n",
      "    max_depth: 7\n",
      "    min_samples_split: 8\n",
      "    min_samples_leaf: 18\n",
      "    criterion: gini\n"
     ]
    }
   ],
   "source": [
    "study = optuna.create_study(direction='maximize')\n",
    "\n",
    "study.optimize(objective, n_trials=300)\n",
    "\n",
    "print('Best trial:')\n",
    "trial = study.best_trial\n",
    "print(f'  Score: {trial.value:.3f}')\n",
    "print('  Params: ')\n",
    "for key, value in trial.params.items():\n",
    "    print(f'    {key}: {value}')"
   ]
  },
  {
   "cell_type": "code",
   "execution_count": 26,
   "metadata": {},
   "outputs": [
    {
     "data": {
      "text/plain": [
       "DecisionTreeClassifier(max_depth=7, min_samples_leaf=18, min_samples_split=8,\n",
       "                       random_state=322)"
      ]
     },
     "execution_count": 26,
     "metadata": {},
     "output_type": "execute_result"
    }
   ],
   "source": [
    "dtc = DecisionTreeClassifier(max_depth=7,\n",
    "                                   min_samples_split=8,\n",
    "                                   min_samples_leaf=18,\n",
    "                                   criterion='gini',\n",
    "                                   random_state=322)\n",
    "dtc.fit(features_train, target_train)"
   ]
  },
  {
   "cell_type": "code",
   "execution_count": 27,
   "metadata": {},
   "outputs": [
    {
     "data": {
      "text/plain": [
       "0.839"
      ]
     },
     "execution_count": 27,
     "metadata": {},
     "output_type": "execute_result"
    }
   ],
   "source": [
    "prob_one_valid = dtc.predict_proba(features_valid)[:, 1]\n",
    "roc_auc_score(target_valid, prob_one_valid).round(3)"
   ]
  },
  {
   "cell_type": "markdown",
   "metadata": {},
   "source": [
    "Наиболее точной проявила себя молель дерева решений с: \n",
    "- max_depth: 7\n",
    "- min_samples_split: 8\n",
    "- min_samples_leaf: 18\n",
    "- criterion: gini"
   ]
  },
  {
   "cell_type": "markdown",
   "metadata": {},
   "source": [
    "Результаты CatBoost оказались наилучшими, F1=0,598 и AUC-ROC=0,862."
   ]
  },
  {
   "cell_type": "markdown",
   "metadata": {},
   "source": [
    "## Борьба с дисбалансом"
   ]
  },
  {
   "cell_type": "markdown",
   "metadata": {},
   "source": [
    "Применим различные методы борьбы с дисбалансом."
   ]
  },
  {
   "cell_type": "markdown",
   "metadata": {},
   "source": [
    "### Взвешивание классов"
   ]
  },
  {
   "cell_type": "markdown",
   "metadata": {},
   "source": [
    "#### Случайный лес"
   ]
  },
  {
   "cell_type": "markdown",
   "metadata": {},
   "source": [
    "Обучим модели с перебором гиперпараметров и сделаем веса классов сбалансированными с помощью аргумента `class_weight`."
   ]
  },
  {
   "cell_type": "code",
   "execution_count": 28,
   "metadata": {},
   "outputs": [],
   "source": [
    "def objective(trial):\n",
    "    n_estimators = trial.suggest_int('n_estimators', 20, 150)\n",
    "    max_depth = trial.suggest_int('max_depth', 2, 30)\n",
    "    min_samples_split = trial.suggest_int('min_samples_split', 2, 10)\n",
    "    min_samples_leaf = trial.suggest_int('min_samples_leaf', 1, 10)\n",
    "    criterion = trial.suggest_categorical('criterion', ['gini', 'entropy'])\n",
    "\n",
    "    rfc = RandomForestClassifier(n_estimators=n_estimators,\n",
    "                                   max_depth=max_depth,\n",
    "                                   min_samples_split=min_samples_split,\n",
    "                                   min_samples_leaf=min_samples_leaf,\n",
    "                                   criterion=criterion,\n",
    "                                   class_weight='balanced',\n",
    "                                   random_state=322)\n",
    "\n",
    "    rfc.fit(features_train, target_train)\n",
    "\n",
    "    predicted_valid = rfc.predict(features_valid)\n",
    "\n",
    "    f1 = f1_score(predicted_valid, target_valid)\n",
    "    return f1"
   ]
  },
  {
   "cell_type": "code",
   "execution_count": 29,
   "metadata": {
    "scrolled": true
   },
   "outputs": [
    {
     "name": "stderr",
     "output_type": "stream",
     "text": [
      "\u001b[32m[I 2023-03-15 19:08:37,179]\u001b[0m A new study created in memory with name: no-name-c3532cdc-94b5-4ab4-85a9-a098d8e51fe9\u001b[0m\n",
      "\u001b[32m[I 2023-03-15 19:08:37,330]\u001b[0m Trial 0 finished with value: 0.5939226519337016 and parameters: {'n_estimators': 38, 'max_depth': 15, 'min_samples_split': 3, 'min_samples_leaf': 3, 'criterion': 'gini'}. Best is trial 0 with value: 0.5939226519337016.\u001b[0m\n",
      "\u001b[32m[I 2023-03-15 19:08:37,779]\u001b[0m Trial 1 finished with value: 0.5982404692082112 and parameters: {'n_estimators': 97, 'max_depth': 13, 'min_samples_split': 4, 'min_samples_leaf': 2, 'criterion': 'entropy'}. Best is trial 1 with value: 0.5982404692082112.\u001b[0m\n",
      "\u001b[32m[I 2023-03-15 19:08:38,290]\u001b[0m Trial 2 finished with value: 0.6076923076923076 and parameters: {'n_estimators': 116, 'max_depth': 18, 'min_samples_split': 8, 'min_samples_leaf': 5, 'criterion': 'entropy'}. Best is trial 2 with value: 0.6076923076923076.\u001b[0m\n",
      "\u001b[32m[I 2023-03-15 19:08:38,894]\u001b[0m Trial 3 finished with value: 0.5954887218045113 and parameters: {'n_estimators': 127, 'max_depth': 16, 'min_samples_split': 5, 'min_samples_leaf': 2, 'criterion': 'entropy'}. Best is trial 2 with value: 0.6076923076923076.\u001b[0m\n",
      "\u001b[32m[I 2023-03-15 19:08:39,115]\u001b[0m Trial 4 finished with value: 0.6014319809069212 and parameters: {'n_estimators': 55, 'max_depth': 10, 'min_samples_split': 5, 'min_samples_leaf': 9, 'criterion': 'entropy'}. Best is trial 2 with value: 0.6076923076923076.\u001b[0m\n",
      "\u001b[32m[I 2023-03-15 19:08:39,710]\u001b[0m Trial 5 finished with value: 0.6023054755043228 and parameters: {'n_estimators': 126, 'max_depth': 27, 'min_samples_split': 2, 'min_samples_leaf': 3, 'criterion': 'entropy'}. Best is trial 2 with value: 0.6076923076923076.\u001b[0m\n",
      "\u001b[32m[I 2023-03-15 19:08:39,752]\u001b[0m Trial 6 finished with value: 0.538830297219559 and parameters: {'n_estimators': 20, 'max_depth': 2, 'min_samples_split': 2, 'min_samples_leaf': 5, 'criterion': 'entropy'}. Best is trial 2 with value: 0.6076923076923076.\u001b[0m\n",
      "\u001b[32m[I 2023-03-15 19:08:40,083]\u001b[0m Trial 7 finished with value: 0.5944055944055945 and parameters: {'n_estimators': 102, 'max_depth': 8, 'min_samples_split': 10, 'min_samples_leaf': 5, 'criterion': 'gini'}. Best is trial 2 with value: 0.6076923076923076.\u001b[0m\n",
      "\u001b[32m[I 2023-03-15 19:08:40,295]\u001b[0m Trial 8 finished with value: 0.6051401869158879 and parameters: {'n_estimators': 54, 'max_depth': 9, 'min_samples_split': 4, 'min_samples_leaf': 9, 'criterion': 'entropy'}. Best is trial 2 with value: 0.6076923076923076.\u001b[0m\n",
      "\u001b[32m[I 2023-03-15 19:08:40,636]\u001b[0m Trial 9 finished with value: 0.5838150289017341 and parameters: {'n_estimators': 83, 'max_depth': 19, 'min_samples_split': 7, 'min_samples_leaf': 2, 'criterion': 'gini'}. Best is trial 2 with value: 0.6076923076923076.\u001b[0m\n",
      "\u001b[32m[I 2023-03-15 19:08:41,291]\u001b[0m Trial 10 finished with value: 0.6062111801242237 and parameters: {'n_estimators': 147, 'max_depth': 23, 'min_samples_split': 8, 'min_samples_leaf': 7, 'criterion': 'entropy'}. Best is trial 2 with value: 0.6076923076923076.\u001b[0m\n",
      "\u001b[32m[I 2023-03-15 19:08:41,914]\u001b[0m Trial 11 finished with value: 0.6111801242236024 and parameters: {'n_estimators': 144, 'max_depth': 23, 'min_samples_split': 8, 'min_samples_leaf': 7, 'criterion': 'entropy'}. Best is trial 11 with value: 0.6111801242236024.\u001b[0m\n",
      "\u001b[32m[I 2023-03-15 19:08:42,549]\u001b[0m Trial 12 finished with value: 0.6144278606965173 and parameters: {'n_estimators': 148, 'max_depth': 30, 'min_samples_split': 9, 'min_samples_leaf': 7, 'criterion': 'entropy'}. Best is trial 12 with value: 0.6144278606965173.\u001b[0m\n",
      "\u001b[32m[I 2023-03-15 19:08:43,161]\u001b[0m Trial 13 finished with value: 0.6111801242236024 and parameters: {'n_estimators': 144, 'max_depth': 30, 'min_samples_split': 10, 'min_samples_leaf': 7, 'criterion': 'entropy'}. Best is trial 12 with value: 0.6144278606965173.\u001b[0m\n",
      "\u001b[32m[I 2023-03-15 19:08:43,794]\u001b[0m Trial 14 finished with value: 0.6104218362282878 and parameters: {'n_estimators': 150, 'max_depth': 23, 'min_samples_split': 9, 'min_samples_leaf': 7, 'criterion': 'entropy'}. Best is trial 12 with value: 0.6144278606965173.\u001b[0m\n",
      "\u001b[32m[I 2023-03-15 19:08:44,225]\u001b[0m Trial 15 finished with value: 0.6049237983587339 and parameters: {'n_estimators': 125, 'max_depth': 30, 'min_samples_split': 8, 'min_samples_leaf': 10, 'criterion': 'gini'}. Best is trial 12 with value: 0.6144278606965173.\u001b[0m\n",
      "\u001b[32m[I 2023-03-15 19:08:44,566]\u001b[0m Trial 16 finished with value: 0.6014492753623188 and parameters: {'n_estimators': 77, 'max_depth': 24, 'min_samples_split': 7, 'min_samples_leaf': 8, 'criterion': 'entropy'}. Best is trial 12 with value: 0.6144278606965173.\u001b[0m\n",
      "\u001b[32m[I 2023-03-15 19:08:45,043]\u001b[0m Trial 17 finished with value: 0.6106870229007634 and parameters: {'n_estimators': 108, 'max_depth': 26, 'min_samples_split': 9, 'min_samples_leaf': 6, 'criterion': 'entropy'}. Best is trial 12 with value: 0.6144278606965173.\u001b[0m\n",
      "\u001b[32m[I 2023-03-15 19:08:45,563]\u001b[0m Trial 18 finished with value: 0.61 and parameters: {'n_estimators': 136, 'max_depth': 21, 'min_samples_split': 6, 'min_samples_leaf': 6, 'criterion': 'gini'}. Best is trial 12 with value: 0.6144278606965173.\u001b[0m\n",
      "\u001b[32m[I 2023-03-15 19:08:46,179]\u001b[0m Trial 19 finished with value: 0.6005361930294906 and parameters: {'n_estimators': 135, 'max_depth': 27, 'min_samples_split': 9, 'min_samples_leaf': 4, 'criterion': 'entropy'}. Best is trial 12 with value: 0.6144278606965173.\u001b[0m\n",
      "\u001b[32m[I 2023-03-15 19:08:46,484]\u001b[0m Trial 20 finished with value: 0.6064981949458483 and parameters: {'n_estimators': 69, 'max_depth': 30, 'min_samples_split': 7, 'min_samples_leaf': 8, 'criterion': 'entropy'}. Best is trial 12 with value: 0.6144278606965173.\u001b[0m\n",
      "\u001b[32m[I 2023-03-15 19:08:47,088]\u001b[0m Trial 21 finished with value: 0.6119402985074627 and parameters: {'n_estimators': 142, 'max_depth': 30, 'min_samples_split': 10, 'min_samples_leaf': 7, 'criterion': 'entropy'}. Best is trial 12 with value: 0.6144278606965173.\u001b[0m\n",
      "\u001b[32m[I 2023-03-15 19:08:47,667]\u001b[0m Trial 22 finished with value: 0.6133333333333333 and parameters: {'n_estimators': 137, 'max_depth': 27, 'min_samples_split': 10, 'min_samples_leaf': 8, 'criterion': 'entropy'}. Best is trial 12 with value: 0.6144278606965173.\u001b[0m\n",
      "\u001b[32m[I 2023-03-15 19:08:48,152]\u001b[0m Trial 23 finished with value: 0.6101694915254237 and parameters: {'n_estimators': 114, 'max_depth': 27, 'min_samples_split': 10, 'min_samples_leaf': 8, 'criterion': 'entropy'}. Best is trial 12 with value: 0.6144278606965173.\u001b[0m\n",
      "\u001b[32m[I 2023-03-15 19:08:48,706]\u001b[0m Trial 24 finished with value: 0.6011834319526628 and parameters: {'n_estimators': 134, 'max_depth': 28, 'min_samples_split': 10, 'min_samples_leaf': 10, 'criterion': 'entropy'}. Best is trial 12 with value: 0.6144278606965173.\u001b[0m\n",
      "\u001b[32m[I 2023-03-15 19:08:49,110]\u001b[0m Trial 25 finished with value: 0.6057692307692307 and parameters: {'n_estimators': 95, 'max_depth': 30, 'min_samples_split': 9, 'min_samples_leaf': 9, 'criterion': 'entropy'}. Best is trial 12 with value: 0.6144278606965173.\u001b[0m\n",
      "\u001b[32m[I 2023-03-15 19:08:49,555]\u001b[0m Trial 26 finished with value: 0.6124999999999999 and parameters: {'n_estimators': 121, 'max_depth': 25, 'min_samples_split': 10, 'min_samples_leaf': 6, 'criterion': 'gini'}. Best is trial 12 with value: 0.6144278606965173.\u001b[0m\n",
      "\u001b[32m[I 2023-03-15 19:08:49,990]\u001b[0m Trial 27 finished with value: 0.61 and parameters: {'n_estimators': 118, 'max_depth': 25, 'min_samples_split': 9, 'min_samples_leaf': 6, 'criterion': 'gini'}. Best is trial 12 with value: 0.6144278606965173.\u001b[0m\n",
      "\u001b[32m[I 2023-03-15 19:08:50,476]\u001b[0m Trial 28 finished with value: 0.6085825747724318 and parameters: {'n_estimators': 128, 'max_depth': 21, 'min_samples_split': 10, 'min_samples_leaf': 4, 'criterion': 'gini'}. Best is trial 12 with value: 0.6144278606965173.\u001b[0m\n",
      "\u001b[32m[I 2023-03-15 19:08:50,888]\u001b[0m Trial 29 finished with value: 0.6129807692307693 and parameters: {'n_estimators': 111, 'max_depth': 21, 'min_samples_split': 9, 'min_samples_leaf': 8, 'criterion': 'gini'}. Best is trial 12 with value: 0.6144278606965173.\u001b[0m\n",
      "\u001b[32m[I 2023-03-15 19:08:51,267]\u001b[0m Trial 30 finished with value: 0.6196172248803827 and parameters: {'n_estimators': 104, 'max_depth': 21, 'min_samples_split': 6, 'min_samples_leaf': 8, 'criterion': 'gini'}. Best is trial 30 with value: 0.6196172248803827.\u001b[0m\n"
     ]
    },
    {
     "name": "stderr",
     "output_type": "stream",
     "text": [
      "\u001b[32m[I 2023-03-15 19:08:51,656]\u001b[0m Trial 31 finished with value: 0.6146458583433374 and parameters: {'n_estimators': 107, 'max_depth': 20, 'min_samples_split': 6, 'min_samples_leaf': 8, 'criterion': 'gini'}. Best is trial 30 with value: 0.6196172248803827.\u001b[0m\n",
      "\u001b[32m[I 2023-03-15 19:08:52,005]\u001b[0m Trial 32 finished with value: 0.6097271648873073 and parameters: {'n_estimators': 97, 'max_depth': 14, 'min_samples_split': 6, 'min_samples_leaf': 9, 'criterion': 'gini'}. Best is trial 30 with value: 0.6196172248803827.\u001b[0m\n",
      "\u001b[32m[I 2023-03-15 19:08:52,328]\u001b[0m Trial 33 finished with value: 0.6183574879227054 and parameters: {'n_estimators': 88, 'max_depth': 17, 'min_samples_split': 5, 'min_samples_leaf': 8, 'criterion': 'gini'}. Best is trial 30 with value: 0.6196172248803827.\u001b[0m\n",
      "\u001b[32m[I 2023-03-15 19:08:52,648]\u001b[0m Trial 34 finished with value: 0.6112412177985949 and parameters: {'n_estimators': 89, 'max_depth': 17, 'min_samples_split': 5, 'min_samples_leaf': 10, 'criterion': 'gini'}. Best is trial 30 with value: 0.6196172248803827.\u001b[0m\n",
      "\u001b[32m[I 2023-03-15 19:08:52,899]\u001b[0m Trial 35 finished with value: 0.6148325358851674 and parameters: {'n_estimators': 65, 'max_depth': 19, 'min_samples_split': 4, 'min_samples_leaf': 9, 'criterion': 'gini'}. Best is trial 30 with value: 0.6196172248803827.\u001b[0m\n",
      "\u001b[32m[I 2023-03-15 19:08:53,158]\u001b[0m Trial 36 finished with value: 0.6135552913198574 and parameters: {'n_estimators': 70, 'max_depth': 19, 'min_samples_split': 4, 'min_samples_leaf': 9, 'criterion': 'gini'}. Best is trial 30 with value: 0.6196172248803827.\u001b[0m\n",
      "\u001b[32m[I 2023-03-15 19:08:53,332]\u001b[0m Trial 37 finished with value: 0.6076555023923446 and parameters: {'n_estimators': 46, 'max_depth': 13, 'min_samples_split': 3, 'min_samples_leaf': 9, 'criterion': 'gini'}. Best is trial 30 with value: 0.6196172248803827.\u001b[0m\n",
      "\u001b[32m[I 2023-03-15 19:08:53,632]\u001b[0m Trial 38 finished with value: 0.5770992366412214 and parameters: {'n_estimators': 71, 'max_depth': 16, 'min_samples_split': 5, 'min_samples_leaf': 1, 'criterion': 'gini'}. Best is trial 30 with value: 0.6196172248803827.\u001b[0m\n",
      "\u001b[32m[I 2023-03-15 19:08:53,946]\u001b[0m Trial 39 finished with value: 0.6074766355140185 and parameters: {'n_estimators': 88, 'max_depth': 19, 'min_samples_split': 3, 'min_samples_leaf': 10, 'criterion': 'gini'}. Best is trial 30 with value: 0.6196172248803827.\u001b[0m\n",
      "\u001b[32m[I 2023-03-15 19:08:54,174]\u001b[0m Trial 40 finished with value: 0.6028708133971292 and parameters: {'n_estimators': 62, 'max_depth': 11, 'min_samples_split': 5, 'min_samples_leaf': 8, 'criterion': 'gini'}. Best is trial 30 with value: 0.6196172248803827.\u001b[0m\n",
      "\u001b[32m[I 2023-03-15 19:08:54,471]\u001b[0m Trial 41 finished with value: 0.6181818181818183 and parameters: {'n_estimators': 81, 'max_depth': 15, 'min_samples_split': 6, 'min_samples_leaf': 8, 'criterion': 'gini'}. Best is trial 30 with value: 0.6196172248803827.\u001b[0m\n",
      "\u001b[32m[I 2023-03-15 19:08:54,847]\u001b[0m Trial 42 finished with value: 0.6163069544364508 and parameters: {'n_estimators': 103, 'max_depth': 17, 'min_samples_split': 6, 'min_samples_leaf': 8, 'criterion': 'gini'}. Best is trial 30 with value: 0.6196172248803827.\u001b[0m\n",
      "\u001b[32m[I 2023-03-15 19:08:55,156]\u001b[0m Trial 43 finished with value: 0.6175771971496437 and parameters: {'n_estimators': 82, 'max_depth': 15, 'min_samples_split': 4, 'min_samples_leaf': 9, 'criterion': 'gini'}. Best is trial 30 with value: 0.6196172248803827.\u001b[0m\n",
      "\u001b[32m[I 2023-03-15 19:08:55,447]\u001b[0m Trial 44 finished with value: 0.6161137440758294 and parameters: {'n_estimators': 80, 'max_depth': 15, 'min_samples_split': 5, 'min_samples_leaf': 9, 'criterion': 'gini'}. Best is trial 30 with value: 0.6196172248803827.\u001b[0m\n",
      "\u001b[32m[I 2023-03-15 19:08:55,801]\u001b[0m Trial 45 finished with value: 0.6091127098321344 and parameters: {'n_estimators': 99, 'max_depth': 11, 'min_samples_split': 6, 'min_samples_leaf': 8, 'criterion': 'gini'}. Best is trial 30 with value: 0.6196172248803827.\u001b[0m\n",
      "\u001b[32m[I 2023-03-15 19:08:56,142]\u001b[0m Trial 46 finished with value: 0.6110429447852761 and parameters: {'n_estimators': 91, 'max_depth': 16, 'min_samples_split': 7, 'min_samples_leaf': 7, 'criterion': 'gini'}. Best is trial 30 with value: 0.6196172248803827.\u001b[0m\n",
      "\u001b[32m[I 2023-03-15 19:08:56,465]\u001b[0m Trial 47 finished with value: 0.5916114790286976 and parameters: {'n_estimators': 105, 'max_depth': 7, 'min_samples_split': 6, 'min_samples_leaf': 10, 'criterion': 'gini'}. Best is trial 30 with value: 0.6196172248803827.\u001b[0m\n",
      "\u001b[32m[I 2023-03-15 19:08:56,757]\u001b[0m Trial 48 finished with value: 0.6131736526946108 and parameters: {'n_estimators': 76, 'max_depth': 17, 'min_samples_split': 4, 'min_samples_leaf': 9, 'criterion': 'gini'}. Best is trial 30 with value: 0.6196172248803827.\u001b[0m\n",
      "\u001b[32m[I 2023-03-15 19:08:57,081]\u001b[0m Trial 49 finished with value: 0.6182266009852218 and parameters: {'n_estimators': 84, 'max_depth': 14, 'min_samples_split': 5, 'min_samples_leaf': 7, 'criterion': 'gini'}. Best is trial 30 with value: 0.6196172248803827.\u001b[0m\n",
      "\u001b[32m[I 2023-03-15 19:08:57,389]\u001b[0m Trial 50 finished with value: 0.6115906288532675 and parameters: {'n_estimators': 81, 'max_depth': 12, 'min_samples_split': 5, 'min_samples_leaf': 7, 'criterion': 'gini'}. Best is trial 30 with value: 0.6196172248803827.\u001b[0m\n",
      "\u001b[32m[I 2023-03-15 19:08:57,729]\u001b[0m Trial 51 finished with value: 0.6118500604594922 and parameters: {'n_estimators': 93, 'max_depth': 14, 'min_samples_split': 6, 'min_samples_leaf': 8, 'criterion': 'gini'}. Best is trial 30 with value: 0.6196172248803827.\u001b[0m\n",
      "\u001b[32m[I 2023-03-15 19:08:58,055]\u001b[0m Trial 52 finished with value: 0.6085889570552147 and parameters: {'n_estimators': 86, 'max_depth': 17, 'min_samples_split': 4, 'min_samples_leaf': 7, 'criterion': 'gini'}. Best is trial 30 with value: 0.6196172248803827.\u001b[0m\n",
      "\u001b[32m[I 2023-03-15 19:08:58,427]\u001b[0m Trial 53 finished with value: 0.615568862275449 and parameters: {'n_estimators': 101, 'max_depth': 15, 'min_samples_split': 5, 'min_samples_leaf': 8, 'criterion': 'gini'}. Best is trial 30 with value: 0.6196172248803827.\u001b[0m\n",
      "\u001b[32m[I 2023-03-15 19:08:58,723]\u001b[0m Trial 54 finished with value: 0.6059850374064837 and parameters: {'n_estimators': 76, 'max_depth': 13, 'min_samples_split': 7, 'min_samples_leaf': 6, 'criterion': 'gini'}. Best is trial 30 with value: 0.6196172248803827.\u001b[0m\n",
      "\u001b[32m[I 2023-03-15 19:08:59,037]\u001b[0m Trial 55 finished with value: 0.6093366093366094 and parameters: {'n_estimators': 84, 'max_depth': 18, 'min_samples_split': 6, 'min_samples_leaf': 7, 'criterion': 'gini'}. Best is trial 30 with value: 0.6196172248803827.\u001b[0m\n",
      "\u001b[32m[I 2023-03-15 19:08:59,257]\u001b[0m Trial 56 finished with value: 0.6084848484848484 and parameters: {'n_estimators': 59, 'max_depth': 14, 'min_samples_split': 5, 'min_samples_leaf': 9, 'criterion': 'gini'}. Best is trial 30 with value: 0.6196172248803827.\u001b[0m\n",
      "\u001b[32m[I 2023-03-15 19:08:59,612]\u001b[0m Trial 57 finished with value: 0.6026097271648873 and parameters: {'n_estimators': 103, 'max_depth': 9, 'min_samples_split': 3, 'min_samples_leaf': 5, 'criterion': 'gini'}. Best is trial 30 with value: 0.6196172248803827.\u001b[0m\n",
      "\u001b[32m[I 2023-03-15 19:08:59,721]\u001b[0m Trial 58 finished with value: 0.5936794582392777 and parameters: {'n_estimators': 33, 'max_depth': 6, 'min_samples_split': 2, 'min_samples_leaf': 8, 'criterion': 'gini'}. Best is trial 30 with value: 0.6196172248803827.\u001b[0m\n",
      "\u001b[32m[I 2023-03-15 19:09:00,069]\u001b[0m Trial 59 finished with value: 0.6085889570552147 and parameters: {'n_estimators': 93, 'max_depth': 22, 'min_samples_split': 7, 'min_samples_leaf': 7, 'criterion': 'gini'}. Best is trial 30 with value: 0.6196172248803827.\u001b[0m\n",
      "\u001b[32m[I 2023-03-15 19:09:00,343]\u001b[0m Trial 60 finished with value: 0.6094316807738815 and parameters: {'n_estimators': 74, 'max_depth': 12, 'min_samples_split': 6, 'min_samples_leaf': 8, 'criterion': 'gini'}. Best is trial 30 with value: 0.6196172248803827.\u001b[0m\n",
      "\u001b[32m[I 2023-03-15 19:09:00,644]\u001b[0m Trial 61 finished with value: 0.6193853427895981 and parameters: {'n_estimators': 83, 'max_depth': 15, 'min_samples_split': 5, 'min_samples_leaf': 9, 'criterion': 'gini'}. Best is trial 30 with value: 0.6196172248803827.\u001b[0m\n",
      "\u001b[32m[I 2023-03-15 19:09:00,943]\u001b[0m Trial 62 finished with value: 0.6120996441281139 and parameters: {'n_estimators': 82, 'max_depth': 18, 'min_samples_split': 5, 'min_samples_leaf': 9, 'criterion': 'gini'}. Best is trial 30 with value: 0.6196172248803827.\u001b[0m\n"
     ]
    },
    {
     "name": "stderr",
     "output_type": "stream",
     "text": [
      "\u001b[32m[I 2023-03-15 19:09:01,250]\u001b[0m Trial 63 finished with value: 0.6096131301289566 and parameters: {'n_estimators': 86, 'max_depth': 16, 'min_samples_split': 4, 'min_samples_leaf': 10, 'criterion': 'gini'}. Best is trial 30 with value: 0.6196172248803827.\u001b[0m\n",
      "\u001b[32m[I 2023-03-15 19:09:01,601]\u001b[0m Trial 64 finished with value: 0.6168674698795181 and parameters: {'n_estimators': 96, 'max_depth': 15, 'min_samples_split': 5, 'min_samples_leaf': 8, 'criterion': 'gini'}. Best is trial 30 with value: 0.6196172248803827.\u001b[0m\n",
      "\u001b[32m[I 2023-03-15 19:09:01,954]\u001b[0m Trial 65 finished with value: 0.6115702479338843 and parameters: {'n_estimators': 97, 'max_depth': 15, 'min_samples_split': 4, 'min_samples_leaf': 9, 'criterion': 'gini'}. Best is trial 30 with value: 0.6196172248803827.\u001b[0m\n",
      "\u001b[32m[I 2023-03-15 19:09:02,245]\u001b[0m Trial 66 finished with value: 0.6109785202863961 and parameters: {'n_estimators': 79, 'max_depth': 13, 'min_samples_split': 5, 'min_samples_leaf': 8, 'criterion': 'gini'}. Best is trial 30 with value: 0.6196172248803827.\u001b[0m\n",
      "\u001b[32m[I 2023-03-15 19:09:02,656]\u001b[0m Trial 67 finished with value: 0.6184049079754602 and parameters: {'n_estimators': 111, 'max_depth': 14, 'min_samples_split': 4, 'min_samples_leaf': 7, 'criterion': 'gini'}. Best is trial 30 with value: 0.6196172248803827.\u001b[0m\n",
      "\u001b[32m[I 2023-03-15 19:09:03,046]\u001b[0m Trial 68 finished with value: 0.6084848484848484 and parameters: {'n_estimators': 111, 'max_depth': 10, 'min_samples_split': 4, 'min_samples_leaf': 6, 'criterion': 'gini'}. Best is trial 30 with value: 0.6196172248803827.\u001b[0m\n",
      "\u001b[32m[I 2023-03-15 19:09:03,471]\u001b[0m Trial 69 finished with value: 0.6121951219512195 and parameters: {'n_estimators': 116, 'max_depth': 12, 'min_samples_split': 4, 'min_samples_leaf': 7, 'criterion': 'gini'}. Best is trial 30 with value: 0.6196172248803827.\u001b[0m\n",
      "\u001b[32m[I 2023-03-15 19:09:03,728]\u001b[0m Trial 70 finished with value: 0.6007509386733417 and parameters: {'n_estimators': 66, 'max_depth': 14, 'min_samples_split': 3, 'min_samples_leaf': 6, 'criterion': 'gini'}. Best is trial 30 with value: 0.6196172248803827.\u001b[0m\n",
      "\u001b[32m[I 2023-03-15 19:09:04,063]\u001b[0m Trial 71 finished with value: 0.6144578313253012 and parameters: {'n_estimators': 92, 'max_depth': 15, 'min_samples_split': 5, 'min_samples_leaf': 8, 'criterion': 'gini'}. Best is trial 30 with value: 0.6196172248803827.\u001b[0m\n",
      "\u001b[32m[I 2023-03-15 19:09:04,384]\u001b[0m Trial 72 finished with value: 0.615568862275449 and parameters: {'n_estimators': 89, 'max_depth': 16, 'min_samples_split': 4, 'min_samples_leaf': 9, 'criterion': 'gini'}. Best is trial 30 with value: 0.6196172248803827.\u001b[0m\n",
      "\u001b[32m[I 2023-03-15 19:09:04,785]\u001b[0m Trial 73 finished with value: 0.6184049079754602 and parameters: {'n_estimators': 108, 'max_depth': 14, 'min_samples_split': 5, 'min_samples_leaf': 7, 'criterion': 'gini'}. Best is trial 30 with value: 0.6196172248803827.\u001b[0m\n",
      "\u001b[32m[I 2023-03-15 19:09:05,224]\u001b[0m Trial 74 finished with value: 0.6172539489671932 and parameters: {'n_estimators': 121, 'max_depth': 13, 'min_samples_split': 5, 'min_samples_leaf': 7, 'criterion': 'gini'}. Best is trial 30 with value: 0.6196172248803827.\u001b[0m\n",
      "\u001b[32m[I 2023-03-15 19:09:05,656]\u001b[0m Trial 75 finished with value: 0.6250000000000001 and parameters: {'n_estimators': 111, 'max_depth': 18, 'min_samples_split': 6, 'min_samples_leaf': 4, 'criterion': 'gini'}. Best is trial 75 with value: 0.6250000000000001.\u001b[0m\n",
      "\u001b[32m[I 2023-03-15 19:09:06,089]\u001b[0m Trial 76 finished with value: 0.6250000000000001 and parameters: {'n_estimators': 111, 'max_depth': 18, 'min_samples_split': 6, 'min_samples_leaf': 4, 'criterion': 'gini'}. Best is trial 75 with value: 0.6250000000000001.\u001b[0m\n",
      "\u001b[32m[I 2023-03-15 19:09:06,515]\u001b[0m Trial 77 finished with value: 0.6243386243386243 and parameters: {'n_estimators': 110, 'max_depth': 20, 'min_samples_split': 6, 'min_samples_leaf': 4, 'criterion': 'gini'}. Best is trial 75 with value: 0.6250000000000001.\u001b[0m\n",
      "\u001b[32m[I 2023-03-15 19:09:06,949]\u001b[0m Trial 78 finished with value: 0.6243386243386243 and parameters: {'n_estimators': 110, 'max_depth': 20, 'min_samples_split': 6, 'min_samples_leaf': 4, 'criterion': 'gini'}. Best is trial 75 with value: 0.6250000000000001.\u001b[0m\n",
      "\u001b[32m[I 2023-03-15 19:09:07,388]\u001b[0m Trial 79 finished with value: 0.6225165562913907 and parameters: {'n_estimators': 109, 'max_depth': 20, 'min_samples_split': 6, 'min_samples_leaf': 4, 'criterion': 'gini'}. Best is trial 75 with value: 0.6250000000000001.\u001b[0m\n",
      "\u001b[32m[I 2023-03-15 19:09:07,820]\u001b[0m Trial 80 finished with value: 0.6200527704485488 and parameters: {'n_estimators': 112, 'max_depth': 23, 'min_samples_split': 7, 'min_samples_leaf': 4, 'criterion': 'gini'}. Best is trial 75 with value: 0.6250000000000001.\u001b[0m\n",
      "\u001b[32m[I 2023-03-15 19:09:08,258]\u001b[0m Trial 81 finished with value: 0.6200527704485488 and parameters: {'n_estimators': 112, 'max_depth': 23, 'min_samples_split': 7, 'min_samples_leaf': 4, 'criterion': 'gini'}. Best is trial 75 with value: 0.6250000000000001.\u001b[0m\n",
      "\u001b[32m[I 2023-03-15 19:09:08,752]\u001b[0m Trial 82 finished with value: 0.618229854689564 and parameters: {'n_estimators': 129, 'max_depth': 22, 'min_samples_split': 7, 'min_samples_leaf': 4, 'criterion': 'gini'}. Best is trial 75 with value: 0.6250000000000001.\u001b[0m\n",
      "\u001b[32m[I 2023-03-15 19:09:09,245]\u001b[0m Trial 83 finished with value: 0.596100278551532 and parameters: {'n_estimators': 123, 'max_depth': 20, 'min_samples_split': 8, 'min_samples_leaf': 3, 'criterion': 'gini'}. Best is trial 75 with value: 0.6250000000000001.\u001b[0m\n",
      "\u001b[32m[I 2023-03-15 19:09:09,686]\u001b[0m Trial 84 finished with value: 0.618229854689564 and parameters: {'n_estimators': 115, 'max_depth': 22, 'min_samples_split': 7, 'min_samples_leaf': 4, 'criterion': 'gini'}. Best is trial 75 with value: 0.6250000000000001.\u001b[0m\n",
      "\u001b[32m[I 2023-03-15 19:09:10,144]\u001b[0m Trial 85 finished with value: 0.6198675496688741 and parameters: {'n_estimators': 120, 'max_depth': 24, 'min_samples_split': 8, 'min_samples_leaf': 4, 'criterion': 'gini'}. Best is trial 75 with value: 0.6250000000000001.\u001b[0m\n",
      "\u001b[32m[I 2023-03-15 19:09:10,576]\u001b[0m Trial 86 finished with value: 0.6200527704485488 and parameters: {'n_estimators': 112, 'max_depth': 24, 'min_samples_split': 8, 'min_samples_leaf': 4, 'criterion': 'gini'}. Best is trial 75 with value: 0.6250000000000001.\u001b[0m\n",
      "\u001b[32m[I 2023-03-15 19:09:11,131]\u001b[0m Trial 87 finished with value: 0.6145552560646901 and parameters: {'n_estimators': 120, 'max_depth': 25, 'min_samples_split': 8, 'min_samples_leaf': 4, 'criterion': 'entropy'}. Best is trial 75 with value: 0.6250000000000001.\u001b[0m\n",
      "\u001b[32m[I 2023-03-15 19:09:11,576]\u001b[0m Trial 88 finished with value: 0.6049723756906077 and parameters: {'n_estimators': 113, 'max_depth': 20, 'min_samples_split': 8, 'min_samples_leaf': 3, 'criterion': 'gini'}. Best is trial 75 with value: 0.6250000000000001.\u001b[0m\n",
      "\u001b[32m[I 2023-03-15 19:09:12,089]\u001b[0m Trial 89 finished with value: 0.6005586592178771 and parameters: {'n_estimators': 131, 'max_depth': 24, 'min_samples_split': 7, 'min_samples_leaf': 3, 'criterion': 'gini'}. Best is trial 75 with value: 0.6250000000000001.\u001b[0m\n",
      "\u001b[32m[I 2023-03-15 19:09:12,566]\u001b[0m Trial 90 finished with value: 0.613607188703466 and parameters: {'n_estimators': 125, 'max_depth': 24, 'min_samples_split': 7, 'min_samples_leaf': 5, 'criterion': 'gini'}. Best is trial 75 with value: 0.6250000000000001.\u001b[0m\n",
      "\u001b[32m[I 2023-03-15 19:09:13,028]\u001b[0m Trial 91 finished with value: 0.6188579017264275 and parameters: {'n_estimators': 118, 'max_depth': 23, 'min_samples_split': 6, 'min_samples_leaf': 4, 'criterion': 'gini'}. Best is trial 75 with value: 0.6250000000000001.\u001b[0m\n",
      "\u001b[32m[I 2023-03-15 19:09:13,444]\u001b[0m Trial 92 finished with value: 0.619047619047619 and parameters: {'n_estimators': 106, 'max_depth': 21, 'min_samples_split': 6, 'min_samples_leaf': 4, 'criterion': 'gini'}. Best is trial 75 with value: 0.6250000000000001.\u001b[0m\n",
      "\u001b[32m[I 2023-03-15 19:09:13,861]\u001b[0m Trial 93 finished with value: 0.6094750320102432 and parameters: {'n_estimators': 110, 'max_depth': 20, 'min_samples_split': 7, 'min_samples_leaf': 5, 'criterion': 'gini'}. Best is trial 75 with value: 0.6250000000000001.\u001b[0m\n",
      "\u001b[32m[I 2023-03-15 19:09:14,261]\u001b[0m Trial 94 finished with value: 0.5935302390998594 and parameters: {'n_estimators': 101, 'max_depth': 26, 'min_samples_split': 6, 'min_samples_leaf': 3, 'criterion': 'gini'}. Best is trial 75 with value: 0.6250000000000001.\u001b[0m\n"
     ]
    },
    {
     "name": "stderr",
     "output_type": "stream",
     "text": [
      "\u001b[32m[I 2023-03-15 19:09:14,714]\u001b[0m Trial 95 finished with value: 0.6225165562913907 and parameters: {'n_estimators': 117, 'max_depth': 22, 'min_samples_split': 8, 'min_samples_leaf': 4, 'criterion': 'gini'}. Best is trial 75 with value: 0.6250000000000001.\u001b[0m\n",
      "\u001b[32m[I 2023-03-15 19:09:15,172]\u001b[0m Trial 96 finished with value: 0.6188579017264275 and parameters: {'n_estimators': 118, 'max_depth': 23, 'min_samples_split': 8, 'min_samples_leaf': 4, 'criterion': 'gini'}. Best is trial 75 with value: 0.6250000000000001.\u001b[0m\n",
      "\u001b[32m[I 2023-03-15 19:09:15,603]\u001b[0m Trial 97 finished with value: 0.6096938775510204 and parameters: {'n_estimators': 114, 'max_depth': 23, 'min_samples_split': 8, 'min_samples_leaf': 5, 'criterion': 'gini'}. Best is trial 75 with value: 0.6250000000000001.\u001b[0m\n",
      "\u001b[32m[I 2023-03-15 19:09:16,122]\u001b[0m Trial 98 finished with value: 0.5945945945945946 and parameters: {'n_estimators': 107, 'max_depth': 19, 'min_samples_split': 9, 'min_samples_leaf': 2, 'criterion': 'entropy'}. Best is trial 75 with value: 0.6250000000000001.\u001b[0m\n",
      "\u001b[32m[I 2023-03-15 19:09:16,576]\u001b[0m Trial 99 finished with value: 0.6225165562913907 and parameters: {'n_estimators': 117, 'max_depth': 26, 'min_samples_split': 8, 'min_samples_leaf': 4, 'criterion': 'gini'}. Best is trial 75 with value: 0.6250000000000001.\u001b[0m\n",
      "\u001b[32m[I 2023-03-15 19:09:17,067]\u001b[0m Trial 100 finished with value: 0.5994475138121547 and parameters: {'n_estimators': 124, 'max_depth': 18, 'min_samples_split': 7, 'min_samples_leaf': 3, 'criterion': 'gini'}. Best is trial 75 with value: 0.6250000000000001.\u001b[0m\n",
      "\u001b[32m[I 2023-03-15 19:09:17,531]\u001b[0m Trial 101 finished with value: 0.6243386243386243 and parameters: {'n_estimators': 119, 'max_depth': 26, 'min_samples_split': 8, 'min_samples_leaf': 4, 'criterion': 'gini'}. Best is trial 75 with value: 0.6250000000000001.\u001b[0m\n",
      "\u001b[32m[I 2023-03-15 19:09:17,957]\u001b[0m Trial 102 finished with value: 0.6206896551724138 and parameters: {'n_estimators': 109, 'max_depth': 28, 'min_samples_split': 8, 'min_samples_leaf': 4, 'criterion': 'gini'}. Best is trial 75 with value: 0.6250000000000001.\u001b[0m\n",
      "\u001b[32m[I 2023-03-15 19:09:18,371]\u001b[0m Trial 103 finished with value: 0.6112531969309463 and parameters: {'n_estimators': 109, 'max_depth': 28, 'min_samples_split': 8, 'min_samples_leaf': 5, 'criterion': 'gini'}. Best is trial 75 with value: 0.6250000000000001.\u001b[0m\n",
      "\u001b[32m[I 2023-03-15 19:09:18,819]\u001b[0m Trial 104 finished with value: 0.6021220159151193 and parameters: {'n_estimators': 116, 'max_depth': 29, 'min_samples_split': 9, 'min_samples_leaf': 4, 'criterion': 'gini'}. Best is trial 75 with value: 0.6250000000000001.\u001b[0m\n",
      "\u001b[32m[I 2023-03-15 19:09:19,240]\u001b[0m Trial 105 finished with value: 0.5943661971830986 and parameters: {'n_estimators': 105, 'max_depth': 26, 'min_samples_split': 6, 'min_samples_leaf': 3, 'criterion': 'gini'}. Best is trial 75 with value: 0.6250000000000001.\u001b[0m\n",
      "\u001b[32m[I 2023-03-15 19:09:19,729]\u001b[0m Trial 106 finished with value: 0.6206896551724138 and parameters: {'n_estimators': 127, 'max_depth': 28, 'min_samples_split': 7, 'min_samples_leaf': 4, 'criterion': 'gini'}. Best is trial 75 with value: 0.6250000000000001.\u001b[0m\n",
      "\u001b[32m[I 2023-03-15 19:09:20,253]\u001b[0m Trial 107 finished with value: 0.613607188703466 and parameters: {'n_estimators': 139, 'max_depth': 28, 'min_samples_split': 6, 'min_samples_leaf': 5, 'criterion': 'gini'}. Best is trial 75 with value: 0.6250000000000001.\u001b[0m\n",
      "\u001b[32m[I 2023-03-15 19:09:20,765]\u001b[0m Trial 108 finished with value: 0.619047619047619 and parameters: {'n_estimators': 132, 'max_depth': 29, 'min_samples_split': 8, 'min_samples_leaf': 4, 'criterion': 'gini'}. Best is trial 75 with value: 0.6250000000000001.\u001b[0m\n",
      "\u001b[32m[I 2023-03-15 19:09:21,265]\u001b[0m Trial 109 finished with value: 0.5969316596931659 and parameters: {'n_estimators': 127, 'max_depth': 27, 'min_samples_split': 7, 'min_samples_leaf': 3, 'criterion': 'gini'}. Best is trial 75 with value: 0.6250000000000001.\u001b[0m\n",
      "\u001b[32m[I 2023-03-15 19:09:21,656]\u001b[0m Trial 110 finished with value: 0.6180371352785146 and parameters: {'n_estimators': 99, 'max_depth': 29, 'min_samples_split': 6, 'min_samples_leaf': 4, 'criterion': 'gini'}. Best is trial 75 with value: 0.6250000000000001.\u001b[0m\n",
      "\u001b[32m[I 2023-03-15 19:09:22,133]\u001b[0m Trial 111 finished with value: 0.6215139442231077 and parameters: {'n_estimators': 122, 'max_depth': 19, 'min_samples_split': 7, 'min_samples_leaf': 4, 'criterion': 'gini'}. Best is trial 75 with value: 0.6250000000000001.\u001b[0m\n",
      "\u001b[32m[I 2023-03-15 19:09:22,590]\u001b[0m Trial 112 finished with value: 0.6241699867197875 and parameters: {'n_estimators': 118, 'max_depth': 18, 'min_samples_split': 8, 'min_samples_leaf': 4, 'criterion': 'gini'}. Best is trial 75 with value: 0.6250000000000001.\u001b[0m\n",
      "\u001b[32m[I 2023-03-15 19:09:23,065]\u001b[0m Trial 113 finished with value: 0.6198675496688741 and parameters: {'n_estimators': 122, 'max_depth': 18, 'min_samples_split': 8, 'min_samples_leaf': 4, 'criterion': 'gini'}. Best is trial 75 with value: 0.6250000000000001.\u001b[0m\n",
      "\u001b[32m[I 2023-03-15 19:09:23,511]\u001b[0m Trial 114 finished with value: 0.6128205128205128 and parameters: {'n_estimators': 118, 'max_depth': 19, 'min_samples_split': 8, 'min_samples_leaf': 5, 'criterion': 'gini'}. Best is trial 75 with value: 0.6250000000000001.\u001b[0m\n",
      "\u001b[32m[I 2023-03-15 19:09:24,009]\u001b[0m Trial 115 finished with value: 0.6074270557029178 and parameters: {'n_estimators': 130, 'max_depth': 20, 'min_samples_split': 9, 'min_samples_leaf': 4, 'criterion': 'gini'}. Best is trial 75 with value: 0.6250000000000001.\u001b[0m\n",
      "\u001b[32m[I 2023-03-15 19:09:24,497]\u001b[0m Trial 116 finished with value: 0.6188579017264275 and parameters: {'n_estimators': 126, 'max_depth': 18, 'min_samples_split': 6, 'min_samples_leaf': 4, 'criterion': 'gini'}. Best is trial 75 with value: 0.6250000000000001.\u001b[0m\n",
      "\u001b[32m[I 2023-03-15 19:09:24,931]\u001b[0m Trial 117 finished with value: 0.6128205128205128 and parameters: {'n_estimators': 115, 'max_depth': 19, 'min_samples_split': 9, 'min_samples_leaf': 5, 'criterion': 'gini'}. Best is trial 75 with value: 0.6250000000000001.\u001b[0m\n",
      "\u001b[32m[I 2023-03-15 19:09:25,479]\u001b[0m Trial 118 finished with value: 0.6120805369127518 and parameters: {'n_estimators': 118, 'max_depth': 26, 'min_samples_split': 8, 'min_samples_leaf': 4, 'criterion': 'entropy'}. Best is trial 75 with value: 0.6250000000000001.\u001b[0m\n",
      "\u001b[32m[I 2023-03-15 19:09:25,994]\u001b[0m Trial 119 finished with value: 0.6164021164021164 and parameters: {'n_estimators': 134, 'max_depth': 21, 'min_samples_split': 6, 'min_samples_leaf': 4, 'criterion': 'gini'}. Best is trial 75 with value: 0.6250000000000001.\u001b[0m\n",
      "\u001b[32m[I 2023-03-15 19:09:26,423]\u001b[0m Trial 120 finished with value: 0.6008344923504868 and parameters: {'n_estimators': 109, 'max_depth': 27, 'min_samples_split': 8, 'min_samples_leaf': 3, 'criterion': 'gini'}. Best is trial 75 with value: 0.6250000000000001.\u001b[0m\n",
      "\u001b[32m[I 2023-03-15 19:09:26,905]\u001b[0m Trial 121 finished with value: 0.6213333333333333 and parameters: {'n_estimators': 123, 'max_depth': 22, 'min_samples_split': 7, 'min_samples_leaf': 4, 'criterion': 'gini'}. Best is trial 75 with value: 0.6250000000000001.\u001b[0m\n",
      "\u001b[32m[I 2023-03-15 19:09:27,391]\u001b[0m Trial 122 finished with value: 0.6213333333333333 and parameters: {'n_estimators': 123, 'max_depth': 22, 'min_samples_split': 7, 'min_samples_leaf': 4, 'criterion': 'gini'}. Best is trial 75 with value: 0.6250000000000001.\u001b[0m\n",
      "\u001b[32m[I 2023-03-15 19:09:27,868]\u001b[0m Trial 123 finished with value: 0.6188579017264275 and parameters: {'n_estimators': 122, 'max_depth': 22, 'min_samples_split': 6, 'min_samples_leaf': 4, 'criterion': 'gini'}. Best is trial 75 with value: 0.6250000000000001.\u001b[0m\n",
      "\u001b[32m[I 2023-03-15 19:09:28,339]\u001b[0m Trial 124 finished with value: 0.6198675496688741 and parameters: {'n_estimators': 120, 'max_depth': 21, 'min_samples_split': 8, 'min_samples_leaf': 4, 'criterion': 'gini'}. Best is trial 75 with value: 0.6250000000000001.\u001b[0m\n",
      "\u001b[32m[I 2023-03-15 19:09:28,794]\u001b[0m Trial 125 finished with value: 0.6017925736235595 and parameters: {'n_estimators': 116, 'max_depth': 17, 'min_samples_split': 7, 'min_samples_leaf': 5, 'criterion': 'gini'}. Best is trial 75 with value: 0.6250000000000001.\u001b[0m\n",
      "\u001b[32m[I 2023-03-15 19:09:29,291]\u001b[0m Trial 126 finished with value: 0.5912305516265913 and parameters: {'n_estimators': 124, 'max_depth': 20, 'min_samples_split': 6, 'min_samples_leaf': 3, 'criterion': 'gini'}. Best is trial 75 with value: 0.6250000000000001.\u001b[0m\n"
     ]
    },
    {
     "name": "stderr",
     "output_type": "stream",
     "text": [
      "\u001b[32m[I 2023-03-15 19:09:29,762]\u001b[0m Trial 127 finished with value: 0.5961251862891207 and parameters: {'n_estimators': 114, 'max_depth': 22, 'min_samples_split': 7, 'min_samples_leaf': 1, 'criterion': 'gini'}. Best is trial 75 with value: 0.6250000000000001.\u001b[0m\n",
      "\u001b[32m[I 2023-03-15 19:09:30,180]\u001b[0m Trial 128 finished with value: 0.5850914205344585 and parameters: {'n_estimators': 103, 'max_depth': 20, 'min_samples_split': 6, 'min_samples_leaf': 3, 'criterion': 'gini'}. Best is trial 75 with value: 0.6250000000000001.\u001b[0m\n",
      "\u001b[32m[I 2023-03-15 19:09:30,391]\u001b[0m Trial 129 finished with value: 0.582441113490364 and parameters: {'n_estimators': 108, 'max_depth': 2, 'min_samples_split': 8, 'min_samples_leaf': 4, 'criterion': 'gini'}. Best is trial 75 with value: 0.6250000000000001.\u001b[0m\n",
      "\u001b[32m[I 2023-03-15 19:09:30,860]\u001b[0m Trial 130 finished with value: 0.623342175066313 and parameters: {'n_estimators': 120, 'max_depth': 19, 'min_samples_split': 7, 'min_samples_leaf': 4, 'criterion': 'gini'}. Best is trial 75 with value: 0.6250000000000001.\u001b[0m\n",
      "\u001b[32m[I 2023-03-15 19:09:31,323]\u001b[0m Trial 131 finished with value: 0.6225165562913907 and parameters: {'n_estimators': 119, 'max_depth': 19, 'min_samples_split': 7, 'min_samples_leaf': 4, 'criterion': 'gini'}. Best is trial 75 with value: 0.6250000000000001.\u001b[0m\n",
      "\u001b[32m[I 2023-03-15 19:09:31,798]\u001b[0m Trial 132 finished with value: 0.623342175066313 and parameters: {'n_estimators': 120, 'max_depth': 19, 'min_samples_split': 7, 'min_samples_leaf': 4, 'criterion': 'gini'}. Best is trial 75 with value: 0.6250000000000001.\u001b[0m\n",
      "\u001b[32m[I 2023-03-15 19:09:32,267]\u001b[0m Trial 133 finished with value: 0.623342175066313 and parameters: {'n_estimators': 120, 'max_depth': 19, 'min_samples_split': 7, 'min_samples_leaf': 4, 'criterion': 'gini'}. Best is trial 75 with value: 0.6250000000000001.\u001b[0m\n",
      "\u001b[32m[I 2023-03-15 19:09:32,724]\u001b[0m Trial 134 finished with value: 0.623342175066313 and parameters: {'n_estimators': 118, 'max_depth': 19, 'min_samples_split': 7, 'min_samples_leaf': 4, 'criterion': 'gini'}. Best is trial 75 with value: 0.6250000000000001.\u001b[0m\n",
      "\u001b[32m[I 2023-03-15 19:09:33,184]\u001b[0m Trial 135 finished with value: 0.6145966709346992 and parameters: {'n_estimators': 119, 'max_depth': 18, 'min_samples_split': 6, 'min_samples_leaf': 5, 'criterion': 'gini'}. Best is trial 75 with value: 0.6250000000000001.\u001b[0m\n",
      "\u001b[32m[I 2023-03-15 19:09:33,627]\u001b[0m Trial 136 finished with value: 0.6231691078561918 and parameters: {'n_estimators': 113, 'max_depth': 18, 'min_samples_split': 7, 'min_samples_leaf': 4, 'criterion': 'gini'}. Best is trial 75 with value: 0.6250000000000001.\u001b[0m\n",
      "\u001b[32m[I 2023-03-15 19:09:34,070]\u001b[0m Trial 137 finished with value: 0.6160000000000001 and parameters: {'n_estimators': 113, 'max_depth': 17, 'min_samples_split': 6, 'min_samples_leaf': 4, 'criterion': 'gini'}. Best is trial 75 with value: 0.6250000000000001.\u001b[0m\n",
      "\u001b[32m[I 2023-03-15 19:09:34,527]\u001b[0m Trial 138 finished with value: 0.6002766251728907 and parameters: {'n_estimators': 116, 'max_depth': 18, 'min_samples_split': 7, 'min_samples_leaf': 3, 'criterion': 'gini'}. Best is trial 75 with value: 0.6250000000000001.\u001b[0m\n",
      "\u001b[32m[I 2023-03-15 19:09:35,035]\u001b[0m Trial 139 finished with value: 0.6028460543337645 and parameters: {'n_estimators': 111, 'max_depth': 20, 'min_samples_split': 7, 'min_samples_leaf': 5, 'criterion': 'entropy'}. Best is trial 75 with value: 0.6250000000000001.\u001b[0m\n",
      "\u001b[32m[I 2023-03-15 19:09:35,453]\u001b[0m Trial 140 finished with value: 0.6180371352785146 and parameters: {'n_estimators': 106, 'max_depth': 18, 'min_samples_split': 6, 'min_samples_leaf': 4, 'criterion': 'gini'}. Best is trial 75 with value: 0.6250000000000001.\u001b[0m\n",
      "\u001b[32m[I 2023-03-15 19:09:35,918]\u001b[0m Trial 141 finished with value: 0.623342175066313 and parameters: {'n_estimators': 117, 'max_depth': 19, 'min_samples_split': 7, 'min_samples_leaf': 4, 'criterion': 'gini'}. Best is trial 75 with value: 0.6250000000000001.\u001b[0m\n",
      "\u001b[32m[I 2023-03-15 19:09:36,374]\u001b[0m Trial 142 finished with value: 0.6206896551724138 and parameters: {'n_estimators': 114, 'max_depth': 19, 'min_samples_split': 7, 'min_samples_leaf': 4, 'criterion': 'gini'}. Best is trial 75 with value: 0.6250000000000001.\u001b[0m\n",
      "\u001b[32m[I 2023-03-15 19:09:36,822]\u001b[0m Trial 143 finished with value: 0.6114819759679573 and parameters: {'n_estimators': 116, 'max_depth': 17, 'min_samples_split': 7, 'min_samples_leaf': 4, 'criterion': 'gini'}. Best is trial 75 with value: 0.6250000000000001.\u001b[0m\n",
      "\u001b[32m[I 2023-03-15 19:09:37,287]\u001b[0m Trial 144 finished with value: 0.6198675496688741 and parameters: {'n_estimators': 118, 'max_depth': 20, 'min_samples_split': 6, 'min_samples_leaf': 4, 'criterion': 'gini'}. Best is trial 75 with value: 0.6250000000000001.\u001b[0m\n",
      "\u001b[32m[I 2023-03-15 19:09:37,783]\u001b[0m Trial 145 finished with value: 0.5991678224687933 and parameters: {'n_estimators': 127, 'max_depth': 19, 'min_samples_split': 7, 'min_samples_leaf': 3, 'criterion': 'gini'}. Best is trial 75 with value: 0.6250000000000001.\u001b[0m\n",
      "\u001b[32m[I 2023-03-15 19:09:38,222]\u001b[0m Trial 146 finished with value: 0.623342175066313 and parameters: {'n_estimators': 112, 'max_depth': 18, 'min_samples_split': 6, 'min_samples_leaf': 4, 'criterion': 'gini'}. Best is trial 75 with value: 0.6250000000000001.\u001b[0m\n",
      "\u001b[32m[I 2023-03-15 19:09:38,643]\u001b[0m Trial 147 finished with value: 0.6130268199233716 and parameters: {'n_estimators': 110, 'max_depth': 16, 'min_samples_split': 6, 'min_samples_leaf': 5, 'criterion': 'gini'}. Best is trial 75 with value: 0.6250000000000001.\u001b[0m\n",
      "\u001b[32m[I 2023-03-15 19:09:39,077]\u001b[0m Trial 148 finished with value: 0.6143617021276596 and parameters: {'n_estimators': 112, 'max_depth': 17, 'min_samples_split': 6, 'min_samples_leaf': 4, 'criterion': 'gini'}. Best is trial 75 with value: 0.6250000000000001.\u001b[0m\n",
      "\u001b[32m[I 2023-03-15 19:09:39,482]\u001b[0m Trial 149 finished with value: 0.6135458167330677 and parameters: {'n_estimators': 101, 'max_depth': 18, 'min_samples_split': 6, 'min_samples_leaf': 4, 'criterion': 'gini'}. Best is trial 75 with value: 0.6250000000000001.\u001b[0m\n",
      "\u001b[32m[I 2023-03-15 19:09:39,909]\u001b[0m Trial 150 finished with value: 0.5879043600562588 and parameters: {'n_estimators': 107, 'max_depth': 21, 'min_samples_split': 6, 'min_samples_leaf': 3, 'criterion': 'gini'}. Best is trial 75 with value: 0.6250000000000001.\u001b[0m\n",
      "\u001b[32m[I 2023-03-15 19:09:40,375]\u001b[0m Trial 151 finished with value: 0.623342175066313 and parameters: {'n_estimators': 120, 'max_depth': 19, 'min_samples_split': 8, 'min_samples_leaf': 4, 'criterion': 'gini'}. Best is trial 75 with value: 0.6250000000000001.\u001b[0m\n",
      "\u001b[32m[I 2023-03-15 19:09:40,837]\u001b[0m Trial 152 finished with value: 0.623342175066313 and parameters: {'n_estimators': 120, 'max_depth': 19, 'min_samples_split': 8, 'min_samples_leaf': 4, 'criterion': 'gini'}. Best is trial 75 with value: 0.6250000000000001.\u001b[0m\n",
      "\u001b[32m[I 2023-03-15 19:09:41,301]\u001b[0m Trial 153 finished with value: 0.623342175066313 and parameters: {'n_estimators': 120, 'max_depth': 19, 'min_samples_split': 7, 'min_samples_leaf': 4, 'criterion': 'gini'}. Best is trial 75 with value: 0.6250000000000001.\u001b[0m\n",
      "\u001b[32m[I 2023-03-15 19:09:41,782]\u001b[0m Trial 154 finished with value: 0.6215139442231077 and parameters: {'n_estimators': 121, 'max_depth': 18, 'min_samples_split': 7, 'min_samples_leaf': 4, 'criterion': 'gini'}. Best is trial 75 with value: 0.6250000000000001.\u001b[0m\n",
      "\u001b[32m[I 2023-03-15 19:09:42,291]\u001b[0m Trial 155 finished with value: 0.6226912928759895 and parameters: {'n_estimators': 129, 'max_depth': 19, 'min_samples_split': 7, 'min_samples_leaf': 4, 'criterion': 'gini'}. Best is trial 75 with value: 0.6250000000000001.\u001b[0m\n",
      "\u001b[32m[I 2023-03-15 19:09:42,771]\u001b[0m Trial 156 finished with value: 0.623342175066313 and parameters: {'n_estimators': 120, 'max_depth': 19, 'min_samples_split': 8, 'min_samples_leaf': 4, 'criterion': 'gini'}. Best is trial 75 with value: 0.6250000000000001.\u001b[0m\n",
      "\u001b[32m[I 2023-03-15 19:09:42,883]\u001b[0m Trial 157 finished with value: 0.6145404663923182 and parameters: {'n_estimators': 22, 'max_depth': 19, 'min_samples_split': 8, 'min_samples_leaf': 3, 'criterion': 'gini'}. Best is trial 75 with value: 0.6250000000000001.\u001b[0m\n",
      "\u001b[32m[I 2023-03-15 19:09:43,376]\u001b[0m Trial 158 finished with value: 0.6110363391655451 and parameters: {'n_estimators': 125, 'max_depth': 17, 'min_samples_split': 8, 'min_samples_leaf': 4, 'criterion': 'gini'}. Best is trial 75 with value: 0.6250000000000001.\u001b[0m\n"
     ]
    },
    {
     "name": "stderr",
     "output_type": "stream",
     "text": [
      "\u001b[32m[I 2023-03-15 19:09:43,854]\u001b[0m Trial 159 finished with value: 0.608695652173913 and parameters: {'n_estimators': 121, 'max_depth': 21, 'min_samples_split': 8, 'min_samples_leaf': 5, 'criterion': 'gini'}. Best is trial 75 with value: 0.6250000000000001.\u001b[0m\n",
      "\u001b[32m[I 2023-03-15 19:09:44,350]\u001b[0m Trial 160 finished with value: 0.6180371352785146 and parameters: {'n_estimators': 125, 'max_depth': 20, 'min_samples_split': 8, 'min_samples_leaf': 4, 'criterion': 'gini'}. Best is trial 75 with value: 0.6250000000000001.\u001b[0m\n",
      "\u001b[32m[I 2023-03-15 19:09:44,819]\u001b[0m Trial 161 finished with value: 0.6231691078561918 and parameters: {'n_estimators': 114, 'max_depth': 18, 'min_samples_split': 7, 'min_samples_leaf': 4, 'criterion': 'gini'}. Best is trial 75 with value: 0.6250000000000001.\u001b[0m\n",
      "\u001b[32m[I 2023-03-15 19:09:45,300]\u001b[0m Trial 162 finished with value: 0.623342175066313 and parameters: {'n_estimators': 120, 'max_depth': 19, 'min_samples_split': 7, 'min_samples_leaf': 4, 'criterion': 'gini'}. Best is trial 75 with value: 0.6250000000000001.\u001b[0m\n",
      "\u001b[32m[I 2023-03-15 19:09:45,766]\u001b[0m Trial 163 finished with value: 0.623342175066313 and parameters: {'n_estimators': 120, 'max_depth': 19, 'min_samples_split': 7, 'min_samples_leaf': 4, 'criterion': 'gini'}. Best is trial 75 with value: 0.6250000000000001.\u001b[0m\n",
      "\u001b[32m[I 2023-03-15 19:09:46,235]\u001b[0m Trial 164 finished with value: 0.6225165562913907 and parameters: {'n_estimators': 119, 'max_depth': 19, 'min_samples_split': 8, 'min_samples_leaf': 4, 'criterion': 'gini'}. Best is trial 75 with value: 0.6250000000000001.\u001b[0m\n",
      "\u001b[32m[I 2023-03-15 19:09:46,716]\u001b[0m Trial 165 finished with value: 0.6205059920106525 and parameters: {'n_estimators': 123, 'max_depth': 20, 'min_samples_split': 7, 'min_samples_leaf': 4, 'criterion': 'gini'}. Best is trial 75 with value: 0.6250000000000001.\u001b[0m\n",
      "\u001b[32m[I 2023-03-15 19:09:47,164]\u001b[0m Trial 166 finished with value: 0.6007702182284981 and parameters: {'n_estimators': 117, 'max_depth': 17, 'min_samples_split': 8, 'min_samples_leaf': 5, 'criterion': 'gini'}. Best is trial 75 with value: 0.6250000000000001.\u001b[0m\n",
      "\u001b[32m[I 2023-03-15 19:09:47,660]\u001b[0m Trial 167 finished with value: 0.6243386243386243 and parameters: {'n_estimators': 127, 'max_depth': 19, 'min_samples_split': 7, 'min_samples_leaf': 4, 'criterion': 'gini'}. Best is trial 75 with value: 0.6250000000000001.\u001b[0m\n",
      "\u001b[32m[I 2023-03-15 19:09:48,168]\u001b[0m Trial 168 finished with value: 0.6044678055190539 and parameters: {'n_estimators': 131, 'max_depth': 18, 'min_samples_split': 9, 'min_samples_leaf': 4, 'criterion': 'gini'}. Best is trial 75 with value: 0.6250000000000001.\u001b[0m\n",
      "\u001b[32m[I 2023-03-15 19:09:48,766]\u001b[0m Trial 169 finished with value: 0.6160000000000001 and parameters: {'n_estimators': 128, 'max_depth': 20, 'min_samples_split': 8, 'min_samples_leaf': 4, 'criterion': 'entropy'}. Best is trial 75 with value: 0.6250000000000001.\u001b[0m\n",
      "\u001b[32m[I 2023-03-15 19:09:49,256]\u001b[0m Trial 170 finished with value: 0.6143958868894601 and parameters: {'n_estimators': 125, 'max_depth': 19, 'min_samples_split': 7, 'min_samples_leaf': 5, 'criterion': 'gini'}. Best is trial 75 with value: 0.6250000000000001.\u001b[0m\n",
      "\u001b[32m[I 2023-03-15 19:09:49,730]\u001b[0m Trial 171 finished with value: 0.623342175066313 and parameters: {'n_estimators': 121, 'max_depth': 19, 'min_samples_split': 7, 'min_samples_leaf': 4, 'criterion': 'gini'}. Best is trial 75 with value: 0.6250000000000001.\u001b[0m\n",
      "\u001b[32m[I 2023-03-15 19:09:50,186]\u001b[0m Trial 172 finished with value: 0.6206896551724138 and parameters: {'n_estimators': 114, 'max_depth': 19, 'min_samples_split': 7, 'min_samples_leaf': 4, 'criterion': 'gini'}. Best is trial 75 with value: 0.6250000000000001.\u001b[0m\n",
      "\u001b[32m[I 2023-03-15 19:09:50,646]\u001b[0m Trial 173 finished with value: 0.6231691078561918 and parameters: {'n_estimators': 117, 'max_depth': 18, 'min_samples_split': 7, 'min_samples_leaf': 4, 'criterion': 'gini'}. Best is trial 75 with value: 0.6250000000000001.\u001b[0m\n",
      "\u001b[32m[I 2023-03-15 19:09:51,122]\u001b[0m Trial 174 finished with value: 0.6215139442231077 and parameters: {'n_estimators': 121, 'max_depth': 21, 'min_samples_split': 7, 'min_samples_leaf': 4, 'criterion': 'gini'}. Best is trial 75 with value: 0.6250000000000001.\u001b[0m\n",
      "\u001b[32m[I 2023-03-15 19:09:51,605]\u001b[0m Trial 175 finished with value: 0.6188579017264275 and parameters: {'n_estimators': 124, 'max_depth': 20, 'min_samples_split': 6, 'min_samples_leaf': 4, 'criterion': 'gini'}. Best is trial 75 with value: 0.6250000000000001.\u001b[0m\n",
      "\u001b[32m[I 2023-03-15 19:09:52,070]\u001b[0m Trial 176 finished with value: 0.6133333333333334 and parameters: {'n_estimators': 119, 'max_depth': 17, 'min_samples_split': 7, 'min_samples_leaf': 4, 'criterion': 'gini'}. Best is trial 75 with value: 0.6250000000000001.\u001b[0m\n",
      "\u001b[32m[I 2023-03-15 19:09:52,519]\u001b[0m Trial 177 finished with value: 0.6215139442231077 and parameters: {'n_estimators': 115, 'max_depth': 18, 'min_samples_split': 8, 'min_samples_leaf': 4, 'criterion': 'gini'}. Best is trial 75 with value: 0.6250000000000001.\u001b[0m\n",
      "\u001b[32m[I 2023-03-15 19:09:52,961]\u001b[0m Trial 178 finished with value: 0.5924895688456189 and parameters: {'n_estimators': 111, 'max_depth': 20, 'min_samples_split': 7, 'min_samples_leaf': 3, 'criterion': 'gini'}. Best is trial 75 with value: 0.6250000000000001.\u001b[0m\n",
      "\u001b[32m[I 2023-03-15 19:09:53,463]\u001b[0m Trial 179 finished with value: 0.6243386243386243 and parameters: {'n_estimators': 126, 'max_depth': 19, 'min_samples_split': 8, 'min_samples_leaf': 4, 'criterion': 'gini'}. Best is trial 75 with value: 0.6250000000000001.\u001b[0m\n",
      "\u001b[32m[I 2023-03-15 19:09:53,966]\u001b[0m Trial 180 finished with value: 0.6170212765957447 and parameters: {'n_estimators': 128, 'max_depth': 18, 'min_samples_split': 8, 'min_samples_leaf': 4, 'criterion': 'gini'}. Best is trial 75 with value: 0.6250000000000001.\u001b[0m\n",
      "\u001b[32m[I 2023-03-15 19:09:54,250]\u001b[0m Trial 181 finished with value: 0.5895196506550219 and parameters: {'n_estimators': 123, 'max_depth': 4, 'min_samples_split': 8, 'min_samples_leaf': 4, 'criterion': 'gini'}. Best is trial 75 with value: 0.6250000000000001.\u001b[0m\n",
      "\u001b[32m[I 2023-03-15 19:09:54,776]\u001b[0m Trial 182 finished with value: 0.6155878467635403 and parameters: {'n_estimators': 134, 'max_depth': 19, 'min_samples_split': 8, 'min_samples_leaf': 4, 'criterion': 'gini'}. Best is trial 75 with value: 0.6250000000000001.\u001b[0m\n",
      "\u001b[32m[I 2023-03-15 19:09:55,283]\u001b[0m Trial 183 finished with value: 0.6243386243386243 and parameters: {'n_estimators': 126, 'max_depth': 19, 'min_samples_split': 8, 'min_samples_leaf': 4, 'criterion': 'gini'}. Best is trial 75 with value: 0.6250000000000001.\u001b[0m\n",
      "\u001b[32m[I 2023-03-15 19:09:55,788]\u001b[0m Trial 184 finished with value: 0.6243386243386243 and parameters: {'n_estimators': 126, 'max_depth': 19, 'min_samples_split': 8, 'min_samples_leaf': 4, 'criterion': 'gini'}. Best is trial 75 with value: 0.6250000000000001.\u001b[0m\n",
      "\u001b[32m[I 2023-03-15 19:09:56,275]\u001b[0m Trial 185 finished with value: 0.6108897742363877 and parameters: {'n_estimators': 126, 'max_depth': 20, 'min_samples_split': 9, 'min_samples_leaf': 4, 'criterion': 'gini'}. Best is trial 75 with value: 0.6250000000000001.\u001b[0m\n",
      "\u001b[32m[I 2023-03-15 19:09:56,789]\u001b[0m Trial 186 finished with value: 0.6061415220293725 and parameters: {'n_estimators': 133, 'max_depth': 17, 'min_samples_split': 8, 'min_samples_leaf': 4, 'criterion': 'gini'}. Best is trial 75 with value: 0.6250000000000001.\u001b[0m\n",
      "\u001b[32m[I 2023-03-15 19:09:57,281]\u001b[0m Trial 187 finished with value: 0.6141078838174273 and parameters: {'n_estimators': 127, 'max_depth': 19, 'min_samples_split': 8, 'min_samples_leaf': 3, 'criterion': 'gini'}. Best is trial 75 with value: 0.6250000000000001.\u001b[0m\n",
      "\u001b[32m[I 2023-03-15 19:09:57,803]\u001b[0m Trial 188 finished with value: 0.6164021164021164 and parameters: {'n_estimators': 137, 'max_depth': 16, 'min_samples_split': 8, 'min_samples_leaf': 4, 'criterion': 'gini'}. Best is trial 75 with value: 0.6250000000000001.\u001b[0m\n",
      "\u001b[32m[I 2023-03-15 19:09:58,282]\u001b[0m Trial 189 finished with value: 0.6170212765957447 and parameters: {'n_estimators': 123, 'max_depth': 18, 'min_samples_split': 6, 'min_samples_leaf': 4, 'criterion': 'gini'}. Best is trial 75 with value: 0.6250000000000001.\u001b[0m\n",
      "\u001b[32m[I 2023-03-15 19:09:58,769]\u001b[0m Trial 190 finished with value: 0.6112531969309463 and parameters: {'n_estimators': 130, 'max_depth': 21, 'min_samples_split': 8, 'min_samples_leaf': 5, 'criterion': 'gini'}. Best is trial 75 with value: 0.6250000000000001.\u001b[0m\n"
     ]
    },
    {
     "name": "stderr",
     "output_type": "stream",
     "text": [
      "\u001b[32m[I 2023-03-15 19:09:59,233]\u001b[0m Trial 191 finished with value: 0.623342175066313 and parameters: {'n_estimators': 117, 'max_depth': 19, 'min_samples_split': 8, 'min_samples_leaf': 4, 'criterion': 'gini'}. Best is trial 75 with value: 0.6250000000000001.\u001b[0m\n",
      "\u001b[32m[I 2023-03-15 19:09:59,739]\u001b[0m Trial 192 finished with value: 0.6180371352785146 and parameters: {'n_estimators': 125, 'max_depth': 20, 'min_samples_split': 8, 'min_samples_leaf': 4, 'criterion': 'gini'}. Best is trial 75 with value: 0.6250000000000001.\u001b[0m\n",
      "\u001b[32m[I 2023-03-15 19:10:00,227]\u001b[0m Trial 193 finished with value: 0.6225165562913907 and parameters: {'n_estimators': 119, 'max_depth': 18, 'min_samples_split': 8, 'min_samples_leaf': 4, 'criterion': 'gini'}. Best is trial 75 with value: 0.6250000000000001.\u001b[0m\n",
      "\u001b[32m[I 2023-03-15 19:10:00,710]\u001b[0m Trial 194 finished with value: 0.623342175066313 and parameters: {'n_estimators': 121, 'max_depth': 19, 'min_samples_split': 8, 'min_samples_leaf': 4, 'criterion': 'gini'}. Best is trial 75 with value: 0.6250000000000001.\u001b[0m\n",
      "\u001b[32m[I 2023-03-15 19:10:01,179]\u001b[0m Trial 195 finished with value: 0.6225165562913907 and parameters: {'n_estimators': 115, 'max_depth': 20, 'min_samples_split': 8, 'min_samples_leaf': 4, 'criterion': 'gini'}. Best is trial 75 with value: 0.6250000000000001.\u001b[0m\n",
      "\u001b[32m[I 2023-03-15 19:10:01,615]\u001b[0m Trial 196 finished with value: 0.6251655629139072 and parameters: {'n_estimators': 112, 'max_depth': 19, 'min_samples_split': 6, 'min_samples_leaf': 4, 'criterion': 'gini'}. Best is trial 196 with value: 0.6251655629139072.\u001b[0m\n",
      "\u001b[32m[I 2023-03-15 19:10:02,053]\u001b[0m Trial 197 finished with value: 0.623342175066313 and parameters: {'n_estimators': 112, 'max_depth': 18, 'min_samples_split': 6, 'min_samples_leaf': 4, 'criterion': 'gini'}. Best is trial 196 with value: 0.6251655629139072.\u001b[0m\n",
      "\u001b[32m[I 2023-03-15 19:10:02,581]\u001b[0m Trial 198 finished with value: 0.613728129205922 and parameters: {'n_estimators': 109, 'max_depth': 19, 'min_samples_split': 6, 'min_samples_leaf': 4, 'criterion': 'entropy'}. Best is trial 196 with value: 0.6251655629139072.\u001b[0m\n",
      "\u001b[32m[I 2023-03-15 19:10:03,004]\u001b[0m Trial 199 finished with value: 0.6162018592297477 and parameters: {'n_estimators': 104, 'max_depth': 18, 'min_samples_split': 6, 'min_samples_leaf': 4, 'criterion': 'gini'}. Best is trial 196 with value: 0.6251655629139072.\u001b[0m\n"
     ]
    },
    {
     "name": "stdout",
     "output_type": "stream",
     "text": [
      "Best trial:\n",
      "  Score: 0.625\n",
      "  Params: \n",
      "    n_estimators: 112\n",
      "    max_depth: 19\n",
      "    min_samples_split: 6\n",
      "    min_samples_leaf: 4\n",
      "    criterion: gini\n"
     ]
    }
   ],
   "source": [
    "study = optuna.create_study(direction='maximize')\n",
    "\n",
    "study.optimize(objective, n_trials=200)\n",
    "\n",
    "print('Best trial:')\n",
    "trial = study.best_trial\n",
    "print(f'  Score: {trial.value:.3f}')\n",
    "print('  Params: ')\n",
    "for key, value in trial.params.items():\n",
    "    print(f'    {key}: {value}')"
   ]
  },
  {
   "cell_type": "code",
   "execution_count": 30,
   "metadata": {},
   "outputs": [
    {
     "data": {
      "text/plain": [
       "RandomForestClassifier(class_weight='balanced', max_depth=19,\n",
       "                       min_samples_leaf=4, min_samples_split=6,\n",
       "                       n_estimators=112, random_state=322)"
      ]
     },
     "execution_count": 30,
     "metadata": {},
     "output_type": "execute_result"
    }
   ],
   "source": [
    "rfc_cl_w = RandomForestClassifier(n_estimators=112,\n",
    "                                   max_depth=19,\n",
    "                                   min_samples_split=6,\n",
    "                                   min_samples_leaf=4,\n",
    "                                   criterion='gini',\n",
    "                                   class_weight='balanced',\n",
    "                                   random_state=322)\n",
    "rfc_cl_w.fit(features_train, target_train)"
   ]
  },
  {
   "cell_type": "code",
   "execution_count": 31,
   "metadata": {},
   "outputs": [
    {
     "data": {
      "text/plain": [
       "0.861"
      ]
     },
     "execution_count": 31,
     "metadata": {},
     "output_type": "execute_result"
    }
   ],
   "source": [
    "prob_one_valid = rfc_cl_w.predict_proba(features_valid)[:, 1]\n",
    "roc_auc_score(target_valid, prob_one_valid).round(3)"
   ]
  },
  {
   "cell_type": "markdown",
   "metadata": {},
   "source": [
    "F1 равна 0,625, а AUC-ROC - 0,861. Эти показатели лучше чем у модели без учета дисбаланса."
   ]
  },
  {
   "cell_type": "markdown",
   "metadata": {},
   "source": [
    "#### CatBoost"
   ]
  },
  {
   "cell_type": "markdown",
   "metadata": {},
   "source": [
    "Обучим модель CatBoost со сбалансированным весом классов."
   ]
  },
  {
   "cell_type": "code",
   "execution_count": 64,
   "metadata": {
    "scrolled": true
   },
   "outputs": [
    {
     "name": "stdout",
     "output_type": "stream",
     "text": [
      "Learning rate set to 0.021257\n",
      "0:\tlearn: 0.6828764\ttotal: 1.99ms\tremaining: 1.99s\n",
      "1:\tlearn: 0.6728673\ttotal: 3.86ms\tremaining: 1.93s\n",
      "2:\tlearn: 0.6646738\ttotal: 6.22ms\tremaining: 2.07s\n",
      "3:\tlearn: 0.6577469\ttotal: 8.33ms\tremaining: 2.07s\n",
      "4:\tlearn: 0.6486953\ttotal: 10.5ms\tremaining: 2.09s\n",
      "5:\tlearn: 0.6399726\ttotal: 12.6ms\tremaining: 2.09s\n",
      "6:\tlearn: 0.6330122\ttotal: 14.4ms\tremaining: 2.05s\n",
      "7:\tlearn: 0.6256236\ttotal: 16.5ms\tremaining: 2.05s\n",
      "8:\tlearn: 0.6176381\ttotal: 18.6ms\tremaining: 2.05s\n",
      "9:\tlearn: 0.6113616\ttotal: 21ms\tremaining: 2.08s\n",
      "10:\tlearn: 0.6048369\ttotal: 23ms\tremaining: 2.07s\n",
      "11:\tlearn: 0.6002579\ttotal: 25ms\tremaining: 2.06s\n",
      "12:\tlearn: 0.5949636\ttotal: 26.8ms\tremaining: 2.03s\n",
      "13:\tlearn: 0.5893297\ttotal: 28.7ms\tremaining: 2.02s\n",
      "14:\tlearn: 0.5852258\ttotal: 30.5ms\tremaining: 2s\n",
      "15:\tlearn: 0.5813245\ttotal: 32.3ms\tremaining: 1.99s\n",
      "16:\tlearn: 0.5770544\ttotal: 34.4ms\tremaining: 1.99s\n",
      "17:\tlearn: 0.5738288\ttotal: 36.5ms\tremaining: 1.99s\n",
      "18:\tlearn: 0.5683669\ttotal: 38.7ms\tremaining: 2s\n",
      "19:\tlearn: 0.5649641\ttotal: 40.9ms\tremaining: 2s\n",
      "20:\tlearn: 0.5607298\ttotal: 42.9ms\tremaining: 2s\n",
      "21:\tlearn: 0.5576636\ttotal: 45ms\tremaining: 2s\n",
      "22:\tlearn: 0.5535140\ttotal: 46.7ms\tremaining: 1.99s\n",
      "23:\tlearn: 0.5502504\ttotal: 48.5ms\tremaining: 1.97s\n",
      "24:\tlearn: 0.5467442\ttotal: 50.6ms\tremaining: 1.97s\n",
      "25:\tlearn: 0.5441599\ttotal: 52.5ms\tremaining: 1.97s\n",
      "26:\tlearn: 0.5402406\ttotal: 54.3ms\tremaining: 1.96s\n",
      "27:\tlearn: 0.5368022\ttotal: 56.2ms\tremaining: 1.95s\n",
      "28:\tlearn: 0.5337620\ttotal: 58.2ms\tremaining: 1.95s\n",
      "29:\tlearn: 0.5322348\ttotal: 60.1ms\tremaining: 1.94s\n",
      "30:\tlearn: 0.5291234\ttotal: 62ms\tremaining: 1.94s\n",
      "31:\tlearn: 0.5259409\ttotal: 63.9ms\tremaining: 1.93s\n",
      "32:\tlearn: 0.5233513\ttotal: 65.8ms\tremaining: 1.93s\n",
      "33:\tlearn: 0.5215456\ttotal: 67.5ms\tremaining: 1.92s\n",
      "34:\tlearn: 0.5195427\ttotal: 69.4ms\tremaining: 1.91s\n",
      "35:\tlearn: 0.5176821\ttotal: 71.3ms\tremaining: 1.91s\n",
      "36:\tlearn: 0.5151271\ttotal: 73.2ms\tremaining: 1.9s\n",
      "37:\tlearn: 0.5134195\ttotal: 75ms\tremaining: 1.9s\n",
      "38:\tlearn: 0.5114982\ttotal: 76.9ms\tremaining: 1.89s\n",
      "39:\tlearn: 0.5093395\ttotal: 78.7ms\tremaining: 1.89s\n",
      "40:\tlearn: 0.5072711\ttotal: 80.6ms\tremaining: 1.89s\n",
      "41:\tlearn: 0.5062350\ttotal: 82.4ms\tremaining: 1.88s\n",
      "42:\tlearn: 0.5052997\ttotal: 84.1ms\tremaining: 1.87s\n",
      "43:\tlearn: 0.5029973\ttotal: 85.8ms\tremaining: 1.86s\n",
      "44:\tlearn: 0.5012912\ttotal: 87.5ms\tremaining: 1.86s\n",
      "45:\tlearn: 0.4993808\ttotal: 89.2ms\tremaining: 1.85s\n",
      "46:\tlearn: 0.4980053\ttotal: 90.8ms\tremaining: 1.84s\n",
      "47:\tlearn: 0.4964124\ttotal: 92.5ms\tremaining: 1.83s\n",
      "48:\tlearn: 0.4948258\ttotal: 94.2ms\tremaining: 1.83s\n",
      "49:\tlearn: 0.4933988\ttotal: 95.9ms\tremaining: 1.82s\n",
      "50:\tlearn: 0.4925210\ttotal: 97.6ms\tremaining: 1.81s\n",
      "51:\tlearn: 0.4912501\ttotal: 99.3ms\tremaining: 1.81s\n",
      "52:\tlearn: 0.4893821\ttotal: 101ms\tremaining: 1.8s\n",
      "53:\tlearn: 0.4877980\ttotal: 103ms\tremaining: 1.79s\n",
      "54:\tlearn: 0.4868613\ttotal: 104ms\tremaining: 1.78s\n",
      "55:\tlearn: 0.4853104\ttotal: 105ms\tremaining: 1.78s\n",
      "56:\tlearn: 0.4840353\ttotal: 107ms\tremaining: 1.77s\n",
      "57:\tlearn: 0.4829752\ttotal: 109ms\tremaining: 1.77s\n",
      "58:\tlearn: 0.4818679\ttotal: 111ms\tremaining: 1.77s\n",
      "59:\tlearn: 0.4813921\ttotal: 112ms\tremaining: 1.75s\n",
      "60:\tlearn: 0.4799140\ttotal: 114ms\tremaining: 1.75s\n",
      "61:\tlearn: 0.4791012\ttotal: 116ms\tremaining: 1.75s\n",
      "62:\tlearn: 0.4783220\ttotal: 117ms\tremaining: 1.75s\n",
      "63:\tlearn: 0.4775467\ttotal: 119ms\tremaining: 1.74s\n",
      "64:\tlearn: 0.4764790\ttotal: 121ms\tremaining: 1.74s\n",
      "65:\tlearn: 0.4756666\ttotal: 123ms\tremaining: 1.74s\n",
      "66:\tlearn: 0.4750670\ttotal: 124ms\tremaining: 1.73s\n",
      "67:\tlearn: 0.4738098\ttotal: 126ms\tremaining: 1.73s\n",
      "68:\tlearn: 0.4728295\ttotal: 128ms\tremaining: 1.72s\n",
      "69:\tlearn: 0.4718407\ttotal: 129ms\tremaining: 1.72s\n",
      "70:\tlearn: 0.4710269\ttotal: 131ms\tremaining: 1.71s\n",
      "71:\tlearn: 0.4701117\ttotal: 133ms\tremaining: 1.71s\n",
      "72:\tlearn: 0.4692155\ttotal: 134ms\tremaining: 1.71s\n",
      "73:\tlearn: 0.4685945\ttotal: 136ms\tremaining: 1.7s\n",
      "74:\tlearn: 0.4679370\ttotal: 138ms\tremaining: 1.7s\n",
      "75:\tlearn: 0.4670021\ttotal: 139ms\tremaining: 1.7s\n",
      "76:\tlearn: 0.4661104\ttotal: 141ms\tremaining: 1.69s\n",
      "77:\tlearn: 0.4655793\ttotal: 143ms\tremaining: 1.69s\n",
      "78:\tlearn: 0.4645047\ttotal: 144ms\tremaining: 1.68s\n",
      "79:\tlearn: 0.4638563\ttotal: 146ms\tremaining: 1.68s\n",
      "80:\tlearn: 0.4630147\ttotal: 148ms\tremaining: 1.68s\n",
      "81:\tlearn: 0.4623094\ttotal: 149ms\tremaining: 1.67s\n",
      "82:\tlearn: 0.4614987\ttotal: 151ms\tremaining: 1.67s\n",
      "83:\tlearn: 0.4609623\ttotal: 153ms\tremaining: 1.66s\n",
      "84:\tlearn: 0.4602556\ttotal: 154ms\tremaining: 1.66s\n",
      "85:\tlearn: 0.4601781\ttotal: 155ms\tremaining: 1.65s\n",
      "86:\tlearn: 0.4593662\ttotal: 157ms\tremaining: 1.65s\n",
      "87:\tlearn: 0.4587173\ttotal: 158ms\tremaining: 1.64s\n",
      "88:\tlearn: 0.4579033\ttotal: 160ms\tremaining: 1.64s\n",
      "89:\tlearn: 0.4571903\ttotal: 162ms\tremaining: 1.64s\n",
      "90:\tlearn: 0.4565566\ttotal: 164ms\tremaining: 1.63s\n",
      "91:\tlearn: 0.4559803\ttotal: 165ms\tremaining: 1.63s\n",
      "92:\tlearn: 0.4554781\ttotal: 167ms\tremaining: 1.63s\n",
      "93:\tlearn: 0.4550691\ttotal: 168ms\tremaining: 1.62s\n",
      "94:\tlearn: 0.4544139\ttotal: 170ms\tremaining: 1.62s\n",
      "95:\tlearn: 0.4539888\ttotal: 172ms\tremaining: 1.62s\n",
      "96:\tlearn: 0.4536206\ttotal: 173ms\tremaining: 1.61s\n",
      "97:\tlearn: 0.4531726\ttotal: 175ms\tremaining: 1.61s\n",
      "98:\tlearn: 0.4524044\ttotal: 177ms\tremaining: 1.61s\n",
      "99:\tlearn: 0.4517734\ttotal: 178ms\tremaining: 1.6s\n",
      "100:\tlearn: 0.4511391\ttotal: 180ms\tremaining: 1.6s\n",
      "101:\tlearn: 0.4504435\ttotal: 181ms\tremaining: 1.6s\n",
      "102:\tlearn: 0.4498877\ttotal: 183ms\tremaining: 1.59s\n",
      "103:\tlearn: 0.4491924\ttotal: 185ms\tremaining: 1.59s\n",
      "104:\tlearn: 0.4487596\ttotal: 186ms\tremaining: 1.59s\n",
      "105:\tlearn: 0.4483942\ttotal: 188ms\tremaining: 1.58s\n",
      "106:\tlearn: 0.4476651\ttotal: 190ms\tremaining: 1.58s\n",
      "107:\tlearn: 0.4472031\ttotal: 191ms\tremaining: 1.58s\n",
      "108:\tlearn: 0.4468666\ttotal: 193ms\tremaining: 1.58s\n",
      "109:\tlearn: 0.4465873\ttotal: 195ms\tremaining: 1.57s\n",
      "110:\tlearn: 0.4459236\ttotal: 196ms\tremaining: 1.57s\n",
      "111:\tlearn: 0.4452407\ttotal: 198ms\tremaining: 1.57s\n",
      "112:\tlearn: 0.4448134\ttotal: 200ms\tremaining: 1.57s\n",
      "113:\tlearn: 0.4444157\ttotal: 201ms\tremaining: 1.56s\n",
      "114:\tlearn: 0.4439106\ttotal: 203ms\tremaining: 1.56s\n",
      "115:\tlearn: 0.4435212\ttotal: 205ms\tremaining: 1.56s\n",
      "116:\tlearn: 0.4431536\ttotal: 207ms\tremaining: 1.56s\n",
      "117:\tlearn: 0.4425604\ttotal: 208ms\tremaining: 1.56s\n",
      "118:\tlearn: 0.4420260\ttotal: 210ms\tremaining: 1.56s\n",
      "119:\tlearn: 0.4413855\ttotal: 212ms\tremaining: 1.56s\n",
      "120:\tlearn: 0.4408445\ttotal: 214ms\tremaining: 1.56s\n",
      "121:\tlearn: 0.4404026\ttotal: 216ms\tremaining: 1.56s\n",
      "122:\tlearn: 0.4398779\ttotal: 219ms\tremaining: 1.56s\n",
      "123:\tlearn: 0.4395788\ttotal: 221ms\tremaining: 1.56s\n",
      "124:\tlearn: 0.4391994\ttotal: 222ms\tremaining: 1.56s\n",
      "125:\tlearn: 0.4385952\ttotal: 224ms\tremaining: 1.55s\n",
      "126:\tlearn: 0.4382114\ttotal: 226ms\tremaining: 1.55s\n",
      "127:\tlearn: 0.4378689\ttotal: 228ms\tremaining: 1.55s\n",
      "128:\tlearn: 0.4374519\ttotal: 230ms\tremaining: 1.55s\n",
      "129:\tlearn: 0.4370143\ttotal: 232ms\tremaining: 1.55s\n",
      "130:\tlearn: 0.4364436\ttotal: 234ms\tremaining: 1.55s\n",
      "131:\tlearn: 0.4359452\ttotal: 235ms\tremaining: 1.55s\n",
      "132:\tlearn: 0.4357117\ttotal: 237ms\tremaining: 1.54s\n",
      "133:\tlearn: 0.4354118\ttotal: 239ms\tremaining: 1.54s\n",
      "134:\tlearn: 0.4349280\ttotal: 240ms\tremaining: 1.54s\n",
      "135:\tlearn: 0.4346251\ttotal: 242ms\tremaining: 1.54s\n",
      "136:\tlearn: 0.4343296\ttotal: 244ms\tremaining: 1.53s\n",
      "137:\tlearn: 0.4340914\ttotal: 245ms\tremaining: 1.53s\n",
      "138:\tlearn: 0.4335167\ttotal: 247ms\tremaining: 1.53s\n",
      "139:\tlearn: 0.4330849\ttotal: 249ms\tremaining: 1.53s\n",
      "140:\tlearn: 0.4327779\ttotal: 251ms\tremaining: 1.53s\n",
      "141:\tlearn: 0.4324554\ttotal: 252ms\tremaining: 1.52s\n",
      "142:\tlearn: 0.4321404\ttotal: 254ms\tremaining: 1.52s\n",
      "143:\tlearn: 0.4318646\ttotal: 256ms\tremaining: 1.52s\n",
      "144:\tlearn: 0.4313369\ttotal: 257ms\tremaining: 1.52s\n",
      "145:\tlearn: 0.4311154\ttotal: 258ms\tremaining: 1.51s\n",
      "146:\tlearn: 0.4308385\ttotal: 260ms\tremaining: 1.51s\n",
      "147:\tlearn: 0.4303610\ttotal: 262ms\tremaining: 1.51s\n",
      "148:\tlearn: 0.4299101\ttotal: 264ms\tremaining: 1.5s\n",
      "149:\tlearn: 0.4296205\ttotal: 265ms\tremaining: 1.5s\n",
      "150:\tlearn: 0.4292143\ttotal: 267ms\tremaining: 1.5s\n",
      "151:\tlearn: 0.4287653\ttotal: 268ms\tremaining: 1.5s\n",
      "152:\tlearn: 0.4284629\ttotal: 270ms\tremaining: 1.5s\n",
      "153:\tlearn: 0.4282643\ttotal: 272ms\tremaining: 1.49s\n",
      "154:\tlearn: 0.4280483\ttotal: 274ms\tremaining: 1.49s\n",
      "155:\tlearn: 0.4277927\ttotal: 275ms\tremaining: 1.49s\n",
      "156:\tlearn: 0.4276258\ttotal: 277ms\tremaining: 1.49s\n",
      "157:\tlearn: 0.4272832\ttotal: 279ms\tremaining: 1.49s\n",
      "158:\tlearn: 0.4269526\ttotal: 280ms\tremaining: 1.48s\n",
      "159:\tlearn: 0.4267519\ttotal: 282ms\tremaining: 1.48s\n",
      "160:\tlearn: 0.4266039\ttotal: 283ms\tremaining: 1.48s\n",
      "161:\tlearn: 0.4262549\ttotal: 285ms\tremaining: 1.47s\n",
      "162:\tlearn: 0.4259001\ttotal: 287ms\tremaining: 1.47s\n",
      "163:\tlearn: 0.4254620\ttotal: 289ms\tremaining: 1.47s\n",
      "164:\tlearn: 0.4252979\ttotal: 290ms\tremaining: 1.47s\n",
      "165:\tlearn: 0.4251438\ttotal: 292ms\tremaining: 1.47s\n",
      "166:\tlearn: 0.4248791\ttotal: 294ms\tremaining: 1.46s\n",
      "167:\tlearn: 0.4245452\ttotal: 295ms\tremaining: 1.46s\n",
      "168:\tlearn: 0.4242656\ttotal: 297ms\tremaining: 1.46s\n",
      "169:\tlearn: 0.4240293\ttotal: 298ms\tremaining: 1.46s\n",
      "170:\tlearn: 0.4236462\ttotal: 300ms\tremaining: 1.46s\n",
      "171:\tlearn: 0.4234950\ttotal: 302ms\tremaining: 1.45s\n",
      "172:\tlearn: 0.4231273\ttotal: 303ms\tremaining: 1.45s\n",
      "173:\tlearn: 0.4228158\ttotal: 305ms\tremaining: 1.45s\n",
      "174:\tlearn: 0.4225708\ttotal: 307ms\tremaining: 1.45s\n",
      "175:\tlearn: 0.4224026\ttotal: 308ms\tremaining: 1.44s\n",
      "176:\tlearn: 0.4220975\ttotal: 310ms\tremaining: 1.44s\n",
      "177:\tlearn: 0.4217981\ttotal: 312ms\tremaining: 1.44s\n",
      "178:\tlearn: 0.4215411\ttotal: 313ms\tremaining: 1.44s\n",
      "179:\tlearn: 0.4213837\ttotal: 315ms\tremaining: 1.43s\n",
      "180:\tlearn: 0.4209538\ttotal: 317ms\tremaining: 1.43s\n",
      "181:\tlearn: 0.4206336\ttotal: 318ms\tremaining: 1.43s\n",
      "182:\tlearn: 0.4202423\ttotal: 320ms\tremaining: 1.43s\n",
      "183:\tlearn: 0.4199388\ttotal: 321ms\tremaining: 1.43s\n",
      "184:\tlearn: 0.4197576\ttotal: 323ms\tremaining: 1.42s\n",
      "185:\tlearn: 0.4196172\ttotal: 325ms\tremaining: 1.42s\n",
      "186:\tlearn: 0.4193188\ttotal: 326ms\tremaining: 1.42s\n",
      "187:\tlearn: 0.4191234\ttotal: 328ms\tremaining: 1.42s\n",
      "188:\tlearn: 0.4187351\ttotal: 330ms\tremaining: 1.41s\n",
      "189:\tlearn: 0.4185833\ttotal: 331ms\tremaining: 1.41s\n",
      "190:\tlearn: 0.4181938\ttotal: 333ms\tremaining: 1.41s\n",
      "191:\tlearn: 0.4179680\ttotal: 334ms\tremaining: 1.41s\n",
      "192:\tlearn: 0.4177623\ttotal: 336ms\tremaining: 1.41s\n",
      "193:\tlearn: 0.4174627\ttotal: 338ms\tremaining: 1.4s\n",
      "194:\tlearn: 0.4171150\ttotal: 339ms\tremaining: 1.4s\n",
      "195:\tlearn: 0.4167365\ttotal: 341ms\tremaining: 1.4s\n",
      "196:\tlearn: 0.4165740\ttotal: 343ms\tremaining: 1.4s\n",
      "197:\tlearn: 0.4164432\ttotal: 344ms\tremaining: 1.39s\n",
      "198:\tlearn: 0.4163145\ttotal: 346ms\tremaining: 1.39s\n",
      "199:\tlearn: 0.4159518\ttotal: 348ms\tremaining: 1.39s\n",
      "200:\tlearn: 0.4156936\ttotal: 349ms\tremaining: 1.39s\n",
      "201:\tlearn: 0.4155690\ttotal: 351ms\tremaining: 1.39s\n",
      "202:\tlearn: 0.4152994\ttotal: 353ms\tremaining: 1.38s\n",
      "203:\tlearn: 0.4150447\ttotal: 355ms\tremaining: 1.38s\n",
      "204:\tlearn: 0.4149398\ttotal: 356ms\tremaining: 1.38s\n",
      "205:\tlearn: 0.4146837\ttotal: 358ms\tremaining: 1.38s\n",
      "206:\tlearn: 0.4143975\ttotal: 360ms\tremaining: 1.38s\n",
      "207:\tlearn: 0.4140107\ttotal: 361ms\tremaining: 1.38s\n",
      "208:\tlearn: 0.4137050\ttotal: 363ms\tremaining: 1.37s\n",
      "209:\tlearn: 0.4133631\ttotal: 365ms\tremaining: 1.37s\n",
      "210:\tlearn: 0.4131826\ttotal: 366ms\tremaining: 1.37s\n",
      "211:\tlearn: 0.4128776\ttotal: 368ms\tremaining: 1.37s\n",
      "212:\tlearn: 0.4126252\ttotal: 369ms\tremaining: 1.36s\n",
      "213:\tlearn: 0.4122652\ttotal: 371ms\tremaining: 1.36s\n",
      "214:\tlearn: 0.4119801\ttotal: 373ms\tremaining: 1.36s\n",
      "215:\tlearn: 0.4118095\ttotal: 374ms\tremaining: 1.36s\n",
      "216:\tlearn: 0.4113172\ttotal: 376ms\tremaining: 1.36s\n",
      "217:\tlearn: 0.4110756\ttotal: 378ms\tremaining: 1.35s\n",
      "218:\tlearn: 0.4107046\ttotal: 380ms\tremaining: 1.35s\n",
      "219:\tlearn: 0.4104247\ttotal: 382ms\tremaining: 1.35s\n",
      "220:\tlearn: 0.4102845\ttotal: 383ms\tremaining: 1.35s\n",
      "221:\tlearn: 0.4100082\ttotal: 385ms\tremaining: 1.35s\n",
      "222:\tlearn: 0.4097749\ttotal: 387ms\tremaining: 1.35s\n",
      "223:\tlearn: 0.4094567\ttotal: 389ms\tremaining: 1.35s\n",
      "224:\tlearn: 0.4093199\ttotal: 391ms\tremaining: 1.34s\n",
      "225:\tlearn: 0.4090151\ttotal: 392ms\tremaining: 1.34s\n",
      "226:\tlearn: 0.4087667\ttotal: 394ms\tremaining: 1.34s\n"
     ]
    },
    {
     "name": "stdout",
     "output_type": "stream",
     "text": [
      "227:\tlearn: 0.4086430\ttotal: 396ms\tremaining: 1.34s\n",
      "228:\tlearn: 0.4083729\ttotal: 398ms\tremaining: 1.34s\n",
      "229:\tlearn: 0.4082691\ttotal: 400ms\tremaining: 1.34s\n",
      "230:\tlearn: 0.4079998\ttotal: 402ms\tremaining: 1.34s\n",
      "231:\tlearn: 0.4078075\ttotal: 404ms\tremaining: 1.34s\n",
      "232:\tlearn: 0.4075543\ttotal: 406ms\tremaining: 1.33s\n",
      "233:\tlearn: 0.4074758\ttotal: 408ms\tremaining: 1.33s\n",
      "234:\tlearn: 0.4072797\ttotal: 409ms\tremaining: 1.33s\n",
      "235:\tlearn: 0.4071417\ttotal: 411ms\tremaining: 1.33s\n",
      "236:\tlearn: 0.4068947\ttotal: 413ms\tremaining: 1.33s\n",
      "237:\tlearn: 0.4065148\ttotal: 415ms\tremaining: 1.33s\n",
      "238:\tlearn: 0.4062673\ttotal: 417ms\tremaining: 1.33s\n",
      "239:\tlearn: 0.4060880\ttotal: 419ms\tremaining: 1.33s\n",
      "240:\tlearn: 0.4058893\ttotal: 421ms\tremaining: 1.32s\n",
      "241:\tlearn: 0.4057194\ttotal: 423ms\tremaining: 1.32s\n",
      "242:\tlearn: 0.4055132\ttotal: 424ms\tremaining: 1.32s\n",
      "243:\tlearn: 0.4053497\ttotal: 426ms\tremaining: 1.32s\n",
      "244:\tlearn: 0.4052103\ttotal: 428ms\tremaining: 1.32s\n",
      "245:\tlearn: 0.4049952\ttotal: 429ms\tremaining: 1.31s\n",
      "246:\tlearn: 0.4047017\ttotal: 431ms\tremaining: 1.31s\n",
      "247:\tlearn: 0.4043275\ttotal: 433ms\tremaining: 1.31s\n",
      "248:\tlearn: 0.4041730\ttotal: 434ms\tremaining: 1.31s\n",
      "249:\tlearn: 0.4039703\ttotal: 436ms\tremaining: 1.31s\n",
      "250:\tlearn: 0.4036737\ttotal: 438ms\tremaining: 1.3s\n",
      "251:\tlearn: 0.4035065\ttotal: 439ms\tremaining: 1.3s\n",
      "252:\tlearn: 0.4033439\ttotal: 441ms\tremaining: 1.3s\n",
      "253:\tlearn: 0.4031334\ttotal: 443ms\tremaining: 1.3s\n",
      "254:\tlearn: 0.4028485\ttotal: 445ms\tremaining: 1.3s\n",
      "255:\tlearn: 0.4026448\ttotal: 446ms\tremaining: 1.3s\n",
      "256:\tlearn: 0.4024882\ttotal: 448ms\tremaining: 1.29s\n",
      "257:\tlearn: 0.4023675\ttotal: 449ms\tremaining: 1.29s\n",
      "258:\tlearn: 0.4019795\ttotal: 451ms\tremaining: 1.29s\n",
      "259:\tlearn: 0.4019580\ttotal: 452ms\tremaining: 1.29s\n",
      "260:\tlearn: 0.4017436\ttotal: 454ms\tremaining: 1.28s\n",
      "261:\tlearn: 0.4015557\ttotal: 455ms\tremaining: 1.28s\n",
      "262:\tlearn: 0.4014602\ttotal: 457ms\tremaining: 1.28s\n",
      "263:\tlearn: 0.4011968\ttotal: 459ms\tremaining: 1.28s\n",
      "264:\tlearn: 0.4009874\ttotal: 460ms\tremaining: 1.28s\n",
      "265:\tlearn: 0.4008481\ttotal: 462ms\tremaining: 1.27s\n",
      "266:\tlearn: 0.4005991\ttotal: 464ms\tremaining: 1.27s\n",
      "267:\tlearn: 0.4003837\ttotal: 466ms\tremaining: 1.27s\n",
      "268:\tlearn: 0.4002368\ttotal: 467ms\tremaining: 1.27s\n",
      "269:\tlearn: 0.4000631\ttotal: 469ms\tremaining: 1.27s\n",
      "270:\tlearn: 0.3997848\ttotal: 471ms\tremaining: 1.26s\n",
      "271:\tlearn: 0.3996508\ttotal: 472ms\tremaining: 1.26s\n",
      "272:\tlearn: 0.3993895\ttotal: 474ms\tremaining: 1.26s\n",
      "273:\tlearn: 0.3993453\ttotal: 476ms\tremaining: 1.26s\n",
      "274:\tlearn: 0.3992029\ttotal: 477ms\tremaining: 1.26s\n",
      "275:\tlearn: 0.3989400\ttotal: 479ms\tremaining: 1.26s\n",
      "276:\tlearn: 0.3986085\ttotal: 480ms\tremaining: 1.25s\n",
      "277:\tlearn: 0.3984572\ttotal: 482ms\tremaining: 1.25s\n",
      "278:\tlearn: 0.3983225\ttotal: 484ms\tremaining: 1.25s\n",
      "279:\tlearn: 0.3980167\ttotal: 485ms\tremaining: 1.25s\n",
      "280:\tlearn: 0.3978149\ttotal: 487ms\tremaining: 1.25s\n",
      "281:\tlearn: 0.3976147\ttotal: 489ms\tremaining: 1.24s\n",
      "282:\tlearn: 0.3974075\ttotal: 490ms\tremaining: 1.24s\n",
      "283:\tlearn: 0.3971765\ttotal: 492ms\tremaining: 1.24s\n",
      "284:\tlearn: 0.3970200\ttotal: 494ms\tremaining: 1.24s\n",
      "285:\tlearn: 0.3967559\ttotal: 495ms\tremaining: 1.24s\n",
      "286:\tlearn: 0.3965545\ttotal: 497ms\tremaining: 1.23s\n",
      "287:\tlearn: 0.3964337\ttotal: 499ms\tremaining: 1.23s\n",
      "288:\tlearn: 0.3960527\ttotal: 500ms\tremaining: 1.23s\n",
      "289:\tlearn: 0.3956917\ttotal: 502ms\tremaining: 1.23s\n",
      "290:\tlearn: 0.3953809\ttotal: 503ms\tremaining: 1.23s\n",
      "291:\tlearn: 0.3951858\ttotal: 505ms\tremaining: 1.22s\n",
      "292:\tlearn: 0.3950197\ttotal: 507ms\tremaining: 1.22s\n",
      "293:\tlearn: 0.3948649\ttotal: 508ms\tremaining: 1.22s\n",
      "294:\tlearn: 0.3947666\ttotal: 510ms\tremaining: 1.22s\n",
      "295:\tlearn: 0.3946234\ttotal: 512ms\tremaining: 1.22s\n",
      "296:\tlearn: 0.3944142\ttotal: 513ms\tremaining: 1.22s\n",
      "297:\tlearn: 0.3942311\ttotal: 515ms\tremaining: 1.21s\n",
      "298:\tlearn: 0.3941376\ttotal: 517ms\tremaining: 1.21s\n",
      "299:\tlearn: 0.3939323\ttotal: 518ms\tremaining: 1.21s\n",
      "300:\tlearn: 0.3937153\ttotal: 520ms\tremaining: 1.21s\n",
      "301:\tlearn: 0.3935388\ttotal: 522ms\tremaining: 1.21s\n",
      "302:\tlearn: 0.3933602\ttotal: 523ms\tremaining: 1.2s\n",
      "303:\tlearn: 0.3931574\ttotal: 525ms\tremaining: 1.2s\n",
      "304:\tlearn: 0.3928386\ttotal: 527ms\tremaining: 1.2s\n",
      "305:\tlearn: 0.3925756\ttotal: 528ms\tremaining: 1.2s\n",
      "306:\tlearn: 0.3924219\ttotal: 530ms\tremaining: 1.2s\n",
      "307:\tlearn: 0.3921947\ttotal: 532ms\tremaining: 1.19s\n",
      "308:\tlearn: 0.3919498\ttotal: 533ms\tremaining: 1.19s\n",
      "309:\tlearn: 0.3917166\ttotal: 535ms\tremaining: 1.19s\n",
      "310:\tlearn: 0.3915409\ttotal: 536ms\tremaining: 1.19s\n",
      "311:\tlearn: 0.3913321\ttotal: 538ms\tremaining: 1.19s\n",
      "312:\tlearn: 0.3909682\ttotal: 540ms\tremaining: 1.19s\n",
      "313:\tlearn: 0.3906721\ttotal: 542ms\tremaining: 1.18s\n",
      "314:\tlearn: 0.3905730\ttotal: 543ms\tremaining: 1.18s\n",
      "315:\tlearn: 0.3903462\ttotal: 545ms\tremaining: 1.18s\n",
      "316:\tlearn: 0.3901608\ttotal: 546ms\tremaining: 1.18s\n",
      "317:\tlearn: 0.3898020\ttotal: 548ms\tremaining: 1.18s\n",
      "318:\tlearn: 0.3895507\ttotal: 550ms\tremaining: 1.17s\n",
      "319:\tlearn: 0.3893678\ttotal: 551ms\tremaining: 1.17s\n",
      "320:\tlearn: 0.3891210\ttotal: 553ms\tremaining: 1.17s\n",
      "321:\tlearn: 0.3887813\ttotal: 555ms\tremaining: 1.17s\n",
      "322:\tlearn: 0.3886175\ttotal: 556ms\tremaining: 1.17s\n",
      "323:\tlearn: 0.3883972\ttotal: 558ms\tremaining: 1.16s\n",
      "324:\tlearn: 0.3882477\ttotal: 560ms\tremaining: 1.16s\n",
      "325:\tlearn: 0.3879882\ttotal: 561ms\tremaining: 1.16s\n",
      "326:\tlearn: 0.3878554\ttotal: 563ms\tremaining: 1.16s\n",
      "327:\tlearn: 0.3876370\ttotal: 565ms\tremaining: 1.16s\n",
      "328:\tlearn: 0.3873679\ttotal: 567ms\tremaining: 1.16s\n",
      "329:\tlearn: 0.3872364\ttotal: 569ms\tremaining: 1.16s\n",
      "330:\tlearn: 0.3870995\ttotal: 571ms\tremaining: 1.15s\n",
      "331:\tlearn: 0.3869347\ttotal: 573ms\tremaining: 1.15s\n",
      "332:\tlearn: 0.3867806\ttotal: 575ms\tremaining: 1.15s\n",
      "333:\tlearn: 0.3866159\ttotal: 577ms\tremaining: 1.15s\n",
      "334:\tlearn: 0.3862311\ttotal: 579ms\tremaining: 1.15s\n",
      "335:\tlearn: 0.3860009\ttotal: 581ms\tremaining: 1.15s\n",
      "336:\tlearn: 0.3858570\ttotal: 583ms\tremaining: 1.15s\n",
      "337:\tlearn: 0.3857784\ttotal: 585ms\tremaining: 1.15s\n",
      "338:\tlearn: 0.3855369\ttotal: 587ms\tremaining: 1.14s\n",
      "339:\tlearn: 0.3853223\ttotal: 589ms\tremaining: 1.14s\n",
      "340:\tlearn: 0.3850904\ttotal: 591ms\tremaining: 1.14s\n",
      "341:\tlearn: 0.3848682\ttotal: 593ms\tremaining: 1.14s\n",
      "342:\tlearn: 0.3846889\ttotal: 595ms\tremaining: 1.14s\n",
      "343:\tlearn: 0.3845093\ttotal: 597ms\tremaining: 1.14s\n",
      "344:\tlearn: 0.3842881\ttotal: 599ms\tremaining: 1.14s\n",
      "345:\tlearn: 0.3841236\ttotal: 600ms\tremaining: 1.13s\n",
      "346:\tlearn: 0.3839958\ttotal: 603ms\tremaining: 1.13s\n",
      "347:\tlearn: 0.3838142\ttotal: 605ms\tremaining: 1.13s\n",
      "348:\tlearn: 0.3836618\ttotal: 607ms\tremaining: 1.13s\n",
      "349:\tlearn: 0.3835076\ttotal: 609ms\tremaining: 1.13s\n",
      "350:\tlearn: 0.3831903\ttotal: 611ms\tremaining: 1.13s\n",
      "351:\tlearn: 0.3830870\ttotal: 613ms\tremaining: 1.13s\n",
      "352:\tlearn: 0.3829838\ttotal: 615ms\tremaining: 1.13s\n",
      "353:\tlearn: 0.3827450\ttotal: 617ms\tremaining: 1.13s\n",
      "354:\tlearn: 0.3824465\ttotal: 619ms\tremaining: 1.13s\n",
      "355:\tlearn: 0.3823246\ttotal: 622ms\tremaining: 1.12s\n",
      "356:\tlearn: 0.3822430\ttotal: 624ms\tremaining: 1.12s\n",
      "357:\tlearn: 0.3820226\ttotal: 626ms\tremaining: 1.12s\n",
      "358:\tlearn: 0.3818058\ttotal: 628ms\tremaining: 1.12s\n",
      "359:\tlearn: 0.3816389\ttotal: 630ms\tremaining: 1.12s\n",
      "360:\tlearn: 0.3814508\ttotal: 632ms\tremaining: 1.12s\n",
      "361:\tlearn: 0.3813074\ttotal: 633ms\tremaining: 1.12s\n",
      "362:\tlearn: 0.3811944\ttotal: 635ms\tremaining: 1.11s\n",
      "363:\tlearn: 0.3810090\ttotal: 637ms\tremaining: 1.11s\n",
      "364:\tlearn: 0.3807681\ttotal: 639ms\tremaining: 1.11s\n",
      "365:\tlearn: 0.3805448\ttotal: 641ms\tremaining: 1.11s\n",
      "366:\tlearn: 0.3803734\ttotal: 643ms\tremaining: 1.11s\n",
      "367:\tlearn: 0.3801791\ttotal: 645ms\tremaining: 1.11s\n",
      "368:\tlearn: 0.3799238\ttotal: 647ms\tremaining: 1.11s\n",
      "369:\tlearn: 0.3797802\ttotal: 649ms\tremaining: 1.1s\n",
      "370:\tlearn: 0.3796056\ttotal: 651ms\tremaining: 1.1s\n",
      "371:\tlearn: 0.3794653\ttotal: 653ms\tremaining: 1.1s\n",
      "372:\tlearn: 0.3791942\ttotal: 655ms\tremaining: 1.1s\n",
      "373:\tlearn: 0.3789227\ttotal: 657ms\tremaining: 1.1s\n",
      "374:\tlearn: 0.3787257\ttotal: 659ms\tremaining: 1.1s\n",
      "375:\tlearn: 0.3785307\ttotal: 661ms\tremaining: 1.1s\n",
      "376:\tlearn: 0.3783360\ttotal: 663ms\tremaining: 1.09s\n",
      "377:\tlearn: 0.3782099\ttotal: 665ms\tremaining: 1.09s\n",
      "378:\tlearn: 0.3779598\ttotal: 667ms\tremaining: 1.09s\n",
      "379:\tlearn: 0.3777533\ttotal: 669ms\tremaining: 1.09s\n",
      "380:\tlearn: 0.3775039\ttotal: 671ms\tremaining: 1.09s\n",
      "381:\tlearn: 0.3773852\ttotal: 673ms\tremaining: 1.09s\n",
      "382:\tlearn: 0.3771804\ttotal: 675ms\tremaining: 1.09s\n",
      "383:\tlearn: 0.3769551\ttotal: 677ms\tremaining: 1.08s\n",
      "384:\tlearn: 0.3768078\ttotal: 679ms\tremaining: 1.08s\n",
      "385:\tlearn: 0.3766660\ttotal: 681ms\tremaining: 1.08s\n",
      "386:\tlearn: 0.3765572\ttotal: 683ms\tremaining: 1.08s\n",
      "387:\tlearn: 0.3763436\ttotal: 685ms\tremaining: 1.08s\n",
      "388:\tlearn: 0.3761399\ttotal: 687ms\tremaining: 1.08s\n",
      "389:\tlearn: 0.3759429\ttotal: 689ms\tremaining: 1.08s\n",
      "390:\tlearn: 0.3756205\ttotal: 691ms\tremaining: 1.07s\n",
      "391:\tlearn: 0.3754736\ttotal: 693ms\tremaining: 1.07s\n",
      "392:\tlearn: 0.3753476\ttotal: 695ms\tremaining: 1.07s\n",
      "393:\tlearn: 0.3751776\ttotal: 697ms\tremaining: 1.07s\n",
      "394:\tlearn: 0.3749857\ttotal: 699ms\tremaining: 1.07s\n",
      "395:\tlearn: 0.3748356\ttotal: 701ms\tremaining: 1.07s\n",
      "396:\tlearn: 0.3745726\ttotal: 703ms\tremaining: 1.07s\n",
      "397:\tlearn: 0.3743649\ttotal: 705ms\tremaining: 1.06s\n",
      "398:\tlearn: 0.3741539\ttotal: 707ms\tremaining: 1.06s\n",
      "399:\tlearn: 0.3738754\ttotal: 709ms\tremaining: 1.06s\n",
      "400:\tlearn: 0.3736950\ttotal: 711ms\tremaining: 1.06s\n",
      "401:\tlearn: 0.3735179\ttotal: 713ms\tremaining: 1.06s\n",
      "402:\tlearn: 0.3733883\ttotal: 715ms\tremaining: 1.06s\n",
      "403:\tlearn: 0.3731827\ttotal: 717ms\tremaining: 1.06s\n",
      "404:\tlearn: 0.3730188\ttotal: 719ms\tremaining: 1.06s\n",
      "405:\tlearn: 0.3728899\ttotal: 721ms\tremaining: 1.05s\n",
      "406:\tlearn: 0.3726652\ttotal: 723ms\tremaining: 1.05s\n",
      "407:\tlearn: 0.3724635\ttotal: 725ms\tremaining: 1.05s\n",
      "408:\tlearn: 0.3722575\ttotal: 727ms\tremaining: 1.05s\n",
      "409:\tlearn: 0.3720404\ttotal: 729ms\tremaining: 1.05s\n",
      "410:\tlearn: 0.3718098\ttotal: 731ms\tremaining: 1.05s\n",
      "411:\tlearn: 0.3715297\ttotal: 733ms\tremaining: 1.05s\n",
      "412:\tlearn: 0.3713336\ttotal: 735ms\tremaining: 1.04s\n",
      "413:\tlearn: 0.3710072\ttotal: 737ms\tremaining: 1.04s\n",
      "414:\tlearn: 0.3708792\ttotal: 739ms\tremaining: 1.04s\n",
      "415:\tlearn: 0.3707918\ttotal: 741ms\tremaining: 1.04s\n",
      "416:\tlearn: 0.3706914\ttotal: 743ms\tremaining: 1.04s\n",
      "417:\tlearn: 0.3704752\ttotal: 745ms\tremaining: 1.04s\n",
      "418:\tlearn: 0.3704216\ttotal: 747ms\tremaining: 1.03s\n",
      "419:\tlearn: 0.3702178\ttotal: 749ms\tremaining: 1.03s\n",
      "420:\tlearn: 0.3701032\ttotal: 751ms\tremaining: 1.03s\n",
      "421:\tlearn: 0.3699294\ttotal: 753ms\tremaining: 1.03s\n",
      "422:\tlearn: 0.3697842\ttotal: 755ms\tremaining: 1.03s\n",
      "423:\tlearn: 0.3694975\ttotal: 757ms\tremaining: 1.03s\n",
      "424:\tlearn: 0.3693738\ttotal: 759ms\tremaining: 1.03s\n",
      "425:\tlearn: 0.3691770\ttotal: 761ms\tremaining: 1.02s\n",
      "426:\tlearn: 0.3690823\ttotal: 763ms\tremaining: 1.02s\n",
      "427:\tlearn: 0.3689310\ttotal: 764ms\tremaining: 1.02s\n",
      "428:\tlearn: 0.3687352\ttotal: 766ms\tremaining: 1.02s\n",
      "429:\tlearn: 0.3684927\ttotal: 768ms\tremaining: 1.02s\n",
      "430:\tlearn: 0.3681503\ttotal: 770ms\tremaining: 1.02s\n",
      "431:\tlearn: 0.3678814\ttotal: 772ms\tremaining: 1.01s\n",
      "432:\tlearn: 0.3677208\ttotal: 774ms\tremaining: 1.01s\n",
      "433:\tlearn: 0.3675996\ttotal: 776ms\tremaining: 1.01s\n",
      "434:\tlearn: 0.3674008\ttotal: 778ms\tremaining: 1.01s\n",
      "435:\tlearn: 0.3672289\ttotal: 779ms\tremaining: 1.01s\n",
      "436:\tlearn: 0.3670553\ttotal: 781ms\tremaining: 1.01s\n",
      "437:\tlearn: 0.3668762\ttotal: 783ms\tremaining: 1s\n",
      "438:\tlearn: 0.3666635\ttotal: 785ms\tremaining: 1s\n",
      "439:\tlearn: 0.3664584\ttotal: 786ms\tremaining: 1s\n",
      "440:\tlearn: 0.3662854\ttotal: 788ms\tremaining: 999ms\n",
      "441:\tlearn: 0.3660788\ttotal: 790ms\tremaining: 997ms\n",
      "442:\tlearn: 0.3659112\ttotal: 792ms\tremaining: 996ms\n",
      "443:\tlearn: 0.3657910\ttotal: 794ms\tremaining: 994ms\n",
      "444:\tlearn: 0.3656146\ttotal: 795ms\tremaining: 992ms\n",
      "445:\tlearn: 0.3654240\ttotal: 797ms\tremaining: 990ms\n",
      "446:\tlearn: 0.3652751\ttotal: 799ms\tremaining: 988ms\n"
     ]
    },
    {
     "name": "stdout",
     "output_type": "stream",
     "text": [
      "447:\tlearn: 0.3650928\ttotal: 801ms\tremaining: 987ms\n",
      "448:\tlearn: 0.3649132\ttotal: 803ms\tremaining: 985ms\n",
      "449:\tlearn: 0.3646386\ttotal: 805ms\tremaining: 983ms\n",
      "450:\tlearn: 0.3644640\ttotal: 806ms\tremaining: 981ms\n",
      "451:\tlearn: 0.3642872\ttotal: 808ms\tremaining: 980ms\n",
      "452:\tlearn: 0.3640913\ttotal: 810ms\tremaining: 978ms\n",
      "453:\tlearn: 0.3639018\ttotal: 812ms\tremaining: 976ms\n",
      "454:\tlearn: 0.3636223\ttotal: 814ms\tremaining: 975ms\n",
      "455:\tlearn: 0.3634288\ttotal: 816ms\tremaining: 974ms\n",
      "456:\tlearn: 0.3632552\ttotal: 821ms\tremaining: 975ms\n",
      "457:\tlearn: 0.3630274\ttotal: 823ms\tremaining: 974ms\n",
      "458:\tlearn: 0.3627993\ttotal: 825ms\tremaining: 973ms\n",
      "459:\tlearn: 0.3626085\ttotal: 827ms\tremaining: 971ms\n",
      "460:\tlearn: 0.3623537\ttotal: 829ms\tremaining: 970ms\n",
      "461:\tlearn: 0.3622264\ttotal: 831ms\tremaining: 968ms\n",
      "462:\tlearn: 0.3619660\ttotal: 833ms\tremaining: 966ms\n",
      "463:\tlearn: 0.3617126\ttotal: 835ms\tremaining: 964ms\n",
      "464:\tlearn: 0.3615416\ttotal: 837ms\tremaining: 963ms\n",
      "465:\tlearn: 0.3613699\ttotal: 839ms\tremaining: 961ms\n",
      "466:\tlearn: 0.3612133\ttotal: 841ms\tremaining: 959ms\n",
      "467:\tlearn: 0.3610172\ttotal: 843ms\tremaining: 958ms\n",
      "468:\tlearn: 0.3606986\ttotal: 845ms\tremaining: 956ms\n",
      "469:\tlearn: 0.3605485\ttotal: 847ms\tremaining: 955ms\n",
      "470:\tlearn: 0.3602902\ttotal: 849ms\tremaining: 953ms\n",
      "471:\tlearn: 0.3600233\ttotal: 851ms\tremaining: 952ms\n",
      "472:\tlearn: 0.3598313\ttotal: 852ms\tremaining: 950ms\n",
      "473:\tlearn: 0.3597244\ttotal: 854ms\tremaining: 948ms\n",
      "474:\tlearn: 0.3595523\ttotal: 856ms\tremaining: 946ms\n",
      "475:\tlearn: 0.3593532\ttotal: 858ms\tremaining: 944ms\n",
      "476:\tlearn: 0.3592003\ttotal: 860ms\tremaining: 943ms\n",
      "477:\tlearn: 0.3589388\ttotal: 862ms\tremaining: 941ms\n",
      "478:\tlearn: 0.3587787\ttotal: 864ms\tremaining: 939ms\n",
      "479:\tlearn: 0.3586224\ttotal: 865ms\tremaining: 938ms\n",
      "480:\tlearn: 0.3584694\ttotal: 867ms\tremaining: 936ms\n",
      "481:\tlearn: 0.3583405\ttotal: 869ms\tremaining: 934ms\n",
      "482:\tlearn: 0.3582120\ttotal: 871ms\tremaining: 932ms\n",
      "483:\tlearn: 0.3579432\ttotal: 873ms\tremaining: 930ms\n",
      "484:\tlearn: 0.3577525\ttotal: 874ms\tremaining: 928ms\n",
      "485:\tlearn: 0.3575333\ttotal: 876ms\tremaining: 927ms\n",
      "486:\tlearn: 0.3572986\ttotal: 878ms\tremaining: 925ms\n",
      "487:\tlearn: 0.3571093\ttotal: 880ms\tremaining: 923ms\n",
      "488:\tlearn: 0.3569268\ttotal: 882ms\tremaining: 922ms\n",
      "489:\tlearn: 0.3568556\ttotal: 884ms\tremaining: 920ms\n",
      "490:\tlearn: 0.3566796\ttotal: 885ms\tremaining: 918ms\n",
      "491:\tlearn: 0.3565084\ttotal: 887ms\tremaining: 916ms\n",
      "492:\tlearn: 0.3563515\ttotal: 889ms\tremaining: 914ms\n",
      "493:\tlearn: 0.3561050\ttotal: 891ms\tremaining: 913ms\n",
      "494:\tlearn: 0.3558564\ttotal: 893ms\tremaining: 911ms\n",
      "495:\tlearn: 0.3557254\ttotal: 895ms\tremaining: 909ms\n",
      "496:\tlearn: 0.3555181\ttotal: 896ms\tremaining: 907ms\n",
      "497:\tlearn: 0.3553109\ttotal: 898ms\tremaining: 905ms\n",
      "498:\tlearn: 0.3551960\ttotal: 900ms\tremaining: 903ms\n",
      "499:\tlearn: 0.3550424\ttotal: 902ms\tremaining: 902ms\n",
      "500:\tlearn: 0.3548756\ttotal: 903ms\tremaining: 900ms\n",
      "501:\tlearn: 0.3546961\ttotal: 905ms\tremaining: 898ms\n",
      "502:\tlearn: 0.3545148\ttotal: 907ms\tremaining: 896ms\n",
      "503:\tlearn: 0.3543011\ttotal: 909ms\tremaining: 894ms\n",
      "504:\tlearn: 0.3541488\ttotal: 911ms\tremaining: 893ms\n",
      "505:\tlearn: 0.3539428\ttotal: 912ms\tremaining: 891ms\n",
      "506:\tlearn: 0.3538220\ttotal: 914ms\tremaining: 889ms\n",
      "507:\tlearn: 0.3536839\ttotal: 916ms\tremaining: 887ms\n",
      "508:\tlearn: 0.3535079\ttotal: 918ms\tremaining: 885ms\n",
      "509:\tlearn: 0.3533060\ttotal: 919ms\tremaining: 883ms\n",
      "510:\tlearn: 0.3531251\ttotal: 921ms\tremaining: 882ms\n",
      "511:\tlearn: 0.3530155\ttotal: 923ms\tremaining: 880ms\n",
      "512:\tlearn: 0.3528865\ttotal: 925ms\tremaining: 878ms\n",
      "513:\tlearn: 0.3526971\ttotal: 927ms\tremaining: 876ms\n",
      "514:\tlearn: 0.3525644\ttotal: 929ms\tremaining: 874ms\n",
      "515:\tlearn: 0.3523934\ttotal: 930ms\tremaining: 873ms\n",
      "516:\tlearn: 0.3523118\ttotal: 932ms\tremaining: 871ms\n",
      "517:\tlearn: 0.3521616\ttotal: 934ms\tremaining: 869ms\n",
      "518:\tlearn: 0.3519569\ttotal: 936ms\tremaining: 867ms\n",
      "519:\tlearn: 0.3517173\ttotal: 938ms\tremaining: 865ms\n",
      "520:\tlearn: 0.3515026\ttotal: 939ms\tremaining: 864ms\n",
      "521:\tlearn: 0.3513683\ttotal: 941ms\tremaining: 862ms\n",
      "522:\tlearn: 0.3511317\ttotal: 943ms\tremaining: 860ms\n",
      "523:\tlearn: 0.3509154\ttotal: 945ms\tremaining: 858ms\n",
      "524:\tlearn: 0.3507505\ttotal: 946ms\tremaining: 856ms\n",
      "525:\tlearn: 0.3506257\ttotal: 948ms\tremaining: 854ms\n",
      "526:\tlearn: 0.3504648\ttotal: 950ms\tremaining: 853ms\n",
      "527:\tlearn: 0.3502410\ttotal: 952ms\tremaining: 851ms\n",
      "528:\tlearn: 0.3501325\ttotal: 954ms\tremaining: 849ms\n",
      "529:\tlearn: 0.3499699\ttotal: 955ms\tremaining: 847ms\n",
      "530:\tlearn: 0.3497125\ttotal: 957ms\tremaining: 845ms\n",
      "531:\tlearn: 0.3495647\ttotal: 959ms\tremaining: 844ms\n",
      "532:\tlearn: 0.3494664\ttotal: 961ms\tremaining: 842ms\n",
      "533:\tlearn: 0.3493159\ttotal: 962ms\tremaining: 840ms\n",
      "534:\tlearn: 0.3490965\ttotal: 964ms\tremaining: 838ms\n",
      "535:\tlearn: 0.3488300\ttotal: 966ms\tremaining: 836ms\n",
      "536:\tlearn: 0.3486155\ttotal: 968ms\tremaining: 835ms\n",
      "537:\tlearn: 0.3485012\ttotal: 970ms\tremaining: 833ms\n",
      "538:\tlearn: 0.3483825\ttotal: 972ms\tremaining: 831ms\n",
      "539:\tlearn: 0.3482328\ttotal: 974ms\tremaining: 830ms\n",
      "540:\tlearn: 0.3480202\ttotal: 976ms\tremaining: 828ms\n",
      "541:\tlearn: 0.3479146\ttotal: 978ms\tremaining: 826ms\n",
      "542:\tlearn: 0.3477943\ttotal: 979ms\tremaining: 824ms\n",
      "543:\tlearn: 0.3475477\ttotal: 981ms\tremaining: 822ms\n",
      "544:\tlearn: 0.3473289\ttotal: 983ms\tremaining: 821ms\n",
      "545:\tlearn: 0.3472133\ttotal: 985ms\tremaining: 819ms\n",
      "546:\tlearn: 0.3470767\ttotal: 987ms\tremaining: 817ms\n",
      "547:\tlearn: 0.3469003\ttotal: 988ms\tremaining: 815ms\n",
      "548:\tlearn: 0.3466949\ttotal: 990ms\tremaining: 813ms\n",
      "549:\tlearn: 0.3465708\ttotal: 992ms\tremaining: 812ms\n",
      "550:\tlearn: 0.3464070\ttotal: 994ms\tremaining: 810ms\n",
      "551:\tlearn: 0.3462583\ttotal: 995ms\tremaining: 808ms\n",
      "552:\tlearn: 0.3461290\ttotal: 998ms\tremaining: 806ms\n",
      "553:\tlearn: 0.3458915\ttotal: 999ms\tremaining: 805ms\n",
      "554:\tlearn: 0.3457631\ttotal: 1s\tremaining: 803ms\n",
      "555:\tlearn: 0.3455853\ttotal: 1s\tremaining: 801ms\n",
      "556:\tlearn: 0.3454099\ttotal: 1s\tremaining: 799ms\n",
      "557:\tlearn: 0.3451681\ttotal: 1.01s\tremaining: 797ms\n",
      "558:\tlearn: 0.3449457\ttotal: 1.01s\tremaining: 796ms\n",
      "559:\tlearn: 0.3448155\ttotal: 1.01s\tremaining: 794ms\n",
      "560:\tlearn: 0.3446421\ttotal: 1.01s\tremaining: 793ms\n",
      "561:\tlearn: 0.3444949\ttotal: 1.01s\tremaining: 791ms\n",
      "562:\tlearn: 0.3443619\ttotal: 1.02s\tremaining: 789ms\n",
      "563:\tlearn: 0.3441380\ttotal: 1.02s\tremaining: 787ms\n",
      "564:\tlearn: 0.3440252\ttotal: 1.02s\tremaining: 785ms\n",
      "565:\tlearn: 0.3439275\ttotal: 1.02s\tremaining: 783ms\n",
      "566:\tlearn: 0.3437733\ttotal: 1.02s\tremaining: 782ms\n",
      "567:\tlearn: 0.3436509\ttotal: 1.02s\tremaining: 780ms\n",
      "568:\tlearn: 0.3434917\ttotal: 1.03s\tremaining: 778ms\n",
      "569:\tlearn: 0.3432910\ttotal: 1.03s\tremaining: 776ms\n",
      "570:\tlearn: 0.3431253\ttotal: 1.03s\tremaining: 774ms\n",
      "571:\tlearn: 0.3429898\ttotal: 1.03s\tremaining: 772ms\n",
      "572:\tlearn: 0.3427009\ttotal: 1.03s\tremaining: 770ms\n",
      "573:\tlearn: 0.3424917\ttotal: 1.03s\tremaining: 768ms\n",
      "574:\tlearn: 0.3422672\ttotal: 1.04s\tremaining: 766ms\n",
      "575:\tlearn: 0.3419801\ttotal: 1.04s\tremaining: 764ms\n",
      "576:\tlearn: 0.3418699\ttotal: 1.04s\tremaining: 763ms\n",
      "577:\tlearn: 0.3416222\ttotal: 1.04s\tremaining: 761ms\n",
      "578:\tlearn: 0.3414873\ttotal: 1.04s\tremaining: 759ms\n",
      "579:\tlearn: 0.3412896\ttotal: 1.04s\tremaining: 757ms\n",
      "580:\tlearn: 0.3410788\ttotal: 1.05s\tremaining: 755ms\n",
      "581:\tlearn: 0.3409509\ttotal: 1.05s\tremaining: 754ms\n",
      "582:\tlearn: 0.3407258\ttotal: 1.05s\tremaining: 752ms\n",
      "583:\tlearn: 0.3405933\ttotal: 1.05s\tremaining: 750ms\n",
      "584:\tlearn: 0.3404435\ttotal: 1.05s\tremaining: 748ms\n",
      "585:\tlearn: 0.3402617\ttotal: 1.06s\tremaining: 746ms\n",
      "586:\tlearn: 0.3400018\ttotal: 1.06s\tremaining: 744ms\n",
      "587:\tlearn: 0.3397397\ttotal: 1.06s\tremaining: 743ms\n",
      "588:\tlearn: 0.3395733\ttotal: 1.06s\tremaining: 741ms\n",
      "589:\tlearn: 0.3393457\ttotal: 1.06s\tremaining: 739ms\n",
      "590:\tlearn: 0.3391791\ttotal: 1.06s\tremaining: 737ms\n",
      "591:\tlearn: 0.3389522\ttotal: 1.07s\tremaining: 735ms\n",
      "592:\tlearn: 0.3387933\ttotal: 1.07s\tremaining: 734ms\n",
      "593:\tlearn: 0.3384541\ttotal: 1.07s\tremaining: 732ms\n",
      "594:\tlearn: 0.3383510\ttotal: 1.07s\tremaining: 730ms\n",
      "595:\tlearn: 0.3382237\ttotal: 1.07s\tremaining: 728ms\n",
      "596:\tlearn: 0.3380441\ttotal: 1.08s\tremaining: 726ms\n",
      "597:\tlearn: 0.3378308\ttotal: 1.08s\tremaining: 725ms\n",
      "598:\tlearn: 0.3376753\ttotal: 1.08s\tremaining: 723ms\n",
      "599:\tlearn: 0.3374136\ttotal: 1.08s\tremaining: 721ms\n",
      "600:\tlearn: 0.3372833\ttotal: 1.08s\tremaining: 719ms\n",
      "601:\tlearn: 0.3371090\ttotal: 1.08s\tremaining: 717ms\n",
      "602:\tlearn: 0.3369924\ttotal: 1.09s\tremaining: 715ms\n",
      "603:\tlearn: 0.3366592\ttotal: 1.09s\tremaining: 714ms\n",
      "604:\tlearn: 0.3364609\ttotal: 1.09s\tremaining: 712ms\n",
      "605:\tlearn: 0.3362196\ttotal: 1.09s\tremaining: 710ms\n",
      "606:\tlearn: 0.3359746\ttotal: 1.09s\tremaining: 708ms\n",
      "607:\tlearn: 0.3358320\ttotal: 1.09s\tremaining: 706ms\n",
      "608:\tlearn: 0.3357306\ttotal: 1.1s\tremaining: 705ms\n",
      "609:\tlearn: 0.3355188\ttotal: 1.1s\tremaining: 703ms\n",
      "610:\tlearn: 0.3354407\ttotal: 1.1s\tremaining: 701ms\n",
      "611:\tlearn: 0.3351497\ttotal: 1.1s\tremaining: 699ms\n",
      "612:\tlearn: 0.3349647\ttotal: 1.1s\tremaining: 697ms\n",
      "613:\tlearn: 0.3348706\ttotal: 1.11s\tremaining: 696ms\n",
      "614:\tlearn: 0.3347267\ttotal: 1.11s\tremaining: 694ms\n",
      "615:\tlearn: 0.3345185\ttotal: 1.11s\tremaining: 692ms\n",
      "616:\tlearn: 0.3342679\ttotal: 1.11s\tremaining: 690ms\n",
      "617:\tlearn: 0.3341055\ttotal: 1.11s\tremaining: 688ms\n",
      "618:\tlearn: 0.3338741\ttotal: 1.11s\tremaining: 687ms\n",
      "619:\tlearn: 0.3337682\ttotal: 1.12s\tremaining: 685ms\n",
      "620:\tlearn: 0.3336781\ttotal: 1.12s\tremaining: 683ms\n",
      "621:\tlearn: 0.3334437\ttotal: 1.12s\tremaining: 681ms\n",
      "622:\tlearn: 0.3333123\ttotal: 1.12s\tremaining: 680ms\n",
      "623:\tlearn: 0.3331927\ttotal: 1.12s\tremaining: 678ms\n",
      "624:\tlearn: 0.3330330\ttotal: 1.13s\tremaining: 676ms\n",
      "625:\tlearn: 0.3328090\ttotal: 1.13s\tremaining: 674ms\n",
      "626:\tlearn: 0.3326637\ttotal: 1.13s\tremaining: 672ms\n",
      "627:\tlearn: 0.3324125\ttotal: 1.13s\tremaining: 671ms\n",
      "628:\tlearn: 0.3322202\ttotal: 1.13s\tremaining: 669ms\n",
      "629:\tlearn: 0.3321075\ttotal: 1.14s\tremaining: 667ms\n",
      "630:\tlearn: 0.3319545\ttotal: 1.14s\tremaining: 665ms\n",
      "631:\tlearn: 0.3317449\ttotal: 1.14s\tremaining: 663ms\n",
      "632:\tlearn: 0.3315124\ttotal: 1.14s\tremaining: 661ms\n",
      "633:\tlearn: 0.3312771\ttotal: 1.14s\tremaining: 659ms\n",
      "634:\tlearn: 0.3311003\ttotal: 1.14s\tremaining: 657ms\n",
      "635:\tlearn: 0.3310048\ttotal: 1.15s\tremaining: 656ms\n",
      "636:\tlearn: 0.3308337\ttotal: 1.15s\tremaining: 654ms\n",
      "637:\tlearn: 0.3307228\ttotal: 1.15s\tremaining: 652ms\n",
      "638:\tlearn: 0.3306315\ttotal: 1.15s\tremaining: 650ms\n",
      "639:\tlearn: 0.3303811\ttotal: 1.15s\tremaining: 648ms\n",
      "640:\tlearn: 0.3302552\ttotal: 1.15s\tremaining: 646ms\n",
      "641:\tlearn: 0.3301571\ttotal: 1.16s\tremaining: 644ms\n",
      "642:\tlearn: 0.3300109\ttotal: 1.16s\tremaining: 642ms\n",
      "643:\tlearn: 0.3299048\ttotal: 1.16s\tremaining: 641ms\n",
      "644:\tlearn: 0.3296734\ttotal: 1.16s\tremaining: 639ms\n",
      "645:\tlearn: 0.3294732\ttotal: 1.16s\tremaining: 637ms\n",
      "646:\tlearn: 0.3292636\ttotal: 1.16s\tremaining: 635ms\n",
      "647:\tlearn: 0.3290802\ttotal: 1.17s\tremaining: 633ms\n",
      "648:\tlearn: 0.3289533\ttotal: 1.17s\tremaining: 631ms\n",
      "649:\tlearn: 0.3287007\ttotal: 1.17s\tremaining: 629ms\n",
      "650:\tlearn: 0.3285723\ttotal: 1.17s\tremaining: 628ms\n",
      "651:\tlearn: 0.3284590\ttotal: 1.17s\tremaining: 626ms\n",
      "652:\tlearn: 0.3283273\ttotal: 1.17s\tremaining: 624ms\n",
      "653:\tlearn: 0.3281230\ttotal: 1.18s\tremaining: 622ms\n",
      "654:\tlearn: 0.3280109\ttotal: 1.18s\tremaining: 621ms\n",
      "655:\tlearn: 0.3278543\ttotal: 1.18s\tremaining: 619ms\n",
      "656:\tlearn: 0.3276576\ttotal: 1.18s\tremaining: 617ms\n",
      "657:\tlearn: 0.3274497\ttotal: 1.18s\tremaining: 615ms\n",
      "658:\tlearn: 0.3272111\ttotal: 1.19s\tremaining: 613ms\n",
      "659:\tlearn: 0.3270052\ttotal: 1.19s\tremaining: 611ms\n",
      "660:\tlearn: 0.3269031\ttotal: 1.19s\tremaining: 609ms\n",
      "661:\tlearn: 0.3267324\ttotal: 1.19s\tremaining: 608ms\n"
     ]
    },
    {
     "name": "stdout",
     "output_type": "stream",
     "text": [
      "662:\tlearn: 0.3266039\ttotal: 1.19s\tremaining: 606ms\n",
      "663:\tlearn: 0.3263903\ttotal: 1.19s\tremaining: 604ms\n",
      "664:\tlearn: 0.3262494\ttotal: 1.2s\tremaining: 602ms\n",
      "665:\tlearn: 0.3261216\ttotal: 1.2s\tremaining: 600ms\n",
      "666:\tlearn: 0.3259097\ttotal: 1.2s\tremaining: 598ms\n",
      "667:\tlearn: 0.3258123\ttotal: 1.2s\tremaining: 597ms\n",
      "668:\tlearn: 0.3256476\ttotal: 1.2s\tremaining: 595ms\n",
      "669:\tlearn: 0.3255126\ttotal: 1.2s\tremaining: 593ms\n",
      "670:\tlearn: 0.3252936\ttotal: 1.21s\tremaining: 591ms\n",
      "671:\tlearn: 0.3250947\ttotal: 1.21s\tremaining: 589ms\n",
      "672:\tlearn: 0.3249067\ttotal: 1.21s\tremaining: 587ms\n",
      "673:\tlearn: 0.3246861\ttotal: 1.21s\tremaining: 586ms\n",
      "674:\tlearn: 0.3244845\ttotal: 1.21s\tremaining: 584ms\n",
      "675:\tlearn: 0.3243532\ttotal: 1.21s\tremaining: 582ms\n",
      "676:\tlearn: 0.3241827\ttotal: 1.22s\tremaining: 580ms\n",
      "677:\tlearn: 0.3239166\ttotal: 1.22s\tremaining: 579ms\n",
      "678:\tlearn: 0.3237715\ttotal: 1.22s\tremaining: 577ms\n",
      "679:\tlearn: 0.3235793\ttotal: 1.22s\tremaining: 575ms\n",
      "680:\tlearn: 0.3235132\ttotal: 1.22s\tremaining: 573ms\n",
      "681:\tlearn: 0.3234183\ttotal: 1.23s\tremaining: 572ms\n",
      "682:\tlearn: 0.3233011\ttotal: 1.23s\tremaining: 570ms\n",
      "683:\tlearn: 0.3231696\ttotal: 1.23s\tremaining: 568ms\n",
      "684:\tlearn: 0.3229767\ttotal: 1.23s\tremaining: 566ms\n",
      "685:\tlearn: 0.3227727\ttotal: 1.23s\tremaining: 564ms\n",
      "686:\tlearn: 0.3226394\ttotal: 1.23s\tremaining: 563ms\n",
      "687:\tlearn: 0.3223868\ttotal: 1.24s\tremaining: 561ms\n",
      "688:\tlearn: 0.3222262\ttotal: 1.24s\tremaining: 559ms\n",
      "689:\tlearn: 0.3220818\ttotal: 1.24s\tremaining: 557ms\n",
      "690:\tlearn: 0.3219133\ttotal: 1.24s\tremaining: 555ms\n",
      "691:\tlearn: 0.3217912\ttotal: 1.24s\tremaining: 554ms\n",
      "692:\tlearn: 0.3216036\ttotal: 1.25s\tremaining: 552ms\n",
      "693:\tlearn: 0.3215004\ttotal: 1.25s\tremaining: 550ms\n",
      "694:\tlearn: 0.3212648\ttotal: 1.25s\tremaining: 548ms\n",
      "695:\tlearn: 0.3211416\ttotal: 1.25s\tremaining: 547ms\n",
      "696:\tlearn: 0.3210045\ttotal: 1.25s\tremaining: 545ms\n",
      "697:\tlearn: 0.3207539\ttotal: 1.25s\tremaining: 543ms\n",
      "698:\tlearn: 0.3206221\ttotal: 1.26s\tremaining: 541ms\n",
      "699:\tlearn: 0.3205367\ttotal: 1.26s\tremaining: 539ms\n",
      "700:\tlearn: 0.3202300\ttotal: 1.26s\tremaining: 538ms\n",
      "701:\tlearn: 0.3200153\ttotal: 1.26s\tremaining: 536ms\n",
      "702:\tlearn: 0.3198735\ttotal: 1.26s\tremaining: 534ms\n",
      "703:\tlearn: 0.3197014\ttotal: 1.26s\tremaining: 532ms\n",
      "704:\tlearn: 0.3195406\ttotal: 1.27s\tremaining: 530ms\n",
      "705:\tlearn: 0.3193823\ttotal: 1.27s\tremaining: 529ms\n",
      "706:\tlearn: 0.3192798\ttotal: 1.27s\tremaining: 527ms\n",
      "707:\tlearn: 0.3190941\ttotal: 1.27s\tremaining: 525ms\n",
      "708:\tlearn: 0.3189170\ttotal: 1.27s\tremaining: 523ms\n",
      "709:\tlearn: 0.3188432\ttotal: 1.28s\tremaining: 521ms\n",
      "710:\tlearn: 0.3187184\ttotal: 1.28s\tremaining: 520ms\n",
      "711:\tlearn: 0.3185942\ttotal: 1.28s\tremaining: 518ms\n",
      "712:\tlearn: 0.3185258\ttotal: 1.28s\tremaining: 516ms\n",
      "713:\tlearn: 0.3183624\ttotal: 1.28s\tremaining: 514ms\n",
      "714:\tlearn: 0.3180768\ttotal: 1.28s\tremaining: 512ms\n",
      "715:\tlearn: 0.3179190\ttotal: 1.29s\tremaining: 510ms\n",
      "716:\tlearn: 0.3178256\ttotal: 1.29s\tremaining: 509ms\n",
      "717:\tlearn: 0.3176140\ttotal: 1.29s\tremaining: 507ms\n",
      "718:\tlearn: 0.3174043\ttotal: 1.29s\tremaining: 505ms\n",
      "719:\tlearn: 0.3172154\ttotal: 1.29s\tremaining: 503ms\n",
      "720:\tlearn: 0.3170753\ttotal: 1.29s\tremaining: 501ms\n",
      "721:\tlearn: 0.3168899\ttotal: 1.3s\tremaining: 500ms\n",
      "722:\tlearn: 0.3167181\ttotal: 1.3s\tremaining: 498ms\n",
      "723:\tlearn: 0.3166269\ttotal: 1.3s\tremaining: 496ms\n",
      "724:\tlearn: 0.3164695\ttotal: 1.3s\tremaining: 494ms\n",
      "725:\tlearn: 0.3164080\ttotal: 1.3s\tremaining: 492ms\n",
      "726:\tlearn: 0.3163042\ttotal: 1.31s\tremaining: 491ms\n",
      "727:\tlearn: 0.3161480\ttotal: 1.31s\tremaining: 489ms\n",
      "728:\tlearn: 0.3160379\ttotal: 1.31s\tremaining: 487ms\n",
      "729:\tlearn: 0.3158371\ttotal: 1.31s\tremaining: 485ms\n",
      "730:\tlearn: 0.3157150\ttotal: 1.31s\tremaining: 483ms\n",
      "731:\tlearn: 0.3156047\ttotal: 1.31s\tremaining: 481ms\n",
      "732:\tlearn: 0.3153594\ttotal: 1.32s\tremaining: 480ms\n",
      "733:\tlearn: 0.3152221\ttotal: 1.32s\tremaining: 478ms\n",
      "734:\tlearn: 0.3150603\ttotal: 1.32s\tremaining: 476ms\n",
      "735:\tlearn: 0.3148882\ttotal: 1.32s\tremaining: 474ms\n",
      "736:\tlearn: 0.3146511\ttotal: 1.32s\tremaining: 472ms\n",
      "737:\tlearn: 0.3145564\ttotal: 1.32s\tremaining: 471ms\n",
      "738:\tlearn: 0.3143535\ttotal: 1.33s\tremaining: 469ms\n",
      "739:\tlearn: 0.3141746\ttotal: 1.33s\tremaining: 467ms\n",
      "740:\tlearn: 0.3138967\ttotal: 1.33s\tremaining: 465ms\n",
      "741:\tlearn: 0.3137484\ttotal: 1.33s\tremaining: 463ms\n",
      "742:\tlearn: 0.3136465\ttotal: 1.33s\tremaining: 461ms\n",
      "743:\tlearn: 0.3135513\ttotal: 1.33s\tremaining: 460ms\n",
      "744:\tlearn: 0.3134103\ttotal: 1.34s\tremaining: 458ms\n",
      "745:\tlearn: 0.3132603\ttotal: 1.34s\tremaining: 456ms\n",
      "746:\tlearn: 0.3131545\ttotal: 1.34s\tremaining: 454ms\n",
      "747:\tlearn: 0.3129366\ttotal: 1.34s\tremaining: 452ms\n",
      "748:\tlearn: 0.3128992\ttotal: 1.34s\tremaining: 450ms\n",
      "749:\tlearn: 0.3127259\ttotal: 1.34s\tremaining: 449ms\n",
      "750:\tlearn: 0.3126549\ttotal: 1.35s\tremaining: 447ms\n",
      "751:\tlearn: 0.3124994\ttotal: 1.35s\tremaining: 445ms\n",
      "752:\tlearn: 0.3123208\ttotal: 1.35s\tremaining: 443ms\n",
      "753:\tlearn: 0.3120933\ttotal: 1.35s\tremaining: 441ms\n",
      "754:\tlearn: 0.3119351\ttotal: 1.35s\tremaining: 440ms\n",
      "755:\tlearn: 0.3117933\ttotal: 1.36s\tremaining: 438ms\n",
      "756:\tlearn: 0.3117009\ttotal: 1.36s\tremaining: 436ms\n",
      "757:\tlearn: 0.3115489\ttotal: 1.36s\tremaining: 434ms\n",
      "758:\tlearn: 0.3114070\ttotal: 1.36s\tremaining: 432ms\n",
      "759:\tlearn: 0.3112342\ttotal: 1.36s\tremaining: 431ms\n",
      "760:\tlearn: 0.3110996\ttotal: 1.36s\tremaining: 429ms\n",
      "761:\tlearn: 0.3110420\ttotal: 1.37s\tremaining: 427ms\n",
      "762:\tlearn: 0.3108121\ttotal: 1.37s\tremaining: 425ms\n",
      "763:\tlearn: 0.3107357\ttotal: 1.37s\tremaining: 423ms\n",
      "764:\tlearn: 0.3105933\ttotal: 1.37s\tremaining: 422ms\n",
      "765:\tlearn: 0.3104831\ttotal: 1.37s\tremaining: 420ms\n",
      "766:\tlearn: 0.3103844\ttotal: 1.38s\tremaining: 418ms\n",
      "767:\tlearn: 0.3102597\ttotal: 1.38s\tremaining: 416ms\n",
      "768:\tlearn: 0.3100551\ttotal: 1.38s\tremaining: 414ms\n",
      "769:\tlearn: 0.3098782\ttotal: 1.38s\tremaining: 413ms\n",
      "770:\tlearn: 0.3097198\ttotal: 1.38s\tremaining: 411ms\n",
      "771:\tlearn: 0.3096223\ttotal: 1.38s\tremaining: 409ms\n",
      "772:\tlearn: 0.3095095\ttotal: 1.39s\tremaining: 407ms\n",
      "773:\tlearn: 0.3094133\ttotal: 1.39s\tremaining: 405ms\n",
      "774:\tlearn: 0.3093126\ttotal: 1.39s\tremaining: 404ms\n",
      "775:\tlearn: 0.3091662\ttotal: 1.39s\tremaining: 402ms\n",
      "776:\tlearn: 0.3090617\ttotal: 1.39s\tremaining: 400ms\n",
      "777:\tlearn: 0.3089639\ttotal: 1.4s\tremaining: 398ms\n",
      "778:\tlearn: 0.3087764\ttotal: 1.4s\tremaining: 396ms\n",
      "779:\tlearn: 0.3085797\ttotal: 1.4s\tremaining: 395ms\n",
      "780:\tlearn: 0.3083909\ttotal: 1.4s\tremaining: 393ms\n",
      "781:\tlearn: 0.3082032\ttotal: 1.4s\tremaining: 391ms\n",
      "782:\tlearn: 0.3080979\ttotal: 1.4s\tremaining: 389ms\n",
      "783:\tlearn: 0.3079543\ttotal: 1.41s\tremaining: 387ms\n",
      "784:\tlearn: 0.3078941\ttotal: 1.41s\tremaining: 385ms\n",
      "785:\tlearn: 0.3076992\ttotal: 1.41s\tremaining: 384ms\n",
      "786:\tlearn: 0.3075529\ttotal: 1.41s\tremaining: 382ms\n",
      "787:\tlearn: 0.3074182\ttotal: 1.41s\tremaining: 380ms\n",
      "788:\tlearn: 0.3073618\ttotal: 1.41s\tremaining: 378ms\n",
      "789:\tlearn: 0.3071930\ttotal: 1.42s\tremaining: 376ms\n",
      "790:\tlearn: 0.3070755\ttotal: 1.42s\tremaining: 375ms\n",
      "791:\tlearn: 0.3068818\ttotal: 1.42s\tremaining: 373ms\n",
      "792:\tlearn: 0.3067037\ttotal: 1.42s\tremaining: 371ms\n",
      "793:\tlearn: 0.3066206\ttotal: 1.42s\tremaining: 369ms\n",
      "794:\tlearn: 0.3064135\ttotal: 1.42s\tremaining: 367ms\n",
      "795:\tlearn: 0.3061965\ttotal: 1.43s\tremaining: 365ms\n",
      "796:\tlearn: 0.3059911\ttotal: 1.43s\tremaining: 364ms\n",
      "797:\tlearn: 0.3058774\ttotal: 1.43s\tremaining: 362ms\n",
      "798:\tlearn: 0.3057680\ttotal: 1.43s\tremaining: 360ms\n",
      "799:\tlearn: 0.3056327\ttotal: 1.43s\tremaining: 358ms\n",
      "800:\tlearn: 0.3055747\ttotal: 1.43s\tremaining: 356ms\n",
      "801:\tlearn: 0.3054025\ttotal: 1.44s\tremaining: 355ms\n",
      "802:\tlearn: 0.3052486\ttotal: 1.44s\tremaining: 353ms\n",
      "803:\tlearn: 0.3050889\ttotal: 1.44s\tremaining: 351ms\n",
      "804:\tlearn: 0.3048347\ttotal: 1.44s\tremaining: 349ms\n",
      "805:\tlearn: 0.3047066\ttotal: 1.44s\tremaining: 347ms\n",
      "806:\tlearn: 0.3045341\ttotal: 1.44s\tremaining: 345ms\n",
      "807:\tlearn: 0.3043046\ttotal: 1.45s\tremaining: 344ms\n",
      "808:\tlearn: 0.3041781\ttotal: 1.45s\tremaining: 342ms\n",
      "809:\tlearn: 0.3040422\ttotal: 1.45s\tremaining: 340ms\n",
      "810:\tlearn: 0.3038826\ttotal: 1.45s\tremaining: 338ms\n",
      "811:\tlearn: 0.3037318\ttotal: 1.45s\tremaining: 336ms\n",
      "812:\tlearn: 0.3036119\ttotal: 1.45s\tremaining: 335ms\n",
      "813:\tlearn: 0.3034282\ttotal: 1.46s\tremaining: 333ms\n",
      "814:\tlearn: 0.3033278\ttotal: 1.46s\tremaining: 331ms\n",
      "815:\tlearn: 0.3031490\ttotal: 1.46s\tremaining: 329ms\n",
      "816:\tlearn: 0.3030206\ttotal: 1.46s\tremaining: 327ms\n",
      "817:\tlearn: 0.3028668\ttotal: 1.46s\tremaining: 326ms\n",
      "818:\tlearn: 0.3027776\ttotal: 1.46s\tremaining: 324ms\n",
      "819:\tlearn: 0.3026889\ttotal: 1.47s\tremaining: 322ms\n",
      "820:\tlearn: 0.3025601\ttotal: 1.47s\tremaining: 320ms\n",
      "821:\tlearn: 0.3024673\ttotal: 1.47s\tremaining: 318ms\n",
      "822:\tlearn: 0.3023468\ttotal: 1.47s\tremaining: 316ms\n",
      "823:\tlearn: 0.3022342\ttotal: 1.47s\tremaining: 315ms\n",
      "824:\tlearn: 0.3021215\ttotal: 1.47s\tremaining: 313ms\n",
      "825:\tlearn: 0.3020108\ttotal: 1.48s\tremaining: 311ms\n",
      "826:\tlearn: 0.3019114\ttotal: 1.48s\tremaining: 309ms\n",
      "827:\tlearn: 0.3016739\ttotal: 1.48s\tremaining: 307ms\n",
      "828:\tlearn: 0.3015529\ttotal: 1.48s\tremaining: 306ms\n",
      "829:\tlearn: 0.3014424\ttotal: 1.48s\tremaining: 304ms\n",
      "830:\tlearn: 0.3012691\ttotal: 1.48s\tremaining: 302ms\n",
      "831:\tlearn: 0.3011268\ttotal: 1.49s\tremaining: 300ms\n",
      "832:\tlearn: 0.3009909\ttotal: 1.49s\tremaining: 298ms\n",
      "833:\tlearn: 0.3008539\ttotal: 1.49s\tremaining: 297ms\n",
      "834:\tlearn: 0.3007286\ttotal: 1.49s\tremaining: 295ms\n",
      "835:\tlearn: 0.3006374\ttotal: 1.49s\tremaining: 293ms\n",
      "836:\tlearn: 0.3005403\ttotal: 1.49s\tremaining: 291ms\n",
      "837:\tlearn: 0.3004287\ttotal: 1.5s\tremaining: 289ms\n",
      "838:\tlearn: 0.3003171\ttotal: 1.5s\tremaining: 288ms\n",
      "839:\tlearn: 0.3001881\ttotal: 1.5s\tremaining: 286ms\n",
      "840:\tlearn: 0.3000140\ttotal: 1.5s\tremaining: 284ms\n",
      "841:\tlearn: 0.2997484\ttotal: 1.5s\tremaining: 282ms\n",
      "842:\tlearn: 0.2996468\ttotal: 1.5s\tremaining: 280ms\n",
      "843:\tlearn: 0.2995383\ttotal: 1.51s\tremaining: 278ms\n",
      "844:\tlearn: 0.2994407\ttotal: 1.51s\tremaining: 277ms\n",
      "845:\tlearn: 0.2993442\ttotal: 1.51s\tremaining: 275ms\n",
      "846:\tlearn: 0.2991647\ttotal: 1.51s\tremaining: 273ms\n",
      "847:\tlearn: 0.2990298\ttotal: 1.51s\tremaining: 271ms\n",
      "848:\tlearn: 0.2989454\ttotal: 1.51s\tremaining: 269ms\n",
      "849:\tlearn: 0.2988440\ttotal: 1.52s\tremaining: 268ms\n",
      "850:\tlearn: 0.2987332\ttotal: 1.52s\tremaining: 266ms\n",
      "851:\tlearn: 0.2985828\ttotal: 1.52s\tremaining: 264ms\n",
      "852:\tlearn: 0.2984329\ttotal: 1.52s\tremaining: 262ms\n",
      "853:\tlearn: 0.2982909\ttotal: 1.52s\tremaining: 260ms\n",
      "854:\tlearn: 0.2981283\ttotal: 1.52s\tremaining: 259ms\n",
      "855:\tlearn: 0.2980263\ttotal: 1.53s\tremaining: 257ms\n",
      "856:\tlearn: 0.2979707\ttotal: 1.53s\tremaining: 255ms\n",
      "857:\tlearn: 0.2978719\ttotal: 1.53s\tremaining: 253ms\n",
      "858:\tlearn: 0.2977421\ttotal: 1.53s\tremaining: 251ms\n",
      "859:\tlearn: 0.2976584\ttotal: 1.53s\tremaining: 250ms\n",
      "860:\tlearn: 0.2975033\ttotal: 1.53s\tremaining: 248ms\n",
      "861:\tlearn: 0.2974265\ttotal: 1.54s\tremaining: 246ms\n",
      "862:\tlearn: 0.2973092\ttotal: 1.54s\tremaining: 244ms\n",
      "863:\tlearn: 0.2970367\ttotal: 1.54s\tremaining: 242ms\n",
      "864:\tlearn: 0.2969474\ttotal: 1.54s\tremaining: 241ms\n",
      "865:\tlearn: 0.2967106\ttotal: 1.54s\tremaining: 239ms\n",
      "866:\tlearn: 0.2966369\ttotal: 1.54s\tremaining: 237ms\n",
      "867:\tlearn: 0.2964628\ttotal: 1.55s\tremaining: 235ms\n",
      "868:\tlearn: 0.2963413\ttotal: 1.55s\tremaining: 233ms\n",
      "869:\tlearn: 0.2962594\ttotal: 1.55s\tremaining: 232ms\n",
      "870:\tlearn: 0.2960624\ttotal: 1.55s\tremaining: 230ms\n",
      "871:\tlearn: 0.2959668\ttotal: 1.55s\tremaining: 228ms\n",
      "872:\tlearn: 0.2958580\ttotal: 1.55s\tremaining: 226ms\n",
      "873:\tlearn: 0.2957715\ttotal: 1.56s\tremaining: 224ms\n",
      "874:\tlearn: 0.2955522\ttotal: 1.56s\tremaining: 223ms\n",
      "875:\tlearn: 0.2954189\ttotal: 1.56s\tremaining: 221ms\n",
      "876:\tlearn: 0.2952583\ttotal: 1.56s\tremaining: 219ms\n",
      "877:\tlearn: 0.2950918\ttotal: 1.56s\tremaining: 217ms\n",
      "878:\tlearn: 0.2949127\ttotal: 1.56s\tremaining: 215ms\n",
      "879:\tlearn: 0.2948328\ttotal: 1.57s\tremaining: 214ms\n",
      "880:\tlearn: 0.2946499\ttotal: 1.57s\tremaining: 212ms\n",
      "881:\tlearn: 0.2944562\ttotal: 1.57s\tremaining: 210ms\n",
      "882:\tlearn: 0.2943110\ttotal: 1.57s\tremaining: 208ms\n",
      "883:\tlearn: 0.2941406\ttotal: 1.57s\tremaining: 206ms\n",
      "884:\tlearn: 0.2939872\ttotal: 1.57s\tremaining: 205ms\n",
      "885:\tlearn: 0.2938461\ttotal: 1.58s\tremaining: 203ms\n",
      "886:\tlearn: 0.2937317\ttotal: 1.58s\tremaining: 201ms\n",
      "887:\tlearn: 0.2936431\ttotal: 1.58s\tremaining: 199ms\n",
      "888:\tlearn: 0.2934881\ttotal: 1.58s\tremaining: 197ms\n",
      "889:\tlearn: 0.2934193\ttotal: 1.58s\tremaining: 196ms\n",
      "890:\tlearn: 0.2932400\ttotal: 1.58s\tremaining: 194ms\n"
     ]
    },
    {
     "name": "stdout",
     "output_type": "stream",
     "text": [
      "891:\tlearn: 0.2931368\ttotal: 1.59s\tremaining: 192ms\n",
      "892:\tlearn: 0.2930446\ttotal: 1.59s\tremaining: 190ms\n",
      "893:\tlearn: 0.2929717\ttotal: 1.59s\tremaining: 189ms\n",
      "894:\tlearn: 0.2927183\ttotal: 1.59s\tremaining: 187ms\n",
      "895:\tlearn: 0.2926060\ttotal: 1.59s\tremaining: 185ms\n",
      "896:\tlearn: 0.2924110\ttotal: 1.59s\tremaining: 183ms\n",
      "897:\tlearn: 0.2922237\ttotal: 1.6s\tremaining: 181ms\n",
      "898:\tlearn: 0.2921399\ttotal: 1.6s\tremaining: 180ms\n",
      "899:\tlearn: 0.2920535\ttotal: 1.6s\tremaining: 178ms\n",
      "900:\tlearn: 0.2919478\ttotal: 1.6s\tremaining: 176ms\n",
      "901:\tlearn: 0.2917735\ttotal: 1.6s\tremaining: 174ms\n",
      "902:\tlearn: 0.2916087\ttotal: 1.6s\tremaining: 172ms\n",
      "903:\tlearn: 0.2914133\ttotal: 1.61s\tremaining: 171ms\n",
      "904:\tlearn: 0.2911783\ttotal: 1.61s\tremaining: 169ms\n",
      "905:\tlearn: 0.2909319\ttotal: 1.61s\tremaining: 167ms\n",
      "906:\tlearn: 0.2907816\ttotal: 1.61s\tremaining: 165ms\n",
      "907:\tlearn: 0.2906491\ttotal: 1.61s\tremaining: 164ms\n",
      "908:\tlearn: 0.2905341\ttotal: 1.62s\tremaining: 162ms\n",
      "909:\tlearn: 0.2903707\ttotal: 1.62s\tremaining: 160ms\n",
      "910:\tlearn: 0.2902255\ttotal: 1.62s\tremaining: 158ms\n",
      "911:\tlearn: 0.2901104\ttotal: 1.62s\tremaining: 156ms\n",
      "912:\tlearn: 0.2900219\ttotal: 1.62s\tremaining: 155ms\n",
      "913:\tlearn: 0.2898986\ttotal: 1.62s\tremaining: 153ms\n",
      "914:\tlearn: 0.2897447\ttotal: 1.63s\tremaining: 151ms\n",
      "915:\tlearn: 0.2896610\ttotal: 1.63s\tremaining: 149ms\n",
      "916:\tlearn: 0.2895768\ttotal: 1.63s\tremaining: 148ms\n",
      "917:\tlearn: 0.2894537\ttotal: 1.63s\tremaining: 146ms\n",
      "918:\tlearn: 0.2893537\ttotal: 1.63s\tremaining: 144ms\n",
      "919:\tlearn: 0.2892326\ttotal: 1.64s\tremaining: 142ms\n",
      "920:\tlearn: 0.2891202\ttotal: 1.64s\tremaining: 140ms\n",
      "921:\tlearn: 0.2889537\ttotal: 1.64s\tremaining: 139ms\n",
      "922:\tlearn: 0.2887903\ttotal: 1.64s\tremaining: 137ms\n",
      "923:\tlearn: 0.2886032\ttotal: 1.64s\tremaining: 135ms\n",
      "924:\tlearn: 0.2884368\ttotal: 1.64s\tremaining: 133ms\n",
      "925:\tlearn: 0.2883051\ttotal: 1.65s\tremaining: 132ms\n",
      "926:\tlearn: 0.2882611\ttotal: 1.65s\tremaining: 130ms\n",
      "927:\tlearn: 0.2881102\ttotal: 1.65s\tremaining: 128ms\n",
      "928:\tlearn: 0.2879131\ttotal: 1.65s\tremaining: 126ms\n",
      "929:\tlearn: 0.2878334\ttotal: 1.65s\tremaining: 124ms\n",
      "930:\tlearn: 0.2877455\ttotal: 1.65s\tremaining: 123ms\n",
      "931:\tlearn: 0.2876788\ttotal: 1.66s\tremaining: 121ms\n",
      "932:\tlearn: 0.2876169\ttotal: 1.66s\tremaining: 119ms\n",
      "933:\tlearn: 0.2874995\ttotal: 1.66s\tremaining: 117ms\n",
      "934:\tlearn: 0.2874059\ttotal: 1.66s\tremaining: 116ms\n",
      "935:\tlearn: 0.2873622\ttotal: 1.66s\tremaining: 114ms\n",
      "936:\tlearn: 0.2871766\ttotal: 1.67s\tremaining: 112ms\n",
      "937:\tlearn: 0.2870088\ttotal: 1.67s\tremaining: 110ms\n",
      "938:\tlearn: 0.2869205\ttotal: 1.67s\tremaining: 108ms\n",
      "939:\tlearn: 0.2867803\ttotal: 1.67s\tremaining: 107ms\n",
      "940:\tlearn: 0.2866995\ttotal: 1.67s\tremaining: 105ms\n",
      "941:\tlearn: 0.2866039\ttotal: 1.67s\tremaining: 103ms\n",
      "942:\tlearn: 0.2864806\ttotal: 1.68s\tremaining: 101ms\n",
      "943:\tlearn: 0.2863305\ttotal: 1.68s\tremaining: 99.5ms\n",
      "944:\tlearn: 0.2861769\ttotal: 1.68s\tremaining: 97.7ms\n",
      "945:\tlearn: 0.2860678\ttotal: 1.68s\tremaining: 95.9ms\n",
      "946:\tlearn: 0.2859912\ttotal: 1.68s\tremaining: 94.2ms\n",
      "947:\tlearn: 0.2858098\ttotal: 1.68s\tremaining: 92.4ms\n",
      "948:\tlearn: 0.2856682\ttotal: 1.69s\tremaining: 90.6ms\n",
      "949:\tlearn: 0.2855606\ttotal: 1.69s\tremaining: 88.8ms\n",
      "950:\tlearn: 0.2854184\ttotal: 1.69s\tremaining: 87ms\n",
      "951:\tlearn: 0.2852646\ttotal: 1.69s\tremaining: 85.3ms\n",
      "952:\tlearn: 0.2851216\ttotal: 1.69s\tremaining: 83.5ms\n",
      "953:\tlearn: 0.2850491\ttotal: 1.69s\tremaining: 81.7ms\n",
      "954:\tlearn: 0.2847494\ttotal: 1.7s\tremaining: 79.9ms\n",
      "955:\tlearn: 0.2845839\ttotal: 1.7s\tremaining: 78.2ms\n",
      "956:\tlearn: 0.2844434\ttotal: 1.7s\tremaining: 76.4ms\n",
      "957:\tlearn: 0.2843500\ttotal: 1.7s\tremaining: 74.6ms\n",
      "958:\tlearn: 0.2842445\ttotal: 1.7s\tremaining: 72.8ms\n",
      "959:\tlearn: 0.2840339\ttotal: 1.71s\tremaining: 71ms\n",
      "960:\tlearn: 0.2839626\ttotal: 1.71s\tremaining: 69.3ms\n",
      "961:\tlearn: 0.2838354\ttotal: 1.71s\tremaining: 67.5ms\n",
      "962:\tlearn: 0.2837110\ttotal: 1.71s\tremaining: 65.7ms\n",
      "963:\tlearn: 0.2834862\ttotal: 1.71s\tremaining: 63.9ms\n",
      "964:\tlearn: 0.2833284\ttotal: 1.71s\tremaining: 62.2ms\n",
      "965:\tlearn: 0.2832407\ttotal: 1.72s\tremaining: 60.4ms\n",
      "966:\tlearn: 0.2831278\ttotal: 1.72s\tremaining: 58.6ms\n",
      "967:\tlearn: 0.2829741\ttotal: 1.72s\tremaining: 56.8ms\n",
      "968:\tlearn: 0.2827736\ttotal: 1.72s\tremaining: 55.1ms\n",
      "969:\tlearn: 0.2826977\ttotal: 1.72s\tremaining: 53.3ms\n",
      "970:\tlearn: 0.2826508\ttotal: 1.72s\tremaining: 51.5ms\n",
      "971:\tlearn: 0.2825662\ttotal: 1.73s\tremaining: 49.7ms\n",
      "972:\tlearn: 0.2824820\ttotal: 1.73s\tremaining: 48ms\n",
      "973:\tlearn: 0.2823447\ttotal: 1.73s\tremaining: 46.2ms\n",
      "974:\tlearn: 0.2822547\ttotal: 1.73s\tremaining: 44.4ms\n",
      "975:\tlearn: 0.2821551\ttotal: 1.73s\tremaining: 42.6ms\n",
      "976:\tlearn: 0.2820790\ttotal: 1.73s\tremaining: 40.8ms\n",
      "977:\tlearn: 0.2819423\ttotal: 1.74s\tremaining: 39.1ms\n",
      "978:\tlearn: 0.2818164\ttotal: 1.74s\tremaining: 37.3ms\n",
      "979:\tlearn: 0.2816869\ttotal: 1.74s\tremaining: 35.5ms\n",
      "980:\tlearn: 0.2815927\ttotal: 1.74s\tremaining: 33.7ms\n",
      "981:\tlearn: 0.2814651\ttotal: 1.74s\tremaining: 32ms\n",
      "982:\tlearn: 0.2813791\ttotal: 1.74s\tremaining: 30.2ms\n",
      "983:\tlearn: 0.2812736\ttotal: 1.75s\tremaining: 28.4ms\n",
      "984:\tlearn: 0.2811838\ttotal: 1.75s\tremaining: 26.6ms\n",
      "985:\tlearn: 0.2810691\ttotal: 1.75s\tremaining: 24.8ms\n",
      "986:\tlearn: 0.2808797\ttotal: 1.75s\tremaining: 23.1ms\n",
      "987:\tlearn: 0.2807150\ttotal: 1.75s\tremaining: 21.3ms\n",
      "988:\tlearn: 0.2805447\ttotal: 1.75s\tremaining: 19.5ms\n",
      "989:\tlearn: 0.2804096\ttotal: 1.76s\tremaining: 17.7ms\n",
      "990:\tlearn: 0.2802686\ttotal: 1.76s\tremaining: 16ms\n",
      "991:\tlearn: 0.2801785\ttotal: 1.76s\tremaining: 14.2ms\n",
      "992:\tlearn: 0.2800938\ttotal: 1.76s\tremaining: 12.4ms\n",
      "993:\tlearn: 0.2798793\ttotal: 1.76s\tremaining: 10.6ms\n",
      "994:\tlearn: 0.2797462\ttotal: 1.76s\tremaining: 8.87ms\n",
      "995:\tlearn: 0.2795537\ttotal: 1.77s\tremaining: 7.09ms\n",
      "996:\tlearn: 0.2794513\ttotal: 1.77s\tremaining: 5.32ms\n",
      "997:\tlearn: 0.2793689\ttotal: 1.77s\tremaining: 3.55ms\n",
      "998:\tlearn: 0.2792528\ttotal: 1.77s\tremaining: 1.77ms\n",
      "999:\tlearn: 0.2791322\ttotal: 1.77s\tremaining: 0us\n",
      "F1 = 0.608 AUC-ROC= 0.863\n"
     ]
    }
   ],
   "source": [
    "cbc_cl_w = CatBoostClassifier(auto_class_weights=\"Balanced\",\n",
    "                         random_state=322)\n",
    "cbc_cl_w.fit(features_train, target_train)\n",
    "predicted_valid = cbc_cl_w.predict(features_valid)\n",
    "f1_valid = f1_score(predicted_valid, target_valid)\n",
    "prob_one_valid = cbc_cl_w.predict_proba(features_valid)[:, 1]\n",
    "roc_auc = roc_auc_score(target_valid, prob_one_valid)\n",
    "print('F1 =', f1_valid.round(3), 'AUC-ROC=', roc_auc.round(3))"
   ]
  },
  {
   "cell_type": "markdown",
   "metadata": {},
   "source": [
    "Результаты также улучшились, но хуже, чем у случайного леса."
   ]
  },
  {
   "cell_type": "markdown",
   "metadata": {},
   "source": [
    "#### Дерево решений"
   ]
  },
  {
   "cell_type": "markdown",
   "metadata": {},
   "source": [
    "Проделаем то же самое для дерева решений."
   ]
  },
  {
   "cell_type": "code",
   "execution_count": 33,
   "metadata": {},
   "outputs": [],
   "source": [
    "def objective(trial):\n",
    "    max_depth = trial.suggest_int('max_depth', 3, 50)\n",
    "    min_samples_split = trial.suggest_int('min_samples_split', 2, 30)\n",
    "    min_samples_leaf = trial.suggest_int('min_samples_leaf', 1, 30)\n",
    "    criterion = trial.suggest_categorical('criterion', ['gini', 'entropy'])\n",
    "\n",
    "    dtc = DecisionTreeClassifier(max_depth=max_depth,\n",
    "                                    min_samples_split=min_samples_split,\n",
    "                                    min_samples_leaf=min_samples_leaf,\n",
    "                                    criterion=criterion,\n",
    "                                    class_weight='balanced',\n",
    "                                    random_state=322)\n",
    "\n",
    "    dtc.fit(features_train, target_train)\n",
    "\n",
    "    predicted_valid = dtc.predict(features_valid)\n",
    "\n",
    "    f1 = f1_score(target_valid, predicted_valid)\n",
    "\n",
    "    return f1"
   ]
  },
  {
   "cell_type": "code",
   "execution_count": 34,
   "metadata": {
    "scrolled": true
   },
   "outputs": [
    {
     "name": "stderr",
     "output_type": "stream",
     "text": [
      "\u001b[32m[I 2023-03-15 19:11:11,205]\u001b[0m A new study created in memory with name: no-name-1de9b9f4-7a67-4821-b62b-d66dde2e4c83\u001b[0m\n",
      "\u001b[32m[I 2023-03-15 19:11:11,224]\u001b[0m Trial 0 finished with value: 0.5740932642487047 and parameters: {'max_depth': 17, 'min_samples_split': 27, 'min_samples_leaf': 28, 'criterion': 'gini'}. Best is trial 0 with value: 0.5740932642487047.\u001b[0m\n",
      "\u001b[32m[I 2023-03-15 19:11:11,245]\u001b[0m Trial 1 finished with value: 0.5650048875855328 and parameters: {'max_depth': 38, 'min_samples_split': 9, 'min_samples_leaf': 15, 'criterion': 'gini'}. Best is trial 0 with value: 0.5740932642487047.\u001b[0m\n",
      "\u001b[32m[I 2023-03-15 19:11:11,267]\u001b[0m Trial 2 finished with value: 0.5454545454545455 and parameters: {'max_depth': 39, 'min_samples_split': 10, 'min_samples_leaf': 19, 'criterion': 'entropy'}. Best is trial 0 with value: 0.5740932642487047.\u001b[0m\n",
      "\u001b[32m[I 2023-03-15 19:11:11,286]\u001b[0m Trial 3 finished with value: 0.5688442211055276 and parameters: {'max_depth': 12, 'min_samples_split': 6, 'min_samples_leaf': 23, 'criterion': 'gini'}. Best is trial 0 with value: 0.5740932642487047.\u001b[0m\n",
      "\u001b[32m[I 2023-03-15 19:11:11,304]\u001b[0m Trial 4 finished with value: 0.5705458290422245 and parameters: {'max_depth': 10, 'min_samples_split': 26, 'min_samples_leaf': 29, 'criterion': 'gini'}. Best is trial 0 with value: 0.5740932642487047.\u001b[0m\n",
      "\u001b[32m[I 2023-03-15 19:11:11,329]\u001b[0m Trial 5 finished with value: 0.5288065843621399 and parameters: {'max_depth': 19, 'min_samples_split': 23, 'min_samples_leaf': 10, 'criterion': 'entropy'}. Best is trial 0 with value: 0.5740932642487047.\u001b[0m\n",
      "\u001b[32m[I 2023-03-15 19:11:11,348]\u001b[0m Trial 6 finished with value: 0.5664062500000001 and parameters: {'max_depth': 14, 'min_samples_split': 3, 'min_samples_leaf': 16, 'criterion': 'gini'}. Best is trial 0 with value: 0.5740932642487047.\u001b[0m\n",
      "\u001b[32m[I 2023-03-15 19:11:11,367]\u001b[0m Trial 7 finished with value: 0.5653846153846155 and parameters: {'max_depth': 46, 'min_samples_split': 25, 'min_samples_leaf': 17, 'criterion': 'gini'}. Best is trial 0 with value: 0.5740932642487047.\u001b[0m\n",
      "\u001b[32m[I 2023-03-15 19:11:11,386]\u001b[0m Trial 8 finished with value: 0.5599250936329587 and parameters: {'max_depth': 7, 'min_samples_split': 6, 'min_samples_leaf': 9, 'criterion': 'entropy'}. Best is trial 0 with value: 0.5740932642487047.\u001b[0m\n",
      "\u001b[32m[I 2023-03-15 19:11:11,409]\u001b[0m Trial 9 finished with value: 0.5456255879586077 and parameters: {'max_depth': 29, 'min_samples_split': 30, 'min_samples_leaf': 17, 'criterion': 'entropy'}. Best is trial 0 with value: 0.5740932642487047.\u001b[0m\n",
      "\u001b[32m[I 2023-03-15 19:11:11,435]\u001b[0m Trial 10 finished with value: 0.5740932642487047 and parameters: {'max_depth': 24, 'min_samples_split': 18, 'min_samples_leaf': 28, 'criterion': 'gini'}. Best is trial 0 with value: 0.5740932642487047.\u001b[0m\n",
      "\u001b[32m[I 2023-03-15 19:11:11,463]\u001b[0m Trial 11 finished with value: 0.571715145436309 and parameters: {'max_depth': 26, 'min_samples_split': 16, 'min_samples_leaf': 30, 'criterion': 'gini'}. Best is trial 0 with value: 0.5740932642487047.\u001b[0m\n",
      "\u001b[32m[I 2023-03-15 19:11:11,490]\u001b[0m Trial 12 finished with value: 0.5696594427244582 and parameters: {'max_depth': 23, 'min_samples_split': 19, 'min_samples_leaf': 24, 'criterion': 'gini'}. Best is trial 0 with value: 0.5740932642487047.\u001b[0m\n",
      "\u001b[32m[I 2023-03-15 19:11:11,520]\u001b[0m Trial 13 finished with value: 0.5378868729989328 and parameters: {'max_depth': 32, 'min_samples_split': 16, 'min_samples_leaf': 2, 'criterion': 'gini'}. Best is trial 0 with value: 0.5740932642487047.\u001b[0m\n",
      "\u001b[32m[I 2023-03-15 19:11:11,547]\u001b[0m Trial 14 finished with value: 0.563265306122449 and parameters: {'max_depth': 19, 'min_samples_split': 30, 'min_samples_leaf': 25, 'criterion': 'gini'}. Best is trial 0 with value: 0.5740932642487047.\u001b[0m\n",
      "\u001b[32m[I 2023-03-15 19:11:11,570]\u001b[0m Trial 15 finished with value: 0.5477582846003899 and parameters: {'max_depth': 5, 'min_samples_split': 20, 'min_samples_leaf': 27, 'criterion': 'gini'}. Best is trial 0 with value: 0.5740932642487047.\u001b[0m\n",
      "\u001b[32m[I 2023-03-15 19:11:11,597]\u001b[0m Trial 16 finished with value: 0.5688259109311741 and parameters: {'max_depth': 19, 'min_samples_split': 13, 'min_samples_leaf': 22, 'criterion': 'gini'}. Best is trial 0 with value: 0.5740932642487047.\u001b[0m\n",
      "\u001b[32m[I 2023-03-15 19:11:11,624]\u001b[0m Trial 17 finished with value: 0.5714285714285714 and parameters: {'max_depth': 33, 'min_samples_split': 20, 'min_samples_leaf': 27, 'criterion': 'gini'}. Best is trial 0 with value: 0.5740932642487047.\u001b[0m\n",
      "\u001b[32m[I 2023-03-15 19:11:11,654]\u001b[0m Trial 18 finished with value: 0.5605605605605606 and parameters: {'max_depth': 50, 'min_samples_split': 25, 'min_samples_leaf': 21, 'criterion': 'entropy'}. Best is trial 0 with value: 0.5740932642487047.\u001b[0m\n",
      "\u001b[32m[I 2023-03-15 19:11:11,681]\u001b[0m Trial 19 finished with value: 0.571715145436309 and parameters: {'max_depth': 24, 'min_samples_split': 13, 'min_samples_leaf': 30, 'criterion': 'gini'}. Best is trial 0 with value: 0.5740932642487047.\u001b[0m\n",
      "\u001b[32m[I 2023-03-15 19:11:11,710]\u001b[0m Trial 20 finished with value: 0.5630081300813008 and parameters: {'max_depth': 17, 'min_samples_split': 28, 'min_samples_leaf': 9, 'criterion': 'gini'}. Best is trial 0 with value: 0.5740932642487047.\u001b[0m\n",
      "\u001b[32m[I 2023-03-15 19:11:11,736]\u001b[0m Trial 21 finished with value: 0.571715145436309 and parameters: {'max_depth': 27, 'min_samples_split': 16, 'min_samples_leaf': 30, 'criterion': 'gini'}. Best is trial 0 with value: 0.5740932642487047.\u001b[0m\n",
      "\u001b[32m[I 2023-03-15 19:11:11,763]\u001b[0m Trial 22 finished with value: 0.5714285714285714 and parameters: {'max_depth': 23, 'min_samples_split': 22, 'min_samples_leaf': 27, 'criterion': 'gini'}. Best is trial 0 with value: 0.5740932642487047.\u001b[0m\n",
      "\u001b[32m[I 2023-03-15 19:11:11,790]\u001b[0m Trial 23 finished with value: 0.5667686034658511 and parameters: {'max_depth': 31, 'min_samples_split': 13, 'min_samples_leaf': 26, 'criterion': 'gini'}. Best is trial 0 with value: 0.5740932642487047.\u001b[0m\n",
      "\u001b[32m[I 2023-03-15 19:11:11,817]\u001b[0m Trial 24 finished with value: 0.571715145436309 and parameters: {'max_depth': 37, 'min_samples_split': 18, 'min_samples_leaf': 30, 'criterion': 'gini'}. Best is trial 0 with value: 0.5740932642487047.\u001b[0m\n",
      "\u001b[32m[I 2023-03-15 19:11:11,845]\u001b[0m Trial 25 finished with value: 0.5705705705705706 and parameters: {'max_depth': 25, 'min_samples_split': 22, 'min_samples_leaf': 21, 'criterion': 'gini'}. Best is trial 0 with value: 0.5740932642487047.\u001b[0m\n",
      "\u001b[32m[I 2023-03-15 19:11:11,877]\u001b[0m Trial 26 finished with value: 0.5235707121364093 and parameters: {'max_depth': 16, 'min_samples_split': 17, 'min_samples_leaf': 13, 'criterion': 'entropy'}. Best is trial 0 with value: 0.5740932642487047.\u001b[0m\n",
      "\u001b[32m[I 2023-03-15 19:11:11,905]\u001b[0m Trial 27 finished with value: 0.5740932642487047 and parameters: {'max_depth': 21, 'min_samples_split': 14, 'min_samples_leaf': 28, 'criterion': 'gini'}. Best is trial 0 with value: 0.5740932642487047.\u001b[0m\n",
      "\u001b[32m[I 2023-03-15 19:11:11,932]\u001b[0m Trial 28 finished with value: 0.570539419087137 and parameters: {'max_depth': 11, 'min_samples_split': 11, 'min_samples_leaf': 24, 'criterion': 'gini'}. Best is trial 0 with value: 0.5740932642487047.\u001b[0m\n",
      "\u001b[32m[I 2023-03-15 19:11:11,961]\u001b[0m Trial 29 finished with value: 0.5627450980392157 and parameters: {'max_depth': 21, 'min_samples_split': 7, 'min_samples_leaf': 19, 'criterion': 'gini'}. Best is trial 0 with value: 0.5740932642487047.\u001b[0m\n",
      "\u001b[32m[I 2023-03-15 19:11:11,989]\u001b[0m Trial 30 finished with value: 0.5740932642487047 and parameters: {'max_depth': 35, 'min_samples_split': 14, 'min_samples_leaf': 28, 'criterion': 'gini'}. Best is trial 0 with value: 0.5740932642487047.\u001b[0m\n",
      "\u001b[32m[I 2023-03-15 19:11:12,016]\u001b[0m Trial 31 finished with value: 0.5740932642487047 and parameters: {'max_depth': 36, 'min_samples_split': 14, 'min_samples_leaf': 28, 'criterion': 'gini'}. Best is trial 0 with value: 0.5740932642487047.\u001b[0m\n",
      "\u001b[32m[I 2023-03-15 19:11:12,044]\u001b[0m Trial 32 finished with value: 0.563265306122449 and parameters: {'max_depth': 41, 'min_samples_split': 10, 'min_samples_leaf': 25, 'criterion': 'gini'}. Best is trial 0 with value: 0.5740932642487047.\u001b[0m\n",
      "\u001b[32m[I 2023-03-15 19:11:12,071]\u001b[0m Trial 33 finished with value: 0.5740932642487047 and parameters: {'max_depth': 43, 'min_samples_split': 9, 'min_samples_leaf': 28, 'criterion': 'gini'}. Best is trial 0 with value: 0.5740932642487047.\u001b[0m\n"
     ]
    },
    {
     "name": "stderr",
     "output_type": "stream",
     "text": [
      "\u001b[32m[I 2023-03-15 19:11:12,100]\u001b[0m Trial 34 finished with value: 0.5714285714285714 and parameters: {'max_depth': 28, 'min_samples_split': 11, 'min_samples_leaf': 23, 'criterion': 'gini'}. Best is trial 0 with value: 0.5740932642487047.\u001b[0m\n",
      "\u001b[32m[I 2023-03-15 19:11:12,131]\u001b[0m Trial 35 finished with value: 0.570539419087137 and parameters: {'max_depth': 15, 'min_samples_split': 15, 'min_samples_leaf': 28, 'criterion': 'entropy'}. Best is trial 0 with value: 0.5740932642487047.\u001b[0m\n",
      "\u001b[32m[I 2023-03-15 19:11:12,162]\u001b[0m Trial 36 finished with value: 0.5280172413793103 and parameters: {'max_depth': 35, 'min_samples_split': 2, 'min_samples_leaf': 4, 'criterion': 'gini'}. Best is trial 0 with value: 0.5740932642487047.\u001b[0m\n",
      "\u001b[32m[I 2023-03-15 19:11:12,191]\u001b[0m Trial 37 finished with value: 0.572289156626506 and parameters: {'max_depth': 21, 'min_samples_split': 27, 'min_samples_leaf': 20, 'criterion': 'gini'}. Best is trial 0 with value: 0.5740932642487047.\u001b[0m\n",
      "\u001b[32m[I 2023-03-15 19:11:12,223]\u001b[0m Trial 38 finished with value: 0.5708333333333334 and parameters: {'max_depth': 13, 'min_samples_split': 24, 'min_samples_leaf': 26, 'criterion': 'entropy'}. Best is trial 0 with value: 0.5740932642487047.\u001b[0m\n",
      "\u001b[32m[I 2023-03-15 19:11:12,252]\u001b[0m Trial 39 finished with value: 0.5752855659397715 and parameters: {'max_depth': 8, 'min_samples_split': 12, 'min_samples_leaf': 13, 'criterion': 'gini'}. Best is trial 39 with value: 0.5752855659397715.\u001b[0m\n",
      "\u001b[32m[I 2023-03-15 19:11:12,280]\u001b[0m Trial 40 finished with value: 0.5752855659397715 and parameters: {'max_depth': 8, 'min_samples_split': 7, 'min_samples_leaf': 13, 'criterion': 'gini'}. Best is trial 39 with value: 0.5752855659397715.\u001b[0m\n",
      "\u001b[32m[I 2023-03-15 19:11:12,300]\u001b[0m Trial 41 finished with value: 0.5392051557465092 and parameters: {'max_depth': 3, 'min_samples_split': 4, 'min_samples_leaf': 12, 'criterion': 'gini'}. Best is trial 39 with value: 0.5752855659397715.\u001b[0m\n",
      "\u001b[32m[I 2023-03-15 19:11:12,328]\u001b[0m Trial 42 finished with value: 0.5820433436532508 and parameters: {'max_depth': 8, 'min_samples_split': 8, 'min_samples_leaf': 15, 'criterion': 'gini'}. Best is trial 42 with value: 0.5820433436532508.\u001b[0m\n",
      "\u001b[32m[I 2023-03-15 19:11:12,355]\u001b[0m Trial 43 finished with value: 0.5634075508228461 and parameters: {'max_depth': 7, 'min_samples_split': 8, 'min_samples_leaf': 13, 'criterion': 'gini'}. Best is trial 42 with value: 0.5820433436532508.\u001b[0m\n",
      "\u001b[32m[I 2023-03-15 19:11:12,382]\u001b[0m Trial 44 finished with value: 0.5820433436532508 and parameters: {'max_depth': 8, 'min_samples_split': 5, 'min_samples_leaf': 15, 'criterion': 'gini'}. Best is trial 42 with value: 0.5820433436532508.\u001b[0m\n",
      "\u001b[32m[I 2023-03-15 19:11:12,410]\u001b[0m Trial 45 finished with value: 0.5798575788402849 and parameters: {'max_depth': 9, 'min_samples_split': 5, 'min_samples_leaf': 15, 'criterion': 'gini'}. Best is trial 42 with value: 0.5820433436532508.\u001b[0m\n",
      "\u001b[32m[I 2023-03-15 19:11:12,439]\u001b[0m Trial 46 finished with value: 0.5798575788402849 and parameters: {'max_depth': 9, 'min_samples_split': 5, 'min_samples_leaf': 15, 'criterion': 'gini'}. Best is trial 42 with value: 0.5820433436532508.\u001b[0m\n",
      "\u001b[32m[I 2023-03-15 19:11:12,469]\u001b[0m Trial 47 finished with value: 0.5798575788402849 and parameters: {'max_depth': 9, 'min_samples_split': 4, 'min_samples_leaf': 15, 'criterion': 'gini'}. Best is trial 42 with value: 0.5820433436532508.\u001b[0m\n",
      "\u001b[32m[I 2023-03-15 19:11:12,502]\u001b[0m Trial 48 finished with value: 0.5478348439073515 and parameters: {'max_depth': 10, 'min_samples_split': 4, 'min_samples_leaf': 15, 'criterion': 'entropy'}. Best is trial 42 with value: 0.5820433436532508.\u001b[0m\n",
      "\u001b[32m[I 2023-03-15 19:11:12,524]\u001b[0m Trial 49 finished with value: 0.5392051557465092 and parameters: {'max_depth': 3, 'min_samples_split': 5, 'min_samples_leaf': 18, 'criterion': 'gini'}. Best is trial 42 with value: 0.5820433436532508.\u001b[0m\n",
      "\u001b[32m[I 2023-03-15 19:11:12,549]\u001b[0m Trial 50 finished with value: 0.5585054080629303 and parameters: {'max_depth': 5, 'min_samples_split': 3, 'min_samples_leaf': 16, 'criterion': 'gini'}. Best is trial 42 with value: 0.5820433436532508.\u001b[0m\n",
      "\u001b[32m[I 2023-03-15 19:11:12,577]\u001b[0m Trial 51 finished with value: 0.5705645161290323 and parameters: {'max_depth': 9, 'min_samples_split': 6, 'min_samples_leaf': 11, 'criterion': 'gini'}. Best is trial 42 with value: 0.5820433436532508.\u001b[0m\n",
      "\u001b[32m[I 2023-03-15 19:11:12,608]\u001b[0m Trial 52 finished with value: 0.5685884691848906 and parameters: {'max_depth': 12, 'min_samples_split': 5, 'min_samples_leaf': 15, 'criterion': 'gini'}. Best is trial 42 with value: 0.5820433436532508.\u001b[0m\n",
      "\u001b[32m[I 2023-03-15 19:11:12,634]\u001b[0m Trial 53 finished with value: 0.5678537054860443 and parameters: {'max_depth': 6, 'min_samples_split': 2, 'min_samples_leaf': 14, 'criterion': 'gini'}. Best is trial 42 with value: 0.5820433436532508.\u001b[0m\n",
      "\u001b[32m[I 2023-03-15 19:11:12,663]\u001b[0m Trial 54 finished with value: 0.566990291262136 and parameters: {'max_depth': 14, 'min_samples_split': 8, 'min_samples_leaf': 17, 'criterion': 'gini'}. Best is trial 42 with value: 0.5820433436532508.\u001b[0m\n",
      "\u001b[32m[I 2023-03-15 19:11:12,693]\u001b[0m Trial 55 finished with value: 0.5556690500510726 and parameters: {'max_depth': 10, 'min_samples_split': 5, 'min_samples_leaf': 8, 'criterion': 'gini'}. Best is trial 42 with value: 0.5820433436532508.\u001b[0m\n",
      "\u001b[32m[I 2023-03-15 19:11:12,723]\u001b[0m Trial 56 finished with value: 0.5809128630705395 and parameters: {'max_depth': 8, 'min_samples_split': 7, 'min_samples_leaf': 11, 'criterion': 'gini'}. Best is trial 42 with value: 0.5820433436532508.\u001b[0m\n",
      "\u001b[32m[I 2023-03-15 19:11:12,754]\u001b[0m Trial 57 finished with value: 0.5436893203883495 and parameters: {'max_depth': 12, 'min_samples_split': 7, 'min_samples_leaf': 7, 'criterion': 'gini'}. Best is trial 42 with value: 0.5820433436532508.\u001b[0m\n",
      "\u001b[32m[I 2023-03-15 19:11:12,777]\u001b[0m Trial 58 finished with value: 0.5555555555555556 and parameters: {'max_depth': 5, 'min_samples_split': 3, 'min_samples_leaf': 11, 'criterion': 'gini'}. Best is trial 42 with value: 0.5820433436532508.\u001b[0m\n",
      "\u001b[32m[I 2023-03-15 19:11:12,807]\u001b[0m Trial 59 finished with value: 0.5662535748331744 and parameters: {'max_depth': 7, 'min_samples_split': 9, 'min_samples_leaf': 16, 'criterion': 'entropy'}. Best is trial 42 with value: 0.5820433436532508.\u001b[0m\n",
      "\u001b[32m[I 2023-03-15 19:11:12,829]\u001b[0m Trial 60 finished with value: 0.5350795135640786 and parameters: {'max_depth': 4, 'min_samples_split': 4, 'min_samples_leaf': 17, 'criterion': 'gini'}. Best is trial 42 with value: 0.5820433436532508.\u001b[0m\n",
      "\u001b[32m[I 2023-03-15 19:11:12,858]\u001b[0m Trial 61 finished with value: 0.5740181268882175 and parameters: {'max_depth': 9, 'min_samples_split': 6, 'min_samples_leaf': 14, 'criterion': 'gini'}. Best is trial 42 with value: 0.5820433436532508.\u001b[0m\n",
      "\u001b[32m[I 2023-03-15 19:11:12,886]\u001b[0m Trial 62 finished with value: 0.5809128630705395 and parameters: {'max_depth': 8, 'min_samples_split': 8, 'min_samples_leaf': 11, 'criterion': 'gini'}. Best is trial 42 with value: 0.5820433436532508.\u001b[0m\n",
      "\u001b[32m[I 2023-03-15 19:11:12,915]\u001b[0m Trial 63 finished with value: 0.5496489468405216 and parameters: {'max_depth': 11, 'min_samples_split': 8, 'min_samples_leaf': 10, 'criterion': 'gini'}. Best is trial 42 with value: 0.5820433436532508.\u001b[0m\n",
      "\u001b[32m[I 2023-03-15 19:11:12,941]\u001b[0m Trial 64 finished with value: 0.5678537054860443 and parameters: {'max_depth': 6, 'min_samples_split': 6, 'min_samples_leaf': 14, 'criterion': 'gini'}. Best is trial 42 with value: 0.5820433436532508.\u001b[0m\n",
      "\u001b[32m[I 2023-03-15 19:11:12,972]\u001b[0m Trial 65 finished with value: 0.5517241379310345 and parameters: {'max_depth': 17, 'min_samples_split': 3, 'min_samples_leaf': 6, 'criterion': 'gini'}. Best is trial 42 with value: 0.5820433436532508.\u001b[0m\n",
      "\u001b[32m[I 2023-03-15 19:11:13,001]\u001b[0m Trial 66 finished with value: 0.5705645161290323 and parameters: {'max_depth': 9, 'min_samples_split': 5, 'min_samples_leaf': 11, 'criterion': 'gini'}. Best is trial 42 with value: 0.5820433436532508.\u001b[0m\n",
      "\u001b[32m[I 2023-03-15 19:11:13,031]\u001b[0m Trial 67 finished with value: 0.5655172413793104 and parameters: {'max_depth': 14, 'min_samples_split': 7, 'min_samples_leaf': 18, 'criterion': 'gini'}. Best is trial 42 with value: 0.5820433436532508.\u001b[0m\n"
     ]
    },
    {
     "name": "stderr",
     "output_type": "stream",
     "text": [
      "\u001b[32m[I 2023-03-15 19:11:13,061]\u001b[0m Trial 68 finished with value: 0.5612968591691996 and parameters: {'max_depth': 11, 'min_samples_split': 10, 'min_samples_leaf': 12, 'criterion': 'gini'}. Best is trial 42 with value: 0.5820433436532508.\u001b[0m\n",
      "\u001b[32m[I 2023-03-15 19:11:13,088]\u001b[0m Trial 69 finished with value: 0.5626204238921001 and parameters: {'max_depth': 7, 'min_samples_split': 4, 'min_samples_leaf': 9, 'criterion': 'gini'}. Best is trial 42 with value: 0.5820433436532508.\u001b[0m\n",
      "\u001b[32m[I 2023-03-15 19:11:13,118]\u001b[0m Trial 70 finished with value: 0.5677546983184966 and parameters: {'max_depth': 13, 'min_samples_split': 9, 'min_samples_leaf': 15, 'criterion': 'gini'}. Best is trial 42 with value: 0.5820433436532508.\u001b[0m\n",
      "\u001b[32m[I 2023-03-15 19:11:13,146]\u001b[0m Trial 71 finished with value: 0.5737874097007225 and parameters: {'max_depth': 8, 'min_samples_split': 11, 'min_samples_leaf': 12, 'criterion': 'gini'}. Best is trial 42 with value: 0.5820433436532508.\u001b[0m\n",
      "\u001b[32m[I 2023-03-15 19:11:13,177]\u001b[0m Trial 72 finished with value: 0.5781409601634321 and parameters: {'max_depth': 8, 'min_samples_split': 12, 'min_samples_leaf': 14, 'criterion': 'gini'}. Best is trial 42 with value: 0.5820433436532508.\u001b[0m\n",
      "\u001b[32m[I 2023-03-15 19:11:13,200]\u001b[0m Trial 73 finished with value: 0.5350795135640786 and parameters: {'max_depth': 4, 'min_samples_split': 8, 'min_samples_leaf': 18, 'criterion': 'gini'}. Best is trial 42 with value: 0.5820433436532508.\u001b[0m\n",
      "\u001b[32m[I 2023-03-15 19:11:13,226]\u001b[0m Trial 74 finished with value: 0.5678537054860443 and parameters: {'max_depth': 6, 'min_samples_split': 6, 'min_samples_leaf': 16, 'criterion': 'gini'}. Best is trial 42 with value: 0.5820433436532508.\u001b[0m\n",
      "\u001b[32m[I 2023-03-15 19:11:13,256]\u001b[0m Trial 75 finished with value: 0.5645645645645646 and parameters: {'max_depth': 10, 'min_samples_split': 2, 'min_samples_leaf': 14, 'criterion': 'gini'}. Best is trial 42 with value: 0.5820433436532508.\u001b[0m\n",
      "\u001b[32m[I 2023-03-15 19:11:13,290]\u001b[0m Trial 76 finished with value: 0.5431619786614937 and parameters: {'max_depth': 15, 'min_samples_split': 10, 'min_samples_leaf': 15, 'criterion': 'entropy'}. Best is trial 42 with value: 0.5820433436532508.\u001b[0m\n",
      "\u001b[32m[I 2023-03-15 19:11:13,321]\u001b[0m Trial 77 finished with value: 0.5581874356333677 and parameters: {'max_depth': 12, 'min_samples_split': 7, 'min_samples_leaf': 10, 'criterion': 'gini'}. Best is trial 42 with value: 0.5820433436532508.\u001b[0m\n",
      "\u001b[32m[I 2023-03-15 19:11:13,350]\u001b[0m Trial 78 finished with value: 0.576 and parameters: {'max_depth': 8, 'min_samples_split': 5, 'min_samples_leaf': 17, 'criterion': 'gini'}. Best is trial 42 with value: 0.5820433436532508.\u001b[0m\n",
      "\u001b[32m[I 2023-03-15 19:11:13,373]\u001b[0m Trial 79 finished with value: 0.5320754716981132 and parameters: {'max_depth': 4, 'min_samples_split': 8, 'min_samples_leaf': 13, 'criterion': 'gini'}. Best is trial 42 with value: 0.5820433436532508.\u001b[0m\n",
      "\u001b[32m[I 2023-03-15 19:11:13,402]\u001b[0m Trial 80 finished with value: 0.5803108808290155 and parameters: {'max_depth': 9, 'min_samples_split': 12, 'min_samples_leaf': 19, 'criterion': 'gini'}. Best is trial 42 with value: 0.5820433436532508.\u001b[0m\n",
      "\u001b[32m[I 2023-03-15 19:11:13,431]\u001b[0m Trial 81 finished with value: 0.5803108808290155 and parameters: {'max_depth': 9, 'min_samples_split': 12, 'min_samples_leaf': 19, 'criterion': 'gini'}. Best is trial 42 with value: 0.5820433436532508.\u001b[0m\n",
      "\u001b[32m[I 2023-03-15 19:11:13,461]\u001b[0m Trial 82 finished with value: 0.5737373737373738 and parameters: {'max_depth': 11, 'min_samples_split': 12, 'min_samples_leaf': 20, 'criterion': 'gini'}. Best is trial 42 with value: 0.5820433436532508.\u001b[0m\n",
      "\u001b[32m[I 2023-03-15 19:11:13,491]\u001b[0m Trial 83 finished with value: 0.5803108808290155 and parameters: {'max_depth': 9, 'min_samples_split': 10, 'min_samples_leaf': 19, 'criterion': 'gini'}. Best is trial 42 with value: 0.5820433436532508.\u001b[0m\n",
      "\u001b[32m[I 2023-03-15 19:11:13,517]\u001b[0m Trial 84 finished with value: 0.5667627281460134 and parameters: {'max_depth': 6, 'min_samples_split': 9, 'min_samples_leaf': 19, 'criterion': 'gini'}. Best is trial 42 with value: 0.5820433436532508.\u001b[0m\n",
      "\u001b[32m[I 2023-03-15 19:11:13,548]\u001b[0m Trial 85 finished with value: 0.5705705705705706 and parameters: {'max_depth': 13, 'min_samples_split': 10, 'min_samples_leaf': 21, 'criterion': 'gini'}. Best is trial 42 with value: 0.5820433436532508.\u001b[0m\n",
      "\u001b[32m[I 2023-03-15 19:11:13,578]\u001b[0m Trial 86 finished with value: 0.5661914460285131 and parameters: {'max_depth': 10, 'min_samples_split': 11, 'min_samples_leaf': 19, 'criterion': 'gini'}. Best is trial 42 with value: 0.5820433436532508.\u001b[0m\n",
      "\u001b[32m[I 2023-03-15 19:11:13,605]\u001b[0m Trial 87 finished with value: 0.5681159420289855 and parameters: {'max_depth': 7, 'min_samples_split': 13, 'min_samples_leaf': 22, 'criterion': 'gini'}. Best is trial 42 with value: 0.5820433436532508.\u001b[0m\n",
      "\u001b[32m[I 2023-03-15 19:11:13,633]\u001b[0m Trial 88 finished with value: 0.5513413506012952 and parameters: {'max_depth': 5, 'min_samples_split': 15, 'min_samples_leaf': 20, 'criterion': 'entropy'}. Best is trial 42 with value: 0.5820433436532508.\u001b[0m\n",
      "\u001b[32m[I 2023-03-15 19:11:13,664]\u001b[0m Trial 89 finished with value: 0.5636007827788649 and parameters: {'max_depth': 16, 'min_samples_split': 7, 'min_samples_leaf': 18, 'criterion': 'gini'}. Best is trial 42 with value: 0.5820433436532508.\u001b[0m\n",
      "\u001b[32m[I 2023-03-15 19:11:13,687]\u001b[0m Trial 90 finished with value: 0.5392051557465092 and parameters: {'max_depth': 3, 'min_samples_split': 6, 'min_samples_leaf': 22, 'criterion': 'gini'}. Best is trial 42 with value: 0.5820433436532508.\u001b[0m\n",
      "\u001b[32m[I 2023-03-15 19:11:13,717]\u001b[0m Trial 91 finished with value: 0.5820433436532508 and parameters: {'max_depth': 8, 'min_samples_split': 4, 'min_samples_leaf': 16, 'criterion': 'gini'}. Best is trial 42 with value: 0.5820433436532508.\u001b[0m\n",
      "\u001b[32m[I 2023-03-15 19:11:13,747]\u001b[0m Trial 92 finished with value: 0.5798575788402849 and parameters: {'max_depth': 9, 'min_samples_split': 9, 'min_samples_leaf': 16, 'criterion': 'gini'}. Best is trial 42 with value: 0.5820433436532508.\u001b[0m\n",
      "\u001b[32m[I 2023-03-15 19:11:13,778]\u001b[0m Trial 93 finished with value: 0.5643564356435643 and parameters: {'max_depth': 11, 'min_samples_split': 3, 'min_samples_leaf': 19, 'criterion': 'gini'}. Best is trial 42 with value: 0.5820433436532508.\u001b[0m\n",
      "\u001b[32m[I 2023-03-15 19:11:13,807]\u001b[0m Trial 94 finished with value: 0.576 and parameters: {'max_depth': 8, 'min_samples_split': 5, 'min_samples_leaf': 17, 'criterion': 'gini'}. Best is trial 42 with value: 0.5820433436532508.\u001b[0m\n",
      "\u001b[32m[I 2023-03-15 19:11:13,834]\u001b[0m Trial 95 finished with value: 0.5667627281460134 and parameters: {'max_depth': 6, 'min_samples_split': 7, 'min_samples_leaf': 17, 'criterion': 'gini'}. Best is trial 42 with value: 0.5820433436532508.\u001b[0m\n",
      "\u001b[32m[I 2023-03-15 19:11:13,864]\u001b[0m Trial 96 finished with value: 0.5656970912738215 and parameters: {'max_depth': 10, 'min_samples_split': 8, 'min_samples_leaf': 18, 'criterion': 'gini'}. Best is trial 42 with value: 0.5820433436532508.\u001b[0m\n",
      "\u001b[32m[I 2023-03-15 19:11:13,894]\u001b[0m Trial 97 finished with value: 0.5737373737373738 and parameters: {'max_depth': 12, 'min_samples_split': 6, 'min_samples_leaf': 20, 'criterion': 'gini'}. Best is trial 42 with value: 0.5820433436532508.\u001b[0m\n",
      "\u001b[32m[I 2023-03-15 19:11:13,923]\u001b[0m Trial 98 finished with value: 0.5575992255566312 and parameters: {'max_depth': 7, 'min_samples_split': 4, 'min_samples_leaf': 1, 'criterion': 'gini'}. Best is trial 42 with value: 0.5820433436532508.\u001b[0m\n",
      "\u001b[32m[I 2023-03-15 19:11:13,948]\u001b[0m Trial 99 finished with value: 0.5555555555555556 and parameters: {'max_depth': 5, 'min_samples_split': 10, 'min_samples_leaf': 12, 'criterion': 'gini'}. Best is trial 42 with value: 0.5820433436532508.\u001b[0m\n",
      "\u001b[32m[I 2023-03-15 19:11:13,978]\u001b[0m Trial 100 finished with value: 0.5798575788402849 and parameters: {'max_depth': 9, 'min_samples_split': 12, 'min_samples_leaf': 16, 'criterion': 'gini'}. Best is trial 42 with value: 0.5820433436532508.\u001b[0m\n",
      "\u001b[32m[I 2023-03-15 19:11:14,008]\u001b[0m Trial 101 finished with value: 0.5798575788402849 and parameters: {'max_depth': 9, 'min_samples_split': 4, 'min_samples_leaf': 15, 'criterion': 'gini'}. Best is trial 42 with value: 0.5820433436532508.\u001b[0m\n"
     ]
    },
    {
     "name": "stderr",
     "output_type": "stream",
     "text": [
      "\u001b[32m[I 2023-03-15 19:11:14,039]\u001b[0m Trial 102 finished with value: 0.5660749506903353 and parameters: {'max_depth': 11, 'min_samples_split': 5, 'min_samples_leaf': 14, 'criterion': 'gini'}. Best is trial 42 with value: 0.5820433436532508.\u001b[0m\n",
      "\u001b[32m[I 2023-03-15 19:11:14,067]\u001b[0m Trial 103 finished with value: 0.5662535748331744 and parameters: {'max_depth': 7, 'min_samples_split': 3, 'min_samples_leaf': 15, 'criterion': 'gini'}. Best is trial 42 with value: 0.5820433436532508.\u001b[0m\n",
      "\u001b[32m[I 2023-03-15 19:11:14,098]\u001b[0m Trial 104 finished with value: 0.5705705705705706 and parameters: {'max_depth': 14, 'min_samples_split': 6, 'min_samples_leaf': 21, 'criterion': 'gini'}. Best is trial 42 with value: 0.5820433436532508.\u001b[0m\n",
      "\u001b[32m[I 2023-03-15 19:11:14,127]\u001b[0m Trial 105 finished with value: 0.5752855659397715 and parameters: {'max_depth': 8, 'min_samples_split': 9, 'min_samples_leaf': 13, 'criterion': 'gini'}. Best is trial 42 with value: 0.5820433436532508.\u001b[0m\n",
      "\u001b[32m[I 2023-03-15 19:11:14,162]\u001b[0m Trial 106 finished with value: 0.5475956820412169 and parameters: {'max_depth': 10, 'min_samples_split': 2, 'min_samples_leaf': 18, 'criterion': 'entropy'}. Best is trial 42 with value: 0.5820433436532508.\u001b[0m\n",
      "\u001b[32m[I 2023-03-15 19:11:14,199]\u001b[0m Trial 107 finished with value: 0.568338249754179 and parameters: {'max_depth': 13, 'min_samples_split': 5, 'min_samples_leaf': 16, 'criterion': 'gini'}. Best is trial 42 with value: 0.5820433436532508.\u001b[0m\n",
      "\u001b[32m[I 2023-03-15 19:11:14,223]\u001b[0m Trial 108 finished with value: 0.5320754716981132 and parameters: {'max_depth': 4, 'min_samples_split': 4, 'min_samples_leaf': 11, 'criterion': 'gini'}. Best is trial 42 with value: 0.5820433436532508.\u001b[0m\n",
      "\u001b[32m[I 2023-03-15 19:11:14,254]\u001b[0m Trial 109 finished with value: 0.5627450980392157 and parameters: {'max_depth': 18, 'min_samples_split': 11, 'min_samples_leaf': 19, 'criterion': 'gini'}. Best is trial 42 with value: 0.5820433436532508.\u001b[0m\n",
      "\u001b[32m[I 2023-03-15 19:11:14,285]\u001b[0m Trial 110 finished with value: 0.5486182190378711 and parameters: {'max_depth': 10, 'min_samples_split': 7, 'min_samples_leaf': 10, 'criterion': 'gini'}. Best is trial 42 with value: 0.5820433436532508.\u001b[0m\n",
      "\u001b[32m[I 2023-03-15 19:11:14,315]\u001b[0m Trial 111 finished with value: 0.5806451612903225 and parameters: {'max_depth': 9, 'min_samples_split': 9, 'min_samples_leaf': 17, 'criterion': 'gini'}. Best is trial 42 with value: 0.5820433436532508.\u001b[0m\n",
      "\u001b[32m[I 2023-03-15 19:11:14,343]\u001b[0m Trial 112 finished with value: 0.5667627281460134 and parameters: {'max_depth': 6, 'min_samples_split': 8, 'min_samples_leaf': 17, 'criterion': 'gini'}. Best is trial 42 with value: 0.5820433436532508.\u001b[0m\n",
      "\u001b[32m[I 2023-03-15 19:11:14,373]\u001b[0m Trial 113 finished with value: 0.5820433436532508 and parameters: {'max_depth': 8, 'min_samples_split': 6, 'min_samples_leaf': 15, 'criterion': 'gini'}. Best is trial 42 with value: 0.5820433436532508.\u001b[0m\n",
      "\u001b[32m[I 2023-03-15 19:11:14,402]\u001b[0m Trial 114 finished with value: 0.5820433436532508 and parameters: {'max_depth': 8, 'min_samples_split': 9, 'min_samples_leaf': 16, 'criterion': 'gini'}. Best is trial 42 with value: 0.5820433436532508.\u001b[0m\n",
      "\u001b[32m[I 2023-03-15 19:11:14,432]\u001b[0m Trial 115 finished with value: 0.5820433436532508 and parameters: {'max_depth': 8, 'min_samples_split': 10, 'min_samples_leaf': 16, 'criterion': 'gini'}. Best is trial 42 with value: 0.5820433436532508.\u001b[0m\n",
      "\u001b[32m[I 2023-03-15 19:11:14,458]\u001b[0m Trial 116 finished with value: 0.5585054080629303 and parameters: {'max_depth': 5, 'min_samples_split': 10, 'min_samples_leaf': 18, 'criterion': 'gini'}. Best is trial 42 with value: 0.5820433436532508.\u001b[0m\n",
      "\u001b[32m[I 2023-03-15 19:11:14,487]\u001b[0m Trial 117 finished with value: 0.5662535748331744 and parameters: {'max_depth': 7, 'min_samples_split': 9, 'min_samples_leaf': 16, 'criterion': 'gini'}. Best is trial 42 with value: 0.5820433436532508.\u001b[0m\n",
      "\u001b[32m[I 2023-03-15 19:11:14,517]\u001b[0m Trial 118 finished with value: 0.576 and parameters: {'max_depth': 8, 'min_samples_split': 11, 'min_samples_leaf': 17, 'criterion': 'gini'}. Best is trial 42 with value: 0.5820433436532508.\u001b[0m\n",
      "\u001b[32m[I 2023-03-15 19:11:14,548]\u001b[0m Trial 119 finished with value: 0.5643564356435643 and parameters: {'max_depth': 11, 'min_samples_split': 12, 'min_samples_leaf': 19, 'criterion': 'gini'}. Best is trial 42 with value: 0.5820433436532508.\u001b[0m\n",
      "\u001b[32m[I 2023-03-15 19:11:14,577]\u001b[0m Trial 120 finished with value: 0.5667627281460134 and parameters: {'max_depth': 6, 'min_samples_split': 9, 'min_samples_leaf': 17, 'criterion': 'gini'}. Best is trial 42 with value: 0.5820433436532508.\u001b[0m\n",
      "\u001b[32m[I 2023-03-15 19:11:14,611]\u001b[0m Trial 121 finished with value: 0.5650048875855328 and parameters: {'max_depth': 48, 'min_samples_split': 8, 'min_samples_leaf': 15, 'criterion': 'gini'}. Best is trial 42 with value: 0.5820433436532508.\u001b[0m\n",
      "\u001b[32m[I 2023-03-15 19:11:14,643]\u001b[0m Trial 122 finished with value: 0.5781409601634321 and parameters: {'max_depth': 8, 'min_samples_split': 13, 'min_samples_leaf': 14, 'criterion': 'gini'}. Best is trial 42 with value: 0.5820433436532508.\u001b[0m\n",
      "\u001b[32m[I 2023-03-15 19:11:14,678]\u001b[0m Trial 123 finished with value: 0.5666991236611489 and parameters: {'max_depth': 30, 'min_samples_split': 7, 'min_samples_leaf': 16, 'criterion': 'gini'}. Best is trial 42 with value: 0.5820433436532508.\u001b[0m\n",
      "\u001b[32m[I 2023-03-15 19:11:14,711]\u001b[0m Trial 124 finished with value: 0.5888538380651945 and parameters: {'max_depth': 9, 'min_samples_split': 11, 'min_samples_leaf': 20, 'criterion': 'gini'}. Best is trial 124 with value: 0.5888538380651945.\u001b[0m\n",
      "\u001b[32m[I 2023-03-15 19:11:14,743]\u001b[0m Trial 125 finished with value: 0.5737373737373738 and parameters: {'max_depth': 12, 'min_samples_split': 10, 'min_samples_leaf': 20, 'criterion': 'gini'}. Best is trial 124 with value: 0.5888538380651945.\u001b[0m\n",
      "\u001b[32m[I 2023-03-15 19:11:14,773]\u001b[0m Trial 126 finished with value: 0.5711538461538461 and parameters: {'max_depth': 7, 'min_samples_split': 11, 'min_samples_leaf': 21, 'criterion': 'gini'}. Best is trial 124 with value: 0.5888538380651945.\u001b[0m\n",
      "\u001b[32m[I 2023-03-15 19:11:14,807]\u001b[0m Trial 127 finished with value: 0.5731832139201637 and parameters: {'max_depth': 9, 'min_samples_split': 13, 'min_samples_leaf': 23, 'criterion': 'entropy'}. Best is trial 124 with value: 0.5888538380651945.\u001b[0m\n",
      "\u001b[32m[I 2023-03-15 19:11:14,840]\u001b[0m Trial 128 finished with value: 0.5556690500510726 and parameters: {'max_depth': 10, 'min_samples_split': 10, 'min_samples_leaf': 8, 'criterion': 'gini'}. Best is trial 124 with value: 0.5888538380651945.\u001b[0m\n",
      "\u001b[32m[I 2023-03-15 19:11:14,867]\u001b[0m Trial 129 finished with value: 0.5585054080629303 and parameters: {'max_depth': 5, 'min_samples_split': 14, 'min_samples_leaf': 19, 'criterion': 'gini'}. Best is trial 124 with value: 0.5888538380651945.\u001b[0m\n",
      "\u001b[32m[I 2023-03-15 19:11:14,899]\u001b[0m Trial 130 finished with value: 0.5643469971401335 and parameters: {'max_depth': 7, 'min_samples_split': 8, 'min_samples_leaf': 18, 'criterion': 'gini'}. Best is trial 124 with value: 0.5888538380651945.\u001b[0m\n",
      "\u001b[32m[I 2023-03-15 19:11:14,930]\u001b[0m Trial 131 finished with value: 0.5720122574055159 and parameters: {'max_depth': 9, 'min_samples_split': 11, 'min_samples_leaf': 13, 'criterion': 'gini'}. Best is trial 124 with value: 0.5888538380651945.\u001b[0m\n",
      "\u001b[32m[I 2023-03-15 19:11:14,961]\u001b[0m Trial 132 finished with value: 0.5820433436532508 and parameters: {'max_depth': 8, 'min_samples_split': 9, 'min_samples_leaf': 16, 'criterion': 'gini'}. Best is trial 124 with value: 0.5888538380651945.\u001b[0m\n",
      "\u001b[32m[I 2023-03-15 19:11:14,992]\u001b[0m Trial 133 finished with value: 0.5820433436532508 and parameters: {'max_depth': 8, 'min_samples_split': 9, 'min_samples_leaf': 16, 'criterion': 'gini'}. Best is trial 124 with value: 0.5888538380651945.\u001b[0m\n",
      "\u001b[32m[I 2023-03-15 19:11:15,020]\u001b[0m Trial 134 finished with value: 0.5678537054860443 and parameters: {'max_depth': 6, 'min_samples_split': 9, 'min_samples_leaf': 16, 'criterion': 'gini'}. Best is trial 124 with value: 0.5888538380651945.\u001b[0m\n",
      "\u001b[32m[I 2023-03-15 19:11:15,050]\u001b[0m Trial 135 finished with value: 0.5781409601634321 and parameters: {'max_depth': 8, 'min_samples_split': 9, 'min_samples_leaf': 14, 'criterion': 'gini'}. Best is trial 124 with value: 0.5888538380651945.\u001b[0m\n"
     ]
    },
    {
     "name": "stderr",
     "output_type": "stream",
     "text": [
      "\u001b[32m[I 2023-03-15 19:11:15,083]\u001b[0m Trial 136 finished with value: 0.566990291262136 and parameters: {'max_depth': 11, 'min_samples_split': 8, 'min_samples_leaf': 17, 'criterion': 'gini'}. Best is trial 124 with value: 0.5888538380651945.\u001b[0m\n",
      "\u001b[32m[I 2023-03-15 19:11:15,108]\u001b[0m Trial 137 finished with value: 0.5350795135640786 and parameters: {'max_depth': 4, 'min_samples_split': 6, 'min_samples_leaf': 16, 'criterion': 'gini'}. Best is trial 124 with value: 0.5888538380651945.\u001b[0m\n",
      "\u001b[32m[I 2023-03-15 19:11:15,140]\u001b[0m Trial 138 finished with value: 0.5527638190954774 and parameters: {'max_depth': 8, 'min_samples_split': 7, 'min_samples_leaf': 4, 'criterion': 'gini'}. Best is trial 124 with value: 0.5888538380651945.\u001b[0m\n",
      "\u001b[32m[I 2023-03-15 19:11:15,173]\u001b[0m Trial 139 finished with value: 0.563691073219659 and parameters: {'max_depth': 10, 'min_samples_split': 9, 'min_samples_leaf': 15, 'criterion': 'gini'}. Best is trial 124 with value: 0.5888538380651945.\u001b[0m\n",
      "\u001b[32m[I 2023-03-15 19:11:15,206]\u001b[0m Trial 140 finished with value: 0.5673175745118192 and parameters: {'max_depth': 12, 'min_samples_split': 8, 'min_samples_leaf': 12, 'criterion': 'gini'}. Best is trial 124 with value: 0.5888538380651945.\u001b[0m\n",
      "\u001b[32m[I 2023-03-15 19:11:15,239]\u001b[0m Trial 141 finished with value: 0.572289156626506 and parameters: {'max_depth': 39, 'min_samples_split': 10, 'min_samples_leaf': 20, 'criterion': 'gini'}. Best is trial 124 with value: 0.5888538380651945.\u001b[0m\n",
      "\u001b[32m[I 2023-03-15 19:11:15,271]\u001b[0m Trial 142 finished with value: 0.5806451612903225 and parameters: {'max_depth': 9, 'min_samples_split': 12, 'min_samples_leaf': 17, 'criterion': 'gini'}. Best is trial 124 with value: 0.5888538380651945.\u001b[0m\n",
      "\u001b[32m[I 2023-03-15 19:11:15,300]\u001b[0m Trial 143 finished with value: 0.5662535748331744 and parameters: {'max_depth': 7, 'min_samples_split': 12, 'min_samples_leaf': 16, 'criterion': 'gini'}. Best is trial 124 with value: 0.5888538380651945.\u001b[0m\n",
      "\u001b[32m[I 2023-03-15 19:11:15,336]\u001b[0m Trial 144 finished with value: 0.5795918367346939 and parameters: {'max_depth': 9, 'min_samples_split': 13, 'min_samples_leaf': 18, 'criterion': 'gini'}. Best is trial 124 with value: 0.5888538380651945.\u001b[0m\n",
      "\u001b[32m[I 2023-03-15 19:11:15,365]\u001b[0m Trial 145 finished with value: 0.5667627281460134 and parameters: {'max_depth': 6, 'min_samples_split': 12, 'min_samples_leaf': 17, 'criterion': 'gini'}. Best is trial 124 with value: 0.5888538380651945.\u001b[0m\n",
      "\u001b[32m[I 2023-03-15 19:11:15,395]\u001b[0m Trial 146 finished with value: 0.576 and parameters: {'max_depth': 8, 'min_samples_split': 15, 'min_samples_leaf': 17, 'criterion': 'gini'}. Best is trial 124 with value: 0.5888538380651945.\u001b[0m\n",
      "\u001b[32m[I 2023-03-15 19:11:15,428]\u001b[0m Trial 147 finished with value: 0.5645645645645646 and parameters: {'max_depth': 10, 'min_samples_split': 11, 'min_samples_leaf': 14, 'criterion': 'gini'}. Best is trial 124 with value: 0.5888538380651945.\u001b[0m\n",
      "\u001b[32m[I 2023-03-15 19:11:15,462]\u001b[0m Trial 148 finished with value: 0.5662535748331744 and parameters: {'max_depth': 7, 'min_samples_split': 7, 'min_samples_leaf': 15, 'criterion': 'entropy'}. Best is trial 124 with value: 0.5888538380651945.\u001b[0m\n",
      "\u001b[32m[I 2023-03-15 19:11:15,494]\u001b[0m Trial 149 finished with value: 0.5656970912738215 and parameters: {'max_depth': 10, 'min_samples_split': 10, 'min_samples_leaf': 18, 'criterion': 'gini'}. Best is trial 124 with value: 0.5888538380651945.\u001b[0m\n",
      "\u001b[32m[I 2023-03-15 19:11:15,522]\u001b[0m Trial 150 finished with value: 0.5585054080629303 and parameters: {'max_depth': 5, 'min_samples_split': 17, 'min_samples_leaf': 15, 'criterion': 'gini'}. Best is trial 124 with value: 0.5888538380651945.\u001b[0m\n",
      "\u001b[32m[I 2023-03-15 19:11:15,554]\u001b[0m Trial 151 finished with value: 0.5803108808290155 and parameters: {'max_depth': 9, 'min_samples_split': 10, 'min_samples_leaf': 19, 'criterion': 'gini'}. Best is trial 124 with value: 0.5888538380651945.\u001b[0m\n",
      "\u001b[32m[I 2023-03-15 19:11:15,584]\u001b[0m Trial 152 finished with value: 0.576 and parameters: {'max_depth': 8, 'min_samples_split': 11, 'min_samples_leaf': 17, 'criterion': 'gini'}. Best is trial 124 with value: 0.5888538380651945.\u001b[0m\n",
      "\u001b[32m[I 2023-03-15 19:11:15,616]\u001b[0m Trial 153 finished with value: 0.5888538380651945 and parameters: {'max_depth': 9, 'min_samples_split': 29, 'min_samples_leaf': 20, 'criterion': 'gini'}. Best is trial 124 with value: 0.5888538380651945.\u001b[0m\n",
      "\u001b[32m[I 2023-03-15 19:11:15,647]\u001b[0m Trial 154 finished with value: 0.5662535748331744 and parameters: {'max_depth': 7, 'min_samples_split': 21, 'min_samples_leaf': 16, 'criterion': 'gini'}. Best is trial 124 with value: 0.5888538380651945.\u001b[0m\n",
      "\u001b[32m[I 2023-03-15 19:11:15,680]\u001b[0m Trial 155 finished with value: 0.5737373737373738 and parameters: {'max_depth': 11, 'min_samples_split': 19, 'min_samples_leaf': 20, 'criterion': 'gini'}. Best is trial 124 with value: 0.5888538380651945.\u001b[0m\n",
      "\u001b[32m[I 2023-03-15 19:11:15,713]\u001b[0m Trial 156 finished with value: 0.572289156626506 and parameters: {'max_depth': 33, 'min_samples_split': 29, 'min_samples_leaf': 20, 'criterion': 'gini'}. Best is trial 124 with value: 0.5888538380651945.\u001b[0m\n",
      "\u001b[32m[I 2023-03-15 19:11:15,745]\u001b[0m Trial 157 finished with value: 0.5737874097007225 and parameters: {'max_depth': 9, 'min_samples_split': 14, 'min_samples_leaf': 9, 'criterion': 'gini'}. Best is trial 124 with value: 0.5888538380651945.\u001b[0m\n",
      "\u001b[32m[I 2023-03-15 19:11:15,775]\u001b[0m Trial 158 finished with value: 0.5664739884393064 and parameters: {'max_depth': 6, 'min_samples_split': 26, 'min_samples_leaf': 22, 'criterion': 'gini'}. Best is trial 124 with value: 0.5888538380651945.\u001b[0m\n",
      "\u001b[32m[I 2023-03-15 19:11:15,807]\u001b[0m Trial 159 finished with value: 0.5771543086172345 and parameters: {'max_depth': 8, 'min_samples_split': 9, 'min_samples_leaf': 18, 'criterion': 'gini'}. Best is trial 124 with value: 0.5888538380651945.\u001b[0m\n",
      "\u001b[32m[I 2023-03-15 19:11:15,839]\u001b[0m Trial 160 finished with value: 0.5720040281973817 and parameters: {'max_depth': 11, 'min_samples_split': 8, 'min_samples_leaf': 21, 'criterion': 'gini'}. Best is trial 124 with value: 0.5888538380651945.\u001b[0m\n",
      "\u001b[32m[I 2023-03-15 19:11:15,872]\u001b[0m Trial 161 finished with value: 0.5803108808290155 and parameters: {'max_depth': 9, 'min_samples_split': 23, 'min_samples_leaf': 19, 'criterion': 'gini'}. Best is trial 124 with value: 0.5888538380651945.\u001b[0m\n",
      "\u001b[32m[I 2023-03-15 19:11:15,904]\u001b[0m Trial 162 finished with value: 0.576 and parameters: {'max_depth': 8, 'min_samples_split': 12, 'min_samples_leaf': 17, 'criterion': 'gini'}. Best is trial 124 with value: 0.5888538380651945.\u001b[0m\n",
      "\u001b[32m[I 2023-03-15 19:11:15,937]\u001b[0m Trial 163 finished with value: 0.5651302605210421 and parameters: {'max_depth': 10, 'min_samples_split': 10, 'min_samples_leaf': 16, 'criterion': 'gini'}. Best is trial 124 with value: 0.5888538380651945.\u001b[0m\n",
      "\u001b[32m[I 2023-03-15 19:11:15,968]\u001b[0m Trial 164 finished with value: 0.5803108808290155 and parameters: {'max_depth': 9, 'min_samples_split': 9, 'min_samples_leaf': 19, 'criterion': 'gini'}. Best is trial 124 with value: 0.5888538380651945.\u001b[0m\n",
      "\u001b[32m[I 2023-03-15 19:11:15,999]\u001b[0m Trial 165 finished with value: 0.5711538461538461 and parameters: {'max_depth': 7, 'min_samples_split': 8, 'min_samples_leaf': 21, 'criterion': 'gini'}. Best is trial 124 with value: 0.5888538380651945.\u001b[0m\n",
      "\u001b[32m[I 2023-03-15 19:11:16,033]\u001b[0m Trial 166 finished with value: 0.5685884691848906 and parameters: {'max_depth': 12, 'min_samples_split': 10, 'min_samples_leaf': 15, 'criterion': 'gini'}. Best is trial 124 with value: 0.5888538380651945.\u001b[0m\n",
      "\u001b[32m[I 2023-03-15 19:11:16,064]\u001b[0m Trial 167 finished with value: 0.5662535748331744 and parameters: {'max_depth': 7, 'min_samples_split': 6, 'min_samples_leaf': 14, 'criterion': 'gini'}. Best is trial 124 with value: 0.5888538380651945.\u001b[0m\n",
      "\u001b[32m[I 2023-03-15 19:11:16,098]\u001b[0m Trial 168 finished with value: 0.5636007827788649 and parameters: {'max_depth': 26, 'min_samples_split': 11, 'min_samples_leaf': 18, 'criterion': 'gini'}. Best is trial 124 with value: 0.5888538380651945.\u001b[0m\n",
      "\u001b[32m[I 2023-03-15 19:11:16,132]\u001b[0m Trial 169 finished with value: 0.5798575788402849 and parameters: {'max_depth': 9, 'min_samples_split': 9, 'min_samples_leaf': 16, 'criterion': 'gini'}. Best is trial 124 with value: 0.5888538380651945.\u001b[0m\n"
     ]
    },
    {
     "name": "stderr",
     "output_type": "stream",
     "text": [
      "\u001b[32m[I 2023-03-15 19:11:16,161]\u001b[0m Trial 170 finished with value: 0.5555555555555556 and parameters: {'max_depth': 5, 'min_samples_split': 7, 'min_samples_leaf': 13, 'criterion': 'gini'}. Best is trial 124 with value: 0.5888538380651945.\u001b[0m\n",
      "\u001b[32m[I 2023-03-15 19:11:16,193]\u001b[0m Trial 171 finished with value: 0.5661914460285131 and parameters: {'max_depth': 10, 'min_samples_split': 10, 'min_samples_leaf': 19, 'criterion': 'gini'}. Best is trial 124 with value: 0.5888538380651945.\u001b[0m\n",
      "\u001b[32m[I 2023-03-15 19:11:16,227]\u001b[0m Trial 172 finished with value: 0.5870236869207003 and parameters: {'max_depth': 8, 'min_samples_split': 10, 'min_samples_leaf': 20, 'criterion': 'gini'}. Best is trial 124 with value: 0.5888538380651945.\u001b[0m\n",
      "\u001b[32m[I 2023-03-15 19:11:16,259]\u001b[0m Trial 173 finished with value: 0.5870236869207003 and parameters: {'max_depth': 8, 'min_samples_split': 12, 'min_samples_leaf': 20, 'criterion': 'gini'}. Best is trial 124 with value: 0.5888538380651945.\u001b[0m\n",
      "\u001b[32m[I 2023-03-15 19:11:16,291]\u001b[0m Trial 174 finished with value: 0.5870236869207003 and parameters: {'max_depth': 8, 'min_samples_split': 12, 'min_samples_leaf': 20, 'criterion': 'gini'}. Best is trial 124 with value: 0.5888538380651945.\u001b[0m\n",
      "\u001b[32m[I 2023-03-15 19:11:16,322]\u001b[0m Trial 175 finished with value: 0.5705996131528046 and parameters: {'max_depth': 6, 'min_samples_split': 13, 'min_samples_leaf': 20, 'criterion': 'gini'}. Best is trial 124 with value: 0.5888538380651945.\u001b[0m\n",
      "\u001b[32m[I 2023-03-15 19:11:16,353]\u001b[0m Trial 176 finished with value: 0.5681159420289855 and parameters: {'max_depth': 7, 'min_samples_split': 11, 'min_samples_leaf': 22, 'criterion': 'gini'}. Best is trial 124 with value: 0.5888538380651945.\u001b[0m\n",
      "\u001b[32m[I 2023-03-15 19:11:16,385]\u001b[0m Trial 177 finished with value: 0.5772773797338792 and parameters: {'max_depth': 8, 'min_samples_split': 12, 'min_samples_leaf': 22, 'criterion': 'gini'}. Best is trial 124 with value: 0.5888538380651945.\u001b[0m\n",
      "\u001b[32m[I 2023-03-15 19:11:16,421]\u001b[0m Trial 178 finished with value: 0.5844559585492228 and parameters: {'max_depth': 8, 'min_samples_split': 8, 'min_samples_leaf': 21, 'criterion': 'entropy'}. Best is trial 124 with value: 0.5888538380651945.\u001b[0m\n",
      "\u001b[32m[I 2023-03-15 19:11:16,453]\u001b[0m Trial 179 finished with value: 0.5677799607072691 and parameters: {'max_depth': 6, 'min_samples_split': 8, 'min_samples_leaf': 24, 'criterion': 'entropy'}. Best is trial 124 with value: 0.5888538380651945.\u001b[0m\n",
      "\u001b[32m[I 2023-03-15 19:11:16,488]\u001b[0m Trial 180 finished with value: 0.5844559585492228 and parameters: {'max_depth': 8, 'min_samples_split': 9, 'min_samples_leaf': 21, 'criterion': 'entropy'}. Best is trial 124 with value: 0.5888538380651945.\u001b[0m\n",
      "\u001b[32m[I 2023-03-15 19:11:16,526]\u001b[0m Trial 181 finished with value: 0.5822267620020428 and parameters: {'max_depth': 8, 'min_samples_split': 9, 'min_samples_leaf': 20, 'criterion': 'entropy'}. Best is trial 124 with value: 0.5888538380651945.\u001b[0m\n",
      "\u001b[32m[I 2023-03-15 19:11:16,561]\u001b[0m Trial 182 finished with value: 0.5881126173096977 and parameters: {'max_depth': 8, 'min_samples_split': 9, 'min_samples_leaf': 23, 'criterion': 'entropy'}. Best is trial 124 with value: 0.5888538380651945.\u001b[0m\n",
      "\u001b[32m[I 2023-03-15 19:11:16,596]\u001b[0m Trial 183 finished with value: 0.5686839577329491 and parameters: {'max_depth': 7, 'min_samples_split': 9, 'min_samples_leaf': 21, 'criterion': 'entropy'}. Best is trial 124 with value: 0.5888538380651945.\u001b[0m\n",
      "\u001b[32m[I 2023-03-15 19:11:16,631]\u001b[0m Trial 184 finished with value: 0.5881126173096977 and parameters: {'max_depth': 8, 'min_samples_split': 8, 'min_samples_leaf': 23, 'criterion': 'entropy'}. Best is trial 124 with value: 0.5888538380651945.\u001b[0m\n",
      "\u001b[32m[I 2023-03-15 19:11:16,667]\u001b[0m Trial 185 finished with value: 0.5881126173096977 and parameters: {'max_depth': 8, 'min_samples_split': 8, 'min_samples_leaf': 25, 'criterion': 'entropy'}. Best is trial 124 with value: 0.5888538380651945.\u001b[0m\n",
      "\u001b[32m[I 2023-03-15 19:11:16,700]\u001b[0m Trial 186 finished with value: 0.5677799607072691 and parameters: {'max_depth': 6, 'min_samples_split': 8, 'min_samples_leaf': 25, 'criterion': 'entropy'}. Best is trial 124 with value: 0.5888538380651945.\u001b[0m\n",
      "\u001b[32m[I 2023-03-15 19:11:16,735]\u001b[0m Trial 187 finished with value: 0.5881126173096977 and parameters: {'max_depth': 8, 'min_samples_split': 9, 'min_samples_leaf': 24, 'criterion': 'entropy'}. Best is trial 124 with value: 0.5888538380651945.\u001b[0m\n",
      "\u001b[32m[I 2023-03-15 19:11:16,765]\u001b[0m Trial 188 finished with value: 0.5567839195979899 and parameters: {'max_depth': 4, 'min_samples_split': 9, 'min_samples_leaf': 25, 'criterion': 'entropy'}. Best is trial 124 with value: 0.5888538380651945.\u001b[0m\n",
      "\u001b[32m[I 2023-03-15 19:11:16,800]\u001b[0m Trial 189 finished with value: 0.5686839577329491 and parameters: {'max_depth': 7, 'min_samples_split': 8, 'min_samples_leaf': 23, 'criterion': 'entropy'}. Best is trial 124 with value: 0.5888538380651945.\u001b[0m\n",
      "\u001b[32m[I 2023-03-15 19:11:16,838]\u001b[0m Trial 190 finished with value: 0.563894523326572 and parameters: {'max_depth': 44, 'min_samples_split': 9, 'min_samples_leaf': 23, 'criterion': 'entropy'}. Best is trial 124 with value: 0.5888538380651945.\u001b[0m\n",
      "\u001b[32m[I 2023-03-15 19:11:16,874]\u001b[0m Trial 191 finished with value: 0.5881126173096977 and parameters: {'max_depth': 8, 'min_samples_split': 10, 'min_samples_leaf': 24, 'criterion': 'entropy'}. Best is trial 124 with value: 0.5888538380651945.\u001b[0m\n",
      "\u001b[32m[I 2023-03-15 19:11:16,909]\u001b[0m Trial 192 finished with value: 0.5881126173096977 and parameters: {'max_depth': 8, 'min_samples_split': 10, 'min_samples_leaf': 24, 'criterion': 'entropy'}. Best is trial 124 with value: 0.5888538380651945.\u001b[0m\n",
      "\u001b[32m[I 2023-03-15 19:11:16,944]\u001b[0m Trial 193 finished with value: 0.5881126173096977 and parameters: {'max_depth': 8, 'min_samples_split': 10, 'min_samples_leaf': 24, 'criterion': 'entropy'}. Best is trial 124 with value: 0.5888538380651945.\u001b[0m\n",
      "\u001b[32m[I 2023-03-15 19:11:16,982]\u001b[0m Trial 194 finished with value: 0.5667011375387797 and parameters: {'max_depth': 10, 'min_samples_split': 10, 'min_samples_leaf': 24, 'criterion': 'entropy'}. Best is trial 124 with value: 0.5888538380651945.\u001b[0m\n",
      "\u001b[32m[I 2023-03-15 19:11:17,019]\u001b[0m Trial 195 finished with value: 0.5708333333333334 and parameters: {'max_depth': 22, 'min_samples_split': 11, 'min_samples_leaf': 26, 'criterion': 'entropy'}. Best is trial 124 with value: 0.5888538380651945.\u001b[0m\n",
      "\u001b[32m[I 2023-03-15 19:11:17,051]\u001b[0m Trial 196 finished with value: 0.5677799607072691 and parameters: {'max_depth': 6, 'min_samples_split': 10, 'min_samples_leaf': 24, 'criterion': 'entropy'}. Best is trial 124 with value: 0.5888538380651945.\u001b[0m\n",
      "\u001b[32m[I 2023-03-15 19:11:17,087]\u001b[0m Trial 197 finished with value: 0.5881126173096977 and parameters: {'max_depth': 8, 'min_samples_split': 7, 'min_samples_leaf': 24, 'criterion': 'entropy'}. Best is trial 124 with value: 0.5888538380651945.\u001b[0m\n",
      "\u001b[32m[I 2023-03-15 19:11:17,121]\u001b[0m Trial 198 finished with value: 0.5881126173096977 and parameters: {'max_depth': 8, 'min_samples_split': 6, 'min_samples_leaf': 25, 'criterion': 'entropy'}. Best is trial 124 with value: 0.5888538380651945.\u001b[0m\n",
      "\u001b[32m[I 2023-03-15 19:11:17,156]\u001b[0m Trial 199 finished with value: 0.5686839577329491 and parameters: {'max_depth': 7, 'min_samples_split': 7, 'min_samples_leaf': 25, 'criterion': 'entropy'}. Best is trial 124 with value: 0.5888538380651945.\u001b[0m\n",
      "\u001b[32m[I 2023-03-15 19:11:17,192]\u001b[0m Trial 200 finished with value: 0.5744234800838575 and parameters: {'max_depth': 10, 'min_samples_split': 8, 'min_samples_leaf': 26, 'criterion': 'entropy'}. Best is trial 124 with value: 0.5888538380651945.\u001b[0m\n",
      "\u001b[32m[I 2023-03-15 19:11:17,228]\u001b[0m Trial 201 finished with value: 0.5881126173096977 and parameters: {'max_depth': 8, 'min_samples_split': 6, 'min_samples_leaf': 24, 'criterion': 'entropy'}. Best is trial 124 with value: 0.5888538380651945.\u001b[0m\n",
      "\u001b[32m[I 2023-03-15 19:11:17,264]\u001b[0m Trial 202 finished with value: 0.5881126173096977 and parameters: {'max_depth': 8, 'min_samples_split': 5, 'min_samples_leaf': 24, 'criterion': 'entropy'}. Best is trial 124 with value: 0.5888538380651945.\u001b[0m\n",
      "\u001b[32m[I 2023-03-15 19:11:17,302]\u001b[0m Trial 203 finished with value: 0.5731832139201637 and parameters: {'max_depth': 9, 'min_samples_split': 5, 'min_samples_leaf': 24, 'criterion': 'entropy'}. Best is trial 124 with value: 0.5888538380651945.\u001b[0m\n"
     ]
    },
    {
     "name": "stderr",
     "output_type": "stream",
     "text": [
      "\u001b[32m[I 2023-03-15 19:11:17,336]\u001b[0m Trial 204 finished with value: 0.5686839577329491 and parameters: {'max_depth': 7, 'min_samples_split': 6, 'min_samples_leaf': 25, 'criterion': 'entropy'}. Best is trial 124 with value: 0.5888538380651945.\u001b[0m\n",
      "\u001b[32m[I 2023-03-15 19:11:17,373]\u001b[0m Trial 205 finished with value: 0.5881126173096977 and parameters: {'max_depth': 8, 'min_samples_split': 7, 'min_samples_leaf': 23, 'criterion': 'entropy'}. Best is trial 124 with value: 0.5888538380651945.\u001b[0m\n",
      "\u001b[32m[I 2023-03-15 19:11:17,407]\u001b[0m Trial 206 finished with value: 0.5686839577329491 and parameters: {'max_depth': 7, 'min_samples_split': 7, 'min_samples_leaf': 23, 'criterion': 'entropy'}. Best is trial 124 with value: 0.5888538380651945.\u001b[0m\n",
      "\u001b[32m[I 2023-03-15 19:11:17,445]\u001b[0m Trial 207 finished with value: 0.5881126173096977 and parameters: {'max_depth': 8, 'min_samples_split': 7, 'min_samples_leaf': 24, 'criterion': 'entropy'}. Best is trial 124 with value: 0.5888538380651945.\u001b[0m\n",
      "\u001b[32m[I 2023-03-15 19:11:17,476]\u001b[0m Trial 208 finished with value: 0.5513413506012952 and parameters: {'max_depth': 5, 'min_samples_split': 7, 'min_samples_leaf': 24, 'criterion': 'entropy'}. Best is trial 124 with value: 0.5888538380651945.\u001b[0m\n",
      "\u001b[32m[I 2023-03-15 19:11:17,512]\u001b[0m Trial 209 finished with value: 0.5881126173096977 and parameters: {'max_depth': 8, 'min_samples_split': 6, 'min_samples_leaf': 23, 'criterion': 'entropy'}. Best is trial 124 with value: 0.5888538380651945.\u001b[0m\n",
      "\u001b[32m[I 2023-03-15 19:11:17,549]\u001b[0m Trial 210 finished with value: 0.5731832139201637 and parameters: {'max_depth': 9, 'min_samples_split': 6, 'min_samples_leaf': 23, 'criterion': 'entropy'}. Best is trial 124 with value: 0.5888538380651945.\u001b[0m\n",
      "\u001b[32m[I 2023-03-15 19:11:17,586]\u001b[0m Trial 211 finished with value: 0.5881126173096977 and parameters: {'max_depth': 8, 'min_samples_split': 6, 'min_samples_leaf': 25, 'criterion': 'entropy'}. Best is trial 124 with value: 0.5888538380651945.\u001b[0m\n",
      "\u001b[32m[I 2023-03-15 19:11:17,623]\u001b[0m Trial 212 finished with value: 0.5749235474006116 and parameters: {'max_depth': 9, 'min_samples_split': 6, 'min_samples_leaf': 26, 'criterion': 'entropy'}. Best is trial 124 with value: 0.5888538380651945.\u001b[0m\n",
      "\u001b[32m[I 2023-03-15 19:11:17,658]\u001b[0m Trial 213 finished with value: 0.5686839577329491 and parameters: {'max_depth': 7, 'min_samples_split': 6, 'min_samples_leaf': 24, 'criterion': 'entropy'}. Best is trial 124 with value: 0.5888538380651945.\u001b[0m\n",
      "\u001b[32m[I 2023-03-15 19:11:17,695]\u001b[0m Trial 214 finished with value: 0.5881126173096977 and parameters: {'max_depth': 8, 'min_samples_split': 7, 'min_samples_leaf': 25, 'criterion': 'entropy'}. Best is trial 124 with value: 0.5888538380651945.\u001b[0m\n",
      "\u001b[32m[I 2023-03-15 19:11:17,728]\u001b[0m Trial 215 finished with value: 0.5677799607072691 and parameters: {'max_depth': 6, 'min_samples_split': 7, 'min_samples_leaf': 25, 'criterion': 'entropy'}. Best is trial 124 with value: 0.5888538380651945.\u001b[0m\n",
      "\u001b[32m[I 2023-03-15 19:11:17,765]\u001b[0m Trial 216 finished with value: 0.5664263645726055 and parameters: {'max_depth': 10, 'min_samples_split': 7, 'min_samples_leaf': 23, 'criterion': 'entropy'}. Best is trial 124 with value: 0.5888538380651945.\u001b[0m\n",
      "\u001b[32m[I 2023-03-15 19:11:17,801]\u001b[0m Trial 217 finished with value: 0.5881126173096977 and parameters: {'max_depth': 8, 'min_samples_split': 6, 'min_samples_leaf': 25, 'criterion': 'entropy'}. Best is trial 124 with value: 0.5888538380651945.\u001b[0m\n",
      "\u001b[32m[I 2023-03-15 19:11:17,839]\u001b[0m Trial 218 finished with value: 0.5756302521008403 and parameters: {'max_depth': 11, 'min_samples_split': 5, 'min_samples_leaf': 27, 'criterion': 'entropy'}. Best is trial 124 with value: 0.5888538380651945.\u001b[0m\n",
      "\u001b[32m[I 2023-03-15 19:11:17,876]\u001b[0m Trial 219 finished with value: 0.5749235474006116 and parameters: {'max_depth': 9, 'min_samples_split': 6, 'min_samples_leaf': 25, 'criterion': 'entropy'}. Best is trial 124 with value: 0.5888538380651945.\u001b[0m\n",
      "\u001b[32m[I 2023-03-15 19:11:17,913]\u001b[0m Trial 220 finished with value: 0.5881126173096977 and parameters: {'max_depth': 8, 'min_samples_split': 5, 'min_samples_leaf': 24, 'criterion': 'entropy'}. Best is trial 124 with value: 0.5888538380651945.\u001b[0m\n",
      "\u001b[32m[I 2023-03-15 19:11:17,950]\u001b[0m Trial 221 finished with value: 0.5881126173096977 and parameters: {'max_depth': 8, 'min_samples_split': 5, 'min_samples_leaf': 24, 'criterion': 'entropy'}. Best is trial 124 with value: 0.5888538380651945.\u001b[0m\n",
      "\u001b[32m[I 2023-03-15 19:11:17,986]\u001b[0m Trial 222 finished with value: 0.5686839577329491 and parameters: {'max_depth': 7, 'min_samples_split': 5, 'min_samples_leaf': 24, 'criterion': 'entropy'}. Best is trial 124 with value: 0.5888538380651945.\u001b[0m\n",
      "\u001b[32m[I 2023-03-15 19:11:18,020]\u001b[0m Trial 223 finished with value: 0.5677799607072691 and parameters: {'max_depth': 6, 'min_samples_split': 6, 'min_samples_leaf': 24, 'criterion': 'entropy'}. Best is trial 124 with value: 0.5888538380651945.\u001b[0m\n",
      "\u001b[32m[I 2023-03-15 19:11:18,058]\u001b[0m Trial 224 finished with value: 0.5749235474006116 and parameters: {'max_depth': 9, 'min_samples_split': 5, 'min_samples_leaf': 25, 'criterion': 'entropy'}. Best is trial 124 with value: 0.5888538380651945.\u001b[0m\n",
      "\u001b[32m[I 2023-03-15 19:11:18,094]\u001b[0m Trial 225 finished with value: 0.5881126173096977 and parameters: {'max_depth': 8, 'min_samples_split': 5, 'min_samples_leaf': 23, 'criterion': 'entropy'}. Best is trial 124 with value: 0.5888538380651945.\u001b[0m\n",
      "\u001b[32m[I 2023-03-15 19:11:18,130]\u001b[0m Trial 226 finished with value: 0.5686839577329491 and parameters: {'max_depth': 7, 'min_samples_split': 4, 'min_samples_leaf': 24, 'criterion': 'entropy'}. Best is trial 124 with value: 0.5888538380651945.\u001b[0m\n",
      "\u001b[32m[I 2023-03-15 19:11:18,168]\u001b[0m Trial 227 finished with value: 0.5664263645726055 and parameters: {'max_depth': 10, 'min_samples_split': 6, 'min_samples_leaf': 23, 'criterion': 'entropy'}. Best is trial 124 with value: 0.5888538380651945.\u001b[0m\n",
      "\u001b[32m[I 2023-03-15 19:11:18,205]\u001b[0m Trial 228 finished with value: 0.5881126173096977 and parameters: {'max_depth': 8, 'min_samples_split': 5, 'min_samples_leaf': 26, 'criterion': 'entropy'}. Best is trial 124 with value: 0.5888538380651945.\u001b[0m\n",
      "\u001b[32m[I 2023-03-15 19:11:18,242]\u001b[0m Trial 229 finished with value: 0.5749235474006116 and parameters: {'max_depth': 9, 'min_samples_split': 4, 'min_samples_leaf': 26, 'criterion': 'entropy'}. Best is trial 124 with value: 0.5888538380651945.\u001b[0m\n",
      "\u001b[32m[I 2023-03-15 19:11:18,278]\u001b[0m Trial 230 finished with value: 0.5686839577329491 and parameters: {'max_depth': 7, 'min_samples_split': 5, 'min_samples_leaf': 26, 'criterion': 'entropy'}. Best is trial 124 with value: 0.5888538380651945.\u001b[0m\n",
      "\u001b[32m[I 2023-03-15 19:11:18,314]\u001b[0m Trial 231 finished with value: 0.5881126173096977 and parameters: {'max_depth': 8, 'min_samples_split': 5, 'min_samples_leaf': 25, 'criterion': 'entropy'}. Best is trial 124 with value: 0.5888538380651945.\u001b[0m\n",
      "\u001b[32m[I 2023-03-15 19:11:18,350]\u001b[0m Trial 232 finished with value: 0.5881126173096977 and parameters: {'max_depth': 8, 'min_samples_split': 5, 'min_samples_leaf': 23, 'criterion': 'entropy'}. Best is trial 124 with value: 0.5888538380651945.\u001b[0m\n",
      "\u001b[32m[I 2023-03-15 19:11:18,387]\u001b[0m Trial 233 finished with value: 0.5744234800838575 and parameters: {'max_depth': 10, 'min_samples_split': 6, 'min_samples_leaf': 25, 'criterion': 'entropy'}. Best is trial 124 with value: 0.5888538380651945.\u001b[0m\n",
      "\u001b[32m[I 2023-03-15 19:11:18,425]\u001b[0m Trial 234 finished with value: 0.5749235474006116 and parameters: {'max_depth': 9, 'min_samples_split': 5, 'min_samples_leaf': 25, 'criterion': 'entropy'}. Best is trial 124 with value: 0.5888538380651945.\u001b[0m\n",
      "\u001b[32m[I 2023-03-15 19:11:18,459]\u001b[0m Trial 235 finished with value: 0.5677799607072691 and parameters: {'max_depth': 6, 'min_samples_split': 5, 'min_samples_leaf': 24, 'criterion': 'entropy'}. Best is trial 124 with value: 0.5888538380651945.\u001b[0m\n",
      "\u001b[32m[I 2023-03-15 19:11:18,495]\u001b[0m Trial 236 finished with value: 0.5881126173096977 and parameters: {'max_depth': 8, 'min_samples_split': 4, 'min_samples_leaf': 24, 'criterion': 'entropy'}. Best is trial 124 with value: 0.5888538380651945.\u001b[0m\n",
      "\u001b[32m[I 2023-03-15 19:11:18,530]\u001b[0m Trial 237 finished with value: 0.5686839577329491 and parameters: {'max_depth': 7, 'min_samples_split': 6, 'min_samples_leaf': 23, 'criterion': 'entropy'}. Best is trial 124 with value: 0.5888538380651945.\u001b[0m\n"
     ]
    },
    {
     "name": "stderr",
     "output_type": "stream",
     "text": [
      "\u001b[32m[I 2023-03-15 19:11:18,568]\u001b[0m Trial 238 finished with value: 0.5749235474006116 and parameters: {'max_depth': 9, 'min_samples_split': 7, 'min_samples_leaf': 25, 'criterion': 'entropy'}. Best is trial 124 with value: 0.5888538380651945.\u001b[0m\n",
      "\u001b[32m[I 2023-03-15 19:11:18,605]\u001b[0m Trial 239 finished with value: 0.5851619644723093 and parameters: {'max_depth': 8, 'min_samples_split': 5, 'min_samples_leaf': 27, 'criterion': 'entropy'}. Best is trial 124 with value: 0.5888538380651945.\u001b[0m\n",
      "\u001b[32m[I 2023-03-15 19:11:18,639]\u001b[0m Trial 240 finished with value: 0.5677799607072691 and parameters: {'max_depth': 6, 'min_samples_split': 6, 'min_samples_leaf': 24, 'criterion': 'entropy'}. Best is trial 124 with value: 0.5888538380651945.\u001b[0m\n",
      "\u001b[32m[I 2023-03-15 19:11:18,677]\u001b[0m Trial 241 finished with value: 0.5881126173096977 and parameters: {'max_depth': 8, 'min_samples_split': 5, 'min_samples_leaf': 23, 'criterion': 'entropy'}. Best is trial 124 with value: 0.5888538380651945.\u001b[0m\n",
      "\u001b[32m[I 2023-03-15 19:11:18,716]\u001b[0m Trial 242 finished with value: 0.5881126173096977 and parameters: {'max_depth': 8, 'min_samples_split': 4, 'min_samples_leaf': 23, 'criterion': 'entropy'}. Best is trial 124 with value: 0.5888538380651945.\u001b[0m\n",
      "\u001b[32m[I 2023-03-15 19:11:18,756]\u001b[0m Trial 243 finished with value: 0.5714285714285714 and parameters: {'max_depth': 9, 'min_samples_split': 5, 'min_samples_leaf': 22, 'criterion': 'entropy'}. Best is trial 124 with value: 0.5888538380651945.\u001b[0m\n",
      "\u001b[32m[I 2023-03-15 19:11:18,793]\u001b[0m Trial 244 finished with value: 0.5686839577329491 and parameters: {'max_depth': 7, 'min_samples_split': 7, 'min_samples_leaf': 26, 'criterion': 'entropy'}. Best is trial 124 with value: 0.5888538380651945.\u001b[0m\n",
      "\u001b[32m[I 2023-03-15 19:11:18,831]\u001b[0m Trial 245 finished with value: 0.5881126173096977 and parameters: {'max_depth': 8, 'min_samples_split': 6, 'min_samples_leaf': 24, 'criterion': 'entropy'}. Best is trial 124 with value: 0.5888538380651945.\u001b[0m\n",
      "\u001b[32m[I 2023-03-15 19:11:18,872]\u001b[0m Trial 246 finished with value: 0.5744234800838575 and parameters: {'max_depth': 10, 'min_samples_split': 4, 'min_samples_leaf': 25, 'criterion': 'entropy'}. Best is trial 124 with value: 0.5888538380651945.\u001b[0m\n",
      "\u001b[32m[I 2023-03-15 19:11:18,910]\u001b[0m Trial 247 finished with value: 0.5686839577329491 and parameters: {'max_depth': 7, 'min_samples_split': 5, 'min_samples_leaf': 24, 'criterion': 'entropy'}. Best is trial 124 with value: 0.5888538380651945.\u001b[0m\n",
      "\u001b[32m[I 2023-03-15 19:11:18,949]\u001b[0m Trial 248 finished with value: 0.5881126173096977 and parameters: {'max_depth': 8, 'min_samples_split': 7, 'min_samples_leaf': 23, 'criterion': 'entropy'}. Best is trial 124 with value: 0.5888538380651945.\u001b[0m\n",
      "\u001b[32m[I 2023-03-15 19:11:18,991]\u001b[0m Trial 249 finished with value: 0.5749235474006116 and parameters: {'max_depth': 9, 'min_samples_split': 6, 'min_samples_leaf': 25, 'criterion': 'entropy'}. Best is trial 124 with value: 0.5888538380651945.\u001b[0m\n",
      "\u001b[32m[I 2023-03-15 19:11:19,028]\u001b[0m Trial 250 finished with value: 0.5686839577329491 and parameters: {'max_depth': 7, 'min_samples_split': 6, 'min_samples_leaf': 23, 'criterion': 'entropy'}. Best is trial 124 with value: 0.5888538380651945.\u001b[0m\n",
      "\u001b[32m[I 2023-03-15 19:11:19,067]\u001b[0m Trial 251 finished with value: 0.5667011375387797 and parameters: {'max_depth': 10, 'min_samples_split': 5, 'min_samples_leaf': 24, 'criterion': 'entropy'}. Best is trial 124 with value: 0.5888538380651945.\u001b[0m\n",
      "\u001b[32m[I 2023-03-15 19:11:19,106]\u001b[0m Trial 252 finished with value: 0.5714285714285714 and parameters: {'max_depth': 9, 'min_samples_split': 7, 'min_samples_leaf': 22, 'criterion': 'entropy'}. Best is trial 124 with value: 0.5888538380651945.\u001b[0m\n",
      "\u001b[32m[I 2023-03-15 19:11:19,143]\u001b[0m Trial 253 finished with value: 0.5881126173096977 and parameters: {'max_depth': 8, 'min_samples_split': 3, 'min_samples_leaf': 26, 'criterion': 'entropy'}. Best is trial 124 with value: 0.5888538380651945.\u001b[0m\n",
      "\u001b[32m[I 2023-03-15 19:11:19,179]\u001b[0m Trial 254 finished with value: 0.5677799607072691 and parameters: {'max_depth': 6, 'min_samples_split': 6, 'min_samples_leaf': 25, 'criterion': 'entropy'}. Best is trial 124 with value: 0.5888538380651945.\u001b[0m\n",
      "\u001b[32m[I 2023-03-15 19:11:19,215]\u001b[0m Trial 255 finished with value: 0.5686839577329491 and parameters: {'max_depth': 7, 'min_samples_split': 5, 'min_samples_leaf': 24, 'criterion': 'entropy'}. Best is trial 124 with value: 0.5888538380651945.\u001b[0m\n",
      "\u001b[32m[I 2023-03-15 19:11:19,248]\u001b[0m Trial 256 finished with value: 0.5513413506012952 and parameters: {'max_depth': 5, 'min_samples_split': 7, 'min_samples_leaf': 23, 'criterion': 'entropy'}. Best is trial 124 with value: 0.5888538380651945.\u001b[0m\n",
      "\u001b[32m[I 2023-03-15 19:11:19,286]\u001b[0m Trial 257 finished with value: 0.5858798735511064 and parameters: {'max_depth': 8, 'min_samples_split': 5, 'min_samples_leaf': 29, 'criterion': 'entropy'}. Best is trial 124 with value: 0.5888538380651945.\u001b[0m\n",
      "\u001b[32m[I 2023-03-15 19:11:19,326]\u001b[0m Trial 258 finished with value: 0.5714285714285714 and parameters: {'max_depth': 9, 'min_samples_split': 4, 'min_samples_leaf': 22, 'criterion': 'entropy'}. Best is trial 124 with value: 0.5888538380651945.\u001b[0m\n",
      "\u001b[32m[I 2023-03-15 19:11:19,363]\u001b[0m Trial 259 finished with value: 0.5677799607072691 and parameters: {'max_depth': 6, 'min_samples_split': 7, 'min_samples_leaf': 25, 'criterion': 'entropy'}. Best is trial 124 with value: 0.5888538380651945.\u001b[0m\n",
      "\u001b[32m[I 2023-03-15 19:11:19,406]\u001b[0m Trial 260 finished with value: 0.5667011375387797 and parameters: {'max_depth': 10, 'min_samples_split': 6, 'min_samples_leaf': 24, 'criterion': 'entropy'}. Best is trial 124 with value: 0.5888538380651945.\u001b[0m\n",
      "\u001b[32m[I 2023-03-15 19:11:19,446]\u001b[0m Trial 261 finished with value: 0.5851619644723093 and parameters: {'max_depth': 8, 'min_samples_split': 30, 'min_samples_leaf': 27, 'criterion': 'entropy'}. Best is trial 124 with value: 0.5888538380651945.\u001b[0m\n",
      "\u001b[32m[I 2023-03-15 19:11:19,486]\u001b[0m Trial 262 finished with value: 0.563894523326572 and parameters: {'max_depth': 20, 'min_samples_split': 5, 'min_samples_leaf': 23, 'criterion': 'entropy'}. Best is trial 124 with value: 0.5888538380651945.\u001b[0m\n",
      "\u001b[32m[I 2023-03-15 19:11:19,526]\u001b[0m Trial 263 finished with value: 0.5749235474006116 and parameters: {'max_depth': 9, 'min_samples_split': 6, 'min_samples_leaf': 26, 'criterion': 'entropy'}. Best is trial 124 with value: 0.5888538380651945.\u001b[0m\n",
      "\u001b[32m[I 2023-03-15 19:11:19,564]\u001b[0m Trial 264 finished with value: 0.5686839577329491 and parameters: {'max_depth': 7, 'min_samples_split': 28, 'min_samples_leaf': 24, 'criterion': 'entropy'}. Best is trial 124 with value: 0.5888538380651945.\u001b[0m\n",
      "\u001b[32m[I 2023-03-15 19:11:19,603]\u001b[0m Trial 265 finished with value: 0.5744234800838575 and parameters: {'max_depth': 11, 'min_samples_split': 8, 'min_samples_leaf': 25, 'criterion': 'entropy'}. Best is trial 124 with value: 0.5888538380651945.\u001b[0m\n",
      "\u001b[32m[I 2023-03-15 19:11:19,642]\u001b[0m Trial 266 finished with value: 0.5881126173096977 and parameters: {'max_depth': 8, 'min_samples_split': 6, 'min_samples_leaf': 24, 'criterion': 'entropy'}. Best is trial 124 with value: 0.5888538380651945.\u001b[0m\n",
      "\u001b[32m[I 2023-03-15 19:11:19,681]\u001b[0m Trial 267 finished with value: 0.5731832139201637 and parameters: {'max_depth': 9, 'min_samples_split': 4, 'min_samples_leaf': 23, 'criterion': 'entropy'}. Best is trial 124 with value: 0.5888538380651945.\u001b[0m\n",
      "\u001b[32m[I 2023-03-15 19:11:19,718]\u001b[0m Trial 268 finished with value: 0.5686839577329491 and parameters: {'max_depth': 7, 'min_samples_split': 5, 'min_samples_leaf': 22, 'criterion': 'entropy'}. Best is trial 124 with value: 0.5888538380651945.\u001b[0m\n",
      "\u001b[32m[I 2023-03-15 19:11:19,754]\u001b[0m Trial 269 finished with value: 0.5677799607072691 and parameters: {'max_depth': 6, 'min_samples_split': 7, 'min_samples_leaf': 25, 'criterion': 'entropy'}. Best is trial 124 with value: 0.5888538380651945.\u001b[0m\n",
      "\u001b[32m[I 2023-03-15 19:11:19,794]\u001b[0m Trial 270 finished with value: 0.5667011375387797 and parameters: {'max_depth': 10, 'min_samples_split': 8, 'min_samples_leaf': 24, 'criterion': 'entropy'}. Best is trial 124 with value: 0.5888538380651945.\u001b[0m\n",
      "\u001b[32m[I 2023-03-15 19:11:19,833]\u001b[0m Trial 271 finished with value: 0.5881126173096977 and parameters: {'max_depth': 8, 'min_samples_split': 25, 'min_samples_leaf': 25, 'criterion': 'entropy'}. Best is trial 124 with value: 0.5888538380651945.\u001b[0m\n"
     ]
    },
    {
     "name": "stderr",
     "output_type": "stream",
     "text": [
      "\u001b[32m[I 2023-03-15 19:11:19,871]\u001b[0m Trial 272 finished with value: 0.5686839577329491 and parameters: {'max_depth': 7, 'min_samples_split': 6, 'min_samples_leaf': 26, 'criterion': 'entropy'}. Best is trial 124 with value: 0.5888538380651945.\u001b[0m\n",
      "\u001b[32m[I 2023-03-15 19:11:19,909]\u001b[0m Trial 273 finished with value: 0.5881126173096977 and parameters: {'max_depth': 8, 'min_samples_split': 7, 'min_samples_leaf': 24, 'criterion': 'entropy'}. Best is trial 124 with value: 0.5888538380651945.\u001b[0m\n",
      "\u001b[32m[I 2023-03-15 19:11:19,950]\u001b[0m Trial 274 finished with value: 0.5673469387755101 and parameters: {'max_depth': 11, 'min_samples_split': 6, 'min_samples_leaf': 23, 'criterion': 'entropy'}. Best is trial 124 with value: 0.5888538380651945.\u001b[0m\n",
      "\u001b[32m[I 2023-03-15 19:11:19,990]\u001b[0m Trial 275 finished with value: 0.5714285714285714 and parameters: {'max_depth': 9, 'min_samples_split': 4, 'min_samples_leaf': 22, 'criterion': 'entropy'}. Best is trial 124 with value: 0.5888538380651945.\u001b[0m\n",
      "\u001b[32m[I 2023-03-15 19:11:20,027]\u001b[0m Trial 276 finished with value: 0.5686839577329491 and parameters: {'max_depth': 7, 'min_samples_split': 8, 'min_samples_leaf': 25, 'criterion': 'entropy'}. Best is trial 124 with value: 0.5888538380651945.\u001b[0m\n",
      "\u001b[32m[I 2023-03-15 19:11:20,067]\u001b[0m Trial 277 finished with value: 0.5667011375387797 and parameters: {'max_depth': 10, 'min_samples_split': 5, 'min_samples_leaf': 24, 'criterion': 'entropy'}. Best is trial 124 with value: 0.5888538380651945.\u001b[0m\n",
      "\u001b[32m[I 2023-03-15 19:11:20,104]\u001b[0m Trial 278 finished with value: 0.5677799607072691 and parameters: {'max_depth': 6, 'min_samples_split': 7, 'min_samples_leaf': 23, 'criterion': 'entropy'}. Best is trial 124 with value: 0.5888538380651945.\u001b[0m\n",
      "\u001b[32m[I 2023-03-15 19:11:20,142]\u001b[0m Trial 279 finished with value: 0.5513413506012952 and parameters: {'max_depth': 5, 'min_samples_split': 3, 'min_samples_leaf': 24, 'criterion': 'entropy'}. Best is trial 124 with value: 0.5888538380651945.\u001b[0m\n",
      "\u001b[32m[I 2023-03-15 19:11:20,183]\u001b[0m Trial 280 finished with value: 0.5881126173096977 and parameters: {'max_depth': 8, 'min_samples_split': 6, 'min_samples_leaf': 26, 'criterion': 'entropy'}. Best is trial 124 with value: 0.5888538380651945.\u001b[0m\n",
      "\u001b[32m[I 2023-03-15 19:11:20,225]\u001b[0m Trial 281 finished with value: 0.5731832139201637 and parameters: {'max_depth': 9, 'min_samples_split': 8, 'min_samples_leaf': 23, 'criterion': 'entropy'}. Best is trial 124 with value: 0.5888538380651945.\u001b[0m\n",
      "\u001b[32m[I 2023-03-15 19:11:20,263]\u001b[0m Trial 282 finished with value: 0.5686839577329491 and parameters: {'max_depth': 7, 'min_samples_split': 5, 'min_samples_leaf': 25, 'criterion': 'entropy'}. Best is trial 124 with value: 0.5888538380651945.\u001b[0m\n",
      "\u001b[32m[I 2023-03-15 19:11:20,303]\u001b[0m Trial 283 finished with value: 0.5756302521008403 and parameters: {'max_depth': 24, 'min_samples_split': 7, 'min_samples_leaf': 27, 'criterion': 'entropy'}. Best is trial 124 with value: 0.5888538380651945.\u001b[0m\n",
      "\u001b[32m[I 2023-03-15 19:11:20,344]\u001b[0m Trial 284 finished with value: 0.5731832139201637 and parameters: {'max_depth': 9, 'min_samples_split': 6, 'min_samples_leaf': 24, 'criterion': 'entropy'}. Best is trial 124 with value: 0.5888538380651945.\u001b[0m\n",
      "\u001b[32m[I 2023-03-15 19:11:20,383]\u001b[0m Trial 285 finished with value: 0.5881126173096977 and parameters: {'max_depth': 8, 'min_samples_split': 5, 'min_samples_leaf': 25, 'criterion': 'entropy'}. Best is trial 124 with value: 0.5888538380651945.\u001b[0m\n",
      "\u001b[32m[I 2023-03-15 19:11:20,425]\u001b[0m Trial 286 finished with value: 0.5667011375387797 and parameters: {'max_depth': 10, 'min_samples_split': 21, 'min_samples_leaf': 24, 'criterion': 'entropy'}. Best is trial 124 with value: 0.5888538380651945.\u001b[0m\n",
      "\u001b[32m[I 2023-03-15 19:11:20,463]\u001b[0m Trial 287 finished with value: 0.5686839577329491 and parameters: {'max_depth': 7, 'min_samples_split': 17, 'min_samples_leaf': 23, 'criterion': 'entropy'}. Best is trial 124 with value: 0.5888538380651945.\u001b[0m\n",
      "\u001b[32m[I 2023-03-15 19:11:20,499]\u001b[0m Trial 288 finished with value: 0.5513413506012952 and parameters: {'max_depth': 5, 'min_samples_split': 7, 'min_samples_leaf': 22, 'criterion': 'entropy'}. Best is trial 124 with value: 0.5888538380651945.\u001b[0m\n",
      "\u001b[32m[I 2023-03-15 19:11:20,539]\u001b[0m Trial 289 finished with value: 0.5749235474006116 and parameters: {'max_depth': 9, 'min_samples_split': 4, 'min_samples_leaf': 26, 'criterion': 'entropy'}. Best is trial 124 with value: 0.5888538380651945.\u001b[0m\n",
      "\u001b[32m[I 2023-03-15 19:11:20,580]\u001b[0m Trial 290 finished with value: 0.5881126173096977 and parameters: {'max_depth': 8, 'min_samples_split': 6, 'min_samples_leaf': 25, 'criterion': 'entropy'}. Best is trial 124 with value: 0.5888538380651945.\u001b[0m\n",
      "\u001b[32m[I 2023-03-15 19:11:20,618]\u001b[0m Trial 291 finished with value: 0.5677799607072691 and parameters: {'max_depth': 6, 'min_samples_split': 8, 'min_samples_leaf': 24, 'criterion': 'entropy'}. Best is trial 124 with value: 0.5888538380651945.\u001b[0m\n",
      "\u001b[32m[I 2023-03-15 19:11:20,660]\u001b[0m Trial 292 finished with value: 0.5673469387755101 and parameters: {'max_depth': 11, 'min_samples_split': 6, 'min_samples_leaf': 23, 'criterion': 'entropy'}. Best is trial 124 with value: 0.5888538380651945.\u001b[0m\n",
      "\u001b[32m[I 2023-03-15 19:11:20,702]\u001b[0m Trial 293 finished with value: 0.5881126173096977 and parameters: {'max_depth': 8, 'min_samples_split': 16, 'min_samples_leaf': 25, 'criterion': 'entropy'}. Best is trial 124 with value: 0.5888538380651945.\u001b[0m\n",
      "\u001b[32m[I 2023-03-15 19:11:20,742]\u001b[0m Trial 294 finished with value: 0.5686839577329491 and parameters: {'max_depth': 7, 'min_samples_split': 5, 'min_samples_leaf': 23, 'criterion': 'entropy'}. Best is trial 124 with value: 0.5888538380651945.\u001b[0m\n",
      "\u001b[32m[I 2023-03-15 19:11:20,786]\u001b[0m Trial 295 finished with value: 0.5731832139201637 and parameters: {'max_depth': 9, 'min_samples_split': 7, 'min_samples_leaf': 24, 'criterion': 'entropy'}. Best is trial 124 with value: 0.5888538380651945.\u001b[0m\n",
      "\u001b[32m[I 2023-03-15 19:11:20,827]\u001b[0m Trial 296 finished with value: 0.5744234800838575 and parameters: {'max_depth': 10, 'min_samples_split': 4, 'min_samples_leaf': 26, 'criterion': 'entropy'}. Best is trial 124 with value: 0.5888538380651945.\u001b[0m\n",
      "\u001b[32m[I 2023-03-15 19:11:20,868]\u001b[0m Trial 297 finished with value: 0.5686839577329491 and parameters: {'max_depth': 7, 'min_samples_split': 8, 'min_samples_leaf': 25, 'criterion': 'entropy'}. Best is trial 124 with value: 0.5888538380651945.\u001b[0m\n",
      "\u001b[32m[I 2023-03-15 19:11:20,908]\u001b[0m Trial 298 finished with value: 0.5881126173096977 and parameters: {'max_depth': 8, 'min_samples_split': 5, 'min_samples_leaf': 23, 'criterion': 'entropy'}. Best is trial 124 with value: 0.5888538380651945.\u001b[0m\n",
      "\u001b[32m[I 2023-03-15 19:11:20,945]\u001b[0m Trial 299 finished with value: 0.5677799607072691 and parameters: {'max_depth': 6, 'min_samples_split': 9, 'min_samples_leaf': 22, 'criterion': 'entropy'}. Best is trial 124 with value: 0.5888538380651945.\u001b[0m\n"
     ]
    },
    {
     "name": "stdout",
     "output_type": "stream",
     "text": [
      "Best trial:\n",
      "  Score: 0.589\n",
      "  Params: \n",
      "    max_depth: 9\n",
      "    min_samples_split: 11\n",
      "    min_samples_leaf: 20\n",
      "    criterion: gini\n"
     ]
    }
   ],
   "source": [
    "study = optuna.create_study(direction='maximize')\n",
    "\n",
    "study.optimize(objective, n_trials=300)\n",
    "\n",
    "print('Best trial:')\n",
    "trial = study.best_trial\n",
    "print(f'  Score: {trial.value:.3f}')\n",
    "print('  Params: ')\n",
    "for key, value in trial.params.items():\n",
    "    print(f'    {key}: {value}')"
   ]
  },
  {
   "cell_type": "code",
   "execution_count": 35,
   "metadata": {},
   "outputs": [
    {
     "data": {
      "text/plain": [
       "DecisionTreeClassifier(class_weight='balanced', criterion='entropy',\n",
       "                       max_depth=9, min_samples_leaf=20, min_samples_split=11,\n",
       "                       random_state=322)"
      ]
     },
     "execution_count": 35,
     "metadata": {},
     "output_type": "execute_result"
    }
   ],
   "source": [
    "dtc_cl_w = DecisionTreeClassifier(max_depth=9,\n",
    "                                   min_samples_split=11,\n",
    "                                   min_samples_leaf=20,\n",
    "                                   criterion='entropy',\n",
    "                                   class_weight='balanced',\n",
    "                                   random_state=322)\n",
    "dtc_cl_w.fit(features_train, target_train)"
   ]
  },
  {
   "cell_type": "code",
   "execution_count": 36,
   "metadata": {},
   "outputs": [
    {
     "data": {
      "text/plain": [
       "0.833"
      ]
     },
     "execution_count": 36,
     "metadata": {},
     "output_type": "execute_result"
    }
   ],
   "source": [
    "prob_one_valid =dtc_cl_w.predict_proba(features_valid)[:, 1]\n",
    "roc_auc_score(target_valid, prob_one_valid).round(3)"
   ]
  },
  {
   "cell_type": "markdown",
   "metadata": {},
   "source": [
    "Для дерева решений результат практически не изменился."
   ]
  },
  {
   "cell_type": "markdown",
   "metadata": {},
   "source": [
    "### Upsampling"
   ]
  },
  {
   "cell_type": "markdown",
   "metadata": {},
   "source": [
    "Применим метод upsampling. Сначала разделим обучающую выборку по классам, скопируем меньший класс несколько раз, снова объединим эти данные и перемешаем."
   ]
  },
  {
   "cell_type": "code",
   "execution_count": 37,
   "metadata": {},
   "outputs": [
    {
     "data": {
      "text/html": [
       "<div>\n",
       "<style scoped>\n",
       "    .dataframe tbody tr th:only-of-type {\n",
       "        vertical-align: middle;\n",
       "    }\n",
       "\n",
       "    .dataframe tbody tr th {\n",
       "        vertical-align: top;\n",
       "    }\n",
       "\n",
       "    .dataframe thead th {\n",
       "        text-align: right;\n",
       "    }\n",
       "</style>\n",
       "<table border=\"1\" class=\"dataframe\">\n",
       "  <thead>\n",
       "    <tr style=\"text-align: right;\">\n",
       "      <th></th>\n",
       "      <th>CreditScore</th>\n",
       "      <th>Geography_1</th>\n",
       "      <th>Geography_2</th>\n",
       "      <th>Geography_3</th>\n",
       "      <th>Gender_1</th>\n",
       "      <th>Gender_2</th>\n",
       "      <th>Age</th>\n",
       "      <th>Tenure</th>\n",
       "      <th>Balance</th>\n",
       "      <th>NumOfProducts</th>\n",
       "      <th>HasCrCard</th>\n",
       "      <th>IsActiveMember</th>\n",
       "      <th>EstimatedSalary</th>\n",
       "    </tr>\n",
       "  </thead>\n",
       "  <tbody>\n",
       "    <tr>\n",
       "      <th>0</th>\n",
       "      <td>0.393274</td>\n",
       "      <td>1</td>\n",
       "      <td>0</td>\n",
       "      <td>0</td>\n",
       "      <td>1</td>\n",
       "      <td>0</td>\n",
       "      <td>0.684323</td>\n",
       "      <td>-0.689374</td>\n",
       "      <td>-1.214471</td>\n",
       "      <td>0.791149</td>\n",
       "      <td>0</td>\n",
       "      <td>1</td>\n",
       "      <td>0.103521</td>\n",
       "    </tr>\n",
       "    <tr>\n",
       "      <th>1</th>\n",
       "      <td>-0.094186</td>\n",
       "      <td>0</td>\n",
       "      <td>1</td>\n",
       "      <td>0</td>\n",
       "      <td>1</td>\n",
       "      <td>0</td>\n",
       "      <td>0.116212</td>\n",
       "      <td>0.693685</td>\n",
       "      <td>-1.214471</td>\n",
       "      <td>-0.920444</td>\n",
       "      <td>1</td>\n",
       "      <td>0</td>\n",
       "      <td>0.485720</td>\n",
       "    </tr>\n",
       "    <tr>\n",
       "      <th>2</th>\n",
       "      <td>1.140021</td>\n",
       "      <td>0</td>\n",
       "      <td>0</td>\n",
       "      <td>1</td>\n",
       "      <td>0</td>\n",
       "      <td>1</td>\n",
       "      <td>-0.451898</td>\n",
       "      <td>0.347920</td>\n",
       "      <td>0.734066</td>\n",
       "      <td>0.791149</td>\n",
       "      <td>1</td>\n",
       "      <td>1</td>\n",
       "      <td>-0.684914</td>\n",
       "    </tr>\n",
       "    <tr>\n",
       "      <th>3</th>\n",
       "      <td>2.073455</td>\n",
       "      <td>0</td>\n",
       "      <td>0</td>\n",
       "      <td>1</td>\n",
       "      <td>1</td>\n",
       "      <td>0</td>\n",
       "      <td>0.021527</td>\n",
       "      <td>0.002155</td>\n",
       "      <td>0.624644</td>\n",
       "      <td>-0.920444</td>\n",
       "      <td>1</td>\n",
       "      <td>0</td>\n",
       "      <td>0.013339</td>\n",
       "    </tr>\n",
       "    <tr>\n",
       "      <th>4</th>\n",
       "      <td>-0.903162</td>\n",
       "      <td>1</td>\n",
       "      <td>0</td>\n",
       "      <td>0</td>\n",
       "      <td>0</td>\n",
       "      <td>1</td>\n",
       "      <td>1.725858</td>\n",
       "      <td>0.347920</td>\n",
       "      <td>-1.214471</td>\n",
       "      <td>0.791149</td>\n",
       "      <td>1</td>\n",
       "      <td>1</td>\n",
       "      <td>-1.031369</td>\n",
       "    </tr>\n",
       "  </tbody>\n",
       "</table>\n",
       "</div>"
      ],
      "text/plain": [
       "   CreditScore  Geography_1  Geography_2  Geography_3  Gender_1  Gender_2  \\\n",
       "0     0.393274            1            0            0         1         0   \n",
       "1    -0.094186            0            1            0         1         0   \n",
       "2     1.140021            0            0            1         0         1   \n",
       "3     2.073455            0            0            1         1         0   \n",
       "4    -0.903162            1            0            0         0         1   \n",
       "\n",
       "        Age    Tenure   Balance  NumOfProducts  HasCrCard  IsActiveMember  \\\n",
       "0  0.684323 -0.689374 -1.214471       0.791149          0               1   \n",
       "1  0.116212  0.693685 -1.214471      -0.920444          1               0   \n",
       "2 -0.451898  0.347920  0.734066       0.791149          1               1   \n",
       "3  0.021527  0.002155  0.624644      -0.920444          1               0   \n",
       "4  1.725858  0.347920 -1.214471       0.791149          1               1   \n",
       "\n",
       "   EstimatedSalary  \n",
       "0         0.103521  \n",
       "1         0.485720  \n",
       "2        -0.684914  \n",
       "3         0.013339  \n",
       "4        -1.031369  "
      ]
     },
     "execution_count": 37,
     "metadata": {},
     "output_type": "execute_result"
    }
   ],
   "source": [
    "features_train.head()"
   ]
  },
  {
   "cell_type": "code",
   "execution_count": 38,
   "metadata": {},
   "outputs": [
    {
     "name": "stderr",
     "output_type": "stream",
     "text": [
      "C:\\Users\\banan\\AppData\\Local\\Temp\\ipykernel_8484\\3728280255.py:1: UserWarning: Boolean Series key will be reindexed to match DataFrame index.\n",
      "  features_zeros = features_train[target == 0]\n",
      "C:\\Users\\banan\\AppData\\Local\\Temp\\ipykernel_8484\\3728280255.py:2: UserWarning: Boolean Series key will be reindexed to match DataFrame index.\n",
      "  features_ones = features_train[target == 1]\n"
     ]
    }
   ],
   "source": [
    "features_zeros = features_train[target == 0]\n",
    "features_ones = features_train[target == 1]\n",
    "target_zeros = target_train[target == 0]\n",
    "target_ones = target_train[target == 1]"
   ]
  },
  {
   "cell_type": "code",
   "execution_count": 39,
   "metadata": {},
   "outputs": [],
   "source": [
    "features_upsampled = pd.concat([features_zeros] + [features_ones] * 4)\n",
    "target_upsampled = pd.concat([target_zeros] + [target_ones] * 4)\n",
    "features_upsampled, target_upsampled = shuffle(features_upsampled, target_upsampled, random_state=322)\n"
   ]
  },
  {
   "cell_type": "markdown",
   "metadata": {},
   "source": [
    "#### Случайный лес"
   ]
  },
  {
   "cell_type": "code",
   "execution_count": 40,
   "metadata": {},
   "outputs": [],
   "source": [
    "def objective(trial):\n",
    "    n_estimators = trial.suggest_int('n_estimators', 20, 150)\n",
    "    max_depth = trial.suggest_int('max_depth', 2, 30)\n",
    "    min_samples_split = trial.suggest_int('min_samples_split', 2, 10)\n",
    "    min_samples_leaf = trial.suggest_int('min_samples_leaf', 1, 10)\n",
    "    criterion = trial.suggest_categorical('criterion', ['gini', 'entropy'])\n",
    "\n",
    "    rfc = RandomForestClassifier(n_estimators=n_estimators,\n",
    "                                   max_depth=max_depth,\n",
    "                                   min_samples_split=min_samples_split,\n",
    "                                   min_samples_leaf=min_samples_leaf,\n",
    "                                   criterion=criterion,\n",
    "                                   random_state=322)\n",
    "\n",
    "    rfc.fit(features_upsampled, target_upsampled)\n",
    "\n",
    "    predicted_valid = rfc.predict(features_valid)\n",
    "\n",
    "    f1 = f1_score(predicted_valid, target_valid)\n",
    "    return f1"
   ]
  },
  {
   "cell_type": "code",
   "execution_count": 41,
   "metadata": {
    "scrolled": true
   },
   "outputs": [
    {
     "name": "stderr",
     "output_type": "stream",
     "text": [
      "\u001b[32m[I 2023-03-15 19:12:29,184]\u001b[0m A new study created in memory with name: no-name-8aa2ece9-9c40-4699-ae2d-6af9bdcf7f9e\u001b[0m\n",
      "\u001b[32m[I 2023-03-15 19:12:29,839]\u001b[0m Trial 0 finished with value: 0.5583756345177666 and parameters: {'n_estimators': 100, 'max_depth': 14, 'min_samples_split': 2, 'min_samples_leaf': 1, 'criterion': 'entropy'}. Best is trial 0 with value: 0.5583756345177666.\u001b[0m\n",
      "\u001b[32m[I 2023-03-15 19:12:30,093]\u001b[0m Trial 1 finished with value: 0.5333333333333332 and parameters: {'n_estimators': 46, 'max_depth': 17, 'min_samples_split': 9, 'min_samples_leaf': 5, 'criterion': 'gini'}. Best is trial 0 with value: 0.5583756345177666.\u001b[0m\n",
      "\u001b[32m[I 2023-03-15 19:12:30,275]\u001b[0m Trial 2 finished with value: 0.5391304347826087 and parameters: {'n_estimators': 33, 'max_depth': 10, 'min_samples_split': 7, 'min_samples_leaf': 4, 'criterion': 'entropy'}. Best is trial 0 with value: 0.5583756345177666.\u001b[0m\n",
      "\u001b[32m[I 2023-03-15 19:12:30,859]\u001b[0m Trial 3 finished with value: 0.5432937181663837 and parameters: {'n_estimators': 107, 'max_depth': 15, 'min_samples_split': 6, 'min_samples_leaf': 4, 'criterion': 'gini'}. Best is trial 0 with value: 0.5583756345177666.\u001b[0m\n",
      "\u001b[32m[I 2023-03-15 19:12:31,078]\u001b[0m Trial 4 finished with value: 0.5457627118644068 and parameters: {'n_estimators': 41, 'max_depth': 17, 'min_samples_split': 6, 'min_samples_leaf': 8, 'criterion': 'gini'}. Best is trial 0 with value: 0.5583756345177666.\u001b[0m\n",
      "\u001b[32m[I 2023-03-15 19:12:31,416]\u001b[0m Trial 5 finished with value: 0.5381944444444444 and parameters: {'n_estimators': 66, 'max_depth': 12, 'min_samples_split': 10, 'min_samples_leaf': 6, 'criterion': 'gini'}. Best is trial 0 with value: 0.5583756345177666.\u001b[0m\n",
      "\u001b[32m[I 2023-03-15 19:12:31,587]\u001b[0m Trial 6 finished with value: 0.547008547008547 and parameters: {'n_estimators': 29, 'max_depth': 21, 'min_samples_split': 4, 'min_samples_leaf': 10, 'criterion': 'entropy'}. Best is trial 0 with value: 0.5583756345177666.\u001b[0m\n",
      "\u001b[32m[I 2023-03-15 19:12:32,179]\u001b[0m Trial 7 finished with value: 0.5381944444444444 and parameters: {'n_estimators': 125, 'max_depth': 10, 'min_samples_split': 6, 'min_samples_leaf': 7, 'criterion': 'gini'}. Best is trial 0 with value: 0.5583756345177666.\u001b[0m\n",
      "\u001b[32m[I 2023-03-15 19:12:32,328]\u001b[0m Trial 8 finished with value: 0.23584905660377362 and parameters: {'n_estimators': 58, 'max_depth': 3, 'min_samples_split': 6, 'min_samples_leaf': 9, 'criterion': 'gini'}. Best is trial 0 with value: 0.5583756345177666.\u001b[0m\n",
      "\u001b[32m[I 2023-03-15 19:12:32,966]\u001b[0m Trial 9 finished with value: 0.5467128027681661 and parameters: {'n_estimators': 105, 'max_depth': 23, 'min_samples_split': 2, 'min_samples_leaf': 6, 'criterion': 'entropy'}. Best is trial 0 with value: 0.5583756345177666.\u001b[0m\n",
      "\u001b[32m[I 2023-03-15 19:12:33,991]\u001b[0m Trial 10 finished with value: 0.5638474295190713 and parameters: {'n_estimators': 149, 'max_depth': 29, 'min_samples_split': 2, 'min_samples_leaf': 1, 'criterion': 'entropy'}. Best is trial 10 with value: 0.5638474295190713.\u001b[0m\n",
      "\u001b[32m[I 2023-03-15 19:12:35,006]\u001b[0m Trial 11 finished with value: 0.5657237936772046 and parameters: {'n_estimators': 148, 'max_depth': 30, 'min_samples_split': 2, 'min_samples_leaf': 1, 'criterion': 'entropy'}. Best is trial 11 with value: 0.5657237936772046.\u001b[0m\n",
      "\u001b[32m[I 2023-03-15 19:12:36,017]\u001b[0m Trial 12 finished with value: 0.5662251655629139 and parameters: {'n_estimators': 148, 'max_depth': 30, 'min_samples_split': 3, 'min_samples_leaf': 1, 'criterion': 'entropy'}. Best is trial 12 with value: 0.5662251655629139.\u001b[0m\n",
      "\u001b[32m[I 2023-03-15 19:12:37,024]\u001b[0m Trial 13 finished with value: 0.5457627118644068 and parameters: {'n_estimators': 148, 'max_depth': 30, 'min_samples_split': 4, 'min_samples_leaf': 2, 'criterion': 'entropy'}. Best is trial 12 with value: 0.5662251655629139.\u001b[0m\n",
      "\u001b[32m[I 2023-03-15 19:12:37,870]\u001b[0m Trial 14 finished with value: 0.5527638190954773 and parameters: {'n_estimators': 129, 'max_depth': 25, 'min_samples_split': 4, 'min_samples_leaf': 3, 'criterion': 'entropy'}. Best is trial 12 with value: 0.5662251655629139.\u001b[0m\n",
      "\u001b[32m[I 2023-03-15 19:12:38,737]\u001b[0m Trial 15 finished with value: 0.5506756756756757 and parameters: {'n_estimators': 128, 'max_depth': 26, 'min_samples_split': 3, 'min_samples_leaf': 2, 'criterion': 'entropy'}. Best is trial 12 with value: 0.5662251655629139.\u001b[0m\n",
      "\u001b[32m[I 2023-03-15 19:12:39,310]\u001b[0m Trial 16 finished with value: 0.5499999999999999 and parameters: {'n_estimators': 85, 'max_depth': 28, 'min_samples_split': 3, 'min_samples_leaf': 3, 'criterion': 'entropy'}. Best is trial 12 with value: 0.5662251655629139.\u001b[0m\n",
      "\u001b[32m[I 2023-03-15 19:12:40,281]\u001b[0m Trial 17 finished with value: 0.5642737896494157 and parameters: {'n_estimators': 140, 'max_depth': 22, 'min_samples_split': 3, 'min_samples_leaf': 1, 'criterion': 'entropy'}. Best is trial 12 with value: 0.5662251655629139.\u001b[0m\n",
      "\u001b[32m[I 2023-03-15 19:12:40,853]\u001b[0m Trial 18 finished with value: 0.5628140703517588 and parameters: {'n_estimators': 83, 'max_depth': 20, 'min_samples_split': 5, 'min_samples_leaf': 3, 'criterion': 'entropy'}. Best is trial 12 with value: 0.5662251655629139.\u001b[0m\n",
      "\u001b[32m[I 2023-03-15 19:12:41,618]\u001b[0m Trial 19 finished with value: 0.5540540540540541 and parameters: {'n_estimators': 113, 'max_depth': 26, 'min_samples_split': 2, 'min_samples_leaf': 2, 'criterion': 'entropy'}. Best is trial 12 with value: 0.5662251655629139.\u001b[0m\n",
      "\u001b[32m[I 2023-03-15 19:12:42,054]\u001b[0m Trial 20 finished with value: 0.3758099352051836 and parameters: {'n_estimators': 136, 'max_depth': 4, 'min_samples_split': 8, 'min_samples_leaf': 4, 'criterion': 'entropy'}. Best is trial 12 with value: 0.5662251655629139.\u001b[0m\n",
      "\u001b[32m[I 2023-03-15 19:12:43,006]\u001b[0m Trial 21 finished with value: 0.5681063122923588 and parameters: {'n_estimators': 140, 'max_depth': 30, 'min_samples_split': 3, 'min_samples_leaf': 1, 'criterion': 'entropy'}. Best is trial 21 with value: 0.5681063122923588.\u001b[0m\n",
      "\u001b[32m[I 2023-03-15 19:12:43,852]\u001b[0m Trial 22 finished with value: 0.5648604269293924 and parameters: {'n_estimators': 121, 'max_depth': 30, 'min_samples_split': 3, 'min_samples_leaf': 1, 'criterion': 'entropy'}. Best is trial 21 with value: 0.5681063122923588.\u001b[0m\n",
      "\u001b[32m[I 2023-03-15 19:12:44,795]\u001b[0m Trial 23 finished with value: 0.5463743676222598 and parameters: {'n_estimators': 141, 'max_depth': 27, 'min_samples_split': 5, 'min_samples_leaf': 2, 'criterion': 'entropy'}. Best is trial 21 with value: 0.5681063122923588.\u001b[0m\n",
      "\u001b[32m[I 2023-03-15 19:12:45,819]\u001b[0m Trial 24 finished with value: 0.5509181969949917 and parameters: {'n_estimators': 150, 'max_depth': 24, 'min_samples_split': 4, 'min_samples_leaf': 1, 'criterion': 'entropy'}. Best is trial 21 with value: 0.5681063122923588.\u001b[0m\n",
      "\u001b[32m[I 2023-03-15 19:12:46,688]\u001b[0m Trial 25 finished with value: 0.5518394648829431 and parameters: {'n_estimators': 133, 'max_depth': 30, 'min_samples_split': 5, 'min_samples_leaf': 3, 'criterion': 'entropy'}. Best is trial 21 with value: 0.5681063122923588.\u001b[0m\n",
      "\u001b[32m[I 2023-03-15 19:12:47,474]\u001b[0m Trial 26 finished with value: 0.5491525423728814 and parameters: {'n_estimators': 117, 'max_depth': 27, 'min_samples_split': 3, 'min_samples_leaf': 2, 'criterion': 'entropy'}. Best is trial 21 with value: 0.5681063122923588.\u001b[0m\n",
      "\u001b[32m[I 2023-03-15 19:12:48,061]\u001b[0m Trial 27 finished with value: 0.5574324324324325 and parameters: {'n_estimators': 93, 'max_depth': 20, 'min_samples_split': 3, 'min_samples_leaf': 5, 'criterion': 'entropy'}. Best is trial 21 with value: 0.5681063122923588.\u001b[0m\n",
      "\u001b[32m[I 2023-03-15 19:12:49,037]\u001b[0m Trial 28 finished with value: 0.5733333333333333 and parameters: {'n_estimators': 141, 'max_depth': 28, 'min_samples_split': 2, 'min_samples_leaf': 1, 'criterion': 'entropy'}. Best is trial 28 with value: 0.5733333333333333.\u001b[0m\n",
      "\u001b[32m[I 2023-03-15 19:12:49,710]\u001b[0m Trial 29 finished with value: 0.5564924114671163 and parameters: {'n_estimators': 96, 'max_depth': 24, 'min_samples_split': 2, 'min_samples_leaf': 1, 'criterion': 'entropy'}. Best is trial 28 with value: 0.5733333333333333.\u001b[0m\n",
      "\u001b[32m[I 2023-03-15 19:12:50,463]\u001b[0m Trial 30 finished with value: 0.5564924114671163 and parameters: {'n_estimators': 112, 'max_depth': 28, 'min_samples_split': 4, 'min_samples_leaf': 2, 'criterion': 'entropy'}. Best is trial 28 with value: 0.5733333333333333.\u001b[0m\n"
     ]
    },
    {
     "name": "stderr",
     "output_type": "stream",
     "text": [
      "\u001b[32m[I 2023-03-15 19:12:51,437]\u001b[0m Trial 31 finished with value: 0.5733333333333333 and parameters: {'n_estimators': 141, 'max_depth': 28, 'min_samples_split': 2, 'min_samples_leaf': 1, 'criterion': 'entropy'}. Best is trial 28 with value: 0.5733333333333333.\u001b[0m\n",
      "\u001b[32m[I 2023-03-15 19:12:52,399]\u001b[0m Trial 32 finished with value: 0.5671140939597314 and parameters: {'n_estimators': 139, 'max_depth': 28, 'min_samples_split': 2, 'min_samples_leaf': 1, 'criterion': 'entropy'}. Best is trial 28 with value: 0.5733333333333333.\u001b[0m\n",
      "\u001b[32m[I 2023-03-15 19:12:53,321]\u001b[0m Trial 33 finished with value: 0.5426621160409556 and parameters: {'n_estimators': 138, 'max_depth': 25, 'min_samples_split': 2, 'min_samples_leaf': 2, 'criterion': 'entropy'}. Best is trial 28 with value: 0.5733333333333333.\u001b[0m\n",
      "\u001b[32m[I 2023-03-15 19:12:54,016]\u001b[0m Trial 34 finished with value: 0.5516074450084603 and parameters: {'n_estimators': 123, 'max_depth': 28, 'min_samples_split': 2, 'min_samples_leaf': 3, 'criterion': 'gini'}. Best is trial 28 with value: 0.5733333333333333.\u001b[0m\n",
      "\u001b[32m[I 2023-03-15 19:12:54,941]\u001b[0m Trial 35 finished with value: 0.561344537815126 and parameters: {'n_estimators': 134, 'max_depth': 19, 'min_samples_split': 2, 'min_samples_leaf': 1, 'criterion': 'entropy'}. Best is trial 28 with value: 0.5733333333333333.\u001b[0m\n",
      "\u001b[32m[I 2023-03-15 19:12:55,480]\u001b[0m Trial 36 finished with value: 0.5236363636363636 and parameters: {'n_estimators': 142, 'max_depth': 6, 'min_samples_split': 7, 'min_samples_leaf': 4, 'criterion': 'gini'}. Best is trial 28 with value: 0.5733333333333333.\u001b[0m\n",
      "\u001b[32m[I 2023-03-15 19:12:55,971]\u001b[0m Trial 37 finished with value: 0.5536912751677852 and parameters: {'n_estimators': 74, 'max_depth': 23, 'min_samples_split': 3, 'min_samples_leaf': 5, 'criterion': 'entropy'}. Best is trial 28 with value: 0.5733333333333333.\u001b[0m\n",
      "\u001b[32m[I 2023-03-15 19:12:56,781]\u001b[0m Trial 38 finished with value: 0.5408163265306123 and parameters: {'n_estimators': 130, 'max_depth': 26, 'min_samples_split': 9, 'min_samples_leaf': 7, 'criterion': 'entropy'}. Best is trial 28 with value: 0.5733333333333333.\u001b[0m\n",
      "\u001b[32m[I 2023-03-15 19:12:57,390]\u001b[0m Trial 39 finished with value: 0.5295109612141653 and parameters: {'n_estimators': 105, 'max_depth': 16, 'min_samples_split': 2, 'min_samples_leaf': 2, 'criterion': 'gini'}. Best is trial 28 with value: 0.5733333333333333.\u001b[0m\n",
      "\u001b[32m[I 2023-03-15 19:12:58,186]\u001b[0m Trial 40 finished with value: 0.5602716468590832 and parameters: {'n_estimators': 119, 'max_depth': 14, 'min_samples_split': 2, 'min_samples_leaf': 1, 'criterion': 'entropy'}. Best is trial 28 with value: 0.5733333333333333.\u001b[0m\n",
      "\u001b[32m[I 2023-03-15 19:12:59,165]\u001b[0m Trial 41 finished with value: 0.5671641791044776 and parameters: {'n_estimators': 144, 'max_depth': 28, 'min_samples_split': 3, 'min_samples_leaf': 1, 'criterion': 'entropy'}. Best is trial 28 with value: 0.5733333333333333.\u001b[0m\n",
      "\u001b[32m[I 2023-03-15 19:13:00,146]\u001b[0m Trial 42 finished with value: 0.5557404326123129 and parameters: {'n_estimators': 143, 'max_depth': 28, 'min_samples_split': 4, 'min_samples_leaf': 1, 'criterion': 'entropy'}. Best is trial 28 with value: 0.5733333333333333.\u001b[0m\n",
      "\u001b[32m[I 2023-03-15 19:13:01,045]\u001b[0m Trial 43 finished with value: 0.5555555555555556 and parameters: {'n_estimators': 134, 'max_depth': 28, 'min_samples_split': 3, 'min_samples_leaf': 2, 'criterion': 'entropy'}. Best is trial 28 with value: 0.5733333333333333.\u001b[0m\n",
      "\u001b[32m[I 2023-03-15 19:13:01,919]\u001b[0m Trial 44 finished with value: 0.5593220338983051 and parameters: {'n_estimators': 126, 'max_depth': 25, 'min_samples_split': 2, 'min_samples_leaf': 1, 'criterion': 'entropy'}. Best is trial 28 with value: 0.5733333333333333.\u001b[0m\n",
      "\u001b[32m[I 2023-03-15 19:13:02,177]\u001b[0m Trial 45 finished with value: 0.5315161839863715 and parameters: {'n_estimators': 47, 'max_depth': 29, 'min_samples_split': 3, 'min_samples_leaf': 10, 'criterion': 'gini'}. Best is trial 28 with value: 0.5733333333333333.\u001b[0m\n",
      "\u001b[32m[I 2023-03-15 19:13:03,125]\u001b[0m Trial 46 finished with value: 0.5575959933222037 and parameters: {'n_estimators': 144, 'max_depth': 27, 'min_samples_split': 2, 'min_samples_leaf': 3, 'criterion': 'entropy'}. Best is trial 28 with value: 0.5733333333333333.\u001b[0m\n",
      "\u001b[32m[I 2023-03-15 19:13:03,957]\u001b[0m Trial 47 finished with value: 0.5344827586206896 and parameters: {'n_estimators': 138, 'max_depth': 18, 'min_samples_split': 5, 'min_samples_leaf': 9, 'criterion': 'entropy'}. Best is trial 28 with value: 0.5733333333333333.\u001b[0m\n",
      "\u001b[32m[I 2023-03-15 19:13:04,889]\u001b[0m Trial 48 finished with value: 0.5460750853242321 and parameters: {'n_estimators': 145, 'max_depth': 22, 'min_samples_split': 4, 'min_samples_leaf': 4, 'criterion': 'entropy'}. Best is trial 28 with value: 0.5733333333333333.\u001b[0m\n",
      "\u001b[32m[I 2023-03-15 19:13:05,454]\u001b[0m Trial 49 finished with value: 0.5397923875432526 and parameters: {'n_estimators': 111, 'max_depth': 10, 'min_samples_split': 10, 'min_samples_leaf': 1, 'criterion': 'gini'}. Best is trial 28 with value: 0.5733333333333333.\u001b[0m\n",
      "\u001b[32m[I 2023-03-15 19:13:06,342]\u001b[0m Trial 50 finished with value: 0.5516074450084603 and parameters: {'n_estimators': 131, 'max_depth': 29, 'min_samples_split': 3, 'min_samples_leaf': 2, 'criterion': 'entropy'}. Best is trial 28 with value: 0.5733333333333333.\u001b[0m\n",
      "\u001b[32m[I 2023-03-15 19:13:07,357]\u001b[0m Trial 51 finished with value: 0.568595041322314 and parameters: {'n_estimators': 149, 'max_depth': 30, 'min_samples_split': 3, 'min_samples_leaf': 1, 'criterion': 'entropy'}. Best is trial 28 with value: 0.5733333333333333.\u001b[0m\n",
      "\u001b[32m[I 2023-03-15 19:13:08,361]\u001b[0m Trial 52 finished with value: 0.570480928689884 and parameters: {'n_estimators': 145, 'max_depth': 29, 'min_samples_split': 2, 'min_samples_leaf': 1, 'criterion': 'entropy'}. Best is trial 28 with value: 0.5733333333333333.\u001b[0m\n",
      "\u001b[32m[I 2023-03-15 19:13:09,388]\u001b[0m Trial 53 finished with value: 0.5662251655629139 and parameters: {'n_estimators': 150, 'max_depth': 30, 'min_samples_split': 3, 'min_samples_leaf': 1, 'criterion': 'entropy'}. Best is trial 28 with value: 0.5733333333333333.\u001b[0m\n",
      "\u001b[32m[I 2023-03-15 19:13:09,570]\u001b[0m Trial 54 finished with value: 0.5391014975041598 and parameters: {'n_estimators': 24, 'max_depth': 29, 'min_samples_split': 4, 'min_samples_leaf': 2, 'criterion': 'entropy'}. Best is trial 28 with value: 0.5733333333333333.\u001b[0m\n",
      "\u001b[32m[I 2023-03-15 19:13:10,573]\u001b[0m Trial 55 finished with value: 0.5714285714285714 and parameters: {'n_estimators': 145, 'max_depth': 26, 'min_samples_split': 2, 'min_samples_leaf': 1, 'criterion': 'entropy'}. Best is trial 28 with value: 0.5733333333333333.\u001b[0m\n",
      "\u001b[32m[I 2023-03-15 19:13:11,441]\u001b[0m Trial 56 finished with value: 0.5497470489038786 and parameters: {'n_estimators': 127, 'max_depth': 26, 'min_samples_split': 2, 'min_samples_leaf': 2, 'criterion': 'entropy'}. Best is trial 28 with value: 0.5733333333333333.\u001b[0m\n",
      "\u001b[32m[I 2023-03-15 19:13:12,413]\u001b[0m Trial 57 finished with value: 0.5527638190954773 and parameters: {'n_estimators': 145, 'max_depth': 24, 'min_samples_split': 2, 'min_samples_leaf': 3, 'criterion': 'entropy'}. Best is trial 28 with value: 0.5733333333333333.\u001b[0m\n",
      "\u001b[32m[I 2023-03-15 19:13:13,363]\u001b[0m Trial 58 finished with value: 0.5652173913043478 and parameters: {'n_estimators': 133, 'max_depth': 27, 'min_samples_split': 2, 'min_samples_leaf': 1, 'criterion': 'entropy'}. Best is trial 28 with value: 0.5733333333333333.\u001b[0m\n",
      "\u001b[32m[I 2023-03-15 19:13:14,279]\u001b[0m Trial 59 finished with value: 0.5466893039049237 and parameters: {'n_estimators': 139, 'max_depth': 30, 'min_samples_split': 7, 'min_samples_leaf': 2, 'criterion': 'entropy'}. Best is trial 28 with value: 0.5733333333333333.\u001b[0m\n",
      "\u001b[32m[I 2023-03-15 19:13:15,285]\u001b[0m Trial 60 finished with value: 0.5671641791044776 and parameters: {'n_estimators': 148, 'max_depth': 29, 'min_samples_split': 3, 'min_samples_leaf': 1, 'criterion': 'entropy'}. Best is trial 28 with value: 0.5733333333333333.\u001b[0m\n",
      "\u001b[32m[I 2023-03-15 19:13:16,281]\u001b[0m Trial 61 finished with value: 0.5599999999999999 and parameters: {'n_estimators': 144, 'max_depth': 27, 'min_samples_split': 3, 'min_samples_leaf': 1, 'criterion': 'entropy'}. Best is trial 28 with value: 0.5733333333333333.\u001b[0m\n"
     ]
    },
    {
     "name": "stderr",
     "output_type": "stream",
     "text": [
      "\u001b[32m[I 2023-03-15 19:13:17,309]\u001b[0m Trial 62 finished with value: 0.5605306799336649 and parameters: {'n_estimators': 150, 'max_depth': 26, 'min_samples_split': 3, 'min_samples_leaf': 1, 'criterion': 'entropy'}. Best is trial 28 with value: 0.5733333333333333.\u001b[0m\n",
      "\u001b[32m[I 2023-03-15 19:13:18,262]\u001b[0m Trial 63 finished with value: 0.5681063122923588 and parameters: {'n_estimators': 137, 'max_depth': 29, 'min_samples_split': 2, 'min_samples_leaf': 1, 'criterion': 'entropy'}. Best is trial 28 with value: 0.5733333333333333.\u001b[0m\n",
      "\u001b[32m[I 2023-03-15 19:13:19,185]\u001b[0m Trial 64 finished with value: 0.5466893039049237 and parameters: {'n_estimators': 138, 'max_depth': 29, 'min_samples_split': 2, 'min_samples_leaf': 2, 'criterion': 'entropy'}. Best is trial 28 with value: 0.5733333333333333.\u001b[0m\n",
      "\u001b[32m[I 2023-03-15 19:13:20,053]\u001b[0m Trial 65 finished with value: 0.5628140703517588 and parameters: {'n_estimators': 125, 'max_depth': 30, 'min_samples_split': 2, 'min_samples_leaf': 1, 'criterion': 'entropy'}. Best is trial 28 with value: 0.5733333333333333.\u001b[0m\n",
      "\u001b[32m[I 2023-03-15 19:13:20,885]\u001b[0m Trial 66 finished with value: 0.549828178694158 and parameters: {'n_estimators': 135, 'max_depth': 25, 'min_samples_split': 2, 'min_samples_leaf': 6, 'criterion': 'entropy'}. Best is trial 28 with value: 0.5733333333333333.\u001b[0m\n",
      "\u001b[32m[I 2023-03-15 19:13:21,672]\u001b[0m Trial 67 finished with value: 0.5525423728813559 and parameters: {'n_estimators': 116, 'max_depth': 27, 'min_samples_split': 2, 'min_samples_leaf': 2, 'criterion': 'entropy'}. Best is trial 28 with value: 0.5733333333333333.\u001b[0m\n",
      "\u001b[32m[I 2023-03-15 19:13:22,469]\u001b[0m Trial 68 finished with value: 0.5408163265306123 and parameters: {'n_estimators': 130, 'max_depth': 29, 'min_samples_split': 4, 'min_samples_leaf': 7, 'criterion': 'entropy'}. Best is trial 28 with value: 0.5733333333333333.\u001b[0m\n",
      "\u001b[32m[I 2023-03-15 19:13:23,202]\u001b[0m Trial 69 finished with value: 0.5494137353433836 and parameters: {'n_estimators': 122, 'max_depth': 30, 'min_samples_split': 3, 'min_samples_leaf': 1, 'criterion': 'gini'}. Best is trial 28 with value: 0.5733333333333333.\u001b[0m\n",
      "\u001b[32m[I 2023-03-15 19:13:24,184]\u001b[0m Trial 70 finished with value: 0.5488215488215488 and parameters: {'n_estimators': 146, 'max_depth': 23, 'min_samples_split': 2, 'min_samples_leaf': 2, 'criterion': 'entropy'}. Best is trial 28 with value: 0.5733333333333333.\u001b[0m\n",
      "\u001b[32m[I 2023-03-15 19:13:25,159]\u001b[0m Trial 71 finished with value: 0.5638474295190713 and parameters: {'n_estimators': 142, 'max_depth': 28, 'min_samples_split': 3, 'min_samples_leaf': 1, 'criterion': 'entropy'}. Best is trial 28 with value: 0.5733333333333333.\u001b[0m\n",
      "\u001b[32m[I 2023-03-15 19:13:26,125]\u001b[0m Trial 72 finished with value: 0.5609348914858097 and parameters: {'n_estimators': 140, 'max_depth': 26, 'min_samples_split': 3, 'min_samples_leaf': 1, 'criterion': 'entropy'}. Best is trial 28 with value: 0.5733333333333333.\u001b[0m\n",
      "\u001b[32m[I 2023-03-15 19:13:27,150]\u001b[0m Trial 73 finished with value: 0.5652173913043478 and parameters: {'n_estimators': 146, 'max_depth': 28, 'min_samples_split': 2, 'min_samples_leaf': 1, 'criterion': 'entropy'}. Best is trial 28 with value: 0.5733333333333333.\u001b[0m\n",
      "\u001b[32m[I 2023-03-15 19:13:28,114]\u001b[0m Trial 74 finished with value: 0.5622895622895623 and parameters: {'n_estimators': 136, 'max_depth': 29, 'min_samples_split': 2, 'min_samples_leaf': 1, 'criterion': 'entropy'}. Best is trial 28 with value: 0.5733333333333333.\u001b[0m\n",
      "\u001b[32m[I 2023-03-15 19:13:28,575]\u001b[0m Trial 75 finished with value: 0.5566666666666666 and parameters: {'n_estimators': 64, 'max_depth': 27, 'min_samples_split': 3, 'min_samples_leaf': 1, 'criterion': 'entropy'}. Best is trial 28 with value: 0.5733333333333333.\u001b[0m\n",
      "\u001b[32m[I 2023-03-15 19:13:29,597]\u001b[0m Trial 76 finished with value: 0.5476190476190477 and parameters: {'n_estimators': 150, 'max_depth': 30, 'min_samples_split': 2, 'min_samples_leaf': 2, 'criterion': 'entropy'}. Best is trial 28 with value: 0.5733333333333333.\u001b[0m\n",
      "\u001b[32m[I 2023-03-15 19:13:30,546]\u001b[0m Trial 77 finished with value: 0.5417376490630323 and parameters: {'n_estimators': 141, 'max_depth': 28, 'min_samples_split': 4, 'min_samples_leaf': 2, 'criterion': 'entropy'}. Best is trial 28 with value: 0.5733333333333333.\u001b[0m\n",
      "\u001b[32m[I 2023-03-15 19:13:31,446]\u001b[0m Trial 78 finished with value: 0.5629139072847683 and parameters: {'n_estimators': 132, 'max_depth': 26, 'min_samples_split': 3, 'min_samples_leaf': 1, 'criterion': 'entropy'}. Best is trial 28 with value: 0.5733333333333333.\u001b[0m\n",
      "\u001b[32m[I 2023-03-15 19:13:32,279]\u001b[0m Trial 79 finished with value: 0.5310344827586206 and parameters: {'n_estimators': 137, 'max_depth': 25, 'min_samples_split': 2, 'min_samples_leaf': 8, 'criterion': 'entropy'}. Best is trial 28 with value: 0.5733333333333333.\u001b[0m\n",
      "\u001b[32m[I 2023-03-15 19:13:33,047]\u001b[0m Trial 80 finished with value: 0.5601374570446737 and parameters: {'n_estimators': 146, 'max_depth': 11, 'min_samples_split': 3, 'min_samples_leaf': 1, 'criterion': 'gini'}. Best is trial 28 with value: 0.5733333333333333.\u001b[0m\n",
      "\u001b[32m[I 2023-03-15 19:13:34,014]\u001b[0m Trial 81 finished with value: 0.5681063122923588 and parameters: {'n_estimators': 141, 'max_depth': 29, 'min_samples_split': 3, 'min_samples_leaf': 1, 'criterion': 'entropy'}. Best is trial 28 with value: 0.5733333333333333.\u001b[0m\n",
      "\u001b[32m[I 2023-03-15 19:13:34,983]\u001b[0m Trial 82 finished with value: 0.5457627118644068 and parameters: {'n_estimators': 142, 'max_depth': 29, 'min_samples_split': 6, 'min_samples_leaf': 1, 'criterion': 'entropy'}. Best is trial 28 with value: 0.5733333333333333.\u001b[0m\n",
      "\u001b[32m[I 2023-03-15 19:13:35,984]\u001b[0m Trial 83 finished with value: 0.5423728813559322 and parameters: {'n_estimators': 147, 'max_depth': 30, 'min_samples_split': 4, 'min_samples_leaf': 2, 'criterion': 'entropy'}. Best is trial 28 with value: 0.5733333333333333.\u001b[0m\n",
      "\u001b[32m[I 2023-03-15 19:13:36,880]\u001b[0m Trial 84 finished with value: 0.5643564356435644 and parameters: {'n_estimators': 129, 'max_depth': 28, 'min_samples_split': 3, 'min_samples_leaf': 1, 'criterion': 'entropy'}. Best is trial 28 with value: 0.5733333333333333.\u001b[0m\n",
      "\u001b[32m[I 2023-03-15 19:13:37,841]\u001b[0m Trial 85 finished with value: 0.5491525423728814 and parameters: {'n_estimators': 142, 'max_depth': 27, 'min_samples_split': 2, 'min_samples_leaf': 2, 'criterion': 'entropy'}. Best is trial 28 with value: 0.5733333333333333.\u001b[0m\n",
      "\u001b[32m[I 2023-03-15 19:13:38,463]\u001b[0m Trial 86 finished with value: 0.515426497277677 and parameters: {'n_estimators': 136, 'max_depth': 7, 'min_samples_split': 2, 'min_samples_leaf': 1, 'criterion': 'entropy'}. Best is trial 28 with value: 0.5733333333333333.\u001b[0m\n",
      "\u001b[32m[I 2023-03-15 19:13:39,039]\u001b[0m Trial 87 finished with value: 0.5460750853242321 and parameters: {'n_estimators': 84, 'max_depth': 29, 'min_samples_split': 9, 'min_samples_leaf': 1, 'criterion': 'entropy'}. Best is trial 28 with value: 0.5733333333333333.\u001b[0m\n",
      "\u001b[32m[I 2023-03-15 19:13:39,937]\u001b[0m Trial 88 finished with value: 0.5516074450084603 and parameters: {'n_estimators': 133, 'max_depth': 28, 'min_samples_split': 3, 'min_samples_leaf': 2, 'criterion': 'entropy'}. Best is trial 28 with value: 0.5733333333333333.\u001b[0m\n",
      "\u001b[32m[I 2023-03-15 19:13:40,903]\u001b[0m Trial 89 finished with value: 0.5509181969949917 and parameters: {'n_estimators': 140, 'max_depth': 30, 'min_samples_split': 5, 'min_samples_leaf': 1, 'criterion': 'entropy'}. Best is trial 28 with value: 0.5733333333333333.\u001b[0m\n",
      "\u001b[32m[I 2023-03-15 19:13:41,171]\u001b[0m Trial 90 finished with value: 0.5494137353433836 and parameters: {'n_estimators': 36, 'max_depth': 27, 'min_samples_split': 3, 'min_samples_leaf': 1, 'criterion': 'entropy'}. Best is trial 28 with value: 0.5733333333333333.\u001b[0m\n",
      "\u001b[32m[I 2023-03-15 19:13:42,190]\u001b[0m Trial 91 finished with value: 0.5671641791044776 and parameters: {'n_estimators': 148, 'max_depth': 29, 'min_samples_split': 3, 'min_samples_leaf': 1, 'criterion': 'entropy'}. Best is trial 28 with value: 0.5733333333333333.\u001b[0m\n",
      "\u001b[32m[I 2023-03-15 19:13:43,228]\u001b[0m Trial 92 finished with value: 0.5695364238410596 and parameters: {'n_estimators': 147, 'max_depth': 29, 'min_samples_split': 2, 'min_samples_leaf': 1, 'criterion': 'entropy'}. Best is trial 28 with value: 0.5733333333333333.\u001b[0m\n"
     ]
    },
    {
     "name": "stderr",
     "output_type": "stream",
     "text": [
      "\u001b[32m[I 2023-03-15 19:13:44,253]\u001b[0m Trial 93 finished with value: 0.5690515806988352 and parameters: {'n_estimators': 144, 'max_depth': 28, 'min_samples_split': 2, 'min_samples_leaf': 1, 'criterion': 'entropy'}. Best is trial 28 with value: 0.5733333333333333.\u001b[0m\n",
      "\u001b[32m[I 2023-03-15 19:13:45,299]\u001b[0m Trial 94 finished with value: 0.5476190476190477 and parameters: {'n_estimators': 150, 'max_depth': 30, 'min_samples_split': 2, 'min_samples_leaf': 2, 'criterion': 'entropy'}. Best is trial 28 with value: 0.5733333333333333.\u001b[0m\n",
      "\u001b[32m[I 2023-03-15 19:13:45,929]\u001b[0m Trial 95 finished with value: 0.559463986599665 and parameters: {'n_estimators': 89, 'max_depth': 29, 'min_samples_split': 2, 'min_samples_leaf': 1, 'criterion': 'entropy'}. Best is trial 28 with value: 0.5733333333333333.\u001b[0m\n",
      "\u001b[32m[I 2023-03-15 19:13:46,927]\u001b[0m Trial 96 finished with value: 0.5714285714285714 and parameters: {'n_estimators': 143, 'max_depth': 27, 'min_samples_split': 2, 'min_samples_leaf': 1, 'criterion': 'entropy'}. Best is trial 28 with value: 0.5733333333333333.\u001b[0m\n",
      "\u001b[32m[I 2023-03-15 19:13:47,901]\u001b[0m Trial 97 finished with value: 0.5521885521885521 and parameters: {'n_estimators': 144, 'max_depth': 24, 'min_samples_split': 2, 'min_samples_leaf': 2, 'criterion': 'entropy'}. Best is trial 28 with value: 0.5733333333333333.\u001b[0m\n",
      "\u001b[32m[I 2023-03-15 19:13:48,724]\u001b[0m Trial 98 finished with value: 0.5585284280936454 and parameters: {'n_estimators': 137, 'max_depth': 27, 'min_samples_split': 2, 'min_samples_leaf': 1, 'criterion': 'gini'}. Best is trial 28 with value: 0.5733333333333333.\u001b[0m\n",
      "\u001b[32m[I 2023-03-15 19:13:49,745]\u001b[0m Trial 99 finished with value: 0.5681063122923588 and parameters: {'n_estimators': 147, 'max_depth': 26, 'min_samples_split': 2, 'min_samples_leaf': 1, 'criterion': 'entropy'}. Best is trial 28 with value: 0.5733333333333333.\u001b[0m\n",
      "\u001b[32m[I 2023-03-15 19:13:50,581]\u001b[0m Trial 100 finished with value: 0.5512605042016806 and parameters: {'n_estimators': 126, 'max_depth': 25, 'min_samples_split': 2, 'min_samples_leaf': 3, 'criterion': 'entropy'}. Best is trial 28 with value: 0.5733333333333333.\u001b[0m\n",
      "\u001b[32m[I 2023-03-15 19:13:51,545]\u001b[0m Trial 101 finished with value: 0.5671140939597314 and parameters: {'n_estimators': 139, 'max_depth': 28, 'min_samples_split': 2, 'min_samples_leaf': 1, 'criterion': 'entropy'}. Best is trial 28 with value: 0.5733333333333333.\u001b[0m\n",
      "\u001b[32m[I 2023-03-15 19:13:52,099]\u001b[0m Trial 102 finished with value: 0.5457627118644068 and parameters: {'n_estimators': 78, 'max_depth': 29, 'min_samples_split': 2, 'min_samples_leaf': 1, 'criterion': 'entropy'}. Best is trial 28 with value: 0.5733333333333333.\u001b[0m\n",
      "\u001b[32m[I 2023-03-15 19:13:53,087]\u001b[0m Trial 103 finished with value: 0.5737976782752902 and parameters: {'n_estimators': 143, 'max_depth': 30, 'min_samples_split': 2, 'min_samples_leaf': 1, 'criterion': 'entropy'}. Best is trial 103 with value: 0.5737976782752902.\u001b[0m\n",
      "\u001b[32m[I 2023-03-15 19:13:54,059]\u001b[0m Trial 104 finished with value: 0.5472972972972973 and parameters: {'n_estimators': 144, 'max_depth': 27, 'min_samples_split': 2, 'min_samples_leaf': 2, 'criterion': 'entropy'}. Best is trial 103 with value: 0.5737976782752902.\u001b[0m\n",
      "\u001b[32m[I 2023-03-15 19:13:55,074]\u001b[0m Trial 105 finished with value: 0.5681063122923588 and parameters: {'n_estimators': 147, 'max_depth': 28, 'min_samples_split': 2, 'min_samples_leaf': 1, 'criterion': 'entropy'}. Best is trial 103 with value: 0.5737976782752902.\u001b[0m\n",
      "\u001b[32m[I 2023-03-15 19:13:55,447]\u001b[0m Trial 106 finished with value: 0.5494137353433836 and parameters: {'n_estimators': 52, 'max_depth': 30, 'min_samples_split': 2, 'min_samples_leaf': 1, 'criterion': 'entropy'}. Best is trial 103 with value: 0.5737976782752902.\u001b[0m\n",
      "\u001b[32m[I 2023-03-15 19:13:56,351]\u001b[0m Trial 107 finished with value: 0.5516074450084603 and parameters: {'n_estimators': 135, 'max_depth': 30, 'min_samples_split': 2, 'min_samples_leaf': 2, 'criterion': 'entropy'}. Best is trial 103 with value: 0.5737976782752902.\u001b[0m\n",
      "\u001b[32m[I 2023-03-15 19:13:57,271]\u001b[0m Trial 108 finished with value: 0.5671140939597314 and parameters: {'n_estimators': 131, 'max_depth': 28, 'min_samples_split': 2, 'min_samples_leaf': 1, 'criterion': 'entropy'}. Best is trial 103 with value: 0.5737976782752902.\u001b[0m\n",
      "\u001b[32m[I 2023-03-15 19:13:58,266]\u001b[0m Trial 109 finished with value: 0.570480928689884 and parameters: {'n_estimators': 143, 'max_depth': 26, 'min_samples_split': 2, 'min_samples_leaf': 1, 'criterion': 'entropy'}. Best is trial 103 with value: 0.5737976782752902.\u001b[0m\n",
      "\u001b[32m[I 2023-03-15 19:13:59,272]\u001b[0m Trial 110 finished with value: 0.570480928689884 and parameters: {'n_estimators': 143, 'max_depth': 26, 'min_samples_split': 2, 'min_samples_leaf': 1, 'criterion': 'entropy'}. Best is trial 103 with value: 0.5737976782752902.\u001b[0m\n",
      "\u001b[32m[I 2023-03-15 19:14:00,297]\u001b[0m Trial 111 finished with value: 0.570480928689884 and parameters: {'n_estimators': 143, 'max_depth': 26, 'min_samples_split': 2, 'min_samples_leaf': 1, 'criterion': 'entropy'}. Best is trial 103 with value: 0.5737976782752902.\u001b[0m\n",
      "\u001b[32m[I 2023-03-15 19:14:01,306]\u001b[0m Trial 112 finished with value: 0.5652173913043478 and parameters: {'n_estimators': 143, 'max_depth': 24, 'min_samples_split': 2, 'min_samples_leaf': 1, 'criterion': 'entropy'}. Best is trial 103 with value: 0.5737976782752902.\u001b[0m\n",
      "\u001b[32m[I 2023-03-15 19:14:02,351]\u001b[0m Trial 113 finished with value: 0.563758389261745 and parameters: {'n_estimators': 150, 'max_depth': 22, 'min_samples_split': 2, 'min_samples_leaf': 1, 'criterion': 'entropy'}. Best is trial 103 with value: 0.5737976782752902.\u001b[0m\n",
      "\u001b[32m[I 2023-03-15 19:14:03,359]\u001b[0m Trial 114 finished with value: 0.5714285714285714 and parameters: {'n_estimators': 145, 'max_depth': 26, 'min_samples_split': 2, 'min_samples_leaf': 1, 'criterion': 'entropy'}. Best is trial 103 with value: 0.5737976782752902.\u001b[0m\n",
      "\u001b[32m[I 2023-03-15 19:14:04,354]\u001b[0m Trial 115 finished with value: 0.5497470489038786 and parameters: {'n_estimators': 145, 'max_depth': 26, 'min_samples_split': 2, 'min_samples_leaf': 2, 'criterion': 'entropy'}. Best is trial 103 with value: 0.5737976782752902.\u001b[0m\n",
      "\u001b[32m[I 2023-03-15 19:14:05,330]\u001b[0m Trial 116 finished with value: 0.5652173913043478 and parameters: {'n_estimators': 139, 'max_depth': 23, 'min_samples_split': 2, 'min_samples_leaf': 1, 'criterion': 'entropy'}. Best is trial 103 with value: 0.5737976782752902.\u001b[0m\n",
      "\u001b[32m[I 2023-03-15 19:14:06,328]\u001b[0m Trial 117 finished with value: 0.563758389261745 and parameters: {'n_estimators': 142, 'max_depth': 25, 'min_samples_split': 2, 'min_samples_leaf': 1, 'criterion': 'entropy'}. Best is trial 103 with value: 0.5737976782752902.\u001b[0m\n",
      "\u001b[32m[I 2023-03-15 19:14:07,139]\u001b[0m Trial 118 finished with value: 0.5521885521885521 and parameters: {'n_estimators': 134, 'max_depth': 26, 'min_samples_split': 2, 'min_samples_leaf': 1, 'criterion': 'gini'}. Best is trial 103 with value: 0.5737976782752902.\u001b[0m\n",
      "\u001b[32m[I 2023-03-15 19:14:07,807]\u001b[0m Trial 119 finished with value: 0.5482233502538071 and parameters: {'n_estimators': 99, 'max_depth': 25, 'min_samples_split': 8, 'min_samples_leaf': 2, 'criterion': 'entropy'}. Best is trial 103 with value: 0.5737976782752902.\u001b[0m\n",
      "\u001b[32m[I 2023-03-15 19:14:08,765]\u001b[0m Trial 120 finished with value: 0.5504273504273504 and parameters: {'n_estimators': 147, 'max_depth': 13, 'min_samples_split': 2, 'min_samples_leaf': 1, 'criterion': 'entropy'}. Best is trial 103 with value: 0.5737976782752902.\u001b[0m\n",
      "\u001b[32m[I 2023-03-15 19:14:09,774]\u001b[0m Trial 121 finished with value: 0.5661641541038527 and parameters: {'n_estimators': 144, 'max_depth': 27, 'min_samples_split': 2, 'min_samples_leaf': 1, 'criterion': 'entropy'}. Best is trial 103 with value: 0.5737976782752902.\u001b[0m\n",
      "\u001b[32m[I 2023-03-15 19:14:10,813]\u001b[0m Trial 122 finished with value: 0.5661641541038527 and parameters: {'n_estimators': 148, 'max_depth': 26, 'min_samples_split': 2, 'min_samples_leaf': 1, 'criterion': 'entropy'}. Best is trial 103 with value: 0.5737976782752902.\u001b[0m\n",
      "\u001b[32m[I 2023-03-15 19:14:11,801]\u001b[0m Trial 123 finished with value: 0.5690515806988352 and parameters: {'n_estimators': 141, 'max_depth': 27, 'min_samples_split': 2, 'min_samples_leaf': 1, 'criterion': 'entropy'}. Best is trial 103 with value: 0.5737976782752902.\u001b[0m\n"
     ]
    },
    {
     "name": "stderr",
     "output_type": "stream",
     "text": [
      "\u001b[32m[I 2023-03-15 19:14:12,780]\u001b[0m Trial 124 finished with value: 0.5661641541038527 and parameters: {'n_estimators': 140, 'max_depth': 24, 'min_samples_split': 2, 'min_samples_leaf': 1, 'criterion': 'entropy'}. Best is trial 103 with value: 0.5737976782752902.\u001b[0m\n",
      "\u001b[32m[I 2023-03-15 19:14:13,659]\u001b[0m Trial 125 finished with value: 0.5540540540540541 and parameters: {'n_estimators': 137, 'max_depth': 27, 'min_samples_split': 2, 'min_samples_leaf': 5, 'criterion': 'entropy'}. Best is trial 103 with value: 0.5737976782752902.\u001b[0m\n",
      "\u001b[32m[I 2023-03-15 19:14:14,656]\u001b[0m Trial 126 finished with value: 0.5666666666666667 and parameters: {'n_estimators': 142, 'max_depth': 26, 'min_samples_split': 2, 'min_samples_leaf': 1, 'criterion': 'entropy'}. Best is trial 103 with value: 0.5737976782752902.\u001b[0m\n",
      "\u001b[32m[I 2023-03-15 19:14:15,615]\u001b[0m Trial 127 finished with value: 0.5417376490630323 and parameters: {'n_estimators': 139, 'max_depth': 25, 'min_samples_split': 2, 'min_samples_leaf': 2, 'criterion': 'entropy'}. Best is trial 103 with value: 0.5737976782752902.\u001b[0m\n",
      "\u001b[32m[I 2023-03-15 19:14:16,574]\u001b[0m Trial 128 finished with value: 0.5500848896434635 and parameters: {'n_estimators': 145, 'max_depth': 21, 'min_samples_split': 2, 'min_samples_leaf': 4, 'criterion': 'entropy'}. Best is trial 103 with value: 0.5737976782752902.\u001b[0m\n",
      "\u001b[32m[I 2023-03-15 19:14:17,523]\u001b[0m Trial 129 finished with value: 0.5671140939597314 and parameters: {'n_estimators': 135, 'max_depth': 28, 'min_samples_split': 2, 'min_samples_leaf': 1, 'criterion': 'entropy'}. Best is trial 103 with value: 0.5737976782752902.\u001b[0m\n",
      "\u001b[32m[I 2023-03-15 19:14:18,444]\u001b[0m Trial 130 finished with value: 0.5598650927487353 and parameters: {'n_estimators': 132, 'max_depth': 26, 'min_samples_split': 2, 'min_samples_leaf': 1, 'criterion': 'entropy'}. Best is trial 103 with value: 0.5737976782752902.\u001b[0m\n",
      "\u001b[32m[I 2023-03-15 19:14:19,488]\u001b[0m Trial 131 finished with value: 0.563758389261745 and parameters: {'n_estimators': 148, 'max_depth': 27, 'min_samples_split': 2, 'min_samples_leaf': 1, 'criterion': 'entropy'}. Best is trial 103 with value: 0.5737976782752902.\u001b[0m\n",
      "\u001b[32m[I 2023-03-15 19:14:20,535]\u001b[0m Trial 132 finished with value: 0.5642737896494157 and parameters: {'n_estimators': 150, 'max_depth': 28, 'min_samples_split': 2, 'min_samples_leaf': 1, 'criterion': 'entropy'}. Best is trial 103 with value: 0.5737976782752902.\u001b[0m\n",
      "\u001b[32m[I 2023-03-15 19:14:20,878]\u001b[0m Trial 133 finished with value: 0.09254498714652956 and parameters: {'n_estimators': 145, 'max_depth': 2, 'min_samples_split': 6, 'min_samples_leaf': 1, 'criterion': 'entropy'}. Best is trial 103 with value: 0.5737976782752902.\u001b[0m\n",
      "\u001b[32m[I 2023-03-15 19:14:21,860]\u001b[0m Trial 134 finished with value: 0.5430016863406408 and parameters: {'n_estimators': 142, 'max_depth': 17, 'min_samples_split': 3, 'min_samples_leaf': 1, 'criterion': 'entropy'}. Best is trial 103 with value: 0.5737976782752902.\u001b[0m\n",
      "\u001b[32m[I 2023-03-15 19:14:22,756]\u001b[0m Trial 135 finished with value: 0.531951640759931 and parameters: {'n_estimators': 146, 'max_depth': 29, 'min_samples_split': 2, 'min_samples_leaf': 8, 'criterion': 'entropy'}. Best is trial 103 with value: 0.5737976782752902.\u001b[0m\n",
      "\u001b[32m[I 2023-03-15 19:14:23,740]\u001b[0m Trial 136 finished with value: 0.5647058823529413 and parameters: {'n_estimators': 140, 'max_depth': 28, 'min_samples_split': 2, 'min_samples_leaf': 1, 'criterion': 'entropy'}. Best is trial 103 with value: 0.5737976782752902.\u001b[0m\n",
      "\u001b[32m[I 2023-03-15 19:14:24,709]\u001b[0m Trial 137 finished with value: 0.5472972972972973 and parameters: {'n_estimators': 143, 'max_depth': 27, 'min_samples_split': 3, 'min_samples_leaf': 2, 'criterion': 'entropy'}. Best is trial 103 with value: 0.5737976782752902.\u001b[0m\n",
      "\u001b[32m[I 2023-03-15 19:14:25,533]\u001b[0m Trial 138 finished with value: 0.5604026845637583 and parameters: {'n_estimators': 137, 'max_depth': 24, 'min_samples_split': 2, 'min_samples_leaf': 1, 'criterion': 'gini'}. Best is trial 103 with value: 0.5737976782752902.\u001b[0m\n",
      "\u001b[32m[I 2023-03-15 19:14:26,588]\u001b[0m Trial 139 finished with value: 0.5666666666666667 and parameters: {'n_estimators': 150, 'max_depth': 29, 'min_samples_split': 2, 'min_samples_leaf': 1, 'criterion': 'entropy'}. Best is trial 103 with value: 0.5737976782752902.\u001b[0m\n",
      "\u001b[32m[I 2023-03-15 19:14:27,624]\u001b[0m Trial 140 finished with value: 0.5642737896494157 and parameters: {'n_estimators': 147, 'max_depth': 27, 'min_samples_split': 2, 'min_samples_leaf': 1, 'criterion': 'entropy'}. Best is trial 103 with value: 0.5737976782752902.\u001b[0m\n",
      "\u001b[32m[I 2023-03-15 19:14:28,596]\u001b[0m Trial 141 finished with value: 0.5690515806988352 and parameters: {'n_estimators': 139, 'max_depth': 30, 'min_samples_split': 3, 'min_samples_leaf': 1, 'criterion': 'entropy'}. Best is trial 103 with value: 0.5737976782752902.\u001b[0m\n",
      "\u001b[32m[I 2023-03-15 19:14:29,578]\u001b[0m Trial 142 finished with value: 0.5681063122923588 and parameters: {'n_estimators': 141, 'max_depth': 30, 'min_samples_split': 3, 'min_samples_leaf': 1, 'criterion': 'entropy'}. Best is trial 103 with value: 0.5737976782752902.\u001b[0m\n",
      "\u001b[32m[I 2023-03-15 19:14:30,447]\u001b[0m Trial 143 finished with value: 0.548885077186964 and parameters: {'n_estimators': 145, 'max_depth': 28, 'min_samples_split': 2, 'min_samples_leaf': 9, 'criterion': 'entropy'}. Best is trial 103 with value: 0.5737976782752902.\u001b[0m\n",
      "\u001b[32m[I 2023-03-15 19:14:31,420]\u001b[0m Trial 144 finished with value: 0.5661641541038527 and parameters: {'n_estimators': 138, 'max_depth': 29, 'min_samples_split': 2, 'min_samples_leaf': 1, 'criterion': 'entropy'}. Best is trial 103 with value: 0.5737976782752902.\u001b[0m\n",
      "\u001b[32m[I 2023-03-15 19:14:32,434]\u001b[0m Trial 145 finished with value: 0.5737976782752902 and parameters: {'n_estimators': 143, 'max_depth': 30, 'min_samples_split': 2, 'min_samples_leaf': 1, 'criterion': 'entropy'}. Best is trial 103 with value: 0.5737976782752902.\u001b[0m\n",
      "\u001b[32m[I 2023-03-15 19:14:33,440]\u001b[0m Trial 146 finished with value: 0.570480928689884 and parameters: {'n_estimators': 143, 'max_depth': 26, 'min_samples_split': 2, 'min_samples_leaf': 1, 'criterion': 'entropy'}. Best is trial 103 with value: 0.5737976782752902.\u001b[0m\n",
      "\u001b[32m[I 2023-03-15 19:14:34,446]\u001b[0m Trial 147 finished with value: 0.5690515806988352 and parameters: {'n_estimators': 144, 'max_depth': 26, 'min_samples_split': 2, 'min_samples_leaf': 1, 'criterion': 'entropy'}. Best is trial 103 with value: 0.5737976782752902.\u001b[0m\n",
      "\u001b[32m[I 2023-03-15 19:14:35,402]\u001b[0m Trial 148 finished with value: 0.5491525423728814 and parameters: {'n_estimators': 142, 'max_depth': 25, 'min_samples_split': 2, 'min_samples_leaf': 2, 'criterion': 'entropy'}. Best is trial 103 with value: 0.5737976782752902.\u001b[0m\n",
      "\u001b[32m[I 2023-03-15 19:14:36,342]\u001b[0m Trial 149 finished with value: 0.5642737896494157 and parameters: {'n_estimators': 135, 'max_depth': 27, 'min_samples_split': 2, 'min_samples_leaf': 1, 'criterion': 'entropy'}. Best is trial 103 with value: 0.5737976782752902.\u001b[0m\n",
      "\u001b[32m[I 2023-03-15 19:14:37,365]\u001b[0m Trial 150 finished with value: 0.5681063122923588 and parameters: {'n_estimators': 147, 'max_depth': 26, 'min_samples_split': 2, 'min_samples_leaf': 1, 'criterion': 'entropy'}. Best is trial 103 with value: 0.5737976782752902.\u001b[0m\n",
      "\u001b[32m[I 2023-03-15 19:14:38,333]\u001b[0m Trial 151 finished with value: 0.5661641541038527 and parameters: {'n_estimators': 140, 'max_depth': 29, 'min_samples_split': 2, 'min_samples_leaf': 1, 'criterion': 'entropy'}. Best is trial 103 with value: 0.5737976782752902.\u001b[0m\n",
      "\u001b[32m[I 2023-03-15 19:14:39,295]\u001b[0m Trial 152 finished with value: 0.5661641541038527 and parameters: {'n_estimators': 138, 'max_depth': 30, 'min_samples_split': 2, 'min_samples_leaf': 1, 'criterion': 'entropy'}. Best is trial 103 with value: 0.5737976782752902.\u001b[0m\n",
      "\u001b[32m[I 2023-03-15 19:14:40,291]\u001b[0m Trial 153 finished with value: 0.5690515806988352 and parameters: {'n_estimators': 144, 'max_depth': 28, 'min_samples_split': 2, 'min_samples_leaf': 1, 'criterion': 'entropy'}. Best is trial 103 with value: 0.5737976782752902.\u001b[0m\n",
      "\u001b[32m[I 2023-03-15 19:14:41,272]\u001b[0m Trial 154 finished with value: 0.5690515806988352 and parameters: {'n_estimators': 141, 'max_depth': 27, 'min_samples_split': 2, 'min_samples_leaf': 1, 'criterion': 'entropy'}. Best is trial 103 with value: 0.5737976782752902.\u001b[0m\n"
     ]
    },
    {
     "name": "stderr",
     "output_type": "stream",
     "text": [
      "\u001b[32m[I 2023-03-15 19:14:42,031]\u001b[0m Trial 155 finished with value: 0.5519591141396933 and parameters: {'n_estimators': 108, 'max_depth': 25, 'min_samples_split': 2, 'min_samples_leaf': 1, 'criterion': 'entropy'}. Best is trial 103 with value: 0.5737976782752902.\u001b[0m\n",
      "\u001b[32m[I 2023-03-15 19:14:42,967]\u001b[0m Trial 156 finished with value: 0.5680672268907564 and parameters: {'n_estimators': 134, 'max_depth': 29, 'min_samples_split': 2, 'min_samples_leaf': 1, 'criterion': 'entropy'}. Best is trial 103 with value: 0.5737976782752902.\u001b[0m\n",
      "\u001b[32m[I 2023-03-15 19:14:43,956]\u001b[0m Trial 157 finished with value: 0.5423728813559322 and parameters: {'n_estimators': 147, 'max_depth': 27, 'min_samples_split': 2, 'min_samples_leaf': 2, 'criterion': 'entropy'}. Best is trial 103 with value: 0.5737976782752902.\u001b[0m\n",
      "\u001b[32m[I 2023-03-15 19:14:44,963]\u001b[0m Trial 158 finished with value: 0.5737976782752902 and parameters: {'n_estimators': 143, 'max_depth': 28, 'min_samples_split': 2, 'min_samples_leaf': 1, 'criterion': 'entropy'}. Best is trial 103 with value: 0.5737976782752902.\u001b[0m\n",
      "\u001b[32m[I 2023-03-15 19:14:45,959]\u001b[0m Trial 159 finished with value: 0.5737976782752902 and parameters: {'n_estimators': 143, 'max_depth': 28, 'min_samples_split': 2, 'min_samples_leaf': 1, 'criterion': 'entropy'}. Best is trial 103 with value: 0.5737976782752902.\u001b[0m\n",
      "\u001b[32m[I 2023-03-15 19:14:46,974]\u001b[0m Trial 160 finished with value: 0.5690515806988352 and parameters: {'n_estimators': 144, 'max_depth': 28, 'min_samples_split': 2, 'min_samples_leaf': 1, 'criterion': 'entropy'}. Best is trial 103 with value: 0.5737976782752902.\u001b[0m\n",
      "\u001b[32m[I 2023-03-15 19:14:47,998]\u001b[0m Trial 161 finished with value: 0.5737976782752902 and parameters: {'n_estimators': 143, 'max_depth': 28, 'min_samples_split': 2, 'min_samples_leaf': 1, 'criterion': 'entropy'}. Best is trial 103 with value: 0.5737976782752902.\u001b[0m\n",
      "\u001b[32m[I 2023-03-15 19:14:49,055]\u001b[0m Trial 162 finished with value: 0.5583756345177666 and parameters: {'n_estimators': 148, 'max_depth': 15, 'min_samples_split': 2, 'min_samples_leaf': 1, 'criterion': 'entropy'}. Best is trial 103 with value: 0.5737976782752902.\u001b[0m\n",
      "\u001b[32m[I 2023-03-15 19:14:50,053]\u001b[0m Trial 163 finished with value: 0.5737976782752902 and parameters: {'n_estimators': 143, 'max_depth': 28, 'min_samples_split': 2, 'min_samples_leaf': 1, 'criterion': 'entropy'}. Best is trial 103 with value: 0.5737976782752902.\u001b[0m\n",
      "\u001b[32m[I 2023-03-15 19:14:51,101]\u001b[0m Trial 164 finished with value: 0.563758389261745 and parameters: {'n_estimators': 150, 'max_depth': 26, 'min_samples_split': 2, 'min_samples_leaf': 1, 'criterion': 'entropy'}. Best is trial 103 with value: 0.5737976782752902.\u001b[0m\n",
      "\u001b[32m[I 2023-03-15 19:14:52,061]\u001b[0m Trial 165 finished with value: 0.5666666666666667 and parameters: {'n_estimators': 137, 'max_depth': 28, 'min_samples_split': 2, 'min_samples_leaf': 1, 'criterion': 'entropy'}. Best is trial 103 with value: 0.5737976782752902.\u001b[0m\n",
      "\u001b[32m[I 2023-03-15 19:14:53,070]\u001b[0m Trial 166 finished with value: 0.5737976782752902 and parameters: {'n_estimators': 143, 'max_depth': 29, 'min_samples_split': 2, 'min_samples_leaf': 1, 'criterion': 'entropy'}. Best is trial 103 with value: 0.5737976782752902.\u001b[0m\n",
      "\u001b[32m[I 2023-03-15 19:14:53,930]\u001b[0m Trial 167 finished with value: 0.5546218487394957 and parameters: {'n_estimators': 142, 'max_depth': 29, 'min_samples_split': 2, 'min_samples_leaf': 1, 'criterion': 'gini'}. Best is trial 103 with value: 0.5737976782752902.\u001b[0m\n",
      "\u001b[32m[I 2023-03-15 19:14:54,931]\u001b[0m Trial 168 finished with value: 0.5737976782752902 and parameters: {'n_estimators': 143, 'max_depth': 28, 'min_samples_split': 2, 'min_samples_leaf': 1, 'criterion': 'entropy'}. Best is trial 103 with value: 0.5737976782752902.\u001b[0m\n",
      "\u001b[32m[I 2023-03-15 19:14:55,645]\u001b[0m Trial 169 finished with value: 0.5285714285714286 and parameters: {'n_estimators': 139, 'max_depth': 8, 'min_samples_split': 7, 'min_samples_leaf': 2, 'criterion': 'entropy'}. Best is trial 103 with value: 0.5737976782752902.\u001b[0m\n",
      "\u001b[32m[I 2023-03-15 19:14:56,712]\u001b[0m Trial 170 finished with value: 0.5666666666666667 and parameters: {'n_estimators': 146, 'max_depth': 29, 'min_samples_split': 2, 'min_samples_leaf': 1, 'criterion': 'entropy'}. Best is trial 103 with value: 0.5737976782752902.\u001b[0m\n",
      "\u001b[32m[I 2023-03-15 19:14:57,762]\u001b[0m Trial 171 finished with value: 0.5737976782752902 and parameters: {'n_estimators': 143, 'max_depth': 28, 'min_samples_split': 2, 'min_samples_leaf': 1, 'criterion': 'entropy'}. Best is trial 103 with value: 0.5737976782752902.\u001b[0m\n",
      "\u001b[32m[I 2023-03-15 19:14:58,671]\u001b[0m Trial 172 finished with value: 0.5367521367521367 and parameters: {'n_estimators': 142, 'max_depth': 28, 'min_samples_split': 10, 'min_samples_leaf': 7, 'criterion': 'entropy'}. Best is trial 103 with value: 0.5737976782752902.\u001b[0m\n",
      "\u001b[32m[I 2023-03-15 19:14:59,710]\u001b[0m Trial 173 finished with value: 0.5676126878130217 and parameters: {'n_estimators': 145, 'max_depth': 27, 'min_samples_split': 2, 'min_samples_leaf': 1, 'criterion': 'entropy'}. Best is trial 103 with value: 0.5737976782752902.\u001b[0m\n",
      "\u001b[32m[I 2023-03-15 19:15:00,673]\u001b[0m Trial 174 finished with value: 0.5647058823529413 and parameters: {'n_estimators': 136, 'max_depth': 28, 'min_samples_split': 2, 'min_samples_leaf': 1, 'criterion': 'entropy'}. Best is trial 103 with value: 0.5737976782752902.\u001b[0m\n",
      "\u001b[32m[I 2023-03-15 19:15:01,657]\u001b[0m Trial 175 finished with value: 0.5647058823529413 and parameters: {'n_estimators': 140, 'max_depth': 28, 'min_samples_split': 2, 'min_samples_leaf': 1, 'criterion': 'entropy'}. Best is trial 103 with value: 0.5737976782752902.\u001b[0m\n",
      "\u001b[32m[I 2023-03-15 19:15:02,545]\u001b[0m Trial 176 finished with value: 0.5473321858864026 and parameters: {'n_estimators': 143, 'max_depth': 29, 'min_samples_split': 2, 'min_samples_leaf': 6, 'criterion': 'entropy'}. Best is trial 103 with value: 0.5737976782752902.\u001b[0m\n",
      "\u001b[32m[I 2023-03-15 19:15:03,576]\u001b[0m Trial 177 finished with value: 0.5661641541038527 and parameters: {'n_estimators': 146, 'max_depth': 27, 'min_samples_split': 2, 'min_samples_leaf': 1, 'criterion': 'entropy'}. Best is trial 103 with value: 0.5737976782752902.\u001b[0m\n",
      "\u001b[32m[I 2023-03-15 19:15:04,558]\u001b[0m Trial 178 finished with value: 0.5661641541038527 and parameters: {'n_estimators': 138, 'max_depth': 30, 'min_samples_split': 2, 'min_samples_leaf': 1, 'criterion': 'entropy'}. Best is trial 103 with value: 0.5737976782752902.\u001b[0m\n",
      "\u001b[32m[I 2023-03-15 19:15:05,602]\u001b[0m Trial 179 finished with value: 0.5652173913043478 and parameters: {'n_estimators': 148, 'max_depth': 28, 'min_samples_split': 2, 'min_samples_leaf': 1, 'criterion': 'entropy'}. Best is trial 103 with value: 0.5737976782752902.\u001b[0m\n",
      "\u001b[32m[I 2023-03-15 19:15:06,093]\u001b[0m Trial 180 finished with value: 0.5432937181663837 and parameters: {'n_estimators': 68, 'max_depth': 29, 'min_samples_split': 2, 'min_samples_leaf': 1, 'criterion': 'entropy'}. Best is trial 103 with value: 0.5737976782752902.\u001b[0m\n",
      "\u001b[32m[I 2023-03-15 19:15:07,094]\u001b[0m Trial 181 finished with value: 0.570480928689884 and parameters: {'n_estimators': 143, 'max_depth': 26, 'min_samples_split': 2, 'min_samples_leaf': 1, 'criterion': 'entropy'}. Best is trial 103 with value: 0.5737976782752902.\u001b[0m\n",
      "\u001b[32m[I 2023-03-15 19:15:08,082]\u001b[0m Trial 182 finished with value: 0.570480928689884 and parameters: {'n_estimators': 141, 'max_depth': 26, 'min_samples_split': 2, 'min_samples_leaf': 1, 'criterion': 'entropy'}. Best is trial 103 with value: 0.5737976782752902.\u001b[0m\n",
      "\u001b[32m[I 2023-03-15 19:15:09,093]\u001b[0m Trial 183 finished with value: 0.5661641541038527 and parameters: {'n_estimators': 144, 'max_depth': 27, 'min_samples_split': 2, 'min_samples_leaf': 1, 'criterion': 'entropy'}. Best is trial 103 with value: 0.5737976782752902.\u001b[0m\n",
      "\u001b[32m[I 2023-03-15 19:15:10,077]\u001b[0m Trial 184 finished with value: 0.5676126878130217 and parameters: {'n_estimators': 140, 'max_depth': 26, 'min_samples_split': 2, 'min_samples_leaf': 1, 'criterion': 'entropy'}. Best is trial 103 with value: 0.5737976782752902.\u001b[0m\n",
      "\u001b[32m[I 2023-03-15 19:15:11,120]\u001b[0m Trial 185 finished with value: 0.57 and parameters: {'n_estimators': 145, 'max_depth': 25, 'min_samples_split': 2, 'min_samples_leaf': 1, 'criterion': 'entropy'}. Best is trial 103 with value: 0.5737976782752902.\u001b[0m\n"
     ]
    },
    {
     "name": "stderr",
     "output_type": "stream",
     "text": [
      "\u001b[32m[I 2023-03-15 19:15:12,163]\u001b[0m Trial 186 finished with value: 0.5628140703517588 and parameters: {'n_estimators': 150, 'max_depth': 27, 'min_samples_split': 2, 'min_samples_leaf': 1, 'criterion': 'entropy'}. Best is trial 103 with value: 0.5737976782752902.\u001b[0m\n",
      "\u001b[32m[I 2023-03-15 19:15:13,114]\u001b[0m Trial 187 finished with value: 0.5647058823529413 and parameters: {'n_estimators': 136, 'max_depth': 28, 'min_samples_split': 2, 'min_samples_leaf': 1, 'criterion': 'entropy'}. Best is trial 103 with value: 0.5737976782752902.\u001b[0m\n",
      "\u001b[32m[I 2023-03-15 19:15:14,124]\u001b[0m Trial 188 finished with value: 0.5676126878130217 and parameters: {'n_estimators': 142, 'max_depth': 30, 'min_samples_split': 2, 'min_samples_leaf': 1, 'criterion': 'entropy'}. Best is trial 103 with value: 0.5737976782752902.\u001b[0m\n",
      "\u001b[32m[I 2023-03-15 19:15:15,023]\u001b[0m Trial 189 finished with value: 0.5491525423728814 and parameters: {'n_estimators': 132, 'max_depth': 29, 'min_samples_split': 8, 'min_samples_leaf': 1, 'criterion': 'entropy'}. Best is trial 103 with value: 0.5737976782752902.\u001b[0m\n",
      "\u001b[32m[I 2023-03-15 19:15:16,007]\u001b[0m Trial 190 finished with value: 0.5423728813559322 and parameters: {'n_estimators': 146, 'max_depth': 28, 'min_samples_split': 2, 'min_samples_leaf': 2, 'criterion': 'entropy'}. Best is trial 103 with value: 0.5737976782752902.\u001b[0m\n",
      "\u001b[32m[I 2023-03-15 19:15:17,015]\u001b[0m Trial 191 finished with value: 0.570480928689884 and parameters: {'n_estimators': 143, 'max_depth': 26, 'min_samples_split': 2, 'min_samples_leaf': 1, 'criterion': 'entropy'}. Best is trial 103 with value: 0.5737976782752902.\u001b[0m\n",
      "\u001b[32m[I 2023-03-15 19:15:18,014]\u001b[0m Trial 192 finished with value: 0.570480928689884 and parameters: {'n_estimators': 143, 'max_depth': 26, 'min_samples_split': 2, 'min_samples_leaf': 1, 'criterion': 'entropy'}. Best is trial 103 with value: 0.5737976782752902.\u001b[0m\n",
      "\u001b[32m[I 2023-03-15 19:15:19,003]\u001b[0m Trial 193 finished with value: 0.5618729096989967 and parameters: {'n_estimators': 140, 'max_depth': 27, 'min_samples_split': 2, 'min_samples_leaf': 1, 'criterion': 'entropy'}. Best is trial 103 with value: 0.5737976782752902.\u001b[0m\n",
      "\u001b[32m[I 2023-03-15 19:15:20,068]\u001b[0m Trial 194 finished with value: 0.5661641541038527 and parameters: {'n_estimators': 148, 'max_depth': 25, 'min_samples_split': 2, 'min_samples_leaf': 1, 'criterion': 'entropy'}. Best is trial 103 with value: 0.5737976782752902.\u001b[0m\n",
      "\u001b[32m[I 2023-03-15 19:15:21,086]\u001b[0m Trial 195 finished with value: 0.5652173913043478 and parameters: {'n_estimators': 138, 'max_depth': 27, 'min_samples_split': 2, 'min_samples_leaf': 1, 'criterion': 'entropy'}. Best is trial 103 with value: 0.5737976782752902.\u001b[0m\n",
      "\u001b[32m[I 2023-03-15 19:15:22,121]\u001b[0m Trial 196 finished with value: 0.5690515806988352 and parameters: {'n_estimators': 144, 'max_depth': 28, 'min_samples_split': 2, 'min_samples_leaf': 1, 'criterion': 'entropy'}. Best is trial 103 with value: 0.5737976782752902.\u001b[0m\n",
      "\u001b[32m[I 2023-03-15 19:15:23,000]\u001b[0m Trial 197 finished with value: 0.5546218487394957 and parameters: {'n_estimators': 142, 'max_depth': 26, 'min_samples_split': 2, 'min_samples_leaf': 1, 'criterion': 'gini'}. Best is trial 103 with value: 0.5737976782752902.\u001b[0m\n",
      "\u001b[32m[I 2023-03-15 19:15:24,046]\u001b[0m Trial 198 finished with value: 0.5531197301854975 and parameters: {'n_estimators': 147, 'max_depth': 19, 'min_samples_split': 2, 'min_samples_leaf': 1, 'criterion': 'entropy'}. Best is trial 103 with value: 0.5737976782752902.\u001b[0m\n",
      "\u001b[32m[I 2023-03-15 19:15:24,950]\u001b[0m Trial 199 finished with value: 0.5559322033898305 and parameters: {'n_estimators': 139, 'max_depth': 29, 'min_samples_split': 2, 'min_samples_leaf': 5, 'criterion': 'entropy'}. Best is trial 103 with value: 0.5737976782752902.\u001b[0m\n"
     ]
    },
    {
     "name": "stdout",
     "output_type": "stream",
     "text": [
      "Best trial:\n",
      "  Score: 0.574\n",
      "  Params: \n",
      "    n_estimators: 143\n",
      "    max_depth: 30\n",
      "    min_samples_split: 2\n",
      "    min_samples_leaf: 1\n",
      "    criterion: entropy\n"
     ]
    }
   ],
   "source": [
    "study = optuna.create_study(direction='maximize')\n",
    "\n",
    "study.optimize(objective, n_trials=200)\n",
    "\n",
    "print('Best trial:')\n",
    "trial = study.best_trial\n",
    "print(f'  Score: {trial.value:.3f}')\n",
    "print('  Params: ')\n",
    "for key, value in trial.params.items():\n",
    "    print(f'    {key}: {value}')"
   ]
  },
  {
   "cell_type": "code",
   "execution_count": 42,
   "metadata": {},
   "outputs": [
    {
     "data": {
      "text/plain": [
       "RandomForestClassifier(criterion='entropy', max_depth=30, n_estimators=143,\n",
       "                       random_state=322)"
      ]
     },
     "execution_count": 42,
     "metadata": {},
     "output_type": "execute_result"
    }
   ],
   "source": [
    "rfc_up = RandomForestClassifier(n_estimators=143,\n",
    "                                   max_depth=30,\n",
    "                                   min_samples_split=2,\n",
    "                                   min_samples_leaf=1,\n",
    "                                   criterion='entropy',\n",
    "                                   random_state=322)\n",
    "rfc_up.fit(features_upsampled, target_upsampled)"
   ]
  },
  {
   "cell_type": "code",
   "execution_count": 43,
   "metadata": {},
   "outputs": [
    {
     "data": {
      "text/plain": [
       "0.8524710480089859"
      ]
     },
     "execution_count": 43,
     "metadata": {},
     "output_type": "execute_result"
    }
   ],
   "source": [
    "prob_one_valid = rfc_up.predict_proba(features_valid)[:, 1]\n",
    "roc_auc_score(target_valid, prob_one_valid)"
   ]
  },
  {
   "cell_type": "markdown",
   "metadata": {},
   "source": [
    "#### CatBoost"
   ]
  },
  {
   "cell_type": "code",
   "execution_count": 65,
   "metadata": {
    "scrolled": true
   },
   "outputs": [
    {
     "name": "stdout",
     "output_type": "stream",
     "text": [
      "Learning rate set to 0.026127\n",
      "0:\tlearn: 0.6699049\ttotal: 8.52ms\tremaining: 8.51s\n",
      "1:\tlearn: 0.6485033\ttotal: 11.2ms\tremaining: 5.6s\n",
      "2:\tlearn: 0.6291266\ttotal: 13.7ms\tremaining: 4.57s\n",
      "3:\tlearn: 0.6116783\ttotal: 16.1ms\tremaining: 4.01s\n",
      "4:\tlearn: 0.5928754\ttotal: 19ms\tremaining: 3.79s\n",
      "5:\tlearn: 0.5798186\ttotal: 21.3ms\tremaining: 3.54s\n",
      "6:\tlearn: 0.5652268\ttotal: 23.5ms\tremaining: 3.33s\n",
      "7:\tlearn: 0.5511597\ttotal: 25.6ms\tremaining: 3.18s\n",
      "8:\tlearn: 0.5383528\ttotal: 27.7ms\tremaining: 3.06s\n",
      "9:\tlearn: 0.5251958\ttotal: 29.8ms\tremaining: 2.95s\n",
      "10:\tlearn: 0.5132096\ttotal: 31.9ms\tremaining: 2.87s\n",
      "11:\tlearn: 0.5041745\ttotal: 34.1ms\tremaining: 2.81s\n",
      "12:\tlearn: 0.4937482\ttotal: 36.3ms\tremaining: 2.76s\n",
      "13:\tlearn: 0.4843406\ttotal: 38.7ms\tremaining: 2.72s\n",
      "14:\tlearn: 0.4766460\ttotal: 40.9ms\tremaining: 2.69s\n",
      "15:\tlearn: 0.4680131\ttotal: 43.1ms\tremaining: 2.65s\n",
      "16:\tlearn: 0.4599664\ttotal: 45.2ms\tremaining: 2.61s\n",
      "17:\tlearn: 0.4521105\ttotal: 47.3ms\tremaining: 2.58s\n",
      "18:\tlearn: 0.4446713\ttotal: 49.4ms\tremaining: 2.55s\n",
      "19:\tlearn: 0.4382045\ttotal: 51.3ms\tremaining: 2.52s\n",
      "20:\tlearn: 0.4321060\ttotal: 53.4ms\tremaining: 2.49s\n",
      "21:\tlearn: 0.4271117\ttotal: 55.4ms\tremaining: 2.46s\n",
      "22:\tlearn: 0.4209167\ttotal: 57.5ms\tremaining: 2.44s\n",
      "23:\tlearn: 0.4168220\ttotal: 59.6ms\tremaining: 2.42s\n",
      "24:\tlearn: 0.4132832\ttotal: 61.6ms\tremaining: 2.4s\n",
      "25:\tlearn: 0.4084261\ttotal: 63.7ms\tremaining: 2.39s\n",
      "26:\tlearn: 0.4049553\ttotal: 65.8ms\tremaining: 2.37s\n",
      "27:\tlearn: 0.4006295\ttotal: 67.9ms\tremaining: 2.36s\n",
      "28:\tlearn: 0.3973435\ttotal: 70ms\tremaining: 2.34s\n",
      "29:\tlearn: 0.3932957\ttotal: 72ms\tremaining: 2.33s\n",
      "30:\tlearn: 0.3893097\ttotal: 74.1ms\tremaining: 2.31s\n",
      "31:\tlearn: 0.3864403\ttotal: 76.2ms\tremaining: 2.31s\n",
      "32:\tlearn: 0.3843960\ttotal: 78.3ms\tremaining: 2.29s\n",
      "33:\tlearn: 0.3818833\ttotal: 80.4ms\tremaining: 2.28s\n",
      "34:\tlearn: 0.3788600\ttotal: 82.5ms\tremaining: 2.27s\n",
      "35:\tlearn: 0.3760836\ttotal: 84.6ms\tremaining: 2.27s\n",
      "36:\tlearn: 0.3734625\ttotal: 86.7ms\tremaining: 2.26s\n",
      "37:\tlearn: 0.3712420\ttotal: 88.7ms\tremaining: 2.25s\n",
      "38:\tlearn: 0.3685655\ttotal: 90.8ms\tremaining: 2.24s\n",
      "39:\tlearn: 0.3667321\ttotal: 92.8ms\tremaining: 2.23s\n",
      "40:\tlearn: 0.3644244\ttotal: 94.9ms\tremaining: 2.22s\n",
      "41:\tlearn: 0.3625859\ttotal: 97.1ms\tremaining: 2.21s\n",
      "42:\tlearn: 0.3603775\ttotal: 99.4ms\tremaining: 2.21s\n",
      "43:\tlearn: 0.3584366\ttotal: 101ms\tremaining: 2.21s\n",
      "44:\tlearn: 0.3565561\ttotal: 103ms\tremaining: 2.19s\n",
      "45:\tlearn: 0.3547224\ttotal: 106ms\tremaining: 2.19s\n",
      "46:\tlearn: 0.3530458\ttotal: 108ms\tremaining: 2.19s\n",
      "47:\tlearn: 0.3517215\ttotal: 110ms\tremaining: 2.18s\n",
      "48:\tlearn: 0.3496928\ttotal: 112ms\tremaining: 2.18s\n",
      "49:\tlearn: 0.3486997\ttotal: 115ms\tremaining: 2.18s\n",
      "50:\tlearn: 0.3476532\ttotal: 117ms\tremaining: 2.17s\n",
      "51:\tlearn: 0.3459416\ttotal: 119ms\tremaining: 2.17s\n",
      "52:\tlearn: 0.3443922\ttotal: 121ms\tremaining: 2.16s\n",
      "53:\tlearn: 0.3428989\ttotal: 123ms\tremaining: 2.15s\n",
      "54:\tlearn: 0.3419680\ttotal: 125ms\tremaining: 2.15s\n",
      "55:\tlearn: 0.3408515\ttotal: 127ms\tremaining: 2.14s\n",
      "56:\tlearn: 0.3398346\ttotal: 129ms\tremaining: 2.14s\n",
      "57:\tlearn: 0.3387303\ttotal: 131ms\tremaining: 2.13s\n",
      "58:\tlearn: 0.3376363\ttotal: 134ms\tremaining: 2.13s\n",
      "59:\tlearn: 0.3367210\ttotal: 136ms\tremaining: 2.12s\n",
      "60:\tlearn: 0.3355508\ttotal: 138ms\tremaining: 2.12s\n",
      "61:\tlearn: 0.3347702\ttotal: 140ms\tremaining: 2.11s\n",
      "62:\tlearn: 0.3336512\ttotal: 142ms\tremaining: 2.11s\n",
      "63:\tlearn: 0.3326671\ttotal: 144ms\tremaining: 2.1s\n",
      "64:\tlearn: 0.3318359\ttotal: 146ms\tremaining: 2.1s\n",
      "65:\tlearn: 0.3306006\ttotal: 148ms\tremaining: 2.1s\n",
      "66:\tlearn: 0.3299948\ttotal: 151ms\tremaining: 2.1s\n",
      "67:\tlearn: 0.3291177\ttotal: 153ms\tremaining: 2.1s\n",
      "68:\tlearn: 0.3284763\ttotal: 155ms\tremaining: 2.09s\n",
      "69:\tlearn: 0.3278585\ttotal: 158ms\tremaining: 2.09s\n",
      "70:\tlearn: 0.3273535\ttotal: 160ms\tremaining: 2.09s\n",
      "71:\tlearn: 0.3262901\ttotal: 162ms\tremaining: 2.09s\n",
      "72:\tlearn: 0.3257753\ttotal: 164ms\tremaining: 2.08s\n",
      "73:\tlearn: 0.3250088\ttotal: 166ms\tremaining: 2.08s\n",
      "74:\tlearn: 0.3245492\ttotal: 169ms\tremaining: 2.08s\n",
      "75:\tlearn: 0.3236320\ttotal: 171ms\tremaining: 2.08s\n",
      "76:\tlearn: 0.3230160\ttotal: 173ms\tremaining: 2.07s\n",
      "77:\tlearn: 0.3223498\ttotal: 175ms\tremaining: 2.07s\n",
      "78:\tlearn: 0.3218424\ttotal: 178ms\tremaining: 2.07s\n",
      "79:\tlearn: 0.3211281\ttotal: 180ms\tremaining: 2.07s\n",
      "80:\tlearn: 0.3206002\ttotal: 183ms\tremaining: 2.07s\n",
      "81:\tlearn: 0.3202008\ttotal: 185ms\tremaining: 2.07s\n",
      "82:\tlearn: 0.3195241\ttotal: 187ms\tremaining: 2.07s\n",
      "83:\tlearn: 0.3189420\ttotal: 190ms\tremaining: 2.07s\n",
      "84:\tlearn: 0.3185359\ttotal: 192ms\tremaining: 2.07s\n",
      "85:\tlearn: 0.3180078\ttotal: 194ms\tremaining: 2.07s\n",
      "86:\tlearn: 0.3176192\ttotal: 197ms\tremaining: 2.07s\n",
      "87:\tlearn: 0.3173056\ttotal: 199ms\tremaining: 2.06s\n",
      "88:\tlearn: 0.3167623\ttotal: 202ms\tremaining: 2.06s\n",
      "89:\tlearn: 0.3163827\ttotal: 204ms\tremaining: 2.06s\n",
      "90:\tlearn: 0.3159964\ttotal: 206ms\tremaining: 2.06s\n",
      "91:\tlearn: 0.3152941\ttotal: 209ms\tremaining: 2.06s\n",
      "92:\tlearn: 0.3148734\ttotal: 211ms\tremaining: 2.06s\n",
      "93:\tlearn: 0.3145605\ttotal: 214ms\tremaining: 2.06s\n",
      "94:\tlearn: 0.3140568\ttotal: 216ms\tremaining: 2.06s\n",
      "95:\tlearn: 0.3136791\ttotal: 219ms\tremaining: 2.06s\n",
      "96:\tlearn: 0.3131674\ttotal: 222ms\tremaining: 2.06s\n",
      "97:\tlearn: 0.3126648\ttotal: 224ms\tremaining: 2.06s\n",
      "98:\tlearn: 0.3120111\ttotal: 227ms\tremaining: 2.06s\n",
      "99:\tlearn: 0.3116288\ttotal: 229ms\tremaining: 2.06s\n",
      "100:\tlearn: 0.3112455\ttotal: 232ms\tremaining: 2.06s\n",
      "101:\tlearn: 0.3108576\ttotal: 235ms\tremaining: 2.06s\n",
      "102:\tlearn: 0.3100697\ttotal: 237ms\tremaining: 2.06s\n",
      "103:\tlearn: 0.3098075\ttotal: 239ms\tremaining: 2.06s\n",
      "104:\tlearn: 0.3094523\ttotal: 242ms\tremaining: 2.06s\n",
      "105:\tlearn: 0.3090226\ttotal: 244ms\tremaining: 2.06s\n",
      "106:\tlearn: 0.3087898\ttotal: 247ms\tremaining: 2.06s\n",
      "107:\tlearn: 0.3083835\ttotal: 249ms\tremaining: 2.06s\n",
      "108:\tlearn: 0.3079171\ttotal: 251ms\tremaining: 2.05s\n",
      "109:\tlearn: 0.3073547\ttotal: 254ms\tremaining: 2.05s\n",
      "110:\tlearn: 0.3069652\ttotal: 256ms\tremaining: 2.05s\n",
      "111:\tlearn: 0.3064893\ttotal: 258ms\tremaining: 2.05s\n",
      "112:\tlearn: 0.3059736\ttotal: 261ms\tremaining: 2.05s\n",
      "113:\tlearn: 0.3056966\ttotal: 263ms\tremaining: 2.04s\n",
      "114:\tlearn: 0.3053405\ttotal: 266ms\tremaining: 2.04s\n",
      "115:\tlearn: 0.3049612\ttotal: 268ms\tremaining: 2.04s\n",
      "116:\tlearn: 0.3047199\ttotal: 270ms\tremaining: 2.04s\n",
      "117:\tlearn: 0.3043300\ttotal: 273ms\tremaining: 2.04s\n",
      "118:\tlearn: 0.3039059\ttotal: 275ms\tremaining: 2.04s\n",
      "119:\tlearn: 0.3032909\ttotal: 277ms\tremaining: 2.03s\n",
      "120:\tlearn: 0.3028080\ttotal: 280ms\tremaining: 2.03s\n",
      "121:\tlearn: 0.3023326\ttotal: 282ms\tremaining: 2.03s\n",
      "122:\tlearn: 0.3020156\ttotal: 284ms\tremaining: 2.03s\n",
      "123:\tlearn: 0.3016791\ttotal: 287ms\tremaining: 2.03s\n",
      "124:\tlearn: 0.3013125\ttotal: 289ms\tremaining: 2.02s\n",
      "125:\tlearn: 0.3009116\ttotal: 292ms\tremaining: 2.02s\n",
      "126:\tlearn: 0.3005691\ttotal: 294ms\tremaining: 2.02s\n",
      "127:\tlearn: 0.3002811\ttotal: 296ms\tremaining: 2.02s\n",
      "128:\tlearn: 0.2998762\ttotal: 299ms\tremaining: 2.02s\n",
      "129:\tlearn: 0.2994645\ttotal: 301ms\tremaining: 2.01s\n",
      "130:\tlearn: 0.2992089\ttotal: 303ms\tremaining: 2.01s\n",
      "131:\tlearn: 0.2989411\ttotal: 306ms\tremaining: 2.01s\n",
      "132:\tlearn: 0.2985166\ttotal: 308ms\tremaining: 2.01s\n",
      "133:\tlearn: 0.2983635\ttotal: 311ms\tremaining: 2.01s\n",
      "134:\tlearn: 0.2979847\ttotal: 313ms\tremaining: 2s\n",
      "135:\tlearn: 0.2975755\ttotal: 315ms\tremaining: 2s\n",
      "136:\tlearn: 0.2972413\ttotal: 317ms\tremaining: 2s\n",
      "137:\tlearn: 0.2970020\ttotal: 320ms\tremaining: 2s\n",
      "138:\tlearn: 0.2968433\ttotal: 322ms\tremaining: 1.99s\n",
      "139:\tlearn: 0.2965978\ttotal: 324ms\tremaining: 1.99s\n",
      "140:\tlearn: 0.2962398\ttotal: 326ms\tremaining: 1.99s\n",
      "141:\tlearn: 0.2960289\ttotal: 328ms\tremaining: 1.98s\n",
      "142:\tlearn: 0.2957185\ttotal: 331ms\tremaining: 1.98s\n",
      "143:\tlearn: 0.2952465\ttotal: 333ms\tremaining: 1.98s\n",
      "144:\tlearn: 0.2948940\ttotal: 335ms\tremaining: 1.98s\n",
      "145:\tlearn: 0.2945711\ttotal: 337ms\tremaining: 1.97s\n",
      "146:\tlearn: 0.2943113\ttotal: 340ms\tremaining: 1.97s\n",
      "147:\tlearn: 0.2939094\ttotal: 342ms\tremaining: 1.97s\n",
      "148:\tlearn: 0.2935740\ttotal: 344ms\tremaining: 1.97s\n",
      "149:\tlearn: 0.2933569\ttotal: 346ms\tremaining: 1.96s\n",
      "150:\tlearn: 0.2929612\ttotal: 348ms\tremaining: 1.96s\n",
      "151:\tlearn: 0.2928826\ttotal: 350ms\tremaining: 1.95s\n",
      "152:\tlearn: 0.2925298\ttotal: 352ms\tremaining: 1.95s\n",
      "153:\tlearn: 0.2923048\ttotal: 354ms\tremaining: 1.94s\n",
      "154:\tlearn: 0.2918811\ttotal: 356ms\tremaining: 1.94s\n",
      "155:\tlearn: 0.2916183\ttotal: 358ms\tremaining: 1.94s\n",
      "156:\tlearn: 0.2913053\ttotal: 360ms\tremaining: 1.93s\n",
      "157:\tlearn: 0.2910842\ttotal: 362ms\tremaining: 1.93s\n",
      "158:\tlearn: 0.2908542\ttotal: 364ms\tremaining: 1.93s\n",
      "159:\tlearn: 0.2905893\ttotal: 366ms\tremaining: 1.92s\n",
      "160:\tlearn: 0.2903227\ttotal: 368ms\tremaining: 1.92s\n",
      "161:\tlearn: 0.2900934\ttotal: 371ms\tremaining: 1.92s\n",
      "162:\tlearn: 0.2898545\ttotal: 373ms\tremaining: 1.91s\n",
      "163:\tlearn: 0.2897409\ttotal: 375ms\tremaining: 1.91s\n",
      "164:\tlearn: 0.2893740\ttotal: 377ms\tremaining: 1.91s\n",
      "165:\tlearn: 0.2891052\ttotal: 379ms\tremaining: 1.9s\n",
      "166:\tlearn: 0.2889370\ttotal: 381ms\tremaining: 1.9s\n",
      "167:\tlearn: 0.2886718\ttotal: 383ms\tremaining: 1.9s\n",
      "168:\tlearn: 0.2884332\ttotal: 385ms\tremaining: 1.89s\n",
      "169:\tlearn: 0.2881227\ttotal: 387ms\tremaining: 1.89s\n",
      "170:\tlearn: 0.2878864\ttotal: 389ms\tremaining: 1.89s\n",
      "171:\tlearn: 0.2876521\ttotal: 391ms\tremaining: 1.88s\n",
      "172:\tlearn: 0.2874931\ttotal: 394ms\tremaining: 1.88s\n",
      "173:\tlearn: 0.2872950\ttotal: 396ms\tremaining: 1.88s\n",
      "174:\tlearn: 0.2868387\ttotal: 398ms\tremaining: 1.87s\n",
      "175:\tlearn: 0.2865594\ttotal: 400ms\tremaining: 1.87s\n",
      "176:\tlearn: 0.2864167\ttotal: 402ms\tremaining: 1.87s\n",
      "177:\tlearn: 0.2861490\ttotal: 404ms\tremaining: 1.87s\n",
      "178:\tlearn: 0.2859478\ttotal: 407ms\tremaining: 1.86s\n",
      "179:\tlearn: 0.2856515\ttotal: 409ms\tremaining: 1.86s\n"
     ]
    },
    {
     "name": "stdout",
     "output_type": "stream",
     "text": [
      "180:\tlearn: 0.2852704\ttotal: 411ms\tremaining: 1.86s\n",
      "181:\tlearn: 0.2847430\ttotal: 413ms\tremaining: 1.86s\n",
      "182:\tlearn: 0.2844250\ttotal: 415ms\tremaining: 1.85s\n",
      "183:\tlearn: 0.2841550\ttotal: 418ms\tremaining: 1.85s\n",
      "184:\tlearn: 0.2838762\ttotal: 420ms\tremaining: 1.85s\n",
      "185:\tlearn: 0.2836049\ttotal: 422ms\tremaining: 1.85s\n",
      "186:\tlearn: 0.2833571\ttotal: 425ms\tremaining: 1.85s\n",
      "187:\tlearn: 0.2830366\ttotal: 428ms\tremaining: 1.85s\n",
      "188:\tlearn: 0.2827851\ttotal: 430ms\tremaining: 1.84s\n",
      "189:\tlearn: 0.2825739\ttotal: 433ms\tremaining: 1.84s\n",
      "190:\tlearn: 0.2823266\ttotal: 435ms\tremaining: 1.84s\n",
      "191:\tlearn: 0.2819833\ttotal: 437ms\tremaining: 1.84s\n",
      "192:\tlearn: 0.2817629\ttotal: 440ms\tremaining: 1.84s\n",
      "193:\tlearn: 0.2815943\ttotal: 442ms\tremaining: 1.84s\n",
      "194:\tlearn: 0.2813582\ttotal: 445ms\tremaining: 1.83s\n",
      "195:\tlearn: 0.2810682\ttotal: 447ms\tremaining: 1.83s\n",
      "196:\tlearn: 0.2808418\ttotal: 449ms\tremaining: 1.83s\n",
      "197:\tlearn: 0.2806095\ttotal: 451ms\tremaining: 1.83s\n",
      "198:\tlearn: 0.2803730\ttotal: 453ms\tremaining: 1.82s\n",
      "199:\tlearn: 0.2801881\ttotal: 456ms\tremaining: 1.82s\n",
      "200:\tlearn: 0.2800304\ttotal: 458ms\tremaining: 1.82s\n",
      "201:\tlearn: 0.2797564\ttotal: 460ms\tremaining: 1.82s\n",
      "202:\tlearn: 0.2795351\ttotal: 462ms\tremaining: 1.81s\n",
      "203:\tlearn: 0.2793210\ttotal: 464ms\tremaining: 1.81s\n",
      "204:\tlearn: 0.2790964\ttotal: 467ms\tremaining: 1.81s\n",
      "205:\tlearn: 0.2789995\ttotal: 469ms\tremaining: 1.81s\n",
      "206:\tlearn: 0.2789212\ttotal: 471ms\tremaining: 1.8s\n",
      "207:\tlearn: 0.2787679\ttotal: 473ms\tremaining: 1.8s\n",
      "208:\tlearn: 0.2786139\ttotal: 475ms\tremaining: 1.8s\n",
      "209:\tlearn: 0.2782768\ttotal: 477ms\tremaining: 1.79s\n",
      "210:\tlearn: 0.2780836\ttotal: 480ms\tremaining: 1.79s\n",
      "211:\tlearn: 0.2778988\ttotal: 482ms\tremaining: 1.79s\n",
      "212:\tlearn: 0.2776894\ttotal: 484ms\tremaining: 1.79s\n",
      "213:\tlearn: 0.2774870\ttotal: 486ms\tremaining: 1.78s\n",
      "214:\tlearn: 0.2772790\ttotal: 488ms\tremaining: 1.78s\n",
      "215:\tlearn: 0.2771593\ttotal: 490ms\tremaining: 1.78s\n",
      "216:\tlearn: 0.2769222\ttotal: 492ms\tremaining: 1.77s\n",
      "217:\tlearn: 0.2766958\ttotal: 494ms\tremaining: 1.77s\n",
      "218:\tlearn: 0.2764375\ttotal: 496ms\tremaining: 1.77s\n",
      "219:\tlearn: 0.2762204\ttotal: 498ms\tremaining: 1.77s\n",
      "220:\tlearn: 0.2759340\ttotal: 500ms\tremaining: 1.76s\n",
      "221:\tlearn: 0.2756118\ttotal: 502ms\tremaining: 1.76s\n",
      "222:\tlearn: 0.2754611\ttotal: 505ms\tremaining: 1.76s\n",
      "223:\tlearn: 0.2752402\ttotal: 507ms\tremaining: 1.75s\n",
      "224:\tlearn: 0.2750593\ttotal: 509ms\tremaining: 1.75s\n",
      "225:\tlearn: 0.2747767\ttotal: 511ms\tremaining: 1.75s\n",
      "226:\tlearn: 0.2744155\ttotal: 513ms\tremaining: 1.75s\n",
      "227:\tlearn: 0.2742437\ttotal: 515ms\tremaining: 1.74s\n",
      "228:\tlearn: 0.2740837\ttotal: 517ms\tremaining: 1.74s\n",
      "229:\tlearn: 0.2736848\ttotal: 519ms\tremaining: 1.74s\n",
      "230:\tlearn: 0.2734851\ttotal: 521ms\tremaining: 1.74s\n",
      "231:\tlearn: 0.2732045\ttotal: 524ms\tremaining: 1.73s\n",
      "232:\tlearn: 0.2730676\ttotal: 526ms\tremaining: 1.73s\n",
      "233:\tlearn: 0.2728238\ttotal: 528ms\tremaining: 1.73s\n",
      "234:\tlearn: 0.2726705\ttotal: 530ms\tremaining: 1.73s\n",
      "235:\tlearn: 0.2725010\ttotal: 532ms\tremaining: 1.72s\n",
      "236:\tlearn: 0.2722905\ttotal: 535ms\tremaining: 1.72s\n",
      "237:\tlearn: 0.2721182\ttotal: 537ms\tremaining: 1.72s\n",
      "238:\tlearn: 0.2719258\ttotal: 539ms\tremaining: 1.72s\n",
      "239:\tlearn: 0.2718219\ttotal: 542ms\tremaining: 1.72s\n",
      "240:\tlearn: 0.2715693\ttotal: 544ms\tremaining: 1.71s\n",
      "241:\tlearn: 0.2712538\ttotal: 546ms\tremaining: 1.71s\n",
      "242:\tlearn: 0.2709969\ttotal: 548ms\tremaining: 1.71s\n",
      "243:\tlearn: 0.2708009\ttotal: 550ms\tremaining: 1.71s\n",
      "244:\tlearn: 0.2705816\ttotal: 553ms\tremaining: 1.7s\n",
      "245:\tlearn: 0.2704213\ttotal: 555ms\tremaining: 1.7s\n",
      "246:\tlearn: 0.2702813\ttotal: 557ms\tremaining: 1.7s\n",
      "247:\tlearn: 0.2701579\ttotal: 559ms\tremaining: 1.7s\n",
      "248:\tlearn: 0.2699703\ttotal: 561ms\tremaining: 1.69s\n",
      "249:\tlearn: 0.2698196\ttotal: 564ms\tremaining: 1.69s\n",
      "250:\tlearn: 0.2696013\ttotal: 566ms\tremaining: 1.69s\n",
      "251:\tlearn: 0.2694298\ttotal: 568ms\tremaining: 1.69s\n",
      "252:\tlearn: 0.2691719\ttotal: 570ms\tremaining: 1.68s\n",
      "253:\tlearn: 0.2689524\ttotal: 572ms\tremaining: 1.68s\n",
      "254:\tlearn: 0.2685837\ttotal: 574ms\tremaining: 1.68s\n",
      "255:\tlearn: 0.2684296\ttotal: 577ms\tremaining: 1.68s\n",
      "256:\tlearn: 0.2680574\ttotal: 579ms\tremaining: 1.67s\n",
      "257:\tlearn: 0.2678934\ttotal: 581ms\tremaining: 1.67s\n",
      "258:\tlearn: 0.2675811\ttotal: 583ms\tremaining: 1.67s\n",
      "259:\tlearn: 0.2674002\ttotal: 586ms\tremaining: 1.67s\n",
      "260:\tlearn: 0.2671360\ttotal: 588ms\tremaining: 1.66s\n",
      "261:\tlearn: 0.2669590\ttotal: 590ms\tremaining: 1.66s\n",
      "262:\tlearn: 0.2667057\ttotal: 592ms\tremaining: 1.66s\n",
      "263:\tlearn: 0.2663542\ttotal: 595ms\tremaining: 1.66s\n",
      "264:\tlearn: 0.2661803\ttotal: 597ms\tremaining: 1.66s\n",
      "265:\tlearn: 0.2661204\ttotal: 599ms\tremaining: 1.65s\n",
      "266:\tlearn: 0.2658467\ttotal: 602ms\tremaining: 1.65s\n",
      "267:\tlearn: 0.2656204\ttotal: 604ms\tremaining: 1.65s\n",
      "268:\tlearn: 0.2654879\ttotal: 606ms\tremaining: 1.65s\n",
      "269:\tlearn: 0.2652659\ttotal: 608ms\tremaining: 1.64s\n",
      "270:\tlearn: 0.2649671\ttotal: 611ms\tremaining: 1.64s\n",
      "271:\tlearn: 0.2648280\ttotal: 613ms\tremaining: 1.64s\n",
      "272:\tlearn: 0.2646754\ttotal: 615ms\tremaining: 1.64s\n",
      "273:\tlearn: 0.2643946\ttotal: 618ms\tremaining: 1.64s\n",
      "274:\tlearn: 0.2641159\ttotal: 620ms\tremaining: 1.63s\n",
      "275:\tlearn: 0.2639254\ttotal: 622ms\tremaining: 1.63s\n",
      "276:\tlearn: 0.2635812\ttotal: 625ms\tremaining: 1.63s\n",
      "277:\tlearn: 0.2634673\ttotal: 628ms\tremaining: 1.63s\n",
      "278:\tlearn: 0.2632891\ttotal: 630ms\tremaining: 1.63s\n",
      "279:\tlearn: 0.2631114\ttotal: 632ms\tremaining: 1.63s\n",
      "280:\tlearn: 0.2627441\ttotal: 635ms\tremaining: 1.62s\n",
      "281:\tlearn: 0.2625037\ttotal: 637ms\tremaining: 1.62s\n",
      "282:\tlearn: 0.2623742\ttotal: 640ms\tremaining: 1.62s\n",
      "283:\tlearn: 0.2619833\ttotal: 642ms\tremaining: 1.62s\n",
      "284:\tlearn: 0.2618072\ttotal: 644ms\tremaining: 1.62s\n",
      "285:\tlearn: 0.2616878\ttotal: 646ms\tremaining: 1.61s\n",
      "286:\tlearn: 0.2614571\ttotal: 649ms\tremaining: 1.61s\n",
      "287:\tlearn: 0.2612928\ttotal: 651ms\tremaining: 1.61s\n",
      "288:\tlearn: 0.2610563\ttotal: 653ms\tremaining: 1.61s\n",
      "289:\tlearn: 0.2607879\ttotal: 655ms\tremaining: 1.6s\n",
      "290:\tlearn: 0.2605946\ttotal: 658ms\tremaining: 1.6s\n",
      "291:\tlearn: 0.2602825\ttotal: 660ms\tremaining: 1.6s\n",
      "292:\tlearn: 0.2601302\ttotal: 662ms\tremaining: 1.6s\n",
      "293:\tlearn: 0.2599577\ttotal: 664ms\tremaining: 1.59s\n",
      "294:\tlearn: 0.2597253\ttotal: 666ms\tremaining: 1.59s\n",
      "295:\tlearn: 0.2595688\ttotal: 668ms\tremaining: 1.59s\n",
      "296:\tlearn: 0.2593685\ttotal: 671ms\tremaining: 1.59s\n",
      "297:\tlearn: 0.2592469\ttotal: 673ms\tremaining: 1.58s\n",
      "298:\tlearn: 0.2589800\ttotal: 675ms\tremaining: 1.58s\n",
      "299:\tlearn: 0.2588194\ttotal: 677ms\tremaining: 1.58s\n",
      "300:\tlearn: 0.2585561\ttotal: 679ms\tremaining: 1.58s\n",
      "301:\tlearn: 0.2583569\ttotal: 681ms\tremaining: 1.57s\n",
      "302:\tlearn: 0.2582197\ttotal: 683ms\tremaining: 1.57s\n",
      "303:\tlearn: 0.2581370\ttotal: 685ms\tremaining: 1.57s\n",
      "304:\tlearn: 0.2577988\ttotal: 687ms\tremaining: 1.56s\n",
      "305:\tlearn: 0.2575154\ttotal: 689ms\tremaining: 1.56s\n",
      "306:\tlearn: 0.2572814\ttotal: 691ms\tremaining: 1.56s\n",
      "307:\tlearn: 0.2571472\ttotal: 694ms\tremaining: 1.56s\n",
      "308:\tlearn: 0.2569409\ttotal: 696ms\tremaining: 1.55s\n",
      "309:\tlearn: 0.2566925\ttotal: 698ms\tremaining: 1.55s\n",
      "310:\tlearn: 0.2565207\ttotal: 700ms\tremaining: 1.55s\n",
      "311:\tlearn: 0.2562563\ttotal: 703ms\tremaining: 1.55s\n",
      "312:\tlearn: 0.2560162\ttotal: 705ms\tremaining: 1.55s\n",
      "313:\tlearn: 0.2557879\ttotal: 707ms\tremaining: 1.54s\n",
      "314:\tlearn: 0.2555059\ttotal: 709ms\tremaining: 1.54s\n",
      "315:\tlearn: 0.2552286\ttotal: 711ms\tremaining: 1.54s\n",
      "316:\tlearn: 0.2549669\ttotal: 713ms\tremaining: 1.54s\n",
      "317:\tlearn: 0.2547467\ttotal: 716ms\tremaining: 1.53s\n",
      "318:\tlearn: 0.2544584\ttotal: 718ms\tremaining: 1.53s\n",
      "319:\tlearn: 0.2543383\ttotal: 720ms\tremaining: 1.53s\n",
      "320:\tlearn: 0.2541709\ttotal: 722ms\tremaining: 1.53s\n",
      "321:\tlearn: 0.2539700\ttotal: 724ms\tremaining: 1.52s\n",
      "322:\tlearn: 0.2537776\ttotal: 727ms\tremaining: 1.52s\n",
      "323:\tlearn: 0.2536075\ttotal: 729ms\tremaining: 1.52s\n",
      "324:\tlearn: 0.2533824\ttotal: 731ms\tremaining: 1.52s\n",
      "325:\tlearn: 0.2531989\ttotal: 733ms\tremaining: 1.51s\n",
      "326:\tlearn: 0.2529059\ttotal: 735ms\tremaining: 1.51s\n",
      "327:\tlearn: 0.2527193\ttotal: 737ms\tremaining: 1.51s\n",
      "328:\tlearn: 0.2523721\ttotal: 739ms\tremaining: 1.51s\n",
      "329:\tlearn: 0.2522248\ttotal: 742ms\tremaining: 1.5s\n",
      "330:\tlearn: 0.2520054\ttotal: 744ms\tremaining: 1.5s\n",
      "331:\tlearn: 0.2518057\ttotal: 746ms\tremaining: 1.5s\n",
      "332:\tlearn: 0.2516740\ttotal: 748ms\tremaining: 1.5s\n",
      "333:\tlearn: 0.2516101\ttotal: 750ms\tremaining: 1.5s\n",
      "334:\tlearn: 0.2514096\ttotal: 752ms\tremaining: 1.49s\n",
      "335:\tlearn: 0.2511623\ttotal: 754ms\tremaining: 1.49s\n",
      "336:\tlearn: 0.2510303\ttotal: 757ms\tremaining: 1.49s\n",
      "337:\tlearn: 0.2508151\ttotal: 759ms\tremaining: 1.49s\n",
      "338:\tlearn: 0.2506727\ttotal: 761ms\tremaining: 1.48s\n",
      "339:\tlearn: 0.2504819\ttotal: 764ms\tremaining: 1.48s\n",
      "340:\tlearn: 0.2503355\ttotal: 766ms\tremaining: 1.48s\n",
      "341:\tlearn: 0.2502102\ttotal: 768ms\tremaining: 1.48s\n",
      "342:\tlearn: 0.2501010\ttotal: 771ms\tremaining: 1.48s\n",
      "343:\tlearn: 0.2498838\ttotal: 773ms\tremaining: 1.47s\n",
      "344:\tlearn: 0.2496241\ttotal: 775ms\tremaining: 1.47s\n",
      "345:\tlearn: 0.2494040\ttotal: 777ms\tremaining: 1.47s\n",
      "346:\tlearn: 0.2492147\ttotal: 780ms\tremaining: 1.47s\n",
      "347:\tlearn: 0.2490802\ttotal: 782ms\tremaining: 1.47s\n",
      "348:\tlearn: 0.2488700\ttotal: 784ms\tremaining: 1.46s\n",
      "349:\tlearn: 0.2487143\ttotal: 786ms\tremaining: 1.46s\n",
      "350:\tlearn: 0.2485285\ttotal: 789ms\tremaining: 1.46s\n",
      "351:\tlearn: 0.2483049\ttotal: 791ms\tremaining: 1.46s\n",
      "352:\tlearn: 0.2480909\ttotal: 793ms\tremaining: 1.45s\n",
      "353:\tlearn: 0.2479274\ttotal: 796ms\tremaining: 1.45s\n",
      "354:\tlearn: 0.2477713\ttotal: 798ms\tremaining: 1.45s\n",
      "355:\tlearn: 0.2476005\ttotal: 800ms\tremaining: 1.45s\n",
      "356:\tlearn: 0.2474230\ttotal: 802ms\tremaining: 1.44s\n",
      "357:\tlearn: 0.2472053\ttotal: 804ms\tremaining: 1.44s\n"
     ]
    },
    {
     "name": "stdout",
     "output_type": "stream",
     "text": [
      "358:\tlearn: 0.2469739\ttotal: 807ms\tremaining: 1.44s\n",
      "359:\tlearn: 0.2467574\ttotal: 809ms\tremaining: 1.44s\n",
      "360:\tlearn: 0.2466038\ttotal: 811ms\tremaining: 1.44s\n",
      "361:\tlearn: 0.2463896\ttotal: 814ms\tremaining: 1.43s\n",
      "362:\tlearn: 0.2462614\ttotal: 816ms\tremaining: 1.43s\n",
      "363:\tlearn: 0.2461579\ttotal: 818ms\tremaining: 1.43s\n",
      "364:\tlearn: 0.2459252\ttotal: 821ms\tremaining: 1.43s\n",
      "365:\tlearn: 0.2457057\ttotal: 823ms\tremaining: 1.43s\n",
      "366:\tlearn: 0.2455444\ttotal: 825ms\tremaining: 1.42s\n",
      "367:\tlearn: 0.2453525\ttotal: 828ms\tremaining: 1.42s\n",
      "368:\tlearn: 0.2451585\ttotal: 830ms\tremaining: 1.42s\n",
      "369:\tlearn: 0.2449312\ttotal: 832ms\tremaining: 1.42s\n",
      "370:\tlearn: 0.2447537\ttotal: 834ms\tremaining: 1.41s\n",
      "371:\tlearn: 0.2446142\ttotal: 837ms\tremaining: 1.41s\n",
      "372:\tlearn: 0.2444766\ttotal: 839ms\tremaining: 1.41s\n",
      "373:\tlearn: 0.2443349\ttotal: 841ms\tremaining: 1.41s\n",
      "374:\tlearn: 0.2440156\ttotal: 843ms\tremaining: 1.41s\n",
      "375:\tlearn: 0.2438671\ttotal: 845ms\tremaining: 1.4s\n",
      "376:\tlearn: 0.2436804\ttotal: 847ms\tremaining: 1.4s\n",
      "377:\tlearn: 0.2434483\ttotal: 850ms\tremaining: 1.4s\n",
      "378:\tlearn: 0.2433177\ttotal: 852ms\tremaining: 1.4s\n",
      "379:\tlearn: 0.2431506\ttotal: 854ms\tremaining: 1.39s\n",
      "380:\tlearn: 0.2429745\ttotal: 856ms\tremaining: 1.39s\n",
      "381:\tlearn: 0.2427682\ttotal: 858ms\tremaining: 1.39s\n",
      "382:\tlearn: 0.2426181\ttotal: 860ms\tremaining: 1.39s\n",
      "383:\tlearn: 0.2423853\ttotal: 862ms\tremaining: 1.38s\n",
      "384:\tlearn: 0.2421772\ttotal: 864ms\tremaining: 1.38s\n",
      "385:\tlearn: 0.2419819\ttotal: 867ms\tremaining: 1.38s\n",
      "386:\tlearn: 0.2418376\ttotal: 869ms\tremaining: 1.38s\n",
      "387:\tlearn: 0.2415949\ttotal: 871ms\tremaining: 1.37s\n",
      "388:\tlearn: 0.2413605\ttotal: 873ms\tremaining: 1.37s\n",
      "389:\tlearn: 0.2411738\ttotal: 875ms\tremaining: 1.37s\n",
      "390:\tlearn: 0.2409581\ttotal: 877ms\tremaining: 1.37s\n",
      "391:\tlearn: 0.2407375\ttotal: 880ms\tremaining: 1.36s\n",
      "392:\tlearn: 0.2404907\ttotal: 882ms\tremaining: 1.36s\n",
      "393:\tlearn: 0.2401592\ttotal: 884ms\tremaining: 1.36s\n",
      "394:\tlearn: 0.2399557\ttotal: 886ms\tremaining: 1.36s\n",
      "395:\tlearn: 0.2398038\ttotal: 888ms\tremaining: 1.35s\n",
      "396:\tlearn: 0.2396661\ttotal: 891ms\tremaining: 1.35s\n",
      "397:\tlearn: 0.2395242\ttotal: 893ms\tremaining: 1.35s\n",
      "398:\tlearn: 0.2392029\ttotal: 895ms\tremaining: 1.35s\n",
      "399:\tlearn: 0.2390115\ttotal: 897ms\tremaining: 1.34s\n",
      "400:\tlearn: 0.2387640\ttotal: 899ms\tremaining: 1.34s\n",
      "401:\tlearn: 0.2385579\ttotal: 902ms\tremaining: 1.34s\n",
      "402:\tlearn: 0.2383827\ttotal: 904ms\tremaining: 1.34s\n",
      "403:\tlearn: 0.2381999\ttotal: 906ms\tremaining: 1.34s\n",
      "404:\tlearn: 0.2380202\ttotal: 908ms\tremaining: 1.33s\n",
      "405:\tlearn: 0.2378383\ttotal: 910ms\tremaining: 1.33s\n",
      "406:\tlearn: 0.2376524\ttotal: 913ms\tremaining: 1.33s\n",
      "407:\tlearn: 0.2374668\ttotal: 915ms\tremaining: 1.33s\n",
      "408:\tlearn: 0.2372680\ttotal: 917ms\tremaining: 1.32s\n",
      "409:\tlearn: 0.2371116\ttotal: 919ms\tremaining: 1.32s\n",
      "410:\tlearn: 0.2369094\ttotal: 921ms\tremaining: 1.32s\n",
      "411:\tlearn: 0.2366717\ttotal: 924ms\tremaining: 1.32s\n",
      "412:\tlearn: 0.2364913\ttotal: 926ms\tremaining: 1.31s\n",
      "413:\tlearn: 0.2363189\ttotal: 928ms\tremaining: 1.31s\n",
      "414:\tlearn: 0.2361116\ttotal: 930ms\tremaining: 1.31s\n",
      "415:\tlearn: 0.2359868\ttotal: 932ms\tremaining: 1.31s\n",
      "416:\tlearn: 0.2358344\ttotal: 935ms\tremaining: 1.31s\n",
      "417:\tlearn: 0.2356837\ttotal: 937ms\tremaining: 1.3s\n",
      "418:\tlearn: 0.2354632\ttotal: 939ms\tremaining: 1.3s\n",
      "419:\tlearn: 0.2353207\ttotal: 941ms\tremaining: 1.3s\n",
      "420:\tlearn: 0.2350413\ttotal: 944ms\tremaining: 1.3s\n",
      "421:\tlearn: 0.2348637\ttotal: 946ms\tremaining: 1.29s\n",
      "422:\tlearn: 0.2346021\ttotal: 948ms\tremaining: 1.29s\n",
      "423:\tlearn: 0.2344548\ttotal: 950ms\tremaining: 1.29s\n",
      "424:\tlearn: 0.2343038\ttotal: 952ms\tremaining: 1.29s\n",
      "425:\tlearn: 0.2340476\ttotal: 955ms\tremaining: 1.29s\n",
      "426:\tlearn: 0.2338587\ttotal: 957ms\tremaining: 1.28s\n",
      "427:\tlearn: 0.2336366\ttotal: 959ms\tremaining: 1.28s\n",
      "428:\tlearn: 0.2333650\ttotal: 961ms\tremaining: 1.28s\n",
      "429:\tlearn: 0.2331984\ttotal: 964ms\tremaining: 1.28s\n",
      "430:\tlearn: 0.2329752\ttotal: 966ms\tremaining: 1.27s\n",
      "431:\tlearn: 0.2327576\ttotal: 968ms\tremaining: 1.27s\n",
      "432:\tlearn: 0.2325835\ttotal: 970ms\tremaining: 1.27s\n",
      "433:\tlearn: 0.2324221\ttotal: 973ms\tremaining: 1.27s\n",
      "434:\tlearn: 0.2322804\ttotal: 975ms\tremaining: 1.27s\n",
      "435:\tlearn: 0.2321257\ttotal: 977ms\tremaining: 1.26s\n",
      "436:\tlearn: 0.2319376\ttotal: 980ms\tremaining: 1.26s\n",
      "437:\tlearn: 0.2317102\ttotal: 982ms\tremaining: 1.26s\n",
      "438:\tlearn: 0.2315478\ttotal: 984ms\tremaining: 1.26s\n",
      "439:\tlearn: 0.2313548\ttotal: 986ms\tremaining: 1.25s\n",
      "440:\tlearn: 0.2312376\ttotal: 989ms\tremaining: 1.25s\n",
      "441:\tlearn: 0.2310717\ttotal: 991ms\tremaining: 1.25s\n",
      "442:\tlearn: 0.2309162\ttotal: 993ms\tremaining: 1.25s\n",
      "443:\tlearn: 0.2307481\ttotal: 995ms\tremaining: 1.25s\n",
      "444:\tlearn: 0.2305155\ttotal: 997ms\tremaining: 1.24s\n",
      "445:\tlearn: 0.2303791\ttotal: 1000ms\tremaining: 1.24s\n",
      "446:\tlearn: 0.2302265\ttotal: 1s\tremaining: 1.24s\n",
      "447:\tlearn: 0.2300516\ttotal: 1s\tremaining: 1.24s\n",
      "448:\tlearn: 0.2299006\ttotal: 1.01s\tremaining: 1.23s\n",
      "449:\tlearn: 0.2297624\ttotal: 1.01s\tremaining: 1.23s\n",
      "450:\tlearn: 0.2296036\ttotal: 1.01s\tremaining: 1.23s\n",
      "451:\tlearn: 0.2293418\ttotal: 1.01s\tremaining: 1.23s\n",
      "452:\tlearn: 0.2291598\ttotal: 1.01s\tremaining: 1.23s\n",
      "453:\tlearn: 0.2289345\ttotal: 1.02s\tremaining: 1.22s\n",
      "454:\tlearn: 0.2287647\ttotal: 1.02s\tremaining: 1.22s\n",
      "455:\tlearn: 0.2286117\ttotal: 1.02s\tremaining: 1.22s\n",
      "456:\tlearn: 0.2283939\ttotal: 1.02s\tremaining: 1.22s\n",
      "457:\tlearn: 0.2281557\ttotal: 1.03s\tremaining: 1.21s\n",
      "458:\tlearn: 0.2279969\ttotal: 1.03s\tremaining: 1.21s\n",
      "459:\tlearn: 0.2278017\ttotal: 1.03s\tremaining: 1.21s\n",
      "460:\tlearn: 0.2276713\ttotal: 1.03s\tremaining: 1.21s\n",
      "461:\tlearn: 0.2274759\ttotal: 1.03s\tremaining: 1.21s\n",
      "462:\tlearn: 0.2273333\ttotal: 1.04s\tremaining: 1.2s\n",
      "463:\tlearn: 0.2271974\ttotal: 1.04s\tremaining: 1.2s\n",
      "464:\tlearn: 0.2270157\ttotal: 1.04s\tremaining: 1.2s\n",
      "465:\tlearn: 0.2268534\ttotal: 1.04s\tremaining: 1.2s\n",
      "466:\tlearn: 0.2266906\ttotal: 1.05s\tremaining: 1.2s\n",
      "467:\tlearn: 0.2265162\ttotal: 1.05s\tremaining: 1.19s\n",
      "468:\tlearn: 0.2263730\ttotal: 1.05s\tremaining: 1.19s\n",
      "469:\tlearn: 0.2262322\ttotal: 1.05s\tremaining: 1.19s\n",
      "470:\tlearn: 0.2260695\ttotal: 1.06s\tremaining: 1.19s\n",
      "471:\tlearn: 0.2259035\ttotal: 1.06s\tremaining: 1.18s\n",
      "472:\tlearn: 0.2257432\ttotal: 1.06s\tremaining: 1.18s\n",
      "473:\tlearn: 0.2256214\ttotal: 1.06s\tremaining: 1.18s\n",
      "474:\tlearn: 0.2254637\ttotal: 1.06s\tremaining: 1.18s\n",
      "475:\tlearn: 0.2252653\ttotal: 1.07s\tremaining: 1.18s\n",
      "476:\tlearn: 0.2250713\ttotal: 1.07s\tremaining: 1.17s\n",
      "477:\tlearn: 0.2249105\ttotal: 1.07s\tremaining: 1.17s\n",
      "478:\tlearn: 0.2247587\ttotal: 1.07s\tremaining: 1.17s\n",
      "479:\tlearn: 0.2246076\ttotal: 1.08s\tremaining: 1.17s\n",
      "480:\tlearn: 0.2243919\ttotal: 1.08s\tremaining: 1.16s\n",
      "481:\tlearn: 0.2242778\ttotal: 1.08s\tremaining: 1.16s\n",
      "482:\tlearn: 0.2241597\ttotal: 1.08s\tremaining: 1.16s\n",
      "483:\tlearn: 0.2239983\ttotal: 1.09s\tremaining: 1.16s\n",
      "484:\tlearn: 0.2238288\ttotal: 1.09s\tremaining: 1.16s\n",
      "485:\tlearn: 0.2236446\ttotal: 1.09s\tremaining: 1.15s\n",
      "486:\tlearn: 0.2235443\ttotal: 1.09s\tremaining: 1.15s\n",
      "487:\tlearn: 0.2233829\ttotal: 1.09s\tremaining: 1.15s\n",
      "488:\tlearn: 0.2232049\ttotal: 1.1s\tremaining: 1.15s\n",
      "489:\tlearn: 0.2230341\ttotal: 1.1s\tremaining: 1.14s\n",
      "490:\tlearn: 0.2228611\ttotal: 1.1s\tremaining: 1.14s\n",
      "491:\tlearn: 0.2227412\ttotal: 1.1s\tremaining: 1.14s\n",
      "492:\tlearn: 0.2225916\ttotal: 1.11s\tremaining: 1.14s\n",
      "493:\tlearn: 0.2224419\ttotal: 1.11s\tremaining: 1.14s\n",
      "494:\tlearn: 0.2223102\ttotal: 1.11s\tremaining: 1.13s\n",
      "495:\tlearn: 0.2221302\ttotal: 1.11s\tremaining: 1.13s\n",
      "496:\tlearn: 0.2219845\ttotal: 1.11s\tremaining: 1.13s\n",
      "497:\tlearn: 0.2217870\ttotal: 1.12s\tremaining: 1.13s\n",
      "498:\tlearn: 0.2216415\ttotal: 1.12s\tremaining: 1.12s\n",
      "499:\tlearn: 0.2214700\ttotal: 1.12s\tremaining: 1.12s\n",
      "500:\tlearn: 0.2212560\ttotal: 1.12s\tremaining: 1.12s\n",
      "501:\tlearn: 0.2211050\ttotal: 1.13s\tremaining: 1.12s\n",
      "502:\tlearn: 0.2209352\ttotal: 1.13s\tremaining: 1.11s\n",
      "503:\tlearn: 0.2208288\ttotal: 1.13s\tremaining: 1.11s\n",
      "504:\tlearn: 0.2207221\ttotal: 1.13s\tremaining: 1.11s\n",
      "505:\tlearn: 0.2205657\ttotal: 1.14s\tremaining: 1.11s\n",
      "506:\tlearn: 0.2204304\ttotal: 1.14s\tremaining: 1.11s\n",
      "507:\tlearn: 0.2202700\ttotal: 1.14s\tremaining: 1.1s\n",
      "508:\tlearn: 0.2201371\ttotal: 1.14s\tremaining: 1.1s\n",
      "509:\tlearn: 0.2200346\ttotal: 1.14s\tremaining: 1.1s\n",
      "510:\tlearn: 0.2199376\ttotal: 1.15s\tremaining: 1.1s\n",
      "511:\tlearn: 0.2197833\ttotal: 1.15s\tremaining: 1.09s\n",
      "512:\tlearn: 0.2196433\ttotal: 1.15s\tremaining: 1.09s\n",
      "513:\tlearn: 0.2195507\ttotal: 1.15s\tremaining: 1.09s\n",
      "514:\tlearn: 0.2193712\ttotal: 1.16s\tremaining: 1.09s\n",
      "515:\tlearn: 0.2191791\ttotal: 1.16s\tremaining: 1.09s\n",
      "516:\tlearn: 0.2190818\ttotal: 1.16s\tremaining: 1.08s\n",
      "517:\tlearn: 0.2188613\ttotal: 1.16s\tremaining: 1.08s\n",
      "518:\tlearn: 0.2186614\ttotal: 1.16s\tremaining: 1.08s\n",
      "519:\tlearn: 0.2185177\ttotal: 1.17s\tremaining: 1.08s\n",
      "520:\tlearn: 0.2183541\ttotal: 1.17s\tremaining: 1.07s\n",
      "521:\tlearn: 0.2182241\ttotal: 1.17s\tremaining: 1.07s\n",
      "522:\tlearn: 0.2180973\ttotal: 1.17s\tremaining: 1.07s\n",
      "523:\tlearn: 0.2179672\ttotal: 1.18s\tremaining: 1.07s\n",
      "524:\tlearn: 0.2178614\ttotal: 1.18s\tremaining: 1.07s\n",
      "525:\tlearn: 0.2176715\ttotal: 1.18s\tremaining: 1.06s\n",
      "526:\tlearn: 0.2175835\ttotal: 1.18s\tremaining: 1.06s\n",
      "527:\tlearn: 0.2174557\ttotal: 1.19s\tremaining: 1.06s\n",
      "528:\tlearn: 0.2173170\ttotal: 1.19s\tremaining: 1.06s\n",
      "529:\tlearn: 0.2171440\ttotal: 1.19s\tremaining: 1.05s\n",
      "530:\tlearn: 0.2169906\ttotal: 1.19s\tremaining: 1.05s\n",
      "531:\tlearn: 0.2168889\ttotal: 1.19s\tremaining: 1.05s\n",
      "532:\tlearn: 0.2167451\ttotal: 1.2s\tremaining: 1.05s\n",
      "533:\tlearn: 0.2166381\ttotal: 1.2s\tremaining: 1.04s\n"
     ]
    },
    {
     "name": "stdout",
     "output_type": "stream",
     "text": [
      "534:\tlearn: 0.2164725\ttotal: 1.2s\tremaining: 1.04s\n",
      "535:\tlearn: 0.2163138\ttotal: 1.2s\tremaining: 1.04s\n",
      "536:\tlearn: 0.2160476\ttotal: 1.21s\tremaining: 1.04s\n",
      "537:\tlearn: 0.2159189\ttotal: 1.21s\tremaining: 1.04s\n",
      "538:\tlearn: 0.2157277\ttotal: 1.21s\tremaining: 1.03s\n",
      "539:\tlearn: 0.2155243\ttotal: 1.21s\tremaining: 1.03s\n",
      "540:\tlearn: 0.2154173\ttotal: 1.21s\tremaining: 1.03s\n",
      "541:\tlearn: 0.2152610\ttotal: 1.22s\tremaining: 1.03s\n",
      "542:\tlearn: 0.2151777\ttotal: 1.22s\tremaining: 1.02s\n",
      "543:\tlearn: 0.2150531\ttotal: 1.22s\tremaining: 1.02s\n",
      "544:\tlearn: 0.2148592\ttotal: 1.22s\tremaining: 1.02s\n",
      "545:\tlearn: 0.2147096\ttotal: 1.23s\tremaining: 1.02s\n",
      "546:\tlearn: 0.2145568\ttotal: 1.23s\tremaining: 1.02s\n",
      "547:\tlearn: 0.2144330\ttotal: 1.23s\tremaining: 1.01s\n",
      "548:\tlearn: 0.2143421\ttotal: 1.23s\tremaining: 1.01s\n",
      "549:\tlearn: 0.2142003\ttotal: 1.23s\tremaining: 1.01s\n",
      "550:\tlearn: 0.2140023\ttotal: 1.24s\tremaining: 1.01s\n",
      "551:\tlearn: 0.2138809\ttotal: 1.24s\tremaining: 1s\n",
      "552:\tlearn: 0.2137001\ttotal: 1.24s\tremaining: 1s\n",
      "553:\tlearn: 0.2135275\ttotal: 1.24s\tremaining: 1s\n",
      "554:\tlearn: 0.2133357\ttotal: 1.25s\tremaining: 999ms\n",
      "555:\tlearn: 0.2131974\ttotal: 1.25s\tremaining: 997ms\n",
      "556:\tlearn: 0.2129850\ttotal: 1.25s\tremaining: 994ms\n",
      "557:\tlearn: 0.2128797\ttotal: 1.25s\tremaining: 992ms\n",
      "558:\tlearn: 0.2127115\ttotal: 1.25s\tremaining: 990ms\n",
      "559:\tlearn: 0.2125577\ttotal: 1.26s\tremaining: 987ms\n",
      "560:\tlearn: 0.2124362\ttotal: 1.26s\tremaining: 985ms\n",
      "561:\tlearn: 0.2123261\ttotal: 1.26s\tremaining: 983ms\n",
      "562:\tlearn: 0.2121700\ttotal: 1.26s\tremaining: 980ms\n",
      "563:\tlearn: 0.2119604\ttotal: 1.26s\tremaining: 978ms\n",
      "564:\tlearn: 0.2118576\ttotal: 1.27s\tremaining: 976ms\n",
      "565:\tlearn: 0.2116280\ttotal: 1.27s\tremaining: 974ms\n",
      "566:\tlearn: 0.2114430\ttotal: 1.27s\tremaining: 971ms\n",
      "567:\tlearn: 0.2113111\ttotal: 1.27s\tremaining: 969ms\n",
      "568:\tlearn: 0.2111595\ttotal: 1.28s\tremaining: 967ms\n",
      "569:\tlearn: 0.2110091\ttotal: 1.28s\tremaining: 964ms\n",
      "570:\tlearn: 0.2109011\ttotal: 1.28s\tremaining: 962ms\n",
      "571:\tlearn: 0.2107926\ttotal: 1.28s\tremaining: 960ms\n",
      "572:\tlearn: 0.2106422\ttotal: 1.28s\tremaining: 958ms\n",
      "573:\tlearn: 0.2104825\ttotal: 1.29s\tremaining: 956ms\n",
      "574:\tlearn: 0.2103115\ttotal: 1.29s\tremaining: 953ms\n",
      "575:\tlearn: 0.2101556\ttotal: 1.29s\tremaining: 951ms\n",
      "576:\tlearn: 0.2099928\ttotal: 1.29s\tremaining: 949ms\n",
      "577:\tlearn: 0.2098848\ttotal: 1.3s\tremaining: 947ms\n",
      "578:\tlearn: 0.2097286\ttotal: 1.3s\tremaining: 944ms\n",
      "579:\tlearn: 0.2096287\ttotal: 1.3s\tremaining: 942ms\n",
      "580:\tlearn: 0.2094950\ttotal: 1.3s\tremaining: 940ms\n",
      "581:\tlearn: 0.2093143\ttotal: 1.3s\tremaining: 938ms\n",
      "582:\tlearn: 0.2091937\ttotal: 1.31s\tremaining: 935ms\n",
      "583:\tlearn: 0.2090483\ttotal: 1.31s\tremaining: 933ms\n",
      "584:\tlearn: 0.2089456\ttotal: 1.31s\tremaining: 931ms\n",
      "585:\tlearn: 0.2088298\ttotal: 1.31s\tremaining: 929ms\n",
      "586:\tlearn: 0.2086760\ttotal: 1.32s\tremaining: 926ms\n",
      "587:\tlearn: 0.2085470\ttotal: 1.32s\tremaining: 924ms\n",
      "588:\tlearn: 0.2084187\ttotal: 1.32s\tremaining: 922ms\n",
      "589:\tlearn: 0.2083127\ttotal: 1.32s\tremaining: 920ms\n",
      "590:\tlearn: 0.2081815\ttotal: 1.32s\tremaining: 917ms\n",
      "591:\tlearn: 0.2080795\ttotal: 1.33s\tremaining: 915ms\n",
      "592:\tlearn: 0.2079177\ttotal: 1.33s\tremaining: 913ms\n",
      "593:\tlearn: 0.2077999\ttotal: 1.33s\tremaining: 911ms\n",
      "594:\tlearn: 0.2076880\ttotal: 1.33s\tremaining: 908ms\n",
      "595:\tlearn: 0.2075349\ttotal: 1.34s\tremaining: 906ms\n",
      "596:\tlearn: 0.2074273\ttotal: 1.34s\tremaining: 904ms\n",
      "597:\tlearn: 0.2073168\ttotal: 1.34s\tremaining: 901ms\n",
      "598:\tlearn: 0.2072313\ttotal: 1.34s\tremaining: 899ms\n",
      "599:\tlearn: 0.2070022\ttotal: 1.34s\tremaining: 897ms\n",
      "600:\tlearn: 0.2068628\ttotal: 1.35s\tremaining: 895ms\n",
      "601:\tlearn: 0.2067022\ttotal: 1.35s\tremaining: 893ms\n",
      "602:\tlearn: 0.2066093\ttotal: 1.35s\tremaining: 890ms\n",
      "603:\tlearn: 0.2064687\ttotal: 1.35s\tremaining: 888ms\n",
      "604:\tlearn: 0.2063587\ttotal: 1.36s\tremaining: 886ms\n",
      "605:\tlearn: 0.2062358\ttotal: 1.36s\tremaining: 884ms\n",
      "606:\tlearn: 0.2060507\ttotal: 1.36s\tremaining: 881ms\n",
      "607:\tlearn: 0.2059115\ttotal: 1.36s\tremaining: 879ms\n",
      "608:\tlearn: 0.2057502\ttotal: 1.36s\tremaining: 877ms\n",
      "609:\tlearn: 0.2056194\ttotal: 1.37s\tremaining: 875ms\n",
      "610:\tlearn: 0.2054584\ttotal: 1.37s\tremaining: 872ms\n",
      "611:\tlearn: 0.2052846\ttotal: 1.37s\tremaining: 870ms\n",
      "612:\tlearn: 0.2051649\ttotal: 1.37s\tremaining: 868ms\n",
      "613:\tlearn: 0.2050564\ttotal: 1.38s\tremaining: 866ms\n",
      "614:\tlearn: 0.2049589\ttotal: 1.38s\tremaining: 863ms\n",
      "615:\tlearn: 0.2048741\ttotal: 1.38s\tremaining: 861ms\n",
      "616:\tlearn: 0.2047561\ttotal: 1.38s\tremaining: 859ms\n",
      "617:\tlearn: 0.2046501\ttotal: 1.39s\tremaining: 857ms\n",
      "618:\tlearn: 0.2045474\ttotal: 1.39s\tremaining: 854ms\n",
      "619:\tlearn: 0.2044478\ttotal: 1.39s\tremaining: 852ms\n",
      "620:\tlearn: 0.2043342\ttotal: 1.39s\tremaining: 850ms\n",
      "621:\tlearn: 0.2042374\ttotal: 1.39s\tremaining: 848ms\n",
      "622:\tlearn: 0.2041381\ttotal: 1.4s\tremaining: 845ms\n",
      "623:\tlearn: 0.2040149\ttotal: 1.4s\tremaining: 843ms\n",
      "624:\tlearn: 0.2039152\ttotal: 1.4s\tremaining: 841ms\n",
      "625:\tlearn: 0.2038290\ttotal: 1.4s\tremaining: 839ms\n",
      "626:\tlearn: 0.2037181\ttotal: 1.41s\tremaining: 836ms\n",
      "627:\tlearn: 0.2036098\ttotal: 1.41s\tremaining: 834ms\n",
      "628:\tlearn: 0.2034448\ttotal: 1.41s\tremaining: 832ms\n",
      "629:\tlearn: 0.2032960\ttotal: 1.41s\tremaining: 830ms\n",
      "630:\tlearn: 0.2031735\ttotal: 1.42s\tremaining: 828ms\n",
      "631:\tlearn: 0.2030822\ttotal: 1.42s\tremaining: 825ms\n",
      "632:\tlearn: 0.2030093\ttotal: 1.42s\tremaining: 823ms\n",
      "633:\tlearn: 0.2029074\ttotal: 1.42s\tremaining: 821ms\n",
      "634:\tlearn: 0.2028303\ttotal: 1.42s\tremaining: 819ms\n",
      "635:\tlearn: 0.2027276\ttotal: 1.43s\tremaining: 817ms\n",
      "636:\tlearn: 0.2025678\ttotal: 1.43s\tremaining: 815ms\n",
      "637:\tlearn: 0.2024264\ttotal: 1.43s\tremaining: 812ms\n",
      "638:\tlearn: 0.2021979\ttotal: 1.43s\tremaining: 810ms\n",
      "639:\tlearn: 0.2021083\ttotal: 1.44s\tremaining: 808ms\n",
      "640:\tlearn: 0.2020302\ttotal: 1.44s\tremaining: 806ms\n",
      "641:\tlearn: 0.2019208\ttotal: 1.44s\tremaining: 803ms\n",
      "642:\tlearn: 0.2018255\ttotal: 1.44s\tremaining: 801ms\n",
      "643:\tlearn: 0.2017542\ttotal: 1.45s\tremaining: 799ms\n",
      "644:\tlearn: 0.2016452\ttotal: 1.45s\tremaining: 797ms\n",
      "645:\tlearn: 0.2015529\ttotal: 1.45s\tremaining: 794ms\n",
      "646:\tlearn: 0.2014134\ttotal: 1.45s\tremaining: 792ms\n",
      "647:\tlearn: 0.2012774\ttotal: 1.45s\tremaining: 790ms\n",
      "648:\tlearn: 0.2011745\ttotal: 1.46s\tremaining: 788ms\n",
      "649:\tlearn: 0.2010686\ttotal: 1.46s\tremaining: 785ms\n",
      "650:\tlearn: 0.2009435\ttotal: 1.46s\tremaining: 783ms\n",
      "651:\tlearn: 0.2008386\ttotal: 1.46s\tremaining: 781ms\n",
      "652:\tlearn: 0.2007744\ttotal: 1.47s\tremaining: 779ms\n",
      "653:\tlearn: 0.2005536\ttotal: 1.47s\tremaining: 776ms\n",
      "654:\tlearn: 0.2004153\ttotal: 1.47s\tremaining: 774ms\n",
      "655:\tlearn: 0.2002591\ttotal: 1.47s\tremaining: 772ms\n",
      "656:\tlearn: 0.2001296\ttotal: 1.47s\tremaining: 770ms\n",
      "657:\tlearn: 0.2000503\ttotal: 1.48s\tremaining: 768ms\n",
      "658:\tlearn: 0.1999571\ttotal: 1.48s\tremaining: 765ms\n",
      "659:\tlearn: 0.1998613\ttotal: 1.48s\tremaining: 763ms\n",
      "660:\tlearn: 0.1997731\ttotal: 1.48s\tremaining: 761ms\n",
      "661:\tlearn: 0.1997004\ttotal: 1.49s\tremaining: 759ms\n",
      "662:\tlearn: 0.1996169\ttotal: 1.49s\tremaining: 756ms\n",
      "663:\tlearn: 0.1994849\ttotal: 1.49s\tremaining: 754ms\n",
      "664:\tlearn: 0.1993563\ttotal: 1.49s\tremaining: 752ms\n",
      "665:\tlearn: 0.1991832\ttotal: 1.49s\tremaining: 750ms\n",
      "666:\tlearn: 0.1990803\ttotal: 1.5s\tremaining: 747ms\n",
      "667:\tlearn: 0.1989458\ttotal: 1.5s\tremaining: 745ms\n",
      "668:\tlearn: 0.1988354\ttotal: 1.5s\tremaining: 743ms\n",
      "669:\tlearn: 0.1987404\ttotal: 1.5s\tremaining: 741ms\n",
      "670:\tlearn: 0.1985977\ttotal: 1.5s\tremaining: 738ms\n",
      "671:\tlearn: 0.1985053\ttotal: 1.51s\tremaining: 736ms\n",
      "672:\tlearn: 0.1983946\ttotal: 1.51s\tremaining: 734ms\n",
      "673:\tlearn: 0.1981940\ttotal: 1.51s\tremaining: 732ms\n",
      "674:\tlearn: 0.1980844\ttotal: 1.51s\tremaining: 729ms\n",
      "675:\tlearn: 0.1979605\ttotal: 1.52s\tremaining: 727ms\n",
      "676:\tlearn: 0.1978292\ttotal: 1.52s\tremaining: 725ms\n",
      "677:\tlearn: 0.1977530\ttotal: 1.52s\tremaining: 723ms\n",
      "678:\tlearn: 0.1975804\ttotal: 1.52s\tremaining: 720ms\n",
      "679:\tlearn: 0.1975168\ttotal: 1.52s\tremaining: 718ms\n",
      "680:\tlearn: 0.1974184\ttotal: 1.53s\tremaining: 716ms\n",
      "681:\tlearn: 0.1973366\ttotal: 1.53s\tremaining: 714ms\n",
      "682:\tlearn: 0.1972527\ttotal: 1.53s\tremaining: 711ms\n",
      "683:\tlearn: 0.1970770\ttotal: 1.53s\tremaining: 709ms\n",
      "684:\tlearn: 0.1969766\ttotal: 1.54s\tremaining: 707ms\n",
      "685:\tlearn: 0.1967640\ttotal: 1.54s\tremaining: 705ms\n",
      "686:\tlearn: 0.1966155\ttotal: 1.54s\tremaining: 702ms\n",
      "687:\tlearn: 0.1964892\ttotal: 1.54s\tremaining: 700ms\n",
      "688:\tlearn: 0.1964077\ttotal: 1.54s\tremaining: 698ms\n",
      "689:\tlearn: 0.1963195\ttotal: 1.55s\tremaining: 695ms\n",
      "690:\tlearn: 0.1962138\ttotal: 1.55s\tremaining: 693ms\n",
      "691:\tlearn: 0.1960651\ttotal: 1.55s\tremaining: 691ms\n",
      "692:\tlearn: 0.1959415\ttotal: 1.55s\tremaining: 689ms\n",
      "693:\tlearn: 0.1958376\ttotal: 1.56s\tremaining: 686ms\n",
      "694:\tlearn: 0.1957803\ttotal: 1.56s\tremaining: 684ms\n",
      "695:\tlearn: 0.1957088\ttotal: 1.56s\tremaining: 682ms\n",
      "696:\tlearn: 0.1956227\ttotal: 1.56s\tremaining: 680ms\n",
      "697:\tlearn: 0.1955165\ttotal: 1.56s\tremaining: 677ms\n",
      "698:\tlearn: 0.1954264\ttotal: 1.57s\tremaining: 675ms\n",
      "699:\tlearn: 0.1953275\ttotal: 1.57s\tremaining: 673ms\n",
      "700:\tlearn: 0.1951609\ttotal: 1.57s\tremaining: 671ms\n",
      "701:\tlearn: 0.1950112\ttotal: 1.57s\tremaining: 668ms\n",
      "702:\tlearn: 0.1949077\ttotal: 1.58s\tremaining: 666ms\n",
      "703:\tlearn: 0.1947593\ttotal: 1.58s\tremaining: 664ms\n",
      "704:\tlearn: 0.1946112\ttotal: 1.58s\tremaining: 662ms\n",
      "705:\tlearn: 0.1945405\ttotal: 1.58s\tremaining: 659ms\n",
      "706:\tlearn: 0.1944135\ttotal: 1.58s\tremaining: 657ms\n",
      "707:\tlearn: 0.1943270\ttotal: 1.59s\tremaining: 655ms\n",
      "708:\tlearn: 0.1942112\ttotal: 1.59s\tremaining: 653ms\n",
      "709:\tlearn: 0.1941185\ttotal: 1.59s\tremaining: 650ms\n",
      "710:\tlearn: 0.1940037\ttotal: 1.59s\tremaining: 648ms\n",
      "711:\tlearn: 0.1938266\ttotal: 1.6s\tremaining: 646ms\n"
     ]
    },
    {
     "name": "stdout",
     "output_type": "stream",
     "text": [
      "712:\tlearn: 0.1936931\ttotal: 1.6s\tremaining: 644ms\n",
      "713:\tlearn: 0.1935994\ttotal: 1.6s\tremaining: 641ms\n",
      "714:\tlearn: 0.1934529\ttotal: 1.6s\tremaining: 639ms\n",
      "715:\tlearn: 0.1933100\ttotal: 1.6s\tremaining: 637ms\n",
      "716:\tlearn: 0.1931356\ttotal: 1.61s\tremaining: 635ms\n",
      "717:\tlearn: 0.1930208\ttotal: 1.61s\tremaining: 632ms\n",
      "718:\tlearn: 0.1929423\ttotal: 1.61s\tremaining: 630ms\n",
      "719:\tlearn: 0.1928052\ttotal: 1.61s\tremaining: 628ms\n",
      "720:\tlearn: 0.1926345\ttotal: 1.62s\tremaining: 626ms\n",
      "721:\tlearn: 0.1925501\ttotal: 1.62s\tremaining: 624ms\n",
      "722:\tlearn: 0.1924882\ttotal: 1.62s\tremaining: 622ms\n",
      "723:\tlearn: 0.1922964\ttotal: 1.63s\tremaining: 619ms\n",
      "724:\tlearn: 0.1922249\ttotal: 1.63s\tremaining: 617ms\n",
      "725:\tlearn: 0.1921029\ttotal: 1.63s\tremaining: 615ms\n",
      "726:\tlearn: 0.1920230\ttotal: 1.63s\tremaining: 613ms\n",
      "727:\tlearn: 0.1919421\ttotal: 1.64s\tremaining: 611ms\n",
      "728:\tlearn: 0.1918539\ttotal: 1.64s\tremaining: 609ms\n",
      "729:\tlearn: 0.1917463\ttotal: 1.64s\tremaining: 606ms\n",
      "730:\tlearn: 0.1916075\ttotal: 1.64s\tremaining: 604ms\n",
      "731:\tlearn: 0.1915076\ttotal: 1.64s\tremaining: 602ms\n",
      "732:\tlearn: 0.1914284\ttotal: 1.65s\tremaining: 600ms\n",
      "733:\tlearn: 0.1912269\ttotal: 1.65s\tremaining: 598ms\n",
      "734:\tlearn: 0.1911262\ttotal: 1.65s\tremaining: 595ms\n",
      "735:\tlearn: 0.1910665\ttotal: 1.65s\tremaining: 593ms\n",
      "736:\tlearn: 0.1909354\ttotal: 1.66s\tremaining: 591ms\n",
      "737:\tlearn: 0.1908025\ttotal: 1.66s\tremaining: 589ms\n",
      "738:\tlearn: 0.1906132\ttotal: 1.66s\tremaining: 587ms\n",
      "739:\tlearn: 0.1905288\ttotal: 1.66s\tremaining: 584ms\n",
      "740:\tlearn: 0.1904279\ttotal: 1.67s\tremaining: 582ms\n",
      "741:\tlearn: 0.1902531\ttotal: 1.67s\tremaining: 580ms\n",
      "742:\tlearn: 0.1901676\ttotal: 1.67s\tremaining: 578ms\n",
      "743:\tlearn: 0.1900838\ttotal: 1.67s\tremaining: 576ms\n",
      "744:\tlearn: 0.1900065\ttotal: 1.68s\tremaining: 573ms\n",
      "745:\tlearn: 0.1898900\ttotal: 1.68s\tremaining: 571ms\n",
      "746:\tlearn: 0.1898059\ttotal: 1.68s\tremaining: 569ms\n",
      "747:\tlearn: 0.1896586\ttotal: 1.68s\tremaining: 567ms\n",
      "748:\tlearn: 0.1896054\ttotal: 1.68s\tremaining: 565ms\n",
      "749:\tlearn: 0.1895552\ttotal: 1.69s\tremaining: 562ms\n",
      "750:\tlearn: 0.1894900\ttotal: 1.69s\tremaining: 560ms\n",
      "751:\tlearn: 0.1893997\ttotal: 1.69s\tremaining: 558ms\n",
      "752:\tlearn: 0.1892527\ttotal: 1.69s\tremaining: 556ms\n",
      "753:\tlearn: 0.1891368\ttotal: 1.7s\tremaining: 554ms\n",
      "754:\tlearn: 0.1890584\ttotal: 1.7s\tremaining: 551ms\n",
      "755:\tlearn: 0.1889627\ttotal: 1.7s\tremaining: 549ms\n",
      "756:\tlearn: 0.1888527\ttotal: 1.7s\tremaining: 547ms\n",
      "757:\tlearn: 0.1887534\ttotal: 1.71s\tremaining: 545ms\n",
      "758:\tlearn: 0.1886650\ttotal: 1.71s\tremaining: 543ms\n",
      "759:\tlearn: 0.1885887\ttotal: 1.71s\tremaining: 540ms\n",
      "760:\tlearn: 0.1884565\ttotal: 1.71s\tremaining: 538ms\n",
      "761:\tlearn: 0.1882693\ttotal: 1.72s\tremaining: 536ms\n",
      "762:\tlearn: 0.1881461\ttotal: 1.72s\tremaining: 534ms\n",
      "763:\tlearn: 0.1880094\ttotal: 1.72s\tremaining: 531ms\n",
      "764:\tlearn: 0.1878838\ttotal: 1.72s\tremaining: 529ms\n",
      "765:\tlearn: 0.1877935\ttotal: 1.73s\tremaining: 527ms\n",
      "766:\tlearn: 0.1876608\ttotal: 1.73s\tremaining: 525ms\n",
      "767:\tlearn: 0.1874753\ttotal: 1.73s\tremaining: 523ms\n",
      "768:\tlearn: 0.1873997\ttotal: 1.73s\tremaining: 520ms\n",
      "769:\tlearn: 0.1872476\ttotal: 1.73s\tremaining: 518ms\n",
      "770:\tlearn: 0.1871987\ttotal: 1.74s\tremaining: 516ms\n",
      "771:\tlearn: 0.1871374\ttotal: 1.74s\tremaining: 514ms\n",
      "772:\tlearn: 0.1870142\ttotal: 1.74s\tremaining: 511ms\n",
      "773:\tlearn: 0.1869382\ttotal: 1.74s\tremaining: 509ms\n",
      "774:\tlearn: 0.1868300\ttotal: 1.75s\tremaining: 507ms\n",
      "775:\tlearn: 0.1866638\ttotal: 1.75s\tremaining: 505ms\n",
      "776:\tlearn: 0.1865059\ttotal: 1.75s\tremaining: 503ms\n",
      "777:\tlearn: 0.1863630\ttotal: 1.75s\tremaining: 500ms\n",
      "778:\tlearn: 0.1862575\ttotal: 1.76s\tremaining: 498ms\n",
      "779:\tlearn: 0.1861074\ttotal: 1.76s\tremaining: 496ms\n",
      "780:\tlearn: 0.1860078\ttotal: 1.76s\tremaining: 494ms\n",
      "781:\tlearn: 0.1859127\ttotal: 1.76s\tremaining: 492ms\n",
      "782:\tlearn: 0.1857436\ttotal: 1.76s\tremaining: 489ms\n",
      "783:\tlearn: 0.1856078\ttotal: 1.77s\tremaining: 487ms\n",
      "784:\tlearn: 0.1854326\ttotal: 1.77s\tremaining: 485ms\n",
      "785:\tlearn: 0.1853310\ttotal: 1.77s\tremaining: 483ms\n",
      "786:\tlearn: 0.1852818\ttotal: 1.77s\tremaining: 480ms\n",
      "787:\tlearn: 0.1852101\ttotal: 1.78s\tremaining: 478ms\n",
      "788:\tlearn: 0.1851177\ttotal: 1.78s\tremaining: 476ms\n",
      "789:\tlearn: 0.1850392\ttotal: 1.78s\tremaining: 474ms\n",
      "790:\tlearn: 0.1849540\ttotal: 1.78s\tremaining: 472ms\n",
      "791:\tlearn: 0.1848118\ttotal: 1.79s\tremaining: 469ms\n",
      "792:\tlearn: 0.1846756\ttotal: 1.79s\tremaining: 467ms\n",
      "793:\tlearn: 0.1845565\ttotal: 1.79s\tremaining: 465ms\n",
      "794:\tlearn: 0.1845020\ttotal: 1.79s\tremaining: 463ms\n",
      "795:\tlearn: 0.1843838\ttotal: 1.8s\tremaining: 460ms\n",
      "796:\tlearn: 0.1842136\ttotal: 1.8s\tremaining: 458ms\n",
      "797:\tlearn: 0.1841510\ttotal: 1.8s\tremaining: 456ms\n",
      "798:\tlearn: 0.1840764\ttotal: 1.8s\tremaining: 454ms\n",
      "799:\tlearn: 0.1840063\ttotal: 1.8s\tremaining: 451ms\n",
      "800:\tlearn: 0.1838619\ttotal: 1.81s\tremaining: 449ms\n",
      "801:\tlearn: 0.1837010\ttotal: 1.81s\tremaining: 447ms\n",
      "802:\tlearn: 0.1835984\ttotal: 1.81s\tremaining: 445ms\n",
      "803:\tlearn: 0.1835071\ttotal: 1.81s\tremaining: 442ms\n",
      "804:\tlearn: 0.1834232\ttotal: 1.82s\tremaining: 440ms\n",
      "805:\tlearn: 0.1832976\ttotal: 1.82s\tremaining: 438ms\n",
      "806:\tlearn: 0.1831836\ttotal: 1.82s\tremaining: 436ms\n",
      "807:\tlearn: 0.1831067\ttotal: 1.82s\tremaining: 434ms\n",
      "808:\tlearn: 0.1830162\ttotal: 1.83s\tremaining: 431ms\n",
      "809:\tlearn: 0.1828718\ttotal: 1.83s\tremaining: 429ms\n",
      "810:\tlearn: 0.1826838\ttotal: 1.83s\tremaining: 427ms\n",
      "811:\tlearn: 0.1826220\ttotal: 1.83s\tremaining: 425ms\n",
      "812:\tlearn: 0.1825182\ttotal: 1.84s\tremaining: 422ms\n",
      "813:\tlearn: 0.1824663\ttotal: 1.84s\tremaining: 420ms\n",
      "814:\tlearn: 0.1823261\ttotal: 1.84s\tremaining: 418ms\n",
      "815:\tlearn: 0.1822253\ttotal: 1.84s\tremaining: 416ms\n",
      "816:\tlearn: 0.1821272\ttotal: 1.85s\tremaining: 414ms\n",
      "817:\tlearn: 0.1820388\ttotal: 1.85s\tremaining: 411ms\n",
      "818:\tlearn: 0.1819309\ttotal: 1.85s\tremaining: 409ms\n",
      "819:\tlearn: 0.1818253\ttotal: 1.85s\tremaining: 407ms\n",
      "820:\tlearn: 0.1817652\ttotal: 1.85s\tremaining: 405ms\n",
      "821:\tlearn: 0.1816676\ttotal: 1.86s\tremaining: 402ms\n",
      "822:\tlearn: 0.1815333\ttotal: 1.86s\tremaining: 400ms\n",
      "823:\tlearn: 0.1814079\ttotal: 1.86s\tremaining: 398ms\n",
      "824:\tlearn: 0.1813154\ttotal: 1.86s\tremaining: 396ms\n",
      "825:\tlearn: 0.1811896\ttotal: 1.87s\tremaining: 393ms\n",
      "826:\tlearn: 0.1811342\ttotal: 1.87s\tremaining: 391ms\n",
      "827:\tlearn: 0.1810243\ttotal: 1.87s\tremaining: 389ms\n",
      "828:\tlearn: 0.1809969\ttotal: 1.87s\tremaining: 386ms\n",
      "829:\tlearn: 0.1809177\ttotal: 1.88s\tremaining: 384ms\n",
      "830:\tlearn: 0.1807976\ttotal: 1.88s\tremaining: 382ms\n",
      "831:\tlearn: 0.1806660\ttotal: 1.88s\tremaining: 380ms\n",
      "832:\tlearn: 0.1805629\ttotal: 1.88s\tremaining: 377ms\n",
      "833:\tlearn: 0.1804831\ttotal: 1.89s\tremaining: 375ms\n",
      "834:\tlearn: 0.1804170\ttotal: 1.89s\tremaining: 373ms\n",
      "835:\tlearn: 0.1803031\ttotal: 1.89s\tremaining: 371ms\n",
      "836:\tlearn: 0.1802044\ttotal: 1.89s\tremaining: 368ms\n",
      "837:\tlearn: 0.1801344\ttotal: 1.89s\tremaining: 366ms\n",
      "838:\tlearn: 0.1800359\ttotal: 1.9s\tremaining: 364ms\n",
      "839:\tlearn: 0.1798963\ttotal: 1.9s\tremaining: 362ms\n",
      "840:\tlearn: 0.1798128\ttotal: 1.9s\tremaining: 359ms\n",
      "841:\tlearn: 0.1796760\ttotal: 1.9s\tremaining: 357ms\n",
      "842:\tlearn: 0.1795733\ttotal: 1.91s\tremaining: 355ms\n",
      "843:\tlearn: 0.1794625\ttotal: 1.91s\tremaining: 353ms\n",
      "844:\tlearn: 0.1794057\ttotal: 1.91s\tremaining: 350ms\n",
      "845:\tlearn: 0.1793457\ttotal: 1.91s\tremaining: 348ms\n",
      "846:\tlearn: 0.1792490\ttotal: 1.91s\tremaining: 346ms\n",
      "847:\tlearn: 0.1792058\ttotal: 1.92s\tremaining: 343ms\n",
      "848:\tlearn: 0.1790835\ttotal: 1.92s\tremaining: 341ms\n",
      "849:\tlearn: 0.1789503\ttotal: 1.92s\tremaining: 339ms\n",
      "850:\tlearn: 0.1788270\ttotal: 1.92s\tremaining: 337ms\n",
      "851:\tlearn: 0.1786732\ttotal: 1.93s\tremaining: 334ms\n",
      "852:\tlearn: 0.1785693\ttotal: 1.93s\tremaining: 332ms\n",
      "853:\tlearn: 0.1785174\ttotal: 1.93s\tremaining: 330ms\n",
      "854:\tlearn: 0.1783692\ttotal: 1.93s\tremaining: 328ms\n",
      "855:\tlearn: 0.1782890\ttotal: 1.93s\tremaining: 325ms\n",
      "856:\tlearn: 0.1782332\ttotal: 1.94s\tremaining: 323ms\n",
      "857:\tlearn: 0.1781669\ttotal: 1.94s\tremaining: 321ms\n",
      "858:\tlearn: 0.1780880\ttotal: 1.94s\tremaining: 319ms\n",
      "859:\tlearn: 0.1779724\ttotal: 1.94s\tremaining: 316ms\n",
      "860:\tlearn: 0.1778762\ttotal: 1.95s\tremaining: 314ms\n",
      "861:\tlearn: 0.1777133\ttotal: 1.95s\tremaining: 312ms\n",
      "862:\tlearn: 0.1776215\ttotal: 1.95s\tremaining: 310ms\n",
      "863:\tlearn: 0.1774775\ttotal: 1.95s\tremaining: 307ms\n",
      "864:\tlearn: 0.1773785\ttotal: 1.95s\tremaining: 305ms\n",
      "865:\tlearn: 0.1772648\ttotal: 1.96s\tremaining: 303ms\n",
      "866:\tlearn: 0.1771625\ttotal: 1.96s\tremaining: 300ms\n",
      "867:\tlearn: 0.1770174\ttotal: 1.96s\tremaining: 298ms\n",
      "868:\tlearn: 0.1769068\ttotal: 1.96s\tremaining: 296ms\n",
      "869:\tlearn: 0.1768273\ttotal: 1.97s\tremaining: 294ms\n",
      "870:\tlearn: 0.1767153\ttotal: 1.97s\tremaining: 291ms\n",
      "871:\tlearn: 0.1766378\ttotal: 1.97s\tremaining: 289ms\n",
      "872:\tlearn: 0.1765263\ttotal: 1.97s\tremaining: 287ms\n",
      "873:\tlearn: 0.1764286\ttotal: 1.97s\tremaining: 285ms\n",
      "874:\tlearn: 0.1763163\ttotal: 1.98s\tremaining: 282ms\n",
      "875:\tlearn: 0.1762270\ttotal: 1.98s\tremaining: 280ms\n",
      "876:\tlearn: 0.1761522\ttotal: 1.98s\tremaining: 278ms\n",
      "877:\tlearn: 0.1760783\ttotal: 1.98s\tremaining: 275ms\n",
      "878:\tlearn: 0.1759889\ttotal: 1.98s\tremaining: 273ms\n",
      "879:\tlearn: 0.1759174\ttotal: 1.99s\tremaining: 271ms\n",
      "880:\tlearn: 0.1757945\ttotal: 1.99s\tremaining: 269ms\n",
      "881:\tlearn: 0.1757034\ttotal: 1.99s\tremaining: 266ms\n",
      "882:\tlearn: 0.1756061\ttotal: 1.99s\tremaining: 264ms\n",
      "883:\tlearn: 0.1755117\ttotal: 2s\tremaining: 262ms\n"
     ]
    },
    {
     "name": "stdout",
     "output_type": "stream",
     "text": [
      "884:\tlearn: 0.1754327\ttotal: 2s\tremaining: 260ms\n",
      "885:\tlearn: 0.1753358\ttotal: 2s\tremaining: 257ms\n",
      "886:\tlearn: 0.1752306\ttotal: 2s\tremaining: 255ms\n",
      "887:\tlearn: 0.1751374\ttotal: 2s\tremaining: 253ms\n",
      "888:\tlearn: 0.1750595\ttotal: 2.01s\tremaining: 251ms\n",
      "889:\tlearn: 0.1749486\ttotal: 2.01s\tremaining: 248ms\n",
      "890:\tlearn: 0.1748723\ttotal: 2.01s\tremaining: 246ms\n",
      "891:\tlearn: 0.1748086\ttotal: 2.01s\tremaining: 244ms\n",
      "892:\tlearn: 0.1746960\ttotal: 2.02s\tremaining: 242ms\n",
      "893:\tlearn: 0.1746242\ttotal: 2.02s\tremaining: 239ms\n",
      "894:\tlearn: 0.1744745\ttotal: 2.02s\tremaining: 237ms\n",
      "895:\tlearn: 0.1743578\ttotal: 2.02s\tremaining: 235ms\n",
      "896:\tlearn: 0.1742524\ttotal: 2.02s\tremaining: 233ms\n",
      "897:\tlearn: 0.1741916\ttotal: 2.03s\tremaining: 230ms\n",
      "898:\tlearn: 0.1741276\ttotal: 2.03s\tremaining: 228ms\n",
      "899:\tlearn: 0.1740484\ttotal: 2.03s\tremaining: 226ms\n",
      "900:\tlearn: 0.1739452\ttotal: 2.03s\tremaining: 223ms\n",
      "901:\tlearn: 0.1738671\ttotal: 2.04s\tremaining: 221ms\n",
      "902:\tlearn: 0.1737335\ttotal: 2.04s\tremaining: 219ms\n",
      "903:\tlearn: 0.1736915\ttotal: 2.04s\tremaining: 217ms\n",
      "904:\tlearn: 0.1735877\ttotal: 2.04s\tremaining: 214ms\n",
      "905:\tlearn: 0.1735179\ttotal: 2.04s\tremaining: 212ms\n",
      "906:\tlearn: 0.1734685\ttotal: 2.05s\tremaining: 210ms\n",
      "907:\tlearn: 0.1733845\ttotal: 2.05s\tremaining: 208ms\n",
      "908:\tlearn: 0.1733244\ttotal: 2.05s\tremaining: 205ms\n",
      "909:\tlearn: 0.1732480\ttotal: 2.05s\tremaining: 203ms\n",
      "910:\tlearn: 0.1731427\ttotal: 2.06s\tremaining: 201ms\n",
      "911:\tlearn: 0.1730966\ttotal: 2.06s\tremaining: 199ms\n",
      "912:\tlearn: 0.1730341\ttotal: 2.06s\tremaining: 196ms\n",
      "913:\tlearn: 0.1729312\ttotal: 2.06s\tremaining: 194ms\n",
      "914:\tlearn: 0.1728867\ttotal: 2.07s\tremaining: 192ms\n",
      "915:\tlearn: 0.1728071\ttotal: 2.07s\tremaining: 190ms\n",
      "916:\tlearn: 0.1726987\ttotal: 2.07s\tremaining: 188ms\n",
      "917:\tlearn: 0.1725944\ttotal: 2.07s\tremaining: 185ms\n",
      "918:\tlearn: 0.1725369\ttotal: 2.08s\tremaining: 183ms\n",
      "919:\tlearn: 0.1724306\ttotal: 2.08s\tremaining: 181ms\n",
      "920:\tlearn: 0.1723011\ttotal: 2.08s\tremaining: 178ms\n",
      "921:\tlearn: 0.1722098\ttotal: 2.08s\tremaining: 176ms\n",
      "922:\tlearn: 0.1720847\ttotal: 2.08s\tremaining: 174ms\n",
      "923:\tlearn: 0.1720048\ttotal: 2.09s\tremaining: 172ms\n",
      "924:\tlearn: 0.1719421\ttotal: 2.09s\tremaining: 169ms\n",
      "925:\tlearn: 0.1718485\ttotal: 2.09s\tremaining: 167ms\n",
      "926:\tlearn: 0.1717610\ttotal: 2.09s\tremaining: 165ms\n",
      "927:\tlearn: 0.1716620\ttotal: 2.1s\tremaining: 163ms\n",
      "928:\tlearn: 0.1715923\ttotal: 2.1s\tremaining: 160ms\n",
      "929:\tlearn: 0.1715012\ttotal: 2.1s\tremaining: 158ms\n",
      "930:\tlearn: 0.1713936\ttotal: 2.1s\tremaining: 156ms\n",
      "931:\tlearn: 0.1712958\ttotal: 2.1s\tremaining: 154ms\n",
      "932:\tlearn: 0.1712343\ttotal: 2.11s\tremaining: 151ms\n",
      "933:\tlearn: 0.1711801\ttotal: 2.11s\tremaining: 149ms\n",
      "934:\tlearn: 0.1710476\ttotal: 2.11s\tremaining: 147ms\n",
      "935:\tlearn: 0.1709944\ttotal: 2.11s\tremaining: 144ms\n",
      "936:\tlearn: 0.1709198\ttotal: 2.11s\tremaining: 142ms\n",
      "937:\tlearn: 0.1708326\ttotal: 2.12s\tremaining: 140ms\n",
      "938:\tlearn: 0.1707065\ttotal: 2.12s\tremaining: 138ms\n",
      "939:\tlearn: 0.1705517\ttotal: 2.12s\tremaining: 135ms\n",
      "940:\tlearn: 0.1704941\ttotal: 2.12s\tremaining: 133ms\n",
      "941:\tlearn: 0.1703742\ttotal: 2.13s\tremaining: 131ms\n",
      "942:\tlearn: 0.1702693\ttotal: 2.13s\tremaining: 129ms\n",
      "943:\tlearn: 0.1702016\ttotal: 2.13s\tremaining: 126ms\n",
      "944:\tlearn: 0.1701243\ttotal: 2.13s\tremaining: 124ms\n",
      "945:\tlearn: 0.1699879\ttotal: 2.13s\tremaining: 122ms\n",
      "946:\tlearn: 0.1699403\ttotal: 2.13s\tremaining: 120ms\n",
      "947:\tlearn: 0.1698344\ttotal: 2.14s\tremaining: 117ms\n",
      "948:\tlearn: 0.1697612\ttotal: 2.14s\tremaining: 115ms\n",
      "949:\tlearn: 0.1696627\ttotal: 2.14s\tremaining: 113ms\n",
      "950:\tlearn: 0.1695827\ttotal: 2.14s\tremaining: 110ms\n",
      "951:\tlearn: 0.1694730\ttotal: 2.15s\tremaining: 108ms\n",
      "952:\tlearn: 0.1693546\ttotal: 2.15s\tremaining: 106ms\n",
      "953:\tlearn: 0.1692627\ttotal: 2.15s\tremaining: 104ms\n",
      "954:\tlearn: 0.1691708\ttotal: 2.15s\tremaining: 101ms\n",
      "955:\tlearn: 0.1690774\ttotal: 2.15s\tremaining: 99.2ms\n",
      "956:\tlearn: 0.1689761\ttotal: 2.16s\tremaining: 96.9ms\n",
      "957:\tlearn: 0.1688593\ttotal: 2.16s\tremaining: 94.7ms\n",
      "958:\tlearn: 0.1687623\ttotal: 2.16s\tremaining: 92.4ms\n",
      "959:\tlearn: 0.1685869\ttotal: 2.16s\tremaining: 90.1ms\n",
      "960:\tlearn: 0.1685040\ttotal: 2.17s\tremaining: 87.9ms\n",
      "961:\tlearn: 0.1684188\ttotal: 2.17s\tremaining: 85.6ms\n",
      "962:\tlearn: 0.1683636\ttotal: 2.17s\tremaining: 83.4ms\n",
      "963:\tlearn: 0.1682135\ttotal: 2.17s\tremaining: 81.1ms\n",
      "964:\tlearn: 0.1680716\ttotal: 2.17s\tremaining: 78.8ms\n",
      "965:\tlearn: 0.1679667\ttotal: 2.18s\tremaining: 76.6ms\n",
      "966:\tlearn: 0.1679214\ttotal: 2.18s\tremaining: 74.3ms\n",
      "967:\tlearn: 0.1677824\ttotal: 2.18s\tremaining: 72.1ms\n",
      "968:\tlearn: 0.1677043\ttotal: 2.18s\tremaining: 69.8ms\n",
      "969:\tlearn: 0.1676306\ttotal: 2.19s\tremaining: 67.6ms\n",
      "970:\tlearn: 0.1675206\ttotal: 2.19s\tremaining: 65.3ms\n",
      "971:\tlearn: 0.1674278\ttotal: 2.19s\tremaining: 63.1ms\n",
      "972:\tlearn: 0.1673462\ttotal: 2.19s\tremaining: 60.8ms\n",
      "973:\tlearn: 0.1672739\ttotal: 2.19s\tremaining: 58.6ms\n",
      "974:\tlearn: 0.1671585\ttotal: 2.2s\tremaining: 56.3ms\n",
      "975:\tlearn: 0.1671078\ttotal: 2.2s\tremaining: 54.1ms\n",
      "976:\tlearn: 0.1670612\ttotal: 2.2s\tremaining: 51.8ms\n",
      "977:\tlearn: 0.1670010\ttotal: 2.2s\tremaining: 49.6ms\n",
      "978:\tlearn: 0.1669127\ttotal: 2.21s\tremaining: 47.3ms\n",
      "979:\tlearn: 0.1668704\ttotal: 2.21s\tremaining: 45.1ms\n",
      "980:\tlearn: 0.1667180\ttotal: 2.21s\tremaining: 42.8ms\n",
      "981:\tlearn: 0.1666658\ttotal: 2.21s\tremaining: 40.6ms\n",
      "982:\tlearn: 0.1665822\ttotal: 2.21s\tremaining: 38.3ms\n",
      "983:\tlearn: 0.1665153\ttotal: 2.22s\tremaining: 36.1ms\n",
      "984:\tlearn: 0.1664005\ttotal: 2.22s\tremaining: 33.8ms\n",
      "985:\tlearn: 0.1663157\ttotal: 2.22s\tremaining: 31.6ms\n",
      "986:\tlearn: 0.1661414\ttotal: 2.22s\tremaining: 29.3ms\n",
      "987:\tlearn: 0.1660006\ttotal: 2.23s\tremaining: 27ms\n",
      "988:\tlearn: 0.1659592\ttotal: 2.23s\tremaining: 24.8ms\n",
      "989:\tlearn: 0.1658721\ttotal: 2.23s\tremaining: 22.5ms\n",
      "990:\tlearn: 0.1657490\ttotal: 2.23s\tremaining: 20.3ms\n",
      "991:\tlearn: 0.1656028\ttotal: 2.24s\tremaining: 18ms\n",
      "992:\tlearn: 0.1654986\ttotal: 2.24s\tremaining: 15.8ms\n",
      "993:\tlearn: 0.1654466\ttotal: 2.24s\tremaining: 13.5ms\n",
      "994:\tlearn: 0.1653449\ttotal: 2.24s\tremaining: 11.3ms\n",
      "995:\tlearn: 0.1652434\ttotal: 2.24s\tremaining: 9.02ms\n",
      "996:\tlearn: 0.1651521\ttotal: 2.25s\tremaining: 6.76ms\n",
      "997:\tlearn: 0.1650421\ttotal: 2.25s\tremaining: 4.51ms\n",
      "998:\tlearn: 0.1649589\ttotal: 2.25s\tremaining: 2.25ms\n",
      "999:\tlearn: 0.1648719\ttotal: 2.25s\tremaining: 0us\n",
      "F1 = 0.586 AUC-ROC= 0.858\n"
     ]
    }
   ],
   "source": [
    "cbc_up = CatBoostClassifier(random_state=322)\n",
    "cbc_up.fit(features_upsampled, target_upsampled)\n",
    "predicted_valid = cbc_up.predict(features_valid)\n",
    "f1_valid = f1_score(predicted_valid, target_valid)\n",
    "prob_one_valid = cbc_up.predict_proba(features_valid)[:, 1]\n",
    "roc_auc = roc_auc_score(target_valid, prob_one_valid)\n",
    "print('F1 =', f1_valid.round(3), 'AUC-ROC=', roc_auc.round(3))"
   ]
  },
  {
   "cell_type": "markdown",
   "metadata": {},
   "source": [
    "#### Дерево решений"
   ]
  },
  {
   "cell_type": "code",
   "execution_count": 45,
   "metadata": {},
   "outputs": [],
   "source": [
    "def objective(trial):\n",
    "    max_depth = trial.suggest_int('max_depth', 3, 50)\n",
    "    min_samples_split = trial.suggest_int('min_samples_split', 2, 30)\n",
    "    min_samples_leaf = trial.suggest_int('min_samples_leaf', 1, 30)\n",
    "    criterion = trial.suggest_categorical('criterion', ['gini', 'entropy'])\n",
    "\n",
    "    dtc = DecisionTreeClassifier(max_depth=max_depth,\n",
    "                                    min_samples_split=min_samples_split,\n",
    "                                    min_samples_leaf=min_samples_leaf,\n",
    "                                    criterion=criterion,\n",
    "                                    random_state=322)\n",
    "\n",
    "    dtc.fit(features_upsampled, target_upsampled)\n",
    "\n",
    "    predicted_valid = dtc.predict(features_valid)\n",
    "\n",
    "    f1 = f1_score(target_valid, predicted_valid)\n",
    "\n",
    "    return f1"
   ]
  },
  {
   "cell_type": "code",
   "execution_count": 46,
   "metadata": {
    "scrolled": true
   },
   "outputs": [
    {
     "name": "stderr",
     "output_type": "stream",
     "text": [
      "\u001b[32m[I 2023-03-15 19:16:03,915]\u001b[0m A new study created in memory with name: no-name-a9a61e06-745b-44be-893a-d377f32a0ab1\u001b[0m\n",
      "\u001b[32m[I 2023-03-15 19:16:03,948]\u001b[0m Trial 0 finished with value: 0.5231689088191329 and parameters: {'max_depth': 14, 'min_samples_split': 22, 'min_samples_leaf': 7, 'criterion': 'entropy'}. Best is trial 0 with value: 0.5231689088191329.\u001b[0m\n",
      "\u001b[32m[I 2023-03-15 19:16:03,975]\u001b[0m Trial 1 finished with value: 0.5629629629629629 and parameters: {'max_depth': 50, 'min_samples_split': 17, 'min_samples_leaf': 16, 'criterion': 'gini'}. Best is trial 1 with value: 0.5629629629629629.\u001b[0m\n",
      "\u001b[32m[I 2023-03-15 19:16:04,007]\u001b[0m Trial 2 finished with value: 0.540381791483113 and parameters: {'max_depth': 31, 'min_samples_split': 22, 'min_samples_leaf': 6, 'criterion': 'entropy'}. Best is trial 1 with value: 0.5629629629629629.\u001b[0m\n",
      "\u001b[32m[I 2023-03-15 19:16:04,023]\u001b[0m Trial 3 finished with value: 0.5125448028673836 and parameters: {'max_depth': 4, 'min_samples_split': 8, 'min_samples_leaf': 22, 'criterion': 'gini'}. Best is trial 1 with value: 0.5629629629629629.\u001b[0m\n",
      "\u001b[32m[I 2023-03-15 19:16:04,050]\u001b[0m Trial 4 finished with value: 0.5521472392638037 and parameters: {'max_depth': 16, 'min_samples_split': 7, 'min_samples_leaf': 19, 'criterion': 'gini'}. Best is trial 1 with value: 0.5629629629629629.\u001b[0m\n",
      "\u001b[32m[I 2023-03-15 19:16:04,080]\u001b[0m Trial 5 finished with value: 0.5391849529780565 and parameters: {'max_depth': 42, 'min_samples_split': 30, 'min_samples_leaf': 28, 'criterion': 'entropy'}. Best is trial 1 with value: 0.5629629629629629.\u001b[0m\n",
      "\u001b[32m[I 2023-03-15 19:16:04,108]\u001b[0m Trial 6 finished with value: 0.5560538116591929 and parameters: {'max_depth': 17, 'min_samples_split': 23, 'min_samples_leaf': 17, 'criterion': 'gini'}. Best is trial 1 with value: 0.5629629629629629.\u001b[0m\n",
      "\u001b[32m[I 2023-03-15 19:16:04,126]\u001b[0m Trial 7 finished with value: 0.5045045045045045 and parameters: {'max_depth': 5, 'min_samples_split': 11, 'min_samples_leaf': 27, 'criterion': 'gini'}. Best is trial 1 with value: 0.5629629629629629.\u001b[0m\n",
      "\u001b[32m[I 2023-03-15 19:16:04,155]\u001b[0m Trial 8 finished with value: 0.5567651632970452 and parameters: {'max_depth': 24, 'min_samples_split': 18, 'min_samples_leaf': 23, 'criterion': 'entropy'}. Best is trial 1 with value: 0.5629629629629629.\u001b[0m\n",
      "\u001b[32m[I 2023-03-15 19:16:04,183]\u001b[0m Trial 9 finished with value: 0.5522388059701493 and parameters: {'max_depth': 43, 'min_samples_split': 17, 'min_samples_leaf': 14, 'criterion': 'gini'}. Best is trial 1 with value: 0.5629629629629629.\u001b[0m\n",
      "\u001b[32m[I 2023-03-15 19:16:04,223]\u001b[0m Trial 10 finished with value: 0.5468053491827638 and parameters: {'max_depth': 47, 'min_samples_split': 2, 'min_samples_leaf': 11, 'criterion': 'gini'}. Best is trial 1 with value: 0.5629629629629629.\u001b[0m\n",
      "\u001b[32m[I 2023-03-15 19:16:04,261]\u001b[0m Trial 11 finished with value: 0.5550387596899226 and parameters: {'max_depth': 31, 'min_samples_split': 16, 'min_samples_leaf': 22, 'criterion': 'entropy'}. Best is trial 1 with value: 0.5629629629629629.\u001b[0m\n",
      "\u001b[32m[I 2023-03-15 19:16:04,300]\u001b[0m Trial 12 finished with value: 0.5567651632970452 and parameters: {'max_depth': 25, 'min_samples_split': 16, 'min_samples_leaf': 23, 'criterion': 'entropy'}. Best is trial 1 with value: 0.5629629629629629.\u001b[0m\n",
      "\u001b[32m[I 2023-03-15 19:16:04,341]\u001b[0m Trial 13 finished with value: 0.5565217391304348 and parameters: {'max_depth': 36, 'min_samples_split': 26, 'min_samples_leaf': 12, 'criterion': 'entropy'}. Best is trial 1 with value: 0.5629629629629629.\u001b[0m\n",
      "\u001b[32m[I 2023-03-15 19:16:04,379]\u001b[0m Trial 14 finished with value: 0.5299684542586751 and parameters: {'max_depth': 23, 'min_samples_split': 12, 'min_samples_leaf': 30, 'criterion': 'entropy'}. Best is trial 1 with value: 0.5629629629629629.\u001b[0m\n",
      "\u001b[32m[I 2023-03-15 19:16:04,420]\u001b[0m Trial 15 finished with value: 0.5229885057471265 and parameters: {'max_depth': 50, 'min_samples_split': 19, 'min_samples_leaf': 1, 'criterion': 'gini'}. Best is trial 1 with value: 0.5629629629629629.\u001b[0m\n",
      "\u001b[32m[I 2023-03-15 19:16:04,459]\u001b[0m Trial 16 finished with value: 0.5640243902439025 and parameters: {'max_depth': 36, 'min_samples_split': 13, 'min_samples_leaf': 19, 'criterion': 'entropy'}. Best is trial 16 with value: 0.5640243902439025.\u001b[0m\n",
      "\u001b[32m[I 2023-03-15 19:16:04,495]\u001b[0m Trial 17 finished with value: 0.5521472392638037 and parameters: {'max_depth': 39, 'min_samples_split': 13, 'min_samples_leaf': 19, 'criterion': 'gini'}. Best is trial 16 with value: 0.5640243902439025.\u001b[0m\n",
      "\u001b[32m[I 2023-03-15 19:16:04,536]\u001b[0m Trial 18 finished with value: 0.5693215339233038 and parameters: {'max_depth': 34, 'min_samples_split': 9, 'min_samples_leaf': 15, 'criterion': 'entropy'}. Best is trial 18 with value: 0.5693215339233038.\u001b[0m\n",
      "\u001b[32m[I 2023-03-15 19:16:04,577]\u001b[0m Trial 19 finished with value: 0.5702127659574469 and parameters: {'max_depth': 32, 'min_samples_split': 2, 'min_samples_leaf': 13, 'criterion': 'entropy'}. Best is trial 19 with value: 0.5702127659574469.\u001b[0m\n",
      "\u001b[32m[I 2023-03-15 19:16:04,618]\u001b[0m Trial 20 finished with value: 0.5441389290882779 and parameters: {'max_depth': 32, 'min_samples_split': 5, 'min_samples_leaf': 9, 'criterion': 'entropy'}. Best is trial 19 with value: 0.5702127659574469.\u001b[0m\n",
      "\u001b[32m[I 2023-03-15 19:16:04,658]\u001b[0m Trial 21 finished with value: 0.5571847507331379 and parameters: {'max_depth': 34, 'min_samples_split': 2, 'min_samples_leaf': 14, 'criterion': 'entropy'}. Best is trial 19 with value: 0.5702127659574469.\u001b[0m\n",
      "\u001b[32m[I 2023-03-15 19:16:04,698]\u001b[0m Trial 22 finished with value: 0.5640243902439025 and parameters: {'max_depth': 38, 'min_samples_split': 9, 'min_samples_leaf': 19, 'criterion': 'entropy'}. Best is trial 19 with value: 0.5702127659574469.\u001b[0m\n",
      "\u001b[32m[I 2023-03-15 19:16:04,738]\u001b[0m Trial 23 finished with value: 0.5702127659574469 and parameters: {'max_depth': 28, 'min_samples_split': 5, 'min_samples_leaf': 13, 'criterion': 'entropy'}. Best is trial 19 with value: 0.5702127659574469.\u001b[0m\n",
      "\u001b[32m[I 2023-03-15 19:16:04,778]\u001b[0m Trial 24 finished with value: 0.5425219941348974 and parameters: {'max_depth': 28, 'min_samples_split': 5, 'min_samples_leaf': 11, 'criterion': 'entropy'}. Best is trial 19 with value: 0.5702127659574469.\u001b[0m\n",
      "\u001b[32m[I 2023-03-15 19:16:04,823]\u001b[0m Trial 25 finished with value: 0.5211459754433834 and parameters: {'max_depth': 21, 'min_samples_split': 5, 'min_samples_leaf': 3, 'criterion': 'entropy'}. Best is trial 19 with value: 0.5702127659574469.\u001b[0m\n",
      "\u001b[32m[I 2023-03-15 19:16:04,865]\u001b[0m Trial 26 finished with value: 0.5702127659574469 and parameters: {'max_depth': 28, 'min_samples_split': 3, 'min_samples_leaf': 13, 'criterion': 'entropy'}. Best is trial 19 with value: 0.5702127659574469.\u001b[0m\n",
      "\u001b[32m[I 2023-03-15 19:16:04,907]\u001b[0m Trial 27 finished with value: 0.5441389290882779 and parameters: {'max_depth': 28, 'min_samples_split': 3, 'min_samples_leaf': 9, 'criterion': 'entropy'}. Best is trial 19 with value: 0.5702127659574469.\u001b[0m\n",
      "\u001b[32m[I 2023-03-15 19:16:04,947]\u001b[0m Trial 28 finished with value: 0.5702127659574469 and parameters: {'max_depth': 20, 'min_samples_split': 4, 'min_samples_leaf': 13, 'criterion': 'entropy'}. Best is trial 19 with value: 0.5702127659574469.\u001b[0m\n",
      "\u001b[32m[I 2023-03-15 19:16:04,982]\u001b[0m Trial 29 finished with value: 0.5867895545314901 and parameters: {'max_depth': 8, 'min_samples_split': 7, 'min_samples_leaf': 5, 'criterion': 'entropy'}. Best is trial 29 with value: 0.5867895545314901.\u001b[0m\n",
      "\u001b[32m[I 2023-03-15 19:16:05,021]\u001b[0m Trial 30 finished with value: 0.5502958579881656 and parameters: {'max_depth': 10, 'min_samples_split': 7, 'min_samples_leaf': 6, 'criterion': 'entropy'}. Best is trial 29 with value: 0.5867895545314901.\u001b[0m\n",
      "\u001b[32m[I 2023-03-15 19:16:05,061]\u001b[0m Trial 31 finished with value: 0.5399698340874812 and parameters: {'max_depth': 11, 'min_samples_split': 6, 'min_samples_leaf': 8, 'criterion': 'entropy'}. Best is trial 29 with value: 0.5867895545314901.\u001b[0m\n",
      "\u001b[32m[I 2023-03-15 19:16:05,106]\u001b[0m Trial 32 finished with value: 0.521613832853026 and parameters: {'max_depth': 29, 'min_samples_split': 3, 'min_samples_leaf': 4, 'criterion': 'entropy'}. Best is trial 29 with value: 0.5867895545314901.\u001b[0m\n",
      "\u001b[32m[I 2023-03-15 19:16:05,146]\u001b[0m Trial 33 finished with value: 0.5722983257229832 and parameters: {'max_depth': 27, 'min_samples_split': 10, 'min_samples_leaf': 17, 'criterion': 'entropy'}. Best is trial 29 with value: 0.5867895545314901.\u001b[0m\n"
     ]
    },
    {
     "name": "stderr",
     "output_type": "stream",
     "text": [
      "\u001b[32m[I 2023-03-15 19:16:05,186]\u001b[0m Trial 34 finished with value: 0.5722983257229832 and parameters: {'max_depth': 21, 'min_samples_split': 10, 'min_samples_leaf': 17, 'criterion': 'entropy'}. Best is trial 29 with value: 0.5867895545314901.\u001b[0m\n",
      "\u001b[32m[I 2023-03-15 19:16:05,225]\u001b[0m Trial 35 finished with value: 0.5692307692307692 and parameters: {'max_depth': 12, 'min_samples_split': 10, 'min_samples_leaf': 17, 'criterion': 'entropy'}. Best is trial 29 with value: 0.5867895545314901.\u001b[0m\n",
      "\u001b[32m[I 2023-03-15 19:16:05,266]\u001b[0m Trial 36 finished with value: 0.56973293768546 and parameters: {'max_depth': 18, 'min_samples_split': 14, 'min_samples_leaf': 16, 'criterion': 'entropy'}. Best is trial 29 with value: 0.5867895545314901.\u001b[0m\n",
      "\u001b[32m[I 2023-03-15 19:16:05,299]\u001b[0m Trial 37 finished with value: 0.5773524720893142 and parameters: {'max_depth': 7, 'min_samples_split': 8, 'min_samples_leaf': 25, 'criterion': 'entropy'}. Best is trial 29 with value: 0.5867895545314901.\u001b[0m\n",
      "\u001b[32m[I 2023-03-15 19:16:05,334]\u001b[0m Trial 38 finished with value: 0.5696400625978091 and parameters: {'max_depth': 8, 'min_samples_split': 8, 'min_samples_leaf': 25, 'criterion': 'entropy'}. Best is trial 29 with value: 0.5867895545314901.\u001b[0m\n",
      "\u001b[32m[I 2023-03-15 19:16:05,358]\u001b[0m Trial 39 finished with value: 0.48873483535528595 and parameters: {'max_depth': 3, 'min_samples_split': 11, 'min_samples_leaf': 21, 'criterion': 'entropy'}. Best is trial 29 with value: 0.5867895545314901.\u001b[0m\n",
      "\u001b[32m[I 2023-03-15 19:16:05,397]\u001b[0m Trial 40 finished with value: 0.5531250000000001 and parameters: {'max_depth': 14, 'min_samples_split': 7, 'min_samples_leaf': 21, 'criterion': 'entropy'}. Best is trial 29 with value: 0.5867895545314901.\u001b[0m\n",
      "\u001b[32m[I 2023-03-15 19:16:05,427]\u001b[0m Trial 41 finished with value: 0.5266903914590747 and parameters: {'max_depth': 5, 'min_samples_split': 9, 'min_samples_leaf': 25, 'criterion': 'entropy'}. Best is trial 29 with value: 0.5867895545314901.\u001b[0m\n",
      "\u001b[32m[I 2023-03-15 19:16:05,464]\u001b[0m Trial 42 finished with value: 0.5829307568438004 and parameters: {'max_depth': 8, 'min_samples_split': 14, 'min_samples_leaf': 17, 'criterion': 'entropy'}. Best is trial 29 with value: 0.5867895545314901.\u001b[0m\n",
      "\u001b[32m[I 2023-03-15 19:16:05,501]\u001b[0m Trial 43 finished with value: 0.5829307568438004 and parameters: {'max_depth': 8, 'min_samples_split': 14, 'min_samples_leaf': 17, 'criterion': 'entropy'}. Best is trial 29 with value: 0.5867895545314901.\u001b[0m\n",
      "\u001b[32m[I 2023-03-15 19:16:05,531]\u001b[0m Trial 44 finished with value: 0.5822784810126582 and parameters: {'max_depth': 7, 'min_samples_split': 20, 'min_samples_leaf': 18, 'criterion': 'gini'}. Best is trial 29 with value: 0.5867895545314901.\u001b[0m\n",
      "\u001b[32m[I 2023-03-15 19:16:05,563]\u001b[0m Trial 45 finished with value: 0.5889763779527559 and parameters: {'max_depth': 7, 'min_samples_split': 20, 'min_samples_leaf': 25, 'criterion': 'gini'}. Best is trial 45 with value: 0.5889763779527559.\u001b[0m\n",
      "\u001b[32m[I 2023-03-15 19:16:05,596]\u001b[0m Trial 46 finished with value: 0.5687499999999999 and parameters: {'max_depth': 8, 'min_samples_split': 20, 'min_samples_leaf': 20, 'criterion': 'gini'}. Best is trial 45 with value: 0.5889763779527559.\u001b[0m\n",
      "\u001b[32m[I 2023-03-15 19:16:05,634]\u001b[0m Trial 47 finished with value: 0.5425361155698234 and parameters: {'max_depth': 15, 'min_samples_split': 23, 'min_samples_leaf': 28, 'criterion': 'gini'}. Best is trial 45 with value: 0.5889763779527559.\u001b[0m\n",
      "\u001b[32m[I 2023-03-15 19:16:05,665]\u001b[0m Trial 48 finished with value: 0.5353535353535354 and parameters: {'max_depth': 6, 'min_samples_split': 21, 'min_samples_leaf': 15, 'criterion': 'gini'}. Best is trial 45 with value: 0.5889763779527559.\u001b[0m\n",
      "\u001b[32m[I 2023-03-15 19:16:05,702]\u001b[0m Trial 49 finished with value: 0.5414012738853503 and parameters: {'max_depth': 13, 'min_samples_split': 25, 'min_samples_leaf': 30, 'criterion': 'gini'}. Best is trial 45 with value: 0.5889763779527559.\u001b[0m\n",
      "\u001b[32m[I 2023-03-15 19:16:05,739]\u001b[0m Trial 50 finished with value: 0.5509893455098935 and parameters: {'max_depth': 10, 'min_samples_split': 15, 'min_samples_leaf': 18, 'criterion': 'gini'}. Best is trial 45 with value: 0.5889763779527559.\u001b[0m\n",
      "\u001b[32m[I 2023-03-15 19:16:05,770]\u001b[0m Trial 51 finished with value: 0.5813586097946287 and parameters: {'max_depth': 7, 'min_samples_split': 17, 'min_samples_leaf': 24, 'criterion': 'gini'}. Best is trial 45 with value: 0.5889763779527559.\u001b[0m\n",
      "\u001b[32m[I 2023-03-15 19:16:05,796]\u001b[0m Trial 52 finished with value: 0.5125448028673836 and parameters: {'max_depth': 4, 'min_samples_split': 18, 'min_samples_leaf': 23, 'criterion': 'gini'}. Best is trial 45 with value: 0.5889763779527559.\u001b[0m\n",
      "\u001b[32m[I 2023-03-15 19:16:05,830]\u001b[0m Trial 53 finished with value: 0.5608974358974358 and parameters: {'max_depth': 9, 'min_samples_split': 17, 'min_samples_leaf': 27, 'criterion': 'gini'}. Best is trial 45 with value: 0.5889763779527559.\u001b[0m\n",
      "\u001b[32m[I 2023-03-15 19:16:05,860]\u001b[0m Trial 54 finished with value: 0.5426621160409556 and parameters: {'max_depth': 6, 'min_samples_split': 22, 'min_samples_leaf': 21, 'criterion': 'gini'}. Best is trial 45 with value: 0.5889763779527559.\u001b[0m\n",
      "\u001b[32m[I 2023-03-15 19:16:05,883]\u001b[0m Trial 55 finished with value: 0.5161290322580645 and parameters: {'max_depth': 3, 'min_samples_split': 19, 'min_samples_leaf': 24, 'criterion': 'gini'}. Best is trial 45 with value: 0.5889763779527559.\u001b[0m\n",
      "\u001b[32m[I 2023-03-15 19:16:05,920]\u001b[0m Trial 56 finished with value: 0.5533834586466165 and parameters: {'max_depth': 16, 'min_samples_split': 15, 'min_samples_leaf': 18, 'criterion': 'gini'}. Best is trial 45 with value: 0.5889763779527559.\u001b[0m\n",
      "\u001b[32m[I 2023-03-15 19:16:05,957]\u001b[0m Trial 57 finished with value: 0.5602605863192183 and parameters: {'max_depth': 12, 'min_samples_split': 20, 'min_samples_leaf': 26, 'criterion': 'gini'}. Best is trial 45 with value: 0.5889763779527559.\u001b[0m\n",
      "\u001b[32m[I 2023-03-15 19:16:05,989]\u001b[0m Trial 58 finished with value: 0.5813586097946287 and parameters: {'max_depth': 7, 'min_samples_split': 24, 'min_samples_leaf': 22, 'criterion': 'gini'}. Best is trial 45 with value: 0.5889763779527559.\u001b[0m\n",
      "\u001b[32m[I 2023-03-15 19:16:06,024]\u001b[0m Trial 59 finished with value: 0.5628930817610064 and parameters: {'max_depth': 9, 'min_samples_split': 28, 'min_samples_leaf': 20, 'criterion': 'gini'}. Best is trial 45 with value: 0.5889763779527559.\u001b[0m\n",
      "\u001b[32m[I 2023-03-15 19:16:06,051]\u001b[0m Trial 60 finished with value: 0.5283687943262411 and parameters: {'max_depth': 5, 'min_samples_split': 17, 'min_samples_leaf': 23, 'criterion': 'gini'}. Best is trial 45 with value: 0.5889763779527559.\u001b[0m\n",
      "\u001b[32m[I 2023-03-15 19:16:06,085]\u001b[0m Trial 61 finished with value: 0.5718701700154559 and parameters: {'max_depth': 8, 'min_samples_split': 24, 'min_samples_leaf': 22, 'criterion': 'gini'}. Best is trial 45 with value: 0.5889763779527559.\u001b[0m\n",
      "\u001b[32m[I 2023-03-15 19:16:06,116]\u001b[0m Trial 62 finished with value: 0.5800316957210777 and parameters: {'max_depth': 7, 'min_samples_split': 27, 'min_samples_leaf': 15, 'criterion': 'gini'}. Best is trial 45 with value: 0.5889763779527559.\u001b[0m\n",
      "\u001b[32m[I 2023-03-15 19:16:06,156]\u001b[0m Trial 63 finished with value: 0.5519287833827894 and parameters: {'max_depth': 11, 'min_samples_split': 21, 'min_samples_leaf': 18, 'criterion': 'gini'}. Best is trial 45 with value: 0.5889763779527559.\u001b[0m\n",
      "\u001b[32m[I 2023-03-15 19:16:06,183]\u001b[0m Trial 64 finished with value: 0.5283687943262411 and parameters: {'max_depth': 5, 'min_samples_split': 13, 'min_samples_leaf': 24, 'criterion': 'gini'}. Best is trial 45 with value: 0.5889763779527559.\u001b[0m\n",
      "\u001b[32m[I 2023-03-15 19:16:06,220]\u001b[0m Trial 65 finished with value: 0.5425361155698234 and parameters: {'max_depth': 13, 'min_samples_split': 18, 'min_samples_leaf': 28, 'criterion': 'gini'}. Best is trial 45 with value: 0.5889763779527559.\u001b[0m\n",
      "\u001b[32m[I 2023-03-15 19:16:06,259]\u001b[0m Trial 66 finished with value: 0.5493827160493827 and parameters: {'max_depth': 10, 'min_samples_split': 16, 'min_samples_leaf': 20, 'criterion': 'gini'}. Best is trial 45 with value: 0.5889763779527559.\u001b[0m\n",
      "\u001b[32m[I 2023-03-15 19:16:06,282]\u001b[0m Trial 67 finished with value: 0.5161290322580645 and parameters: {'max_depth': 3, 'min_samples_split': 14, 'min_samples_leaf': 22, 'criterion': 'gini'}. Best is trial 45 with value: 0.5889763779527559.\u001b[0m\n"
     ]
    },
    {
     "name": "stderr",
     "output_type": "stream",
     "text": [
      "\u001b[32m[I 2023-03-15 19:16:06,314]\u001b[0m Trial 68 finished with value: 0.5772870662460569 and parameters: {'max_depth': 7, 'min_samples_split': 23, 'min_samples_leaf': 14, 'criterion': 'gini'}. Best is trial 45 with value: 0.5889763779527559.\u001b[0m\n",
      "\u001b[32m[I 2023-03-15 19:16:06,353]\u001b[0m Trial 69 finished with value: 0.5629629629629629 and parameters: {'max_depth': 17, 'min_samples_split': 19, 'min_samples_leaf': 16, 'criterion': 'gini'}. Best is trial 45 with value: 0.5889763779527559.\u001b[0m\n",
      "\u001b[32m[I 2023-03-15 19:16:06,388]\u001b[0m Trial 70 finished with value: 0.5608974358974358 and parameters: {'max_depth': 9, 'min_samples_split': 12, 'min_samples_leaf': 27, 'criterion': 'gini'}. Best is trial 45 with value: 0.5889763779527559.\u001b[0m\n",
      "\u001b[32m[I 2023-03-15 19:16:06,419]\u001b[0m Trial 71 finished with value: 0.5304054054054054 and parameters: {'max_depth': 6, 'min_samples_split': 28, 'min_samples_leaf': 11, 'criterion': 'gini'}. Best is trial 45 with value: 0.5889763779527559.\u001b[0m\n",
      "\u001b[32m[I 2023-03-15 19:16:06,452]\u001b[0m Trial 72 finished with value: 0.5627009646302251 and parameters: {'max_depth': 7, 'min_samples_split': 26, 'min_samples_leaf': 4, 'criterion': 'gini'}. Best is trial 45 with value: 0.5889763779527559.\u001b[0m\n",
      "\u001b[32m[I 2023-03-15 19:16:06,492]\u001b[0m Trial 73 finished with value: 0.5520361990950226 and parameters: {'max_depth': 11, 'min_samples_split': 27, 'min_samples_leaf': 1, 'criterion': 'gini'}. Best is trial 45 with value: 0.5889763779527559.\u001b[0m\n",
      "\u001b[32m[I 2023-03-15 19:16:06,517]\u001b[0m Trial 74 finished with value: 0.5125448028673836 and parameters: {'max_depth': 4, 'min_samples_split': 29, 'min_samples_leaf': 15, 'criterion': 'gini'}. Best is trial 45 with value: 0.5889763779527559.\u001b[0m\n",
      "\u001b[32m[I 2023-03-15 19:16:06,553]\u001b[0m Trial 75 finished with value: 0.5723370429252783 and parameters: {'max_depth': 7, 'min_samples_split': 24, 'min_samples_leaf': 6, 'criterion': 'entropy'}. Best is trial 45 with value: 0.5889763779527559.\u001b[0m\n",
      "\u001b[32m[I 2023-03-15 19:16:06,588]\u001b[0m Trial 76 finished with value: 0.5664556962025317 and parameters: {'max_depth': 9, 'min_samples_split': 30, 'min_samples_leaf': 24, 'criterion': 'gini'}. Best is trial 45 with value: 0.5889763779527559.\u001b[0m\n",
      "\u001b[32m[I 2023-03-15 19:16:06,631]\u001b[0m Trial 77 finished with value: 0.5603448275862069 and parameters: {'max_depth': 45, 'min_samples_split': 26, 'min_samples_leaf': 10, 'criterion': 'entropy'}. Best is trial 45 with value: 0.5889763779527559.\u001b[0m\n",
      "\u001b[32m[I 2023-03-15 19:16:06,672]\u001b[0m Trial 78 finished with value: 0.5289514866979655 and parameters: {'max_depth': 12, 'min_samples_split': 20, 'min_samples_leaf': 29, 'criterion': 'entropy'}. Best is trial 45 with value: 0.5889763779527559.\u001b[0m\n",
      "\u001b[32m[I 2023-03-15 19:16:06,701]\u001b[0m Trial 79 finished with value: 0.5283687943262411 and parameters: {'max_depth': 5, 'min_samples_split': 22, 'min_samples_leaf': 16, 'criterion': 'gini'}. Best is trial 45 with value: 0.5889763779527559.\u001b[0m\n",
      "\u001b[32m[I 2023-03-15 19:16:06,743]\u001b[0m Trial 80 finished with value: 0.5466237942122186 and parameters: {'max_depth': 14, 'min_samples_split': 15, 'min_samples_leaf': 26, 'criterion': 'entropy'}. Best is trial 45 with value: 0.5889763779527559.\u001b[0m\n",
      "\u001b[32m[I 2023-03-15 19:16:06,782]\u001b[0m Trial 81 finished with value: 0.5773524720893142 and parameters: {'max_depth': 7, 'min_samples_split': 12, 'min_samples_leaf': 25, 'criterion': 'entropy'}. Best is trial 45 with value: 0.5889763779527559.\u001b[0m\n",
      "\u001b[32m[I 2023-03-15 19:16:06,820]\u001b[0m Trial 82 finished with value: 0.5852895148669797 and parameters: {'max_depth': 8, 'min_samples_split': 6, 'min_samples_leaf': 19, 'criterion': 'entropy'}. Best is trial 45 with value: 0.5889763779527559.\u001b[0m\n",
      "\u001b[32m[I 2023-03-15 19:16:06,859]\u001b[0m Trial 83 finished with value: 0.5852895148669797 and parameters: {'max_depth': 8, 'min_samples_split': 6, 'min_samples_leaf': 18, 'criterion': 'entropy'}. Best is trial 45 with value: 0.5889763779527559.\u001b[0m\n",
      "\u001b[32m[I 2023-03-15 19:16:06,899]\u001b[0m Trial 84 finished with value: 0.5609756097560976 and parameters: {'max_depth': 10, 'min_samples_split': 6, 'min_samples_leaf': 19, 'criterion': 'entropy'}. Best is trial 45 with value: 0.5889763779527559.\u001b[0m\n",
      "\u001b[32m[I 2023-03-15 19:16:06,929]\u001b[0m Trial 85 finished with value: 0.5107913669064749 and parameters: {'max_depth': 4, 'min_samples_split': 4, 'min_samples_leaf': 18, 'criterion': 'entropy'}. Best is trial 45 with value: 0.5889763779527559.\u001b[0m\n",
      "\u001b[32m[I 2023-03-15 19:16:06,967]\u001b[0m Trial 86 finished with value: 0.5852895148669797 and parameters: {'max_depth': 8, 'min_samples_split': 7, 'min_samples_leaf': 19, 'criterion': 'entropy'}. Best is trial 45 with value: 0.5889763779527559.\u001b[0m\n",
      "\u001b[32m[I 2023-03-15 19:16:07,007]\u001b[0m Trial 87 finished with value: 0.5696784073506891 and parameters: {'max_depth': 9, 'min_samples_split': 7, 'min_samples_leaf': 19, 'criterion': 'entropy'}. Best is trial 45 with value: 0.5889763779527559.\u001b[0m\n",
      "\u001b[32m[I 2023-03-15 19:16:07,051]\u001b[0m Trial 88 finished with value: 0.5701078582434514 and parameters: {'max_depth': 11, 'min_samples_split': 6, 'min_samples_leaf': 17, 'criterion': 'entropy'}. Best is trial 45 with value: 0.5889763779527559.\u001b[0m\n",
      "\u001b[32m[I 2023-03-15 19:16:07,089]\u001b[0m Trial 89 finished with value: 0.5829307568438004 and parameters: {'max_depth': 8, 'min_samples_split': 4, 'min_samples_leaf': 17, 'criterion': 'entropy'}. Best is trial 45 with value: 0.5889763779527559.\u001b[0m\n",
      "\u001b[32m[I 2023-03-15 19:16:07,133]\u001b[0m Trial 90 finished with value: 0.5696784073506891 and parameters: {'max_depth': 13, 'min_samples_split': 4, 'min_samples_leaf': 17, 'criterion': 'entropy'}. Best is trial 45 with value: 0.5889763779527559.\u001b[0m\n",
      "\u001b[32m[I 2023-03-15 19:16:07,172]\u001b[0m Trial 91 finished with value: 0.578125 and parameters: {'max_depth': 8, 'min_samples_split': 8, 'min_samples_leaf': 20, 'criterion': 'entropy'}. Best is trial 45 with value: 0.5889763779527559.\u001b[0m\n",
      "\u001b[32m[I 2023-03-15 19:16:07,205]\u001b[0m Trial 92 finished with value: 0.5438898450946643 and parameters: {'max_depth': 6, 'min_samples_split': 7, 'min_samples_leaf': 16, 'criterion': 'entropy'}. Best is trial 45 with value: 0.5889763779527559.\u001b[0m\n",
      "\u001b[32m[I 2023-03-15 19:16:07,243]\u001b[0m Trial 93 finished with value: 0.5852895148669797 and parameters: {'max_depth': 8, 'min_samples_split': 5, 'min_samples_leaf': 18, 'criterion': 'entropy'}. Best is trial 45 with value: 0.5889763779527559.\u001b[0m\n",
      "\u001b[32m[I 2023-03-15 19:16:07,283]\u001b[0m Trial 94 finished with value: 0.5610859728506787 and parameters: {'max_depth': 10, 'min_samples_split': 5, 'min_samples_leaf': 18, 'criterion': 'entropy'}. Best is trial 45 with value: 0.5889763779527559.\u001b[0m\n",
      "\u001b[32m[I 2023-03-15 19:16:07,322]\u001b[0m Trial 95 finished with value: 0.5852895148669797 and parameters: {'max_depth': 8, 'min_samples_split': 3, 'min_samples_leaf': 19, 'criterion': 'entropy'}. Best is trial 45 with value: 0.5889763779527559.\u001b[0m\n",
      "\u001b[32m[I 2023-03-15 19:16:07,362]\u001b[0m Trial 96 finished with value: 0.5696784073506891 and parameters: {'max_depth': 9, 'min_samples_split': 3, 'min_samples_leaf': 19, 'criterion': 'entropy'}. Best is trial 45 with value: 0.5889763779527559.\u001b[0m\n",
      "\u001b[32m[I 2023-03-15 19:16:07,404]\u001b[0m Trial 97 finished with value: 0.5833333333333333 and parameters: {'max_depth': 8, 'min_samples_split': 2, 'min_samples_leaf': 12, 'criterion': 'entropy'}. Best is trial 45 with value: 0.5889763779527559.\u001b[0m\n",
      "\u001b[32m[I 2023-03-15 19:16:07,448]\u001b[0m Trial 98 finished with value: 0.5616641901931649 and parameters: {'max_depth': 12, 'min_samples_split': 2, 'min_samples_leaf': 14, 'criterion': 'entropy'}. Best is trial 45 with value: 0.5889763779527559.\u001b[0m\n",
      "\u001b[32m[I 2023-03-15 19:16:07,480]\u001b[0m Trial 99 finished with value: 0.5266903914590747 and parameters: {'max_depth': 5, 'min_samples_split': 6, 'min_samples_leaf': 8, 'criterion': 'entropy'}. Best is trial 45 with value: 0.5889763779527559.\u001b[0m\n",
      "\u001b[32m[I 2023-03-15 19:16:07,527]\u001b[0m Trial 100 finished with value: 0.5584795321637427 and parameters: {'max_depth': 15, 'min_samples_split': 5, 'min_samples_leaf': 12, 'criterion': 'entropy'}. Best is trial 45 with value: 0.5889763779527559.\u001b[0m\n",
      "\u001b[32m[I 2023-03-15 19:16:07,565]\u001b[0m Trial 101 finished with value: 0.5829307568438004 and parameters: {'max_depth': 8, 'min_samples_split': 4, 'min_samples_leaf': 17, 'criterion': 'entropy'}. Best is trial 45 with value: 0.5889763779527559.\u001b[0m\n"
     ]
    },
    {
     "name": "stderr",
     "output_type": "stream",
     "text": [
      "\u001b[32m[I 2023-03-15 19:16:07,610]\u001b[0m Trial 102 finished with value: 0.558641975308642 and parameters: {'max_depth': 11, 'min_samples_split': 3, 'min_samples_leaf': 20, 'criterion': 'entropy'}. Best is trial 45 with value: 0.5889763779527559.\u001b[0m\n",
      "\u001b[32m[I 2023-03-15 19:16:07,646]\u001b[0m Trial 103 finished with value: 0.5438898450946643 and parameters: {'max_depth': 6, 'min_samples_split': 2, 'min_samples_leaf': 21, 'criterion': 'entropy'}. Best is trial 45 with value: 0.5889763779527559.\u001b[0m\n",
      "\u001b[32m[I 2023-03-15 19:16:07,689]\u001b[0m Trial 104 finished with value: 0.5757121439280359 and parameters: {'max_depth': 10, 'min_samples_split': 4, 'min_samples_leaf': 16, 'criterion': 'entropy'}. Best is trial 45 with value: 0.5889763779527559.\u001b[0m\n",
      "\u001b[32m[I 2023-03-15 19:16:07,720]\u001b[0m Trial 105 finished with value: 0.5107913669064749 and parameters: {'max_depth': 4, 'min_samples_split': 5, 'min_samples_leaf': 15, 'criterion': 'entropy'}. Best is trial 45 with value: 0.5889763779527559.\u001b[0m\n",
      "\u001b[32m[I 2023-03-15 19:16:07,759]\u001b[0m Trial 106 finished with value: 0.5829307568438004 and parameters: {'max_depth': 8, 'min_samples_split': 8, 'min_samples_leaf': 17, 'criterion': 'entropy'}. Best is trial 45 with value: 0.5889763779527559.\u001b[0m\n",
      "\u001b[32m[I 2023-03-15 19:16:07,793]\u001b[0m Trial 107 finished with value: 0.5438898450946643 and parameters: {'max_depth': 6, 'min_samples_split': 9, 'min_samples_leaf': 18, 'criterion': 'entropy'}. Best is trial 45 with value: 0.5889763779527559.\u001b[0m\n",
      "\u001b[32m[I 2023-03-15 19:16:07,836]\u001b[0m Trial 108 finished with value: 0.5640243902439025 and parameters: {'max_depth': 24, 'min_samples_split': 3, 'min_samples_leaf': 19, 'criterion': 'entropy'}. Best is trial 45 with value: 0.5889763779527559.\u001b[0m\n",
      "\u001b[32m[I 2023-03-15 19:16:07,862]\u001b[0m Trial 109 finished with value: 0.48873483535528595 and parameters: {'max_depth': 3, 'min_samples_split': 6, 'min_samples_leaf': 20, 'criterion': 'entropy'}. Best is trial 45 with value: 0.5889763779527559.\u001b[0m\n",
      "\u001b[32m[I 2023-03-15 19:16:07,903]\u001b[0m Trial 110 finished with value: 0.5852895148669797 and parameters: {'max_depth': 8, 'min_samples_split': 11, 'min_samples_leaf': 18, 'criterion': 'entropy'}. Best is trial 45 with value: 0.5889763779527559.\u001b[0m\n",
      "\u001b[32m[I 2023-03-15 19:16:07,941]\u001b[0m Trial 111 finished with value: 0.5852895148669797 and parameters: {'max_depth': 8, 'min_samples_split': 11, 'min_samples_leaf': 18, 'criterion': 'entropy'}. Best is trial 45 with value: 0.5889763779527559.\u001b[0m\n",
      "\u001b[32m[I 2023-03-15 19:16:07,982]\u001b[0m Trial 112 finished with value: 0.5705614567526556 and parameters: {'max_depth': 9, 'min_samples_split': 11, 'min_samples_leaf': 18, 'criterion': 'entropy'}. Best is trial 45 with value: 0.5889763779527559.\u001b[0m\n",
      "\u001b[32m[I 2023-03-15 19:16:08,024]\u001b[0m Trial 113 finished with value: 0.5609756097560976 and parameters: {'max_depth': 10, 'min_samples_split': 14, 'min_samples_leaf': 19, 'criterion': 'entropy'}. Best is trial 45 with value: 0.5889763779527559.\u001b[0m\n",
      "\u001b[32m[I 2023-03-15 19:16:08,063]\u001b[0m Trial 114 finished with value: 0.578125 and parameters: {'max_depth': 8, 'min_samples_split': 13, 'min_samples_leaf': 21, 'criterion': 'entropy'}. Best is trial 45 with value: 0.5889763779527559.\u001b[0m\n",
      "\u001b[32m[I 2023-03-15 19:16:08,109]\u001b[0m Trial 115 finished with value: 0.529500756429652 and parameters: {'max_depth': 12, 'min_samples_split': 11, 'min_samples_leaf': 2, 'criterion': 'entropy'}. Best is trial 45 with value: 0.5889763779527559.\u001b[0m\n",
      "\u001b[32m[I 2023-03-15 19:16:08,145]\u001b[0m Trial 116 finished with value: 0.5438898450946643 and parameters: {'max_depth': 6, 'min_samples_split': 10, 'min_samples_leaf': 16, 'criterion': 'entropy'}. Best is trial 45 with value: 0.5889763779527559.\u001b[0m\n",
      "\u001b[32m[I 2023-03-15 19:16:08,191]\u001b[0m Trial 117 finished with value: 0.5649546827794562 and parameters: {'max_depth': 41, 'min_samples_split': 7, 'min_samples_leaf': 18, 'criterion': 'entropy'}. Best is trial 45 with value: 0.5889763779527559.\u001b[0m\n",
      "\u001b[32m[I 2023-03-15 19:16:08,224]\u001b[0m Trial 118 finished with value: 0.5266903914590747 and parameters: {'max_depth': 5, 'min_samples_split': 15, 'min_samples_leaf': 5, 'criterion': 'entropy'}. Best is trial 45 with value: 0.5889763779527559.\u001b[0m\n",
      "\u001b[32m[I 2023-03-15 19:16:08,268]\u001b[0m Trial 119 finished with value: 0.5649546827794562 and parameters: {'max_depth': 11, 'min_samples_split': 16, 'min_samples_leaf': 14, 'criterion': 'entropy'}. Best is trial 45 with value: 0.5889763779527559.\u001b[0m\n",
      "\u001b[32m[I 2023-03-15 19:16:08,309]\u001b[0m Trial 120 finished with value: 0.5696784073506891 and parameters: {'max_depth': 9, 'min_samples_split': 8, 'min_samples_leaf': 19, 'criterion': 'entropy'}. Best is trial 45 with value: 0.5889763779527559.\u001b[0m\n",
      "\u001b[32m[I 2023-03-15 19:16:08,348]\u001b[0m Trial 121 finished with value: 0.5829307568438004 and parameters: {'max_depth': 8, 'min_samples_split': 5, 'min_samples_leaf': 17, 'criterion': 'entropy'}. Best is trial 45 with value: 0.5889763779527559.\u001b[0m\n",
      "\u001b[32m[I 2023-03-15 19:16:08,386]\u001b[0m Trial 122 finished with value: 0.5829307568438004 and parameters: {'max_depth': 8, 'min_samples_split': 2, 'min_samples_leaf': 17, 'criterion': 'entropy'}. Best is trial 45 with value: 0.5889763779527559.\u001b[0m\n",
      "\u001b[32m[I 2023-03-15 19:16:08,423]\u001b[0m Trial 123 finished with value: 0.5824 and parameters: {'max_depth': 7, 'min_samples_split': 4, 'min_samples_leaf': 18, 'criterion': 'entropy'}. Best is trial 45 with value: 0.5889763779527559.\u001b[0m\n",
      "\u001b[32m[I 2023-03-15 19:16:08,458]\u001b[0m Trial 124 finished with value: 0.5438898450946643 and parameters: {'max_depth': 6, 'min_samples_split': 14, 'min_samples_leaf': 16, 'criterion': 'entropy'}. Best is trial 45 with value: 0.5889763779527559.\u001b[0m\n",
      "\u001b[32m[I 2023-03-15 19:16:08,501]\u001b[0m Trial 125 finished with value: 0.5557251908396946 and parameters: {'max_depth': 10, 'min_samples_split': 12, 'min_samples_leaf': 20, 'criterion': 'entropy'}. Best is trial 45 with value: 0.5889763779527559.\u001b[0m\n",
      "\u001b[32m[I 2023-03-15 19:16:08,533]\u001b[0m Trial 126 finished with value: 0.5107913669064749 and parameters: {'max_depth': 4, 'min_samples_split': 3, 'min_samples_leaf': 15, 'criterion': 'entropy'}. Best is trial 45 with value: 0.5889763779527559.\u001b[0m\n",
      "\u001b[32m[I 2023-03-15 19:16:08,578]\u001b[0m Trial 127 finished with value: 0.5696784073506891 and parameters: {'max_depth': 13, 'min_samples_split': 9, 'min_samples_leaf': 17, 'criterion': 'entropy'}. Best is trial 45 with value: 0.5889763779527559.\u001b[0m\n",
      "\u001b[32m[I 2023-03-15 19:16:08,622]\u001b[0m Trial 128 finished with value: 0.5696784073506891 and parameters: {'max_depth': 9, 'min_samples_split': 6, 'min_samples_leaf': 19, 'criterion': 'entropy'}. Best is trial 45 with value: 0.5889763779527559.\u001b[0m\n",
      "\u001b[32m[I 2023-03-15 19:16:08,661]\u001b[0m Trial 129 finished with value: 0.5824 and parameters: {'max_depth': 7, 'min_samples_split': 7, 'min_samples_leaf': 18, 'criterion': 'entropy'}. Best is trial 45 with value: 0.5889763779527559.\u001b[0m\n",
      "\u001b[32m[I 2023-03-15 19:16:08,695]\u001b[0m Trial 130 finished with value: 0.5266903914590747 and parameters: {'max_depth': 5, 'min_samples_split': 13, 'min_samples_leaf': 21, 'criterion': 'entropy'}. Best is trial 45 with value: 0.5889763779527559.\u001b[0m\n",
      "\u001b[32m[I 2023-03-15 19:16:08,736]\u001b[0m Trial 131 finished with value: 0.5829307568438004 and parameters: {'max_depth': 8, 'min_samples_split': 4, 'min_samples_leaf': 17, 'criterion': 'entropy'}. Best is trial 45 with value: 0.5889763779527559.\u001b[0m\n",
      "\u001b[32m[I 2023-03-15 19:16:08,776]\u001b[0m Trial 132 finished with value: 0.5829307568438004 and parameters: {'max_depth': 8, 'min_samples_split': 4, 'min_samples_leaf': 17, 'criterion': 'entropy'}. Best is trial 45 with value: 0.5889763779527559.\u001b[0m\n",
      "\u001b[32m[I 2023-03-15 19:16:08,819]\u001b[0m Trial 133 finished with value: 0.5640243902439025 and parameters: {'max_depth': 11, 'min_samples_split': 5, 'min_samples_leaf': 16, 'criterion': 'entropy'}. Best is trial 45 with value: 0.5889763779527559.\u001b[0m\n",
      "\u001b[32m[I 2023-03-15 19:16:08,861]\u001b[0m Trial 134 finished with value: 0.5705614567526556 and parameters: {'max_depth': 9, 'min_samples_split': 3, 'min_samples_leaf': 18, 'criterion': 'entropy'}. Best is trial 45 with value: 0.5889763779527559.\u001b[0m\n",
      "\u001b[32m[I 2023-03-15 19:16:08,897]\u001b[0m Trial 135 finished with value: 0.5438898450946643 and parameters: {'max_depth': 6, 'min_samples_split': 2, 'min_samples_leaf': 19, 'criterion': 'entropy'}. Best is trial 45 with value: 0.5889763779527559.\u001b[0m\n"
     ]
    },
    {
     "name": "stderr",
     "output_type": "stream",
     "text": [
      "\u001b[32m[I 2023-03-15 19:16:08,941]\u001b[0m Trial 136 finished with value: 0.5557251908396946 and parameters: {'max_depth': 10, 'min_samples_split': 5, 'min_samples_leaf': 20, 'criterion': 'entropy'}. Best is trial 45 with value: 0.5889763779527559.\u001b[0m\n",
      "\u001b[32m[I 2023-03-15 19:16:08,979]\u001b[0m Trial 137 finished with value: 0.5824 and parameters: {'max_depth': 7, 'min_samples_split': 6, 'min_samples_leaf': 17, 'criterion': 'entropy'}. Best is trial 45 with value: 0.5889763779527559.\u001b[0m\n",
      "\u001b[32m[I 2023-03-15 19:16:09,020]\u001b[0m Trial 138 finished with value: 0.5840978593272171 and parameters: {'max_depth': 8, 'min_samples_split': 4, 'min_samples_leaf': 13, 'criterion': 'entropy'}. Best is trial 45 with value: 0.5889763779527559.\u001b[0m\n",
      "\u001b[32m[I 2023-03-15 19:16:09,054]\u001b[0m Trial 139 finished with value: 0.5266903914590747 and parameters: {'max_depth': 5, 'min_samples_split': 7, 'min_samples_leaf': 12, 'criterion': 'entropy'}. Best is trial 45 with value: 0.5889763779527559.\u001b[0m\n",
      "\u001b[32m[I 2023-03-15 19:16:09,100]\u001b[0m Trial 140 finished with value: 0.5319465081723626 and parameters: {'max_depth': 50, 'min_samples_split': 10, 'min_samples_leaf': 10, 'criterion': 'entropy'}. Best is trial 45 with value: 0.5889763779527559.\u001b[0m\n",
      "\u001b[32m[I 2023-03-15 19:16:09,139]\u001b[0m Trial 141 finished with value: 0.5818759936406995 and parameters: {'max_depth': 8, 'min_samples_split': 4, 'min_samples_leaf': 14, 'criterion': 'entropy'}. Best is trial 45 with value: 0.5889763779527559.\u001b[0m\n",
      "\u001b[32m[I 2023-03-15 19:16:09,183]\u001b[0m Trial 142 finished with value: 0.5532544378698224 and parameters: {'max_depth': 10, 'min_samples_split': 3, 'min_samples_leaf': 7, 'criterion': 'entropy'}. Best is trial 45 with value: 0.5889763779527559.\u001b[0m\n",
      "\u001b[32m[I 2023-03-15 19:16:09,222]\u001b[0m Trial 143 finished with value: 0.5840978593272171 and parameters: {'max_depth': 8, 'min_samples_split': 4, 'min_samples_leaf': 13, 'criterion': 'entropy'}. Best is trial 45 with value: 0.5889763779527559.\u001b[0m\n",
      "\u001b[32m[I 2023-03-15 19:16:09,263]\u001b[0m Trial 144 finished with value: 0.5577812018489985 and parameters: {'max_depth': 9, 'min_samples_split': 6, 'min_samples_leaf': 11, 'criterion': 'entropy'}. Best is trial 45 with value: 0.5889763779527559.\u001b[0m\n",
      "\u001b[32m[I 2023-03-15 19:16:09,300]\u001b[0m Trial 145 finished with value: 0.5800316957210777 and parameters: {'max_depth': 7, 'min_samples_split': 8, 'min_samples_leaf': 15, 'criterion': 'entropy'}. Best is trial 45 with value: 0.5889763779527559.\u001b[0m\n",
      "\u001b[32m[I 2023-03-15 19:16:09,335]\u001b[0m Trial 146 finished with value: 0.5438898450946643 and parameters: {'max_depth': 6, 'min_samples_split': 5, 'min_samples_leaf': 15, 'criterion': 'entropy'}. Best is trial 45 with value: 0.5889763779527559.\u001b[0m\n",
      "\u001b[32m[I 2023-03-15 19:16:09,377]\u001b[0m Trial 147 finished with value: 0.5714285714285715 and parameters: {'max_depth': 9, 'min_samples_split': 2, 'min_samples_leaf': 13, 'criterion': 'entropy'}. Best is trial 45 with value: 0.5889763779527559.\u001b[0m\n",
      "\u001b[32m[I 2023-03-15 19:16:09,421]\u001b[0m Trial 148 finished with value: 0.5676470588235295 and parameters: {'max_depth': 11, 'min_samples_split': 3, 'min_samples_leaf': 13, 'criterion': 'entropy'}. Best is trial 45 with value: 0.5889763779527559.\u001b[0m\n",
      "\u001b[32m[I 2023-03-15 19:16:09,457]\u001b[0m Trial 149 finished with value: 0.5454545454545454 and parameters: {'max_depth': 6, 'min_samples_split': 11, 'min_samples_leaf': 10, 'criterion': 'entropy'}. Best is trial 45 with value: 0.5889763779527559.\u001b[0m\n",
      "\u001b[32m[I 2023-03-15 19:16:09,495]\u001b[0m Trial 150 finished with value: 0.5786163522012578 and parameters: {'max_depth': 7, 'min_samples_split': 4, 'min_samples_leaf': 12, 'criterion': 'entropy'}. Best is trial 45 with value: 0.5889763779527559.\u001b[0m\n",
      "\u001b[32m[I 2023-03-15 19:16:09,535]\u001b[0m Trial 151 finished with value: 0.5852895148669797 and parameters: {'max_depth': 8, 'min_samples_split': 5, 'min_samples_leaf': 18, 'criterion': 'entropy'}. Best is trial 45 with value: 0.5889763779527559.\u001b[0m\n",
      "\u001b[32m[I 2023-03-15 19:16:09,574]\u001b[0m Trial 152 finished with value: 0.5852895148669797 and parameters: {'max_depth': 8, 'min_samples_split': 5, 'min_samples_leaf': 18, 'criterion': 'entropy'}. Best is trial 45 with value: 0.5889763779527559.\u001b[0m\n",
      "\u001b[32m[I 2023-03-15 19:16:09,618]\u001b[0m Trial 153 finished with value: 0.5649546827794562 and parameters: {'max_depth': 19, 'min_samples_split': 5, 'min_samples_leaf': 18, 'criterion': 'entropy'}. Best is trial 45 with value: 0.5889763779527559.\u001b[0m\n",
      "\u001b[32m[I 2023-03-15 19:16:09,660]\u001b[0m Trial 154 finished with value: 0.5696784073506891 and parameters: {'max_depth': 9, 'min_samples_split': 6, 'min_samples_leaf': 19, 'criterion': 'entropy'}. Best is trial 45 with value: 0.5889763779527559.\u001b[0m\n",
      "\u001b[32m[I 2023-03-15 19:16:09,700]\u001b[0m Trial 155 finished with value: 0.5852895148669797 and parameters: {'max_depth': 8, 'min_samples_split': 7, 'min_samples_leaf': 18, 'criterion': 'entropy'}. Best is trial 45 with value: 0.5889763779527559.\u001b[0m\n",
      "\u001b[32m[I 2023-03-15 19:16:09,740]\u001b[0m Trial 156 finished with value: 0.578125 and parameters: {'max_depth': 8, 'min_samples_split': 8, 'min_samples_leaf': 20, 'criterion': 'entropy'}. Best is trial 45 with value: 0.5889763779527559.\u001b[0m\n",
      "\u001b[32m[I 2023-03-15 19:16:09,784]\u001b[0m Trial 157 finished with value: 0.5609756097560976 and parameters: {'max_depth': 10, 'min_samples_split': 7, 'min_samples_leaf': 19, 'criterion': 'entropy'}. Best is trial 45 with value: 0.5889763779527559.\u001b[0m\n",
      "\u001b[32m[I 2023-03-15 19:16:09,828]\u001b[0m Trial 158 finished with value: 0.5649546827794562 and parameters: {'max_depth': 12, 'min_samples_split': 7, 'min_samples_leaf': 18, 'criterion': 'entropy'}. Best is trial 45 with value: 0.5889763779527559.\u001b[0m\n",
      "\u001b[32m[I 2023-03-15 19:16:09,867]\u001b[0m Trial 159 finished with value: 0.5824 and parameters: {'max_depth': 7, 'min_samples_split': 6, 'min_samples_leaf': 19, 'criterion': 'entropy'}. Best is trial 45 with value: 0.5889763779527559.\u001b[0m\n",
      "\u001b[32m[I 2023-03-15 19:16:09,899]\u001b[0m Trial 160 finished with value: 0.5107913669064749 and parameters: {'max_depth': 4, 'min_samples_split': 5, 'min_samples_leaf': 21, 'criterion': 'entropy'}. Best is trial 45 with value: 0.5889763779527559.\u001b[0m\n",
      "\u001b[32m[I 2023-03-15 19:16:09,941]\u001b[0m Trial 161 finished with value: 0.5705614567526556 and parameters: {'max_depth': 9, 'min_samples_split': 6, 'min_samples_leaf': 18, 'criterion': 'entropy'}. Best is trial 45 with value: 0.5889763779527559.\u001b[0m\n",
      "\u001b[32m[I 2023-03-15 19:16:09,982]\u001b[0m Trial 162 finished with value: 0.5878594249201278 and parameters: {'max_depth': 8, 'min_samples_split': 12, 'min_samples_leaf': 16, 'criterion': 'entropy'}. Best is trial 45 with value: 0.5889763779527559.\u001b[0m\n",
      "\u001b[32m[I 2023-03-15 19:16:10,020]\u001b[0m Trial 163 finished with value: 0.5828025477707006 and parameters: {'max_depth': 7, 'min_samples_split': 11, 'min_samples_leaf': 16, 'criterion': 'entropy'}. Best is trial 45 with value: 0.5889763779527559.\u001b[0m\n",
      "\u001b[32m[I 2023-03-15 19:16:10,063]\u001b[0m Trial 164 finished with value: 0.5610859728506787 and parameters: {'max_depth': 10, 'min_samples_split': 12, 'min_samples_leaf': 18, 'criterion': 'entropy'}. Best is trial 45 with value: 0.5889763779527559.\u001b[0m\n",
      "\u001b[32m[I 2023-03-15 19:16:10,099]\u001b[0m Trial 165 finished with value: 0.5454545454545454 and parameters: {'max_depth': 6, 'min_samples_split': 9, 'min_samples_leaf': 12, 'criterion': 'entropy'}. Best is trial 45 with value: 0.5889763779527559.\u001b[0m\n",
      "\u001b[32m[I 2023-03-15 19:16:10,140]\u001b[0m Trial 166 finished with value: 0.5829307568438004 and parameters: {'max_depth': 8, 'min_samples_split': 10, 'min_samples_leaf': 17, 'criterion': 'entropy'}. Best is trial 45 with value: 0.5889763779527559.\u001b[0m\n",
      "\u001b[32m[I 2023-03-15 19:16:10,180]\u001b[0m Trial 167 finished with value: 0.5878594249201278 and parameters: {'max_depth': 8, 'min_samples_split': 4, 'min_samples_leaf': 16, 'criterion': 'entropy'}. Best is trial 45 with value: 0.5889763779527559.\u001b[0m\n",
      "\u001b[32m[I 2023-03-15 19:16:10,214]\u001b[0m Trial 168 finished with value: 0.5266903914590747 and parameters: {'max_depth': 5, 'min_samples_split': 5, 'min_samples_leaf': 15, 'criterion': 'entropy'}. Best is trial 45 with value: 0.5889763779527559.\u001b[0m\n",
      "\u001b[32m[I 2023-03-15 19:16:10,260]\u001b[0m Trial 169 finished with value: 0.5640243902439025 and parameters: {'max_depth': 11, 'min_samples_split': 4, 'min_samples_leaf': 16, 'criterion': 'entropy'}. Best is trial 45 with value: 0.5889763779527559.\u001b[0m\n"
     ]
    },
    {
     "name": "stderr",
     "output_type": "stream",
     "text": [
      "\u001b[32m[I 2023-03-15 19:16:10,298]\u001b[0m Trial 170 finished with value: 0.5736925515055468 and parameters: {'max_depth': 7, 'min_samples_split': 3, 'min_samples_leaf': 14, 'criterion': 'entropy'}. Best is trial 45 with value: 0.5889763779527559.\u001b[0m\n",
      "\u001b[32m[I 2023-03-15 19:16:10,340]\u001b[0m Trial 171 finished with value: 0.5705614567526556 and parameters: {'max_depth': 9, 'min_samples_split': 5, 'min_samples_leaf': 18, 'criterion': 'entropy'}. Best is trial 45 with value: 0.5889763779527559.\u001b[0m\n",
      "\u001b[32m[I 2023-03-15 19:16:10,381]\u001b[0m Trial 172 finished with value: 0.5852895148669797 and parameters: {'max_depth': 8, 'min_samples_split': 13, 'min_samples_leaf': 19, 'criterion': 'entropy'}. Best is trial 45 with value: 0.5889763779527559.\u001b[0m\n",
      "\u001b[32m[I 2023-03-15 19:16:10,427]\u001b[0m Trial 173 finished with value: 0.5640243902439025 and parameters: {'max_depth': 30, 'min_samples_split': 7, 'min_samples_leaf': 19, 'criterion': 'entropy'}. Best is trial 45 with value: 0.5889763779527559.\u001b[0m\n",
      "\u001b[32m[I 2023-03-15 19:16:10,468]\u001b[0m Trial 174 finished with value: 0.5855161787365177 and parameters: {'max_depth': 8, 'min_samples_split': 4, 'min_samples_leaf': 3, 'criterion': 'entropy'}. Best is trial 45 with value: 0.5889763779527559.\u001b[0m\n",
      "\u001b[32m[I 2023-03-15 19:16:10,504]\u001b[0m Trial 175 finished with value: 0.5379310344827586 and parameters: {'max_depth': 6, 'min_samples_split': 4, 'min_samples_leaf': 2, 'criterion': 'entropy'}. Best is trial 45 with value: 0.5889763779527559.\u001b[0m\n",
      "\u001b[32m[I 2023-03-15 19:16:10,549]\u001b[0m Trial 176 finished with value: 0.5557251908396946 and parameters: {'max_depth': 10, 'min_samples_split': 13, 'min_samples_leaf': 20, 'criterion': 'entropy'}. Best is trial 45 with value: 0.5889763779527559.\u001b[0m\n",
      "\u001b[32m[I 2023-03-15 19:16:10,589]\u001b[0m Trial 177 finished with value: 0.5852895148669797 and parameters: {'max_depth': 8, 'min_samples_split': 6, 'min_samples_leaf': 19, 'criterion': 'entropy'}. Best is trial 45 with value: 0.5889763779527559.\u001b[0m\n",
      "\u001b[32m[I 2023-03-15 19:16:10,640]\u001b[0m Trial 178 finished with value: 0.5211459754433834 and parameters: {'max_depth': 22, 'min_samples_split': 6, 'min_samples_leaf': 3, 'criterion': 'entropy'}. Best is trial 45 with value: 0.5889763779527559.\u001b[0m\n",
      "\u001b[32m[I 2023-03-15 19:16:10,679]\u001b[0m Trial 179 finished with value: 0.5773524720893142 and parameters: {'max_depth': 7, 'min_samples_split': 6, 'min_samples_leaf': 3, 'criterion': 'entropy'}. Best is trial 45 with value: 0.5889763779527559.\u001b[0m\n",
      "\u001b[32m[I 2023-03-15 19:16:10,726]\u001b[0m Trial 180 finished with value: 0.5640243902439025 and parameters: {'max_depth': 26, 'min_samples_split': 6, 'min_samples_leaf': 19, 'criterion': 'entropy'}. Best is trial 45 with value: 0.5889763779527559.\u001b[0m\n",
      "\u001b[32m[I 2023-03-15 19:16:10,768]\u001b[0m Trial 181 finished with value: 0.5852895148669797 and parameters: {'max_depth': 8, 'min_samples_split': 5, 'min_samples_leaf': 19, 'criterion': 'entropy'}. Best is trial 45 with value: 0.5889763779527559.\u001b[0m\n",
      "\u001b[32m[I 2023-03-15 19:16:10,810]\u001b[0m Trial 182 finished with value: 0.5784615384615384 and parameters: {'max_depth': 8, 'min_samples_split': 12, 'min_samples_leaf': 5, 'criterion': 'entropy'}. Best is trial 45 with value: 0.5889763779527559.\u001b[0m\n",
      "\u001b[32m[I 2023-03-15 19:16:10,853]\u001b[0m Trial 183 finished with value: 0.5644171779141104 and parameters: {'max_depth': 9, 'min_samples_split': 5, 'min_samples_leaf': 20, 'criterion': 'entropy'}. Best is trial 45 with value: 0.5889763779527559.\u001b[0m\n",
      "\u001b[32m[I 2023-03-15 19:16:10,898]\u001b[0m Trial 184 finished with value: 0.5649546827794562 and parameters: {'max_depth': 34, 'min_samples_split': 5, 'min_samples_leaf': 18, 'criterion': 'entropy'}. Best is trial 45 with value: 0.5889763779527559.\u001b[0m\n",
      "\u001b[32m[I 2023-03-15 19:16:10,940]\u001b[0m Trial 185 finished with value: 0.5852895148669797 and parameters: {'max_depth': 8, 'min_samples_split': 7, 'min_samples_leaf': 19, 'criterion': 'entropy'}. Best is trial 45 with value: 0.5889763779527559.\u001b[0m\n",
      "\u001b[32m[I 2023-03-15 19:16:10,976]\u001b[0m Trial 186 finished with value: 0.5438898450946643 and parameters: {'max_depth': 6, 'min_samples_split': 8, 'min_samples_leaf': 19, 'criterion': 'entropy'}. Best is trial 45 with value: 0.5889763779527559.\u001b[0m\n",
      "\u001b[32m[I 2023-03-15 19:16:11,015]\u001b[0m Trial 187 finished with value: 0.5755627009646302 and parameters: {'max_depth': 7, 'min_samples_split': 7, 'min_samples_leaf': 20, 'criterion': 'entropy'}. Best is trial 45 with value: 0.5889763779527559.\u001b[0m\n",
      "\u001b[32m[I 2023-03-15 19:16:11,059]\u001b[0m Trial 188 finished with value: 0.5552147239263804 and parameters: {'max_depth': 10, 'min_samples_split': 7, 'min_samples_leaf': 22, 'criterion': 'entropy'}. Best is trial 45 with value: 0.5889763779527559.\u001b[0m\n",
      "\u001b[32m[I 2023-03-15 19:16:11,101]\u001b[0m Trial 189 finished with value: 0.5705614567526556 and parameters: {'max_depth': 9, 'min_samples_split': 6, 'min_samples_leaf': 18, 'criterion': 'entropy'}. Best is trial 45 with value: 0.5889763779527559.\u001b[0m\n",
      "\u001b[32m[I 2023-03-15 19:16:11,137]\u001b[0m Trial 190 finished with value: 0.5266903914590747 and parameters: {'max_depth': 5, 'min_samples_split': 8, 'min_samples_leaf': 19, 'criterion': 'entropy'}. Best is trial 45 with value: 0.5889763779527559.\u001b[0m\n",
      "\u001b[32m[I 2023-03-15 19:16:11,178]\u001b[0m Trial 191 finished with value: 0.578125 and parameters: {'max_depth': 8, 'min_samples_split': 5, 'min_samples_leaf': 21, 'criterion': 'entropy'}. Best is trial 45 with value: 0.5889763779527559.\u001b[0m\n",
      "\u001b[32m[I 2023-03-15 19:16:11,221]\u001b[0m Trial 192 finished with value: 0.5852895148669797 and parameters: {'max_depth': 8, 'min_samples_split': 6, 'min_samples_leaf': 19, 'criterion': 'entropy'}. Best is trial 45 with value: 0.5889763779527559.\u001b[0m\n",
      "\u001b[32m[I 2023-03-15 19:16:11,264]\u001b[0m Trial 193 finished with value: 0.5696784073506891 and parameters: {'max_depth': 9, 'min_samples_split': 7, 'min_samples_leaf': 19, 'criterion': 'entropy'}. Best is trial 45 with value: 0.5889763779527559.\u001b[0m\n",
      "\u001b[32m[I 2023-03-15 19:16:11,302]\u001b[0m Trial 194 finished with value: 0.5755627009646302 and parameters: {'max_depth': 7, 'min_samples_split': 6, 'min_samples_leaf': 20, 'criterion': 'entropy'}. Best is trial 45 with value: 0.5889763779527559.\u001b[0m\n",
      "\u001b[32m[I 2023-03-15 19:16:11,344]\u001b[0m Trial 195 finished with value: 0.5852895148669797 and parameters: {'max_depth': 8, 'min_samples_split': 7, 'min_samples_leaf': 18, 'criterion': 'entropy'}. Best is trial 45 with value: 0.5889763779527559.\u001b[0m\n",
      "\u001b[32m[I 2023-03-15 19:16:11,383]\u001b[0m Trial 196 finished with value: 0.5824 and parameters: {'max_depth': 7, 'min_samples_split': 9, 'min_samples_leaf': 19, 'criterion': 'entropy'}. Best is trial 45 with value: 0.5889763779527559.\u001b[0m\n",
      "\u001b[32m[I 2023-03-15 19:16:11,427]\u001b[0m Trial 197 finished with value: 0.5780525502318393 and parameters: {'max_depth': 9, 'min_samples_split': 5, 'min_samples_leaf': 17, 'criterion': 'entropy'}. Best is trial 45 with value: 0.5889763779527559.\u001b[0m\n",
      "\u001b[32m[I 2023-03-15 19:16:11,470]\u001b[0m Trial 198 finished with value: 0.5610859728506787 and parameters: {'max_depth': 10, 'min_samples_split': 6, 'min_samples_leaf': 18, 'criterion': 'entropy'}. Best is trial 45 with value: 0.5889763779527559.\u001b[0m\n",
      "\u001b[32m[I 2023-03-15 19:16:11,515]\u001b[0m Trial 199 finished with value: 0.558641975308642 and parameters: {'max_depth': 11, 'min_samples_split': 10, 'min_samples_leaf': 20, 'criterion': 'entropy'}. Best is trial 45 with value: 0.5889763779527559.\u001b[0m\n"
     ]
    },
    {
     "name": "stdout",
     "output_type": "stream",
     "text": [
      "Best trial:\n",
      "  Score: 0.589\n",
      "  Params: \n",
      "    max_depth: 7\n",
      "    min_samples_split: 20\n",
      "    min_samples_leaf: 25\n",
      "    criterion: gini\n"
     ]
    }
   ],
   "source": [
    "study = optuna.create_study(direction='maximize')\n",
    "\n",
    "study.optimize(objective, n_trials=200)\n",
    "\n",
    "print('Best trial:')\n",
    "trial = study.best_trial\n",
    "print(f'  Score: {trial.value:.3f}')\n",
    "print('  Params: ')\n",
    "for key, value in trial.params.items():\n",
    "    print(f'    {key}: {value}')"
   ]
  },
  {
   "cell_type": "code",
   "execution_count": 47,
   "metadata": {},
   "outputs": [
    {
     "data": {
      "text/plain": [
       "DecisionTreeClassifier(max_depth=7, min_samples_leaf=25, min_samples_split=20,\n",
       "                       random_state=322)"
      ]
     },
     "execution_count": 47,
     "metadata": {},
     "output_type": "execute_result"
    }
   ],
   "source": [
    "dtc_up = DecisionTreeClassifier(max_depth=7,\n",
    "                                    min_samples_split=20,\n",
    "                                    min_samples_leaf=25,\n",
    "                                    criterion='gini',\n",
    "                                    random_state=322)\n",
    "\n",
    "dtc_up.fit(features_upsampled, target_upsampled)"
   ]
  },
  {
   "cell_type": "code",
   "execution_count": 48,
   "metadata": {},
   "outputs": [
    {
     "data": {
      "text/plain": [
       "0.84"
      ]
     },
     "execution_count": 48,
     "metadata": {},
     "output_type": "execute_result"
    }
   ],
   "source": [
    "prob_one_valid = dtc_up.predict_proba(features_valid)[:, 1]\n",
    "roc_auc_score(target_valid, prob_one_valid).round(3)"
   ]
  },
  {
   "cell_type": "markdown",
   "metadata": {},
   "source": [
    "### Downsampling"
   ]
  },
  {
   "cell_type": "markdown",
   "metadata": {},
   "source": [
    "Теперь применим downsampling. По аналогии уменьшим количество объектов с большим классом."
   ]
  },
  {
   "cell_type": "code",
   "execution_count": 49,
   "metadata": {},
   "outputs": [],
   "source": [
    "features_downsampled = pd.concat(\n",
    "    [features_zeros.sample(frac=0.35, random_state=12345)] + [features_ones])\n",
    "target_downsampled = pd.concat(\n",
    "    [target_zeros.sample(frac=0.35, random_state=12345)] + [target_ones])\n",
    "    \n",
    "features_downsampled, target_downsampled = shuffle(\n",
    "    features_downsampled, target_downsampled, random_state=12345)"
   ]
  },
  {
   "cell_type": "markdown",
   "metadata": {},
   "source": [
    "#### Случайный лес"
   ]
  },
  {
   "cell_type": "code",
   "execution_count": 50,
   "metadata": {},
   "outputs": [],
   "source": [
    "def objective(trial):\n",
    "    n_estimators = trial.suggest_int('n_estimators', 20, 150)\n",
    "    max_depth = trial.suggest_int('max_depth', 2, 30)\n",
    "    min_samples_split = trial.suggest_int('min_samples_split', 2, 10)\n",
    "    min_samples_leaf = trial.suggest_int('min_samples_leaf', 1, 10)\n",
    "    criterion = trial.suggest_categorical('criterion', ['gini', 'entropy'])\n",
    "\n",
    "    rfc = RandomForestClassifier(n_estimators=n_estimators,\n",
    "                                   max_depth=max_depth,\n",
    "                                   min_samples_split=min_samples_split,\n",
    "                                   min_samples_leaf=min_samples_leaf,\n",
    "                                   criterion=criterion,\n",
    "                                   random_state=322)\n",
    "\n",
    "    rfc.fit(features_downsampled, target_downsampled)\n",
    "\n",
    "    predicted_valid = rfc.predict(features_valid)\n",
    "\n",
    "    f1 = f1_score(predicted_valid, target_valid)\n",
    "    return f1"
   ]
  },
  {
   "cell_type": "code",
   "execution_count": 51,
   "metadata": {
    "scrolled": true
   },
   "outputs": [
    {
     "name": "stderr",
     "output_type": "stream",
     "text": [
      "\u001b[32m[I 2023-03-15 19:21:37,015]\u001b[0m A new study created in memory with name: no-name-ce7f5eb7-a1b2-4db6-9ac7-3ed1ca06d06f\u001b[0m\n",
      "\u001b[32m[I 2023-03-15 19:21:37,232]\u001b[0m Trial 0 finished with value: 0.5479930191972077 and parameters: {'n_estimators': 90, 'max_depth': 24, 'min_samples_split': 7, 'min_samples_leaf': 6, 'criterion': 'entropy'}. Best is trial 0 with value: 0.5479930191972077.\u001b[0m\n",
      "\u001b[32m[I 2023-03-15 19:21:37,452]\u001b[0m Trial 1 finished with value: 0.5512367491166078 and parameters: {'n_estimators': 106, 'max_depth': 23, 'min_samples_split': 4, 'min_samples_leaf': 7, 'criterion': 'gini'}. Best is trial 1 with value: 0.5512367491166078.\u001b[0m\n",
      "\u001b[32m[I 2023-03-15 19:21:37,534]\u001b[0m Trial 2 finished with value: 0.5479930191972077 and parameters: {'n_estimators': 38, 'max_depth': 19, 'min_samples_split': 3, 'min_samples_leaf': 7, 'criterion': 'gini'}. Best is trial 1 with value: 0.5512367491166078.\u001b[0m\n",
      "\u001b[32m[I 2023-03-15 19:21:37,615]\u001b[0m Trial 3 finished with value: 0.5197132616487455 and parameters: {'n_estimators': 38, 'max_depth': 23, 'min_samples_split': 7, 'min_samples_leaf': 10, 'criterion': 'gini'}. Best is trial 1 with value: 0.5512367491166078.\u001b[0m\n",
      "\u001b[32m[I 2023-03-15 19:21:37,818]\u001b[0m Trial 4 finished with value: 0.5593220338983051 and parameters: {'n_estimators': 90, 'max_depth': 26, 'min_samples_split': 9, 'min_samples_leaf': 1, 'criterion': 'gini'}. Best is trial 4 with value: 0.5593220338983051.\u001b[0m\n",
      "\u001b[32m[I 2023-03-15 19:21:37,904]\u001b[0m Trial 5 finished with value: 0.5268630849220104 and parameters: {'n_estimators': 34, 'max_depth': 27, 'min_samples_split': 9, 'min_samples_leaf': 6, 'criterion': 'entropy'}. Best is trial 4 with value: 0.5593220338983051.\u001b[0m\n",
      "\u001b[32m[I 2023-03-15 19:21:38,230]\u001b[0m Trial 6 finished with value: 0.5523156089193826 and parameters: {'n_estimators': 141, 'max_depth': 12, 'min_samples_split': 4, 'min_samples_leaf': 1, 'criterion': 'gini'}. Best is trial 4 with value: 0.5593220338983051.\u001b[0m\n",
      "\u001b[32m[I 2023-03-15 19:21:38,314]\u001b[0m Trial 7 finished with value: 0.5246478873239436 and parameters: {'n_estimators': 37, 'max_depth': 24, 'min_samples_split': 6, 'min_samples_leaf': 6, 'criterion': 'gini'}. Best is trial 4 with value: 0.5593220338983051.\u001b[0m\n",
      "\u001b[32m[I 2023-03-15 19:21:38,533]\u001b[0m Trial 8 finished with value: 0.5300353356890459 and parameters: {'n_estimators': 94, 'max_depth': 27, 'min_samples_split': 2, 'min_samples_leaf': 9, 'criterion': 'entropy'}. Best is trial 4 with value: 0.5593220338983051.\u001b[0m\n",
      "\u001b[32m[I 2023-03-15 19:21:38,803]\u001b[0m Trial 9 finished with value: 0.5316901408450704 and parameters: {'n_estimators': 115, 'max_depth': 21, 'min_samples_split': 4, 'min_samples_leaf': 7, 'criterion': 'entropy'}. Best is trial 4 with value: 0.5593220338983051.\u001b[0m\n",
      "\u001b[32m[I 2023-03-15 19:21:38,909]\u001b[0m Trial 10 finished with value: 0.21153846153846156 and parameters: {'n_estimators': 65, 'max_depth': 3, 'min_samples_split': 10, 'min_samples_leaf': 2, 'criterion': 'gini'}. Best is trial 4 with value: 0.5593220338983051.\u001b[0m\n",
      "\u001b[32m[I 2023-03-15 19:21:39,254]\u001b[0m Trial 11 finished with value: 0.5587734241908007 and parameters: {'n_estimators': 144, 'max_depth': 11, 'min_samples_split': 5, 'min_samples_leaf': 1, 'criterion': 'gini'}. Best is trial 4 with value: 0.5593220338983051.\u001b[0m\n",
      "\u001b[32m[I 2023-03-15 19:21:39,595]\u001b[0m Trial 12 finished with value: 0.5519591141396933 and parameters: {'n_estimators': 150, 'max_depth': 13, 'min_samples_split': 6, 'min_samples_leaf': 3, 'criterion': 'gini'}. Best is trial 4 with value: 0.5593220338983051.\u001b[0m\n",
      "\u001b[32m[I 2023-03-15 19:21:39,845]\u001b[0m Trial 13 finished with value: 0.5207956600361663 and parameters: {'n_estimators': 127, 'max_depth': 7, 'min_samples_split': 8, 'min_samples_leaf': 4, 'criterion': 'gini'}. Best is trial 4 with value: 0.5593220338983051.\u001b[0m\n",
      "\u001b[32m[I 2023-03-15 19:21:40,004]\u001b[0m Trial 14 finished with value: 0.547008547008547 and parameters: {'n_estimators': 66, 'max_depth': 15, 'min_samples_split': 10, 'min_samples_leaf': 1, 'criterion': 'gini'}. Best is trial 4 with value: 0.5593220338983051.\u001b[0m\n",
      "\u001b[32m[I 2023-03-15 19:21:40,161]\u001b[0m Trial 15 finished with value: 0.5519591141396933 and parameters: {'n_estimators': 65, 'max_depth': 30, 'min_samples_split': 5, 'min_samples_leaf': 4, 'criterion': 'gini'}. Best is trial 4 with value: 0.5593220338983051.\u001b[0m\n",
      "\u001b[32m[I 2023-03-15 19:21:40,436]\u001b[0m Trial 16 finished with value: 0.5448154657293498 and parameters: {'n_estimators': 130, 'max_depth': 9, 'min_samples_split': 8, 'min_samples_leaf': 3, 'criterion': 'gini'}. Best is trial 4 with value: 0.5593220338983051.\u001b[0m\n",
      "\u001b[32m[I 2023-03-15 19:21:40,633]\u001b[0m Trial 17 finished with value: 0.5593220338983051 and parameters: {'n_estimators': 77, 'max_depth': 18, 'min_samples_split': 5, 'min_samples_leaf': 1, 'criterion': 'gini'}. Best is trial 4 with value: 0.5593220338983051.\u001b[0m\n",
      "\u001b[32m[I 2023-03-15 19:21:40,841]\u001b[0m Trial 18 finished with value: 0.5275862068965518 and parameters: {'n_estimators': 77, 'max_depth': 18, 'min_samples_split': 9, 'min_samples_leaf': 3, 'criterion': 'entropy'}. Best is trial 4 with value: 0.5593220338983051.\u001b[0m\n",
      "\u001b[32m[I 2023-03-15 19:21:40,987]\u001b[0m Trial 19 finished with value: 0.5621805792163543 and parameters: {'n_estimators': 57, 'max_depth': 16, 'min_samples_split': 6, 'min_samples_leaf': 2, 'criterion': 'gini'}. Best is trial 19 with value: 0.5621805792163543.\u001b[0m\n",
      "\u001b[32m[I 2023-03-15 19:21:41,135]\u001b[0m Trial 20 finished with value: 0.5426621160409556 and parameters: {'n_estimators': 60, 'max_depth': 30, 'min_samples_split': 7, 'min_samples_leaf': 4, 'criterion': 'gini'}. Best is trial 19 with value: 0.5621805792163543.\u001b[0m\n",
      "\u001b[32m[I 2023-03-15 19:21:41,264]\u001b[0m Trial 21 finished with value: 0.5531197301854975 and parameters: {'n_estimators': 50, 'max_depth': 16, 'min_samples_split': 5, 'min_samples_leaf': 2, 'criterion': 'gini'}. Best is trial 19 with value: 0.5621805792163543.\u001b[0m\n",
      "\u001b[32m[I 2023-03-15 19:21:41,458]\u001b[0m Trial 22 finished with value: 0.5563139931740615 and parameters: {'n_estimators': 81, 'max_depth': 19, 'min_samples_split': 6, 'min_samples_leaf': 2, 'criterion': 'gini'}. Best is trial 19 with value: 0.5621805792163543.\u001b[0m\n",
      "\u001b[32m[I 2023-03-15 19:21:41,701]\u001b[0m Trial 23 finished with value: 0.5714285714285714 and parameters: {'n_estimators': 102, 'max_depth': 15, 'min_samples_split': 8, 'min_samples_leaf': 1, 'criterion': 'gini'}. Best is trial 23 with value: 0.5714285714285714.\u001b[0m\n",
      "\u001b[32m[I 2023-03-15 19:21:41,947]\u001b[0m Trial 24 finished with value: 0.5494880546075085 and parameters: {'n_estimators': 106, 'max_depth': 15, 'min_samples_split': 9, 'min_samples_leaf': 2, 'criterion': 'gini'}. Best is trial 23 with value: 0.5714285714285714.\u001b[0m\n",
      "\u001b[32m[I 2023-03-15 19:21:42,003]\u001b[0m Trial 25 finished with value: 0.5486725663716814 and parameters: {'n_estimators': 20, 'max_depth': 8, 'min_samples_split': 8, 'min_samples_leaf': 1, 'criterion': 'gini'}. Best is trial 23 with value: 0.5714285714285714.\u001b[0m\n",
      "\u001b[32m[I 2023-03-15 19:21:42,194]\u001b[0m Trial 26 finished with value: 0.3975155279503106 and parameters: {'n_estimators': 100, 'max_depth': 5, 'min_samples_split': 8, 'min_samples_leaf': 3, 'criterion': 'entropy'}. Best is trial 23 with value: 0.5714285714285714.\u001b[0m\n",
      "\u001b[32m[I 2023-03-15 19:21:42,461]\u001b[0m Trial 27 finished with value: 0.555366269165247 and parameters: {'n_estimators': 116, 'max_depth': 14, 'min_samples_split': 10, 'min_samples_leaf': 2, 'criterion': 'gini'}. Best is trial 23 with value: 0.5714285714285714.\u001b[0m\n",
      "\u001b[32m[I 2023-03-15 19:21:42,654]\u001b[0m Trial 28 finished with value: 0.5435168738898757 and parameters: {'n_estimators': 86, 'max_depth': 11, 'min_samples_split': 7, 'min_samples_leaf': 5, 'criterion': 'gini'}. Best is trial 23 with value: 0.5714285714285714.\u001b[0m\n",
      "\u001b[32m[I 2023-03-15 19:21:42,895]\u001b[0m Trial 29 finished with value: 0.5460869565217391 and parameters: {'n_estimators': 92, 'max_depth': 21, 'min_samples_split': 7, 'min_samples_leaf': 5, 'criterion': 'entropy'}. Best is trial 23 with value: 0.5714285714285714.\u001b[0m\n",
      "\u001b[32m[I 2023-03-15 19:21:43,032]\u001b[0m Trial 30 finished with value: 0.5478991596638655 and parameters: {'n_estimators': 53, 'max_depth': 27, 'min_samples_split': 9, 'min_samples_leaf': 1, 'criterion': 'gini'}. Best is trial 23 with value: 0.5714285714285714.\u001b[0m\n"
     ]
    },
    {
     "name": "stderr",
     "output_type": "stream",
     "text": [
      "\u001b[32m[I 2023-03-15 19:21:43,223]\u001b[0m Trial 31 finished with value: 0.5602716468590832 and parameters: {'n_estimators': 75, 'max_depth': 18, 'min_samples_split': 5, 'min_samples_leaf': 1, 'criterion': 'gini'}. Best is trial 23 with value: 0.5714285714285714.\u001b[0m\n",
      "\u001b[32m[I 2023-03-15 19:21:43,408]\u001b[0m Trial 32 finished with value: 0.549828178694158 and parameters: {'n_estimators': 75, 'max_depth': 21, 'min_samples_split': 6, 'min_samples_leaf': 2, 'criterion': 'gini'}. Best is trial 23 with value: 0.5714285714285714.\u001b[0m\n",
      "\u001b[32m[I 2023-03-15 19:21:43,643]\u001b[0m Trial 33 finished with value: 0.555366269165247 and parameters: {'n_estimators': 96, 'max_depth': 18, 'min_samples_split': 6, 'min_samples_leaf': 1, 'criterion': 'gini'}. Best is trial 23 with value: 0.5714285714285714.\u001b[0m\n",
      "\u001b[32m[I 2023-03-15 19:21:43,857]\u001b[0m Trial 34 finished with value: 0.5466893039049237 and parameters: {'n_estimators': 87, 'max_depth': 16, 'min_samples_split': 4, 'min_samples_leaf': 2, 'criterion': 'gini'}. Best is trial 23 with value: 0.5714285714285714.\u001b[0m\n",
      "\u001b[32m[I 2023-03-15 19:21:44,116]\u001b[0m Trial 35 finished with value: 0.5479452054794521 and parameters: {'n_estimators': 110, 'max_depth': 22, 'min_samples_split': 7, 'min_samples_leaf': 3, 'criterion': 'gini'}. Best is trial 23 with value: 0.5714285714285714.\u001b[0m\n",
      "\u001b[32m[I 2023-03-15 19:21:44,248]\u001b[0m Trial 36 finished with value: 0.5518394648829431 and parameters: {'n_estimators': 49, 'max_depth': 25, 'min_samples_split': 3, 'min_samples_leaf': 1, 'criterion': 'gini'}. Best is trial 23 with value: 0.5714285714285714.\u001b[0m\n",
      "\u001b[32m[I 2023-03-15 19:21:44,415]\u001b[0m Trial 37 finished with value: 0.5413005272407733 and parameters: {'n_estimators': 73, 'max_depth': 16, 'min_samples_split': 9, 'min_samples_leaf': 8, 'criterion': 'gini'}. Best is trial 23 with value: 0.5714285714285714.\u001b[0m\n",
      "\u001b[32m[I 2023-03-15 19:21:44,686]\u001b[0m Trial 38 finished with value: 0.5383304940374787 and parameters: {'n_estimators': 100, 'max_depth': 25, 'min_samples_split': 8, 'min_samples_leaf': 2, 'criterion': 'entropy'}. Best is trial 23 with value: 0.5714285714285714.\u001b[0m\n",
      "\u001b[32m[I 2023-03-15 19:21:44,825]\u001b[0m Trial 39 finished with value: 0.5549738219895287 and parameters: {'n_estimators': 57, 'max_depth': 10, 'min_samples_split': 4, 'min_samples_leaf': 1, 'criterion': 'gini'}. Best is trial 23 with value: 0.5714285714285714.\u001b[0m\n",
      "\u001b[32m[I 2023-03-15 19:21:44,952]\u001b[0m Trial 40 finished with value: 0.5512605042016806 and parameters: {'n_estimators': 47, 'max_depth': 13, 'min_samples_split': 3, 'min_samples_leaf': 3, 'criterion': 'gini'}. Best is trial 23 with value: 0.5714285714285714.\u001b[0m\n",
      "\u001b[32m[I 2023-03-15 19:21:45,132]\u001b[0m Trial 41 finished with value: 0.5632377740303541 and parameters: {'n_estimators': 71, 'max_depth': 18, 'min_samples_split': 5, 'min_samples_leaf': 1, 'criterion': 'gini'}. Best is trial 23 with value: 0.5714285714285714.\u001b[0m\n",
      "\u001b[32m[I 2023-03-15 19:21:45,309]\u001b[0m Trial 42 finished with value: 0.5538461538461538 and parameters: {'n_estimators': 69, 'max_depth': 20, 'min_samples_split': 5, 'min_samples_leaf': 1, 'criterion': 'gini'}. Best is trial 23 with value: 0.5714285714285714.\u001b[0m\n",
      "\u001b[32m[I 2023-03-15 19:21:45,507]\u001b[0m Trial 43 finished with value: 0.5516074450084603 and parameters: {'n_estimators': 81, 'max_depth': 17, 'min_samples_split': 6, 'min_samples_leaf': 2, 'criterion': 'gini'}. Best is trial 23 with value: 0.5714285714285714.\u001b[0m\n",
      "\u001b[32m[I 2023-03-15 19:21:45,619]\u001b[0m Trial 44 finished with value: 0.5538971807628524 and parameters: {'n_estimators': 41, 'max_depth': 23, 'min_samples_split': 4, 'min_samples_leaf': 1, 'criterion': 'gini'}. Best is trial 23 with value: 0.5714285714285714.\u001b[0m\n",
      "\u001b[32m[I 2023-03-15 19:21:45,800]\u001b[0m Trial 45 finished with value: 0.518918918918919 and parameters: {'n_estimators': 83, 'max_depth': 14, 'min_samples_split': 5, 'min_samples_leaf': 10, 'criterion': 'gini'}. Best is trial 23 with value: 0.5714285714285714.\u001b[0m\n",
      "\u001b[32m[I 2023-03-15 19:21:45,972]\u001b[0m Trial 46 finished with value: 0.5574324324324325 and parameters: {'n_estimators': 59, 'max_depth': 19, 'min_samples_split': 6, 'min_samples_leaf': 1, 'criterion': 'entropy'}. Best is trial 23 with value: 0.5714285714285714.\u001b[0m\n",
      "\u001b[32m[I 2023-03-15 19:21:46,171]\u001b[0m Trial 47 finished with value: 0.5298245614035088 and parameters: {'n_estimators': 89, 'max_depth': 12, 'min_samples_split': 7, 'min_samples_leaf': 7, 'criterion': 'gini'}. Best is trial 23 with value: 0.5714285714285714.\u001b[0m\n",
      "\u001b[32m[I 2023-03-15 19:21:46,257]\u001b[0m Trial 48 finished with value: 0.5427631578947368 and parameters: {'n_estimators': 30, 'max_depth': 28, 'min_samples_split': 4, 'min_samples_leaf': 2, 'criterion': 'gini'}. Best is trial 23 with value: 0.5714285714285714.\u001b[0m\n",
      "\u001b[32m[I 2023-03-15 19:21:46,556]\u001b[0m Trial 49 finished with value: 0.5540540540540541 and parameters: {'n_estimators': 121, 'max_depth': 17, 'min_samples_split': 2, 'min_samples_leaf': 1, 'criterion': 'gini'}. Best is trial 23 with value: 0.5714285714285714.\u001b[0m\n",
      "\u001b[32m[I 2023-03-15 19:21:46,710]\u001b[0m Trial 50 finished with value: 0.5223613595706619 and parameters: {'n_estimators': 68, 'max_depth': 20, 'min_samples_split': 10, 'min_samples_leaf': 9, 'criterion': 'gini'}. Best is trial 23 with value: 0.5714285714285714.\u001b[0m\n",
      "\u001b[32m[I 2023-03-15 19:21:46,904]\u001b[0m Trial 51 finished with value: 0.5593220338983051 and parameters: {'n_estimators': 77, 'max_depth': 18, 'min_samples_split': 5, 'min_samples_leaf': 1, 'criterion': 'gini'}. Best is trial 23 with value: 0.5714285714285714.\u001b[0m\n",
      "\u001b[32m[I 2023-03-15 19:21:47,140]\u001b[0m Trial 52 finished with value: 0.5579831932773109 and parameters: {'n_estimators': 98, 'max_depth': 15, 'min_samples_split': 5, 'min_samples_leaf': 2, 'criterion': 'gini'}. Best is trial 23 with value: 0.5714285714285714.\u001b[0m\n",
      "\u001b[32m[I 2023-03-15 19:21:47,300]\u001b[0m Trial 53 finished with value: 0.5570469798657719 and parameters: {'n_estimators': 62, 'max_depth': 17, 'min_samples_split': 5, 'min_samples_leaf': 1, 'criterion': 'gini'}. Best is trial 23 with value: 0.5714285714285714.\u001b[0m\n",
      "\u001b[32m[I 2023-03-15 19:21:47,560]\u001b[0m Trial 54 finished with value: 0.567062818336163 and parameters: {'n_estimators': 106, 'max_depth': 23, 'min_samples_split': 5, 'min_samples_leaf': 1, 'criterion': 'gini'}. Best is trial 23 with value: 0.5714285714285714.\u001b[0m\n",
      "\u001b[32m[I 2023-03-15 19:21:47,810]\u001b[0m Trial 55 finished with value: 0.5606837606837606 and parameters: {'n_estimators': 105, 'max_depth': 25, 'min_samples_split': 6, 'min_samples_leaf': 2, 'criterion': 'gini'}. Best is trial 23 with value: 0.5714285714285714.\u001b[0m\n",
      "\u001b[32m[I 2023-03-15 19:21:48,058]\u001b[0m Trial 56 finished with value: 0.5606837606837606 and parameters: {'n_estimators': 105, 'max_depth': 22, 'min_samples_split': 6, 'min_samples_leaf': 3, 'criterion': 'gini'}. Best is trial 23 with value: 0.5714285714285714.\u001b[0m\n",
      "\u001b[32m[I 2023-03-15 19:21:48,303]\u001b[0m Trial 57 finished with value: 0.5684931506849314 and parameters: {'n_estimators': 106, 'max_depth': 24, 'min_samples_split': 6, 'min_samples_leaf': 4, 'criterion': 'gini'}. Best is trial 23 with value: 0.5714285714285714.\u001b[0m\n",
      "\u001b[32m[I 2023-03-15 19:21:48,593]\u001b[0m Trial 58 finished with value: 0.5517241379310345 and parameters: {'n_estimators': 112, 'max_depth': 24, 'min_samples_split': 6, 'min_samples_leaf': 4, 'criterion': 'entropy'}. Best is trial 23 with value: 0.5714285714285714.\u001b[0m\n",
      "\u001b[32m[I 2023-03-15 19:21:48,875]\u001b[0m Trial 59 finished with value: 0.5547703180212015 and parameters: {'n_estimators': 126, 'max_depth': 28, 'min_samples_split': 7, 'min_samples_leaf': 5, 'criterion': 'gini'}. Best is trial 23 with value: 0.5714285714285714.\u001b[0m\n",
      "\u001b[32m[I 2023-03-15 19:21:49,150]\u001b[0m Trial 60 finished with value: 0.5513698630136986 and parameters: {'n_estimators': 119, 'max_depth': 25, 'min_samples_split': 7, 'min_samples_leaf': 3, 'criterion': 'gini'}. Best is trial 23 with value: 0.5714285714285714.\u001b[0m\n",
      "\u001b[32m[I 2023-03-15 19:21:49,395]\u001b[0m Trial 61 finished with value: 0.5606837606837606 and parameters: {'n_estimators': 105, 'max_depth': 23, 'min_samples_split': 6, 'min_samples_leaf': 3, 'criterion': 'gini'}. Best is trial 23 with value: 0.5714285714285714.\u001b[0m\n",
      "\u001b[32m[I 2023-03-15 19:21:49,658]\u001b[0m Trial 62 finished with value: 0.5572649572649573 and parameters: {'n_estimators': 110, 'max_depth': 22, 'min_samples_split': 6, 'min_samples_leaf': 2, 'criterion': 'gini'}. Best is trial 23 with value: 0.5714285714285714.\u001b[0m\n"
     ]
    },
    {
     "name": "stderr",
     "output_type": "stream",
     "text": [
      "\u001b[32m[I 2023-03-15 19:21:49,897]\u001b[0m Trial 63 finished with value: 0.5620689655172414 and parameters: {'n_estimators': 103, 'max_depth': 24, 'min_samples_split': 6, 'min_samples_leaf': 4, 'criterion': 'gini'}. Best is trial 23 with value: 0.5714285714285714.\u001b[0m\n",
      "\u001b[32m[I 2023-03-15 19:21:50,202]\u001b[0m Trial 64 finished with value: 0.5532646048109966 and parameters: {'n_estimators': 135, 'max_depth': 26, 'min_samples_split': 5, 'min_samples_leaf': 4, 'criterion': 'gini'}. Best is trial 23 with value: 0.5714285714285714.\u001b[0m\n",
      "\u001b[32m[I 2023-03-15 19:21:50,415]\u001b[0m Trial 65 finished with value: 0.5222024866785079 and parameters: {'n_estimators': 94, 'max_depth': 24, 'min_samples_split': 6, 'min_samples_leaf': 6, 'criterion': 'gini'}. Best is trial 23 with value: 0.5714285714285714.\u001b[0m\n",
      "\u001b[32m[I 2023-03-15 19:21:50,651]\u001b[0m Trial 66 finished with value: 0.563573883161512 and parameters: {'n_estimators': 102, 'max_depth': 26, 'min_samples_split': 6, 'min_samples_leaf': 4, 'criterion': 'gini'}. Best is trial 23 with value: 0.5714285714285714.\u001b[0m\n",
      "\u001b[32m[I 2023-03-15 19:21:50,887]\u001b[0m Trial 67 finished with value: 0.563573883161512 and parameters: {'n_estimators': 102, 'max_depth': 29, 'min_samples_split': 5, 'min_samples_leaf': 4, 'criterion': 'gini'}. Best is trial 23 with value: 0.5714285714285714.\u001b[0m\n",
      "\u001b[32m[I 2023-03-15 19:21:51,146]\u001b[0m Trial 68 finished with value: 0.5537918871252205 and parameters: {'n_estimators': 114, 'max_depth': 29, 'min_samples_split': 5, 'min_samples_leaf': 5, 'criterion': 'gini'}. Best is trial 23 with value: 0.5714285714285714.\u001b[0m\n",
      "\u001b[32m[I 2023-03-15 19:21:51,449]\u001b[0m Trial 69 finished with value: 0.5530434782608695 and parameters: {'n_estimators': 119, 'max_depth': 29, 'min_samples_split': 4, 'min_samples_leaf': 5, 'criterion': 'entropy'}. Best is trial 23 with value: 0.5714285714285714.\u001b[0m\n",
      "\u001b[32m[I 2023-03-15 19:21:51,661]\u001b[0m Trial 70 finished with value: 0.5591766723842196 and parameters: {'n_estimators': 91, 'max_depth': 27, 'min_samples_split': 3, 'min_samples_leaf': 4, 'criterion': 'gini'}. Best is trial 23 with value: 0.5714285714285714.\u001b[0m\n",
      "\u001b[32m[I 2023-03-15 19:21:51,900]\u001b[0m Trial 71 finished with value: 0.563573883161512 and parameters: {'n_estimators': 102, 'max_depth': 26, 'min_samples_split': 5, 'min_samples_leaf': 4, 'criterion': 'gini'}. Best is trial 23 with value: 0.5714285714285714.\u001b[0m\n",
      "\u001b[32m[I 2023-03-15 19:21:52,130]\u001b[0m Trial 72 finished with value: 0.5547703180212015 and parameters: {'n_estimators': 101, 'max_depth': 26, 'min_samples_split': 5, 'min_samples_leaf': 5, 'criterion': 'gini'}. Best is trial 23 with value: 0.5714285714285714.\u001b[0m\n",
      "\u001b[32m[I 2023-03-15 19:21:52,383]\u001b[0m Trial 73 finished with value: 0.5621805792163543 and parameters: {'n_estimators': 110, 'max_depth': 28, 'min_samples_split': 5, 'min_samples_leaf': 4, 'criterion': 'gini'}. Best is trial 23 with value: 0.5714285714285714.\u001b[0m\n",
      "\u001b[32m[I 2023-03-15 19:21:52,606]\u001b[0m Trial 74 finished with value: 0.557659208261618 and parameters: {'n_estimators': 96, 'max_depth': 29, 'min_samples_split': 4, 'min_samples_leaf': 4, 'criterion': 'gini'}. Best is trial 23 with value: 0.5714285714285714.\u001b[0m\n",
      "\u001b[32m[I 2023-03-15 19:21:52,847]\u001b[0m Trial 75 finished with value: 0.530755711775044 and parameters: {'n_estimators': 108, 'max_depth': 27, 'min_samples_split': 4, 'min_samples_leaf': 6, 'criterion': 'gini'}. Best is trial 23 with value: 0.5714285714285714.\u001b[0m\n",
      "\u001b[32m[I 2023-03-15 19:21:53,122]\u001b[0m Trial 76 finished with value: 0.5563139931740615 and parameters: {'n_estimators': 116, 'max_depth': 30, 'min_samples_split': 5, 'min_samples_leaf': 3, 'criterion': 'gini'}. Best is trial 23 with value: 0.5714285714285714.\u001b[0m\n",
      "\u001b[32m[I 2023-03-15 19:21:53,360]\u001b[0m Trial 77 finished with value: 0.5626072041166381 and parameters: {'n_estimators': 99, 'max_depth': 26, 'min_samples_split': 5, 'min_samples_leaf': 4, 'criterion': 'gini'}. Best is trial 23 with value: 0.5714285714285714.\u001b[0m\n",
      "\u001b[32m[I 2023-03-15 19:21:53,592]\u001b[0m Trial 78 finished with value: 0.557659208261618 and parameters: {'n_estimators': 98, 'max_depth': 26, 'min_samples_split': 5, 'min_samples_leaf': 4, 'criterion': 'gini'}. Best is trial 23 with value: 0.5714285714285714.\u001b[0m\n",
      "\u001b[32m[I 2023-03-15 19:21:53,825]\u001b[0m Trial 79 finished with value: 0.552212389380531 and parameters: {'n_estimators': 102, 'max_depth': 26, 'min_samples_split': 5, 'min_samples_leaf': 5, 'criterion': 'gini'}. Best is trial 23 with value: 0.5714285714285714.\u001b[0m\n",
      "\u001b[32m[I 2023-03-15 19:21:54,049]\u001b[0m Trial 80 finished with value: 0.549828178694158 and parameters: {'n_estimators': 93, 'max_depth': 28, 'min_samples_split': 4, 'min_samples_leaf': 4, 'criterion': 'gini'}. Best is trial 23 with value: 0.5714285714285714.\u001b[0m\n",
      "\u001b[32m[I 2023-03-15 19:21:54,258]\u001b[0m Trial 81 finished with value: 0.5519591141396933 and parameters: {'n_estimators': 87, 'max_depth': 23, 'min_samples_split': 6, 'min_samples_leaf': 3, 'criterion': 'gini'}. Best is trial 23 with value: 0.5714285714285714.\u001b[0m\n",
      "\u001b[32m[I 2023-03-15 19:21:54,484]\u001b[0m Trial 82 finished with value: 0.552212389380531 and parameters: {'n_estimators': 98, 'max_depth': 14, 'min_samples_split': 6, 'min_samples_leaf': 5, 'criterion': 'gini'}. Best is trial 23 with value: 0.5714285714285714.\u001b[0m\n",
      "\u001b[32m[I 2023-03-15 19:21:54,742]\u001b[0m Trial 83 finished with value: 0.5616438356164384 and parameters: {'n_estimators': 108, 'max_depth': 25, 'min_samples_split': 7, 'min_samples_leaf': 4, 'criterion': 'gini'}. Best is trial 23 with value: 0.5714285714285714.\u001b[0m\n",
      "\u001b[32m[I 2023-03-15 19:21:55,024]\u001b[0m Trial 84 finished with value: 0.5597269624573378 and parameters: {'n_estimators': 124, 'max_depth': 20, 'min_samples_split': 6, 'min_samples_leaf': 4, 'criterion': 'gini'}. Best is trial 23 with value: 0.5714285714285714.\u001b[0m\n",
      "\u001b[32m[I 2023-03-15 19:21:55,279]\u001b[0m Trial 85 finished with value: 0.5534804753820033 and parameters: {'n_estimators': 89, 'max_depth': 27, 'min_samples_split': 5, 'min_samples_leaf': 1, 'criterion': 'entropy'}. Best is trial 23 with value: 0.5714285714285714.\u001b[0m\n",
      "\u001b[32m[I 2023-03-15 19:21:55,419]\u001b[0m Trial 86 finished with value: 0.5472972972972973 and parameters: {'n_estimators': 54, 'max_depth': 16, 'min_samples_split': 5, 'min_samples_leaf': 2, 'criterion': 'gini'}. Best is trial 23 with value: 0.5714285714285714.\u001b[0m\n",
      "\u001b[32m[I 2023-03-15 19:21:55,686]\u001b[0m Trial 87 finished with value: 0.5426621160409556 and parameters: {'n_estimators': 114, 'max_depth': 13, 'min_samples_split': 5, 'min_samples_leaf': 3, 'criterion': 'gini'}. Best is trial 23 with value: 0.5714285714285714.\u001b[0m\n",
      "\u001b[32m[I 2023-03-15 19:21:55,852]\u001b[0m Trial 88 finished with value: 0.5502645502645502 and parameters: {'n_estimators': 71, 'max_depth': 15, 'min_samples_split': 7, 'min_samples_leaf': 7, 'criterion': 'gini'}. Best is trial 23 with value: 0.5714285714285714.\u001b[0m\n",
      "\u001b[32m[I 2023-03-15 19:21:56,109]\u001b[0m Trial 89 finished with value: 0.5527638190954773 and parameters: {'n_estimators': 103, 'max_depth': 22, 'min_samples_split': 4, 'min_samples_leaf': 1, 'criterion': 'gini'}. Best is trial 23 with value: 0.5714285714285714.\u001b[0m\n",
      "\u001b[32m[I 2023-03-15 19:21:56,307]\u001b[0m Trial 90 finished with value: 0.5544217687074829 and parameters: {'n_estimators': 82, 'max_depth': 24, 'min_samples_split': 6, 'min_samples_leaf': 3, 'criterion': 'gini'}. Best is trial 23 with value: 0.5714285714285714.\u001b[0m\n",
      "\u001b[32m[I 2023-03-15 19:21:56,564]\u001b[0m Trial 91 finished with value: 0.5582191780821918 and parameters: {'n_estimators': 111, 'max_depth': 28, 'min_samples_split': 5, 'min_samples_leaf': 4, 'criterion': 'gini'}. Best is trial 23 with value: 0.5714285714285714.\u001b[0m\n",
      "\u001b[32m[I 2023-03-15 19:21:56,817]\u001b[0m Trial 92 finished with value: 0.5616438356164384 and parameters: {'n_estimators': 108, 'max_depth': 30, 'min_samples_split': 5, 'min_samples_leaf': 4, 'criterion': 'gini'}. Best is trial 23 with value: 0.5714285714285714.\u001b[0m\n",
      "\u001b[32m[I 2023-03-15 19:21:57,056]\u001b[0m Trial 93 finished with value: 0.557659208261618 and parameters: {'n_estimators': 96, 'max_depth': 29, 'min_samples_split': 5, 'min_samples_leaf': 4, 'criterion': 'gini'}. Best is trial 23 with value: 0.5714285714285714.\u001b[0m\n",
      "\u001b[32m[I 2023-03-15 19:21:57,289]\u001b[0m Trial 94 finished with value: 0.5203539823008849 and parameters: {'n_estimators': 100, 'max_depth': 28, 'min_samples_split': 5, 'min_samples_leaf': 6, 'criterion': 'gini'}. Best is trial 23 with value: 0.5714285714285714.\u001b[0m\n"
     ]
    },
    {
     "name": "stderr",
     "output_type": "stream",
     "text": [
      "\u001b[32m[I 2023-03-15 19:21:57,541]\u001b[0m Trial 95 finished with value: 0.556338028169014 and parameters: {'n_estimators': 107, 'max_depth': 25, 'min_samples_split': 6, 'min_samples_leaf': 5, 'criterion': 'gini'}. Best is trial 23 with value: 0.5714285714285714.\u001b[0m\n",
      "\u001b[32m[I 2023-03-15 19:21:57,639]\u001b[0m Trial 96 finished with value: 0.12626262626262627 and parameters: {'n_estimators': 63, 'max_depth': 2, 'min_samples_split': 4, 'min_samples_leaf': 2, 'criterion': 'gini'}. Best is trial 23 with value: 0.5714285714285714.\u001b[0m\n",
      "\u001b[32m[I 2023-03-15 19:21:57,924]\u001b[0m Trial 97 finished with value: 0.5699831365935919 and parameters: {'n_estimators': 113, 'max_depth': 26, 'min_samples_split': 6, 'min_samples_leaf': 1, 'criterion': 'gini'}. Best is trial 23 with value: 0.5714285714285714.\u001b[0m\n",
      "\u001b[32m[I 2023-03-15 19:21:58,058]\u001b[0m Trial 98 finished with value: 0.5417376490630323 and parameters: {'n_estimators': 43, 'max_depth': 27, 'min_samples_split': 7, 'min_samples_leaf': 1, 'criterion': 'entropy'}. Best is trial 23 with value: 0.5714285714285714.\u001b[0m\n",
      "\u001b[32m[I 2023-03-15 19:21:58,349]\u001b[0m Trial 99 finished with value: 0.567062818336163 and parameters: {'n_estimators': 117, 'max_depth': 23, 'min_samples_split': 6, 'min_samples_leaf': 1, 'criterion': 'gini'}. Best is trial 23 with value: 0.5714285714285714.\u001b[0m\n",
      "\u001b[32m[I 2023-03-15 19:21:58,661]\u001b[0m Trial 100 finished with value: 0.5617597292724197 and parameters: {'n_estimators': 131, 'max_depth': 23, 'min_samples_split': 6, 'min_samples_leaf': 1, 'criterion': 'gini'}. Best is trial 23 with value: 0.5714285714285714.\u001b[0m\n",
      "\u001b[32m[I 2023-03-15 19:21:58,950]\u001b[0m Trial 101 finished with value: 0.5617597292724197 and parameters: {'n_estimators': 118, 'max_depth': 26, 'min_samples_split': 6, 'min_samples_leaf': 1, 'criterion': 'gini'}. Best is trial 23 with value: 0.5714285714285714.\u001b[0m\n",
      "\u001b[32m[I 2023-03-15 19:21:59,244]\u001b[0m Trial 102 finished with value: 0.5534804753820033 and parameters: {'n_estimators': 121, 'max_depth': 21, 'min_samples_split': 6, 'min_samples_leaf': 1, 'criterion': 'gini'}. Best is trial 23 with value: 0.5714285714285714.\u001b[0m\n",
      "\u001b[32m[I 2023-03-15 19:21:59,495]\u001b[0m Trial 103 finished with value: 0.5454545454545454 and parameters: {'n_estimators': 104, 'max_depth': 19, 'min_samples_split': 8, 'min_samples_leaf': 2, 'criterion': 'gini'}. Best is trial 23 with value: 0.5714285714285714.\u001b[0m\n",
      "\u001b[32m[I 2023-03-15 19:21:59,767]\u001b[0m Trial 104 finished with value: 0.5704697986577181 and parameters: {'n_estimators': 112, 'max_depth': 24, 'min_samples_split': 6, 'min_samples_leaf': 1, 'criterion': 'gini'}. Best is trial 23 with value: 0.5714285714285714.\u001b[0m\n",
      "\u001b[32m[I 2023-03-15 19:22:00,056]\u001b[0m Trial 105 finished with value: 0.5699831365935919 and parameters: {'n_estimators': 113, 'max_depth': 24, 'min_samples_split': 6, 'min_samples_leaf': 1, 'criterion': 'gini'}. Best is trial 23 with value: 0.5714285714285714.\u001b[0m\n",
      "\u001b[32m[I 2023-03-15 19:22:00,346]\u001b[0m Trial 106 finished with value: 0.5704697986577181 and parameters: {'n_estimators': 112, 'max_depth': 24, 'min_samples_split': 6, 'min_samples_leaf': 1, 'criterion': 'gini'}. Best is trial 23 with value: 0.5714285714285714.\u001b[0m\n",
      "\u001b[32m[I 2023-03-15 19:22:00,639]\u001b[0m Trial 107 finished with value: 0.5699831365935919 and parameters: {'n_estimators': 113, 'max_depth': 24, 'min_samples_split': 6, 'min_samples_leaf': 1, 'criterion': 'gini'}. Best is trial 23 with value: 0.5714285714285714.\u001b[0m\n",
      "\u001b[32m[I 2023-03-15 19:22:00,918]\u001b[0m Trial 108 finished with value: 0.5485519591141397 and parameters: {'n_estimators': 114, 'max_depth': 24, 'min_samples_split': 7, 'min_samples_leaf': 1, 'criterion': 'gini'}. Best is trial 23 with value: 0.5714285714285714.\u001b[0m\n",
      "\u001b[32m[I 2023-03-15 19:22:01,191]\u001b[0m Trial 109 finished with value: 0.5704697986577181 and parameters: {'n_estimators': 112, 'max_depth': 24, 'min_samples_split': 6, 'min_samples_leaf': 1, 'criterion': 'gini'}. Best is trial 23 with value: 0.5714285714285714.\u001b[0m\n",
      "\u001b[32m[I 2023-03-15 19:22:01,485]\u001b[0m Trial 110 finished with value: 0.5627118644067796 and parameters: {'n_estimators': 122, 'max_depth': 22, 'min_samples_split': 6, 'min_samples_leaf': 1, 'criterion': 'gini'}. Best is trial 23 with value: 0.5714285714285714.\u001b[0m\n",
      "\u001b[32m[I 2023-03-15 19:22:01,762]\u001b[0m Trial 111 finished with value: 0.5699831365935919 and parameters: {'n_estimators': 113, 'max_depth': 23, 'min_samples_split': 6, 'min_samples_leaf': 1, 'criterion': 'gini'}. Best is trial 23 with value: 0.5714285714285714.\u001b[0m\n",
      "\u001b[32m[I 2023-03-15 19:22:02,044]\u001b[0m Trial 112 finished with value: 0.567062818336163 and parameters: {'n_estimators': 117, 'max_depth': 24, 'min_samples_split': 6, 'min_samples_leaf': 1, 'criterion': 'gini'}. Best is trial 23 with value: 0.5714285714285714.\u001b[0m\n",
      "\u001b[32m[I 2023-03-15 19:22:02,317]\u001b[0m Trial 113 finished with value: 0.5704697986577181 and parameters: {'n_estimators': 112, 'max_depth': 24, 'min_samples_split': 6, 'min_samples_leaf': 1, 'criterion': 'gini'}. Best is trial 23 with value: 0.5714285714285714.\u001b[0m\n",
      "\u001b[32m[I 2023-03-15 19:22:02,596]\u001b[0m Trial 114 finished with value: 0.5699831365935919 and parameters: {'n_estimators': 113, 'max_depth': 23, 'min_samples_split': 6, 'min_samples_leaf': 1, 'criterion': 'gini'}. Best is trial 23 with value: 0.5714285714285714.\u001b[0m\n",
      "\u001b[32m[I 2023-03-15 19:22:02,864]\u001b[0m Trial 115 finished with value: 0.552901023890785 and parameters: {'n_estimators': 112, 'max_depth': 23, 'min_samples_split': 7, 'min_samples_leaf': 1, 'criterion': 'gini'}. Best is trial 23 with value: 0.5714285714285714.\u001b[0m\n",
      "\u001b[32m[I 2023-03-15 19:22:03,172]\u001b[0m Trial 116 finished with value: 0.540447504302926 and parameters: {'n_estimators': 129, 'max_depth': 21, 'min_samples_split': 7, 'min_samples_leaf': 1, 'criterion': 'gini'}. Best is trial 23 with value: 0.5714285714285714.\u001b[0m\n",
      "\u001b[32m[I 2023-03-15 19:22:03,449]\u001b[0m Trial 117 finished with value: 0.5563139931740615 and parameters: {'n_estimators': 113, 'max_depth': 25, 'min_samples_split': 6, 'min_samples_leaf': 2, 'criterion': 'gini'}. Best is trial 23 with value: 0.5714285714285714.\u001b[0m\n",
      "\u001b[32m[I 2023-03-15 19:22:03,746]\u001b[0m Trial 118 finished with value: 0.5612244897959183 and parameters: {'n_estimators': 124, 'max_depth': 24, 'min_samples_split': 6, 'min_samples_leaf': 1, 'criterion': 'gini'}. Best is trial 23 with value: 0.5714285714285714.\u001b[0m\n",
      "\u001b[32m[I 2023-03-15 19:22:04,063]\u001b[0m Trial 119 finished with value: 0.5532646048109966 and parameters: {'n_estimators': 110, 'max_depth': 23, 'min_samples_split': 6, 'min_samples_leaf': 1, 'criterion': 'entropy'}. Best is trial 23 with value: 0.5714285714285714.\u001b[0m\n",
      "\u001b[32m[I 2023-03-15 19:22:04,352]\u001b[0m Trial 120 finished with value: 0.5608108108108109 and parameters: {'n_estimators': 120, 'max_depth': 25, 'min_samples_split': 6, 'min_samples_leaf': 1, 'criterion': 'gini'}. Best is trial 23 with value: 0.5714285714285714.\u001b[0m\n",
      "\u001b[32m[I 2023-03-15 19:22:04,635]\u001b[0m Trial 121 finished with value: 0.5704584040747029 and parameters: {'n_estimators': 116, 'max_depth': 22, 'min_samples_split': 6, 'min_samples_leaf': 1, 'criterion': 'gini'}. Best is trial 23 with value: 0.5714285714285714.\u001b[0m\n",
      "\u001b[32m[I 2023-03-15 19:22:04,911]\u001b[0m Trial 122 finished with value: 0.5675675675675677 and parameters: {'n_estimators': 114, 'max_depth': 22, 'min_samples_split': 6, 'min_samples_leaf': 1, 'criterion': 'gini'}. Best is trial 23 with value: 0.5714285714285714.\u001b[0m\n",
      "\u001b[32m[I 2023-03-15 19:22:05,191]\u001b[0m Trial 123 finished with value: 0.552901023890785 and parameters: {'n_estimators': 115, 'max_depth': 22, 'min_samples_split': 6, 'min_samples_leaf': 2, 'criterion': 'gini'}. Best is trial 23 with value: 0.5714285714285714.\u001b[0m\n",
      "\u001b[32m[I 2023-03-15 19:22:05,498]\u001b[0m Trial 124 finished with value: 0.5627118644067796 and parameters: {'n_estimators': 123, 'max_depth': 24, 'min_samples_split': 6, 'min_samples_leaf': 1, 'criterion': 'gini'}. Best is trial 23 with value: 0.5714285714285714.\u001b[0m\n",
      "\u001b[32m[I 2023-03-15 19:22:05,762]\u001b[0m Trial 125 finished with value: 0.569023569023569 and parameters: {'n_estimators': 109, 'max_depth': 22, 'min_samples_split': 6, 'min_samples_leaf': 1, 'criterion': 'gini'}. Best is trial 23 with value: 0.5714285714285714.\u001b[0m\n",
      "\u001b[32m[I 2023-03-15 19:22:06,030]\u001b[0m Trial 126 finished with value: 0.5680672268907564 and parameters: {'n_estimators': 110, 'max_depth': 21, 'min_samples_split': 6, 'min_samples_leaf': 1, 'criterion': 'gini'}. Best is trial 23 with value: 0.5714285714285714.\u001b[0m\n"
     ]
    },
    {
     "name": "stderr",
     "output_type": "stream",
     "text": [
      "\u001b[32m[I 2023-03-15 19:22:06,291]\u001b[0m Trial 127 finished with value: 0.5563139931740615 and parameters: {'n_estimators': 108, 'max_depth': 25, 'min_samples_split': 7, 'min_samples_leaf': 1, 'criterion': 'gini'}. Best is trial 23 with value: 0.5714285714285714.\u001b[0m\n",
      "\u001b[32m[I 2023-03-15 19:22:06,567]\u001b[0m Trial 128 finished with value: 0.5500848896434635 and parameters: {'n_estimators': 118, 'max_depth': 23, 'min_samples_split': 7, 'min_samples_leaf': 2, 'criterion': 'gini'}. Best is trial 23 with value: 0.5714285714285714.\u001b[0m\n",
      "\u001b[32m[I 2023-03-15 19:22:06,827]\u001b[0m Trial 129 finished with value: 0.5627118644067796 and parameters: {'n_estimators': 106, 'max_depth': 24, 'min_samples_split': 6, 'min_samples_leaf': 1, 'criterion': 'gini'}. Best is trial 23 with value: 0.5714285714285714.\u001b[0m\n",
      "\u001b[32m[I 2023-03-15 19:22:07,095]\u001b[0m Trial 130 finished with value: 0.5587734241908007 and parameters: {'n_estimators': 112, 'max_depth': 22, 'min_samples_split': 6, 'min_samples_leaf': 2, 'criterion': 'gini'}. Best is trial 23 with value: 0.5714285714285714.\u001b[0m\n",
      "\u001b[32m[I 2023-03-15 19:22:07,361]\u001b[0m Trial 131 finished with value: 0.5680672268907564 and parameters: {'n_estimators': 110, 'max_depth': 21, 'min_samples_split': 6, 'min_samples_leaf': 1, 'criterion': 'gini'}. Best is trial 23 with value: 0.5714285714285714.\u001b[0m\n",
      "\u001b[32m[I 2023-03-15 19:22:07,637]\u001b[0m Trial 132 finished with value: 0.5651438240270729 and parameters: {'n_estimators': 115, 'max_depth': 21, 'min_samples_split': 6, 'min_samples_leaf': 1, 'criterion': 'gini'}. Best is trial 23 with value: 0.5714285714285714.\u001b[0m\n",
      "\u001b[32m[I 2023-03-15 19:22:07,904]\u001b[0m Trial 133 finished with value: 0.5680672268907564 and parameters: {'n_estimators': 110, 'max_depth': 20, 'min_samples_split': 6, 'min_samples_leaf': 1, 'criterion': 'gini'}. Best is trial 23 with value: 0.5714285714285714.\u001b[0m\n",
      "\u001b[32m[I 2023-03-15 19:22:08,186]\u001b[0m Trial 134 finished with value: 0.567062818336163 and parameters: {'n_estimators': 117, 'max_depth': 23, 'min_samples_split': 6, 'min_samples_leaf': 1, 'criterion': 'gini'}. Best is trial 23 with value: 0.5714285714285714.\u001b[0m\n",
      "\u001b[32m[I 2023-03-15 19:22:08,488]\u001b[0m Trial 135 finished with value: 0.5583756345177666 and parameters: {'n_estimators': 126, 'max_depth': 25, 'min_samples_split': 6, 'min_samples_leaf': 1, 'criterion': 'gini'}. Best is trial 23 with value: 0.5714285714285714.\u001b[0m\n",
      "\u001b[32m[I 2023-03-15 19:22:08,754]\u001b[0m Trial 136 finished with value: 0.5641891891891893 and parameters: {'n_estimators': 107, 'max_depth': 24, 'min_samples_split': 6, 'min_samples_leaf': 1, 'criterion': 'gini'}. Best is trial 23 with value: 0.5714285714285714.\u001b[0m\n",
      "\u001b[32m[I 2023-03-15 19:22:09,058]\u001b[0m Trial 137 finished with value: 0.5513698630136986 and parameters: {'n_estimators': 120, 'max_depth': 22, 'min_samples_split': 6, 'min_samples_leaf': 2, 'criterion': 'gini'}. Best is trial 23 with value: 0.5714285714285714.\u001b[0m\n",
      "\u001b[32m[I 2023-03-15 19:22:09,326]\u001b[0m Trial 138 finished with value: 0.552901023890785 and parameters: {'n_estimators': 111, 'max_depth': 23, 'min_samples_split': 7, 'min_samples_leaf': 1, 'criterion': 'gini'}. Best is trial 23 with value: 0.5714285714285714.\u001b[0m\n",
      "\u001b[32m[I 2023-03-15 19:22:09,602]\u001b[0m Trial 139 finished with value: 0.5479452054794521 and parameters: {'n_estimators': 116, 'max_depth': 24, 'min_samples_split': 6, 'min_samples_leaf': 2, 'criterion': 'gini'}. Best is trial 23 with value: 0.5714285714285714.\u001b[0m\n",
      "\u001b[32m[I 2023-03-15 19:22:09,878]\u001b[0m Trial 140 finished with value: 0.5699831365935919 and parameters: {'n_estimators': 113, 'max_depth': 21, 'min_samples_split': 6, 'min_samples_leaf': 1, 'criterion': 'gini'}. Best is trial 23 with value: 0.5714285714285714.\u001b[0m\n",
      "\u001b[32m[I 2023-03-15 19:22:10,150]\u001b[0m Trial 141 finished with value: 0.5704697986577181 and parameters: {'n_estimators': 112, 'max_depth': 21, 'min_samples_split': 6, 'min_samples_leaf': 1, 'criterion': 'gini'}. Best is trial 23 with value: 0.5714285714285714.\u001b[0m\n",
      "\u001b[32m[I 2023-03-15 19:22:10,423]\u001b[0m Trial 142 finished with value: 0.5699831365935919 and parameters: {'n_estimators': 113, 'max_depth': 20, 'min_samples_split': 6, 'min_samples_leaf': 1, 'criterion': 'gini'}. Best is trial 23 with value: 0.5714285714285714.\u001b[0m\n",
      "\u001b[32m[I 2023-03-15 19:22:10,699]\u001b[0m Trial 143 finished with value: 0.5699831365935919 and parameters: {'n_estimators': 113, 'max_depth': 20, 'min_samples_split': 6, 'min_samples_leaf': 1, 'criterion': 'gini'}. Best is trial 23 with value: 0.5714285714285714.\u001b[0m\n",
      "\u001b[32m[I 2023-03-15 19:22:10,974]\u001b[0m Trial 144 finished with value: 0.5694915254237289 and parameters: {'n_estimators': 112, 'max_depth': 19, 'min_samples_split': 6, 'min_samples_leaf': 1, 'criterion': 'gini'}. Best is trial 23 with value: 0.5714285714285714.\u001b[0m\n",
      "\u001b[32m[I 2023-03-15 19:22:11,261]\u001b[0m Trial 145 finished with value: 0.5593220338983051 and parameters: {'n_estimators': 119, 'max_depth': 20, 'min_samples_split': 6, 'min_samples_leaf': 1, 'criterion': 'gini'}. Best is trial 23 with value: 0.5714285714285714.\u001b[0m\n",
      "\u001b[32m[I 2023-03-15 19:22:11,539]\u001b[0m Trial 146 finished with value: 0.5675675675675677 and parameters: {'n_estimators': 114, 'max_depth': 20, 'min_samples_split': 6, 'min_samples_leaf': 1, 'criterion': 'gini'}. Best is trial 23 with value: 0.5714285714285714.\u001b[0m\n",
      "\u001b[32m[I 2023-03-15 19:22:11,883]\u001b[0m Trial 147 finished with value: 0.547008547008547 and parameters: {'n_estimators': 122, 'max_depth': 21, 'min_samples_split': 7, 'min_samples_leaf': 1, 'criterion': 'entropy'}. Best is trial 23 with value: 0.5714285714285714.\u001b[0m\n",
      "\u001b[32m[I 2023-03-15 19:22:12,169]\u001b[0m Trial 148 finished with value: 0.5704584040747029 and parameters: {'n_estimators': 116, 'max_depth': 20, 'min_samples_split': 6, 'min_samples_leaf': 1, 'criterion': 'gini'}. Best is trial 23 with value: 0.5714285714285714.\u001b[0m\n",
      "\u001b[32m[I 2023-03-15 19:22:12,459]\u001b[0m Trial 149 finished with value: 0.5704584040747029 and parameters: {'n_estimators': 116, 'max_depth': 23, 'min_samples_split': 6, 'min_samples_leaf': 1, 'criterion': 'gini'}. Best is trial 23 with value: 0.5714285714285714.\u001b[0m\n",
      "\u001b[32m[I 2023-03-15 19:22:12,740]\u001b[0m Trial 150 finished with value: 0.567062818336163 and parameters: {'n_estimators': 117, 'max_depth': 25, 'min_samples_split': 6, 'min_samples_leaf': 1, 'criterion': 'gini'}. Best is trial 23 with value: 0.5714285714285714.\u001b[0m\n",
      "\u001b[32m[I 2023-03-15 19:22:13,014]\u001b[0m Trial 151 finished with value: 0.5485519591141397 and parameters: {'n_estimators': 116, 'max_depth': 23, 'min_samples_split': 9, 'min_samples_leaf': 1, 'criterion': 'gini'}. Best is trial 23 with value: 0.5714285714285714.\u001b[0m\n",
      "\u001b[32m[I 2023-03-15 19:22:13,298]\u001b[0m Trial 152 finished with value: 0.5532646048109966 and parameters: {'n_estimators': 120, 'max_depth': 22, 'min_samples_split': 10, 'min_samples_leaf': 1, 'criterion': 'gini'}. Best is trial 23 with value: 0.5714285714285714.\u001b[0m\n",
      "\u001b[32m[I 2023-03-15 19:22:13,602]\u001b[0m Trial 153 finished with value: 0.5583756345177666 and parameters: {'n_estimators': 126, 'max_depth': 23, 'min_samples_split': 6, 'min_samples_leaf': 1, 'criterion': 'gini'}. Best is trial 23 with value: 0.5714285714285714.\u001b[0m\n",
      "\u001b[32m[I 2023-03-15 19:22:13,872]\u001b[0m Trial 154 finished with value: 0.5504273504273504 and parameters: {'n_estimators': 113, 'max_depth': 22, 'min_samples_split': 8, 'min_samples_leaf': 2, 'criterion': 'gini'}. Best is trial 23 with value: 0.5714285714285714.\u001b[0m\n",
      "\u001b[32m[I 2023-03-15 19:22:14,127]\u001b[0m Trial 155 finished with value: 0.5699831365935919 and parameters: {'n_estimators': 104, 'max_depth': 21, 'min_samples_split': 6, 'min_samples_leaf': 1, 'criterion': 'gini'}. Best is trial 23 with value: 0.5714285714285714.\u001b[0m\n",
      "\u001b[32m[I 2023-03-15 19:22:14,387]\u001b[0m Trial 156 finished with value: 0.5641891891891893 and parameters: {'n_estimators': 107, 'max_depth': 24, 'min_samples_split': 6, 'min_samples_leaf': 1, 'criterion': 'gini'}. Best is trial 23 with value: 0.5714285714285714.\u001b[0m\n",
      "\u001b[32m[I 2023-03-15 19:22:14,663]\u001b[0m Trial 157 finished with value: 0.5544217687074829 and parameters: {'n_estimators': 115, 'max_depth': 23, 'min_samples_split': 7, 'min_samples_leaf': 1, 'criterion': 'gini'}. Best is trial 23 with value: 0.5714285714285714.\u001b[0m\n",
      "\u001b[32m[I 2023-03-15 19:22:14,956]\u001b[0m Trial 158 finished with value: 0.5538461538461538 and parameters: {'n_estimators': 123, 'max_depth': 19, 'min_samples_split': 6, 'min_samples_leaf': 2, 'criterion': 'gini'}. Best is trial 23 with value: 0.5714285714285714.\u001b[0m\n"
     ]
    },
    {
     "name": "stderr",
     "output_type": "stream",
     "text": [
      "\u001b[32m[I 2023-03-15 19:22:15,241]\u001b[0m Trial 159 finished with value: 0.5617597292724197 and parameters: {'n_estimators': 118, 'max_depth': 25, 'min_samples_split': 6, 'min_samples_leaf': 1, 'criterion': 'gini'}. Best is trial 23 with value: 0.5714285714285714.\u001b[0m\n",
      "\u001b[32m[I 2023-03-15 19:22:15,520]\u001b[0m Trial 160 finished with value: 0.5704697986577181 and parameters: {'n_estimators': 112, 'max_depth': 24, 'min_samples_split': 6, 'min_samples_leaf': 1, 'criterion': 'gini'}. Best is trial 23 with value: 0.5714285714285714.\u001b[0m\n",
      "\u001b[32m[I 2023-03-15 19:22:15,802]\u001b[0m Trial 161 finished with value: 0.5675675675675677 and parameters: {'n_estimators': 111, 'max_depth': 24, 'min_samples_split': 6, 'min_samples_leaf': 1, 'criterion': 'gini'}. Best is trial 23 with value: 0.5714285714285714.\u001b[0m\n",
      "\u001b[32m[I 2023-03-15 19:22:16,084]\u001b[0m Trial 162 finished with value: 0.5699831365935919 and parameters: {'n_estimators': 113, 'max_depth': 22, 'min_samples_split': 6, 'min_samples_leaf': 1, 'criterion': 'gini'}. Best is trial 23 with value: 0.5714285714285714.\u001b[0m\n",
      "\u001b[32m[I 2023-03-15 19:22:16,349]\u001b[0m Trial 163 finished with value: 0.566610455311973 and parameters: {'n_estimators': 108, 'max_depth': 24, 'min_samples_split': 6, 'min_samples_leaf': 1, 'criterion': 'gini'}. Best is trial 23 with value: 0.5714285714285714.\u001b[0m\n",
      "\u001b[32m[I 2023-03-15 19:22:16,647]\u001b[0m Trial 164 finished with value: 0.5704584040747029 and parameters: {'n_estimators': 116, 'max_depth': 23, 'min_samples_split': 6, 'min_samples_leaf': 1, 'criterion': 'gini'}. Best is trial 23 with value: 0.5714285714285714.\u001b[0m\n",
      "\u001b[32m[I 2023-03-15 19:22:16,947]\u001b[0m Trial 165 finished with value: 0.5608108108108109 and parameters: {'n_estimators': 120, 'max_depth': 23, 'min_samples_split': 6, 'min_samples_leaf': 1, 'criterion': 'gini'}. Best is trial 23 with value: 0.5714285714285714.\u001b[0m\n",
      "\u001b[32m[I 2023-03-15 19:22:17,237]\u001b[0m Trial 166 finished with value: 0.5704584040747029 and parameters: {'n_estimators': 116, 'max_depth': 25, 'min_samples_split': 6, 'min_samples_leaf': 1, 'criterion': 'gini'}. Best is trial 23 with value: 0.5714285714285714.\u001b[0m\n",
      "\u001b[32m[I 2023-03-15 19:22:17,525]\u001b[0m Trial 167 finished with value: 0.5704584040747029 and parameters: {'n_estimators': 116, 'max_depth': 25, 'min_samples_split': 6, 'min_samples_leaf': 1, 'criterion': 'gini'}. Best is trial 23 with value: 0.5714285714285714.\u001b[0m\n",
      "\u001b[32m[I 2023-03-15 19:22:17,808]\u001b[0m Trial 168 finished with value: 0.5479452054794521 and parameters: {'n_estimators': 117, 'max_depth': 26, 'min_samples_split': 6, 'min_samples_leaf': 2, 'criterion': 'gini'}. Best is trial 23 with value: 0.5714285714285714.\u001b[0m\n",
      "\u001b[32m[I 2023-03-15 19:22:18,157]\u001b[0m Trial 169 finished with value: 0.5429553264604811 and parameters: {'n_estimators': 125, 'max_depth': 25, 'min_samples_split': 7, 'min_samples_leaf': 1, 'criterion': 'entropy'}. Best is trial 23 with value: 0.5714285714285714.\u001b[0m\n",
      "\u001b[32m[I 2023-03-15 19:22:18,475]\u001b[0m Trial 170 finished with value: 0.5612244897959183 and parameters: {'n_estimators': 132, 'max_depth': 25, 'min_samples_split': 6, 'min_samples_leaf': 1, 'criterion': 'gini'}. Best is trial 23 with value: 0.5714285714285714.\u001b[0m\n",
      "\u001b[32m[I 2023-03-15 19:22:18,764]\u001b[0m Trial 171 finished with value: 0.5593220338983051 and parameters: {'n_estimators': 119, 'max_depth': 24, 'min_samples_split': 6, 'min_samples_leaf': 1, 'criterion': 'gini'}. Best is trial 23 with value: 0.5714285714285714.\u001b[0m\n",
      "\u001b[32m[I 2023-03-15 19:22:19,018]\u001b[0m Trial 172 finished with value: 0.54673721340388 and parameters: {'n_estimators': 116, 'max_depth': 26, 'min_samples_split': 6, 'min_samples_leaf': 8, 'criterion': 'gini'}. Best is trial 23 with value: 0.5714285714285714.\u001b[0m\n",
      "\u001b[32m[I 2023-03-15 19:22:19,285]\u001b[0m Trial 173 finished with value: 0.569023569023569 and parameters: {'n_estimators': 109, 'max_depth': 24, 'min_samples_split': 6, 'min_samples_leaf': 1, 'criterion': 'gini'}. Best is trial 23 with value: 0.5714285714285714.\u001b[0m\n",
      "\u001b[32m[I 2023-03-15 19:22:19,503]\u001b[0m Trial 174 finished with value: 0.40329218106995884 and parameters: {'n_estimators': 122, 'max_depth': 5, 'min_samples_split': 6, 'min_samples_leaf': 1, 'criterion': 'gini'}. Best is trial 23 with value: 0.5714285714285714.\u001b[0m\n",
      "\u001b[32m[I 2023-03-15 19:22:19,767]\u001b[0m Trial 175 finished with value: 0.569023569023569 and parameters: {'n_estimators': 105, 'max_depth': 25, 'min_samples_split': 6, 'min_samples_leaf': 1, 'criterion': 'gini'}. Best is trial 23 with value: 0.5714285714285714.\u001b[0m\n",
      "\u001b[32m[I 2023-03-15 19:22:20,035]\u001b[0m Trial 176 finished with value: 0.5494880546075085 and parameters: {'n_estimators': 111, 'max_depth': 23, 'min_samples_split': 9, 'min_samples_leaf': 1, 'criterion': 'gini'}. Best is trial 23 with value: 0.5714285714285714.\u001b[0m\n",
      "\u001b[32m[I 2023-03-15 19:22:20,320]\u001b[0m Trial 177 finished with value: 0.5704584040747029 and parameters: {'n_estimators': 116, 'max_depth': 25, 'min_samples_split': 6, 'min_samples_leaf': 1, 'criterion': 'gini'}. Best is trial 23 with value: 0.5714285714285714.\u001b[0m\n",
      "\u001b[32m[I 2023-03-15 19:22:20,601]\u001b[0m Trial 178 finished with value: 0.5651438240270729 and parameters: {'n_estimators': 115, 'max_depth': 26, 'min_samples_split': 6, 'min_samples_leaf': 1, 'criterion': 'gini'}. Best is trial 23 with value: 0.5714285714285714.\u001b[0m\n",
      "\u001b[32m[I 2023-03-15 19:22:20,912]\u001b[0m Trial 179 finished with value: 0.5617597292724197 and parameters: {'n_estimators': 128, 'max_depth': 25, 'min_samples_split': 6, 'min_samples_leaf': 1, 'criterion': 'gini'}. Best is trial 23 with value: 0.5714285714285714.\u001b[0m\n",
      "\u001b[32m[I 2023-03-15 19:22:21,201]\u001b[0m Trial 180 finished with value: 0.5568760611205433 and parameters: {'n_estimators': 119, 'max_depth': 14, 'min_samples_split': 6, 'min_samples_leaf': 1, 'criterion': 'gini'}. Best is trial 23 with value: 0.5714285714285714.\u001b[0m\n",
      "\u001b[32m[I 2023-03-15 19:22:21,481]\u001b[0m Trial 181 finished with value: 0.5651438240270729 and parameters: {'n_estimators': 115, 'max_depth': 24, 'min_samples_split': 6, 'min_samples_leaf': 1, 'criterion': 'gini'}. Best is trial 23 with value: 0.5714285714285714.\u001b[0m\n",
      "\u001b[32m[I 2023-03-15 19:22:21,751]\u001b[0m Trial 182 finished with value: 0.5680672268907564 and parameters: {'n_estimators': 110, 'max_depth': 23, 'min_samples_split': 6, 'min_samples_leaf': 1, 'criterion': 'gini'}. Best is trial 23 with value: 0.5714285714285714.\u001b[0m\n",
      "\u001b[32m[I 2023-03-15 19:22:22,037]\u001b[0m Trial 183 finished with value: 0.567062818336163 and parameters: {'n_estimators': 117, 'max_depth': 24, 'min_samples_split': 6, 'min_samples_leaf': 1, 'criterion': 'gini'}. Best is trial 23 with value: 0.5714285714285714.\u001b[0m\n",
      "\u001b[32m[I 2023-03-15 19:22:22,311]\u001b[0m Trial 184 finished with value: 0.5704697986577181 and parameters: {'n_estimators': 112, 'max_depth': 25, 'min_samples_split': 6, 'min_samples_leaf': 1, 'criterion': 'gini'}. Best is trial 23 with value: 0.5714285714285714.\u001b[0m\n",
      "\u001b[32m[I 2023-03-15 19:22:22,578]\u001b[0m Trial 185 finished with value: 0.566610455311973 and parameters: {'n_estimators': 108, 'max_depth': 25, 'min_samples_split': 6, 'min_samples_leaf': 1, 'criterion': 'gini'}. Best is trial 23 with value: 0.5714285714285714.\u001b[0m\n",
      "\u001b[32m[I 2023-03-15 19:22:22,847]\u001b[0m Trial 186 finished with value: 0.5587734241908007 and parameters: {'n_estimators': 112, 'max_depth': 27, 'min_samples_split': 6, 'min_samples_leaf': 2, 'criterion': 'gini'}. Best is trial 23 with value: 0.5714285714285714.\u001b[0m\n",
      "\u001b[32m[I 2023-03-15 19:22:23,143]\u001b[0m Trial 187 finished with value: 0.5627118644067796 and parameters: {'n_estimators': 122, 'max_depth': 26, 'min_samples_split': 6, 'min_samples_leaf': 1, 'criterion': 'gini'}. Best is trial 23 with value: 0.5714285714285714.\u001b[0m\n",
      "\u001b[32m[I 2023-03-15 19:22:23,421]\u001b[0m Trial 188 finished with value: 0.5544217687074829 and parameters: {'n_estimators': 115, 'max_depth': 26, 'min_samples_split': 7, 'min_samples_leaf': 1, 'criterion': 'gini'}. Best is trial 23 with value: 0.5714285714285714.\u001b[0m\n",
      "\u001b[32m[I 2023-03-15 19:22:23,704]\u001b[0m Trial 189 finished with value: 0.5602716468590832 and parameters: {'n_estimators': 118, 'max_depth': 15, 'min_samples_split': 6, 'min_samples_leaf': 1, 'criterion': 'gini'}. Best is trial 23 with value: 0.5714285714285714.\u001b[0m\n",
      "\u001b[32m[I 2023-03-15 19:22:23,976]\u001b[0m Trial 190 finished with value: 0.5675675675675677 and parameters: {'n_estimators': 111, 'max_depth': 25, 'min_samples_split': 6, 'min_samples_leaf': 1, 'criterion': 'gini'}. Best is trial 23 with value: 0.5714285714285714.\u001b[0m\n"
     ]
    },
    {
     "name": "stderr",
     "output_type": "stream",
     "text": [
      "\u001b[32m[I 2023-03-15 19:22:24,253]\u001b[0m Trial 191 finished with value: 0.5675675675675677 and parameters: {'n_estimators': 114, 'max_depth': 23, 'min_samples_split': 6, 'min_samples_leaf': 1, 'criterion': 'gini'}. Best is trial 23 with value: 0.5714285714285714.\u001b[0m\n",
      "\u001b[32m[I 2023-03-15 19:22:24,606]\u001b[0m Trial 192 finished with value: 0.5651438240270729 and parameters: {'n_estimators': 149, 'max_depth': 24, 'min_samples_split': 6, 'min_samples_leaf': 1, 'criterion': 'gini'}. Best is trial 23 with value: 0.5714285714285714.\u001b[0m\n",
      "\u001b[32m[I 2023-03-15 19:22:24,866]\u001b[0m Trial 193 finished with value: 0.5627118644067796 and parameters: {'n_estimators': 106, 'max_depth': 24, 'min_samples_split': 6, 'min_samples_leaf': 1, 'criterion': 'gini'}. Best is trial 23 with value: 0.5714285714285714.\u001b[0m\n",
      "\u001b[32m[I 2023-03-15 19:22:25,139]\u001b[0m Trial 194 finished with value: 0.5704697986577181 and parameters: {'n_estimators': 112, 'max_depth': 25, 'min_samples_split': 6, 'min_samples_leaf': 1, 'criterion': 'gini'}. Best is trial 23 with value: 0.5714285714285714.\u001b[0m\n",
      "\u001b[32m[I 2023-03-15 19:22:25,409]\u001b[0m Trial 195 finished with value: 0.5680672268907564 and parameters: {'n_estimators': 110, 'max_depth': 25, 'min_samples_split': 6, 'min_samples_leaf': 1, 'criterion': 'gini'}. Best is trial 23 with value: 0.5714285714285714.\u001b[0m\n",
      "\u001b[32m[I 2023-03-15 19:22:25,691]\u001b[0m Trial 196 finished with value: 0.5704584040747029 and parameters: {'n_estimators': 116, 'max_depth': 27, 'min_samples_split': 6, 'min_samples_leaf': 1, 'criterion': 'gini'}. Best is trial 23 with value: 0.5714285714285714.\u001b[0m\n",
      "\u001b[32m[I 2023-03-15 19:22:25,989]\u001b[0m Trial 197 finished with value: 0.5525423728813559 and parameters: {'n_estimators': 120, 'max_depth': 27, 'min_samples_split': 2, 'min_samples_leaf': 1, 'criterion': 'gini'}. Best is trial 23 with value: 0.5714285714285714.\u001b[0m\n",
      "\u001b[32m[I 2023-03-15 19:22:26,275]\u001b[0m Trial 198 finished with value: 0.5704584040747029 and parameters: {'n_estimators': 116, 'max_depth': 27, 'min_samples_split': 6, 'min_samples_leaf': 1, 'criterion': 'gini'}. Best is trial 23 with value: 0.5714285714285714.\u001b[0m\n",
      "\u001b[32m[I 2023-03-15 19:22:26,561]\u001b[0m Trial 199 finished with value: 0.5617597292724197 and parameters: {'n_estimators': 118, 'max_depth': 27, 'min_samples_split': 6, 'min_samples_leaf': 1, 'criterion': 'gini'}. Best is trial 23 with value: 0.5714285714285714.\u001b[0m\n"
     ]
    },
    {
     "name": "stdout",
     "output_type": "stream",
     "text": [
      "Best trial:\n",
      "  Score: 0.571\n",
      "  Params: \n",
      "    n_estimators: 102\n",
      "    max_depth: 15\n",
      "    min_samples_split: 8\n",
      "    min_samples_leaf: 1\n",
      "    criterion: gini\n"
     ]
    }
   ],
   "source": [
    "study = optuna.create_study(direction='maximize')\n",
    "\n",
    "study.optimize(objective, n_trials=200)\n",
    "\n",
    "print('Best trial:')\n",
    "trial = study.best_trial\n",
    "print(f'  Score: {trial.value:.3f}')\n",
    "print('  Params: ')\n",
    "for key, value in trial.params.items():\n",
    "    print(f'    {key}: {value}')"
   ]
  },
  {
   "cell_type": "code",
   "execution_count": 52,
   "metadata": {},
   "outputs": [
    {
     "data": {
      "text/plain": [
       "RandomForestClassifier(max_depth=15, min_samples_split=8, n_estimators=102,\n",
       "                       random_state=322)"
      ]
     },
     "execution_count": 52,
     "metadata": {},
     "output_type": "execute_result"
    }
   ],
   "source": [
    "rfc_down = RandomForestClassifier(n_estimators=102,\n",
    "                                   max_depth=15,\n",
    "                                   min_samples_split=8,\n",
    "                                   min_samples_leaf=1,\n",
    "                                   criterion='gini',\n",
    "                                   random_state=322)\n",
    "rfc_down.fit(features_downsampled, target_downsampled)"
   ]
  },
  {
   "cell_type": "code",
   "execution_count": 53,
   "metadata": {},
   "outputs": [
    {
     "data": {
      "text/plain": [
       "0.8473111950182272"
      ]
     },
     "execution_count": 53,
     "metadata": {},
     "output_type": "execute_result"
    }
   ],
   "source": [
    "prob_one_valid = rfc_down.predict_proba(features_valid)[:, 1]\n",
    "roc_auc_score(target_valid, prob_one_valid)"
   ]
  },
  {
   "cell_type": "markdown",
   "metadata": {},
   "source": [
    "#### CatBoost"
   ]
  },
  {
   "cell_type": "code",
   "execution_count": 66,
   "metadata": {
    "scrolled": true
   },
   "outputs": [
    {
     "name": "stdout",
     "output_type": "stream",
     "text": [
      "Learning rate set to 0.015602\n",
      "0:\tlearn: 0.6805715\ttotal: 1.38ms\tremaining: 1.38s\n",
      "1:\tlearn: 0.6693116\ttotal: 2.62ms\tremaining: 1.3s\n",
      "2:\tlearn: 0.6585738\ttotal: 3.9ms\tremaining: 1.3s\n",
      "3:\tlearn: 0.6465507\ttotal: 5.19ms\tremaining: 1.29s\n",
      "4:\tlearn: 0.6369486\ttotal: 6.51ms\tremaining: 1.29s\n",
      "5:\tlearn: 0.6267065\ttotal: 8.21ms\tremaining: 1.36s\n",
      "6:\tlearn: 0.6180049\ttotal: 9.65ms\tremaining: 1.37s\n",
      "7:\tlearn: 0.6067976\ttotal: 11.1ms\tremaining: 1.38s\n",
      "8:\tlearn: 0.5965236\ttotal: 12.5ms\tremaining: 1.38s\n",
      "9:\tlearn: 0.5895832\ttotal: 13.2ms\tremaining: 1.31s\n",
      "10:\tlearn: 0.5799652\ttotal: 14.6ms\tremaining: 1.31s\n",
      "11:\tlearn: 0.5720014\ttotal: 16ms\tremaining: 1.32s\n",
      "12:\tlearn: 0.5639968\ttotal: 17.4ms\tremaining: 1.32s\n",
      "13:\tlearn: 0.5558480\ttotal: 18.7ms\tremaining: 1.31s\n",
      "14:\tlearn: 0.5475910\ttotal: 19.9ms\tremaining: 1.3s\n",
      "15:\tlearn: 0.5387561\ttotal: 21ms\tremaining: 1.29s\n",
      "16:\tlearn: 0.5304687\ttotal: 22.2ms\tremaining: 1.28s\n",
      "17:\tlearn: 0.5252677\ttotal: 23ms\tremaining: 1.26s\n",
      "18:\tlearn: 0.5186979\ttotal: 24.3ms\tremaining: 1.25s\n",
      "19:\tlearn: 0.5115347\ttotal: 25.5ms\tremaining: 1.25s\n",
      "20:\tlearn: 0.5061997\ttotal: 26.8ms\tremaining: 1.25s\n",
      "21:\tlearn: 0.5009378\ttotal: 28ms\tremaining: 1.24s\n",
      "22:\tlearn: 0.4948329\ttotal: 29.1ms\tremaining: 1.24s\n",
      "23:\tlearn: 0.4891697\ttotal: 30.4ms\tremaining: 1.24s\n",
      "24:\tlearn: 0.4849786\ttotal: 31.7ms\tremaining: 1.24s\n",
      "25:\tlearn: 0.4806465\ttotal: 32.9ms\tremaining: 1.23s\n",
      "26:\tlearn: 0.4759390\ttotal: 34.2ms\tremaining: 1.23s\n",
      "27:\tlearn: 0.4705096\ttotal: 35.6ms\tremaining: 1.23s\n",
      "28:\tlearn: 0.4653217\ttotal: 36.9ms\tremaining: 1.23s\n",
      "29:\tlearn: 0.4613365\ttotal: 38.2ms\tremaining: 1.24s\n",
      "30:\tlearn: 0.4569651\ttotal: 39.4ms\tremaining: 1.23s\n",
      "31:\tlearn: 0.4521691\ttotal: 40.6ms\tremaining: 1.23s\n",
      "32:\tlearn: 0.4485088\ttotal: 41.5ms\tremaining: 1.22s\n",
      "33:\tlearn: 0.4457887\ttotal: 42.7ms\tremaining: 1.21s\n",
      "34:\tlearn: 0.4423483\ttotal: 43.9ms\tremaining: 1.21s\n",
      "35:\tlearn: 0.4386691\ttotal: 45.1ms\tremaining: 1.21s\n",
      "36:\tlearn: 0.4355312\ttotal: 46.4ms\tremaining: 1.21s\n",
      "37:\tlearn: 0.4318293\ttotal: 47.6ms\tremaining: 1.2s\n",
      "38:\tlearn: 0.4289137\ttotal: 48.8ms\tremaining: 1.2s\n",
      "39:\tlearn: 0.4254396\ttotal: 49.9ms\tremaining: 1.2s\n",
      "40:\tlearn: 0.4228953\ttotal: 51.1ms\tremaining: 1.2s\n",
      "41:\tlearn: 0.4204127\ttotal: 52.3ms\tremaining: 1.19s\n",
      "42:\tlearn: 0.4175921\ttotal: 53.5ms\tremaining: 1.19s\n",
      "43:\tlearn: 0.4143634\ttotal: 54.7ms\tremaining: 1.19s\n",
      "44:\tlearn: 0.4122320\ttotal: 55.9ms\tremaining: 1.19s\n",
      "45:\tlearn: 0.4094084\ttotal: 57.1ms\tremaining: 1.18s\n",
      "46:\tlearn: 0.4069834\ttotal: 58.3ms\tremaining: 1.18s\n",
      "47:\tlearn: 0.4045283\ttotal: 59.5ms\tremaining: 1.18s\n",
      "48:\tlearn: 0.4025179\ttotal: 60.7ms\tremaining: 1.18s\n",
      "49:\tlearn: 0.4001007\ttotal: 61.9ms\tremaining: 1.18s\n",
      "50:\tlearn: 0.3983568\ttotal: 63.2ms\tremaining: 1.18s\n",
      "51:\tlearn: 0.3962382\ttotal: 64.4ms\tremaining: 1.17s\n",
      "52:\tlearn: 0.3943184\ttotal: 65.4ms\tremaining: 1.17s\n",
      "53:\tlearn: 0.3926950\ttotal: 66.6ms\tremaining: 1.17s\n",
      "54:\tlearn: 0.3906893\ttotal: 67.8ms\tremaining: 1.16s\n",
      "55:\tlearn: 0.3889725\ttotal: 69ms\tremaining: 1.16s\n",
      "56:\tlearn: 0.3870268\ttotal: 70.3ms\tremaining: 1.16s\n",
      "57:\tlearn: 0.3848934\ttotal: 71.5ms\tremaining: 1.16s\n",
      "58:\tlearn: 0.3831665\ttotal: 72.8ms\tremaining: 1.16s\n",
      "59:\tlearn: 0.3808703\ttotal: 73.9ms\tremaining: 1.16s\n",
      "60:\tlearn: 0.3791859\ttotal: 75.1ms\tremaining: 1.16s\n",
      "61:\tlearn: 0.3774632\ttotal: 76.3ms\tremaining: 1.16s\n",
      "62:\tlearn: 0.3755668\ttotal: 77.6ms\tremaining: 1.15s\n",
      "63:\tlearn: 0.3742160\ttotal: 78.8ms\tremaining: 1.15s\n",
      "64:\tlearn: 0.3725429\ttotal: 80ms\tremaining: 1.15s\n",
      "65:\tlearn: 0.3709560\ttotal: 81.1ms\tremaining: 1.15s\n",
      "66:\tlearn: 0.3697879\ttotal: 82.3ms\tremaining: 1.15s\n",
      "67:\tlearn: 0.3682425\ttotal: 83.5ms\tremaining: 1.14s\n",
      "68:\tlearn: 0.3666637\ttotal: 84.7ms\tremaining: 1.14s\n",
      "69:\tlearn: 0.3652528\ttotal: 85.8ms\tremaining: 1.14s\n",
      "70:\tlearn: 0.3636724\ttotal: 87ms\tremaining: 1.14s\n",
      "71:\tlearn: 0.3624988\ttotal: 88.2ms\tremaining: 1.14s\n",
      "72:\tlearn: 0.3610694\ttotal: 89.4ms\tremaining: 1.14s\n",
      "73:\tlearn: 0.3600875\ttotal: 90.6ms\tremaining: 1.13s\n",
      "74:\tlearn: 0.3589202\ttotal: 91.9ms\tremaining: 1.13s\n",
      "75:\tlearn: 0.3575919\ttotal: 93.1ms\tremaining: 1.13s\n",
      "76:\tlearn: 0.3563263\ttotal: 94.3ms\tremaining: 1.13s\n",
      "77:\tlearn: 0.3550592\ttotal: 95.5ms\tremaining: 1.13s\n",
      "78:\tlearn: 0.3539857\ttotal: 96.7ms\tremaining: 1.13s\n",
      "79:\tlearn: 0.3525327\ttotal: 97.9ms\tremaining: 1.13s\n",
      "80:\tlearn: 0.3515622\ttotal: 99.1ms\tremaining: 1.12s\n",
      "81:\tlearn: 0.3504634\ttotal: 100ms\tremaining: 1.12s\n",
      "82:\tlearn: 0.3496335\ttotal: 102ms\tremaining: 1.12s\n",
      "83:\tlearn: 0.3489697\ttotal: 103ms\tremaining: 1.12s\n",
      "84:\tlearn: 0.3480238\ttotal: 104ms\tremaining: 1.12s\n",
      "85:\tlearn: 0.3470337\ttotal: 105ms\tremaining: 1.12s\n",
      "86:\tlearn: 0.3462089\ttotal: 107ms\tremaining: 1.12s\n",
      "87:\tlearn: 0.3456437\ttotal: 108ms\tremaining: 1.12s\n",
      "88:\tlearn: 0.3448104\ttotal: 109ms\tremaining: 1.11s\n",
      "89:\tlearn: 0.3441517\ttotal: 110ms\tremaining: 1.11s\n",
      "90:\tlearn: 0.3434438\ttotal: 111ms\tremaining: 1.11s\n",
      "91:\tlearn: 0.3427183\ttotal: 113ms\tremaining: 1.11s\n",
      "92:\tlearn: 0.3421921\ttotal: 114ms\tremaining: 1.11s\n",
      "93:\tlearn: 0.3410926\ttotal: 115ms\tremaining: 1.11s\n",
      "94:\tlearn: 0.3402789\ttotal: 116ms\tremaining: 1.11s\n",
      "95:\tlearn: 0.3391834\ttotal: 117ms\tremaining: 1.1s\n",
      "96:\tlearn: 0.3385658\ttotal: 119ms\tremaining: 1.1s\n",
      "97:\tlearn: 0.3381618\ttotal: 120ms\tremaining: 1.1s\n",
      "98:\tlearn: 0.3374053\ttotal: 121ms\tremaining: 1.1s\n",
      "99:\tlearn: 0.3365766\ttotal: 122ms\tremaining: 1.1s\n",
      "100:\tlearn: 0.3361176\ttotal: 123ms\tremaining: 1.1s\n",
      "101:\tlearn: 0.3354805\ttotal: 125ms\tremaining: 1.1s\n",
      "102:\tlearn: 0.3347326\ttotal: 126ms\tremaining: 1.1s\n",
      "103:\tlearn: 0.3340838\ttotal: 127ms\tremaining: 1.09s\n",
      "104:\tlearn: 0.3333284\ttotal: 128ms\tremaining: 1.09s\n",
      "105:\tlearn: 0.3325845\ttotal: 130ms\tremaining: 1.09s\n",
      "106:\tlearn: 0.3318010\ttotal: 131ms\tremaining: 1.09s\n",
      "107:\tlearn: 0.3310042\ttotal: 132ms\tremaining: 1.09s\n",
      "108:\tlearn: 0.3303364\ttotal: 133ms\tremaining: 1.09s\n",
      "109:\tlearn: 0.3296854\ttotal: 134ms\tremaining: 1.09s\n",
      "110:\tlearn: 0.3292749\ttotal: 136ms\tremaining: 1.08s\n",
      "111:\tlearn: 0.3283762\ttotal: 137ms\tremaining: 1.08s\n",
      "112:\tlearn: 0.3276218\ttotal: 138ms\tremaining: 1.08s\n",
      "113:\tlearn: 0.3269300\ttotal: 139ms\tremaining: 1.08s\n",
      "114:\tlearn: 0.3261186\ttotal: 140ms\tremaining: 1.08s\n",
      "115:\tlearn: 0.3254757\ttotal: 142ms\tremaining: 1.08s\n",
      "116:\tlearn: 0.3251228\ttotal: 143ms\tremaining: 1.08s\n",
      "117:\tlearn: 0.3243022\ttotal: 144ms\tremaining: 1.08s\n",
      "118:\tlearn: 0.3235232\ttotal: 145ms\tremaining: 1.07s\n",
      "119:\tlearn: 0.3229378\ttotal: 147ms\tremaining: 1.07s\n",
      "120:\tlearn: 0.3226415\ttotal: 148ms\tremaining: 1.07s\n",
      "121:\tlearn: 0.3222289\ttotal: 149ms\tremaining: 1.07s\n",
      "122:\tlearn: 0.3220009\ttotal: 150ms\tremaining: 1.07s\n",
      "123:\tlearn: 0.3217708\ttotal: 151ms\tremaining: 1.06s\n",
      "124:\tlearn: 0.3211727\ttotal: 152ms\tremaining: 1.06s\n",
      "125:\tlearn: 0.3207254\ttotal: 153ms\tremaining: 1.06s\n",
      "126:\tlearn: 0.3204537\ttotal: 154ms\tremaining: 1.06s\n",
      "127:\tlearn: 0.3199979\ttotal: 155ms\tremaining: 1.06s\n",
      "128:\tlearn: 0.3196716\ttotal: 157ms\tremaining: 1.06s\n",
      "129:\tlearn: 0.3191184\ttotal: 158ms\tremaining: 1.05s\n",
      "130:\tlearn: 0.3186746\ttotal: 159ms\tremaining: 1.05s\n",
      "131:\tlearn: 0.3181917\ttotal: 160ms\tremaining: 1.05s\n",
      "132:\tlearn: 0.3179944\ttotal: 161ms\tremaining: 1.05s\n",
      "133:\tlearn: 0.3176890\ttotal: 162ms\tremaining: 1.05s\n",
      "134:\tlearn: 0.3171546\ttotal: 163ms\tremaining: 1.05s\n",
      "135:\tlearn: 0.3167671\ttotal: 165ms\tremaining: 1.04s\n",
      "136:\tlearn: 0.3162404\ttotal: 166ms\tremaining: 1.04s\n",
      "137:\tlearn: 0.3157311\ttotal: 167ms\tremaining: 1.04s\n",
      "138:\tlearn: 0.3153418\ttotal: 168ms\tremaining: 1.04s\n",
      "139:\tlearn: 0.3147638\ttotal: 169ms\tremaining: 1.04s\n",
      "140:\tlearn: 0.3143962\ttotal: 171ms\tremaining: 1.04s\n",
      "141:\tlearn: 0.3139085\ttotal: 172ms\tremaining: 1.04s\n",
      "142:\tlearn: 0.3134510\ttotal: 173ms\tremaining: 1.04s\n",
      "143:\tlearn: 0.3130196\ttotal: 174ms\tremaining: 1.03s\n",
      "144:\tlearn: 0.3127169\ttotal: 175ms\tremaining: 1.03s\n",
      "145:\tlearn: 0.3123727\ttotal: 177ms\tremaining: 1.03s\n",
      "146:\tlearn: 0.3120967\ttotal: 178ms\tremaining: 1.03s\n",
      "147:\tlearn: 0.3117847\ttotal: 179ms\tremaining: 1.03s\n",
      "148:\tlearn: 0.3114083\ttotal: 180ms\tremaining: 1.03s\n",
      "149:\tlearn: 0.3111361\ttotal: 182ms\tremaining: 1.03s\n",
      "150:\tlearn: 0.3107719\ttotal: 183ms\tremaining: 1.03s\n",
      "151:\tlearn: 0.3104575\ttotal: 184ms\tremaining: 1.03s\n",
      "152:\tlearn: 0.3101534\ttotal: 185ms\tremaining: 1.02s\n",
      "153:\tlearn: 0.3095460\ttotal: 187ms\tremaining: 1.02s\n",
      "154:\tlearn: 0.3091836\ttotal: 188ms\tremaining: 1.02s\n",
      "155:\tlearn: 0.3088859\ttotal: 189ms\tremaining: 1.02s\n",
      "156:\tlearn: 0.3084689\ttotal: 190ms\tremaining: 1.02s\n",
      "157:\tlearn: 0.3081233\ttotal: 191ms\tremaining: 1.02s\n",
      "158:\tlearn: 0.3078260\ttotal: 193ms\tremaining: 1.02s\n"
     ]
    },
    {
     "name": "stdout",
     "output_type": "stream",
     "text": [
      "159:\tlearn: 0.3076366\ttotal: 194ms\tremaining: 1.02s\n",
      "160:\tlearn: 0.3073954\ttotal: 195ms\tremaining: 1.02s\n",
      "161:\tlearn: 0.3071380\ttotal: 197ms\tremaining: 1.02s\n",
      "162:\tlearn: 0.3068043\ttotal: 198ms\tremaining: 1.01s\n",
      "163:\tlearn: 0.3064410\ttotal: 199ms\tremaining: 1.01s\n",
      "164:\tlearn: 0.3062795\ttotal: 200ms\tremaining: 1.01s\n",
      "165:\tlearn: 0.3057560\ttotal: 202ms\tremaining: 1.01s\n",
      "166:\tlearn: 0.3054433\ttotal: 203ms\tremaining: 1.01s\n",
      "167:\tlearn: 0.3051785\ttotal: 204ms\tremaining: 1.01s\n",
      "168:\tlearn: 0.3048430\ttotal: 205ms\tremaining: 1.01s\n",
      "169:\tlearn: 0.3044663\ttotal: 207ms\tremaining: 1.01s\n",
      "170:\tlearn: 0.3042379\ttotal: 208ms\tremaining: 1.01s\n",
      "171:\tlearn: 0.3038024\ttotal: 209ms\tremaining: 1.01s\n",
      "172:\tlearn: 0.3033713\ttotal: 211ms\tremaining: 1.01s\n",
      "173:\tlearn: 0.3030129\ttotal: 212ms\tremaining: 1s\n",
      "174:\tlearn: 0.3028546\ttotal: 213ms\tremaining: 1s\n",
      "175:\tlearn: 0.3026328\ttotal: 214ms\tremaining: 1s\n",
      "176:\tlearn: 0.3023668\ttotal: 215ms\tremaining: 1s\n",
      "177:\tlearn: 0.3020821\ttotal: 216ms\tremaining: 1000ms\n",
      "178:\tlearn: 0.3018044\ttotal: 218ms\tremaining: 999ms\n",
      "179:\tlearn: 0.3016374\ttotal: 219ms\tremaining: 998ms\n",
      "180:\tlearn: 0.3013371\ttotal: 220ms\tremaining: 997ms\n",
      "181:\tlearn: 0.3008551\ttotal: 222ms\tremaining: 998ms\n",
      "182:\tlearn: 0.3006253\ttotal: 224ms\tremaining: 998ms\n",
      "183:\tlearn: 0.3003662\ttotal: 225ms\tremaining: 997ms\n",
      "184:\tlearn: 0.3000327\ttotal: 226ms\tremaining: 996ms\n",
      "185:\tlearn: 0.2998210\ttotal: 227ms\tremaining: 995ms\n",
      "186:\tlearn: 0.2995903\ttotal: 229ms\tremaining: 993ms\n",
      "187:\tlearn: 0.2993863\ttotal: 230ms\tremaining: 992ms\n",
      "188:\tlearn: 0.2991687\ttotal: 231ms\tremaining: 991ms\n",
      "189:\tlearn: 0.2988814\ttotal: 232ms\tremaining: 990ms\n",
      "190:\tlearn: 0.2983151\ttotal: 233ms\tremaining: 989ms\n",
      "191:\tlearn: 0.2981144\ttotal: 235ms\tremaining: 988ms\n",
      "192:\tlearn: 0.2979077\ttotal: 236ms\tremaining: 986ms\n",
      "193:\tlearn: 0.2977268\ttotal: 237ms\tremaining: 985ms\n",
      "194:\tlearn: 0.2974641\ttotal: 238ms\tremaining: 984ms\n",
      "195:\tlearn: 0.2972630\ttotal: 240ms\tremaining: 983ms\n",
      "196:\tlearn: 0.2970993\ttotal: 241ms\tremaining: 981ms\n",
      "197:\tlearn: 0.2968289\ttotal: 242ms\tremaining: 980ms\n",
      "198:\tlearn: 0.2966449\ttotal: 243ms\tremaining: 979ms\n",
      "199:\tlearn: 0.2962390\ttotal: 244ms\tremaining: 978ms\n",
      "200:\tlearn: 0.2959657\ttotal: 246ms\tremaining: 977ms\n",
      "201:\tlearn: 0.2957111\ttotal: 247ms\tremaining: 975ms\n",
      "202:\tlearn: 0.2953958\ttotal: 248ms\tremaining: 974ms\n",
      "203:\tlearn: 0.2951398\ttotal: 249ms\tremaining: 973ms\n",
      "204:\tlearn: 0.2949661\ttotal: 251ms\tremaining: 972ms\n",
      "205:\tlearn: 0.2945705\ttotal: 252ms\tremaining: 971ms\n",
      "206:\tlearn: 0.2942011\ttotal: 253ms\tremaining: 969ms\n",
      "207:\tlearn: 0.2938852\ttotal: 254ms\tremaining: 968ms\n",
      "208:\tlearn: 0.2934678\ttotal: 256ms\tremaining: 967ms\n",
      "209:\tlearn: 0.2931405\ttotal: 257ms\tremaining: 966ms\n",
      "210:\tlearn: 0.2928976\ttotal: 258ms\tremaining: 965ms\n",
      "211:\tlearn: 0.2925332\ttotal: 259ms\tremaining: 963ms\n",
      "212:\tlearn: 0.2922639\ttotal: 260ms\tremaining: 962ms\n",
      "213:\tlearn: 0.2920488\ttotal: 262ms\tremaining: 961ms\n",
      "214:\tlearn: 0.2918406\ttotal: 263ms\tremaining: 960ms\n",
      "215:\tlearn: 0.2916328\ttotal: 264ms\tremaining: 958ms\n",
      "216:\tlearn: 0.2913921\ttotal: 265ms\tremaining: 957ms\n",
      "217:\tlearn: 0.2911462\ttotal: 266ms\tremaining: 956ms\n",
      "218:\tlearn: 0.2908312\ttotal: 268ms\tremaining: 955ms\n",
      "219:\tlearn: 0.2905928\ttotal: 269ms\tremaining: 953ms\n",
      "220:\tlearn: 0.2903771\ttotal: 270ms\tremaining: 952ms\n",
      "221:\tlearn: 0.2900801\ttotal: 271ms\tremaining: 951ms\n",
      "222:\tlearn: 0.2897683\ttotal: 273ms\tremaining: 950ms\n",
      "223:\tlearn: 0.2895654\ttotal: 274ms\tremaining: 949ms\n",
      "224:\tlearn: 0.2894791\ttotal: 275ms\tremaining: 947ms\n",
      "225:\tlearn: 0.2892457\ttotal: 276ms\tremaining: 946ms\n",
      "226:\tlearn: 0.2888245\ttotal: 277ms\tremaining: 945ms\n",
      "227:\tlearn: 0.2885582\ttotal: 279ms\tremaining: 944ms\n",
      "228:\tlearn: 0.2882848\ttotal: 280ms\tremaining: 942ms\n",
      "229:\tlearn: 0.2881557\ttotal: 281ms\tremaining: 941ms\n",
      "230:\tlearn: 0.2878504\ttotal: 282ms\tremaining: 940ms\n",
      "231:\tlearn: 0.2876408\ttotal: 284ms\tremaining: 939ms\n",
      "232:\tlearn: 0.2873382\ttotal: 285ms\tremaining: 938ms\n",
      "233:\tlearn: 0.2871793\ttotal: 286ms\tremaining: 936ms\n",
      "234:\tlearn: 0.2869797\ttotal: 287ms\tremaining: 935ms\n",
      "235:\tlearn: 0.2867044\ttotal: 288ms\tremaining: 934ms\n",
      "236:\tlearn: 0.2864988\ttotal: 290ms\tremaining: 932ms\n",
      "237:\tlearn: 0.2863207\ttotal: 291ms\tremaining: 931ms\n",
      "238:\tlearn: 0.2861427\ttotal: 292ms\tremaining: 930ms\n",
      "239:\tlearn: 0.2859772\ttotal: 293ms\tremaining: 929ms\n",
      "240:\tlearn: 0.2855738\ttotal: 295ms\tremaining: 928ms\n",
      "241:\tlearn: 0.2853687\ttotal: 296ms\tremaining: 926ms\n",
      "242:\tlearn: 0.2852011\ttotal: 297ms\tremaining: 925ms\n",
      "243:\tlearn: 0.2850434\ttotal: 298ms\tremaining: 924ms\n",
      "244:\tlearn: 0.2848169\ttotal: 299ms\tremaining: 923ms\n",
      "245:\tlearn: 0.2845345\ttotal: 301ms\tremaining: 922ms\n",
      "246:\tlearn: 0.2844052\ttotal: 302ms\tremaining: 920ms\n",
      "247:\tlearn: 0.2842417\ttotal: 303ms\tremaining: 919ms\n",
      "248:\tlearn: 0.2841177\ttotal: 304ms\tremaining: 918ms\n",
      "249:\tlearn: 0.2839370\ttotal: 306ms\tremaining: 917ms\n",
      "250:\tlearn: 0.2838029\ttotal: 307ms\tremaining: 915ms\n",
      "251:\tlearn: 0.2835642\ttotal: 308ms\tremaining: 914ms\n",
      "252:\tlearn: 0.2833598\ttotal: 309ms\tremaining: 913ms\n",
      "253:\tlearn: 0.2831042\ttotal: 310ms\tremaining: 912ms\n",
      "254:\tlearn: 0.2829706\ttotal: 312ms\tremaining: 910ms\n",
      "255:\tlearn: 0.2826443\ttotal: 313ms\tremaining: 909ms\n",
      "256:\tlearn: 0.2824396\ttotal: 314ms\tremaining: 908ms\n",
      "257:\tlearn: 0.2821714\ttotal: 315ms\tremaining: 907ms\n",
      "258:\tlearn: 0.2820868\ttotal: 317ms\tremaining: 906ms\n",
      "259:\tlearn: 0.2819126\ttotal: 318ms\tremaining: 904ms\n",
      "260:\tlearn: 0.2817357\ttotal: 319ms\tremaining: 903ms\n",
      "261:\tlearn: 0.2815449\ttotal: 320ms\tremaining: 902ms\n",
      "262:\tlearn: 0.2813703\ttotal: 322ms\tremaining: 901ms\n",
      "263:\tlearn: 0.2811986\ttotal: 323ms\tremaining: 900ms\n",
      "264:\tlearn: 0.2809819\ttotal: 324ms\tremaining: 899ms\n",
      "265:\tlearn: 0.2807063\ttotal: 325ms\tremaining: 898ms\n",
      "266:\tlearn: 0.2804944\ttotal: 327ms\tremaining: 897ms\n",
      "267:\tlearn: 0.2803093\ttotal: 328ms\tremaining: 896ms\n",
      "268:\tlearn: 0.2800944\ttotal: 329ms\tremaining: 894ms\n",
      "269:\tlearn: 0.2798564\ttotal: 330ms\tremaining: 893ms\n",
      "270:\tlearn: 0.2796721\ttotal: 332ms\tremaining: 892ms\n",
      "271:\tlearn: 0.2796261\ttotal: 333ms\tremaining: 890ms\n",
      "272:\tlearn: 0.2792846\ttotal: 334ms\tremaining: 889ms\n",
      "273:\tlearn: 0.2790747\ttotal: 335ms\tremaining: 888ms\n",
      "274:\tlearn: 0.2788894\ttotal: 336ms\tremaining: 887ms\n",
      "275:\tlearn: 0.2786879\ttotal: 338ms\tremaining: 885ms\n",
      "276:\tlearn: 0.2785105\ttotal: 339ms\tremaining: 884ms\n",
      "277:\tlearn: 0.2783093\ttotal: 340ms\tremaining: 883ms\n",
      "278:\tlearn: 0.2780776\ttotal: 341ms\tremaining: 882ms\n",
      "279:\tlearn: 0.2779130\ttotal: 343ms\tremaining: 881ms\n",
      "280:\tlearn: 0.2776305\ttotal: 344ms\tremaining: 880ms\n",
      "281:\tlearn: 0.2775051\ttotal: 345ms\tremaining: 878ms\n",
      "282:\tlearn: 0.2774014\ttotal: 346ms\tremaining: 877ms\n",
      "283:\tlearn: 0.2771014\ttotal: 347ms\tremaining: 876ms\n",
      "284:\tlearn: 0.2768150\ttotal: 349ms\tremaining: 875ms\n",
      "285:\tlearn: 0.2765690\ttotal: 350ms\tremaining: 873ms\n",
      "286:\tlearn: 0.2763372\ttotal: 351ms\tremaining: 872ms\n",
      "287:\tlearn: 0.2761153\ttotal: 352ms\tremaining: 871ms\n",
      "288:\tlearn: 0.2758020\ttotal: 354ms\tremaining: 870ms\n",
      "289:\tlearn: 0.2755591\ttotal: 355ms\tremaining: 869ms\n",
      "290:\tlearn: 0.2754064\ttotal: 356ms\tremaining: 867ms\n",
      "291:\tlearn: 0.2752590\ttotal: 357ms\tremaining: 867ms\n",
      "292:\tlearn: 0.2750349\ttotal: 359ms\tremaining: 865ms\n",
      "293:\tlearn: 0.2748377\ttotal: 360ms\tremaining: 864ms\n",
      "294:\tlearn: 0.2745624\ttotal: 361ms\tremaining: 863ms\n",
      "295:\tlearn: 0.2745358\ttotal: 362ms\tremaining: 861ms\n",
      "296:\tlearn: 0.2743973\ttotal: 363ms\tremaining: 859ms\n",
      "297:\tlearn: 0.2742283\ttotal: 364ms\tremaining: 858ms\n",
      "298:\tlearn: 0.2740743\ttotal: 365ms\tremaining: 857ms\n",
      "299:\tlearn: 0.2739123\ttotal: 367ms\tremaining: 856ms\n",
      "300:\tlearn: 0.2735145\ttotal: 368ms\tremaining: 854ms\n",
      "301:\tlearn: 0.2732498\ttotal: 369ms\tremaining: 853ms\n",
      "302:\tlearn: 0.2730755\ttotal: 370ms\tremaining: 852ms\n",
      "303:\tlearn: 0.2730584\ttotal: 371ms\tremaining: 850ms\n",
      "304:\tlearn: 0.2728803\ttotal: 372ms\tremaining: 848ms\n",
      "305:\tlearn: 0.2726504\ttotal: 374ms\tremaining: 847ms\n",
      "306:\tlearn: 0.2723459\ttotal: 375ms\tremaining: 846ms\n",
      "307:\tlearn: 0.2720991\ttotal: 376ms\tremaining: 845ms\n",
      "308:\tlearn: 0.2718584\ttotal: 377ms\tremaining: 843ms\n",
      "309:\tlearn: 0.2716413\ttotal: 378ms\tremaining: 842ms\n",
      "310:\tlearn: 0.2715276\ttotal: 380ms\tremaining: 841ms\n",
      "311:\tlearn: 0.2713038\ttotal: 381ms\tremaining: 840ms\n",
      "312:\tlearn: 0.2710003\ttotal: 382ms\tremaining: 839ms\n",
      "313:\tlearn: 0.2707964\ttotal: 383ms\tremaining: 837ms\n",
      "314:\tlearn: 0.2705865\ttotal: 385ms\tremaining: 836ms\n",
      "315:\tlearn: 0.2703299\ttotal: 386ms\tremaining: 835ms\n",
      "316:\tlearn: 0.2701711\ttotal: 387ms\tremaining: 834ms\n",
      "317:\tlearn: 0.2698947\ttotal: 388ms\tremaining: 833ms\n",
      "318:\tlearn: 0.2697422\ttotal: 390ms\tremaining: 832ms\n",
      "319:\tlearn: 0.2695370\ttotal: 391ms\tremaining: 830ms\n",
      "320:\tlearn: 0.2693150\ttotal: 392ms\tremaining: 829ms\n",
      "321:\tlearn: 0.2691630\ttotal: 393ms\tremaining: 828ms\n",
      "322:\tlearn: 0.2689366\ttotal: 395ms\tremaining: 827ms\n",
      "323:\tlearn: 0.2686851\ttotal: 396ms\tremaining: 826ms\n",
      "324:\tlearn: 0.2684974\ttotal: 397ms\tremaining: 824ms\n",
      "325:\tlearn: 0.2682672\ttotal: 398ms\tremaining: 823ms\n",
      "326:\tlearn: 0.2680679\ttotal: 399ms\tremaining: 822ms\n"
     ]
    },
    {
     "name": "stdout",
     "output_type": "stream",
     "text": [
      "327:\tlearn: 0.2679253\ttotal: 401ms\tremaining: 822ms\n",
      "328:\tlearn: 0.2677481\ttotal: 402ms\tremaining: 821ms\n",
      "329:\tlearn: 0.2675445\ttotal: 404ms\tremaining: 819ms\n",
      "330:\tlearn: 0.2674145\ttotal: 405ms\tremaining: 818ms\n",
      "331:\tlearn: 0.2672505\ttotal: 406ms\tremaining: 817ms\n",
      "332:\tlearn: 0.2671297\ttotal: 408ms\tremaining: 816ms\n",
      "333:\tlearn: 0.2668599\ttotal: 409ms\tremaining: 815ms\n",
      "334:\tlearn: 0.2667073\ttotal: 410ms\tremaining: 814ms\n",
      "335:\tlearn: 0.2665584\ttotal: 412ms\tremaining: 813ms\n",
      "336:\tlearn: 0.2664465\ttotal: 413ms\tremaining: 813ms\n",
      "337:\tlearn: 0.2662552\ttotal: 414ms\tremaining: 812ms\n",
      "338:\tlearn: 0.2660988\ttotal: 416ms\tremaining: 811ms\n",
      "339:\tlearn: 0.2659878\ttotal: 417ms\tremaining: 810ms\n",
      "340:\tlearn: 0.2657801\ttotal: 419ms\tremaining: 809ms\n",
      "341:\tlearn: 0.2655708\ttotal: 420ms\tremaining: 808ms\n",
      "342:\tlearn: 0.2653607\ttotal: 421ms\tremaining: 807ms\n",
      "343:\tlearn: 0.2652694\ttotal: 422ms\tremaining: 805ms\n",
      "344:\tlearn: 0.2651410\ttotal: 423ms\tremaining: 804ms\n",
      "345:\tlearn: 0.2650290\ttotal: 425ms\tremaining: 803ms\n",
      "346:\tlearn: 0.2648386\ttotal: 426ms\tremaining: 802ms\n",
      "347:\tlearn: 0.2647057\ttotal: 427ms\tremaining: 800ms\n",
      "348:\tlearn: 0.2645714\ttotal: 428ms\tremaining: 799ms\n",
      "349:\tlearn: 0.2643830\ttotal: 430ms\tremaining: 798ms\n",
      "350:\tlearn: 0.2642815\ttotal: 431ms\tremaining: 797ms\n",
      "351:\tlearn: 0.2640254\ttotal: 432ms\tremaining: 796ms\n",
      "352:\tlearn: 0.2638045\ttotal: 434ms\tremaining: 795ms\n",
      "353:\tlearn: 0.2636262\ttotal: 435ms\tremaining: 794ms\n",
      "354:\tlearn: 0.2634455\ttotal: 436ms\tremaining: 792ms\n",
      "355:\tlearn: 0.2633163\ttotal: 437ms\tremaining: 791ms\n",
      "356:\tlearn: 0.2631471\ttotal: 439ms\tremaining: 790ms\n",
      "357:\tlearn: 0.2630136\ttotal: 440ms\tremaining: 789ms\n",
      "358:\tlearn: 0.2628558\ttotal: 441ms\tremaining: 788ms\n",
      "359:\tlearn: 0.2626395\ttotal: 442ms\tremaining: 786ms\n",
      "360:\tlearn: 0.2625292\ttotal: 444ms\tremaining: 785ms\n",
      "361:\tlearn: 0.2624194\ttotal: 445ms\tremaining: 784ms\n",
      "362:\tlearn: 0.2623347\ttotal: 446ms\tremaining: 783ms\n",
      "363:\tlearn: 0.2621563\ttotal: 447ms\tremaining: 781ms\n",
      "364:\tlearn: 0.2620188\ttotal: 448ms\tremaining: 780ms\n",
      "365:\tlearn: 0.2617848\ttotal: 450ms\tremaining: 779ms\n",
      "366:\tlearn: 0.2616446\ttotal: 451ms\tremaining: 777ms\n",
      "367:\tlearn: 0.2614433\ttotal: 452ms\tremaining: 776ms\n",
      "368:\tlearn: 0.2612338\ttotal: 453ms\tremaining: 775ms\n",
      "369:\tlearn: 0.2610412\ttotal: 454ms\tremaining: 774ms\n",
      "370:\tlearn: 0.2609505\ttotal: 456ms\tremaining: 773ms\n",
      "371:\tlearn: 0.2608239\ttotal: 457ms\tremaining: 771ms\n",
      "372:\tlearn: 0.2606672\ttotal: 458ms\tremaining: 770ms\n",
      "373:\tlearn: 0.2604984\ttotal: 459ms\tremaining: 769ms\n",
      "374:\tlearn: 0.2603812\ttotal: 461ms\tremaining: 768ms\n",
      "375:\tlearn: 0.2602202\ttotal: 462ms\tremaining: 766ms\n",
      "376:\tlearn: 0.2600835\ttotal: 463ms\tremaining: 765ms\n",
      "377:\tlearn: 0.2597289\ttotal: 464ms\tremaining: 764ms\n",
      "378:\tlearn: 0.2595789\ttotal: 465ms\tremaining: 763ms\n",
      "379:\tlearn: 0.2595012\ttotal: 467ms\tremaining: 761ms\n",
      "380:\tlearn: 0.2593028\ttotal: 468ms\tremaining: 760ms\n",
      "381:\tlearn: 0.2592181\ttotal: 469ms\tremaining: 759ms\n",
      "382:\tlearn: 0.2591013\ttotal: 470ms\tremaining: 758ms\n",
      "383:\tlearn: 0.2589746\ttotal: 472ms\tremaining: 756ms\n",
      "384:\tlearn: 0.2588697\ttotal: 473ms\tremaining: 755ms\n",
      "385:\tlearn: 0.2585992\ttotal: 474ms\tremaining: 754ms\n",
      "386:\tlearn: 0.2584671\ttotal: 475ms\tremaining: 753ms\n",
      "387:\tlearn: 0.2582117\ttotal: 476ms\tremaining: 752ms\n",
      "388:\tlearn: 0.2580048\ttotal: 478ms\tremaining: 750ms\n",
      "389:\tlearn: 0.2578892\ttotal: 479ms\tremaining: 749ms\n",
      "390:\tlearn: 0.2578159\ttotal: 480ms\tremaining: 748ms\n",
      "391:\tlearn: 0.2575824\ttotal: 481ms\tremaining: 747ms\n",
      "392:\tlearn: 0.2574847\ttotal: 483ms\tremaining: 745ms\n",
      "393:\tlearn: 0.2572383\ttotal: 484ms\tremaining: 744ms\n",
      "394:\tlearn: 0.2571184\ttotal: 485ms\tremaining: 743ms\n",
      "395:\tlearn: 0.2570256\ttotal: 486ms\tremaining: 742ms\n",
      "396:\tlearn: 0.2568323\ttotal: 487ms\tremaining: 740ms\n",
      "397:\tlearn: 0.2567063\ttotal: 489ms\tremaining: 739ms\n",
      "398:\tlearn: 0.2565007\ttotal: 490ms\tremaining: 738ms\n",
      "399:\tlearn: 0.2563855\ttotal: 491ms\tremaining: 737ms\n",
      "400:\tlearn: 0.2562437\ttotal: 492ms\tremaining: 735ms\n",
      "401:\tlearn: 0.2559775\ttotal: 494ms\tremaining: 734ms\n",
      "402:\tlearn: 0.2557119\ttotal: 495ms\tremaining: 733ms\n",
      "403:\tlearn: 0.2552830\ttotal: 496ms\tremaining: 732ms\n",
      "404:\tlearn: 0.2551827\ttotal: 497ms\tremaining: 731ms\n",
      "405:\tlearn: 0.2550281\ttotal: 499ms\tremaining: 729ms\n",
      "406:\tlearn: 0.2548254\ttotal: 500ms\tremaining: 728ms\n",
      "407:\tlearn: 0.2545372\ttotal: 501ms\tremaining: 727ms\n",
      "408:\tlearn: 0.2543116\ttotal: 502ms\tremaining: 726ms\n",
      "409:\tlearn: 0.2542059\ttotal: 503ms\tremaining: 724ms\n",
      "410:\tlearn: 0.2541241\ttotal: 505ms\tremaining: 723ms\n",
      "411:\tlearn: 0.2538282\ttotal: 506ms\tremaining: 722ms\n",
      "412:\tlearn: 0.2537975\ttotal: 507ms\tremaining: 721ms\n",
      "413:\tlearn: 0.2536808\ttotal: 508ms\tremaining: 719ms\n",
      "414:\tlearn: 0.2535252\ttotal: 509ms\tremaining: 718ms\n",
      "415:\tlearn: 0.2532974\ttotal: 511ms\tremaining: 717ms\n",
      "416:\tlearn: 0.2531098\ttotal: 512ms\tremaining: 716ms\n",
      "417:\tlearn: 0.2528697\ttotal: 513ms\tremaining: 714ms\n",
      "418:\tlearn: 0.2526301\ttotal: 514ms\tremaining: 713ms\n",
      "419:\tlearn: 0.2523954\ttotal: 516ms\tremaining: 712ms\n",
      "420:\tlearn: 0.2522985\ttotal: 517ms\tremaining: 711ms\n",
      "421:\tlearn: 0.2520222\ttotal: 518ms\tremaining: 710ms\n",
      "422:\tlearn: 0.2518087\ttotal: 519ms\tremaining: 708ms\n",
      "423:\tlearn: 0.2515632\ttotal: 520ms\tremaining: 707ms\n",
      "424:\tlearn: 0.2514642\ttotal: 522ms\tremaining: 706ms\n",
      "425:\tlearn: 0.2512707\ttotal: 523ms\tremaining: 705ms\n",
      "426:\tlearn: 0.2509705\ttotal: 524ms\tremaining: 704ms\n",
      "427:\tlearn: 0.2507608\ttotal: 526ms\tremaining: 702ms\n",
      "428:\tlearn: 0.2504955\ttotal: 527ms\tremaining: 701ms\n",
      "429:\tlearn: 0.2503836\ttotal: 528ms\tremaining: 700ms\n",
      "430:\tlearn: 0.2502206\ttotal: 529ms\tremaining: 699ms\n",
      "431:\tlearn: 0.2499746\ttotal: 530ms\tremaining: 698ms\n",
      "432:\tlearn: 0.2498868\ttotal: 532ms\tremaining: 696ms\n",
      "433:\tlearn: 0.2497855\ttotal: 533ms\tremaining: 695ms\n",
      "434:\tlearn: 0.2496341\ttotal: 534ms\tremaining: 694ms\n",
      "435:\tlearn: 0.2494724\ttotal: 535ms\tremaining: 693ms\n",
      "436:\tlearn: 0.2492543\ttotal: 537ms\tremaining: 691ms\n",
      "437:\tlearn: 0.2491304\ttotal: 538ms\tremaining: 690ms\n",
      "438:\tlearn: 0.2489935\ttotal: 539ms\tremaining: 689ms\n",
      "439:\tlearn: 0.2488944\ttotal: 540ms\tremaining: 688ms\n",
      "440:\tlearn: 0.2487263\ttotal: 542ms\tremaining: 686ms\n",
      "441:\tlearn: 0.2485393\ttotal: 543ms\tremaining: 685ms\n",
      "442:\tlearn: 0.2482059\ttotal: 544ms\tremaining: 684ms\n",
      "443:\tlearn: 0.2480964\ttotal: 545ms\tremaining: 683ms\n",
      "444:\tlearn: 0.2479734\ttotal: 546ms\tremaining: 682ms\n",
      "445:\tlearn: 0.2477305\ttotal: 548ms\tremaining: 680ms\n",
      "446:\tlearn: 0.2475780\ttotal: 549ms\tremaining: 679ms\n",
      "447:\tlearn: 0.2474780\ttotal: 550ms\tremaining: 678ms\n",
      "448:\tlearn: 0.2473695\ttotal: 551ms\tremaining: 677ms\n",
      "449:\tlearn: 0.2472898\ttotal: 553ms\tremaining: 675ms\n",
      "450:\tlearn: 0.2470829\ttotal: 554ms\tremaining: 674ms\n",
      "451:\tlearn: 0.2469311\ttotal: 555ms\tremaining: 673ms\n",
      "452:\tlearn: 0.2467390\ttotal: 556ms\tremaining: 672ms\n",
      "453:\tlearn: 0.2466420\ttotal: 557ms\tremaining: 670ms\n",
      "454:\tlearn: 0.2463153\ttotal: 559ms\tremaining: 669ms\n",
      "455:\tlearn: 0.2461116\ttotal: 560ms\tremaining: 668ms\n",
      "456:\tlearn: 0.2459154\ttotal: 561ms\tremaining: 667ms\n",
      "457:\tlearn: 0.2456753\ttotal: 562ms\tremaining: 665ms\n",
      "458:\tlearn: 0.2455531\ttotal: 564ms\tremaining: 664ms\n",
      "459:\tlearn: 0.2453673\ttotal: 565ms\tremaining: 663ms\n",
      "460:\tlearn: 0.2452875\ttotal: 566ms\tremaining: 662ms\n",
      "461:\tlearn: 0.2451584\ttotal: 567ms\tremaining: 660ms\n",
      "462:\tlearn: 0.2449536\ttotal: 568ms\tremaining: 659ms\n",
      "463:\tlearn: 0.2447794\ttotal: 570ms\tremaining: 658ms\n",
      "464:\tlearn: 0.2446990\ttotal: 571ms\tremaining: 657ms\n",
      "465:\tlearn: 0.2446079\ttotal: 572ms\tremaining: 656ms\n",
      "466:\tlearn: 0.2445373\ttotal: 573ms\tremaining: 654ms\n",
      "467:\tlearn: 0.2444051\ttotal: 575ms\tremaining: 653ms\n",
      "468:\tlearn: 0.2442147\ttotal: 576ms\tremaining: 652ms\n",
      "469:\tlearn: 0.2440407\ttotal: 577ms\tremaining: 651ms\n",
      "470:\tlearn: 0.2439174\ttotal: 578ms\tremaining: 650ms\n",
      "471:\tlearn: 0.2437721\ttotal: 580ms\tremaining: 648ms\n",
      "472:\tlearn: 0.2435325\ttotal: 581ms\tremaining: 647ms\n",
      "473:\tlearn: 0.2433464\ttotal: 583ms\tremaining: 646ms\n",
      "474:\tlearn: 0.2431595\ttotal: 584ms\tremaining: 645ms\n",
      "475:\tlearn: 0.2430190\ttotal: 585ms\tremaining: 644ms\n",
      "476:\tlearn: 0.2428200\ttotal: 586ms\tremaining: 643ms\n",
      "477:\tlearn: 0.2426810\ttotal: 588ms\tremaining: 642ms\n",
      "478:\tlearn: 0.2423566\ttotal: 589ms\tremaining: 640ms\n",
      "479:\tlearn: 0.2421830\ttotal: 590ms\tremaining: 639ms\n",
      "480:\tlearn: 0.2421057\ttotal: 591ms\tremaining: 638ms\n",
      "481:\tlearn: 0.2420083\ttotal: 593ms\tremaining: 637ms\n",
      "482:\tlearn: 0.2418600\ttotal: 594ms\tremaining: 636ms\n",
      "483:\tlearn: 0.2416603\ttotal: 595ms\tremaining: 635ms\n",
      "484:\tlearn: 0.2415775\ttotal: 597ms\tremaining: 634ms\n",
      "485:\tlearn: 0.2413912\ttotal: 598ms\tremaining: 632ms\n",
      "486:\tlearn: 0.2412424\ttotal: 599ms\tremaining: 631ms\n",
      "487:\tlearn: 0.2410743\ttotal: 601ms\tremaining: 630ms\n",
      "488:\tlearn: 0.2409701\ttotal: 602ms\tremaining: 629ms\n",
      "489:\tlearn: 0.2408892\ttotal: 603ms\tremaining: 628ms\n",
      "490:\tlearn: 0.2407504\ttotal: 604ms\tremaining: 627ms\n",
      "491:\tlearn: 0.2406173\ttotal: 606ms\tremaining: 625ms\n",
      "492:\tlearn: 0.2404877\ttotal: 607ms\tremaining: 624ms\n",
      "493:\tlearn: 0.2403291\ttotal: 608ms\tremaining: 623ms\n",
      "494:\tlearn: 0.2401399\ttotal: 610ms\tremaining: 622ms\n",
      "495:\tlearn: 0.2400215\ttotal: 611ms\tremaining: 621ms\n",
      "496:\tlearn: 0.2397734\ttotal: 612ms\tremaining: 619ms\n",
      "497:\tlearn: 0.2396252\ttotal: 613ms\tremaining: 618ms\n",
      "498:\tlearn: 0.2394261\ttotal: 615ms\tremaining: 617ms\n",
      "499:\tlearn: 0.2392454\ttotal: 616ms\tremaining: 616ms\n",
      "500:\tlearn: 0.2391355\ttotal: 617ms\tremaining: 615ms\n",
      "501:\tlearn: 0.2390685\ttotal: 618ms\tremaining: 613ms\n",
      "502:\tlearn: 0.2389534\ttotal: 620ms\tremaining: 612ms\n",
      "503:\tlearn: 0.2388208\ttotal: 621ms\tremaining: 611ms\n",
      "504:\tlearn: 0.2386891\ttotal: 622ms\tremaining: 610ms\n",
      "505:\tlearn: 0.2383995\ttotal: 624ms\tremaining: 609ms\n",
      "506:\tlearn: 0.2381486\ttotal: 625ms\tremaining: 608ms\n",
      "507:\tlearn: 0.2379621\ttotal: 626ms\tremaining: 606ms\n",
      "508:\tlearn: 0.2377308\ttotal: 628ms\tremaining: 605ms\n",
      "509:\tlearn: 0.2375672\ttotal: 629ms\tremaining: 604ms\n",
      "510:\tlearn: 0.2373989\ttotal: 630ms\tremaining: 603ms\n",
      "511:\tlearn: 0.2372409\ttotal: 631ms\tremaining: 602ms\n",
      "512:\tlearn: 0.2370028\ttotal: 633ms\tremaining: 601ms\n",
      "513:\tlearn: 0.2368881\ttotal: 634ms\tremaining: 599ms\n",
      "514:\tlearn: 0.2367191\ttotal: 635ms\tremaining: 598ms\n",
      "515:\tlearn: 0.2365438\ttotal: 637ms\tremaining: 597ms\n",
      "516:\tlearn: 0.2363698\ttotal: 638ms\tremaining: 596ms\n",
      "517:\tlearn: 0.2361892\ttotal: 639ms\tremaining: 595ms\n",
      "518:\tlearn: 0.2360676\ttotal: 641ms\tremaining: 594ms\n",
      "519:\tlearn: 0.2358741\ttotal: 642ms\tremaining: 593ms\n",
      "520:\tlearn: 0.2357706\ttotal: 643ms\tremaining: 591ms\n",
      "521:\tlearn: 0.2355765\ttotal: 644ms\tremaining: 590ms\n",
      "522:\tlearn: 0.2353554\ttotal: 646ms\tremaining: 589ms\n",
      "523:\tlearn: 0.2352461\ttotal: 647ms\tremaining: 588ms\n",
      "524:\tlearn: 0.2351910\ttotal: 648ms\tremaining: 587ms\n",
      "525:\tlearn: 0.2351285\ttotal: 650ms\tremaining: 585ms\n",
      "526:\tlearn: 0.2349589\ttotal: 651ms\tremaining: 584ms\n",
      "527:\tlearn: 0.2348145\ttotal: 652ms\tremaining: 583ms\n",
      "528:\tlearn: 0.2346839\ttotal: 654ms\tremaining: 582ms\n",
      "529:\tlearn: 0.2344804\ttotal: 655ms\tremaining: 581ms\n",
      "530:\tlearn: 0.2343003\ttotal: 656ms\tremaining: 580ms\n",
      "531:\tlearn: 0.2342009\ttotal: 657ms\tremaining: 578ms\n",
      "532:\tlearn: 0.2340403\ttotal: 659ms\tremaining: 577ms\n",
      "533:\tlearn: 0.2339125\ttotal: 660ms\tremaining: 576ms\n",
      "534:\tlearn: 0.2337713\ttotal: 661ms\tremaining: 575ms\n",
      "535:\tlearn: 0.2336007\ttotal: 663ms\tremaining: 574ms\n",
      "536:\tlearn: 0.2334078\ttotal: 664ms\tremaining: 572ms\n",
      "537:\tlearn: 0.2332697\ttotal: 665ms\tremaining: 571ms\n",
      "538:\tlearn: 0.2331824\ttotal: 667ms\tremaining: 570ms\n",
      "539:\tlearn: 0.2330293\ttotal: 668ms\tremaining: 569ms\n",
      "540:\tlearn: 0.2328857\ttotal: 669ms\tremaining: 568ms\n",
      "541:\tlearn: 0.2328000\ttotal: 671ms\tremaining: 567ms\n",
      "542:\tlearn: 0.2327541\ttotal: 672ms\tremaining: 565ms\n",
      "543:\tlearn: 0.2326887\ttotal: 673ms\tremaining: 564ms\n",
      "544:\tlearn: 0.2325520\ttotal: 674ms\tremaining: 563ms\n",
      "545:\tlearn: 0.2324171\ttotal: 676ms\tremaining: 562ms\n",
      "546:\tlearn: 0.2323374\ttotal: 677ms\tremaining: 561ms\n",
      "547:\tlearn: 0.2322098\ttotal: 678ms\tremaining: 559ms\n",
      "548:\tlearn: 0.2320506\ttotal: 680ms\tremaining: 558ms\n",
      "549:\tlearn: 0.2319411\ttotal: 681ms\tremaining: 557ms\n",
      "550:\tlearn: 0.2318375\ttotal: 682ms\tremaining: 556ms\n",
      "551:\tlearn: 0.2316636\ttotal: 684ms\tremaining: 555ms\n",
      "552:\tlearn: 0.2315679\ttotal: 685ms\tremaining: 554ms\n",
      "553:\tlearn: 0.2314963\ttotal: 686ms\tremaining: 553ms\n",
      "554:\tlearn: 0.2313881\ttotal: 688ms\tremaining: 551ms\n",
      "555:\tlearn: 0.2313003\ttotal: 689ms\tremaining: 550ms\n",
      "556:\tlearn: 0.2311345\ttotal: 690ms\tremaining: 549ms\n",
      "557:\tlearn: 0.2310463\ttotal: 692ms\tremaining: 548ms\n",
      "558:\tlearn: 0.2309664\ttotal: 693ms\tremaining: 547ms\n",
      "559:\tlearn: 0.2308440\ttotal: 694ms\tremaining: 545ms\n",
      "560:\tlearn: 0.2306132\ttotal: 695ms\tremaining: 544ms\n",
      "561:\tlearn: 0.2305025\ttotal: 697ms\tremaining: 543ms\n",
      "562:\tlearn: 0.2303298\ttotal: 698ms\tremaining: 542ms\n",
      "563:\tlearn: 0.2301606\ttotal: 700ms\tremaining: 541ms\n",
      "564:\tlearn: 0.2299827\ttotal: 701ms\tremaining: 540ms\n",
      "565:\tlearn: 0.2298839\ttotal: 702ms\tremaining: 539ms\n",
      "566:\tlearn: 0.2297355\ttotal: 704ms\tremaining: 537ms\n",
      "567:\tlearn: 0.2295694\ttotal: 705ms\tremaining: 536ms\n",
      "568:\tlearn: 0.2294282\ttotal: 706ms\tremaining: 535ms\n",
      "569:\tlearn: 0.2293796\ttotal: 708ms\tremaining: 534ms\n",
      "570:\tlearn: 0.2292429\ttotal: 709ms\tremaining: 533ms\n",
      "571:\tlearn: 0.2291178\ttotal: 710ms\tremaining: 531ms\n",
      "572:\tlearn: 0.2290265\ttotal: 711ms\tremaining: 530ms\n",
      "573:\tlearn: 0.2289128\ttotal: 713ms\tremaining: 529ms\n",
      "574:\tlearn: 0.2287921\ttotal: 714ms\tremaining: 528ms\n",
      "575:\tlearn: 0.2285836\ttotal: 715ms\tremaining: 527ms\n",
      "576:\tlearn: 0.2284713\ttotal: 717ms\tremaining: 525ms\n",
      "577:\tlearn: 0.2283502\ttotal: 718ms\tremaining: 524ms\n",
      "578:\tlearn: 0.2282680\ttotal: 719ms\tremaining: 523ms\n",
      "579:\tlearn: 0.2281339\ttotal: 721ms\tremaining: 522ms\n",
      "580:\tlearn: 0.2280154\ttotal: 722ms\tremaining: 521ms\n",
      "581:\tlearn: 0.2279053\ttotal: 723ms\tremaining: 519ms\n",
      "582:\tlearn: 0.2277644\ttotal: 724ms\tremaining: 518ms\n",
      "583:\tlearn: 0.2276831\ttotal: 726ms\tremaining: 517ms\n",
      "584:\tlearn: 0.2274687\ttotal: 727ms\tremaining: 516ms\n",
      "585:\tlearn: 0.2273434\ttotal: 728ms\tremaining: 515ms\n",
      "586:\tlearn: 0.2271202\ttotal: 730ms\tremaining: 513ms\n",
      "587:\tlearn: 0.2270214\ttotal: 731ms\tremaining: 512ms\n",
      "588:\tlearn: 0.2269604\ttotal: 732ms\tremaining: 511ms\n",
      "589:\tlearn: 0.2267769\ttotal: 734ms\tremaining: 510ms\n",
      "590:\tlearn: 0.2266604\ttotal: 735ms\tremaining: 508ms\n",
      "591:\tlearn: 0.2265359\ttotal: 736ms\tremaining: 507ms\n",
      "592:\tlearn: 0.2264370\ttotal: 737ms\tremaining: 506ms\n",
      "593:\tlearn: 0.2263144\ttotal: 739ms\tremaining: 505ms\n",
      "594:\tlearn: 0.2260691\ttotal: 740ms\tremaining: 504ms\n",
      "595:\tlearn: 0.2259319\ttotal: 741ms\tremaining: 502ms\n",
      "596:\tlearn: 0.2257544\ttotal: 742ms\tremaining: 501ms\n",
      "597:\tlearn: 0.2256813\ttotal: 744ms\tremaining: 500ms\n",
      "598:\tlearn: 0.2255186\ttotal: 745ms\tremaining: 499ms\n",
      "599:\tlearn: 0.2254008\ttotal: 746ms\tremaining: 497ms\n",
      "600:\tlearn: 0.2253101\ttotal: 747ms\tremaining: 496ms\n",
      "601:\tlearn: 0.2251179\ttotal: 748ms\tremaining: 495ms\n",
      "602:\tlearn: 0.2249704\ttotal: 750ms\tremaining: 494ms\n",
      "603:\tlearn: 0.2249099\ttotal: 751ms\tremaining: 492ms\n",
      "604:\tlearn: 0.2247398\ttotal: 752ms\tremaining: 491ms\n",
      "605:\tlearn: 0.2245416\ttotal: 753ms\tremaining: 490ms\n",
      "606:\tlearn: 0.2244086\ttotal: 755ms\tremaining: 489ms\n",
      "607:\tlearn: 0.2242930\ttotal: 756ms\tremaining: 487ms\n",
      "608:\tlearn: 0.2241163\ttotal: 757ms\tremaining: 486ms\n",
      "609:\tlearn: 0.2240279\ttotal: 758ms\tremaining: 485ms\n",
      "610:\tlearn: 0.2238701\ttotal: 759ms\tremaining: 483ms\n",
      "611:\tlearn: 0.2236685\ttotal: 761ms\tremaining: 482ms\n",
      "612:\tlearn: 0.2235111\ttotal: 762ms\tremaining: 481ms\n",
      "613:\tlearn: 0.2233600\ttotal: 763ms\tremaining: 480ms\n",
      "614:\tlearn: 0.2231529\ttotal: 764ms\tremaining: 478ms\n",
      "615:\tlearn: 0.2230106\ttotal: 765ms\tremaining: 477ms\n",
      "616:\tlearn: 0.2228710\ttotal: 767ms\tremaining: 476ms\n",
      "617:\tlearn: 0.2227643\ttotal: 768ms\tremaining: 475ms\n",
      "618:\tlearn: 0.2225737\ttotal: 769ms\tremaining: 473ms\n",
      "619:\tlearn: 0.2224433\ttotal: 770ms\tremaining: 472ms\n",
      "620:\tlearn: 0.2223260\ttotal: 772ms\tremaining: 471ms\n",
      "621:\tlearn: 0.2220885\ttotal: 773ms\tremaining: 470ms\n",
      "622:\tlearn: 0.2220077\ttotal: 774ms\tremaining: 468ms\n",
      "623:\tlearn: 0.2219079\ttotal: 775ms\tremaining: 467ms\n",
      "624:\tlearn: 0.2217903\ttotal: 777ms\tremaining: 466ms\n",
      "625:\tlearn: 0.2217159\ttotal: 778ms\tremaining: 465ms\n",
      "626:\tlearn: 0.2216134\ttotal: 779ms\tremaining: 463ms\n",
      "627:\tlearn: 0.2214366\ttotal: 780ms\tremaining: 462ms\n",
      "628:\tlearn: 0.2213448\ttotal: 782ms\tremaining: 461ms\n",
      "629:\tlearn: 0.2212116\ttotal: 783ms\tremaining: 460ms\n",
      "630:\tlearn: 0.2209788\ttotal: 784ms\tremaining: 458ms\n",
      "631:\tlearn: 0.2209040\ttotal: 785ms\tremaining: 457ms\n",
      "632:\tlearn: 0.2207517\ttotal: 787ms\tremaining: 456ms\n",
      "633:\tlearn: 0.2206888\ttotal: 788ms\tremaining: 455ms\n"
     ]
    },
    {
     "name": "stdout",
     "output_type": "stream",
     "text": [
      "634:\tlearn: 0.2206049\ttotal: 789ms\tremaining: 454ms\n",
      "635:\tlearn: 0.2204811\ttotal: 791ms\tremaining: 453ms\n",
      "636:\tlearn: 0.2203786\ttotal: 792ms\tremaining: 451ms\n",
      "637:\tlearn: 0.2202469\ttotal: 793ms\tremaining: 450ms\n",
      "638:\tlearn: 0.2201759\ttotal: 795ms\tremaining: 449ms\n",
      "639:\tlearn: 0.2200726\ttotal: 796ms\tremaining: 448ms\n",
      "640:\tlearn: 0.2199468\ttotal: 797ms\tremaining: 447ms\n",
      "641:\tlearn: 0.2198459\ttotal: 799ms\tremaining: 445ms\n",
      "642:\tlearn: 0.2196503\ttotal: 800ms\tremaining: 444ms\n",
      "643:\tlearn: 0.2195734\ttotal: 801ms\tremaining: 443ms\n",
      "644:\tlearn: 0.2193509\ttotal: 803ms\tremaining: 442ms\n",
      "645:\tlearn: 0.2191923\ttotal: 804ms\tremaining: 441ms\n",
      "646:\tlearn: 0.2190901\ttotal: 805ms\tremaining: 439ms\n",
      "647:\tlearn: 0.2189469\ttotal: 807ms\tremaining: 438ms\n",
      "648:\tlearn: 0.2188725\ttotal: 808ms\tremaining: 437ms\n",
      "649:\tlearn: 0.2186449\ttotal: 810ms\tremaining: 436ms\n",
      "650:\tlearn: 0.2185666\ttotal: 811ms\tremaining: 435ms\n",
      "651:\tlearn: 0.2183862\ttotal: 812ms\tremaining: 434ms\n",
      "652:\tlearn: 0.2181570\ttotal: 814ms\tremaining: 432ms\n",
      "653:\tlearn: 0.2180368\ttotal: 815ms\tremaining: 431ms\n",
      "654:\tlearn: 0.2178844\ttotal: 816ms\tremaining: 430ms\n",
      "655:\tlearn: 0.2177356\ttotal: 818ms\tremaining: 429ms\n",
      "656:\tlearn: 0.2176282\ttotal: 819ms\tremaining: 428ms\n",
      "657:\tlearn: 0.2174982\ttotal: 821ms\tremaining: 427ms\n",
      "658:\tlearn: 0.2172686\ttotal: 822ms\tremaining: 425ms\n",
      "659:\tlearn: 0.2171633\ttotal: 823ms\tremaining: 424ms\n",
      "660:\tlearn: 0.2170188\ttotal: 825ms\tremaining: 423ms\n",
      "661:\tlearn: 0.2168237\ttotal: 826ms\tremaining: 422ms\n",
      "662:\tlearn: 0.2166951\ttotal: 827ms\tremaining: 421ms\n",
      "663:\tlearn: 0.2166292\ttotal: 829ms\tremaining: 419ms\n",
      "664:\tlearn: 0.2165544\ttotal: 830ms\tremaining: 418ms\n",
      "665:\tlearn: 0.2164651\ttotal: 831ms\tremaining: 417ms\n",
      "666:\tlearn: 0.2163644\ttotal: 833ms\tremaining: 416ms\n",
      "667:\tlearn: 0.2162355\ttotal: 834ms\tremaining: 414ms\n",
      "668:\tlearn: 0.2161129\ttotal: 835ms\tremaining: 413ms\n",
      "669:\tlearn: 0.2159562\ttotal: 837ms\tremaining: 412ms\n",
      "670:\tlearn: 0.2158038\ttotal: 838ms\tremaining: 411ms\n",
      "671:\tlearn: 0.2156654\ttotal: 839ms\tremaining: 410ms\n",
      "672:\tlearn: 0.2155586\ttotal: 841ms\tremaining: 408ms\n",
      "673:\tlearn: 0.2154569\ttotal: 842ms\tremaining: 407ms\n",
      "674:\tlearn: 0.2152621\ttotal: 843ms\tremaining: 406ms\n",
      "675:\tlearn: 0.2151720\ttotal: 844ms\tremaining: 405ms\n",
      "676:\tlearn: 0.2150459\ttotal: 846ms\tremaining: 403ms\n",
      "677:\tlearn: 0.2148556\ttotal: 847ms\tremaining: 402ms\n",
      "678:\tlearn: 0.2146062\ttotal: 848ms\tremaining: 401ms\n",
      "679:\tlearn: 0.2144827\ttotal: 850ms\tremaining: 400ms\n",
      "680:\tlearn: 0.2143702\ttotal: 851ms\tremaining: 399ms\n",
      "681:\tlearn: 0.2142968\ttotal: 852ms\tremaining: 397ms\n",
      "682:\tlearn: 0.2141044\ttotal: 853ms\tremaining: 396ms\n",
      "683:\tlearn: 0.2139339\ttotal: 855ms\tremaining: 395ms\n",
      "684:\tlearn: 0.2138121\ttotal: 856ms\tremaining: 394ms\n",
      "685:\tlearn: 0.2136752\ttotal: 857ms\tremaining: 392ms\n",
      "686:\tlearn: 0.2135542\ttotal: 859ms\tremaining: 391ms\n",
      "687:\tlearn: 0.2133661\ttotal: 860ms\tremaining: 390ms\n",
      "688:\tlearn: 0.2132952\ttotal: 861ms\tremaining: 389ms\n",
      "689:\tlearn: 0.2131503\ttotal: 862ms\tremaining: 387ms\n",
      "690:\tlearn: 0.2129583\ttotal: 864ms\tremaining: 386ms\n",
      "691:\tlearn: 0.2128256\ttotal: 865ms\tremaining: 385ms\n",
      "692:\tlearn: 0.2126991\ttotal: 866ms\tremaining: 384ms\n",
      "693:\tlearn: 0.2126165\ttotal: 868ms\tremaining: 383ms\n",
      "694:\tlearn: 0.2125477\ttotal: 869ms\tremaining: 381ms\n",
      "695:\tlearn: 0.2124449\ttotal: 870ms\tremaining: 380ms\n",
      "696:\tlearn: 0.2123315\ttotal: 871ms\tremaining: 379ms\n",
      "697:\tlearn: 0.2122401\ttotal: 873ms\tremaining: 378ms\n",
      "698:\tlearn: 0.2120993\ttotal: 874ms\tremaining: 376ms\n",
      "699:\tlearn: 0.2119818\ttotal: 875ms\tremaining: 375ms\n",
      "700:\tlearn: 0.2118807\ttotal: 876ms\tremaining: 374ms\n",
      "701:\tlearn: 0.2117417\ttotal: 878ms\tremaining: 373ms\n",
      "702:\tlearn: 0.2115959\ttotal: 879ms\tremaining: 371ms\n",
      "703:\tlearn: 0.2114518\ttotal: 881ms\tremaining: 370ms\n",
      "704:\tlearn: 0.2113206\ttotal: 882ms\tremaining: 369ms\n",
      "705:\tlearn: 0.2111995\ttotal: 883ms\tremaining: 368ms\n",
      "706:\tlearn: 0.2110551\ttotal: 884ms\tremaining: 367ms\n",
      "707:\tlearn: 0.2109077\ttotal: 886ms\tremaining: 365ms\n",
      "708:\tlearn: 0.2108439\ttotal: 887ms\tremaining: 364ms\n",
      "709:\tlearn: 0.2106972\ttotal: 888ms\tremaining: 363ms\n",
      "710:\tlearn: 0.2105272\ttotal: 889ms\tremaining: 362ms\n",
      "711:\tlearn: 0.2103953\ttotal: 891ms\tremaining: 360ms\n",
      "712:\tlearn: 0.2102785\ttotal: 892ms\tremaining: 359ms\n",
      "713:\tlearn: 0.2102107\ttotal: 893ms\tremaining: 358ms\n",
      "714:\tlearn: 0.2100367\ttotal: 895ms\tremaining: 357ms\n",
      "715:\tlearn: 0.2098781\ttotal: 896ms\tremaining: 355ms\n",
      "716:\tlearn: 0.2097226\ttotal: 897ms\tremaining: 354ms\n",
      "717:\tlearn: 0.2096317\ttotal: 898ms\tremaining: 353ms\n",
      "718:\tlearn: 0.2095352\ttotal: 900ms\tremaining: 352ms\n",
      "719:\tlearn: 0.2094029\ttotal: 901ms\tremaining: 350ms\n",
      "720:\tlearn: 0.2092074\ttotal: 902ms\tremaining: 349ms\n",
      "721:\tlearn: 0.2090785\ttotal: 903ms\tremaining: 348ms\n",
      "722:\tlearn: 0.2089475\ttotal: 905ms\tremaining: 347ms\n",
      "723:\tlearn: 0.2088096\ttotal: 906ms\tremaining: 345ms\n",
      "724:\tlearn: 0.2087010\ttotal: 907ms\tremaining: 344ms\n",
      "725:\tlearn: 0.2085954\ttotal: 909ms\tremaining: 343ms\n",
      "726:\tlearn: 0.2084925\ttotal: 910ms\tremaining: 342ms\n",
      "727:\tlearn: 0.2083740\ttotal: 911ms\tremaining: 340ms\n",
      "728:\tlearn: 0.2082114\ttotal: 913ms\tremaining: 339ms\n",
      "729:\tlearn: 0.2080581\ttotal: 914ms\tremaining: 338ms\n",
      "730:\tlearn: 0.2079646\ttotal: 915ms\tremaining: 337ms\n",
      "731:\tlearn: 0.2078736\ttotal: 916ms\tremaining: 336ms\n",
      "732:\tlearn: 0.2077396\ttotal: 918ms\tremaining: 334ms\n",
      "733:\tlearn: 0.2075909\ttotal: 919ms\tremaining: 333ms\n",
      "734:\tlearn: 0.2074447\ttotal: 920ms\tremaining: 332ms\n",
      "735:\tlearn: 0.2073055\ttotal: 921ms\tremaining: 331ms\n",
      "736:\tlearn: 0.2071752\ttotal: 923ms\tremaining: 329ms\n",
      "737:\tlearn: 0.2069352\ttotal: 924ms\tremaining: 328ms\n",
      "738:\tlearn: 0.2068047\ttotal: 925ms\tremaining: 327ms\n",
      "739:\tlearn: 0.2067169\ttotal: 927ms\tremaining: 326ms\n",
      "740:\tlearn: 0.2066047\ttotal: 928ms\tremaining: 324ms\n",
      "741:\tlearn: 0.2065184\ttotal: 929ms\tremaining: 323ms\n",
      "742:\tlearn: 0.2064266\ttotal: 930ms\tremaining: 322ms\n",
      "743:\tlearn: 0.2063027\ttotal: 932ms\tremaining: 321ms\n",
      "744:\tlearn: 0.2060372\ttotal: 933ms\tremaining: 319ms\n",
      "745:\tlearn: 0.2059731\ttotal: 934ms\tremaining: 318ms\n",
      "746:\tlearn: 0.2058540\ttotal: 935ms\tremaining: 317ms\n",
      "747:\tlearn: 0.2057008\ttotal: 937ms\tremaining: 316ms\n",
      "748:\tlearn: 0.2055804\ttotal: 938ms\tremaining: 314ms\n",
      "749:\tlearn: 0.2054956\ttotal: 939ms\tremaining: 313ms\n",
      "750:\tlearn: 0.2054306\ttotal: 941ms\tremaining: 312ms\n",
      "751:\tlearn: 0.2052639\ttotal: 942ms\tremaining: 311ms\n",
      "752:\tlearn: 0.2051787\ttotal: 943ms\tremaining: 309ms\n",
      "753:\tlearn: 0.2049700\ttotal: 945ms\tremaining: 308ms\n",
      "754:\tlearn: 0.2048905\ttotal: 946ms\tremaining: 307ms\n",
      "755:\tlearn: 0.2047452\ttotal: 947ms\tremaining: 306ms\n",
      "756:\tlearn: 0.2046557\ttotal: 949ms\tremaining: 305ms\n",
      "757:\tlearn: 0.2045149\ttotal: 950ms\tremaining: 303ms\n",
      "758:\tlearn: 0.2044447\ttotal: 951ms\tremaining: 302ms\n",
      "759:\tlearn: 0.2043480\ttotal: 953ms\tremaining: 301ms\n",
      "760:\tlearn: 0.2042537\ttotal: 954ms\tremaining: 300ms\n",
      "761:\tlearn: 0.2041235\ttotal: 956ms\tremaining: 298ms\n",
      "762:\tlearn: 0.2040154\ttotal: 957ms\tremaining: 297ms\n",
      "763:\tlearn: 0.2038864\ttotal: 958ms\tremaining: 296ms\n",
      "764:\tlearn: 0.2037606\ttotal: 960ms\tremaining: 295ms\n",
      "765:\tlearn: 0.2036691\ttotal: 961ms\tremaining: 294ms\n",
      "766:\tlearn: 0.2035873\ttotal: 962ms\tremaining: 292ms\n",
      "767:\tlearn: 0.2034528\ttotal: 964ms\tremaining: 291ms\n",
      "768:\tlearn: 0.2033846\ttotal: 965ms\tremaining: 290ms\n",
      "769:\tlearn: 0.2033223\ttotal: 967ms\tremaining: 289ms\n",
      "770:\tlearn: 0.2031731\ttotal: 968ms\tremaining: 288ms\n",
      "771:\tlearn: 0.2030058\ttotal: 969ms\tremaining: 286ms\n",
      "772:\tlearn: 0.2028545\ttotal: 971ms\tremaining: 285ms\n",
      "773:\tlearn: 0.2027086\ttotal: 972ms\tremaining: 284ms\n",
      "774:\tlearn: 0.2025074\ttotal: 974ms\tremaining: 283ms\n",
      "775:\tlearn: 0.2023604\ttotal: 975ms\tremaining: 281ms\n",
      "776:\tlearn: 0.2022091\ttotal: 976ms\tremaining: 280ms\n",
      "777:\tlearn: 0.2021115\ttotal: 977ms\tremaining: 279ms\n",
      "778:\tlearn: 0.2019996\ttotal: 979ms\tremaining: 278ms\n",
      "779:\tlearn: 0.2019302\ttotal: 980ms\tremaining: 276ms\n",
      "780:\tlearn: 0.2017628\ttotal: 981ms\tremaining: 275ms\n",
      "781:\tlearn: 0.2015636\ttotal: 983ms\tremaining: 274ms\n",
      "782:\tlearn: 0.2014500\ttotal: 984ms\tremaining: 273ms\n",
      "783:\tlearn: 0.2013067\ttotal: 986ms\tremaining: 272ms\n",
      "784:\tlearn: 0.2012173\ttotal: 987ms\tremaining: 270ms\n",
      "785:\tlearn: 0.2010252\ttotal: 989ms\tremaining: 269ms\n",
      "786:\tlearn: 0.2009210\ttotal: 990ms\tremaining: 268ms\n",
      "787:\tlearn: 0.2007399\ttotal: 991ms\tremaining: 267ms\n",
      "788:\tlearn: 0.2006061\ttotal: 993ms\tremaining: 265ms\n",
      "789:\tlearn: 0.2005012\ttotal: 994ms\tremaining: 264ms\n",
      "790:\tlearn: 0.2003683\ttotal: 996ms\tremaining: 263ms\n",
      "791:\tlearn: 0.2002471\ttotal: 997ms\tremaining: 262ms\n",
      "792:\tlearn: 0.2000966\ttotal: 998ms\tremaining: 261ms\n",
      "793:\tlearn: 0.1999401\ttotal: 1000ms\tremaining: 259ms\n",
      "794:\tlearn: 0.1997612\ttotal: 1s\tremaining: 258ms\n",
      "795:\tlearn: 0.1996821\ttotal: 1s\tremaining: 257ms\n",
      "796:\tlearn: 0.1995311\ttotal: 1s\tremaining: 256ms\n",
      "797:\tlearn: 0.1994366\ttotal: 1s\tremaining: 255ms\n",
      "798:\tlearn: 0.1992821\ttotal: 1.01s\tremaining: 253ms\n",
      "799:\tlearn: 0.1991723\ttotal: 1.01s\tremaining: 252ms\n",
      "800:\tlearn: 0.1990274\ttotal: 1.01s\tremaining: 251ms\n",
      "801:\tlearn: 0.1989689\ttotal: 1.01s\tremaining: 250ms\n",
      "802:\tlearn: 0.1989313\ttotal: 1.01s\tremaining: 248ms\n",
      "803:\tlearn: 0.1988796\ttotal: 1.01s\tremaining: 247ms\n",
      "804:\tlearn: 0.1987607\ttotal: 1.01s\tremaining: 246ms\n",
      "805:\tlearn: 0.1985207\ttotal: 1.02s\tremaining: 245ms\n",
      "806:\tlearn: 0.1984388\ttotal: 1.02s\tremaining: 243ms\n",
      "807:\tlearn: 0.1982913\ttotal: 1.02s\tremaining: 242ms\n",
      "808:\tlearn: 0.1982069\ttotal: 1.02s\tremaining: 241ms\n",
      "809:\tlearn: 0.1980406\ttotal: 1.02s\tremaining: 240ms\n",
      "810:\tlearn: 0.1978986\ttotal: 1.02s\tremaining: 238ms\n",
      "811:\tlearn: 0.1978198\ttotal: 1.02s\tremaining: 237ms\n",
      "812:\tlearn: 0.1976576\ttotal: 1.02s\tremaining: 236ms\n",
      "813:\tlearn: 0.1975207\ttotal: 1.03s\tremaining: 235ms\n",
      "814:\tlearn: 0.1973787\ttotal: 1.03s\tremaining: 233ms\n",
      "815:\tlearn: 0.1972795\ttotal: 1.03s\tremaining: 232ms\n",
      "816:\tlearn: 0.1971808\ttotal: 1.03s\tremaining: 231ms\n",
      "817:\tlearn: 0.1970368\ttotal: 1.03s\tremaining: 230ms\n",
      "818:\tlearn: 0.1969355\ttotal: 1.03s\tremaining: 228ms\n",
      "819:\tlearn: 0.1967984\ttotal: 1.03s\tremaining: 227ms\n",
      "820:\tlearn: 0.1967391\ttotal: 1.03s\tremaining: 226ms\n",
      "821:\tlearn: 0.1966396\ttotal: 1.04s\tremaining: 225ms\n",
      "822:\tlearn: 0.1965628\ttotal: 1.04s\tremaining: 223ms\n",
      "823:\tlearn: 0.1964668\ttotal: 1.04s\tremaining: 222ms\n",
      "824:\tlearn: 0.1963452\ttotal: 1.04s\tremaining: 221ms\n",
      "825:\tlearn: 0.1962581\ttotal: 1.04s\tremaining: 220ms\n",
      "826:\tlearn: 0.1961683\ttotal: 1.04s\tremaining: 218ms\n",
      "827:\tlearn: 0.1960708\ttotal: 1.04s\tremaining: 217ms\n",
      "828:\tlearn: 0.1959095\ttotal: 1.05s\tremaining: 216ms\n",
      "829:\tlearn: 0.1957885\ttotal: 1.05s\tremaining: 215ms\n",
      "830:\tlearn: 0.1957210\ttotal: 1.05s\tremaining: 213ms\n",
      "831:\tlearn: 0.1956188\ttotal: 1.05s\tremaining: 212ms\n",
      "832:\tlearn: 0.1954715\ttotal: 1.05s\tremaining: 211ms\n",
      "833:\tlearn: 0.1953845\ttotal: 1.05s\tremaining: 210ms\n",
      "834:\tlearn: 0.1952552\ttotal: 1.05s\tremaining: 208ms\n",
      "835:\tlearn: 0.1951201\ttotal: 1.05s\tremaining: 207ms\n",
      "836:\tlearn: 0.1950210\ttotal: 1.06s\tremaining: 206ms\n",
      "837:\tlearn: 0.1949773\ttotal: 1.06s\tremaining: 205ms\n",
      "838:\tlearn: 0.1948878\ttotal: 1.06s\tremaining: 203ms\n",
      "839:\tlearn: 0.1947760\ttotal: 1.06s\tremaining: 202ms\n",
      "840:\tlearn: 0.1946636\ttotal: 1.06s\tremaining: 201ms\n",
      "841:\tlearn: 0.1945386\ttotal: 1.06s\tremaining: 199ms\n",
      "842:\tlearn: 0.1944596\ttotal: 1.06s\tremaining: 198ms\n",
      "843:\tlearn: 0.1943692\ttotal: 1.06s\tremaining: 197ms\n",
      "844:\tlearn: 0.1942821\ttotal: 1.07s\tremaining: 196ms\n",
      "845:\tlearn: 0.1941426\ttotal: 1.07s\tremaining: 194ms\n",
      "846:\tlearn: 0.1940305\ttotal: 1.07s\tremaining: 193ms\n",
      "847:\tlearn: 0.1939202\ttotal: 1.07s\tremaining: 192ms\n",
      "848:\tlearn: 0.1938411\ttotal: 1.07s\tremaining: 191ms\n",
      "849:\tlearn: 0.1937037\ttotal: 1.07s\tremaining: 189ms\n",
      "850:\tlearn: 0.1935517\ttotal: 1.07s\tremaining: 188ms\n",
      "851:\tlearn: 0.1934785\ttotal: 1.08s\tremaining: 187ms\n",
      "852:\tlearn: 0.1933988\ttotal: 1.08s\tremaining: 186ms\n",
      "853:\tlearn: 0.1933264\ttotal: 1.08s\tremaining: 184ms\n",
      "854:\tlearn: 0.1932290\ttotal: 1.08s\tremaining: 183ms\n",
      "855:\tlearn: 0.1930989\ttotal: 1.08s\tremaining: 182ms\n",
      "856:\tlearn: 0.1929576\ttotal: 1.08s\tremaining: 181ms\n",
      "857:\tlearn: 0.1928189\ttotal: 1.08s\tremaining: 179ms\n",
      "858:\tlearn: 0.1927410\ttotal: 1.08s\tremaining: 178ms\n",
      "859:\tlearn: 0.1925777\ttotal: 1.09s\tremaining: 177ms\n",
      "860:\tlearn: 0.1925366\ttotal: 1.09s\tremaining: 176ms\n",
      "861:\tlearn: 0.1924531\ttotal: 1.09s\tremaining: 174ms\n",
      "862:\tlearn: 0.1923628\ttotal: 1.09s\tremaining: 173ms\n",
      "863:\tlearn: 0.1921836\ttotal: 1.09s\tremaining: 172ms\n",
      "864:\tlearn: 0.1920310\ttotal: 1.09s\tremaining: 171ms\n",
      "865:\tlearn: 0.1919551\ttotal: 1.09s\tremaining: 169ms\n",
      "866:\tlearn: 0.1918126\ttotal: 1.09s\tremaining: 168ms\n",
      "867:\tlearn: 0.1916271\ttotal: 1.1s\tremaining: 167ms\n",
      "868:\tlearn: 0.1915293\ttotal: 1.1s\tremaining: 166ms\n",
      "869:\tlearn: 0.1914403\ttotal: 1.1s\tremaining: 164ms\n",
      "870:\tlearn: 0.1913341\ttotal: 1.1s\tremaining: 163ms\n",
      "871:\tlearn: 0.1912496\ttotal: 1.1s\tremaining: 162ms\n",
      "872:\tlearn: 0.1911268\ttotal: 1.1s\tremaining: 161ms\n",
      "873:\tlearn: 0.1910036\ttotal: 1.1s\tremaining: 159ms\n",
      "874:\tlearn: 0.1908588\ttotal: 1.1s\tremaining: 158ms\n",
      "875:\tlearn: 0.1907847\ttotal: 1.11s\tremaining: 157ms\n",
      "876:\tlearn: 0.1907147\ttotal: 1.11s\tremaining: 155ms\n",
      "877:\tlearn: 0.1905472\ttotal: 1.11s\tremaining: 154ms\n",
      "878:\tlearn: 0.1904325\ttotal: 1.11s\tremaining: 153ms\n",
      "879:\tlearn: 0.1903366\ttotal: 1.11s\tremaining: 152ms\n",
      "880:\tlearn: 0.1902311\ttotal: 1.11s\tremaining: 150ms\n",
      "881:\tlearn: 0.1901297\ttotal: 1.11s\tremaining: 149ms\n",
      "882:\tlearn: 0.1899828\ttotal: 1.12s\tremaining: 148ms\n",
      "883:\tlearn: 0.1898574\ttotal: 1.12s\tremaining: 147ms\n",
      "884:\tlearn: 0.1898081\ttotal: 1.12s\tremaining: 145ms\n",
      "885:\tlearn: 0.1897529\ttotal: 1.12s\tremaining: 144ms\n",
      "886:\tlearn: 0.1896327\ttotal: 1.12s\tremaining: 143ms\n",
      "887:\tlearn: 0.1895464\ttotal: 1.12s\tremaining: 142ms\n",
      "888:\tlearn: 0.1893865\ttotal: 1.12s\tremaining: 140ms\n",
      "889:\tlearn: 0.1892685\ttotal: 1.13s\tremaining: 139ms\n",
      "890:\tlearn: 0.1890624\ttotal: 1.13s\tremaining: 138ms\n",
      "891:\tlearn: 0.1889599\ttotal: 1.13s\tremaining: 137ms\n",
      "892:\tlearn: 0.1889121\ttotal: 1.13s\tremaining: 135ms\n",
      "893:\tlearn: 0.1888537\ttotal: 1.13s\tremaining: 134ms\n",
      "894:\tlearn: 0.1887553\ttotal: 1.13s\tremaining: 133ms\n",
      "895:\tlearn: 0.1886420\ttotal: 1.13s\tremaining: 131ms\n",
      "896:\tlearn: 0.1885805\ttotal: 1.13s\tremaining: 130ms\n",
      "897:\tlearn: 0.1885134\ttotal: 1.14s\tremaining: 129ms\n",
      "898:\tlearn: 0.1883825\ttotal: 1.14s\tremaining: 128ms\n",
      "899:\tlearn: 0.1882186\ttotal: 1.14s\tremaining: 126ms\n",
      "900:\tlearn: 0.1880945\ttotal: 1.14s\tremaining: 125ms\n",
      "901:\tlearn: 0.1879491\ttotal: 1.14s\tremaining: 124ms\n",
      "902:\tlearn: 0.1877867\ttotal: 1.14s\tremaining: 123ms\n",
      "903:\tlearn: 0.1877073\ttotal: 1.14s\tremaining: 121ms\n",
      "904:\tlearn: 0.1876175\ttotal: 1.14s\tremaining: 120ms\n",
      "905:\tlearn: 0.1875268\ttotal: 1.15s\tremaining: 119ms\n",
      "906:\tlearn: 0.1874509\ttotal: 1.15s\tremaining: 118ms\n",
      "907:\tlearn: 0.1873397\ttotal: 1.15s\tremaining: 116ms\n",
      "908:\tlearn: 0.1872857\ttotal: 1.15s\tremaining: 115ms\n",
      "909:\tlearn: 0.1871885\ttotal: 1.15s\tremaining: 114ms\n",
      "910:\tlearn: 0.1871273\ttotal: 1.15s\tremaining: 113ms\n",
      "911:\tlearn: 0.1870416\ttotal: 1.15s\tremaining: 111ms\n",
      "912:\tlearn: 0.1869679\ttotal: 1.15s\tremaining: 110ms\n",
      "913:\tlearn: 0.1867654\ttotal: 1.16s\tremaining: 109ms\n",
      "914:\tlearn: 0.1867084\ttotal: 1.16s\tremaining: 108ms\n",
      "915:\tlearn: 0.1866171\ttotal: 1.16s\tremaining: 106ms\n",
      "916:\tlearn: 0.1864974\ttotal: 1.16s\tremaining: 105ms\n",
      "917:\tlearn: 0.1864290\ttotal: 1.16s\tremaining: 104ms\n",
      "918:\tlearn: 0.1863142\ttotal: 1.16s\tremaining: 103ms\n",
      "919:\tlearn: 0.1862505\ttotal: 1.16s\tremaining: 101ms\n",
      "920:\tlearn: 0.1861754\ttotal: 1.17s\tremaining: 100ms\n",
      "921:\tlearn: 0.1860892\ttotal: 1.17s\tremaining: 98.8ms\n",
      "922:\tlearn: 0.1860331\ttotal: 1.17s\tremaining: 97.5ms\n",
      "923:\tlearn: 0.1859006\ttotal: 1.17s\tremaining: 96.2ms\n",
      "924:\tlearn: 0.1858135\ttotal: 1.17s\tremaining: 95ms\n",
      "925:\tlearn: 0.1857206\ttotal: 1.17s\tremaining: 93.7ms\n",
      "926:\tlearn: 0.1855793\ttotal: 1.17s\tremaining: 92.4ms\n"
     ]
    },
    {
     "name": "stdout",
     "output_type": "stream",
     "text": [
      "927:\tlearn: 0.1854579\ttotal: 1.18s\tremaining: 91.2ms\n",
      "928:\tlearn: 0.1853805\ttotal: 1.18s\tremaining: 90ms\n",
      "929:\tlearn: 0.1852993\ttotal: 1.18s\tremaining: 88.7ms\n",
      "930:\tlearn: 0.1852273\ttotal: 1.18s\tremaining: 87.4ms\n",
      "931:\tlearn: 0.1851208\ttotal: 1.18s\tremaining: 86.2ms\n",
      "932:\tlearn: 0.1850397\ttotal: 1.18s\tremaining: 84.9ms\n",
      "933:\tlearn: 0.1849786\ttotal: 1.18s\tremaining: 83.6ms\n",
      "934:\tlearn: 0.1848466\ttotal: 1.19s\tremaining: 82.4ms\n",
      "935:\tlearn: 0.1846876\ttotal: 1.19s\tremaining: 81.1ms\n",
      "936:\tlearn: 0.1845127\ttotal: 1.19s\tremaining: 79.9ms\n",
      "937:\tlearn: 0.1843948\ttotal: 1.19s\tremaining: 78.6ms\n",
      "938:\tlearn: 0.1843331\ttotal: 1.19s\tremaining: 77.3ms\n",
      "939:\tlearn: 0.1842589\ttotal: 1.19s\tremaining: 76.1ms\n",
      "940:\tlearn: 0.1841597\ttotal: 1.19s\tremaining: 74.8ms\n",
      "941:\tlearn: 0.1840690\ttotal: 1.19s\tremaining: 73.6ms\n",
      "942:\tlearn: 0.1839759\ttotal: 1.2s\tremaining: 72.3ms\n",
      "943:\tlearn: 0.1839097\ttotal: 1.2s\tremaining: 71ms\n",
      "944:\tlearn: 0.1837670\ttotal: 1.2s\tremaining: 69.7ms\n",
      "945:\tlearn: 0.1836709\ttotal: 1.2s\tremaining: 68.5ms\n",
      "946:\tlearn: 0.1835539\ttotal: 1.2s\tremaining: 67.2ms\n",
      "947:\tlearn: 0.1834774\ttotal: 1.2s\tremaining: 65.9ms\n",
      "948:\tlearn: 0.1833715\ttotal: 1.2s\tremaining: 64.7ms\n",
      "949:\tlearn: 0.1832870\ttotal: 1.2s\tremaining: 63.4ms\n",
      "950:\tlearn: 0.1831427\ttotal: 1.21s\tremaining: 62.1ms\n",
      "951:\tlearn: 0.1830373\ttotal: 1.21s\tremaining: 60.9ms\n",
      "952:\tlearn: 0.1828888\ttotal: 1.21s\tremaining: 59.6ms\n",
      "953:\tlearn: 0.1827166\ttotal: 1.21s\tremaining: 58.3ms\n",
      "954:\tlearn: 0.1825672\ttotal: 1.21s\tremaining: 57.1ms\n",
      "955:\tlearn: 0.1825073\ttotal: 1.21s\tremaining: 55.8ms\n",
      "956:\tlearn: 0.1824240\ttotal: 1.21s\tremaining: 54.5ms\n",
      "957:\tlearn: 0.1823390\ttotal: 1.21s\tremaining: 53.3ms\n",
      "958:\tlearn: 0.1822448\ttotal: 1.22s\tremaining: 52ms\n",
      "959:\tlearn: 0.1821767\ttotal: 1.22s\tremaining: 50.7ms\n",
      "960:\tlearn: 0.1820809\ttotal: 1.22s\tremaining: 49.5ms\n",
      "961:\tlearn: 0.1820075\ttotal: 1.22s\tremaining: 48.2ms\n",
      "962:\tlearn: 0.1819130\ttotal: 1.22s\tremaining: 46.9ms\n",
      "963:\tlearn: 0.1818235\ttotal: 1.22s\tremaining: 45.7ms\n",
      "964:\tlearn: 0.1817620\ttotal: 1.22s\tremaining: 44.4ms\n",
      "965:\tlearn: 0.1816595\ttotal: 1.23s\tremaining: 43.1ms\n",
      "966:\tlearn: 0.1816144\ttotal: 1.23s\tremaining: 41.9ms\n",
      "967:\tlearn: 0.1815070\ttotal: 1.23s\tremaining: 40.6ms\n",
      "968:\tlearn: 0.1814186\ttotal: 1.23s\tremaining: 39.3ms\n",
      "969:\tlearn: 0.1813285\ttotal: 1.23s\tremaining: 38.1ms\n",
      "970:\tlearn: 0.1812586\ttotal: 1.23s\tremaining: 36.8ms\n",
      "971:\tlearn: 0.1811502\ttotal: 1.23s\tremaining: 35.5ms\n",
      "972:\tlearn: 0.1809937\ttotal: 1.23s\tremaining: 34.2ms\n",
      "973:\tlearn: 0.1809348\ttotal: 1.24s\tremaining: 33ms\n",
      "974:\tlearn: 0.1808175\ttotal: 1.24s\tremaining: 31.7ms\n",
      "975:\tlearn: 0.1806862\ttotal: 1.24s\tremaining: 30.4ms\n",
      "976:\tlearn: 0.1805889\ttotal: 1.24s\tremaining: 29.2ms\n",
      "977:\tlearn: 0.1805215\ttotal: 1.24s\tremaining: 27.9ms\n",
      "978:\tlearn: 0.1804392\ttotal: 1.24s\tremaining: 26.6ms\n",
      "979:\tlearn: 0.1803094\ttotal: 1.24s\tremaining: 25.4ms\n",
      "980:\tlearn: 0.1802486\ttotal: 1.24s\tremaining: 24.1ms\n",
      "981:\tlearn: 0.1801393\ttotal: 1.25s\tremaining: 22.8ms\n",
      "982:\tlearn: 0.1800062\ttotal: 1.25s\tremaining: 21.6ms\n",
      "983:\tlearn: 0.1799119\ttotal: 1.25s\tremaining: 20.3ms\n",
      "984:\tlearn: 0.1797707\ttotal: 1.25s\tremaining: 19ms\n",
      "985:\tlearn: 0.1797259\ttotal: 1.25s\tremaining: 17.8ms\n",
      "986:\tlearn: 0.1796367\ttotal: 1.25s\tremaining: 16.5ms\n",
      "987:\tlearn: 0.1795728\ttotal: 1.25s\tremaining: 15.2ms\n",
      "988:\tlearn: 0.1794770\ttotal: 1.25s\tremaining: 14ms\n",
      "989:\tlearn: 0.1793742\ttotal: 1.26s\tremaining: 12.7ms\n",
      "990:\tlearn: 0.1793353\ttotal: 1.26s\tremaining: 11.4ms\n",
      "991:\tlearn: 0.1792296\ttotal: 1.26s\tremaining: 10.2ms\n",
      "992:\tlearn: 0.1791245\ttotal: 1.26s\tremaining: 8.88ms\n",
      "993:\tlearn: 0.1789856\ttotal: 1.26s\tremaining: 7.61ms\n",
      "994:\tlearn: 0.1789147\ttotal: 1.26s\tremaining: 6.34ms\n",
      "995:\tlearn: 0.1787937\ttotal: 1.26s\tremaining: 5.08ms\n",
      "996:\tlearn: 0.1786352\ttotal: 1.26s\tremaining: 3.81ms\n",
      "997:\tlearn: 0.1785756\ttotal: 1.27s\tremaining: 2.54ms\n",
      "998:\tlearn: 0.1784614\ttotal: 1.27s\tremaining: 1.27ms\n",
      "999:\tlearn: 0.1783420\ttotal: 1.27s\tremaining: 0us\n",
      "F1 = 0.584 AUC-ROC= 0.862\n"
     ]
    }
   ],
   "source": [
    "cbc_down = CatBoostClassifier(random_state=322)\n",
    "cbc_down.fit(features_downsampled, target_downsampled)\n",
    "predicted_valid = cbc_down.predict(features_valid)\n",
    "f1_valid = f1_score(predicted_valid, target_valid)\n",
    "prob_one_valid = cbc_down.predict_proba(features_valid)[:, 1]\n",
    "roc_auc = roc_auc_score(target_valid, prob_one_valid)\n",
    "print('F1 =', f1_valid.round(3), 'AUC-ROC=', roc_auc.round(3))"
   ]
  },
  {
   "cell_type": "markdown",
   "metadata": {},
   "source": [
    "#### Дерево решения"
   ]
  },
  {
   "cell_type": "code",
   "execution_count": 55,
   "metadata": {},
   "outputs": [],
   "source": [
    "def objective(trial):\n",
    "    max_depth = trial.suggest_int('max_depth', 3, 50)\n",
    "    min_samples_split = trial.suggest_int('min_samples_split', 2, 30)\n",
    "    min_samples_leaf = trial.suggest_int('min_samples_leaf', 1, 30)\n",
    "    criterion = trial.suggest_categorical('criterion', ['gini', 'entropy'])\n",
    "\n",
    "    dtc = DecisionTreeClassifier(max_depth=max_depth,\n",
    "                                    min_samples_split=min_samples_split,\n",
    "                                    min_samples_leaf=min_samples_leaf,\n",
    "                                    criterion=criterion,\n",
    "                                    random_state=322)\n",
    "\n",
    "    dtc.fit(features_downsampled, target_downsampled)\n",
    "\n",
    "    predicted_valid = dtc.predict(features_valid)\n",
    "\n",
    "    f1 = f1_score(target_valid, predicted_valid)\n",
    "\n",
    "    return f1"
   ]
  },
  {
   "cell_type": "code",
   "execution_count": 56,
   "metadata": {
    "scrolled": true
   },
   "outputs": [
    {
     "name": "stderr",
     "output_type": "stream",
     "text": [
      "\u001b[32m[I 2023-03-15 19:22:56,665]\u001b[0m A new study created in memory with name: no-name-fb7911ee-401a-4ce9-a943-4f56cbd69308\u001b[0m\n",
      "\u001b[32m[I 2023-03-15 19:22:56,678]\u001b[0m Trial 0 finished with value: 0.5483359746434231 and parameters: {'max_depth': 26, 'min_samples_split': 27, 'min_samples_leaf': 10, 'criterion': 'gini'}. Best is trial 0 with value: 0.5483359746434231.\u001b[0m\n",
      "\u001b[32m[I 2023-03-15 19:22:56,689]\u001b[0m Trial 1 finished with value: 0.5302013422818792 and parameters: {'max_depth': 26, 'min_samples_split': 15, 'min_samples_leaf': 29, 'criterion': 'entropy'}. Best is trial 0 with value: 0.5483359746434231.\u001b[0m\n",
      "\u001b[32m[I 2023-03-15 19:22:56,701]\u001b[0m Trial 2 finished with value: 0.5300462249614791 and parameters: {'max_depth': 15, 'min_samples_split': 22, 'min_samples_leaf': 5, 'criterion': 'gini'}. Best is trial 0 with value: 0.5483359746434231.\u001b[0m\n",
      "\u001b[32m[I 2023-03-15 19:22:56,713]\u001b[0m Trial 3 finished with value: 0.5164992826398853 and parameters: {'max_depth': 16, 'min_samples_split': 7, 'min_samples_leaf': 5, 'criterion': 'gini'}. Best is trial 0 with value: 0.5483359746434231.\u001b[0m\n",
      "\u001b[32m[I 2023-03-15 19:22:56,726]\u001b[0m Trial 4 finished with value: 0.5557299843014128 and parameters: {'max_depth': 39, 'min_samples_split': 29, 'min_samples_leaf': 6, 'criterion': 'entropy'}. Best is trial 4 with value: 0.5557299843014128.\u001b[0m\n",
      "\u001b[32m[I 2023-03-15 19:22:56,739]\u001b[0m Trial 5 finished with value: 0.5491419656786272 and parameters: {'max_depth': 38, 'min_samples_split': 30, 'min_samples_leaf': 6, 'criterion': 'gini'}. Best is trial 4 with value: 0.5557299843014128.\u001b[0m\n",
      "\u001b[32m[I 2023-03-15 19:22:56,752]\u001b[0m Trial 6 finished with value: 0.5626822157434404 and parameters: {'max_depth': 45, 'min_samples_split': 8, 'min_samples_leaf': 11, 'criterion': 'entropy'}. Best is trial 6 with value: 0.5626822157434404.\u001b[0m\n",
      "\u001b[32m[I 2023-03-15 19:22:56,768]\u001b[0m Trial 7 finished with value: 0.5185185185185186 and parameters: {'max_depth': 39, 'min_samples_split': 5, 'min_samples_leaf': 2, 'criterion': 'entropy'}. Best is trial 6 with value: 0.5626822157434404.\u001b[0m\n",
      "\u001b[32m[I 2023-03-15 19:22:56,780]\u001b[0m Trial 8 finished with value: 0.5402985074626866 and parameters: {'max_depth': 48, 'min_samples_split': 9, 'min_samples_leaf': 22, 'criterion': 'entropy'}. Best is trial 6 with value: 0.5626822157434404.\u001b[0m\n",
      "\u001b[32m[I 2023-03-15 19:22:56,793]\u001b[0m Trial 9 finished with value: 0.5345622119815668 and parameters: {'max_depth': 43, 'min_samples_split': 19, 'min_samples_leaf': 13, 'criterion': 'entropy'}. Best is trial 6 with value: 0.5626822157434404.\u001b[0m\n",
      "\u001b[32m[I 2023-03-15 19:22:56,812]\u001b[0m Trial 10 finished with value: 0.4934086629001883 and parameters: {'max_depth': 5, 'min_samples_split': 2, 'min_samples_leaf': 19, 'criterion': 'entropy'}. Best is trial 6 with value: 0.5626822157434404.\u001b[0m\n",
      "\u001b[32m[I 2023-03-15 19:22:56,834]\u001b[0m Trial 11 finished with value: 0.5626822157434404 and parameters: {'max_depth': 34, 'min_samples_split': 13, 'min_samples_leaf': 11, 'criterion': 'entropy'}. Best is trial 6 with value: 0.5626822157434404.\u001b[0m\n",
      "\u001b[32m[I 2023-03-15 19:22:56,857]\u001b[0m Trial 12 finished with value: 0.5345622119815668 and parameters: {'max_depth': 32, 'min_samples_split': 12, 'min_samples_leaf': 13, 'criterion': 'entropy'}. Best is trial 6 with value: 0.5626822157434404.\u001b[0m\n",
      "\u001b[32m[I 2023-03-15 19:22:56,879]\u001b[0m Trial 13 finished with value: 0.5534591194968553 and parameters: {'max_depth': 50, 'min_samples_split': 12, 'min_samples_leaf': 17, 'criterion': 'entropy'}. Best is trial 6 with value: 0.5626822157434404.\u001b[0m\n",
      "\u001b[32m[I 2023-03-15 19:22:56,901]\u001b[0m Trial 14 finished with value: 0.547945205479452 and parameters: {'max_depth': 32, 'min_samples_split': 15, 'min_samples_leaf': 10, 'criterion': 'entropy'}. Best is trial 6 with value: 0.5626822157434404.\u001b[0m\n",
      "\u001b[32m[I 2023-03-15 19:22:56,923]\u001b[0m Trial 15 finished with value: 0.5626822157434404 and parameters: {'max_depth': 32, 'min_samples_split': 11, 'min_samples_leaf': 11, 'criterion': 'entropy'}. Best is trial 6 with value: 0.5626822157434404.\u001b[0m\n",
      "\u001b[32m[I 2023-03-15 19:22:56,944]\u001b[0m Trial 16 finished with value: 0.5402985074626866 and parameters: {'max_depth': 45, 'min_samples_split': 19, 'min_samples_leaf': 22, 'criterion': 'entropy'}. Best is trial 6 with value: 0.5626822157434404.\u001b[0m\n",
      "\u001b[32m[I 2023-03-15 19:22:56,965]\u001b[0m Trial 17 finished with value: 0.5440251572327045 and parameters: {'max_depth': 23, 'min_samples_split': 3, 'min_samples_leaf': 16, 'criterion': 'entropy'}. Best is trial 6 with value: 0.5626822157434404.\u001b[0m\n",
      "\u001b[32m[I 2023-03-15 19:22:56,987]\u001b[0m Trial 18 finished with value: 0.5071225071225071 and parameters: {'max_depth': 35, 'min_samples_split': 8, 'min_samples_leaf': 1, 'criterion': 'gini'}. Best is trial 6 with value: 0.5626822157434404.\u001b[0m\n",
      "\u001b[32m[I 2023-03-15 19:22:57,008]\u001b[0m Trial 19 finished with value: 0.5302013422818792 and parameters: {'max_depth': 43, 'min_samples_split': 23, 'min_samples_leaf': 28, 'criterion': 'entropy'}. Best is trial 6 with value: 0.5626822157434404.\u001b[0m\n",
      "\u001b[32m[I 2023-03-15 19:22:57,031]\u001b[0m Trial 20 finished with value: 0.5044247787610621 and parameters: {'max_depth': 19, 'min_samples_split': 17, 'min_samples_leaf': 8, 'criterion': 'entropy'}. Best is trial 6 with value: 0.5626822157434404.\u001b[0m\n",
      "\u001b[32m[I 2023-03-15 19:22:57,052]\u001b[0m Trial 21 finished with value: 0.5345622119815668 and parameters: {'max_depth': 30, 'min_samples_split': 11, 'min_samples_leaf': 13, 'criterion': 'entropy'}. Best is trial 6 with value: 0.5626822157434404.\u001b[0m\n",
      "\u001b[32m[I 2023-03-15 19:22:57,075]\u001b[0m Trial 22 finished with value: 0.547945205479452 and parameters: {'max_depth': 35, 'min_samples_split': 10, 'min_samples_leaf': 10, 'criterion': 'entropy'}. Best is trial 6 with value: 0.5626822157434404.\u001b[0m\n",
      "\u001b[32m[I 2023-03-15 19:22:57,097]\u001b[0m Trial 23 finished with value: 0.5345622119815668 and parameters: {'max_depth': 30, 'min_samples_split': 6, 'min_samples_leaf': 13, 'criterion': 'entropy'}. Best is trial 6 with value: 0.5626822157434404.\u001b[0m\n",
      "\u001b[32m[I 2023-03-15 19:22:57,118]\u001b[0m Trial 24 finished with value: 0.5476923076923077 and parameters: {'max_depth': 46, 'min_samples_split': 14, 'min_samples_leaf': 19, 'criterion': 'entropy'}. Best is trial 6 with value: 0.5626822157434404.\u001b[0m\n",
      "\u001b[32m[I 2023-03-15 19:22:57,141]\u001b[0m Trial 25 finished with value: 0.5626822157434404 and parameters: {'max_depth': 41, 'min_samples_split': 13, 'min_samples_leaf': 11, 'criterion': 'entropy'}. Best is trial 6 with value: 0.5626822157434404.\u001b[0m\n",
      "\u001b[32m[I 2023-03-15 19:22:57,162]\u001b[0m Trial 26 finished with value: 0.5144596651445967 and parameters: {'max_depth': 36, 'min_samples_split': 17, 'min_samples_leaf': 8, 'criterion': 'gini'}. Best is trial 6 with value: 0.5626822157434404.\u001b[0m\n",
      "\u001b[32m[I 2023-03-15 19:22:57,184]\u001b[0m Trial 27 finished with value: 0.5465648854961833 and parameters: {'max_depth': 22, 'min_samples_split': 4, 'min_samples_leaf': 15, 'criterion': 'entropy'}. Best is trial 6 with value: 0.5626822157434404.\u001b[0m\n",
      "\u001b[32m[I 2023-03-15 19:22:57,201]\u001b[0m Trial 28 finished with value: 0.3763213530655391 and parameters: {'max_depth': 3, 'min_samples_split': 9, 'min_samples_leaf': 8, 'criterion': 'entropy'}. Best is trial 6 with value: 0.5626822157434404.\u001b[0m\n",
      "\u001b[32m[I 2023-03-15 19:22:57,223]\u001b[0m Trial 29 finished with value: 0.5361702127659574 and parameters: {'max_depth': 28, 'min_samples_split': 6, 'min_samples_leaf': 3, 'criterion': 'gini'}. Best is trial 6 with value: 0.5626822157434404.\u001b[0m\n",
      "\u001b[32m[I 2023-03-15 19:22:57,244]\u001b[0m Trial 30 finished with value: 0.5571205007824725 and parameters: {'max_depth': 8, 'min_samples_split': 11, 'min_samples_leaf': 11, 'criterion': 'entropy'}. Best is trial 6 with value: 0.5626822157434404.\u001b[0m\n",
      "\u001b[32m[I 2023-03-15 19:22:57,266]\u001b[0m Trial 31 finished with value: 0.5626822157434404 and parameters: {'max_depth': 41, 'min_samples_split': 13, 'min_samples_leaf': 11, 'criterion': 'entropy'}. Best is trial 6 with value: 0.5626822157434404.\u001b[0m\n",
      "\u001b[32m[I 2023-03-15 19:22:57,289]\u001b[0m Trial 32 finished with value: 0.5411764705882354 and parameters: {'max_depth': 42, 'min_samples_split': 14, 'min_samples_leaf': 9, 'criterion': 'entropy'}. Best is trial 6 with value: 0.5626822157434404.\u001b[0m\n",
      "\u001b[32m[I 2023-03-15 19:22:57,311]\u001b[0m Trial 33 finished with value: 0.5518292682926829 and parameters: {'max_depth': 46, 'min_samples_split': 9, 'min_samples_leaf': 14, 'criterion': 'entropy'}. Best is trial 6 with value: 0.5626822157434404.\u001b[0m\n"
     ]
    },
    {
     "name": "stderr",
     "output_type": "stream",
     "text": [
      "\u001b[32m[I 2023-03-15 19:22:57,334]\u001b[0m Trial 34 finished with value: 0.5626822157434404 and parameters: {'max_depth': 25, 'min_samples_split': 16, 'min_samples_leaf': 11, 'criterion': 'entropy'}. Best is trial 6 with value: 0.5626822157434404.\u001b[0m\n",
      "\u001b[32m[I 2023-03-15 19:22:57,356]\u001b[0m Trial 35 finished with value: 0.5590062111801243 and parameters: {'max_depth': 33, 'min_samples_split': 20, 'min_samples_leaf': 18, 'criterion': 'gini'}. Best is trial 6 with value: 0.5626822157434404.\u001b[0m\n",
      "\u001b[32m[I 2023-03-15 19:22:57,378]\u001b[0m Trial 36 finished with value: 0.5465648854961833 and parameters: {'max_depth': 38, 'min_samples_split': 25, 'min_samples_leaf': 15, 'criterion': 'entropy'}. Best is trial 6 with value: 0.5626822157434404.\u001b[0m\n",
      "\u001b[32m[I 2023-03-15 19:22:57,402]\u001b[0m Trial 37 finished with value: 0.4947839046199703 and parameters: {'max_depth': 50, 'min_samples_split': 7, 'min_samples_leaf': 6, 'criterion': 'entropy'}. Best is trial 6 with value: 0.5626822157434404.\u001b[0m\n",
      "\u001b[32m[I 2023-03-15 19:22:57,425]\u001b[0m Trial 38 finished with value: 0.5329593267882188 and parameters: {'max_depth': 40, 'min_samples_split': 13, 'min_samples_leaf': 4, 'criterion': 'gini'}. Best is trial 6 with value: 0.5626822157434404.\u001b[0m\n",
      "\u001b[32m[I 2023-03-15 19:22:57,448]\u001b[0m Trial 39 finished with value: 0.5150214592274678 and parameters: {'max_depth': 36, 'min_samples_split': 11, 'min_samples_leaf': 7, 'criterion': 'entropy'}. Best is trial 6 with value: 0.5626822157434404.\u001b[0m\n",
      "\u001b[32m[I 2023-03-15 19:22:57,473]\u001b[0m Trial 40 finished with value: 0.5611940298507463 and parameters: {'max_depth': 28, 'min_samples_split': 8, 'min_samples_leaf': 12, 'criterion': 'entropy'}. Best is trial 6 with value: 0.5626822157434404.\u001b[0m\n",
      "\u001b[32m[I 2023-03-15 19:22:57,498]\u001b[0m Trial 41 finished with value: 0.5626822157434404 and parameters: {'max_depth': 41, 'min_samples_split': 13, 'min_samples_leaf': 11, 'criterion': 'entropy'}. Best is trial 6 with value: 0.5626822157434404.\u001b[0m\n",
      "\u001b[32m[I 2023-03-15 19:22:57,521]\u001b[0m Trial 42 finished with value: 0.5411764705882354 and parameters: {'max_depth': 44, 'min_samples_split': 15, 'min_samples_leaf': 9, 'criterion': 'entropy'}. Best is trial 6 with value: 0.5626822157434404.\u001b[0m\n",
      "\u001b[32m[I 2023-03-15 19:22:57,544]\u001b[0m Trial 43 finished with value: 0.5611940298507463 and parameters: {'max_depth': 38, 'min_samples_split': 13, 'min_samples_leaf': 12, 'criterion': 'entropy'}. Best is trial 6 with value: 0.5626822157434404.\u001b[0m\n",
      "\u001b[32m[I 2023-03-15 19:22:57,567]\u001b[0m Trial 44 finished with value: 0.5518292682926829 and parameters: {'max_depth': 48, 'min_samples_split': 10, 'min_samples_leaf': 14, 'criterion': 'entropy'}. Best is trial 6 with value: 0.5626822157434404.\u001b[0m\n",
      "\u001b[32m[I 2023-03-15 19:22:57,590]\u001b[0m Trial 45 finished with value: 0.4985250737463127 and parameters: {'max_depth': 41, 'min_samples_split': 16, 'min_samples_leaf': 5, 'criterion': 'entropy'}. Best is trial 6 with value: 0.5626822157434404.\u001b[0m\n",
      "\u001b[32m[I 2023-03-15 19:22:57,615]\u001b[0m Trial 46 finished with value: 0.5411764705882354 and parameters: {'max_depth': 32, 'min_samples_split': 12, 'min_samples_leaf': 9, 'criterion': 'entropy'}. Best is trial 6 with value: 0.5626822157434404.\u001b[0m\n",
      "\u001b[32m[I 2023-03-15 19:22:57,638]\u001b[0m Trial 47 finished with value: 0.5440251572327045 and parameters: {'max_depth': 38, 'min_samples_split': 18, 'min_samples_leaf': 16, 'criterion': 'entropy'}. Best is trial 6 with value: 0.5626822157434404.\u001b[0m\n",
      "\u001b[32m[I 2023-03-15 19:22:57,661]\u001b[0m Trial 48 finished with value: 0.5185185185185186 and parameters: {'max_depth': 48, 'min_samples_split': 14, 'min_samples_leaf': 7, 'criterion': 'gini'}. Best is trial 6 with value: 0.5626822157434404.\u001b[0m\n",
      "\u001b[32m[I 2023-03-15 19:22:57,685]\u001b[0m Trial 49 finished with value: 0.547945205479452 and parameters: {'max_depth': 34, 'min_samples_split': 10, 'min_samples_leaf': 10, 'criterion': 'entropy'}. Best is trial 6 with value: 0.5626822157434404.\u001b[0m\n",
      "\u001b[32m[I 2023-03-15 19:22:57,709]\u001b[0m Trial 50 finished with value: 0.5611940298507463 and parameters: {'max_depth': 44, 'min_samples_split': 7, 'min_samples_leaf': 12, 'criterion': 'entropy'}. Best is trial 6 with value: 0.5626822157434404.\u001b[0m\n",
      "\u001b[32m[I 2023-03-15 19:22:57,732]\u001b[0m Trial 51 finished with value: 0.5626822157434404 and parameters: {'max_depth': 25, 'min_samples_split': 16, 'min_samples_leaf': 11, 'criterion': 'entropy'}. Best is trial 6 with value: 0.5626822157434404.\u001b[0m\n",
      "\u001b[32m[I 2023-03-15 19:22:57,756]\u001b[0m Trial 52 finished with value: 0.5518292682926829 and parameters: {'max_depth': 19, 'min_samples_split': 21, 'min_samples_leaf': 14, 'criterion': 'entropy'}. Best is trial 6 with value: 0.5626822157434404.\u001b[0m\n",
      "\u001b[32m[I 2023-03-15 19:22:57,780]\u001b[0m Trial 53 finished with value: 0.547945205479452 and parameters: {'max_depth': 30, 'min_samples_split': 12, 'min_samples_leaf': 10, 'criterion': 'entropy'}. Best is trial 6 with value: 0.5626822157434404.\u001b[0m\n",
      "\u001b[32m[I 2023-03-15 19:22:57,803]\u001b[0m Trial 54 finished with value: 0.5626822157434404 and parameters: {'max_depth': 25, 'min_samples_split': 17, 'min_samples_leaf': 11, 'criterion': 'entropy'}. Best is trial 6 with value: 0.5626822157434404.\u001b[0m\n",
      "\u001b[32m[I 2023-03-15 19:22:57,827]\u001b[0m Trial 55 finished with value: 0.5534591194968553 and parameters: {'max_depth': 22, 'min_samples_split': 15, 'min_samples_leaf': 17, 'criterion': 'entropy'}. Best is trial 6 with value: 0.5626822157434404.\u001b[0m\n",
      "\u001b[32m[I 2023-03-15 19:22:57,849]\u001b[0m Trial 56 finished with value: 0.5345622119815668 and parameters: {'max_depth': 28, 'min_samples_split': 18, 'min_samples_leaf': 13, 'criterion': 'entropy'}. Best is trial 6 with value: 0.5626822157434404.\u001b[0m\n",
      "\u001b[32m[I 2023-03-15 19:22:57,873]\u001b[0m Trial 57 finished with value: 0.5150214592274678 and parameters: {'max_depth': 40, 'min_samples_split': 12, 'min_samples_leaf': 7, 'criterion': 'entropy'}. Best is trial 6 with value: 0.5626822157434404.\u001b[0m\n",
      "\u001b[32m[I 2023-03-15 19:22:57,897]\u001b[0m Trial 58 finished with value: 0.5302013422818792 and parameters: {'max_depth': 37, 'min_samples_split': 15, 'min_samples_leaf': 29, 'criterion': 'entropy'}. Best is trial 6 with value: 0.5626822157434404.\u001b[0m\n",
      "\u001b[32m[I 2023-03-15 19:22:57,921]\u001b[0m Trial 59 finished with value: 0.5411764705882354 and parameters: {'max_depth': 15, 'min_samples_split': 8, 'min_samples_leaf': 9, 'criterion': 'entropy'}. Best is trial 6 with value: 0.5626822157434404.\u001b[0m\n",
      "\u001b[32m[I 2023-03-15 19:22:57,942]\u001b[0m Trial 60 finished with value: 0.5604900459418071 and parameters: {'max_depth': 30, 'min_samples_split': 10, 'min_samples_leaf': 26, 'criterion': 'gini'}. Best is trial 6 with value: 0.5626822157434404.\u001b[0m\n",
      "\u001b[32m[I 2023-03-15 19:22:57,967]\u001b[0m Trial 61 finished with value: 0.5626822157434404 and parameters: {'max_depth': 41, 'min_samples_split': 13, 'min_samples_leaf': 11, 'criterion': 'entropy'}. Best is trial 6 with value: 0.5626822157434404.\u001b[0m\n",
      "\u001b[32m[I 2023-03-15 19:22:57,989]\u001b[0m Trial 62 finished with value: 0.5611940298507463 and parameters: {'max_depth': 42, 'min_samples_split': 14, 'min_samples_leaf': 12, 'criterion': 'entropy'}. Best is trial 6 with value: 0.5626822157434404.\u001b[0m\n",
      "\u001b[32m[I 2023-03-15 19:22:58,014]\u001b[0m Trial 63 finished with value: 0.547945205479452 and parameters: {'max_depth': 34, 'min_samples_split': 13, 'min_samples_leaf': 10, 'criterion': 'entropy'}. Best is trial 6 with value: 0.5626822157434404.\u001b[0m\n",
      "\u001b[32m[I 2023-03-15 19:22:58,037]\u001b[0m Trial 64 finished with value: 0.5345622119815668 and parameters: {'max_depth': 46, 'min_samples_split': 11, 'min_samples_leaf': 13, 'criterion': 'entropy'}. Best is trial 6 with value: 0.5626822157434404.\u001b[0m\n",
      "\u001b[32m[I 2023-03-15 19:22:58,061]\u001b[0m Trial 65 finished with value: 0.4992700729927007 and parameters: {'max_depth': 44, 'min_samples_split': 9, 'min_samples_leaf': 8, 'criterion': 'entropy'}. Best is trial 6 with value: 0.5626822157434404.\u001b[0m\n",
      "\u001b[32m[I 2023-03-15 19:22:58,085]\u001b[0m Trial 66 finished with value: 0.5465648854961833 and parameters: {'max_depth': 48, 'min_samples_split': 16, 'min_samples_leaf': 15, 'criterion': 'entropy'}. Best is trial 6 with value: 0.5626822157434404.\u001b[0m\n",
      "\u001b[32m[I 2023-03-15 19:22:58,110]\u001b[0m Trial 67 finished with value: 0.5626822157434404 and parameters: {'max_depth': 39, 'min_samples_split': 5, 'min_samples_leaf': 11, 'criterion': 'entropy'}. Best is trial 6 with value: 0.5626822157434404.\u001b[0m\n"
     ]
    },
    {
     "name": "stderr",
     "output_type": "stream",
     "text": [
      "\u001b[32m[I 2023-03-15 19:22:58,134]\u001b[0m Trial 68 finished with value: 0.5611940298507463 and parameters: {'max_depth': 32, 'min_samples_split': 13, 'min_samples_leaf': 12, 'criterion': 'entropy'}. Best is trial 6 with value: 0.5626822157434404.\u001b[0m\n",
      "\u001b[32m[I 2023-03-15 19:22:58,159]\u001b[0m Trial 69 finished with value: 0.4947839046199703 and parameters: {'max_depth': 42, 'min_samples_split': 11, 'min_samples_leaf': 6, 'criterion': 'entropy'}. Best is trial 6 with value: 0.5626822157434404.\u001b[0m\n",
      "\u001b[32m[I 2023-03-15 19:22:58,182]\u001b[0m Trial 70 finished with value: 0.5401234567901235 and parameters: {'max_depth': 12, 'min_samples_split': 18, 'min_samples_leaf': 14, 'criterion': 'gini'}. Best is trial 6 with value: 0.5626822157434404.\u001b[0m\n",
      "\u001b[32m[I 2023-03-15 19:22:58,207]\u001b[0m Trial 71 finished with value: 0.547945205479452 and parameters: {'max_depth': 25, 'min_samples_split': 16, 'min_samples_leaf': 10, 'criterion': 'entropy'}. Best is trial 6 with value: 0.5626822157434404.\u001b[0m\n",
      "\u001b[32m[I 2023-03-15 19:22:58,232]\u001b[0m Trial 72 finished with value: 0.5626822157434404 and parameters: {'max_depth': 20, 'min_samples_split': 14, 'min_samples_leaf': 11, 'criterion': 'entropy'}. Best is trial 6 with value: 0.5626822157434404.\u001b[0m\n",
      "\u001b[32m[I 2023-03-15 19:22:58,256]\u001b[0m Trial 73 finished with value: 0.5411764705882354 and parameters: {'max_depth': 27, 'min_samples_split': 16, 'min_samples_leaf': 9, 'criterion': 'entropy'}. Best is trial 6 with value: 0.5626822157434404.\u001b[0m\n",
      "\u001b[32m[I 2023-03-15 19:22:58,280]\u001b[0m Trial 74 finished with value: 0.5626822157434404 and parameters: {'max_depth': 23, 'min_samples_split': 15, 'min_samples_leaf': 11, 'criterion': 'entropy'}. Best is trial 6 with value: 0.5626822157434404.\u001b[0m\n",
      "\u001b[32m[I 2023-03-15 19:22:58,304]\u001b[0m Trial 75 finished with value: 0.5255023183925811 and parameters: {'max_depth': 26, 'min_samples_split': 27, 'min_samples_leaf': 8, 'criterion': 'entropy'}. Best is trial 6 with value: 0.5626822157434404.\u001b[0m\n",
      "\u001b[32m[I 2023-03-15 19:22:58,328]\u001b[0m Trial 76 finished with value: 0.5345622119815668 and parameters: {'max_depth': 36, 'min_samples_split': 12, 'min_samples_leaf': 13, 'criterion': 'entropy'}. Best is trial 6 with value: 0.5626822157434404.\u001b[0m\n",
      "\u001b[32m[I 2023-03-15 19:22:58,354]\u001b[0m Trial 77 finished with value: 0.547945205479452 and parameters: {'max_depth': 24, 'min_samples_split': 19, 'min_samples_leaf': 10, 'criterion': 'entropy'}. Best is trial 6 with value: 0.5626822157434404.\u001b[0m\n",
      "\u001b[32m[I 2023-03-15 19:22:58,378]\u001b[0m Trial 78 finished with value: 0.5611940298507463 and parameters: {'max_depth': 40, 'min_samples_split': 10, 'min_samples_leaf': 12, 'criterion': 'entropy'}. Best is trial 6 with value: 0.5626822157434404.\u001b[0m\n",
      "\u001b[32m[I 2023-03-15 19:22:58,401]\u001b[0m Trial 79 finished with value: 0.5440251572327045 and parameters: {'max_depth': 21, 'min_samples_split': 17, 'min_samples_leaf': 16, 'criterion': 'entropy'}. Best is trial 6 with value: 0.5626822157434404.\u001b[0m\n",
      "\u001b[32m[I 2023-03-15 19:22:58,426]\u001b[0m Trial 80 finished with value: 0.5518292682926829 and parameters: {'max_depth': 31, 'min_samples_split': 14, 'min_samples_leaf': 14, 'criterion': 'entropy'}. Best is trial 6 with value: 0.5626822157434404.\u001b[0m\n",
      "\u001b[32m[I 2023-03-15 19:22:58,451]\u001b[0m Trial 81 finished with value: 0.5345622119815668 and parameters: {'max_depth': 25, 'min_samples_split': 17, 'min_samples_leaf': 13, 'criterion': 'entropy'}. Best is trial 6 with value: 0.5626822157434404.\u001b[0m\n",
      "\u001b[32m[I 2023-03-15 19:22:58,475]\u001b[0m Trial 82 finished with value: 0.5626822157434404 and parameters: {'max_depth': 27, 'min_samples_split': 17, 'min_samples_leaf': 11, 'criterion': 'entropy'}. Best is trial 6 with value: 0.5626822157434404.\u001b[0m\n",
      "\u001b[32m[I 2023-03-15 19:22:58,500]\u001b[0m Trial 83 finished with value: 0.5626822157434404 and parameters: {'max_depth': 24, 'min_samples_split': 19, 'min_samples_leaf': 11, 'criterion': 'entropy'}. Best is trial 6 with value: 0.5626822157434404.\u001b[0m\n",
      "\u001b[32m[I 2023-03-15 19:22:58,525]\u001b[0m Trial 84 finished with value: 0.547945205479452 and parameters: {'max_depth': 29, 'min_samples_split': 13, 'min_samples_leaf': 10, 'criterion': 'entropy'}. Best is trial 6 with value: 0.5626822157434404.\u001b[0m\n",
      "\u001b[32m[I 2023-03-15 19:22:58,550]\u001b[0m Trial 85 finished with value: 0.5491923641703378 and parameters: {'max_depth': 18, 'min_samples_split': 21, 'min_samples_leaf': 9, 'criterion': 'entropy'}. Best is trial 6 with value: 0.5626822157434404.\u001b[0m\n",
      "\u001b[32m[I 2023-03-15 19:22:58,572]\u001b[0m Trial 86 finished with value: 0.5432473444613051 and parameters: {'max_depth': 46, 'min_samples_split': 12, 'min_samples_leaf': 12, 'criterion': 'gini'}. Best is trial 6 with value: 0.5626822157434404.\u001b[0m\n",
      "\u001b[32m[I 2023-03-15 19:22:58,598]\u001b[0m Trial 87 finished with value: 0.4992700729927007 and parameters: {'max_depth': 43, 'min_samples_split': 16, 'min_samples_leaf': 8, 'criterion': 'entropy'}. Best is trial 6 with value: 0.5626822157434404.\u001b[0m\n",
      "\u001b[32m[I 2023-03-15 19:22:58,621]\u001b[0m Trial 88 finished with value: 0.5402985074626866 and parameters: {'max_depth': 34, 'min_samples_split': 20, 'min_samples_leaf': 22, 'criterion': 'entropy'}. Best is trial 6 with value: 0.5626822157434404.\u001b[0m\n",
      "\u001b[32m[I 2023-03-15 19:22:58,646]\u001b[0m Trial 89 finished with value: 0.5411764705882354 and parameters: {'max_depth': 22, 'min_samples_split': 11, 'min_samples_leaf': 9, 'criterion': 'entropy'}. Best is trial 6 with value: 0.5626822157434404.\u001b[0m\n",
      "\u001b[32m[I 2023-03-15 19:22:58,671]\u001b[0m Trial 90 finished with value: 0.5465648854961833 and parameters: {'max_depth': 26, 'min_samples_split': 15, 'min_samples_leaf': 15, 'criterion': 'entropy'}. Best is trial 6 with value: 0.5626822157434404.\u001b[0m\n",
      "\u001b[32m[I 2023-03-15 19:22:58,696]\u001b[0m Trial 91 finished with value: 0.5626822157434404 and parameters: {'max_depth': 45, 'min_samples_split': 13, 'min_samples_leaf': 11, 'criterion': 'entropy'}. Best is trial 6 with value: 0.5626822157434404.\u001b[0m\n",
      "\u001b[32m[I 2023-03-15 19:22:58,721]\u001b[0m Trial 92 finished with value: 0.5626822157434404 and parameters: {'max_depth': 42, 'min_samples_split': 14, 'min_samples_leaf': 11, 'criterion': 'entropy'}. Best is trial 6 with value: 0.5626822157434404.\u001b[0m\n",
      "\u001b[32m[I 2023-03-15 19:22:58,746]\u001b[0m Trial 93 finished with value: 0.5345622119815668 and parameters: {'max_depth': 41, 'min_samples_split': 13, 'min_samples_leaf': 13, 'criterion': 'entropy'}. Best is trial 6 with value: 0.5626822157434404.\u001b[0m\n",
      "\u001b[32m[I 2023-03-15 19:22:58,772]\u001b[0m Trial 94 finished with value: 0.5150214592274678 and parameters: {'max_depth': 39, 'min_samples_split': 2, 'min_samples_leaf': 7, 'criterion': 'entropy'}. Best is trial 6 with value: 0.5626822157434404.\u001b[0m\n",
      "\u001b[32m[I 2023-03-15 19:22:58,797]\u001b[0m Trial 95 finished with value: 0.5611940298507463 and parameters: {'max_depth': 37, 'min_samples_split': 8, 'min_samples_leaf': 12, 'criterion': 'entropy'}. Best is trial 6 with value: 0.5626822157434404.\u001b[0m\n",
      "\u001b[32m[I 2023-03-15 19:22:58,822]\u001b[0m Trial 96 finished with value: 0.547945205479452 and parameters: {'max_depth': 41, 'min_samples_split': 15, 'min_samples_leaf': 10, 'criterion': 'entropy'}. Best is trial 6 with value: 0.5626822157434404.\u001b[0m\n",
      "\u001b[32m[I 2023-03-15 19:22:58,848]\u001b[0m Trial 97 finished with value: 0.5518292682926829 and parameters: {'max_depth': 39, 'min_samples_split': 11, 'min_samples_leaf': 14, 'criterion': 'entropy'}. Best is trial 6 with value: 0.5626822157434404.\u001b[0m\n",
      "\u001b[32m[I 2023-03-15 19:22:58,873]\u001b[0m Trial 98 finished with value: 0.5611940298507463 and parameters: {'max_depth': 47, 'min_samples_split': 18, 'min_samples_leaf': 12, 'criterion': 'entropy'}. Best is trial 6 with value: 0.5626822157434404.\u001b[0m\n",
      "\u001b[32m[I 2023-03-15 19:22:58,897]\u001b[0m Trial 99 finished with value: 0.5386904761904762 and parameters: {'max_depth': 29, 'min_samples_split': 12, 'min_samples_leaf': 9, 'criterion': 'gini'}. Best is trial 6 with value: 0.5626822157434404.\u001b[0m\n",
      "\u001b[32m[I 2023-03-15 19:22:58,922]\u001b[0m Trial 100 finished with value: 0.5626822157434404 and parameters: {'max_depth': 43, 'min_samples_split': 9, 'min_samples_leaf': 11, 'criterion': 'entropy'}. Best is trial 6 with value: 0.5626822157434404.\u001b[0m\n",
      "\u001b[32m[I 2023-03-15 19:22:58,948]\u001b[0m Trial 101 finished with value: 0.5626822157434404 and parameters: {'max_depth': 40, 'min_samples_split': 4, 'min_samples_leaf': 11, 'criterion': 'entropy'}. Best is trial 6 with value: 0.5626822157434404.\u001b[0m\n"
     ]
    },
    {
     "name": "stderr",
     "output_type": "stream",
     "text": [
      "\u001b[32m[I 2023-03-15 19:22:58,973]\u001b[0m Trial 102 finished with value: 0.547945205479452 and parameters: {'max_depth': 37, 'min_samples_split': 14, 'min_samples_leaf': 10, 'criterion': 'entropy'}. Best is trial 6 with value: 0.5626822157434404.\u001b[0m\n",
      "\u001b[32m[I 2023-03-15 19:22:58,998]\u001b[0m Trial 103 finished with value: 0.5611940298507463 and parameters: {'max_depth': 35, 'min_samples_split': 5, 'min_samples_leaf': 12, 'criterion': 'entropy'}. Best is trial 6 with value: 0.5626822157434404.\u001b[0m\n",
      "\u001b[32m[I 2023-03-15 19:22:59,023]\u001b[0m Trial 104 finished with value: 0.5626822157434404 and parameters: {'max_depth': 44, 'min_samples_split': 6, 'min_samples_leaf': 11, 'criterion': 'entropy'}. Best is trial 6 with value: 0.5626822157434404.\u001b[0m\n",
      "\u001b[32m[I 2023-03-15 19:22:59,048]\u001b[0m Trial 105 finished with value: 0.5345622119815668 and parameters: {'max_depth': 39, 'min_samples_split': 7, 'min_samples_leaf': 13, 'criterion': 'entropy'}. Best is trial 6 with value: 0.5626822157434404.\u001b[0m\n",
      "\u001b[32m[I 2023-03-15 19:22:59,074]\u001b[0m Trial 106 finished with value: 0.4992700729927007 and parameters: {'max_depth': 24, 'min_samples_split': 4, 'min_samples_leaf': 8, 'criterion': 'entropy'}. Best is trial 6 with value: 0.5626822157434404.\u001b[0m\n",
      "\u001b[32m[I 2023-03-15 19:22:59,100]\u001b[0m Trial 107 finished with value: 0.547945205479452 and parameters: {'max_depth': 33, 'min_samples_split': 9, 'min_samples_leaf': 10, 'criterion': 'entropy'}. Best is trial 6 with value: 0.5626822157434404.\u001b[0m\n",
      "\u001b[32m[I 2023-03-15 19:22:59,125]\u001b[0m Trial 108 finished with value: 0.5411764705882354 and parameters: {'max_depth': 38, 'min_samples_split': 5, 'min_samples_leaf': 9, 'criterion': 'entropy'}. Best is trial 6 with value: 0.5626822157434404.\u001b[0m\n",
      "\u001b[32m[I 2023-03-15 19:22:59,150]\u001b[0m Trial 109 finished with value: 0.5611940298507463 and parameters: {'max_depth': 45, 'min_samples_split': 13, 'min_samples_leaf': 12, 'criterion': 'entropy'}. Best is trial 6 with value: 0.5626822157434404.\u001b[0m\n",
      "\u001b[32m[I 2023-03-15 19:22:59,176]\u001b[0m Trial 110 finished with value: 0.5518292682926829 and parameters: {'max_depth': 41, 'min_samples_split': 3, 'min_samples_leaf': 14, 'criterion': 'entropy'}. Best is trial 6 with value: 0.5626822157434404.\u001b[0m\n",
      "\u001b[32m[I 2023-03-15 19:22:59,201]\u001b[0m Trial 111 finished with value: 0.5626822157434404 and parameters: {'max_depth': 21, 'min_samples_split': 14, 'min_samples_leaf': 11, 'criterion': 'entropy'}. Best is trial 6 with value: 0.5626822157434404.\u001b[0m\n",
      "\u001b[32m[I 2023-03-15 19:22:59,228]\u001b[0m Trial 112 finished with value: 0.5626822157434404 and parameters: {'max_depth': 17, 'min_samples_split': 16, 'min_samples_leaf': 11, 'criterion': 'entropy'}. Best is trial 6 with value: 0.5626822157434404.\u001b[0m\n",
      "\u001b[32m[I 2023-03-15 19:22:59,253]\u001b[0m Trial 113 finished with value: 0.547945205479452 and parameters: {'max_depth': 25, 'min_samples_split': 15, 'min_samples_leaf': 10, 'criterion': 'entropy'}. Best is trial 6 with value: 0.5626822157434404.\u001b[0m\n",
      "\u001b[32m[I 2023-03-15 19:22:59,279]\u001b[0m Trial 114 finished with value: 0.5611940298507463 and parameters: {'max_depth': 14, 'min_samples_split': 12, 'min_samples_leaf': 12, 'criterion': 'entropy'}. Best is trial 6 with value: 0.5626822157434404.\u001b[0m\n",
      "\u001b[32m[I 2023-03-15 19:22:59,305]\u001b[0m Trial 115 finished with value: 0.5345622119815668 and parameters: {'max_depth': 36, 'min_samples_split': 14, 'min_samples_leaf': 13, 'criterion': 'entropy'}. Best is trial 6 with value: 0.5626822157434404.\u001b[0m\n",
      "\u001b[32m[I 2023-03-15 19:22:59,331]\u001b[0m Trial 116 finished with value: 0.5626822157434404 and parameters: {'max_depth': 21, 'min_samples_split': 16, 'min_samples_leaf': 11, 'criterion': 'entropy'}. Best is trial 6 with value: 0.5626822157434404.\u001b[0m\n",
      "\u001b[32m[I 2023-03-15 19:22:59,355]\u001b[0m Trial 117 finished with value: 0.5386904761904762 and parameters: {'max_depth': 20, 'min_samples_split': 13, 'min_samples_leaf': 9, 'criterion': 'gini'}. Best is trial 6 with value: 0.5626822157434404.\u001b[0m\n",
      "\u001b[32m[I 2023-03-15 19:22:59,381]\u001b[0m Trial 118 finished with value: 0.4992700729927007 and parameters: {'max_depth': 31, 'min_samples_split': 10, 'min_samples_leaf': 8, 'criterion': 'entropy'}. Best is trial 6 with value: 0.5626822157434404.\u001b[0m\n",
      "\u001b[32m[I 2023-03-15 19:22:59,407]\u001b[0m Trial 119 finished with value: 0.5345622119815668 and parameters: {'max_depth': 42, 'min_samples_split': 17, 'min_samples_leaf': 13, 'criterion': 'entropy'}. Best is trial 6 with value: 0.5626822157434404.\u001b[0m\n",
      "\u001b[32m[I 2023-03-15 19:22:59,434]\u001b[0m Trial 120 finished with value: 0.547945205479452 and parameters: {'max_depth': 49, 'min_samples_split': 15, 'min_samples_leaf': 10, 'criterion': 'entropy'}. Best is trial 6 with value: 0.5626822157434404.\u001b[0m\n",
      "\u001b[32m[I 2023-03-15 19:22:59,460]\u001b[0m Trial 121 finished with value: 0.5626822157434404 and parameters: {'max_depth': 27, 'min_samples_split': 14, 'min_samples_leaf': 11, 'criterion': 'entropy'}. Best is trial 6 with value: 0.5626822157434404.\u001b[0m\n",
      "\u001b[32m[I 2023-03-15 19:22:59,487]\u001b[0m Trial 122 finished with value: 0.5611940298507463 and parameters: {'max_depth': 23, 'min_samples_split': 15, 'min_samples_leaf': 12, 'criterion': 'entropy'}. Best is trial 6 with value: 0.5626822157434404.\u001b[0m\n",
      "\u001b[32m[I 2023-03-15 19:22:59,513]\u001b[0m Trial 123 finished with value: 0.5626822157434404 and parameters: {'max_depth': 19, 'min_samples_split': 12, 'min_samples_leaf': 11, 'criterion': 'entropy'}. Best is trial 6 with value: 0.5626822157434404.\u001b[0m\n",
      "\u001b[32m[I 2023-03-15 19:22:59,539]\u001b[0m Trial 124 finished with value: 0.547945205479452 and parameters: {'max_depth': 23, 'min_samples_split': 16, 'min_samples_leaf': 10, 'criterion': 'entropy'}. Best is trial 6 with value: 0.5626822157434404.\u001b[0m\n",
      "\u001b[32m[I 2023-03-15 19:22:59,565]\u001b[0m Trial 125 finished with value: 0.5345622119815668 and parameters: {'max_depth': 43, 'min_samples_split': 13, 'min_samples_leaf': 13, 'criterion': 'entropy'}. Best is trial 6 with value: 0.5626822157434404.\u001b[0m\n",
      "\u001b[32m[I 2023-03-15 19:22:59,593]\u001b[0m Trial 126 finished with value: 0.5626822157434404 and parameters: {'max_depth': 25, 'min_samples_split': 11, 'min_samples_leaf': 11, 'criterion': 'entropy'}. Best is trial 6 with value: 0.5626822157434404.\u001b[0m\n",
      "\u001b[32m[I 2023-03-15 19:22:59,619]\u001b[0m Trial 127 finished with value: 0.5547226386806597 and parameters: {'max_depth': 28, 'min_samples_split': 17, 'min_samples_leaf': 20, 'criterion': 'entropy'}. Best is trial 6 with value: 0.5626822157434404.\u001b[0m\n",
      "\u001b[32m[I 2023-03-15 19:22:59,644]\u001b[0m Trial 128 finished with value: 0.5465465465465467 and parameters: {'max_depth': 23, 'min_samples_split': 18, 'min_samples_leaf': 26, 'criterion': 'entropy'}. Best is trial 6 with value: 0.5626822157434404.\u001b[0m\n",
      "\u001b[32m[I 2023-03-15 19:22:59,671]\u001b[0m Trial 129 finished with value: 0.5411764705882354 and parameters: {'max_depth': 29, 'min_samples_split': 15, 'min_samples_leaf': 9, 'criterion': 'entropy'}. Best is trial 6 with value: 0.5626822157434404.\u001b[0m\n",
      "\u001b[32m[I 2023-03-15 19:22:59,698]\u001b[0m Trial 130 finished with value: 0.547945205479452 and parameters: {'max_depth': 40, 'min_samples_split': 14, 'min_samples_leaf': 10, 'criterion': 'entropy'}. Best is trial 6 with value: 0.5626822157434404.\u001b[0m\n",
      "\u001b[32m[I 2023-03-15 19:22:59,724]\u001b[0m Trial 131 finished with value: 0.5611940298507463 and parameters: {'max_depth': 26, 'min_samples_split': 17, 'min_samples_leaf': 12, 'criterion': 'entropy'}. Best is trial 6 with value: 0.5626822157434404.\u001b[0m\n",
      "\u001b[32m[I 2023-03-15 19:22:59,751]\u001b[0m Trial 132 finished with value: 0.5626822157434404 and parameters: {'max_depth': 24, 'min_samples_split': 18, 'min_samples_leaf': 11, 'criterion': 'entropy'}. Best is trial 6 with value: 0.5626822157434404.\u001b[0m\n",
      "\u001b[32m[I 2023-03-15 19:22:59,778]\u001b[0m Trial 133 finished with value: 0.547945205479452 and parameters: {'max_depth': 27, 'min_samples_split': 14, 'min_samples_leaf': 10, 'criterion': 'entropy'}. Best is trial 6 with value: 0.5626822157434404.\u001b[0m\n",
      "\u001b[32m[I 2023-03-15 19:22:59,805]\u001b[0m Trial 134 finished with value: 0.5611940298507463 and parameters: {'max_depth': 41, 'min_samples_split': 17, 'min_samples_leaf': 12, 'criterion': 'entropy'}. Best is trial 6 with value: 0.5626822157434404.\u001b[0m\n",
      "\u001b[32m[I 2023-03-15 19:22:59,832]\u001b[0m Trial 135 finished with value: 0.5626822157434404 and parameters: {'max_depth': 20, 'min_samples_split': 16, 'min_samples_leaf': 11, 'criterion': 'entropy'}. Best is trial 6 with value: 0.5626822157434404.\u001b[0m\n"
     ]
    },
    {
     "name": "stderr",
     "output_type": "stream",
     "text": [
      "\u001b[32m[I 2023-03-15 19:22:59,860]\u001b[0m Trial 136 finished with value: 0.5611940298507463 and parameters: {'max_depth': 22, 'min_samples_split': 12, 'min_samples_leaf': 12, 'criterion': 'entropy'}. Best is trial 6 with value: 0.5626822157434404.\u001b[0m\n",
      "\u001b[32m[I 2023-03-15 19:22:59,887]\u001b[0m Trial 137 finished with value: 0.5411764705882354 and parameters: {'max_depth': 26, 'min_samples_split': 15, 'min_samples_leaf': 9, 'criterion': 'entropy'}. Best is trial 6 with value: 0.5626822157434404.\u001b[0m\n",
      "\u001b[32m[I 2023-03-15 19:22:59,913]\u001b[0m Trial 138 finished with value: 0.5401234567901235 and parameters: {'max_depth': 33, 'min_samples_split': 13, 'min_samples_leaf': 13, 'criterion': 'gini'}. Best is trial 6 with value: 0.5626822157434404.\u001b[0m\n",
      "\u001b[32m[I 2023-03-15 19:22:59,939]\u001b[0m Trial 139 finished with value: 0.5626822157434404 and parameters: {'max_depth': 38, 'min_samples_split': 6, 'min_samples_leaf': 11, 'criterion': 'entropy'}. Best is trial 6 with value: 0.5626822157434404.\u001b[0m\n",
      "\u001b[32m[I 2023-03-15 19:22:59,967]\u001b[0m Trial 140 finished with value: 0.5323741007194244 and parameters: {'max_depth': 45, 'min_samples_split': 16, 'min_samples_leaf': 1, 'criterion': 'entropy'}. Best is trial 6 with value: 0.5626822157434404.\u001b[0m\n",
      "\u001b[32m[I 2023-03-15 19:22:59,994]\u001b[0m Trial 141 finished with value: 0.5626822157434404 and parameters: {'max_depth': 24, 'min_samples_split': 13, 'min_samples_leaf': 11, 'criterion': 'entropy'}. Best is trial 6 with value: 0.5626822157434404.\u001b[0m\n",
      "\u001b[32m[I 2023-03-15 19:23:00,023]\u001b[0m Trial 142 finished with value: 0.547945205479452 and parameters: {'max_depth': 24, 'min_samples_split': 20, 'min_samples_leaf': 10, 'criterion': 'entropy'}. Best is trial 6 with value: 0.5626822157434404.\u001b[0m\n",
      "\u001b[32m[I 2023-03-15 19:23:00,051]\u001b[0m Trial 143 finished with value: 0.5626822157434404 and parameters: {'max_depth': 28, 'min_samples_split': 19, 'min_samples_leaf': 11, 'criterion': 'entropy'}. Best is trial 6 with value: 0.5626822157434404.\u001b[0m\n",
      "\u001b[32m[I 2023-03-15 19:23:00,078]\u001b[0m Trial 144 finished with value: 0.5611940298507463 and parameters: {'max_depth': 25, 'min_samples_split': 17, 'min_samples_leaf': 12, 'criterion': 'entropy'}. Best is trial 6 with value: 0.5626822157434404.\u001b[0m\n",
      "\u001b[32m[I 2023-03-15 19:23:00,104]\u001b[0m Trial 145 finished with value: 0.5611940298507463 and parameters: {'max_depth': 22, 'min_samples_split': 19, 'min_samples_leaf': 12, 'criterion': 'entropy'}. Best is trial 6 with value: 0.5626822157434404.\u001b[0m\n",
      "\u001b[32m[I 2023-03-15 19:23:00,131]\u001b[0m Trial 146 finished with value: 0.547945205479452 and parameters: {'max_depth': 44, 'min_samples_split': 7, 'min_samples_leaf': 10, 'criterion': 'entropy'}. Best is trial 6 with value: 0.5626822157434404.\u001b[0m\n",
      "\u001b[32m[I 2023-03-15 19:23:00,160]\u001b[0m Trial 147 finished with value: 0.5626822157434404 and parameters: {'max_depth': 20, 'min_samples_split': 11, 'min_samples_leaf': 11, 'criterion': 'entropy'}. Best is trial 6 with value: 0.5626822157434404.\u001b[0m\n",
      "\u001b[32m[I 2023-03-15 19:23:00,186]\u001b[0m Trial 148 finished with value: 0.5518292682926829 and parameters: {'max_depth': 39, 'min_samples_split': 14, 'min_samples_leaf': 14, 'criterion': 'entropy'}. Best is trial 6 with value: 0.5626822157434404.\u001b[0m\n",
      "\u001b[32m[I 2023-03-15 19:23:00,213]\u001b[0m Trial 149 finished with value: 0.5360501567398119 and parameters: {'max_depth': 23, 'min_samples_split': 24, 'min_samples_leaf': 10, 'criterion': 'entropy'}. Best is trial 6 with value: 0.5626822157434404.\u001b[0m\n",
      "\u001b[32m[I 2023-03-15 19:23:00,241]\u001b[0m Trial 150 finished with value: 0.5412445730824892 and parameters: {'max_depth': 42, 'min_samples_split': 19, 'min_samples_leaf': 9, 'criterion': 'entropy'}. Best is trial 6 with value: 0.5626822157434404.\u001b[0m\n",
      "\u001b[32m[I 2023-03-15 19:23:00,269]\u001b[0m Trial 151 finished with value: 0.5626822157434404 and parameters: {'max_depth': 45, 'min_samples_split': 13, 'min_samples_leaf': 11, 'criterion': 'entropy'}. Best is trial 6 with value: 0.5626822157434404.\u001b[0m\n",
      "\u001b[32m[I 2023-03-15 19:23:00,298]\u001b[0m Trial 152 finished with value: 0.5626822157434404 and parameters: {'max_depth': 47, 'min_samples_split': 12, 'min_samples_leaf': 11, 'criterion': 'entropy'}. Best is trial 6 with value: 0.5626822157434404.\u001b[0m\n",
      "\u001b[32m[I 2023-03-15 19:23:00,326]\u001b[0m Trial 153 finished with value: 0.5345622119815668 and parameters: {'max_depth': 43, 'min_samples_split': 15, 'min_samples_leaf': 13, 'criterion': 'entropy'}. Best is trial 6 with value: 0.5626822157434404.\u001b[0m\n",
      "\u001b[32m[I 2023-03-15 19:23:00,355]\u001b[0m Trial 154 finished with value: 0.5611940298507463 and parameters: {'max_depth': 27, 'min_samples_split': 14, 'min_samples_leaf': 12, 'criterion': 'entropy'}. Best is trial 6 with value: 0.5626822157434404.\u001b[0m\n",
      "\u001b[32m[I 2023-03-15 19:23:00,384]\u001b[0m Trial 155 finished with value: 0.547945205479452 and parameters: {'max_depth': 31, 'min_samples_split': 13, 'min_samples_leaf': 10, 'criterion': 'entropy'}. Best is trial 6 with value: 0.5626822157434404.\u001b[0m\n",
      "\u001b[32m[I 2023-03-15 19:23:00,411]\u001b[0m Trial 156 finished with value: 0.5411764705882354 and parameters: {'max_depth': 40, 'min_samples_split': 16, 'min_samples_leaf': 9, 'criterion': 'entropy'}. Best is trial 6 with value: 0.5626822157434404.\u001b[0m\n",
      "\u001b[32m[I 2023-03-15 19:23:00,438]\u001b[0m Trial 157 finished with value: 0.5626822157434404 and parameters: {'max_depth': 47, 'min_samples_split': 15, 'min_samples_leaf': 11, 'criterion': 'entropy'}. Best is trial 6 with value: 0.5626822157434404.\u001b[0m\n",
      "\u001b[32m[I 2023-03-15 19:23:00,465]\u001b[0m Trial 158 finished with value: 0.5611940298507463 and parameters: {'max_depth': 44, 'min_samples_split': 18, 'min_samples_leaf': 12, 'criterion': 'entropy'}. Best is trial 6 with value: 0.5626822157434404.\u001b[0m\n",
      "\u001b[32m[I 2023-03-15 19:23:00,491]\u001b[0m Trial 159 finished with value: 0.5169230769230769 and parameters: {'max_depth': 41, 'min_samples_split': 21, 'min_samples_leaf': 8, 'criterion': 'gini'}. Best is trial 6 with value: 0.5626822157434404.\u001b[0m\n",
      "\u001b[32m[I 2023-03-15 19:23:00,518]\u001b[0m Trial 160 finished with value: 0.5626822157434404 and parameters: {'max_depth': 37, 'min_samples_split': 13, 'min_samples_leaf': 11, 'criterion': 'entropy'}. Best is trial 6 with value: 0.5626822157434404.\u001b[0m\n",
      "\u001b[32m[I 2023-03-15 19:23:00,546]\u001b[0m Trial 161 finished with value: 0.5611940298507463 and parameters: {'max_depth': 43, 'min_samples_split': 14, 'min_samples_leaf': 12, 'criterion': 'entropy'}. Best is trial 6 with value: 0.5626822157434404.\u001b[0m\n",
      "\u001b[32m[I 2023-03-15 19:23:00,573]\u001b[0m Trial 162 finished with value: 0.547945205479452 and parameters: {'max_depth': 41, 'min_samples_split': 12, 'min_samples_leaf': 10, 'criterion': 'entropy'}. Best is trial 6 with value: 0.5626822157434404.\u001b[0m\n",
      "\u001b[32m[I 2023-03-15 19:23:00,600]\u001b[0m Trial 163 finished with value: 0.5626822157434404 and parameters: {'max_depth': 42, 'min_samples_split': 14, 'min_samples_leaf': 11, 'criterion': 'entropy'}. Best is trial 6 with value: 0.5626822157434404.\u001b[0m\n",
      "\u001b[32m[I 2023-03-15 19:23:00,629]\u001b[0m Trial 164 finished with value: 0.547945205479452 and parameters: {'max_depth': 39, 'min_samples_split': 13, 'min_samples_leaf': 10, 'criterion': 'entropy'}. Best is trial 6 with value: 0.5626822157434404.\u001b[0m\n",
      "\u001b[32m[I 2023-03-15 19:23:00,656]\u001b[0m Trial 165 finished with value: 0.5626822157434404 and parameters: {'max_depth': 25, 'min_samples_split': 15, 'min_samples_leaf': 11, 'criterion': 'entropy'}. Best is trial 6 with value: 0.5626822157434404.\u001b[0m\n",
      "\u001b[32m[I 2023-03-15 19:23:00,683]\u001b[0m Trial 166 finished with value: 0.5345622119815668 and parameters: {'max_depth': 46, 'min_samples_split': 3, 'min_samples_leaf': 13, 'criterion': 'entropy'}. Best is trial 6 with value: 0.5626822157434404.\u001b[0m\n",
      "\u001b[32m[I 2023-03-15 19:23:00,711]\u001b[0m Trial 167 finished with value: 0.547945205479452 and parameters: {'max_depth': 42, 'min_samples_split': 11, 'min_samples_leaf': 10, 'criterion': 'entropy'}. Best is trial 6 with value: 0.5626822157434404.\u001b[0m\n",
      "\u001b[32m[I 2023-03-15 19:23:00,738]\u001b[0m Trial 168 finished with value: 0.5611940298507463 and parameters: {'max_depth': 26, 'min_samples_split': 14, 'min_samples_leaf': 12, 'criterion': 'entropy'}. Best is trial 6 with value: 0.5626822157434404.\u001b[0m\n",
      "\u001b[32m[I 2023-03-15 19:23:00,766]\u001b[0m Trial 169 finished with value: 0.5626822157434404 and parameters: {'max_depth': 23, 'min_samples_split': 12, 'min_samples_leaf': 11, 'criterion': 'entropy'}. Best is trial 6 with value: 0.5626822157434404.\u001b[0m\n"
     ]
    },
    {
     "name": "stderr",
     "output_type": "stream",
     "text": [
      "\u001b[32m[I 2023-03-15 19:23:00,793]\u001b[0m Trial 170 finished with value: 0.5611940298507463 and parameters: {'max_depth': 17, 'min_samples_split': 16, 'min_samples_leaf': 12, 'criterion': 'entropy'}. Best is trial 6 with value: 0.5626822157434404.\u001b[0m\n",
      "\u001b[32m[I 2023-03-15 19:23:00,821]\u001b[0m Trial 171 finished with value: 0.5626822157434404 and parameters: {'max_depth': 43, 'min_samples_split': 8, 'min_samples_leaf': 11, 'criterion': 'entropy'}. Best is trial 6 with value: 0.5626822157434404.\u001b[0m\n",
      "\u001b[32m[I 2023-03-15 19:23:00,848]\u001b[0m Trial 172 finished with value: 0.5626822157434404 and parameters: {'max_depth': 45, 'min_samples_split': 10, 'min_samples_leaf': 11, 'criterion': 'entropy'}. Best is trial 6 with value: 0.5626822157434404.\u001b[0m\n",
      "\u001b[32m[I 2023-03-15 19:23:00,876]\u001b[0m Trial 173 finished with value: 0.547945205479452 and parameters: {'max_depth': 43, 'min_samples_split': 9, 'min_samples_leaf': 10, 'criterion': 'entropy'}. Best is trial 6 with value: 0.5626822157434404.\u001b[0m\n",
      "\u001b[32m[I 2023-03-15 19:23:00,904]\u001b[0m Trial 174 finished with value: 0.5555555555555555 and parameters: {'max_depth': 44, 'min_samples_split': 30, 'min_samples_leaf': 9, 'criterion': 'entropy'}. Best is trial 6 with value: 0.5626822157434404.\u001b[0m\n",
      "\u001b[32m[I 2023-03-15 19:23:00,932]\u001b[0m Trial 175 finished with value: 0.5626822157434404 and parameters: {'max_depth': 40, 'min_samples_split': 5, 'min_samples_leaf': 11, 'criterion': 'entropy'}. Best is trial 6 with value: 0.5626822157434404.\u001b[0m\n",
      "\u001b[32m[I 2023-03-15 19:23:00,960]\u001b[0m Trial 176 finished with value: 0.5611940298507463 and parameters: {'max_depth': 40, 'min_samples_split': 12, 'min_samples_leaf': 12, 'criterion': 'entropy'}. Best is trial 6 with value: 0.5626822157434404.\u001b[0m\n",
      "\u001b[32m[I 2023-03-15 19:23:00,987]\u001b[0m Trial 177 finished with value: 0.547945205479452 and parameters: {'max_depth': 35, 'min_samples_split': 8, 'min_samples_leaf': 10, 'criterion': 'entropy'}. Best is trial 6 with value: 0.5626822157434404.\u001b[0m\n",
      "\u001b[32m[I 2023-03-15 19:23:01,015]\u001b[0m Trial 178 finished with value: 0.5345622119815668 and parameters: {'max_depth': 42, 'min_samples_split': 10, 'min_samples_leaf': 13, 'criterion': 'entropy'}. Best is trial 6 with value: 0.5626822157434404.\u001b[0m\n",
      "\u001b[32m[I 2023-03-15 19:23:01,045]\u001b[0m Trial 179 finished with value: 0.5626822157434404 and parameters: {'max_depth': 24, 'min_samples_split': 17, 'min_samples_leaf': 11, 'criterion': 'entropy'}. Best is trial 6 with value: 0.5626822157434404.\u001b[0m\n",
      "\u001b[32m[I 2023-03-15 19:23:01,072]\u001b[0m Trial 180 finished with value: 0.5611940298507463 and parameters: {'max_depth': 45, 'min_samples_split': 9, 'min_samples_leaf': 12, 'criterion': 'entropy'}. Best is trial 6 with value: 0.5626822157434404.\u001b[0m\n",
      "\u001b[32m[I 2023-03-15 19:23:01,101]\u001b[0m Trial 181 finished with value: 0.5626822157434404 and parameters: {'max_depth': 39, 'min_samples_split': 5, 'min_samples_leaf': 11, 'criterion': 'entropy'}. Best is trial 6 with value: 0.5626822157434404.\u001b[0m\n",
      "\u001b[32m[I 2023-03-15 19:23:01,129]\u001b[0m Trial 182 finished with value: 0.5626822157434404 and parameters: {'max_depth': 41, 'min_samples_split': 3, 'min_samples_leaf': 11, 'criterion': 'entropy'}. Best is trial 6 with value: 0.5626822157434404.\u001b[0m\n",
      "\u001b[32m[I 2023-03-15 19:23:01,157]\u001b[0m Trial 183 finished with value: 0.547945205479452 and parameters: {'max_depth': 40, 'min_samples_split': 13, 'min_samples_leaf': 10, 'criterion': 'entropy'}. Best is trial 6 with value: 0.5626822157434404.\u001b[0m\n",
      "\u001b[32m[I 2023-03-15 19:23:01,186]\u001b[0m Trial 184 finished with value: 0.5611940298507463 and parameters: {'max_depth': 25, 'min_samples_split': 14, 'min_samples_leaf': 12, 'criterion': 'entropy'}. Best is trial 6 with value: 0.5626822157434404.\u001b[0m\n",
      "\u001b[32m[I 2023-03-15 19:23:01,215]\u001b[0m Trial 185 finished with value: 0.5626822157434404 and parameters: {'max_depth': 42, 'min_samples_split': 6, 'min_samples_leaf': 11, 'criterion': 'entropy'}. Best is trial 6 with value: 0.5626822157434404.\u001b[0m\n",
      "\u001b[32m[I 2023-03-15 19:23:01,242]\u001b[0m Trial 186 finished with value: 0.571917808219178 and parameters: {'max_depth': 6, 'min_samples_split': 4, 'min_samples_leaf': 3, 'criterion': 'entropy'}. Best is trial 186 with value: 0.571917808219178.\u001b[0m\n",
      "\u001b[32m[I 2023-03-15 19:23:01,266]\u001b[0m Trial 187 finished with value: 0.3763213530655391 and parameters: {'max_depth': 3, 'min_samples_split': 15, 'min_samples_leaf': 3, 'criterion': 'entropy'}. Best is trial 186 with value: 0.571917808219178.\u001b[0m\n",
      "\u001b[32m[I 2023-03-15 19:23:01,293]\u001b[0m Trial 188 finished with value: 0.5208333333333334 and parameters: {'max_depth': 29, 'min_samples_split': 16, 'min_samples_leaf': 2, 'criterion': 'gini'}. Best is trial 186 with value: 0.571917808219178.\u001b[0m\n",
      "\u001b[32m[I 2023-03-15 19:23:01,319]\u001b[0m Trial 189 finished with value: 0.5317725752508361 and parameters: {'max_depth': 4, 'min_samples_split': 4, 'min_samples_leaf': 9, 'criterion': 'entropy'}. Best is trial 186 with value: 0.571917808219178.\u001b[0m\n",
      "\u001b[32m[I 2023-03-15 19:23:01,347]\u001b[0m Trial 190 finished with value: 0.5493171471927163 and parameters: {'max_depth': 12, 'min_samples_split': 13, 'min_samples_leaf': 10, 'criterion': 'entropy'}. Best is trial 186 with value: 0.571917808219178.\u001b[0m\n",
      "\u001b[32m[I 2023-03-15 19:23:01,376]\u001b[0m Trial 191 finished with value: 0.5611940298507463 and parameters: {'max_depth': 38, 'min_samples_split': 4, 'min_samples_leaf': 12, 'criterion': 'entropy'}. Best is trial 186 with value: 0.571917808219178.\u001b[0m\n",
      "\u001b[32m[I 2023-03-15 19:23:01,405]\u001b[0m Trial 192 finished with value: 0.48598130841121495 and parameters: {'max_depth': 10, 'min_samples_split': 4, 'min_samples_leaf': 5, 'criterion': 'entropy'}. Best is trial 186 with value: 0.571917808219178.\u001b[0m\n",
      "\u001b[32m[I 2023-03-15 19:23:01,433]\u001b[0m Trial 193 finished with value: 0.5411061285500747 and parameters: {'max_depth': 27, 'min_samples_split': 2, 'min_samples_leaf': 23, 'criterion': 'entropy'}. Best is trial 186 with value: 0.571917808219178.\u001b[0m\n",
      "\u001b[32m[I 2023-03-15 19:23:01,462]\u001b[0m Trial 194 finished with value: 0.4947839046199703 and parameters: {'max_depth': 41, 'min_samples_split': 5, 'min_samples_leaf': 6, 'criterion': 'entropy'}. Best is trial 186 with value: 0.571917808219178.\u001b[0m\n",
      "\u001b[32m[I 2023-03-15 19:23:01,491]\u001b[0m Trial 195 finished with value: 0.5626822157434404 and parameters: {'max_depth': 42, 'min_samples_split': 14, 'min_samples_leaf': 11, 'criterion': 'entropy'}. Best is trial 186 with value: 0.571917808219178.\u001b[0m\n",
      "\u001b[32m[I 2023-03-15 19:23:01,518]\u001b[0m Trial 196 finished with value: 0.5373608903020667 and parameters: {'max_depth': 8, 'min_samples_split': 3, 'min_samples_leaf': 4, 'criterion': 'entropy'}. Best is trial 186 with value: 0.571917808219178.\u001b[0m\n",
      "\u001b[32m[I 2023-03-15 19:23:01,546]\u001b[0m Trial 197 finished with value: 0.5570934256055363 and parameters: {'max_depth': 6, 'min_samples_split': 22, 'min_samples_leaf': 10, 'criterion': 'entropy'}. Best is trial 186 with value: 0.571917808219178.\u001b[0m\n",
      "\u001b[32m[I 2023-03-15 19:23:01,574]\u001b[0m Trial 198 finished with value: 0.5534591194968553 and parameters: {'max_depth': 43, 'min_samples_split': 11, 'min_samples_leaf': 17, 'criterion': 'entropy'}. Best is trial 186 with value: 0.571917808219178.\u001b[0m\n",
      "\u001b[32m[I 2023-03-15 19:23:01,603]\u001b[0m Trial 199 finished with value: 0.5345622119815668 and parameters: {'max_depth': 26, 'min_samples_split': 4, 'min_samples_leaf': 13, 'criterion': 'entropy'}. Best is trial 186 with value: 0.571917808219178.\u001b[0m\n"
     ]
    },
    {
     "name": "stdout",
     "output_type": "stream",
     "text": [
      "Best trial:\n",
      "  Score: 0.572\n",
      "  Params: \n",
      "    max_depth: 6\n",
      "    min_samples_split: 4\n",
      "    min_samples_leaf: 3\n",
      "    criterion: entropy\n"
     ]
    }
   ],
   "source": [
    "study = optuna.create_study(direction='maximize')\n",
    "\n",
    "study.optimize(objective, n_trials=200)\n",
    "\n",
    "print('Best trial:')\n",
    "trial = study.best_trial\n",
    "print(f'  Score: {trial.value:.3f}')\n",
    "print('  Params: ')\n",
    "for key, value in trial.params.items():\n",
    "    print(f'    {key}: {value}')"
   ]
  },
  {
   "cell_type": "code",
   "execution_count": 57,
   "metadata": {},
   "outputs": [
    {
     "data": {
      "text/plain": [
       "DecisionTreeClassifier(criterion='entropy', max_depth=6, min_samples_leaf=3,\n",
       "                       min_samples_split=4, random_state=322)"
      ]
     },
     "execution_count": 57,
     "metadata": {},
     "output_type": "execute_result"
    }
   ],
   "source": [
    "dtc_down = DecisionTreeClassifier(max_depth=6,\n",
    "                                    min_samples_split=4,\n",
    "                                    min_samples_leaf=3,\n",
    "                                    criterion='entropy',\n",
    "                                    random_state=322)\n",
    "\n",
    "dtc_down.fit(features_downsampled, target_downsampled)"
   ]
  },
  {
   "cell_type": "code",
   "execution_count": 58,
   "metadata": {},
   "outputs": [
    {
     "data": {
      "text/plain": [
       "0.833"
      ]
     },
     "execution_count": 58,
     "metadata": {},
     "output_type": "execute_result"
    }
   ],
   "source": [
    "prob_one_valid = dtc_down.predict_proba(features_valid)[:, 1]\n",
    "roc_auc_score(target_valid, prob_one_valid).round(3)"
   ]
  },
  {
   "cell_type": "markdown",
   "metadata": {},
   "source": [
    "С upsampling и downsampling почти все модели получились менее точными, чем без учета дисбаланса, при downsampling это может быть связано с тем, что выборка стала намного меньше, и качество обучения снизилось."
   ]
  },
  {
   "cell_type": "markdown",
   "metadata": {},
   "source": [
    "Лучшей моделью среди всех обученных в данной работе показала себя модель случайного леса со сбалансированными весами классов, ее F1 - 0,627, а AUC-ROC - 0,863."
   ]
  },
  {
   "cell_type": "markdown",
   "metadata": {},
   "source": [
    "## Тестирование модели"
   ]
  },
  {
   "cell_type": "markdown",
   "metadata": {},
   "source": [
    "Проверим лучшую модель на тестовой выборке."
   ]
  },
  {
   "cell_type": "code",
   "execution_count": 69,
   "metadata": {},
   "outputs": [
    {
     "data": {
      "text/plain": [
       "0.6377952755905513"
      ]
     },
     "execution_count": 69,
     "metadata": {},
     "output_type": "execute_result"
    }
   ],
   "source": [
    "predicted_test = rfc_cl_w.predict(features_test)\n",
    "f1_test = f1_score(predicted_test, target_test)\n",
    "f1_test"
   ]
  },
  {
   "cell_type": "code",
   "execution_count": 60,
   "metadata": {},
   "outputs": [
    {
     "data": {
      "text/plain": [
       "0.8638032196095368"
      ]
     },
     "execution_count": 60,
     "metadata": {},
     "output_type": "execute_result"
    }
   ],
   "source": [
    "prob_one_test = rfc_cl_w.predict_proba(features_test)[:, 1]\n",
    "roc_auc_score(target_test, prob_one_test)"
   ]
  },
  {
   "cell_type": "markdown",
   "metadata": {},
   "source": [
    "Результаты на тестовой выборке получились даже немного лучше, чем на валидационной (F1=0,637, AUC-ROC=0,863), их можно считать удовлетворительными, F1 больше 0,59."
   ]
  },
  {
   "cell_type": "markdown",
   "metadata": {},
   "source": [
    "## Вывод"
   ]
  },
  {
   "cell_type": "markdown",
   "metadata": {},
   "source": [
    "В ходе работы разделили данные на три выборки: обучающую, валидационную и тестовую. Обучили модели случайного леса, CatBoost и дерева решений с подбором оптимальных гиперпараметров сначала без учета дисбаланса, потом применяя методы борьбы с ним. Без учета дисбаланса лучший скор показал catboost (F1=0,598). Upsampling и downsampling не показали прироста F1 в основном ниже, чем без учета дисбаланса. Самой точной моделью стала модель случайного леса со взвешененными классами, F1=0,625. Данную модель проверили на тестовой выборке, результат оказался еще немного лучше, F1=0,637. Данный результат можно считать успешным, т.к. по условию задачи он должен быть больше 0,59."
   ]
  }
 ],
 "metadata": {
  "ExecuteTimeLog": [
   {
    "duration": 393,
    "start_time": "2022-12-19T06:46:58.134Z"
   },
   {
    "duration": 60,
    "start_time": "2022-12-19T06:47:33.764Z"
   },
   {
    "duration": 200,
    "start_time": "2022-12-19T06:47:40.165Z"
   },
   {
    "duration": 22,
    "start_time": "2022-12-19T06:47:47.600Z"
   },
   {
    "duration": 4,
    "start_time": "2022-12-19T07:02:02.518Z"
   },
   {
    "duration": 13,
    "start_time": "2022-12-19T07:02:08.271Z"
   },
   {
    "duration": 5,
    "start_time": "2022-12-19T07:03:26.183Z"
   },
   {
    "duration": 8,
    "start_time": "2022-12-19T07:06:35.260Z"
   },
   {
    "duration": 723,
    "start_time": "2022-12-19T07:06:42.593Z"
   },
   {
    "duration": 9,
    "start_time": "2022-12-19T07:06:45.735Z"
   },
   {
    "duration": 7,
    "start_time": "2022-12-19T07:06:55.553Z"
   },
   {
    "duration": 4,
    "start_time": "2022-12-19T07:07:14.187Z"
   },
   {
    "duration": 4,
    "start_time": "2022-12-19T07:07:22.260Z"
   },
   {
    "duration": 4,
    "start_time": "2022-12-19T07:07:28.725Z"
   },
   {
    "duration": 205,
    "start_time": "2022-12-19T07:11:23.942Z"
   },
   {
    "duration": 19,
    "start_time": "2022-12-19T07:11:31.544Z"
   },
   {
    "duration": 10,
    "start_time": "2022-12-19T07:12:49.808Z"
   },
   {
    "duration": 3,
    "start_time": "2022-12-19T07:12:59.577Z"
   },
   {
    "duration": 38,
    "start_time": "2022-12-19T07:12:59.972Z"
   },
   {
    "duration": 14,
    "start_time": "2022-12-19T07:13:00.502Z"
   },
   {
    "duration": 4,
    "start_time": "2022-12-19T07:13:01.143Z"
   },
   {
    "duration": 10,
    "start_time": "2022-12-19T07:13:01.788Z"
   },
   {
    "duration": 9,
    "start_time": "2022-12-19T07:13:02.326Z"
   },
   {
    "duration": 8,
    "start_time": "2022-12-19T07:13:03.742Z"
   },
   {
    "duration": 4,
    "start_time": "2022-12-19T07:13:04.061Z"
   },
   {
    "duration": 5,
    "start_time": "2022-12-19T07:13:04.512Z"
   },
   {
    "duration": 4,
    "start_time": "2022-12-19T07:13:05.659Z"
   },
   {
    "duration": 4,
    "start_time": "2022-12-19T07:19:12.253Z"
   },
   {
    "duration": 1194,
    "start_time": "2022-12-22T08:21:23.594Z"
   },
   {
    "duration": 168,
    "start_time": "2022-12-22T08:21:24.791Z"
   },
   {
    "duration": 21,
    "start_time": "2022-12-22T08:21:25.662Z"
   },
   {
    "duration": 232,
    "start_time": "2022-12-22T08:21:26.302Z"
   },
   {
    "duration": 36,
    "start_time": "2022-12-22T08:22:14.780Z"
   },
   {
    "duration": 13,
    "start_time": "2022-12-22T08:22:15.012Z"
   },
   {
    "duration": 1342,
    "start_time": "2022-12-22T08:22:47.404Z"
   },
   {
    "duration": 635,
    "start_time": "2022-12-22T08:23:04.274Z"
   },
   {
    "duration": 12,
    "start_time": "2022-12-22T08:23:45.810Z"
   },
   {
    "duration": 3,
    "start_time": "2022-12-22T08:25:30.636Z"
   },
   {
    "duration": 41,
    "start_time": "2022-12-22T08:25:30.812Z"
   },
   {
    "duration": 15,
    "start_time": "2022-12-22T08:25:31.009Z"
   },
   {
    "duration": 5,
    "start_time": "2022-12-22T08:25:31.391Z"
   },
   {
    "duration": 13,
    "start_time": "2022-12-22T08:25:34.181Z"
   },
   {
    "duration": 34,
    "start_time": "2022-12-22T08:25:41.419Z"
   },
   {
    "duration": 12,
    "start_time": "2022-12-22T08:26:12.115Z"
   },
   {
    "duration": 10,
    "start_time": "2022-12-22T08:26:21.560Z"
   },
   {
    "duration": 9,
    "start_time": "2022-12-22T08:26:21.820Z"
   },
   {
    "duration": 3,
    "start_time": "2022-12-22T08:26:22.039Z"
   },
   {
    "duration": 4,
    "start_time": "2022-12-22T08:26:22.316Z"
   },
   {
    "duration": 4,
    "start_time": "2022-12-22T08:26:22.601Z"
   },
   {
    "duration": 71,
    "start_time": "2022-12-22T08:26:24.041Z"
   },
   {
    "duration": 19,
    "start_time": "2022-12-22T08:28:50.127Z"
   },
   {
    "duration": 25,
    "start_time": "2022-12-22T08:29:02.595Z"
   },
   {
    "duration": 22,
    "start_time": "2022-12-22T08:29:35.091Z"
   },
   {
    "duration": 27,
    "start_time": "2022-12-22T08:29:55.068Z"
   },
   {
    "duration": 25,
    "start_time": "2022-12-22T08:34:52.074Z"
   },
   {
    "duration": 11,
    "start_time": "2022-12-22T08:41:07.898Z"
   },
   {
    "duration": 20,
    "start_time": "2022-12-22T08:41:27.895Z"
   },
   {
    "duration": 38,
    "start_time": "2022-12-22T08:41:59.198Z"
   },
   {
    "duration": 29,
    "start_time": "2022-12-22T08:44:54.546Z"
   },
   {
    "duration": 39,
    "start_time": "2022-12-22T08:45:22.698Z"
   },
   {
    "duration": 20,
    "start_time": "2022-12-22T08:47:33.610Z"
   },
   {
    "duration": 17,
    "start_time": "2022-12-22T08:47:49.973Z"
   },
   {
    "duration": 5,
    "start_time": "2022-12-22T08:48:26.136Z"
   },
   {
    "duration": 3,
    "start_time": "2022-12-22T08:48:36.512Z"
   },
   {
    "duration": 42,
    "start_time": "2022-12-22T08:48:36.802Z"
   },
   {
    "duration": 12,
    "start_time": "2022-12-22T08:48:37.334Z"
   },
   {
    "duration": 5,
    "start_time": "2022-12-22T08:48:39.378Z"
   },
   {
    "duration": 5,
    "start_time": "2022-12-22T08:49:01.341Z"
   },
   {
    "duration": 4,
    "start_time": "2022-12-22T08:49:08.051Z"
   },
   {
    "duration": 4,
    "start_time": "2022-12-22T08:49:29.037Z"
   },
   {
    "duration": 5,
    "start_time": "2022-12-22T08:49:45.315Z"
   },
   {
    "duration": 21,
    "start_time": "2022-12-22T08:49:51.361Z"
   },
   {
    "duration": 4,
    "start_time": "2022-12-22T08:50:15.124Z"
   },
   {
    "duration": 7,
    "start_time": "2022-12-22T08:50:58.272Z"
   },
   {
    "duration": 4,
    "start_time": "2022-12-22T08:51:09.134Z"
   },
   {
    "duration": 4,
    "start_time": "2022-12-22T08:51:10.758Z"
   },
   {
    "duration": 18,
    "start_time": "2022-12-22T08:51:11.299Z"
   },
   {
    "duration": 8,
    "start_time": "2022-12-22T08:51:11.733Z"
   },
   {
    "duration": 6,
    "start_time": "2022-12-22T08:51:11.953Z"
   },
   {
    "duration": 4,
    "start_time": "2022-12-22T08:51:12.142Z"
   },
   {
    "duration": 4,
    "start_time": "2022-12-22T08:51:12.339Z"
   },
   {
    "duration": 4,
    "start_time": "2022-12-22T08:51:12.512Z"
   },
   {
    "duration": 39,
    "start_time": "2022-12-22T08:51:12.698Z"
   },
   {
    "duration": 8,
    "start_time": "2022-12-22T08:51:14.649Z"
   },
   {
    "duration": 19593,
    "start_time": "2022-12-22T08:51:22.357Z"
   },
   {
    "duration": 439,
    "start_time": "2022-12-22T08:54:01.103Z"
   },
   {
    "duration": 19317,
    "start_time": "2022-12-22T08:54:09.331Z"
   },
   {
    "duration": 164,
    "start_time": "2022-12-22T08:55:19.488Z"
   },
   {
    "duration": 167,
    "start_time": "2022-12-22T08:55:37.036Z"
   },
   {
    "duration": 20517,
    "start_time": "2022-12-22T08:56:48.051Z"
   },
   {
    "duration": 148,
    "start_time": "2022-12-22T08:57:25.534Z"
   },
   {
    "duration": 3206,
    "start_time": "2022-12-22T09:00:19.410Z"
   },
   {
    "duration": 3884,
    "start_time": "2022-12-22T09:00:36.313Z"
   },
   {
    "duration": 7347,
    "start_time": "2022-12-22T09:00:51.569Z"
   },
   {
    "duration": 34653,
    "start_time": "2022-12-22T09:01:07.777Z"
   },
   {
    "duration": 1603,
    "start_time": "2022-12-27T08:16:03.099Z"
   },
   {
    "duration": 82,
    "start_time": "2022-12-27T08:17:40.932Z"
   },
   {
    "duration": 18,
    "start_time": "2022-12-27T08:17:41.073Z"
   },
   {
    "duration": 15,
    "start_time": "2022-12-27T08:20:12.016Z"
   },
   {
    "duration": 22,
    "start_time": "2022-12-27T08:24:16.937Z"
   },
   {
    "duration": 5,
    "start_time": "2022-12-27T08:28:30.342Z"
   },
   {
    "duration": 4,
    "start_time": "2022-12-27T08:29:47.983Z"
   },
   {
    "duration": 4,
    "start_time": "2022-12-27T08:29:48.622Z"
   },
   {
    "duration": 25,
    "start_time": "2022-12-27T08:31:32.417Z"
   },
   {
    "duration": 18,
    "start_time": "2022-12-27T08:31:39.699Z"
   },
   {
    "duration": 19,
    "start_time": "2022-12-27T08:34:43.578Z"
   },
   {
    "duration": 9,
    "start_time": "2022-12-27T08:35:11.134Z"
   },
   {
    "duration": 6,
    "start_time": "2022-12-27T08:35:11.355Z"
   },
   {
    "duration": 6,
    "start_time": "2022-12-27T08:35:12.294Z"
   },
   {
    "duration": 5,
    "start_time": "2022-12-27T08:35:12.697Z"
   },
   {
    "duration": 5,
    "start_time": "2022-12-27T08:35:13.144Z"
   },
   {
    "duration": 47,
    "start_time": "2022-12-27T08:37:37.555Z"
   },
   {
    "duration": 124,
    "start_time": "2022-12-27T08:38:31.739Z"
   },
   {
    "duration": 75,
    "start_time": "2022-12-27T08:38:41.954Z"
   },
   {
    "duration": 7,
    "start_time": "2022-12-27T08:38:50.459Z"
   },
   {
    "duration": 7,
    "start_time": "2022-12-27T08:38:55.387Z"
   },
   {
    "duration": 7,
    "start_time": "2022-12-27T08:40:11.898Z"
   },
   {
    "duration": 6,
    "start_time": "2022-12-27T08:45:16.057Z"
   },
   {
    "duration": 20672,
    "start_time": "2022-12-27T08:50:34.492Z"
   },
   {
    "duration": 14935,
    "start_time": "2022-12-27T08:51:37.517Z"
   },
   {
    "duration": 9112,
    "start_time": "2022-12-27T08:51:52.454Z"
   },
   {
    "duration": 21236,
    "start_time": "2022-12-27T08:52:11.165Z"
   },
   {
    "duration": 27377,
    "start_time": "2022-12-27T08:53:12.721Z"
   },
   {
    "duration": 27364,
    "start_time": "2022-12-27T09:36:14.514Z"
   },
   {
    "duration": 27208,
    "start_time": "2022-12-27T09:36:53.612Z"
   },
   {
    "duration": 42,
    "start_time": "2022-12-27T09:39:23.115Z"
   },
   {
    "duration": 7,
    "start_time": "2022-12-27T09:39:27.846Z"
   },
   {
    "duration": 27784,
    "start_time": "2022-12-27T09:39:57.077Z"
   },
   {
    "duration": 30,
    "start_time": "2022-12-27T09:47:17.875Z"
   },
   {
    "duration": 3,
    "start_time": "2022-12-27T09:47:25.461Z"
   },
   {
    "duration": 295,
    "start_time": "2022-12-27T09:48:16.172Z"
   },
   {
    "duration": 27180,
    "start_time": "2022-12-27T09:48:17.016Z"
   },
   {
    "duration": 288,
    "start_time": "2022-12-27T09:49:29.687Z"
   },
   {
    "duration": 281,
    "start_time": "2022-12-27T09:50:22.088Z"
   },
   {
    "duration": 273,
    "start_time": "2022-12-27T09:51:14.690Z"
   },
   {
    "duration": 21943,
    "start_time": "2022-12-27T09:54:07.703Z"
   },
   {
    "duration": 70,
    "start_time": "2022-12-27T09:54:57.693Z"
   },
   {
    "duration": 0,
    "start_time": "2022-12-27T09:54:57.766Z"
   },
   {
    "duration": 21938,
    "start_time": "2022-12-27T09:55:16.525Z"
   },
   {
    "duration": 47,
    "start_time": "2022-12-27T09:55:38.464Z"
   },
   {
    "duration": 1472,
    "start_time": "2022-12-28T10:25:08.509Z"
   },
   {
    "duration": 155,
    "start_time": "2022-12-28T10:25:09.983Z"
   },
   {
    "duration": 20,
    "start_time": "2022-12-28T10:25:10.667Z"
   },
   {
    "duration": 13,
    "start_time": "2022-12-28T10:25:14.365Z"
   },
   {
    "duration": 12,
    "start_time": "2022-12-28T10:25:17.160Z"
   },
   {
    "duration": 6,
    "start_time": "2022-12-28T10:25:18.199Z"
   },
   {
    "duration": 11,
    "start_time": "2022-12-28T10:25:35.900Z"
   },
   {
    "duration": 4,
    "start_time": "2022-12-28T10:25:36.819Z"
   },
   {
    "duration": 4,
    "start_time": "2022-12-28T10:25:37.912Z"
   },
   {
    "duration": 4,
    "start_time": "2022-12-28T10:25:38.797Z"
   },
   {
    "duration": 19,
    "start_time": "2022-12-28T10:25:40.146Z"
   },
   {
    "duration": 9,
    "start_time": "2022-12-28T10:25:41.515Z"
   },
   {
    "duration": 6,
    "start_time": "2022-12-28T10:25:41.907Z"
   },
   {
    "duration": 4,
    "start_time": "2022-12-28T10:25:44.579Z"
   },
   {
    "duration": 4,
    "start_time": "2022-12-28T10:25:44.775Z"
   },
   {
    "duration": 4,
    "start_time": "2022-12-28T10:25:45.011Z"
   },
   {
    "duration": 49,
    "start_time": "2022-12-28T10:25:47.830Z"
   },
   {
    "duration": 7,
    "start_time": "2022-12-28T10:25:50.198Z"
   },
   {
    "duration": 18634,
    "start_time": "2022-12-28T10:25:51.943Z"
   },
   {
    "duration": 0,
    "start_time": "2022-12-28T10:26:10.579Z"
   },
   {
    "duration": 18338,
    "start_time": "2022-12-28T10:26:54.516Z"
   },
   {
    "duration": 85,
    "start_time": "2022-12-28T10:27:12.855Z"
   },
   {
    "duration": 23434,
    "start_time": "2022-12-28T10:27:27.413Z"
   },
   {
    "duration": 15,
    "start_time": "2022-12-28T10:31:49.788Z"
   },
   {
    "duration": 152,
    "start_time": "2022-12-28T10:37:35.268Z"
   },
   {
    "duration": 119,
    "start_time": "2022-12-28T10:37:50.524Z"
   },
   {
    "duration": 7,
    "start_time": "2022-12-28T10:38:02.014Z"
   },
   {
    "duration": 18846,
    "start_time": "2022-12-28T11:27:22.173Z"
   },
   {
    "duration": 24137,
    "start_time": "2022-12-28T11:27:42.344Z"
   },
   {
    "duration": 21249,
    "start_time": "2022-12-28T11:28:17.560Z"
   },
   {
    "duration": 34,
    "start_time": "2022-12-28T11:29:20.645Z"
   },
   {
    "duration": 3,
    "start_time": "2022-12-28T11:30:36.730Z"
   },
   {
    "duration": 9,
    "start_time": "2022-12-28T11:32:25.078Z"
   },
   {
    "duration": 9,
    "start_time": "2022-12-28T11:33:53.311Z"
   },
   {
    "duration": 4,
    "start_time": "2022-12-28T11:35:25.936Z"
   },
   {
    "duration": 5,
    "start_time": "2022-12-28T11:35:33.225Z"
   },
   {
    "duration": 11,
    "start_time": "2022-12-28T11:35:41.015Z"
   },
   {
    "duration": 4,
    "start_time": "2022-12-28T11:35:47.111Z"
   },
   {
    "duration": 10,
    "start_time": "2022-12-28T11:35:52.858Z"
   },
   {
    "duration": 26636,
    "start_time": "2022-12-28T11:36:02.217Z"
   },
   {
    "duration": 19112,
    "start_time": "2022-12-28T11:36:59.619Z"
   },
   {
    "duration": 18916,
    "start_time": "2022-12-28T11:37:18.733Z"
   },
   {
    "duration": 26389,
    "start_time": "2022-12-28T11:37:37.651Z"
   },
   {
    "duration": 33992,
    "start_time": "2022-12-28T11:38:04.042Z"
   },
   {
    "duration": 33,
    "start_time": "2022-12-28T11:38:51.464Z"
   },
   {
    "duration": 13,
    "start_time": "2022-12-28T11:41:11.628Z"
   },
   {
    "duration": 5,
    "start_time": "2022-12-28T11:41:26.251Z"
   },
   {
    "duration": 26795,
    "start_time": "2022-12-28T11:41:41.628Z"
   },
   {
    "duration": 11208,
    "start_time": "2022-12-28T11:42:32.207Z"
   },
   {
    "duration": 11304,
    "start_time": "2022-12-28T11:42:49.124Z"
   },
   {
    "duration": 21591,
    "start_time": "2022-12-28T11:46:05.612Z"
   },
   {
    "duration": 34,
    "start_time": "2022-12-28T11:48:02.742Z"
   },
   {
    "duration": 43,
    "start_time": "2022-12-28T11:52:55.526Z"
   },
   {
    "duration": 46,
    "start_time": "2022-12-28T11:53:04.497Z"
   },
   {
    "duration": 47,
    "start_time": "2022-12-28T11:53:22.616Z"
   },
   {
    "duration": 58,
    "start_time": "2022-12-28T11:53:46.350Z"
   },
   {
    "duration": 102,
    "start_time": "2022-12-28T11:53:58.860Z"
   },
   {
    "duration": 24337,
    "start_time": "2022-12-28T11:55:08.521Z"
   },
   {
    "duration": 83,
    "start_time": "2022-12-28T11:55:44.667Z"
   },
   {
    "duration": 10,
    "start_time": "2022-12-28T12:01:09.332Z"
   },
   {
    "duration": 24613,
    "start_time": "2022-12-28T12:01:13.267Z"
   },
   {
    "duration": 18777,
    "start_time": "2022-12-28T12:02:08.943Z"
   },
   {
    "duration": 13438,
    "start_time": "2022-12-28T12:02:39.021Z"
   },
   {
    "duration": 24059,
    "start_time": "2022-12-28T12:03:26.745Z"
   },
   {
    "duration": 22415,
    "start_time": "2022-12-28T12:04:01.230Z"
   },
   {
    "duration": 13241,
    "start_time": "2022-12-28T12:04:23.647Z"
   },
   {
    "duration": 8,
    "start_time": "2022-12-28T12:05:01.042Z"
   },
   {
    "duration": 11621,
    "start_time": "2022-12-28T12:05:01.922Z"
   },
   {
    "duration": 12880,
    "start_time": "2022-12-28T12:05:27.633Z"
   },
   {
    "duration": 23698,
    "start_time": "2022-12-28T12:05:50.251Z"
   },
   {
    "duration": 34,
    "start_time": "2022-12-28T12:06:36.428Z"
   },
   {
    "duration": 23450,
    "start_time": "2022-12-28T12:07:10.012Z"
   },
   {
    "duration": 42,
    "start_time": "2022-12-28T12:07:42.115Z"
   },
   {
    "duration": 9,
    "start_time": "2022-12-28T12:08:03.265Z"
   },
   {
    "duration": 24380,
    "start_time": "2022-12-28T12:08:04.230Z"
   },
   {
    "duration": 8,
    "start_time": "2022-12-28T12:08:36.780Z"
   },
   {
    "duration": 23008,
    "start_time": "2022-12-28T12:08:38.015Z"
   },
   {
    "duration": 23658,
    "start_time": "2022-12-28T12:09:04.376Z"
   },
   {
    "duration": 14884,
    "start_time": "2022-12-28T12:09:51.968Z"
   },
   {
    "duration": 48472,
    "start_time": "2022-12-28T12:10:20.277Z"
   },
   {
    "duration": 34,
    "start_time": "2022-12-28T12:11:29.735Z"
   },
   {
    "duration": 22786,
    "start_time": "2022-12-28T12:11:40.007Z"
   },
   {
    "duration": 40733,
    "start_time": "2022-12-28T12:12:07.246Z"
   },
   {
    "duration": 31,
    "start_time": "2022-12-28T12:13:14.616Z"
   },
   {
    "duration": 9,
    "start_time": "2022-12-28T12:13:28.774Z"
   },
   {
    "duration": 13266,
    "start_time": "2022-12-28T12:13:29.075Z"
   },
   {
    "duration": 31474,
    "start_time": "2022-12-28T12:13:50.530Z"
   },
   {
    "duration": 98,
    "start_time": "2022-12-28T12:14:52.983Z"
   },
   {
    "duration": 88,
    "start_time": "2022-12-28T12:15:34.912Z"
   },
   {
    "duration": 1414,
    "start_time": "2022-12-30T05:46:09.165Z"
   },
   {
    "duration": 81,
    "start_time": "2022-12-30T05:46:10.581Z"
   },
   {
    "duration": 17,
    "start_time": "2022-12-30T05:46:10.663Z"
   },
   {
    "duration": 12,
    "start_time": "2022-12-30T05:46:10.682Z"
   },
   {
    "duration": 4,
    "start_time": "2022-12-30T05:46:10.695Z"
   },
   {
    "duration": 3,
    "start_time": "2022-12-30T05:46:10.712Z"
   },
   {
    "duration": 4,
    "start_time": "2022-12-30T05:46:11.105Z"
   },
   {
    "duration": 18,
    "start_time": "2022-12-30T05:46:12.377Z"
   },
   {
    "duration": 8,
    "start_time": "2022-12-30T05:46:12.778Z"
   },
   {
    "duration": 6,
    "start_time": "2022-12-30T05:46:13.319Z"
   },
   {
    "duration": 4,
    "start_time": "2022-12-30T05:46:13.768Z"
   },
   {
    "duration": 4,
    "start_time": "2022-12-30T05:46:13.964Z"
   },
   {
    "duration": 4,
    "start_time": "2022-12-30T05:46:14.157Z"
   },
   {
    "duration": 35,
    "start_time": "2022-12-30T05:46:14.894Z"
   },
   {
    "duration": 7,
    "start_time": "2022-12-30T05:46:18.102Z"
   },
   {
    "duration": 118,
    "start_time": "2022-12-30T05:46:56.633Z"
   },
   {
    "duration": 32,
    "start_time": "2022-12-30T05:47:23.783Z"
   },
   {
    "duration": 22,
    "start_time": "2022-12-30T05:47:43.257Z"
   },
   {
    "duration": 4,
    "start_time": "2022-12-30T05:50:04.792Z"
   },
   {
    "duration": 55,
    "start_time": "2022-12-30T05:50:04.798Z"
   },
   {
    "duration": 13,
    "start_time": "2022-12-30T05:50:04.854Z"
   },
   {
    "duration": 13,
    "start_time": "2022-12-30T05:50:04.868Z"
   },
   {
    "duration": 6,
    "start_time": "2022-12-30T05:50:04.883Z"
   },
   {
    "duration": 6,
    "start_time": "2022-12-30T05:50:04.890Z"
   },
   {
    "duration": 12,
    "start_time": "2022-12-30T05:50:04.897Z"
   },
   {
    "duration": 38,
    "start_time": "2022-12-30T05:50:04.911Z"
   },
   {
    "duration": 7,
    "start_time": "2022-12-30T05:50:04.951Z"
   },
   {
    "duration": 6,
    "start_time": "2022-12-30T05:50:04.959Z"
   },
   {
    "duration": 5,
    "start_time": "2022-12-30T05:50:04.966Z"
   },
   {
    "duration": 13,
    "start_time": "2022-12-30T05:50:04.972Z"
   },
   {
    "duration": 14,
    "start_time": "2022-12-30T05:50:04.987Z"
   },
   {
    "duration": 42,
    "start_time": "2022-12-30T05:50:05.004Z"
   },
   {
    "duration": 6,
    "start_time": "2022-12-30T05:50:05.048Z"
   },
   {
    "duration": 19234,
    "start_time": "2022-12-30T05:50:05.055Z"
   },
   {
    "duration": 24720,
    "start_time": "2022-12-30T05:50:24.291Z"
   },
   {
    "duration": 15,
    "start_time": "2022-12-30T05:50:49.015Z"
   },
   {
    "duration": 0,
    "start_time": "2022-12-30T05:50:49.032Z"
   },
   {
    "duration": 0,
    "start_time": "2022-12-30T05:50:49.033Z"
   },
   {
    "duration": 0,
    "start_time": "2022-12-30T05:50:49.034Z"
   },
   {
    "duration": 0,
    "start_time": "2022-12-30T05:50:49.035Z"
   },
   {
    "duration": 0,
    "start_time": "2022-12-30T05:50:49.036Z"
   },
   {
    "duration": 0,
    "start_time": "2022-12-30T05:50:49.038Z"
   },
   {
    "duration": 0,
    "start_time": "2022-12-30T05:50:49.039Z"
   },
   {
    "duration": 0,
    "start_time": "2022-12-30T05:50:49.040Z"
   },
   {
    "duration": 0,
    "start_time": "2022-12-30T05:50:49.041Z"
   },
   {
    "duration": 0,
    "start_time": "2022-12-30T05:50:49.043Z"
   },
   {
    "duration": 0,
    "start_time": "2022-12-30T05:50:49.044Z"
   },
   {
    "duration": 0,
    "start_time": "2022-12-30T05:50:49.045Z"
   },
   {
    "duration": 0,
    "start_time": "2022-12-30T05:50:49.046Z"
   },
   {
    "duration": 23961,
    "start_time": "2022-12-30T05:51:17.848Z"
   },
   {
    "duration": 126,
    "start_time": "2022-12-30T05:51:41.811Z"
   },
   {
    "duration": 6,
    "start_time": "2022-12-30T05:51:41.938Z"
   },
   {
    "duration": 18626,
    "start_time": "2022-12-30T05:51:41.946Z"
   },
   {
    "duration": 20981,
    "start_time": "2022-12-30T05:52:00.574Z"
   },
   {
    "duration": 31,
    "start_time": "2022-12-30T05:52:21.556Z"
   },
   {
    "duration": 8,
    "start_time": "2022-12-30T05:52:21.588Z"
   },
   {
    "duration": 22,
    "start_time": "2022-12-30T05:52:21.598Z"
   },
   {
    "duration": 22729,
    "start_time": "2022-12-30T05:52:21.622Z"
   },
   {
    "duration": 40253,
    "start_time": "2022-12-30T05:52:44.354Z"
   },
   {
    "duration": 33,
    "start_time": "2022-12-30T05:53:24.608Z"
   },
   {
    "duration": 8,
    "start_time": "2022-12-30T05:53:24.643Z"
   },
   {
    "duration": 12553,
    "start_time": "2022-12-30T05:53:24.653Z"
   },
   {
    "duration": 29974,
    "start_time": "2022-12-30T05:53:37.207Z"
   },
   {
    "duration": 89,
    "start_time": "2022-12-30T05:54:07.183Z"
   },
   {
    "duration": 43,
    "start_time": "2022-12-30T05:54:07.273Z"
   },
   {
    "duration": 34,
    "start_time": "2022-12-30T05:54:15.324Z"
   },
   {
    "duration": 46,
    "start_time": "2022-12-30T05:54:19.342Z"
   },
   {
    "duration": 31,
    "start_time": "2022-12-30T05:54:24.801Z"
   },
   {
    "duration": 8,
    "start_time": "2022-12-30T05:54:51.620Z"
   },
   {
    "duration": 20958,
    "start_time": "2022-12-30T05:54:53.190Z"
   },
   {
    "duration": 9,
    "start_time": "2022-12-30T05:55:23.164Z"
   },
   {
    "duration": 25329,
    "start_time": "2022-12-30T05:55:23.464Z"
   },
   {
    "duration": 12,
    "start_time": "2022-12-30T05:55:58.414Z"
   },
   {
    "duration": 14734,
    "start_time": "2022-12-30T05:55:58.783Z"
   },
   {
    "duration": 29903,
    "start_time": "2022-12-30T05:56:21.865Z"
   },
   {
    "duration": 41,
    "start_time": "2022-12-30T05:57:06.947Z"
   },
   {
    "duration": 30,
    "start_time": "2022-12-30T05:57:14.526Z"
   },
   {
    "duration": 39,
    "start_time": "2022-12-30T05:57:20.173Z"
   },
   {
    "duration": 64773,
    "start_time": "2022-12-30T05:57:48.167Z"
   },
   {
    "duration": 87,
    "start_time": "2022-12-30T06:02:30.168Z"
   },
   {
    "duration": 85,
    "start_time": "2022-12-30T06:02:44.772Z"
   },
   {
    "duration": 89,
    "start_time": "2022-12-30T06:03:12.148Z"
   },
   {
    "duration": 93,
    "start_time": "2022-12-30T06:03:36.915Z"
   },
   {
    "duration": 110,
    "start_time": "2022-12-30T06:03:57.003Z"
   },
   {
    "duration": 94,
    "start_time": "2022-12-30T06:04:11.494Z"
   },
   {
    "duration": 93,
    "start_time": "2022-12-30T06:04:16.666Z"
   },
   {
    "duration": 46,
    "start_time": "2022-12-30T06:04:32.669Z"
   },
   {
    "duration": 112,
    "start_time": "2022-12-30T06:04:49.960Z"
   },
   {
    "duration": 199,
    "start_time": "2022-12-30T06:05:41.998Z"
   },
   {
    "duration": 192,
    "start_time": "2022-12-30T06:05:51.979Z"
   },
   {
    "duration": 181,
    "start_time": "2022-12-30T06:05:56.594Z"
   },
   {
    "duration": 149,
    "start_time": "2022-12-30T06:06:01.254Z"
   },
   {
    "duration": 146,
    "start_time": "2022-12-30T06:06:07.434Z"
   },
   {
    "duration": 1236,
    "start_time": "2022-12-30T06:06:14.131Z"
   },
   {
    "duration": 153,
    "start_time": "2022-12-30T06:06:20.384Z"
   },
   {
    "duration": 30,
    "start_time": "2022-12-30T06:06:31.652Z"
   },
   {
    "duration": 52,
    "start_time": "2022-12-30T06:06:58.013Z"
   },
   {
    "duration": 44,
    "start_time": "2022-12-30T06:08:00.308Z"
   },
   {
    "duration": 8,
    "start_time": "2022-12-30T06:08:10.593Z"
   },
   {
    "duration": 12691,
    "start_time": "2022-12-30T06:08:15.909Z"
   },
   {
    "duration": 24980,
    "start_time": "2022-12-30T06:09:00.856Z"
   },
   {
    "duration": 43,
    "start_time": "2022-12-30T06:09:36.795Z"
   },
   {
    "duration": 1535,
    "start_time": "2023-01-11T09:35:49.777Z"
   },
   {
    "duration": 379,
    "start_time": "2023-01-11T09:35:51.315Z"
   },
   {
    "duration": 21,
    "start_time": "2023-01-11T09:35:51.696Z"
   },
   {
    "duration": 20,
    "start_time": "2023-01-11T09:35:51.719Z"
   },
   {
    "duration": 5,
    "start_time": "2023-01-11T09:35:51.750Z"
   },
   {
    "duration": 3,
    "start_time": "2023-01-11T09:35:52.227Z"
   },
   {
    "duration": 4,
    "start_time": "2023-01-11T09:35:52.984Z"
   },
   {
    "duration": 19,
    "start_time": "2023-01-11T09:35:53.962Z"
   },
   {
    "duration": 10,
    "start_time": "2023-01-11T09:35:54.978Z"
   },
   {
    "duration": 7,
    "start_time": "2023-01-11T09:35:55.364Z"
   },
   {
    "duration": 3,
    "start_time": "2023-01-11T09:35:56.537Z"
   },
   {
    "duration": 4,
    "start_time": "2023-01-11T09:35:56.768Z"
   },
   {
    "duration": 4,
    "start_time": "2023-01-11T09:35:56.966Z"
   },
   {
    "duration": 42,
    "start_time": "2023-01-11T09:35:57.388Z"
   },
   {
    "duration": 8,
    "start_time": "2023-01-11T09:35:59.427Z"
   },
   {
    "duration": 20164,
    "start_time": "2023-01-11T09:36:14.385Z"
   },
   {
    "duration": 25881,
    "start_time": "2023-01-11T09:36:34.551Z"
   },
   {
    "duration": 159,
    "start_time": "2023-01-11T09:37:00.434Z"
   },
   {
    "duration": 8,
    "start_time": "2023-01-11T09:37:00.595Z"
   },
   {
    "duration": 19587,
    "start_time": "2023-01-11T09:37:00.604Z"
   },
   {
    "duration": 66838,
    "start_time": "2023-01-11T09:37:20.193Z"
   },
   {
    "duration": 35,
    "start_time": "2023-01-11T09:38:27.032Z"
   },
   {
    "duration": 8,
    "start_time": "2023-01-11T09:38:27.068Z"
   },
   {
    "duration": 7,
    "start_time": "2023-01-11T09:38:27.078Z"
   },
   {
    "duration": 24081,
    "start_time": "2023-01-11T09:38:27.088Z"
   },
   {
    "duration": 42675,
    "start_time": "2023-01-11T09:38:51.170Z"
   },
   {
    "duration": 32,
    "start_time": "2023-01-11T09:39:33.847Z"
   },
   {
    "duration": 8,
    "start_time": "2023-01-11T09:45:48.851Z"
   },
   {
    "duration": 7,
    "start_time": "2023-01-11T09:45:48.999Z"
   },
   {
    "duration": 24611,
    "start_time": "2023-01-11T09:45:49.386Z"
   },
   {
    "duration": 42245,
    "start_time": "2023-01-11T09:46:14.000Z"
   },
   {
    "duration": 32,
    "start_time": "2023-01-11T09:46:56.246Z"
   },
   {
    "duration": 42,
    "start_time": "2023-01-11T09:47:40.220Z"
   },
   {
    "duration": 9,
    "start_time": "2023-01-11T09:52:29.850Z"
   },
   {
    "duration": 12361,
    "start_time": "2023-01-11T09:52:30.048Z"
   },
   {
    "duration": 24590,
    "start_time": "2023-01-11T09:52:42.412Z"
   },
   {
    "duration": 47,
    "start_time": "2023-01-11T09:53:07.004Z"
   },
   {
    "duration": 34,
    "start_time": "2023-01-11T10:00:56.759Z"
   },
   {
    "duration": 37,
    "start_time": "2023-01-11T10:00:56.944Z"
   },
   {
    "duration": 1606,
    "start_time": "2023-01-11T10:24:48.084Z"
   },
   {
    "duration": 195,
    "start_time": "2023-01-11T10:24:51.207Z"
   },
   {
    "duration": 18,
    "start_time": "2023-01-11T10:24:51.404Z"
   },
   {
    "duration": 12,
    "start_time": "2023-01-11T10:24:51.423Z"
   },
   {
    "duration": 5,
    "start_time": "2023-01-11T10:24:51.437Z"
   },
   {
    "duration": 15,
    "start_time": "2023-01-11T10:24:51.443Z"
   },
   {
    "duration": 37,
    "start_time": "2023-01-11T10:24:51.459Z"
   },
   {
    "duration": 30,
    "start_time": "2023-01-11T10:24:51.498Z"
   },
   {
    "duration": 10,
    "start_time": "2023-01-11T10:24:51.530Z"
   },
   {
    "duration": 12,
    "start_time": "2023-01-11T10:24:51.542Z"
   },
   {
    "duration": 16,
    "start_time": "2023-01-11T10:24:51.558Z"
   },
   {
    "duration": 9,
    "start_time": "2023-01-11T10:24:51.576Z"
   },
   {
    "duration": 19,
    "start_time": "2023-01-11T10:24:51.587Z"
   },
   {
    "duration": 51,
    "start_time": "2023-01-11T10:24:51.608Z"
   },
   {
    "duration": 12,
    "start_time": "2023-01-11T10:24:51.660Z"
   },
   {
    "duration": 19131,
    "start_time": "2023-01-11T10:24:51.674Z"
   },
   {
    "duration": 22168,
    "start_time": "2023-01-11T10:25:10.807Z"
   },
   {
    "duration": 140,
    "start_time": "2023-01-11T10:25:32.978Z"
   },
   {
    "duration": 6,
    "start_time": "2023-01-11T10:25:33.120Z"
   },
   {
    "duration": 16669,
    "start_time": "2023-01-11T10:25:33.127Z"
   },
   {
    "duration": 57551,
    "start_time": "2023-01-11T10:25:49.798Z"
   },
   {
    "duration": 41,
    "start_time": "2023-01-11T10:26:47.352Z"
   },
   {
    "duration": 8,
    "start_time": "2023-01-11T10:26:47.394Z"
   },
   {
    "duration": 7,
    "start_time": "2023-01-11T10:26:47.404Z"
   },
   {
    "duration": 21178,
    "start_time": "2023-01-11T10:26:47.412Z"
   },
   {
    "duration": 37690,
    "start_time": "2023-01-11T10:27:08.591Z"
   },
   {
    "duration": 31,
    "start_time": "2023-01-11T10:27:46.282Z"
   },
   {
    "duration": 8,
    "start_time": "2023-01-11T10:27:46.315Z"
   },
   {
    "duration": 9734,
    "start_time": "2023-01-11T10:27:46.326Z"
   },
   {
    "duration": 19757,
    "start_time": "2023-01-11T10:27:56.062Z"
   },
   {
    "duration": 56,
    "start_time": "2023-01-11T10:28:15.821Z"
   },
   {
    "duration": 34,
    "start_time": "2023-01-11T10:28:15.879Z"
   },
   {
    "duration": 53,
    "start_time": "2023-01-11T10:28:15.915Z"
   },
   {
    "duration": 3,
    "start_time": "2023-01-11T10:31:37.018Z"
   },
   {
    "duration": 33,
    "start_time": "2023-01-11T10:31:37.505Z"
   },
   {
    "duration": 76,
    "start_time": "2023-01-11T10:36:18.483Z"
   },
   {
    "duration": 75,
    "start_time": "2023-01-11T10:41:56.604Z"
   },
   {
    "duration": 1766,
    "start_time": "2023-01-14T11:50:08.663Z"
   },
   {
    "duration": 474,
    "start_time": "2023-01-14T11:50:12.906Z"
   },
   {
    "duration": 27,
    "start_time": "2023-01-14T11:50:13.385Z"
   },
   {
    "duration": 13,
    "start_time": "2023-01-14T11:50:14.615Z"
   },
   {
    "duration": 4,
    "start_time": "2023-01-14T12:00:26.913Z"
   },
   {
    "duration": 50,
    "start_time": "2023-01-14T12:00:27.529Z"
   },
   {
    "duration": 20,
    "start_time": "2023-01-14T12:00:27.713Z"
   },
   {
    "duration": 13,
    "start_time": "2023-01-14T12:00:28.113Z"
   },
   {
    "duration": 4,
    "start_time": "2023-01-14T12:00:28.263Z"
   },
   {
    "duration": 4,
    "start_time": "2023-01-14T12:00:29.017Z"
   },
   {
    "duration": 5,
    "start_time": "2023-01-14T12:00:29.826Z"
   },
   {
    "duration": 30,
    "start_time": "2023-01-14T12:00:32.769Z"
   },
   {
    "duration": 8,
    "start_time": "2023-01-14T12:00:33.131Z"
   },
   {
    "duration": 15,
    "start_time": "2023-01-14T12:00:34.308Z"
   },
   {
    "duration": 4,
    "start_time": "2023-01-14T12:00:34.559Z"
   },
   {
    "duration": 7,
    "start_time": "2023-01-14T12:00:34.777Z"
   },
   {
    "duration": 132,
    "start_time": "2023-01-14T12:00:36.619Z"
   },
   {
    "duration": 13,
    "start_time": "2023-01-14T12:13:55.154Z"
   },
   {
    "duration": 26,
    "start_time": "2023-01-14T12:14:09.100Z"
   },
   {
    "duration": 18,
    "start_time": "2023-01-14T12:14:16.508Z"
   },
   {
    "duration": 21,
    "start_time": "2023-01-14T12:23:20.739Z"
   },
   {
    "duration": 18,
    "start_time": "2023-01-14T12:29:48.412Z"
   },
   {
    "duration": 91,
    "start_time": "2023-01-14T12:32:09.977Z"
   },
   {
    "duration": 98,
    "start_time": "2023-01-14T12:32:15.956Z"
   },
   {
    "duration": 15,
    "start_time": "2023-01-14T12:32:23.034Z"
   },
   {
    "duration": 22,
    "start_time": "2023-01-14T12:32:34.068Z"
   },
   {
    "duration": 6,
    "start_time": "2023-01-14T13:32:30.826Z"
   },
   {
    "duration": 47,
    "start_time": "2023-01-14T13:32:31.514Z"
   },
   {
    "duration": 20,
    "start_time": "2023-01-14T13:32:31.750Z"
   },
   {
    "duration": 31,
    "start_time": "2023-01-14T13:32:32.191Z"
   },
   {
    "duration": 9,
    "start_time": "2023-01-14T13:32:32.505Z"
   },
   {
    "duration": 11,
    "start_time": "2023-01-14T13:32:34.400Z"
   },
   {
    "duration": 9,
    "start_time": "2023-01-14T13:32:38.615Z"
   },
   {
    "duration": 9,
    "start_time": "2023-01-14T13:32:43.651Z"
   },
   {
    "duration": 18,
    "start_time": "2023-01-14T13:32:43.890Z"
   },
   {
    "duration": 4,
    "start_time": "2023-01-14T13:32:45.051Z"
   },
   {
    "duration": 4,
    "start_time": "2023-01-14T13:32:45.331Z"
   },
   {
    "duration": 4,
    "start_time": "2023-01-14T13:32:45.633Z"
   },
   {
    "duration": 10,
    "start_time": "2023-01-14T13:32:47.463Z"
   },
   {
    "duration": 14,
    "start_time": "2023-01-14T13:32:55.201Z"
   },
   {
    "duration": 19,
    "start_time": "2023-01-14T13:37:48.278Z"
   },
   {
    "duration": 33,
    "start_time": "2023-01-14T13:37:58.153Z"
   },
   {
    "duration": 16,
    "start_time": "2023-01-14T13:38:32.421Z"
   },
   {
    "duration": 39,
    "start_time": "2023-01-14T13:38:34.408Z"
   },
   {
    "duration": 22,
    "start_time": "2023-01-14T13:38:34.768Z"
   },
   {
    "duration": 11,
    "start_time": "2023-01-14T13:38:35.151Z"
   },
   {
    "duration": 6,
    "start_time": "2023-01-14T13:38:35.323Z"
   },
   {
    "duration": 4,
    "start_time": "2023-01-14T13:38:35.855Z"
   },
   {
    "duration": 11,
    "start_time": "2023-01-14T13:38:36.392Z"
   },
   {
    "duration": 11,
    "start_time": "2023-01-14T13:38:38.373Z"
   },
   {
    "duration": 11,
    "start_time": "2023-01-14T13:38:38.597Z"
   },
   {
    "duration": 3,
    "start_time": "2023-01-14T13:38:39.548Z"
   },
   {
    "duration": 4,
    "start_time": "2023-01-14T13:38:39.718Z"
   },
   {
    "duration": 4,
    "start_time": "2023-01-14T13:38:40.253Z"
   },
   {
    "duration": 10,
    "start_time": "2023-01-14T13:39:18.643Z"
   },
   {
    "duration": 44,
    "start_time": "2023-01-14T13:39:28.163Z"
   },
   {
    "duration": 34,
    "start_time": "2023-01-14T13:40:13.768Z"
   },
   {
    "duration": 12,
    "start_time": "2023-01-14T13:41:03.797Z"
   },
   {
    "duration": 7,
    "start_time": "2023-01-14T13:41:19.517Z"
   },
   {
    "duration": 6,
    "start_time": "2023-01-14T13:41:19.728Z"
   },
   {
    "duration": 7,
    "start_time": "2023-01-14T13:41:20.202Z"
   },
   {
    "duration": 4,
    "start_time": "2023-01-14T13:41:20.357Z"
   },
   {
    "duration": 5,
    "start_time": "2023-01-14T13:41:20.847Z"
   },
   {
    "duration": 47,
    "start_time": "2023-01-14T13:42:54.089Z"
   },
   {
    "duration": 1328,
    "start_time": "2023-01-14T13:43:54.108Z"
   },
   {
    "duration": 1331,
    "start_time": "2023-01-14T13:44:17.138Z"
   },
   {
    "duration": 8,
    "start_time": "2023-01-14T13:44:27.267Z"
   },
   {
    "duration": 11,
    "start_time": "2023-01-14T13:44:27.303Z"
   },
   {
    "duration": 4,
    "start_time": "2023-01-14T13:44:27.453Z"
   },
   {
    "duration": 4,
    "start_time": "2023-01-14T13:44:27.507Z"
   },
   {
    "duration": 3,
    "start_time": "2023-01-14T13:44:27.702Z"
   },
   {
    "duration": 18,
    "start_time": "2023-01-14T13:44:31.338Z"
   },
   {
    "duration": 13,
    "start_time": "2023-01-14T13:45:10.152Z"
   },
   {
    "duration": 6,
    "start_time": "2023-01-14T13:45:10.349Z"
   },
   {
    "duration": 4,
    "start_time": "2023-01-14T13:45:10.752Z"
   },
   {
    "duration": 4,
    "start_time": "2023-01-14T13:45:10.946Z"
   },
   {
    "duration": 3,
    "start_time": "2023-01-14T13:45:11.157Z"
   },
   {
    "duration": 52,
    "start_time": "2023-01-14T13:45:12.547Z"
   },
   {
    "duration": 7,
    "start_time": "2023-01-14T13:45:26.443Z"
   },
   {
    "duration": 7,
    "start_time": "2023-01-14T13:45:27.052Z"
   },
   {
    "duration": 4,
    "start_time": "2023-01-14T13:45:27.104Z"
   },
   {
    "duration": 6,
    "start_time": "2023-01-14T13:45:27.110Z"
   },
   {
    "duration": 4,
    "start_time": "2023-01-14T13:45:27.247Z"
   },
   {
    "duration": 34,
    "start_time": "2023-01-14T13:45:27.636Z"
   },
   {
    "duration": 25,
    "start_time": "2023-01-14T13:45:44.801Z"
   },
   {
    "duration": 7,
    "start_time": "2023-01-14T13:48:00.839Z"
   },
   {
    "duration": 17920,
    "start_time": "2023-01-14T13:49:18.853Z"
   },
   {
    "duration": 22673,
    "start_time": "2023-01-14T13:49:36.774Z"
   },
   {
    "duration": 167,
    "start_time": "2023-01-14T13:49:59.448Z"
   },
   {
    "duration": 6,
    "start_time": "2023-01-14T13:49:59.617Z"
   },
   {
    "duration": 4,
    "start_time": "2023-01-14T13:53:55.056Z"
   },
   {
    "duration": 683,
    "start_time": "2023-01-14T13:59:10.001Z"
   },
   {
    "duration": 21829,
    "start_time": "2023-01-14T13:59:25.758Z"
   },
   {
    "duration": 11,
    "start_time": "2023-01-14T14:02:08.940Z"
   },
   {
    "duration": 715,
    "start_time": "2023-01-14T14:02:32.490Z"
   },
   {
    "duration": 400,
    "start_time": "2023-01-14T14:04:34.782Z"
   },
   {
    "duration": 746,
    "start_time": "2023-01-14T14:05:40.211Z"
   },
   {
    "duration": 10,
    "start_time": "2023-01-14T14:09:17.496Z"
   },
   {
    "duration": 8,
    "start_time": "2023-01-14T14:09:28.406Z"
   },
   {
    "duration": 13,
    "start_time": "2023-01-14T14:09:28.446Z"
   },
   {
    "duration": 4,
    "start_time": "2023-01-15T13:08:01.512Z"
   },
   {
    "duration": 58,
    "start_time": "2023-01-15T13:08:01.518Z"
   },
   {
    "duration": 17,
    "start_time": "2023-01-15T13:08:01.578Z"
   },
   {
    "duration": 19,
    "start_time": "2023-01-15T13:08:01.596Z"
   },
   {
    "duration": 11,
    "start_time": "2023-01-15T13:08:01.616Z"
   },
   {
    "duration": 8,
    "start_time": "2023-01-15T13:08:21.396Z"
   },
   {
    "duration": 5,
    "start_time": "2023-01-15T13:08:23.741Z"
   },
   {
    "duration": 8,
    "start_time": "2023-01-15T13:08:55.257Z"
   },
   {
    "duration": 6,
    "start_time": "2023-01-15T13:08:55.457Z"
   },
   {
    "duration": 3,
    "start_time": "2023-01-15T13:08:56.632Z"
   },
   {
    "duration": 6,
    "start_time": "2023-01-15T13:08:56.810Z"
   },
   {
    "duration": 4,
    "start_time": "2023-01-15T13:08:57.066Z"
   },
   {
    "duration": 36,
    "start_time": "2023-01-15T13:09:00.521Z"
   },
   {
    "duration": 29,
    "start_time": "2023-01-15T13:09:01.462Z"
   },
   {
    "duration": 4,
    "start_time": "2023-01-15T13:09:02.906Z"
   },
   {
    "duration": 6,
    "start_time": "2023-01-15T13:09:05.399Z"
   },
   {
    "duration": 15921,
    "start_time": "2023-01-15T13:09:09.556Z"
   },
   {
    "duration": 20629,
    "start_time": "2023-01-15T13:09:46.063Z"
   },
   {
    "duration": 159,
    "start_time": "2023-01-15T13:10:06.694Z"
   },
   {
    "duration": 5,
    "start_time": "2023-01-15T13:10:06.855Z"
   },
   {
    "duration": 224,
    "start_time": "2023-01-15T13:10:06.862Z"
   },
   {
    "duration": 742,
    "start_time": "2023-01-15T13:10:07.178Z"
   },
   {
    "duration": 8,
    "start_time": "2023-01-15T13:10:07.921Z"
   },
   {
    "duration": 16164,
    "start_time": "2023-01-15T13:10:07.931Z"
   },
   {
    "duration": 49450,
    "start_time": "2023-01-15T13:11:25.731Z"
   },
   {
    "duration": 55,
    "start_time": "2023-01-15T13:12:15.183Z"
   },
   {
    "duration": 245,
    "start_time": "2023-01-15T13:12:15.240Z"
   },
   {
    "duration": 889,
    "start_time": "2023-01-15T13:12:15.487Z"
   },
   {
    "duration": 8,
    "start_time": "2023-01-15T13:12:16.378Z"
   },
   {
    "duration": 33,
    "start_time": "2023-01-15T13:12:16.388Z"
   },
   {
    "duration": 0,
    "start_time": "2023-01-15T13:12:16.423Z"
   },
   {
    "duration": 0,
    "start_time": "2023-01-15T13:12:16.424Z"
   },
   {
    "duration": 26,
    "start_time": "2023-01-15T13:14:38.577Z"
   },
   {
    "duration": 5,
    "start_time": "2023-01-15T13:14:53.817Z"
   },
   {
    "duration": 23,
    "start_time": "2023-01-15T13:15:01.997Z"
   },
   {
    "duration": 5,
    "start_time": "2023-01-15T13:16:01.122Z"
   },
   {
    "duration": 51,
    "start_time": "2023-01-15T13:16:01.636Z"
   },
   {
    "duration": 23,
    "start_time": "2023-01-15T13:16:01.797Z"
   },
   {
    "duration": 12,
    "start_time": "2023-01-15T13:16:02.157Z"
   },
   {
    "duration": 5,
    "start_time": "2023-01-15T13:16:02.307Z"
   },
   {
    "duration": 10,
    "start_time": "2023-01-15T13:16:03.587Z"
   },
   {
    "duration": 6,
    "start_time": "2023-01-15T13:16:03.960Z"
   },
   {
    "duration": 10,
    "start_time": "2023-01-15T13:16:11.041Z"
   },
   {
    "duration": 9,
    "start_time": "2023-01-15T13:16:11.477Z"
   },
   {
    "duration": 5,
    "start_time": "2023-01-15T13:16:13.316Z"
   },
   {
    "duration": 5,
    "start_time": "2023-01-15T13:16:13.576Z"
   },
   {
    "duration": 4,
    "start_time": "2023-01-15T13:16:14.521Z"
   },
   {
    "duration": 65,
    "start_time": "2023-01-15T13:16:17.302Z"
   },
   {
    "duration": 39,
    "start_time": "2023-01-15T13:16:18.699Z"
   },
   {
    "duration": 7,
    "start_time": "2023-01-15T13:16:23.461Z"
   },
   {
    "duration": 16198,
    "start_time": "2023-01-15T13:16:24.526Z"
   },
   {
    "duration": 20913,
    "start_time": "2023-01-15T13:16:40.726Z"
   },
   {
    "duration": 186,
    "start_time": "2023-01-15T13:17:01.641Z"
   },
   {
    "duration": 7,
    "start_time": "2023-01-15T13:17:01.829Z"
   },
   {
    "duration": 358,
    "start_time": "2023-01-15T13:17:01.837Z"
   },
   {
    "duration": 864,
    "start_time": "2023-01-15T13:17:02.198Z"
   },
   {
    "duration": 14,
    "start_time": "2023-01-15T13:17:03.064Z"
   },
   {
    "duration": 16198,
    "start_time": "2023-01-15T13:17:03.080Z"
   },
   {
    "duration": 49995,
    "start_time": "2023-01-15T13:17:19.280Z"
   },
   {
    "duration": 54,
    "start_time": "2023-01-15T13:18:09.277Z"
   },
   {
    "duration": 554,
    "start_time": "2023-01-15T13:18:09.333Z"
   },
   {
    "duration": 868,
    "start_time": "2023-01-15T13:18:09.889Z"
   },
   {
    "duration": 8,
    "start_time": "2023-01-15T13:18:10.759Z"
   },
   {
    "duration": 14,
    "start_time": "2023-01-15T13:18:10.778Z"
   },
   {
    "duration": 4,
    "start_time": "2023-01-15T13:28:11.442Z"
   },
   {
    "duration": 42,
    "start_time": "2023-01-15T13:28:12.062Z"
   },
   {
    "duration": 15,
    "start_time": "2023-01-15T13:28:12.237Z"
   },
   {
    "duration": 13,
    "start_time": "2023-01-15T13:28:12.856Z"
   },
   {
    "duration": 5,
    "start_time": "2023-01-15T13:28:13.197Z"
   },
   {
    "duration": 11,
    "start_time": "2023-01-15T13:28:31.593Z"
   },
   {
    "duration": 5,
    "start_time": "2023-01-15T13:28:33.314Z"
   },
   {
    "duration": 8,
    "start_time": "2023-01-15T13:28:35.357Z"
   },
   {
    "duration": 7,
    "start_time": "2023-01-15T13:28:35.717Z"
   },
   {
    "duration": 4,
    "start_time": "2023-01-15T13:28:36.557Z"
   },
   {
    "duration": 4,
    "start_time": "2023-01-15T13:28:36.757Z"
   },
   {
    "duration": 4,
    "start_time": "2023-01-15T13:28:36.992Z"
   },
   {
    "duration": 36,
    "start_time": "2023-01-15T13:28:37.782Z"
   },
   {
    "duration": 28,
    "start_time": "2023-01-15T13:28:38.713Z"
   },
   {
    "duration": 9,
    "start_time": "2023-01-15T13:28:53.977Z"
   },
   {
    "duration": 16,
    "start_time": "2023-01-15T13:28:56.637Z"
   },
   {
    "duration": 4,
    "start_time": "2023-01-15T13:29:04.097Z"
   },
   {
    "duration": 6,
    "start_time": "2023-01-15T13:29:08.622Z"
   },
   {
    "duration": 16190,
    "start_time": "2023-01-15T13:29:10.767Z"
   },
   {
    "duration": 20528,
    "start_time": "2023-01-15T13:29:26.959Z"
   },
   {
    "duration": 160,
    "start_time": "2023-01-15T13:29:47.489Z"
   },
   {
    "duration": 6,
    "start_time": "2023-01-15T13:29:47.651Z"
   },
   {
    "duration": 227,
    "start_time": "2023-01-15T13:29:47.659Z"
   },
   {
    "duration": 889,
    "start_time": "2023-01-15T13:29:47.888Z"
   },
   {
    "duration": 8,
    "start_time": "2023-01-15T13:29:48.779Z"
   },
   {
    "duration": 16059,
    "start_time": "2023-01-15T13:29:48.788Z"
   },
   {
    "duration": 51392,
    "start_time": "2023-01-15T13:30:04.848Z"
   },
   {
    "duration": 80,
    "start_time": "2023-01-15T13:30:56.244Z"
   },
   {
    "duration": 356,
    "start_time": "2023-01-15T13:30:56.326Z"
   },
   {
    "duration": 778,
    "start_time": "2023-01-15T13:30:56.685Z"
   },
   {
    "duration": 14,
    "start_time": "2023-01-15T13:30:57.464Z"
   },
   {
    "duration": 8,
    "start_time": "2023-01-15T13:30:57.479Z"
   },
   {
    "duration": 12,
    "start_time": "2023-01-15T13:30:57.488Z"
   },
   {
    "duration": 21530,
    "start_time": "2023-01-15T13:31:11.767Z"
   },
   {
    "duration": 43,
    "start_time": "2023-01-15T13:32:35.650Z"
   },
   {
    "duration": 183,
    "start_time": "2023-01-15T13:32:35.696Z"
   },
   {
    "duration": 1057,
    "start_time": "2023-01-15T13:32:35.882Z"
   },
   {
    "duration": 6,
    "start_time": "2023-01-15T13:32:36.941Z"
   },
   {
    "duration": 64283,
    "start_time": "2023-01-15T13:32:36.949Z"
   },
   {
    "duration": 7,
    "start_time": "2023-01-15T13:33:53.867Z"
   },
   {
    "duration": 20636,
    "start_time": "2023-01-15T13:33:57.689Z"
   },
   {
    "duration": 59912,
    "start_time": "2023-01-15T13:34:44.589Z"
   },
   {
    "duration": 51,
    "start_time": "2023-01-15T13:35:44.503Z"
   },
   {
    "duration": 8,
    "start_time": "2023-01-15T13:37:26.967Z"
   },
   {
    "duration": 10022,
    "start_time": "2023-01-15T13:37:43.690Z"
   },
   {
    "duration": 19611,
    "start_time": "2023-01-15T13:37:53.714Z"
   },
   {
    "duration": 41,
    "start_time": "2023-01-15T13:38:13.326Z"
   },
   {
    "duration": 186,
    "start_time": "2023-01-15T13:39:06.002Z"
   },
   {
    "duration": 899,
    "start_time": "2023-01-15T13:39:11.422Z"
   },
   {
    "duration": 5,
    "start_time": "2023-01-15T13:40:15.421Z"
   },
   {
    "duration": 3,
    "start_time": "2023-01-15T13:40:20.396Z"
   },
   {
    "duration": 6,
    "start_time": "2023-01-15T13:40:34.223Z"
   },
   {
    "duration": 23296,
    "start_time": "2023-01-15T13:40:36.422Z"
   },
   {
    "duration": 67450,
    "start_time": "2023-01-15T13:40:59.720Z"
   },
   {
    "duration": 34,
    "start_time": "2023-01-15T13:42:07.177Z"
   },
   {
    "duration": 281,
    "start_time": "2023-01-15T13:42:07.212Z"
   },
   {
    "duration": 1227,
    "start_time": "2023-01-15T13:42:07.499Z"
   },
   {
    "duration": 9,
    "start_time": "2023-01-15T13:42:08.728Z"
   },
   {
    "duration": 10289,
    "start_time": "2023-01-15T13:42:08.739Z"
   },
   {
    "duration": 19820,
    "start_time": "2023-01-15T13:42:19.030Z"
   },
   {
    "duration": 53,
    "start_time": "2023-01-15T13:42:38.852Z"
   },
   {
    "duration": 179,
    "start_time": "2023-01-15T13:42:38.907Z"
   },
   {
    "duration": 535,
    "start_time": "2023-01-15T13:42:39.090Z"
   },
   {
    "duration": 951,
    "start_time": "2023-01-15T13:42:39.627Z"
   },
   {
    "duration": 10,
    "start_time": "2023-01-15T13:42:40.580Z"
   },
   {
    "duration": 359,
    "start_time": "2023-01-15T13:42:54.201Z"
   },
   {
    "duration": 7,
    "start_time": "2023-01-15T13:42:54.563Z"
   },
   {
    "duration": 55,
    "start_time": "2023-01-15T13:44:44.919Z"
   },
   {
    "duration": 31,
    "start_time": "2023-01-15T13:44:46.345Z"
   },
   {
    "duration": 9,
    "start_time": "2023-01-15T13:50:14.103Z"
   },
   {
    "duration": 10648,
    "start_time": "2023-01-15T13:50:15.014Z"
   },
   {
    "duration": 70169,
    "start_time": "2023-01-15T13:50:25.953Z"
   },
   {
    "duration": 27901,
    "start_time": "2023-01-15T13:51:36.124Z"
   },
   {
    "duration": 1648,
    "start_time": "2023-03-10T13:04:29.197Z"
   },
   {
    "duration": 81,
    "start_time": "2023-03-10T13:04:31.500Z"
   },
   {
    "duration": 198,
    "start_time": "2023-03-10T13:05:23.170Z"
   }
  ],
  "kernelspec": {
   "display_name": "Python 3 (ipykernel)",
   "language": "python",
   "name": "python3"
  },
  "language_info": {
   "codemirror_mode": {
    "name": "ipython",
    "version": 3
   },
   "file_extension": ".py",
   "mimetype": "text/x-python",
   "name": "python",
   "nbconvert_exporter": "python",
   "pygments_lexer": "ipython3",
   "version": "3.9.16"
  },
  "toc": {
   "base_numbering": 1,
   "nav_menu": {
    "height": "384px",
    "width": "310px"
   },
   "number_sections": true,
   "sideBar": true,
   "skip_h1_title": true,
   "title_cell": "Содержание",
   "title_sidebar": "Contents",
   "toc_cell": true,
   "toc_position": {
    "height": "calc(100% - 180px)",
    "left": "10px",
    "top": "150px",
    "width": "345.225px"
   },
   "toc_section_display": true,
   "toc_window_display": true
  }
 },
 "nbformat": 4,
 "nbformat_minor": 2
}
