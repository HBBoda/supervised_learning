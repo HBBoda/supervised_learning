{
 "cells": [
  {
   "cell_type": "markdown",
   "metadata": {
    "toc": true
   },
   "source": [
    "<h1>Содержание<span class=\"tocSkip\"></span></h1>\n",
    "<div class=\"toc\"><ul class=\"toc-item\"><li><span><a href=\"#Подготовка-данных\" data-toc-modified-id=\"Подготовка-данных-1\"><span class=\"toc-item-num\">1&nbsp;&nbsp;</span>Подготовка данных</a></span></li><li><span><a href=\"#Исследование-задачи\" data-toc-modified-id=\"Исследование-задачи-2\"><span class=\"toc-item-num\">2&nbsp;&nbsp;</span>Исследование задачи</a></span><ul class=\"toc-item\"><li><span><a href=\"#Случайный-лес\" data-toc-modified-id=\"Случайный-лес-2.1\"><span class=\"toc-item-num\">2.1&nbsp;&nbsp;</span>Случайный лес</a></span></li><li><span><a href=\"#Логистическая-регрессия\" data-toc-modified-id=\"Логистическая-регрессия-2.2\"><span class=\"toc-item-num\">2.2&nbsp;&nbsp;</span>Логистическая регрессия</a></span></li><li><span><a href=\"#Дерево-решений\" data-toc-modified-id=\"Дерево-решений-2.3\"><span class=\"toc-item-num\">2.3&nbsp;&nbsp;</span>Дерево решений</a></span></li></ul></li><li><span><a href=\"#Борьба-с-дисбалансом\" data-toc-modified-id=\"Борьба-с-дисбалансом-3\"><span class=\"toc-item-num\">3&nbsp;&nbsp;</span>Борьба с дисбалансом</a></span><ul class=\"toc-item\"><li><span><a href=\"#Взвешивание-классов\" data-toc-modified-id=\"Взвешивание-классов-3.1\"><span class=\"toc-item-num\">3.1&nbsp;&nbsp;</span>Взвешивание классов</a></span><ul class=\"toc-item\"><li><span><a href=\"#Случайный-лес\" data-toc-modified-id=\"Случайный-лес-3.1.1\"><span class=\"toc-item-num\">3.1.1&nbsp;&nbsp;</span>Случайный лес</a></span></li><li><span><a href=\"#Логистическая-регрессия\" data-toc-modified-id=\"Логистическая-регрессия-3.1.2\"><span class=\"toc-item-num\">3.1.2&nbsp;&nbsp;</span>Логистическая регрессия</a></span></li><li><span><a href=\"#Дерево-решений\" data-toc-modified-id=\"Дерево-решений-3.1.3\"><span class=\"toc-item-num\">3.1.3&nbsp;&nbsp;</span>Дерево решений</a></span></li></ul></li><li><span><a href=\"#Upsampling\" data-toc-modified-id=\"Upsampling-3.2\"><span class=\"toc-item-num\">3.2&nbsp;&nbsp;</span>Upsampling</a></span><ul class=\"toc-item\"><li><span><a href=\"#Случайный-лес\" data-toc-modified-id=\"Случайный-лес-3.2.1\"><span class=\"toc-item-num\">3.2.1&nbsp;&nbsp;</span>Случайный лес</a></span></li><li><span><a href=\"#Логистическая-регрессия\" data-toc-modified-id=\"Логистическая-регрессия-3.2.2\"><span class=\"toc-item-num\">3.2.2&nbsp;&nbsp;</span>Логистическая регрессия</a></span></li><li><span><a href=\"#Дерево-решений\" data-toc-modified-id=\"Дерево-решений-3.2.3\"><span class=\"toc-item-num\">3.2.3&nbsp;&nbsp;</span>Дерево решений</a></span></li></ul></li><li><span><a href=\"#Downsampling\" data-toc-modified-id=\"Downsampling-3.3\"><span class=\"toc-item-num\">3.3&nbsp;&nbsp;</span>Downsampling</a></span><ul class=\"toc-item\"><li><span><a href=\"#Случайный-лес\" data-toc-modified-id=\"Случайный-лес-3.3.1\"><span class=\"toc-item-num\">3.3.1&nbsp;&nbsp;</span>Случайный лес</a></span></li><li><span><a href=\"#Логистическая-регрессия\" data-toc-modified-id=\"Логистическая-регрессия-3.3.2\"><span class=\"toc-item-num\">3.3.2&nbsp;&nbsp;</span>Логистическая регрессия</a></span></li><li><span><a href=\"#Дерево-решения\" data-toc-modified-id=\"Дерево-решения-3.3.3\"><span class=\"toc-item-num\">3.3.3&nbsp;&nbsp;</span>Дерево решения</a></span></li></ul></li></ul></li><li><span><a href=\"#Тестирование-модели\" data-toc-modified-id=\"Тестирование-модели-4\"><span class=\"toc-item-num\">4&nbsp;&nbsp;</span>Тестирование модели</a></span></li><li><span><a href=\"#Вывод\" data-toc-modified-id=\"Вывод-5\"><span class=\"toc-item-num\">5&nbsp;&nbsp;</span>Вывод</a></span></li><li><span><a href=\"#Чек-лист-готовности-проекта\" data-toc-modified-id=\"Чек-лист-готовности-проекта-6\"><span class=\"toc-item-num\">6&nbsp;&nbsp;</span>Чек-лист готовности проекта</a></span></li></ul></div>"
   ]
  },
  {
   "cell_type": "markdown",
   "metadata": {},
   "source": [
    "# Отток клиентов"
   ]
  },
  {
   "cell_type": "markdown",
   "metadata": {},
   "source": [
    "Из «Бета-Банка» стали уходить клиенты. Каждый месяц. Немного, но заметно. Банковские маркетологи посчитали: сохранять текущих клиентов дешевле, чем привлекать новых.\n",
    "\n",
    "Нужно спрогнозировать, уйдёт клиент из банка в ближайшее время или нет. Вам предоставлены исторические данные о поведении клиентов и расторжении договоров с банком. \n",
    "\n",
    "Постройте модель с предельно большим значением *F1*-меры. Чтобы сдать проект успешно, нужно довести метрику до 0.59. Проверьте *F1*-меру на тестовой выборке самостоятельно.\n",
    "\n",
    "Дополнительно измеряйте *AUC-ROC*, сравнивайте её значение с *F1*-мерой.\n",
    "\n",
    "Источник данных: [https://www.kaggle.com/barelydedicated/bank-customer-churn-modeling](https://www.kaggle.com/barelydedicated/bank-customer-churn-modeling)"
   ]
  },
  {
   "cell_type": "markdown",
   "metadata": {},
   "source": [
    "## Подготовка данных"
   ]
  },
  {
   "cell_type": "markdown",
   "metadata": {},
   "source": [
    "Импортируем все необходимые библиотеки для работы."
   ]
  },
  {
   "cell_type": "code",
   "execution_count": 1,
   "metadata": {},
   "outputs": [
    {
     "name": "stdout",
     "output_type": "stream",
     "text": [
      "Requirement already satisfied: category_encoders in c:\\users\\banan\\anaconda3\\envs\\ds_practicum_env\\lib\\site-packages (2.6.0)\n",
      "Requirement already satisfied: scipy>=1.0.0 in c:\\users\\banan\\anaconda3\\envs\\ds_practicum_env\\lib\\site-packages (from category_encoders) (1.8.0)\n",
      "Requirement already satisfied: pandas>=1.0.5 in c:\\users\\banan\\anaconda3\\envs\\ds_practicum_env\\lib\\site-packages (from category_encoders) (1.2.4)\n",
      "Requirement already satisfied: numpy>=1.14.0 in c:\\users\\banan\\anaconda3\\envs\\ds_practicum_env\\lib\\site-packages (from category_encoders) (1.20.1)\n",
      "Requirement already satisfied: patsy>=0.5.1 in c:\\users\\banan\\anaconda3\\envs\\ds_practicum_env\\lib\\site-packages (from category_encoders) (0.5.3)\n",
      "Requirement already satisfied: statsmodels>=0.9.0 in c:\\users\\banan\\anaconda3\\envs\\ds_practicum_env\\lib\\site-packages (from category_encoders) (0.13.2)\n",
      "Requirement already satisfied: scikit-learn>=0.20.0 in c:\\users\\banan\\anaconda3\\envs\\ds_practicum_env\\lib\\site-packages (from category_encoders) (0.24.1)\n",
      "Requirement already satisfied: pytz>=2017.3 in c:\\users\\banan\\anaconda3\\envs\\ds_practicum_env\\lib\\site-packages (from pandas>=1.0.5->category_encoders) (2022.7.1)\n",
      "Requirement already satisfied: python-dateutil>=2.7.3 in c:\\users\\banan\\anaconda3\\envs\\ds_practicum_env\\lib\\site-packages (from pandas>=1.0.5->category_encoders) (2.8.2)\n",
      "Requirement already satisfied: six in c:\\users\\banan\\anaconda3\\envs\\ds_practicum_env\\lib\\site-packages (from patsy>=0.5.1->category_encoders) (1.16.0)\n",
      "Requirement already satisfied: threadpoolctl>=2.0.0 in c:\\users\\banan\\anaconda3\\envs\\ds_practicum_env\\lib\\site-packages (from scikit-learn>=0.20.0->category_encoders) (3.1.0)\n",
      "Requirement already satisfied: joblib>=0.11 in c:\\users\\banan\\anaconda3\\envs\\ds_practicum_env\\lib\\site-packages (from scikit-learn>=0.20.0->category_encoders) (1.2.0)\n",
      "Requirement already satisfied: packaging>=21.3 in c:\\users\\banan\\anaconda3\\envs\\ds_practicum_env\\lib\\site-packages (from statsmodels>=0.9.0->category_encoders) (23.0)\n",
      "Note: you may need to restart the kernel to use updated packages.\n"
     ]
    }
   ],
   "source": [
    "pip install category_encoders"
   ]
  },
  {
   "cell_type": "code",
   "execution_count": 2,
   "metadata": {},
   "outputs": [
    {
     "name": "stdout",
     "output_type": "stream",
     "text": [
      "Requirement already satisfied: optuna in c:\\users\\banan\\anaconda3\\envs\\ds_practicum_env\\lib\\site-packages (3.1.0)\n",
      "Requirement already satisfied: sqlalchemy>=1.3.0 in c:\\users\\banan\\anaconda3\\envs\\ds_practicum_env\\lib\\site-packages (from optuna) (1.4.15)\n",
      "Requirement already satisfied: alembic>=1.5.0 in c:\\users\\banan\\anaconda3\\envs\\ds_practicum_env\\lib\\site-packages (from optuna) (1.10.2)\n",
      "Requirement already satisfied: numpy in c:\\users\\banan\\anaconda3\\envs\\ds_practicum_env\\lib\\site-packages (from optuna) (1.20.1)\n",
      "Requirement already satisfied: colorlog in c:\\users\\banan\\anaconda3\\envs\\ds_practicum_env\\lib\\site-packages (from optuna) (6.7.0)\n",
      "Requirement already satisfied: tqdm in c:\\users\\banan\\anaconda3\\envs\\ds_practicum_env\\lib\\site-packages (from optuna) (4.65.0)\n",
      "Requirement already satisfied: packaging>=20.0 in c:\\users\\banan\\anaconda3\\envs\\ds_practicum_env\\lib\\site-packages (from optuna) (23.0)\n",
      "Requirement already satisfied: PyYAML in c:\\users\\banan\\anaconda3\\envs\\ds_practicum_env\\lib\\site-packages (from optuna) (6.0)\n",
      "Requirement already satisfied: cmaes>=0.9.1 in c:\\users\\banan\\anaconda3\\envs\\ds_practicum_env\\lib\\site-packages (from optuna) (0.9.1)\n",
      "Requirement already satisfied: typing-extensions>=4 in c:\\users\\banan\\anaconda3\\envs\\ds_practicum_env\\lib\\site-packages (from alembic>=1.5.0->optuna) (4.4.0)\n",
      "Requirement already satisfied: Mako in c:\\users\\banan\\anaconda3\\envs\\ds_practicum_env\\lib\\site-packages (from alembic>=1.5.0->optuna) (1.2.4)\n",
      "Requirement already satisfied: greenlet!=0.4.17 in c:\\users\\banan\\anaconda3\\envs\\ds_practicum_env\\lib\\site-packages (from sqlalchemy>=1.3.0->optuna) (2.0.2)\n",
      "Requirement already satisfied: colorama in c:\\users\\banan\\anaconda3\\envs\\ds_practicum_env\\lib\\site-packages (from colorlog->optuna) (0.4.6)\n",
      "Requirement already satisfied: MarkupSafe>=0.9.2 in c:\\users\\banan\\anaconda3\\envs\\ds_practicum_env\\lib\\site-packages (from Mako->alembic>=1.5.0->optuna) (2.1.2)\n",
      "Note: you may need to restart the kernel to use updated packages.\n"
     ]
    }
   ],
   "source": [
    "pip install optuna"
   ]
  },
  {
   "cell_type": "code",
   "execution_count": 85,
   "metadata": {},
   "outputs": [],
   "source": [
    "import pandas as pd\n",
    "from sklearn.model_selection import train_test_split\n",
    "from sklearn.tree import DecisionTreeClassifier \n",
    "from sklearn.ensemble import RandomForestClassifier\n",
    "from sklearn.linear_model import LogisticRegression \n",
    "from sklearn.metrics import f1_score\n",
    "from sklearn.preprocessing import StandardScaler\n",
    "import numpy as np\n",
    "import matplotlib.pyplot as plt\n",
    "from sklearn.metrics import roc_curve\n",
    "from sklearn.metrics import roc_auc_score\n",
    "from sklearn.utils import shuffle\n",
    "from sklearn.linear_model import LogisticRegression\n",
    "from sklearn.preprocessing import OneHotEncoder\n",
    "from sklearn.model_selection import GridSearchCV\n",
    "import category_encoders as ce\n",
    "import optuna"
   ]
  },
  {
   "cell_type": "markdown",
   "metadata": {},
   "source": [
    "Откроем файл с данными, сохраним в переменную `df` и выведем первые десять строк."
   ]
  },
  {
   "cell_type": "code",
   "execution_count": 86,
   "metadata": {},
   "outputs": [],
   "source": [
    "df = pd.read_csv('churn.csv')"
   ]
  },
  {
   "cell_type": "code",
   "execution_count": 87,
   "metadata": {
    "scrolled": true
   },
   "outputs": [
    {
     "data": {
      "text/html": [
       "<div>\n",
       "<style scoped>\n",
       "    .dataframe tbody tr th:only-of-type {\n",
       "        vertical-align: middle;\n",
       "    }\n",
       "\n",
       "    .dataframe tbody tr th {\n",
       "        vertical-align: top;\n",
       "    }\n",
       "\n",
       "    .dataframe thead th {\n",
       "        text-align: right;\n",
       "    }\n",
       "</style>\n",
       "<table border=\"1\" class=\"dataframe\">\n",
       "  <thead>\n",
       "    <tr style=\"text-align: right;\">\n",
       "      <th></th>\n",
       "      <th>RowNumber</th>\n",
       "      <th>CustomerId</th>\n",
       "      <th>Surname</th>\n",
       "      <th>CreditScore</th>\n",
       "      <th>Geography</th>\n",
       "      <th>Gender</th>\n",
       "      <th>Age</th>\n",
       "      <th>Tenure</th>\n",
       "      <th>Balance</th>\n",
       "      <th>NumOfProducts</th>\n",
       "      <th>HasCrCard</th>\n",
       "      <th>IsActiveMember</th>\n",
       "      <th>EstimatedSalary</th>\n",
       "      <th>Exited</th>\n",
       "    </tr>\n",
       "  </thead>\n",
       "  <tbody>\n",
       "    <tr>\n",
       "      <th>0</th>\n",
       "      <td>1</td>\n",
       "      <td>15634602</td>\n",
       "      <td>Hargrave</td>\n",
       "      <td>619</td>\n",
       "      <td>France</td>\n",
       "      <td>Female</td>\n",
       "      <td>42</td>\n",
       "      <td>2.0</td>\n",
       "      <td>0.00</td>\n",
       "      <td>1</td>\n",
       "      <td>1</td>\n",
       "      <td>1</td>\n",
       "      <td>101348.88</td>\n",
       "      <td>1</td>\n",
       "    </tr>\n",
       "    <tr>\n",
       "      <th>1</th>\n",
       "      <td>2</td>\n",
       "      <td>15647311</td>\n",
       "      <td>Hill</td>\n",
       "      <td>608</td>\n",
       "      <td>Spain</td>\n",
       "      <td>Female</td>\n",
       "      <td>41</td>\n",
       "      <td>1.0</td>\n",
       "      <td>83807.86</td>\n",
       "      <td>1</td>\n",
       "      <td>0</td>\n",
       "      <td>1</td>\n",
       "      <td>112542.58</td>\n",
       "      <td>0</td>\n",
       "    </tr>\n",
       "    <tr>\n",
       "      <th>2</th>\n",
       "      <td>3</td>\n",
       "      <td>15619304</td>\n",
       "      <td>Onio</td>\n",
       "      <td>502</td>\n",
       "      <td>France</td>\n",
       "      <td>Female</td>\n",
       "      <td>42</td>\n",
       "      <td>8.0</td>\n",
       "      <td>159660.80</td>\n",
       "      <td>3</td>\n",
       "      <td>1</td>\n",
       "      <td>0</td>\n",
       "      <td>113931.57</td>\n",
       "      <td>1</td>\n",
       "    </tr>\n",
       "    <tr>\n",
       "      <th>3</th>\n",
       "      <td>4</td>\n",
       "      <td>15701354</td>\n",
       "      <td>Boni</td>\n",
       "      <td>699</td>\n",
       "      <td>France</td>\n",
       "      <td>Female</td>\n",
       "      <td>39</td>\n",
       "      <td>1.0</td>\n",
       "      <td>0.00</td>\n",
       "      <td>2</td>\n",
       "      <td>0</td>\n",
       "      <td>0</td>\n",
       "      <td>93826.63</td>\n",
       "      <td>0</td>\n",
       "    </tr>\n",
       "    <tr>\n",
       "      <th>4</th>\n",
       "      <td>5</td>\n",
       "      <td>15737888</td>\n",
       "      <td>Mitchell</td>\n",
       "      <td>850</td>\n",
       "      <td>Spain</td>\n",
       "      <td>Female</td>\n",
       "      <td>43</td>\n",
       "      <td>2.0</td>\n",
       "      <td>125510.82</td>\n",
       "      <td>1</td>\n",
       "      <td>1</td>\n",
       "      <td>1</td>\n",
       "      <td>79084.10</td>\n",
       "      <td>0</td>\n",
       "    </tr>\n",
       "    <tr>\n",
       "      <th>5</th>\n",
       "      <td>6</td>\n",
       "      <td>15574012</td>\n",
       "      <td>Chu</td>\n",
       "      <td>645</td>\n",
       "      <td>Spain</td>\n",
       "      <td>Male</td>\n",
       "      <td>44</td>\n",
       "      <td>8.0</td>\n",
       "      <td>113755.78</td>\n",
       "      <td>2</td>\n",
       "      <td>1</td>\n",
       "      <td>0</td>\n",
       "      <td>149756.71</td>\n",
       "      <td>1</td>\n",
       "    </tr>\n",
       "    <tr>\n",
       "      <th>6</th>\n",
       "      <td>7</td>\n",
       "      <td>15592531</td>\n",
       "      <td>Bartlett</td>\n",
       "      <td>822</td>\n",
       "      <td>France</td>\n",
       "      <td>Male</td>\n",
       "      <td>50</td>\n",
       "      <td>7.0</td>\n",
       "      <td>0.00</td>\n",
       "      <td>2</td>\n",
       "      <td>1</td>\n",
       "      <td>1</td>\n",
       "      <td>10062.80</td>\n",
       "      <td>0</td>\n",
       "    </tr>\n",
       "    <tr>\n",
       "      <th>7</th>\n",
       "      <td>8</td>\n",
       "      <td>15656148</td>\n",
       "      <td>Obinna</td>\n",
       "      <td>376</td>\n",
       "      <td>Germany</td>\n",
       "      <td>Female</td>\n",
       "      <td>29</td>\n",
       "      <td>4.0</td>\n",
       "      <td>115046.74</td>\n",
       "      <td>4</td>\n",
       "      <td>1</td>\n",
       "      <td>0</td>\n",
       "      <td>119346.88</td>\n",
       "      <td>1</td>\n",
       "    </tr>\n",
       "    <tr>\n",
       "      <th>8</th>\n",
       "      <td>9</td>\n",
       "      <td>15792365</td>\n",
       "      <td>He</td>\n",
       "      <td>501</td>\n",
       "      <td>France</td>\n",
       "      <td>Male</td>\n",
       "      <td>44</td>\n",
       "      <td>4.0</td>\n",
       "      <td>142051.07</td>\n",
       "      <td>2</td>\n",
       "      <td>0</td>\n",
       "      <td>1</td>\n",
       "      <td>74940.50</td>\n",
       "      <td>0</td>\n",
       "    </tr>\n",
       "    <tr>\n",
       "      <th>9</th>\n",
       "      <td>10</td>\n",
       "      <td>15592389</td>\n",
       "      <td>H?</td>\n",
       "      <td>684</td>\n",
       "      <td>France</td>\n",
       "      <td>Male</td>\n",
       "      <td>27</td>\n",
       "      <td>2.0</td>\n",
       "      <td>134603.88</td>\n",
       "      <td>1</td>\n",
       "      <td>1</td>\n",
       "      <td>1</td>\n",
       "      <td>71725.73</td>\n",
       "      <td>0</td>\n",
       "    </tr>\n",
       "  </tbody>\n",
       "</table>\n",
       "</div>"
      ],
      "text/plain": [
       "   RowNumber  CustomerId   Surname  CreditScore Geography  Gender  Age  \\\n",
       "0          1    15634602  Hargrave          619    France  Female   42   \n",
       "1          2    15647311      Hill          608     Spain  Female   41   \n",
       "2          3    15619304      Onio          502    France  Female   42   \n",
       "3          4    15701354      Boni          699    France  Female   39   \n",
       "4          5    15737888  Mitchell          850     Spain  Female   43   \n",
       "5          6    15574012       Chu          645     Spain    Male   44   \n",
       "6          7    15592531  Bartlett          822    France    Male   50   \n",
       "7          8    15656148    Obinna          376   Germany  Female   29   \n",
       "8          9    15792365        He          501    France    Male   44   \n",
       "9         10    15592389        H?          684    France    Male   27   \n",
       "\n",
       "   Tenure    Balance  NumOfProducts  HasCrCard  IsActiveMember  \\\n",
       "0     2.0       0.00              1          1               1   \n",
       "1     1.0   83807.86              1          0               1   \n",
       "2     8.0  159660.80              3          1               0   \n",
       "3     1.0       0.00              2          0               0   \n",
       "4     2.0  125510.82              1          1               1   \n",
       "5     8.0  113755.78              2          1               0   \n",
       "6     7.0       0.00              2          1               1   \n",
       "7     4.0  115046.74              4          1               0   \n",
       "8     4.0  142051.07              2          0               1   \n",
       "9     2.0  134603.88              1          1               1   \n",
       "\n",
       "   EstimatedSalary  Exited  \n",
       "0        101348.88       1  \n",
       "1        112542.58       0  \n",
       "2        113931.57       1  \n",
       "3         93826.63       0  \n",
       "4         79084.10       0  \n",
       "5        149756.71       1  \n",
       "6         10062.80       0  \n",
       "7        119346.88       1  \n",
       "8         74940.50       0  \n",
       "9         71725.73       0  "
      ]
     },
     "execution_count": 87,
     "metadata": {},
     "output_type": "execute_result"
    }
   ],
   "source": [
    "df.head(10)"
   ]
  },
  {
   "cell_type": "markdown",
   "metadata": {},
   "source": [
    "Выведем информацию о датафрейме с помощью метода `info()`."
   ]
  },
  {
   "cell_type": "code",
   "execution_count": 88,
   "metadata": {
    "scrolled": true
   },
   "outputs": [
    {
     "name": "stdout",
     "output_type": "stream",
     "text": [
      "<class 'pandas.core.frame.DataFrame'>\n",
      "RangeIndex: 10000 entries, 0 to 9999\n",
      "Data columns (total 14 columns):\n",
      " #   Column           Non-Null Count  Dtype  \n",
      "---  ------           --------------  -----  \n",
      " 0   RowNumber        10000 non-null  int64  \n",
      " 1   CustomerId       10000 non-null  int64  \n",
      " 2   Surname          10000 non-null  object \n",
      " 3   CreditScore      10000 non-null  int64  \n",
      " 4   Geography        10000 non-null  object \n",
      " 5   Gender           10000 non-null  object \n",
      " 6   Age              10000 non-null  int64  \n",
      " 7   Tenure           9091 non-null   float64\n",
      " 8   Balance          10000 non-null  float64\n",
      " 9   NumOfProducts    10000 non-null  int64  \n",
      " 10  HasCrCard        10000 non-null  int64  \n",
      " 11  IsActiveMember   10000 non-null  int64  \n",
      " 12  EstimatedSalary  10000 non-null  float64\n",
      " 13  Exited           10000 non-null  int64  \n",
      "dtypes: float64(3), int64(8), object(3)\n",
      "memory usage: 1.1+ MB\n"
     ]
    }
   ],
   "source": [
    "df.info()"
   ]
  },
  {
   "cell_type": "code",
   "execution_count": 89,
   "metadata": {
    "scrolled": true
   },
   "outputs": [
    {
     "data": {
      "text/plain": [
       "9.09"
      ]
     },
     "execution_count": 89,
     "metadata": {},
     "output_type": "execute_result"
    }
   ],
   "source": [
    "df['Tenure'].isna().mean()*100"
   ]
  },
  {
   "cell_type": "markdown",
   "metadata": {},
   "source": [
    "Признак `Tenure` содержит пропуски, чтобы не искажать данные удалим их."
   ]
  },
  {
   "cell_type": "code",
   "execution_count": 90,
   "metadata": {},
   "outputs": [],
   "source": [
    "df = df.dropna().reset_index(drop=True)"
   ]
  },
  {
   "cell_type": "markdown",
   "metadata": {},
   "source": [
    "Признаки сохраним в переменной features, а целевой признак - в target."
   ]
  },
  {
   "cell_type": "code",
   "execution_count": 91,
   "metadata": {},
   "outputs": [],
   "source": [
    "features = df.drop(['RowNumber', 'CustomerId', 'Surname', 'Exited'], axis=1)\n",
    "target = df['Exited']"
   ]
  },
  {
   "cell_type": "markdown",
   "metadata": {},
   "source": [
    "Разобьем данные на обучающую, валидационную и тестовую выборки в соотношении 3:1:1 соответственно."
   ]
  },
  {
   "cell_type": "code",
   "execution_count": 92,
   "metadata": {},
   "outputs": [],
   "source": [
    "features_train, features_temp, target_train, target_temp = (\n",
    "    train_test_split(features, target, test_size=0.4, random_state=322, stratify=target)\n",
    ")"
   ]
  },
  {
   "cell_type": "code",
   "execution_count": 93,
   "metadata": {},
   "outputs": [],
   "source": [
    "features_valid, features_test, target_valid, target_test = (\n",
    "    train_test_split(features_temp, target_temp, test_size=0.5, random_state=322, stratify=target_temp)\n",
    ")"
   ]
  },
  {
   "cell_type": "markdown",
   "metadata": {},
   "source": [
    "Проверим корректность разбиения."
   ]
  },
  {
   "cell_type": "code",
   "execution_count": 94,
   "metadata": {},
   "outputs": [
    {
     "data": {
      "text/plain": [
       "(5454, 10)"
      ]
     },
     "execution_count": 94,
     "metadata": {},
     "output_type": "execute_result"
    }
   ],
   "source": [
    "features_train.shape"
   ]
  },
  {
   "cell_type": "code",
   "execution_count": 95,
   "metadata": {},
   "outputs": [
    {
     "data": {
      "text/plain": [
       "(1818, 10)"
      ]
     },
     "execution_count": 95,
     "metadata": {},
     "output_type": "execute_result"
    }
   ],
   "source": [
    "features_valid.shape"
   ]
  },
  {
   "cell_type": "code",
   "execution_count": 96,
   "metadata": {},
   "outputs": [
    {
     "data": {
      "text/plain": [
       "(1819, 10)"
      ]
     },
     "execution_count": 96,
     "metadata": {},
     "output_type": "execute_result"
    }
   ],
   "source": [
    "features_test.shape"
   ]
  },
  {
   "cell_type": "markdown",
   "metadata": {},
   "source": [
    "Преобразуем категориальные признаки Geography и Gender в количественные с помощью OHE."
   ]
  },
  {
   "cell_type": "code",
   "execution_count": 97,
   "metadata": {},
   "outputs": [
    {
     "data": {
      "text/html": [
       "<div>\n",
       "<style scoped>\n",
       "    .dataframe tbody tr th:only-of-type {\n",
       "        vertical-align: middle;\n",
       "    }\n",
       "\n",
       "    .dataframe tbody tr th {\n",
       "        vertical-align: top;\n",
       "    }\n",
       "\n",
       "    .dataframe thead th {\n",
       "        text-align: right;\n",
       "    }\n",
       "</style>\n",
       "<table border=\"1\" class=\"dataframe\">\n",
       "  <thead>\n",
       "    <tr style=\"text-align: right;\">\n",
       "      <th></th>\n",
       "      <th>CreditScore</th>\n",
       "      <th>Geography_1</th>\n",
       "      <th>Geography_2</th>\n",
       "      <th>Geography_3</th>\n",
       "      <th>Gender_1</th>\n",
       "      <th>Gender_2</th>\n",
       "      <th>Age</th>\n",
       "      <th>Tenure</th>\n",
       "      <th>Balance</th>\n",
       "      <th>NumOfProducts</th>\n",
       "      <th>HasCrCard</th>\n",
       "      <th>IsActiveMember</th>\n",
       "      <th>EstimatedSalary</th>\n",
       "    </tr>\n",
       "  </thead>\n",
       "  <tbody>\n",
       "    <tr>\n",
       "      <th>6269</th>\n",
       "      <td>688</td>\n",
       "      <td>1</td>\n",
       "      <td>0</td>\n",
       "      <td>0</td>\n",
       "      <td>1</td>\n",
       "      <td>0</td>\n",
       "      <td>46</td>\n",
       "      <td>3.0</td>\n",
       "      <td>0.00</td>\n",
       "      <td>2</td>\n",
       "      <td>0</td>\n",
       "      <td>1</td>\n",
       "      <td>104902.68</td>\n",
       "    </tr>\n",
       "    <tr>\n",
       "      <th>3896</th>\n",
       "      <td>641</td>\n",
       "      <td>0</td>\n",
       "      <td>1</td>\n",
       "      <td>0</td>\n",
       "      <td>1</td>\n",
       "      <td>0</td>\n",
       "      <td>40</td>\n",
       "      <td>7.0</td>\n",
       "      <td>0.00</td>\n",
       "      <td>1</td>\n",
       "      <td>1</td>\n",
       "      <td>0</td>\n",
       "      <td>126996.67</td>\n",
       "    </tr>\n",
       "    <tr>\n",
       "      <th>4692</th>\n",
       "      <td>760</td>\n",
       "      <td>0</td>\n",
       "      <td>0</td>\n",
       "      <td>1</td>\n",
       "      <td>0</td>\n",
       "      <td>1</td>\n",
       "      <td>34</td>\n",
       "      <td>6.0</td>\n",
       "      <td>121303.77</td>\n",
       "      <td>2</td>\n",
       "      <td>1</td>\n",
       "      <td>1</td>\n",
       "      <td>59325.21</td>\n",
       "    </tr>\n",
       "    <tr>\n",
       "      <th>4220</th>\n",
       "      <td>850</td>\n",
       "      <td>0</td>\n",
       "      <td>0</td>\n",
       "      <td>1</td>\n",
       "      <td>1</td>\n",
       "      <td>0</td>\n",
       "      <td>39</td>\n",
       "      <td>5.0</td>\n",
       "      <td>114491.82</td>\n",
       "      <td>1</td>\n",
       "      <td>1</td>\n",
       "      <td>0</td>\n",
       "      <td>99689.48</td>\n",
       "    </tr>\n",
       "    <tr>\n",
       "      <th>6397</th>\n",
       "      <td>563</td>\n",
       "      <td>1</td>\n",
       "      <td>0</td>\n",
       "      <td>0</td>\n",
       "      <td>0</td>\n",
       "      <td>1</td>\n",
       "      <td>57</td>\n",
       "      <td>6.0</td>\n",
       "      <td>0.00</td>\n",
       "      <td>2</td>\n",
       "      <td>1</td>\n",
       "      <td>1</td>\n",
       "      <td>39297.48</td>\n",
       "    </tr>\n",
       "  </tbody>\n",
       "</table>\n",
       "</div>"
      ],
      "text/plain": [
       "      CreditScore  Geography_1  Geography_2  Geography_3  Gender_1  Gender_2  \\\n",
       "6269          688            1            0            0         1         0   \n",
       "3896          641            0            1            0         1         0   \n",
       "4692          760            0            0            1         0         1   \n",
       "4220          850            0            0            1         1         0   \n",
       "6397          563            1            0            0         0         1   \n",
       "\n",
       "      Age  Tenure    Balance  NumOfProducts  HasCrCard  IsActiveMember  \\\n",
       "6269   46     3.0       0.00              2          0               1   \n",
       "3896   40     7.0       0.00              1          1               0   \n",
       "4692   34     6.0  121303.77              2          1               1   \n",
       "4220   39     5.0  114491.82              1          1               0   \n",
       "6397   57     6.0       0.00              2          1               1   \n",
       "\n",
       "      EstimatedSalary  \n",
       "6269        104902.68  \n",
       "3896        126996.67  \n",
       "4692         59325.21  \n",
       "4220         99689.48  \n",
       "6397         39297.48  "
      ]
     },
     "execution_count": 97,
     "metadata": {},
     "output_type": "execute_result"
    }
   ],
   "source": [
    "ohe = ce.OneHotEncoder(drop_invariant=True)\n",
    "ohe.fit(features_train)\n",
    "features_train = ohe.transform(features_train)\n",
    "features_valid = ohe.transform(features_valid)\n",
    "features_test = ohe.transform(features_test)\n",
    "features_train.head()"
   ]
  },
  {
   "cell_type": "markdown",
   "metadata": {},
   "source": [
    "Стандартизируем численные признаки с помощью `StandardScaler`."
   ]
  },
  {
   "cell_type": "code",
   "execution_count": 98,
   "metadata": {
    "scrolled": true
   },
   "outputs": [
    {
     "data": {
      "text/html": [
       "<div>\n",
       "<style scoped>\n",
       "    .dataframe tbody tr th:only-of-type {\n",
       "        vertical-align: middle;\n",
       "    }\n",
       "\n",
       "    .dataframe tbody tr th {\n",
       "        vertical-align: top;\n",
       "    }\n",
       "\n",
       "    .dataframe thead th {\n",
       "        text-align: right;\n",
       "    }\n",
       "</style>\n",
       "<table border=\"1\" class=\"dataframe\">\n",
       "  <thead>\n",
       "    <tr style=\"text-align: right;\">\n",
       "      <th></th>\n",
       "      <th>CreditScore</th>\n",
       "      <th>Geography_1</th>\n",
       "      <th>Geography_2</th>\n",
       "      <th>Geography_3</th>\n",
       "      <th>Gender_1</th>\n",
       "      <th>Gender_2</th>\n",
       "      <th>Age</th>\n",
       "      <th>Tenure</th>\n",
       "      <th>Balance</th>\n",
       "      <th>NumOfProducts</th>\n",
       "      <th>HasCrCard</th>\n",
       "      <th>IsActiveMember</th>\n",
       "      <th>EstimatedSalary</th>\n",
       "    </tr>\n",
       "  </thead>\n",
       "  <tbody>\n",
       "    <tr>\n",
       "      <th>6269</th>\n",
       "      <td>0.393274</td>\n",
       "      <td>1</td>\n",
       "      <td>0</td>\n",
       "      <td>0</td>\n",
       "      <td>1</td>\n",
       "      <td>0</td>\n",
       "      <td>0.684323</td>\n",
       "      <td>-0.689374</td>\n",
       "      <td>-1.214471</td>\n",
       "      <td>0.791149</td>\n",
       "      <td>0</td>\n",
       "      <td>1</td>\n",
       "      <td>0.103521</td>\n",
       "    </tr>\n",
       "    <tr>\n",
       "      <th>3896</th>\n",
       "      <td>-0.094186</td>\n",
       "      <td>0</td>\n",
       "      <td>1</td>\n",
       "      <td>0</td>\n",
       "      <td>1</td>\n",
       "      <td>0</td>\n",
       "      <td>0.116212</td>\n",
       "      <td>0.693685</td>\n",
       "      <td>-1.214471</td>\n",
       "      <td>-0.920444</td>\n",
       "      <td>1</td>\n",
       "      <td>0</td>\n",
       "      <td>0.485720</td>\n",
       "    </tr>\n",
       "    <tr>\n",
       "      <th>4692</th>\n",
       "      <td>1.140021</td>\n",
       "      <td>0</td>\n",
       "      <td>0</td>\n",
       "      <td>1</td>\n",
       "      <td>0</td>\n",
       "      <td>1</td>\n",
       "      <td>-0.451898</td>\n",
       "      <td>0.347920</td>\n",
       "      <td>0.734066</td>\n",
       "      <td>0.791149</td>\n",
       "      <td>1</td>\n",
       "      <td>1</td>\n",
       "      <td>-0.684914</td>\n",
       "    </tr>\n",
       "    <tr>\n",
       "      <th>4220</th>\n",
       "      <td>2.073455</td>\n",
       "      <td>0</td>\n",
       "      <td>0</td>\n",
       "      <td>1</td>\n",
       "      <td>1</td>\n",
       "      <td>0</td>\n",
       "      <td>0.021527</td>\n",
       "      <td>0.002155</td>\n",
       "      <td>0.624644</td>\n",
       "      <td>-0.920444</td>\n",
       "      <td>1</td>\n",
       "      <td>0</td>\n",
       "      <td>0.013339</td>\n",
       "    </tr>\n",
       "    <tr>\n",
       "      <th>6397</th>\n",
       "      <td>-0.903162</td>\n",
       "      <td>1</td>\n",
       "      <td>0</td>\n",
       "      <td>0</td>\n",
       "      <td>0</td>\n",
       "      <td>1</td>\n",
       "      <td>1.725858</td>\n",
       "      <td>0.347920</td>\n",
       "      <td>-1.214471</td>\n",
       "      <td>0.791149</td>\n",
       "      <td>1</td>\n",
       "      <td>1</td>\n",
       "      <td>-1.031369</td>\n",
       "    </tr>\n",
       "  </tbody>\n",
       "</table>\n",
       "</div>"
      ],
      "text/plain": [
       "      CreditScore  Geography_1  Geography_2  Geography_3  Gender_1  Gender_2  \\\n",
       "6269     0.393274            1            0            0         1         0   \n",
       "3896    -0.094186            0            1            0         1         0   \n",
       "4692     1.140021            0            0            1         0         1   \n",
       "4220     2.073455            0            0            1         1         0   \n",
       "6397    -0.903162            1            0            0         0         1   \n",
       "\n",
       "           Age    Tenure   Balance  NumOfProducts  HasCrCard  IsActiveMember  \\\n",
       "6269  0.684323 -0.689374 -1.214471       0.791149          0               1   \n",
       "3896  0.116212  0.693685 -1.214471      -0.920444          1               0   \n",
       "4692 -0.451898  0.347920  0.734066       0.791149          1               1   \n",
       "4220  0.021527  0.002155  0.624644      -0.920444          1               0   \n",
       "6397  1.725858  0.347920 -1.214471       0.791149          1               1   \n",
       "\n",
       "      EstimatedSalary  \n",
       "6269         0.103521  \n",
       "3896         0.485720  \n",
       "4692        -0.684914  \n",
       "4220         0.013339  \n",
       "6397        -1.031369  "
      ]
     },
     "execution_count": 98,
     "metadata": {},
     "output_type": "execute_result"
    }
   ],
   "source": [
    "numeric = ['CreditScore', 'Age', 'Tenure', 'Balance', 'NumOfProducts', 'EstimatedSalary']\n",
    "scaler = StandardScaler()\n",
    "scaler.fit(features_train[numeric])\n",
    "features_train[numeric] = scaler.transform(features_train[numeric])\n",
    "features_valid[numeric] = scaler.transform(features_valid[numeric])\n",
    "features_test[numeric] = scaler.transform(features_test[numeric])\n",
    "features_train.head()"
   ]
  },
  {
   "cell_type": "code",
   "execution_count": 99,
   "metadata": {},
   "outputs": [],
   "source": [
    "target_train = target_train.reset_index(drop=True)\n",
    "target_valid = target_valid.reset_index(drop=True)\n",
    "target_test = target_test.reset_index(drop=True)\n",
    "features_train = features_train.reset_index(drop=True)\n",
    "features_valid = features_valid.reset_index(drop=True)\n",
    "features_test = features_test.reset_index(drop=True)"
   ]
  },
  {
   "cell_type": "markdown",
   "metadata": {},
   "source": [
    "## Исследование задачи"
   ]
  },
  {
   "cell_type": "markdown",
   "metadata": {},
   "source": [
    "Исследуем баланс классов, выведем процентное соотношение классов в целевом признаке."
   ]
  },
  {
   "cell_type": "code",
   "execution_count": 100,
   "metadata": {},
   "outputs": [
    {
     "data": {
      "text/plain": [
       "0    0.796062\n",
       "1    0.203938\n",
       "Name: Exited, dtype: float64"
      ]
     },
     "execution_count": 100,
     "metadata": {},
     "output_type": "execute_result"
    }
   ],
   "source": [
    "target.value_counts(normalize=True)"
   ]
  },
  {
   "cell_type": "markdown",
   "metadata": {},
   "source": [
    "Выборка является несбалансированной, почти 80% нулей."
   ]
  },
  {
   "cell_type": "markdown",
   "metadata": {},
   "source": [
    "Сперва обучим модели без учета дисбаланса. Ипользовать будем модели решающего дерева, случайного леса и логистической регрессии."
   ]
  },
  {
   "cell_type": "markdown",
   "metadata": {},
   "source": [
    "### Случайный лес"
   ]
  },
  {
   "cell_type": "markdown",
   "metadata": {},
   "source": [
    "С помощью Optuna подберем оптимальные гиперпараметры для модели случайного леса."
   ]
  },
  {
   "cell_type": "code",
   "execution_count": 105,
   "metadata": {
    "scrolled": true
   },
   "outputs": [
    {
     "name": "stderr",
     "output_type": "stream",
     "text": [
      "\u001b[32m[I 2023-03-14 20:15:54,729]\u001b[0m A new study created in memory with name: no-name-fdab3de7-25ff-4122-a840-aa48f1e1d7bc\u001b[0m\n",
      "\u001b[32m[I 2023-03-14 20:15:55,101]\u001b[0m Trial 0 finished with value: 0.5272727272727272 and parameters: {'n_estimators': 124, 'max_depth': 24, 'min_samples_split': 2, 'min_samples_leaf': 28, 'criterion': 'gini'}. Best is trial 0 with value: 0.5272727272727272.\u001b[0m\n",
      "\u001b[32m[I 2023-03-14 20:15:55,454]\u001b[0m Trial 1 finished with value: 0.5328596802841918 and parameters: {'n_estimators': 100, 'max_depth': 17, 'min_samples_split': 4, 'min_samples_leaf': 23, 'criterion': 'entropy'}. Best is trial 1 with value: 0.5328596802841918.\u001b[0m\n",
      "\u001b[32m[I 2023-03-14 20:15:55,623]\u001b[0m Trial 2 finished with value: 0.5611015490533563 and parameters: {'n_estimators': 43, 'max_depth': 14, 'min_samples_split': 15, 'min_samples_leaf': 3, 'criterion': 'gini'}. Best is trial 2 with value: 0.5611015490533563.\u001b[0m\n",
      "\u001b[32m[I 2023-03-14 20:15:55,797]\u001b[0m Trial 3 finished with value: 0.5500848896434635 and parameters: {'n_estimators': 49, 'max_depth': 25, 'min_samples_split': 22, 'min_samples_leaf': 9, 'criterion': 'gini'}. Best is trial 2 with value: 0.5611015490533563.\u001b[0m\n",
      "\u001b[32m[I 2023-03-14 20:15:56,131]\u001b[0m Trial 4 finished with value: 0.51985559566787 and parameters: {'n_estimators': 95, 'max_depth': 9, 'min_samples_split': 15, 'min_samples_leaf': 22, 'criterion': 'entropy'}. Best is trial 2 with value: 0.5611015490533563.\u001b[0m\n",
      "\u001b[32m[I 2023-03-14 20:15:56,255]\u001b[0m Trial 5 finished with value: 0.5467128027681661 and parameters: {'n_estimators': 35, 'max_depth': 26, 'min_samples_split': 10, 'min_samples_leaf': 11, 'criterion': 'gini'}. Best is trial 2 with value: 0.5611015490533563.\u001b[0m\n",
      "\u001b[32m[I 2023-03-14 20:15:56,567]\u001b[0m Trial 6 finished with value: 0.5373665480427046 and parameters: {'n_estimators': 83, 'max_depth': 16, 'min_samples_split': 17, 'min_samples_leaf': 18, 'criterion': 'entropy'}. Best is trial 2 with value: 0.5611015490533563.\u001b[0m\n",
      "\u001b[32m[I 2023-03-14 20:15:56,953]\u001b[0m Trial 7 finished with value: 0.5492227979274611 and parameters: {'n_estimators': 108, 'max_depth': 26, 'min_samples_split': 4, 'min_samples_leaf': 7, 'criterion': 'gini'}. Best is trial 2 with value: 0.5611015490533563.\u001b[0m\n",
      "\u001b[32m[I 2023-03-14 20:15:57,327]\u001b[0m Trial 8 finished with value: 0.5441696113074205 and parameters: {'n_estimators': 113, 'max_depth': 27, 'min_samples_split': 27, 'min_samples_leaf': 13, 'criterion': 'gini'}. Best is trial 2 with value: 0.5611015490533563.\u001b[0m\n",
      "\u001b[32m[I 2023-03-14 20:15:57,782]\u001b[0m Trial 9 finished with value: 0.552901023890785 and parameters: {'n_estimators': 126, 'max_depth': 24, 'min_samples_split': 19, 'min_samples_leaf': 4, 'criterion': 'gini'}. Best is trial 2 with value: 0.5611015490533563.\u001b[0m\n",
      "\u001b[32m[I 2023-03-14 20:15:57,917]\u001b[0m Trial 10 finished with value: 0.1897810218978102 and parameters: {'n_estimators': 58, 'max_depth': 3, 'min_samples_split': 30, 'min_samples_leaf': 1, 'criterion': 'entropy'}. Best is trial 2 with value: 0.5611015490533563.\u001b[0m\n",
      "\u001b[32m[I 2023-03-14 20:15:58,473]\u001b[0m Trial 11 finished with value: 0.5532646048109966 and parameters: {'n_estimators': 145, 'max_depth': 18, 'min_samples_split': 17, 'min_samples_leaf': 1, 'criterion': 'gini'}. Best is trial 2 with value: 0.5611015490533563.\u001b[0m\n",
      "\u001b[32m[I 2023-03-14 20:15:59,049]\u001b[0m Trial 12 finished with value: 0.5544217687074829 and parameters: {'n_estimators': 147, 'max_depth': 16, 'min_samples_split': 11, 'min_samples_leaf': 1, 'criterion': 'gini'}. Best is trial 2 with value: 0.5611015490533563.\u001b[0m\n",
      "\u001b[32m[I 2023-03-14 20:15:59,139]\u001b[0m Trial 13 finished with value: 0.5506756756756757 and parameters: {'n_estimators': 20, 'max_depth': 12, 'min_samples_split': 11, 'min_samples_leaf': 6, 'criterion': 'gini'}. Best is trial 2 with value: 0.5611015490533563.\u001b[0m\n",
      "\u001b[32m[I 2023-03-14 20:15:59,408]\u001b[0m Trial 14 finished with value: 0.5435540069686411 and parameters: {'n_estimators': 79, 'max_depth': 11, 'min_samples_split': 11, 'min_samples_leaf': 15, 'criterion': 'gini'}. Best is trial 2 with value: 0.5611015490533563.\u001b[0m\n",
      "\u001b[32m[I 2023-03-14 20:15:59,983]\u001b[0m Trial 15 finished with value: 0.5479452054794521 and parameters: {'n_estimators': 149, 'max_depth': 20, 'min_samples_split': 8, 'min_samples_leaf': 4, 'criterion': 'gini'}. Best is trial 2 with value: 0.5611015490533563.\u001b[0m\n",
      "\u001b[32m[I 2023-03-14 20:16:00,190]\u001b[0m Trial 16 finished with value: 0.5366726296958856 and parameters: {'n_estimators': 66, 'max_depth': 7, 'min_samples_split': 22, 'min_samples_leaf': 1, 'criterion': 'gini'}. Best is trial 2 with value: 0.5611015490533563.\u001b[0m\n",
      "\u001b[32m[I 2023-03-14 20:16:00,303]\u001b[0m Trial 17 finished with value: 0.5519591141396933 and parameters: {'n_estimators': 28, 'max_depth': 14, 'min_samples_split': 14, 'min_samples_leaf': 9, 'criterion': 'gini'}. Best is trial 2 with value: 0.5611015490533563.\u001b[0m\n",
      "\u001b[32m[I 2023-03-14 20:16:00,477]\u001b[0m Trial 18 finished with value: 0.5380530973451327 and parameters: {'n_estimators': 42, 'max_depth': 21, 'min_samples_split': 7, 'min_samples_leaf': 18, 'criterion': 'entropy'}. Best is trial 2 with value: 0.5611015490533563.\u001b[0m\n",
      "\u001b[32m[I 2023-03-14 20:16:00,734]\u001b[0m Trial 19 finished with value: 0.538860103626943 and parameters: {'n_estimators': 66, 'max_depth': 30, 'min_samples_split': 13, 'min_samples_leaf': 5, 'criterion': 'gini'}. Best is trial 2 with value: 0.5611015490533563.\u001b[0m\n",
      "\u001b[32m[I 2023-03-14 20:16:01,063]\u001b[0m Trial 20 finished with value: 0.45544554455445546 and parameters: {'n_estimators': 131, 'max_depth': 5, 'min_samples_split': 20, 'min_samples_leaf': 29, 'criterion': 'gini'}. Best is trial 2 with value: 0.5611015490533563.\u001b[0m\n",
      "\u001b[32m[I 2023-03-14 20:16:01,650]\u001b[0m Trial 21 finished with value: 0.545768566493955 and parameters: {'n_estimators': 150, 'max_depth': 18, 'min_samples_split': 18, 'min_samples_leaf': 1, 'criterion': 'gini'}. Best is trial 2 with value: 0.5611015490533563.\u001b[0m\n",
      "\u001b[32m[I 2023-03-14 20:16:02,173]\u001b[0m Trial 22 finished with value: 0.5620689655172414 and parameters: {'n_estimators': 135, 'max_depth': 14, 'min_samples_split': 16, 'min_samples_leaf': 3, 'criterion': 'gini'}. Best is trial 22 with value: 0.5620689655172414.\u001b[0m\n",
      "\u001b[32m[I 2023-03-14 20:16:02,667]\u001b[0m Trial 23 finished with value: 0.5473321858864026 and parameters: {'n_estimators': 137, 'max_depth': 13, 'min_samples_split': 13, 'min_samples_leaf': 8, 'criterion': 'gini'}. Best is trial 22 with value: 0.5620689655172414.\u001b[0m\n",
      "\u001b[32m[I 2023-03-14 20:16:03,071]\u001b[0m Trial 24 finished with value: 0.5526770293609672 and parameters: {'n_estimators': 115, 'max_depth': 10, 'min_samples_split': 23, 'min_samples_leaf': 4, 'criterion': 'gini'}. Best is trial 22 with value: 0.5620689655172414.\u001b[0m\n",
      "\u001b[32m[I 2023-03-14 20:16:03,567]\u001b[0m Trial 25 finished with value: 0.5413005272407733 and parameters: {'n_estimators': 140, 'max_depth': 14, 'min_samples_split': 8, 'min_samples_leaf': 11, 'criterion': 'gini'}. Best is trial 22 with value: 0.5620689655172414.\u001b[0m\n",
      "\u001b[32m[I 2023-03-14 20:16:03,938]\u001b[0m Trial 26 finished with value: 0.5314183123877917 and parameters: {'n_estimators': 96, 'max_depth': 8, 'min_samples_split': 15, 'min_samples_leaf': 3, 'criterion': 'entropy'}. Best is trial 22 with value: 0.5620689655172414.\u001b[0m\n",
      "\u001b[32m[I 2023-03-14 20:16:04,372]\u001b[0m Trial 27 finished with value: 0.545768566493955 and parameters: {'n_estimators': 121, 'max_depth': 21, 'min_samples_split': 25, 'min_samples_leaf': 7, 'criterion': 'gini'}. Best is trial 22 with value: 0.5620689655172414.\u001b[0m\n",
      "\u001b[32m[I 2023-03-14 20:16:04,853]\u001b[0m Trial 28 finished with value: 0.5489510489510488 and parameters: {'n_estimators': 137, 'max_depth': 15, 'min_samples_split': 12, 'min_samples_leaf': 11, 'criterion': 'gini'}. Best is trial 22 with value: 0.5620689655172414.\u001b[0m\n",
      "\u001b[32m[I 2023-03-14 20:16:05,130]\u001b[0m Trial 29 finished with value: 0.5523156089193826 and parameters: {'n_estimators': 71, 'max_depth': 19, 'min_samples_split': 20, 'min_samples_leaf': 3, 'criterion': 'gini'}. Best is trial 22 with value: 0.5620689655172414.\u001b[0m\n",
      "\u001b[32m[I 2023-03-14 20:16:05,538]\u001b[0m Trial 30 finished with value: 0.5362318840579711 and parameters: {'n_estimators': 129, 'max_depth': 22, 'min_samples_split': 9, 'min_samples_leaf': 25, 'criterion': 'gini'}. Best is trial 22 with value: 0.5620689655172414.\u001b[0m\n"
     ]
    },
    {
     "name": "stderr",
     "output_type": "stream",
     "text": [
      "\u001b[32m[I 2023-03-14 20:16:06,087]\u001b[0m Trial 31 finished with value: 0.5574324324324325 and parameters: {'n_estimators': 143, 'max_depth': 17, 'min_samples_split': 17, 'min_samples_leaf': 2, 'criterion': 'gini'}. Best is trial 22 with value: 0.5620689655172414.\u001b[0m\n",
      "\u001b[32m[I 2023-03-14 20:16:06,622]\u001b[0m Trial 32 finished with value: 0.5507745266781412 and parameters: {'n_estimators': 140, 'max_depth': 16, 'min_samples_split': 16, 'min_samples_leaf': 3, 'criterion': 'gini'}. Best is trial 22 with value: 0.5620689655172414.\u001b[0m\n",
      "\u001b[32m[I 2023-03-14 20:16:07,062]\u001b[0m Trial 33 finished with value: 0.5340314136125655 and parameters: {'n_estimators': 120, 'max_depth': 12, 'min_samples_split': 6, 'min_samples_leaf': 6, 'criterion': 'gini'}. Best is trial 22 with value: 0.5620689655172414.\u001b[0m\n",
      "\u001b[32m[I 2023-03-14 20:16:07,547]\u001b[0m Trial 34 finished with value: 0.5426621160409556 and parameters: {'n_estimators': 105, 'max_depth': 16, 'min_samples_split': 15, 'min_samples_leaf': 2, 'criterion': 'entropy'}. Best is trial 22 with value: 0.5620689655172414.\u001b[0m\n",
      "\u001b[32m[I 2023-03-14 20:16:07,760]\u001b[0m Trial 35 finished with value: 0.5587734241908007 and parameters: {'n_estimators': 54, 'max_depth': 17, 'min_samples_split': 13, 'min_samples_leaf': 6, 'criterion': 'gini'}. Best is trial 22 with value: 0.5620689655172414.\u001b[0m\n",
      "\u001b[32m[I 2023-03-14 20:16:07,894]\u001b[0m Trial 36 finished with value: 0.5479452054794521 and parameters: {'n_estimators': 34, 'max_depth': 18, 'min_samples_split': 18, 'min_samples_leaf': 9, 'criterion': 'gini'}. Best is trial 22 with value: 0.5620689655172414.\u001b[0m\n",
      "\u001b[32m[I 2023-03-14 20:16:08,128]\u001b[0m Trial 37 finished with value: 0.565587734241908 and parameters: {'n_estimators': 51, 'max_depth': 14, 'min_samples_split': 16, 'min_samples_leaf': 5, 'criterion': 'entropy'}. Best is trial 37 with value: 0.565587734241908.\u001b[0m\n",
      "\u001b[32m[I 2023-03-14 20:16:08,328]\u001b[0m Trial 38 finished with value: 0.5526770293609672 and parameters: {'n_estimators': 48, 'max_depth': 9, 'min_samples_split': 14, 'min_samples_leaf': 6, 'criterion': 'entropy'}. Best is trial 37 with value: 0.565587734241908.\u001b[0m\n",
      "\u001b[32m[I 2023-03-14 20:16:08,564]\u001b[0m Trial 39 finished with value: 0.5605536332179931 and parameters: {'n_estimators': 55, 'max_depth': 14, 'min_samples_split': 22, 'min_samples_leaf': 10, 'criterion': 'entropy'}. Best is trial 37 with value: 0.565587734241908.\u001b[0m\n",
      "\u001b[32m[I 2023-03-14 20:16:08,756]\u001b[0m Trial 40 finished with value: 0.5476603119584055 and parameters: {'n_estimators': 43, 'max_depth': 14, 'min_samples_split': 24, 'min_samples_leaf': 9, 'criterion': 'entropy'}. Best is trial 37 with value: 0.565587734241908.\u001b[0m\n",
      "\u001b[32m[I 2023-03-14 20:16:08,999]\u001b[0m Trial 41 finished with value: 0.5549738219895287 and parameters: {'n_estimators': 59, 'max_depth': 12, 'min_samples_split': 20, 'min_samples_leaf': 14, 'criterion': 'entropy'}. Best is trial 37 with value: 0.565587734241908.\u001b[0m\n",
      "\u001b[32m[I 2023-03-14 20:16:09,222]\u001b[0m Trial 42 finished with value: 0.5626072041166381 and parameters: {'n_estimators': 53, 'max_depth': 14, 'min_samples_split': 27, 'min_samples_leaf': 12, 'criterion': 'entropy'}. Best is trial 37 with value: 0.565587734241908.\u001b[0m\n",
      "\u001b[32m[I 2023-03-14 20:16:09,580]\u001b[0m Trial 43 finished with value: 0.5569176882661996 and parameters: {'n_estimators': 90, 'max_depth': 11, 'min_samples_split': 29, 'min_samples_leaf': 12, 'criterion': 'entropy'}. Best is trial 37 with value: 0.565587734241908.\u001b[0m\n",
      "\u001b[32m[I 2023-03-14 20:16:09,876]\u001b[0m Trial 44 finished with value: 0.5451327433628318 and parameters: {'n_estimators': 75, 'max_depth': 13, 'min_samples_split': 26, 'min_samples_leaf': 17, 'criterion': 'entropy'}. Best is trial 37 with value: 0.565587734241908.\u001b[0m\n",
      "\u001b[32m[I 2023-03-14 20:16:10,046]\u001b[0m Trial 45 finished with value: 0.5526770293609672 and parameters: {'n_estimators': 38, 'max_depth': 15, 'min_samples_split': 22, 'min_samples_leaf': 10, 'criterion': 'entropy'}. Best is trial 37 with value: 0.565587734241908.\u001b[0m\n",
      "\u001b[32m[I 2023-03-14 20:16:10,249]\u001b[0m Trial 46 finished with value: 0.5311942959001782 and parameters: {'n_estimators': 52, 'max_depth': 10, 'min_samples_split': 27, 'min_samples_leaf': 20, 'criterion': 'entropy'}. Best is trial 37 with value: 0.565587734241908.\u001b[0m\n",
      "\u001b[32m[I 2023-03-14 20:16:10,345]\u001b[0m Trial 47 finished with value: 0.5335689045936395 and parameters: {'n_estimators': 23, 'max_depth': 7, 'min_samples_split': 28, 'min_samples_leaf': 16, 'criterion': 'entropy'}. Best is trial 37 with value: 0.565587734241908.\u001b[0m\n",
      "\u001b[32m[I 2023-03-14 20:16:10,623]\u001b[0m Trial 48 finished with value: 0.5454545454545455 and parameters: {'n_estimators': 64, 'max_depth': 13, 'min_samples_split': 21, 'min_samples_leaf': 12, 'criterion': 'entropy'}. Best is trial 37 with value: 0.565587734241908.\u001b[0m\n",
      "\u001b[32m[I 2023-03-14 20:16:10,828]\u001b[0m Trial 49 finished with value: 0.545138888888889 and parameters: {'n_estimators': 45, 'max_depth': 15, 'min_samples_split': 18, 'min_samples_leaf': 8, 'criterion': 'entropy'}. Best is trial 37 with value: 0.565587734241908.\u001b[0m\n",
      "\u001b[32m[I 2023-03-14 20:16:10,968]\u001b[0m Trial 50 finished with value: 0.5371024734982331 and parameters: {'n_estimators': 33, 'max_depth': 10, 'min_samples_split': 16, 'min_samples_leaf': 14, 'criterion': 'entropy'}. Best is trial 37 with value: 0.565587734241908.\u001b[0m\n",
      "\u001b[32m[I 2023-03-14 20:16:11,243]\u001b[0m Trial 51 finished with value: 0.5641025641025641 and parameters: {'n_estimators': 60, 'max_depth': 17, 'min_samples_split': 13, 'min_samples_leaf': 5, 'criterion': 'entropy'}. Best is trial 37 with value: 0.565587734241908.\u001b[0m\n",
      "\u001b[32m[I 2023-03-14 20:16:11,505]\u001b[0m Trial 52 finished with value: 0.5544217687074829 and parameters: {'n_estimators': 56, 'max_depth': 19, 'min_samples_split': 15, 'min_samples_leaf': 4, 'criterion': 'entropy'}. Best is trial 37 with value: 0.565587734241908.\u001b[0m\n",
      "\u001b[32m[I 2023-03-14 20:16:11,790]\u001b[0m Trial 53 finished with value: 0.5591766723842196 and parameters: {'n_estimators': 62, 'max_depth': 14, 'min_samples_split': 16, 'min_samples_leaf': 5, 'criterion': 'entropy'}. Best is trial 37 with value: 0.565587734241908.\u001b[0m\n",
      "\u001b[32m[I 2023-03-14 20:16:12,006]\u001b[0m Trial 54 finished with value: 0.565587734241908 and parameters: {'n_estimators': 48, 'max_depth': 12, 'min_samples_split': 10, 'min_samples_leaf': 7, 'criterion': 'entropy'}. Best is trial 37 with value: 0.565587734241908.\u001b[0m\n",
      "\u001b[32m[I 2023-03-14 20:16:12,230]\u001b[0m Trial 55 finished with value: 0.5665529010238908 and parameters: {'n_estimators': 50, 'max_depth': 12, 'min_samples_split': 2, 'min_samples_leaf': 7, 'criterion': 'entropy'}. Best is trial 55 with value: 0.5665529010238908.\u001b[0m\n",
      "\u001b[32m[I 2023-03-14 20:16:12,451]\u001b[0m Trial 56 finished with value: 0.565587734241908 and parameters: {'n_estimators': 49, 'max_depth': 12, 'min_samples_split': 3, 'min_samples_leaf': 7, 'criterion': 'entropy'}. Best is trial 55 with value: 0.5665529010238908.\u001b[0m\n",
      "\u001b[32m[I 2023-03-14 20:16:12,673]\u001b[0m Trial 57 finished with value: 0.5495652173913043 and parameters: {'n_estimators': 50, 'max_depth': 11, 'min_samples_split': 3, 'min_samples_leaf': 7, 'criterion': 'entropy'}. Best is trial 55 with value: 0.5665529010238908.\u001b[0m\n",
      "\u001b[32m[I 2023-03-14 20:16:12,908]\u001b[0m Trial 58 finished with value: 0.5056179775280898 and parameters: {'n_estimators': 70, 'max_depth': 6, 'min_samples_split': 4, 'min_samples_leaf': 8, 'criterion': 'entropy'}. Best is trial 55 with value: 0.5665529010238908.\u001b[0m\n",
      "\u001b[32m[I 2023-03-14 20:16:13,079]\u001b[0m Trial 59 finished with value: 0.561525129982669 and parameters: {'n_estimators': 39, 'max_depth': 9, 'min_samples_split': 2, 'min_samples_leaf': 5, 'criterion': 'entropy'}. Best is trial 55 with value: 0.5665529010238908.\u001b[0m\n",
      "\u001b[32m[I 2023-03-14 20:16:13,433]\u001b[0m Trial 60 finished with value: 0.5347222222222222 and parameters: {'n_estimators': 83, 'max_depth': 11, 'min_samples_split': 5, 'min_samples_leaf': 7, 'criterion': 'entropy'}. Best is trial 55 with value: 0.5665529010238908.\u001b[0m\n",
      "\u001b[32m[I 2023-03-14 20:16:13,652]\u001b[0m Trial 61 finished with value: 0.557659208261618 and parameters: {'n_estimators': 47, 'max_depth': 12, 'min_samples_split': 2, 'min_samples_leaf': 5, 'criterion': 'entropy'}. Best is trial 55 with value: 0.5665529010238908.\u001b[0m\n"
     ]
    },
    {
     "name": "stderr",
     "output_type": "stream",
     "text": [
      "\u001b[32m[I 2023-03-14 20:16:13,938]\u001b[0m Trial 62 finished with value: 0.5401709401709401 and parameters: {'n_estimators': 59, 'max_depth': 13, 'min_samples_split': 10, 'min_samples_leaf': 2, 'criterion': 'entropy'}. Best is trial 55 with value: 0.5665529010238908.\u001b[0m\n",
      "\u001b[32m[I 2023-03-14 20:16:14,082]\u001b[0m Trial 63 finished with value: 0.5494880546075085 and parameters: {'n_estimators': 30, 'max_depth': 17, 'min_samples_split': 5, 'min_samples_leaf': 7, 'criterion': 'entropy'}. Best is trial 55 with value: 0.5665529010238908.\u001b[0m\n",
      "\u001b[32m[I 2023-03-14 20:16:14,269]\u001b[0m Trial 64 finished with value: 0.5612244897959183 and parameters: {'n_estimators': 38, 'max_depth': 15, 'min_samples_split': 12, 'min_samples_leaf': 4, 'criterion': 'entropy'}. Best is trial 55 with value: 0.5665529010238908.\u001b[0m\n",
      "\u001b[32m[I 2023-03-14 20:16:14,566]\u001b[0m Trial 65 finished with value: 0.5387323943661972 and parameters: {'n_estimators': 69, 'max_depth': 12, 'min_samples_split': 3, 'min_samples_leaf': 10, 'criterion': 'entropy'}. Best is trial 55 with value: 0.5665529010238908.\u001b[0m\n",
      "\u001b[32m[I 2023-03-14 20:16:14,692]\u001b[0m Trial 66 finished with value: 0.1897810218978102 and parameters: {'n_estimators': 51, 'max_depth': 3, 'min_samples_split': 9, 'min_samples_leaf': 8, 'criterion': 'entropy'}. Best is trial 55 with value: 0.5665529010238908.\u001b[0m\n",
      "\u001b[32m[I 2023-03-14 20:16:14,992]\u001b[0m Trial 67 finished with value: 0.5438898450946643 and parameters: {'n_estimators': 61, 'max_depth': 15, 'min_samples_split': 6, 'min_samples_leaf': 3, 'criterion': 'entropy'}. Best is trial 55 with value: 0.5665529010238908.\u001b[0m\n",
      "\u001b[32m[I 2023-03-14 20:16:15,305]\u001b[0m Trial 68 finished with value: 0.5425531914893618 and parameters: {'n_estimators': 77, 'max_depth': 9, 'min_samples_split': 12, 'min_samples_leaf': 5, 'criterion': 'entropy'}. Best is trial 55 with value: 0.5665529010238908.\u001b[0m\n",
      "\u001b[32m[I 2023-03-14 20:16:15,503]\u001b[0m Trial 69 finished with value: 0.5621805792163543 and parameters: {'n_estimators': 42, 'max_depth': 13, 'min_samples_split': 14, 'min_samples_leaf': 6, 'criterion': 'entropy'}. Best is trial 55 with value: 0.5665529010238908.\u001b[0m\n",
      "\u001b[32m[I 2023-03-14 20:16:15,700]\u001b[0m Trial 70 finished with value: 0.5621805792163543 and parameters: {'n_estimators': 42, 'max_depth': 13, 'min_samples_split': 14, 'min_samples_leaf': 6, 'criterion': 'entropy'}. Best is trial 55 with value: 0.5665529010238908.\u001b[0m\n",
      "\u001b[32m[I 2023-03-14 20:16:15,898]\u001b[0m Trial 71 finished with value: 0.5621805792163543 and parameters: {'n_estimators': 42, 'max_depth': 13, 'min_samples_split': 14, 'min_samples_leaf': 6, 'criterion': 'entropy'}. Best is trial 55 with value: 0.5665529010238908.\u001b[0m\n",
      "\u001b[32m[I 2023-03-14 20:16:16,035]\u001b[0m Trial 72 finished with value: 0.5606837606837606 and parameters: {'n_estimators': 28, 'max_depth': 16, 'min_samples_split': 11, 'min_samples_leaf': 8, 'criterion': 'entropy'}. Best is trial 55 with value: 0.5665529010238908.\u001b[0m\n",
      "\u001b[32m[I 2023-03-14 20:16:16,235]\u001b[0m Trial 73 finished with value: 0.5340314136125655 and parameters: {'n_estimators': 46, 'max_depth': 10, 'min_samples_split': 13, 'min_samples_leaf': 9, 'criterion': 'entropy'}. Best is trial 55 with value: 0.5665529010238908.\u001b[0m\n",
      "\u001b[32m[I 2023-03-14 20:16:16,474]\u001b[0m Trial 74 finished with value: 0.5354058721934369 and parameters: {'n_estimators': 54, 'max_depth': 11, 'min_samples_split': 17, 'min_samples_leaf': 7, 'criterion': 'entropy'}. Best is trial 55 with value: 0.5665529010238908.\u001b[0m\n",
      "\u001b[32m[I 2023-03-14 20:16:16,656]\u001b[0m Trial 75 finished with value: 0.5612244897959183 and parameters: {'n_estimators': 38, 'max_depth': 13, 'min_samples_split': 14, 'min_samples_leaf': 5, 'criterion': 'entropy'}. Best is trial 55 with value: 0.5665529010238908.\u001b[0m\n",
      "\u001b[32m[I 2023-03-14 20:16:16,831]\u001b[0m Trial 76 finished with value: 0.5373665480427046 and parameters: {'n_estimators': 42, 'max_depth': 8, 'min_samples_split': 9, 'min_samples_leaf': 6, 'criterion': 'entropy'}. Best is trial 55 with value: 0.5665529010238908.\u001b[0m\n",
      "\u001b[32m[I 2023-03-14 20:16:17,053]\u001b[0m Trial 77 finished with value: 0.541958041958042 and parameters: {'n_estimators': 50, 'max_depth': 12, 'min_samples_split': 10, 'min_samples_leaf': 11, 'criterion': 'entropy'}. Best is trial 55 with value: 0.5665529010238908.\u001b[0m\n",
      "\u001b[32m[I 2023-03-14 20:16:17,177]\u001b[0m Trial 78 finished with value: 0.5482233502538071 and parameters: {'n_estimators': 23, 'max_depth': 16, 'min_samples_split': 19, 'min_samples_leaf': 4, 'criterion': 'entropy'}. Best is trial 55 with value: 0.5665529010238908.\u001b[0m\n",
      "\u001b[32m[I 2023-03-14 20:16:17,339]\u001b[0m Trial 79 finished with value: 0.5587734241908007 and parameters: {'n_estimators': 32, 'max_depth': 18, 'min_samples_split': 3, 'min_samples_leaf': 6, 'criterion': 'entropy'}. Best is trial 55 with value: 0.5665529010238908.\u001b[0m\n",
      "\u001b[32m[I 2023-03-14 20:16:17,601]\u001b[0m Trial 80 finished with value: 0.5495652173913043 and parameters: {'n_estimators': 58, 'max_depth': 15, 'min_samples_split': 7, 'min_samples_leaf': 9, 'criterion': 'entropy'}. Best is trial 55 with value: 0.5665529010238908.\u001b[0m\n",
      "\u001b[32m[I 2023-03-14 20:16:17,769]\u001b[0m Trial 81 finished with value: 0.5268817204301075 and parameters: {'n_estimators': 42, 'max_depth': 13, 'min_samples_split': 14, 'min_samples_leaf': 26, 'criterion': 'entropy'}. Best is trial 55 with value: 0.5665529010238908.\u001b[0m\n",
      "\u001b[32m[I 2023-03-14 20:16:17,984]\u001b[0m Trial 82 finished with value: 0.5526770293609672 and parameters: {'n_estimators': 45, 'max_depth': 14, 'min_samples_split': 15, 'min_samples_leaf': 6, 'criterion': 'entropy'}. Best is trial 55 with value: 0.5665529010238908.\u001b[0m\n",
      "\u001b[32m[I 2023-03-14 20:16:18,228]\u001b[0m Trial 83 finished with value: 0.565587734241908 and parameters: {'n_estimators': 53, 'max_depth': 12, 'min_samples_split': 12, 'min_samples_leaf': 7, 'criterion': 'entropy'}. Best is trial 55 with value: 0.5665529010238908.\u001b[0m\n",
      "\u001b[32m[I 2023-03-14 20:16:18,474]\u001b[0m Trial 84 finished with value: 0.541958041958042 and parameters: {'n_estimators': 53, 'max_depth': 12, 'min_samples_split': 12, 'min_samples_leaf': 8, 'criterion': 'entropy'}. Best is trial 55 with value: 0.5665529010238908.\u001b[0m\n",
      "\u001b[32m[I 2023-03-14 20:16:18,694]\u001b[0m Trial 85 finished with value: 0.5564924114671163 and parameters: {'n_estimators': 48, 'max_depth': 14, 'min_samples_split': 13, 'min_samples_leaf': 7, 'criterion': 'entropy'}. Best is trial 55 with value: 0.5665529010238908.\u001b[0m\n",
      "\u001b[32m[I 2023-03-14 20:16:18,968]\u001b[0m Trial 86 finished with value: 0.5489510489510488 and parameters: {'n_estimators': 66, 'max_depth': 10, 'min_samples_split': 11, 'min_samples_leaf': 10, 'criterion': 'entropy'}. Best is trial 55 with value: 0.5665529010238908.\u001b[0m\n",
      "\u001b[32m[I 2023-03-14 20:16:19,225]\u001b[0m Trial 87 finished with value: 0.5714285714285714 and parameters: {'n_estimators': 56, 'max_depth': 11, 'min_samples_split': 17, 'min_samples_leaf': 2, 'criterion': 'entropy'}. Best is trial 87 with value: 0.5714285714285714.\u001b[0m\n",
      "\u001b[32m[I 2023-03-14 20:16:19,511]\u001b[0m Trial 88 finished with value: 0.5738539898132428 and parameters: {'n_estimators': 63, 'max_depth': 11, 'min_samples_split': 17, 'min_samples_leaf': 2, 'criterion': 'entropy'}. Best is trial 88 with value: 0.5738539898132428.\u001b[0m\n",
      "\u001b[32m[I 2023-03-14 20:16:19,798]\u001b[0m Trial 89 finished with value: 0.5665529010238908 and parameters: {'n_estimators': 63, 'max_depth': 11, 'min_samples_split': 19, 'min_samples_leaf': 2, 'criterion': 'entropy'}. Best is trial 88 with value: 0.5738539898132428.\u001b[0m\n",
      "\u001b[32m[I 2023-03-14 20:16:20,086]\u001b[0m Trial 90 finished with value: 0.5665529010238908 and parameters: {'n_estimators': 63, 'max_depth': 11, 'min_samples_split': 19, 'min_samples_leaf': 2, 'criterion': 'entropy'}. Best is trial 88 with value: 0.5738539898132428.\u001b[0m\n",
      "\u001b[32m[I 2023-03-14 20:16:20,420]\u001b[0m Trial 91 finished with value: 0.5684931506849314 and parameters: {'n_estimators': 73, 'max_depth': 11, 'min_samples_split': 19, 'min_samples_leaf': 2, 'criterion': 'entropy'}. Best is trial 88 with value: 0.5738539898132428.\u001b[0m\n",
      "\u001b[32m[I 2023-03-14 20:16:20,681]\u001b[0m Trial 92 finished with value: 0.5578947368421052 and parameters: {'n_estimators': 66, 'max_depth': 8, 'min_samples_split': 19, 'min_samples_leaf': 1, 'criterion': 'entropy'}. Best is trial 88 with value: 0.5738539898132428.\u001b[0m\n"
     ]
    },
    {
     "name": "stderr",
     "output_type": "stream",
     "text": [
      "\u001b[32m[I 2023-03-14 20:16:21,012]\u001b[0m Trial 93 finished with value: 0.5532646048109966 and parameters: {'n_estimators': 73, 'max_depth': 11, 'min_samples_split': 18, 'min_samples_leaf': 2, 'criterion': 'entropy'}. Best is trial 88 with value: 0.5738539898132428.\u001b[0m\n",
      "\u001b[32m[I 2023-03-14 20:16:21,274]\u001b[0m Trial 94 finished with value: 0.5403508771929826 and parameters: {'n_estimators': 63, 'max_depth': 9, 'min_samples_split': 21, 'min_samples_leaf': 1, 'criterion': 'entropy'}. Best is trial 88 with value: 0.5738539898132428.\u001b[0m\n",
      "\u001b[32m[I 2023-03-14 20:16:21,521]\u001b[0m Trial 95 finished with value: 0.5530434782608695 and parameters: {'n_estimators': 56, 'max_depth': 10, 'min_samples_split': 17, 'min_samples_leaf': 2, 'criterion': 'entropy'}. Best is trial 88 with value: 0.5738539898132428.\u001b[0m\n",
      "\u001b[32m[I 2023-03-14 20:16:21,887]\u001b[0m Trial 96 finished with value: 0.5547945205479452 and parameters: {'n_estimators': 83, 'max_depth': 11, 'min_samples_split': 20, 'min_samples_leaf': 3, 'criterion': 'entropy'}. Best is trial 88 with value: 0.5738539898132428.\u001b[0m\n",
      "\u001b[32m[I 2023-03-14 20:16:22,151]\u001b[0m Trial 97 finished with value: 0.5574324324324325 and parameters: {'n_estimators': 57, 'max_depth': 12, 'min_samples_split': 21, 'min_samples_leaf': 2, 'criterion': 'entropy'}. Best is trial 88 with value: 0.5738539898132428.\u001b[0m\n",
      "\u001b[32m[I 2023-03-14 20:16:22,455]\u001b[0m Trial 98 finished with value: 0.5476603119584055 and parameters: {'n_estimators': 69, 'max_depth': 10, 'min_samples_split': 18, 'min_samples_leaf': 3, 'criterion': 'entropy'}. Best is trial 88 with value: 0.5738539898132428.\u001b[0m\n",
      "\u001b[32m[I 2023-03-14 20:16:22,757]\u001b[0m Trial 99 finished with value: 0.555360281195079 and parameters: {'n_estimators': 78, 'max_depth': 8, 'min_samples_split': 19, 'min_samples_leaf': 1, 'criterion': 'entropy'}. Best is trial 88 with value: 0.5738539898132428.\u001b[0m\n",
      "\u001b[32m[I 2023-03-14 20:16:23,048]\u001b[0m Trial 100 finished with value: 0.5526770293609672 and parameters: {'n_estimators': 66, 'max_depth': 11, 'min_samples_split': 17, 'min_samples_leaf': 4, 'criterion': 'entropy'}. Best is trial 88 with value: 0.5738539898132428.\u001b[0m\n",
      "\u001b[32m[I 2023-03-14 20:16:23,325]\u001b[0m Trial 101 finished with value: 0.5570934256055363 and parameters: {'n_estimators': 62, 'max_depth': 11, 'min_samples_split': 16, 'min_samples_leaf': 4, 'criterion': 'entropy'}. Best is trial 88 with value: 0.5738539898132428.\u001b[0m\n",
      "\u001b[32m[I 2023-03-14 20:16:23,601]\u001b[0m Trial 102 finished with value: 0.5531197301854975 and parameters: {'n_estimators': 59, 'max_depth': 12, 'min_samples_split': 19, 'min_samples_leaf': 2, 'criterion': 'entropy'}. Best is trial 88 with value: 0.5738539898132428.\u001b[0m\n",
      "\u001b[32m[I 2023-03-14 20:16:23,904]\u001b[0m Trial 103 finished with value: 0.5549738219895287 and parameters: {'n_estimators': 73, 'max_depth': 9, 'min_samples_split': 20, 'min_samples_leaf': 2, 'criterion': 'entropy'}. Best is trial 88 with value: 0.5738539898132428.\u001b[0m\n",
      "\u001b[32m[I 2023-03-14 20:16:24,178]\u001b[0m Trial 104 finished with value: 0.5572649572649573 and parameters: {'n_estimators': 60, 'max_depth': 12, 'min_samples_split': 18, 'min_samples_leaf': 3, 'criterion': 'entropy'}. Best is trial 88 with value: 0.5738539898132428.\u001b[0m\n",
      "\u001b[32m[I 2023-03-14 20:16:24,401]\u001b[0m Trial 105 finished with value: 0.5523156089193826 and parameters: {'n_estimators': 51, 'max_depth': 10, 'min_samples_split': 17, 'min_samples_leaf': 4, 'criterion': 'entropy'}. Best is trial 88 with value: 0.5738539898132428.\u001b[0m\n",
      "\u001b[32m[I 2023-03-14 20:16:24,608]\u001b[0m Trial 106 finished with value: 0.5355191256830601 and parameters: {'n_estimators': 55, 'max_depth': 7, 'min_samples_split': 16, 'min_samples_leaf': 5, 'criterion': 'entropy'}. Best is trial 88 with value: 0.5738539898132428.\u001b[0m\n",
      "\u001b[32m[I 2023-03-14 20:16:24,994]\u001b[0m Trial 107 finished with value: 0.5595854922279794 and parameters: {'n_estimators': 87, 'max_depth': 11, 'min_samples_split': 23, 'min_samples_leaf': 1, 'criterion': 'entropy'}. Best is trial 88 with value: 0.5738539898132428.\u001b[0m\n",
      "\u001b[32m[I 2023-03-14 20:16:25,295]\u001b[0m Trial 108 finished with value: 0.5532646048109966 and parameters: {'n_estimators': 63, 'max_depth': 12, 'min_samples_split': 5, 'min_samples_leaf': 3, 'criterion': 'entropy'}. Best is trial 88 with value: 0.5738539898132428.\u001b[0m\n",
      "\u001b[32m[I 2023-03-14 20:16:25,556]\u001b[0m Trial 109 finished with value: 0.5405405405405405 and parameters: {'n_estimators': 68, 'max_depth': 10, 'min_samples_split': 2, 'min_samples_leaf': 21, 'criterion': 'entropy'}. Best is trial 88 with value: 0.5738539898132428.\u001b[0m\n",
      "\u001b[32m[I 2023-03-14 20:16:25,769]\u001b[0m Trial 110 finished with value: 0.5445026178010471 and parameters: {'n_estimators': 49, 'max_depth': 9, 'min_samples_split': 4, 'min_samples_leaf': 2, 'criterion': 'entropy'}. Best is trial 88 with value: 0.5738539898132428.\u001b[0m\n",
      "\u001b[32m[I 2023-03-14 20:16:26,021]\u001b[0m Trial 111 finished with value: 0.538860103626943 and parameters: {'n_estimators': 54, 'max_depth': 14, 'min_samples_split': 15, 'min_samples_leaf': 5, 'criterion': 'entropy'}. Best is trial 88 with value: 0.5738539898132428.\u001b[0m\n",
      "\u001b[32m[I 2023-03-14 20:16:26,280]\u001b[0m Trial 112 finished with value: 0.5501730103806228 and parameters: {'n_estimators': 57, 'max_depth': 28, 'min_samples_split': 25, 'min_samples_leaf': 4, 'criterion': 'entropy'}. Best is trial 88 with value: 0.5738539898132428.\u001b[0m\n",
      "\u001b[32m[I 2023-03-14 20:16:26,514]\u001b[0m Trial 113 finished with value: 0.549828178694158 and parameters: {'n_estimators': 52, 'max_depth': 17, 'min_samples_split': 29, 'min_samples_leaf': 7, 'criterion': 'entropy'}. Best is trial 88 with value: 0.5738539898132428.\u001b[0m\n",
      "\u001b[32m[I 2023-03-14 20:16:26,711]\u001b[0m Trial 114 finished with value: 0.5365853658536586 and parameters: {'n_estimators': 46, 'max_depth': 13, 'min_samples_split': 21, 'min_samples_leaf': 13, 'criterion': 'entropy'}. Best is trial 88 with value: 0.5738539898132428.\u001b[0m\n",
      "\u001b[32m[I 2023-03-14 20:16:26,993]\u001b[0m Trial 115 finished with value: 0.5538461538461538 and parameters: {'n_estimators': 61, 'max_depth': 15, 'min_samples_split': 20, 'min_samples_leaf': 3, 'criterion': 'entropy'}. Best is trial 88 with value: 0.5738539898132428.\u001b[0m\n",
      "\u001b[32m[I 2023-03-14 20:16:27,336]\u001b[0m Trial 116 finished with value: 0.5476603119584055 and parameters: {'n_estimators': 71, 'max_depth': 13, 'min_samples_split': 16, 'min_samples_leaf': 1, 'criterion': 'entropy'}. Best is trial 88 with value: 0.5738539898132428.\u001b[0m\n",
      "\u001b[32m[I 2023-03-14 20:16:27,550]\u001b[0m Trial 117 finished with value: 0.5460992907801419 and parameters: {'n_estimators': 53, 'max_depth': 14, 'min_samples_split': 19, 'min_samples_leaf': 19, 'criterion': 'entropy'}. Best is trial 88 with value: 0.5738539898132428.\u001b[0m\n",
      "\u001b[32m[I 2023-03-14 20:16:27,849]\u001b[0m Trial 118 finished with value: 0.5572649572649573 and parameters: {'n_estimators': 65, 'max_depth': 12, 'min_samples_split': 3, 'min_samples_leaf': 5, 'criterion': 'entropy'}. Best is trial 88 with value: 0.5738539898132428.\u001b[0m\n",
      "\u001b[32m[I 2023-03-14 20:16:28,067]\u001b[0m Trial 119 finished with value: 0.5435540069686411 and parameters: {'n_estimators': 49, 'max_depth': 11, 'min_samples_split': 8, 'min_samples_leaf': 9, 'criterion': 'entropy'}. Best is trial 88 with value: 0.5738539898132428.\u001b[0m\n",
      "\u001b[32m[I 2023-03-14 20:16:28,329]\u001b[0m Trial 120 finished with value: 0.5476603119584055 and parameters: {'n_estimators': 57, 'max_depth': 19, 'min_samples_split': 10, 'min_samples_leaf': 8, 'criterion': 'entropy'}. Best is trial 88 with value: 0.5738539898132428.\u001b[0m\n",
      "\u001b[32m[I 2023-03-14 20:16:28,507]\u001b[0m Trial 121 finished with value: 0.5532646048109966 and parameters: {'n_estimators': 36, 'max_depth': 14, 'min_samples_split': 15, 'min_samples_leaf': 6, 'criterion': 'entropy'}. Best is trial 88 with value: 0.5738539898132428.\u001b[0m\n",
      "\u001b[32m[I 2023-03-14 20:16:28,724]\u001b[0m Trial 122 finished with value: 0.5532646048109966 and parameters: {'n_estimators': 44, 'max_depth': 13, 'min_samples_split': 13, 'min_samples_leaf': 4, 'criterion': 'entropy'}. Best is trial 88 with value: 0.5738539898132428.\u001b[0m\n",
      "\u001b[32m[I 2023-03-14 20:16:28,911]\u001b[0m Trial 123 finished with value: 0.5099457504520797 and parameters: {'n_estimators': 48, 'max_depth': 13, 'min_samples_split': 12, 'min_samples_leaf': 30, 'criterion': 'entropy'}. Best is trial 88 with value: 0.5738539898132428.\u001b[0m\n"
     ]
    },
    {
     "name": "stderr",
     "output_type": "stream",
     "text": [
      "\u001b[32m[I 2023-03-14 20:16:29,140]\u001b[0m Trial 124 finished with value: 0.5567010309278351 and parameters: {'n_estimators': 51, 'max_depth': 12, 'min_samples_split': 17, 'min_samples_leaf': 7, 'criterion': 'entropy'}. Best is trial 88 with value: 0.5738539898132428.\u001b[0m\n",
      "\u001b[32m[I 2023-03-14 20:16:29,332]\u001b[0m Trial 125 finished with value: 0.5486111111111112 and parameters: {'n_estimators': 40, 'max_depth': 11, 'min_samples_split': 11, 'min_samples_leaf': 3, 'criterion': 'entropy'}. Best is trial 88 with value: 0.5738539898132428.\u001b[0m\n",
      "\u001b[32m[I 2023-03-14 20:16:29,609]\u001b[0m Trial 126 finished with value: 0.549828178694158 and parameters: {'n_estimators': 60, 'max_depth': 15, 'min_samples_split': 18, 'min_samples_leaf': 5, 'criterion': 'entropy'}. Best is trial 88 with value: 0.5738539898132428.\u001b[0m\n",
      "\u001b[32m[I 2023-03-14 20:16:29,819]\u001b[0m Trial 127 finished with value: 0.5526770293609672 and parameters: {'n_estimators': 44, 'max_depth': 14, 'min_samples_split': 15, 'min_samples_leaf': 6, 'criterion': 'entropy'}. Best is trial 88 with value: 0.5738539898132428.\u001b[0m\n",
      "\u001b[32m[I 2023-03-14 20:16:30,014]\u001b[0m Trial 128 finished with value: 0.545138888888889 and parameters: {'n_estimators': 47, 'max_depth': 10, 'min_samples_split': 13, 'min_samples_leaf': 15, 'criterion': 'entropy'}. Best is trial 88 with value: 0.5738539898132428.\u001b[0m\n",
      "\u001b[32m[I 2023-03-14 20:16:30,275]\u001b[0m Trial 129 finished with value: 0.5268630849220104 and parameters: {'n_estimators': 55, 'max_depth': 12, 'min_samples_split': 14, 'min_samples_leaf': 2, 'criterion': 'entropy'}. Best is trial 88 with value: 0.5738539898132428.\u001b[0m\n",
      "\u001b[32m[I 2023-03-14 20:16:30,628]\u001b[0m Trial 130 finished with value: 0.5395189003436426 and parameters: {'n_estimators': 80, 'max_depth': 17, 'min_samples_split': 16, 'min_samples_leaf': 7, 'criterion': 'entropy'}. Best is trial 88 with value: 0.5738539898132428.\u001b[0m\n",
      "\u001b[32m[I 2023-03-14 20:16:30,825]\u001b[0m Trial 131 finished with value: 0.545768566493955 and parameters: {'n_estimators': 41, 'max_depth': 13, 'min_samples_split': 14, 'min_samples_leaf': 8, 'criterion': 'entropy'}. Best is trial 88 with value: 0.5738539898132428.\u001b[0m\n",
      "\u001b[32m[I 2023-03-14 20:16:31,073]\u001b[0m Trial 132 finished with value: 0.540447504302926 and parameters: {'n_estimators': 51, 'max_depth': 16, 'min_samples_split': 12, 'min_samples_leaf': 6, 'criterion': 'entropy'}. Best is trial 88 with value: 0.5738539898132428.\u001b[0m\n",
      "\u001b[32m[I 2023-03-14 20:16:31,251]\u001b[0m Trial 133 finished with value: 0.5641891891891893 and parameters: {'n_estimators': 36, 'max_depth': 13, 'min_samples_split': 14, 'min_samples_leaf': 5, 'criterion': 'entropy'}. Best is trial 88 with value: 0.5738539898132428.\u001b[0m\n",
      "\u001b[32m[I 2023-03-14 20:16:31,534]\u001b[0m Trial 134 finished with value: 0.5492227979274611 and parameters: {'n_estimators': 63, 'max_depth': 11, 'min_samples_split': 18, 'min_samples_leaf': 4, 'criterion': 'entropy'}. Best is trial 88 with value: 0.5738539898132428.\u001b[0m\n",
      "\u001b[32m[I 2023-03-14 20:16:31,817]\u001b[0m Trial 135 finished with value: 0.5485519591141397 and parameters: {'n_estimators': 58, 'max_depth': 13, 'min_samples_split': 14, 'min_samples_leaf': 2, 'criterion': 'entropy'}. Best is trial 88 with value: 0.5738539898132428.\u001b[0m\n",
      "\u001b[32m[I 2023-03-14 20:16:31,991]\u001b[0m Trial 136 finished with value: 0.5523156089193826 and parameters: {'n_estimators': 36, 'max_depth': 11, 'min_samples_split': 11, 'min_samples_leaf': 5, 'criterion': 'entropy'}. Best is trial 88 with value: 0.5738539898132428.\u001b[0m\n",
      "\u001b[32m[I 2023-03-14 20:16:32,325]\u001b[0m Trial 137 finished with value: 0.557659208261618 and parameters: {'n_estimators': 74, 'max_depth': 12, 'min_samples_split': 30, 'min_samples_leaf': 3, 'criterion': 'entropy'}. Best is trial 88 with value: 0.5738539898132428.\u001b[0m\n",
      "\u001b[32m[I 2023-03-14 20:16:32,533]\u001b[0m Trial 138 finished with value: 0.5570934256055363 and parameters: {'n_estimators': 45, 'max_depth': 10, 'min_samples_split': 16, 'min_samples_leaf': 1, 'criterion': 'entropy'}. Best is trial 88 with value: 0.5738539898132428.\u001b[0m\n",
      "\u001b[32m[I 2023-03-14 20:16:32,775]\u001b[0m Trial 139 finished with value: 0.5501730103806228 and parameters: {'n_estimators': 53, 'max_depth': 15, 'min_samples_split': 2, 'min_samples_leaf': 9, 'criterion': 'entropy'}. Best is trial 88 with value: 0.5738539898132428.\u001b[0m\n",
      "\u001b[32m[I 2023-03-14 20:16:32,931]\u001b[0m Trial 140 finished with value: 0.5551724137931034 and parameters: {'n_estimators': 31, 'max_depth': 13, 'min_samples_split': 13, 'min_samples_leaf': 7, 'criterion': 'entropy'}. Best is trial 88 with value: 0.5738539898132428.\u001b[0m\n",
      "\u001b[32m[I 2023-03-14 20:16:33,124]\u001b[0m Trial 141 finished with value: 0.548885077186964 and parameters: {'n_estimators': 40, 'max_depth': 12, 'min_samples_split': 15, 'min_samples_leaf': 6, 'criterion': 'entropy'}. Best is trial 88 with value: 0.5738539898132428.\u001b[0m\n",
      "\u001b[32m[I 2023-03-14 20:16:33,440]\u001b[0m Trial 142 finished with value: 0.5413793103448277 and parameters: {'n_estimators': 68, 'max_depth': 11, 'min_samples_split': 12, 'min_samples_leaf': 5, 'criterion': 'entropy'}. Best is trial 88 with value: 0.5738539898132428.\u001b[0m\n",
      "\u001b[32m[I 2023-03-14 20:16:33,617]\u001b[0m Trial 143 finished with value: 0.549828178694158 and parameters: {'n_estimators': 35, 'max_depth': 13, 'min_samples_split': 13, 'min_samples_leaf': 8, 'criterion': 'entropy'}. Best is trial 88 with value: 0.5738539898132428.\u001b[0m\n",
      "\u001b[32m[I 2023-03-14 20:16:33,844]\u001b[0m Trial 144 finished with value: 0.549828178694158 and parameters: {'n_estimators': 48, 'max_depth': 14, 'min_samples_split': 14, 'min_samples_leaf': 6, 'criterion': 'entropy'}. Best is trial 88 with value: 0.5738539898132428.\u001b[0m\n",
      "\u001b[32m[I 2023-03-14 20:16:34,114]\u001b[0m Trial 145 finished with value: 0.5479452054794521 and parameters: {'n_estimators': 56, 'max_depth': 16, 'min_samples_split': 15, 'min_samples_leaf': 4, 'criterion': 'entropy'}. Best is trial 88 with value: 0.5738539898132428.\u001b[0m\n",
      "\u001b[32m[I 2023-03-14 20:16:34,366]\u001b[0m Trial 146 finished with value: 0.5426621160409556 and parameters: {'n_estimators': 60, 'max_depth': 13, 'min_samples_split': 17, 'min_samples_leaf': 3, 'criterion': 'gini'}. Best is trial 88 with value: 0.5738539898132428.\u001b[0m\n",
      "\u001b[32m[I 2023-03-14 20:16:34,574]\u001b[0m Trial 147 finished with value: 0.5606837606837606 and parameters: {'n_estimators': 43, 'max_depth': 12, 'min_samples_split': 4, 'min_samples_leaf': 7, 'criterion': 'entropy'}. Best is trial 88 with value: 0.5738539898132428.\u001b[0m\n",
      "\u001b[32m[I 2023-03-14 20:16:34,797]\u001b[0m Trial 148 finished with value: 0.5620689655172414 and parameters: {'n_estimators': 51, 'max_depth': 10, 'min_samples_split': 26, 'min_samples_leaf': 5, 'criterion': 'entropy'}. Best is trial 88 with value: 0.5738539898132428.\u001b[0m\n",
      "\u001b[32m[I 2023-03-14 20:16:35,088]\u001b[0m Trial 149 finished with value: 0.5526770293609672 and parameters: {'n_estimators': 64, 'max_depth': 11, 'min_samples_split': 23, 'min_samples_leaf': 1, 'criterion': 'entropy'}. Best is trial 88 with value: 0.5738539898132428.\u001b[0m\n",
      "\u001b[32m[I 2023-03-14 20:16:35,443]\u001b[0m Trial 150 finished with value: 0.5274336283185842 and parameters: {'n_estimators': 94, 'max_depth': 14, 'min_samples_split': 7, 'min_samples_leaf': 23, 'criterion': 'entropy'}. Best is trial 88 with value: 0.5738539898132428.\u001b[0m\n",
      "\u001b[32m[I 2023-03-14 20:16:35,536]\u001b[0m Trial 151 finished with value: 0.11675126903553298 and parameters: {'n_estimators': 38, 'max_depth': 2, 'min_samples_split': 14, 'min_samples_leaf': 6, 'criterion': 'entropy'}. Best is trial 88 with value: 0.5738539898132428.\u001b[0m\n",
      "\u001b[32m[I 2023-03-14 20:16:35,752]\u001b[0m Trial 152 finished with value: 0.5630397236614852 and parameters: {'n_estimators': 46, 'max_depth': 12, 'min_samples_split': 19, 'min_samples_leaf': 7, 'criterion': 'entropy'}. Best is trial 88 with value: 0.5738539898132428.\u001b[0m\n",
      "\u001b[32m[I 2023-03-14 20:16:35,961]\u001b[0m Trial 153 finished with value: 0.557659208261618 and parameters: {'n_estimators': 46, 'max_depth': 12, 'min_samples_split': 19, 'min_samples_leaf': 9, 'criterion': 'entropy'}. Best is trial 88 with value: 0.5738539898132428.\u001b[0m\n",
      "\u001b[32m[I 2023-03-14 20:16:36,101]\u001b[0m Trial 154 finished with value: 0.555366269165247 and parameters: {'n_estimators': 28, 'max_depth': 24, 'min_samples_split': 19, 'min_samples_leaf': 8, 'criterion': 'entropy'}. Best is trial 88 with value: 0.5738539898132428.\u001b[0m\n"
     ]
    },
    {
     "name": "stderr",
     "output_type": "stream",
     "text": [
      "\u001b[32m[I 2023-03-14 20:16:36,325]\u001b[0m Trial 155 finished with value: 0.5418894830659536 and parameters: {'n_estimators': 54, 'max_depth': 12, 'min_samples_split': 20, 'min_samples_leaf': 17, 'criterion': 'entropy'}. Best is trial 88 with value: 0.5738539898132428.\u001b[0m\n",
      "\u001b[32m[I 2023-03-14 20:16:36,555]\u001b[0m Trial 156 finished with value: 0.5517241379310345 and parameters: {'n_estimators': 49, 'max_depth': 13, 'min_samples_split': 18, 'min_samples_leaf': 7, 'criterion': 'entropy'}. Best is trial 88 with value: 0.5738539898132428.\u001b[0m\n",
      "\u001b[32m[I 2023-03-14 20:16:36,753]\u001b[0m Trial 157 finished with value: 0.5544217687074829 and parameters: {'n_estimators': 42, 'max_depth': 11, 'min_samples_split': 22, 'min_samples_leaf': 2, 'criterion': 'entropy'}. Best is trial 88 with value: 0.5738539898132428.\u001b[0m\n",
      "\u001b[32m[I 2023-03-14 20:16:37,021]\u001b[0m Trial 158 finished with value: 0.5559322033898305 and parameters: {'n_estimators': 58, 'max_depth': 12, 'min_samples_split': 16, 'min_samples_leaf': 4, 'criterion': 'entropy'}. Best is trial 88 with value: 0.5738539898132428.\u001b[0m\n",
      "\u001b[32m[I 2023-03-14 20:16:37,238]\u001b[0m Trial 159 finished with value: 0.5476603119584055 and parameters: {'n_estimators': 46, 'max_depth': 15, 'min_samples_split': 17, 'min_samples_leaf': 7, 'criterion': 'entropy'}. Best is trial 88 with value: 0.5738539898132428.\u001b[0m\n",
      "\u001b[32m[I 2023-03-14 20:16:37,472]\u001b[0m Trial 160 finished with value: 0.5530434782608695 and parameters: {'n_estimators': 54, 'max_depth': 9, 'min_samples_split': 3, 'min_samples_leaf': 5, 'criterion': 'entropy'}. Best is trial 88 with value: 0.5738539898132428.\u001b[0m\n",
      "\u001b[32m[I 2023-03-14 20:16:37,671]\u001b[0m Trial 161 finished with value: 0.5448392554991539 and parameters: {'n_estimators': 41, 'max_depth': 13, 'min_samples_split': 13, 'min_samples_leaf': 6, 'criterion': 'entropy'}. Best is trial 88 with value: 0.5738539898132428.\u001b[0m\n",
      "\u001b[32m[I 2023-03-14 20:16:37,884]\u001b[0m Trial 162 finished with value: 0.547008547008547 and parameters: {'n_estimators': 44, 'max_depth': 14, 'min_samples_split': 14, 'min_samples_leaf': 6, 'criterion': 'entropy'}. Best is trial 88 with value: 0.5738539898132428.\u001b[0m\n",
      "\u001b[32m[I 2023-03-14 20:16:38,054]\u001b[0m Trial 163 finished with value: 0.5545927209705372 and parameters: {'n_estimators': 37, 'max_depth': 12, 'min_samples_split': 15, 'min_samples_leaf': 12, 'criterion': 'entropy'}. Best is trial 88 with value: 0.5738539898132428.\u001b[0m\n",
      "\u001b[32m[I 2023-03-14 20:16:38,283]\u001b[0m Trial 164 finished with value: 0.5495652173913043 and parameters: {'n_estimators': 50, 'max_depth': 11, 'min_samples_split': 12, 'min_samples_leaf': 7, 'criterion': 'entropy'}. Best is trial 88 with value: 0.5738539898132428.\u001b[0m\n",
      "\u001b[32m[I 2023-03-14 20:16:38,450]\u001b[0m Trial 165 finished with value: 0.5583756345177666 and parameters: {'n_estimators': 34, 'max_depth': 13, 'min_samples_split': 14, 'min_samples_leaf': 6, 'criterion': 'entropy'}. Best is trial 88 with value: 0.5738539898132428.\u001b[0m\n",
      "\u001b[32m[I 2023-03-14 20:16:38,665]\u001b[0m Trial 166 finished with value: 0.5356521739130435 and parameters: {'n_estimators': 48, 'max_depth': 10, 'min_samples_split': 18, 'min_samples_leaf': 8, 'criterion': 'entropy'}. Best is trial 88 with value: 0.5738539898132428.\u001b[0m\n",
      "\u001b[32m[I 2023-03-14 20:16:38,933]\u001b[0m Trial 167 finished with value: 0.5445026178010471 and parameters: {'n_estimators': 61, 'max_depth': 13, 'min_samples_split': 20, 'min_samples_leaf': 10, 'criterion': 'entropy'}. Best is trial 88 with value: 0.5738539898132428.\u001b[0m\n",
      "\u001b[32m[I 2023-03-14 20:16:39,148]\u001b[0m Trial 168 finished with value: 0.545768566493955 and parameters: {'n_estimators': 52, 'max_depth': 12, 'min_samples_split': 9, 'min_samples_leaf': 3, 'criterion': 'gini'}. Best is trial 88 with value: 0.5738539898132428.\u001b[0m\n",
      "\u001b[32m[I 2023-03-14 20:16:39,342]\u001b[0m Trial 169 finished with value: 0.5586206896551724 and parameters: {'n_estimators': 40, 'max_depth': 11, 'min_samples_split': 13, 'min_samples_leaf': 5, 'criterion': 'entropy'}. Best is trial 88 with value: 0.5738539898132428.\u001b[0m\n",
      "\u001b[32m[I 2023-03-14 20:16:39,549]\u001b[0m Trial 170 finished with value: 0.5391304347826087 and parameters: {'n_estimators': 43, 'max_depth': 14, 'min_samples_split': 19, 'min_samples_leaf': 6, 'criterion': 'entropy'}. Best is trial 88 with value: 0.5738539898132428.\u001b[0m\n",
      "\u001b[32m[I 2023-03-14 20:16:39,817]\u001b[0m Trial 171 finished with value: 0.5438898450946643 and parameters: {'n_estimators': 66, 'max_depth': 14, 'min_samples_split': 16, 'min_samples_leaf': 2, 'criterion': 'gini'}. Best is trial 88 with value: 0.5738539898132428.\u001b[0m\n",
      "\u001b[32m[I 2023-03-14 20:16:40,043]\u001b[0m Trial 172 finished with value: 0.565068493150685 and parameters: {'n_estimators': 57, 'max_depth': 12, 'min_samples_split': 17, 'min_samples_leaf': 4, 'criterion': 'gini'}. Best is trial 88 with value: 0.5738539898132428.\u001b[0m\n",
      "\u001b[32m[I 2023-03-14 20:16:40,265]\u001b[0m Trial 173 finished with value: 0.5641025641025641 and parameters: {'n_estimators': 56, 'max_depth': 12, 'min_samples_split': 17, 'min_samples_leaf': 4, 'criterion': 'gini'}. Best is trial 88 with value: 0.5738539898132428.\u001b[0m\n",
      "\u001b[32m[I 2023-03-14 20:16:40,476]\u001b[0m Trial 174 finished with value: 0.5473321858864026 and parameters: {'n_estimators': 56, 'max_depth': 10, 'min_samples_split': 17, 'min_samples_leaf': 4, 'criterion': 'gini'}. Best is trial 88 with value: 0.5738539898132428.\u001b[0m\n",
      "\u001b[32m[I 2023-03-14 20:16:40,705]\u001b[0m Trial 175 finished with value: 0.5356521739130435 and parameters: {'n_estimators': 57, 'max_depth': 12, 'min_samples_split': 17, 'min_samples_leaf': 3, 'criterion': 'gini'}. Best is trial 88 with value: 0.5738539898132428.\u001b[0m\n",
      "\u001b[32m[I 2023-03-14 20:16:40,945]\u001b[0m Trial 176 finished with value: 0.5520833333333333 and parameters: {'n_estimators': 62, 'max_depth': 11, 'min_samples_split': 17, 'min_samples_leaf': 4, 'criterion': 'gini'}. Best is trial 88 with value: 0.5738539898132428.\u001b[0m\n",
      "\u001b[32m[I 2023-03-14 20:16:41,160]\u001b[0m Trial 177 finished with value: 0.5616438356164384 and parameters: {'n_estimators': 53, 'max_depth': 12, 'min_samples_split': 16, 'min_samples_leaf': 1, 'criterion': 'gini'}. Best is trial 88 with value: 0.5738539898132428.\u001b[0m\n",
      "\u001b[32m[I 2023-03-14 20:16:41,394]\u001b[0m Trial 178 finished with value: 0.5473684210526315 and parameters: {'n_estimators': 60, 'max_depth': 11, 'min_samples_split': 18, 'min_samples_leaf': 5, 'criterion': 'gini'}. Best is trial 88 with value: 0.5738539898132428.\u001b[0m\n",
      "\u001b[32m[I 2023-03-14 20:16:41,598]\u001b[0m Trial 179 finished with value: 0.5602716468590832 and parameters: {'n_estimators': 50, 'max_depth': 13, 'min_samples_split': 18, 'min_samples_leaf': 3, 'criterion': 'gini'}. Best is trial 88 with value: 0.5738539898132428.\u001b[0m\n",
      "\u001b[32m[I 2023-03-14 20:16:41,813]\u001b[0m Trial 180 finished with value: 0.5626072041166381 and parameters: {'n_estimators': 55, 'max_depth': 11, 'min_samples_split': 21, 'min_samples_leaf': 2, 'criterion': 'gini'}. Best is trial 88 with value: 0.5738539898132428.\u001b[0m\n",
      "\u001b[32m[I 2023-03-14 20:16:42,036]\u001b[0m Trial 181 finished with value: 0.5526770293609672 and parameters: {'n_estimators': 57, 'max_depth': 11, 'min_samples_split': 19, 'min_samples_leaf': 2, 'criterion': 'gini'}. Best is trial 88 with value: 0.5738539898132428.\u001b[0m\n",
      "\u001b[32m[I 2023-03-14 20:16:42,254]\u001b[0m Trial 182 finished with value: 0.5519591141396933 and parameters: {'n_estimators': 55, 'max_depth': 12, 'min_samples_split': 21, 'min_samples_leaf': 2, 'criterion': 'gini'}. Best is trial 88 with value: 0.5738539898132428.\u001b[0m\n",
      "\u001b[32m[I 2023-03-14 20:16:42,519]\u001b[0m Trial 183 finished with value: 0.5526770293609672 and parameters: {'n_estimators': 59, 'max_depth': 10, 'min_samples_split': 2, 'min_samples_leaf': 1, 'criterion': 'entropy'}. Best is trial 88 with value: 0.5738539898132428.\u001b[0m\n",
      "\u001b[32m[I 2023-03-14 20:16:42,708]\u001b[0m Trial 184 finished with value: 0.555366269165247 and parameters: {'n_estimators': 47, 'max_depth': 12, 'min_samples_split': 27, 'min_samples_leaf': 3, 'criterion': 'gini'}. Best is trial 88 with value: 0.5738539898132428.\u001b[0m\n",
      "\u001b[32m[I 2023-03-14 20:16:42,958]\u001b[0m Trial 185 finished with value: 0.570940170940171 and parameters: {'n_estimators': 64, 'max_depth': 11, 'min_samples_split': 15, 'min_samples_leaf': 4, 'criterion': 'gini'}. Best is trial 88 with value: 0.5738539898132428.\u001b[0m\n"
     ]
    },
    {
     "name": "stderr",
     "output_type": "stream",
     "text": [
      "\u001b[32m[I 2023-03-14 20:16:43,206]\u001b[0m Trial 186 finished with value: 0.5542168674698795 and parameters: {'n_estimators': 66, 'max_depth': 10, 'min_samples_split': 20, 'min_samples_leaf': 2, 'criterion': 'gini'}. Best is trial 88 with value: 0.5738539898132428.\u001b[0m\n",
      "\u001b[32m[I 2023-03-14 20:16:43,474]\u001b[0m Trial 187 finished with value: 0.5476603119584055 and parameters: {'n_estimators': 70, 'max_depth': 11, 'min_samples_split': 16, 'min_samples_leaf': 4, 'criterion': 'gini'}. Best is trial 88 with value: 0.5738539898132428.\u001b[0m\n",
      "\u001b[32m[I 2023-03-14 20:16:43,720]\u001b[0m Trial 188 finished with value: 0.5526770293609672 and parameters: {'n_estimators': 64, 'max_depth': 11, 'min_samples_split': 17, 'min_samples_leaf': 4, 'criterion': 'gini'}. Best is trial 88 with value: 0.5738539898132428.\u001b[0m\n",
      "\u001b[32m[I 2023-03-14 20:16:43,917]\u001b[0m Trial 189 finished with value: 0.5479930191972077 and parameters: {'n_estimators': 53, 'max_depth': 9, 'min_samples_split': 15, 'min_samples_leaf': 4, 'criterion': 'gini'}. Best is trial 88 with value: 0.5738539898132428.\u001b[0m\n",
      "\u001b[32m[I 2023-03-14 20:16:44,155]\u001b[0m Trial 190 finished with value: 0.5525423728813559 and parameters: {'n_estimators': 59, 'max_depth': 18, 'min_samples_split': 18, 'min_samples_leaf': 3, 'criterion': 'gini'}. Best is trial 88 with value: 0.5738539898132428.\u001b[0m\n",
      "\u001b[32m[I 2023-03-14 20:16:44,400]\u001b[0m Trial 191 finished with value: 0.5544217687074829 and parameters: {'n_estimators': 62, 'max_depth': 13, 'min_samples_split': 16, 'min_samples_leaf': 5, 'criterion': 'gini'}. Best is trial 88 with value: 0.5738539898132428.\u001b[0m\n",
      "\u001b[32m[I 2023-03-14 20:16:44,600]\u001b[0m Trial 192 finished with value: 0.5505226480836236 and parameters: {'n_estimators': 51, 'max_depth': 11, 'min_samples_split': 15, 'min_samples_leaf': 5, 'criterion': 'gini'}. Best is trial 88 with value: 0.5738539898132428.\u001b[0m\n",
      "\u001b[32m[I 2023-03-14 20:16:44,819]\u001b[0m Trial 193 finished with value: 0.5551724137931034 and parameters: {'n_estimators': 55, 'max_depth': 12, 'min_samples_split': 24, 'min_samples_leaf': 1, 'criterion': 'gini'}. Best is trial 88 with value: 0.5738539898132428.\u001b[0m\n",
      "\u001b[32m[I 2023-03-14 20:16:45,129]\u001b[0m Trial 194 finished with value: 0.5517241379310345 and parameters: {'n_estimators': 68, 'max_depth': 12, 'min_samples_split': 15, 'min_samples_leaf': 7, 'criterion': 'entropy'}. Best is trial 88 with value: 0.5738539898132428.\u001b[0m\n",
      "\u001b[32m[I 2023-03-14 20:16:45,357]\u001b[0m Trial 195 finished with value: 0.5430016863406408 and parameters: {'n_estimators': 48, 'max_depth': 13, 'min_samples_split': 13, 'min_samples_leaf': 6, 'criterion': 'entropy'}. Best is trial 88 with value: 0.5738539898132428.\u001b[0m\n",
      "\u001b[32m[I 2023-03-14 20:16:45,624]\u001b[0m Trial 196 finished with value: 0.5464098073555166 and parameters: {'n_estimators': 58, 'max_depth': 11, 'min_samples_split': 14, 'min_samples_leaf': 2, 'criterion': 'entropy'}. Best is trial 88 with value: 0.5738539898132428.\u001b[0m\n",
      "\u001b[32m[I 2023-03-14 20:16:45,904]\u001b[0m Trial 197 finished with value: 0.5530434782608695 and parameters: {'n_estimators': 63, 'max_depth': 12, 'min_samples_split': 21, 'min_samples_leaf': 7, 'criterion': 'entropy'}. Best is trial 88 with value: 0.5738539898132428.\u001b[0m\n",
      "\u001b[32m[I 2023-03-14 20:16:46,117]\u001b[0m Trial 198 finished with value: 0.5473321858864026 and parameters: {'n_estimators': 52, 'max_depth': 13, 'min_samples_split': 19, 'min_samples_leaf': 3, 'criterion': 'gini'}. Best is trial 88 with value: 0.5738539898132428.\u001b[0m\n",
      "\u001b[32m[I 2023-03-14 20:16:46,360]\u001b[0m Trial 199 finished with value: 0.5555555555555557 and parameters: {'n_estimators': 55, 'max_depth': 11, 'min_samples_split': 29, 'min_samples_leaf': 5, 'criterion': 'entropy'}. Best is trial 88 with value: 0.5738539898132428.\u001b[0m\n"
     ]
    },
    {
     "name": "stdout",
     "output_type": "stream",
     "text": [
      "Best trial:\n",
      "  Score: 0.574\n",
      "  Params: \n",
      "    n_estimators: 63\n",
      "    max_depth: 11\n",
      "    min_samples_split: 17\n",
      "    min_samples_leaf: 2\n",
      "    criterion: entropy\n"
     ]
    }
   ],
   "source": [
    "def objective(trial):\n",
    "    # Определение гиперпараметров для модели\n",
    "    n_estimators = trial.suggest_int('n_estimators', 20, 150)\n",
    "    max_depth = trial.suggest_int('max_depth', 2, 30)\n",
    "    min_samples_split = trial.suggest_int('min_samples_split', 2, 30)\n",
    "    min_samples_leaf = trial.suggest_int('min_samples_leaf', 1, 30)\n",
    "    criterion = trial.suggest_categorical('criterion', ['gini', 'entropy'])\n",
    "\n",
    "    # Инициализация модели со значениями гиперпараметров\n",
    "    rfc = RandomForestClassifier(n_estimators=n_estimators,\n",
    "                                   max_depth=max_depth,\n",
    "                                   min_samples_split=min_samples_split,\n",
    "                                   min_samples_leaf=min_samples_leaf,\n",
    "                                   criterion=criterion,\n",
    "                                   random_state=322)\n",
    "\n",
    "    # Обучение модели на тренировочном наборе\n",
    "    rfc.fit(features_train, target_train)\n",
    "\n",
    "    # Предсказание на тестовом наборе\n",
    "    predicted_valid = rfc.predict(features_valid)\n",
    "\n",
    "    # Вычисление метрики качества (f1)\n",
    "    f1 = f1_score(predicted_valid, target_valid)\n",
    "\n",
    "    return f1\n",
    "\n",
    "# Создание объекта для оптимизации\n",
    "study = optuna.create_study(direction='maximize')\n",
    "\n",
    "# Запуск оптимизации\n",
    "study.optimize(objective, n_trials=200)\n",
    "\n",
    "# Вывод результатов\n",
    "print('Best trial:')\n",
    "trial = study.best_trial\n",
    "print(f'  Score: {trial.value:.3f}')\n",
    "print('  Params: ')\n",
    "for key, value in trial.params.items():\n",
    "    print(f'    {key}: {value}')"
   ]
  },
  {
   "cell_type": "markdown",
   "metadata": {},
   "source": [
    "Наивысший скор у модели с:\n",
    "- n_estimators: 48\n",
    "-  max_depth: 18\n",
    "-  min_samples_split: 5\n",
    "- min_samples_leaf: 2\n",
    "- criterion: gini, \n",
    "    \n",
    "F1=0.579"
   ]
  },
  {
   "cell_type": "code",
   "execution_count": 106,
   "metadata": {},
   "outputs": [
    {
     "data": {
      "text/plain": [
       "RandomForestClassifier(max_depth=18, min_samples_leaf=2, min_samples_split=5,\n",
       "                       n_estimators=48, random_state=322)"
      ]
     },
     "execution_count": 106,
     "metadata": {},
     "output_type": "execute_result"
    }
   ],
   "source": [
    "rfc = RandomForestClassifier(n_estimators=48,\n",
    "                                   max_depth=18,\n",
    "                                   min_samples_split=5,\n",
    "                                   min_samples_leaf=2,\n",
    "                                   criterion='gini',\n",
    "                                   random_state=322)\n",
    "rfc.fit(features_train, target_train)"
   ]
  },
  {
   "cell_type": "markdown",
   "metadata": {},
   "source": [
    "Для лучшей модели построим ROC-кривую и посчитаем AUC-ROC."
   ]
  },
  {
   "cell_type": "code",
   "execution_count": 107,
   "metadata": {},
   "outputs": [
    {
     "data": {
      "image/png": "[encoded data removed]",
      "text/plain": [
       "<Figure size 640x480 with 1 Axes>"
      ]
     },
     "metadata": {},
     "output_type": "display_data"
    }
   ],
   "source": [
    "prob_one_valid = rfc.predict_proba(features_valid)[:, 1]\n",
    "fpr, tpr, thresholds = roc_curve(target_valid, prob_one_valid)\n",
    "plt.plot(fpr, tpr)\n",
    "plt.plot([0, 1], [0, 1], linestyle='--')\n",
    "plt.xlim([0, 1])\n",
    "plt.ylim([0, 1])\n",
    "plt.xlabel('False Positive Rate')\n",
    "plt.ylabel('True Positive Rate')\n",
    "plt.title(\"ROC-кривая\")\n",
    "plt.grid()\n",
    "plt.show()"
   ]
  },
  {
   "cell_type": "code",
   "execution_count": 108,
   "metadata": {
    "scrolled": false
   },
   "outputs": [
    {
     "data": {
      "text/plain": [
       "0.8571400629986383"
      ]
     },
     "execution_count": 108,
     "metadata": {},
     "output_type": "execute_result"
    }
   ],
   "source": [
    "roc_auc_score(target_valid, prob_one_valid)"
   ]
  },
  {
   "cell_type": "markdown",
   "metadata": {},
   "source": [
    "### Логистическая регрессия"
   ]
  },
  {
   "cell_type": "markdown",
   "metadata": {},
   "source": [
    "Обучим модель логистической регрессии и найдем F1 и AUC-ROC. "
   ]
  },
  {
   "cell_type": "code",
   "execution_count": 109,
   "metadata": {},
   "outputs": [
    {
     "name": "stdout",
     "output_type": "stream",
     "text": [
      "F1 = 0.328 AUC-ROC= 0.772\n"
     ]
    }
   ],
   "source": [
    "lr = LogisticRegression(random_state=322)\n",
    "lr.fit(features_train, target_train)\n",
    "predicted_valid = lr.predict(features_valid)\n",
    "f1_valid = f1_score(predicted_valid, target_valid)\n",
    "prob_one_valid = lr.predict_proba(features_valid)[:, 1]\n",
    "roc_auc = roc_auc_score(target_valid, prob_one_valid)\n",
    "print('F1 =', f1_valid.round(3), 'AUC-ROC=', roc_auc.round(3))"
   ]
  },
  {
   "cell_type": "markdown",
   "metadata": {},
   "source": [
    "Модель логистической регрессии оказалась гораздо хуже случайного леса."
   ]
  },
  {
   "cell_type": "markdown",
   "metadata": {},
   "source": [
    "### Дерево решений"
   ]
  },
  {
   "cell_type": "markdown",
   "metadata": {},
   "source": [
    "Применим optuna для нахождения лучших гиперпараметров."
   ]
  },
  {
   "cell_type": "code",
   "execution_count": 110,
   "metadata": {},
   "outputs": [],
   "source": [
    "def objective(trial):\n",
    "    max_depth = trial.suggest_int('max_depth', 3, 30)\n",
    "    min_samples_split = trial.suggest_int('min_samples_split', 2, 30)\n",
    "    min_samples_leaf = trial.suggest_int('min_samples_leaf', 1, 30)\n",
    "    criterion = trial.suggest_categorical('criterion', ['gini', 'entropy'])\n",
    "\n",
    "    dtc = DecisionTreeClassifier(max_depth=max_depth,\n",
    "                                    min_samples_split=min_samples_split,\n",
    "                                    min_samples_leaf=min_samples_leaf,\n",
    "                                    criterion=criterion,\n",
    "                                    random_state=42)\n",
    "\n",
    "    dtc.fit(features_train, target_train)\n",
    "\n",
    "    predicted_valid = dtc.predict(features_valid)\n",
    "\n",
    "    f1 = f1_score(target_valid, predicted_valid)\n",
    "\n",
    "    return f1"
   ]
  },
  {
   "cell_type": "code",
   "execution_count": 111,
   "metadata": {
    "scrolled": true
   },
   "outputs": [
    {
     "name": "stderr",
     "output_type": "stream",
     "text": [
      "\u001b[32m[I 2023-03-14 20:16:46,749]\u001b[0m A new study created in memory with name: no-name-e69c0cb9-c62a-4add-b1f1-edbf3f588900\u001b[0m\n",
      "\u001b[32m[I 2023-03-14 20:16:46,766]\u001b[0m Trial 0 finished with value: 0.5727848101265823 and parameters: {'max_depth': 7, 'min_samples_split': 14, 'min_samples_leaf': 24, 'criterion': 'gini'}. Best is trial 0 with value: 0.5727848101265823.\u001b[0m\n",
      "\u001b[32m[I 2023-03-14 20:16:46,791]\u001b[0m Trial 1 finished with value: 0.529051987767584 and parameters: {'max_depth': 18, 'min_samples_split': 30, 'min_samples_leaf': 9, 'criterion': 'entropy'}. Best is trial 0 with value: 0.5727848101265823.\u001b[0m\n",
      "\u001b[32m[I 2023-03-14 20:16:46,813]\u001b[0m Trial 2 finished with value: 0.5687789799072642 and parameters: {'max_depth': 30, 'min_samples_split': 11, 'min_samples_leaf': 28, 'criterion': 'entropy'}. Best is trial 0 with value: 0.5727848101265823.\u001b[0m\n",
      "\u001b[32m[I 2023-03-14 20:16:46,834]\u001b[0m Trial 3 finished with value: 0.5562130177514794 and parameters: {'max_depth': 15, 'min_samples_split': 19, 'min_samples_leaf': 11, 'criterion': 'gini'}. Best is trial 0 with value: 0.5727848101265823.\u001b[0m\n",
      "\u001b[32m[I 2023-03-14 20:16:46,852]\u001b[0m Trial 4 finished with value: 0.5626911314984709 and parameters: {'max_depth': 21, 'min_samples_split': 16, 'min_samples_leaf': 24, 'criterion': 'gini'}. Best is trial 0 with value: 0.5727848101265823.\u001b[0m\n",
      "\u001b[32m[I 2023-03-14 20:16:46,869]\u001b[0m Trial 5 finished with value: 0.573228346456693 and parameters: {'max_depth': 7, 'min_samples_split': 19, 'min_samples_leaf': 27, 'criterion': 'gini'}. Best is trial 5 with value: 0.573228346456693.\u001b[0m\n",
      "\u001b[32m[I 2023-03-14 20:16:46,886]\u001b[0m Trial 6 finished with value: 0.581021897810219 and parameters: {'max_depth': 9, 'min_samples_split': 30, 'min_samples_leaf': 15, 'criterion': 'gini'}. Best is trial 6 with value: 0.581021897810219.\u001b[0m\n",
      "\u001b[32m[I 2023-03-14 20:16:46,906]\u001b[0m Trial 7 finished with value: 0.5722983257229832 and parameters: {'max_depth': 14, 'min_samples_split': 22, 'min_samples_leaf': 22, 'criterion': 'gini'}. Best is trial 6 with value: 0.581021897810219.\u001b[0m\n",
      "\u001b[32m[I 2023-03-14 20:16:46,923]\u001b[0m Trial 8 finished with value: 0.573170731707317 and parameters: {'max_depth': 12, 'min_samples_split': 10, 'min_samples_leaf': 29, 'criterion': 'gini'}. Best is trial 6 with value: 0.581021897810219.\u001b[0m\n",
      "\u001b[32m[I 2023-03-14 20:16:46,946]\u001b[0m Trial 9 finished with value: 0.5352941176470588 and parameters: {'max_depth': 17, 'min_samples_split': 20, 'min_samples_leaf': 2, 'criterion': 'gini'}. Best is trial 6 with value: 0.581021897810219.\u001b[0m\n",
      "\u001b[32m[I 2023-03-14 20:16:46,969]\u001b[0m Trial 10 finished with value: 0.5406301824212272 and parameters: {'max_depth': 4, 'min_samples_split': 3, 'min_samples_leaf': 17, 'criterion': 'entropy'}. Best is trial 6 with value: 0.581021897810219.\u001b[0m\n",
      "\u001b[32m[I 2023-03-14 20:16:46,995]\u001b[0m Trial 11 finished with value: 0.5722801788375559 and parameters: {'max_depth': 9, 'min_samples_split': 27, 'min_samples_leaf': 16, 'criterion': 'gini'}. Best is trial 6 with value: 0.581021897810219.\u001b[0m\n",
      "\u001b[32m[I 2023-03-14 20:16:47,014]\u001b[0m Trial 12 finished with value: 0.5315614617940199 and parameters: {'max_depth': 3, 'min_samples_split': 25, 'min_samples_leaf': 11, 'criterion': 'gini'}. Best is trial 6 with value: 0.581021897810219.\u001b[0m\n",
      "\u001b[32m[I 2023-03-14 20:16:47,041]\u001b[0m Trial 13 finished with value: 0.5753424657534246 and parameters: {'max_depth': 9, 'min_samples_split': 30, 'min_samples_leaf': 19, 'criterion': 'gini'}. Best is trial 6 with value: 0.581021897810219.\u001b[0m\n",
      "\u001b[32m[I 2023-03-14 20:16:47,072]\u001b[0m Trial 14 finished with value: 0.549520766773163 and parameters: {'max_depth': 11, 'min_samples_split': 30, 'min_samples_leaf': 19, 'criterion': 'entropy'}. Best is trial 6 with value: 0.581021897810219.\u001b[0m\n",
      "\u001b[32m[I 2023-03-14 20:16:47,102]\u001b[0m Trial 15 finished with value: 0.5538922155688623 and parameters: {'max_depth': 23, 'min_samples_split': 25, 'min_samples_leaf': 7, 'criterion': 'gini'}. Best is trial 6 with value: 0.581021897810219.\u001b[0m\n",
      "\u001b[32m[I 2023-03-14 20:16:47,127]\u001b[0m Trial 16 finished with value: 0.5736925515055468 and parameters: {'max_depth': 7, 'min_samples_split': 27, 'min_samples_leaf': 14, 'criterion': 'gini'}. Best is trial 6 with value: 0.581021897810219.\u001b[0m\n",
      "\u001b[32m[I 2023-03-14 20:16:47,155]\u001b[0m Trial 17 finished with value: 0.5705426356589148 and parameters: {'max_depth': 11, 'min_samples_split': 3, 'min_samples_leaf': 20, 'criterion': 'gini'}. Best is trial 6 with value: 0.581021897810219.\u001b[0m\n",
      "\u001b[32m[I 2023-03-14 20:16:47,188]\u001b[0m Trial 18 finished with value: 0.5484848484848486 and parameters: {'max_depth': 26, 'min_samples_split': 23, 'min_samples_leaf': 14, 'criterion': 'entropy'}. Best is trial 6 with value: 0.581021897810219.\u001b[0m\n",
      "\u001b[32m[I 2023-03-14 20:16:47,211]\u001b[0m Trial 19 finished with value: 0.5240641711229945 and parameters: {'max_depth': 5, 'min_samples_split': 30, 'min_samples_leaf': 5, 'criterion': 'gini'}. Best is trial 6 with value: 0.581021897810219.\u001b[0m\n",
      "\u001b[32m[I 2023-03-14 20:16:47,240]\u001b[0m Trial 20 finished with value: 0.573208722741433 and parameters: {'max_depth': 19, 'min_samples_split': 7, 'min_samples_leaf': 19, 'criterion': 'gini'}. Best is trial 6 with value: 0.581021897810219.\u001b[0m\n",
      "\u001b[32m[I 2023-03-14 20:16:47,266]\u001b[0m Trial 21 finished with value: 0.5709828393135725 and parameters: {'max_depth': 8, 'min_samples_split': 27, 'min_samples_leaf': 14, 'criterion': 'gini'}. Best is trial 6 with value: 0.581021897810219.\u001b[0m\n",
      "\u001b[32m[I 2023-03-14 20:16:47,295]\u001b[0m Trial 22 finished with value: 0.5662100456621004 and parameters: {'max_depth': 13, 'min_samples_split': 27, 'min_samples_leaf': 12, 'criterion': 'gini'}. Best is trial 6 with value: 0.581021897810219.\u001b[0m\n",
      "\u001b[32m[I 2023-03-14 20:16:47,322]\u001b[0m Trial 23 finished with value: 0.5727136431784109 and parameters: {'max_depth': 9, 'min_samples_split': 28, 'min_samples_leaf': 17, 'criterion': 'gini'}. Best is trial 6 with value: 0.581021897810219.\u001b[0m\n",
      "\u001b[32m[I 2023-03-14 20:16:47,347]\u001b[0m Trial 24 finished with value: 0.5536912751677852 and parameters: {'max_depth': 6, 'min_samples_split': 24, 'min_samples_leaf': 14, 'criterion': 'gini'}. Best is trial 6 with value: 0.581021897810219.\u001b[0m\n",
      "\u001b[32m[I 2023-03-14 20:16:47,374]\u001b[0m Trial 25 finished with value: 0.5722983257229832 and parameters: {'max_depth': 10, 'min_samples_split': 28, 'min_samples_leaf': 22, 'criterion': 'gini'}. Best is trial 6 with value: 0.581021897810219.\u001b[0m\n",
      "\u001b[32m[I 2023-03-14 20:16:47,408]\u001b[0m Trial 26 finished with value: 0.539156626506024 and parameters: {'max_depth': 15, 'min_samples_split': 21, 'min_samples_leaf': 8, 'criterion': 'entropy'}. Best is trial 6 with value: 0.581021897810219.\u001b[0m\n",
      "\u001b[32m[I 2023-03-14 20:16:47,427]\u001b[0m Trial 27 finished with value: 0.5315614617940199 and parameters: {'max_depth': 3, 'min_samples_split': 17, 'min_samples_leaf': 13, 'criterion': 'gini'}. Best is trial 6 with value: 0.581021897810219.\u001b[0m\n",
      "\u001b[32m[I 2023-03-14 20:16:47,450]\u001b[0m Trial 28 finished with value: 0.5283687943262411 and parameters: {'max_depth': 5, 'min_samples_split': 25, 'min_samples_leaf': 17, 'criterion': 'gini'}. Best is trial 6 with value: 0.581021897810219.\u001b[0m\n",
      "\u001b[32m[I 2023-03-14 20:16:47,476]\u001b[0m Trial 29 finished with value: 0.5727848101265823 and parameters: {'max_depth': 7, 'min_samples_split': 13, 'min_samples_leaf': 25, 'criterion': 'gini'}. Best is trial 6 with value: 0.581021897810219.\u001b[0m\n",
      "\u001b[32m[I 2023-03-14 20:16:47,502]\u001b[0m Trial 30 finished with value: 0.5736677115987462 and parameters: {'max_depth': 8, 'min_samples_split': 29, 'min_samples_leaf': 21, 'criterion': 'gini'}. Best is trial 6 with value: 0.581021897810219.\u001b[0m\n",
      "\u001b[32m[I 2023-03-14 20:16:47,529]\u001b[0m Trial 31 finished with value: 0.5736677115987462 and parameters: {'max_depth': 8, 'min_samples_split': 29, 'min_samples_leaf': 21, 'criterion': 'gini'}. Best is trial 6 with value: 0.581021897810219.\u001b[0m\n",
      "\u001b[32m[I 2023-03-14 20:16:47,557]\u001b[0m Trial 32 finished with value: 0.5626911314984709 and parameters: {'max_depth': 12, 'min_samples_split': 30, 'min_samples_leaf': 24, 'criterion': 'gini'}. Best is trial 6 with value: 0.581021897810219.\u001b[0m\n",
      "\u001b[32m[I 2023-03-14 20:16:47,585]\u001b[0m Trial 33 finished with value: 0.5709828393135725 and parameters: {'max_depth': 10, 'min_samples_split': 26, 'min_samples_leaf': 18, 'criterion': 'gini'}. Best is trial 6 with value: 0.581021897810219.\u001b[0m\n"
     ]
    },
    {
     "name": "stderr",
     "output_type": "stream",
     "text": [
      "\u001b[32m[I 2023-03-14 20:16:47,613]\u001b[0m Trial 34 finished with value: 0.5612244897959183 and parameters: {'max_depth': 6, 'min_samples_split': 28, 'min_samples_leaf': 15, 'criterion': 'entropy'}. Best is trial 6 with value: 0.581021897810219.\u001b[0m\n",
      "\u001b[32m[I 2023-03-14 20:16:47,641]\u001b[0m Trial 35 finished with value: 0.5727411944869831 and parameters: {'max_depth': 8, 'min_samples_split': 23, 'min_samples_leaf': 9, 'criterion': 'gini'}. Best is trial 6 with value: 0.581021897810219.\u001b[0m\n",
      "\u001b[32m[I 2023-03-14 20:16:47,669]\u001b[0m Trial 36 finished with value: 0.5757575757575757 and parameters: {'max_depth': 30, 'min_samples_split': 30, 'min_samples_leaf': 26, 'criterion': 'gini'}. Best is trial 6 with value: 0.581021897810219.\u001b[0m\n",
      "\u001b[32m[I 2023-03-14 20:16:47,698]\u001b[0m Trial 37 finished with value: 0.5757575757575757 and parameters: {'max_depth': 29, 'min_samples_split': 30, 'min_samples_leaf': 26, 'criterion': 'gini'}. Best is trial 6 with value: 0.581021897810219.\u001b[0m\n",
      "\u001b[32m[I 2023-03-14 20:16:47,730]\u001b[0m Trial 38 finished with value: 0.5615141955835962 and parameters: {'max_depth': 30, 'min_samples_split': 30, 'min_samples_leaf': 27, 'criterion': 'entropy'}. Best is trial 6 with value: 0.581021897810219.\u001b[0m\n",
      "\u001b[32m[I 2023-03-14 20:16:47,758]\u001b[0m Trial 39 finished with value: 0.573170731707317 and parameters: {'max_depth': 28, 'min_samples_split': 18, 'min_samples_leaf': 30, 'criterion': 'gini'}. Best is trial 6 with value: 0.581021897810219.\u001b[0m\n",
      "\u001b[32m[I 2023-03-14 20:16:47,786]\u001b[0m Trial 40 finished with value: 0.573170731707317 and parameters: {'max_depth': 25, 'min_samples_split': 26, 'min_samples_leaf': 25, 'criterion': 'gini'}. Best is trial 6 with value: 0.581021897810219.\u001b[0m\n",
      "\u001b[32m[I 2023-03-14 20:16:47,815]\u001b[0m Trial 41 finished with value: 0.5696784073506891 and parameters: {'max_depth': 28, 'min_samples_split': 28, 'min_samples_leaf': 28, 'criterion': 'gini'}. Best is trial 6 with value: 0.581021897810219.\u001b[0m\n",
      "\u001b[32m[I 2023-03-14 20:16:47,844]\u001b[0m Trial 42 finished with value: 0.5775729646697388 and parameters: {'max_depth': 28, 'min_samples_split': 29, 'min_samples_leaf': 27, 'criterion': 'gini'}. Best is trial 6 with value: 0.581021897810219.\u001b[0m\n",
      "\u001b[32m[I 2023-03-14 20:16:47,873]\u001b[0m Trial 43 finished with value: 0.5775729646697388 and parameters: {'max_depth': 29, 'min_samples_split': 29, 'min_samples_leaf': 27, 'criterion': 'gini'}. Best is trial 6 with value: 0.581021897810219.\u001b[0m\n",
      "\u001b[32m[I 2023-03-14 20:16:47,901]\u001b[0m Trial 44 finished with value: 0.5757575757575757 and parameters: {'max_depth': 28, 'min_samples_split': 29, 'min_samples_leaf': 26, 'criterion': 'gini'}. Best is trial 6 with value: 0.581021897810219.\u001b[0m\n",
      "\u001b[32m[I 2023-03-14 20:16:47,929]\u001b[0m Trial 45 finished with value: 0.573170731707317 and parameters: {'max_depth': 26, 'min_samples_split': 26, 'min_samples_leaf': 30, 'criterion': 'gini'}. Best is trial 6 with value: 0.581021897810219.\u001b[0m\n",
      "\u001b[32m[I 2023-03-14 20:16:47,958]\u001b[0m Trial 46 finished with value: 0.5626911314984709 and parameters: {'max_depth': 29, 'min_samples_split': 15, 'min_samples_leaf': 23, 'criterion': 'gini'}. Best is trial 6 with value: 0.581021897810219.\u001b[0m\n",
      "\u001b[32m[I 2023-03-14 20:16:47,988]\u001b[0m Trial 47 finished with value: 0.5775729646697388 and parameters: {'max_depth': 30, 'min_samples_split': 24, 'min_samples_leaf': 27, 'criterion': 'gini'}. Best is trial 6 with value: 0.581021897810219.\u001b[0m\n",
      "\u001b[32m[I 2023-03-14 20:16:48,021]\u001b[0m Trial 48 finished with value: 0.5687789799072642 and parameters: {'max_depth': 24, 'min_samples_split': 21, 'min_samples_leaf': 28, 'criterion': 'entropy'}. Best is trial 6 with value: 0.581021897810219.\u001b[0m\n",
      "\u001b[32m[I 2023-03-14 20:16:48,050]\u001b[0m Trial 49 finished with value: 0.573170731707317 and parameters: {'max_depth': 22, 'min_samples_split': 24, 'min_samples_leaf': 29, 'criterion': 'gini'}. Best is trial 6 with value: 0.581021897810219.\u001b[0m\n",
      "\u001b[32m[I 2023-03-14 20:16:48,080]\u001b[0m Trial 50 finished with value: 0.5775729646697388 and parameters: {'max_depth': 20, 'min_samples_split': 23, 'min_samples_leaf': 27, 'criterion': 'gini'}. Best is trial 6 with value: 0.581021897810219.\u001b[0m\n",
      "\u001b[32m[I 2023-03-14 20:16:48,110]\u001b[0m Trial 51 finished with value: 0.5775729646697388 and parameters: {'max_depth': 19, 'min_samples_split': 24, 'min_samples_leaf': 27, 'criterion': 'gini'}. Best is trial 6 with value: 0.581021897810219.\u001b[0m\n",
      "\u001b[32m[I 2023-03-14 20:16:48,139]\u001b[0m Trial 52 finished with value: 0.5775729646697388 and parameters: {'max_depth': 19, 'min_samples_split': 22, 'min_samples_leaf': 27, 'criterion': 'gini'}. Best is trial 6 with value: 0.581021897810219.\u001b[0m\n",
      "\u001b[32m[I 2023-03-14 20:16:48,168]\u001b[0m Trial 53 finished with value: 0.5626911314984709 and parameters: {'max_depth': 17, 'min_samples_split': 20, 'min_samples_leaf': 23, 'criterion': 'gini'}. Best is trial 6 with value: 0.581021897810219.\u001b[0m\n",
      "\u001b[32m[I 2023-03-14 20:16:48,199]\u001b[0m Trial 54 finished with value: 0.573170731707317 and parameters: {'max_depth': 21, 'min_samples_split': 23, 'min_samples_leaf': 29, 'criterion': 'gini'}. Best is trial 6 with value: 0.581021897810219.\u001b[0m\n",
      "\u001b[32m[I 2023-03-14 20:16:48,230]\u001b[0m Trial 55 finished with value: 0.573170731707317 and parameters: {'max_depth': 20, 'min_samples_split': 24, 'min_samples_leaf': 25, 'criterion': 'gini'}. Best is trial 6 with value: 0.581021897810219.\u001b[0m\n",
      "\u001b[32m[I 2023-03-14 20:16:48,261]\u001b[0m Trial 56 finished with value: 0.5696784073506891 and parameters: {'max_depth': 26, 'min_samples_split': 19, 'min_samples_leaf': 28, 'criterion': 'gini'}. Best is trial 6 with value: 0.581021897810219.\u001b[0m\n",
      "\u001b[32m[I 2023-03-14 20:16:48,291]\u001b[0m Trial 57 finished with value: 0.5626911314984709 and parameters: {'max_depth': 15, 'min_samples_split': 26, 'min_samples_leaf': 24, 'criterion': 'gini'}. Best is trial 6 with value: 0.581021897810219.\u001b[0m\n",
      "\u001b[32m[I 2023-03-14 20:16:48,321]\u001b[0m Trial 58 finished with value: 0.5775729646697388 and parameters: {'max_depth': 27, 'min_samples_split': 9, 'min_samples_leaf': 27, 'criterion': 'gini'}. Best is trial 6 with value: 0.581021897810219.\u001b[0m\n",
      "\u001b[32m[I 2023-03-14 20:16:48,355]\u001b[0m Trial 59 finished with value: 0.5757575757575757 and parameters: {'max_depth': 23, 'min_samples_split': 27, 'min_samples_leaf': 29, 'criterion': 'entropy'}. Best is trial 6 with value: 0.581021897810219.\u001b[0m\n",
      "\u001b[32m[I 2023-03-14 20:16:48,388]\u001b[0m Trial 60 finished with value: 0.5191489361702128 and parameters: {'max_depth': 18, 'min_samples_split': 25, 'min_samples_leaf': 1, 'criterion': 'gini'}. Best is trial 6 with value: 0.581021897810219.\u001b[0m\n",
      "\u001b[32m[I 2023-03-14 20:16:48,418]\u001b[0m Trial 61 finished with value: 0.5775729646697388 and parameters: {'max_depth': 19, 'min_samples_split': 22, 'min_samples_leaf': 27, 'criterion': 'gini'}. Best is trial 6 with value: 0.581021897810219.\u001b[0m\n",
      "\u001b[32m[I 2023-03-14 20:16:48,448]\u001b[0m Trial 62 finished with value: 0.5757575757575757 and parameters: {'max_depth': 18, 'min_samples_split': 22, 'min_samples_leaf': 26, 'criterion': 'gini'}. Best is trial 6 with value: 0.581021897810219.\u001b[0m\n",
      "\u001b[32m[I 2023-03-14 20:16:48,479]\u001b[0m Trial 63 finished with value: 0.573170731707317 and parameters: {'max_depth': 20, 'min_samples_split': 21, 'min_samples_leaf': 30, 'criterion': 'gini'}. Best is trial 6 with value: 0.581021897810219.\u001b[0m\n",
      "\u001b[32m[I 2023-03-14 20:16:48,509]\u001b[0m Trial 64 finished with value: 0.5626911314984709 and parameters: {'max_depth': 22, 'min_samples_split': 24, 'min_samples_leaf': 24, 'criterion': 'gini'}. Best is trial 6 with value: 0.581021897810219.\u001b[0m\n",
      "\u001b[32m[I 2023-03-14 20:16:48,540]\u001b[0m Trial 65 finished with value: 0.5775729646697388 and parameters: {'max_depth': 16, 'min_samples_split': 5, 'min_samples_leaf': 27, 'criterion': 'gini'}. Best is trial 6 with value: 0.581021897810219.\u001b[0m\n",
      "\u001b[32m[I 2023-03-14 20:16:48,570]\u001b[0m Trial 66 finished with value: 0.5722983257229832 and parameters: {'max_depth': 14, 'min_samples_split': 20, 'min_samples_leaf': 22, 'criterion': 'gini'}. Best is trial 6 with value: 0.581021897810219.\u001b[0m\n",
      "\u001b[32m[I 2023-03-14 20:16:48,600]\u001b[0m Trial 67 finished with value: 0.573170731707317 and parameters: {'max_depth': 29, 'min_samples_split': 28, 'min_samples_leaf': 25, 'criterion': 'gini'}. Best is trial 6 with value: 0.581021897810219.\u001b[0m\n"
     ]
    },
    {
     "name": "stderr",
     "output_type": "stream",
     "text": [
      "\u001b[32m[I 2023-03-14 20:16:48,631]\u001b[0m Trial 68 finished with value: 0.5626911314984709 and parameters: {'max_depth': 24, 'min_samples_split': 17, 'min_samples_leaf': 23, 'criterion': 'gini'}. Best is trial 6 with value: 0.581021897810219.\u001b[0m\n",
      "\u001b[32m[I 2023-03-14 20:16:48,661]\u001b[0m Trial 69 finished with value: 0.5696784073506891 and parameters: {'max_depth': 17, 'min_samples_split': 29, 'min_samples_leaf': 28, 'criterion': 'gini'}. Best is trial 6 with value: 0.581021897810219.\u001b[0m\n",
      "\u001b[32m[I 2023-03-14 20:16:48,698]\u001b[0m Trial 70 finished with value: 0.5502183406113537 and parameters: {'max_depth': 30, 'min_samples_split': 25, 'min_samples_leaf': 11, 'criterion': 'entropy'}. Best is trial 6 with value: 0.581021897810219.\u001b[0m\n",
      "\u001b[32m[I 2023-03-14 20:16:48,728]\u001b[0m Trial 71 finished with value: 0.5757575757575757 and parameters: {'max_depth': 27, 'min_samples_split': 5, 'min_samples_leaf': 26, 'criterion': 'gini'}. Best is trial 6 with value: 0.581021897810219.\u001b[0m\n",
      "\u001b[32m[I 2023-03-14 20:16:48,758]\u001b[0m Trial 72 finished with value: 0.5775729646697388 and parameters: {'max_depth': 27, 'min_samples_split': 10, 'min_samples_leaf': 27, 'criterion': 'gini'}. Best is trial 6 with value: 0.581021897810219.\u001b[0m\n",
      "\u001b[32m[I 2023-03-14 20:16:48,789]\u001b[0m Trial 73 finished with value: 0.573170731707317 and parameters: {'max_depth': 27, 'min_samples_split': 11, 'min_samples_leaf': 29, 'criterion': 'gini'}. Best is trial 6 with value: 0.581021897810219.\u001b[0m\n",
      "\u001b[32m[I 2023-03-14 20:16:48,820]\u001b[0m Trial 74 finished with value: 0.5775729646697388 and parameters: {'max_depth': 19, 'min_samples_split': 8, 'min_samples_leaf': 27, 'criterion': 'gini'}. Best is trial 6 with value: 0.581021897810219.\u001b[0m\n",
      "\u001b[32m[I 2023-03-14 20:16:48,850]\u001b[0m Trial 75 finished with value: 0.5696784073506891 and parameters: {'max_depth': 29, 'min_samples_split': 13, 'min_samples_leaf': 28, 'criterion': 'gini'}. Best is trial 6 with value: 0.581021897810219.\u001b[0m\n",
      "\u001b[32m[I 2023-03-14 20:16:48,883]\u001b[0m Trial 76 finished with value: 0.571875 and parameters: {'max_depth': 25, 'min_samples_split': 2, 'min_samples_leaf': 16, 'criterion': 'gini'}. Best is trial 6 with value: 0.581021897810219.\u001b[0m\n",
      "\u001b[32m[I 2023-03-14 20:16:48,914]\u001b[0m Trial 77 finished with value: 0.573170731707317 and parameters: {'max_depth': 21, 'min_samples_split': 23, 'min_samples_leaf': 25, 'criterion': 'gini'}. Best is trial 6 with value: 0.581021897810219.\u001b[0m\n",
      "\u001b[32m[I 2023-03-14 20:16:48,946]\u001b[0m Trial 78 finished with value: 0.5705426356589148 and parameters: {'max_depth': 28, 'min_samples_split': 27, 'min_samples_leaf': 20, 'criterion': 'gini'}. Best is trial 6 with value: 0.581021897810219.\u001b[0m\n",
      "\u001b[32m[I 2023-03-14 20:16:48,976]\u001b[0m Trial 79 finished with value: 0.573170731707317 and parameters: {'max_depth': 30, 'min_samples_split': 29, 'min_samples_leaf': 30, 'criterion': 'gini'}. Best is trial 6 with value: 0.581021897810219.\u001b[0m\n",
      "\u001b[32m[I 2023-03-14 20:16:49,007]\u001b[0m Trial 80 finished with value: 0.5757575757575757 and parameters: {'max_depth': 16, 'min_samples_split': 19, 'min_samples_leaf': 26, 'criterion': 'gini'}. Best is trial 6 with value: 0.581021897810219.\u001b[0m\n",
      "\u001b[32m[I 2023-03-14 20:16:49,037]\u001b[0m Trial 81 finished with value: 0.5775729646697388 and parameters: {'max_depth': 17, 'min_samples_split': 22, 'min_samples_leaf': 27, 'criterion': 'gini'}. Best is trial 6 with value: 0.581021897810219.\u001b[0m\n",
      "\u001b[32m[I 2023-03-14 20:16:49,069]\u001b[0m Trial 82 finished with value: 0.5775729646697388 and parameters: {'max_depth': 19, 'min_samples_split': 22, 'min_samples_leaf': 27, 'criterion': 'gini'}. Best is trial 6 with value: 0.581021897810219.\u001b[0m\n",
      "\u001b[32m[I 2023-03-14 20:16:49,100]\u001b[0m Trial 83 finished with value: 0.5696784073506891 and parameters: {'max_depth': 20, 'min_samples_split': 21, 'min_samples_leaf': 28, 'criterion': 'gini'}. Best is trial 6 with value: 0.581021897810219.\u001b[0m\n",
      "\u001b[32m[I 2023-03-14 20:16:49,133]\u001b[0m Trial 84 finished with value: 0.5751824817518248 and parameters: {'max_depth': 19, 'min_samples_split': 25, 'min_samples_leaf': 15, 'criterion': 'gini'}. Best is trial 6 with value: 0.581021897810219.\u001b[0m\n",
      "\u001b[32m[I 2023-03-14 20:16:49,165]\u001b[0m Trial 85 finished with value: 0.5626911314984709 and parameters: {'max_depth': 18, 'min_samples_split': 23, 'min_samples_leaf': 24, 'criterion': 'gini'}. Best is trial 6 with value: 0.581021897810219.\u001b[0m\n",
      "\u001b[32m[I 2023-03-14 20:16:49,198]\u001b[0m Trial 86 finished with value: 0.5532544378698224 and parameters: {'max_depth': 29, 'min_samples_split': 27, 'min_samples_leaf': 13, 'criterion': 'gini'}. Best is trial 6 with value: 0.581021897810219.\u001b[0m\n",
      "\u001b[32m[I 2023-03-14 20:16:49,239]\u001b[0m Trial 87 finished with value: 0.5256975036710719 and parameters: {'max_depth': 22, 'min_samples_split': 22, 'min_samples_leaf': 5, 'criterion': 'entropy'}. Best is trial 6 with value: 0.581021897810219.\u001b[0m\n",
      "\u001b[32m[I 2023-03-14 20:16:49,270]\u001b[0m Trial 88 finished with value: 0.573170731707317 and parameters: {'max_depth': 25, 'min_samples_split': 24, 'min_samples_leaf': 25, 'criterion': 'gini'}. Best is trial 6 with value: 0.581021897810219.\u001b[0m\n",
      "\u001b[32m[I 2023-03-14 20:16:49,304]\u001b[0m Trial 89 finished with value: 0.5775729646697388 and parameters: {'max_depth': 27, 'min_samples_split': 18, 'min_samples_leaf': 27, 'criterion': 'gini'}. Best is trial 6 with value: 0.581021897810219.\u001b[0m\n",
      "\u001b[32m[I 2023-03-14 20:16:49,335]\u001b[0m Trial 90 finished with value: 0.573170731707317 and parameters: {'max_depth': 13, 'min_samples_split': 26, 'min_samples_leaf': 29, 'criterion': 'gini'}. Best is trial 6 with value: 0.581021897810219.\u001b[0m\n",
      "\u001b[32m[I 2023-03-14 20:16:49,367]\u001b[0m Trial 91 finished with value: 0.5775729646697388 and parameters: {'max_depth': 16, 'min_samples_split': 6, 'min_samples_leaf': 27, 'criterion': 'gini'}. Best is trial 6 with value: 0.581021897810219.\u001b[0m\n",
      "\u001b[32m[I 2023-03-14 20:16:49,400]\u001b[0m Trial 92 finished with value: 0.5757575757575757 and parameters: {'max_depth': 20, 'min_samples_split': 5, 'min_samples_leaf': 26, 'criterion': 'gini'}. Best is trial 6 with value: 0.581021897810219.\u001b[0m\n",
      "\u001b[32m[I 2023-03-14 20:16:49,432]\u001b[0m Trial 93 finished with value: 0.5757575757575757 and parameters: {'max_depth': 19, 'min_samples_split': 3, 'min_samples_leaf': 26, 'criterion': 'gini'}. Best is trial 6 with value: 0.581021897810219.\u001b[0m\n",
      "\u001b[32m[I 2023-03-14 20:16:49,464]\u001b[0m Trial 94 finished with value: 0.5696784073506891 and parameters: {'max_depth': 21, 'min_samples_split': 8, 'min_samples_leaf': 28, 'criterion': 'gini'}. Best is trial 6 with value: 0.581021897810219.\u001b[0m\n",
      "\u001b[32m[I 2023-03-14 20:16:49,495]\u001b[0m Trial 95 finished with value: 0.573170731707317 and parameters: {'max_depth': 30, 'min_samples_split': 20, 'min_samples_leaf': 29, 'criterion': 'gini'}. Best is trial 6 with value: 0.581021897810219.\u001b[0m\n",
      "\u001b[32m[I 2023-03-14 20:16:49,527]\u001b[0m Trial 96 finished with value: 0.573170731707317 and parameters: {'max_depth': 18, 'min_samples_split': 28, 'min_samples_leaf': 25, 'criterion': 'gini'}. Best is trial 6 with value: 0.581021897810219.\u001b[0m\n",
      "\u001b[32m[I 2023-03-14 20:16:49,559]\u001b[0m Trial 97 finished with value: 0.5679389312977099 and parameters: {'max_depth': 11, 'min_samples_split': 4, 'min_samples_leaf': 23, 'criterion': 'gini'}. Best is trial 6 with value: 0.581021897810219.\u001b[0m\n",
      "\u001b[32m[I 2023-03-14 20:16:49,591]\u001b[0m Trial 98 finished with value: 0.5775729646697388 and parameters: {'max_depth': 28, 'min_samples_split': 14, 'min_samples_leaf': 27, 'criterion': 'gini'}. Best is trial 6 with value: 0.581021897810219.\u001b[0m\n",
      "\u001b[32m[I 2023-03-14 20:16:49,625]\u001b[0m Trial 99 finished with value: 0.5757575757575757 and parameters: {'max_depth': 23, 'min_samples_split': 29, 'min_samples_leaf': 30, 'criterion': 'entropy'}. Best is trial 6 with value: 0.581021897810219.\u001b[0m\n",
      "\u001b[32m[I 2023-03-14 20:16:49,659]\u001b[0m Trial 100 finished with value: 0.5820433436532507 and parameters: {'max_depth': 16, 'min_samples_split': 30, 'min_samples_leaf': 18, 'criterion': 'gini'}. Best is trial 100 with value: 0.5820433436532507.\u001b[0m\n",
      "\u001b[32m[I 2023-03-14 20:16:49,691]\u001b[0m Trial 101 finished with value: 0.5696784073506891 and parameters: {'max_depth': 14, 'min_samples_split': 29, 'min_samples_leaf': 28, 'criterion': 'gini'}. Best is trial 100 with value: 0.5820433436532507.\u001b[0m\n"
     ]
    },
    {
     "name": "stderr",
     "output_type": "stream",
     "text": [
      "\u001b[32m[I 2023-03-14 20:16:49,724]\u001b[0m Trial 102 finished with value: 0.5820433436532507 and parameters: {'max_depth': 16, 'min_samples_split': 30, 'min_samples_leaf': 18, 'criterion': 'gini'}. Best is trial 100 with value: 0.5820433436532507.\u001b[0m\n",
      "\u001b[32m[I 2023-03-14 20:16:49,756]\u001b[0m Trial 103 finished with value: 0.5731895223420647 and parameters: {'max_depth': 15, 'min_samples_split': 30, 'min_samples_leaf': 17, 'criterion': 'gini'}. Best is trial 100 with value: 0.5820433436532507.\u001b[0m\n",
      "\u001b[32m[I 2023-03-14 20:16:49,788]\u001b[0m Trial 104 finished with value: 0.5820433436532507 and parameters: {'max_depth': 12, 'min_samples_split': 30, 'min_samples_leaf': 18, 'criterion': 'gini'}. Best is trial 100 with value: 0.5820433436532507.\u001b[0m\n",
      "\u001b[32m[I 2023-03-14 20:16:49,819]\u001b[0m Trial 105 finished with value: 0.573208722741433 and parameters: {'max_depth': 10, 'min_samples_split': 30, 'min_samples_leaf': 19, 'criterion': 'gini'}. Best is trial 100 with value: 0.5820433436532507.\u001b[0m\n",
      "\u001b[32m[I 2023-03-14 20:16:49,851]\u001b[0m Trial 106 finished with value: 0.5705426356589148 and parameters: {'max_depth': 12, 'min_samples_split': 30, 'min_samples_leaf': 20, 'criterion': 'gini'}. Best is trial 100 with value: 0.5820433436532507.\u001b[0m\n",
      "\u001b[32m[I 2023-03-14 20:16:49,883]\u001b[0m Trial 107 finished with value: 0.5820433436532507 and parameters: {'max_depth': 13, 'min_samples_split': 28, 'min_samples_leaf': 18, 'criterion': 'gini'}. Best is trial 100 with value: 0.5820433436532507.\u001b[0m\n",
      "\u001b[32m[I 2023-03-14 20:16:49,916]\u001b[0m Trial 108 finished with value: 0.571875 and parameters: {'max_depth': 13, 'min_samples_split': 28, 'min_samples_leaf': 16, 'criterion': 'gini'}. Best is trial 100 with value: 0.5820433436532507.\u001b[0m\n",
      "\u001b[32m[I 2023-03-14 20:16:49,949]\u001b[0m Trial 109 finished with value: 0.5820433436532507 and parameters: {'max_depth': 15, 'min_samples_split': 28, 'min_samples_leaf': 18, 'criterion': 'gini'}. Best is trial 100 with value: 0.5820433436532507.\u001b[0m\n",
      "\u001b[32m[I 2023-03-14 20:16:49,982]\u001b[0m Trial 110 finished with value: 0.5820433436532507 and parameters: {'max_depth': 14, 'min_samples_split': 28, 'min_samples_leaf': 18, 'criterion': 'gini'}. Best is trial 100 with value: 0.5820433436532507.\u001b[0m\n",
      "\u001b[32m[I 2023-03-14 20:16:50,015]\u001b[0m Trial 111 finished with value: 0.5820433436532507 and parameters: {'max_depth': 14, 'min_samples_split': 28, 'min_samples_leaf': 18, 'criterion': 'gini'}. Best is trial 100 with value: 0.5820433436532507.\u001b[0m\n",
      "\u001b[32m[I 2023-03-14 20:16:50,048]\u001b[0m Trial 112 finished with value: 0.5820433436532507 and parameters: {'max_depth': 14, 'min_samples_split': 29, 'min_samples_leaf': 18, 'criterion': 'gini'}. Best is trial 100 with value: 0.5820433436532507.\u001b[0m\n",
      "\u001b[32m[I 2023-03-14 20:16:50,081]\u001b[0m Trial 113 finished with value: 0.5820433436532507 and parameters: {'max_depth': 14, 'min_samples_split': 29, 'min_samples_leaf': 18, 'criterion': 'gini'}. Best is trial 100 with value: 0.5820433436532507.\u001b[0m\n",
      "\u001b[32m[I 2023-03-14 20:16:50,114]\u001b[0m Trial 114 finished with value: 0.5820433436532507 and parameters: {'max_depth': 14, 'min_samples_split': 29, 'min_samples_leaf': 18, 'criterion': 'gini'}. Best is trial 100 with value: 0.5820433436532507.\u001b[0m\n",
      "\u001b[32m[I 2023-03-14 20:16:50,146]\u001b[0m Trial 115 finished with value: 0.5820433436532507 and parameters: {'max_depth': 14, 'min_samples_split': 29, 'min_samples_leaf': 18, 'criterion': 'gini'}. Best is trial 100 with value: 0.5820433436532507.\u001b[0m\n",
      "\u001b[32m[I 2023-03-14 20:16:50,178]\u001b[0m Trial 116 finished with value: 0.5820433436532507 and parameters: {'max_depth': 14, 'min_samples_split': 28, 'min_samples_leaf': 18, 'criterion': 'gini'}. Best is trial 100 with value: 0.5820433436532507.\u001b[0m\n",
      "\u001b[32m[I 2023-03-14 20:16:50,210]\u001b[0m Trial 117 finished with value: 0.5820433436532507 and parameters: {'max_depth': 14, 'min_samples_split': 28, 'min_samples_leaf': 18, 'criterion': 'gini'}. Best is trial 100 with value: 0.5820433436532507.\u001b[0m\n",
      "\u001b[32m[I 2023-03-14 20:16:50,244]\u001b[0m Trial 118 finished with value: 0.5820433436532507 and parameters: {'max_depth': 13, 'min_samples_split': 28, 'min_samples_leaf': 18, 'criterion': 'gini'}. Best is trial 100 with value: 0.5820433436532507.\u001b[0m\n",
      "\u001b[32m[I 2023-03-14 20:16:50,276]\u001b[0m Trial 119 finished with value: 0.5820433436532507 and parameters: {'max_depth': 15, 'min_samples_split': 27, 'min_samples_leaf': 18, 'criterion': 'gini'}. Best is trial 100 with value: 0.5820433436532507.\u001b[0m\n",
      "\u001b[32m[I 2023-03-14 20:16:50,308]\u001b[0m Trial 120 finished with value: 0.5652173913043478 and parameters: {'max_depth': 13, 'min_samples_split': 30, 'min_samples_leaf': 20, 'criterion': 'gini'}. Best is trial 100 with value: 0.5820433436532507.\u001b[0m\n",
      "\u001b[32m[I 2023-03-14 20:16:50,341]\u001b[0m Trial 121 finished with value: 0.5820433436532507 and parameters: {'max_depth': 14, 'min_samples_split': 28, 'min_samples_leaf': 18, 'criterion': 'gini'}. Best is trial 100 with value: 0.5820433436532507.\u001b[0m\n",
      "\u001b[32m[I 2023-03-14 20:16:50,374]\u001b[0m Trial 122 finished with value: 0.567398119122257 and parameters: {'max_depth': 12, 'min_samples_split': 29, 'min_samples_leaf': 19, 'criterion': 'gini'}. Best is trial 100 with value: 0.5820433436532507.\u001b[0m\n",
      "\u001b[32m[I 2023-03-14 20:16:50,408]\u001b[0m Trial 123 finished with value: 0.5731895223420647 and parameters: {'max_depth': 15, 'min_samples_split': 27, 'min_samples_leaf': 17, 'criterion': 'gini'}. Best is trial 100 with value: 0.5820433436532507.\u001b[0m\n",
      "\u001b[32m[I 2023-03-14 20:16:50,440]\u001b[0m Trial 124 finished with value: 0.571875 and parameters: {'max_depth': 14, 'min_samples_split': 28, 'min_samples_leaf': 16, 'criterion': 'gini'}. Best is trial 100 with value: 0.5820433436532507.\u001b[0m\n",
      "\u001b[32m[I 2023-03-14 20:16:50,474]\u001b[0m Trial 125 finished with value: 0.567398119122257 and parameters: {'max_depth': 12, 'min_samples_split': 29, 'min_samples_leaf': 19, 'criterion': 'gini'}. Best is trial 100 with value: 0.5820433436532507.\u001b[0m\n",
      "\u001b[32m[I 2023-03-14 20:16:50,507]\u001b[0m Trial 126 finished with value: 0.5820433436532507 and parameters: {'max_depth': 14, 'min_samples_split': 30, 'min_samples_leaf': 18, 'criterion': 'gini'}. Best is trial 100 with value: 0.5820433436532507.\u001b[0m\n",
      "\u001b[32m[I 2023-03-14 20:16:50,539]\u001b[0m Trial 127 finished with value: 0.565625 and parameters: {'max_depth': 16, 'min_samples_split': 29, 'min_samples_leaf': 21, 'criterion': 'gini'}. Best is trial 100 with value: 0.5820433436532507.\u001b[0m\n",
      "\u001b[32m[I 2023-03-14 20:16:50,574]\u001b[0m Trial 128 finished with value: 0.5545171339563864 and parameters: {'max_depth': 11, 'min_samples_split': 28, 'min_samples_leaf': 17, 'criterion': 'entropy'}. Best is trial 100 with value: 0.5820433436532507.\u001b[0m\n",
      "\u001b[32m[I 2023-03-14 20:16:50,607]\u001b[0m Trial 129 finished with value: 0.5731895223420647 and parameters: {'max_depth': 15, 'min_samples_split': 26, 'min_samples_leaf': 17, 'criterion': 'gini'}. Best is trial 100 with value: 0.5820433436532507.\u001b[0m\n",
      "\u001b[32m[I 2023-03-14 20:16:50,639]\u001b[0m Trial 130 finished with value: 0.567398119122257 and parameters: {'max_depth': 12, 'min_samples_split': 27, 'min_samples_leaf': 19, 'criterion': 'gini'}. Best is trial 100 with value: 0.5820433436532507.\u001b[0m\n",
      "\u001b[32m[I 2023-03-14 20:16:50,673]\u001b[0m Trial 131 finished with value: 0.5820433436532507 and parameters: {'max_depth': 13, 'min_samples_split': 28, 'min_samples_leaf': 18, 'criterion': 'gini'}. Best is trial 100 with value: 0.5820433436532507.\u001b[0m\n",
      "\u001b[32m[I 2023-03-14 20:16:50,706]\u001b[0m Trial 132 finished with value: 0.5820433436532507 and parameters: {'max_depth': 13, 'min_samples_split': 30, 'min_samples_leaf': 18, 'criterion': 'gini'}. Best is trial 100 with value: 0.5820433436532507.\u001b[0m\n",
      "\u001b[32m[I 2023-03-14 20:16:50,739]\u001b[0m Trial 133 finished with value: 0.5751824817518248 and parameters: {'max_depth': 14, 'min_samples_split': 28, 'min_samples_leaf': 15, 'criterion': 'gini'}. Best is trial 100 with value: 0.5820433436532507.\u001b[0m\n",
      "\u001b[32m[I 2023-03-14 20:16:50,770]\u001b[0m Trial 134 finished with value: 0.565625 and parameters: {'max_depth': 16, 'min_samples_split': 29, 'min_samples_leaf': 21, 'criterion': 'gini'}. Best is trial 100 with value: 0.5820433436532507.\u001b[0m\n",
      "\u001b[32m[I 2023-03-14 20:16:50,802]\u001b[0m Trial 135 finished with value: 0.5820433436532507 and parameters: {'max_depth': 15, 'min_samples_split': 29, 'min_samples_leaf': 18, 'criterion': 'gini'}. Best is trial 100 with value: 0.5820433436532507.\u001b[0m\n"
     ]
    },
    {
     "name": "stderr",
     "output_type": "stream",
     "text": [
      "\u001b[32m[I 2023-03-14 20:16:50,833]\u001b[0m Trial 136 finished with value: 0.573208722741433 and parameters: {'max_depth': 14, 'min_samples_split': 27, 'min_samples_leaf': 19, 'criterion': 'gini'}. Best is trial 100 with value: 0.5820433436532507.\u001b[0m\n",
      "\u001b[32m[I 2023-03-14 20:16:50,867]\u001b[0m Trial 137 finished with value: 0.5731895223420647 and parameters: {'max_depth': 13, 'min_samples_split': 26, 'min_samples_leaf': 17, 'criterion': 'gini'}. Best is trial 100 with value: 0.5820433436532507.\u001b[0m\n",
      "\u001b[32m[I 2023-03-14 20:16:50,899]\u001b[0m Trial 138 finished with value: 0.571875 and parameters: {'max_depth': 14, 'min_samples_split': 28, 'min_samples_leaf': 16, 'criterion': 'gini'}. Best is trial 100 with value: 0.5820433436532507.\u001b[0m\n",
      "\u001b[32m[I 2023-03-14 20:16:50,931]\u001b[0m Trial 139 finished with value: 0.5705426356589148 and parameters: {'max_depth': 15, 'min_samples_split': 30, 'min_samples_leaf': 20, 'criterion': 'gini'}. Best is trial 100 with value: 0.5820433436532507.\u001b[0m\n",
      "\u001b[32m[I 2023-03-14 20:16:50,964]\u001b[0m Trial 140 finished with value: 0.5820433436532507 and parameters: {'max_depth': 13, 'min_samples_split': 29, 'min_samples_leaf': 18, 'criterion': 'gini'}. Best is trial 100 with value: 0.5820433436532507.\u001b[0m\n",
      "\u001b[32m[I 2023-03-14 20:16:50,996]\u001b[0m Trial 141 finished with value: 0.5820433436532507 and parameters: {'max_depth': 15, 'min_samples_split': 27, 'min_samples_leaf': 18, 'criterion': 'gini'}. Best is trial 100 with value: 0.5820433436532507.\u001b[0m\n",
      "\u001b[32m[I 2023-03-14 20:16:51,027]\u001b[0m Trial 142 finished with value: 0.573208722741433 and parameters: {'max_depth': 17, 'min_samples_split': 28, 'min_samples_leaf': 19, 'criterion': 'gini'}. Best is trial 100 with value: 0.5820433436532507.\u001b[0m\n",
      "\u001b[32m[I 2023-03-14 20:16:51,060]\u001b[0m Trial 143 finished with value: 0.5731895223420647 and parameters: {'max_depth': 15, 'min_samples_split': 30, 'min_samples_leaf': 17, 'criterion': 'gini'}. Best is trial 100 with value: 0.5820433436532507.\u001b[0m\n",
      "\u001b[32m[I 2023-03-14 20:16:51,094]\u001b[0m Trial 144 finished with value: 0.5820433436532507 and parameters: {'max_depth': 16, 'min_samples_split': 27, 'min_samples_leaf': 18, 'criterion': 'gini'}. Best is trial 100 with value: 0.5820433436532507.\u001b[0m\n",
      "\u001b[32m[I 2023-03-14 20:16:51,126]\u001b[0m Trial 145 finished with value: 0.5705426356589148 and parameters: {'max_depth': 11, 'min_samples_split': 29, 'min_samples_leaf': 20, 'criterion': 'gini'}. Best is trial 100 with value: 0.5820433436532507.\u001b[0m\n",
      "\u001b[32m[I 2023-03-14 20:16:51,159]\u001b[0m Trial 146 finished with value: 0.5731895223420647 and parameters: {'max_depth': 14, 'min_samples_split': 28, 'min_samples_leaf': 17, 'criterion': 'gini'}. Best is trial 100 with value: 0.5820433436532507.\u001b[0m\n",
      "\u001b[32m[I 2023-03-14 20:16:51,193]\u001b[0m Trial 147 finished with value: 0.5751824817518248 and parameters: {'max_depth': 13, 'min_samples_split': 30, 'min_samples_leaf': 15, 'criterion': 'gini'}. Best is trial 100 with value: 0.5820433436532507.\u001b[0m\n",
      "\u001b[32m[I 2023-03-14 20:16:51,228]\u001b[0m Trial 148 finished with value: 0.5820433436532507 and parameters: {'max_depth': 12, 'min_samples_split': 29, 'min_samples_leaf': 18, 'criterion': 'gini'}. Best is trial 100 with value: 0.5820433436532507.\u001b[0m\n",
      "\u001b[32m[I 2023-03-14 20:16:51,260]\u001b[0m Trial 149 finished with value: 0.573208722741433 and parameters: {'max_depth': 15, 'min_samples_split': 27, 'min_samples_leaf': 19, 'criterion': 'gini'}. Best is trial 100 with value: 0.5820433436532507.\u001b[0m\n",
      "\u001b[32m[I 2023-03-14 20:16:51,297]\u001b[0m Trial 150 finished with value: 0.546583850931677 and parameters: {'max_depth': 16, 'min_samples_split': 28, 'min_samples_leaf': 16, 'criterion': 'entropy'}. Best is trial 100 with value: 0.5820433436532507.\u001b[0m\n",
      "\u001b[32m[I 2023-03-14 20:16:51,330]\u001b[0m Trial 151 finished with value: 0.5820433436532507 and parameters: {'max_depth': 14, 'min_samples_split': 28, 'min_samples_leaf': 18, 'criterion': 'gini'}. Best is trial 100 with value: 0.5820433436532507.\u001b[0m\n",
      "\u001b[32m[I 2023-03-14 20:16:51,363]\u001b[0m Trial 152 finished with value: 0.5820433436532507 and parameters: {'max_depth': 13, 'min_samples_split': 29, 'min_samples_leaf': 18, 'criterion': 'gini'}. Best is trial 100 with value: 0.5820433436532507.\u001b[0m\n",
      "\u001b[32m[I 2023-03-14 20:16:51,397]\u001b[0m Trial 153 finished with value: 0.573208722741433 and parameters: {'max_depth': 14, 'min_samples_split': 27, 'min_samples_leaf': 19, 'criterion': 'gini'}. Best is trial 100 with value: 0.5820433436532507.\u001b[0m\n",
      "\u001b[32m[I 2023-03-14 20:16:51,432]\u001b[0m Trial 154 finished with value: 0.5731895223420647 and parameters: {'max_depth': 12, 'min_samples_split': 26, 'min_samples_leaf': 17, 'criterion': 'gini'}. Best is trial 100 with value: 0.5820433436532507.\u001b[0m\n",
      "\u001b[32m[I 2023-03-14 20:16:51,464]\u001b[0m Trial 155 finished with value: 0.5705426356589148 and parameters: {'max_depth': 17, 'min_samples_split': 30, 'min_samples_leaf': 20, 'criterion': 'gini'}. Best is trial 100 with value: 0.5820433436532507.\u001b[0m\n",
      "\u001b[32m[I 2023-03-14 20:16:51,500]\u001b[0m Trial 156 finished with value: 0.571875 and parameters: {'max_depth': 14, 'min_samples_split': 29, 'min_samples_leaf': 16, 'criterion': 'gini'}. Best is trial 100 with value: 0.5820433436532507.\u001b[0m\n",
      "\u001b[32m[I 2023-03-14 20:16:51,534]\u001b[0m Trial 157 finished with value: 0.5731895223420647 and parameters: {'max_depth': 14, 'min_samples_split': 28, 'min_samples_leaf': 17, 'criterion': 'gini'}. Best is trial 100 with value: 0.5820433436532507.\u001b[0m\n",
      "\u001b[32m[I 2023-03-14 20:16:51,567]\u001b[0m Trial 158 finished with value: 0.573208722741433 and parameters: {'max_depth': 15, 'min_samples_split': 28, 'min_samples_leaf': 19, 'criterion': 'gini'}. Best is trial 100 with value: 0.5820433436532507.\u001b[0m\n",
      "\u001b[32m[I 2023-03-14 20:16:51,600]\u001b[0m Trial 159 finished with value: 0.5820433436532507 and parameters: {'max_depth': 16, 'min_samples_split': 30, 'min_samples_leaf': 18, 'criterion': 'gini'}. Best is trial 100 with value: 0.5820433436532507.\u001b[0m\n",
      "\u001b[32m[I 2023-03-14 20:16:51,633]\u001b[0m Trial 160 finished with value: 0.573208722741433 and parameters: {'max_depth': 13, 'min_samples_split': 29, 'min_samples_leaf': 19, 'criterion': 'gini'}. Best is trial 100 with value: 0.5820433436532507.\u001b[0m\n",
      "\u001b[32m[I 2023-03-14 20:16:51,667]\u001b[0m Trial 161 finished with value: 0.5820433436532507 and parameters: {'max_depth': 14, 'min_samples_split': 30, 'min_samples_leaf': 18, 'criterion': 'gini'}. Best is trial 100 with value: 0.5820433436532507.\u001b[0m\n",
      "\u001b[32m[I 2023-03-14 20:16:51,700]\u001b[0m Trial 162 finished with value: 0.5820433436532507 and parameters: {'max_depth': 15, 'min_samples_split': 30, 'min_samples_leaf': 18, 'criterion': 'gini'}. Best is trial 100 with value: 0.5820433436532507.\u001b[0m\n",
      "\u001b[32m[I 2023-03-14 20:16:51,733]\u001b[0m Trial 163 finished with value: 0.5731895223420647 and parameters: {'max_depth': 15, 'min_samples_split': 29, 'min_samples_leaf': 17, 'criterion': 'gini'}. Best is trial 100 with value: 0.5820433436532507.\u001b[0m\n",
      "\u001b[32m[I 2023-03-14 20:16:51,767]\u001b[0m Trial 164 finished with value: 0.573208722741433 and parameters: {'max_depth': 13, 'min_samples_split': 28, 'min_samples_leaf': 19, 'criterion': 'gini'}. Best is trial 100 with value: 0.5820433436532507.\u001b[0m\n",
      "\u001b[32m[I 2023-03-14 20:16:51,800]\u001b[0m Trial 165 finished with value: 0.5705426356589148 and parameters: {'max_depth': 14, 'min_samples_split': 29, 'min_samples_leaf': 20, 'criterion': 'gini'}. Best is trial 100 with value: 0.5820433436532507.\u001b[0m\n",
      "\u001b[32m[I 2023-03-14 20:16:51,833]\u001b[0m Trial 166 finished with value: 0.5820433436532507 and parameters: {'max_depth': 12, 'min_samples_split': 28, 'min_samples_leaf': 18, 'criterion': 'gini'}. Best is trial 100 with value: 0.5820433436532507.\u001b[0m\n",
      "\u001b[32m[I 2023-03-14 20:16:51,866]\u001b[0m Trial 167 finished with value: 0.5731895223420647 and parameters: {'max_depth': 14, 'min_samples_split': 30, 'min_samples_leaf': 17, 'criterion': 'gini'}. Best is trial 100 with value: 0.5820433436532507.\u001b[0m\n",
      "\u001b[32m[I 2023-03-14 20:16:51,900]\u001b[0m Trial 168 finished with value: 0.571875 and parameters: {'max_depth': 16, 'min_samples_split': 27, 'min_samples_leaf': 16, 'criterion': 'gini'}. Best is trial 100 with value: 0.5820433436532507.\u001b[0m\n",
      "\u001b[32m[I 2023-03-14 20:16:51,933]\u001b[0m Trial 169 finished with value: 0.5820433436532507 and parameters: {'max_depth': 13, 'min_samples_split': 29, 'min_samples_leaf': 18, 'criterion': 'gini'}. Best is trial 100 with value: 0.5820433436532507.\u001b[0m\n"
     ]
    },
    {
     "name": "stderr",
     "output_type": "stream",
     "text": [
      "\u001b[32m[I 2023-03-14 20:16:51,966]\u001b[0m Trial 170 finished with value: 0.5731895223420647 and parameters: {'max_depth': 15, 'min_samples_split': 30, 'min_samples_leaf': 17, 'criterion': 'gini'}. Best is trial 100 with value: 0.5820433436532507.\u001b[0m\n",
      "\u001b[32m[I 2023-03-14 20:16:52,000]\u001b[0m Trial 171 finished with value: 0.5820433436532507 and parameters: {'max_depth': 13, 'min_samples_split': 28, 'min_samples_leaf': 18, 'criterion': 'gini'}. Best is trial 100 with value: 0.5820433436532507.\u001b[0m\n",
      "\u001b[32m[I 2023-03-14 20:16:52,033]\u001b[0m Trial 172 finished with value: 0.5820433436532507 and parameters: {'max_depth': 12, 'min_samples_split': 27, 'min_samples_leaf': 18, 'criterion': 'gini'}. Best is trial 100 with value: 0.5820433436532507.\u001b[0m\n",
      "\u001b[32m[I 2023-03-14 20:16:52,066]\u001b[0m Trial 173 finished with value: 0.573208722741433 and parameters: {'max_depth': 14, 'min_samples_split': 29, 'min_samples_leaf': 19, 'criterion': 'gini'}. Best is trial 100 with value: 0.5820433436532507.\u001b[0m\n",
      "\u001b[32m[I 2023-03-14 20:16:52,099]\u001b[0m Trial 174 finished with value: 0.565625 and parameters: {'max_depth': 13, 'min_samples_split': 28, 'min_samples_leaf': 21, 'criterion': 'gini'}. Best is trial 100 with value: 0.5820433436532507.\u001b[0m\n",
      "\u001b[32m[I 2023-03-14 20:16:52,133]\u001b[0m Trial 175 finished with value: 0.5731895223420647 and parameters: {'max_depth': 14, 'min_samples_split': 29, 'min_samples_leaf': 17, 'criterion': 'gini'}. Best is trial 100 with value: 0.5820433436532507.\u001b[0m\n",
      "\u001b[32m[I 2023-03-14 20:16:52,167]\u001b[0m Trial 176 finished with value: 0.5705426356589148 and parameters: {'max_depth': 15, 'min_samples_split': 28, 'min_samples_leaf': 20, 'criterion': 'gini'}. Best is trial 100 with value: 0.5820433436532507.\u001b[0m\n",
      "\u001b[32m[I 2023-03-14 20:16:52,200]\u001b[0m Trial 177 finished with value: 0.567398119122257 and parameters: {'max_depth': 11, 'min_samples_split': 26, 'min_samples_leaf': 19, 'criterion': 'gini'}. Best is trial 100 with value: 0.5820433436532507.\u001b[0m\n",
      "\u001b[32m[I 2023-03-14 20:16:52,238]\u001b[0m Trial 178 finished with value: 0.5460420032310178 and parameters: {'max_depth': 16, 'min_samples_split': 30, 'min_samples_leaf': 18, 'criterion': 'entropy'}. Best is trial 100 with value: 0.5820433436532507.\u001b[0m\n",
      "\u001b[32m[I 2023-03-14 20:16:52,273]\u001b[0m Trial 179 finished with value: 0.571875 and parameters: {'max_depth': 13, 'min_samples_split': 27, 'min_samples_leaf': 16, 'criterion': 'gini'}. Best is trial 100 with value: 0.5820433436532507.\u001b[0m\n",
      "\u001b[32m[I 2023-03-14 20:16:52,306]\u001b[0m Trial 180 finished with value: 0.573208722741433 and parameters: {'max_depth': 14, 'min_samples_split': 29, 'min_samples_leaf': 19, 'criterion': 'gini'}. Best is trial 100 with value: 0.5820433436532507.\u001b[0m\n",
      "\u001b[32m[I 2023-03-14 20:16:52,341]\u001b[0m Trial 181 finished with value: 0.5820433436532507 and parameters: {'max_depth': 13, 'min_samples_split': 30, 'min_samples_leaf': 18, 'criterion': 'gini'}. Best is trial 100 with value: 0.5820433436532507.\u001b[0m\n",
      "\u001b[32m[I 2023-03-14 20:16:52,375]\u001b[0m Trial 182 finished with value: 0.5820433436532507 and parameters: {'max_depth': 12, 'min_samples_split': 28, 'min_samples_leaf': 18, 'criterion': 'gini'}. Best is trial 100 with value: 0.5820433436532507.\u001b[0m\n",
      "\u001b[32m[I 2023-03-14 20:16:52,408]\u001b[0m Trial 183 finished with value: 0.5731895223420647 and parameters: {'max_depth': 13, 'min_samples_split': 29, 'min_samples_leaf': 17, 'criterion': 'gini'}. Best is trial 100 with value: 0.5820433436532507.\u001b[0m\n",
      "\u001b[32m[I 2023-03-14 20:16:52,442]\u001b[0m Trial 184 finished with value: 0.5820433436532507 and parameters: {'max_depth': 15, 'min_samples_split': 30, 'min_samples_leaf': 18, 'criterion': 'gini'}. Best is trial 100 with value: 0.5820433436532507.\u001b[0m\n",
      "\u001b[32m[I 2023-03-14 20:16:52,476]\u001b[0m Trial 185 finished with value: 0.5731895223420647 and parameters: {'max_depth': 14, 'min_samples_split': 30, 'min_samples_leaf': 17, 'criterion': 'gini'}. Best is trial 100 with value: 0.5820433436532507.\u001b[0m\n",
      "\u001b[32m[I 2023-03-14 20:16:52,511]\u001b[0m Trial 186 finished with value: 0.573208722741433 and parameters: {'max_depth': 14, 'min_samples_split': 28, 'min_samples_leaf': 19, 'criterion': 'gini'}. Best is trial 100 with value: 0.5820433436532507.\u001b[0m\n",
      "\u001b[32m[I 2023-03-14 20:16:52,545]\u001b[0m Trial 187 finished with value: 0.5652173913043478 and parameters: {'max_depth': 13, 'min_samples_split': 27, 'min_samples_leaf': 20, 'criterion': 'gini'}. Best is trial 100 with value: 0.5820433436532507.\u001b[0m\n",
      "\u001b[32m[I 2023-03-14 20:16:52,580]\u001b[0m Trial 188 finished with value: 0.5731895223420647 and parameters: {'max_depth': 15, 'min_samples_split': 29, 'min_samples_leaf': 17, 'criterion': 'gini'}. Best is trial 100 with value: 0.5820433436532507.\u001b[0m\n",
      "\u001b[32m[I 2023-03-14 20:16:52,613]\u001b[0m Trial 189 finished with value: 0.5820433436532507 and parameters: {'max_depth': 14, 'min_samples_split': 29, 'min_samples_leaf': 18, 'criterion': 'gini'}. Best is trial 100 with value: 0.5820433436532507.\u001b[0m\n",
      "\u001b[32m[I 2023-03-14 20:16:52,648]\u001b[0m Trial 190 finished with value: 0.5705426356589148 and parameters: {'max_depth': 12, 'min_samples_split': 28, 'min_samples_leaf': 16, 'criterion': 'gini'}. Best is trial 100 with value: 0.5820433436532507.\u001b[0m\n",
      "\u001b[32m[I 2023-03-14 20:16:52,681]\u001b[0m Trial 191 finished with value: 0.5820433436532507 and parameters: {'max_depth': 15, 'min_samples_split': 30, 'min_samples_leaf': 18, 'criterion': 'gini'}. Best is trial 100 with value: 0.5820433436532507.\u001b[0m\n",
      "\u001b[32m[I 2023-03-14 20:16:52,715]\u001b[0m Trial 192 finished with value: 0.573208722741433 and parameters: {'max_depth': 15, 'min_samples_split': 29, 'min_samples_leaf': 19, 'criterion': 'gini'}. Best is trial 100 with value: 0.5820433436532507.\u001b[0m\n",
      "\u001b[32m[I 2023-03-14 20:16:52,750]\u001b[0m Trial 193 finished with value: 0.5820433436532507 and parameters: {'max_depth': 13, 'min_samples_split': 29, 'min_samples_leaf': 18, 'criterion': 'gini'}. Best is trial 100 with value: 0.5820433436532507.\u001b[0m\n",
      "\u001b[32m[I 2023-03-14 20:16:52,784]\u001b[0m Trial 194 finished with value: 0.573208722741433 and parameters: {'max_depth': 16, 'min_samples_split': 28, 'min_samples_leaf': 19, 'criterion': 'gini'}. Best is trial 100 with value: 0.5820433436532507.\u001b[0m\n",
      "\u001b[32m[I 2023-03-14 20:16:52,819]\u001b[0m Trial 195 finished with value: 0.5731895223420647 and parameters: {'max_depth': 17, 'min_samples_split': 30, 'min_samples_leaf': 17, 'criterion': 'gini'}. Best is trial 100 with value: 0.5820433436532507.\u001b[0m\n",
      "\u001b[32m[I 2023-03-14 20:16:52,853]\u001b[0m Trial 196 finished with value: 0.5820433436532507 and parameters: {'max_depth': 14, 'min_samples_split': 27, 'min_samples_leaf': 18, 'criterion': 'gini'}. Best is trial 100 with value: 0.5820433436532507.\u001b[0m\n",
      "\u001b[32m[I 2023-03-14 20:16:52,887]\u001b[0m Trial 197 finished with value: 0.5820433436532507 and parameters: {'max_depth': 15, 'min_samples_split': 29, 'min_samples_leaf': 18, 'criterion': 'gini'}. Best is trial 100 with value: 0.5820433436532507.\u001b[0m\n",
      "\u001b[32m[I 2023-03-14 20:16:52,922]\u001b[0m Trial 198 finished with value: 0.5731895223420647 and parameters: {'max_depth': 14, 'min_samples_split': 30, 'min_samples_leaf': 17, 'criterion': 'gini'}. Best is trial 100 with value: 0.5820433436532507.\u001b[0m\n",
      "\u001b[32m[I 2023-03-14 20:16:52,957]\u001b[0m Trial 199 finished with value: 0.573208722741433 and parameters: {'max_depth': 13, 'min_samples_split': 28, 'min_samples_leaf': 19, 'criterion': 'gini'}. Best is trial 100 with value: 0.5820433436532507.\u001b[0m\n",
      "\u001b[32m[I 2023-03-14 20:16:52,990]\u001b[0m Trial 200 finished with value: 0.5731895223420647 and parameters: {'max_depth': 12, 'min_samples_split': 27, 'min_samples_leaf': 17, 'criterion': 'gini'}. Best is trial 100 with value: 0.5820433436532507.\u001b[0m\n",
      "\u001b[32m[I 2023-03-14 20:16:53,025]\u001b[0m Trial 201 finished with value: 0.5820433436532507 and parameters: {'max_depth': 13, 'min_samples_split': 29, 'min_samples_leaf': 18, 'criterion': 'gini'}. Best is trial 100 with value: 0.5820433436532507.\u001b[0m\n",
      "\u001b[32m[I 2023-03-14 20:16:53,059]\u001b[0m Trial 202 finished with value: 0.5820433436532507 and parameters: {'max_depth': 14, 'min_samples_split': 29, 'min_samples_leaf': 18, 'criterion': 'gini'}. Best is trial 100 with value: 0.5820433436532507.\u001b[0m\n",
      "\u001b[32m[I 2023-03-14 20:16:53,094]\u001b[0m Trial 203 finished with value: 0.573208722741433 and parameters: {'max_depth': 13, 'min_samples_split': 28, 'min_samples_leaf': 19, 'criterion': 'gini'}. Best is trial 100 with value: 0.5820433436532507.\u001b[0m\n"
     ]
    },
    {
     "name": "stderr",
     "output_type": "stream",
     "text": [
      "\u001b[32m[I 2023-03-14 20:16:53,129]\u001b[0m Trial 204 finished with value: 0.5820433436532507 and parameters: {'max_depth': 16, 'min_samples_split': 30, 'min_samples_leaf': 18, 'criterion': 'gini'}. Best is trial 100 with value: 0.5820433436532507.\u001b[0m\n",
      "\u001b[32m[I 2023-03-14 20:16:53,162]\u001b[0m Trial 205 finished with value: 0.5820433436532507 and parameters: {'max_depth': 15, 'min_samples_split': 29, 'min_samples_leaf': 18, 'criterion': 'gini'}. Best is trial 100 with value: 0.5820433436532507.\u001b[0m\n",
      "\u001b[32m[I 2023-03-14 20:16:53,196]\u001b[0m Trial 206 finished with value: 0.573208722741433 and parameters: {'max_depth': 14, 'min_samples_split': 29, 'min_samples_leaf': 19, 'criterion': 'gini'}. Best is trial 100 with value: 0.5820433436532507.\u001b[0m\n",
      "\u001b[32m[I 2023-03-14 20:16:53,231]\u001b[0m Trial 207 finished with value: 0.5652173913043478 and parameters: {'max_depth': 13, 'min_samples_split': 28, 'min_samples_leaf': 20, 'criterion': 'gini'}. Best is trial 100 with value: 0.5820433436532507.\u001b[0m\n",
      "\u001b[32m[I 2023-03-14 20:16:53,265]\u001b[0m Trial 208 finished with value: 0.5731895223420647 and parameters: {'max_depth': 14, 'min_samples_split': 30, 'min_samples_leaf': 17, 'criterion': 'gini'}. Best is trial 100 with value: 0.5820433436532507.\u001b[0m\n",
      "\u001b[32m[I 2023-03-14 20:16:53,304]\u001b[0m Trial 209 finished with value: 0.5545171339563864 and parameters: {'max_depth': 11, 'min_samples_split': 28, 'min_samples_leaf': 17, 'criterion': 'entropy'}. Best is trial 100 with value: 0.5820433436532507.\u001b[0m\n",
      "\u001b[32m[I 2023-03-14 20:16:53,338]\u001b[0m Trial 210 finished with value: 0.5820433436532507 and parameters: {'max_depth': 15, 'min_samples_split': 29, 'min_samples_leaf': 18, 'criterion': 'gini'}. Best is trial 100 with value: 0.5820433436532507.\u001b[0m\n",
      "\u001b[32m[I 2023-03-14 20:16:53,374]\u001b[0m Trial 211 finished with value: 0.5820433436532507 and parameters: {'max_depth': 15, 'min_samples_split': 27, 'min_samples_leaf': 18, 'criterion': 'gini'}. Best is trial 100 with value: 0.5820433436532507.\u001b[0m\n",
      "\u001b[32m[I 2023-03-14 20:16:53,408]\u001b[0m Trial 212 finished with value: 0.573208722741433 and parameters: {'max_depth': 16, 'min_samples_split': 27, 'min_samples_leaf': 19, 'criterion': 'gini'}. Best is trial 100 with value: 0.5820433436532507.\u001b[0m\n",
      "\u001b[32m[I 2023-03-14 20:16:53,442]\u001b[0m Trial 213 finished with value: 0.5820433436532507 and parameters: {'max_depth': 14, 'min_samples_split': 26, 'min_samples_leaf': 18, 'criterion': 'gini'}. Best is trial 100 with value: 0.5820433436532507.\u001b[0m\n",
      "\u001b[32m[I 2023-03-14 20:16:53,479]\u001b[0m Trial 214 finished with value: 0.571875 and parameters: {'max_depth': 15, 'min_samples_split': 28, 'min_samples_leaf': 16, 'criterion': 'gini'}. Best is trial 100 with value: 0.5820433436532507.\u001b[0m\n",
      "\u001b[32m[I 2023-03-14 20:16:53,516]\u001b[0m Trial 215 finished with value: 0.5820433436532507 and parameters: {'max_depth': 14, 'min_samples_split': 29, 'min_samples_leaf': 18, 'criterion': 'gini'}. Best is trial 100 with value: 0.5820433436532507.\u001b[0m\n",
      "\u001b[32m[I 2023-03-14 20:16:53,550]\u001b[0m Trial 216 finished with value: 0.5731895223420647 and parameters: {'max_depth': 13, 'min_samples_split': 28, 'min_samples_leaf': 17, 'criterion': 'gini'}. Best is trial 100 with value: 0.5820433436532507.\u001b[0m\n",
      "\u001b[32m[I 2023-03-14 20:16:53,586]\u001b[0m Trial 217 finished with value: 0.567398119122257 and parameters: {'max_depth': 12, 'min_samples_split': 30, 'min_samples_leaf': 19, 'criterion': 'gini'}. Best is trial 100 with value: 0.5820433436532507.\u001b[0m\n",
      "\u001b[32m[I 2023-03-14 20:16:53,621]\u001b[0m Trial 218 finished with value: 0.573208722741433 and parameters: {'max_depth': 15, 'min_samples_split': 29, 'min_samples_leaf': 19, 'criterion': 'gini'}. Best is trial 100 with value: 0.5820433436532507.\u001b[0m\n",
      "\u001b[32m[I 2023-03-14 20:16:53,656]\u001b[0m Trial 219 finished with value: 0.5731895223420647 and parameters: {'max_depth': 13, 'min_samples_split': 27, 'min_samples_leaf': 17, 'criterion': 'gini'}. Best is trial 100 with value: 0.5820433436532507.\u001b[0m\n",
      "\u001b[32m[I 2023-03-14 20:16:53,691]\u001b[0m Trial 220 finished with value: 0.5820433436532507 and parameters: {'max_depth': 16, 'min_samples_split': 28, 'min_samples_leaf': 18, 'criterion': 'gini'}. Best is trial 100 with value: 0.5820433436532507.\u001b[0m\n",
      "\u001b[32m[I 2023-03-14 20:16:53,726]\u001b[0m Trial 221 finished with value: 0.5820433436532507 and parameters: {'max_depth': 17, 'min_samples_split': 27, 'min_samples_leaf': 18, 'criterion': 'gini'}. Best is trial 100 with value: 0.5820433436532507.\u001b[0m\n",
      "\u001b[32m[I 2023-03-14 20:16:53,761]\u001b[0m Trial 222 finished with value: 0.5820433436532507 and parameters: {'max_depth': 16, 'min_samples_split': 30, 'min_samples_leaf': 18, 'criterion': 'gini'}. Best is trial 100 with value: 0.5820433436532507.\u001b[0m\n",
      "\u001b[32m[I 2023-03-14 20:16:53,796]\u001b[0m Trial 223 finished with value: 0.5820433436532507 and parameters: {'max_depth': 15, 'min_samples_split': 26, 'min_samples_leaf': 18, 'criterion': 'gini'}. Best is trial 100 with value: 0.5820433436532507.\u001b[0m\n",
      "\u001b[32m[I 2023-03-14 20:16:53,832]\u001b[0m Trial 224 finished with value: 0.5731895223420647 and parameters: {'max_depth': 14, 'min_samples_split': 27, 'min_samples_leaf': 17, 'criterion': 'gini'}. Best is trial 100 with value: 0.5820433436532507.\u001b[0m\n",
      "\u001b[32m[I 2023-03-14 20:16:53,868]\u001b[0m Trial 225 finished with value: 0.573208722741433 and parameters: {'max_depth': 14, 'min_samples_split': 28, 'min_samples_leaf': 19, 'criterion': 'gini'}. Best is trial 100 with value: 0.5820433436532507.\u001b[0m\n",
      "\u001b[32m[I 2023-03-14 20:16:53,902]\u001b[0m Trial 226 finished with value: 0.5705426356589148 and parameters: {'max_depth': 16, 'min_samples_split': 29, 'min_samples_leaf': 20, 'criterion': 'gini'}. Best is trial 100 with value: 0.5820433436532507.\u001b[0m\n",
      "\u001b[32m[I 2023-03-14 20:16:53,938]\u001b[0m Trial 227 finished with value: 0.5731895223420647 and parameters: {'max_depth': 15, 'min_samples_split': 28, 'min_samples_leaf': 17, 'criterion': 'gini'}. Best is trial 100 with value: 0.5820433436532507.\u001b[0m\n",
      "\u001b[32m[I 2023-03-14 20:16:53,975]\u001b[0m Trial 228 finished with value: 0.5820433436532507 and parameters: {'max_depth': 13, 'min_samples_split': 30, 'min_samples_leaf': 18, 'criterion': 'gini'}. Best is trial 100 with value: 0.5820433436532507.\u001b[0m\n",
      "\u001b[32m[I 2023-03-14 20:16:54,009]\u001b[0m Trial 229 finished with value: 0.5820433436532507 and parameters: {'max_depth': 14, 'min_samples_split': 29, 'min_samples_leaf': 18, 'criterion': 'gini'}. Best is trial 100 with value: 0.5820433436532507.\u001b[0m\n",
      "\u001b[32m[I 2023-03-14 20:16:54,045]\u001b[0m Trial 230 finished with value: 0.573208722741433 and parameters: {'max_depth': 13, 'min_samples_split': 28, 'min_samples_leaf': 19, 'criterion': 'gini'}. Best is trial 100 with value: 0.5820433436532507.\u001b[0m\n",
      "\u001b[32m[I 2023-03-14 20:16:54,080]\u001b[0m Trial 231 finished with value: 0.5820433436532507 and parameters: {'max_depth': 12, 'min_samples_split': 29, 'min_samples_leaf': 18, 'criterion': 'gini'}. Best is trial 100 with value: 0.5820433436532507.\u001b[0m\n",
      "\u001b[32m[I 2023-03-14 20:16:54,115]\u001b[0m Trial 232 finished with value: 0.573208722741433 and parameters: {'max_depth': 14, 'min_samples_split': 29, 'min_samples_leaf': 19, 'criterion': 'gini'}. Best is trial 100 with value: 0.5820433436532507.\u001b[0m\n",
      "\u001b[32m[I 2023-03-14 20:16:54,152]\u001b[0m Trial 233 finished with value: 0.5731895223420647 and parameters: {'max_depth': 12, 'min_samples_split': 27, 'min_samples_leaf': 17, 'criterion': 'gini'}. Best is trial 100 with value: 0.5820433436532507.\u001b[0m\n",
      "\u001b[32m[I 2023-03-14 20:16:54,186]\u001b[0m Trial 234 finished with value: 0.5820433436532507 and parameters: {'max_depth': 11, 'min_samples_split': 30, 'min_samples_leaf': 18, 'criterion': 'gini'}. Best is trial 100 with value: 0.5820433436532507.\u001b[0m\n",
      "\u001b[32m[I 2023-03-14 20:16:54,222]\u001b[0m Trial 235 finished with value: 0.5731895223420647 and parameters: {'max_depth': 12, 'min_samples_split': 29, 'min_samples_leaf': 17, 'criterion': 'gini'}. Best is trial 100 with value: 0.5820433436532507.\u001b[0m\n",
      "\u001b[32m[I 2023-03-14 20:16:54,257]\u001b[0m Trial 236 finished with value: 0.5820433436532507 and parameters: {'max_depth': 15, 'min_samples_split': 28, 'min_samples_leaf': 18, 'criterion': 'gini'}. Best is trial 100 with value: 0.5820433436532507.\u001b[0m\n",
      "\u001b[32m[I 2023-03-14 20:16:54,294]\u001b[0m Trial 237 finished with value: 0.571875 and parameters: {'max_depth': 13, 'min_samples_split': 30, 'min_samples_leaf': 16, 'criterion': 'gini'}. Best is trial 100 with value: 0.5820433436532507.\u001b[0m\n"
     ]
    },
    {
     "name": "stderr",
     "output_type": "stream",
     "text": [
      "\u001b[32m[I 2023-03-14 20:16:54,329]\u001b[0m Trial 238 finished with value: 0.573208722741433 and parameters: {'max_depth': 14, 'min_samples_split': 28, 'min_samples_leaf': 19, 'criterion': 'gini'}. Best is trial 100 with value: 0.5820433436532507.\u001b[0m\n",
      "\u001b[32m[I 2023-03-14 20:16:54,365]\u001b[0m Trial 239 finished with value: 0.5820433436532507 and parameters: {'max_depth': 16, 'min_samples_split': 29, 'min_samples_leaf': 18, 'criterion': 'gini'}. Best is trial 100 with value: 0.5820433436532507.\u001b[0m\n",
      "\u001b[32m[I 2023-03-14 20:16:54,404]\u001b[0m Trial 240 finished with value: 0.5531250000000001 and parameters: {'max_depth': 17, 'min_samples_split': 27, 'min_samples_leaf': 17, 'criterion': 'entropy'}. Best is trial 100 with value: 0.5820433436532507.\u001b[0m\n",
      "\u001b[32m[I 2023-03-14 20:16:54,440]\u001b[0m Trial 241 finished with value: 0.5820433436532507 and parameters: {'max_depth': 15, 'min_samples_split': 28, 'min_samples_leaf': 18, 'criterion': 'gini'}. Best is trial 100 with value: 0.5820433436532507.\u001b[0m\n",
      "\u001b[32m[I 2023-03-14 20:16:54,475]\u001b[0m Trial 242 finished with value: 0.5820433436532507 and parameters: {'max_depth': 14, 'min_samples_split': 29, 'min_samples_leaf': 18, 'criterion': 'gini'}. Best is trial 100 with value: 0.5820433436532507.\u001b[0m\n",
      "\u001b[32m[I 2023-03-14 20:16:54,511]\u001b[0m Trial 243 finished with value: 0.573208722741433 and parameters: {'max_depth': 13, 'min_samples_split': 28, 'min_samples_leaf': 19, 'criterion': 'gini'}. Best is trial 100 with value: 0.5820433436532507.\u001b[0m\n",
      "\u001b[32m[I 2023-03-14 20:16:54,547]\u001b[0m Trial 244 finished with value: 0.5820433436532507 and parameters: {'max_depth': 14, 'min_samples_split': 29, 'min_samples_leaf': 18, 'criterion': 'gini'}. Best is trial 100 with value: 0.5820433436532507.\u001b[0m\n",
      "\u001b[32m[I 2023-03-14 20:16:54,582]\u001b[0m Trial 245 finished with value: 0.5820433436532507 and parameters: {'max_depth': 14, 'min_samples_split': 27, 'min_samples_leaf': 18, 'criterion': 'gini'}. Best is trial 100 with value: 0.5820433436532507.\u001b[0m\n",
      "\u001b[32m[I 2023-03-14 20:16:54,620]\u001b[0m Trial 246 finished with value: 0.5731895223420647 and parameters: {'max_depth': 15, 'min_samples_split': 28, 'min_samples_leaf': 17, 'criterion': 'gini'}. Best is trial 100 with value: 0.5820433436532507.\u001b[0m\n",
      "\u001b[32m[I 2023-03-14 20:16:54,662]\u001b[0m Trial 247 finished with value: 0.573208722741433 and parameters: {'max_depth': 13, 'min_samples_split': 30, 'min_samples_leaf': 19, 'criterion': 'gini'}. Best is trial 100 with value: 0.5820433436532507.\u001b[0m\n",
      "\u001b[32m[I 2023-03-14 20:16:54,702]\u001b[0m Trial 248 finished with value: 0.5820433436532507 and parameters: {'max_depth': 13, 'min_samples_split': 29, 'min_samples_leaf': 18, 'criterion': 'gini'}. Best is trial 100 with value: 0.5820433436532507.\u001b[0m\n",
      "\u001b[32m[I 2023-03-14 20:16:54,743]\u001b[0m Trial 249 finished with value: 0.567398119122257 and parameters: {'max_depth': 12, 'min_samples_split': 28, 'min_samples_leaf': 19, 'criterion': 'gini'}. Best is trial 100 with value: 0.5820433436532507.\u001b[0m\n",
      "\u001b[32m[I 2023-03-14 20:16:54,783]\u001b[0m Trial 250 finished with value: 0.5731895223420647 and parameters: {'max_depth': 14, 'min_samples_split': 16, 'min_samples_leaf': 17, 'criterion': 'gini'}. Best is trial 100 with value: 0.5820433436532507.\u001b[0m\n",
      "\u001b[32m[I 2023-03-14 20:16:54,820]\u001b[0m Trial 251 finished with value: 0.5820433436532507 and parameters: {'max_depth': 15, 'min_samples_split': 30, 'min_samples_leaf': 18, 'criterion': 'gini'}. Best is trial 100 with value: 0.5820433436532507.\u001b[0m\n",
      "\u001b[32m[I 2023-03-14 20:16:54,858]\u001b[0m Trial 252 finished with value: 0.5731895223420647 and parameters: {'max_depth': 16, 'min_samples_split': 26, 'min_samples_leaf': 17, 'criterion': 'gini'}. Best is trial 100 with value: 0.5820433436532507.\u001b[0m\n",
      "\u001b[32m[I 2023-03-14 20:16:54,895]\u001b[0m Trial 253 finished with value: 0.573208722741433 and parameters: {'max_depth': 15, 'min_samples_split': 29, 'min_samples_leaf': 19, 'criterion': 'gini'}. Best is trial 100 with value: 0.5820433436532507.\u001b[0m\n",
      "\u001b[32m[I 2023-03-14 20:16:54,934]\u001b[0m Trial 254 finished with value: 0.5820433436532507 and parameters: {'max_depth': 13, 'min_samples_split': 27, 'min_samples_leaf': 18, 'criterion': 'gini'}. Best is trial 100 with value: 0.5820433436532507.\u001b[0m\n",
      "\u001b[32m[I 2023-03-14 20:16:54,971]\u001b[0m Trial 255 finished with value: 0.5705426356589148 and parameters: {'max_depth': 14, 'min_samples_split': 29, 'min_samples_leaf': 20, 'criterion': 'gini'}. Best is trial 100 with value: 0.5820433436532507.\u001b[0m\n",
      "\u001b[32m[I 2023-03-14 20:16:55,009]\u001b[0m Trial 256 finished with value: 0.571875 and parameters: {'max_depth': 14, 'min_samples_split': 28, 'min_samples_leaf': 16, 'criterion': 'gini'}. Best is trial 100 with value: 0.5820433436532507.\u001b[0m\n",
      "\u001b[32m[I 2023-03-14 20:16:55,046]\u001b[0m Trial 257 finished with value: 0.5731895223420647 and parameters: {'max_depth': 15, 'min_samples_split': 30, 'min_samples_leaf': 17, 'criterion': 'gini'}. Best is trial 100 with value: 0.5820433436532507.\u001b[0m\n",
      "\u001b[32m[I 2023-03-14 20:16:55,084]\u001b[0m Trial 258 finished with value: 0.5820433436532507 and parameters: {'max_depth': 13, 'min_samples_split': 28, 'min_samples_leaf': 18, 'criterion': 'gini'}. Best is trial 100 with value: 0.5820433436532507.\u001b[0m\n",
      "\u001b[32m[I 2023-03-14 20:16:55,122]\u001b[0m Trial 259 finished with value: 0.567398119122257 and parameters: {'max_depth': 12, 'min_samples_split': 27, 'min_samples_leaf': 19, 'criterion': 'gini'}. Best is trial 100 with value: 0.5820433436532507.\u001b[0m\n",
      "\u001b[32m[I 2023-03-14 20:16:55,159]\u001b[0m Trial 260 finished with value: 0.5820433436532507 and parameters: {'max_depth': 14, 'min_samples_split': 30, 'min_samples_leaf': 18, 'criterion': 'gini'}. Best is trial 100 with value: 0.5820433436532507.\u001b[0m\n",
      "\u001b[32m[I 2023-03-14 20:16:55,197]\u001b[0m Trial 261 finished with value: 0.5731895223420647 and parameters: {'max_depth': 15, 'min_samples_split': 29, 'min_samples_leaf': 17, 'criterion': 'gini'}. Best is trial 100 with value: 0.5820433436532507.\u001b[0m\n",
      "\u001b[32m[I 2023-03-14 20:16:55,236]\u001b[0m Trial 262 finished with value: 0.573208722741433 and parameters: {'max_depth': 16, 'min_samples_split': 28, 'min_samples_leaf': 19, 'criterion': 'gini'}. Best is trial 100 with value: 0.5820433436532507.\u001b[0m\n",
      "\u001b[32m[I 2023-03-14 20:16:55,273]\u001b[0m Trial 263 finished with value: 0.5820433436532507 and parameters: {'max_depth': 13, 'min_samples_split': 26, 'min_samples_leaf': 18, 'criterion': 'gini'}. Best is trial 100 with value: 0.5820433436532507.\u001b[0m\n",
      "\u001b[32m[I 2023-03-14 20:16:55,315]\u001b[0m Trial 264 finished with value: 0.5731895223420647 and parameters: {'max_depth': 14, 'min_samples_split': 29, 'min_samples_leaf': 17, 'criterion': 'gini'}. Best is trial 100 with value: 0.5820433436532507.\u001b[0m\n",
      "\u001b[32m[I 2023-03-14 20:16:55,356]\u001b[0m Trial 265 finished with value: 0.5511811023622047 and parameters: {'max_depth': 12, 'min_samples_split': 30, 'min_samples_leaf': 20, 'criterion': 'entropy'}. Best is trial 100 with value: 0.5820433436532507.\u001b[0m\n",
      "\u001b[32m[I 2023-03-14 20:16:55,393]\u001b[0m Trial 266 finished with value: 0.567398119122257 and parameters: {'max_depth': 11, 'min_samples_split': 27, 'min_samples_leaf': 19, 'criterion': 'gini'}. Best is trial 100 with value: 0.5820433436532507.\u001b[0m\n",
      "\u001b[32m[I 2023-03-14 20:16:55,431]\u001b[0m Trial 267 finished with value: 0.5412844036697247 and parameters: {'max_depth': 15, 'min_samples_split': 29, 'min_samples_leaf': 5, 'criterion': 'gini'}. Best is trial 100 with value: 0.5820433436532507.\u001b[0m\n",
      "\u001b[32m[I 2023-03-14 20:16:55,469]\u001b[0m Trial 268 finished with value: 0.5820433436532507 and parameters: {'max_depth': 13, 'min_samples_split': 28, 'min_samples_leaf': 18, 'criterion': 'gini'}. Best is trial 100 with value: 0.5820433436532507.\u001b[0m\n",
      "\u001b[32m[I 2023-03-14 20:16:55,508]\u001b[0m Trial 269 finished with value: 0.5820433436532507 and parameters: {'max_depth': 17, 'min_samples_split': 30, 'min_samples_leaf': 18, 'criterion': 'gini'}. Best is trial 100 with value: 0.5820433436532507.\u001b[0m\n",
      "\u001b[32m[I 2023-03-14 20:16:55,546]\u001b[0m Trial 270 finished with value: 0.5731895223420647 and parameters: {'max_depth': 14, 'min_samples_split': 29, 'min_samples_leaf': 17, 'criterion': 'gini'}. Best is trial 100 with value: 0.5820433436532507.\u001b[0m\n",
      "\u001b[32m[I 2023-03-14 20:16:55,585]\u001b[0m Trial 271 finished with value: 0.571875 and parameters: {'max_depth': 15, 'min_samples_split': 27, 'min_samples_leaf': 16, 'criterion': 'gini'}. Best is trial 100 with value: 0.5820433436532507.\u001b[0m\n"
     ]
    },
    {
     "name": "stderr",
     "output_type": "stream",
     "text": [
      "\u001b[32m[I 2023-03-14 20:16:55,624]\u001b[0m Trial 272 finished with value: 0.573208722741433 and parameters: {'max_depth': 16, 'min_samples_split': 28, 'min_samples_leaf': 19, 'criterion': 'gini'}. Best is trial 100 with value: 0.5820433436532507.\u001b[0m\n",
      "\u001b[32m[I 2023-03-14 20:16:55,664]\u001b[0m Trial 273 finished with value: 0.5820433436532507 and parameters: {'max_depth': 14, 'min_samples_split': 28, 'min_samples_leaf': 18, 'criterion': 'gini'}. Best is trial 100 with value: 0.5820433436532507.\u001b[0m\n",
      "\u001b[32m[I 2023-03-14 20:16:55,702]\u001b[0m Trial 274 finished with value: 0.5731895223420647 and parameters: {'max_depth': 14, 'min_samples_split': 30, 'min_samples_leaf': 17, 'criterion': 'gini'}. Best is trial 100 with value: 0.5820433436532507.\u001b[0m\n",
      "\u001b[32m[I 2023-03-14 20:16:55,745]\u001b[0m Trial 275 finished with value: 0.573208722741433 and parameters: {'max_depth': 13, 'min_samples_split': 29, 'min_samples_leaf': 19, 'criterion': 'gini'}. Best is trial 100 with value: 0.5820433436532507.\u001b[0m\n",
      "\u001b[32m[I 2023-03-14 20:16:55,784]\u001b[0m Trial 276 finished with value: 0.5820433436532507 and parameters: {'max_depth': 12, 'min_samples_split': 11, 'min_samples_leaf': 18, 'criterion': 'gini'}. Best is trial 100 with value: 0.5820433436532507.\u001b[0m\n",
      "\u001b[32m[I 2023-03-14 20:16:55,826]\u001b[0m Trial 277 finished with value: 0.5705426356589148 and parameters: {'max_depth': 16, 'min_samples_split': 29, 'min_samples_leaf': 20, 'criterion': 'gini'}. Best is trial 100 with value: 0.5820433436532507.\u001b[0m\n",
      "\u001b[32m[I 2023-03-14 20:16:55,865]\u001b[0m Trial 278 finished with value: 0.5731895223420647 and parameters: {'max_depth': 13, 'min_samples_split': 27, 'min_samples_leaf': 17, 'criterion': 'gini'}. Best is trial 100 with value: 0.5820433436532507.\u001b[0m\n",
      "\u001b[32m[I 2023-03-14 20:16:55,904]\u001b[0m Trial 279 finished with value: 0.573208722741433 and parameters: {'max_depth': 15, 'min_samples_split': 28, 'min_samples_leaf': 19, 'criterion': 'gini'}. Best is trial 100 with value: 0.5820433436532507.\u001b[0m\n",
      "\u001b[32m[I 2023-03-14 20:16:55,941]\u001b[0m Trial 280 finished with value: 0.5820433436532507 and parameters: {'max_depth': 14, 'min_samples_split': 30, 'min_samples_leaf': 18, 'criterion': 'gini'}. Best is trial 100 with value: 0.5820433436532507.\u001b[0m\n",
      "\u001b[32m[I 2023-03-14 20:16:55,981]\u001b[0m Trial 281 finished with value: 0.571875 and parameters: {'max_depth': 13, 'min_samples_split': 29, 'min_samples_leaf': 16, 'criterion': 'gini'}. Best is trial 100 with value: 0.5820433436532507.\u001b[0m\n",
      "\u001b[32m[I 2023-03-14 20:16:56,019]\u001b[0m Trial 282 finished with value: 0.5820433436532507 and parameters: {'max_depth': 15, 'min_samples_split': 28, 'min_samples_leaf': 18, 'criterion': 'gini'}. Best is trial 100 with value: 0.5820433436532507.\u001b[0m\n",
      "\u001b[32m[I 2023-03-14 20:16:56,058]\u001b[0m Trial 283 finished with value: 0.5709828393135725 and parameters: {'max_depth': 10, 'min_samples_split': 30, 'min_samples_leaf': 18, 'criterion': 'gini'}. Best is trial 100 with value: 0.5820433436532507.\u001b[0m\n",
      "\u001b[32m[I 2023-03-14 20:16:56,097]\u001b[0m Trial 284 finished with value: 0.573208722741433 and parameters: {'max_depth': 14, 'min_samples_split': 27, 'min_samples_leaf': 19, 'criterion': 'gini'}. Best is trial 100 with value: 0.5820433436532507.\u001b[0m\n",
      "\u001b[32m[I 2023-03-14 20:16:56,142]\u001b[0m Trial 285 finished with value: 0.5244865718799369 and parameters: {'max_depth': 16, 'min_samples_split': 28, 'min_samples_leaf': 10, 'criterion': 'entropy'}. Best is trial 100 with value: 0.5820433436532507.\u001b[0m\n",
      "\u001b[32m[I 2023-03-14 20:16:56,180]\u001b[0m Trial 286 finished with value: 0.5731895223420647 and parameters: {'max_depth': 12, 'min_samples_split': 29, 'min_samples_leaf': 17, 'criterion': 'gini'}. Best is trial 100 with value: 0.5820433436532507.\u001b[0m\n",
      "\u001b[32m[I 2023-03-14 20:16:56,211]\u001b[0m Trial 287 finished with value: 0.5211267605633803 and parameters: {'max_depth': 4, 'min_samples_split': 26, 'min_samples_leaf': 18, 'criterion': 'gini'}. Best is trial 100 with value: 0.5820433436532507.\u001b[0m\n",
      "\u001b[32m[I 2023-03-14 20:16:56,249]\u001b[0m Trial 288 finished with value: 0.5731895223420647 and parameters: {'max_depth': 13, 'min_samples_split': 25, 'min_samples_leaf': 17, 'criterion': 'gini'}. Best is trial 100 with value: 0.5820433436532507.\u001b[0m\n",
      "\u001b[32m[I 2023-03-14 20:16:56,287]\u001b[0m Trial 289 finished with value: 0.573208722741433 and parameters: {'max_depth': 14, 'min_samples_split': 12, 'min_samples_leaf': 19, 'criterion': 'gini'}. Best is trial 100 with value: 0.5820433436532507.\u001b[0m\n",
      "\u001b[32m[I 2023-03-14 20:16:56,326]\u001b[0m Trial 290 finished with value: 0.5820433436532507 and parameters: {'max_depth': 15, 'min_samples_split': 29, 'min_samples_leaf': 18, 'criterion': 'gini'}. Best is trial 100 with value: 0.5820433436532507.\u001b[0m\n",
      "\u001b[32m[I 2023-03-14 20:16:56,364]\u001b[0m Trial 291 finished with value: 0.5705426356589148 and parameters: {'max_depth': 14, 'min_samples_split': 28, 'min_samples_leaf': 20, 'criterion': 'gini'}. Best is trial 100 with value: 0.5820433436532507.\u001b[0m\n",
      "\u001b[32m[I 2023-03-14 20:16:56,402]\u001b[0m Trial 292 finished with value: 0.5731895223420647 and parameters: {'max_depth': 13, 'min_samples_split': 29, 'min_samples_leaf': 17, 'criterion': 'gini'}. Best is trial 100 with value: 0.5820433436532507.\u001b[0m\n",
      "\u001b[32m[I 2023-03-14 20:16:56,443]\u001b[0m Trial 293 finished with value: 0.573208722741433 and parameters: {'max_depth': 17, 'min_samples_split': 30, 'min_samples_leaf': 19, 'criterion': 'gini'}. Best is trial 100 with value: 0.5820433436532507.\u001b[0m\n",
      "\u001b[32m[I 2023-03-14 20:16:56,480]\u001b[0m Trial 294 finished with value: 0.571875 and parameters: {'max_depth': 15, 'min_samples_split': 28, 'min_samples_leaf': 16, 'criterion': 'gini'}. Best is trial 100 with value: 0.5820433436532507.\u001b[0m\n",
      "\u001b[32m[I 2023-03-14 20:16:56,518]\u001b[0m Trial 295 finished with value: 0.5820433436532507 and parameters: {'max_depth': 14, 'min_samples_split': 27, 'min_samples_leaf': 18, 'criterion': 'gini'}. Best is trial 100 with value: 0.5820433436532507.\u001b[0m\n",
      "\u001b[32m[I 2023-03-14 20:16:56,558]\u001b[0m Trial 296 finished with value: 0.5820433436532507 and parameters: {'max_depth': 15, 'min_samples_split': 29, 'min_samples_leaf': 18, 'criterion': 'gini'}. Best is trial 100 with value: 0.5820433436532507.\u001b[0m\n",
      "\u001b[32m[I 2023-03-14 20:16:56,595]\u001b[0m Trial 297 finished with value: 0.5731895223420647 and parameters: {'max_depth': 11, 'min_samples_split': 30, 'min_samples_leaf': 17, 'criterion': 'gini'}. Best is trial 100 with value: 0.5820433436532507.\u001b[0m\n",
      "\u001b[32m[I 2023-03-14 20:16:56,634]\u001b[0m Trial 298 finished with value: 0.5751824817518248 and parameters: {'max_depth': 12, 'min_samples_split': 28, 'min_samples_leaf': 15, 'criterion': 'gini'}. Best is trial 100 with value: 0.5820433436532507.\u001b[0m\n",
      "\u001b[32m[I 2023-03-14 20:16:56,673]\u001b[0m Trial 299 finished with value: 0.573208722741433 and parameters: {'max_depth': 16, 'min_samples_split': 27, 'min_samples_leaf': 19, 'criterion': 'gini'}. Best is trial 100 with value: 0.5820433436532507.\u001b[0m\n"
     ]
    },
    {
     "name": "stdout",
     "output_type": "stream",
     "text": [
      "Best trial:\n",
      "  Score: 0.582\n",
      "  Params: \n",
      "    max_depth: 16\n",
      "    min_samples_split: 30\n",
      "    min_samples_leaf: 18\n",
      "    criterion: gini\n"
     ]
    }
   ],
   "source": [
    "study = optuna.create_study(direction='maximize')\n",
    "\n",
    "study.optimize(objective, n_trials=300)\n",
    "\n",
    "print('Best trial:')\n",
    "trial = study.best_trial\n",
    "print(f'  Score: {trial.value:.3f}')\n",
    "print('  Params: ')\n",
    "for key, value in trial.params.items():\n",
    "    print(f'    {key}: {value}')"
   ]
  },
  {
   "cell_type": "code",
   "execution_count": 112,
   "metadata": {},
   "outputs": [
    {
     "data": {
      "text/plain": [
       "DecisionTreeClassifier(max_depth=26, min_samples_leaf=18, min_samples_split=14,\n",
       "                       random_state=322)"
      ]
     },
     "execution_count": 112,
     "metadata": {},
     "output_type": "execute_result"
    }
   ],
   "source": [
    "dtc = DecisionTreeClassifier(max_depth=26,\n",
    "                                   min_samples_split=14,\n",
    "                                   min_samples_leaf=18,\n",
    "                                   criterion='gini',\n",
    "                                   random_state=322)\n",
    "dtc.fit(features_train, target_train)"
   ]
  },
  {
   "cell_type": "code",
   "execution_count": 113,
   "metadata": {
    "scrolled": true
   },
   "outputs": [
    {
     "data": {
      "text/plain": [
       "0.811"
      ]
     },
     "execution_count": 113,
     "metadata": {},
     "output_type": "execute_result"
    }
   ],
   "source": [
    "prob_one_valid = dtc.predict_proba(features_valid)[:, 1]\n",
    "roc_auc_score(target_valid, prob_one_valid).round(3)"
   ]
  },
  {
   "cell_type": "markdown",
   "metadata": {},
   "source": [
    "Наиболее точной проявила себя молель дерева решений с: \n",
    "- max_depth: 26\n",
    "- min_samples_split: 14\n",
    "- min_samples_leaf: 18\n",
    "- criterion: gini"
   ]
  },
  {
   "cell_type": "markdown",
   "metadata": {},
   "source": [
    "Результаты дерева решения оказались наилучшими, F1=0,582 и AUC-ROC=0,811."
   ]
  },
  {
   "cell_type": "markdown",
   "metadata": {},
   "source": [
    "## Борьба с дисбалансом"
   ]
  },
  {
   "cell_type": "markdown",
   "metadata": {},
   "source": [
    "Применим различные методы борьбы с дисбалансом."
   ]
  },
  {
   "cell_type": "markdown",
   "metadata": {},
   "source": [
    "### Взвешивание классов"
   ]
  },
  {
   "cell_type": "markdown",
   "metadata": {},
   "source": [
    "#### Случайный лес"
   ]
  },
  {
   "cell_type": "markdown",
   "metadata": {},
   "source": [
    "Обучим модели с перебором гиперпараметров и сделаем веса классов сбалансированными с помощью аргумента `class_weight`."
   ]
  },
  {
   "cell_type": "code",
   "execution_count": 114,
   "metadata": {},
   "outputs": [],
   "source": [
    "def objective(trial):\n",
    "    n_estimators = trial.suggest_int('n_estimators', 20, 150)\n",
    "    max_depth = trial.suggest_int('max_depth', 2, 30)\n",
    "    min_samples_split = trial.suggest_int('min_samples_split', 2, 10)\n",
    "    min_samples_leaf = trial.suggest_int('min_samples_leaf', 1, 10)\n",
    "    criterion = trial.suggest_categorical('criterion', ['gini', 'entropy'])\n",
    "\n",
    "    rfc = RandomForestClassifier(n_estimators=n_estimators,\n",
    "                                   max_depth=max_depth,\n",
    "                                   min_samples_split=min_samples_split,\n",
    "                                   min_samples_leaf=min_samples_leaf,\n",
    "                                   criterion=criterion,\n",
    "                                   class_weight='balanced',\n",
    "                                   random_state=322)\n",
    "\n",
    "    rfc.fit(features_train, target_train)\n",
    "\n",
    "    predicted_valid = rfc.predict(features_valid)\n",
    "\n",
    "    f1 = f1_score(predicted_valid, target_valid)\n",
    "    return f1"
   ]
  },
  {
   "cell_type": "code",
   "execution_count": 115,
   "metadata": {
    "scrolled": true
   },
   "outputs": [
    {
     "name": "stderr",
     "output_type": "stream",
     "text": [
      "\u001b[32m[I 2023-03-14 20:16:56,745]\u001b[0m A new study created in memory with name: no-name-cca8e4e6-41ec-4f20-a980-bdec0227a9f4\u001b[0m\n",
      "\u001b[32m[I 2023-03-14 20:16:56,957]\u001b[0m Trial 0 finished with value: 0.6040609137055838 and parameters: {'n_estimators': 43, 'max_depth': 20, 'min_samples_split': 5, 'min_samples_leaf': 6, 'criterion': 'entropy'}. Best is trial 0 with value: 0.6040609137055838.\u001b[0m\n",
      "\u001b[32m[I 2023-03-14 20:16:57,314]\u001b[0m Trial 1 finished with value: 0.618918918918919 and parameters: {'n_estimators': 77, 'max_depth': 17, 'min_samples_split': 8, 'min_samples_leaf': 4, 'criterion': 'entropy'}. Best is trial 1 with value: 0.618918918918919.\u001b[0m\n",
      "\u001b[32m[I 2023-03-14 20:16:57,417]\u001b[0m Trial 2 finished with value: 0.5948372615039281 and parameters: {'n_estimators': 37, 'max_depth': 6, 'min_samples_split': 9, 'min_samples_leaf': 8, 'criterion': 'gini'}. Best is trial 1 with value: 0.618918918918919.\u001b[0m\n",
      "\u001b[32m[I 2023-03-14 20:16:57,540]\u001b[0m Trial 3 finished with value: 0.5959079283887467 and parameters: {'n_estimators': 32, 'max_depth': 20, 'min_samples_split': 3, 'min_samples_leaf': 5, 'criterion': 'gini'}. Best is trial 1 with value: 0.618918918918919.\u001b[0m\n",
      "\u001b[32m[I 2023-03-14 20:16:57,916]\u001b[0m Trial 4 finished with value: 0.610958904109589 and parameters: {'n_estimators': 82, 'max_depth': 26, 'min_samples_split': 2, 'min_samples_leaf': 4, 'criterion': 'entropy'}. Best is trial 1 with value: 0.618918918918919.\u001b[0m\n",
      "\u001b[32m[I 2023-03-14 20:16:58,235]\u001b[0m Trial 5 finished with value: 0.594298245614035 and parameters: {'n_estimators': 120, 'max_depth': 6, 'min_samples_split': 7, 'min_samples_leaf': 9, 'criterion': 'gini'}. Best is trial 1 with value: 0.618918918918919.\u001b[0m\n",
      "\u001b[32m[I 2023-03-14 20:16:58,322]\u001b[0m Trial 6 finished with value: 0.5934579439252337 and parameters: {'n_estimators': 20, 'max_depth': 17, 'min_samples_split': 10, 'min_samples_leaf': 10, 'criterion': 'entropy'}. Best is trial 1 with value: 0.618918918918919.\u001b[0m\n",
      "\u001b[32m[I 2023-03-14 20:16:58,840]\u001b[0m Trial 7 finished with value: 0.59837019790454 and parameters: {'n_estimators': 145, 'max_depth': 8, 'min_samples_split': 2, 'min_samples_leaf': 5, 'criterion': 'entropy'}. Best is trial 1 with value: 0.618918918918919.\u001b[0m\n",
      "\u001b[32m[I 2023-03-14 20:16:59,253]\u001b[0m Trial 8 finished with value: 0.594222833562586 and parameters: {'n_estimators': 113, 'max_depth': 11, 'min_samples_split': 6, 'min_samples_leaf': 1, 'criterion': 'gini'}. Best is trial 1 with value: 0.618918918918919.\u001b[0m\n",
      "\u001b[32m[I 2023-03-14 20:16:59,436]\u001b[0m Trial 9 finished with value: 0.6032138442521632 and parameters: {'n_estimators': 51, 'max_depth': 21, 'min_samples_split': 4, 'min_samples_leaf': 7, 'criterion': 'gini'}. Best is trial 1 with value: 0.618918918918919.\u001b[0m\n",
      "\u001b[32m[I 2023-03-14 20:16:59,799]\u001b[0m Trial 10 finished with value: 0.5928057553956835 and parameters: {'n_estimators': 74, 'max_depth': 29, 'min_samples_split': 8, 'min_samples_leaf': 2, 'criterion': 'entropy'}. Best is trial 1 with value: 0.618918918918919.\u001b[0m\n",
      "\u001b[32m[I 2023-03-14 20:17:00,190]\u001b[0m Trial 11 finished with value: 0.6022727272727272 and parameters: {'n_estimators': 80, 'max_depth': 29, 'min_samples_split': 7, 'min_samples_leaf': 3, 'criterion': 'entropy'}. Best is trial 1 with value: 0.618918918918919.\u001b[0m\n",
      "\u001b[32m[I 2023-03-14 20:17:00,649]\u001b[0m Trial 12 finished with value: 0.612685560053981 and parameters: {'n_estimators': 99, 'max_depth': 25, 'min_samples_split': 2, 'min_samples_leaf': 4, 'criterion': 'entropy'}. Best is trial 1 with value: 0.618918918918919.\u001b[0m\n",
      "\u001b[32m[I 2023-03-14 20:17:01,133]\u001b[0m Trial 13 finished with value: 0.5966850828729282 and parameters: {'n_estimators': 105, 'max_depth': 13, 'min_samples_split': 5, 'min_samples_leaf': 3, 'criterion': 'entropy'}. Best is trial 1 with value: 0.618918918918919.\u001b[0m\n",
      "\u001b[32m[I 2023-03-14 20:17:01,424]\u001b[0m Trial 14 finished with value: 0.6141522029372497 and parameters: {'n_estimators': 63, 'max_depth': 24, 'min_samples_split': 10, 'min_samples_leaf': 4, 'criterion': 'entropy'}. Best is trial 1 with value: 0.618918918918919.\u001b[0m\n",
      "\u001b[32m[I 2023-03-14 20:17:01,558]\u001b[0m Trial 15 finished with value: 0.5714285714285714 and parameters: {'n_estimators': 66, 'max_depth': 2, 'min_samples_split': 10, 'min_samples_leaf': 6, 'criterion': 'entropy'}. Best is trial 1 with value: 0.618918918918919.\u001b[0m\n",
      "\u001b[32m[I 2023-03-14 20:17:01,866]\u001b[0m Trial 16 finished with value: 0.5977011494252873 and parameters: {'n_estimators': 63, 'max_depth': 15, 'min_samples_split': 9, 'min_samples_leaf': 1, 'criterion': 'entropy'}. Best is trial 1 with value: 0.618918918918919.\u001b[0m\n",
      "\u001b[32m[I 2023-03-14 20:17:02,315]\u001b[0m Trial 17 finished with value: 0.6019417475728155 and parameters: {'n_estimators': 93, 'max_depth': 23, 'min_samples_split': 8, 'min_samples_leaf': 3, 'criterion': 'entropy'}. Best is trial 1 with value: 0.618918918918919.\u001b[0m\n",
      "\u001b[32m[I 2023-03-14 20:17:02,586]\u001b[0m Trial 18 finished with value: 0.5941644562334217 and parameters: {'n_estimators': 57, 'max_depth': 16, 'min_samples_split': 9, 'min_samples_leaf': 4, 'criterion': 'entropy'}. Best is trial 1 with value: 0.618918918918919.\u001b[0m\n",
      "\u001b[32m[I 2023-03-14 20:17:03,148]\u001b[0m Trial 19 finished with value: 0.6129032258064515 and parameters: {'n_estimators': 133, 'max_depth': 18, 'min_samples_split': 10, 'min_samples_leaf': 7, 'criterion': 'entropy'}. Best is trial 1 with value: 0.618918918918919.\u001b[0m\n",
      "\u001b[32m[I 2023-03-14 20:17:03,500]\u001b[0m Trial 20 finished with value: 0.5882352941176471 and parameters: {'n_estimators': 72, 'max_depth': 26, 'min_samples_split': 8, 'min_samples_leaf': 2, 'criterion': 'entropy'}. Best is trial 1 with value: 0.618918918918919.\u001b[0m\n",
      "\u001b[32m[I 2023-03-14 20:17:04,065]\u001b[0m Trial 21 finished with value: 0.6161490683229814 and parameters: {'n_estimators': 134, 'max_depth': 18, 'min_samples_split': 10, 'min_samples_leaf': 7, 'criterion': 'entropy'}. Best is trial 1 with value: 0.618918918918919.\u001b[0m\n",
      "\u001b[32m[I 2023-03-14 20:17:04,462]\u001b[0m Trial 22 finished with value: 0.620603015075377 and parameters: {'n_estimators': 90, 'max_depth': 23, 'min_samples_split': 9, 'min_samples_leaf': 7, 'criterion': 'entropy'}. Best is trial 22 with value: 0.620603015075377.\u001b[0m\n",
      "\u001b[32m[I 2023-03-14 20:17:04,999]\u001b[0m Trial 23 finished with value: 0.6157575757575758 and parameters: {'n_estimators': 128, 'max_depth': 12, 'min_samples_split': 9, 'min_samples_leaf': 8, 'criterion': 'entropy'}. Best is trial 22 with value: 0.620603015075377.\u001b[0m\n",
      "\u001b[32m[I 2023-03-14 20:17:05,401]\u001b[0m Trial 24 finished with value: 0.6171284634760704 and parameters: {'n_estimators': 91, 'max_depth': 22, 'min_samples_split': 7, 'min_samples_leaf': 7, 'criterion': 'entropy'}. Best is trial 22 with value: 0.620603015075377.\u001b[0m\n",
      "\u001b[32m[I 2023-03-14 20:17:05,801]\u001b[0m Trial 25 finished with value: 0.6082725060827251 and parameters: {'n_estimators': 91, 'max_depth': 22, 'min_samples_split': 7, 'min_samples_leaf': 8, 'criterion': 'entropy'}. Best is trial 22 with value: 0.620603015075377.\u001b[0m\n",
      "\u001b[32m[I 2023-03-14 20:17:06,188]\u001b[0m Trial 26 finished with value: 0.6142322097378278 and parameters: {'n_estimators': 104, 'max_depth': 14, 'min_samples_split': 6, 'min_samples_leaf': 6, 'criterion': 'gini'}. Best is trial 22 with value: 0.620603015075377.\u001b[0m\n",
      "\u001b[32m[I 2023-03-14 20:17:06,581]\u001b[0m Trial 27 finished with value: 0.606280193236715 and parameters: {'n_estimators': 90, 'max_depth': 28, 'min_samples_split': 8, 'min_samples_leaf': 9, 'criterion': 'entropy'}. Best is trial 22 with value: 0.620603015075377.\u001b[0m\n",
      "\u001b[32m[I 2023-03-14 20:17:07,082]\u001b[0m Trial 28 finished with value: 0.6066838046272494 and parameters: {'n_estimators': 110, 'max_depth': 19, 'min_samples_split': 7, 'min_samples_leaf': 5, 'criterion': 'entropy'}. Best is trial 22 with value: 0.620603015075377.\u001b[0m\n",
      "\u001b[32m[I 2023-03-14 20:17:07,303]\u001b[0m Trial 29 finished with value: 0.6032540675844806 and parameters: {'n_estimators': 49, 'max_depth': 22, 'min_samples_split': 6, 'min_samples_leaf': 7, 'criterion': 'entropy'}. Best is trial 22 with value: 0.620603015075377.\u001b[0m\n",
      "\u001b[32m[I 2023-03-14 20:17:07,650]\u001b[0m Trial 30 finished with value: 0.6079182630906769 and parameters: {'n_estimators': 77, 'max_depth': 20, 'min_samples_split': 5, 'min_samples_leaf': 6, 'criterion': 'entropy'}. Best is trial 22 with value: 0.620603015075377.\u001b[0m\n"
     ]
    },
    {
     "name": "stderr",
     "output_type": "stream",
     "text": [
      "\u001b[32m[I 2023-03-14 20:17:08,273]\u001b[0m Trial 31 finished with value: 0.6086956521739131 and parameters: {'n_estimators': 146, 'max_depth': 17, 'min_samples_split': 9, 'min_samples_leaf': 7, 'criterion': 'entropy'}. Best is trial 22 with value: 0.620603015075377.\u001b[0m\n",
      "\u001b[32m[I 2023-03-14 20:17:08,786]\u001b[0m Trial 32 finished with value: 0.6165048543689321 and parameters: {'n_estimators': 119, 'max_depth': 18, 'min_samples_split': 8, 'min_samples_leaf': 8, 'criterion': 'entropy'}. Best is trial 22 with value: 0.620603015075377.\u001b[0m\n",
      "\u001b[32m[I 2023-03-14 20:17:09,279]\u001b[0m Trial 33 finished with value: 0.602641056422569 and parameters: {'n_estimators': 117, 'max_depth': 20, 'min_samples_split': 8, 'min_samples_leaf': 9, 'criterion': 'entropy'}. Best is trial 22 with value: 0.620603015075377.\u001b[0m\n",
      "\u001b[32m[I 2023-03-14 20:17:09,592]\u001b[0m Trial 34 finished with value: 0.62227602905569 and parameters: {'n_estimators': 84, 'max_depth': 24, 'min_samples_split': 7, 'min_samples_leaf': 8, 'criterion': 'gini'}. Best is trial 34 with value: 0.62227602905569.\u001b[0m\n",
      "\u001b[32m[I 2023-03-14 20:17:09,901]\u001b[0m Trial 35 finished with value: 0.6088992974238876 and parameters: {'n_estimators': 85, 'max_depth': 26, 'min_samples_split': 7, 'min_samples_leaf': 10, 'criterion': 'gini'}. Best is trial 34 with value: 0.62227602905569.\u001b[0m\n",
      "\u001b[32m[I 2023-03-14 20:17:10,266]\u001b[0m Trial 36 finished with value: 0.6209386281588447 and parameters: {'n_estimators': 99, 'max_depth': 24, 'min_samples_split': 6, 'min_samples_leaf': 8, 'criterion': 'gini'}. Best is trial 34 with value: 0.62227602905569.\u001b[0m\n",
      "\u001b[32m[I 2023-03-14 20:17:10,630]\u001b[0m Trial 37 finished with value: 0.617046818727491 and parameters: {'n_estimators': 100, 'max_depth': 27, 'min_samples_split': 6, 'min_samples_leaf': 8, 'criterion': 'gini'}. Best is trial 34 with value: 0.62227602905569.\u001b[0m\n",
      "\u001b[32m[I 2023-03-14 20:17:10,942]\u001b[0m Trial 38 finished with value: 0.6166666666666666 and parameters: {'n_estimators': 84, 'max_depth': 24, 'min_samples_split': 4, 'min_samples_leaf': 9, 'criterion': 'gini'}. Best is trial 34 with value: 0.62227602905569.\u001b[0m\n",
      "\u001b[32m[I 2023-03-14 20:17:11,082]\u001b[0m Trial 39 finished with value: 0.6132075471698113 and parameters: {'n_estimators': 37, 'max_depth': 9, 'min_samples_split': 6, 'min_samples_leaf': 5, 'criterion': 'gini'}. Best is trial 34 with value: 0.62227602905569.\u001b[0m\n",
      "\u001b[32m[I 2023-03-14 20:17:11,341]\u001b[0m Trial 40 finished with value: 0.6174016686531586 and parameters: {'n_estimators': 70, 'max_depth': 24, 'min_samples_split': 4, 'min_samples_leaf': 9, 'criterion': 'gini'}. Best is trial 34 with value: 0.62227602905569.\u001b[0m\n",
      "\u001b[32m[I 2023-03-14 20:17:11,607]\u001b[0m Trial 41 finished with value: 0.6164874551971327 and parameters: {'n_estimators': 71, 'max_depth': 30, 'min_samples_split': 4, 'min_samples_leaf': 9, 'criterion': 'gini'}. Best is trial 34 with value: 0.62227602905569.\u001b[0m\n",
      "\u001b[32m[I 2023-03-14 20:17:11,951]\u001b[0m Trial 42 finished with value: 0.6056338028169014 and parameters: {'n_estimators': 96, 'max_depth': 24, 'min_samples_split': 3, 'min_samples_leaf': 10, 'criterion': 'gini'}. Best is trial 34 with value: 0.62227602905569.\u001b[0m\n",
      "\u001b[32m[I 2023-03-14 20:17:12,265]\u001b[0m Trial 43 finished with value: 0.6215235792019347 and parameters: {'n_estimators': 85, 'max_depth': 27, 'min_samples_split': 5, 'min_samples_leaf': 8, 'criterion': 'gini'}. Best is trial 34 with value: 0.62227602905569.\u001b[0m\n",
      "\u001b[32m[I 2023-03-14 20:17:12,572]\u001b[0m Trial 44 finished with value: 0.619277108433735 and parameters: {'n_estimators': 83, 'max_depth': 27, 'min_samples_split': 5, 'min_samples_leaf': 8, 'criterion': 'gini'}. Best is trial 34 with value: 0.62227602905569.\u001b[0m\n",
      "\u001b[32m[I 2023-03-14 20:17:12,880]\u001b[0m Trial 45 finished with value: 0.619277108433735 and parameters: {'n_estimators': 83, 'max_depth': 28, 'min_samples_split': 5, 'min_samples_leaf': 8, 'criterion': 'gini'}. Best is trial 34 with value: 0.62227602905569.\u001b[0m\n",
      "\u001b[32m[I 2023-03-14 20:17:13,257]\u001b[0m Trial 46 finished with value: 0.6187050359712231 and parameters: {'n_estimators': 103, 'max_depth': 27, 'min_samples_split': 5, 'min_samples_leaf': 8, 'criterion': 'gini'}. Best is trial 34 with value: 0.62227602905569.\u001b[0m\n",
      "\u001b[32m[I 2023-03-14 20:17:13,649]\u001b[0m Trial 47 finished with value: 0.615568862275449 and parameters: {'n_estimators': 108, 'max_depth': 30, 'min_samples_split': 5, 'min_samples_leaf': 8, 'criterion': 'gini'}. Best is trial 34 with value: 0.62227602905569.\u001b[0m\n",
      "\u001b[32m[I 2023-03-14 20:17:13,979]\u001b[0m Trial 48 finished with value: 0.6062893081761005 and parameters: {'n_estimators': 88, 'max_depth': 26, 'min_samples_split': 5, 'min_samples_leaf': 6, 'criterion': 'gini'}. Best is trial 34 with value: 0.62227602905569.\u001b[0m\n",
      "\u001b[32m[I 2023-03-14 20:17:14,271]\u001b[0m Trial 49 finished with value: 0.6151960784313726 and parameters: {'n_estimators': 77, 'max_depth': 25, 'min_samples_split': 6, 'min_samples_leaf': 7, 'criterion': 'gini'}. Best is trial 34 with value: 0.62227602905569.\u001b[0m\n",
      "\u001b[32m[I 2023-03-14 20:17:14,614]\u001b[0m Trial 50 finished with value: 0.6106508875739645 and parameters: {'n_estimators': 95, 'max_depth': 29, 'min_samples_split': 3, 'min_samples_leaf': 9, 'criterion': 'gini'}. Best is trial 34 with value: 0.62227602905569.\u001b[0m\n",
      "\u001b[32m[I 2023-03-14 20:17:14,924]\u001b[0m Trial 51 finished with value: 0.619277108433735 and parameters: {'n_estimators': 83, 'max_depth': 28, 'min_samples_split': 4, 'min_samples_leaf': 8, 'criterion': 'gini'}. Best is trial 34 with value: 0.62227602905569.\u001b[0m\n",
      "\u001b[32m[I 2023-03-14 20:17:15,228]\u001b[0m Trial 52 finished with value: 0.6203592814371257 and parameters: {'n_estimators': 81, 'max_depth': 28, 'min_samples_split': 5, 'min_samples_leaf': 8, 'criterion': 'gini'}. Best is trial 34 with value: 0.62227602905569.\u001b[0m\n",
      "\u001b[32m[I 2023-03-14 20:17:15,515]\u001b[0m Trial 53 finished with value: 0.6177884615384615 and parameters: {'n_estimators': 77, 'max_depth': 27, 'min_samples_split': 6, 'min_samples_leaf': 8, 'criterion': 'gini'}. Best is trial 34 with value: 0.62227602905569.\u001b[0m\n",
      "\u001b[32m[I 2023-03-14 20:17:15,879]\u001b[0m Trial 54 finished with value: 0.6142506142506142 and parameters: {'n_estimators': 98, 'max_depth': 25, 'min_samples_split': 5, 'min_samples_leaf': 7, 'criterion': 'gini'}. Best is trial 34 with value: 0.62227602905569.\u001b[0m\n",
      "\u001b[32m[I 2023-03-14 20:17:16,125]\u001b[0m Trial 55 finished with value: 0.6120996441281139 and parameters: {'n_estimators': 66, 'max_depth': 23, 'min_samples_split': 5, 'min_samples_leaf': 10, 'criterion': 'gini'}. Best is trial 34 with value: 0.62227602905569.\u001b[0m\n",
      "\u001b[32m[I 2023-03-14 20:17:16,423]\u001b[0m Trial 56 finished with value: 0.6140979689366787 and parameters: {'n_estimators': 80, 'max_depth': 21, 'min_samples_split': 4, 'min_samples_leaf': 9, 'criterion': 'gini'}. Best is trial 34 with value: 0.62227602905569.\u001b[0m\n",
      "\u001b[32m[I 2023-03-14 20:17:16,756]\u001b[0m Trial 57 finished with value: 0.6085889570552147 and parameters: {'n_estimators': 89, 'max_depth': 29, 'min_samples_split': 6, 'min_samples_leaf': 7, 'criterion': 'gini'}. Best is trial 34 with value: 0.62227602905569.\u001b[0m\n",
      "\u001b[32m[I 2023-03-14 20:17:16,978]\u001b[0m Trial 58 finished with value: 0.610705596107056 and parameters: {'n_estimators': 58, 'max_depth': 25, 'min_samples_split': 5, 'min_samples_leaf': 8, 'criterion': 'gini'}. Best is trial 34 with value: 0.62227602905569.\u001b[0m\n",
      "\u001b[32m[I 2023-03-14 20:17:17,402]\u001b[0m Trial 59 finished with value: 0.6102117061021171 and parameters: {'n_estimators': 113, 'max_depth': 23, 'min_samples_split': 7, 'min_samples_leaf': 6, 'criterion': 'gini'}. Best is trial 34 with value: 0.62227602905569.\u001b[0m\n",
      "\u001b[32m[I 2023-03-14 20:17:17,499]\u001b[0m Trial 60 finished with value: 0.594059405940594 and parameters: {'n_estimators': 21, 'max_depth': 27, 'min_samples_split': 6, 'min_samples_leaf': 7, 'criterion': 'gini'}. Best is trial 34 with value: 0.62227602905569.\u001b[0m\n",
      "\u001b[32m[I 2023-03-14 20:17:17,821]\u001b[0m Trial 61 finished with value: 0.6198547215496368 and parameters: {'n_estimators': 87, 'max_depth': 28, 'min_samples_split': 5, 'min_samples_leaf': 8, 'criterion': 'gini'}. Best is trial 34 with value: 0.62227602905569.\u001b[0m\n",
      "\u001b[32m[I 2023-03-14 20:17:18,146]\u001b[0m Trial 62 finished with value: 0.6224366706875754 and parameters: {'n_estimators': 88, 'max_depth': 30, 'min_samples_split': 4, 'min_samples_leaf': 8, 'criterion': 'gini'}. Best is trial 62 with value: 0.6224366706875754.\u001b[0m\n"
     ]
    },
    {
     "name": "stderr",
     "output_type": "stream",
     "text": [
      "\u001b[32m[I 2023-03-14 20:17:18,467]\u001b[0m Trial 63 finished with value: 0.6128266033254156 and parameters: {'n_estimators': 87, 'max_depth': 29, 'min_samples_split': 3, 'min_samples_leaf': 9, 'criterion': 'gini'}. Best is trial 62 with value: 0.6224366706875754.\u001b[0m\n",
      "\u001b[32m[I 2023-03-14 20:17:18,816]\u001b[0m Trial 64 finished with value: 0.6125461254612546 and parameters: {'n_estimators': 94, 'max_depth': 30, 'min_samples_split': 4, 'min_samples_leaf': 7, 'criterion': 'gini'}. Best is trial 62 with value: 0.6224366706875754.\u001b[0m\n",
      "\u001b[32m[I 2023-03-14 20:17:19,189]\u001b[0m Trial 65 finished with value: 0.6187050359712231 and parameters: {'n_estimators': 102, 'max_depth': 28, 'min_samples_split': 4, 'min_samples_leaf': 8, 'criterion': 'gini'}. Best is trial 62 with value: 0.6224366706875754.\u001b[0m\n",
      "\u001b[32m[I 2023-03-14 20:17:19,464]\u001b[0m Trial 66 finished with value: 0.6153846153846154 and parameters: {'n_estimators': 73, 'max_depth': 26, 'min_samples_split': 3, 'min_samples_leaf': 9, 'criterion': 'gini'}. Best is trial 62 with value: 0.6224366706875754.\u001b[0m\n",
      "\u001b[32m[I 2023-03-14 20:17:19,761]\u001b[0m Trial 67 finished with value: 0.6177884615384615 and parameters: {'n_estimators': 80, 'max_depth': 30, 'min_samples_split': 5, 'min_samples_leaf': 8, 'criterion': 'gini'}. Best is trial 62 with value: 0.6224366706875754.\u001b[0m\n",
      "\u001b[32m[I 2023-03-14 20:17:20,104]\u001b[0m Trial 68 finished with value: 0.6100861008610087 and parameters: {'n_estimators': 92, 'max_depth': 21, 'min_samples_split': 7, 'min_samples_leaf': 7, 'criterion': 'gini'}. Best is trial 62 with value: 0.6224366706875754.\u001b[0m\n",
      "\u001b[32m[I 2023-03-14 20:17:20,464]\u001b[0m Trial 69 finished with value: 0.6144578313253012 and parameters: {'n_estimators': 97, 'max_depth': 25, 'min_samples_split': 6, 'min_samples_leaf': 8, 'criterion': 'gini'}. Best is trial 62 with value: 0.6224366706875754.\u001b[0m\n",
      "\u001b[32m[I 2023-03-14 20:17:20,866]\u001b[0m Trial 70 finished with value: 0.6183115338882283 and parameters: {'n_estimators': 109, 'max_depth': 28, 'min_samples_split': 4, 'min_samples_leaf': 9, 'criterion': 'gini'}. Best is trial 62 with value: 0.6224366706875754.\u001b[0m\n",
      "\u001b[32m[I 2023-03-14 20:17:21,157]\u001b[0m Trial 71 finished with value: 0.6177884615384615 and parameters: {'n_estimators': 76, 'max_depth': 27, 'min_samples_split': 5, 'min_samples_leaf': 8, 'criterion': 'gini'}. Best is trial 62 with value: 0.6224366706875754.\u001b[0m\n",
      "\u001b[32m[I 2023-03-14 20:17:21,490]\u001b[0m Trial 72 finished with value: 0.6215235792019347 and parameters: {'n_estimators': 85, 'max_depth': 28, 'min_samples_split': 5, 'min_samples_leaf': 8, 'criterion': 'gini'}. Best is trial 62 with value: 0.6224366706875754.\u001b[0m\n",
      "\u001b[32m[I 2023-03-14 20:17:21,826]\u001b[0m Trial 73 finished with value: 0.6061349693251533 and parameters: {'n_estimators': 87, 'max_depth': 29, 'min_samples_split': 6, 'min_samples_leaf': 7, 'criterion': 'gini'}. Best is trial 62 with value: 0.6224366706875754.\u001b[0m\n",
      "\u001b[32m[I 2023-03-14 20:17:22,144]\u001b[0m Trial 74 finished with value: 0.6177884615384615 and parameters: {'n_estimators': 80, 'max_depth': 26, 'min_samples_split': 9, 'min_samples_leaf': 8, 'criterion': 'gini'}. Best is trial 62 with value: 0.6224366706875754.\u001b[0m\n",
      "\u001b[32m[I 2023-03-14 20:17:22,346]\u001b[0m Trial 75 finished with value: 0.5853658536585366 and parameters: {'n_estimators': 92, 'max_depth': 3, 'min_samples_split': 5, 'min_samples_leaf': 9, 'criterion': 'gini'}. Best is trial 62 with value: 0.6224366706875754.\u001b[0m\n",
      "\u001b[32m[I 2023-03-14 20:17:22,719]\u001b[0m Trial 76 finished with value: 0.617046818727491 and parameters: {'n_estimators': 100, 'max_depth': 23, 'min_samples_split': 4, 'min_samples_leaf': 8, 'criterion': 'gini'}. Best is trial 62 with value: 0.6224366706875754.\u001b[0m\n",
      "\u001b[32m[I 2023-03-14 20:17:22,973]\u001b[0m Trial 77 finished with value: 0.6066584463625154 and parameters: {'n_estimators': 65, 'max_depth': 28, 'min_samples_split': 5, 'min_samples_leaf': 7, 'criterion': 'gini'}. Best is trial 62 with value: 0.6224366706875754.\u001b[0m\n",
      "\u001b[32m[I 2023-03-14 20:17:23,298]\u001b[0m Trial 78 finished with value: 0.6198547215496368 and parameters: {'n_estimators': 86, 'max_depth': 29, 'min_samples_split': 7, 'min_samples_leaf': 8, 'criterion': 'gini'}. Best is trial 62 with value: 0.6224366706875754.\u001b[0m\n",
      "\u001b[32m[I 2023-03-14 20:17:23,564]\u001b[0m Trial 79 finished with value: 0.6174016686531586 and parameters: {'n_estimators': 70, 'max_depth': 24, 'min_samples_split': 10, 'min_samples_leaf': 9, 'criterion': 'gini'}. Best is trial 62 with value: 0.6224366706875754.\u001b[0m\n",
      "\u001b[32m[I 2023-03-14 20:17:23,902]\u001b[0m Trial 80 finished with value: 0.6215235792019347 and parameters: {'n_estimators': 89, 'max_depth': 22, 'min_samples_split': 6, 'min_samples_leaf': 8, 'criterion': 'gini'}. Best is trial 62 with value: 0.6224366706875754.\u001b[0m\n",
      "\u001b[32m[I 2023-03-14 20:17:24,245]\u001b[0m Trial 81 finished with value: 0.6207729468599033 and parameters: {'n_estimators': 91, 'max_depth': 22, 'min_samples_split': 6, 'min_samples_leaf': 8, 'criterion': 'gini'}. Best is trial 62 with value: 0.6224366706875754.\u001b[0m\n",
      "\u001b[32m[I 2023-03-14 20:17:24,637]\u001b[0m Trial 82 finished with value: 0.6211031175059951 and parameters: {'n_estimators': 106, 'max_depth': 22, 'min_samples_split': 6, 'min_samples_leaf': 8, 'criterion': 'gini'}. Best is trial 62 with value: 0.6224366706875754.\u001b[0m\n",
      "\u001b[32m[I 2023-03-14 20:17:25,039]\u001b[0m Trial 83 finished with value: 0.6150061500615006 and parameters: {'n_estimators': 106, 'max_depth': 22, 'min_samples_split': 6, 'min_samples_leaf': 7, 'criterion': 'gini'}. Best is trial 62 with value: 0.6224366706875754.\u001b[0m\n",
      "\u001b[32m[I 2023-03-14 20:17:25,451]\u001b[0m Trial 84 finished with value: 0.6159334126040428 and parameters: {'n_estimators': 113, 'max_depth': 19, 'min_samples_split': 7, 'min_samples_leaf': 9, 'criterion': 'gini'}. Best is trial 62 with value: 0.6224366706875754.\u001b[0m\n",
      "\u001b[32m[I 2023-03-14 20:17:25,881]\u001b[0m Trial 85 finished with value: 0.606060606060606 and parameters: {'n_estimators': 96, 'max_depth': 22, 'min_samples_split': 6, 'min_samples_leaf': 8, 'criterion': 'entropy'}. Best is trial 62 with value: 0.6224366706875754.\u001b[0m\n",
      "\u001b[32m[I 2023-03-14 20:17:26,224]\u001b[0m Trial 86 finished with value: 0.6093366093366094 and parameters: {'n_estimators': 91, 'max_depth': 21, 'min_samples_split': 6, 'min_samples_leaf': 7, 'criterion': 'gini'}. Best is trial 62 with value: 0.6224366706875754.\u001b[0m\n",
      "\u001b[32m[I 2023-03-14 20:17:26,681]\u001b[0m Trial 87 finished with value: 0.6122448979591837 and parameters: {'n_estimators': 125, 'max_depth': 20, 'min_samples_split': 7, 'min_samples_leaf': 8, 'criterion': 'gini'}. Best is trial 62 with value: 0.6224366706875754.\u001b[0m\n",
      "\u001b[32m[I 2023-03-14 20:17:27,067]\u001b[0m Trial 88 finished with value: 0.6082603254067585 and parameters: {'n_estimators': 101, 'max_depth': 19, 'min_samples_split': 6, 'min_samples_leaf': 6, 'criterion': 'gini'}. Best is trial 62 with value: 0.6224366706875754.\u001b[0m\n",
      "\u001b[32m[I 2023-03-14 20:17:27,521]\u001b[0m Trial 89 finished with value: 0.597864768683274 and parameters: {'n_estimators': 106, 'max_depth': 23, 'min_samples_split': 6, 'min_samples_leaf': 10, 'criterion': 'entropy'}. Best is trial 62 with value: 0.6224366706875754.\u001b[0m\n",
      "\u001b[32m[I 2023-03-14 20:17:27,881]\u001b[0m Trial 90 finished with value: 0.6099290780141844 and parameters: {'n_estimators': 98, 'max_depth': 24, 'min_samples_split': 8, 'min_samples_leaf': 9, 'criterion': 'gini'}. Best is trial 62 with value: 0.6224366706875754.\u001b[0m\n",
      "\u001b[32m[I 2023-03-14 20:17:28,188]\u001b[0m Trial 91 finished with value: 0.6203592814371257 and parameters: {'n_estimators': 81, 'max_depth': 25, 'min_samples_split': 7, 'min_samples_leaf': 8, 'criterion': 'gini'}. Best is trial 62 with value: 0.6224366706875754.\u001b[0m\n",
      "\u001b[32m[I 2023-03-14 20:17:28,520]\u001b[0m Trial 92 finished with value: 0.6189320388349515 and parameters: {'n_estimators': 90, 'max_depth': 21, 'min_samples_split': 9, 'min_samples_leaf': 8, 'criterion': 'gini'}. Best is trial 62 with value: 0.6224366706875754.\u001b[0m\n",
      "\u001b[32m[I 2023-03-14 20:17:28,832]\u001b[0m Trial 93 finished with value: 0.62227602905569 and parameters: {'n_estimators': 84, 'max_depth': 26, 'min_samples_split': 5, 'min_samples_leaf': 8, 'criterion': 'gini'}. Best is trial 62 with value: 0.6224366706875754.\u001b[0m\n",
      "\u001b[32m[I 2023-03-14 20:17:29,179]\u001b[0m Trial 94 finished with value: 0.611111111111111 and parameters: {'n_estimators': 93, 'max_depth': 26, 'min_samples_split': 6, 'min_samples_leaf': 8, 'criterion': 'gini'}. Best is trial 62 with value: 0.6224366706875754.\u001b[0m\n"
     ]
    },
    {
     "name": "stderr",
     "output_type": "stream",
     "text": [
      "\u001b[32m[I 2023-03-14 20:17:29,494]\u001b[0m Trial 95 finished with value: 0.6215235792019347 and parameters: {'n_estimators': 85, 'max_depth': 24, 'min_samples_split': 6, 'min_samples_leaf': 8, 'criterion': 'gini'}. Best is trial 62 with value: 0.6224366706875754.\u001b[0m\n",
      "\u001b[32m[I 2023-03-14 20:17:29,774]\u001b[0m Trial 96 finished with value: 0.6124401913875598 and parameters: {'n_estimators': 75, 'max_depth': 25, 'min_samples_split': 6, 'min_samples_leaf': 9, 'criterion': 'gini'}. Best is trial 62 with value: 0.6224366706875754.\u001b[0m\n",
      "\u001b[32m[I 2023-03-14 20:17:30,096]\u001b[0m Trial 97 finished with value: 0.619277108433735 and parameters: {'n_estimators': 83, 'max_depth': 24, 'min_samples_split': 7, 'min_samples_leaf': 8, 'criterion': 'gini'}. Best is trial 62 with value: 0.6224366706875754.\u001b[0m\n",
      "\u001b[32m[I 2023-03-14 20:17:30,419]\u001b[0m Trial 98 finished with value: 0.6102941176470589 and parameters: {'n_estimators': 85, 'max_depth': 22, 'min_samples_split': 6, 'min_samples_leaf': 7, 'criterion': 'gini'}. Best is trial 62 with value: 0.6224366706875754.\u001b[0m\n",
      "\u001b[32m[I 2023-03-14 20:17:30,815]\u001b[0m Trial 99 finished with value: 0.5901639344262295 and parameters: {'n_estimators': 95, 'max_depth': 16, 'min_samples_split': 5, 'min_samples_leaf': 2, 'criterion': 'gini'}. Best is trial 62 with value: 0.6224366706875754.\u001b[0m\n",
      "\u001b[32m[I 2023-03-14 20:17:31,108]\u001b[0m Trial 100 finished with value: 0.6201923076923077 and parameters: {'n_estimators': 78, 'max_depth': 26, 'min_samples_split': 6, 'min_samples_leaf': 8, 'criterion': 'gini'}. Best is trial 62 with value: 0.6224366706875754.\u001b[0m\n",
      "\u001b[32m[I 2023-03-14 20:17:31,441]\u001b[0m Trial 101 finished with value: 0.6224366706875754 and parameters: {'n_estimators': 88, 'max_depth': 23, 'min_samples_split': 5, 'min_samples_leaf': 8, 'criterion': 'gini'}. Best is trial 62 with value: 0.6224366706875754.\u001b[0m\n",
      "\u001b[32m[I 2023-03-14 20:17:31,777]\u001b[0m Trial 102 finished with value: 0.6215235792019347 and parameters: {'n_estimators': 89, 'max_depth': 23, 'min_samples_split': 5, 'min_samples_leaf': 8, 'criterion': 'gini'}. Best is trial 62 with value: 0.6224366706875754.\u001b[0m\n",
      "\u001b[32m[I 2023-03-14 20:17:32,102]\u001b[0m Trial 103 finished with value: 0.6224366706875754 and parameters: {'n_estimators': 88, 'max_depth': 24, 'min_samples_split': 5, 'min_samples_leaf': 8, 'criterion': 'gini'}. Best is trial 62 with value: 0.6224366706875754.\u001b[0m\n",
      "\u001b[32m[I 2023-03-14 20:17:32,429]\u001b[0m Trial 104 finished with value: 0.6190476190476191 and parameters: {'n_estimators': 88, 'max_depth': 23, 'min_samples_split': 5, 'min_samples_leaf': 9, 'criterion': 'gini'}. Best is trial 62 with value: 0.6224366706875754.\u001b[0m\n",
      "\u001b[32m[I 2023-03-14 20:17:32,934]\u001b[0m Trial 105 finished with value: 0.6109090909090908 and parameters: {'n_estimators': 141, 'max_depth': 23, 'min_samples_split': 5, 'min_samples_leaf': 8, 'criterion': 'gini'}. Best is trial 62 with value: 0.6224366706875754.\u001b[0m\n",
      "\u001b[32m[I 2023-03-14 20:17:33,247]\u001b[0m Trial 106 finished with value: 0.62227602905569 and parameters: {'n_estimators': 84, 'max_depth': 27, 'min_samples_split': 4, 'min_samples_leaf': 8, 'criterion': 'gini'}. Best is trial 62 with value: 0.6224366706875754.\u001b[0m\n",
      "\u001b[32m[I 2023-03-14 20:17:33,557]\u001b[0m Trial 107 finished with value: 0.6166666666666666 and parameters: {'n_estimators': 84, 'max_depth': 27, 'min_samples_split': 4, 'min_samples_leaf': 9, 'criterion': 'gini'}. Best is trial 62 with value: 0.6224366706875754.\u001b[0m\n",
      "\u001b[32m[I 2023-03-14 20:17:33,841]\u001b[0m Trial 108 finished with value: 0.6059113300492611 and parameters: {'n_estimators': 73, 'max_depth': 25, 'min_samples_split': 4, 'min_samples_leaf': 7, 'criterion': 'gini'}. Best is trial 62 with value: 0.6224366706875754.\u001b[0m\n",
      "\u001b[32m[I 2023-03-14 20:17:34,140]\u001b[0m Trial 109 finished with value: 0.6216867469879518 and parameters: {'n_estimators': 79, 'max_depth': 26, 'min_samples_split': 4, 'min_samples_leaf': 8, 'criterion': 'gini'}. Best is trial 62 with value: 0.6224366706875754.\u001b[0m\n",
      "\u001b[32m[I 2023-03-14 20:17:34,447]\u001b[0m Trial 110 finished with value: 0.6119951040391676 and parameters: {'n_estimators': 79, 'max_depth': 26, 'min_samples_split': 3, 'min_samples_leaf': 7, 'criterion': 'gini'}. Best is trial 62 with value: 0.6224366706875754.\u001b[0m\n",
      "\u001b[32m[I 2023-03-14 20:17:34,764]\u001b[0m Trial 111 finished with value: 0.6215235792019347 and parameters: {'n_estimators': 85, 'max_depth': 27, 'min_samples_split': 4, 'min_samples_leaf': 8, 'criterion': 'gini'}. Best is trial 62 with value: 0.6224366706875754.\u001b[0m\n",
      "\u001b[32m[I 2023-03-14 20:17:35,096]\u001b[0m Trial 112 finished with value: 0.6215235792019347 and parameters: {'n_estimators': 89, 'max_depth': 24, 'min_samples_split': 4, 'min_samples_leaf': 8, 'criterion': 'gini'}. Best is trial 62 with value: 0.6224366706875754.\u001b[0m\n",
      "\u001b[32m[I 2023-03-14 20:17:35,399]\u001b[0m Trial 113 finished with value: 0.6203592814371257 and parameters: {'n_estimators': 81, 'max_depth': 30, 'min_samples_split': 5, 'min_samples_leaf': 8, 'criterion': 'gini'}. Best is trial 62 with value: 0.6224366706875754.\u001b[0m\n",
      "\u001b[32m[I 2023-03-14 20:17:35,666]\u001b[0m Trial 114 finished with value: 0.6179640718562874 and parameters: {'n_estimators': 70, 'max_depth': 25, 'min_samples_split': 5, 'min_samples_leaf': 8, 'criterion': 'gini'}. Best is trial 62 with value: 0.6224366706875754.\u001b[0m\n",
      "\u001b[32m[I 2023-03-14 20:17:35,983]\u001b[0m Trial 115 finished with value: 0.6128266033254156 and parameters: {'n_estimators': 86, 'max_depth': 27, 'min_samples_split': 4, 'min_samples_leaf': 9, 'criterion': 'gini'}. Best is trial 62 with value: 0.6224366706875754.\u001b[0m\n",
      "\u001b[32m[I 2023-03-14 20:17:36,277]\u001b[0m Trial 116 finished with value: 0.6177884615384615 and parameters: {'n_estimators': 77, 'max_depth': 26, 'min_samples_split': 5, 'min_samples_leaf': 8, 'criterion': 'gini'}. Best is trial 62 with value: 0.6224366706875754.\u001b[0m\n",
      "\u001b[32m[I 2023-03-14 20:17:36,631]\u001b[0m Trial 117 finished with value: 0.6142684401451027 and parameters: {'n_estimators': 94, 'max_depth': 24, 'min_samples_split': 4, 'min_samples_leaf': 8, 'criterion': 'gini'}. Best is trial 62 with value: 0.6224366706875754.\u001b[0m\n",
      "\u001b[32m[I 2023-03-14 20:17:36,948]\u001b[0m Trial 118 finished with value: 0.609547123623011 and parameters: {'n_estimators': 82, 'max_depth': 29, 'min_samples_split': 3, 'min_samples_leaf': 7, 'criterion': 'gini'}. Best is trial 62 with value: 0.6224366706875754.\u001b[0m\n",
      "\u001b[32m[I 2023-03-14 20:17:37,231]\u001b[0m Trial 119 finished with value: 0.617611580217129 and parameters: {'n_estimators': 74, 'max_depth': 25, 'min_samples_split': 5, 'min_samples_leaf': 9, 'criterion': 'gini'}. Best is trial 62 with value: 0.6224366706875754.\u001b[0m\n",
      "\u001b[32m[I 2023-03-14 20:17:37,565]\u001b[0m Trial 120 finished with value: 0.6224366706875754 and parameters: {'n_estimators': 88, 'max_depth': 26, 'min_samples_split': 4, 'min_samples_leaf': 8, 'criterion': 'gini'}. Best is trial 62 with value: 0.6224366706875754.\u001b[0m\n",
      "\u001b[32m[I 2023-03-14 20:17:37,902]\u001b[0m Trial 121 finished with value: 0.6215235792019347 and parameters: {'n_estimators': 89, 'max_depth': 27, 'min_samples_split': 4, 'min_samples_leaf': 8, 'criterion': 'gini'}. Best is trial 62 with value: 0.6224366706875754.\u001b[0m\n",
      "\u001b[32m[I 2023-03-14 20:17:38,229]\u001b[0m Trial 122 finished with value: 0.62227602905569 and parameters: {'n_estimators': 84, 'max_depth': 28, 'min_samples_split': 4, 'min_samples_leaf': 8, 'criterion': 'gini'}. Best is trial 62 with value: 0.6224366706875754.\u001b[0m\n",
      "\u001b[32m[I 2023-03-14 20:17:38,547]\u001b[0m Trial 123 finished with value: 0.619277108433735 and parameters: {'n_estimators': 83, 'max_depth': 28, 'min_samples_split': 4, 'min_samples_leaf': 8, 'criterion': 'gini'}. Best is trial 62 with value: 0.6224366706875754.\u001b[0m\n",
      "\u001b[32m[I 2023-03-14 20:17:38,864]\u001b[0m Trial 124 finished with value: 0.6215235792019347 and parameters: {'n_estimators': 85, 'max_depth': 26, 'min_samples_split': 3, 'min_samples_leaf': 8, 'criterion': 'gini'}. Best is trial 62 with value: 0.6224366706875754.\u001b[0m\n",
      "\u001b[32m[I 2023-03-14 20:17:39,212]\u001b[0m Trial 125 finished with value: 0.6085889570552147 and parameters: {'n_estimators': 93, 'max_depth': 28, 'min_samples_split': 4, 'min_samples_leaf': 7, 'criterion': 'gini'}. Best is trial 62 with value: 0.6224366706875754.\u001b[0m\n",
      "\u001b[32m[I 2023-03-14 20:17:39,517]\u001b[0m Trial 126 finished with value: 0.6177884615384615 and parameters: {'n_estimators': 80, 'max_depth': 29, 'min_samples_split': 2, 'min_samples_leaf': 8, 'criterion': 'gini'}. Best is trial 62 with value: 0.6224366706875754.\u001b[0m\n"
     ]
    },
    {
     "name": "stderr",
     "output_type": "stream",
     "text": [
      "\u001b[32m[I 2023-03-14 20:17:39,803]\u001b[0m Trial 127 finished with value: 0.6045400238948626 and parameters: {'n_estimators': 78, 'max_depth': 10, 'min_samples_split': 4, 'min_samples_leaf': 8, 'criterion': 'gini'}. Best is trial 62 with value: 0.6224366706875754.\u001b[0m\n",
      "\u001b[32m[I 2023-03-14 20:17:40,121]\u001b[0m Trial 128 finished with value: 0.6128266033254156 and parameters: {'n_estimators': 86, 'max_depth': 26, 'min_samples_split': 4, 'min_samples_leaf': 9, 'criterion': 'gini'}. Best is trial 62 with value: 0.6224366706875754.\u001b[0m\n",
      "\u001b[32m[I 2023-03-14 20:17:40,381]\u001b[0m Trial 129 finished with value: 0.6137184115523466 and parameters: {'n_estimators': 68, 'max_depth': 30, 'min_samples_split': 3, 'min_samples_leaf': 8, 'criterion': 'gini'}. Best is trial 62 with value: 0.6224366706875754.\u001b[0m\n",
      "\u001b[32m[I 2023-03-14 20:17:40,662]\u001b[0m Trial 130 finished with value: 0.6124401913875598 and parameters: {'n_estimators': 75, 'max_depth': 27, 'min_samples_split': 5, 'min_samples_leaf': 9, 'criterion': 'gini'}. Best is trial 62 with value: 0.6224366706875754.\u001b[0m\n",
      "\u001b[32m[I 2023-03-14 20:17:41,001]\u001b[0m Trial 131 finished with value: 0.6189320388349515 and parameters: {'n_estimators': 90, 'max_depth': 24, 'min_samples_split': 5, 'min_samples_leaf': 8, 'criterion': 'gini'}. Best is trial 62 with value: 0.6224366706875754.\u001b[0m\n",
      "\u001b[32m[I 2023-03-14 20:17:41,330]\u001b[0m Trial 132 finished with value: 0.6224366706875754 and parameters: {'n_estimators': 88, 'max_depth': 25, 'min_samples_split': 5, 'min_samples_leaf': 8, 'criterion': 'gini'}. Best is trial 62 with value: 0.6224366706875754.\u001b[0m\n",
      "\u001b[32m[I 2023-03-14 20:17:41,655]\u001b[0m Trial 133 finished with value: 0.6198547215496368 and parameters: {'n_estimators': 87, 'max_depth': 25, 'min_samples_split': 4, 'min_samples_leaf': 8, 'criterion': 'gini'}. Best is trial 62 with value: 0.6224366706875754.\u001b[0m\n",
      "\u001b[32m[I 2023-03-14 20:17:41,964]\u001b[0m Trial 134 finished with value: 0.619277108433735 and parameters: {'n_estimators': 83, 'max_depth': 25, 'min_samples_split': 5, 'min_samples_leaf': 8, 'criterion': 'gini'}. Best is trial 62 with value: 0.6224366706875754.\u001b[0m\n",
      "\u001b[32m[I 2023-03-14 20:17:42,311]\u001b[0m Trial 135 finished with value: 0.619277108433735 and parameters: {'n_estimators': 92, 'max_depth': 26, 'min_samples_split': 5, 'min_samples_leaf': 8, 'criterion': 'gini'}. Best is trial 62 with value: 0.6224366706875754.\u001b[0m\n",
      "\u001b[32m[I 2023-03-14 20:17:42,681]\u001b[0m Trial 136 finished with value: 0.6142506142506142 and parameters: {'n_estimators': 97, 'max_depth': 28, 'min_samples_split': 4, 'min_samples_leaf': 7, 'criterion': 'gini'}. Best is trial 62 with value: 0.6224366706875754.\u001b[0m\n",
      "\u001b[32m[I 2023-03-14 20:17:42,993]\u001b[0m Trial 137 finished with value: 0.617611580217129 and parameters: {'n_estimators': 82, 'max_depth': 27, 'min_samples_split': 4, 'min_samples_leaf': 8, 'criterion': 'gini'}. Best is trial 62 with value: 0.6224366706875754.\u001b[0m\n",
      "\u001b[32m[I 2023-03-14 20:17:43,322]\u001b[0m Trial 138 finished with value: 0.6198547215496368 and parameters: {'n_estimators': 87, 'max_depth': 29, 'min_samples_split': 5, 'min_samples_leaf': 8, 'criterion': 'gini'}. Best is trial 62 with value: 0.6224366706875754.\u001b[0m\n",
      "\u001b[32m[I 2023-03-14 20:17:43,619]\u001b[0m Trial 139 finished with value: 0.6150121065375304 and parameters: {'n_estimators': 78, 'max_depth': 13, 'min_samples_split': 4, 'min_samples_leaf': 7, 'criterion': 'gini'}. Best is trial 62 with value: 0.6224366706875754.\u001b[0m\n",
      "\u001b[32m[I 2023-03-14 20:17:43,892]\u001b[0m Trial 140 finished with value: 0.6041896361631752 and parameters: {'n_estimators': 95, 'max_depth': 6, 'min_samples_split': 5, 'min_samples_leaf': 9, 'criterion': 'gini'}. Best is trial 62 with value: 0.6224366706875754.\u001b[0m\n",
      "\u001b[32m[I 2023-03-14 20:17:44,224]\u001b[0m Trial 141 finished with value: 0.6215235792019347 and parameters: {'n_estimators': 89, 'max_depth': 24, 'min_samples_split': 5, 'min_samples_leaf': 8, 'criterion': 'gini'}. Best is trial 62 with value: 0.6224366706875754.\u001b[0m\n",
      "\u001b[32m[I 2023-03-14 20:17:44,540]\u001b[0m Trial 142 finished with value: 0.62227602905569 and parameters: {'n_estimators': 84, 'max_depth': 25, 'min_samples_split': 5, 'min_samples_leaf': 8, 'criterion': 'gini'}. Best is trial 62 with value: 0.6224366706875754.\u001b[0m\n",
      "\u001b[32m[I 2023-03-14 20:17:44,851]\u001b[0m Trial 143 finished with value: 0.619277108433735 and parameters: {'n_estimators': 83, 'max_depth': 27, 'min_samples_split': 5, 'min_samples_leaf': 8, 'criterion': 'gini'}. Best is trial 62 with value: 0.6224366706875754.\u001b[0m\n",
      "\u001b[32m[I 2023-03-14 20:17:45,170]\u001b[0m Trial 144 finished with value: 0.6215235792019347 and parameters: {'n_estimators': 85, 'max_depth': 25, 'min_samples_split': 4, 'min_samples_leaf': 8, 'criterion': 'gini'}. Best is trial 62 with value: 0.6224366706875754.\u001b[0m\n",
      "\u001b[32m[I 2023-03-14 20:17:45,471]\u001b[0m Trial 145 finished with value: 0.6177884615384615 and parameters: {'n_estimators': 80, 'max_depth': 26, 'min_samples_split': 5, 'min_samples_leaf': 8, 'criterion': 'gini'}. Best is trial 62 with value: 0.6224366706875754.\u001b[0m\n",
      "\u001b[32m[I 2023-03-14 20:17:45,814]\u001b[0m Trial 146 finished with value: 0.619277108433735 and parameters: {'n_estimators': 92, 'max_depth': 23, 'min_samples_split': 5, 'min_samples_leaf': 8, 'criterion': 'gini'}. Best is trial 62 with value: 0.6224366706875754.\u001b[0m\n",
      "\u001b[32m[I 2023-03-14 20:17:46,143]\u001b[0m Trial 147 finished with value: 0.6224366706875754 and parameters: {'n_estimators': 88, 'max_depth': 26, 'min_samples_split': 5, 'min_samples_leaf': 8, 'criterion': 'gini'}. Best is trial 62 with value: 0.6224366706875754.\u001b[0m\n",
      "\u001b[32m[I 2023-03-14 20:17:46,470]\u001b[0m Trial 148 finished with value: 0.6198547215496368 and parameters: {'n_estimators': 87, 'max_depth': 26, 'min_samples_split': 5, 'min_samples_leaf': 8, 'criterion': 'gini'}. Best is trial 62 with value: 0.6224366706875754.\u001b[0m\n",
      "\u001b[32m[I 2023-03-14 20:17:46,814]\u001b[0m Trial 149 finished with value: 0.609547123623011 and parameters: {'n_estimators': 90, 'max_depth': 28, 'min_samples_split': 4, 'min_samples_leaf': 7, 'criterion': 'gini'}. Best is trial 62 with value: 0.6224366706875754.\u001b[0m\n",
      "\u001b[32m[I 2023-03-14 20:17:47,118]\u001b[0m Trial 150 finished with value: 0.6111771700356717 and parameters: {'n_estimators': 81, 'max_depth': 27, 'min_samples_split': 5, 'min_samples_leaf': 9, 'criterion': 'gini'}. Best is trial 62 with value: 0.6224366706875754.\u001b[0m\n",
      "\u001b[32m[I 2023-03-14 20:17:47,446]\u001b[0m Trial 151 finished with value: 0.6215235792019347 and parameters: {'n_estimators': 85, 'max_depth': 24, 'min_samples_split': 5, 'min_samples_leaf': 8, 'criterion': 'gini'}. Best is trial 62 with value: 0.6224366706875754.\u001b[0m\n",
      "\u001b[32m[I 2023-03-14 20:17:47,737]\u001b[0m Trial 152 finished with value: 0.6177884615384615 and parameters: {'n_estimators': 76, 'max_depth': 25, 'min_samples_split': 4, 'min_samples_leaf': 8, 'criterion': 'gini'}. Best is trial 62 with value: 0.6224366706875754.\u001b[0m\n",
      "\u001b[32m[I 2023-03-14 20:17:48,067]\u001b[0m Trial 153 finished with value: 0.6224366706875754 and parameters: {'n_estimators': 88, 'max_depth': 25, 'min_samples_split': 6, 'min_samples_leaf': 8, 'criterion': 'gini'}. Best is trial 62 with value: 0.6224366706875754.\u001b[0m\n",
      "\u001b[32m[I 2023-03-14 20:17:48,403]\u001b[0m Trial 154 finished with value: 0.6224366706875754 and parameters: {'n_estimators': 88, 'max_depth': 26, 'min_samples_split': 5, 'min_samples_leaf': 8, 'criterion': 'gini'}. Best is trial 62 with value: 0.6224366706875754.\u001b[0m\n",
      "\u001b[32m[I 2023-03-14 20:17:48,760]\u001b[0m Trial 155 finished with value: 0.6142684401451027 and parameters: {'n_estimators': 94, 'max_depth': 26, 'min_samples_split': 5, 'min_samples_leaf': 8, 'criterion': 'gini'}. Best is trial 62 with value: 0.6224366706875754.\u001b[0m\n",
      "\u001b[32m[I 2023-03-14 20:17:49,093]\u001b[0m Trial 156 finished with value: 0.6224366706875754 and parameters: {'n_estimators': 88, 'max_depth': 26, 'min_samples_split': 5, 'min_samples_leaf': 8, 'criterion': 'gini'}. Best is trial 62 with value: 0.6224366706875754.\u001b[0m\n",
      "\u001b[32m[I 2023-03-14 20:17:49,445]\u001b[0m Trial 157 finished with value: 0.6138107416879794 and parameters: {'n_estimators': 88, 'max_depth': 26, 'min_samples_split': 5, 'min_samples_leaf': 5, 'criterion': 'gini'}. Best is trial 62 with value: 0.6224366706875754.\u001b[0m\n",
      "\u001b[32m[I 2023-03-14 20:17:49,791]\u001b[0m Trial 158 finished with value: 0.619277108433735 and parameters: {'n_estimators': 92, 'max_depth': 25, 'min_samples_split': 5, 'min_samples_leaf': 8, 'criterion': 'gini'}. Best is trial 62 with value: 0.6224366706875754.\u001b[0m\n"
     ]
    },
    {
     "name": "stderr",
     "output_type": "stream",
     "text": [
      "\u001b[32m[I 2023-03-14 20:17:50,105]\u001b[0m Trial 159 finished with value: 0.617611580217129 and parameters: {'n_estimators': 82, 'max_depth': 27, 'min_samples_split': 4, 'min_samples_leaf': 8, 'criterion': 'gini'}. Best is trial 62 with value: 0.6224366706875754.\u001b[0m\n",
      "\u001b[32m[I 2023-03-14 20:17:50,483]\u001b[0m Trial 160 finished with value: 0.6142506142506142 and parameters: {'n_estimators': 98, 'max_depth': 25, 'min_samples_split': 5, 'min_samples_leaf': 7, 'criterion': 'gini'}. Best is trial 62 with value: 0.6224366706875754.\u001b[0m\n",
      "\u001b[32m[I 2023-03-14 20:17:50,801]\u001b[0m Trial 161 finished with value: 0.62227602905569 and parameters: {'n_estimators': 84, 'max_depth': 26, 'min_samples_split': 5, 'min_samples_leaf': 8, 'criterion': 'gini'}. Best is trial 62 with value: 0.6224366706875754.\u001b[0m\n",
      "\u001b[32m[I 2023-03-14 20:17:51,133]\u001b[0m Trial 162 finished with value: 0.6224366706875754 and parameters: {'n_estimators': 88, 'max_depth': 26, 'min_samples_split': 5, 'min_samples_leaf': 8, 'criterion': 'gini'}. Best is trial 62 with value: 0.6224366706875754.\u001b[0m\n",
      "\u001b[32m[I 2023-03-14 20:17:51,463]\u001b[0m Trial 163 finished with value: 0.6224366706875754 and parameters: {'n_estimators': 88, 'max_depth': 26, 'min_samples_split': 5, 'min_samples_leaf': 8, 'criterion': 'gini'}. Best is trial 62 with value: 0.6224366706875754.\u001b[0m\n",
      "\u001b[32m[I 2023-03-14 20:17:51,804]\u001b[0m Trial 164 finished with value: 0.6207729468599033 and parameters: {'n_estimators': 91, 'max_depth': 26, 'min_samples_split': 5, 'min_samples_leaf': 8, 'criterion': 'gini'}. Best is trial 62 with value: 0.6224366706875754.\u001b[0m\n",
      "\u001b[32m[I 2023-03-14 20:17:52,138]\u001b[0m Trial 165 finished with value: 0.6224366706875754 and parameters: {'n_estimators': 88, 'max_depth': 25, 'min_samples_split': 5, 'min_samples_leaf': 8, 'criterion': 'gini'}. Best is trial 62 with value: 0.6224366706875754.\u001b[0m\n",
      "\u001b[32m[I 2023-03-14 20:17:52,474]\u001b[0m Trial 166 finished with value: 0.6224366706875754 and parameters: {'n_estimators': 88, 'max_depth': 25, 'min_samples_split': 5, 'min_samples_leaf': 8, 'criterion': 'gini'}. Best is trial 62 with value: 0.6224366706875754.\u001b[0m\n",
      "\u001b[32m[I 2023-03-14 20:17:52,872]\u001b[0m Trial 167 finished with value: 0.6053268765133172 and parameters: {'n_estimators': 88, 'max_depth': 25, 'min_samples_split': 5, 'min_samples_leaf': 8, 'criterion': 'entropy'}. Best is trial 62 with value: 0.6224366706875754.\u001b[0m\n",
      "\u001b[32m[I 2023-03-14 20:17:53,240]\u001b[0m Trial 168 finished with value: 0.6201923076923077 and parameters: {'n_estimators': 95, 'max_depth': 24, 'min_samples_split': 5, 'min_samples_leaf': 8, 'criterion': 'gini'}. Best is trial 62 with value: 0.6224366706875754.\u001b[0m\n",
      "\u001b[32m[I 2023-03-14 20:17:53,581]\u001b[0m Trial 169 finished with value: 0.6144721233689205 and parameters: {'n_estimators': 91, 'max_depth': 27, 'min_samples_split': 5, 'min_samples_leaf': 9, 'criterion': 'gini'}. Best is trial 62 with value: 0.6224366706875754.\u001b[0m\n",
      "\u001b[32m[I 2023-03-14 20:17:53,916]\u001b[0m Trial 170 finished with value: 0.6224366706875754 and parameters: {'n_estimators': 88, 'max_depth': 25, 'min_samples_split': 5, 'min_samples_leaf': 8, 'criterion': 'gini'}. Best is trial 62 with value: 0.6224366706875754.\u001b[0m\n",
      "\u001b[32m[I 2023-03-14 20:17:54,252]\u001b[0m Trial 171 finished with value: 0.6198547215496368 and parameters: {'n_estimators': 87, 'max_depth': 25, 'min_samples_split': 5, 'min_samples_leaf': 8, 'criterion': 'gini'}. Best is trial 62 with value: 0.6224366706875754.\u001b[0m\n",
      "\u001b[32m[I 2023-03-14 20:17:54,593]\u001b[0m Trial 172 finished with value: 0.6215235792019347 and parameters: {'n_estimators': 89, 'max_depth': 25, 'min_samples_split': 5, 'min_samples_leaf': 8, 'criterion': 'gini'}. Best is trial 62 with value: 0.6224366706875754.\u001b[0m\n",
      "\u001b[32m[I 2023-03-14 20:17:54,943]\u001b[0m Trial 173 finished with value: 0.6142684401451027 and parameters: {'n_estimators': 94, 'max_depth': 26, 'min_samples_split': 5, 'min_samples_leaf': 8, 'criterion': 'gini'}. Best is trial 62 with value: 0.6224366706875754.\u001b[0m\n",
      "\u001b[32m[I 2023-03-14 20:17:55,269]\u001b[0m Trial 174 finished with value: 0.6198547215496368 and parameters: {'n_estimators': 87, 'max_depth': 24, 'min_samples_split': 5, 'min_samples_leaf': 8, 'criterion': 'gini'}. Best is trial 62 with value: 0.6224366706875754.\u001b[0m\n",
      "\u001b[32m[I 2023-03-14 20:17:55,613]\u001b[0m Trial 175 finished with value: 0.619277108433735 and parameters: {'n_estimators': 92, 'max_depth': 26, 'min_samples_split': 8, 'min_samples_leaf': 8, 'criterion': 'gini'}. Best is trial 62 with value: 0.6224366706875754.\u001b[0m\n",
      "\u001b[32m[I 2023-03-14 20:17:55,960]\u001b[0m Trial 176 finished with value: 0.6189320388349515 and parameters: {'n_estimators': 90, 'max_depth': 24, 'min_samples_split': 5, 'min_samples_leaf': 8, 'criterion': 'gini'}. Best is trial 62 with value: 0.6224366706875754.\u001b[0m\n",
      "\u001b[32m[I 2023-03-14 20:17:56,325]\u001b[0m Trial 177 finished with value: 0.5923836389280677 and parameters: {'n_estimators': 87, 'max_depth': 23, 'min_samples_split': 5, 'min_samples_leaf': 3, 'criterion': 'gini'}. Best is trial 62 with value: 0.6224366706875754.\u001b[0m\n",
      "\u001b[32m[I 2023-03-14 20:17:56,684]\u001b[0m Trial 178 finished with value: 0.6142684401451027 and parameters: {'n_estimators': 96, 'max_depth': 25, 'min_samples_split': 5, 'min_samples_leaf': 8, 'criterion': 'gini'}. Best is trial 62 with value: 0.6224366706875754.\u001b[0m\n",
      "\u001b[32m[I 2023-03-14 20:17:57,000]\u001b[0m Trial 179 finished with value: 0.6102941176470589 and parameters: {'n_estimators': 83, 'max_depth': 26, 'min_samples_split': 4, 'min_samples_leaf': 7, 'criterion': 'gini'}. Best is trial 62 with value: 0.6224366706875754.\u001b[0m\n",
      "\u001b[32m[I 2023-03-14 20:17:57,339]\u001b[0m Trial 180 finished with value: 0.6189320388349515 and parameters: {'n_estimators': 90, 'max_depth': 27, 'min_samples_split': 5, 'min_samples_leaf': 8, 'criterion': 'gini'}. Best is trial 62 with value: 0.6224366706875754.\u001b[0m\n",
      "\u001b[32m[I 2023-03-14 20:17:57,701]\u001b[0m Trial 181 finished with value: 0.5864197530864197 and parameters: {'n_estimators': 85, 'max_depth': 25, 'min_samples_split': 5, 'min_samples_leaf': 1, 'criterion': 'gini'}. Best is trial 62 with value: 0.6224366706875754.\u001b[0m\n",
      "\u001b[32m[I 2023-03-14 20:17:58,016]\u001b[0m Trial 182 finished with value: 0.619277108433735 and parameters: {'n_estimators': 83, 'max_depth': 25, 'min_samples_split': 5, 'min_samples_leaf': 8, 'criterion': 'gini'}. Best is trial 62 with value: 0.6224366706875754.\u001b[0m\n",
      "\u001b[32m[I 2023-03-14 20:17:58,341]\u001b[0m Trial 183 finished with value: 0.6198547215496368 and parameters: {'n_estimators': 86, 'max_depth': 25, 'min_samples_split': 5, 'min_samples_leaf': 8, 'criterion': 'gini'}. Best is trial 62 with value: 0.6224366706875754.\u001b[0m\n",
      "\u001b[32m[I 2023-03-14 20:17:58,647]\u001b[0m Trial 184 finished with value: 0.6203592814371257 and parameters: {'n_estimators': 81, 'max_depth': 24, 'min_samples_split': 5, 'min_samples_leaf': 8, 'criterion': 'gini'}. Best is trial 62 with value: 0.6224366706875754.\u001b[0m\n",
      "\u001b[32m[I 2023-03-14 20:17:58,979]\u001b[0m Trial 185 finished with value: 0.6224366706875754 and parameters: {'n_estimators': 88, 'max_depth': 27, 'min_samples_split': 6, 'min_samples_leaf': 8, 'criterion': 'gini'}. Best is trial 62 with value: 0.6224366706875754.\u001b[0m\n",
      "\u001b[32m[I 2023-03-14 20:17:59,328]\u001b[0m Trial 186 finished with value: 0.619277108433735 and parameters: {'n_estimators': 92, 'max_depth': 27, 'min_samples_split': 6, 'min_samples_leaf': 8, 'criterion': 'gini'}. Best is trial 62 with value: 0.6224366706875754.\u001b[0m\n",
      "\u001b[32m[I 2023-03-14 20:17:59,659]\u001b[0m Trial 187 finished with value: 0.6224366706875754 and parameters: {'n_estimators': 88, 'max_depth': 28, 'min_samples_split': 6, 'min_samples_leaf': 8, 'criterion': 'gini'}. Best is trial 62 with value: 0.6224366706875754.\u001b[0m\n",
      "\u001b[32m[I 2023-03-14 20:17:59,992]\u001b[0m Trial 188 finished with value: 0.6224366706875754 and parameters: {'n_estimators': 88, 'max_depth': 26, 'min_samples_split': 6, 'min_samples_leaf': 8, 'criterion': 'gini'}. Best is trial 62 with value: 0.6224366706875754.\u001b[0m\n",
      "\u001b[32m[I 2023-03-14 20:18:00,333]\u001b[0m Trial 189 finished with value: 0.6189320388349515 and parameters: {'n_estimators': 90, 'max_depth': 26, 'min_samples_split': 6, 'min_samples_leaf': 8, 'criterion': 'gini'}. Best is trial 62 with value: 0.6224366706875754.\u001b[0m\n",
      "\u001b[32m[I 2023-03-14 20:18:00,677]\u001b[0m Trial 190 finished with value: 0.6120996441281139 and parameters: {'n_estimators': 94, 'max_depth': 26, 'min_samples_split': 6, 'min_samples_leaf': 9, 'criterion': 'gini'}. Best is trial 62 with value: 0.6224366706875754.\u001b[0m\n"
     ]
    },
    {
     "name": "stderr",
     "output_type": "stream",
     "text": [
      "\u001b[32m[I 2023-03-14 20:18:01,012]\u001b[0m Trial 191 finished with value: 0.6215235792019347 and parameters: {'n_estimators': 89, 'max_depth': 27, 'min_samples_split': 6, 'min_samples_leaf': 8, 'criterion': 'gini'}. Best is trial 62 with value: 0.6224366706875754.\u001b[0m\n",
      "\u001b[32m[I 2023-03-14 20:18:01,340]\u001b[0m Trial 192 finished with value: 0.6198547215496368 and parameters: {'n_estimators': 87, 'max_depth': 26, 'min_samples_split': 7, 'min_samples_leaf': 8, 'criterion': 'gini'}. Best is trial 62 with value: 0.6224366706875754.\u001b[0m\n",
      "\u001b[32m[I 2023-03-14 20:18:01,557]\u001b[0m Trial 193 finished with value: 0.5849462365591399 and parameters: {'n_estimators': 88, 'max_depth': 4, 'min_samples_split': 6, 'min_samples_leaf': 8, 'criterion': 'gini'}. Best is trial 62 with value: 0.6224366706875754.\u001b[0m\n",
      "\u001b[32m[I 2023-03-14 20:18:01,897]\u001b[0m Trial 194 finished with value: 0.6207729468599033 and parameters: {'n_estimators': 91, 'max_depth': 27, 'min_samples_split': 6, 'min_samples_leaf': 8, 'criterion': 'gini'}. Best is trial 62 with value: 0.6224366706875754.\u001b[0m\n",
      "\u001b[32m[I 2023-03-14 20:18:02,242]\u001b[0m Trial 195 finished with value: 0.611111111111111 and parameters: {'n_estimators': 93, 'max_depth': 27, 'min_samples_split': 6, 'min_samples_leaf': 8, 'criterion': 'gini'}. Best is trial 62 with value: 0.6224366706875754.\u001b[0m\n",
      "\u001b[32m[I 2023-03-14 20:18:02,568]\u001b[0m Trial 196 finished with value: 0.6198547215496368 and parameters: {'n_estimators': 86, 'max_depth': 28, 'min_samples_split': 6, 'min_samples_leaf': 8, 'criterion': 'gini'}. Best is trial 62 with value: 0.6224366706875754.\u001b[0m\n",
      "\u001b[32m[I 2023-03-14 20:18:02,957]\u001b[0m Trial 197 finished with value: 0.6075334143377885 and parameters: {'n_estimators': 88, 'max_depth': 15, 'min_samples_split': 7, 'min_samples_leaf': 8, 'criterion': 'entropy'}. Best is trial 62 with value: 0.6224366706875754.\u001b[0m\n",
      "\u001b[32m[I 2023-03-14 20:18:03,264]\u001b[0m Trial 198 finished with value: 0.6203592814371257 and parameters: {'n_estimators': 81, 'max_depth': 24, 'min_samples_split': 6, 'min_samples_leaf': 8, 'criterion': 'gini'}. Best is trial 62 with value: 0.6224366706875754.\u001b[0m\n",
      "\u001b[32m[I 2023-03-14 20:18:03,631]\u001b[0m Trial 199 finished with value: 0.6142506142506142 and parameters: {'n_estimators': 97, 'max_depth': 26, 'min_samples_split': 6, 'min_samples_leaf': 7, 'criterion': 'gini'}. Best is trial 62 with value: 0.6224366706875754.\u001b[0m\n"
     ]
    },
    {
     "name": "stdout",
     "output_type": "stream",
     "text": [
      "Best trial:\n",
      "  Score: 0.622\n",
      "  Params: \n",
      "    n_estimators: 88\n",
      "    max_depth: 30\n",
      "    min_samples_split: 4\n",
      "    min_samples_leaf: 8\n",
      "    criterion: gini\n"
     ]
    }
   ],
   "source": [
    "study = optuna.create_study(direction='maximize')\n",
    "\n",
    "study.optimize(objective, n_trials=200)\n",
    "\n",
    "print('Best trial:')\n",
    "trial = study.best_trial\n",
    "print(f'  Score: {trial.value:.3f}')\n",
    "print('  Params: ')\n",
    "for key, value in trial.params.items():\n",
    "    print(f'    {key}: {value}')"
   ]
  },
  {
   "cell_type": "code",
   "execution_count": 116,
   "metadata": {},
   "outputs": [
    {
     "data": {
      "text/plain": [
       "RandomForestClassifier(class_weight='balanced', max_depth=25,\n",
       "                       min_samples_leaf=8, min_samples_split=8, n_estimators=88,\n",
       "                       random_state=322)"
      ]
     },
     "execution_count": 116,
     "metadata": {},
     "output_type": "execute_result"
    }
   ],
   "source": [
    "rfc_cl_w = RandomForestClassifier(n_estimators=88,\n",
    "                                   max_depth=25,\n",
    "                                   min_samples_split=8,\n",
    "                                   min_samples_leaf=8,\n",
    "                                   criterion='gini',\n",
    "                                   class_weight='balanced',\n",
    "                                   random_state=322)\n",
    "rfc_cl_w.fit(features_train, target_train)"
   ]
  },
  {
   "cell_type": "code",
   "execution_count": 117,
   "metadata": {},
   "outputs": [
    {
     "data": {
      "text/plain": [
       "0.86"
      ]
     },
     "execution_count": 117,
     "metadata": {},
     "output_type": "execute_result"
    }
   ],
   "source": [
    "prob_one_valid = rfc_cl_w.predict_proba(features_valid)[:, 1]\n",
    "roc_auc_score(target_valid, prob_one_valid).round(3)"
   ]
  },
  {
   "cell_type": "markdown",
   "metadata": {},
   "source": [
    "F1 равна 0,622, а AUC-ROC - 0,86. Эти показатели лучше чем у модели без учета дисбаланса."
   ]
  },
  {
   "cell_type": "markdown",
   "metadata": {},
   "source": [
    "#### Логистическая регрессия"
   ]
  },
  {
   "cell_type": "markdown",
   "metadata": {},
   "source": [
    "Обучим модель логистической регрессии со сбалансированным весом классов."
   ]
  },
  {
   "cell_type": "code",
   "execution_count": 118,
   "metadata": {},
   "outputs": [
    {
     "name": "stdout",
     "output_type": "stream",
     "text": [
      "F1 = 0.5018796992481204 AUC-ROC= 0.7752762942941712\n"
     ]
    }
   ],
   "source": [
    "model = LogisticRegression(random_state=322, class_weight='balanced')\n",
    "model.fit(features_train, target_train)\n",
    "predicted_valid = model.predict(features_valid)\n",
    "f1_valid = f1_score(predicted_valid, target_valid)\n",
    "prob_one_valid = model.predict_proba(features_valid)[:, 1]\n",
    "roc_auc = roc_auc_score(target_valid, prob_one_valid)\n",
    "print('F1 =', f1_valid, 'AUC-ROC=', roc_auc)"
   ]
  },
  {
   "cell_type": "markdown",
   "metadata": {},
   "source": [
    "Результаты также улучшились, но недостаточно, модель все еще очень неточная."
   ]
  },
  {
   "cell_type": "markdown",
   "metadata": {},
   "source": [
    "#### Дерево решений"
   ]
  },
  {
   "cell_type": "markdown",
   "metadata": {},
   "source": [
    "Проделаем то же самое для дерева решений."
   ]
  },
  {
   "cell_type": "code",
   "execution_count": 119,
   "metadata": {},
   "outputs": [],
   "source": [
    "def objective(trial):\n",
    "    max_depth = trial.suggest_int('max_depth', 3, 50)\n",
    "    min_samples_split = trial.suggest_int('min_samples_split', 2, 30)\n",
    "    min_samples_leaf = trial.suggest_int('min_samples_leaf', 1, 30)\n",
    "    criterion = trial.suggest_categorical('criterion', ['gini', 'entropy'])\n",
    "\n",
    "    dtc = DecisionTreeClassifier(max_depth=max_depth,\n",
    "                                    min_samples_split=min_samples_split,\n",
    "                                    min_samples_leaf=min_samples_leaf,\n",
    "                                    criterion=criterion,\n",
    "                                    class_weight='balanced',\n",
    "                                    random_state=322)\n",
    "\n",
    "    dtc.fit(features_train, target_train)\n",
    "\n",
    "    predicted_valid = dtc.predict(features_valid)\n",
    "\n",
    "    f1 = f1_score(target_valid, predicted_valid)\n",
    "\n",
    "    return f1"
   ]
  },
  {
   "cell_type": "code",
   "execution_count": 120,
   "metadata": {},
   "outputs": [
    {
     "name": "stderr",
     "output_type": "stream",
     "text": [
      "\u001b[32m[I 2023-03-14 20:18:04,026]\u001b[0m A new study created in memory with name: no-name-23029469-8702-4317-b35d-def43adb5ac4\u001b[0m\n",
      "\u001b[32m[I 2023-03-14 20:18:04,053]\u001b[0m Trial 0 finished with value: 0.5365365365365367 and parameters: {'max_depth': 29, 'min_samples_split': 26, 'min_samples_leaf': 8, 'criterion': 'entropy'}. Best is trial 0 with value: 0.5365365365365367.\u001b[0m\n",
      "\u001b[32m[I 2023-03-14 20:18:04,072]\u001b[0m Trial 1 finished with value: 0.5693730729701953 and parameters: {'max_depth': 10, 'min_samples_split': 11, 'min_samples_leaf': 28, 'criterion': 'gini'}. Best is trial 1 with value: 0.5693730729701953.\u001b[0m\n",
      "\u001b[32m[I 2023-03-14 20:18:04,094]\u001b[0m Trial 2 finished with value: 0.53276955602537 and parameters: {'max_depth': 35, 'min_samples_split': 17, 'min_samples_leaf': 3, 'criterion': 'gini'}. Best is trial 1 with value: 0.5693730729701953.\u001b[0m\n",
      "\u001b[32m[I 2023-03-14 20:18:04,115]\u001b[0m Trial 3 finished with value: 0.520746887966805 and parameters: {'max_depth': 41, 'min_samples_split': 19, 'min_samples_leaf': 4, 'criterion': 'gini'}. Best is trial 1 with value: 0.5693730729701953.\u001b[0m\n",
      "\u001b[32m[I 2023-03-14 20:18:04,141]\u001b[0m Trial 4 finished with value: 0.5394871794871795 and parameters: {'max_depth': 16, 'min_samples_split': 2, 'min_samples_leaf': 11, 'criterion': 'entropy'}. Best is trial 1 with value: 0.5693730729701953.\u001b[0m\n",
      "\u001b[32m[I 2023-03-14 20:18:04,156]\u001b[0m Trial 5 finished with value: 0.5650485436893204 and parameters: {'max_depth': 6, 'min_samples_split': 8, 'min_samples_leaf': 13, 'criterion': 'gini'}. Best is trial 1 with value: 0.5693730729701953.\u001b[0m\n",
      "\u001b[32m[I 2023-03-14 20:18:04,179]\u001b[0m Trial 6 finished with value: 0.5756302521008403 and parameters: {'max_depth': 35, 'min_samples_split': 14, 'min_samples_leaf': 27, 'criterion': 'entropy'}. Best is trial 6 with value: 0.5756302521008403.\u001b[0m\n",
      "\u001b[32m[I 2023-03-14 20:18:04,203]\u001b[0m Trial 7 finished with value: 0.5431619786614937 and parameters: {'max_depth': 31, 'min_samples_split': 30, 'min_samples_leaf': 15, 'criterion': 'entropy'}. Best is trial 6 with value: 0.5756302521008403.\u001b[0m\n",
      "\u001b[32m[I 2023-03-14 20:18:04,222]\u001b[0m Trial 8 finished with value: 0.5714285714285714 and parameters: {'max_depth': 27, 'min_samples_split': 27, 'min_samples_leaf': 27, 'criterion': 'gini'}. Best is trial 6 with value: 0.5756302521008403.\u001b[0m\n",
      "\u001b[32m[I 2023-03-14 20:18:04,240]\u001b[0m Trial 9 finished with value: 0.58377239199157 and parameters: {'max_depth': 9, 'min_samples_split': 2, 'min_samples_leaf': 22, 'criterion': 'gini'}. Best is trial 9 with value: 0.58377239199157.\u001b[0m\n",
      "\u001b[32m[I 2023-03-14 20:18:04,269]\u001b[0m Trial 10 finished with value: 0.5705705705705706 and parameters: {'max_depth': 50, 'min_samples_split': 2, 'min_samples_leaf': 21, 'criterion': 'gini'}. Best is trial 9 with value: 0.58377239199157.\u001b[0m\n",
      "\u001b[32m[I 2023-03-14 20:18:04,300]\u001b[0m Trial 11 finished with value: 0.5605605605605606 and parameters: {'max_depth': 18, 'min_samples_split': 10, 'min_samples_leaf': 21, 'criterion': 'entropy'}. Best is trial 9 with value: 0.58377239199157.\u001b[0m\n",
      "\u001b[32m[I 2023-03-14 20:18:04,331]\u001b[0m Trial 12 finished with value: 0.5622489959839357 and parameters: {'max_depth': 19, 'min_samples_split': 22, 'min_samples_leaf': 22, 'criterion': 'entropy'}. Best is trial 9 with value: 0.58377239199157.\u001b[0m\n",
      "\u001b[32m[I 2023-03-14 20:18:04,363]\u001b[0m Trial 13 finished with value: 0.5763052208835342 and parameters: {'max_depth': 42, 'min_samples_split': 6, 'min_samples_leaf': 30, 'criterion': 'entropy'}. Best is trial 9 with value: 0.58377239199157.\u001b[0m\n",
      "\u001b[32m[I 2023-03-14 20:18:04,396]\u001b[0m Trial 14 finished with value: 0.5763052208835342 and parameters: {'max_depth': 49, 'min_samples_split': 6, 'min_samples_leaf': 30, 'criterion': 'entropy'}. Best is trial 9 with value: 0.58377239199157.\u001b[0m\n",
      "\u001b[32m[I 2023-03-14 20:18:04,426]\u001b[0m Trial 15 finished with value: 0.5714285714285714 and parameters: {'max_depth': 42, 'min_samples_split': 5, 'min_samples_leaf': 23, 'criterion': 'gini'}. Best is trial 9 with value: 0.58377239199157.\u001b[0m\n",
      "\u001b[32m[I 2023-03-14 20:18:04,447]\u001b[0m Trial 16 finished with value: 0.5392051557465092 and parameters: {'max_depth': 3, 'min_samples_split': 13, 'min_samples_leaf': 18, 'criterion': 'gini'}. Best is trial 9 with value: 0.58377239199157.\u001b[0m\n",
      "\u001b[32m[I 2023-03-14 20:18:04,480]\u001b[0m Trial 17 finished with value: 0.5708333333333334 and parameters: {'max_depth': 21, 'min_samples_split': 5, 'min_samples_leaf': 25, 'criterion': 'entropy'}. Best is trial 9 with value: 0.58377239199157.\u001b[0m\n",
      "\u001b[32m[I 2023-03-14 20:18:04,514]\u001b[0m Trial 18 finished with value: 0.5466794995187682 and parameters: {'max_depth': 13, 'min_samples_split': 2, 'min_samples_leaf': 18, 'criterion': 'entropy'}. Best is trial 9 with value: 0.58377239199157.\u001b[0m\n",
      "\u001b[32m[I 2023-03-14 20:18:04,542]\u001b[0m Trial 19 finished with value: 0.571715145436309 and parameters: {'max_depth': 42, 'min_samples_split': 10, 'min_samples_leaf': 30, 'criterion': 'gini'}. Best is trial 9 with value: 0.58377239199157.\u001b[0m\n",
      "\u001b[32m[I 2023-03-14 20:18:04,574]\u001b[0m Trial 20 finished with value: 0.5466794995187682 and parameters: {'max_depth': 24, 'min_samples_split': 7, 'min_samples_leaf': 18, 'criterion': 'entropy'}. Best is trial 9 with value: 0.58377239199157.\u001b[0m\n",
      "\u001b[32m[I 2023-03-14 20:18:04,605]\u001b[0m Trial 21 finished with value: 0.5763052208835342 and parameters: {'max_depth': 50, 'min_samples_split': 5, 'min_samples_leaf': 30, 'criterion': 'entropy'}. Best is trial 9 with value: 0.58377239199157.\u001b[0m\n",
      "\u001b[32m[I 2023-03-14 20:18:04,638]\u001b[0m Trial 22 finished with value: 0.5708333333333334 and parameters: {'max_depth': 46, 'min_samples_split': 7, 'min_samples_leaf': 25, 'criterion': 'entropy'}. Best is trial 9 with value: 0.58377239199157.\u001b[0m\n",
      "\u001b[32m[I 2023-03-14 20:18:04,669]\u001b[0m Trial 23 finished with value: 0.5708333333333334 and parameters: {'max_depth': 37, 'min_samples_split': 4, 'min_samples_leaf': 25, 'criterion': 'entropy'}. Best is trial 9 with value: 0.58377239199157.\u001b[0m\n",
      "\u001b[32m[I 2023-03-14 20:18:04,700]\u001b[0m Trial 24 finished with value: 0.5763052208835342 and parameters: {'max_depth': 46, 'min_samples_split': 8, 'min_samples_leaf': 30, 'criterion': 'entropy'}. Best is trial 9 with value: 0.58377239199157.\u001b[0m\n",
      "\u001b[32m[I 2023-03-14 20:18:04,732]\u001b[0m Trial 25 finished with value: 0.5756302521008403 and parameters: {'max_depth': 46, 'min_samples_split': 12, 'min_samples_leaf': 27, 'criterion': 'entropy'}. Best is trial 9 with value: 0.58377239199157.\u001b[0m\n",
      "\u001b[32m[I 2023-03-14 20:18:04,762]\u001b[0m Trial 26 finished with value: 0.5696594427244582 and parameters: {'max_depth': 39, 'min_samples_split': 16, 'min_samples_leaf': 24, 'criterion': 'gini'}. Best is trial 9 with value: 0.58377239199157.\u001b[0m\n",
      "\u001b[32m[I 2023-03-14 20:18:04,793]\u001b[0m Trial 27 finished with value: 0.570539419087137 and parameters: {'max_depth': 32, 'min_samples_split': 4, 'min_samples_leaf': 28, 'criterion': 'entropy'}. Best is trial 9 with value: 0.58377239199157.\u001b[0m\n",
      "\u001b[32m[I 2023-03-14 20:18:04,822]\u001b[0m Trial 28 finished with value: 0.572289156626506 and parameters: {'max_depth': 24, 'min_samples_split': 9, 'min_samples_leaf': 20, 'criterion': 'gini'}. Best is trial 9 with value: 0.58377239199157.\u001b[0m\n",
      "\u001b[32m[I 2023-03-14 20:18:04,853]\u001b[0m Trial 29 finished with value: 0.5578231292517007 and parameters: {'max_depth': 9, 'min_samples_split': 6, 'min_samples_leaf': 8, 'criterion': 'entropy'}. Best is trial 9 with value: 0.58377239199157.\u001b[0m\n",
      "\u001b[32m[I 2023-03-14 20:18:04,886]\u001b[0m Trial 30 finished with value: 0.5723204994797086 and parameters: {'max_depth': 45, 'min_samples_split': 21, 'min_samples_leaf': 29, 'criterion': 'entropy'}. Best is trial 9 with value: 0.58377239199157.\u001b[0m\n",
      "\u001b[32m[I 2023-03-14 20:18:04,917]\u001b[0m Trial 31 finished with value: 0.5763052208835342 and parameters: {'max_depth': 49, 'min_samples_split': 4, 'min_samples_leaf': 30, 'criterion': 'entropy'}. Best is trial 9 with value: 0.58377239199157.\u001b[0m\n",
      "\u001b[32m[I 2023-03-14 20:18:04,948]\u001b[0m Trial 32 finished with value: 0.5708333333333334 and parameters: {'max_depth': 49, 'min_samples_split': 3, 'min_samples_leaf': 26, 'criterion': 'entropy'}. Best is trial 9 with value: 0.58377239199157.\u001b[0m\n",
      "\u001b[32m[I 2023-03-14 20:18:04,981]\u001b[0m Trial 33 finished with value: 0.570539419087137 and parameters: {'max_depth': 50, 'min_samples_split': 6, 'min_samples_leaf': 28, 'criterion': 'entropy'}. Best is trial 9 with value: 0.58377239199157.\u001b[0m\n"
     ]
    },
    {
     "name": "stderr",
     "output_type": "stream",
     "text": [
      "\u001b[32m[I 2023-03-14 20:18:05,013]\u001b[0m Trial 34 finished with value: 0.5763052208835342 and parameters: {'max_depth': 44, 'min_samples_split': 14, 'min_samples_leaf': 30, 'criterion': 'entropy'}. Best is trial 9 with value: 0.58377239199157.\u001b[0m\n",
      "\u001b[32m[I 2023-03-14 20:18:05,042]\u001b[0m Trial 35 finished with value: 0.5714285714285714 and parameters: {'max_depth': 39, 'min_samples_split': 11, 'min_samples_leaf': 23, 'criterion': 'gini'}. Best is trial 9 with value: 0.58377239199157.\u001b[0m\n",
      "\u001b[32m[I 2023-03-14 20:18:05,075]\u001b[0m Trial 36 finished with value: 0.5768421052631578 and parameters: {'max_depth': 11, 'min_samples_split': 8, 'min_samples_leaf': 28, 'criterion': 'entropy'}. Best is trial 9 with value: 0.58377239199157.\u001b[0m\n",
      "\u001b[32m[I 2023-03-14 20:18:05,103]\u001b[0m Trial 37 finished with value: 0.5740932642487047 and parameters: {'max_depth': 11, 'min_samples_split': 8, 'min_samples_leaf': 28, 'criterion': 'gini'}. Best is trial 9 with value: 0.58377239199157.\u001b[0m\n",
      "\u001b[32m[I 2023-03-14 20:18:05,136]\u001b[0m Trial 38 finished with value: 0.5708333333333334 and parameters: {'max_depth': 14, 'min_samples_split': 2, 'min_samples_leaf': 26, 'criterion': 'entropy'}. Best is trial 9 with value: 0.58377239199157.\u001b[0m\n",
      "\u001b[32m[I 2023-03-14 20:18:05,164]\u001b[0m Trial 39 finished with value: 0.5550049554013875 and parameters: {'max_depth': 8, 'min_samples_split': 19, 'min_samples_leaf': 2, 'criterion': 'gini'}. Best is trial 9 with value: 0.58377239199157.\u001b[0m\n",
      "\u001b[32m[I 2023-03-14 20:18:05,189]\u001b[0m Trial 40 finished with value: 0.5537525354969574 and parameters: {'max_depth': 4, 'min_samples_split': 9, 'min_samples_leaf': 12, 'criterion': 'entropy'}. Best is trial 9 with value: 0.58377239199157.\u001b[0m\n",
      "\u001b[32m[I 2023-03-14 20:18:05,219]\u001b[0m Trial 41 finished with value: 0.5686839577329491 and parameters: {'max_depth': 7, 'min_samples_split': 6, 'min_samples_leaf': 29, 'criterion': 'entropy'}. Best is trial 9 with value: 0.58377239199157.\u001b[0m\n",
      "\u001b[32m[I 2023-03-14 20:18:05,251]\u001b[0m Trial 42 finished with value: 0.5756302521008403 and parameters: {'max_depth': 12, 'min_samples_split': 4, 'min_samples_leaf': 27, 'criterion': 'entropy'}. Best is trial 9 with value: 0.58377239199157.\u001b[0m\n",
      "\u001b[32m[I 2023-03-14 20:18:05,284]\u001b[0m Trial 43 finished with value: 0.5723204994797086 and parameters: {'max_depth': 47, 'min_samples_split': 7, 'min_samples_leaf': 29, 'criterion': 'entropy'}. Best is trial 9 with value: 0.58377239199157.\u001b[0m\n",
      "\u001b[32m[I 2023-03-14 20:18:05,317]\u001b[0m Trial 44 finished with value: 0.5708333333333334 and parameters: {'max_depth': 16, 'min_samples_split': 3, 'min_samples_leaf': 26, 'criterion': 'entropy'}. Best is trial 9 with value: 0.58377239199157.\u001b[0m\n",
      "\u001b[32m[I 2023-03-14 20:18:05,350]\u001b[0m Trial 45 finished with value: 0.5641547861507129 and parameters: {'max_depth': 31, 'min_samples_split': 5, 'min_samples_leaf': 24, 'criterion': 'entropy'}. Best is trial 9 with value: 0.58377239199157.\u001b[0m\n",
      "\u001b[32m[I 2023-03-14 20:18:05,382]\u001b[0m Trial 46 finished with value: 0.5412541254125413 and parameters: {'max_depth': 43, 'min_samples_split': 11, 'min_samples_leaf': 5, 'criterion': 'gini'}. Best is trial 9 with value: 0.58377239199157.\u001b[0m\n",
      "\u001b[32m[I 2023-03-14 20:18:05,416]\u001b[0m Trial 47 finished with value: 0.570539419087137 and parameters: {'max_depth': 48, 'min_samples_split': 3, 'min_samples_leaf': 28, 'criterion': 'entropy'}. Best is trial 9 with value: 0.58377239199157.\u001b[0m\n",
      "\u001b[32m[I 2023-03-14 20:18:05,446]\u001b[0m Trial 48 finished with value: 0.5650048875855328 and parameters: {'max_depth': 40, 'min_samples_split': 9, 'min_samples_leaf': 15, 'criterion': 'gini'}. Best is trial 9 with value: 0.58377239199157.\u001b[0m\n",
      "\u001b[32m[I 2023-03-14 20:18:05,480]\u001b[0m Trial 49 finished with value: 0.5605605605605606 and parameters: {'max_depth': 28, 'min_samples_split': 5, 'min_samples_leaf': 21, 'criterion': 'entropy'}. Best is trial 9 with value: 0.58377239199157.\u001b[0m\n",
      "\u001b[32m[I 2023-03-14 20:18:05,515]\u001b[0m Trial 50 finished with value: 0.5454545454545455 and parameters: {'max_depth': 34, 'min_samples_split': 7, 'min_samples_leaf': 19, 'criterion': 'entropy'}. Best is trial 9 with value: 0.58377239199157.\u001b[0m\n",
      "\u001b[32m[I 2023-03-14 20:18:05,543]\u001b[0m Trial 51 finished with value: 0.5513413506012952 and parameters: {'max_depth': 5, 'min_samples_split': 8, 'min_samples_leaf': 30, 'criterion': 'entropy'}. Best is trial 9 with value: 0.58377239199157.\u001b[0m\n",
      "\u001b[32m[I 2023-03-14 20:18:05,577]\u001b[0m Trial 52 finished with value: 0.5763052208835342 and parameters: {'max_depth': 47, 'min_samples_split': 10, 'min_samples_leaf': 30, 'criterion': 'entropy'}. Best is trial 9 with value: 0.58377239199157.\u001b[0m\n",
      "\u001b[32m[I 2023-03-14 20:18:05,611]\u001b[0m Trial 53 finished with value: 0.5723204994797086 and parameters: {'max_depth': 50, 'min_samples_split': 14, 'min_samples_leaf': 29, 'criterion': 'entropy'}. Best is trial 9 with value: 0.58377239199157.\u001b[0m\n",
      "\u001b[32m[I 2023-03-14 20:18:05,645]\u001b[0m Trial 54 finished with value: 0.5756302521008403 and parameters: {'max_depth': 43, 'min_samples_split': 6, 'min_samples_leaf': 27, 'criterion': 'entropy'}. Best is trial 9 with value: 0.58377239199157.\u001b[0m\n",
      "\u001b[32m[I 2023-03-14 20:18:05,679]\u001b[0m Trial 55 finished with value: 0.563894523326572 and parameters: {'max_depth': 45, 'min_samples_split': 2, 'min_samples_leaf': 23, 'criterion': 'entropy'}. Best is trial 9 with value: 0.58377239199157.\u001b[0m\n",
      "\u001b[32m[I 2023-03-14 20:18:05,709]\u001b[0m Trial 56 finished with value: 0.5667686034658511 and parameters: {'max_depth': 25, 'min_samples_split': 25, 'min_samples_leaf': 26, 'criterion': 'gini'}. Best is trial 9 with value: 0.58377239199157.\u001b[0m\n",
      "\u001b[32m[I 2023-03-14 20:18:05,741]\u001b[0m Trial 57 finished with value: 0.5723204994797086 and parameters: {'max_depth': 41, 'min_samples_split': 8, 'min_samples_leaf': 29, 'criterion': 'entropy'}. Best is trial 9 with value: 0.58377239199157.\u001b[0m\n",
      "\u001b[32m[I 2023-03-14 20:18:05,774]\u001b[0m Trial 58 finished with value: 0.5641547861507129 and parameters: {'max_depth': 22, 'min_samples_split': 12, 'min_samples_leaf': 24, 'criterion': 'entropy'}. Best is trial 9 with value: 0.58377239199157.\u001b[0m\n",
      "\u001b[32m[I 2023-03-14 20:18:05,804]\u001b[0m Trial 59 finished with value: 0.5740932642487047 and parameters: {'max_depth': 15, 'min_samples_split': 5, 'min_samples_leaf': 28, 'criterion': 'gini'}. Best is trial 9 with value: 0.58377239199157.\u001b[0m\n",
      "\u001b[32m[I 2023-03-14 20:18:05,836]\u001b[0m Trial 60 finished with value: 0.5763052208835342 and parameters: {'max_depth': 48, 'min_samples_split': 3, 'min_samples_leaf': 30, 'criterion': 'entropy'}. Best is trial 9 with value: 0.58377239199157.\u001b[0m\n",
      "\u001b[32m[I 2023-03-14 20:18:05,870]\u001b[0m Trial 61 finished with value: 0.5763052208835342 and parameters: {'max_depth': 48, 'min_samples_split': 4, 'min_samples_leaf': 30, 'criterion': 'entropy'}. Best is trial 9 with value: 0.58377239199157.\u001b[0m\n",
      "\u001b[32m[I 2023-03-14 20:18:05,904]\u001b[0m Trial 62 finished with value: 0.5409047160731473 and parameters: {'max_depth': 46, 'min_samples_split': 4, 'min_samples_leaf': 16, 'criterion': 'entropy'}. Best is trial 9 with value: 0.58377239199157.\u001b[0m\n",
      "\u001b[32m[I 2023-03-14 20:18:05,938]\u001b[0m Trial 63 finished with value: 0.5756302521008403 and parameters: {'max_depth': 50, 'min_samples_split': 30, 'min_samples_leaf': 27, 'criterion': 'entropy'}. Best is trial 9 with value: 0.58377239199157.\u001b[0m\n",
      "\u001b[32m[I 2023-03-14 20:18:05,971]\u001b[0m Trial 64 finished with value: 0.5723204994797086 and parameters: {'max_depth': 18, 'min_samples_split': 6, 'min_samples_leaf': 29, 'criterion': 'entropy'}. Best is trial 9 with value: 0.58377239199157.\u001b[0m\n",
      "\u001b[32m[I 2023-03-14 20:18:06,005]\u001b[0m Trial 65 finished with value: 0.5708333333333334 and parameters: {'max_depth': 44, 'min_samples_split': 7, 'min_samples_leaf': 25, 'criterion': 'entropy'}. Best is trial 9 with value: 0.58377239199157.\u001b[0m\n",
      "\u001b[32m[I 2023-03-14 20:18:06,038]\u001b[0m Trial 66 finished with value: 0.5763052208835342 and parameters: {'max_depth': 36, 'min_samples_split': 5, 'min_samples_leaf': 30, 'criterion': 'entropy'}. Best is trial 9 with value: 0.58377239199157.\u001b[0m\n",
      "\u001b[32m[I 2023-03-14 20:18:06,071]\u001b[0m Trial 67 finished with value: 0.5756302521008403 and parameters: {'max_depth': 10, 'min_samples_split': 3, 'min_samples_leaf': 27, 'criterion': 'entropy'}. Best is trial 9 with value: 0.58377239199157.\u001b[0m\n"
     ]
    },
    {
     "name": "stderr",
     "output_type": "stream",
     "text": [
      "\u001b[32m[I 2023-03-14 20:18:06,101]\u001b[0m Trial 68 finished with value: 0.5740932642487047 and parameters: {'max_depth': 49, 'min_samples_split': 2, 'min_samples_leaf': 28, 'criterion': 'gini'}. Best is trial 9 with value: 0.58377239199157.\u001b[0m\n",
      "\u001b[32m[I 2023-03-14 20:18:06,136]\u001b[0m Trial 69 finished with value: 0.5622489959839357 and parameters: {'max_depth': 47, 'min_samples_split': 9, 'min_samples_leaf': 22, 'criterion': 'entropy'}. Best is trial 9 with value: 0.58377239199157.\u001b[0m\n",
      "\u001b[32m[I 2023-03-14 20:18:06,169]\u001b[0m Trial 70 finished with value: 0.5723204994797086 and parameters: {'max_depth': 41, 'min_samples_split': 8, 'min_samples_leaf': 29, 'criterion': 'entropy'}. Best is trial 9 with value: 0.58377239199157.\u001b[0m\n",
      "\u001b[32m[I 2023-03-14 20:18:06,202]\u001b[0m Trial 71 finished with value: 0.5763052208835342 and parameters: {'max_depth': 44, 'min_samples_split': 16, 'min_samples_leaf': 30, 'criterion': 'entropy'}. Best is trial 9 with value: 0.58377239199157.\u001b[0m\n",
      "\u001b[32m[I 2023-03-14 20:18:06,235]\u001b[0m Trial 72 finished with value: 0.5763052208835342 and parameters: {'max_depth': 46, 'min_samples_split': 19, 'min_samples_leaf': 30, 'criterion': 'entropy'}. Best is trial 9 with value: 0.58377239199157.\u001b[0m\n",
      "\u001b[32m[I 2023-03-14 20:18:06,269]\u001b[0m Trial 73 finished with value: 0.5723204994797086 and parameters: {'max_depth': 38, 'min_samples_split': 4, 'min_samples_leaf': 29, 'criterion': 'entropy'}. Best is trial 9 with value: 0.58377239199157.\u001b[0m\n",
      "\u001b[32m[I 2023-03-14 20:18:06,302]\u001b[0m Trial 74 finished with value: 0.570539419087137 and parameters: {'max_depth': 44, 'min_samples_split': 14, 'min_samples_leaf': 28, 'criterion': 'entropy'}. Best is trial 9 with value: 0.58377239199157.\u001b[0m\n",
      "\u001b[32m[I 2023-03-14 20:18:06,337]\u001b[0m Trial 75 finished with value: 0.5708333333333334 and parameters: {'max_depth': 49, 'min_samples_split': 12, 'min_samples_leaf': 26, 'criterion': 'entropy'}. Best is trial 9 with value: 0.58377239199157.\u001b[0m\n",
      "\u001b[32m[I 2023-03-14 20:18:06,367]\u001b[0m Trial 76 finished with value: 0.5740932642487047 and parameters: {'max_depth': 45, 'min_samples_split': 10, 'min_samples_leaf': 28, 'criterion': 'gini'}. Best is trial 9 with value: 0.58377239199157.\u001b[0m\n",
      "\u001b[32m[I 2023-03-14 20:18:06,401]\u001b[0m Trial 77 finished with value: 0.5708333333333334 and parameters: {'max_depth': 42, 'min_samples_split': 6, 'min_samples_leaf': 25, 'criterion': 'entropy'}. Best is trial 9 with value: 0.58377239199157.\u001b[0m\n",
      "\u001b[32m[I 2023-03-14 20:18:06,438]\u001b[0m Trial 78 finished with value: 0.5323590814196243 and parameters: {'max_depth': 48, 'min_samples_split': 5, 'min_samples_leaf': 10, 'criterion': 'entropy'}. Best is trial 9 with value: 0.58377239199157.\u001b[0m\n",
      "\u001b[32m[I 2023-03-14 20:18:06,470]\u001b[0m Trial 79 finished with value: 0.5686839577329491 and parameters: {'max_depth': 7, 'min_samples_split': 15, 'min_samples_leaf': 27, 'criterion': 'entropy'}. Best is trial 9 with value: 0.58377239199157.\u001b[0m\n",
      "\u001b[32m[I 2023-03-14 20:18:06,500]\u001b[0m Trial 80 finished with value: 0.571715145436309 and parameters: {'max_depth': 33, 'min_samples_split': 18, 'min_samples_leaf': 30, 'criterion': 'gini'}. Best is trial 9 with value: 0.58377239199157.\u001b[0m\n",
      "\u001b[32m[I 2023-03-14 20:18:06,533]\u001b[0m Trial 81 finished with value: 0.5763052208835342 and parameters: {'max_depth': 47, 'min_samples_split': 10, 'min_samples_leaf': 30, 'criterion': 'entropy'}. Best is trial 9 with value: 0.58377239199157.\u001b[0m\n",
      "\u001b[32m[I 2023-03-14 20:18:06,568]\u001b[0m Trial 82 finished with value: 0.5723204994797086 and parameters: {'max_depth': 50, 'min_samples_split': 7, 'min_samples_leaf': 29, 'criterion': 'entropy'}. Best is trial 9 with value: 0.58377239199157.\u001b[0m\n",
      "\u001b[32m[I 2023-03-14 20:18:06,604]\u001b[0m Trial 83 finished with value: 0.570539419087137 and parameters: {'max_depth': 47, 'min_samples_split': 9, 'min_samples_leaf': 28, 'criterion': 'entropy'}. Best is trial 9 with value: 0.58377239199157.\u001b[0m\n",
      "\u001b[32m[I 2023-03-14 20:18:06,638]\u001b[0m Trial 84 finished with value: 0.5763052208835342 and parameters: {'max_depth': 43, 'min_samples_split': 11, 'min_samples_leaf': 30, 'criterion': 'entropy'}. Best is trial 9 with value: 0.58377239199157.\u001b[0m\n",
      "\u001b[32m[I 2023-03-14 20:18:06,672]\u001b[0m Trial 85 finished with value: 0.5723204994797086 and parameters: {'max_depth': 45, 'min_samples_split': 13, 'min_samples_leaf': 29, 'criterion': 'entropy'}. Best is trial 9 with value: 0.58377239199157.\u001b[0m\n",
      "\u001b[32m[I 2023-03-14 20:18:06,707]\u001b[0m Trial 86 finished with value: 0.5756302521008403 and parameters: {'max_depth': 49, 'min_samples_split': 7, 'min_samples_leaf': 27, 'criterion': 'entropy'}. Best is trial 9 with value: 0.58377239199157.\u001b[0m\n",
      "\u001b[32m[I 2023-03-14 20:18:06,740]\u001b[0m Trial 87 finished with value: 0.5723204994797086 and parameters: {'max_depth': 46, 'min_samples_split': 8, 'min_samples_leaf': 29, 'criterion': 'entropy'}. Best is trial 9 with value: 0.58377239199157.\u001b[0m\n",
      "\u001b[32m[I 2023-03-14 20:18:06,775]\u001b[0m Trial 88 finished with value: 0.5708333333333334 and parameters: {'max_depth': 40, 'min_samples_split': 10, 'min_samples_leaf': 26, 'criterion': 'entropy'}. Best is trial 9 with value: 0.58377239199157.\u001b[0m\n",
      "\u001b[32m[I 2023-03-14 20:18:06,798]\u001b[0m Trial 89 finished with value: 0.5392051557465092 and parameters: {'max_depth': 3, 'min_samples_split': 4, 'min_samples_leaf': 30, 'criterion': 'gini'}. Best is trial 9 with value: 0.58377239199157.\u001b[0m\n",
      "\u001b[32m[I 2023-03-14 20:18:06,834]\u001b[0m Trial 90 finished with value: 0.5510009532888466 and parameters: {'max_depth': 11, 'min_samples_split': 6, 'min_samples_leaf': 17, 'criterion': 'entropy'}. Best is trial 9 with value: 0.58377239199157.\u001b[0m\n",
      "\u001b[32m[I 2023-03-14 20:18:06,868]\u001b[0m Trial 91 finished with value: 0.5763052208835342 and parameters: {'max_depth': 48, 'min_samples_split': 3, 'min_samples_leaf': 30, 'criterion': 'entropy'}. Best is trial 9 with value: 0.58377239199157.\u001b[0m\n",
      "\u001b[32m[I 2023-03-14 20:18:06,902]\u001b[0m Trial 92 finished with value: 0.5723204994797086 and parameters: {'max_depth': 50, 'min_samples_split': 3, 'min_samples_leaf': 29, 'criterion': 'entropy'}. Best is trial 9 with value: 0.58377239199157.\u001b[0m\n",
      "\u001b[32m[I 2023-03-14 20:18:06,936]\u001b[0m Trial 93 finished with value: 0.570539419087137 and parameters: {'max_depth': 48, 'min_samples_split': 2, 'min_samples_leaf': 28, 'criterion': 'entropy'}. Best is trial 9 with value: 0.58377239199157.\u001b[0m\n",
      "\u001b[32m[I 2023-03-14 20:18:06,970]\u001b[0m Trial 94 finished with value: 0.5763052208835342 and parameters: {'max_depth': 47, 'min_samples_split': 5, 'min_samples_leaf': 30, 'criterion': 'entropy'}. Best is trial 9 with value: 0.58377239199157.\u001b[0m\n",
      "\u001b[32m[I 2023-03-14 20:18:07,004]\u001b[0m Trial 95 finished with value: 0.570539419087137 and parameters: {'max_depth': 49, 'min_samples_split': 8, 'min_samples_leaf': 28, 'criterion': 'entropy'}. Best is trial 9 with value: 0.58377239199157.\u001b[0m\n",
      "\u001b[32m[I 2023-03-14 20:18:07,041]\u001b[0m Trial 96 finished with value: 0.5723204994797086 and parameters: {'max_depth': 46, 'min_samples_split': 3, 'min_samples_leaf': 29, 'criterion': 'entropy'}. Best is trial 9 with value: 0.58377239199157.\u001b[0m\n",
      "\u001b[32m[I 2023-03-14 20:18:07,077]\u001b[0m Trial 97 finished with value: 0.5435203094777563 and parameters: {'max_depth': 20, 'min_samples_split': 6, 'min_samples_leaf': 14, 'criterion': 'entropy'}. Best is trial 9 with value: 0.58377239199157.\u001b[0m\n",
      "\u001b[32m[I 2023-03-14 20:18:07,108]\u001b[0m Trial 98 finished with value: 0.571715145436309 and parameters: {'max_depth': 44, 'min_samples_split': 4, 'min_samples_leaf': 30, 'criterion': 'gini'}. Best is trial 9 with value: 0.58377239199157.\u001b[0m\n",
      "\u001b[32m[I 2023-03-14 20:18:07,143]\u001b[0m Trial 99 finished with value: 0.570539419087137 and parameters: {'max_depth': 13, 'min_samples_split': 5, 'min_samples_leaf': 28, 'criterion': 'entropy'}. Best is trial 9 with value: 0.58377239199157.\u001b[0m\n",
      "\u001b[32m[I 2023-03-14 20:18:07,177]\u001b[0m Trial 100 finished with value: 0.5756302521008403 and parameters: {'max_depth': 48, 'min_samples_split': 22, 'min_samples_leaf': 27, 'criterion': 'entropy'}. Best is trial 9 with value: 0.58377239199157.\u001b[0m\n",
      "\u001b[32m[I 2023-03-14 20:18:07,212]\u001b[0m Trial 101 finished with value: 0.5763052208835342 and parameters: {'max_depth': 45, 'min_samples_split': 4, 'min_samples_leaf': 30, 'criterion': 'entropy'}. Best is trial 9 with value: 0.58377239199157.\u001b[0m\n"
     ]
    },
    {
     "name": "stderr",
     "output_type": "stream",
     "text": [
      "\u001b[32m[I 2023-03-14 20:18:07,247]\u001b[0m Trial 102 finished with value: 0.5723204994797086 and parameters: {'max_depth': 48, 'min_samples_split': 2, 'min_samples_leaf': 29, 'criterion': 'entropy'}. Best is trial 9 with value: 0.58377239199157.\u001b[0m\n",
      "\u001b[32m[I 2023-03-14 20:18:07,281]\u001b[0m Trial 103 finished with value: 0.5725646123260437 and parameters: {'max_depth': 9, 'min_samples_split': 3, 'min_samples_leaf': 30, 'criterion': 'entropy'}. Best is trial 9 with value: 0.58377239199157.\u001b[0m\n",
      "\u001b[32m[I 2023-03-14 20:18:07,317]\u001b[0m Trial 104 finished with value: 0.5454545454545455 and parameters: {'max_depth': 49, 'min_samples_split': 7, 'min_samples_leaf': 19, 'criterion': 'entropy'}. Best is trial 9 with value: 0.58377239199157.\u001b[0m\n",
      "\u001b[32m[I 2023-03-14 20:18:07,352]\u001b[0m Trial 105 finished with value: 0.5723204994797086 and parameters: {'max_depth': 30, 'min_samples_split': 4, 'min_samples_leaf': 29, 'criterion': 'entropy'}. Best is trial 9 with value: 0.58377239199157.\u001b[0m\n",
      "\u001b[32m[I 2023-03-14 20:18:07,386]\u001b[0m Trial 106 finished with value: 0.5763052208835342 and parameters: {'max_depth': 42, 'min_samples_split': 5, 'min_samples_leaf': 30, 'criterion': 'entropy'}. Best is trial 9 with value: 0.58377239199157.\u001b[0m\n",
      "\u001b[32m[I 2023-03-14 20:18:07,421]\u001b[0m Trial 107 finished with value: 0.570539419087137 and parameters: {'max_depth': 47, 'min_samples_split': 17, 'min_samples_leaf': 28, 'criterion': 'entropy'}. Best is trial 9 with value: 0.58377239199157.\u001b[0m\n",
      "\u001b[32m[I 2023-03-14 20:18:07,452]\u001b[0m Trial 108 finished with value: 0.5714285714285714 and parameters: {'max_depth': 50, 'min_samples_split': 6, 'min_samples_leaf': 27, 'criterion': 'gini'}. Best is trial 9 with value: 0.58377239199157.\u001b[0m\n",
      "\u001b[32m[I 2023-03-14 20:18:07,487]\u001b[0m Trial 109 finished with value: 0.5723204994797086 and parameters: {'max_depth': 46, 'min_samples_split': 9, 'min_samples_leaf': 29, 'criterion': 'entropy'}. Best is trial 9 with value: 0.58377239199157.\u001b[0m\n",
      "\u001b[32m[I 2023-03-14 20:18:07,522]\u001b[0m Trial 110 finished with value: 0.5763052208835342 and parameters: {'max_depth': 43, 'min_samples_split': 7, 'min_samples_leaf': 30, 'criterion': 'entropy'}. Best is trial 9 with value: 0.58377239199157.\u001b[0m\n",
      "\u001b[32m[I 2023-03-14 20:18:07,556]\u001b[0m Trial 111 finished with value: 0.5763052208835342 and parameters: {'max_depth': 35, 'min_samples_split': 5, 'min_samples_leaf': 30, 'criterion': 'entropy'}. Best is trial 9 with value: 0.58377239199157.\u001b[0m\n",
      "\u001b[32m[I 2023-03-14 20:18:07,591]\u001b[0m Trial 112 finished with value: 0.570539419087137 and parameters: {'max_depth': 44, 'min_samples_split': 2, 'min_samples_leaf': 28, 'criterion': 'entropy'}. Best is trial 9 with value: 0.58377239199157.\u001b[0m\n",
      "\u001b[32m[I 2023-03-14 20:18:07,626]\u001b[0m Trial 113 finished with value: 0.5723204994797086 and parameters: {'max_depth': 36, 'min_samples_split': 4, 'min_samples_leaf': 29, 'criterion': 'entropy'}. Best is trial 9 with value: 0.58377239199157.\u001b[0m\n",
      "\u001b[32m[I 2023-03-14 20:18:07,660]\u001b[0m Trial 114 finished with value: 0.5763052208835342 and parameters: {'max_depth': 41, 'min_samples_split': 6, 'min_samples_leaf': 30, 'criterion': 'entropy'}. Best is trial 9 with value: 0.58377239199157.\u001b[0m\n",
      "\u001b[32m[I 2023-03-14 20:18:07,691]\u001b[0m Trial 115 finished with value: 0.5677799607072691 and parameters: {'max_depth': 6, 'min_samples_split': 5, 'min_samples_leaf': 29, 'criterion': 'entropy'}. Best is trial 9 with value: 0.58377239199157.\u001b[0m\n",
      "\u001b[32m[I 2023-03-14 20:18:07,728]\u001b[0m Trial 116 finished with value: 0.5763052208835342 and parameters: {'max_depth': 39, 'min_samples_split': 7, 'min_samples_leaf': 30, 'criterion': 'entropy'}. Best is trial 9 with value: 0.58377239199157.\u001b[0m\n",
      "\u001b[32m[I 2023-03-14 20:18:07,763]\u001b[0m Trial 117 finished with value: 0.5723204994797086 and parameters: {'max_depth': 26, 'min_samples_split': 8, 'min_samples_leaf': 29, 'criterion': 'entropy'}. Best is trial 9 with value: 0.58377239199157.\u001b[0m\n",
      "\u001b[32m[I 2023-03-14 20:18:07,796]\u001b[0m Trial 118 finished with value: 0.5740932642487047 and parameters: {'max_depth': 47, 'min_samples_split': 3, 'min_samples_leaf': 28, 'criterion': 'gini'}. Best is trial 9 with value: 0.58377239199157.\u001b[0m\n",
      "\u001b[32m[I 2023-03-14 20:18:07,832]\u001b[0m Trial 119 finished with value: 0.5708333333333334 and parameters: {'max_depth': 45, 'min_samples_split': 4, 'min_samples_leaf': 26, 'criterion': 'entropy'}. Best is trial 9 with value: 0.58377239199157.\u001b[0m\n",
      "\u001b[32m[I 2023-03-14 20:18:07,867]\u001b[0m Trial 120 finished with value: 0.5756302521008403 and parameters: {'max_depth': 49, 'min_samples_split': 13, 'min_samples_leaf': 27, 'criterion': 'entropy'}. Best is trial 9 with value: 0.58377239199157.\u001b[0m\n",
      "\u001b[32m[I 2023-03-14 20:18:07,902]\u001b[0m Trial 121 finished with value: 0.5763052208835342 and parameters: {'max_depth': 44, 'min_samples_split': 15, 'min_samples_leaf': 30, 'criterion': 'entropy'}. Best is trial 9 with value: 0.58377239199157.\u001b[0m\n",
      "\u001b[32m[I 2023-03-14 20:18:07,937]\u001b[0m Trial 122 finished with value: 0.5763052208835342 and parameters: {'max_depth': 50, 'min_samples_split': 16, 'min_samples_leaf': 30, 'criterion': 'entropy'}. Best is trial 9 with value: 0.58377239199157.\u001b[0m\n",
      "\u001b[32m[I 2023-03-14 20:18:07,973]\u001b[0m Trial 123 finished with value: 0.5723204994797086 and parameters: {'max_depth': 46, 'min_samples_split': 17, 'min_samples_leaf': 29, 'criterion': 'entropy'}. Best is trial 9 with value: 0.58377239199157.\u001b[0m\n",
      "\u001b[32m[I 2023-03-14 20:18:08,009]\u001b[0m Trial 124 finished with value: 0.570539419087137 and parameters: {'max_depth': 48, 'min_samples_split': 16, 'min_samples_leaf': 28, 'criterion': 'entropy'}. Best is trial 9 with value: 0.58377239199157.\u001b[0m\n",
      "\u001b[32m[I 2023-03-14 20:18:08,044]\u001b[0m Trial 125 finished with value: 0.5763052208835342 and parameters: {'max_depth': 23, 'min_samples_split': 25, 'min_samples_leaf': 30, 'criterion': 'entropy'}. Best is trial 9 with value: 0.58377239199157.\u001b[0m\n",
      "\u001b[32m[I 2023-03-14 20:18:08,080]\u001b[0m Trial 126 finished with value: 0.5723204994797086 and parameters: {'max_depth': 43, 'min_samples_split': 14, 'min_samples_leaf': 29, 'criterion': 'entropy'}. Best is trial 9 with value: 0.58377239199157.\u001b[0m\n",
      "\u001b[32m[I 2023-03-14 20:18:08,116]\u001b[0m Trial 127 finished with value: 0.5763052208835342 and parameters: {'max_depth': 45, 'min_samples_split': 18, 'min_samples_leaf': 30, 'criterion': 'entropy'}. Best is trial 9 with value: 0.58377239199157.\u001b[0m\n",
      "\u001b[32m[I 2023-03-14 20:18:08,151]\u001b[0m Trial 128 finished with value: 0.570539419087137 and parameters: {'max_depth': 38, 'min_samples_split': 6, 'min_samples_leaf': 28, 'criterion': 'entropy'}. Best is trial 9 with value: 0.58377239199157.\u001b[0m\n",
      "\u001b[32m[I 2023-03-14 20:18:08,184]\u001b[0m Trial 129 finished with value: 0.5702647657841141 and parameters: {'max_depth': 47, 'min_samples_split': 3, 'min_samples_leaf': 29, 'criterion': 'gini'}. Best is trial 9 with value: 0.58377239199157.\u001b[0m\n",
      "\u001b[32m[I 2023-03-14 20:18:08,220]\u001b[0m Trial 130 finished with value: 0.5641547861507129 and parameters: {'max_depth': 48, 'min_samples_split': 11, 'min_samples_leaf': 24, 'criterion': 'entropy'}. Best is trial 9 with value: 0.58377239199157.\u001b[0m\n",
      "\u001b[32m[I 2023-03-14 20:18:08,258]\u001b[0m Trial 131 finished with value: 0.5763052208835342 and parameters: {'max_depth': 49, 'min_samples_split': 20, 'min_samples_leaf': 30, 'criterion': 'entropy'}. Best is trial 9 with value: 0.58377239199157.\u001b[0m\n",
      "\u001b[32m[I 2023-03-14 20:18:08,295]\u001b[0m Trial 132 finished with value: 0.5763052208835342 and parameters: {'max_depth': 46, 'min_samples_split': 15, 'min_samples_leaf': 30, 'criterion': 'entropy'}. Best is trial 9 with value: 0.58377239199157.\u001b[0m\n",
      "\u001b[32m[I 2023-03-14 20:18:08,334]\u001b[0m Trial 133 finished with value: 0.5622489959839357 and parameters: {'max_depth': 42, 'min_samples_split': 18, 'min_samples_leaf': 22, 'criterion': 'entropy'}. Best is trial 9 with value: 0.58377239199157.\u001b[0m\n",
      "\u001b[32m[I 2023-03-14 20:18:08,371]\u001b[0m Trial 134 finished with value: 0.5763052208835342 and parameters: {'max_depth': 47, 'min_samples_split': 5, 'min_samples_leaf': 30, 'criterion': 'entropy'}. Best is trial 9 with value: 0.58377239199157.\u001b[0m\n",
      "\u001b[32m[I 2023-03-14 20:18:08,408]\u001b[0m Trial 135 finished with value: 0.5723204994797086 and parameters: {'max_depth': 50, 'min_samples_split': 20, 'min_samples_leaf': 29, 'criterion': 'entropy'}. Best is trial 9 with value: 0.58377239199157.\u001b[0m\n"
     ]
    },
    {
     "name": "stderr",
     "output_type": "stream",
     "text": [
      "\u001b[32m[I 2023-03-14 20:18:08,452]\u001b[0m Trial 136 finished with value: 0.5379609544468547 and parameters: {'max_depth': 45, 'min_samples_split': 19, 'min_samples_leaf': 1, 'criterion': 'entropy'}. Best is trial 9 with value: 0.58377239199157.\u001b[0m\n",
      "\u001b[32m[I 2023-03-14 20:18:08,488]\u001b[0m Trial 137 finished with value: 0.5705824284304049 and parameters: {'max_depth': 8, 'min_samples_split': 12, 'min_samples_leaf': 6, 'criterion': 'entropy'}. Best is trial 9 with value: 0.58377239199157.\u001b[0m\n",
      "\u001b[32m[I 2023-03-14 20:18:08,525]\u001b[0m Trial 138 finished with value: 0.5723204994797086 and parameters: {'max_depth': 46, 'min_samples_split': 2, 'min_samples_leaf': 29, 'criterion': 'entropy'}. Best is trial 9 with value: 0.58377239199157.\u001b[0m\n",
      "\u001b[32m[I 2023-03-14 20:18:08,562]\u001b[0m Trial 139 finished with value: 0.5763052208835342 and parameters: {'max_depth': 28, 'min_samples_split': 4, 'min_samples_leaf': 30, 'criterion': 'entropy'}. Best is trial 9 with value: 0.58377239199157.\u001b[0m\n",
      "\u001b[32m[I 2023-03-14 20:18:08,595]\u001b[0m Trial 140 finished with value: 0.5740932642487047 and parameters: {'max_depth': 48, 'min_samples_split': 23, 'min_samples_leaf': 28, 'criterion': 'gini'}. Best is trial 9 with value: 0.58377239199157.\u001b[0m\n",
      "\u001b[32m[I 2023-03-14 20:18:08,632]\u001b[0m Trial 141 finished with value: 0.5763052208835342 and parameters: {'max_depth': 47, 'min_samples_split': 10, 'min_samples_leaf': 30, 'criterion': 'entropy'}. Best is trial 9 with value: 0.58377239199157.\u001b[0m\n",
      "\u001b[32m[I 2023-03-14 20:18:08,669]\u001b[0m Trial 142 finished with value: 0.5723204994797086 and parameters: {'max_depth': 44, 'min_samples_split': 8, 'min_samples_leaf': 29, 'criterion': 'entropy'}. Best is trial 9 with value: 0.58377239199157.\u001b[0m\n",
      "\u001b[32m[I 2023-03-14 20:18:08,706]\u001b[0m Trial 143 finished with value: 0.5763052208835342 and parameters: {'max_depth': 49, 'min_samples_split': 9, 'min_samples_leaf': 30, 'criterion': 'entropy'}. Best is trial 9 with value: 0.58377239199157.\u001b[0m\n",
      "\u001b[32m[I 2023-03-14 20:18:08,745]\u001b[0m Trial 144 finished with value: 0.5723204994797086 and parameters: {'max_depth': 48, 'min_samples_split': 6, 'min_samples_leaf': 29, 'criterion': 'entropy'}. Best is trial 9 with value: 0.58377239199157.\u001b[0m\n",
      "\u001b[32m[I 2023-03-14 20:18:08,782]\u001b[0m Trial 145 finished with value: 0.5763052208835342 and parameters: {'max_depth': 46, 'min_samples_split': 10, 'min_samples_leaf': 30, 'criterion': 'entropy'}. Best is trial 9 with value: 0.58377239199157.\u001b[0m\n",
      "\u001b[32m[I 2023-03-14 20:18:08,823]\u001b[0m Trial 146 finished with value: 0.5723204994797086 and parameters: {'max_depth': 43, 'min_samples_split': 4, 'min_samples_leaf': 29, 'criterion': 'entropy'}. Best is trial 9 with value: 0.58377239199157.\u001b[0m\n",
      "\u001b[32m[I 2023-03-14 20:18:08,861]\u001b[0m Trial 147 finished with value: 0.570539419087137 and parameters: {'max_depth': 40, 'min_samples_split': 5, 'min_samples_leaf': 28, 'criterion': 'entropy'}. Best is trial 9 with value: 0.58377239199157.\u001b[0m\n",
      "\u001b[32m[I 2023-03-14 20:18:08,898]\u001b[0m Trial 148 finished with value: 0.5763052208835342 and parameters: {'max_depth': 49, 'min_samples_split': 7, 'min_samples_leaf': 30, 'criterion': 'entropy'}. Best is trial 9 with value: 0.58377239199157.\u001b[0m\n",
      "\u001b[32m[I 2023-03-14 20:18:08,936]\u001b[0m Trial 149 finished with value: 0.5756302521008403 and parameters: {'max_depth': 10, 'min_samples_split': 3, 'min_samples_leaf': 27, 'criterion': 'entropy'}. Best is trial 9 with value: 0.58377239199157.\u001b[0m\n",
      "\u001b[32m[I 2023-03-14 20:18:08,973]\u001b[0m Trial 150 finished with value: 0.570539419087137 and parameters: {'max_depth': 47, 'min_samples_split': 11, 'min_samples_leaf': 28, 'criterion': 'entropy'}. Best is trial 9 with value: 0.58377239199157.\u001b[0m\n",
      "\u001b[32m[I 2023-03-14 20:18:09,010]\u001b[0m Trial 151 finished with value: 0.5763052208835342 and parameters: {'max_depth': 43, 'min_samples_split': 11, 'min_samples_leaf': 30, 'criterion': 'entropy'}. Best is trial 9 with value: 0.58377239199157.\u001b[0m\n",
      "\u001b[32m[I 2023-03-14 20:18:09,048]\u001b[0m Trial 152 finished with value: 0.5763052208835342 and parameters: {'max_depth': 45, 'min_samples_split': 12, 'min_samples_leaf': 30, 'criterion': 'entropy'}. Best is trial 9 with value: 0.58377239199157.\u001b[0m\n",
      "\u001b[32m[I 2023-03-14 20:18:09,087]\u001b[0m Trial 153 finished with value: 0.5723204994797086 and parameters: {'max_depth': 44, 'min_samples_split': 9, 'min_samples_leaf': 29, 'criterion': 'entropy'}. Best is trial 9 with value: 0.58377239199157.\u001b[0m\n",
      "\u001b[32m[I 2023-03-14 20:18:09,125]\u001b[0m Trial 154 finished with value: 0.5763052208835342 and parameters: {'max_depth': 50, 'min_samples_split': 10, 'min_samples_leaf': 30, 'criterion': 'entropy'}. Best is trial 9 with value: 0.58377239199157.\u001b[0m\n",
      "\u001b[32m[I 2023-03-14 20:18:09,163]\u001b[0m Trial 155 finished with value: 0.5723204994797086 and parameters: {'max_depth': 41, 'min_samples_split': 13, 'min_samples_leaf': 29, 'criterion': 'entropy'}. Best is trial 9 with value: 0.58377239199157.\u001b[0m\n",
      "\u001b[32m[I 2023-03-14 20:18:09,197]\u001b[0m Trial 156 finished with value: 0.571715145436309 and parameters: {'max_depth': 16, 'min_samples_split': 9, 'min_samples_leaf': 30, 'criterion': 'gini'}. Best is trial 9 with value: 0.58377239199157.\u001b[0m\n",
      "\u001b[32m[I 2023-03-14 20:18:09,234]\u001b[0m Trial 157 finished with value: 0.5723204994797086 and parameters: {'max_depth': 42, 'min_samples_split': 28, 'min_samples_leaf': 29, 'criterion': 'entropy'}. Best is trial 9 with value: 0.58377239199157.\u001b[0m\n",
      "\u001b[32m[I 2023-03-14 20:18:09,272]\u001b[0m Trial 158 finished with value: 0.5763052208835342 and parameters: {'max_depth': 46, 'min_samples_split': 8, 'min_samples_leaf': 30, 'criterion': 'entropy'}. Best is trial 9 with value: 0.58377239199157.\u001b[0m\n",
      "\u001b[32m[I 2023-03-14 20:18:09,311]\u001b[0m Trial 159 finished with value: 0.570539419087137 and parameters: {'max_depth': 48, 'min_samples_split': 15, 'min_samples_leaf': 28, 'criterion': 'entropy'}. Best is trial 9 with value: 0.58377239199157.\u001b[0m\n",
      "\u001b[32m[I 2023-03-14 20:18:09,350]\u001b[0m Trial 160 finished with value: 0.5723204994797086 and parameters: {'max_depth': 43, 'min_samples_split': 6, 'min_samples_leaf': 29, 'criterion': 'entropy'}. Best is trial 9 with value: 0.58377239199157.\u001b[0m\n",
      "\u001b[32m[I 2023-03-14 20:18:09,389]\u001b[0m Trial 161 finished with value: 0.5763052208835342 and parameters: {'max_depth': 47, 'min_samples_split': 3, 'min_samples_leaf': 30, 'criterion': 'entropy'}. Best is trial 9 with value: 0.58377239199157.\u001b[0m\n",
      "\u001b[32m[I 2023-03-14 20:18:09,427]\u001b[0m Trial 162 finished with value: 0.5763052208835342 and parameters: {'max_depth': 45, 'min_samples_split': 2, 'min_samples_leaf': 30, 'criterion': 'entropy'}. Best is trial 9 with value: 0.58377239199157.\u001b[0m\n",
      "\u001b[32m[I 2023-03-14 20:18:09,465]\u001b[0m Trial 163 finished with value: 0.5763052208835342 and parameters: {'max_depth': 48, 'min_samples_split': 11, 'min_samples_leaf': 30, 'criterion': 'entropy'}. Best is trial 9 with value: 0.58377239199157.\u001b[0m\n",
      "\u001b[32m[I 2023-03-14 20:18:09,503]\u001b[0m Trial 164 finished with value: 0.5723204994797086 and parameters: {'max_depth': 32, 'min_samples_split': 5, 'min_samples_leaf': 29, 'criterion': 'entropy'}. Best is trial 9 with value: 0.58377239199157.\u001b[0m\n",
      "\u001b[32m[I 2023-03-14 20:18:09,540]\u001b[0m Trial 165 finished with value: 0.5763052208835342 and parameters: {'max_depth': 49, 'min_samples_split': 3, 'min_samples_leaf': 30, 'criterion': 'entropy'}. Best is trial 9 with value: 0.58377239199157.\u001b[0m\n",
      "\u001b[32m[I 2023-03-14 20:18:09,579]\u001b[0m Trial 166 finished with value: 0.5556650246305419 and parameters: {'max_depth': 47, 'min_samples_split': 17, 'min_samples_leaf': 20, 'criterion': 'entropy'}. Best is trial 9 with value: 0.58377239199157.\u001b[0m\n",
      "\u001b[32m[I 2023-03-14 20:18:09,618]\u001b[0m Trial 167 finished with value: 0.5723204994797086 and parameters: {'max_depth': 50, 'min_samples_split': 4, 'min_samples_leaf': 29, 'criterion': 'entropy'}. Best is trial 9 with value: 0.58377239199157.\u001b[0m\n",
      "\u001b[32m[I 2023-03-14 20:18:09,656]\u001b[0m Trial 168 finished with value: 0.570539419087137 and parameters: {'max_depth': 46, 'min_samples_split': 10, 'min_samples_leaf': 28, 'criterion': 'entropy'}. Best is trial 9 with value: 0.58377239199157.\u001b[0m\n",
      "\u001b[32m[I 2023-03-14 20:18:09,689]\u001b[0m Trial 169 finished with value: 0.571715145436309 and parameters: {'max_depth': 48, 'min_samples_split': 4, 'min_samples_leaf': 30, 'criterion': 'gini'}. Best is trial 9 with value: 0.58377239199157.\u001b[0m\n"
     ]
    },
    {
     "name": "stderr",
     "output_type": "stream",
     "text": [
      "\u001b[32m[I 2023-03-14 20:18:09,727]\u001b[0m Trial 170 finished with value: 0.5723204994797086 and parameters: {'max_depth': 49, 'min_samples_split': 2, 'min_samples_leaf': 29, 'criterion': 'entropy'}. Best is trial 9 with value: 0.58377239199157.\u001b[0m\n",
      "\u001b[32m[I 2023-03-14 20:18:09,765]\u001b[0m Trial 171 finished with value: 0.5763052208835342 and parameters: {'max_depth': 45, 'min_samples_split': 5, 'min_samples_leaf': 30, 'criterion': 'entropy'}. Best is trial 9 with value: 0.58377239199157.\u001b[0m\n",
      "\u001b[32m[I 2023-03-14 20:18:09,802]\u001b[0m Trial 172 finished with value: 0.5763052208835342 and parameters: {'max_depth': 47, 'min_samples_split': 3, 'min_samples_leaf': 30, 'criterion': 'entropy'}. Best is trial 9 with value: 0.58377239199157.\u001b[0m\n",
      "\u001b[32m[I 2023-03-14 20:18:09,841]\u001b[0m Trial 173 finished with value: 0.5723204994797086 and parameters: {'max_depth': 44, 'min_samples_split': 5, 'min_samples_leaf': 29, 'criterion': 'entropy'}. Best is trial 9 with value: 0.58377239199157.\u001b[0m\n",
      "\u001b[32m[I 2023-03-14 20:18:09,882]\u001b[0m Trial 174 finished with value: 0.5323590814196243 and parameters: {'max_depth': 46, 'min_samples_split': 6, 'min_samples_leaf': 10, 'criterion': 'entropy'}. Best is trial 9 with value: 0.58377239199157.\u001b[0m\n",
      "\u001b[32m[I 2023-03-14 20:18:09,920]\u001b[0m Trial 175 finished with value: 0.5763052208835342 and parameters: {'max_depth': 48, 'min_samples_split': 3, 'min_samples_leaf': 30, 'criterion': 'entropy'}. Best is trial 9 with value: 0.58377239199157.\u001b[0m\n",
      "\u001b[32m[I 2023-03-14 20:18:09,959]\u001b[0m Trial 176 finished with value: 0.5723204994797086 and parameters: {'max_depth': 12, 'min_samples_split': 14, 'min_samples_leaf': 29, 'criterion': 'entropy'}. Best is trial 9 with value: 0.58377239199157.\u001b[0m\n",
      "\u001b[32m[I 2023-03-14 20:18:09,997]\u001b[0m Trial 177 finished with value: 0.5763052208835342 and parameters: {'max_depth': 47, 'min_samples_split': 7, 'min_samples_leaf': 30, 'criterion': 'entropy'}. Best is trial 9 with value: 0.58377239199157.\u001b[0m\n",
      "\u001b[32m[I 2023-03-14 20:18:10,035]\u001b[0m Trial 178 finished with value: 0.5723204994797086 and parameters: {'max_depth': 50, 'min_samples_split': 4, 'min_samples_leaf': 29, 'criterion': 'entropy'}. Best is trial 9 with value: 0.58377239199157.\u001b[0m\n",
      "\u001b[32m[I 2023-03-14 20:18:10,074]\u001b[0m Trial 179 finished with value: 0.570539419087137 and parameters: {'max_depth': 49, 'min_samples_split': 5, 'min_samples_leaf': 28, 'criterion': 'entropy'}. Best is trial 9 with value: 0.58377239199157.\u001b[0m\n",
      "\u001b[32m[I 2023-03-14 20:18:10,112]\u001b[0m Trial 180 finished with value: 0.5763052208835342 and parameters: {'max_depth': 36, 'min_samples_split': 5, 'min_samples_leaf': 30, 'criterion': 'entropy'}. Best is trial 9 with value: 0.58377239199157.\u001b[0m\n",
      "\u001b[32m[I 2023-03-14 20:18:10,151]\u001b[0m Trial 181 finished with value: 0.5763052208835342 and parameters: {'max_depth': 45, 'min_samples_split': 4, 'min_samples_leaf': 30, 'criterion': 'entropy'}. Best is trial 9 with value: 0.58377239199157.\u001b[0m\n",
      "\u001b[32m[I 2023-03-14 20:18:10,189]\u001b[0m Trial 182 finished with value: 0.5763052208835342 and parameters: {'max_depth': 44, 'min_samples_split': 3, 'min_samples_leaf': 30, 'criterion': 'entropy'}. Best is trial 9 with value: 0.58377239199157.\u001b[0m\n",
      "\u001b[32m[I 2023-03-14 20:18:10,227]\u001b[0m Trial 183 finished with value: 0.5723204994797086 and parameters: {'max_depth': 46, 'min_samples_split': 4, 'min_samples_leaf': 29, 'criterion': 'entropy'}. Best is trial 9 with value: 0.58377239199157.\u001b[0m\n",
      "\u001b[32m[I 2023-03-14 20:18:10,265]\u001b[0m Trial 184 finished with value: 0.5858798735511064 and parameters: {'max_depth': 8, 'min_samples_split': 6, 'min_samples_leaf': 30, 'criterion': 'entropy'}. Best is trial 184 with value: 0.5858798735511064.\u001b[0m\n",
      "\u001b[32m[I 2023-03-14 20:18:10,302]\u001b[0m Trial 185 finished with value: 0.5858798735511064 and parameters: {'max_depth': 8, 'min_samples_split': 6, 'min_samples_leaf': 29, 'criterion': 'entropy'}. Best is trial 184 with value: 0.5858798735511064.\u001b[0m\n",
      "\u001b[32m[I 2023-03-14 20:18:10,343]\u001b[0m Trial 186 finished with value: 0.555984555984556 and parameters: {'max_depth': 9, 'min_samples_split': 7, 'min_samples_leaf': 17, 'criterion': 'entropy'}. Best is trial 184 with value: 0.5858798735511064.\u001b[0m\n",
      "\u001b[32m[I 2023-03-14 20:18:10,376]\u001b[0m Trial 187 finished with value: 0.5686653771760155 and parameters: {'max_depth': 7, 'min_samples_split': 6, 'min_samples_leaf': 29, 'criterion': 'gini'}. Best is trial 184 with value: 0.5858798735511064.\u001b[0m\n",
      "\u001b[32m[I 2023-03-14 20:18:10,410]\u001b[0m Trial 188 finished with value: 0.5677799607072691 and parameters: {'max_depth': 6, 'min_samples_split': 6, 'min_samples_leaf': 28, 'criterion': 'entropy'}. Best is trial 184 with value: 0.5858798735511064.\u001b[0m\n",
      "\u001b[32m[I 2023-03-14 20:18:10,447]\u001b[0m Trial 189 finished with value: 0.5686839577329491 and parameters: {'max_depth': 7, 'min_samples_split': 8, 'min_samples_leaf': 29, 'criterion': 'entropy'}. Best is trial 184 with value: 0.5858798735511064.\u001b[0m\n",
      "\u001b[32m[I 2023-03-14 20:18:10,487]\u001b[0m Trial 190 finished with value: 0.5763052208835342 and parameters: {'max_depth': 10, 'min_samples_split': 7, 'min_samples_leaf': 30, 'criterion': 'entropy'}. Best is trial 184 with value: 0.5858798735511064.\u001b[0m\n",
      "\u001b[32m[I 2023-03-14 20:18:10,524]\u001b[0m Trial 191 finished with value: 0.5858798735511064 and parameters: {'max_depth': 8, 'min_samples_split': 6, 'min_samples_leaf': 30, 'criterion': 'entropy'}. Best is trial 184 with value: 0.5858798735511064.\u001b[0m\n",
      "\u001b[32m[I 2023-03-14 20:18:10,555]\u001b[0m Trial 192 finished with value: 0.5567839195979899 and parameters: {'max_depth': 4, 'min_samples_split': 6, 'min_samples_leaf': 30, 'criterion': 'entropy'}. Best is trial 184 with value: 0.5858798735511064.\u001b[0m\n",
      "\u001b[32m[I 2023-03-14 20:18:10,592]\u001b[0m Trial 193 finished with value: 0.5858798735511064 and parameters: {'max_depth': 8, 'min_samples_split': 7, 'min_samples_leaf': 30, 'criterion': 'entropy'}. Best is trial 184 with value: 0.5858798735511064.\u001b[0m\n",
      "\u001b[32m[I 2023-03-14 20:18:10,629]\u001b[0m Trial 194 finished with value: 0.5858798735511064 and parameters: {'max_depth': 8, 'min_samples_split': 8, 'min_samples_leaf': 30, 'criterion': 'entropy'}. Best is trial 184 with value: 0.5858798735511064.\u001b[0m\n",
      "\u001b[32m[I 2023-03-14 20:18:10,668]\u001b[0m Trial 195 finished with value: 0.5881126173096977 and parameters: {'max_depth': 8, 'min_samples_split': 8, 'min_samples_leaf': 23, 'criterion': 'entropy'}. Best is trial 195 with value: 0.5881126173096977.\u001b[0m\n",
      "\u001b[32m[I 2023-03-14 20:18:10,706]\u001b[0m Trial 196 finished with value: 0.5802469135802469 and parameters: {'max_depth': 8, 'min_samples_split': 8, 'min_samples_leaf': 14, 'criterion': 'entropy'}. Best is trial 195 with value: 0.5881126173096977.\u001b[0m\n",
      "\u001b[32m[I 2023-03-14 20:18:10,743]\u001b[0m Trial 197 finished with value: 0.5666316894018888 and parameters: {'max_depth': 8, 'min_samples_split': 7, 'min_samples_leaf': 13, 'criterion': 'entropy'}. Best is trial 195 with value: 0.5881126173096977.\u001b[0m\n",
      "\u001b[32m[I 2023-03-14 20:18:10,780]\u001b[0m Trial 198 finished with value: 0.5806451612903225 and parameters: {'max_depth': 8, 'min_samples_split': 8, 'min_samples_leaf': 15, 'criterion': 'entropy'}. Best is trial 195 with value: 0.5881126173096977.\u001b[0m\n",
      "\u001b[32m[I 2023-03-14 20:18:10,815]\u001b[0m Trial 199 finished with value: 0.5664062500000001 and parameters: {'max_depth': 6, 'min_samples_split': 8, 'min_samples_leaf': 15, 'criterion': 'entropy'}. Best is trial 195 with value: 0.5881126173096977.\u001b[0m\n",
      "\u001b[32m[I 2023-03-14 20:18:10,853]\u001b[0m Trial 200 finished with value: 0.5582761998041136 and parameters: {'max_depth': 9, 'min_samples_split': 8, 'min_samples_leaf': 16, 'criterion': 'entropy'}. Best is trial 195 with value: 0.5881126173096977.\u001b[0m\n",
      "\u001b[32m[I 2023-03-14 20:18:10,892]\u001b[0m Trial 201 finished with value: 0.5802469135802469 and parameters: {'max_depth': 8, 'min_samples_split': 7, 'min_samples_leaf': 14, 'criterion': 'entropy'}. Best is trial 195 with value: 0.5881126173096977.\u001b[0m\n",
      "\u001b[32m[I 2023-03-14 20:18:10,930]\u001b[0m Trial 202 finished with value: 0.5802469135802469 and parameters: {'max_depth': 8, 'min_samples_split': 7, 'min_samples_leaf': 14, 'criterion': 'entropy'}. Best is trial 195 with value: 0.5881126173096977.\u001b[0m\n",
      "\u001b[32m[I 2023-03-14 20:18:10,969]\u001b[0m Trial 203 finished with value: 0.5666316894018888 and parameters: {'max_depth': 8, 'min_samples_split': 7, 'min_samples_leaf': 13, 'criterion': 'entropy'}. Best is trial 195 with value: 0.5881126173096977.\u001b[0m\n"
     ]
    },
    {
     "name": "stderr",
     "output_type": "stream",
     "text": [
      "\u001b[32m[I 2023-03-14 20:18:11,008]\u001b[0m Trial 204 finished with value: 0.56312625250501 and parameters: {'max_depth': 11, 'min_samples_split': 8, 'min_samples_leaf': 14, 'criterion': 'entropy'}. Best is trial 195 with value: 0.5881126173096977.\u001b[0m\n",
      "\u001b[32m[I 2023-03-14 20:18:11,045]\u001b[0m Trial 205 finished with value: 0.5642458100558659 and parameters: {'max_depth': 7, 'min_samples_split': 9, 'min_samples_leaf': 14, 'criterion': 'entropy'}. Best is trial 195 with value: 0.5881126173096977.\u001b[0m\n",
      "\u001b[32m[I 2023-03-14 20:18:11,084]\u001b[0m Trial 206 finished with value: 0.5589692765113974 and parameters: {'max_depth': 9, 'min_samples_split': 7, 'min_samples_leaf': 15, 'criterion': 'entropy'}. Best is trial 195 with value: 0.5881126173096977.\u001b[0m\n",
      "\u001b[32m[I 2023-03-14 20:18:11,117]\u001b[0m Trial 207 finished with value: 0.5513413506012952 and parameters: {'max_depth': 5, 'min_samples_split': 8, 'min_samples_leaf': 14, 'criterion': 'entropy'}. Best is trial 195 with value: 0.5881126173096977.\u001b[0m\n",
      "\u001b[32m[I 2023-03-14 20:18:11,154]\u001b[0m Trial 208 finished with value: 0.5666316894018888 and parameters: {'max_depth': 8, 'min_samples_split': 7, 'min_samples_leaf': 13, 'criterion': 'entropy'}. Best is trial 195 with value: 0.5881126173096977.\u001b[0m\n",
      "\u001b[32m[I 2023-03-14 20:18:11,191]\u001b[0m Trial 209 finished with value: 0.563265306122449 and parameters: {'max_depth': 10, 'min_samples_split': 6, 'min_samples_leaf': 12, 'criterion': 'gini'}. Best is trial 195 with value: 0.5881126173096977.\u001b[0m\n",
      "\u001b[32m[I 2023-03-14 20:18:11,228]\u001b[0m Trial 210 finished with value: 0.5806451612903225 and parameters: {'max_depth': 8, 'min_samples_split': 9, 'min_samples_leaf': 15, 'criterion': 'entropy'}. Best is trial 195 with value: 0.5881126173096977.\u001b[0m\n",
      "\u001b[32m[I 2023-03-14 20:18:11,267]\u001b[0m Trial 211 finished with value: 0.5806451612903225 and parameters: {'max_depth': 8, 'min_samples_split': 9, 'min_samples_leaf': 15, 'criterion': 'entropy'}. Best is trial 195 with value: 0.5881126173096977.\u001b[0m\n",
      "\u001b[32m[I 2023-03-14 20:18:11,306]\u001b[0m Trial 212 finished with value: 0.5589692765113974 and parameters: {'max_depth': 9, 'min_samples_split': 8, 'min_samples_leaf': 15, 'criterion': 'entropy'}. Best is trial 195 with value: 0.5881126173096977.\u001b[0m\n",
      "\u001b[32m[I 2023-03-14 20:18:11,346]\u001b[0m Trial 213 finished with value: 0.5806451612903225 and parameters: {'max_depth': 8, 'min_samples_split': 8, 'min_samples_leaf': 15, 'criterion': 'entropy'}. Best is trial 195 with value: 0.5881126173096977.\u001b[0m\n",
      "\u001b[32m[I 2023-03-14 20:18:11,384]\u001b[0m Trial 214 finished with value: 0.5806451612903225 and parameters: {'max_depth': 8, 'min_samples_split': 9, 'min_samples_leaf': 16, 'criterion': 'entropy'}. Best is trial 195 with value: 0.5881126173096977.\u001b[0m\n",
      "\u001b[32m[I 2023-03-14 20:18:11,422]\u001b[0m Trial 215 finished with value: 0.5806451612903225 and parameters: {'max_depth': 8, 'min_samples_split': 9, 'min_samples_leaf': 16, 'criterion': 'entropy'}. Best is trial 195 with value: 0.5881126173096977.\u001b[0m\n",
      "\u001b[32m[I 2023-03-14 20:18:11,458]\u001b[0m Trial 216 finished with value: 0.5662535748331744 and parameters: {'max_depth': 7, 'min_samples_split': 9, 'min_samples_leaf': 16, 'criterion': 'entropy'}. Best is trial 195 with value: 0.5881126173096977.\u001b[0m\n",
      "\u001b[32m[I 2023-03-14 20:18:11,495]\u001b[0m Trial 217 finished with value: 0.5802469135802469 and parameters: {'max_depth': 8, 'min_samples_split': 9, 'min_samples_leaf': 14, 'criterion': 'entropy'}. Best is trial 195 with value: 0.5881126173096977.\u001b[0m\n",
      "\u001b[32m[I 2023-03-14 20:18:11,534]\u001b[0m Trial 218 finished with value: 0.5751765893037336 and parameters: {'max_depth': 8, 'min_samples_split': 9, 'min_samples_leaf': 17, 'criterion': 'entropy'}. Best is trial 195 with value: 0.5881126173096977.\u001b[0m\n",
      "\u001b[32m[I 2023-03-14 20:18:11,569]\u001b[0m Trial 219 finished with value: 0.5650916104146576 and parameters: {'max_depth': 6, 'min_samples_split': 8, 'min_samples_leaf': 14, 'criterion': 'entropy'}. Best is trial 195 with value: 0.5881126173096977.\u001b[0m\n",
      "\u001b[32m[I 2023-03-14 20:18:11,609]\u001b[0m Trial 220 finished with value: 0.5463609172482553 and parameters: {'max_depth': 10, 'min_samples_split': 9, 'min_samples_leaf': 16, 'criterion': 'entropy'}. Best is trial 195 with value: 0.5881126173096977.\u001b[0m\n",
      "\u001b[32m[I 2023-03-14 20:18:11,647]\u001b[0m Trial 221 finished with value: 0.5806451612903225 and parameters: {'max_depth': 8, 'min_samples_split': 8, 'min_samples_leaf': 15, 'criterion': 'entropy'}. Best is trial 195 with value: 0.5881126173096977.\u001b[0m\n",
      "\u001b[32m[I 2023-03-14 20:18:11,685]\u001b[0m Trial 222 finished with value: 0.5806451612903225 and parameters: {'max_depth': 8, 'min_samples_split': 8, 'min_samples_leaf': 15, 'criterion': 'entropy'}. Best is trial 195 with value: 0.5881126173096977.\u001b[0m\n",
      "\u001b[32m[I 2023-03-14 20:18:11,723]\u001b[0m Trial 223 finished with value: 0.5806451612903225 and parameters: {'max_depth': 8, 'min_samples_split': 8, 'min_samples_leaf': 15, 'criterion': 'entropy'}. Best is trial 195 with value: 0.5881126173096977.\u001b[0m\n",
      "\u001b[32m[I 2023-03-14 20:18:11,761]\u001b[0m Trial 224 finished with value: 0.5806451612903225 and parameters: {'max_depth': 8, 'min_samples_split': 8, 'min_samples_leaf': 15, 'criterion': 'entropy'}. Best is trial 195 with value: 0.5881126173096977.\u001b[0m\n",
      "\u001b[32m[I 2023-03-14 20:18:11,800]\u001b[0m Trial 225 finished with value: 0.5806451612903225 and parameters: {'max_depth': 8, 'min_samples_split': 8, 'min_samples_leaf': 15, 'criterion': 'entropy'}. Best is trial 195 with value: 0.5881126173096977.\u001b[0m\n",
      "\u001b[32m[I 2023-03-14 20:18:11,838]\u001b[0m Trial 226 finished with value: 0.5806451612903225 and parameters: {'max_depth': 8, 'min_samples_split': 9, 'min_samples_leaf': 15, 'criterion': 'entropy'}. Best is trial 195 with value: 0.5881126173096977.\u001b[0m\n",
      "\u001b[32m[I 2023-03-14 20:18:11,876]\u001b[0m Trial 227 finished with value: 0.5806451612903225 and parameters: {'max_depth': 8, 'min_samples_split': 9, 'min_samples_leaf': 15, 'criterion': 'entropy'}. Best is trial 195 with value: 0.5881126173096977.\u001b[0m\n",
      "\u001b[32m[I 2023-03-14 20:18:11,916]\u001b[0m Trial 228 finished with value: 0.5589692765113974 and parameters: {'max_depth': 9, 'min_samples_split': 8, 'min_samples_leaf': 15, 'criterion': 'entropy'}. Best is trial 195 with value: 0.5881126173096977.\u001b[0m\n",
      "\u001b[32m[I 2023-03-14 20:18:11,952]\u001b[0m Trial 229 finished with value: 0.5662535748331744 and parameters: {'max_depth': 7, 'min_samples_split': 9, 'min_samples_leaf': 15, 'criterion': 'entropy'}. Best is trial 195 with value: 0.5881126173096977.\u001b[0m\n",
      "\u001b[32m[I 2023-03-14 20:18:11,991]\u001b[0m Trial 230 finished with value: 0.5806451612903225 and parameters: {'max_depth': 8, 'min_samples_split': 8, 'min_samples_leaf': 16, 'criterion': 'entropy'}. Best is trial 195 with value: 0.5881126173096977.\u001b[0m\n",
      "\u001b[32m[I 2023-03-14 20:18:12,030]\u001b[0m Trial 231 finished with value: 0.5806451612903225 and parameters: {'max_depth': 8, 'min_samples_split': 8, 'min_samples_leaf': 16, 'criterion': 'entropy'}. Best is trial 195 with value: 0.5881126173096977.\u001b[0m\n",
      "\u001b[32m[I 2023-03-14 20:18:12,065]\u001b[0m Trial 232 finished with value: 0.5513413506012952 and parameters: {'max_depth': 5, 'min_samples_split': 9, 'min_samples_leaf': 16, 'criterion': 'entropy'}. Best is trial 195 with value: 0.5881126173096977.\u001b[0m\n",
      "\u001b[32m[I 2023-03-14 20:18:12,106]\u001b[0m Trial 233 finished with value: 0.5582761998041136 and parameters: {'max_depth': 9, 'min_samples_split': 8, 'min_samples_leaf': 16, 'criterion': 'entropy'}. Best is trial 195 with value: 0.5881126173096977.\u001b[0m\n",
      "\u001b[32m[I 2023-03-14 20:18:12,143]\u001b[0m Trial 234 finished with value: 0.5662535748331744 and parameters: {'max_depth': 7, 'min_samples_split': 8, 'min_samples_leaf': 15, 'criterion': 'entropy'}. Best is trial 195 with value: 0.5881126173096977.\u001b[0m\n",
      "\u001b[32m[I 2023-03-14 20:18:12,183]\u001b[0m Trial 235 finished with value: 0.5806451612903225 and parameters: {'max_depth': 8, 'min_samples_split': 9, 'min_samples_leaf': 15, 'criterion': 'entropy'}. Best is trial 195 with value: 0.5881126173096977.\u001b[0m\n",
      "\u001b[32m[I 2023-03-14 20:18:12,218]\u001b[0m Trial 236 finished with value: 0.5664062500000001 and parameters: {'max_depth': 6, 'min_samples_split': 10, 'min_samples_leaf': 16, 'criterion': 'entropy'}. Best is trial 195 with value: 0.5881126173096977.\u001b[0m\n",
      "\u001b[32m[I 2023-03-14 20:18:12,258]\u001b[0m Trial 237 finished with value: 0.5510009532888466 and parameters: {'max_depth': 11, 'min_samples_split': 9, 'min_samples_leaf': 17, 'criterion': 'entropy'}. Best is trial 195 with value: 0.5881126173096977.\u001b[0m\n"
     ]
    },
    {
     "name": "stderr",
     "output_type": "stream",
     "text": [
      "\u001b[32m[I 2023-03-14 20:18:12,298]\u001b[0m Trial 238 finished with value: 0.5589692765113974 and parameters: {'max_depth': 9, 'min_samples_split': 9, 'min_samples_leaf': 15, 'criterion': 'entropy'}. Best is trial 195 with value: 0.5881126173096977.\u001b[0m\n",
      "\u001b[32m[I 2023-03-14 20:18:12,335]\u001b[0m Trial 239 finished with value: 0.5662535748331744 and parameters: {'max_depth': 7, 'min_samples_split': 8, 'min_samples_leaf': 17, 'criterion': 'entropy'}. Best is trial 195 with value: 0.5881126173096977.\u001b[0m\n",
      "\u001b[32m[I 2023-03-14 20:18:12,376]\u001b[0m Trial 240 finished with value: 0.5463609172482553 and parameters: {'max_depth': 10, 'min_samples_split': 9, 'min_samples_leaf': 16, 'criterion': 'entropy'}. Best is trial 195 with value: 0.5881126173096977.\u001b[0m\n",
      "\u001b[32m[I 2023-03-14 20:18:12,415]\u001b[0m Trial 241 finished with value: 0.5806451612903225 and parameters: {'max_depth': 8, 'min_samples_split': 8, 'min_samples_leaf': 15, 'criterion': 'entropy'}. Best is trial 195 with value: 0.5881126173096977.\u001b[0m\n",
      "\u001b[32m[I 2023-03-14 20:18:12,453]\u001b[0m Trial 242 finished with value: 0.5806451612903225 and parameters: {'max_depth': 8, 'min_samples_split': 8, 'min_samples_leaf': 15, 'criterion': 'entropy'}. Best is trial 195 with value: 0.5881126173096977.\u001b[0m\n",
      "\u001b[32m[I 2023-03-14 20:18:12,489]\u001b[0m Trial 243 finished with value: 0.5664062500000001 and parameters: {'max_depth': 6, 'min_samples_split': 10, 'min_samples_leaf': 15, 'criterion': 'entropy'}. Best is trial 195 with value: 0.5881126173096977.\u001b[0m\n",
      "\u001b[32m[I 2023-03-14 20:18:12,528]\u001b[0m Trial 244 finished with value: 0.5806451612903225 and parameters: {'max_depth': 8, 'min_samples_split': 8, 'min_samples_leaf': 15, 'criterion': 'entropy'}. Best is trial 195 with value: 0.5881126173096977.\u001b[0m\n",
      "\u001b[32m[I 2023-03-14 20:18:12,568]\u001b[0m Trial 245 finished with value: 0.5582761998041136 and parameters: {'max_depth': 9, 'min_samples_split': 8, 'min_samples_leaf': 16, 'criterion': 'entropy'}. Best is trial 195 with value: 0.5881126173096977.\u001b[0m\n",
      "\u001b[32m[I 2023-03-14 20:18:12,606]\u001b[0m Trial 246 finished with value: 0.5662535748331744 and parameters: {'max_depth': 7, 'min_samples_split': 9, 'min_samples_leaf': 15, 'criterion': 'entropy'}. Best is trial 195 with value: 0.5881126173096977.\u001b[0m\n",
      "\u001b[32m[I 2023-03-14 20:18:12,645]\u001b[0m Trial 247 finished with value: 0.5806451612903225 and parameters: {'max_depth': 8, 'min_samples_split': 9, 'min_samples_leaf': 15, 'criterion': 'entropy'}. Best is trial 195 with value: 0.5881126173096977.\u001b[0m\n",
      "\u001b[32m[I 2023-03-14 20:18:12,679]\u001b[0m Trial 248 finished with value: 0.5513413506012952 and parameters: {'max_depth': 5, 'min_samples_split': 8, 'min_samples_leaf': 18, 'criterion': 'entropy'}. Best is trial 195 with value: 0.5881126173096977.\u001b[0m\n",
      "\u001b[32m[I 2023-03-14 20:18:12,720]\u001b[0m Trial 249 finished with value: 0.5582761998041136 and parameters: {'max_depth': 9, 'min_samples_split': 10, 'min_samples_leaf': 16, 'criterion': 'entropy'}. Best is trial 195 with value: 0.5881126173096977.\u001b[0m\n",
      "\u001b[32m[I 2023-03-14 20:18:12,761]\u001b[0m Trial 250 finished with value: 0.5463609172482553 and parameters: {'max_depth': 10, 'min_samples_split': 8, 'min_samples_leaf': 16, 'criterion': 'entropy'}. Best is trial 195 with value: 0.5881126173096977.\u001b[0m\n",
      "\u001b[32m[I 2023-03-14 20:18:12,796]\u001b[0m Trial 251 finished with value: 0.5662535748331744 and parameters: {'max_depth': 7, 'min_samples_split': 9, 'min_samples_leaf': 15, 'criterion': 'gini'}. Best is trial 195 with value: 0.5881126173096977.\u001b[0m\n",
      "\u001b[32m[I 2023-03-14 20:18:12,835]\u001b[0m Trial 252 finished with value: 0.5751765893037336 and parameters: {'max_depth': 8, 'min_samples_split': 7, 'min_samples_leaf': 17, 'criterion': 'entropy'}. Best is trial 195 with value: 0.5881126173096977.\u001b[0m\n",
      "\u001b[32m[I 2023-03-14 20:18:12,874]\u001b[0m Trial 253 finished with value: 0.5662535748331744 and parameters: {'max_depth': 7, 'min_samples_split': 8, 'min_samples_leaf': 15, 'criterion': 'entropy'}. Best is trial 195 with value: 0.5881126173096977.\u001b[0m\n",
      "\u001b[32m[I 2023-03-14 20:18:12,914]\u001b[0m Trial 254 finished with value: 0.5512295081967212 and parameters: {'max_depth': 9, 'min_samples_split': 9, 'min_samples_leaf': 13, 'criterion': 'entropy'}. Best is trial 195 with value: 0.5881126173096977.\u001b[0m\n",
      "\u001b[32m[I 2023-03-14 20:18:12,950]\u001b[0m Trial 255 finished with value: 0.5650916104146576 and parameters: {'max_depth': 6, 'min_samples_split': 8, 'min_samples_leaf': 14, 'criterion': 'entropy'}. Best is trial 195 with value: 0.5881126173096977.\u001b[0m\n",
      "\u001b[32m[I 2023-03-14 20:18:12,989]\u001b[0m Trial 256 finished with value: 0.5806451612903225 and parameters: {'max_depth': 8, 'min_samples_split': 7, 'min_samples_leaf': 16, 'criterion': 'entropy'}. Best is trial 195 with value: 0.5881126173096977.\u001b[0m\n",
      "\u001b[32m[I 2023-03-14 20:18:13,031]\u001b[0m Trial 257 finished with value: 0.5609514370664024 and parameters: {'max_depth': 9, 'min_samples_split': 10, 'min_samples_leaf': 14, 'criterion': 'entropy'}. Best is trial 195 with value: 0.5881126173096977.\u001b[0m\n",
      "\u001b[32m[I 2023-03-14 20:18:13,073]\u001b[0m Trial 258 finished with value: 0.5478348439073515 and parameters: {'max_depth': 10, 'min_samples_split': 7, 'min_samples_leaf': 15, 'criterion': 'entropy'}. Best is trial 195 with value: 0.5881126173096977.\u001b[0m\n",
      "\u001b[32m[I 2023-03-14 20:18:13,113]\u001b[0m Trial 259 finished with value: 0.5662535748331744 and parameters: {'max_depth': 7, 'min_samples_split': 9, 'min_samples_leaf': 16, 'criterion': 'entropy'}. Best is trial 195 with value: 0.5881126173096977.\u001b[0m\n",
      "\u001b[32m[I 2023-03-14 20:18:13,155]\u001b[0m Trial 260 finished with value: 0.554 and parameters: {'max_depth': 11, 'min_samples_split': 9, 'min_samples_leaf': 15, 'criterion': 'entropy'}. Best is trial 195 with value: 0.5881126173096977.\u001b[0m\n",
      "\u001b[32m[I 2023-03-14 20:18:13,192]\u001b[0m Trial 261 finished with value: 0.5677799607072691 and parameters: {'max_depth': 6, 'min_samples_split': 8, 'min_samples_leaf': 23, 'criterion': 'entropy'}. Best is trial 195 with value: 0.5881126173096977.\u001b[0m\n",
      "\u001b[32m[I 2023-03-14 20:18:13,228]\u001b[0m Trial 262 finished with value: 0.5804480651731161 and parameters: {'max_depth': 8, 'min_samples_split': 7, 'min_samples_leaf': 21, 'criterion': 'gini'}. Best is trial 195 with value: 0.5881126173096977.\u001b[0m\n",
      "\u001b[32m[I 2023-03-14 20:18:13,268]\u001b[0m Trial 263 finished with value: 0.5806451612903225 and parameters: {'max_depth': 8, 'min_samples_split': 8, 'min_samples_leaf': 15, 'criterion': 'entropy'}. Best is trial 195 with value: 0.5881126173096977.\u001b[0m\n",
      "\u001b[32m[I 2023-03-14 20:18:13,309]\u001b[0m Trial 264 finished with value: 0.5475956820412169 and parameters: {'max_depth': 10, 'min_samples_split': 8, 'min_samples_leaf': 18, 'criterion': 'entropy'}. Best is trial 195 with value: 0.5881126173096977.\u001b[0m\n",
      "\u001b[32m[I 2023-03-14 20:18:13,348]\u001b[0m Trial 265 finished with value: 0.5662535748331744 and parameters: {'max_depth': 7, 'min_samples_split': 10, 'min_samples_leaf': 17, 'criterion': 'entropy'}. Best is trial 195 with value: 0.5881126173096977.\u001b[0m\n",
      "\u001b[32m[I 2023-03-14 20:18:13,389]\u001b[0m Trial 266 finished with value: 0.5582761998041136 and parameters: {'max_depth': 9, 'min_samples_split': 7, 'min_samples_leaf': 16, 'criterion': 'entropy'}. Best is trial 195 with value: 0.5881126173096977.\u001b[0m\n",
      "\u001b[32m[I 2023-03-14 20:18:13,427]\u001b[0m Trial 267 finished with value: 0.5650916104146576 and parameters: {'max_depth': 6, 'min_samples_split': 9, 'min_samples_leaf': 14, 'criterion': 'entropy'}. Best is trial 195 with value: 0.5881126173096977.\u001b[0m\n",
      "\u001b[32m[I 2023-03-14 20:18:13,460]\u001b[0m Trial 268 finished with value: 0.5567839195979899 and parameters: {'max_depth': 4, 'min_samples_split': 7, 'min_samples_leaf': 15, 'criterion': 'entropy'}. Best is trial 195 with value: 0.5881126173096977.\u001b[0m\n",
      "\u001b[32m[I 2023-03-14 20:18:13,500]\u001b[0m Trial 269 finished with value: 0.5806451612903225 and parameters: {'max_depth': 8, 'min_samples_split': 9, 'min_samples_leaf': 16, 'criterion': 'entropy'}. Best is trial 195 with value: 0.5881126173096977.\u001b[0m\n",
      "\u001b[32m[I 2023-03-14 20:18:13,539]\u001b[0m Trial 270 finished with value: 0.5662535748331744 and parameters: {'max_depth': 7, 'min_samples_split': 8, 'min_samples_leaf': 15, 'criterion': 'entropy'}. Best is trial 195 with value: 0.5881126173096977.\u001b[0m\n",
      "\u001b[32m[I 2023-03-14 20:18:13,580]\u001b[0m Trial 271 finished with value: 0.5609514370664024 and parameters: {'max_depth': 9, 'min_samples_split': 10, 'min_samples_leaf': 14, 'criterion': 'entropy'}. Best is trial 195 with value: 0.5881126173096977.\u001b[0m\n"
     ]
    },
    {
     "name": "stderr",
     "output_type": "stream",
     "text": [
      "\u001b[32m[I 2023-03-14 20:18:13,616]\u001b[0m Trial 272 finished with value: 0.5513413506012952 and parameters: {'max_depth': 5, 'min_samples_split': 8, 'min_samples_leaf': 16, 'criterion': 'entropy'}. Best is trial 195 with value: 0.5881126173096977.\u001b[0m\n",
      "\u001b[32m[I 2023-03-14 20:18:13,655]\u001b[0m Trial 273 finished with value: 0.566990291262136 and parameters: {'max_depth': 12, 'min_samples_split': 9, 'min_samples_leaf': 17, 'criterion': 'gini'}. Best is trial 195 with value: 0.5881126173096977.\u001b[0m\n",
      "\u001b[32m[I 2023-03-14 20:18:13,696]\u001b[0m Trial 274 finished with value: 0.5637982195845697 and parameters: {'max_depth': 9, 'min_samples_split': 7, 'min_samples_leaf': 19, 'criterion': 'entropy'}. Best is trial 195 with value: 0.5881126173096977.\u001b[0m\n",
      "\u001b[32m[I 2023-03-14 20:18:13,737]\u001b[0m Trial 275 finished with value: 0.5666316894018888 and parameters: {'max_depth': 8, 'min_samples_split': 8, 'min_samples_leaf': 13, 'criterion': 'entropy'}. Best is trial 195 with value: 0.5881126173096977.\u001b[0m\n",
      "\u001b[32m[I 2023-03-14 20:18:13,778]\u001b[0m Trial 276 finished with value: 0.5486725663716814 and parameters: {'max_depth': 10, 'min_samples_split': 9, 'min_samples_leaf': 14, 'criterion': 'entropy'}. Best is trial 195 with value: 0.5881126173096977.\u001b[0m\n",
      "\u001b[32m[I 2023-03-14 20:18:13,818]\u001b[0m Trial 277 finished with value: 0.5662535748331744 and parameters: {'max_depth': 7, 'min_samples_split': 8, 'min_samples_leaf': 15, 'criterion': 'entropy'}. Best is trial 195 with value: 0.5881126173096977.\u001b[0m\n",
      "\u001b[32m[I 2023-03-14 20:18:13,860]\u001b[0m Trial 278 finished with value: 0.5802469135802469 and parameters: {'max_depth': 8, 'min_samples_split': 7, 'min_samples_leaf': 14, 'criterion': 'entropy'}. Best is trial 195 with value: 0.5881126173096977.\u001b[0m\n",
      "\u001b[32m[I 2023-03-14 20:18:13,898]\u001b[0m Trial 279 finished with value: 0.5664062500000001 and parameters: {'max_depth': 6, 'min_samples_split': 10, 'min_samples_leaf': 15, 'criterion': 'entropy'}. Best is trial 195 with value: 0.5881126173096977.\u001b[0m\n",
      "\u001b[32m[I 2023-03-14 20:18:13,938]\u001b[0m Trial 280 finished with value: 0.5662535748331744 and parameters: {'max_depth': 7, 'min_samples_split': 8, 'min_samples_leaf': 16, 'criterion': 'entropy'}. Best is trial 195 with value: 0.5881126173096977.\u001b[0m\n",
      "\u001b[32m[I 2023-03-14 20:18:13,980]\u001b[0m Trial 281 finished with value: 0.5478348439073515 and parameters: {'max_depth': 10, 'min_samples_split': 9, 'min_samples_leaf': 15, 'criterion': 'entropy'}. Best is trial 195 with value: 0.5881126173096977.\u001b[0m\n",
      "\u001b[32m[I 2023-03-14 20:18:14,021]\u001b[0m Trial 282 finished with value: 0.555984555984556 and parameters: {'max_depth': 9, 'min_samples_split': 7, 'min_samples_leaf': 17, 'criterion': 'entropy'}. Best is trial 195 with value: 0.5881126173096977.\u001b[0m\n",
      "\u001b[32m[I 2023-03-14 20:18:14,064]\u001b[0m Trial 283 finished with value: 0.5492125984251969 and parameters: {'max_depth': 11, 'min_samples_split': 8, 'min_samples_leaf': 16, 'criterion': 'entropy'}. Best is trial 195 with value: 0.5881126173096977.\u001b[0m\n",
      "\u001b[32m[I 2023-03-14 20:18:14,103]\u001b[0m Trial 284 finished with value: 0.5652600588812561 and parameters: {'max_depth': 8, 'min_samples_split': 8, 'min_samples_leaf': 8, 'criterion': 'gini'}. Best is trial 195 with value: 0.5881126173096977.\u001b[0m\n",
      "\u001b[32m[I 2023-03-14 20:18:14,141]\u001b[0m Trial 285 finished with value: 0.5664062500000001 and parameters: {'max_depth': 6, 'min_samples_split': 9, 'min_samples_leaf': 15, 'criterion': 'entropy'}. Best is trial 195 with value: 0.5881126173096977.\u001b[0m\n",
      "\u001b[32m[I 2023-03-14 20:18:14,181]\u001b[0m Trial 286 finished with value: 0.5642458100558659 and parameters: {'max_depth': 7, 'min_samples_split': 10, 'min_samples_leaf': 14, 'criterion': 'entropy'}. Best is trial 195 with value: 0.5881126173096977.\u001b[0m\n",
      "\u001b[32m[I 2023-03-14 20:18:14,227]\u001b[0m Trial 287 finished with value: 0.5582761998041136 and parameters: {'max_depth': 9, 'min_samples_split': 6, 'min_samples_leaf': 16, 'criterion': 'entropy'}. Best is trial 195 with value: 0.5881126173096977.\u001b[0m\n",
      "\u001b[32m[I 2023-03-14 20:18:14,270]\u001b[0m Trial 288 finished with value: 0.5666316894018888 and parameters: {'max_depth': 8, 'min_samples_split': 7, 'min_samples_leaf': 13, 'criterion': 'entropy'}. Best is trial 195 with value: 0.5881126173096977.\u001b[0m\n",
      "\u001b[32m[I 2023-03-14 20:18:14,314]\u001b[0m Trial 289 finished with value: 0.5515873015873016 and parameters: {'max_depth': 10, 'min_samples_split': 9, 'min_samples_leaf': 20, 'criterion': 'entropy'}. Best is trial 195 with value: 0.5881126173096977.\u001b[0m\n",
      "\u001b[32m[I 2023-03-14 20:18:14,352]\u001b[0m Trial 290 finished with value: 0.5513413506012952 and parameters: {'max_depth': 5, 'min_samples_split': 8, 'min_samples_leaf': 15, 'criterion': 'entropy'}. Best is trial 195 with value: 0.5881126173096977.\u001b[0m\n",
      "\u001b[32m[I 2023-03-14 20:18:14,392]\u001b[0m Trial 291 finished with value: 0.5806451612903225 and parameters: {'max_depth': 8, 'min_samples_split': 8, 'min_samples_leaf': 15, 'criterion': 'entropy'}. Best is trial 195 with value: 0.5881126173096977.\u001b[0m\n",
      "\u001b[32m[I 2023-03-14 20:18:14,436]\u001b[0m Trial 292 finished with value: 0.5609514370664024 and parameters: {'max_depth': 9, 'min_samples_split': 6, 'min_samples_leaf': 14, 'criterion': 'entropy'}. Best is trial 195 with value: 0.5881126173096977.\u001b[0m\n",
      "\u001b[32m[I 2023-03-14 20:18:14,478]\u001b[0m Trial 293 finished with value: 0.5686839577329491 and parameters: {'max_depth': 7, 'min_samples_split': 9, 'min_samples_leaf': 25, 'criterion': 'entropy'}. Best is trial 195 with value: 0.5881126173096977.\u001b[0m\n",
      "\u001b[32m[I 2023-03-14 20:18:14,521]\u001b[0m Trial 294 finished with value: 0.5662535748331744 and parameters: {'max_depth': 7, 'min_samples_split': 7, 'min_samples_leaf': 16, 'criterion': 'entropy'}. Best is trial 195 with value: 0.5881126173096977.\u001b[0m\n",
      "\u001b[32m[I 2023-03-14 20:18:14,560]\u001b[0m Trial 295 finished with value: 0.5664062500000001 and parameters: {'max_depth': 6, 'min_samples_split': 8, 'min_samples_leaf': 15, 'criterion': 'entropy'}. Best is trial 195 with value: 0.5881126173096977.\u001b[0m\n",
      "\u001b[32m[I 2023-03-14 20:18:14,598]\u001b[0m Trial 296 finished with value: 0.5806451612903225 and parameters: {'max_depth': 9, 'min_samples_split': 7, 'min_samples_leaf': 17, 'criterion': 'gini'}. Best is trial 195 with value: 0.5881126173096977.\u001b[0m\n",
      "\u001b[32m[I 2023-03-14 20:18:14,639]\u001b[0m Trial 297 finished with value: 0.5806451612903225 and parameters: {'max_depth': 8, 'min_samples_split': 10, 'min_samples_leaf': 16, 'criterion': 'entropy'}. Best is trial 195 with value: 0.5881126173096977.\u001b[0m\n",
      "\u001b[32m[I 2023-03-14 20:18:14,684]\u001b[0m Trial 298 finished with value: 0.56312625250501 and parameters: {'max_depth': 11, 'min_samples_split': 9, 'min_samples_leaf': 14, 'criterion': 'entropy'}. Best is trial 195 with value: 0.5881126173096977.\u001b[0m\n",
      "\u001b[32m[I 2023-03-14 20:18:14,724]\u001b[0m Trial 299 finished with value: 0.5806451612903225 and parameters: {'max_depth': 8, 'min_samples_split': 8, 'min_samples_leaf': 15, 'criterion': 'entropy'}. Best is trial 195 with value: 0.5881126173096977.\u001b[0m\n"
     ]
    },
    {
     "name": "stdout",
     "output_type": "stream",
     "text": [
      "Best trial:\n",
      "  Score: 0.588\n",
      "  Params: \n",
      "    max_depth: 8\n",
      "    min_samples_split: 8\n",
      "    min_samples_leaf: 23\n",
      "    criterion: entropy\n"
     ]
    }
   ],
   "source": [
    "study = optuna.create_study(direction='maximize')\n",
    "\n",
    "study.optimize(objective, n_trials=300)\n",
    "\n",
    "print('Best trial:')\n",
    "trial = study.best_trial\n",
    "print(f'  Score: {trial.value:.3f}')\n",
    "print('  Params: ')\n",
    "for key, value in trial.params.items():\n",
    "    print(f'    {key}: {value}')"
   ]
  },
  {
   "cell_type": "code",
   "execution_count": 121,
   "metadata": {},
   "outputs": [
    {
     "data": {
      "text/plain": [
       "DecisionTreeClassifier(class_weight='balanced', criterion='entropy',\n",
       "                       max_depth=8, min_samples_leaf=13, min_samples_split=17,\n",
       "                       random_state=322)"
      ]
     },
     "execution_count": 121,
     "metadata": {},
     "output_type": "execute_result"
    }
   ],
   "source": [
    "dtc_cl_w = DecisionTreeClassifier(max_depth=8,\n",
    "                                   min_samples_split=17,\n",
    "                                   min_samples_leaf=13,\n",
    "                                   criterion='entropy',\n",
    "                                   class_weight='balanced',\n",
    "                                   random_state=322)\n",
    "dtc_cl_w.fit(features_train, target_train)"
   ]
  },
  {
   "cell_type": "code",
   "execution_count": 122,
   "metadata": {},
   "outputs": [
    {
     "data": {
      "text/plain": [
       "0.839"
      ]
     },
     "execution_count": 122,
     "metadata": {},
     "output_type": "execute_result"
    }
   ],
   "source": [
    "prob_one_valid =dtc_cl_w.predict_proba(features_valid)[:, 1]\n",
    "roc_auc_score(target_valid, prob_one_valid).round(3)"
   ]
  },
  {
   "cell_type": "markdown",
   "metadata": {},
   "source": [
    "Для дерева решений результат практически неизменился, но AUC-ROC вырос."
   ]
  },
  {
   "cell_type": "markdown",
   "metadata": {},
   "source": [
    "### Upsampling"
   ]
  },
  {
   "cell_type": "markdown",
   "metadata": {},
   "source": [
    "Применим метод upsampling. Сначала разделим обучающую выборку по классам, скопируем меньший класс несколько раз, снова объединим эти данные и перемешаем."
   ]
  },
  {
   "cell_type": "code",
   "execution_count": 123,
   "metadata": {},
   "outputs": [
    {
     "data": {
      "text/html": [
       "<div>\n",
       "<style scoped>\n",
       "    .dataframe tbody tr th:only-of-type {\n",
       "        vertical-align: middle;\n",
       "    }\n",
       "\n",
       "    .dataframe tbody tr th {\n",
       "        vertical-align: top;\n",
       "    }\n",
       "\n",
       "    .dataframe thead th {\n",
       "        text-align: right;\n",
       "    }\n",
       "</style>\n",
       "<table border=\"1\" class=\"dataframe\">\n",
       "  <thead>\n",
       "    <tr style=\"text-align: right;\">\n",
       "      <th></th>\n",
       "      <th>CreditScore</th>\n",
       "      <th>Geography_1</th>\n",
       "      <th>Geography_2</th>\n",
       "      <th>Geography_3</th>\n",
       "      <th>Gender_1</th>\n",
       "      <th>Gender_2</th>\n",
       "      <th>Age</th>\n",
       "      <th>Tenure</th>\n",
       "      <th>Balance</th>\n",
       "      <th>NumOfProducts</th>\n",
       "      <th>HasCrCard</th>\n",
       "      <th>IsActiveMember</th>\n",
       "      <th>EstimatedSalary</th>\n",
       "    </tr>\n",
       "  </thead>\n",
       "  <tbody>\n",
       "    <tr>\n",
       "      <th>0</th>\n",
       "      <td>0.393274</td>\n",
       "      <td>1</td>\n",
       "      <td>0</td>\n",
       "      <td>0</td>\n",
       "      <td>1</td>\n",
       "      <td>0</td>\n",
       "      <td>0.684323</td>\n",
       "      <td>-0.689374</td>\n",
       "      <td>-1.214471</td>\n",
       "      <td>0.791149</td>\n",
       "      <td>0</td>\n",
       "      <td>1</td>\n",
       "      <td>0.103521</td>\n",
       "    </tr>\n",
       "    <tr>\n",
       "      <th>1</th>\n",
       "      <td>-0.094186</td>\n",
       "      <td>0</td>\n",
       "      <td>1</td>\n",
       "      <td>0</td>\n",
       "      <td>1</td>\n",
       "      <td>0</td>\n",
       "      <td>0.116212</td>\n",
       "      <td>0.693685</td>\n",
       "      <td>-1.214471</td>\n",
       "      <td>-0.920444</td>\n",
       "      <td>1</td>\n",
       "      <td>0</td>\n",
       "      <td>0.485720</td>\n",
       "    </tr>\n",
       "    <tr>\n",
       "      <th>2</th>\n",
       "      <td>1.140021</td>\n",
       "      <td>0</td>\n",
       "      <td>0</td>\n",
       "      <td>1</td>\n",
       "      <td>0</td>\n",
       "      <td>1</td>\n",
       "      <td>-0.451898</td>\n",
       "      <td>0.347920</td>\n",
       "      <td>0.734066</td>\n",
       "      <td>0.791149</td>\n",
       "      <td>1</td>\n",
       "      <td>1</td>\n",
       "      <td>-0.684914</td>\n",
       "    </tr>\n",
       "    <tr>\n",
       "      <th>3</th>\n",
       "      <td>2.073455</td>\n",
       "      <td>0</td>\n",
       "      <td>0</td>\n",
       "      <td>1</td>\n",
       "      <td>1</td>\n",
       "      <td>0</td>\n",
       "      <td>0.021527</td>\n",
       "      <td>0.002155</td>\n",
       "      <td>0.624644</td>\n",
       "      <td>-0.920444</td>\n",
       "      <td>1</td>\n",
       "      <td>0</td>\n",
       "      <td>0.013339</td>\n",
       "    </tr>\n",
       "    <tr>\n",
       "      <th>4</th>\n",
       "      <td>-0.903162</td>\n",
       "      <td>1</td>\n",
       "      <td>0</td>\n",
       "      <td>0</td>\n",
       "      <td>0</td>\n",
       "      <td>1</td>\n",
       "      <td>1.725858</td>\n",
       "      <td>0.347920</td>\n",
       "      <td>-1.214471</td>\n",
       "      <td>0.791149</td>\n",
       "      <td>1</td>\n",
       "      <td>1</td>\n",
       "      <td>-1.031369</td>\n",
       "    </tr>\n",
       "  </tbody>\n",
       "</table>\n",
       "</div>"
      ],
      "text/plain": [
       "   CreditScore  Geography_1  Geography_2  Geography_3  Gender_1  Gender_2  \\\n",
       "0     0.393274            1            0            0         1         0   \n",
       "1    -0.094186            0            1            0         1         0   \n",
       "2     1.140021            0            0            1         0         1   \n",
       "3     2.073455            0            0            1         1         0   \n",
       "4    -0.903162            1            0            0         0         1   \n",
       "\n",
       "        Age    Tenure   Balance  NumOfProducts  HasCrCard  IsActiveMember  \\\n",
       "0  0.684323 -0.689374 -1.214471       0.791149          0               1   \n",
       "1  0.116212  0.693685 -1.214471      -0.920444          1               0   \n",
       "2 -0.451898  0.347920  0.734066       0.791149          1               1   \n",
       "3  0.021527  0.002155  0.624644      -0.920444          1               0   \n",
       "4  1.725858  0.347920 -1.214471       0.791149          1               1   \n",
       "\n",
       "   EstimatedSalary  \n",
       "0         0.103521  \n",
       "1         0.485720  \n",
       "2        -0.684914  \n",
       "3         0.013339  \n",
       "4        -1.031369  "
      ]
     },
     "execution_count": 123,
     "metadata": {},
     "output_type": "execute_result"
    }
   ],
   "source": [
    "features_train.head()"
   ]
  },
  {
   "cell_type": "code",
   "execution_count": 124,
   "metadata": {},
   "outputs": [
    {
     "name": "stderr",
     "output_type": "stream",
     "text": [
      "C:\\Users\\banan\\AppData\\Local\\Temp\\ipykernel_44348\\3728280255.py:1: UserWarning: Boolean Series key will be reindexed to match DataFrame index.\n",
      "  features_zeros = features_train[target == 0]\n",
      "C:\\Users\\banan\\AppData\\Local\\Temp\\ipykernel_44348\\3728280255.py:2: UserWarning: Boolean Series key will be reindexed to match DataFrame index.\n",
      "  features_ones = features_train[target == 1]\n"
     ]
    }
   ],
   "source": [
    "features_zeros = features_train[target == 0]\n",
    "features_ones = features_train[target == 1]\n",
    "target_zeros = target_train[target == 0]\n",
    "target_ones = target_train[target == 1]"
   ]
  },
  {
   "cell_type": "code",
   "execution_count": 125,
   "metadata": {},
   "outputs": [],
   "source": [
    "features_upsampled = pd.concat([features_zeros] + [features_ones] * 4)\n",
    "target_upsampled = pd.concat([target_zeros] + [target_ones] * 4)\n",
    "features_upsampled, target_upsampled = shuffle(features_upsampled, target_upsampled, random_state=322)\n"
   ]
  },
  {
   "cell_type": "markdown",
   "metadata": {},
   "source": [
    "#### Случайный лес"
   ]
  },
  {
   "cell_type": "code",
   "execution_count": 126,
   "metadata": {},
   "outputs": [],
   "source": [
    "def objective(trial):\n",
    "    n_estimators = trial.suggest_int('n_estimators', 20, 150)\n",
    "    max_depth = trial.suggest_int('max_depth', 2, 30)\n",
    "    min_samples_split = trial.suggest_int('min_samples_split', 2, 10)\n",
    "    min_samples_leaf = trial.suggest_int('min_samples_leaf', 1, 10)\n",
    "    criterion = trial.suggest_categorical('criterion', ['gini', 'entropy'])\n",
    "\n",
    "    rfc = RandomForestClassifier(n_estimators=n_estimators,\n",
    "                                   max_depth=max_depth,\n",
    "                                   min_samples_split=min_samples_split,\n",
    "                                   min_samples_leaf=min_samples_leaf,\n",
    "                                   criterion=criterion,\n",
    "                                   random_state=322)\n",
    "\n",
    "    rfc.fit(features_upsampled, target_upsampled)\n",
    "\n",
    "    predicted_valid = rfc.predict(features_valid)\n",
    "\n",
    "    f1 = f1_score(predicted_valid, target_valid)\n",
    "    return f1"
   ]
  },
  {
   "cell_type": "code",
   "execution_count": 127,
   "metadata": {},
   "outputs": [
    {
     "name": "stderr",
     "output_type": "stream",
     "text": [
      "\u001b[32m[I 2023-03-14 20:18:14,853]\u001b[0m A new study created in memory with name: no-name-b32ab2bf-6f81-4478-b525-d655bc05d009\u001b[0m\n",
      "\u001b[32m[I 2023-03-14 20:18:15,310]\u001b[0m Trial 0 finished with value: 0.5194346289752649 and parameters: {'n_estimators': 95, 'max_depth': 9, 'min_samples_split': 6, 'min_samples_leaf': 5, 'criterion': 'gini'}. Best is trial 0 with value: 0.5194346289752649.\u001b[0m\n",
      "\u001b[32m[I 2023-03-14 20:18:15,585]\u001b[0m Trial 1 finished with value: 0.21582733812949642 and parameters: {'n_estimators': 96, 'max_depth': 3, 'min_samples_split': 5, 'min_samples_leaf': 6, 'criterion': 'entropy'}. Best is trial 0 with value: 0.5194346289752649.\u001b[0m\n",
      "\u001b[32m[I 2023-03-14 20:18:16,472]\u001b[0m Trial 2 finished with value: 0.5460750853242321 and parameters: {'n_estimators': 138, 'max_depth': 30, 'min_samples_split': 3, 'min_samples_leaf': 4, 'criterion': 'entropy'}. Best is trial 2 with value: 0.5460750853242321.\u001b[0m\n",
      "\u001b[32m[I 2023-03-14 20:18:16,810]\u001b[0m Trial 3 finished with value: 0.5570469798657719 and parameters: {'n_estimators': 50, 'max_depth': 19, 'min_samples_split': 9, 'min_samples_leaf': 2, 'criterion': 'entropy'}. Best is trial 3 with value: 0.5570469798657719.\u001b[0m\n",
      "\u001b[32m[I 2023-03-14 20:18:16,951]\u001b[0m Trial 4 finished with value: 0.5274336283185842 and parameters: {'n_estimators': 29, 'max_depth': 7, 'min_samples_split': 4, 'min_samples_leaf': 9, 'criterion': 'entropy'}. Best is trial 3 with value: 0.5570469798657719.\u001b[0m\n",
      "\u001b[32m[I 2023-03-14 20:18:17,327]\u001b[0m Trial 5 finished with value: 0.17647058823529413 and parameters: {'n_estimators': 146, 'max_depth': 3, 'min_samples_split': 10, 'min_samples_leaf': 3, 'criterion': 'gini'}. Best is trial 3 with value: 0.5570469798657719.\u001b[0m\n",
      "\u001b[32m[I 2023-03-14 20:18:18,045]\u001b[0m Trial 6 finished with value: 0.5479452054794521 and parameters: {'n_estimators': 115, 'max_depth': 15, 'min_samples_split': 3, 'min_samples_leaf': 4, 'criterion': 'entropy'}. Best is trial 3 with value: 0.5570469798657719.\u001b[0m\n",
      "\u001b[32m[I 2023-03-14 20:18:18,248]\u001b[0m Trial 7 finished with value: 0.547008547008547 and parameters: {'n_estimators': 38, 'max_depth': 30, 'min_samples_split': 10, 'min_samples_leaf': 7, 'criterion': 'gini'}. Best is trial 3 with value: 0.5570469798657719.\u001b[0m\n",
      "\u001b[32m[I 2023-03-14 20:18:18,752]\u001b[0m Trial 8 finished with value: 0.5445026178010471 and parameters: {'n_estimators': 89, 'max_depth': 10, 'min_samples_split': 9, 'min_samples_leaf': 1, 'criterion': 'entropy'}. Best is trial 3 with value: 0.5570469798657719.\u001b[0m\n",
      "\u001b[32m[I 2023-03-14 20:18:19,231]\u001b[0m Trial 9 finished with value: 0.5500848896434635 and parameters: {'n_estimators': 85, 'max_depth': 17, 'min_samples_split': 8, 'min_samples_leaf': 3, 'criterion': 'gini'}. Best is trial 3 with value: 0.5570469798657719.\u001b[0m\n",
      "\u001b[32m[I 2023-03-14 20:18:19,614]\u001b[0m Trial 10 finished with value: 0.546979865771812 and parameters: {'n_estimators': 55, 'max_depth': 22, 'min_samples_split': 7, 'min_samples_leaf': 1, 'criterion': 'entropy'}. Best is trial 3 with value: 0.5570469798657719.\u001b[0m\n",
      "\u001b[32m[I 2023-03-14 20:18:20,009]\u001b[0m Trial 11 finished with value: 0.5445378151260505 and parameters: {'n_estimators': 66, 'max_depth': 19, 'min_samples_split': 8, 'min_samples_leaf': 2, 'criterion': 'gini'}. Best is trial 3 with value: 0.5570469798657719.\u001b[0m\n",
      "\u001b[32m[I 2023-03-14 20:18:20,404]\u001b[0m Trial 12 finished with value: 0.5410958904109588 and parameters: {'n_estimators': 66, 'max_depth': 16, 'min_samples_split': 8, 'min_samples_leaf': 3, 'criterion': 'gini'}. Best is trial 3 with value: 0.5570469798657719.\u001b[0m\n",
      "\u001b[32m[I 2023-03-14 20:18:20,672]\u001b[0m Trial 13 finished with value: 0.546979865771812 and parameters: {'n_estimators': 43, 'max_depth': 22, 'min_samples_split': 8, 'min_samples_leaf': 2, 'criterion': 'gini'}. Best is trial 3 with value: 0.5570469798657719.\u001b[0m\n",
      "\u001b[32m[I 2023-03-14 20:18:20,797]\u001b[0m Trial 14 finished with value: 0.5238095238095237 and parameters: {'n_estimators': 20, 'max_depth': 24, 'min_samples_split': 6, 'min_samples_leaf': 7, 'criterion': 'gini'}. Best is trial 3 with value: 0.5570469798657719.\u001b[0m\n",
      "\u001b[32m[I 2023-03-14 20:18:21,262]\u001b[0m Trial 15 finished with value: 0.5500848896434635 and parameters: {'n_estimators': 72, 'max_depth': 13, 'min_samples_split': 9, 'min_samples_leaf': 3, 'criterion': 'entropy'}. Best is trial 3 with value: 0.5570469798657719.\u001b[0m\n",
      "\u001b[32m[I 2023-03-14 20:18:21,958]\u001b[0m Trial 16 finished with value: 0.53125 and parameters: {'n_estimators': 117, 'max_depth': 26, 'min_samples_split': 7, 'min_samples_leaf': 10, 'criterion': 'entropy'}. Best is trial 3 with value: 0.5570469798657719.\u001b[0m\n",
      "\u001b[32m[I 2023-03-14 20:18:22,405]\u001b[0m Trial 17 finished with value: 0.5371621621621622 and parameters: {'n_estimators': 79, 'max_depth': 19, 'min_samples_split': 9, 'min_samples_leaf': 5, 'criterion': 'gini'}. Best is trial 3 with value: 0.5570469798657719.\u001b[0m\n",
      "\u001b[32m[I 2023-03-14 20:18:22,704]\u001b[0m Trial 18 finished with value: 0.5369127516778524 and parameters: {'n_estimators': 50, 'max_depth': 19, 'min_samples_split': 7, 'min_samples_leaf': 2, 'criterion': 'gini'}. Best is trial 3 with value: 0.5570469798657719.\u001b[0m\n",
      "\u001b[32m[I 2023-03-14 20:18:23,397]\u001b[0m Trial 19 finished with value: 0.5479452054794521 and parameters: {'n_estimators': 111, 'max_depth': 13, 'min_samples_split': 10, 'min_samples_leaf': 4, 'criterion': 'entropy'}. Best is trial 3 with value: 0.5570469798657719.\u001b[0m\n",
      "\u001b[32m[I 2023-03-14 20:18:24,179]\u001b[0m Trial 20 finished with value: 0.5518394648829431 and parameters: {'n_estimators': 129, 'max_depth': 26, 'min_samples_split': 2, 'min_samples_leaf': 1, 'criterion': 'gini'}. Best is trial 3 with value: 0.5570469798657719.\u001b[0m\n",
      "\u001b[32m[I 2023-03-14 20:18:25,007]\u001b[0m Trial 21 finished with value: 0.5531197301854975 and parameters: {'n_estimators': 132, 'max_depth': 27, 'min_samples_split': 2, 'min_samples_leaf': 1, 'criterion': 'gini'}. Best is trial 3 with value: 0.5570469798657719.\u001b[0m\n",
      "\u001b[32m[I 2023-03-14 20:18:25,839]\u001b[0m Trial 22 finished with value: 0.5570469798657719 and parameters: {'n_estimators': 136, 'max_depth': 28, 'min_samples_split': 2, 'min_samples_leaf': 1, 'criterion': 'gini'}. Best is trial 3 with value: 0.5570469798657719.\u001b[0m\n",
      "\u001b[32m[I 2023-03-14 20:18:26,755]\u001b[0m Trial 23 finished with value: 0.5521885521885521 and parameters: {'n_estimators': 150, 'max_depth': 27, 'min_samples_split': 2, 'min_samples_leaf': 1, 'criterion': 'gini'}. Best is trial 3 with value: 0.5570469798657719.\u001b[0m\n",
      "\u001b[32m[I 2023-03-14 20:18:27,481]\u001b[0m Trial 24 finished with value: 0.559463986599665 and parameters: {'n_estimators': 125, 'max_depth': 28, 'min_samples_split': 4, 'min_samples_leaf': 2, 'criterion': 'gini'}. Best is trial 24 with value: 0.559463986599665.\u001b[0m\n",
      "\u001b[32m[I 2023-03-14 20:18:28,212]\u001b[0m Trial 25 finished with value: 0.5618729096989967 and parameters: {'n_estimators': 125, 'max_depth': 24, 'min_samples_split': 4, 'min_samples_leaf': 2, 'criterion': 'gini'}. Best is trial 25 with value: 0.5618729096989967.\u001b[0m\n",
      "\u001b[32m[I 2023-03-14 20:18:28,916]\u001b[0m Trial 26 finished with value: 0.5555555555555556 and parameters: {'n_estimators': 103, 'max_depth': 23, 'min_samples_split': 4, 'min_samples_leaf': 2, 'criterion': 'entropy'}. Best is trial 25 with value: 0.5618729096989967.\u001b[0m\n",
      "\u001b[32m[I 2023-03-14 20:18:29,606]\u001b[0m Trial 27 finished with value: 0.5476190476190477 and parameters: {'n_estimators': 122, 'max_depth': 24, 'min_samples_split': 5, 'min_samples_leaf': 4, 'criterion': 'gini'}. Best is trial 25 with value: 0.5618729096989967.\u001b[0m\n",
      "\u001b[32m[I 2023-03-14 20:18:30,295]\u001b[0m Trial 28 finished with value: 0.546979865771812 and parameters: {'n_estimators': 101, 'max_depth': 21, 'min_samples_split': 5, 'min_samples_leaf': 2, 'criterion': 'entropy'}. Best is trial 25 with value: 0.5618729096989967.\u001b[0m\n",
      "\u001b[32m[I 2023-03-14 20:18:30,883]\u001b[0m Trial 29 finished with value: 0.5371621621621622 and parameters: {'n_estimators': 106, 'max_depth': 25, 'min_samples_split': 4, 'min_samples_leaf': 5, 'criterion': 'gini'}. Best is trial 25 with value: 0.5618729096989967.\u001b[0m\n",
      "\u001b[32m[I 2023-03-14 20:18:31,552]\u001b[0m Trial 30 finished with value: 0.54421768707483 and parameters: {'n_estimators': 120, 'max_depth': 29, 'min_samples_split': 3, 'min_samples_leaf': 6, 'criterion': 'gini'}. Best is trial 25 with value: 0.5618729096989967.\u001b[0m\n"
     ]
    },
    {
     "name": "stderr",
     "output_type": "stream",
     "text": [
      "\u001b[32m[I 2023-03-14 20:18:32,395]\u001b[0m Trial 31 finished with value: 0.561344537815126 and parameters: {'n_estimators': 141, 'max_depth': 28, 'min_samples_split': 3, 'min_samples_leaf': 2, 'criterion': 'gini'}. Best is trial 25 with value: 0.5618729096989967.\u001b[0m\n",
      "\u001b[32m[I 2023-03-14 20:18:33,134]\u001b[0m Trial 32 finished with value: 0.5432937181663837 and parameters: {'n_estimators': 126, 'max_depth': 20, 'min_samples_split': 4, 'min_samples_leaf': 3, 'criterion': 'gini'}. Best is trial 25 with value: 0.5618729096989967.\u001b[0m\n",
      "\u001b[32m[I 2023-03-14 20:18:33,994]\u001b[0m Trial 33 finished with value: 0.5497470489038786 and parameters: {'n_estimators': 145, 'max_depth': 28, 'min_samples_split': 6, 'min_samples_leaf': 2, 'criterion': 'gini'}. Best is trial 25 with value: 0.5618729096989967.\u001b[0m\n",
      "\u001b[32m[I 2023-03-14 20:18:34,792]\u001b[0m Trial 34 finished with value: 0.545144804088586 and parameters: {'n_estimators': 139, 'max_depth': 30, 'min_samples_split': 3, 'min_samples_leaf': 4, 'criterion': 'gini'}. Best is trial 25 with value: 0.5618729096989967.\u001b[0m\n",
      "\u001b[32m[I 2023-03-14 20:18:35,724]\u001b[0m Trial 35 finished with value: 0.5561139028475712 and parameters: {'n_estimators': 139, 'max_depth': 23, 'min_samples_split': 5, 'min_samples_leaf': 3, 'criterion': 'entropy'}. Best is trial 25 with value: 0.5618729096989967.\u001b[0m\n",
      "\u001b[32m[I 2023-03-14 20:18:36,308]\u001b[0m Trial 36 finished with value: 0.5605306799336649 and parameters: {'n_estimators': 97, 'max_depth': 25, 'min_samples_split': 3, 'min_samples_leaf': 2, 'criterion': 'gini'}. Best is trial 25 with value: 0.5618729096989967.\u001b[0m\n",
      "\u001b[32m[I 2023-03-14 20:18:36,990]\u001b[0m Trial 37 finished with value: 0.5380710659898478 and parameters: {'n_estimators': 127, 'max_depth': 25, 'min_samples_split': 3, 'min_samples_leaf': 8, 'criterion': 'gini'}. Best is trial 25 with value: 0.5618729096989967.\u001b[0m\n",
      "\u001b[32m[I 2023-03-14 20:18:37,539]\u001b[0m Trial 38 finished with value: 0.5353535353535354 and parameters: {'n_estimators': 97, 'max_depth': 28, 'min_samples_split': 4, 'min_samples_leaf': 5, 'criterion': 'gini'}. Best is trial 25 with value: 0.5618729096989967.\u001b[0m\n",
      "\u001b[32m[I 2023-03-14 20:18:38,198]\u001b[0m Trial 39 finished with value: 0.5614617940199335 and parameters: {'n_estimators': 110, 'max_depth': 26, 'min_samples_split': 3, 'min_samples_leaf': 2, 'criterion': 'gini'}. Best is trial 25 with value: 0.5618729096989967.\u001b[0m\n",
      "\u001b[32m[I 2023-03-14 20:18:38,741]\u001b[0m Trial 40 finished with value: 0.5488215488215488 and parameters: {'n_estimators': 92, 'max_depth': 25, 'min_samples_split': 3, 'min_samples_leaf': 3, 'criterion': 'gini'}. Best is trial 25 with value: 0.5618729096989967.\u001b[0m\n",
      "\u001b[32m[I 2023-03-14 20:18:39,398]\u001b[0m Trial 41 finished with value: 0.5614617940199335 and parameters: {'n_estimators': 110, 'max_depth': 30, 'min_samples_split': 3, 'min_samples_leaf': 2, 'criterion': 'gini'}. Best is trial 25 with value: 0.5618729096989967.\u001b[0m\n",
      "\u001b[32m[I 2023-03-14 20:18:40,058]\u001b[0m Trial 42 finished with value: 0.5614617940199335 and parameters: {'n_estimators': 110, 'max_depth': 30, 'min_samples_split': 3, 'min_samples_leaf': 2, 'criterion': 'gini'}. Best is trial 25 with value: 0.5618729096989967.\u001b[0m\n",
      "\u001b[32m[I 2023-03-14 20:18:40,754]\u001b[0m Trial 43 finished with value: 0.5499999999999999 and parameters: {'n_estimators': 111, 'max_depth': 30, 'min_samples_split': 2, 'min_samples_leaf': 1, 'criterion': 'gini'}. Best is trial 25 with value: 0.5618729096989967.\u001b[0m\n",
      "\u001b[32m[I 2023-03-14 20:18:41,433]\u001b[0m Trial 44 finished with value: 0.5546218487394957 and parameters: {'n_estimators': 111, 'max_depth': 30, 'min_samples_split': 3, 'min_samples_leaf': 3, 'criterion': 'gini'}. Best is trial 25 with value: 0.5618729096989967.\u001b[0m\n",
      "\u001b[32m[I 2023-03-14 20:18:42,089]\u001b[0m Trial 45 finished with value: 0.5512605042016806 and parameters: {'n_estimators': 108, 'max_depth': 29, 'min_samples_split': 4, 'min_samples_leaf': 3, 'criterion': 'gini'}. Best is trial 25 with value: 0.5618729096989967.\u001b[0m\n",
      "\u001b[32m[I 2023-03-14 20:18:42,406]\u001b[0m Trial 46 finished with value: 0.10230179028132992 and parameters: {'n_estimators': 133, 'max_depth': 2, 'min_samples_split': 2, 'min_samples_leaf': 4, 'criterion': 'gini'}. Best is trial 25 with value: 0.5618729096989967.\u001b[0m\n",
      "\u001b[32m[I 2023-03-14 20:18:43,096]\u001b[0m Trial 47 finished with value: 0.5497470489038786 and parameters: {'n_estimators': 114, 'max_depth': 27, 'min_samples_split': 5, 'min_samples_leaf': 1, 'criterion': 'gini'}. Best is trial 25 with value: 0.5618729096989967.\u001b[0m\n",
      "\u001b[32m[I 2023-03-14 20:18:43,805]\u001b[0m Trial 48 finished with value: 0.5623960066555741 and parameters: {'n_estimators': 119, 'max_depth': 26, 'min_samples_split': 3, 'min_samples_leaf': 2, 'criterion': 'gini'}. Best is trial 48 with value: 0.5623960066555741.\u001b[0m\n",
      "\u001b[32m[I 2023-03-14 20:18:44,263]\u001b[0m Trial 49 finished with value: 0.5170556552962299 and parameters: {'n_estimators': 120, 'max_depth': 6, 'min_samples_split': 4, 'min_samples_leaf': 2, 'criterion': 'gini'}. Best is trial 48 with value: 0.5623960066555741.\u001b[0m\n",
      "\u001b[32m[I 2023-03-14 20:18:44,751]\u001b[0m Trial 50 finished with value: 0.5564924114671163 and parameters: {'n_estimators': 82, 'max_depth': 26, 'min_samples_split': 3, 'min_samples_leaf': 3, 'criterion': 'gini'}. Best is trial 48 with value: 0.5623960066555741.\u001b[0m\n",
      "\u001b[32m[I 2023-03-14 20:18:45,449]\u001b[0m Trial 51 finished with value: 0.5623960066555741 and parameters: {'n_estimators': 117, 'max_depth': 29, 'min_samples_split': 3, 'min_samples_leaf': 2, 'criterion': 'gini'}. Best is trial 48 with value: 0.5623960066555741.\u001b[0m\n",
      "\u001b[32m[I 2023-03-14 20:18:46,136]\u001b[0m Trial 52 finished with value: 0.5623960066555741 and parameters: {'n_estimators': 116, 'max_depth': 29, 'min_samples_split': 3, 'min_samples_leaf': 2, 'criterion': 'gini'}. Best is trial 48 with value: 0.5623960066555741.\u001b[0m\n",
      "\u001b[32m[I 2023-03-14 20:18:46,840]\u001b[0m Trial 53 finished with value: 0.5499999999999999 and parameters: {'n_estimators': 115, 'max_depth': 29, 'min_samples_split': 2, 'min_samples_leaf': 1, 'criterion': 'gini'}. Best is trial 48 with value: 0.5623960066555741.\u001b[0m\n",
      "\u001b[32m[I 2023-03-14 20:18:47,452]\u001b[0m Trial 54 finished with value: 0.5605306799336649 and parameters: {'n_estimators': 100, 'max_depth': 27, 'min_samples_split': 3, 'min_samples_leaf': 2, 'criterion': 'gini'}. Best is trial 48 with value: 0.5623960066555741.\u001b[0m\n",
      "\u001b[32m[I 2023-03-14 20:18:48,159]\u001b[0m Trial 55 finished with value: 0.5540540540540541 and parameters: {'n_estimators': 120, 'max_depth': 24, 'min_samples_split': 4, 'min_samples_leaf': 3, 'criterion': 'gini'}. Best is trial 48 with value: 0.5623960066555741.\u001b[0m\n",
      "\u001b[32m[I 2023-03-14 20:18:48,698]\u001b[0m Trial 56 finished with value: 0.5514950166112957 and parameters: {'n_estimators': 87, 'max_depth': 26, 'min_samples_split': 2, 'min_samples_leaf': 1, 'criterion': 'gini'}. Best is trial 48 with value: 0.5623960066555741.\u001b[0m\n",
      "\u001b[32m[I 2023-03-14 20:18:49,266]\u001b[0m Trial 57 finished with value: 0.5544217687074829 and parameters: {'n_estimators': 105, 'max_depth': 29, 'min_samples_split': 3, 'min_samples_leaf': 7, 'criterion': 'gini'}. Best is trial 48 with value: 0.5623960066555741.\u001b[0m\n",
      "\u001b[32m[I 2023-03-14 20:18:50,013]\u001b[0m Trial 58 finished with value: 0.5426621160409556 and parameters: {'n_estimators': 132, 'max_depth': 23, 'min_samples_split': 4, 'min_samples_leaf': 4, 'criterion': 'gini'}. Best is trial 48 with value: 0.5623960066555741.\u001b[0m\n",
      "\u001b[32m[I 2023-03-14 20:18:50,635]\u001b[0m Trial 59 finished with value: 0.5283018867924528 and parameters: {'n_estimators': 117, 'max_depth': 17, 'min_samples_split': 2, 'min_samples_leaf': 10, 'criterion': 'gini'}. Best is trial 48 with value: 0.5623960066555741.\u001b[0m\n",
      "\u001b[32m[I 2023-03-14 20:18:51,364]\u001b[0m Trial 60 finished with value: 0.5628140703517588 and parameters: {'n_estimators': 123, 'max_depth': 21, 'min_samples_split': 5, 'min_samples_leaf': 1, 'criterion': 'gini'}. Best is trial 60 with value: 0.5628140703517588.\u001b[0m\n",
      "\u001b[32m[I 2023-03-14 20:18:52,097]\u001b[0m Trial 61 finished with value: 0.563758389261745 and parameters: {'n_estimators': 124, 'max_depth': 21, 'min_samples_split': 5, 'min_samples_leaf': 1, 'criterion': 'gini'}. Best is trial 61 with value: 0.563758389261745.\u001b[0m\n",
      "\u001b[32m[I 2023-03-14 20:18:52,838]\u001b[0m Trial 62 finished with value: 0.5681063122923588 and parameters: {'n_estimators': 125, 'max_depth': 18, 'min_samples_split': 6, 'min_samples_leaf': 1, 'criterion': 'gini'}. Best is trial 62 with value: 0.5681063122923588.\u001b[0m\n"
     ]
    },
    {
     "name": "stderr",
     "output_type": "stream",
     "text": [
      "\u001b[32m[I 2023-03-14 20:18:53,599]\u001b[0m Trial 63 finished with value: 0.5570469798657719 and parameters: {'n_estimators': 128, 'max_depth': 21, 'min_samples_split': 6, 'min_samples_leaf': 1, 'criterion': 'gini'}. Best is trial 62 with value: 0.5681063122923588.\u001b[0m\n",
      "\u001b[32m[I 2023-03-14 20:18:54,334]\u001b[0m Trial 64 finished with value: 0.5575959933222037 and parameters: {'n_estimators': 123, 'max_depth': 15, 'min_samples_split': 5, 'min_samples_leaf': 1, 'criterion': 'gini'}. Best is trial 62 with value: 0.5681063122923588.\u001b[0m\n",
      "\u001b[32m[I 2023-03-14 20:18:55,269]\u001b[0m Trial 65 finished with value: 0.5417376490630323 and parameters: {'n_estimators': 135, 'max_depth': 18, 'min_samples_split': 6, 'min_samples_leaf': 1, 'criterion': 'entropy'}. Best is trial 62 with value: 0.5681063122923588.\u001b[0m\n",
      "\u001b[32m[I 2023-03-14 20:18:56,054]\u001b[0m Trial 66 finished with value: 0.5642737896494157 and parameters: {'n_estimators': 130, 'max_depth': 21, 'min_samples_split': 5, 'min_samples_leaf': 1, 'criterion': 'gini'}. Best is trial 62 with value: 0.5681063122923588.\u001b[0m\n",
      "\u001b[32m[I 2023-03-14 20:18:56,911]\u001b[0m Trial 67 finished with value: 0.5546218487394957 and parameters: {'n_estimators': 144, 'max_depth': 20, 'min_samples_split': 7, 'min_samples_leaf': 1, 'criterion': 'gini'}. Best is trial 62 with value: 0.5681063122923588.\u001b[0m\n",
      "\u001b[32m[I 2023-03-14 20:18:57,821]\u001b[0m Trial 68 finished with value: 0.559463986599665 and parameters: {'n_estimators': 150, 'max_depth': 21, 'min_samples_split': 5, 'min_samples_leaf': 1, 'criterion': 'gini'}. Best is trial 62 with value: 0.5681063122923588.\u001b[0m\n",
      "\u001b[32m[I 2023-03-14 20:18:58,613]\u001b[0m Trial 69 finished with value: 0.546979865771812 and parameters: {'n_estimators': 131, 'max_depth': 15, 'min_samples_split': 6, 'min_samples_leaf': 1, 'criterion': 'gini'}. Best is trial 62 with value: 0.5681063122923588.\u001b[0m\n",
      "\u001b[32m[I 2023-03-14 20:18:59,319]\u001b[0m Trial 70 finished with value: 0.5499999999999999 and parameters: {'n_estimators': 118, 'max_depth': 18, 'min_samples_split': 7, 'min_samples_leaf': 1, 'criterion': 'gini'}. Best is trial 62 with value: 0.5681063122923588.\u001b[0m\n",
      "\u001b[32m[I 2023-03-14 20:19:00,057]\u001b[0m Trial 71 finished with value: 0.5478991596638655 and parameters: {'n_estimators': 124, 'max_depth': 22, 'min_samples_split': 5, 'min_samples_leaf': 2, 'criterion': 'gini'}. Best is trial 62 with value: 0.5681063122923588.\u001b[0m\n",
      "\u001b[32m[I 2023-03-14 20:19:00,812]\u001b[0m Trial 72 finished with value: 0.5570469798657719 and parameters: {'n_estimators': 128, 'max_depth': 20, 'min_samples_split': 6, 'min_samples_leaf': 2, 'criterion': 'gini'}. Best is trial 62 with value: 0.5681063122923588.\u001b[0m\n",
      "\u001b[32m[I 2023-03-14 20:19:01,627]\u001b[0m Trial 73 finished with value: 0.5579831932773109 and parameters: {'n_estimators': 136, 'max_depth': 23, 'min_samples_split': 5, 'min_samples_leaf': 1, 'criterion': 'gini'}. Best is trial 62 with value: 0.5681063122923588.\u001b[0m\n",
      "\u001b[32m[I 2023-03-14 20:19:02,353]\u001b[0m Trial 74 finished with value: 0.5579831932773109 and parameters: {'n_estimators': 123, 'max_depth': 18, 'min_samples_split': 4, 'min_samples_leaf': 2, 'criterion': 'gini'}. Best is trial 62 with value: 0.5681063122923588.\u001b[0m\n",
      "\u001b[32m[I 2023-03-14 20:19:03,161]\u001b[0m Trial 75 finished with value: 0.5533333333333332 and parameters: {'n_estimators': 115, 'max_depth': 22, 'min_samples_split': 5, 'min_samples_leaf': 1, 'criterion': 'entropy'}. Best is trial 62 with value: 0.5681063122923588.\u001b[0m\n",
      "\u001b[32m[I 2023-03-14 20:19:03,918]\u001b[0m Trial 76 finished with value: 0.546979865771812 and parameters: {'n_estimators': 130, 'max_depth': 21, 'min_samples_split': 6, 'min_samples_leaf': 2, 'criterion': 'gini'}. Best is trial 62 with value: 0.5681063122923588.\u001b[0m\n",
      "\u001b[32m[I 2023-03-14 20:19:04,678]\u001b[0m Trial 77 finished with value: 0.549828178694158 and parameters: {'n_estimators': 142, 'max_depth': 24, 'min_samples_split': 4, 'min_samples_leaf': 9, 'criterion': 'gini'}. Best is trial 62 with value: 0.5681063122923588.\u001b[0m\n",
      "\u001b[32m[I 2023-03-14 20:19:05,392]\u001b[0m Trial 78 finished with value: 0.5568760611205433 and parameters: {'n_estimators': 125, 'max_depth': 13, 'min_samples_split': 6, 'min_samples_leaf': 2, 'criterion': 'gini'}. Best is trial 62 with value: 0.5681063122923588.\u001b[0m\n",
      "\u001b[32m[I 2023-03-14 20:19:06,203]\u001b[0m Trial 79 finished with value: 0.5561139028475712 and parameters: {'n_estimators': 135, 'max_depth': 20, 'min_samples_split': 5, 'min_samples_leaf': 1, 'criterion': 'gini'}. Best is trial 62 with value: 0.5681063122923588.\u001b[0m\n",
      "\u001b[32m[I 2023-03-14 20:19:06,924]\u001b[0m Trial 80 finished with value: 0.5506756756756757 and parameters: {'n_estimators': 121, 'max_depth': 19, 'min_samples_split': 4, 'min_samples_leaf': 2, 'criterion': 'gini'}. Best is trial 62 with value: 0.5681063122923588.\u001b[0m\n",
      "\u001b[32m[I 2023-03-14 20:19:07,602]\u001b[0m Trial 81 finished with value: 0.5585284280936454 and parameters: {'n_estimators': 113, 'max_depth': 22, 'min_samples_split': 4, 'min_samples_leaf': 2, 'criterion': 'gini'}. Best is trial 62 with value: 0.5681063122923588.\u001b[0m\n",
      "\u001b[32m[I 2023-03-14 20:19:08,327]\u001b[0m Trial 82 finished with value: 0.5546218487394957 and parameters: {'n_estimators': 117, 'max_depth': 26, 'min_samples_split': 3, 'min_samples_leaf': 1, 'criterion': 'gini'}. Best is trial 62 with value: 0.5681063122923588.\u001b[0m\n",
      "\u001b[32m[I 2023-03-14 20:19:08,964]\u001b[0m Trial 83 finished with value: 0.5503355704697988 and parameters: {'n_estimators': 108, 'max_depth': 24, 'min_samples_split': 3, 'min_samples_leaf': 3, 'criterion': 'gini'}. Best is trial 62 with value: 0.5681063122923588.\u001b[0m\n",
      "\u001b[32m[I 2023-03-14 20:19:09,710]\u001b[0m Trial 84 finished with value: 0.5482233502538071 and parameters: {'n_estimators': 127, 'max_depth': 27, 'min_samples_split': 5, 'min_samples_leaf': 2, 'criterion': 'gini'}. Best is trial 62 with value: 0.5681063122923588.\u001b[0m\n",
      "\u001b[32m[I 2023-03-14 20:19:10,335]\u001b[0m Trial 85 finished with value: 0.5506756756756757 and parameters: {'n_estimators': 105, 'max_depth': 25, 'min_samples_split': 5, 'min_samples_leaf': 3, 'criterion': 'gini'}. Best is trial 62 with value: 0.5681063122923588.\u001b[0m\n",
      "\u001b[32m[I 2023-03-14 20:19:10,861]\u001b[0m Trial 86 finished with value: 0.561344537815126 and parameters: {'n_estimators': 74, 'max_depth': 23, 'min_samples_split': 4, 'min_samples_leaf': 2, 'criterion': 'entropy'}. Best is trial 62 with value: 0.5681063122923588.\u001b[0m\n",
      "\u001b[32m[I 2023-03-14 20:19:11,251]\u001b[0m Trial 87 finished with value: 0.5553719008264463 and parameters: {'n_estimators': 61, 'max_depth': 28, 'min_samples_split': 3, 'min_samples_leaf': 1, 'criterion': 'gini'}. Best is trial 62 with value: 0.5681063122923588.\u001b[0m\n",
      "\u001b[32m[I 2023-03-14 20:19:11,910]\u001b[0m Trial 88 finished with value: 0.547008547008547 and parameters: {'n_estimators': 119, 'max_depth': 17, 'min_samples_split': 6, 'min_samples_leaf': 6, 'criterion': 'gini'}. Best is trial 62 with value: 0.5681063122923588.\u001b[0m\n",
      "\u001b[32m[I 2023-03-14 20:19:12,596]\u001b[0m Trial 89 finished with value: 0.5590682196339434 and parameters: {'n_estimators': 113, 'max_depth': 27, 'min_samples_split': 4, 'min_samples_leaf': 2, 'criterion': 'gini'}. Best is trial 62 with value: 0.5681063122923588.\u001b[0m\n",
      "\u001b[32m[I 2023-03-14 20:19:13,462]\u001b[0m Trial 90 finished with value: 0.5527638190954773 and parameters: {'n_estimators': 139, 'max_depth': 29, 'min_samples_split': 3, 'min_samples_leaf': 1, 'criterion': 'gini'}. Best is trial 62 with value: 0.5681063122923588.\u001b[0m\n",
      "\u001b[32m[I 2023-03-14 20:19:14,090]\u001b[0m Trial 91 finished with value: 0.5623960066555741 and parameters: {'n_estimators': 102, 'max_depth': 30, 'min_samples_split': 3, 'min_samples_leaf': 2, 'criterion': 'gini'}. Best is trial 62 with value: 0.5681063122923588.\u001b[0m\n",
      "\u001b[32m[I 2023-03-14 20:19:14,668]\u001b[0m Trial 92 finished with value: 0.5590682196339434 and parameters: {'n_estimators': 94, 'max_depth': 28, 'min_samples_split': 2, 'min_samples_leaf': 2, 'criterion': 'gini'}. Best is trial 62 with value: 0.5681063122923588.\u001b[0m\n",
      "\u001b[32m[I 2023-03-14 20:19:15,294]\u001b[0m Trial 93 finished with value: 0.5623960066555741 and parameters: {'n_estimators': 102, 'max_depth': 29, 'min_samples_split': 3, 'min_samples_leaf': 2, 'criterion': 'gini'}. Best is trial 62 with value: 0.5681063122923588.\u001b[0m\n",
      "\u001b[32m[I 2023-03-14 20:19:16,035]\u001b[0m Trial 94 finished with value: 0.5642737896494157 and parameters: {'n_estimators': 124, 'max_depth': 29, 'min_samples_split': 3, 'min_samples_leaf': 2, 'criterion': 'gini'}. Best is trial 62 with value: 0.5681063122923588.\u001b[0m\n"
     ]
    },
    {
     "name": "stderr",
     "output_type": "stream",
     "text": [
      "\u001b[32m[I 2023-03-14 20:19:16,650]\u001b[0m Trial 95 finished with value: 0.5531197301854975 and parameters: {'n_estimators': 103, 'max_depth': 29, 'min_samples_split': 2, 'min_samples_leaf': 3, 'criterion': 'gini'}. Best is trial 62 with value: 0.5681063122923588.\u001b[0m\n",
      "\u001b[32m[I 2023-03-14 20:19:17,256]\u001b[0m Trial 96 finished with value: 0.5509181969949917 and parameters: {'n_estimators': 100, 'max_depth': 30, 'min_samples_split': 8, 'min_samples_leaf': 1, 'criterion': 'gini'}. Best is trial 62 with value: 0.5681063122923588.\u001b[0m\n",
      "\u001b[32m[I 2023-03-14 20:19:17,798]\u001b[0m Trial 97 finished with value: 0.5572139303482587 and parameters: {'n_estimators': 89, 'max_depth': 29, 'min_samples_split': 3, 'min_samples_leaf': 2, 'criterion': 'gini'}. Best is trial 62 with value: 0.5681063122923588.\u001b[0m\n",
      "\u001b[32m[I 2023-03-14 20:19:18,538]\u001b[0m Trial 98 finished with value: 0.5494137353433836 and parameters: {'n_estimators': 122, 'max_depth': 30, 'min_samples_split': 3, 'min_samples_leaf': 1, 'criterion': 'gini'}. Best is trial 62 with value: 0.5681063122923588.\u001b[0m\n",
      "\u001b[32m[I 2023-03-14 20:19:19,295]\u001b[0m Trial 99 finished with value: 0.5408163265306123 and parameters: {'n_estimators': 129, 'max_depth': 28, 'min_samples_split': 7, 'min_samples_leaf': 3, 'criterion': 'gini'}. Best is trial 62 with value: 0.5681063122923588.\u001b[0m\n",
      "\u001b[32m[I 2023-03-14 20:19:20,129]\u001b[0m Trial 100 finished with value: 0.5604026845637583 and parameters: {'n_estimators': 117, 'max_depth': 28, 'min_samples_split': 2, 'min_samples_leaf': 1, 'criterion': 'entropy'}. Best is trial 62 with value: 0.5681063122923588.\u001b[0m\n",
      "\u001b[32m[I 2023-03-14 20:19:20,861]\u001b[0m Trial 101 finished with value: 0.5362563237774031 and parameters: {'n_estimators': 125, 'max_depth': 16, 'min_samples_split': 3, 'min_samples_leaf': 2, 'criterion': 'gini'}. Best is trial 62 with value: 0.5681063122923588.\u001b[0m\n",
      "\u001b[32m[I 2023-03-14 20:19:21,652]\u001b[0m Trial 102 finished with value: 0.5618729096989967 and parameters: {'n_estimators': 133, 'max_depth': 27, 'min_samples_split': 3, 'min_samples_leaf': 2, 'criterion': 'gini'}. Best is trial 62 with value: 0.5681063122923588.\u001b[0m\n",
      "\u001b[32m[I 2023-03-14 20:19:22,364]\u001b[0m Trial 103 finished with value: 0.5633333333333334 and parameters: {'n_estimators': 121, 'max_depth': 29, 'min_samples_split': 3, 'min_samples_leaf': 2, 'criterion': 'gini'}. Best is trial 62 with value: 0.5681063122923588.\u001b[0m\n",
      "\u001b[32m[I 2023-03-14 20:19:23,056]\u001b[0m Trial 104 finished with value: 0.5497470489038786 and parameters: {'n_estimators': 115, 'max_depth': 29, 'min_samples_split': 3, 'min_samples_leaf': 1, 'criterion': 'gini'}. Best is trial 62 with value: 0.5681063122923588.\u001b[0m\n",
      "\u001b[32m[I 2023-03-14 20:19:23,253]\u001b[0m Trial 105 finished with value: 0.5378151260504201 and parameters: {'n_estimators': 30, 'max_depth': 30, 'min_samples_split': 3, 'min_samples_leaf': 3, 'criterion': 'gini'}. Best is trial 62 with value: 0.5681063122923588.\u001b[0m\n",
      "\u001b[32m[I 2023-03-14 20:19:23,973]\u001b[0m Trial 106 finished with value: 0.5633333333333334 and parameters: {'n_estimators': 122, 'max_depth': 29, 'min_samples_split': 2, 'min_samples_leaf': 2, 'criterion': 'gini'}. Best is trial 62 with value: 0.5681063122923588.\u001b[0m\n",
      "\u001b[32m[I 2023-03-14 20:19:24,620]\u001b[0m Trial 107 finished with value: 0.5463917525773195 and parameters: {'n_estimators': 121, 'max_depth': 11, 'min_samples_split': 2, 'min_samples_leaf': 2, 'criterion': 'gini'}. Best is trial 62 with value: 0.5681063122923588.\u001b[0m\n",
      "\u001b[32m[I 2023-03-14 20:19:25,405]\u001b[0m Trial 108 finished with value: 0.5463743676222598 and parameters: {'n_estimators': 130, 'max_depth': 19, 'min_samples_split': 2, 'min_samples_leaf': 1, 'criterion': 'gini'}. Best is trial 62 with value: 0.5681063122923588.\u001b[0m\n",
      "\u001b[32m[I 2023-03-14 20:19:26,148]\u001b[0m Trial 109 finished with value: 0.563758389261745 and parameters: {'n_estimators': 126, 'max_depth': 26, 'min_samples_split': 2, 'min_samples_leaf': 2, 'criterion': 'gini'}. Best is trial 62 with value: 0.5681063122923588.\u001b[0m\n",
      "\u001b[32m[I 2023-03-14 20:19:26,908]\u001b[0m Trial 110 finished with value: 0.5488215488215488 and parameters: {'n_estimators': 126, 'max_depth': 26, 'min_samples_split': 2, 'min_samples_leaf': 1, 'criterion': 'gini'}. Best is trial 62 with value: 0.5681063122923588.\u001b[0m\n",
      "\u001b[32m[I 2023-03-14 20:19:27,620]\u001b[0m Trial 111 finished with value: 0.5647840531561462 and parameters: {'n_estimators': 118, 'max_depth': 30, 'min_samples_split': 2, 'min_samples_leaf': 2, 'criterion': 'gini'}. Best is trial 62 with value: 0.5681063122923588.\u001b[0m\n",
      "\u001b[32m[I 2023-03-14 20:19:28,358]\u001b[0m Trial 112 finished with value: 0.5633333333333334 and parameters: {'n_estimators': 122, 'max_depth': 28, 'min_samples_split': 2, 'min_samples_leaf': 2, 'criterion': 'gini'}. Best is trial 62 with value: 0.5681063122923588.\u001b[0m\n",
      "\u001b[32m[I 2023-03-14 20:19:29,108]\u001b[0m Trial 113 finished with value: 0.5609348914858097 and parameters: {'n_estimators': 123, 'max_depth': 27, 'min_samples_split': 2, 'min_samples_leaf': 2, 'criterion': 'gini'}. Best is trial 62 with value: 0.5681063122923588.\u001b[0m\n",
      "\u001b[32m[I 2023-03-14 20:19:29,834]\u001b[0m Trial 114 finished with value: 0.5531197301854975 and parameters: {'n_estimators': 120, 'max_depth': 28, 'min_samples_split': 2, 'min_samples_leaf': 3, 'criterion': 'gini'}. Best is trial 62 with value: 0.5681063122923588.\u001b[0m\n",
      "\u001b[32m[I 2023-03-14 20:19:30,671]\u001b[0m Trial 115 finished with value: 0.5618729096989967 and parameters: {'n_estimators': 133, 'max_depth': 28, 'min_samples_split': 2, 'min_samples_leaf': 2, 'criterion': 'gini'}. Best is trial 62 with value: 0.5681063122923588.\u001b[0m\n",
      "\u001b[32m[I 2023-03-14 20:19:31,454]\u001b[0m Trial 116 finished with value: 0.5527638190954773 and parameters: {'n_estimators': 127, 'max_depth': 25, 'min_samples_split': 2, 'min_samples_leaf': 1, 'criterion': 'gini'}. Best is trial 62 with value: 0.5681063122923588.\u001b[0m\n",
      "\u001b[32m[I 2023-03-14 20:19:32,171]\u001b[0m Trial 117 finished with value: 0.5647840531561462 and parameters: {'n_estimators': 118, 'max_depth': 26, 'min_samples_split': 2, 'min_samples_leaf': 2, 'criterion': 'gini'}. Best is trial 62 with value: 0.5681063122923588.\u001b[0m\n",
      "\u001b[32m[I 2023-03-14 20:19:32,904]\u001b[0m Trial 118 finished with value: 0.5525423728813559 and parameters: {'n_estimators': 124, 'max_depth': 26, 'min_samples_split': 2, 'min_samples_leaf': 3, 'criterion': 'gini'}. Best is trial 62 with value: 0.5681063122923588.\u001b[0m\n",
      "\u001b[32m[I 2023-03-14 20:19:33,745]\u001b[0m Trial 119 finished with value: 0.5499999999999999 and parameters: {'n_estimators': 137, 'max_depth': 21, 'min_samples_split': 2, 'min_samples_leaf': 1, 'criterion': 'gini'}. Best is trial 62 with value: 0.5681063122923588.\u001b[0m\n",
      "\u001b[32m[I 2023-03-14 20:19:34,415]\u001b[0m Trial 120 finished with value: 0.5598650927487353 and parameters: {'n_estimators': 112, 'max_depth': 14, 'min_samples_split': 2, 'min_samples_leaf': 2, 'criterion': 'gini'}. Best is trial 62 with value: 0.5681063122923588.\u001b[0m\n",
      "\u001b[32m[I 2023-03-14 20:19:35,139]\u001b[0m Trial 121 finished with value: 0.5623960066555741 and parameters: {'n_estimators': 119, 'max_depth': 27, 'min_samples_split': 2, 'min_samples_leaf': 2, 'criterion': 'gini'}. Best is trial 62 with value: 0.5681063122923588.\u001b[0m\n",
      "\u001b[32m[I 2023-03-14 20:19:35,909]\u001b[0m Trial 122 finished with value: 0.5633333333333334 and parameters: {'n_estimators': 131, 'max_depth': 29, 'min_samples_split': 2, 'min_samples_leaf': 2, 'criterion': 'gini'}. Best is trial 62 with value: 0.5681063122923588.\u001b[0m\n",
      "\u001b[32m[I 2023-03-14 20:19:36,680]\u001b[0m Trial 123 finished with value: 0.5599999999999999 and parameters: {'n_estimators': 130, 'max_depth': 29, 'min_samples_split': 2, 'min_samples_leaf': 2, 'criterion': 'gini'}. Best is trial 62 with value: 0.5681063122923588.\u001b[0m\n",
      "\u001b[32m[I 2023-03-14 20:19:37,408]\u001b[0m Trial 124 finished with value: 0.5436241610738254 and parameters: {'n_estimators': 122, 'max_depth': 20, 'min_samples_split': 2, 'min_samples_leaf': 2, 'criterion': 'gini'}. Best is trial 62 with value: 0.5681063122923588.\u001b[0m\n",
      "\u001b[32m[I 2023-03-14 20:19:38,176]\u001b[0m Trial 125 finished with value: 0.5527638190954773 and parameters: {'n_estimators': 127, 'max_depth': 25, 'min_samples_split': 2, 'min_samples_leaf': 1, 'criterion': 'gini'}. Best is trial 62 with value: 0.5681063122923588.\u001b[0m\n",
      "\u001b[32m[I 2023-03-14 20:19:39,067]\u001b[0m Trial 126 finished with value: 0.5518394648829431 and parameters: {'n_estimators': 133, 'max_depth': 28, 'min_samples_split': 2, 'min_samples_leaf': 3, 'criterion': 'entropy'}. Best is trial 62 with value: 0.5681063122923588.\u001b[0m\n"
     ]
    },
    {
     "name": "stderr",
     "output_type": "stream",
     "text": [
      "\u001b[32m[I 2023-03-14 20:19:39,799]\u001b[0m Trial 127 finished with value: 0.5482233502538071 and parameters: {'n_estimators': 125, 'max_depth': 24, 'min_samples_split': 7, 'min_samples_leaf': 2, 'criterion': 'gini'}. Best is trial 62 with value: 0.5681063122923588.\u001b[0m\n",
      "\u001b[32m[I 2023-03-14 20:19:40,219]\u001b[0m Trial 128 finished with value: 0.5090252707581226 and parameters: {'n_estimators': 108, 'max_depth': 6, 'min_samples_split': 2, 'min_samples_leaf': 1, 'criterion': 'gini'}. Best is trial 62 with value: 0.5681063122923588.\u001b[0m\n",
      "\u001b[32m[I 2023-03-14 20:19:40,930]\u001b[0m Trial 129 finished with value: 0.5596026490066225 and parameters: {'n_estimators': 119, 'max_depth': 22, 'min_samples_split': 2, 'min_samples_leaf': 2, 'criterion': 'gini'}. Best is trial 62 with value: 0.5681063122923588.\u001b[0m\n",
      "\u001b[32m[I 2023-03-14 20:19:41,788]\u001b[0m Trial 130 finished with value: 0.559463986599665 and parameters: {'n_estimators': 142, 'max_depth': 30, 'min_samples_split': 5, 'min_samples_leaf': 1, 'criterion': 'gini'}. Best is trial 62 with value: 0.5681063122923588.\u001b[0m\n",
      "\u001b[32m[I 2023-03-14 20:19:42,472]\u001b[0m Trial 131 finished with value: 0.5623960066555741 and parameters: {'n_estimators': 116, 'max_depth': 29, 'min_samples_split': 2, 'min_samples_leaf': 2, 'criterion': 'gini'}. Best is trial 62 with value: 0.5681063122923588.\u001b[0m\n",
      "\u001b[32m[I 2023-03-14 20:19:43,222]\u001b[0m Trial 132 finished with value: 0.5618729096989967 and parameters: {'n_estimators': 129, 'max_depth': 26, 'min_samples_split': 2, 'min_samples_leaf': 2, 'criterion': 'gini'}. Best is trial 62 with value: 0.5681063122923588.\u001b[0m\n",
      "\u001b[32m[I 2023-03-14 20:19:43,933]\u001b[0m Trial 133 finished with value: 0.5478991596638655 and parameters: {'n_estimators': 122, 'max_depth': 27, 'min_samples_split': 10, 'min_samples_leaf': 2, 'criterion': 'gini'}. Best is trial 62 with value: 0.5681063122923588.\u001b[0m\n",
      "\u001b[32m[I 2023-03-14 20:19:44,645]\u001b[0m Trial 134 finished with value: 0.5454545454545455 and parameters: {'n_estimators': 118, 'max_depth': 30, 'min_samples_split': 5, 'min_samples_leaf': 2, 'criterion': 'gini'}. Best is trial 62 with value: 0.5681063122923588.\u001b[0m\n",
      "\u001b[32m[I 2023-03-14 20:19:45,382]\u001b[0m Trial 135 finished with value: 0.5525423728813559 and parameters: {'n_estimators': 124, 'max_depth': 29, 'min_samples_split': 2, 'min_samples_leaf': 3, 'criterion': 'gini'}. Best is trial 62 with value: 0.5681063122923588.\u001b[0m\n",
      "\u001b[32m[I 2023-03-14 20:19:46,097]\u001b[0m Trial 136 finished with value: 0.5521885521885521 and parameters: {'n_estimators': 114, 'max_depth': 28, 'min_samples_split': 3, 'min_samples_leaf': 1, 'criterion': 'gini'}. Best is trial 62 with value: 0.5681063122923588.\u001b[0m\n",
      "\u001b[32m[I 2023-03-14 20:19:46,920]\u001b[0m Trial 137 finished with value: 0.5536912751677852 and parameters: {'n_estimators': 135, 'max_depth': 18, 'min_samples_split': 3, 'min_samples_leaf': 2, 'criterion': 'gini'}. Best is trial 62 with value: 0.5681063122923588.\u001b[0m\n",
      "\u001b[32m[I 2023-03-14 20:19:47,680]\u001b[0m Trial 138 finished with value: 0.5408163265306123 and parameters: {'n_estimators': 131, 'max_depth': 23, 'min_samples_split': 8, 'min_samples_leaf': 4, 'criterion': 'gini'}. Best is trial 62 with value: 0.5681063122923588.\u001b[0m\n",
      "\u001b[32m[I 2023-03-14 20:19:48,436]\u001b[0m Trial 139 finished with value: 0.546979865771812 and parameters: {'n_estimators': 127, 'max_depth': 29, 'min_samples_split': 6, 'min_samples_leaf': 2, 'criterion': 'gini'}. Best is trial 62 with value: 0.5681063122923588.\u001b[0m\n",
      "\u001b[32m[I 2023-03-14 20:19:49,172]\u001b[0m Trial 140 finished with value: 0.5704918032786886 and parameters: {'n_estimators': 120, 'max_depth': 27, 'min_samples_split': 4, 'min_samples_leaf': 1, 'criterion': 'gini'}. Best is trial 140 with value: 0.5704918032786886.\u001b[0m\n",
      "\u001b[32m[I 2023-03-14 20:19:49,916]\u001b[0m Trial 141 finished with value: 0.568144499178982 and parameters: {'n_estimators': 121, 'max_depth': 27, 'min_samples_split': 4, 'min_samples_leaf': 1, 'criterion': 'gini'}. Best is trial 140 with value: 0.5704918032786886.\u001b[0m\n",
      "\u001b[32m[I 2023-03-14 20:19:50,660]\u001b[0m Trial 142 finished with value: 0.568144499178982 and parameters: {'n_estimators': 121, 'max_depth': 27, 'min_samples_split': 4, 'min_samples_leaf': 1, 'criterion': 'gini'}. Best is trial 140 with value: 0.5704918032786886.\u001b[0m\n",
      "\u001b[32m[I 2023-03-14 20:19:51,399]\u001b[0m Trial 143 finished with value: 0.568144499178982 and parameters: {'n_estimators': 121, 'max_depth': 27, 'min_samples_split': 4, 'min_samples_leaf': 1, 'criterion': 'gini'}. Best is trial 140 with value: 0.5704918032786886.\u001b[0m\n",
      "\u001b[32m[I 2023-03-14 20:19:52,135]\u001b[0m Trial 144 finished with value: 0.5704918032786886 and parameters: {'n_estimators': 120, 'max_depth': 28, 'min_samples_split': 4, 'min_samples_leaf': 1, 'criterion': 'gini'}. Best is trial 140 with value: 0.5704918032786886.\u001b[0m\n",
      "\u001b[32m[I 2023-03-14 20:19:52,879]\u001b[0m Trial 145 finished with value: 0.5667215815485996 and parameters: {'n_estimators': 122, 'max_depth': 27, 'min_samples_split': 4, 'min_samples_leaf': 1, 'criterion': 'gini'}. Best is trial 140 with value: 0.5704918032786886.\u001b[0m\n",
      "\u001b[32m[I 2023-03-14 20:19:53,609]\u001b[0m Trial 146 finished with value: 0.5704918032786886 and parameters: {'n_estimators': 120, 'max_depth': 27, 'min_samples_split': 4, 'min_samples_leaf': 1, 'criterion': 'gini'}. Best is trial 140 with value: 0.5704918032786886.\u001b[0m\n",
      "\u001b[32m[I 2023-03-14 20:19:54,326]\u001b[0m Trial 147 finished with value: 0.5615763546798029 and parameters: {'n_estimators': 117, 'max_depth': 26, 'min_samples_split': 4, 'min_samples_leaf': 1, 'criterion': 'gini'}. Best is trial 140 with value: 0.5704918032786886.\u001b[0m\n",
      "\u001b[32m[I 2023-03-14 20:19:55,113]\u001b[0m Trial 148 finished with value: 0.5536912751677852 and parameters: {'n_estimators': 112, 'max_depth': 27, 'min_samples_split': 4, 'min_samples_leaf': 1, 'criterion': 'entropy'}. Best is trial 140 with value: 0.5704918032786886.\u001b[0m\n",
      "\u001b[32m[I 2023-03-14 20:19:55,850]\u001b[0m Trial 149 finished with value: 0.5634266886326195 and parameters: {'n_estimators': 120, 'max_depth': 25, 'min_samples_split': 4, 'min_samples_leaf': 1, 'criterion': 'gini'}. Best is trial 140 with value: 0.5704918032786886.\u001b[0m\n",
      "\u001b[32m[I 2023-03-14 20:19:56,544]\u001b[0m Trial 150 finished with value: 0.5610561056105611 and parameters: {'n_estimators': 115, 'max_depth': 25, 'min_samples_split': 4, 'min_samples_leaf': 1, 'criterion': 'gini'}. Best is trial 140 with value: 0.5704918032786886.\u001b[0m\n",
      "\u001b[32m[I 2023-03-14 20:19:57,260]\u001b[0m Trial 151 finished with value: 0.5704918032786886 and parameters: {'n_estimators': 120, 'max_depth': 27, 'min_samples_split': 4, 'min_samples_leaf': 1, 'criterion': 'gini'}. Best is trial 140 with value: 0.5704918032786886.\u001b[0m\n",
      "\u001b[32m[I 2023-03-14 20:19:57,977]\u001b[0m Trial 152 finished with value: 0.568144499178982 and parameters: {'n_estimators': 119, 'max_depth': 27, 'min_samples_split': 4, 'min_samples_leaf': 1, 'criterion': 'gini'}. Best is trial 140 with value: 0.5704918032786886.\u001b[0m\n",
      "\u001b[32m[I 2023-03-14 20:19:58,733]\u001b[0m Trial 153 finished with value: 0.5676567656765676 and parameters: {'n_estimators': 125, 'max_depth': 27, 'min_samples_split': 4, 'min_samples_leaf': 1, 'criterion': 'gini'}. Best is trial 140 with value: 0.5704918032786886.\u001b[0m\n",
      "\u001b[32m[I 2023-03-14 20:19:59,439]\u001b[0m Trial 154 finished with value: 0.5662847790507365 and parameters: {'n_estimators': 118, 'max_depth': 27, 'min_samples_split': 4, 'min_samples_leaf': 1, 'criterion': 'gini'}. Best is trial 140 with value: 0.5704918032786886.\u001b[0m\n",
      "\u001b[32m[I 2023-03-14 20:20:00,154]\u001b[0m Trial 155 finished with value: 0.5662847790507365 and parameters: {'n_estimators': 118, 'max_depth': 27, 'min_samples_split': 4, 'min_samples_leaf': 1, 'criterion': 'gini'}. Best is trial 140 with value: 0.5704918032786886.\u001b[0m\n",
      "\u001b[32m[I 2023-03-14 20:20:00,843]\u001b[0m Trial 156 finished with value: 0.5634266886326195 and parameters: {'n_estimators': 110, 'max_depth': 27, 'min_samples_split': 4, 'min_samples_leaf': 1, 'criterion': 'gini'}. Best is trial 140 with value: 0.5704918032786886.\u001b[0m\n",
      "\u001b[32m[I 2023-03-14 20:20:01,553]\u001b[0m Trial 157 finished with value: 0.5634266886326195 and parameters: {'n_estimators': 114, 'max_depth': 27, 'min_samples_split': 4, 'min_samples_leaf': 1, 'criterion': 'gini'}. Best is trial 140 with value: 0.5704918032786886.\u001b[0m\n"
     ]
    },
    {
     "name": "stderr",
     "output_type": "stream",
     "text": [
      "\u001b[32m[I 2023-03-14 20:20:02,293]\u001b[0m Trial 158 finished with value: 0.5662847790507365 and parameters: {'n_estimators': 118, 'max_depth': 27, 'min_samples_split': 4, 'min_samples_leaf': 1, 'criterion': 'gini'}. Best is trial 140 with value: 0.5704918032786886.\u001b[0m\n",
      "\u001b[32m[I 2023-03-14 20:20:03,023]\u001b[0m Trial 159 finished with value: 0.5662847790507365 and parameters: {'n_estimators': 118, 'max_depth': 26, 'min_samples_split': 4, 'min_samples_leaf': 1, 'criterion': 'gini'}. Best is trial 140 with value: 0.5704918032786886.\u001b[0m\n",
      "\u001b[32m[I 2023-03-14 20:20:03,675]\u001b[0m Trial 160 finished with value: 0.5610561056105611 and parameters: {'n_estimators': 107, 'max_depth': 27, 'min_samples_split': 4, 'min_samples_leaf': 1, 'criterion': 'gini'}. Best is trial 140 with value: 0.5704918032786886.\u001b[0m\n",
      "\u001b[32m[I 2023-03-14 20:20:04,392]\u001b[0m Trial 161 finished with value: 0.568144499178982 and parameters: {'n_estimators': 119, 'max_depth': 26, 'min_samples_split': 4, 'min_samples_leaf': 1, 'criterion': 'gini'}. Best is trial 140 with value: 0.5704918032786886.\u001b[0m\n",
      "\u001b[32m[I 2023-03-14 20:20:05,092]\u001b[0m Trial 162 finished with value: 0.5624999999999999 and parameters: {'n_estimators': 116, 'max_depth': 26, 'min_samples_split': 4, 'min_samples_leaf': 1, 'criterion': 'gini'}. Best is trial 140 with value: 0.5704918032786886.\u001b[0m\n",
      "\u001b[32m[I 2023-03-14 20:20:05,806]\u001b[0m Trial 163 finished with value: 0.5704918032786886 and parameters: {'n_estimators': 120, 'max_depth': 27, 'min_samples_split': 4, 'min_samples_leaf': 1, 'criterion': 'gini'}. Best is trial 140 with value: 0.5704918032786886.\u001b[0m\n",
      "\u001b[32m[I 2023-03-14 20:20:06,472]\u001b[0m Trial 164 finished with value: 0.5596026490066225 and parameters: {'n_estimators': 111, 'max_depth': 27, 'min_samples_split': 4, 'min_samples_leaf': 1, 'criterion': 'gini'}. Best is trial 140 with value: 0.5704918032786886.\u001b[0m\n",
      "\u001b[32m[I 2023-03-14 20:20:07,194]\u001b[0m Trial 165 finished with value: 0.5704918032786886 and parameters: {'n_estimators': 120, 'max_depth': 27, 'min_samples_split': 4, 'min_samples_leaf': 1, 'criterion': 'gini'}. Best is trial 140 with value: 0.5704918032786886.\u001b[0m\n",
      "\u001b[32m[I 2023-03-14 20:20:07,915]\u001b[0m Trial 166 finished with value: 0.5704918032786886 and parameters: {'n_estimators': 120, 'max_depth': 27, 'min_samples_split': 4, 'min_samples_leaf': 1, 'criterion': 'gini'}. Best is trial 140 with value: 0.5704918032786886.\u001b[0m\n",
      "\u001b[32m[I 2023-03-14 20:20:08,646]\u001b[0m Trial 167 finished with value: 0.568144499178982 and parameters: {'n_estimators': 121, 'max_depth': 28, 'min_samples_split': 4, 'min_samples_leaf': 1, 'criterion': 'gini'}. Best is trial 140 with value: 0.5704918032786886.\u001b[0m\n",
      "\u001b[32m[I 2023-03-14 20:20:09,384]\u001b[0m Trial 168 finished with value: 0.568144499178982 and parameters: {'n_estimators': 121, 'max_depth': 28, 'min_samples_split': 4, 'min_samples_leaf': 1, 'criterion': 'gini'}. Best is trial 140 with value: 0.5704918032786886.\u001b[0m\n",
      "\u001b[32m[I 2023-03-14 20:20:10,114]\u001b[0m Trial 169 finished with value: 0.568144499178982 and parameters: {'n_estimators': 121, 'max_depth': 28, 'min_samples_split': 4, 'min_samples_leaf': 1, 'criterion': 'gini'}. Best is trial 140 with value: 0.5704918032786886.\u001b[0m\n",
      "\u001b[32m[I 2023-03-14 20:20:10,870]\u001b[0m Trial 170 finished with value: 0.5676567656765676 and parameters: {'n_estimators': 125, 'max_depth': 28, 'min_samples_split': 4, 'min_samples_leaf': 1, 'criterion': 'gini'}. Best is trial 140 with value: 0.5704918032786886.\u001b[0m\n",
      "\u001b[32m[I 2023-03-14 20:20:11,596]\u001b[0m Trial 171 finished with value: 0.568144499178982 and parameters: {'n_estimators': 121, 'max_depth': 28, 'min_samples_split': 4, 'min_samples_leaf': 1, 'criterion': 'gini'}. Best is trial 140 with value: 0.5704918032786886.\u001b[0m\n",
      "\u001b[32m[I 2023-03-14 20:20:12,319]\u001b[0m Trial 172 finished with value: 0.568144499178982 and parameters: {'n_estimators': 121, 'max_depth': 28, 'min_samples_split': 4, 'min_samples_leaf': 1, 'criterion': 'gini'}. Best is trial 140 with value: 0.5704918032786886.\u001b[0m\n",
      "\u001b[32m[I 2023-03-14 20:20:13,047]\u001b[0m Trial 173 finished with value: 0.568144499178982 and parameters: {'n_estimators': 121, 'max_depth': 28, 'min_samples_split': 4, 'min_samples_leaf': 1, 'criterion': 'gini'}. Best is trial 140 with value: 0.5704918032786886.\u001b[0m\n",
      "\u001b[32m[I 2023-03-14 20:20:13,764]\u001b[0m Trial 174 finished with value: 0.5704918032786886 and parameters: {'n_estimators': 120, 'max_depth': 28, 'min_samples_split': 4, 'min_samples_leaf': 1, 'criterion': 'gini'}. Best is trial 140 with value: 0.5704918032786886.\u001b[0m\n",
      "\u001b[32m[I 2023-03-14 20:20:14,479]\u001b[0m Trial 175 finished with value: 0.5704918032786886 and parameters: {'n_estimators': 120, 'max_depth': 28, 'min_samples_split': 4, 'min_samples_leaf': 1, 'criterion': 'gini'}. Best is trial 140 with value: 0.5704918032786886.\u001b[0m\n",
      "\u001b[32m[I 2023-03-14 20:20:15,164]\u001b[0m Trial 176 finished with value: 0.5634266886326195 and parameters: {'n_estimators': 114, 'max_depth': 28, 'min_samples_split': 4, 'min_samples_leaf': 1, 'criterion': 'gini'}. Best is trial 140 with value: 0.5704918032786886.\u001b[0m\n",
      "\u001b[32m[I 2023-03-14 20:20:15,886]\u001b[0m Trial 177 finished with value: 0.5704918032786886 and parameters: {'n_estimators': 120, 'max_depth': 28, 'min_samples_split': 4, 'min_samples_leaf': 1, 'criterion': 'gini'}. Best is trial 140 with value: 0.5704918032786886.\u001b[0m\n",
      "\u001b[32m[I 2023-03-14 20:20:16,583]\u001b[0m Trial 178 finished with value: 0.5586776859504132 and parameters: {'n_estimators': 115, 'max_depth': 28, 'min_samples_split': 4, 'min_samples_leaf': 1, 'criterion': 'gini'}. Best is trial 140 with value: 0.5704918032786886.\u001b[0m\n",
      "\u001b[32m[I 2023-03-14 20:20:17,438]\u001b[0m Trial 179 finished with value: 0.5521885521885521 and parameters: {'n_estimators': 120, 'max_depth': 26, 'min_samples_split': 4, 'min_samples_leaf': 1, 'criterion': 'entropy'}. Best is trial 140 with value: 0.5704918032786886.\u001b[0m\n",
      "\u001b[32m[I 2023-03-14 20:20:18,187]\u001b[0m Trial 180 finished with value: 0.569078947368421 and parameters: {'n_estimators': 123, 'max_depth': 28, 'min_samples_split': 4, 'min_samples_leaf': 1, 'criterion': 'gini'}. Best is trial 140 with value: 0.5704918032786886.\u001b[0m\n",
      "\u001b[32m[I 2023-03-14 20:20:18,959]\u001b[0m Trial 181 finished with value: 0.568595041322314 and parameters: {'n_estimators': 124, 'max_depth': 28, 'min_samples_split': 4, 'min_samples_leaf': 1, 'criterion': 'gini'}. Best is trial 140 with value: 0.5704918032786886.\u001b[0m\n",
      "\u001b[32m[I 2023-03-14 20:20:19,702]\u001b[0m Trial 182 finished with value: 0.568595041322314 and parameters: {'n_estimators': 124, 'max_depth': 27, 'min_samples_split': 4, 'min_samples_leaf': 1, 'criterion': 'gini'}. Best is trial 140 with value: 0.5704918032786886.\u001b[0m\n",
      "\u001b[32m[I 2023-03-14 20:20:20,477]\u001b[0m Trial 183 finished with value: 0.5667215815485996 and parameters: {'n_estimators': 128, 'max_depth': 27, 'min_samples_split': 4, 'min_samples_leaf': 1, 'criterion': 'gini'}. Best is trial 140 with value: 0.5704918032786886.\u001b[0m\n",
      "\u001b[32m[I 2023-03-14 20:20:21,217]\u001b[0m Trial 184 finished with value: 0.569078947368421 and parameters: {'n_estimators': 123, 'max_depth': 26, 'min_samples_split': 4, 'min_samples_leaf': 1, 'criterion': 'gini'}. Best is trial 140 with value: 0.5704918032786886.\u001b[0m\n",
      "\u001b[32m[I 2023-03-14 20:20:21,515]\u001b[0m Trial 185 finished with value: 0.5606557377049181 and parameters: {'n_estimators': 46, 'max_depth': 26, 'min_samples_split': 4, 'min_samples_leaf': 1, 'criterion': 'gini'}. Best is trial 140 with value: 0.5704918032786886.\u001b[0m\n",
      "\u001b[32m[I 2023-03-14 20:20:22,256]\u001b[0m Trial 186 finished with value: 0.569078947368421 and parameters: {'n_estimators': 123, 'max_depth': 26, 'min_samples_split': 4, 'min_samples_leaf': 1, 'criterion': 'gini'}. Best is trial 140 with value: 0.5704918032786886.\u001b[0m\n",
      "\u001b[32m[I 2023-03-14 20:20:22,997]\u001b[0m Trial 187 finished with value: 0.568595041322314 and parameters: {'n_estimators': 124, 'max_depth': 27, 'min_samples_split': 4, 'min_samples_leaf': 1, 'criterion': 'gini'}. Best is trial 140 with value: 0.5704918032786886.\u001b[0m\n",
      "\u001b[32m[I 2023-03-14 20:20:23,737]\u001b[0m Trial 188 finished with value: 0.5647840531561462 and parameters: {'n_estimators': 124, 'max_depth': 25, 'min_samples_split': 4, 'min_samples_leaf': 1, 'criterion': 'gini'}. Best is trial 140 with value: 0.5704918032786886.\u001b[0m\n"
     ]
    },
    {
     "name": "stderr",
     "output_type": "stream",
     "text": [
      "\u001b[32m[I 2023-03-14 20:20:24,494]\u001b[0m Trial 189 finished with value: 0.5714285714285714 and parameters: {'n_estimators': 127, 'max_depth': 26, 'min_samples_split': 4, 'min_samples_leaf': 1, 'criterion': 'gini'}. Best is trial 189 with value: 0.5714285714285714.\u001b[0m\n",
      "\u001b[32m[I 2023-03-14 20:20:25,250]\u001b[0m Trial 190 finished with value: 0.5733113673805602 and parameters: {'n_estimators': 127, 'max_depth': 25, 'min_samples_split': 4, 'min_samples_leaf': 1, 'criterion': 'gini'}. Best is trial 190 with value: 0.5733113673805602.\u001b[0m\n",
      "\u001b[32m[I 2023-03-14 20:20:26,006]\u001b[0m Trial 191 finished with value: 0.5733113673805602 and parameters: {'n_estimators': 127, 'max_depth': 25, 'min_samples_split': 4, 'min_samples_leaf': 1, 'criterion': 'gini'}. Best is trial 190 with value: 0.5733113673805602.\u001b[0m\n",
      "\u001b[32m[I 2023-03-14 20:20:26,758]\u001b[0m Trial 192 finished with value: 0.5676567656765676 and parameters: {'n_estimators': 126, 'max_depth': 25, 'min_samples_split': 4, 'min_samples_leaf': 1, 'criterion': 'gini'}. Best is trial 190 with value: 0.5733113673805602.\u001b[0m\n",
      "\u001b[32m[I 2023-03-14 20:20:27,533]\u001b[0m Trial 193 finished with value: 0.569078947368421 and parameters: {'n_estimators': 129, 'max_depth': 26, 'min_samples_split': 4, 'min_samples_leaf': 1, 'criterion': 'gini'}. Best is trial 190 with value: 0.5733113673805602.\u001b[0m\n",
      "\u001b[32m[I 2023-03-14 20:20:28,302]\u001b[0m Trial 194 finished with value: 0.5676567656765676 and parameters: {'n_estimators': 128, 'max_depth': 25, 'min_samples_split': 4, 'min_samples_leaf': 1, 'criterion': 'gini'}. Best is trial 190 with value: 0.5733113673805602.\u001b[0m\n",
      "\u001b[32m[I 2023-03-14 20:20:29,073]\u001b[0m Trial 195 finished with value: 0.5667215815485996 and parameters: {'n_estimators': 128, 'max_depth': 26, 'min_samples_split': 4, 'min_samples_leaf': 1, 'criterion': 'gini'}. Best is trial 190 with value: 0.5733113673805602.\u001b[0m\n",
      "\u001b[32m[I 2023-03-14 20:20:29,814]\u001b[0m Trial 196 finished with value: 0.568595041322314 and parameters: {'n_estimators': 124, 'max_depth': 26, 'min_samples_split': 4, 'min_samples_leaf': 1, 'criterion': 'gini'}. Best is trial 190 with value: 0.5733113673805602.\u001b[0m\n",
      "\u001b[32m[I 2023-03-14 20:20:30,593]\u001b[0m Trial 197 finished with value: 0.569078947368421 and parameters: {'n_estimators': 131, 'max_depth': 26, 'min_samples_split': 4, 'min_samples_leaf': 1, 'criterion': 'gini'}. Best is trial 190 with value: 0.5733113673805602.\u001b[0m\n",
      "\u001b[32m[I 2023-03-14 20:20:31,375]\u001b[0m Trial 198 finished with value: 0.5643564356435644 and parameters: {'n_estimators': 131, 'max_depth': 25, 'min_samples_split': 4, 'min_samples_leaf': 1, 'criterion': 'gini'}. Best is trial 190 with value: 0.5733113673805602.\u001b[0m\n",
      "\u001b[32m[I 2023-03-14 20:20:32,177]\u001b[0m Trial 199 finished with value: 0.5624999999999999 and parameters: {'n_estimators': 133, 'max_depth': 24, 'min_samples_split': 4, 'min_samples_leaf': 1, 'criterion': 'gini'}. Best is trial 190 with value: 0.5733113673805602.\u001b[0m\n"
     ]
    },
    {
     "name": "stdout",
     "output_type": "stream",
     "text": [
      "Best trial:\n",
      "  Score: 0.573\n",
      "  Params: \n",
      "    n_estimators: 127\n",
      "    max_depth: 25\n",
      "    min_samples_split: 4\n",
      "    min_samples_leaf: 1\n",
      "    criterion: gini\n"
     ]
    }
   ],
   "source": [
    "study = optuna.create_study(direction='maximize')\n",
    "\n",
    "study.optimize(objective, n_trials=200)\n",
    "\n",
    "print('Best trial:')\n",
    "trial = study.best_trial\n",
    "print(f'  Score: {trial.value:.3f}')\n",
    "print('  Params: ')\n",
    "for key, value in trial.params.items():\n",
    "    print(f'    {key}: {value}')"
   ]
  },
  {
   "cell_type": "code",
   "execution_count": 128,
   "metadata": {},
   "outputs": [
    {
     "data": {
      "text/plain": [
       "RandomForestClassifier(max_depth=25, min_samples_split=4, n_estimators=127,\n",
       "                       random_state=322)"
      ]
     },
     "execution_count": 128,
     "metadata": {},
     "output_type": "execute_result"
    }
   ],
   "source": [
    "rfc_up = RandomForestClassifier(n_estimators=127,\n",
    "                                   max_depth=25,\n",
    "                                   min_samples_split=4,\n",
    "                                   min_samples_leaf=1,\n",
    "                                   criterion='gini',\n",
    "                                   random_state=322)\n",
    "rfc_up.fit(features_upsampled, target_upsampled)"
   ]
  },
  {
   "cell_type": "code",
   "execution_count": 129,
   "metadata": {
    "scrolled": false
   },
   "outputs": [
    {
     "data": {
      "text/plain": [
       "0.8515284900258364"
      ]
     },
     "execution_count": 129,
     "metadata": {},
     "output_type": "execute_result"
    }
   ],
   "source": [
    "prob_one_valid = rfc_up.predict_proba(features_valid)[:, 1]\n",
    "roc_auc_score(target_valid, prob_one_valid)"
   ]
  },
  {
   "cell_type": "markdown",
   "metadata": {},
   "source": [
    "#### Логистическая регрессия"
   ]
  },
  {
   "cell_type": "code",
   "execution_count": 130,
   "metadata": {},
   "outputs": [
    {
     "name": "stdout",
     "output_type": "stream",
     "text": [
      "F1 = 0.3427495291902071 AUC-ROC= 0.7696582016515255\n"
     ]
    }
   ],
   "source": [
    "model = LogisticRegression(random_state=322)\n",
    "model.fit(features_upsampled, target_upsampled)\n",
    "predicted_valid = model.predict(features_valid)\n",
    "f1_valid = f1_score(predicted_valid, target_valid)\n",
    "prob_one_valid = model.predict_proba(features_valid)[:, 1]\n",
    "roc_auc = roc_auc_score(target_valid, prob_one_valid)\n",
    "print('F1 =', f1_valid, 'AUC-ROC=', roc_auc)"
   ]
  },
  {
   "cell_type": "markdown",
   "metadata": {},
   "source": [
    "#### Дерево решений"
   ]
  },
  {
   "cell_type": "code",
   "execution_count": 131,
   "metadata": {},
   "outputs": [],
   "source": [
    "def objective(trial):\n",
    "    max_depth = trial.suggest_int('max_depth', 3, 50)\n",
    "    min_samples_split = trial.suggest_int('min_samples_split', 2, 30)\n",
    "    min_samples_leaf = trial.suggest_int('min_samples_leaf', 1, 30)\n",
    "    criterion = trial.suggest_categorical('criterion', ['gini', 'entropy'])\n",
    "\n",
    "    dtc = DecisionTreeClassifier(max_depth=max_depth,\n",
    "                                    min_samples_split=min_samples_split,\n",
    "                                    min_samples_leaf=min_samples_leaf,\n",
    "                                    criterion=criterion,\n",
    "                                    random_state=322)\n",
    "\n",
    "    dtc.fit(features_upsampled, target_upsampled)\n",
    "\n",
    "    predicted_valid = dtc.predict(features_valid)\n",
    "\n",
    "    f1 = f1_score(target_valid, predicted_valid)\n",
    "\n",
    "    return f1"
   ]
  },
  {
   "cell_type": "code",
   "execution_count": 132,
   "metadata": {},
   "outputs": [
    {
     "name": "stderr",
     "output_type": "stream",
     "text": [
      "\u001b[32m[I 2023-03-14 20:23:05,594]\u001b[0m A new study created in memory with name: no-name-5cfef305-3fd1-41d4-9d26-0d1fe34e1cf3\u001b[0m\n",
      "\u001b[32m[I 2023-03-14 20:23:05,623]\u001b[0m Trial 0 finished with value: 0.5629629629629629 and parameters: {'max_depth': 37, 'min_samples_split': 30, 'min_samples_leaf': 16, 'criterion': 'gini'}. Best is trial 0 with value: 0.5629629629629629.\u001b[0m\n",
      "\u001b[32m[I 2023-03-14 20:23:05,659]\u001b[0m Trial 1 finished with value: 0.5118881118881119 and parameters: {'max_depth': 30, 'min_samples_split': 18, 'min_samples_leaf': 1, 'criterion': 'entropy'}. Best is trial 0 with value: 0.5629629629629629.\u001b[0m\n",
      "\u001b[32m[I 2023-03-14 20:23:05,689]\u001b[0m Trial 2 finished with value: 0.5391849529780565 and parameters: {'max_depth': 27, 'min_samples_split': 28, 'min_samples_leaf': 28, 'criterion': 'entropy'}. Best is trial 0 with value: 0.5629629629629629.\u001b[0m\n",
      "\u001b[32m[I 2023-03-14 20:23:05,718]\u001b[0m Trial 3 finished with value: 0.5522388059701493 and parameters: {'max_depth': 23, 'min_samples_split': 4, 'min_samples_leaf': 14, 'criterion': 'gini'}. Best is trial 0 with value: 0.5629629629629629.\u001b[0m\n",
      "\u001b[32m[I 2023-03-14 20:23:05,748]\u001b[0m Trial 4 finished with value: 0.5527950310559006 and parameters: {'max_depth': 15, 'min_samples_split': 6, 'min_samples_leaf': 24, 'criterion': 'entropy'}. Best is trial 0 with value: 0.5629629629629629.\u001b[0m\n",
      "\u001b[32m[I 2023-03-14 20:23:05,780]\u001b[0m Trial 5 finished with value: 0.5550387596899226 and parameters: {'max_depth': 30, 'min_samples_split': 25, 'min_samples_leaf': 22, 'criterion': 'entropy'}. Best is trial 0 with value: 0.5629629629629629.\u001b[0m\n",
      "\u001b[32m[I 2023-03-14 20:23:05,794]\u001b[0m Trial 6 finished with value: 0.48873483535528595 and parameters: {'max_depth': 3, 'min_samples_split': 10, 'min_samples_leaf': 30, 'criterion': 'entropy'}. Best is trial 0 with value: 0.5629629629629629.\u001b[0m\n",
      "\u001b[32m[I 2023-03-14 20:23:05,830]\u001b[0m Trial 7 finished with value: 0.5238784370477569 and parameters: {'max_depth': 27, 'min_samples_split': 13, 'min_samples_leaf': 4, 'criterion': 'entropy'}. Best is trial 0 with value: 0.5629629629629629.\u001b[0m\n",
      "\u001b[32m[I 2023-03-14 20:23:05,864]\u001b[0m Trial 8 finished with value: 0.5462555066079295 and parameters: {'max_depth': 46, 'min_samples_split': 19, 'min_samples_leaf': 8, 'criterion': 'entropy'}. Best is trial 0 with value: 0.5629629629629629.\u001b[0m\n",
      "\u001b[32m[I 2023-03-14 20:23:05,894]\u001b[0m Trial 9 finished with value: 0.5408618127786032 and parameters: {'max_depth': 46, 'min_samples_split': 8, 'min_samples_leaf': 7, 'criterion': 'gini'}. Best is trial 0 with value: 0.5629629629629629.\u001b[0m\n",
      "\u001b[32m[I 2023-03-14 20:23:05,931]\u001b[0m Trial 10 finished with value: 0.5616641901931649 and parameters: {'max_depth': 39, 'min_samples_split': 30, 'min_samples_leaf': 15, 'criterion': 'gini'}. Best is trial 0 with value: 0.5629629629629629.\u001b[0m\n",
      "\u001b[32m[I 2023-03-14 20:23:05,967]\u001b[0m Trial 11 finished with value: 0.5616641901931649 and parameters: {'max_depth': 39, 'min_samples_split': 30, 'min_samples_leaf': 15, 'criterion': 'gini'}. Best is trial 0 with value: 0.5629629629629629.\u001b[0m\n",
      "\u001b[32m[I 2023-03-14 20:23:06,004]\u001b[0m Trial 12 finished with value: 0.5541795665634676 and parameters: {'max_depth': 40, 'min_samples_split': 23, 'min_samples_leaf': 20, 'criterion': 'gini'}. Best is trial 0 with value: 0.5629629629629629.\u001b[0m\n",
      "\u001b[32m[I 2023-03-14 20:23:06,041]\u001b[0m Trial 13 finished with value: 0.5413533834586467 and parameters: {'max_depth': 38, 'min_samples_split': 24, 'min_samples_leaf': 12, 'criterion': 'gini'}. Best is trial 0 with value: 0.5629629629629629.\u001b[0m\n",
      "\u001b[32m[I 2023-03-14 20:23:06,078]\u001b[0m Trial 14 finished with value: 0.5521472392638037 and parameters: {'max_depth': 35, 'min_samples_split': 30, 'min_samples_leaf': 19, 'criterion': 'gini'}. Best is trial 0 with value: 0.5629629629629629.\u001b[0m\n",
      "\u001b[32m[I 2023-03-14 20:23:06,115]\u001b[0m Trial 15 finished with value: 0.5468053491827638 and parameters: {'max_depth': 50, 'min_samples_split': 21, 'min_samples_leaf': 11, 'criterion': 'gini'}. Best is trial 0 with value: 0.5629629629629629.\u001b[0m\n",
      "\u001b[32m[I 2023-03-14 20:23:06,153]\u001b[0m Trial 16 finished with value: 0.5533834586466165 and parameters: {'max_depth': 20, 'min_samples_split': 26, 'min_samples_leaf': 18, 'criterion': 'gini'}. Best is trial 0 with value: 0.5629629629629629.\u001b[0m\n",
      "\u001b[32m[I 2023-03-14 20:23:06,189]\u001b[0m Trial 17 finished with value: 0.5560821484992101 and parameters: {'max_depth': 34, 'min_samples_split': 15, 'min_samples_leaf': 25, 'criterion': 'gini'}. Best is trial 0 with value: 0.5629629629629629.\u001b[0m\n",
      "\u001b[32m[I 2023-03-14 20:23:06,228]\u001b[0m Trial 18 finished with value: 0.5590433482810165 and parameters: {'max_depth': 43, 'min_samples_split': 27, 'min_samples_leaf': 17, 'criterion': 'gini'}. Best is trial 0 with value: 0.5629629629629629.\u001b[0m\n",
      "\u001b[32m[I 2023-03-14 20:23:06,256]\u001b[0m Trial 19 finished with value: 0.5304054054054054 and parameters: {'max_depth': 6, 'min_samples_split': 21, 'min_samples_leaf': 10, 'criterion': 'gini'}. Best is trial 0 with value: 0.5629629629629629.\u001b[0m\n",
      "\u001b[32m[I 2023-03-14 20:23:06,295]\u001b[0m Trial 20 finished with value: 0.5608308605341247 and parameters: {'max_depth': 15, 'min_samples_split': 30, 'min_samples_leaf': 14, 'criterion': 'gini'}. Best is trial 0 with value: 0.5629629629629629.\u001b[0m\n",
      "\u001b[32m[I 2023-03-14 20:23:06,335]\u001b[0m Trial 21 finished with value: 0.5616641901931649 and parameters: {'max_depth': 38, 'min_samples_split': 30, 'min_samples_leaf': 15, 'criterion': 'gini'}. Best is trial 0 with value: 0.5629629629629629.\u001b[0m\n",
      "\u001b[32m[I 2023-03-14 20:23:06,372]\u001b[0m Trial 22 finished with value: 0.5629629629629629 and parameters: {'max_depth': 34, 'min_samples_split': 28, 'min_samples_leaf': 16, 'criterion': 'gini'}. Best is trial 0 with value: 0.5629629629629629.\u001b[0m\n",
      "\u001b[32m[I 2023-03-14 20:23:06,409]\u001b[0m Trial 23 finished with value: 0.5341614906832297 and parameters: {'max_depth': 33, 'min_samples_split': 27, 'min_samples_leaf': 21, 'criterion': 'gini'}. Best is trial 0 with value: 0.5629629629629629.\u001b[0m\n",
      "\u001b[32m[I 2023-03-14 20:23:06,447]\u001b[0m Trial 24 finished with value: 0.5590433482810165 and parameters: {'max_depth': 44, 'min_samples_split': 23, 'min_samples_leaf': 17, 'criterion': 'gini'}. Best is trial 0 with value: 0.5629629629629629.\u001b[0m\n",
      "\u001b[32m[I 2023-03-14 20:23:06,485]\u001b[0m Trial 25 finished with value: 0.547085201793722 and parameters: {'max_depth': 50, 'min_samples_split': 26, 'min_samples_leaf': 12, 'criterion': 'gini'}. Best is trial 0 with value: 0.5629629629629629.\u001b[0m\n",
      "\u001b[32m[I 2023-03-14 20:23:06,522]\u001b[0m Trial 26 finished with value: 0.5523520485584218 and parameters: {'max_depth': 31, 'min_samples_split': 28, 'min_samples_leaf': 8, 'criterion': 'gini'}. Best is trial 0 with value: 0.5629629629629629.\u001b[0m\n",
      "\u001b[32m[I 2023-03-14 20:23:06,559]\u001b[0m Trial 27 finished with value: 0.5483359746434231 and parameters: {'max_depth': 36, 'min_samples_split': 21, 'min_samples_leaf': 24, 'criterion': 'gini'}. Best is trial 0 with value: 0.5629629629629629.\u001b[0m\n",
      "\u001b[32m[I 2023-03-14 20:23:06,596]\u001b[0m Trial 28 finished with value: 0.5590433482810165 and parameters: {'max_depth': 42, 'min_samples_split': 28, 'min_samples_leaf': 17, 'criterion': 'gini'}. Best is trial 0 with value: 0.5629629629629629.\u001b[0m\n",
      "\u001b[32m[I 2023-03-14 20:23:06,637]\u001b[0m Trial 29 finished with value: 0.5348837209302325 and parameters: {'max_depth': 23, 'min_samples_split': 17, 'min_samples_leaf': 1, 'criterion': 'gini'}. Best is trial 0 with value: 0.5629629629629629.\u001b[0m\n",
      "\u001b[32m[I 2023-03-14 20:23:06,676]\u001b[0m Trial 30 finished with value: 0.5542168674698795 and parameters: {'max_depth': 30, 'min_samples_split': 24, 'min_samples_leaf': 13, 'criterion': 'gini'}. Best is trial 0 with value: 0.5629629629629629.\u001b[0m\n",
      "\u001b[32m[I 2023-03-14 20:23:06,714]\u001b[0m Trial 31 finished with value: 0.5629629629629629 and parameters: {'max_depth': 39, 'min_samples_split': 30, 'min_samples_leaf': 16, 'criterion': 'gini'}. Best is trial 0 with value: 0.5629629629629629.\u001b[0m\n",
      "\u001b[32m[I 2023-03-14 20:23:06,753]\u001b[0m Trial 32 finished with value: 0.5629629629629629 and parameters: {'max_depth': 36, 'min_samples_split': 28, 'min_samples_leaf': 16, 'criterion': 'gini'}. Best is trial 0 with value: 0.5629629629629629.\u001b[0m\n",
      "\u001b[32m[I 2023-03-14 20:23:06,791]\u001b[0m Trial 33 finished with value: 0.5521472392638037 and parameters: {'max_depth': 32, 'min_samples_split': 28, 'min_samples_leaf': 19, 'criterion': 'gini'}. Best is trial 0 with value: 0.5629629629629629.\u001b[0m\n"
     ]
    },
    {
     "name": "stderr",
     "output_type": "stream",
     "text": [
      "\u001b[32m[I 2023-03-14 20:23:06,832]\u001b[0m Trial 34 finished with value: 0.56973293768546 and parameters: {'max_depth': 27, 'min_samples_split': 28, 'min_samples_leaf': 16, 'criterion': 'entropy'}. Best is trial 34 with value: 0.56973293768546.\u001b[0m\n",
      "\u001b[32m[I 2023-03-14 20:23:06,875]\u001b[0m Trial 35 finished with value: 0.5702127659574469 and parameters: {'max_depth': 26, 'min_samples_split': 25, 'min_samples_leaf': 13, 'criterion': 'entropy'}. Best is trial 35 with value: 0.5702127659574469.\u001b[0m\n",
      "\u001b[32m[I 2023-03-14 20:23:06,918]\u001b[0m Trial 36 finished with value: 0.5319465081723626 and parameters: {'max_depth': 25, 'min_samples_split': 3, 'min_samples_leaf': 10, 'criterion': 'entropy'}. Best is trial 35 with value: 0.5702127659574469.\u001b[0m\n",
      "\u001b[32m[I 2023-03-14 20:23:06,961]\u001b[0m Trial 37 finished with value: 0.5702127659574469 and parameters: {'max_depth': 19, 'min_samples_split': 25, 'min_samples_leaf': 13, 'criterion': 'entropy'}. Best is trial 35 with value: 0.5702127659574469.\u001b[0m\n",
      "\u001b[32m[I 2023-03-14 20:23:07,004]\u001b[0m Trial 38 finished with value: 0.5349182763744429 and parameters: {'max_depth': 17, 'min_samples_split': 19, 'min_samples_leaf': 6, 'criterion': 'entropy'}. Best is trial 35 with value: 0.5702127659574469.\u001b[0m\n",
      "\u001b[32m[I 2023-03-14 20:23:07,042]\u001b[0m Trial 39 finished with value: 0.5714285714285715 and parameters: {'max_depth': 9, 'min_samples_split': 25, 'min_samples_leaf': 13, 'criterion': 'entropy'}. Best is trial 39 with value: 0.5714285714285715.\u001b[0m\n",
      "\u001b[32m[I 2023-03-14 20:23:07,083]\u001b[0m Trial 40 finished with value: 0.5676470588235295 and parameters: {'max_depth': 11, 'min_samples_split': 23, 'min_samples_leaf': 13, 'criterion': 'entropy'}. Best is trial 39 with value: 0.5714285714285715.\u001b[0m\n",
      "\u001b[32m[I 2023-03-14 20:23:07,123]\u001b[0m Trial 41 finished with value: 0.5768115942028985 and parameters: {'max_depth': 10, 'min_samples_split': 22, 'min_samples_leaf': 13, 'criterion': 'entropy'}. Best is trial 41 with value: 0.5768115942028985.\u001b[0m\n",
      "\u001b[32m[I 2023-03-14 20:23:07,164]\u001b[0m Trial 42 finished with value: 0.5592972181551976 and parameters: {'max_depth': 10, 'min_samples_split': 25, 'min_samples_leaf': 10, 'criterion': 'entropy'}. Best is trial 41 with value: 0.5768115942028985.\u001b[0m\n",
      "\u001b[32m[I 2023-03-14 20:23:07,204]\u001b[0m Trial 43 finished with value: 0.5676470588235295 and parameters: {'max_depth': 11, 'min_samples_split': 22, 'min_samples_leaf': 13, 'criterion': 'entropy'}. Best is trial 41 with value: 0.5768115942028985.\u001b[0m\n",
      "\u001b[32m[I 2023-03-14 20:23:07,249]\u001b[0m Trial 44 finished with value: 0.557471264367816 and parameters: {'max_depth': 20, 'min_samples_split': 25, 'min_samples_leaf': 9, 'criterion': 'entropy'}. Best is trial 41 with value: 0.5768115942028985.\u001b[0m\n",
      "\u001b[32m[I 2023-03-14 20:23:07,292]\u001b[0m Trial 45 finished with value: 0.5571847507331379 and parameters: {'max_depth': 27, 'min_samples_split': 19, 'min_samples_leaf': 14, 'criterion': 'entropy'}. Best is trial 41 with value: 0.5768115942028985.\u001b[0m\n",
      "\u001b[32m[I 2023-03-14 20:23:07,322]\u001b[0m Trial 46 finished with value: 0.5266903914590747 and parameters: {'max_depth': 5, 'min_samples_split': 13, 'min_samples_leaf': 11, 'criterion': 'entropy'}. Best is trial 41 with value: 0.5768115942028985.\u001b[0m\n",
      "\u001b[32m[I 2023-03-14 20:23:07,359]\u001b[0m Trial 47 finished with value: 0.5929339477726574 and parameters: {'max_depth': 8, 'min_samples_split': 24, 'min_samples_leaf': 4, 'criterion': 'entropy'}. Best is trial 47 with value: 0.5929339477726574.\u001b[0m\n",
      "\u001b[32m[I 2023-03-14 20:23:07,397]\u001b[0m Trial 48 finished with value: 0.5837173579109064 and parameters: {'max_depth': 8, 'min_samples_split': 20, 'min_samples_leaf': 5, 'criterion': 'entropy'}. Best is trial 47 with value: 0.5929339477726574.\u001b[0m\n",
      "\u001b[32m[I 2023-03-14 20:23:07,434]\u001b[0m Trial 49 finished with value: 0.5837173579109064 and parameters: {'max_depth': 8, 'min_samples_split': 20, 'min_samples_leaf': 5, 'criterion': 'entropy'}. Best is trial 47 with value: 0.5929339477726574.\u001b[0m\n",
      "\u001b[32m[I 2023-03-14 20:23:07,473]\u001b[0m Trial 50 finished with value: 0.5950920245398773 and parameters: {'max_depth': 8, 'min_samples_split': 20, 'min_samples_leaf': 3, 'criterion': 'entropy'}. Best is trial 50 with value: 0.5950920245398773.\u001b[0m\n",
      "\u001b[32m[I 2023-03-14 20:23:07,510]\u001b[0m Trial 51 finished with value: 0.5916795069337443 and parameters: {'max_depth': 8, 'min_samples_split': 18, 'min_samples_leaf': 3, 'criterion': 'entropy'}. Best is trial 50 with value: 0.5950920245398773.\u001b[0m\n",
      "\u001b[32m[I 2023-03-14 20:23:07,546]\u001b[0m Trial 52 finished with value: 0.576923076923077 and parameters: {'max_depth': 7, 'min_samples_split': 16, 'min_samples_leaf': 3, 'criterion': 'entropy'}. Best is trial 50 with value: 0.5950920245398773.\u001b[0m\n",
      "\u001b[32m[I 2023-03-14 20:23:07,571]\u001b[0m Trial 53 finished with value: 0.48873483535528595 and parameters: {'max_depth': 3, 'min_samples_split': 15, 'min_samples_leaf': 3, 'criterion': 'entropy'}. Best is trial 50 with value: 0.5950920245398773.\u001b[0m\n",
      "\u001b[32m[I 2023-03-14 20:23:07,604]\u001b[0m Trial 54 finished with value: 0.540447504302926 and parameters: {'max_depth': 6, 'min_samples_split': 17, 'min_samples_leaf': 3, 'criterion': 'entropy'}. Best is trial 50 with value: 0.5950920245398773.\u001b[0m\n",
      "\u001b[32m[I 2023-03-14 20:23:07,648]\u001b[0m Trial 55 finished with value: 0.5331325301204819 and parameters: {'max_depth': 13, 'min_samples_split': 13, 'min_samples_leaf': 5, 'criterion': 'entropy'}. Best is trial 50 with value: 0.5950920245398773.\u001b[0m\n",
      "\u001b[32m[I 2023-03-14 20:23:07,679]\u001b[0m Trial 56 finished with value: 0.5293072824156306 and parameters: {'max_depth': 5, 'min_samples_split': 20, 'min_samples_leaf': 1, 'criterion': 'entropy'}. Best is trial 50 with value: 0.5950920245398773.\u001b[0m\n",
      "\u001b[32m[I 2023-03-14 20:23:07,717]\u001b[0m Trial 57 finished with value: 0.5916795069337443 and parameters: {'max_depth': 8, 'min_samples_split': 18, 'min_samples_leaf': 3, 'criterion': 'entropy'}. Best is trial 50 with value: 0.5950920245398773.\u001b[0m\n",
      "\u001b[32m[I 2023-03-14 20:23:07,755]\u001b[0m Trial 58 finished with value: 0.5793528505392912 and parameters: {'max_depth': 8, 'min_samples_split': 18, 'min_samples_leaf': 5, 'criterion': 'entropy'}. Best is trial 50 with value: 0.5950920245398773.\u001b[0m\n",
      "\u001b[32m[I 2023-03-14 20:23:07,800]\u001b[0m Trial 59 finished with value: 0.548905109489051 and parameters: {'max_depth': 13, 'min_samples_split': 20, 'min_samples_leaf': 2, 'criterion': 'entropy'}. Best is trial 50 with value: 0.5950920245398773.\u001b[0m\n",
      "\u001b[32m[I 2023-03-14 20:23:07,844]\u001b[0m Trial 60 finished with value: 0.5355029585798816 and parameters: {'max_depth': 13, 'min_samples_split': 11, 'min_samples_leaf': 7, 'criterion': 'entropy'}. Best is trial 50 with value: 0.5950920245398773.\u001b[0m\n",
      "\u001b[32m[I 2023-03-14 20:23:07,882]\u001b[0m Trial 61 finished with value: 0.5793528505392912 and parameters: {'max_depth': 8, 'min_samples_split': 18, 'min_samples_leaf': 5, 'criterion': 'entropy'}. Best is trial 50 with value: 0.5950920245398773.\u001b[0m\n",
      "\u001b[32m[I 2023-03-14 20:23:07,910]\u001b[0m Trial 62 finished with value: 0.5107913669064749 and parameters: {'max_depth': 4, 'min_samples_split': 18, 'min_samples_leaf': 5, 'criterion': 'entropy'}. Best is trial 50 with value: 0.5950920245398773.\u001b[0m\n",
      "\u001b[32m[I 2023-03-14 20:23:07,948]\u001b[0m Trial 63 finished with value: 0.5929339477726574 and parameters: {'max_depth': 8, 'min_samples_split': 20, 'min_samples_leaf': 4, 'criterion': 'entropy'}. Best is trial 50 with value: 0.5950920245398773.\u001b[0m\n",
      "\u001b[32m[I 2023-03-14 20:23:07,994]\u001b[0m Trial 64 finished with value: 0.5409356725146199 and parameters: {'max_depth': 15, 'min_samples_split': 20, 'min_samples_leaf': 4, 'criterion': 'entropy'}. Best is trial 50 with value: 0.5950920245398773.\u001b[0m\n",
      "\u001b[32m[I 2023-03-14 20:23:08,030]\u001b[0m Trial 65 finished with value: 0.576923076923077 and parameters: {'max_depth': 7, 'min_samples_split': 16, 'min_samples_leaf': 2, 'criterion': 'entropy'}. Best is trial 50 with value: 0.5950920245398773.\u001b[0m\n",
      "\u001b[32m[I 2023-03-14 20:23:08,073]\u001b[0m Trial 66 finished with value: 0.5220030349013657 and parameters: {'max_depth': 12, 'min_samples_split': 22, 'min_samples_leaf': 7, 'criterion': 'entropy'}. Best is trial 50 with value: 0.5950920245398773.\u001b[0m\n",
      "\u001b[32m[I 2023-03-14 20:23:08,113]\u001b[0m Trial 67 finished with value: 0.5718701700154559 and parameters: {'max_depth': 9, 'min_samples_split': 17, 'min_samples_leaf': 4, 'criterion': 'entropy'}. Best is trial 50 with value: 0.5950920245398773.\u001b[0m\n"
     ]
    },
    {
     "name": "stderr",
     "output_type": "stream",
     "text": [
      "\u001b[32m[I 2023-03-14 20:23:08,142]\u001b[0m Trial 68 finished with value: 0.5107913669064749 and parameters: {'max_depth': 4, 'min_samples_split': 15, 'min_samples_leaf': 6, 'criterion': 'entropy'}. Best is trial 50 with value: 0.5950920245398773.\u001b[0m\n",
      "\u001b[32m[I 2023-03-14 20:23:08,178]\u001b[0m Trial 69 finished with value: 0.576 and parameters: {'max_depth': 7, 'min_samples_split': 19, 'min_samples_leaf': 1, 'criterion': 'entropy'}. Best is trial 50 with value: 0.5950920245398773.\u001b[0m\n",
      "\u001b[32m[I 2023-03-14 20:23:08,218]\u001b[0m Trial 70 finished with value: 0.5700934579439252 and parameters: {'max_depth': 9, 'min_samples_split': 21, 'min_samples_leaf': 2, 'criterion': 'entropy'}. Best is trial 50 with value: 0.5950920245398773.\u001b[0m\n",
      "\u001b[32m[I 2023-03-14 20:23:08,264]\u001b[0m Trial 71 finished with value: 0.5297619047619047 and parameters: {'max_depth': 15, 'min_samples_split': 18, 'min_samples_leaf': 6, 'criterion': 'entropy'}. Best is trial 50 with value: 0.5950920245398773.\u001b[0m\n",
      "\u001b[32m[I 2023-03-14 20:23:08,302]\u001b[0m Trial 72 finished with value: 0.5929339477726574 and parameters: {'max_depth': 8, 'min_samples_split': 20, 'min_samples_leaf': 4, 'criterion': 'entropy'}. Best is trial 50 with value: 0.5950920245398773.\u001b[0m\n",
      "\u001b[32m[I 2023-03-14 20:23:08,337]\u001b[0m Trial 73 finished with value: 0.5379310344827586 and parameters: {'max_depth': 6, 'min_samples_split': 20, 'min_samples_leaf': 4, 'criterion': 'entropy'}. Best is trial 50 with value: 0.5950920245398773.\u001b[0m\n",
      "\u001b[32m[I 2023-03-14 20:23:08,362]\u001b[0m Trial 74 finished with value: 0.48873483535528595 and parameters: {'max_depth': 3, 'min_samples_split': 23, 'min_samples_leaf': 8, 'criterion': 'entropy'}. Best is trial 50 with value: 0.5950920245398773.\u001b[0m\n",
      "\u001b[32m[I 2023-03-14 20:23:08,406]\u001b[0m Trial 75 finished with value: 0.5498489425981874 and parameters: {'max_depth': 11, 'min_samples_split': 21, 'min_samples_leaf': 3, 'criterion': 'entropy'}. Best is trial 50 with value: 0.5950920245398773.\u001b[0m\n",
      "\u001b[32m[I 2023-03-14 20:23:08,444]\u001b[0m Trial 76 finished with value: 0.5960061443932412 and parameters: {'max_depth': 8, 'min_samples_split': 19, 'min_samples_leaf': 2, 'criterion': 'entropy'}. Best is trial 76 with value: 0.5960061443932412.\u001b[0m\n",
      "\u001b[32m[I 2023-03-14 20:23:08,477]\u001b[0m Trial 77 finished with value: 0.5293072824156306 and parameters: {'max_depth': 5, 'min_samples_split': 17, 'min_samples_leaf': 2, 'criterion': 'entropy'}. Best is trial 76 with value: 0.5960061443932412.\u001b[0m\n",
      "\u001b[32m[I 2023-03-14 20:23:08,518]\u001b[0m Trial 78 finished with value: 0.5591715976331361 and parameters: {'max_depth': 10, 'min_samples_split': 19, 'min_samples_leaf': 4, 'criterion': 'entropy'}. Best is trial 76 with value: 0.5960061443932412.\u001b[0m\n",
      "\u001b[32m[I 2023-03-14 20:23:08,564]\u001b[0m Trial 79 finished with value: 0.5425685425685426 and parameters: {'max_depth': 14, 'min_samples_split': 22, 'min_samples_leaf': 1, 'criterion': 'entropy'}. Best is trial 76 with value: 0.5960061443932412.\u001b[0m\n",
      "\u001b[32m[I 2023-03-14 20:23:08,611]\u001b[0m Trial 80 finished with value: 0.5310245310245311 and parameters: {'max_depth': 17, 'min_samples_split': 14, 'min_samples_leaf': 7, 'criterion': 'entropy'}. Best is trial 76 with value: 0.5960061443932412.\u001b[0m\n",
      "\u001b[32m[I 2023-03-14 20:23:08,649]\u001b[0m Trial 81 finished with value: 0.5950920245398773 and parameters: {'max_depth': 8, 'min_samples_split': 20, 'min_samples_leaf': 3, 'criterion': 'entropy'}. Best is trial 76 with value: 0.5960061443932412.\u001b[0m\n",
      "\u001b[32m[I 2023-03-14 20:23:08,689]\u001b[0m Trial 82 finished with value: 0.5916795069337443 and parameters: {'max_depth': 8, 'min_samples_split': 18, 'min_samples_leaf': 3, 'criterion': 'entropy'}. Best is trial 76 with value: 0.5960061443932412.\u001b[0m\n",
      "\u001b[32m[I 2023-03-14 20:23:08,733]\u001b[0m Trial 83 finished with value: 0.5432835820895523 and parameters: {'max_depth': 12, 'min_samples_split': 17, 'min_samples_leaf': 3, 'criterion': 'entropy'}. Best is trial 76 with value: 0.5960061443932412.\u001b[0m\n",
      "\u001b[32m[I 2023-03-14 20:23:08,776]\u001b[0m Trial 84 finished with value: 0.5573770491803278 and parameters: {'max_depth': 10, 'min_samples_split': 19, 'min_samples_leaf': 2, 'criterion': 'entropy'}. Best is trial 76 with value: 0.5960061443932412.\u001b[0m\n",
      "\u001b[32m[I 2023-03-14 20:23:08,809]\u001b[0m Trial 85 finished with value: 0.5379310344827586 and parameters: {'max_depth': 6, 'min_samples_split': 18, 'min_samples_leaf': 4, 'criterion': 'entropy'}. Best is trial 76 with value: 0.5960061443932412.\u001b[0m\n",
      "\u001b[32m[I 2023-03-14 20:23:08,850]\u001b[0m Trial 86 finished with value: 0.5700934579439252 and parameters: {'max_depth': 9, 'min_samples_split': 21, 'min_samples_leaf': 2, 'criterion': 'entropy'}. Best is trial 76 with value: 0.5960061443932412.\u001b[0m\n",
      "\u001b[32m[I 2023-03-14 20:23:08,895]\u001b[0m Trial 87 finished with value: 0.5422222222222222 and parameters: {'max_depth': 12, 'min_samples_split': 16, 'min_samples_leaf': 3, 'criterion': 'entropy'}. Best is trial 76 with value: 0.5960061443932412.\u001b[0m\n",
      "\u001b[32m[I 2023-03-14 20:23:08,924]\u001b[0m Trial 88 finished with value: 0.5027124773960217 and parameters: {'max_depth': 4, 'min_samples_split': 23, 'min_samples_leaf': 29, 'criterion': 'entropy'}. Best is trial 76 with value: 0.5960061443932412.\u001b[0m\n",
      "\u001b[32m[I 2023-03-14 20:23:08,961]\u001b[0m Trial 89 finished with value: 0.5723370429252783 and parameters: {'max_depth': 7, 'min_samples_split': 24, 'min_samples_leaf': 6, 'criterion': 'entropy'}. Best is trial 76 with value: 0.5960061443932412.\u001b[0m\n",
      "\u001b[32m[I 2023-03-14 20:23:09,005]\u001b[0m Trial 90 finished with value: 0.5548961424332345 and parameters: {'max_depth': 11, 'min_samples_split': 19, 'min_samples_leaf': 1, 'criterion': 'entropy'}. Best is trial 76 with value: 0.5960061443932412.\u001b[0m\n",
      "\u001b[32m[I 2023-03-14 20:23:09,043]\u001b[0m Trial 91 finished with value: 0.5929339477726574 and parameters: {'max_depth': 8, 'min_samples_split': 21, 'min_samples_leaf': 4, 'criterion': 'entropy'}. Best is trial 76 with value: 0.5960061443932412.\u001b[0m\n",
      "\u001b[32m[I 2023-03-14 20:23:09,078]\u001b[0m Trial 92 finished with value: 0.5379310344827586 and parameters: {'max_depth': 6, 'min_samples_split': 22, 'min_samples_leaf': 4, 'criterion': 'entropy'}. Best is trial 76 with value: 0.5960061443932412.\u001b[0m\n",
      "\u001b[32m[I 2023-03-14 20:23:09,117]\u001b[0m Trial 93 finished with value: 0.588597842835131 and parameters: {'max_depth': 8, 'min_samples_split': 7, 'min_samples_leaf': 3, 'criterion': 'entropy'}. Best is trial 76 with value: 0.5960061443932412.\u001b[0m\n",
      "\u001b[32m[I 2023-03-14 20:23:09,157]\u001b[0m Trial 94 finished with value: 0.5714285714285714 and parameters: {'max_depth': 9, 'min_samples_split': 18, 'min_samples_leaf': 2, 'criterion': 'entropy'}. Best is trial 76 with value: 0.5960061443932412.\u001b[0m\n",
      "\u001b[32m[I 2023-03-14 20:23:09,188]\u001b[0m Trial 95 finished with value: 0.5266903914590747 and parameters: {'max_depth': 5, 'min_samples_split': 21, 'min_samples_leaf': 6, 'criterion': 'entropy'}. Best is trial 76 with value: 0.5960061443932412.\u001b[0m\n",
      "\u001b[32m[I 2023-03-14 20:23:09,231]\u001b[0m Trial 96 finished with value: 0.5573770491803278 and parameters: {'max_depth': 10, 'min_samples_split': 20, 'min_samples_leaf': 3, 'criterion': 'entropy'}. Best is trial 76 with value: 0.5960061443932412.\u001b[0m\n",
      "\u001b[32m[I 2023-03-14 20:23:09,268]\u001b[0m Trial 97 finished with value: 0.5746388443017657 and parameters: {'max_depth': 7, 'min_samples_split': 19, 'min_samples_leaf': 4, 'criterion': 'entropy'}. Best is trial 76 with value: 0.5960061443932412.\u001b[0m\n",
      "\u001b[32m[I 2023-03-14 20:23:09,295]\u001b[0m Trial 98 finished with value: 0.48873483535528595 and parameters: {'max_depth': 3, 'min_samples_split': 16, 'min_samples_leaf': 1, 'criterion': 'entropy'}. Best is trial 76 with value: 0.5960061443932412.\u001b[0m\n",
      "\u001b[32m[I 2023-03-14 20:23:09,335]\u001b[0m Trial 99 finished with value: 0.5920245398773005 and parameters: {'max_depth': 8, 'min_samples_split': 24, 'min_samples_leaf': 8, 'criterion': 'entropy'}. Best is trial 76 with value: 0.5960061443932412.\u001b[0m\n",
      "\u001b[32m[I 2023-03-14 20:23:09,381]\u001b[0m Trial 100 finished with value: 0.557037037037037 and parameters: {'max_depth': 11, 'min_samples_split': 24, 'min_samples_leaf': 8, 'criterion': 'entropy'}. Best is trial 76 with value: 0.5960061443932412.\u001b[0m\n",
      "\u001b[32m[I 2023-03-14 20:23:09,421]\u001b[0m Trial 101 finished with value: 0.5862595419847327 and parameters: {'max_depth': 8, 'min_samples_split': 26, 'min_samples_leaf': 5, 'criterion': 'entropy'}. Best is trial 76 with value: 0.5960061443932412.\u001b[0m\n"
     ]
    },
    {
     "name": "stderr",
     "output_type": "stream",
     "text": [
      "\u001b[32m[I 2023-03-14 20:23:09,456]\u001b[0m Trial 102 finished with value: 0.5379310344827586 and parameters: {'max_depth': 6, 'min_samples_split': 23, 'min_samples_leaf': 4, 'criterion': 'entropy'}. Best is trial 76 with value: 0.5960061443932412.\u001b[0m\n",
      "\u001b[32m[I 2023-03-14 20:23:09,497]\u001b[0m Trial 103 finished with value: 0.5714285714285714 and parameters: {'max_depth': 9, 'min_samples_split': 17, 'min_samples_leaf': 3, 'criterion': 'entropy'}. Best is trial 76 with value: 0.5960061443932412.\u001b[0m\n",
      "\u001b[32m[I 2023-03-14 20:23:09,535]\u001b[0m Trial 104 finished with value: 0.576923076923077 and parameters: {'max_depth': 7, 'min_samples_split': 20, 'min_samples_leaf': 2, 'criterion': 'entropy'}. Best is trial 76 with value: 0.5960061443932412.\u001b[0m\n",
      "\u001b[32m[I 2023-03-14 20:23:09,578]\u001b[0m Trial 105 finished with value: 0.5625920471281296 and parameters: {'max_depth': 10, 'min_samples_split': 22, 'min_samples_leaf': 5, 'criterion': 'entropy'}. Best is trial 76 with value: 0.5960061443932412.\u001b[0m\n",
      "\u001b[32m[I 2023-03-14 20:23:09,610]\u001b[0m Trial 106 finished with value: 0.5027124773960217 and parameters: {'max_depth': 5, 'min_samples_split': 27, 'min_samples_leaf': 27, 'criterion': 'entropy'}. Best is trial 76 with value: 0.5960061443932412.\u001b[0m\n",
      "\u001b[32m[I 2023-03-14 20:23:09,655]\u001b[0m Trial 107 finished with value: 0.5349544072948328 and parameters: {'max_depth': 12, 'min_samples_split': 21, 'min_samples_leaf': 6, 'criterion': 'entropy'}. Best is trial 76 with value: 0.5960061443932412.\u001b[0m\n",
      "\u001b[32m[I 2023-03-14 20:23:09,695]\u001b[0m Trial 108 finished with value: 0.5978428351309707 and parameters: {'max_depth': 8, 'min_samples_split': 24, 'min_samples_leaf': 2, 'criterion': 'entropy'}. Best is trial 108 with value: 0.5978428351309707.\u001b[0m\n",
      "\u001b[32m[I 2023-03-14 20:23:09,725]\u001b[0m Trial 109 finished with value: 0.5107913669064749 and parameters: {'max_depth': 4, 'min_samples_split': 24, 'min_samples_leaf': 1, 'criterion': 'entropy'}. Best is trial 108 with value: 0.5978428351309707.\u001b[0m\n",
      "\u001b[32m[I 2023-03-14 20:23:09,773]\u001b[0m Trial 110 finished with value: 0.553623188405797 and parameters: {'max_depth': 14, 'min_samples_split': 24, 'min_samples_leaf': 2, 'criterion': 'entropy'}. Best is trial 108 with value: 0.5978428351309707.\u001b[0m\n",
      "\u001b[32m[I 2023-03-14 20:23:09,813]\u001b[0m Trial 111 finished with value: 0.5916795069337443 and parameters: {'max_depth': 8, 'min_samples_split': 18, 'min_samples_leaf': 3, 'criterion': 'entropy'}. Best is trial 108 with value: 0.5978428351309707.\u001b[0m\n",
      "\u001b[32m[I 2023-03-14 20:23:09,850]\u001b[0m Trial 112 finished with value: 0.5746388443017657 and parameters: {'max_depth': 7, 'min_samples_split': 19, 'min_samples_leaf': 4, 'criterion': 'entropy'}. Best is trial 108 with value: 0.5978428351309707.\u001b[0m\n",
      "\u001b[32m[I 2023-03-14 20:23:09,893]\u001b[0m Trial 113 finished with value: 0.5652173913043478 and parameters: {'max_depth': 9, 'min_samples_split': 20, 'min_samples_leaf': 4, 'criterion': 'entropy'}. Best is trial 108 with value: 0.5978428351309707.\u001b[0m\n",
      "\u001b[32m[I 2023-03-14 20:23:09,928]\u001b[0m Trial 114 finished with value: 0.540447504302926 and parameters: {'max_depth': 6, 'min_samples_split': 26, 'min_samples_leaf': 2, 'criterion': 'entropy'}. Best is trial 108 with value: 0.5978428351309707.\u001b[0m\n",
      "\u001b[32m[I 2023-03-14 20:23:09,968]\u001b[0m Trial 115 finished with value: 0.5727554179566563 and parameters: {'max_depth': 8, 'min_samples_split': 22, 'min_samples_leaf': 7, 'criterion': 'entropy'}. Best is trial 108 with value: 0.5978428351309707.\u001b[0m\n",
      "\u001b[32m[I 2023-03-14 20:23:10,012]\u001b[0m Trial 116 finished with value: 0.5634218289085546 and parameters: {'max_depth': 10, 'min_samples_split': 23, 'min_samples_leaf': 5, 'criterion': 'entropy'}. Best is trial 108 with value: 0.5978428351309707.\u001b[0m\n",
      "\u001b[32m[I 2023-03-14 20:23:10,057]\u001b[0m Trial 117 finished with value: 0.5552238805970149 and parameters: {'max_depth': 11, 'min_samples_split': 19, 'min_samples_leaf': 3, 'criterion': 'entropy'}. Best is trial 108 with value: 0.5978428351309707.\u001b[0m\n",
      "\u001b[32m[I 2023-03-14 20:23:10,090]\u001b[0m Trial 118 finished with value: 0.5293072824156306 and parameters: {'max_depth': 5, 'min_samples_split': 21, 'min_samples_leaf': 1, 'criterion': 'entropy'}. Best is trial 108 with value: 0.5978428351309707.\u001b[0m\n",
      "\u001b[32m[I 2023-03-14 20:23:10,132]\u001b[0m Trial 119 finished with value: 0.5714285714285714 and parameters: {'max_depth': 9, 'min_samples_split': 18, 'min_samples_leaf': 3, 'criterion': 'entropy'}. Best is trial 108 with value: 0.5978428351309707.\u001b[0m\n",
      "\u001b[32m[I 2023-03-14 20:23:10,170]\u001b[0m Trial 120 finished with value: 0.5700636942675159 and parameters: {'max_depth': 7, 'min_samples_split': 29, 'min_samples_leaf': 5, 'criterion': 'entropy'}. Best is trial 108 with value: 0.5978428351309707.\u001b[0m\n",
      "\u001b[32m[I 2023-03-14 20:23:10,210]\u001b[0m Trial 121 finished with value: 0.5916795069337443 and parameters: {'max_depth': 8, 'min_samples_split': 18, 'min_samples_leaf': 3, 'criterion': 'entropy'}. Best is trial 108 with value: 0.5978428351309707.\u001b[0m\n",
      "\u001b[32m[I 2023-03-14 20:23:10,251]\u001b[0m Trial 122 finished with value: 0.5960061443932412 and parameters: {'max_depth': 8, 'min_samples_split': 20, 'min_samples_leaf': 2, 'criterion': 'entropy'}. Best is trial 108 with value: 0.5978428351309707.\u001b[0m\n",
      "\u001b[32m[I 2023-03-14 20:23:10,288]\u001b[0m Trial 123 finished with value: 0.540447504302926 and parameters: {'max_depth': 6, 'min_samples_split': 21, 'min_samples_leaf': 2, 'criterion': 'entropy'}. Best is trial 108 with value: 0.5978428351309707.\u001b[0m\n",
      "\u001b[32m[I 2023-03-14 20:23:10,331]\u001b[0m Trial 124 finished with value: 0.5591715976331361 and parameters: {'max_depth': 10, 'min_samples_split': 20, 'min_samples_leaf': 4, 'criterion': 'entropy'}. Best is trial 108 with value: 0.5978428351309707.\u001b[0m\n",
      "\u001b[32m[I 2023-03-14 20:23:10,380]\u001b[0m Trial 125 finished with value: 0.5292397660818713 and parameters: {'max_depth': 13, 'min_samples_split': 17, 'min_samples_leaf': 1, 'criterion': 'entropy'}. Best is trial 108 with value: 0.5978428351309707.\u001b[0m\n",
      "\u001b[32m[I 2023-03-14 20:23:10,410]\u001b[0m Trial 126 finished with value: 0.5107913669064749 and parameters: {'max_depth': 4, 'min_samples_split': 19, 'min_samples_leaf': 2, 'criterion': 'entropy'}. Best is trial 108 with value: 0.5978428351309707.\u001b[0m\n",
      "\u001b[32m[I 2023-03-14 20:23:10,452]\u001b[0m Trial 127 finished with value: 0.5636363636363636 and parameters: {'max_depth': 9, 'min_samples_split': 20, 'min_samples_leaf': 9, 'criterion': 'entropy'}. Best is trial 108 with value: 0.5978428351309707.\u001b[0m\n",
      "\u001b[32m[I 2023-03-14 20:23:10,490]\u001b[0m Trial 128 finished with value: 0.5746388443017657 and parameters: {'max_depth': 7, 'min_samples_split': 22, 'min_samples_leaf': 4, 'criterion': 'entropy'}. Best is trial 108 with value: 0.5978428351309707.\u001b[0m\n",
      "\u001b[32m[I 2023-03-14 20:23:10,537]\u001b[0m Trial 129 finished with value: 0.5557206537890046 and parameters: {'max_depth': 12, 'min_samples_split': 19, 'min_samples_leaf': 2, 'criterion': 'entropy'}. Best is trial 108 with value: 0.5978428351309707.\u001b[0m\n",
      "\u001b[32m[I 2023-03-14 20:23:10,579]\u001b[0m Trial 130 finished with value: 0.5969230769230769 and parameters: {'max_depth': 8, 'min_samples_split': 23, 'min_samples_leaf': 3, 'criterion': 'entropy'}. Best is trial 108 with value: 0.5978428351309707.\u001b[0m\n",
      "\u001b[32m[I 2023-03-14 20:23:10,620]\u001b[0m Trial 131 finished with value: 0.5969230769230769 and parameters: {'max_depth': 8, 'min_samples_split': 23, 'min_samples_leaf': 3, 'criterion': 'entropy'}. Best is trial 108 with value: 0.5978428351309707.\u001b[0m\n",
      "\u001b[32m[I 2023-03-14 20:23:10,658]\u001b[0m Trial 132 finished with value: 0.540447504302926 and parameters: {'max_depth': 6, 'min_samples_split': 24, 'min_samples_leaf': 3, 'criterion': 'entropy'}. Best is trial 108 with value: 0.5978428351309707.\u001b[0m\n",
      "\u001b[32m[I 2023-03-14 20:23:10,703]\u001b[0m Trial 133 finished with value: 0.5578635014836795 and parameters: {'max_depth': 11, 'min_samples_split': 23, 'min_samples_leaf': 1, 'criterion': 'entropy'}. Best is trial 108 with value: 0.5978428351309707.\u001b[0m\n",
      "\u001b[32m[I 2023-03-14 20:23:10,747]\u001b[0m Trial 134 finished with value: 0.5676470588235295 and parameters: {'max_depth': 10, 'min_samples_split': 25, 'min_samples_leaf': 4, 'criterion': 'entropy'}. Best is trial 108 with value: 0.5978428351309707.\u001b[0m\n",
      "\u001b[32m[I 2023-03-14 20:23:10,787]\u001b[0m Trial 135 finished with value: 0.588957055214724 and parameters: {'max_depth': 8, 'min_samples_split': 25, 'min_samples_leaf': 6, 'criterion': 'entropy'}. Best is trial 108 with value: 0.5978428351309707.\u001b[0m\n"
     ]
    },
    {
     "name": "stderr",
     "output_type": "stream",
     "text": [
      "\u001b[32m[I 2023-03-14 20:23:10,830]\u001b[0m Trial 136 finished with value: 0.5661538461538461 and parameters: {'max_depth': 9, 'min_samples_split': 23, 'min_samples_leaf': 5, 'criterion': 'entropy'}. Best is trial 108 with value: 0.5978428351309707.\u001b[0m\n",
      "\u001b[32m[I 2023-03-14 20:23:10,862]\u001b[0m Trial 137 finished with value: 0.5328596802841918 and parameters: {'max_depth': 5, 'min_samples_split': 21, 'min_samples_leaf': 2, 'criterion': 'gini'}. Best is trial 108 with value: 0.5978428351309707.\u001b[0m\n",
      "\u001b[32m[I 2023-03-14 20:23:10,901]\u001b[0m Trial 138 finished with value: 0.576923076923077 and parameters: {'max_depth': 7, 'min_samples_split': 22, 'min_samples_leaf': 3, 'criterion': 'entropy'}. Best is trial 108 with value: 0.5978428351309707.\u001b[0m\n",
      "\u001b[32m[I 2023-03-14 20:23:10,951]\u001b[0m Trial 139 finished with value: 0.5056497175141242 and parameters: {'max_depth': 23, 'min_samples_split': 5, 'min_samples_leaf': 2, 'criterion': 'entropy'}. Best is trial 108 with value: 0.5978428351309707.\u001b[0m\n",
      "\u001b[32m[I 2023-03-14 20:23:10,992]\u001b[0m Trial 140 finished with value: 0.5837173579109064 and parameters: {'max_depth': 8, 'min_samples_split': 21, 'min_samples_leaf': 5, 'criterion': 'entropy'}. Best is trial 108 with value: 0.5978428351309707.\u001b[0m\n",
      "\u001b[32m[I 2023-03-14 20:23:11,033]\u001b[0m Trial 141 finished with value: 0.5950920245398773 and parameters: {'max_depth': 8, 'min_samples_split': 20, 'min_samples_leaf': 3, 'criterion': 'entropy'}. Best is trial 108 with value: 0.5978428351309707.\u001b[0m\n",
      "\u001b[32m[I 2023-03-14 20:23:11,082]\u001b[0m Trial 142 finished with value: 0.54519368723099 and parameters: {'max_depth': 29, 'min_samples_split': 20, 'min_samples_leaf': 4, 'criterion': 'entropy'}. Best is trial 108 with value: 0.5978428351309707.\u001b[0m\n",
      "\u001b[32m[I 2023-03-14 20:23:11,118]\u001b[0m Trial 143 finished with value: 0.540447504302926 and parameters: {'max_depth': 6, 'min_samples_split': 22, 'min_samples_leaf': 3, 'criterion': 'entropy'}. Best is trial 108 with value: 0.5978428351309707.\u001b[0m\n",
      "\u001b[32m[I 2023-03-14 20:23:11,162]\u001b[0m Trial 144 finished with value: 0.5647058823529412 and parameters: {'max_depth': 10, 'min_samples_split': 24, 'min_samples_leaf': 3, 'criterion': 'entropy'}. Best is trial 108 with value: 0.5978428351309707.\u001b[0m\n",
      "\u001b[32m[I 2023-03-14 20:23:11,206]\u001b[0m Trial 145 finished with value: 0.5674418604651162 and parameters: {'max_depth': 9, 'min_samples_split': 21, 'min_samples_leaf': 1, 'criterion': 'entropy'}. Best is trial 108 with value: 0.5978428351309707.\u001b[0m\n",
      "\u001b[32m[I 2023-03-14 20:23:11,244]\u001b[0m Trial 146 finished with value: 0.5746388443017657 and parameters: {'max_depth': 7, 'min_samples_split': 26, 'min_samples_leaf': 4, 'criterion': 'entropy'}. Best is trial 108 with value: 0.5978428351309707.\u001b[0m\n",
      "\u001b[32m[I 2023-03-14 20:23:11,291]\u001b[0m Trial 147 finished with value: 0.56071964017991 and parameters: {'max_depth': 11, 'min_samples_split': 23, 'min_samples_leaf': 2, 'criterion': 'entropy'}. Best is trial 108 with value: 0.5978428351309707.\u001b[0m\n",
      "\u001b[32m[I 2023-03-14 20:23:11,324]\u001b[0m Trial 148 finished with value: 0.5266903914590747 and parameters: {'max_depth': 5, 'min_samples_split': 20, 'min_samples_leaf': 22, 'criterion': 'entropy'}. Best is trial 108 with value: 0.5978428351309707.\u001b[0m\n",
      "\u001b[32m[I 2023-03-14 20:23:11,365]\u001b[0m Trial 149 finished with value: 0.5929339477726574 and parameters: {'max_depth': 8, 'min_samples_split': 19, 'min_samples_leaf': 4, 'criterion': 'entropy'}. Best is trial 108 with value: 0.5978428351309707.\u001b[0m\n",
      "\u001b[32m[I 2023-03-14 20:23:11,406]\u001b[0m Trial 150 finished with value: 0.5837173579109064 and parameters: {'max_depth': 8, 'min_samples_split': 20, 'min_samples_leaf': 5, 'criterion': 'entropy'}. Best is trial 108 with value: 0.5978428351309707.\u001b[0m\n",
      "\u001b[32m[I 2023-03-14 20:23:11,453]\u001b[0m Trial 151 finished with value: 0.5683229813664596 and parameters: {'max_depth': 9, 'min_samples_split': 19, 'min_samples_leaf': 4, 'criterion': 'entropy'}. Best is trial 108 with value: 0.5978428351309707.\u001b[0m\n",
      "\u001b[32m[I 2023-03-14 20:23:11,492]\u001b[0m Trial 152 finished with value: 0.5746388443017657 and parameters: {'max_depth': 7, 'min_samples_split': 19, 'min_samples_leaf': 4, 'criterion': 'entropy'}. Best is trial 108 with value: 0.5978428351309707.\u001b[0m\n",
      "\u001b[32m[I 2023-03-14 20:23:11,537]\u001b[0m Trial 153 finished with value: 0.5723172628304821 and parameters: {'max_depth': 9, 'min_samples_split': 20, 'min_samples_leaf': 3, 'criterion': 'entropy'}. Best is trial 108 with value: 0.5978428351309707.\u001b[0m\n",
      "\u001b[32m[I 2023-03-14 20:23:11,580]\u001b[0m Trial 154 finished with value: 0.5960061443932412 and parameters: {'max_depth': 8, 'min_samples_split': 22, 'min_samples_leaf': 2, 'criterion': 'entropy'}. Best is trial 108 with value: 0.5978428351309707.\u001b[0m\n",
      "\u001b[32m[I 2023-03-14 20:23:11,619]\u001b[0m Trial 155 finished with value: 0.576923076923077 and parameters: {'max_depth': 7, 'min_samples_split': 22, 'min_samples_leaf': 2, 'criterion': 'entropy'}. Best is trial 108 with value: 0.5978428351309707.\u001b[0m\n",
      "\u001b[32m[I 2023-03-14 20:23:11,664]\u001b[0m Trial 156 finished with value: 0.5617647058823529 and parameters: {'max_depth': 10, 'min_samples_split': 23, 'min_samples_leaf': 1, 'criterion': 'entropy'}. Best is trial 108 with value: 0.5978428351309707.\u001b[0m\n",
      "\u001b[32m[I 2023-03-14 20:23:11,701]\u001b[0m Trial 157 finished with value: 0.540447504302926 and parameters: {'max_depth': 6, 'min_samples_split': 21, 'min_samples_leaf': 3, 'criterion': 'entropy'}. Best is trial 108 with value: 0.5978428351309707.\u001b[0m\n",
      "\u001b[32m[I 2023-03-14 20:23:11,741]\u001b[0m Trial 158 finished with value: 0.5978428351309707 and parameters: {'max_depth': 8, 'min_samples_split': 24, 'min_samples_leaf': 2, 'criterion': 'entropy'}. Best is trial 108 with value: 0.5978428351309707.\u001b[0m\n",
      "\u001b[32m[I 2023-03-14 20:23:11,779]\u001b[0m Trial 159 finished with value: 0.575516693163752 and parameters: {'max_depth': 8, 'min_samples_split': 25, 'min_samples_leaf': 2, 'criterion': 'gini'}. Best is trial 108 with value: 0.5978428351309707.\u001b[0m\n",
      "\u001b[32m[I 2023-03-14 20:23:11,826]\u001b[0m Trial 160 finished with value: 0.5578635014836795 and parameters: {'max_depth': 11, 'min_samples_split': 24, 'min_samples_leaf': 1, 'criterion': 'entropy'}. Best is trial 108 with value: 0.5978428351309707.\u001b[0m\n",
      "\u001b[32m[I 2023-03-14 20:23:11,865]\u001b[0m Trial 161 finished with value: 0.576923076923077 and parameters: {'max_depth': 7, 'min_samples_split': 23, 'min_samples_leaf': 3, 'criterion': 'entropy'}. Best is trial 108 with value: 0.5978428351309707.\u001b[0m\n",
      "\u001b[32m[I 2023-03-14 20:23:11,908]\u001b[0m Trial 162 finished with value: 0.5780525502318393 and parameters: {'max_depth': 9, 'min_samples_split': 24, 'min_samples_leaf': 2, 'criterion': 'entropy'}. Best is trial 108 with value: 0.5978428351309707.\u001b[0m\n",
      "\u001b[32m[I 2023-03-14 20:23:11,950]\u001b[0m Trial 163 finished with value: 0.5837173579109064 and parameters: {'max_depth': 8, 'min_samples_split': 22, 'min_samples_leaf': 5, 'criterion': 'entropy'}. Best is trial 108 with value: 0.5978428351309707.\u001b[0m\n",
      "\u001b[32m[I 2023-03-14 20:23:11,984]\u001b[0m Trial 164 finished with value: 0.5266903914590747 and parameters: {'max_depth': 5, 'min_samples_split': 21, 'min_samples_leaf': 4, 'criterion': 'entropy'}. Best is trial 108 with value: 0.5978428351309707.\u001b[0m\n",
      "\u001b[32m[I 2023-03-14 20:23:12,021]\u001b[0m Trial 165 finished with value: 0.540447504302926 and parameters: {'max_depth': 6, 'min_samples_split': 25, 'min_samples_leaf': 3, 'criterion': 'entropy'}. Best is trial 108 with value: 0.5978428351309707.\u001b[0m\n",
      "\u001b[32m[I 2023-03-14 20:23:12,053]\u001b[0m Trial 166 finished with value: 0.5107913669064749 and parameters: {'max_depth': 4, 'min_samples_split': 20, 'min_samples_leaf': 1, 'criterion': 'entropy'}. Best is trial 108 with value: 0.5978428351309707.\u001b[0m\n",
      "\u001b[32m[I 2023-03-14 20:23:12,096]\u001b[0m Trial 167 finished with value: 0.5767441860465115 and parameters: {'max_depth': 9, 'min_samples_split': 22, 'min_samples_leaf': 2, 'criterion': 'entropy'}. Best is trial 108 with value: 0.5978428351309707.\u001b[0m\n",
      "\u001b[32m[I 2023-03-14 20:23:12,141]\u001b[0m Trial 168 finished with value: 0.5611940298507463 and parameters: {'max_depth': 10, 'min_samples_split': 21, 'min_samples_leaf': 3, 'criterion': 'entropy'}. Best is trial 108 with value: 0.5978428351309707.\u001b[0m\n",
      "\u001b[32m[I 2023-03-14 20:23:12,183]\u001b[0m Trial 169 finished with value: 0.588957055214724 and parameters: {'max_depth': 8, 'min_samples_split': 24, 'min_samples_leaf': 6, 'criterion': 'entropy'}. Best is trial 108 with value: 0.5978428351309707.\u001b[0m\n"
     ]
    },
    {
     "name": "stderr",
     "output_type": "stream",
     "text": [
      "\u001b[32m[I 2023-03-14 20:23:12,221]\u001b[0m Trial 170 finished with value: 0.5379310344827586 and parameters: {'max_depth': 6, 'min_samples_split': 23, 'min_samples_leaf': 4, 'criterion': 'entropy'}. Best is trial 108 with value: 0.5978428351309707.\u001b[0m\n",
      "\u001b[32m[I 2023-03-14 20:23:12,274]\u001b[0m Trial 171 finished with value: 0.5242165242165242 and parameters: {'max_depth': 46, 'min_samples_split': 18, 'min_samples_leaf': 2, 'criterion': 'entropy'}. Best is trial 108 with value: 0.5978428351309707.\u001b[0m\n",
      "\u001b[32m[I 2023-03-14 20:23:12,314]\u001b[0m Trial 172 finished with value: 0.576923076923077 and parameters: {'max_depth': 7, 'min_samples_split': 19, 'min_samples_leaf': 3, 'criterion': 'entropy'}. Best is trial 108 with value: 0.5978428351309707.\u001b[0m\n",
      "\u001b[32m[I 2023-03-14 20:23:12,356]\u001b[0m Trial 173 finished with value: 0.5929339477726574 and parameters: {'max_depth': 8, 'min_samples_split': 19, 'min_samples_leaf': 4, 'criterion': 'entropy'}. Best is trial 108 with value: 0.5978428351309707.\u001b[0m\n",
      "\u001b[32m[I 2023-03-14 20:23:12,399]\u001b[0m Trial 174 finished with value: 0.5929339477726574 and parameters: {'max_depth': 8, 'min_samples_split': 20, 'min_samples_leaf': 4, 'criterion': 'entropy'}. Best is trial 108 with value: 0.5978428351309707.\u001b[0m\n",
      "\u001b[32m[I 2023-03-14 20:23:12,445]\u001b[0m Trial 175 finished with value: 0.5591715976331361 and parameters: {'max_depth': 10, 'min_samples_split': 20, 'min_samples_leaf': 4, 'criterion': 'entropy'}. Best is trial 108 with value: 0.5978428351309707.\u001b[0m\n",
      "\u001b[32m[I 2023-03-14 20:23:12,489]\u001b[0m Trial 176 finished with value: 0.5837173579109064 and parameters: {'max_depth': 8, 'min_samples_split': 21, 'min_samples_leaf': 5, 'criterion': 'entropy'}. Best is trial 108 with value: 0.5978428351309707.\u001b[0m\n",
      "\u001b[32m[I 2023-03-14 20:23:12,535]\u001b[0m Trial 177 finished with value: 0.558641975308642 and parameters: {'max_depth': 9, 'min_samples_split': 19, 'min_samples_leaf': 5, 'criterion': 'entropy'}. Best is trial 108 with value: 0.5978428351309707.\u001b[0m\n",
      "\u001b[32m[I 2023-03-14 20:23:12,574]\u001b[0m Trial 178 finished with value: 0.5379310344827586 and parameters: {'max_depth': 6, 'min_samples_split': 22, 'min_samples_leaf': 4, 'criterion': 'entropy'}. Best is trial 108 with value: 0.5978428351309707.\u001b[0m\n",
      "\u001b[32m[I 2023-03-14 20:23:12,615]\u001b[0m Trial 179 finished with value: 0.576923076923077 and parameters: {'max_depth': 7, 'min_samples_split': 20, 'min_samples_leaf': 2, 'criterion': 'entropy'}. Best is trial 108 with value: 0.5978428351309707.\u001b[0m\n",
      "\u001b[32m[I 2023-03-14 20:23:12,661]\u001b[0m Trial 180 finished with value: 0.5771604938271605 and parameters: {'max_depth': 9, 'min_samples_split': 24, 'min_samples_leaf': 4, 'criterion': 'entropy'}. Best is trial 108 with value: 0.5978428351309707.\u001b[0m\n",
      "\u001b[32m[I 2023-03-14 20:23:12,705]\u001b[0m Trial 181 finished with value: 0.5950920245398773 and parameters: {'max_depth': 8, 'min_samples_split': 19, 'min_samples_leaf': 3, 'criterion': 'entropy'}. Best is trial 108 with value: 0.5978428351309707.\u001b[0m\n",
      "\u001b[32m[I 2023-03-14 20:23:12,750]\u001b[0m Trial 182 finished with value: 0.5950920245398773 and parameters: {'max_depth': 8, 'min_samples_split': 19, 'min_samples_leaf': 3, 'criterion': 'entropy'}. Best is trial 108 with value: 0.5978428351309707.\u001b[0m\n",
      "\u001b[32m[I 2023-03-14 20:23:12,792]\u001b[0m Trial 183 finished with value: 0.576923076923077 and parameters: {'max_depth': 7, 'min_samples_split': 19, 'min_samples_leaf': 3, 'criterion': 'entropy'}. Best is trial 108 with value: 0.5978428351309707.\u001b[0m\n",
      "\u001b[32m[I 2023-03-14 20:23:12,835]\u001b[0m Trial 184 finished with value: 0.5950920245398773 and parameters: {'max_depth': 8, 'min_samples_split': 20, 'min_samples_leaf': 3, 'criterion': 'entropy'}. Best is trial 108 with value: 0.5978428351309707.\u001b[0m\n",
      "\u001b[32m[I 2023-03-14 20:23:12,884]\u001b[0m Trial 185 finished with value: 0.5573770491803278 and parameters: {'max_depth': 10, 'min_samples_split': 19, 'min_samples_leaf': 2, 'criterion': 'entropy'}. Best is trial 108 with value: 0.5978428351309707.\u001b[0m\n",
      "\u001b[32m[I 2023-03-14 20:23:12,933]\u001b[0m Trial 186 finished with value: 0.5498489425981874 and parameters: {'max_depth': 11, 'min_samples_split': 21, 'min_samples_leaf': 3, 'criterion': 'entropy'}. Best is trial 108 with value: 0.5978428351309707.\u001b[0m\n",
      "\u001b[32m[I 2023-03-14 20:23:12,970]\u001b[0m Trial 187 finished with value: 0.5293072824156306 and parameters: {'max_depth': 5, 'min_samples_split': 20, 'min_samples_leaf': 2, 'criterion': 'entropy'}. Best is trial 108 with value: 0.5978428351309707.\u001b[0m\n",
      "\u001b[32m[I 2023-03-14 20:23:13,016]\u001b[0m Trial 188 finished with value: 0.5692068429237948 and parameters: {'max_depth': 9, 'min_samples_split': 19, 'min_samples_leaf': 3, 'criterion': 'entropy'}. Best is trial 108 with value: 0.5978428351309707.\u001b[0m\n",
      "\u001b[32m[I 2023-03-14 20:23:13,058]\u001b[0m Trial 189 finished with value: 0.576 and parameters: {'max_depth': 7, 'min_samples_split': 18, 'min_samples_leaf': 1, 'criterion': 'entropy'}. Best is trial 108 with value: 0.5978428351309707.\u001b[0m\n",
      "\u001b[32m[I 2023-03-14 20:23:13,096]\u001b[0m Trial 190 finished with value: 0.5723370429252783 and parameters: {'max_depth': 7, 'min_samples_split': 20, 'min_samples_leaf': 3, 'criterion': 'gini'}. Best is trial 108 with value: 0.5978428351309707.\u001b[0m\n",
      "\u001b[32m[I 2023-03-14 20:23:13,141]\u001b[0m Trial 191 finished with value: 0.5929339477726574 and parameters: {'max_depth': 8, 'min_samples_split': 20, 'min_samples_leaf': 4, 'criterion': 'entropy'}. Best is trial 108 with value: 0.5978428351309707.\u001b[0m\n",
      "\u001b[32m[I 2023-03-14 20:23:13,185]\u001b[0m Trial 192 finished with value: 0.5929339477726574 and parameters: {'max_depth': 8, 'min_samples_split': 20, 'min_samples_leaf': 4, 'criterion': 'entropy'}. Best is trial 108 with value: 0.5978428351309707.\u001b[0m\n",
      "\u001b[32m[I 2023-03-14 20:23:13,230]\u001b[0m Trial 193 finished with value: 0.5700934579439252 and parameters: {'max_depth': 9, 'min_samples_split': 19, 'min_samples_leaf': 2, 'criterion': 'entropy'}. Best is trial 108 with value: 0.5978428351309707.\u001b[0m\n",
      "\u001b[32m[I 2023-03-14 20:23:13,274]\u001b[0m Trial 194 finished with value: 0.5950920245398773 and parameters: {'max_depth': 8, 'min_samples_split': 21, 'min_samples_leaf': 3, 'criterion': 'entropy'}. Best is trial 108 with value: 0.5978428351309707.\u001b[0m\n",
      "\u001b[32m[I 2023-03-14 20:23:13,315]\u001b[0m Trial 195 finished with value: 0.540447504302926 and parameters: {'max_depth': 6, 'min_samples_split': 21, 'min_samples_leaf': 3, 'criterion': 'entropy'}. Best is trial 108 with value: 0.5978428351309707.\u001b[0m\n",
      "\u001b[32m[I 2023-03-14 20:23:13,363]\u001b[0m Trial 196 finished with value: 0.5611940298507463 and parameters: {'max_depth': 10, 'min_samples_split': 21, 'min_samples_leaf': 2, 'criterion': 'entropy'}. Best is trial 108 with value: 0.5978428351309707.\u001b[0m\n",
      "\u001b[32m[I 2023-03-14 20:23:13,407]\u001b[0m Trial 197 finished with value: 0.5969230769230769 and parameters: {'max_depth': 8, 'min_samples_split': 23, 'min_samples_leaf': 3, 'criterion': 'entropy'}. Best is trial 108 with value: 0.5978428351309707.\u001b[0m\n",
      "\u001b[32m[I 2023-03-14 20:23:13,453]\u001b[0m Trial 198 finished with value: 0.5767441860465115 and parameters: {'max_depth': 9, 'min_samples_split': 23, 'min_samples_leaf': 3, 'criterion': 'entropy'}. Best is trial 108 with value: 0.5978428351309707.\u001b[0m\n",
      "\u001b[32m[I 2023-03-14 20:23:13,494]\u001b[0m Trial 199 finished with value: 0.540447504302926 and parameters: {'max_depth': 6, 'min_samples_split': 22, 'min_samples_leaf': 1, 'criterion': 'entropy'}. Best is trial 108 with value: 0.5978428351309707.\u001b[0m\n"
     ]
    },
    {
     "name": "stdout",
     "output_type": "stream",
     "text": [
      "Best trial:\n",
      "  Score: 0.598\n",
      "  Params: \n",
      "    max_depth: 8\n",
      "    min_samples_split: 24\n",
      "    min_samples_leaf: 2\n",
      "    criterion: entropy\n"
     ]
    }
   ],
   "source": [
    "study = optuna.create_study(direction='maximize')\n",
    "\n",
    "study.optimize(objective, n_trials=200)\n",
    "\n",
    "print('Best trial:')\n",
    "trial = study.best_trial\n",
    "print(f'  Score: {trial.value:.3f}')\n",
    "print('  Params: ')\n",
    "for key, value in trial.params.items():\n",
    "    print(f'    {key}: {value}')"
   ]
  },
  {
   "cell_type": "code",
   "execution_count": 134,
   "metadata": {},
   "outputs": [
    {
     "data": {
      "text/plain": [
       "DecisionTreeClassifier(criterion='entropy', max_depth=8, min_samples_leaf=2,\n",
       "                       min_samples_split=24, random_state=322)"
      ]
     },
     "execution_count": 134,
     "metadata": {},
     "output_type": "execute_result"
    }
   ],
   "source": [
    "dtc_up = DecisionTreeClassifier(max_depth=8,\n",
    "                                    min_samples_split=24,\n",
    "                                    min_samples_leaf=2,\n",
    "                                    criterion='entropy',\n",
    "                                    random_state=322)\n",
    "\n",
    "dtc_up.fit(features_upsampled, target_upsampled)"
   ]
  },
  {
   "cell_type": "code",
   "execution_count": 135,
   "metadata": {},
   "outputs": [
    {
     "data": {
      "text/plain": [
       "0.817"
      ]
     },
     "execution_count": 135,
     "metadata": {},
     "output_type": "execute_result"
    }
   ],
   "source": [
    "prob_one_valid = dtc_up.predict_proba(features_valid)[:, 1]\n",
    "roc_auc_score(target_valid, prob_one_valid).round(3)"
   ]
  },
  {
   "cell_type": "markdown",
   "metadata": {},
   "source": [
    "### Downsampling"
   ]
  },
  {
   "cell_type": "markdown",
   "metadata": {},
   "source": [
    "Теперь применим downsampling. По аналогии уменьшим количество объектов с большим классом."
   ]
  },
  {
   "cell_type": "code",
   "execution_count": 136,
   "metadata": {},
   "outputs": [],
   "source": [
    "features_downsampled = pd.concat(\n",
    "    [features_zeros.sample(frac=0.35, random_state=12345)] + [features_ones])\n",
    "target_downsampled = pd.concat(\n",
    "    [target_zeros.sample(frac=0.35, random_state=12345)] + [target_ones])\n",
    "    \n",
    "features_downsampled, target_downsampled = shuffle(\n",
    "    features_downsampled, target_downsampled, random_state=12345)"
   ]
  },
  {
   "cell_type": "markdown",
   "metadata": {},
   "source": [
    "#### Случайный лес"
   ]
  },
  {
   "cell_type": "code",
   "execution_count": 137,
   "metadata": {},
   "outputs": [],
   "source": [
    "def objective(trial):\n",
    "    n_estimators = trial.suggest_int('n_estimators', 20, 150)\n",
    "    max_depth = trial.suggest_int('max_depth', 2, 30)\n",
    "    min_samples_split = trial.suggest_int('min_samples_split', 2, 10)\n",
    "    min_samples_leaf = trial.suggest_int('min_samples_leaf', 1, 10)\n",
    "    criterion = trial.suggest_categorical('criterion', ['gini', 'entropy'])\n",
    "\n",
    "    rfc = RandomForestClassifier(n_estimators=n_estimators,\n",
    "                                   max_depth=max_depth,\n",
    "                                   min_samples_split=min_samples_split,\n",
    "                                   min_samples_leaf=min_samples_leaf,\n",
    "                                   criterion=criterion,\n",
    "                                   random_state=322)\n",
    "\n",
    "    rfc.fit(features_downsampled, target_downsampled)\n",
    "\n",
    "    predicted_valid = rfc.predict(features_valid)\n",
    "\n",
    "    f1 = f1_score(predicted_valid, target_valid)\n",
    "    return f1"
   ]
  },
  {
   "cell_type": "code",
   "execution_count": 138,
   "metadata": {},
   "outputs": [
    {
     "name": "stderr",
     "output_type": "stream",
     "text": [
      "\u001b[32m[I 2023-03-14 20:25:43,958]\u001b[0m A new study created in memory with name: no-name-141757bc-75c3-4409-99ba-73b124ca6373\u001b[0m\n",
      "\u001b[32m[I 2023-03-14 20:25:44,186]\u001b[0m Trial 0 finished with value: 0.556338028169014 and parameters: {'n_estimators': 107, 'max_depth': 23, 'min_samples_split': 3, 'min_samples_leaf': 5, 'criterion': 'gini'}. Best is trial 0 with value: 0.556338028169014.\u001b[0m\n",
      "\u001b[32m[I 2023-03-14 20:25:44,435]\u001b[0m Trial 1 finished with value: 0.5326278659611993 and parameters: {'n_estimators': 110, 'max_depth': 25, 'min_samples_split': 3, 'min_samples_leaf': 9, 'criterion': 'entropy'}. Best is trial 0 with value: 0.556338028169014.\u001b[0m\n",
      "\u001b[32m[I 2023-03-14 20:25:44,528]\u001b[0m Trial 2 finished with value: 0.34858387799564267 and parameters: {'n_estimators': 55, 'max_depth': 4, 'min_samples_split': 2, 'min_samples_leaf': 4, 'criterion': 'entropy'}. Best is trial 0 with value: 0.556338028169014.\u001b[0m\n",
      "\u001b[32m[I 2023-03-14 20:25:44,673]\u001b[0m Trial 3 finished with value: 0.524822695035461 and parameters: {'n_estimators': 63, 'max_depth': 24, 'min_samples_split': 7, 'min_samples_leaf': 9, 'criterion': 'entropy'}. Best is trial 0 with value: 0.556338028169014.\u001b[0m\n",
      "\u001b[32m[I 2023-03-14 20:25:45,006]\u001b[0m Trial 4 finished with value: 0.5371024734982331 and parameters: {'n_estimators': 142, 'max_depth': 19, 'min_samples_split': 2, 'min_samples_leaf': 7, 'criterion': 'entropy'}. Best is trial 0 with value: 0.556338028169014.\u001b[0m\n",
      "\u001b[32m[I 2023-03-14 20:25:45,083]\u001b[0m Trial 5 finished with value: 0.2028985507246377 and parameters: {'n_estimators': 53, 'max_depth': 3, 'min_samples_split': 6, 'min_samples_leaf': 4, 'criterion': 'gini'}. Best is trial 0 with value: 0.556338028169014.\u001b[0m\n",
      "\u001b[32m[I 2023-03-14 20:25:45,178]\u001b[0m Trial 6 finished with value: 0.14035087719298245 and parameters: {'n_estimators': 70, 'max_depth': 2, 'min_samples_split': 2, 'min_samples_leaf': 1, 'criterion': 'entropy'}. Best is trial 0 with value: 0.556338028169014.\u001b[0m\n",
      "\u001b[32m[I 2023-03-14 20:25:45,302]\u001b[0m Trial 7 finished with value: 0.10714285714285715 and parameters: {'n_estimators': 94, 'max_depth': 2, 'min_samples_split': 10, 'min_samples_leaf': 8, 'criterion': 'entropy'}. Best is trial 0 with value: 0.556338028169014.\u001b[0m\n",
      "\u001b[32m[I 2023-03-14 20:25:45,565]\u001b[0m Trial 8 finished with value: 0.5543859649122806 and parameters: {'n_estimators': 125, 'max_depth': 12, 'min_samples_split': 9, 'min_samples_leaf': 5, 'criterion': 'gini'}. Best is trial 0 with value: 0.556338028169014.\u001b[0m\n",
      "\u001b[32m[I 2023-03-14 20:25:45,631]\u001b[0m Trial 9 finished with value: 0.5181159420289855 and parameters: {'n_estimators': 27, 'max_depth': 8, 'min_samples_split': 10, 'min_samples_leaf': 2, 'criterion': 'entropy'}. Best is trial 0 with value: 0.556338028169014.\u001b[0m\n",
      "\u001b[32m[I 2023-03-14 20:25:45,844]\u001b[0m Trial 10 finished with value: 0.5223613595706619 and parameters: {'n_estimators': 95, 'max_depth': 18, 'min_samples_split': 5, 'min_samples_leaf': 6, 'criterion': 'gini'}. Best is trial 0 with value: 0.556338028169014.\u001b[0m\n",
      "\u001b[32m[I 2023-03-14 20:25:46,139]\u001b[0m Trial 11 finished with value: 0.5441941074523396 and parameters: {'n_estimators': 135, 'max_depth': 11, 'min_samples_split': 8, 'min_samples_leaf': 4, 'criterion': 'gini'}. Best is trial 0 with value: 0.556338028169014.\u001b[0m\n",
      "\u001b[32m[I 2023-03-14 20:25:46,405]\u001b[0m Trial 12 finished with value: 0.5537918871252205 and parameters: {'n_estimators': 120, 'max_depth': 30, 'min_samples_split': 4, 'min_samples_leaf': 5, 'criterion': 'gini'}. Best is trial 0 with value: 0.556338028169014.\u001b[0m\n",
      "\u001b[32m[I 2023-03-14 20:25:46,668]\u001b[0m Trial 13 finished with value: 0.534965034965035 and parameters: {'n_estimators': 120, 'max_depth': 14, 'min_samples_split': 8, 'min_samples_leaf': 6, 'criterion': 'gini'}. Best is trial 0 with value: 0.556338028169014.\u001b[0m\n",
      "\u001b[32m[I 2023-03-14 20:25:47,007]\u001b[0m Trial 14 finished with value: 0.5606837606837606 and parameters: {'n_estimators': 149, 'max_depth': 22, 'min_samples_split': 5, 'min_samples_leaf': 3, 'criterion': 'gini'}. Best is trial 14 with value: 0.5606837606837606.\u001b[0m\n",
      "\u001b[32m[I 2023-03-14 20:25:47,263]\u001b[0m Trial 15 finished with value: 0.5290102389078498 and parameters: {'n_estimators': 105, 'max_depth': 22, 'min_samples_split': 4, 'min_samples_leaf': 2, 'criterion': 'gini'}. Best is trial 14 with value: 0.5606837606837606.\u001b[0m\n",
      "\u001b[32m[I 2023-03-14 20:25:47,606]\u001b[0m Trial 16 finished with value: 0.5606837606837606 and parameters: {'n_estimators': 149, 'max_depth': 29, 'min_samples_split': 5, 'min_samples_leaf': 3, 'criterion': 'gini'}. Best is trial 14 with value: 0.5606837606837606.\u001b[0m\n",
      "\u001b[32m[I 2023-03-14 20:25:47,946]\u001b[0m Trial 17 finished with value: 0.5606837606837606 and parameters: {'n_estimators': 149, 'max_depth': 29, 'min_samples_split': 6, 'min_samples_leaf': 3, 'criterion': 'gini'}. Best is trial 14 with value: 0.5606837606837606.\u001b[0m\n",
      "\u001b[32m[I 2023-03-14 20:25:48,308]\u001b[0m Trial 18 finished with value: 0.5641025641025641 and parameters: {'n_estimators': 150, 'max_depth': 27, 'min_samples_split': 5, 'min_samples_leaf': 1, 'criterion': 'gini'}. Best is trial 18 with value: 0.5641025641025641.\u001b[0m\n",
      "\u001b[32m[I 2023-03-14 20:25:48,634]\u001b[0m Trial 19 finished with value: 0.563573883161512 and parameters: {'n_estimators': 137, 'max_depth': 26, 'min_samples_split': 5, 'min_samples_leaf': 1, 'criterion': 'gini'}. Best is trial 18 with value: 0.5641025641025641.\u001b[0m\n",
      "\u001b[32m[I 2023-03-14 20:25:48,936]\u001b[0m Trial 20 finished with value: 0.5429553264604811 and parameters: {'n_estimators': 130, 'max_depth': 27, 'min_samples_split': 7, 'min_samples_leaf': 1, 'criterion': 'gini'}. Best is trial 18 with value: 0.5641025641025641.\u001b[0m\n",
      "\u001b[32m[I 2023-03-14 20:25:49,268]\u001b[0m Trial 21 finished with value: 0.5611015490533563 and parameters: {'n_estimators': 138, 'max_depth': 20, 'min_samples_split': 5, 'min_samples_leaf': 1, 'criterion': 'gini'}. Best is trial 18 with value: 0.5641025641025641.\u001b[0m\n",
      "\u001b[32m[I 2023-03-14 20:25:49,595]\u001b[0m Trial 22 finished with value: 0.5641025641025641 and parameters: {'n_estimators': 136, 'max_depth': 19, 'min_samples_split': 6, 'min_samples_leaf': 1, 'criterion': 'gini'}. Best is trial 18 with value: 0.5641025641025641.\u001b[0m\n",
      "\u001b[32m[I 2023-03-14 20:25:49,902]\u001b[0m Trial 23 finished with value: 0.5491525423728814 and parameters: {'n_estimators': 132, 'max_depth': 27, 'min_samples_split': 7, 'min_samples_leaf': 2, 'criterion': 'gini'}. Best is trial 18 with value: 0.5641025641025641.\u001b[0m\n",
      "\u001b[32m[I 2023-03-14 20:25:50,106]\u001b[0m Trial 24 finished with value: 0.5362563237774031 and parameters: {'n_estimators': 81, 'max_depth': 17, 'min_samples_split': 4, 'min_samples_leaf': 1, 'criterion': 'gini'}. Best is trial 18 with value: 0.5641025641025641.\u001b[0m\n",
      "\u001b[32m[I 2023-03-14 20:25:50,393]\u001b[0m Trial 25 finished with value: 0.552901023890785 and parameters: {'n_estimators': 118, 'max_depth': 20, 'min_samples_split': 6, 'min_samples_leaf': 2, 'criterion': 'gini'}. Best is trial 18 with value: 0.5641025641025641.\u001b[0m\n",
      "\u001b[32m[I 2023-03-14 20:25:50,727]\u001b[0m Trial 26 finished with value: 0.5651438240270729 and parameters: {'n_estimators': 140, 'max_depth': 26, 'min_samples_split': 6, 'min_samples_leaf': 1, 'criterion': 'gini'}. Best is trial 26 with value: 0.5651438240270729.\u001b[0m\n",
      "\u001b[32m[I 2023-03-14 20:25:50,803]\u001b[0m Trial 27 finished with value: 0.5140845070422535 and parameters: {'n_estimators': 29, 'max_depth': 16, 'min_samples_split': 6, 'min_samples_leaf': 10, 'criterion': 'gini'}. Best is trial 26 with value: 0.5651438240270729.\u001b[0m\n",
      "\u001b[32m[I 2023-03-14 20:25:51,136]\u001b[0m Trial 28 finished with value: 0.5544217687074829 and parameters: {'n_estimators': 144, 'max_depth': 21, 'min_samples_split': 8, 'min_samples_leaf': 2, 'criterion': 'gini'}. Best is trial 26 with value: 0.5651438240270729.\u001b[0m\n",
      "\u001b[32m[I 2023-03-14 20:25:51,396]\u001b[0m Trial 29 finished with value: 0.5563139931740615 and parameters: {'n_estimators': 111, 'max_depth': 24, 'min_samples_split': 3, 'min_samples_leaf': 3, 'criterion': 'gini'}. Best is trial 26 with value: 0.5651438240270729.\u001b[0m\n",
      "\u001b[32m[I 2023-03-14 20:25:51,695]\u001b[0m Trial 30 finished with value: 0.5429553264604811 and parameters: {'n_estimators': 127, 'max_depth': 28, 'min_samples_split': 7, 'min_samples_leaf': 1, 'criterion': 'gini'}. Best is trial 26 with value: 0.5651438240270729.\u001b[0m\n"
     ]
    },
    {
     "name": "stderr",
     "output_type": "stream",
     "text": [
      "\u001b[32m[I 2023-03-14 20:25:52,025]\u001b[0m Trial 31 finished with value: 0.5611015490533563 and parameters: {'n_estimators': 138, 'max_depth': 26, 'min_samples_split': 5, 'min_samples_leaf': 1, 'criterion': 'gini'}. Best is trial 26 with value: 0.5651438240270729.\u001b[0m\n",
      "\u001b[32m[I 2023-03-14 20:25:52,354]\u001b[0m Trial 32 finished with value: 0.5367521367521367 and parameters: {'n_estimators': 139, 'max_depth': 25, 'min_samples_split': 4, 'min_samples_leaf': 2, 'criterion': 'gini'}. Best is trial 26 with value: 0.5651438240270729.\u001b[0m\n",
      "\u001b[32m[I 2023-03-14 20:25:52,613]\u001b[0m Trial 33 finished with value: 0.569023569023569 and parameters: {'n_estimators': 105, 'max_depth': 23, 'min_samples_split': 6, 'min_samples_leaf': 1, 'criterion': 'gini'}. Best is trial 33 with value: 0.569023569023569.\u001b[0m\n",
      "\u001b[32m[I 2023-03-14 20:25:52,843]\u001b[0m Trial 34 finished with value: 0.5504273504273504 and parameters: {'n_estimators': 97, 'max_depth': 23, 'min_samples_split': 7, 'min_samples_leaf': 3, 'criterion': 'gini'}. Best is trial 33 with value: 0.569023569023569.\u001b[0m\n",
      "\u001b[32m[I 2023-03-14 20:25:53,151]\u001b[0m Trial 35 finished with value: 0.5578231292517006 and parameters: {'n_estimators': 111, 'max_depth': 24, 'min_samples_split': 6, 'min_samples_leaf': 2, 'criterion': 'entropy'}. Best is trial 33 with value: 0.569023569023569.\u001b[0m\n",
      "\u001b[32m[I 2023-03-14 20:25:53,354]\u001b[0m Trial 36 finished with value: 0.5517241379310345 and parameters: {'n_estimators': 84, 'max_depth': 15, 'min_samples_split': 6, 'min_samples_leaf': 4, 'criterion': 'gini'}. Best is trial 33 with value: 0.569023569023569.\u001b[0m\n",
      "\u001b[32m[I 2023-03-14 20:25:53,657]\u001b[0m Trial 37 finished with value: 0.5457627118644068 and parameters: {'n_estimators': 103, 'max_depth': 22, 'min_samples_split': 3, 'min_samples_leaf': 1, 'criterion': 'entropy'}. Best is trial 33 with value: 0.569023569023569.\u001b[0m\n",
      "\u001b[32m[I 2023-03-14 20:25:53,833]\u001b[0m Trial 38 finished with value: 0.5479930191972077 and parameters: {'n_estimators': 74, 'max_depth': 19, 'min_samples_split': 7, 'min_samples_leaf': 7, 'criterion': 'gini'}. Best is trial 33 with value: 0.569023569023569.\u001b[0m\n",
      "\u001b[32m[I 2023-03-14 20:25:54,161]\u001b[0m Trial 39 finished with value: 0.5538461538461538 and parameters: {'n_estimators': 117, 'max_depth': 26, 'min_samples_split': 6, 'min_samples_leaf': 2, 'criterion': 'entropy'}. Best is trial 33 with value: 0.569023569023569.\u001b[0m\n",
      "\u001b[32m[I 2023-03-14 20:25:54,307]\u001b[0m Trial 40 finished with value: 0.541455160744501 and parameters: {'n_estimators': 55, 'max_depth': 30, 'min_samples_split': 8, 'min_samples_leaf': 1, 'criterion': 'gini'}. Best is trial 33 with value: 0.569023569023569.\u001b[0m\n",
      "\u001b[32m[I 2023-03-14 20:25:54,666]\u001b[0m Trial 41 finished with value: 0.5591766723842196 and parameters: {'n_estimators': 143, 'max_depth': 26, 'min_samples_split': 5, 'min_samples_leaf': 1, 'criterion': 'gini'}. Best is trial 33 with value: 0.569023569023569.\u001b[0m\n",
      "\u001b[32m[I 2023-03-14 20:25:54,968]\u001b[0m Trial 42 finished with value: 0.5675213675213676 and parameters: {'n_estimators': 125, 'max_depth': 24, 'min_samples_split': 5, 'min_samples_leaf': 1, 'criterion': 'gini'}. Best is trial 33 with value: 0.569023569023569.\u001b[0m\n",
      "\u001b[32m[I 2023-03-14 20:25:55,262]\u001b[0m Trial 43 finished with value: 0.5342465753424657 and parameters: {'n_estimators': 124, 'max_depth': 24, 'min_samples_split': 4, 'min_samples_leaf': 2, 'criterion': 'gini'}. Best is trial 33 with value: 0.569023569023569.\u001b[0m\n",
      "\u001b[32m[I 2023-03-14 20:25:55,566]\u001b[0m Trial 44 finished with value: 0.5587734241908007 and parameters: {'n_estimators': 131, 'max_depth': 23, 'min_samples_split': 6, 'min_samples_leaf': 3, 'criterion': 'gini'}. Best is trial 33 with value: 0.569023569023569.\u001b[0m\n",
      "\u001b[32m[I 2023-03-14 20:25:55,843]\u001b[0m Trial 45 finished with value: 0.5675675675675677 and parameters: {'n_estimators': 114, 'max_depth': 28, 'min_samples_split': 6, 'min_samples_leaf': 1, 'criterion': 'gini'}. Best is trial 33 with value: 0.569023569023569.\u001b[0m\n",
      "\u001b[32m[I 2023-03-14 20:25:56,145]\u001b[0m Trial 46 finished with value: 0.5542168674698795 and parameters: {'n_estimators': 114, 'max_depth': 28, 'min_samples_split': 5, 'min_samples_leaf': 4, 'criterion': 'entropy'}. Best is trial 33 with value: 0.569023569023569.\u001b[0m\n",
      "\u001b[32m[I 2023-03-14 20:25:56,338]\u001b[0m Trial 47 finished with value: 0.4896421845574387 and parameters: {'n_estimators': 102, 'max_depth': 6, 'min_samples_split': 4, 'min_samples_leaf': 2, 'criterion': 'gini'}. Best is trial 33 with value: 0.569023569023569.\u001b[0m\n",
      "\u001b[32m[I 2023-03-14 20:25:56,609]\u001b[0m Trial 48 finished with value: 0.5573192239858906 and parameters: {'n_estimators': 125, 'max_depth': 28, 'min_samples_split': 7, 'min_samples_leaf': 8, 'criterion': 'gini'}. Best is trial 33 with value: 0.569023569023569.\u001b[0m\n",
      "\u001b[32m[I 2023-03-14 20:25:56,840]\u001b[0m Trial 49 finished with value: 0.5612244897959183 and parameters: {'n_estimators': 90, 'max_depth': 30, 'min_samples_split': 5, 'min_samples_leaf': 1, 'criterion': 'gini'}. Best is trial 33 with value: 0.569023569023569.\u001b[0m\n",
      "\u001b[32m[I 2023-03-14 20:25:57,103]\u001b[0m Trial 50 finished with value: 0.5306122448979591 and parameters: {'n_estimators': 107, 'max_depth': 25, 'min_samples_split': 2, 'min_samples_leaf': 2, 'criterion': 'gini'}. Best is trial 33 with value: 0.569023569023569.\u001b[0m\n",
      "\u001b[32m[I 2023-03-14 20:25:57,446]\u001b[0m Trial 51 finished with value: 0.566610455311973 and parameters: {'n_estimators': 144, 'max_depth': 21, 'min_samples_split': 6, 'min_samples_leaf': 1, 'criterion': 'gini'}. Best is trial 33 with value: 0.569023569023569.\u001b[0m\n",
      "\u001b[32m[I 2023-03-14 20:25:57,789]\u001b[0m Trial 52 finished with value: 0.566610455311973 and parameters: {'n_estimators': 144, 'max_depth': 21, 'min_samples_split': 6, 'min_samples_leaf': 1, 'criterion': 'gini'}. Best is trial 33 with value: 0.569023569023569.\u001b[0m\n",
      "\u001b[32m[I 2023-03-14 20:25:58,129]\u001b[0m Trial 53 finished with value: 0.5651438240270729 and parameters: {'n_estimators': 143, 'max_depth': 21, 'min_samples_split': 6, 'min_samples_leaf': 1, 'criterion': 'gini'}. Best is trial 33 with value: 0.569023569023569.\u001b[0m\n",
      "\u001b[32m[I 2023-03-14 20:25:58,413]\u001b[0m Trial 54 finished with value: 0.5500848896434635 and parameters: {'n_estimators': 121, 'max_depth': 21, 'min_samples_split': 7, 'min_samples_leaf': 2, 'criterion': 'gini'}. Best is trial 33 with value: 0.569023569023569.\u001b[0m\n",
      "\u001b[32m[I 2023-03-14 20:25:58,723]\u001b[0m Trial 55 finished with value: 0.5513698630136986 and parameters: {'n_estimators': 131, 'max_depth': 18, 'min_samples_split': 6, 'min_samples_leaf': 1, 'criterion': 'gini'}. Best is trial 33 with value: 0.569023569023569.\u001b[0m\n",
      "\u001b[32m[I 2023-03-14 20:25:59,107]\u001b[0m Trial 56 finished with value: 0.5504273504273504 and parameters: {'n_estimators': 145, 'max_depth': 23, 'min_samples_split': 7, 'min_samples_leaf': 3, 'criterion': 'entropy'}. Best is trial 33 with value: 0.569023569023569.\u001b[0m\n",
      "\u001b[32m[I 2023-03-14 20:25:59,409]\u001b[0m Trial 57 finished with value: 0.537261698440208 and parameters: {'n_estimators': 127, 'max_depth': 13, 'min_samples_split': 5, 'min_samples_leaf': 1, 'criterion': 'gini'}. Best is trial 33 with value: 0.569023569023569.\u001b[0m\n",
      "\u001b[32m[I 2023-03-14 20:25:59,725]\u001b[0m Trial 58 finished with value: 0.5523156089193826 and parameters: {'n_estimators': 134, 'max_depth': 25, 'min_samples_split': 6, 'min_samples_leaf': 2, 'criterion': 'gini'}. Best is trial 33 with value: 0.569023569023569.\u001b[0m\n",
      "\u001b[32m[I 2023-03-14 20:25:59,962]\u001b[0m Trial 59 finished with value: 0.5568760611205433 and parameters: {'n_estimators': 98, 'max_depth': 22, 'min_samples_split': 9, 'min_samples_leaf': 1, 'criterion': 'gini'}. Best is trial 33 with value: 0.569023569023569.\u001b[0m\n",
      "\u001b[32m[I 2023-03-14 20:26:00,222]\u001b[0m Trial 60 finished with value: 0.5578947368421052 and parameters: {'n_estimators': 116, 'max_depth': 9, 'min_samples_split': 6, 'min_samples_leaf': 1, 'criterion': 'gini'}. Best is trial 33 with value: 0.569023569023569.\u001b[0m\n",
      "\u001b[32m[I 2023-03-14 20:26:00,560]\u001b[0m Trial 61 finished with value: 0.566610455311973 and parameters: {'n_estimators': 142, 'max_depth': 21, 'min_samples_split': 6, 'min_samples_leaf': 1, 'criterion': 'gini'}. Best is trial 33 with value: 0.569023569023569.\u001b[0m\n",
      "\u001b[32m[I 2023-03-14 20:26:00,896]\u001b[0m Trial 62 finished with value: 0.5523156089193826 and parameters: {'n_estimators': 140, 'max_depth': 17, 'min_samples_split': 6, 'min_samples_leaf': 1, 'criterion': 'gini'}. Best is trial 33 with value: 0.569023569023569.\u001b[0m\n"
     ]
    },
    {
     "name": "stderr",
     "output_type": "stream",
     "text": [
      "\u001b[32m[I 2023-03-14 20:26:01,250]\u001b[0m Trial 63 finished with value: 0.5504273504273504 and parameters: {'n_estimators': 147, 'max_depth': 20, 'min_samples_split': 5, 'min_samples_leaf': 2, 'criterion': 'gini'}. Best is trial 33 with value: 0.569023569023569.\u001b[0m\n",
      "\u001b[32m[I 2023-03-14 20:26:01,569]\u001b[0m Trial 64 finished with value: 0.5504273504273504 and parameters: {'n_estimators': 135, 'max_depth': 23, 'min_samples_split': 6, 'min_samples_leaf': 2, 'criterion': 'gini'}. Best is trial 33 with value: 0.569023569023569.\u001b[0m\n",
      "\u001b[32m[I 2023-03-14 20:26:01,933]\u001b[0m Trial 65 finished with value: 0.5641025641025641 and parameters: {'n_estimators': 150, 'max_depth': 21, 'min_samples_split': 5, 'min_samples_leaf': 1, 'criterion': 'gini'}. Best is trial 33 with value: 0.569023569023569.\u001b[0m\n",
      "\u001b[32m[I 2023-03-14 20:26:02,226]\u001b[0m Trial 66 finished with value: 0.5563139931740615 and parameters: {'n_estimators': 122, 'max_depth': 19, 'min_samples_split': 7, 'min_samples_leaf': 1, 'criterion': 'gini'}. Best is trial 33 with value: 0.569023569023569.\u001b[0m\n",
      "\u001b[32m[I 2023-03-14 20:26:02,290]\u001b[0m Trial 67 finished with value: 0.5165794066317626 and parameters: {'n_estimators': 20, 'max_depth': 24, 'min_samples_split': 6, 'min_samples_leaf': 6, 'criterion': 'gini'}. Best is trial 33 with value: 0.569023569023569.\u001b[0m\n",
      "\u001b[32m[I 2023-03-14 20:26:02,592]\u001b[0m Trial 68 finished with value: 0.5632377740303541 and parameters: {'n_estimators': 128, 'max_depth': 27, 'min_samples_split': 8, 'min_samples_leaf': 1, 'criterion': 'gini'}. Best is trial 33 with value: 0.569023569023569.\u001b[0m\n",
      "\u001b[32m[I 2023-03-14 20:26:02,929]\u001b[0m Trial 69 finished with value: 0.5479452054794521 and parameters: {'n_estimators': 140, 'max_depth': 20, 'min_samples_split': 5, 'min_samples_leaf': 2, 'criterion': 'gini'}. Best is trial 33 with value: 0.569023569023569.\u001b[0m\n",
      "\u001b[32m[I 2023-03-14 20:26:03,211]\u001b[0m Trial 70 finished with value: 0.5675675675675677 and parameters: {'n_estimators': 114, 'max_depth': 29, 'min_samples_split': 6, 'min_samples_leaf': 1, 'criterion': 'gini'}. Best is trial 33 with value: 0.569023569023569.\u001b[0m\n",
      "\u001b[32m[I 2023-03-14 20:26:03,491]\u001b[0m Trial 71 finished with value: 0.5651438240270729 and parameters: {'n_estimators': 115, 'max_depth': 29, 'min_samples_split': 6, 'min_samples_leaf': 1, 'criterion': 'gini'}. Best is trial 33 with value: 0.569023569023569.\u001b[0m\n",
      "\u001b[32m[I 2023-03-14 20:26:03,759]\u001b[0m Trial 72 finished with value: 0.5519591141396933 and parameters: {'n_estimators': 110, 'max_depth': 29, 'min_samples_split': 7, 'min_samples_leaf': 1, 'criterion': 'gini'}. Best is trial 33 with value: 0.569023569023569.\u001b[0m\n",
      "\u001b[32m[I 2023-03-14 20:26:04,100]\u001b[0m Trial 73 finished with value: 0.5523156089193826 and parameters: {'n_estimators': 146, 'max_depth': 27, 'min_samples_split': 6, 'min_samples_leaf': 2, 'criterion': 'gini'}. Best is trial 33 with value: 0.569023569023569.\u001b[0m\n",
      "\u001b[32m[I 2023-03-14 20:26:04,416]\u001b[0m Trial 74 finished with value: 0.5513698630136986 and parameters: {'n_estimators': 134, 'max_depth': 22, 'min_samples_split': 7, 'min_samples_leaf': 1, 'criterion': 'gini'}. Best is trial 33 with value: 0.569023569023569.\u001b[0m\n",
      "\u001b[32m[I 2023-03-14 20:26:04,642]\u001b[0m Trial 75 finished with value: 0.51985559566787 and parameters: {'n_estimators': 92, 'max_depth': 28, 'min_samples_split': 6, 'min_samples_leaf': 10, 'criterion': 'entropy'}. Best is trial 33 with value: 0.569023569023569.\u001b[0m\n",
      "\u001b[32m[I 2023-03-14 20:26:04,892]\u001b[0m Trial 76 finished with value: 0.5627118644067796 and parameters: {'n_estimators': 100, 'max_depth': 26, 'min_samples_split': 5, 'min_samples_leaf': 1, 'criterion': 'gini'}. Best is trial 33 with value: 0.569023569023569.\u001b[0m\n",
      "\u001b[32m[I 2023-03-14 20:26:05,221]\u001b[0m Trial 77 finished with value: 0.5513698630136986 and parameters: {'n_estimators': 141, 'max_depth': 25, 'min_samples_split': 6, 'min_samples_leaf': 2, 'criterion': 'gini'}. Best is trial 33 with value: 0.569023569023569.\u001b[0m\n",
      "\u001b[32m[I 2023-03-14 20:26:05,543]\u001b[0m Trial 78 finished with value: 0.5591766723842196 and parameters: {'n_estimators': 137, 'max_depth': 18, 'min_samples_split': 5, 'min_samples_leaf': 3, 'criterion': 'gini'}. Best is trial 33 with value: 0.569023569023569.\u001b[0m\n",
      "\u001b[32m[I 2023-03-14 20:26:05,797]\u001b[0m Trial 79 finished with value: 0.5559322033898305 and parameters: {'n_estimators': 107, 'max_depth': 25, 'min_samples_split': 7, 'min_samples_leaf': 2, 'criterion': 'gini'}. Best is trial 33 with value: 0.569023569023569.\u001b[0m\n",
      "\u001b[32m[I 2023-03-14 20:26:06,085]\u001b[0m Trial 80 finished with value: 0.5608108108108109 and parameters: {'n_estimators': 120, 'max_depth': 23, 'min_samples_split': 6, 'min_samples_leaf': 1, 'criterion': 'gini'}. Best is trial 33 with value: 0.569023569023569.\u001b[0m\n",
      "\u001b[32m[I 2023-03-14 20:26:06,424]\u001b[0m Trial 81 finished with value: 0.5651438240270729 and parameters: {'n_estimators': 143, 'max_depth': 21, 'min_samples_split': 6, 'min_samples_leaf': 1, 'criterion': 'gini'}. Best is trial 33 with value: 0.569023569023569.\u001b[0m\n",
      "\u001b[32m[I 2023-03-14 20:26:06,773]\u001b[0m Trial 82 finished with value: 0.5641891891891893 and parameters: {'n_estimators': 146, 'max_depth': 21, 'min_samples_split': 6, 'min_samples_leaf': 1, 'criterion': 'gini'}. Best is trial 33 with value: 0.569023569023569.\u001b[0m\n",
      "\u001b[32m[I 2023-03-14 20:26:07,083]\u001b[0m Trial 83 finished with value: 0.5593220338983051 and parameters: {'n_estimators': 129, 'max_depth': 27, 'min_samples_split': 6, 'min_samples_leaf': 1, 'criterion': 'gini'}. Best is trial 33 with value: 0.569023569023569.\u001b[0m\n",
      "\u001b[32m[I 2023-03-14 20:26:07,358]\u001b[0m Trial 84 finished with value: 0.5699831365935919 and parameters: {'n_estimators': 113, 'max_depth': 22, 'min_samples_split': 6, 'min_samples_leaf': 1, 'criterion': 'gini'}. Best is trial 84 with value: 0.5699831365935919.\u001b[0m\n",
      "\u001b[32m[I 2023-03-14 20:26:07,655]\u001b[0m Trial 85 finished with value: 0.5410958904109588 and parameters: {'n_estimators': 124, 'max_depth': 23, 'min_samples_split': 5, 'min_samples_leaf': 2, 'criterion': 'gini'}. Best is trial 84 with value: 0.5699831365935919.\u001b[0m\n",
      "\u001b[32m[I 2023-03-14 20:26:07,907]\u001b[0m Trial 86 finished with value: 0.549828178694158 and parameters: {'n_estimators': 104, 'max_depth': 24, 'min_samples_split': 7, 'min_samples_leaf': 1, 'criterion': 'gini'}. Best is trial 84 with value: 0.5699831365935919.\u001b[0m\n",
      "\u001b[32m[I 2023-03-14 20:26:08,217]\u001b[0m Trial 87 finished with value: 0.555366269165247 and parameters: {'n_estimators': 112, 'max_depth': 20, 'min_samples_split': 6, 'min_samples_leaf': 2, 'criterion': 'entropy'}. Best is trial 84 with value: 0.5699831365935919.\u001b[0m\n",
      "\u001b[32m[I 2023-03-14 20:26:08,518]\u001b[0m Trial 88 finished with value: 0.5577264653641207 and parameters: {'n_estimators': 132, 'max_depth': 22, 'min_samples_split': 7, 'min_samples_leaf': 5, 'criterion': 'gini'}. Best is trial 84 with value: 0.5699831365935919.\u001b[0m\n",
      "\u001b[32m[I 2023-03-14 20:26:08,813]\u001b[0m Trial 89 finished with value: 0.555366269165247 and parameters: {'n_estimators': 117, 'max_depth': 19, 'min_samples_split': 4, 'min_samples_leaf': 1, 'criterion': 'gini'}. Best is trial 84 with value: 0.5699831365935919.\u001b[0m\n",
      "\u001b[32m[I 2023-03-14 20:26:09,052]\u001b[0m Trial 90 finished with value: 0.5373665480427046 and parameters: {'n_estimators': 108, 'max_depth': 30, 'min_samples_split': 5, 'min_samples_leaf': 9, 'criterion': 'gini'}. Best is trial 84 with value: 0.5699831365935919.\u001b[0m\n",
      "\u001b[32m[I 2023-03-14 20:26:09,399]\u001b[0m Trial 91 finished with value: 0.5651438240270729 and parameters: {'n_estimators': 143, 'max_depth': 24, 'min_samples_split': 6, 'min_samples_leaf': 1, 'criterion': 'gini'}. Best is trial 84 with value: 0.5699831365935919.\u001b[0m\n",
      "\u001b[32m[I 2023-03-14 20:26:09,742]\u001b[0m Trial 92 finished with value: 0.5617597292724197 and parameters: {'n_estimators': 138, 'max_depth': 26, 'min_samples_split': 6, 'min_samples_leaf': 1, 'criterion': 'gini'}. Best is trial 84 with value: 0.5699831365935919.\u001b[0m\n",
      "\u001b[32m[I 2023-03-14 20:26:10,097]\u001b[0m Trial 93 finished with value: 0.5641891891891893 and parameters: {'n_estimators': 148, 'max_depth': 22, 'min_samples_split': 6, 'min_samples_leaf': 1, 'criterion': 'gini'}. Best is trial 84 with value: 0.5699831365935919.\u001b[0m\n",
      "\u001b[32m[I 2023-03-14 20:26:10,377]\u001b[0m Trial 94 finished with value: 0.5699831365935919 and parameters: {'n_estimators': 113, 'max_depth': 21, 'min_samples_split': 6, 'min_samples_leaf': 1, 'criterion': 'gini'}. Best is trial 84 with value: 0.5699831365935919.\u001b[0m\n"
     ]
    },
    {
     "name": "stderr",
     "output_type": "stream",
     "text": [
      "\u001b[32m[I 2023-03-14 20:26:10,669]\u001b[0m Trial 95 finished with value: 0.5591766723842196 and parameters: {'n_estimators': 119, 'max_depth': 17, 'min_samples_split': 6, 'min_samples_leaf': 1, 'criterion': 'gini'}. Best is trial 84 with value: 0.5699831365935919.\u001b[0m\n",
      "\u001b[32m[I 2023-03-14 20:26:10,941]\u001b[0m Trial 96 finished with value: 0.5510204081632654 and parameters: {'n_estimators': 114, 'max_depth': 28, 'min_samples_split': 7, 'min_samples_leaf': 2, 'criterion': 'gini'}. Best is trial 84 with value: 0.5699831365935919.\u001b[0m\n",
      "\u001b[32m[I 2023-03-14 20:26:11,050]\u001b[0m Trial 97 finished with value: 0.5699831365935919 and parameters: {'n_estimators': 37, 'max_depth': 20, 'min_samples_split': 5, 'min_samples_leaf': 1, 'criterion': 'gini'}. Best is trial 84 with value: 0.5699831365935919.\u001b[0m\n",
      "\u001b[32m[I 2023-03-14 20:26:11,251]\u001b[0m Trial 98 finished with value: 0.5463743676222598 and parameters: {'n_estimators': 78, 'max_depth': 20, 'min_samples_split': 4, 'min_samples_leaf': 1, 'criterion': 'gini'}. Best is trial 84 with value: 0.5699831365935919.\u001b[0m\n",
      "\u001b[32m[I 2023-03-14 20:26:11,341]\u001b[0m Trial 99 finished with value: 0.5638474295190713 and parameters: {'n_estimators': 30, 'max_depth': 18, 'min_samples_split': 5, 'min_samples_leaf': 2, 'criterion': 'gini'}. Best is trial 84 with value: 0.5699831365935919.\u001b[0m\n",
      "\u001b[32m[I 2023-03-14 20:26:11,536]\u001b[0m Trial 100 finished with value: 0.567062818336163 and parameters: {'n_estimators': 65, 'max_depth': 22, 'min_samples_split': 5, 'min_samples_leaf': 1, 'criterion': 'entropy'}. Best is trial 84 with value: 0.5699831365935919.\u001b[0m\n",
      "\u001b[32m[I 2023-03-14 20:26:11,727]\u001b[0m Trial 101 finished with value: 0.5661016949152543 and parameters: {'n_estimators': 63, 'max_depth': 22, 'min_samples_split': 5, 'min_samples_leaf': 1, 'criterion': 'entropy'}. Best is trial 84 with value: 0.5699831365935919.\u001b[0m\n",
      "\u001b[32m[I 2023-03-14 20:26:11,897]\u001b[0m Trial 102 finished with value: 0.5466893039049237 and parameters: {'n_estimators': 54, 'max_depth': 21, 'min_samples_split': 5, 'min_samples_leaf': 1, 'criterion': 'entropy'}. Best is trial 84 with value: 0.5699831365935919.\u001b[0m\n",
      "\u001b[32m[I 2023-03-14 20:26:12,051]\u001b[0m Trial 103 finished with value: 0.5491525423728814 and parameters: {'n_estimators': 50, 'max_depth': 19, 'min_samples_split': 4, 'min_samples_leaf': 1, 'criterion': 'entropy'}. Best is trial 84 with value: 0.5699831365935919.\u001b[0m\n",
      "\u001b[32m[I 2023-03-14 20:26:12,187]\u001b[0m Trial 104 finished with value: 0.5525423728813559 and parameters: {'n_estimators': 43, 'max_depth': 23, 'min_samples_split': 5, 'min_samples_leaf': 1, 'criterion': 'entropy'}. Best is trial 84 with value: 0.5699831365935919.\u001b[0m\n",
      "\u001b[32m[I 2023-03-14 20:26:12,303]\u001b[0m Trial 105 finished with value: 0.5494880546075085 and parameters: {'n_estimators': 36, 'max_depth': 20, 'min_samples_split': 5, 'min_samples_leaf': 2, 'criterion': 'entropy'}. Best is trial 84 with value: 0.5699831365935919.\u001b[0m\n",
      "\u001b[32m[I 2023-03-14 20:26:12,460]\u001b[0m Trial 106 finished with value: 0.5617597292724197 and parameters: {'n_estimators': 60, 'max_depth': 21, 'min_samples_split': 6, 'min_samples_leaf': 1, 'criterion': 'gini'}. Best is trial 84 with value: 0.5699831365935919.\u001b[0m\n",
      "\u001b[32m[I 2023-03-14 20:26:12,733]\u001b[0m Trial 107 finished with value: 0.5641025641025641 and parameters: {'n_estimators': 110, 'max_depth': 22, 'min_samples_split': 5, 'min_samples_leaf': 1, 'criterion': 'gini'}. Best is trial 84 with value: 0.5699831365935919.\u001b[0m\n",
      "\u001b[32m[I 2023-03-14 20:26:12,993]\u001b[0m Trial 108 finished with value: 0.5627118644067796 and parameters: {'n_estimators': 106, 'max_depth': 23, 'min_samples_split': 6, 'min_samples_leaf': 1, 'criterion': 'gini'}. Best is trial 84 with value: 0.5699831365935919.\u001b[0m\n",
      "\u001b[32m[I 2023-03-14 20:26:13,300]\u001b[0m Trial 109 finished with value: 0.5361552028218695 and parameters: {'n_estimators': 122, 'max_depth': 20, 'min_samples_split': 6, 'min_samples_leaf': 7, 'criterion': 'entropy'}. Best is trial 84 with value: 0.5699831365935919.\u001b[0m\n",
      "\u001b[32m[I 2023-03-14 20:26:13,519]\u001b[0m Trial 110 finished with value: 0.5631399317406144 and parameters: {'n_estimators': 89, 'max_depth': 22, 'min_samples_split': 6, 'min_samples_leaf': 2, 'criterion': 'gini'}. Best is trial 84 with value: 0.5699831365935919.\u001b[0m\n",
      "\u001b[32m[I 2023-03-14 20:26:13,732]\u001b[0m Trial 111 finished with value: 0.5568760611205433 and parameters: {'n_estimators': 71, 'max_depth': 22, 'min_samples_split': 5, 'min_samples_leaf': 1, 'criterion': 'entropy'}. Best is trial 84 with value: 0.5699831365935919.\u001b[0m\n",
      "\u001b[32m[I 2023-03-14 20:26:13,939]\u001b[0m Trial 112 finished with value: 0.5602716468590832 and parameters: {'n_estimators': 67, 'max_depth': 24, 'min_samples_split': 5, 'min_samples_leaf': 1, 'criterion': 'entropy'}. Best is trial 84 with value: 0.5699831365935919.\u001b[0m\n",
      "\u001b[32m[I 2023-03-14 20:26:14,083]\u001b[0m Trial 113 finished with value: 0.5432937181663837 and parameters: {'n_estimators': 44, 'max_depth': 19, 'min_samples_split': 5, 'min_samples_leaf': 1, 'criterion': 'entropy'}. Best is trial 84 with value: 0.5699831365935919.\u001b[0m\n",
      "\u001b[32m[I 2023-03-14 20:26:14,267]\u001b[0m Trial 114 finished with value: 0.5525423728813559 and parameters: {'n_estimators': 61, 'max_depth': 21, 'min_samples_split': 4, 'min_samples_leaf': 1, 'criterion': 'entropy'}. Best is trial 84 with value: 0.5699831365935919.\u001b[0m\n",
      "\u001b[32m[I 2023-03-14 20:26:14,507]\u001b[0m Trial 115 finished with value: 0.5516074450084603 and parameters: {'n_estimators': 83, 'max_depth': 22, 'min_samples_split': 6, 'min_samples_leaf': 2, 'criterion': 'entropy'}. Best is trial 84 with value: 0.5699831365935919.\u001b[0m\n",
      "\u001b[32m[I 2023-03-14 20:26:14,760]\u001b[0m Trial 116 finished with value: 0.5661016949152543 and parameters: {'n_estimators': 101, 'max_depth': 25, 'min_samples_split': 5, 'min_samples_leaf': 1, 'criterion': 'gini'}. Best is trial 84 with value: 0.5699831365935919.\u001b[0m\n",
      "\u001b[32m[I 2023-03-14 20:26:14,998]\u001b[0m Trial 117 finished with value: 0.5572649572649573 and parameters: {'n_estimators': 97, 'max_depth': 21, 'min_samples_split': 6, 'min_samples_leaf': 2, 'criterion': 'gini'}. Best is trial 84 with value: 0.5699831365935919.\u001b[0m\n",
      "\u001b[32m[I 2023-03-14 20:26:15,204]\u001b[0m Trial 118 finished with value: 0.5568760611205433 and parameters: {'n_estimators': 79, 'max_depth': 23, 'min_samples_split': 5, 'min_samples_leaf': 1, 'criterion': 'gini'}. Best is trial 84 with value: 0.5699831365935919.\u001b[0m\n",
      "\u001b[32m[I 2023-03-14 20:26:15,359]\u001b[0m Trial 119 finished with value: 0.5652173913043478 and parameters: {'n_estimators': 51, 'max_depth': 15, 'min_samples_split': 6, 'min_samples_leaf': 1, 'criterion': 'entropy'}. Best is trial 84 with value: 0.5699831365935919.\u001b[0m\n",
      "\u001b[32m[I 2023-03-14 20:26:15,616]\u001b[0m Trial 120 finished with value: 0.525573192239859 and parameters: {'n_estimators': 113, 'max_depth': 29, 'min_samples_split': 5, 'min_samples_leaf': 6, 'criterion': 'gini'}. Best is trial 84 with value: 0.5699831365935919.\u001b[0m\n",
      "\u001b[32m[I 2023-03-14 20:26:15,867]\u001b[0m Trial 121 finished with value: 0.5627118644067796 and parameters: {'n_estimators': 100, 'max_depth': 25, 'min_samples_split': 5, 'min_samples_leaf': 1, 'criterion': 'gini'}. Best is trial 84 with value: 0.5699831365935919.\u001b[0m\n",
      "\u001b[32m[I 2023-03-14 20:26:16,140]\u001b[0m Trial 122 finished with value: 0.5604026845637583 and parameters: {'n_estimators': 108, 'max_depth': 24, 'min_samples_split': 4, 'min_samples_leaf': 1, 'criterion': 'gini'}. Best is trial 84 with value: 0.5699831365935919.\u001b[0m\n",
      "\u001b[32m[I 2023-03-14 20:26:16,397]\u001b[0m Trial 123 finished with value: 0.567062818336163 and parameters: {'n_estimators': 102, 'max_depth': 23, 'min_samples_split': 5, 'min_samples_leaf': 1, 'criterion': 'gini'}. Best is trial 84 with value: 0.5699831365935919.\u001b[0m\n",
      "\u001b[32m[I 2023-03-14 20:26:16,615]\u001b[0m Trial 124 finished with value: 0.5612244897959183 and parameters: {'n_estimators': 87, 'max_depth': 23, 'min_samples_split': 6, 'min_samples_leaf': 1, 'criterion': 'gini'}. Best is trial 84 with value: 0.5699831365935919.\u001b[0m\n",
      "\u001b[32m[I 2023-03-14 20:26:16,852]\u001b[0m Trial 125 finished with value: 0.5572649572649573 and parameters: {'n_estimators': 95, 'max_depth': 20, 'min_samples_split': 6, 'min_samples_leaf': 1, 'criterion': 'gini'}. Best is trial 84 with value: 0.5699831365935919.\u001b[0m\n"
     ]
    },
    {
     "name": "stderr",
     "output_type": "stream",
     "text": [
      "\u001b[32m[I 2023-03-14 20:26:17,142]\u001b[0m Trial 126 finished with value: 0.570940170940171 and parameters: {'n_estimators': 117, 'max_depth': 22, 'min_samples_split': 5, 'min_samples_leaf': 1, 'criterion': 'gini'}. Best is trial 126 with value: 0.570940170940171.\u001b[0m\n",
      "\u001b[32m[I 2023-03-14 20:26:17,336]\u001b[0m Trial 127 finished with value: 0.34285714285714286 and parameters: {'n_estimators': 118, 'max_depth': 4, 'min_samples_split': 6, 'min_samples_leaf': 1, 'criterion': 'gini'}. Best is trial 126 with value: 0.570940170940171.\u001b[0m\n",
      "\u001b[32m[I 2023-03-14 20:26:17,587]\u001b[0m Trial 128 finished with value: 0.5583756345177666 and parameters: {'n_estimators': 104, 'max_depth': 21, 'min_samples_split': 7, 'min_samples_leaf': 2, 'criterion': 'gini'}. Best is trial 126 with value: 0.570940170940171.\u001b[0m\n",
      "\u001b[32m[I 2023-03-14 20:26:17,896]\u001b[0m Trial 129 finished with value: 0.5699658703071673 and parameters: {'n_estimators': 125, 'max_depth': 20, 'min_samples_split': 5, 'min_samples_leaf': 1, 'criterion': 'gini'}. Best is trial 126 with value: 0.570940170940171.\u001b[0m\n",
      "\u001b[32m[I 2023-03-14 20:26:18,173]\u001b[0m Trial 130 finished with value: 0.5606837606837606 and parameters: {'n_estimators': 112, 'max_depth': 18, 'min_samples_split': 5, 'min_samples_leaf': 1, 'criterion': 'gini'}. Best is trial 126 with value: 0.570940170940171.\u001b[0m\n",
      "\u001b[32m[I 2023-03-14 20:26:18,465]\u001b[0m Trial 131 finished with value: 0.565068493150685 and parameters: {'n_estimators': 116, 'max_depth': 22, 'min_samples_split': 5, 'min_samples_leaf': 1, 'criterion': 'gini'}. Best is trial 126 with value: 0.570940170940171.\u001b[0m\n",
      "\u001b[32m[I 2023-03-14 20:26:18,763]\u001b[0m Trial 132 finished with value: 0.548885077186964 and parameters: {'n_estimators': 124, 'max_depth': 19, 'min_samples_split': 10, 'min_samples_leaf': 1, 'criterion': 'gini'}. Best is trial 126 with value: 0.570940170940171.\u001b[0m\n",
      "\u001b[32m[I 2023-03-14 20:26:19,070]\u001b[0m Trial 133 finished with value: 0.5627118644067796 and parameters: {'n_estimators': 127, 'max_depth': 20, 'min_samples_split': 6, 'min_samples_leaf': 1, 'criterion': 'gini'}. Best is trial 126 with value: 0.570940170940171.\u001b[0m\n",
      "\u001b[32m[I 2023-03-14 20:26:19,343]\u001b[0m Trial 134 finished with value: 0.5689948892674618 and parameters: {'n_estimators': 109, 'max_depth': 21, 'min_samples_split': 5, 'min_samples_leaf': 1, 'criterion': 'gini'}. Best is trial 126 with value: 0.570940170940171.\u001b[0m\n",
      "\u001b[32m[I 2023-03-14 20:26:19,618]\u001b[0m Trial 135 finished with value: 0.5641025641025641 and parameters: {'n_estimators': 110, 'max_depth': 23, 'min_samples_split': 5, 'min_samples_leaf': 1, 'criterion': 'gini'}. Best is trial 126 with value: 0.570940170940171.\u001b[0m\n",
      "\u001b[32m[I 2023-03-14 20:26:19,899]\u001b[0m Trial 136 finished with value: 0.5370051635111877 and parameters: {'n_estimators': 115, 'max_depth': 21, 'min_samples_split': 5, 'min_samples_leaf': 2, 'criterion': 'gini'}. Best is trial 126 with value: 0.570940170940171.\u001b[0m\n",
      "\u001b[32m[I 2023-03-14 20:26:20,194]\u001b[0m Trial 137 finished with value: 0.5598650927487353 and parameters: {'n_estimators': 120, 'max_depth': 24, 'min_samples_split': 4, 'min_samples_leaf': 1, 'criterion': 'gini'}. Best is trial 126 with value: 0.570940170940171.\u001b[0m\n",
      "\u001b[32m[I 2023-03-14 20:26:20,468]\u001b[0m Trial 138 finished with value: 0.5689948892674618 and parameters: {'n_estimators': 109, 'max_depth': 20, 'min_samples_split': 5, 'min_samples_leaf': 1, 'criterion': 'gini'}. Best is trial 126 with value: 0.570940170940171.\u001b[0m\n",
      "\u001b[32m[I 2023-03-14 20:26:20,741]\u001b[0m Trial 139 finished with value: 0.5689948892674618 and parameters: {'n_estimators': 109, 'max_depth': 20, 'min_samples_split': 5, 'min_samples_leaf': 1, 'criterion': 'gini'}. Best is trial 126 with value: 0.570940170940171.\u001b[0m\n",
      "\u001b[32m[I 2023-03-14 20:26:20,997]\u001b[0m Trial 140 finished with value: 0.5631399317406144 and parameters: {'n_estimators': 109, 'max_depth': 20, 'min_samples_split': 5, 'min_samples_leaf': 4, 'criterion': 'gini'}. Best is trial 126 with value: 0.570940170940171.\u001b[0m\n",
      "\u001b[32m[I 2023-03-14 20:26:21,258]\u001b[0m Trial 141 finished with value: 0.5621805792163543 and parameters: {'n_estimators': 105, 'max_depth': 30, 'min_samples_split': 5, 'min_samples_leaf': 1, 'criterion': 'gini'}. Best is trial 126 with value: 0.570940170940171.\u001b[0m\n",
      "\u001b[32m[I 2023-03-14 20:26:21,536]\u001b[0m Trial 142 finished with value: 0.5680272108843537 and parameters: {'n_estimators': 113, 'max_depth': 19, 'min_samples_split': 5, 'min_samples_leaf': 1, 'criterion': 'gini'}. Best is trial 126 with value: 0.570940170940171.\u001b[0m\n",
      "\u001b[32m[I 2023-03-14 20:26:21,826]\u001b[0m Trial 143 finished with value: 0.5616438356164384 and parameters: {'n_estimators': 117, 'max_depth': 18, 'min_samples_split': 5, 'min_samples_leaf': 1, 'criterion': 'gini'}. Best is trial 126 with value: 0.570940170940171.\u001b[0m\n",
      "\u001b[32m[I 2023-03-14 20:26:22,104]\u001b[0m Trial 144 finished with value: 0.5549915397631133 and parameters: {'n_estimators': 112, 'max_depth': 19, 'min_samples_split': 4, 'min_samples_leaf': 1, 'criterion': 'gini'}. Best is trial 126 with value: 0.570940170940171.\u001b[0m\n",
      "\u001b[32m[I 2023-03-14 20:26:22,387]\u001b[0m Trial 145 finished with value: 0.5675213675213676 and parameters: {'n_estimators': 114, 'max_depth': 20, 'min_samples_split': 5, 'min_samples_leaf': 1, 'criterion': 'gini'}. Best is trial 126 with value: 0.570940170940171.\u001b[0m\n",
      "\u001b[32m[I 2023-03-14 20:26:22,691]\u001b[0m Trial 146 finished with value: 0.5689948892674618 and parameters: {'n_estimators': 122, 'max_depth': 19, 'min_samples_split': 5, 'min_samples_leaf': 1, 'criterion': 'gini'}. Best is trial 126 with value: 0.570940170940171.\u001b[0m\n",
      "\u001b[32m[I 2023-03-14 20:26:22,994]\u001b[0m Trial 147 finished with value: 0.5563139931740615 and parameters: {'n_estimators': 123, 'max_depth': 18, 'min_samples_split': 4, 'min_samples_leaf': 1, 'criterion': 'gini'}. Best is trial 126 with value: 0.570940170940171.\u001b[0m\n",
      "\u001b[32m[I 2023-03-14 20:26:23,272]\u001b[0m Trial 148 finished with value: 0.5435897435897435 and parameters: {'n_estimators': 114, 'max_depth': 16, 'min_samples_split': 5, 'min_samples_leaf': 2, 'criterion': 'gini'}. Best is trial 126 with value: 0.570940170940171.\u001b[0m\n",
      "\u001b[32m[I 2023-03-14 20:26:23,563]\u001b[0m Trial 149 finished with value: 0.552901023890785 and parameters: {'n_estimators': 119, 'max_depth': 17, 'min_samples_split': 5, 'min_samples_leaf': 1, 'criterion': 'gini'}. Best is trial 126 with value: 0.570940170940171.\u001b[0m\n",
      "\u001b[32m[I 2023-03-14 20:26:23,829]\u001b[0m Trial 150 finished with value: 0.5680272108843537 and parameters: {'n_estimators': 106, 'max_depth': 19, 'min_samples_split': 5, 'min_samples_leaf': 1, 'criterion': 'gini'}. Best is trial 126 with value: 0.570940170940171.\u001b[0m\n",
      "\u001b[32m[I 2023-03-14 20:26:24,097]\u001b[0m Trial 151 finished with value: 0.5704584040747029 and parameters: {'n_estimators': 107, 'max_depth': 19, 'min_samples_split': 5, 'min_samples_leaf': 1, 'criterion': 'gini'}. Best is trial 126 with value: 0.570940170940171.\u001b[0m\n",
      "\u001b[32m[I 2023-03-14 20:26:24,362]\u001b[0m Trial 152 finished with value: 0.5680272108843537 and parameters: {'n_estimators': 106, 'max_depth': 19, 'min_samples_split': 5, 'min_samples_leaf': 1, 'criterion': 'gini'}. Best is trial 126 with value: 0.570940170940171.\u001b[0m\n",
      "\u001b[32m[I 2023-03-14 20:26:24,631]\u001b[0m Trial 153 finished with value: 0.5680272108843537 and parameters: {'n_estimators': 106, 'max_depth': 19, 'min_samples_split': 5, 'min_samples_leaf': 1, 'criterion': 'gini'}. Best is trial 126 with value: 0.570940170940171.\u001b[0m\n",
      "\u001b[32m[I 2023-03-14 20:26:24,900]\u001b[0m Trial 154 finished with value: 0.5680272108843537 and parameters: {'n_estimators': 106, 'max_depth': 19, 'min_samples_split': 5, 'min_samples_leaf': 1, 'criterion': 'gini'}. Best is trial 126 with value: 0.570940170940171.\u001b[0m\n",
      "\u001b[32m[I 2023-03-14 20:26:25,167]\u001b[0m Trial 155 finished with value: 0.555366269165247 and parameters: {'n_estimators': 106, 'max_depth': 18, 'min_samples_split': 5, 'min_samples_leaf': 1, 'criterion': 'gini'}. Best is trial 126 with value: 0.570940170940171.\u001b[0m\n",
      "\u001b[32m[I 2023-03-14 20:26:25,439]\u001b[0m Trial 156 finished with value: 0.5704584040747029 and parameters: {'n_estimators': 108, 'max_depth': 19, 'min_samples_split': 5, 'min_samples_leaf': 1, 'criterion': 'gini'}. Best is trial 126 with value: 0.570940170940171.\u001b[0m\n",
      "\u001b[32m[I 2023-03-14 20:26:25,693]\u001b[0m Trial 157 finished with value: 0.5606837606837606 and parameters: {'n_estimators': 99, 'max_depth': 19, 'min_samples_split': 5, 'min_samples_leaf': 1, 'criterion': 'gini'}. Best is trial 126 with value: 0.570940170940171.\u001b[0m\n"
     ]
    },
    {
     "name": "stderr",
     "output_type": "stream",
     "text": [
      "\u001b[32m[I 2023-03-14 20:26:25,970]\u001b[0m Trial 158 finished with value: 0.5519591141396933 and parameters: {'n_estimators': 109, 'max_depth': 17, 'min_samples_split': 5, 'min_samples_leaf': 1, 'criterion': 'gini'}. Best is trial 126 with value: 0.570940170940171.\u001b[0m\n",
      "\u001b[32m[I 2023-03-14 20:26:26,228]\u001b[0m Trial 159 finished with value: 0.548885077186964 and parameters: {'n_estimators': 103, 'max_depth': 19, 'min_samples_split': 5, 'min_samples_leaf': 2, 'criterion': 'gini'}. Best is trial 126 with value: 0.570940170940171.\u001b[0m\n",
      "\u001b[32m[I 2023-03-14 20:26:26,511]\u001b[0m Trial 160 finished with value: 0.5525423728813559 and parameters: {'n_estimators': 111, 'max_depth': 19, 'min_samples_split': 4, 'min_samples_leaf': 1, 'criterion': 'gini'}. Best is trial 126 with value: 0.570940170940171.\u001b[0m\n",
      "\u001b[32m[I 2023-03-14 20:26:26,780]\u001b[0m Trial 161 finished with value: 0.5694915254237289 and parameters: {'n_estimators': 107, 'max_depth': 20, 'min_samples_split': 5, 'min_samples_leaf': 1, 'criterion': 'gini'}. Best is trial 126 with value: 0.570940170940171.\u001b[0m\n",
      "\u001b[32m[I 2023-03-14 20:26:27,051]\u001b[0m Trial 162 finished with value: 0.5714285714285714 and parameters: {'n_estimators': 108, 'max_depth': 20, 'min_samples_split': 5, 'min_samples_leaf': 1, 'criterion': 'gini'}. Best is trial 162 with value: 0.5714285714285714.\u001b[0m\n",
      "\u001b[32m[I 2023-03-14 20:26:27,321]\u001b[0m Trial 163 finished with value: 0.5714285714285714 and parameters: {'n_estimators': 108, 'max_depth': 20, 'min_samples_split': 5, 'min_samples_leaf': 1, 'criterion': 'gini'}. Best is trial 162 with value: 0.5714285714285714.\u001b[0m\n",
      "\u001b[32m[I 2023-03-14 20:26:27,596]\u001b[0m Trial 164 finished with value: 0.5665529010238908 and parameters: {'n_estimators': 110, 'max_depth': 20, 'min_samples_split': 5, 'min_samples_leaf': 1, 'criterion': 'gini'}. Best is trial 162 with value: 0.5714285714285714.\u001b[0m\n",
      "\u001b[32m[I 2023-03-14 20:26:27,855]\u001b[0m Trial 165 finished with value: 0.5651438240270729 and parameters: {'n_estimators': 103, 'max_depth': 20, 'min_samples_split': 5, 'min_samples_leaf': 1, 'criterion': 'gini'}. Best is trial 162 with value: 0.5714285714285714.\u001b[0m\n",
      "\u001b[32m[I 2023-03-14 20:26:28,128]\u001b[0m Trial 166 finished with value: 0.5714285714285714 and parameters: {'n_estimators': 108, 'max_depth': 20, 'min_samples_split': 5, 'min_samples_leaf': 1, 'criterion': 'gini'}. Best is trial 162 with value: 0.5714285714285714.\u001b[0m\n",
      "\u001b[32m[I 2023-03-14 20:26:28,397]\u001b[0m Trial 167 finished with value: 0.5714285714285714 and parameters: {'n_estimators': 108, 'max_depth': 20, 'min_samples_split': 5, 'min_samples_leaf': 1, 'criterion': 'gini'}. Best is trial 162 with value: 0.5714285714285714.\u001b[0m\n",
      "\u001b[32m[I 2023-03-14 20:26:28,668]\u001b[0m Trial 168 finished with value: 0.5689948892674618 and parameters: {'n_estimators': 109, 'max_depth': 21, 'min_samples_split': 5, 'min_samples_leaf': 1, 'criterion': 'gini'}. Best is trial 162 with value: 0.5714285714285714.\u001b[0m\n",
      "\u001b[32m[I 2023-03-14 20:26:28,915]\u001b[0m Trial 169 finished with value: 0.543918918918919 and parameters: {'n_estimators': 97, 'max_depth': 20, 'min_samples_split': 4, 'min_samples_leaf': 1, 'criterion': 'gini'}. Best is trial 162 with value: 0.5714285714285714.\u001b[0m\n",
      "\u001b[32m[I 2023-03-14 20:26:29,172]\u001b[0m Trial 170 finished with value: 0.5395189003436426 and parameters: {'n_estimators': 102, 'max_depth': 20, 'min_samples_split': 5, 'min_samples_leaf': 2, 'criterion': 'gini'}. Best is trial 162 with value: 0.5714285714285714.\u001b[0m\n",
      "\u001b[32m[I 2023-03-14 20:26:29,442]\u001b[0m Trial 171 finished with value: 0.5680272108843537 and parameters: {'n_estimators': 108, 'max_depth': 21, 'min_samples_split': 5, 'min_samples_leaf': 1, 'criterion': 'gini'}. Best is trial 162 with value: 0.5714285714285714.\u001b[0m\n",
      "\u001b[32m[I 2023-03-14 20:26:29,719]\u001b[0m Trial 172 finished with value: 0.5675213675213676 and parameters: {'n_estimators': 111, 'max_depth': 21, 'min_samples_split': 5, 'min_samples_leaf': 1, 'criterion': 'gini'}. Best is trial 162 with value: 0.5714285714285714.\u001b[0m\n",
      "\u001b[32m[I 2023-03-14 20:26:30,009]\u001b[0m Trial 173 finished with value: 0.5675213675213676 and parameters: {'n_estimators': 117, 'max_depth': 20, 'min_samples_split': 5, 'min_samples_leaf': 1, 'criterion': 'gini'}. Best is trial 162 with value: 0.5714285714285714.\u001b[0m\n",
      "\u001b[32m[I 2023-03-14 20:26:30,284]\u001b[0m Trial 174 finished with value: 0.5680272108843537 and parameters: {'n_estimators': 108, 'max_depth': 21, 'min_samples_split': 5, 'min_samples_leaf': 1, 'criterion': 'gini'}. Best is trial 162 with value: 0.5714285714285714.\u001b[0m\n",
      "\u001b[32m[I 2023-03-14 20:26:30,545]\u001b[0m Trial 175 finished with value: 0.5636672325976231 and parameters: {'n_estimators': 104, 'max_depth': 21, 'min_samples_split': 5, 'min_samples_leaf': 1, 'criterion': 'gini'}. Best is trial 162 with value: 0.5714285714285714.\u001b[0m\n",
      "\u001b[32m[I 2023-03-14 20:26:30,822]\u001b[0m Trial 176 finished with value: 0.5699658703071673 and parameters: {'n_estimators': 111, 'max_depth': 20, 'min_samples_split': 5, 'min_samples_leaf': 1, 'criterion': 'gini'}. Best is trial 162 with value: 0.5714285714285714.\u001b[0m\n",
      "\u001b[32m[I 2023-03-14 20:26:31,102]\u001b[0m Trial 177 finished with value: 0.5665529010238908 and parameters: {'n_estimators': 112, 'max_depth': 20, 'min_samples_split': 5, 'min_samples_leaf': 1, 'criterion': 'gini'}. Best is trial 162 with value: 0.5714285714285714.\u001b[0m\n",
      "\u001b[32m[I 2023-03-14 20:26:31,400]\u001b[0m Trial 178 finished with value: 0.565587734241908 and parameters: {'n_estimators': 121, 'max_depth': 18, 'min_samples_split': 5, 'min_samples_leaf': 1, 'criterion': 'gini'}. Best is trial 162 with value: 0.5714285714285714.\u001b[0m\n",
      "\u001b[32m[I 2023-03-14 20:26:31,687]\u001b[0m Trial 179 finished with value: 0.5589225589225589 and parameters: {'n_estimators': 116, 'max_depth': 22, 'min_samples_split': 4, 'min_samples_leaf': 1, 'criterion': 'gini'}. Best is trial 162 with value: 0.5714285714285714.\u001b[0m\n",
      "\u001b[32m[I 2023-03-14 20:26:31,935]\u001b[0m Trial 180 finished with value: 0.5524475524475525 and parameters: {'n_estimators': 111, 'max_depth': 20, 'min_samples_split': 5, 'min_samples_leaf': 8, 'criterion': 'gini'}. Best is trial 162 with value: 0.5714285714285714.\u001b[0m\n",
      "\u001b[32m[I 2023-03-14 20:26:32,208]\u001b[0m Trial 181 finished with value: 0.5689948892674618 and parameters: {'n_estimators': 109, 'max_depth': 21, 'min_samples_split': 5, 'min_samples_leaf': 1, 'criterion': 'gini'}. Best is trial 162 with value: 0.5714285714285714.\u001b[0m\n",
      "\u001b[32m[I 2023-03-14 20:26:32,479]\u001b[0m Trial 182 finished with value: 0.5714285714285714 and parameters: {'n_estimators': 108, 'max_depth': 20, 'min_samples_split': 5, 'min_samples_leaf': 1, 'criterion': 'gini'}. Best is trial 162 with value: 0.5714285714285714.\u001b[0m\n",
      "\u001b[32m[I 2023-03-14 20:26:32,732]\u001b[0m Trial 183 finished with value: 0.566610455311973 and parameters: {'n_estimators': 101, 'max_depth': 20, 'min_samples_split': 5, 'min_samples_leaf': 1, 'criterion': 'gini'}. Best is trial 162 with value: 0.5714285714285714.\u001b[0m\n",
      "\u001b[32m[I 2023-03-14 20:26:32,993]\u001b[0m Trial 184 finished with value: 0.5587734241908007 and parameters: {'n_estimators': 104, 'max_depth': 18, 'min_samples_split': 5, 'min_samples_leaf': 1, 'criterion': 'gini'}. Best is trial 162 with value: 0.5714285714285714.\u001b[0m\n",
      "\u001b[32m[I 2023-03-14 20:26:33,277]\u001b[0m Trial 185 finished with value: 0.5675213675213676 and parameters: {'n_estimators': 114, 'max_depth': 20, 'min_samples_split': 5, 'min_samples_leaf': 1, 'criterion': 'gini'}. Best is trial 162 with value: 0.5714285714285714.\u001b[0m\n",
      "\u001b[32m[I 2023-03-14 20:26:33,530]\u001b[0m Trial 186 finished with value: 0.556338028169014 and parameters: {'n_estimators': 107, 'max_depth': 20, 'min_samples_split': 5, 'min_samples_leaf': 5, 'criterion': 'gini'}. Best is trial 162 with value: 0.5714285714285714.\u001b[0m\n",
      "\u001b[32m[I 2023-03-14 20:26:33,823]\u001b[0m Trial 187 finished with value: 0.5699658703071673 and parameters: {'n_estimators': 118, 'max_depth': 21, 'min_samples_split': 5, 'min_samples_leaf': 1, 'criterion': 'gini'}. Best is trial 162 with value: 0.5714285714285714.\u001b[0m\n",
      "\u001b[32m[I 2023-03-14 20:26:34,102]\u001b[0m Trial 188 finished with value: 0.5616438356164384 and parameters: {'n_estimators': 112, 'max_depth': 22, 'min_samples_split': 5, 'min_samples_leaf': 1, 'criterion': 'gini'}. Best is trial 162 with value: 0.5714285714285714.\u001b[0m\n"
     ]
    },
    {
     "name": "stderr",
     "output_type": "stream",
     "text": [
      "\u001b[32m[I 2023-03-14 20:26:34,390]\u001b[0m Trial 189 finished with value: 0.5675213675213676 and parameters: {'n_estimators': 117, 'max_depth': 21, 'min_samples_split': 5, 'min_samples_leaf': 1, 'criterion': 'gini'}. Best is trial 162 with value: 0.5714285714285714.\u001b[0m\n",
      "\u001b[32m[I 2023-03-14 20:26:34,661]\u001b[0m Trial 190 finished with value: 0.5685279187817259 and parameters: {'n_estimators': 108, 'max_depth': 22, 'min_samples_split': 5, 'min_samples_leaf': 1, 'criterion': 'gini'}. Best is trial 162 with value: 0.5714285714285714.\u001b[0m\n",
      "\u001b[32m[I 2023-03-14 20:26:34,954]\u001b[0m Trial 191 finished with value: 0.5714285714285714 and parameters: {'n_estimators': 119, 'max_depth': 19, 'min_samples_split': 5, 'min_samples_leaf': 1, 'criterion': 'gini'}. Best is trial 162 with value: 0.5714285714285714.\u001b[0m\n",
      "\u001b[32m[I 2023-03-14 20:26:35,239]\u001b[0m Trial 192 finished with value: 0.5675213675213676 and parameters: {'n_estimators': 115, 'max_depth': 21, 'min_samples_split': 5, 'min_samples_leaf': 1, 'criterion': 'gini'}. Best is trial 162 with value: 0.5714285714285714.\u001b[0m\n",
      "\u001b[32m[I 2023-03-14 20:26:35,539]\u001b[0m Trial 193 finished with value: 0.5510204081632654 and parameters: {'n_estimators': 118, 'max_depth': 20, 'min_samples_split': 3, 'min_samples_leaf': 1, 'criterion': 'gini'}. Best is trial 162 with value: 0.5714285714285714.\u001b[0m\n",
      "\u001b[32m[I 2023-03-14 20:26:35,816]\u001b[0m Trial 194 finished with value: 0.5680272108843537 and parameters: {'n_estimators': 111, 'max_depth': 19, 'min_samples_split': 5, 'min_samples_leaf': 1, 'criterion': 'gini'}. Best is trial 162 with value: 0.5714285714285714.\u001b[0m\n",
      "\u001b[32m[I 2023-03-14 20:26:36,080]\u001b[0m Trial 195 finished with value: 0.564625850340136 and parameters: {'n_estimators': 105, 'max_depth': 21, 'min_samples_split': 5, 'min_samples_leaf': 1, 'criterion': 'gini'}. Best is trial 162 with value: 0.5714285714285714.\u001b[0m\n",
      "\u001b[32m[I 2023-03-14 20:26:36,362]\u001b[0m Trial 196 finished with value: 0.5680272108843537 and parameters: {'n_estimators': 113, 'max_depth': 19, 'min_samples_split': 5, 'min_samples_leaf': 1, 'criterion': 'gini'}. Best is trial 162 with value: 0.5714285714285714.\u001b[0m\n",
      "\u001b[32m[I 2023-03-14 20:26:36,633]\u001b[0m Trial 197 finished with value: 0.5549915397631133 and parameters: {'n_estimators': 109, 'max_depth': 20, 'min_samples_split': 4, 'min_samples_leaf': 1, 'criterion': 'gini'}. Best is trial 162 with value: 0.5714285714285714.\u001b[0m\n",
      "\u001b[32m[I 2023-03-14 20:26:36,944]\u001b[0m Trial 198 finished with value: 0.5641025641025641 and parameters: {'n_estimators': 126, 'max_depth': 22, 'min_samples_split': 5, 'min_samples_leaf': 1, 'criterion': 'gini'}. Best is trial 162 with value: 0.5714285714285714.\u001b[0m\n",
      "\u001b[32m[I 2023-03-14 20:26:37,229]\u001b[0m Trial 199 finished with value: 0.5675213675213676 and parameters: {'n_estimators': 115, 'max_depth': 21, 'min_samples_split': 5, 'min_samples_leaf': 1, 'criterion': 'gini'}. Best is trial 162 with value: 0.5714285714285714.\u001b[0m\n"
     ]
    },
    {
     "name": "stdout",
     "output_type": "stream",
     "text": [
      "Best trial:\n",
      "  Score: 0.571\n",
      "  Params: \n",
      "    n_estimators: 108\n",
      "    max_depth: 20\n",
      "    min_samples_split: 5\n",
      "    min_samples_leaf: 1\n",
      "    criterion: gini\n"
     ]
    }
   ],
   "source": [
    "study = optuna.create_study(direction='maximize')\n",
    "\n",
    "study.optimize(objective, n_trials=200)\n",
    "\n",
    "print('Best trial:')\n",
    "trial = study.best_trial\n",
    "print(f'  Score: {trial.value:.3f}')\n",
    "print('  Params: ')\n",
    "for key, value in trial.params.items():\n",
    "    print(f'    {key}: {value}')"
   ]
  },
  {
   "cell_type": "code",
   "execution_count": 139,
   "metadata": {
    "scrolled": false
   },
   "outputs": [
    {
     "data": {
      "text/plain": [
       "RandomForestClassifier(max_depth=20, min_samples_split=5, n_estimators=108,\n",
       "                       random_state=322)"
      ]
     },
     "execution_count": 139,
     "metadata": {},
     "output_type": "execute_result"
    }
   ],
   "source": [
    "rfc_down = RandomForestClassifier(n_estimators=108,\n",
    "                                   max_depth=20,\n",
    "                                   min_samples_split=5,\n",
    "                                   min_samples_leaf=1,\n",
    "                                   criterion='gini',\n",
    "                                   random_state=322)\n",
    "rfc_down.fit(features_downsampled, target_downsampled)"
   ]
  },
  {
   "cell_type": "code",
   "execution_count": 140,
   "metadata": {},
   "outputs": [
    {
     "data": {
      "text/plain": [
       "0.8418644765543358"
      ]
     },
     "execution_count": 140,
     "metadata": {},
     "output_type": "execute_result"
    }
   ],
   "source": [
    "prob_one_valid = rfc_down.predict_proba(features_valid)[:, 1]\n",
    "roc_auc_score(target_valid, prob_one_valid)"
   ]
  },
  {
   "cell_type": "markdown",
   "metadata": {},
   "source": [
    "#### Логистическая регрессия"
   ]
  },
  {
   "cell_type": "code",
   "execution_count": 141,
   "metadata": {},
   "outputs": [
    {
     "name": "stdout",
     "output_type": "stream",
     "text": [
      "F1 = 0.3313840155945419 AUC-ROC= 0.769635848497775\n"
     ]
    }
   ],
   "source": [
    "model = LogisticRegression(random_state=322)\n",
    "model.fit(features_downsampled, target_downsampled)\n",
    "predicted_valid = model.predict(features_valid)\n",
    "f1_valid = f1_score(predicted_valid, target_valid)\n",
    "prob_one_valid = model.predict_proba(features_valid)[:, 1]\n",
    "roc_auc = roc_auc_score(target_valid, prob_one_valid)\n",
    "print('F1 =', f1_valid, 'AUC-ROC=', roc_auc)"
   ]
  },
  {
   "cell_type": "markdown",
   "metadata": {},
   "source": [
    "#### Дерево решения"
   ]
  },
  {
   "cell_type": "code",
   "execution_count": 142,
   "metadata": {},
   "outputs": [],
   "source": [
    "def objective(trial):\n",
    "    max_depth = trial.suggest_int('max_depth', 3, 50)\n",
    "    min_samples_split = trial.suggest_int('min_samples_split', 2, 30)\n",
    "    min_samples_leaf = trial.suggest_int('min_samples_leaf', 1, 30)\n",
    "    criterion = trial.suggest_categorical('criterion', ['gini', 'entropy'])\n",
    "\n",
    "    dtc = DecisionTreeClassifier(max_depth=max_depth,\n",
    "                                    min_samples_split=min_samples_split,\n",
    "                                    min_samples_leaf=min_samples_leaf,\n",
    "                                    criterion=criterion,\n",
    "                                    random_state=322)\n",
    "\n",
    "    dtc.fit(features_downsampled, target_downsampled)\n",
    "\n",
    "    predicted_valid = dtc.predict(features_valid)\n",
    "\n",
    "    f1 = f1_score(target_valid, predicted_valid)\n",
    "\n",
    "    return f1"
   ]
  },
  {
   "cell_type": "code",
   "execution_count": 143,
   "metadata": {},
   "outputs": [
    {
     "name": "stderr",
     "output_type": "stream",
     "text": [
      "\u001b[32m[I 2023-03-14 20:28:25,944]\u001b[0m A new study created in memory with name: no-name-62f6f8ae-4eab-42f5-9b8a-58a684b0bf10\u001b[0m\n",
      "\u001b[32m[I 2023-03-14 20:28:25,960]\u001b[0m Trial 0 finished with value: 0.5626822157434404 and parameters: {'max_depth': 40, 'min_samples_split': 22, 'min_samples_leaf': 11, 'criterion': 'entropy'}. Best is trial 0 with value: 0.5626822157434404.\u001b[0m\n",
      "\u001b[32m[I 2023-03-14 20:28:25,973]\u001b[0m Trial 1 finished with value: 0.5626822157434404 and parameters: {'max_depth': 30, 'min_samples_split': 10, 'min_samples_leaf': 11, 'criterion': 'entropy'}. Best is trial 0 with value: 0.5626822157434404.\u001b[0m\n",
      "\u001b[32m[I 2023-03-14 20:28:25,984]\u001b[0m Trial 2 finished with value: 0.5674418604651162 and parameters: {'max_depth': 15, 'min_samples_split': 23, 'min_samples_leaf': 21, 'criterion': 'gini'}. Best is trial 2 with value: 0.5674418604651162.\u001b[0m\n",
      "\u001b[32m[I 2023-03-14 20:28:25,998]\u001b[0m Trial 3 finished with value: 0.5465648854961833 and parameters: {'max_depth': 24, 'min_samples_split': 13, 'min_samples_leaf': 15, 'criterion': 'entropy'}. Best is trial 2 with value: 0.5674418604651162.\u001b[0m\n",
      "\u001b[32m[I 2023-03-14 20:28:26,010]\u001b[0m Trial 4 finished with value: 0.5646687697160884 and parameters: {'max_depth': 7, 'min_samples_split': 30, 'min_samples_leaf': 18, 'criterion': 'entropy'}. Best is trial 2 with value: 0.5674418604651162.\u001b[0m\n",
      "\u001b[32m[I 2023-03-14 20:28:26,024]\u001b[0m Trial 5 finished with value: 0.5302013422818792 and parameters: {'max_depth': 22, 'min_samples_split': 2, 'min_samples_leaf': 30, 'criterion': 'entropy'}. Best is trial 2 with value: 0.5674418604651162.\u001b[0m\n",
      "\u001b[32m[I 2023-03-14 20:28:26,039]\u001b[0m Trial 6 finished with value: 0.5544267053701015 and parameters: {'max_depth': 48, 'min_samples_split': 23, 'min_samples_leaf': 2, 'criterion': 'entropy'}. Best is trial 2 with value: 0.5674418604651162.\u001b[0m\n",
      "\u001b[32m[I 2023-03-14 20:28:26,052]\u001b[0m Trial 7 finished with value: 0.5402985074626866 and parameters: {'max_depth': 30, 'min_samples_split': 17, 'min_samples_leaf': 22, 'criterion': 'entropy'}. Best is trial 2 with value: 0.5674418604651162.\u001b[0m\n",
      "\u001b[32m[I 2023-03-14 20:28:26,064]\u001b[0m Trial 8 finished with value: 0.5202492211838006 and parameters: {'max_depth': 10, 'min_samples_split': 20, 'min_samples_leaf': 8, 'criterion': 'gini'}. Best is trial 2 with value: 0.5674418604651162.\u001b[0m\n",
      "\u001b[32m[I 2023-03-14 20:28:26,078]\u001b[0m Trial 9 finished with value: 0.4992570579494799 and parameters: {'max_depth': 24, 'min_samples_split': 18, 'min_samples_leaf': 6, 'criterion': 'entropy'}. Best is trial 2 with value: 0.5674418604651162.\u001b[0m\n",
      "\u001b[32m[I 2023-03-14 20:28:26,098]\u001b[0m Trial 10 finished with value: 0.5622119815668203 and parameters: {'max_depth': 16, 'min_samples_split': 30, 'min_samples_leaf': 25, 'criterion': 'gini'}. Best is trial 2 with value: 0.5674418604651162.\u001b[0m\n",
      "\u001b[32m[I 2023-03-14 20:28:26,116]\u001b[0m Trial 11 finished with value: 0.5504885993485342 and parameters: {'max_depth': 4, 'min_samples_split': 29, 'min_samples_leaf': 20, 'criterion': 'gini'}. Best is trial 2 with value: 0.5674418604651162.\u001b[0m\n",
      "\u001b[32m[I 2023-03-14 20:28:26,135]\u001b[0m Trial 12 finished with value: 0.4934086629001883 and parameters: {'max_depth': 5, 'min_samples_split': 26, 'min_samples_leaf': 18, 'criterion': 'gini'}. Best is trial 2 with value: 0.5674418604651162.\u001b[0m\n",
      "\u001b[32m[I 2023-03-14 20:28:26,156]\u001b[0m Trial 13 finished with value: 0.5604900459418071 and parameters: {'max_depth': 14, 'min_samples_split': 26, 'min_samples_leaf': 26, 'criterion': 'gini'}. Best is trial 2 with value: 0.5674418604651162.\u001b[0m\n",
      "\u001b[32m[I 2023-03-14 20:28:26,176]\u001b[0m Trial 14 finished with value: 0.5529953917050693 and parameters: {'max_depth': 13, 'min_samples_split': 26, 'min_samples_leaf': 15, 'criterion': 'gini'}. Best is trial 2 with value: 0.5674418604651162.\u001b[0m\n",
      "\u001b[32m[I 2023-03-14 20:28:26,197]\u001b[0m Trial 15 finished with value: 0.5365079365079365 and parameters: {'max_depth': 18, 'min_samples_split': 30, 'min_samples_leaf': 23, 'criterion': 'gini'}. Best is trial 2 with value: 0.5674418604651162.\u001b[0m\n",
      "\u001b[32m[I 2023-03-14 20:28:26,218]\u001b[0m Trial 16 finished with value: 0.5496894409937888 and parameters: {'max_depth': 8, 'min_samples_split': 24, 'min_samples_leaf': 17, 'criterion': 'entropy'}. Best is trial 2 with value: 0.5674418604651162.\u001b[0m\n",
      "\u001b[32m[I 2023-03-14 20:28:26,235]\u001b[0m Trial 17 finished with value: 0.3454157782515992 and parameters: {'max_depth': 3, 'min_samples_split': 14, 'min_samples_leaf': 29, 'criterion': 'gini'}. Best is trial 2 with value: 0.5674418604651162.\u001b[0m\n",
      "\u001b[32m[I 2023-03-14 20:28:26,256]\u001b[0m Trial 18 finished with value: 0.5401234567901235 and parameters: {'max_depth': 19, 'min_samples_split': 6, 'min_samples_leaf': 13, 'criterion': 'gini'}. Best is trial 2 with value: 0.5674418604651162.\u001b[0m\n",
      "\u001b[32m[I 2023-03-14 20:28:26,278]\u001b[0m Trial 19 finished with value: 0.5476923076923077 and parameters: {'max_depth': 10, 'min_samples_split': 27, 'min_samples_leaf': 19, 'criterion': 'entropy'}. Best is trial 2 with value: 0.5674418604651162.\u001b[0m\n",
      "\u001b[32m[I 2023-03-14 20:28:26,297]\u001b[0m Trial 20 finished with value: 0.5365079365079365 and parameters: {'max_depth': 40, 'min_samples_split': 21, 'min_samples_leaf': 22, 'criterion': 'gini'}. Best is trial 2 with value: 0.5674418604651162.\u001b[0m\n",
      "\u001b[32m[I 2023-03-14 20:28:26,321]\u001b[0m Trial 21 finished with value: 0.5500747384155457 and parameters: {'max_depth': 40, 'min_samples_split': 22, 'min_samples_leaf': 10, 'criterion': 'entropy'}. Best is trial 2 with value: 0.5674418604651162.\u001b[0m\n",
      "\u001b[32m[I 2023-03-14 20:28:26,343]\u001b[0m Trial 22 finished with value: 0.5345622119815668 and parameters: {'max_depth': 37, 'min_samples_split': 19, 'min_samples_leaf': 13, 'criterion': 'entropy'}. Best is trial 2 with value: 0.5674418604651162.\u001b[0m\n",
      "\u001b[32m[I 2023-03-14 20:28:26,366]\u001b[0m Trial 23 finished with value: 0.5552325581395349 and parameters: {'max_depth': 47, 'min_samples_split': 24, 'min_samples_leaf': 4, 'criterion': 'entropy'}. Best is trial 2 with value: 0.5674418604651162.\u001b[0m\n",
      "\u001b[32m[I 2023-03-14 20:28:26,389]\u001b[0m Trial 24 finished with value: 0.5440251572327045 and parameters: {'max_depth': 33, 'min_samples_split': 15, 'min_samples_leaf': 16, 'criterion': 'entropy'}. Best is trial 2 with value: 0.5674418604651162.\u001b[0m\n",
      "\u001b[32m[I 2023-03-14 20:28:26,411]\u001b[0m Trial 25 finished with value: 0.5571205007824725 and parameters: {'max_depth': 8, 'min_samples_split': 11, 'min_samples_leaf': 11, 'criterion': 'entropy'}. Best is trial 2 with value: 0.5674418604651162.\u001b[0m\n",
      "\u001b[32m[I 2023-03-14 20:28:26,432]\u001b[0m Trial 26 finished with value: 0.5674418604651162 and parameters: {'max_depth': 44, 'min_samples_split': 28, 'min_samples_leaf': 21, 'criterion': 'entropy'}. Best is trial 2 with value: 0.5674418604651162.\u001b[0m\n",
      "\u001b[32m[I 2023-03-14 20:28:26,454]\u001b[0m Trial 27 finished with value: 0.5465465465465467 and parameters: {'max_depth': 50, 'min_samples_split': 27, 'min_samples_leaf': 26, 'criterion': 'entropy'}. Best is trial 2 with value: 0.5674418604651162.\u001b[0m\n",
      "\u001b[32m[I 2023-03-14 20:28:26,475]\u001b[0m Trial 28 finished with value: 0.5696400625978091 and parameters: {'max_depth': 20, 'min_samples_split': 28, 'min_samples_leaf': 20, 'criterion': 'gini'}. Best is trial 28 with value: 0.5696400625978091.\u001b[0m\n",
      "\u001b[32m[I 2023-03-14 20:28:26,495]\u001b[0m Trial 29 finished with value: 0.5674418604651162 and parameters: {'max_depth': 28, 'min_samples_split': 28, 'min_samples_leaf': 21, 'criterion': 'gini'}. Best is trial 28 with value: 0.5696400625978091.\u001b[0m\n",
      "\u001b[32m[I 2023-03-14 20:28:26,515]\u001b[0m Trial 30 finished with value: 0.545171339563863 and parameters: {'max_depth': 21, 'min_samples_split': 24, 'min_samples_leaf': 24, 'criterion': 'gini'}. Best is trial 28 with value: 0.5696400625978091.\u001b[0m\n",
      "\u001b[32m[I 2023-03-14 20:28:26,537]\u001b[0m Trial 31 finished with value: 0.5674418604651162 and parameters: {'max_depth': 29, 'min_samples_split': 28, 'min_samples_leaf': 21, 'criterion': 'gini'}. Best is trial 28 with value: 0.5696400625978091.\u001b[0m\n",
      "\u001b[32m[I 2023-03-14 20:28:26,558]\u001b[0m Trial 32 finished with value: 0.5696400625978091 and parameters: {'max_depth': 35, 'min_samples_split': 28, 'min_samples_leaf': 20, 'criterion': 'gini'}. Best is trial 28 with value: 0.5696400625978091.\u001b[0m\n",
      "\u001b[32m[I 2023-03-14 20:28:26,579]\u001b[0m Trial 33 finished with value: 0.5529225908372828 and parameters: {'max_depth': 34, 'min_samples_split': 25, 'min_samples_leaf': 27, 'criterion': 'gini'}. Best is trial 28 with value: 0.5696400625978091.\u001b[0m\n"
     ]
    },
    {
     "name": "stderr",
     "output_type": "stream",
     "text": [
      "\u001b[32m[I 2023-03-14 20:28:26,600]\u001b[0m Trial 34 finished with value: 0.5611285266457681 and parameters: {'max_depth': 43, 'min_samples_split': 22, 'min_samples_leaf': 19, 'criterion': 'gini'}. Best is trial 28 with value: 0.5696400625978091.\u001b[0m\n",
      "\u001b[32m[I 2023-03-14 20:28:26,621]\u001b[0m Trial 35 finished with value: 0.545171339563863 and parameters: {'max_depth': 44, 'min_samples_split': 28, 'min_samples_leaf': 24, 'criterion': 'gini'}. Best is trial 28 with value: 0.5696400625978091.\u001b[0m\n",
      "\u001b[32m[I 2023-03-14 20:28:26,642]\u001b[0m Trial 36 finished with value: 0.5529225908372828 and parameters: {'max_depth': 25, 'min_samples_split': 30, 'min_samples_leaf': 28, 'criterion': 'gini'}. Best is trial 28 with value: 0.5696400625978091.\u001b[0m\n",
      "\u001b[32m[I 2023-03-14 20:28:26,663]\u001b[0m Trial 37 finished with value: 0.5592417061611374 and parameters: {'max_depth': 36, 'min_samples_split': 25, 'min_samples_leaf': 17, 'criterion': 'gini'}. Best is trial 28 with value: 0.5696400625978091.\u001b[0m\n",
      "\u001b[32m[I 2023-03-14 20:28:26,684]\u001b[0m Trial 38 finished with value: 0.5696400625978091 and parameters: {'max_depth': 32, 'min_samples_split': 28, 'min_samples_leaf': 20, 'criterion': 'gini'}. Best is trial 28 with value: 0.5696400625978091.\u001b[0m\n",
      "\u001b[32m[I 2023-03-14 20:28:26,707]\u001b[0m Trial 39 finished with value: 0.5401234567901235 and parameters: {'max_depth': 26, 'min_samples_split': 20, 'min_samples_leaf': 14, 'criterion': 'gini'}. Best is trial 28 with value: 0.5696400625978091.\u001b[0m\n",
      "\u001b[32m[I 2023-03-14 20:28:26,729]\u001b[0m Trial 40 finished with value: 0.5611285266457681 and parameters: {'max_depth': 32, 'min_samples_split': 23, 'min_samples_leaf': 19, 'criterion': 'gini'}. Best is trial 28 with value: 0.5696400625978091.\u001b[0m\n",
      "\u001b[32m[I 2023-03-14 20:28:26,750]\u001b[0m Trial 41 finished with value: 0.5674418604651162 and parameters: {'max_depth': 37, 'min_samples_split': 28, 'min_samples_leaf': 21, 'criterion': 'gini'}. Best is trial 28 with value: 0.5696400625978091.\u001b[0m\n",
      "\u001b[32m[I 2023-03-14 20:28:26,770]\u001b[0m Trial 42 finished with value: 0.5365079365079365 and parameters: {'max_depth': 22, 'min_samples_split': 29, 'min_samples_leaf': 23, 'criterion': 'gini'}. Best is trial 28 with value: 0.5696400625978091.\u001b[0m\n",
      "\u001b[32m[I 2023-03-14 20:28:26,792]\u001b[0m Trial 43 finished with value: 0.5696400625978091 and parameters: {'max_depth': 43, 'min_samples_split': 27, 'min_samples_leaf': 20, 'criterion': 'gini'}. Best is trial 28 with value: 0.5696400625978091.\u001b[0m\n",
      "\u001b[32m[I 2023-03-14 20:28:26,813]\u001b[0m Trial 44 finished with value: 0.5590062111801243 and parameters: {'max_depth': 31, 'min_samples_split': 26, 'min_samples_leaf': 18, 'criterion': 'gini'}. Best is trial 28 with value: 0.5696400625978091.\u001b[0m\n",
      "\u001b[32m[I 2023-03-14 20:28:26,835]\u001b[0m Trial 45 finished with value: 0.5506329113924051 and parameters: {'max_depth': 15, 'min_samples_split': 30, 'min_samples_leaf': 16, 'criterion': 'gini'}. Best is trial 28 with value: 0.5696400625978091.\u001b[0m\n",
      "\u001b[32m[I 2023-03-14 20:28:26,857]\u001b[0m Trial 46 finished with value: 0.5365079365079365 and parameters: {'max_depth': 35, 'min_samples_split': 25, 'min_samples_leaf': 23, 'criterion': 'gini'}. Best is trial 28 with value: 0.5696400625978091.\u001b[0m\n",
      "\u001b[32m[I 2023-03-14 20:28:26,880]\u001b[0m Trial 47 finished with value: 0.5611285266457681 and parameters: {'max_depth': 12, 'min_samples_split': 2, 'min_samples_leaf': 19, 'criterion': 'gini'}. Best is trial 28 with value: 0.5696400625978091.\u001b[0m\n",
      "\u001b[32m[I 2023-03-14 20:28:26,902]\u001b[0m Trial 48 finished with value: 0.5696400625978091 and parameters: {'max_depth': 20, 'min_samples_split': 17, 'min_samples_leaf': 20, 'criterion': 'gini'}. Best is trial 28 with value: 0.5696400625978091.\u001b[0m\n",
      "\u001b[32m[I 2023-03-14 20:28:26,925]\u001b[0m Trial 49 finished with value: 0.5696400625978091 and parameters: {'max_depth': 23, 'min_samples_split': 11, 'min_samples_leaf': 20, 'criterion': 'gini'}. Best is trial 28 with value: 0.5696400625978091.\u001b[0m\n",
      "\u001b[32m[I 2023-03-14 20:28:26,948]\u001b[0m Trial 50 finished with value: 0.5622119815668203 and parameters: {'max_depth': 20, 'min_samples_split': 9, 'min_samples_leaf': 25, 'criterion': 'gini'}. Best is trial 28 with value: 0.5696400625978091.\u001b[0m\n",
      "\u001b[32m[I 2023-03-14 20:28:26,971]\u001b[0m Trial 51 finished with value: 0.5696400625978091 and parameters: {'max_depth': 23, 'min_samples_split': 9, 'min_samples_leaf': 20, 'criterion': 'gini'}. Best is trial 28 with value: 0.5696400625978091.\u001b[0m\n",
      "\u001b[32m[I 2023-03-14 20:28:26,997]\u001b[0m Trial 52 finished with value: 0.5590062111801243 and parameters: {'max_depth': 17, 'min_samples_split': 5, 'min_samples_leaf': 18, 'criterion': 'gini'}. Best is trial 28 with value: 0.5696400625978091.\u001b[0m\n",
      "\u001b[32m[I 2023-03-14 20:28:27,022]\u001b[0m Trial 53 finished with value: 0.5696400625978091 and parameters: {'max_depth': 28, 'min_samples_split': 12, 'min_samples_leaf': 20, 'criterion': 'gini'}. Best is trial 28 with value: 0.5696400625978091.\u001b[0m\n",
      "\u001b[32m[I 2023-03-14 20:28:27,044]\u001b[0m Trial 54 finished with value: 0.5365079365079365 and parameters: {'max_depth': 24, 'min_samples_split': 16, 'min_samples_leaf': 22, 'criterion': 'gini'}. Best is trial 28 with value: 0.5696400625978091.\u001b[0m\n",
      "\u001b[32m[I 2023-03-14 20:28:27,066]\u001b[0m Trial 55 finished with value: 0.5506329113924051 and parameters: {'max_depth': 26, 'min_samples_split': 7, 'min_samples_leaf': 16, 'criterion': 'gini'}. Best is trial 28 with value: 0.5696400625978091.\u001b[0m\n",
      "\u001b[32m[I 2023-03-14 20:28:27,087]\u001b[0m Trial 56 finished with value: 0.5592417061611374 and parameters: {'max_depth': 19, 'min_samples_split': 13, 'min_samples_leaf': 17, 'criterion': 'gini'}. Best is trial 28 with value: 0.5696400625978091.\u001b[0m\n",
      "\u001b[32m[I 2023-03-14 20:28:27,110]\u001b[0m Trial 57 finished with value: 0.5365079365079365 and parameters: {'max_depth': 38, 'min_samples_split': 17, 'min_samples_leaf': 22, 'criterion': 'gini'}. Best is trial 28 with value: 0.5696400625978091.\u001b[0m\n",
      "\u001b[32m[I 2023-03-14 20:28:27,132]\u001b[0m Trial 58 finished with value: 0.5696400625978091 and parameters: {'max_depth': 30, 'min_samples_split': 27, 'min_samples_leaf': 20, 'criterion': 'gini'}. Best is trial 28 with value: 0.5696400625978091.\u001b[0m\n",
      "\u001b[32m[I 2023-03-14 20:28:27,154]\u001b[0m Trial 59 finished with value: 0.5590062111801243 and parameters: {'max_depth': 42, 'min_samples_split': 29, 'min_samples_leaf': 18, 'criterion': 'gini'}. Best is trial 28 with value: 0.5696400625978091.\u001b[0m\n",
      "\u001b[32m[I 2023-03-14 20:28:27,177]\u001b[0m Trial 60 finished with value: 0.5401234567901235 and parameters: {'max_depth': 46, 'min_samples_split': 18, 'min_samples_leaf': 14, 'criterion': 'gini'}. Best is trial 28 with value: 0.5696400625978091.\u001b[0m\n",
      "\u001b[32m[I 2023-03-14 20:28:27,199]\u001b[0m Trial 61 finished with value: 0.545171339563863 and parameters: {'max_depth': 22, 'min_samples_split': 9, 'min_samples_leaf': 24, 'criterion': 'gini'}. Best is trial 28 with value: 0.5696400625978091.\u001b[0m\n",
      "\u001b[32m[I 2023-03-14 20:28:27,221]\u001b[0m Trial 62 finished with value: 0.5696400625978091 and parameters: {'max_depth': 23, 'min_samples_split': 10, 'min_samples_leaf': 20, 'criterion': 'gini'}. Best is trial 28 with value: 0.5696400625978091.\u001b[0m\n",
      "\u001b[32m[I 2023-03-14 20:28:27,243]\u001b[0m Trial 63 finished with value: 0.5365079365079365 and parameters: {'max_depth': 17, 'min_samples_split': 7, 'min_samples_leaf': 22, 'criterion': 'gini'}. Best is trial 28 with value: 0.5696400625978091.\u001b[0m\n",
      "\u001b[32m[I 2023-03-14 20:28:27,265]\u001b[0m Trial 64 finished with value: 0.5696400625978091 and parameters: {'max_depth': 20, 'min_samples_split': 11, 'min_samples_leaf': 20, 'criterion': 'gini'}. Best is trial 28 with value: 0.5696400625978091.\u001b[0m\n",
      "\u001b[32m[I 2023-03-14 20:28:27,287]\u001b[0m Trial 65 finished with value: 0.5611285266457681 and parameters: {'max_depth': 27, 'min_samples_split': 8, 'min_samples_leaf': 19, 'criterion': 'gini'}. Best is trial 28 with value: 0.5696400625978091.\u001b[0m\n",
      "\u001b[32m[I 2023-03-14 20:28:27,310]\u001b[0m Trial 66 finished with value: 0.5592417061611374 and parameters: {'max_depth': 24, 'min_samples_split': 4, 'min_samples_leaf': 17, 'criterion': 'gini'}. Best is trial 28 with value: 0.5696400625978091.\u001b[0m\n",
      "\u001b[32m[I 2023-03-14 20:28:27,331]\u001b[0m Trial 67 finished with value: 0.5365079365079365 and parameters: {'max_depth': 33, 'min_samples_split': 13, 'min_samples_leaf': 23, 'criterion': 'gini'}. Best is trial 28 with value: 0.5696400625978091.\u001b[0m\n"
     ]
    },
    {
     "name": "stderr",
     "output_type": "stream",
     "text": [
      "\u001b[32m[I 2023-03-14 20:28:27,354]\u001b[0m Trial 68 finished with value: 0.5674418604651162 and parameters: {'max_depth': 39, 'min_samples_split': 15, 'min_samples_leaf': 21, 'criterion': 'gini'}. Best is trial 28 with value: 0.5696400625978091.\u001b[0m\n",
      "\u001b[32m[I 2023-03-14 20:28:27,376]\u001b[0m Trial 69 finished with value: 0.5529953917050693 and parameters: {'max_depth': 19, 'min_samples_split': 29, 'min_samples_leaf': 15, 'criterion': 'gini'}. Best is trial 28 with value: 0.5696400625978091.\u001b[0m\n",
      "\u001b[32m[I 2023-03-14 20:28:27,399]\u001b[0m Trial 70 finished with value: 0.5622119815668203 and parameters: {'max_depth': 21, 'min_samples_split': 4, 'min_samples_leaf': 25, 'criterion': 'gini'}. Best is trial 28 with value: 0.5696400625978091.\u001b[0m\n",
      "\u001b[32m[I 2023-03-14 20:28:27,421]\u001b[0m Trial 71 finished with value: 0.5696400625978091 and parameters: {'max_depth': 28, 'min_samples_split': 12, 'min_samples_leaf': 20, 'criterion': 'gini'}. Best is trial 28 with value: 0.5696400625978091.\u001b[0m\n",
      "\u001b[32m[I 2023-03-14 20:28:27,444]\u001b[0m Trial 72 finished with value: 0.5696400625978091 and parameters: {'max_depth': 28, 'min_samples_split': 12, 'min_samples_leaf': 20, 'criterion': 'gini'}. Best is trial 28 with value: 0.5696400625978091.\u001b[0m\n",
      "\u001b[32m[I 2023-03-14 20:28:27,466]\u001b[0m Trial 73 finished with value: 0.5611285266457681 and parameters: {'max_depth': 31, 'min_samples_split': 10, 'min_samples_leaf': 19, 'criterion': 'gini'}. Best is trial 28 with value: 0.5696400625978091.\u001b[0m\n",
      "\u001b[32m[I 2023-03-14 20:28:27,489]\u001b[0m Trial 74 finished with value: 0.5590062111801243 and parameters: {'max_depth': 25, 'min_samples_split': 11, 'min_samples_leaf': 18, 'criterion': 'gini'}. Best is trial 28 with value: 0.5696400625978091.\u001b[0m\n",
      "\u001b[32m[I 2023-03-14 20:28:27,511]\u001b[0m Trial 75 finished with value: 0.5365079365079365 and parameters: {'max_depth': 22, 'min_samples_split': 27, 'min_samples_leaf': 22, 'criterion': 'gini'}. Best is trial 28 with value: 0.5696400625978091.\u001b[0m\n",
      "\u001b[32m[I 2023-03-14 20:28:27,536]\u001b[0m Trial 76 finished with value: 0.5071225071225071 and parameters: {'max_depth': 29, 'min_samples_split': 8, 'min_samples_leaf': 1, 'criterion': 'gini'}. Best is trial 28 with value: 0.5696400625978091.\u001b[0m\n",
      "\u001b[32m[I 2023-03-14 20:28:27,558]\u001b[0m Trial 77 finished with value: 0.5592417061611374 and parameters: {'max_depth': 16, 'min_samples_split': 14, 'min_samples_leaf': 17, 'criterion': 'gini'}. Best is trial 28 with value: 0.5696400625978091.\u001b[0m\n",
      "\u001b[32m[I 2023-03-14 20:28:27,583]\u001b[0m Trial 78 finished with value: 0.5547226386806597 and parameters: {'max_depth': 50, 'min_samples_split': 26, 'min_samples_leaf': 20, 'criterion': 'entropy'}. Best is trial 28 with value: 0.5696400625978091.\u001b[0m\n",
      "\u001b[32m[I 2023-03-14 20:28:27,606]\u001b[0m Trial 79 finished with value: 0.5674418604651162 and parameters: {'max_depth': 34, 'min_samples_split': 21, 'min_samples_leaf': 21, 'criterion': 'gini'}. Best is trial 28 with value: 0.5696400625978091.\u001b[0m\n",
      "\u001b[32m[I 2023-03-14 20:28:27,629]\u001b[0m Trial 80 finished with value: 0.545171339563863 and parameters: {'max_depth': 25, 'min_samples_split': 9, 'min_samples_leaf': 24, 'criterion': 'gini'}. Best is trial 28 with value: 0.5696400625978091.\u001b[0m\n",
      "\u001b[32m[I 2023-03-14 20:28:27,652]\u001b[0m Trial 81 finished with value: 0.5611285266457681 and parameters: {'max_depth': 30, 'min_samples_split': 27, 'min_samples_leaf': 19, 'criterion': 'gini'}. Best is trial 28 with value: 0.5696400625978091.\u001b[0m\n",
      "\u001b[32m[I 2023-03-14 20:28:27,675]\u001b[0m Trial 82 finished with value: 0.5674418604651162 and parameters: {'max_depth': 31, 'min_samples_split': 29, 'min_samples_leaf': 21, 'criterion': 'gini'}. Best is trial 28 with value: 0.5696400625978091.\u001b[0m\n",
      "\u001b[32m[I 2023-03-14 20:28:27,699]\u001b[0m Trial 83 finished with value: 0.5696400625978091 and parameters: {'max_depth': 27, 'min_samples_split': 25, 'min_samples_leaf': 20, 'criterion': 'gini'}. Best is trial 28 with value: 0.5696400625978091.\u001b[0m\n",
      "\u001b[32m[I 2023-03-14 20:28:27,722]\u001b[0m Trial 84 finished with value: 0.5590062111801243 and parameters: {'max_depth': 23, 'min_samples_split': 27, 'min_samples_leaf': 18, 'criterion': 'gini'}. Best is trial 28 with value: 0.5696400625978091.\u001b[0m\n",
      "\u001b[32m[I 2023-03-14 20:28:27,746]\u001b[0m Trial 85 finished with value: 0.5365079365079365 and parameters: {'max_depth': 29, 'min_samples_split': 24, 'min_samples_leaf': 22, 'criterion': 'gini'}. Best is trial 28 with value: 0.5696400625978091.\u001b[0m\n",
      "\u001b[32m[I 2023-03-14 20:28:27,771]\u001b[0m Trial 86 finished with value: 0.5365079365079365 and parameters: {'max_depth': 35, 'min_samples_split': 28, 'min_samples_leaf': 23, 'criterion': 'gini'}. Best is trial 28 with value: 0.5696400625978091.\u001b[0m\n",
      "\u001b[32m[I 2023-03-14 20:28:27,794]\u001b[0m Trial 87 finished with value: 0.5611285266457681 and parameters: {'max_depth': 32, 'min_samples_split': 26, 'min_samples_leaf': 19, 'criterion': 'gini'}. Best is trial 28 with value: 0.5696400625978091.\u001b[0m\n",
      "\u001b[32m[I 2023-03-14 20:28:27,819]\u001b[0m Trial 88 finished with value: 0.5674418604651162 and parameters: {'max_depth': 41, 'min_samples_split': 23, 'min_samples_leaf': 21, 'criterion': 'entropy'}. Best is trial 28 with value: 0.5696400625978091.\u001b[0m\n",
      "\u001b[32m[I 2023-03-14 20:28:27,842]\u001b[0m Trial 89 finished with value: 0.5506329113924051 and parameters: {'max_depth': 18, 'min_samples_split': 14, 'min_samples_leaf': 16, 'criterion': 'gini'}. Best is trial 28 with value: 0.5696400625978091.\u001b[0m\n",
      "\u001b[32m[I 2023-03-14 20:28:27,866]\u001b[0m Trial 90 finished with value: 0.5592417061611374 and parameters: {'max_depth': 21, 'min_samples_split': 30, 'min_samples_leaf': 17, 'criterion': 'gini'}. Best is trial 28 with value: 0.5696400625978091.\u001b[0m\n",
      "\u001b[32m[I 2023-03-14 20:28:27,889]\u001b[0m Trial 91 finished with value: 0.5696400625978091 and parameters: {'max_depth': 23, 'min_samples_split': 10, 'min_samples_leaf': 20, 'criterion': 'gini'}. Best is trial 28 with value: 0.5696400625978091.\u001b[0m\n",
      "\u001b[32m[I 2023-03-14 20:28:27,912]\u001b[0m Trial 92 finished with value: 0.5696400625978091 and parameters: {'max_depth': 23, 'min_samples_split': 10, 'min_samples_leaf': 20, 'criterion': 'gini'}. Best is trial 28 with value: 0.5696400625978091.\u001b[0m\n",
      "\u001b[32m[I 2023-03-14 20:28:27,936]\u001b[0m Trial 93 finished with value: 0.5590062111801243 and parameters: {'max_depth': 26, 'min_samples_split': 11, 'min_samples_leaf': 18, 'criterion': 'gini'}. Best is trial 28 with value: 0.5696400625978091.\u001b[0m\n",
      "\u001b[32m[I 2023-03-14 20:28:27,960]\u001b[0m Trial 94 finished with value: 0.5674418604651162 and parameters: {'max_depth': 25, 'min_samples_split': 12, 'min_samples_leaf': 21, 'criterion': 'gini'}. Best is trial 28 with value: 0.5696400625978091.\u001b[0m\n",
      "\u001b[32m[I 2023-03-14 20:28:27,983]\u001b[0m Trial 95 finished with value: 0.5365079365079365 and parameters: {'max_depth': 28, 'min_samples_split': 8, 'min_samples_leaf': 22, 'criterion': 'gini'}. Best is trial 28 with value: 0.5696400625978091.\u001b[0m\n",
      "\u001b[32m[I 2023-03-14 20:28:28,006]\u001b[0m Trial 96 finished with value: 0.5696400625978091 and parameters: {'max_depth': 20, 'min_samples_split': 7, 'min_samples_leaf': 20, 'criterion': 'gini'}. Best is trial 28 with value: 0.5696400625978091.\u001b[0m\n",
      "\u001b[32m[I 2023-03-14 20:28:28,029]\u001b[0m Trial 97 finished with value: 0.5611285266457681 and parameters: {'max_depth': 18, 'min_samples_split': 27, 'min_samples_leaf': 19, 'criterion': 'gini'}. Best is trial 28 with value: 0.5696400625978091.\u001b[0m\n",
      "\u001b[32m[I 2023-03-14 20:28:28,053]\u001b[0m Trial 98 finished with value: 0.5419968304278922 and parameters: {'max_depth': 32, 'min_samples_split': 28, 'min_samples_leaf': 7, 'criterion': 'gini'}. Best is trial 28 with value: 0.5696400625978091.\u001b[0m\n",
      "\u001b[32m[I 2023-03-14 20:28:28,076]\u001b[0m Trial 99 finished with value: 0.5590062111801243 and parameters: {'max_depth': 24, 'min_samples_split': 30, 'min_samples_leaf': 18, 'criterion': 'gini'}. Best is trial 28 with value: 0.5696400625978091.\u001b[0m\n",
      "\u001b[32m[I 2023-03-14 20:28:28,100]\u001b[0m Trial 100 finished with value: 0.5365079365079365 and parameters: {'max_depth': 37, 'min_samples_split': 9, 'min_samples_leaf': 23, 'criterion': 'gini'}. Best is trial 28 with value: 0.5696400625978091.\u001b[0m\n",
      "\u001b[32m[I 2023-03-14 20:28:28,123]\u001b[0m Trial 101 finished with value: 0.5696400625978091 and parameters: {'max_depth': 20, 'min_samples_split': 13, 'min_samples_leaf': 20, 'criterion': 'gini'}. Best is trial 28 with value: 0.5696400625978091.\u001b[0m\n"
     ]
    },
    {
     "name": "stderr",
     "output_type": "stream",
     "text": [
      "\u001b[32m[I 2023-03-14 20:28:28,147]\u001b[0m Trial 102 finished with value: 0.5611285266457681 and parameters: {'max_depth': 22, 'min_samples_split': 11, 'min_samples_leaf': 19, 'criterion': 'gini'}. Best is trial 28 with value: 0.5696400625978091.\u001b[0m\n",
      "\u001b[32m[I 2023-03-14 20:28:28,172]\u001b[0m Trial 103 finished with value: 0.5674418604651162 and parameters: {'max_depth': 21, 'min_samples_split': 29, 'min_samples_leaf': 21, 'criterion': 'gini'}. Best is trial 28 with value: 0.5696400625978091.\u001b[0m\n",
      "\u001b[32m[I 2023-03-14 20:28:28,197]\u001b[0m Trial 104 finished with value: 0.5365079365079365 and parameters: {'max_depth': 19, 'min_samples_split': 12, 'min_samples_leaf': 22, 'criterion': 'gini'}. Best is trial 28 with value: 0.5696400625978091.\u001b[0m\n",
      "\u001b[32m[I 2023-03-14 20:28:28,222]\u001b[0m Trial 105 finished with value: 0.5696400625978091 and parameters: {'max_depth': 15, 'min_samples_split': 10, 'min_samples_leaf': 20, 'criterion': 'gini'}. Best is trial 28 with value: 0.5696400625978091.\u001b[0m\n",
      "\u001b[32m[I 2023-03-14 20:28:28,247]\u001b[0m Trial 106 finished with value: 0.5476923076923077 and parameters: {'max_depth': 48, 'min_samples_split': 15, 'min_samples_leaf': 19, 'criterion': 'entropy'}. Best is trial 28 with value: 0.5696400625978091.\u001b[0m\n",
      "\u001b[32m[I 2023-03-14 20:28:28,271]\u001b[0m Trial 107 finished with value: 0.5590062111801243 and parameters: {'max_depth': 30, 'min_samples_split': 11, 'min_samples_leaf': 18, 'criterion': 'gini'}. Best is trial 28 with value: 0.5696400625978091.\u001b[0m\n",
      "\u001b[32m[I 2023-03-14 20:28:28,296]\u001b[0m Trial 108 finished with value: 0.5674418604651162 and parameters: {'max_depth': 27, 'min_samples_split': 6, 'min_samples_leaf': 21, 'criterion': 'gini'}. Best is trial 28 with value: 0.5696400625978091.\u001b[0m\n",
      "\u001b[32m[I 2023-03-14 20:28:28,322]\u001b[0m Trial 109 finished with value: 0.5375 and parameters: {'max_depth': 17, 'min_samples_split': 25, 'min_samples_leaf': 4, 'criterion': 'gini'}. Best is trial 28 with value: 0.5696400625978091.\u001b[0m\n",
      "\u001b[32m[I 2023-03-14 20:28:28,346]\u001b[0m Trial 110 finished with value: 0.5592417061611374 and parameters: {'max_depth': 23, 'min_samples_split': 26, 'min_samples_leaf': 17, 'criterion': 'gini'}. Best is trial 28 with value: 0.5696400625978091.\u001b[0m\n",
      "\u001b[32m[I 2023-03-14 20:28:28,371]\u001b[0m Trial 111 finished with value: 0.5696400625978091 and parameters: {'max_depth': 29, 'min_samples_split': 16, 'min_samples_leaf': 20, 'criterion': 'gini'}. Best is trial 28 with value: 0.5696400625978091.\u001b[0m\n",
      "\u001b[32m[I 2023-03-14 20:28:28,394]\u001b[0m Trial 112 finished with value: 0.5674418604651162 and parameters: {'max_depth': 26, 'min_samples_split': 12, 'min_samples_leaf': 21, 'criterion': 'gini'}. Best is trial 28 with value: 0.5696400625978091.\u001b[0m\n",
      "\u001b[32m[I 2023-03-14 20:28:28,418]\u001b[0m Trial 113 finished with value: 0.5696400625978091 and parameters: {'max_depth': 45, 'min_samples_split': 12, 'min_samples_leaf': 20, 'criterion': 'gini'}. Best is trial 28 with value: 0.5696400625978091.\u001b[0m\n",
      "\u001b[32m[I 2023-03-14 20:28:28,441]\u001b[0m Trial 114 finished with value: 0.5696400625978091 and parameters: {'max_depth': 33, 'min_samples_split': 14, 'min_samples_leaf': 20, 'criterion': 'gini'}. Best is trial 28 with value: 0.5696400625978091.\u001b[0m\n",
      "\u001b[32m[I 2023-03-14 20:28:28,465]\u001b[0m Trial 115 finished with value: 0.5611285266457681 and parameters: {'max_depth': 24, 'min_samples_split': 10, 'min_samples_leaf': 19, 'criterion': 'gini'}. Best is trial 28 with value: 0.5696400625978091.\u001b[0m\n",
      "\u001b[32m[I 2023-03-14 20:28:28,490]\u001b[0m Trial 116 finished with value: 0.5365079365079365 and parameters: {'max_depth': 20, 'min_samples_split': 13, 'min_samples_leaf': 22, 'criterion': 'gini'}. Best is trial 28 with value: 0.5696400625978091.\u001b[0m\n",
      "\u001b[32m[I 2023-03-14 20:28:28,513]\u001b[0m Trial 117 finished with value: 0.5433715220949263 and parameters: {'max_depth': 28, 'min_samples_split': 9, 'min_samples_leaf': 30, 'criterion': 'gini'}. Best is trial 28 with value: 0.5696400625978091.\u001b[0m\n",
      "\u001b[32m[I 2023-03-14 20:28:28,537]\u001b[0m Trial 118 finished with value: 0.5365079365079365 and parameters: {'max_depth': 31, 'min_samples_split': 11, 'min_samples_leaf': 23, 'criterion': 'gini'}. Best is trial 28 with value: 0.5696400625978091.\u001b[0m\n",
      "\u001b[32m[I 2023-03-14 20:28:28,561]\u001b[0m Trial 119 finished with value: 0.5590062111801243 and parameters: {'max_depth': 34, 'min_samples_split': 28, 'min_samples_leaf': 18, 'criterion': 'gini'}. Best is trial 28 with value: 0.5696400625978091.\u001b[0m\n",
      "\u001b[32m[I 2023-03-14 20:28:28,587]\u001b[0m Trial 120 finished with value: 0.5476923076923077 and parameters: {'max_depth': 21, 'min_samples_split': 27, 'min_samples_leaf': 19, 'criterion': 'entropy'}. Best is trial 28 with value: 0.5696400625978091.\u001b[0m\n",
      "\u001b[32m[I 2023-03-14 20:28:28,611]\u001b[0m Trial 121 finished with value: 0.5696400625978091 and parameters: {'max_depth': 27, 'min_samples_split': 12, 'min_samples_leaf': 20, 'criterion': 'gini'}. Best is trial 28 with value: 0.5696400625978091.\u001b[0m\n",
      "\u001b[32m[I 2023-03-14 20:28:28,635]\u001b[0m Trial 122 finished with value: 0.5674418604651162 and parameters: {'max_depth': 28, 'min_samples_split': 8, 'min_samples_leaf': 21, 'criterion': 'gini'}. Best is trial 28 with value: 0.5696400625978091.\u001b[0m\n",
      "\u001b[32m[I 2023-03-14 20:28:28,660]\u001b[0m Trial 123 finished with value: 0.5696400625978091 and parameters: {'max_depth': 30, 'min_samples_split': 11, 'min_samples_leaf': 20, 'criterion': 'gini'}. Best is trial 28 with value: 0.5696400625978091.\u001b[0m\n",
      "\u001b[32m[I 2023-03-14 20:28:28,685]\u001b[0m Trial 124 finished with value: 0.5674418604651162 and parameters: {'max_depth': 29, 'min_samples_split': 13, 'min_samples_leaf': 21, 'criterion': 'gini'}. Best is trial 28 with value: 0.5696400625978091.\u001b[0m\n",
      "\u001b[32m[I 2023-03-14 20:28:28,710]\u001b[0m Trial 125 finished with value: 0.5611285266457681 and parameters: {'max_depth': 24, 'min_samples_split': 10, 'min_samples_leaf': 19, 'criterion': 'gini'}. Best is trial 28 with value: 0.5696400625978091.\u001b[0m\n",
      "\u001b[32m[I 2023-03-14 20:28:28,734]\u001b[0m Trial 126 finished with value: 0.5365079365079365 and parameters: {'max_depth': 26, 'min_samples_split': 9, 'min_samples_leaf': 22, 'criterion': 'gini'}. Best is trial 28 with value: 0.5696400625978091.\u001b[0m\n",
      "\u001b[32m[I 2023-03-14 20:28:28,758]\u001b[0m Trial 127 finished with value: 0.5696400625978091 and parameters: {'max_depth': 25, 'min_samples_split': 29, 'min_samples_leaf': 20, 'criterion': 'gini'}. Best is trial 28 with value: 0.5696400625978091.\u001b[0m\n",
      "\u001b[32m[I 2023-03-14 20:28:28,783]\u001b[0m Trial 128 finished with value: 0.5590062111801243 and parameters: {'max_depth': 28, 'min_samples_split': 19, 'min_samples_leaf': 18, 'criterion': 'gini'}. Best is trial 28 with value: 0.5696400625978091.\u001b[0m\n",
      "\u001b[32m[I 2023-03-14 20:28:28,808]\u001b[0m Trial 129 finished with value: 0.5611285266457681 and parameters: {'max_depth': 22, 'min_samples_split': 12, 'min_samples_leaf': 19, 'criterion': 'gini'}. Best is trial 28 with value: 0.5696400625978091.\u001b[0m\n",
      "\u001b[32m[I 2023-03-14 20:28:28,833]\u001b[0m Trial 130 finished with value: 0.5674418604651162 and parameters: {'max_depth': 32, 'min_samples_split': 28, 'min_samples_leaf': 21, 'criterion': 'gini'}. Best is trial 28 with value: 0.5696400625978091.\u001b[0m\n",
      "\u001b[32m[I 2023-03-14 20:28:28,857]\u001b[0m Trial 131 finished with value: 0.5696400625978091 and parameters: {'max_depth': 28, 'min_samples_split': 27, 'min_samples_leaf': 20, 'criterion': 'gini'}. Best is trial 28 with value: 0.5696400625978091.\u001b[0m\n",
      "\u001b[32m[I 2023-03-14 20:28:28,881]\u001b[0m Trial 132 finished with value: 0.5696400625978091 and parameters: {'max_depth': 27, 'min_samples_split': 25, 'min_samples_leaf': 20, 'criterion': 'gini'}. Best is trial 28 with value: 0.5696400625978091.\u001b[0m\n",
      "\u001b[32m[I 2023-03-14 20:28:28,906]\u001b[0m Trial 133 finished with value: 0.5365079365079365 and parameters: {'max_depth': 19, 'min_samples_split': 26, 'min_samples_leaf': 22, 'criterion': 'gini'}. Best is trial 28 with value: 0.5696400625978091.\u001b[0m\n",
      "\u001b[32m[I 2023-03-14 20:28:28,931]\u001b[0m Trial 134 finished with value: 0.5611285266457681 and parameters: {'max_depth': 31, 'min_samples_split': 10, 'min_samples_leaf': 19, 'criterion': 'gini'}. Best is trial 28 with value: 0.5696400625978091.\u001b[0m\n",
      "\u001b[32m[I 2023-03-14 20:28:28,956]\u001b[0m Trial 135 finished with value: 0.5674418604651162 and parameters: {'max_depth': 25, 'min_samples_split': 28, 'min_samples_leaf': 21, 'criterion': 'gini'}. Best is trial 28 with value: 0.5696400625978091.\u001b[0m\n"
     ]
    },
    {
     "name": "stderr",
     "output_type": "stream",
     "text": [
      "\u001b[32m[I 2023-03-14 20:28:28,981]\u001b[0m Trial 136 finished with value: 0.5696400625978091 and parameters: {'max_depth': 23, 'min_samples_split': 12, 'min_samples_leaf': 20, 'criterion': 'gini'}. Best is trial 28 with value: 0.5696400625978091.\u001b[0m\n",
      "\u001b[32m[I 2023-03-14 20:28:29,007]\u001b[0m Trial 137 finished with value: 0.5590062111801243 and parameters: {'max_depth': 27, 'min_samples_split': 29, 'min_samples_leaf': 18, 'criterion': 'gini'}. Best is trial 28 with value: 0.5696400625978091.\u001b[0m\n",
      "\u001b[32m[I 2023-03-14 20:28:29,032]\u001b[0m Trial 138 finished with value: 0.5365079365079365 and parameters: {'max_depth': 30, 'min_samples_split': 14, 'min_samples_leaf': 22, 'criterion': 'gini'}. Best is trial 28 with value: 0.5696400625978091.\u001b[0m\n",
      "\u001b[32m[I 2023-03-14 20:28:29,058]\u001b[0m Trial 139 finished with value: 0.5365079365079365 and parameters: {'max_depth': 35, 'min_samples_split': 27, 'min_samples_leaf': 23, 'criterion': 'gini'}. Best is trial 28 with value: 0.5696400625978091.\u001b[0m\n",
      "\u001b[32m[I 2023-03-14 20:28:29,084]\u001b[0m Trial 140 finished with value: 0.5674418604651162 and parameters: {'max_depth': 39, 'min_samples_split': 11, 'min_samples_leaf': 21, 'criterion': 'gini'}. Best is trial 28 with value: 0.5696400625978091.\u001b[0m\n",
      "\u001b[32m[I 2023-03-14 20:28:29,110]\u001b[0m Trial 141 finished with value: 0.5696400625978091 and parameters: {'max_depth': 23, 'min_samples_split': 10, 'min_samples_leaf': 20, 'criterion': 'gini'}. Best is trial 28 with value: 0.5696400625978091.\u001b[0m\n",
      "\u001b[32m[I 2023-03-14 20:28:29,136]\u001b[0m Trial 142 finished with value: 0.5696400625978091 and parameters: {'max_depth': 22, 'min_samples_split': 10, 'min_samples_leaf': 20, 'criterion': 'gini'}. Best is trial 28 with value: 0.5696400625978091.\u001b[0m\n",
      "\u001b[32m[I 2023-03-14 20:28:29,162]\u001b[0m Trial 143 finished with value: 0.5611285266457681 and parameters: {'max_depth': 20, 'min_samples_split': 11, 'min_samples_leaf': 19, 'criterion': 'gini'}. Best is trial 28 with value: 0.5696400625978091.\u001b[0m\n",
      "\u001b[32m[I 2023-03-14 20:28:29,188]\u001b[0m Trial 144 finished with value: 0.5590062111801243 and parameters: {'max_depth': 26, 'min_samples_split': 13, 'min_samples_leaf': 18, 'criterion': 'gini'}. Best is trial 28 with value: 0.5696400625978091.\u001b[0m\n",
      "\u001b[32m[I 2023-03-14 20:28:29,214]\u001b[0m Trial 145 finished with value: 0.5611285266457681 and parameters: {'max_depth': 21, 'min_samples_split': 8, 'min_samples_leaf': 19, 'criterion': 'gini'}. Best is trial 28 with value: 0.5696400625978091.\u001b[0m\n",
      "\u001b[32m[I 2023-03-14 20:28:29,241]\u001b[0m Trial 146 finished with value: 0.5674418604651162 and parameters: {'max_depth': 29, 'min_samples_split': 21, 'min_samples_leaf': 21, 'criterion': 'entropy'}. Best is trial 28 with value: 0.5696400625978091.\u001b[0m\n",
      "\u001b[32m[I 2023-03-14 20:28:29,266]\u001b[0m Trial 147 finished with value: 0.5696400625978091 and parameters: {'max_depth': 24, 'min_samples_split': 9, 'min_samples_leaf': 20, 'criterion': 'gini'}. Best is trial 28 with value: 0.5696400625978091.\u001b[0m\n",
      "\u001b[32m[I 2023-03-14 20:28:29,390]\u001b[0m Trial 148 finished with value: 0.5696400625978091 and parameters: {'max_depth': 18, 'min_samples_split': 26, 'min_samples_leaf': 20, 'criterion': 'gini'}. Best is trial 28 with value: 0.5696400625978091.\u001b[0m\n",
      "\u001b[32m[I 2023-03-14 20:28:29,415]\u001b[0m Trial 149 finished with value: 0.5592417061611374 and parameters: {'max_depth': 33, 'min_samples_split': 12, 'min_samples_leaf': 17, 'criterion': 'gini'}. Best is trial 28 with value: 0.5696400625978091.\u001b[0m\n",
      "\u001b[32m[I 2023-03-14 20:28:29,440]\u001b[0m Trial 150 finished with value: 0.5674418604651162 and parameters: {'max_depth': 23, 'min_samples_split': 24, 'min_samples_leaf': 21, 'criterion': 'gini'}. Best is trial 28 with value: 0.5696400625978091.\u001b[0m\n",
      "\u001b[32m[I 2023-03-14 20:28:29,466]\u001b[0m Trial 151 finished with value: 0.5696400625978091 and parameters: {'max_depth': 23, 'min_samples_split': 10, 'min_samples_leaf': 20, 'criterion': 'gini'}. Best is trial 28 with value: 0.5696400625978091.\u001b[0m\n",
      "\u001b[32m[I 2023-03-14 20:28:29,492]\u001b[0m Trial 152 finished with value: 0.5611285266457681 and parameters: {'max_depth': 21, 'min_samples_split': 11, 'min_samples_leaf': 19, 'criterion': 'gini'}. Best is trial 28 with value: 0.5696400625978091.\u001b[0m\n",
      "\u001b[32m[I 2023-03-14 20:28:29,517]\u001b[0m Trial 153 finished with value: 0.5365079365079365 and parameters: {'max_depth': 25, 'min_samples_split': 9, 'min_samples_leaf': 22, 'criterion': 'gini'}. Best is trial 28 with value: 0.5696400625978091.\u001b[0m\n",
      "\u001b[32m[I 2023-03-14 20:28:29,546]\u001b[0m Trial 154 finished with value: 0.5696400625978091 and parameters: {'max_depth': 22, 'min_samples_split': 10, 'min_samples_leaf': 20, 'criterion': 'gini'}. Best is trial 28 with value: 0.5696400625978091.\u001b[0m\n",
      "\u001b[32m[I 2023-03-14 20:28:29,573]\u001b[0m Trial 155 finished with value: 0.5674418604651162 and parameters: {'max_depth': 42, 'min_samples_split': 29, 'min_samples_leaf': 21, 'criterion': 'gini'}. Best is trial 28 with value: 0.5696400625978091.\u001b[0m\n",
      "\u001b[32m[I 2023-03-14 20:28:29,600]\u001b[0m Trial 156 finished with value: 0.5426356589147286 and parameters: {'max_depth': 48, 'min_samples_split': 28, 'min_samples_leaf': 10, 'criterion': 'gini'}. Best is trial 28 with value: 0.5696400625978091.\u001b[0m\n",
      "\u001b[32m[I 2023-03-14 20:28:29,626]\u001b[0m Trial 157 finished with value: 0.5611285266457681 and parameters: {'max_depth': 24, 'min_samples_split': 11, 'min_samples_leaf': 19, 'criterion': 'gini'}. Best is trial 28 with value: 0.5696400625978091.\u001b[0m\n",
      "\u001b[32m[I 2023-03-14 20:28:29,652]\u001b[0m Trial 158 finished with value: 0.5590062111801243 and parameters: {'max_depth': 19, 'min_samples_split': 9, 'min_samples_leaf': 18, 'criterion': 'gini'}. Best is trial 28 with value: 0.5696400625978091.\u001b[0m\n",
      "\u001b[32m[I 2023-03-14 20:28:29,678]\u001b[0m Trial 159 finished with value: 0.5696400625978091 and parameters: {'max_depth': 26, 'min_samples_split': 8, 'min_samples_leaf': 20, 'criterion': 'gini'}. Best is trial 28 with value: 0.5696400625978091.\u001b[0m\n",
      "\u001b[32m[I 2023-03-14 20:28:29,706]\u001b[0m Trial 160 finished with value: 0.5611285266457681 and parameters: {'max_depth': 20, 'min_samples_split': 30, 'min_samples_leaf': 19, 'criterion': 'gini'}. Best is trial 28 with value: 0.5696400625978091.\u001b[0m\n",
      "\u001b[32m[I 2023-03-14 20:28:29,731]\u001b[0m Trial 161 finished with value: 0.5696400625978091 and parameters: {'max_depth': 17, 'min_samples_split': 7, 'min_samples_leaf': 20, 'criterion': 'gini'}. Best is trial 28 with value: 0.5696400625978091.\u001b[0m\n",
      "\u001b[32m[I 2023-03-14 20:28:29,757]\u001b[0m Trial 162 finished with value: 0.5674418604651162 and parameters: {'max_depth': 20, 'min_samples_split': 5, 'min_samples_leaf': 21, 'criterion': 'gini'}. Best is trial 28 with value: 0.5696400625978091.\u001b[0m\n",
      "\u001b[32m[I 2023-03-14 20:28:29,783]\u001b[0m Trial 163 finished with value: 0.5696400625978091 and parameters: {'max_depth': 28, 'min_samples_split': 7, 'min_samples_leaf': 20, 'criterion': 'gini'}. Best is trial 28 with value: 0.5696400625978091.\u001b[0m\n",
      "\u001b[32m[I 2023-03-14 20:28:29,810]\u001b[0m Trial 164 finished with value: 0.5365079365079365 and parameters: {'max_depth': 22, 'min_samples_split': 18, 'min_samples_leaf': 22, 'criterion': 'gini'}. Best is trial 28 with value: 0.5696400625978091.\u001b[0m\n",
      "\u001b[32m[I 2023-03-14 20:28:29,835]\u001b[0m Trial 165 finished with value: 0.5674418604651162 and parameters: {'max_depth': 18, 'min_samples_split': 12, 'min_samples_leaf': 21, 'criterion': 'gini'}. Best is trial 28 with value: 0.5696400625978091.\u001b[0m\n",
      "\u001b[32m[I 2023-03-14 20:28:29,862]\u001b[0m Trial 166 finished with value: 0.5611285266457681 and parameters: {'max_depth': 16, 'min_samples_split': 6, 'min_samples_leaf': 19, 'criterion': 'gini'}. Best is trial 28 with value: 0.5696400625978091.\u001b[0m\n",
      "\u001b[32m[I 2023-03-14 20:28:29,888]\u001b[0m Trial 167 finished with value: 0.5696400625978091 and parameters: {'max_depth': 21, 'min_samples_split': 10, 'min_samples_leaf': 20, 'criterion': 'gini'}. Best is trial 28 with value: 0.5696400625978091.\u001b[0m\n",
      "\u001b[32m[I 2023-03-14 20:28:29,916]\u001b[0m Trial 168 finished with value: 0.5674418604651162 and parameters: {'max_depth': 23, 'min_samples_split': 13, 'min_samples_leaf': 21, 'criterion': 'entropy'}. Best is trial 28 with value: 0.5696400625978091.\u001b[0m\n",
      "\u001b[32m[I 2023-03-14 20:28:29,944]\u001b[0m Trial 169 finished with value: 0.5611285266457681 and parameters: {'max_depth': 27, 'min_samples_split': 11, 'min_samples_leaf': 19, 'criterion': 'gini'}. Best is trial 28 with value: 0.5696400625978091.\u001b[0m\n"
     ]
    },
    {
     "name": "stderr",
     "output_type": "stream",
     "text": [
      "\u001b[32m[I 2023-03-14 20:28:29,970]\u001b[0m Trial 170 finished with value: 0.5696400625978091 and parameters: {'max_depth': 30, 'min_samples_split': 27, 'min_samples_leaf': 20, 'criterion': 'gini'}. Best is trial 28 with value: 0.5696400625978091.\u001b[0m\n",
      "\u001b[32m[I 2023-03-14 20:28:29,996]\u001b[0m Trial 171 finished with value: 0.5696400625978091 and parameters: {'max_depth': 20, 'min_samples_split': 13, 'min_samples_leaf': 20, 'criterion': 'gini'}. Best is trial 28 with value: 0.5696400625978091.\u001b[0m\n",
      "\u001b[32m[I 2023-03-14 20:28:30,023]\u001b[0m Trial 172 finished with value: 0.5696400625978091 and parameters: {'max_depth': 19, 'min_samples_split': 17, 'min_samples_leaf': 20, 'criterion': 'gini'}. Best is trial 28 with value: 0.5696400625978091.\u001b[0m\n",
      "\u001b[32m[I 2023-03-14 20:28:30,050]\u001b[0m Trial 173 finished with value: 0.5674418604651162 and parameters: {'max_depth': 20, 'min_samples_split': 12, 'min_samples_leaf': 21, 'criterion': 'gini'}. Best is trial 28 with value: 0.5696400625978091.\u001b[0m\n",
      "\u001b[32m[I 2023-03-14 20:28:30,077]\u001b[0m Trial 174 finished with value: 0.5611285266457681 and parameters: {'max_depth': 21, 'min_samples_split': 28, 'min_samples_leaf': 19, 'criterion': 'gini'}. Best is trial 28 with value: 0.5696400625978091.\u001b[0m\n",
      "\u001b[32m[I 2023-03-14 20:28:30,103]\u001b[0m Trial 175 finished with value: 0.5590062111801243 and parameters: {'max_depth': 25, 'min_samples_split': 11, 'min_samples_leaf': 18, 'criterion': 'gini'}. Best is trial 28 with value: 0.5696400625978091.\u001b[0m\n",
      "\u001b[32m[I 2023-03-14 20:28:30,130]\u001b[0m Trial 176 finished with value: 0.5365079365079365 and parameters: {'max_depth': 29, 'min_samples_split': 12, 'min_samples_leaf': 22, 'criterion': 'gini'}. Best is trial 28 with value: 0.5696400625978091.\u001b[0m\n",
      "\u001b[32m[I 2023-03-14 20:28:30,156]\u001b[0m Trial 177 finished with value: 0.5611285266457681 and parameters: {'max_depth': 19, 'min_samples_split': 10, 'min_samples_leaf': 19, 'criterion': 'gini'}. Best is trial 28 with value: 0.5696400625978091.\u001b[0m\n",
      "\u001b[32m[I 2023-03-14 20:28:30,183]\u001b[0m Trial 178 finished with value: 0.5674418604651162 and parameters: {'max_depth': 23, 'min_samples_split': 14, 'min_samples_leaf': 21, 'criterion': 'gini'}. Best is trial 28 with value: 0.5696400625978091.\u001b[0m\n",
      "\u001b[32m[I 2023-03-14 20:28:30,210]\u001b[0m Trial 179 finished with value: 0.5696400625978091 and parameters: {'max_depth': 24, 'min_samples_split': 15, 'min_samples_leaf': 20, 'criterion': 'gini'}. Best is trial 28 with value: 0.5696400625978091.\u001b[0m\n",
      "\u001b[32m[I 2023-03-14 20:28:30,236]\u001b[0m Trial 180 finished with value: 0.5590062111801243 and parameters: {'max_depth': 36, 'min_samples_split': 9, 'min_samples_leaf': 18, 'criterion': 'gini'}. Best is trial 28 with value: 0.5696400625978091.\u001b[0m\n",
      "\u001b[32m[I 2023-03-14 20:28:30,263]\u001b[0m Trial 181 finished with value: 0.5696400625978091 and parameters: {'max_depth': 11, 'min_samples_split': 10, 'min_samples_leaf': 20, 'criterion': 'gini'}. Best is trial 28 with value: 0.5696400625978091.\u001b[0m\n",
      "\u001b[32m[I 2023-03-14 20:28:30,290]\u001b[0m Trial 182 finished with value: 0.5674418604651162 and parameters: {'max_depth': 9, 'min_samples_split': 10, 'min_samples_leaf': 21, 'criterion': 'gini'}. Best is trial 28 with value: 0.5696400625978091.\u001b[0m\n",
      "\u001b[32m[I 2023-03-14 20:28:30,316]\u001b[0m Trial 183 finished with value: 0.5696400625978091 and parameters: {'max_depth': 14, 'min_samples_split': 11, 'min_samples_leaf': 20, 'criterion': 'gini'}. Best is trial 28 with value: 0.5696400625978091.\u001b[0m\n",
      "\u001b[32m[I 2023-03-14 20:28:30,345]\u001b[0m Trial 184 finished with value: 0.5611285266457681 and parameters: {'max_depth': 15, 'min_samples_split': 11, 'min_samples_leaf': 19, 'criterion': 'gini'}. Best is trial 28 with value: 0.5696400625978091.\u001b[0m\n",
      "\u001b[32m[I 2023-03-14 20:28:30,371]\u001b[0m Trial 185 finished with value: 0.5579831932773109 and parameters: {'max_depth': 6, 'min_samples_split': 13, 'min_samples_leaf': 20, 'criterion': 'gini'}. Best is trial 28 with value: 0.5696400625978091.\u001b[0m\n",
      "\u001b[32m[I 2023-03-14 20:28:30,398]\u001b[0m Trial 186 finished with value: 0.5674418604651162 and parameters: {'max_depth': 27, 'min_samples_split': 16, 'min_samples_leaf': 21, 'criterion': 'gini'}. Best is trial 28 with value: 0.5696400625978091.\u001b[0m\n",
      "\u001b[32m[I 2023-03-14 20:28:30,427]\u001b[0m Trial 187 finished with value: 0.5611285266457681 and parameters: {'max_depth': 16, 'min_samples_split': 27, 'min_samples_leaf': 19, 'criterion': 'gini'}. Best is trial 28 with value: 0.5696400625978091.\u001b[0m\n",
      "\u001b[32m[I 2023-03-14 20:28:30,454]\u001b[0m Trial 188 finished with value: 0.5696400625978091 and parameters: {'max_depth': 22, 'min_samples_split': 20, 'min_samples_leaf': 20, 'criterion': 'gini'}. Best is trial 28 with value: 0.5696400625978091.\u001b[0m\n",
      "\u001b[32m[I 2023-03-14 20:28:30,481]\u001b[0m Trial 189 finished with value: 0.5611285266457681 and parameters: {'max_depth': 31, 'min_samples_split': 8, 'min_samples_leaf': 19, 'criterion': 'gini'}. Best is trial 28 with value: 0.5696400625978091.\u001b[0m\n",
      "\u001b[32m[I 2023-03-14 20:28:30,507]\u001b[0m Trial 190 finished with value: 0.5365079365079365 and parameters: {'max_depth': 26, 'min_samples_split': 10, 'min_samples_leaf': 22, 'criterion': 'gini'}. Best is trial 28 with value: 0.5696400625978091.\u001b[0m\n",
      "\u001b[32m[I 2023-03-14 20:28:30,535]\u001b[0m Trial 191 finished with value: 0.5696400625978091 and parameters: {'max_depth': 29, 'min_samples_split': 16, 'min_samples_leaf': 20, 'criterion': 'gini'}. Best is trial 28 with value: 0.5696400625978091.\u001b[0m\n",
      "\u001b[32m[I 2023-03-14 20:28:30,562]\u001b[0m Trial 192 finished with value: 0.5674418604651162 and parameters: {'max_depth': 28, 'min_samples_split': 17, 'min_samples_leaf': 21, 'criterion': 'gini'}. Best is trial 28 with value: 0.5696400625978091.\u001b[0m\n",
      "\u001b[32m[I 2023-03-14 20:28:30,590]\u001b[0m Trial 193 finished with value: 0.5696400625978091 and parameters: {'max_depth': 30, 'min_samples_split': 28, 'min_samples_leaf': 20, 'criterion': 'gini'}. Best is trial 28 with value: 0.5696400625978091.\u001b[0m\n",
      "\u001b[32m[I 2023-03-14 20:28:30,618]\u001b[0m Trial 194 finished with value: 0.5696400625978091 and parameters: {'max_depth': 29, 'min_samples_split': 15, 'min_samples_leaf': 20, 'criterion': 'gini'}. Best is trial 28 with value: 0.5696400625978091.\u001b[0m\n",
      "\u001b[32m[I 2023-03-14 20:28:30,645]\u001b[0m Trial 195 finished with value: 0.5611285266457681 and parameters: {'max_depth': 32, 'min_samples_split': 12, 'min_samples_leaf': 19, 'criterion': 'gini'}. Best is trial 28 with value: 0.5696400625978091.\u001b[0m\n",
      "\u001b[32m[I 2023-03-14 20:28:30,672]\u001b[0m Trial 196 finished with value: 0.5674418604651162 and parameters: {'max_depth': 13, 'min_samples_split': 9, 'min_samples_leaf': 21, 'criterion': 'gini'}. Best is trial 28 with value: 0.5696400625978091.\u001b[0m\n",
      "\u001b[32m[I 2023-03-14 20:28:30,700]\u001b[0m Trial 197 finished with value: 0.5696400625978091 and parameters: {'max_depth': 28, 'min_samples_split': 3, 'min_samples_leaf': 20, 'criterion': 'gini'}. Best is trial 28 with value: 0.5696400625978091.\u001b[0m\n",
      "\u001b[32m[I 2023-03-14 20:28:30,729]\u001b[0m Trial 198 finished with value: 0.5674418604651162 and parameters: {'max_depth': 25, 'min_samples_split': 22, 'min_samples_leaf': 21, 'criterion': 'entropy'}. Best is trial 28 with value: 0.5696400625978091.\u001b[0m\n",
      "\u001b[32m[I 2023-03-14 20:28:30,758]\u001b[0m Trial 199 finished with value: 0.5611285266457681 and parameters: {'max_depth': 30, 'min_samples_split': 11, 'min_samples_leaf': 19, 'criterion': 'gini'}. Best is trial 28 with value: 0.5696400625978091.\u001b[0m\n"
     ]
    },
    {
     "name": "stdout",
     "output_type": "stream",
     "text": [
      "Best trial:\n",
      "  Score: 0.570\n",
      "  Params: \n",
      "    max_depth: 20\n",
      "    min_samples_split: 28\n",
      "    min_samples_leaf: 20\n",
      "    criterion: gini\n"
     ]
    }
   ],
   "source": [
    "study = optuna.create_study(direction='maximize')\n",
    "\n",
    "study.optimize(objective, n_trials=200)\n",
    "\n",
    "print('Best trial:')\n",
    "trial = study.best_trial\n",
    "print(f'  Score: {trial.value:.3f}')\n",
    "print('  Params: ')\n",
    "for key, value in trial.params.items():\n",
    "    print(f'    {key}: {value}')"
   ]
  },
  {
   "cell_type": "code",
   "execution_count": 144,
   "metadata": {},
   "outputs": [
    {
     "data": {
      "text/plain": [
       "DecisionTreeClassifier(max_depth=20, min_samples_leaf=20, min_samples_split=28,\n",
       "                       random_state=322)"
      ]
     },
     "execution_count": 144,
     "metadata": {},
     "output_type": "execute_result"
    }
   ],
   "source": [
    "dtc_down = DecisionTreeClassifier(max_depth=20,\n",
    "                                    min_samples_split=28,\n",
    "                                    min_samples_leaf=20,\n",
    "                                    criterion='gini',\n",
    "                                    random_state=322)\n",
    "\n",
    "dtc_down.fit(features_downsampled, target_downsampled)"
   ]
  },
  {
   "cell_type": "code",
   "execution_count": 146,
   "metadata": {},
   "outputs": [
    {
     "data": {
      "text/plain": [
       "0.821"
      ]
     },
     "execution_count": 146,
     "metadata": {},
     "output_type": "execute_result"
    }
   ],
   "source": [
    "prob_one_valid = dtc_down.predict_proba(features_valid)[:, 1]\n",
    "roc_auc_score(target_valid, prob_one_valid).round(3)"
   ]
  },
  {
   "cell_type": "markdown",
   "metadata": {},
   "source": [
    "Результаты случайного леса ниже, чем без учета дисбаланса, F1=0,57, AUC-ROC=0,821, это может быть связано с тем, что выборка стала намного меньше и качество обучения снизилось. Качество регрессии немного лучше изначального результата (F1=0,331 AUC-ROC=0,767), так же как и дерево решений (F1=0,571 AUC-ROC=0,841)."
   ]
  },
  {
   "cell_type": "markdown",
   "metadata": {},
   "source": [
    "Лучшей моделью среди всех обученных в данной работе показала себя модель случайного леса со сбалансированными весами классов, ее F1 - 0,627, а AUC-ROC - 0,863."
   ]
  },
  {
   "cell_type": "markdown",
   "metadata": {},
   "source": [
    "## Тестирование модели"
   ]
  },
  {
   "cell_type": "markdown",
   "metadata": {},
   "source": [
    "Проверим лучшую модель на тестовой выборке."
   ]
  },
  {
   "cell_type": "code",
   "execution_count": 147,
   "metadata": {},
   "outputs": [
    {
     "data": {
      "text/plain": [
       "0.628158844765343"
      ]
     },
     "execution_count": 147,
     "metadata": {},
     "output_type": "execute_result"
    }
   ],
   "source": [
    "predicted_test = rfc_cl_w.predict(features_test)\n",
    "f1_test = f1_score(predicted_test, target_test)\n",
    "f1_test"
   ]
  },
  {
   "cell_type": "code",
   "execution_count": 148,
   "metadata": {
    "scrolled": true
   },
   "outputs": [
    {
     "data": {
      "text/plain": [
       "0.8631070274456077"
      ]
     },
     "execution_count": 148,
     "metadata": {},
     "output_type": "execute_result"
    }
   ],
   "source": [
    "prob_one_test = rfc_cl_w.predict_proba(features_test)[:, 1]\n",
    "roc_auc_score(target_test, prob_one_test)"
   ]
  },
  {
   "cell_type": "markdown",
   "metadata": {},
   "source": [
    "Результаты на тестовой выборке получились даже немного лучше, чем на валидационной (F1=0,628, AUC-ROC=0,863), их можно считать удовлетворительными, F1 больше 0,59."
   ]
  },
  {
   "cell_type": "markdown",
   "metadata": {},
   "source": [
    "## Вывод"
   ]
  },
  {
   "cell_type": "markdown",
   "metadata": {},
   "source": [
    "В ходе работы разделили данные на три выборки: обучающую, валидационную и тестовую. Обучили модели случайного леса, логистической регрессии и дерева решений с подбором оптимальных гиперпараметров сначала без учета дисбаланса, потом применяя методы борьбы с ним. Самыми точными моделями как без учета дисбаланса, так и применяя различные способы борьбы, стали модели случайного леса. Из них наименее точная модель с downsampling, F1=0,575, это может быть связанно с тем, что данных становится слишком мало, из-за этого качество обучения падает. Самой точной моделью стала модель со взвешененными классами, F1=0,622. Данную модель проверили на тестовой выборке, результат оказался еще немного лучше, F1=0,628. Данный результат можно считать успешным, т.к. он больше 0,59."
   ]
  },
  {
   "cell_type": "code",
   "execution_count": null,
   "metadata": {},
   "outputs": [],
   "source": []
  }
 ],
 "metadata": {
  "ExecuteTimeLog": [
   {
    "duration": 393,
    "start_time": "2022-12-19T06:46:58.134Z"
   },
   {
    "duration": 60,
    "start_time": "2022-12-19T06:47:33.764Z"
   },
   {
    "duration": 200,
    "start_time": "2022-12-19T06:47:40.165Z"
   },
   {
    "duration": 22,
    "start_time": "2022-12-19T06:47:47.600Z"
   },
   {
    "duration": 4,
    "start_time": "2022-12-19T07:02:02.518Z"
   },
   {
    "duration": 13,
    "start_time": "2022-12-19T07:02:08.271Z"
   },
   {
    "duration": 5,
    "start_time": "2022-12-19T07:03:26.183Z"
   },
   {
    "duration": 8,
    "start_time": "2022-12-19T07:06:35.260Z"
   },
   {
    "duration": 723,
    "start_time": "2022-12-19T07:06:42.593Z"
   },
   {
    "duration": 9,
    "start_time": "2022-12-19T07:06:45.735Z"
   },
   {
    "duration": 7,
    "start_time": "2022-12-19T07:06:55.553Z"
   },
   {
    "duration": 4,
    "start_time": "2022-12-19T07:07:14.187Z"
   },
   {
    "duration": 4,
    "start_time": "2022-12-19T07:07:22.260Z"
   },
   {
    "duration": 4,
    "start_time": "2022-12-19T07:07:28.725Z"
   },
   {
    "duration": 205,
    "start_time": "2022-12-19T07:11:23.942Z"
   },
   {
    "duration": 19,
    "start_time": "2022-12-19T07:11:31.544Z"
   },
   {
    "duration": 10,
    "start_time": "2022-12-19T07:12:49.808Z"
   },
   {
    "duration": 3,
    "start_time": "2022-12-19T07:12:59.577Z"
   },
   {
    "duration": 38,
    "start_time": "2022-12-19T07:12:59.972Z"
   },
   {
    "duration": 14,
    "start_time": "2022-12-19T07:13:00.502Z"
   },
   {
    "duration": 4,
    "start_time": "2022-12-19T07:13:01.143Z"
   },
   {
    "duration": 10,
    "start_time": "2022-12-19T07:13:01.788Z"
   },
   {
    "duration": 9,
    "start_time": "2022-12-19T07:13:02.326Z"
   },
   {
    "duration": 8,
    "start_time": "2022-12-19T07:13:03.742Z"
   },
   {
    "duration": 4,
    "start_time": "2022-12-19T07:13:04.061Z"
   },
   {
    "duration": 5,
    "start_time": "2022-12-19T07:13:04.512Z"
   },
   {
    "duration": 4,
    "start_time": "2022-12-19T07:13:05.659Z"
   },
   {
    "duration": 4,
    "start_time": "2022-12-19T07:19:12.253Z"
   },
   {
    "duration": 1194,
    "start_time": "2022-12-22T08:21:23.594Z"
   },
   {
    "duration": 168,
    "start_time": "2022-12-22T08:21:24.791Z"
   },
   {
    "duration": 21,
    "start_time": "2022-12-22T08:21:25.662Z"
   },
   {
    "duration": 232,
    "start_time": "2022-12-22T08:21:26.302Z"
   },
   {
    "duration": 36,
    "start_time": "2022-12-22T08:22:14.780Z"
   },
   {
    "duration": 13,
    "start_time": "2022-12-22T08:22:15.012Z"
   },
   {
    "duration": 1342,
    "start_time": "2022-12-22T08:22:47.404Z"
   },
   {
    "duration": 635,
    "start_time": "2022-12-22T08:23:04.274Z"
   },
   {
    "duration": 12,
    "start_time": "2022-12-22T08:23:45.810Z"
   },
   {
    "duration": 3,
    "start_time": "2022-12-22T08:25:30.636Z"
   },
   {
    "duration": 41,
    "start_time": "2022-12-22T08:25:30.812Z"
   },
   {
    "duration": 15,
    "start_time": "2022-12-22T08:25:31.009Z"
   },
   {
    "duration": 5,
    "start_time": "2022-12-22T08:25:31.391Z"
   },
   {
    "duration": 13,
    "start_time": "2022-12-22T08:25:34.181Z"
   },
   {
    "duration": 34,
    "start_time": "2022-12-22T08:25:41.419Z"
   },
   {
    "duration": 12,
    "start_time": "2022-12-22T08:26:12.115Z"
   },
   {
    "duration": 10,
    "start_time": "2022-12-22T08:26:21.560Z"
   },
   {
    "duration": 9,
    "start_time": "2022-12-22T08:26:21.820Z"
   },
   {
    "duration": 3,
    "start_time": "2022-12-22T08:26:22.039Z"
   },
   {
    "duration": 4,
    "start_time": "2022-12-22T08:26:22.316Z"
   },
   {
    "duration": 4,
    "start_time": "2022-12-22T08:26:22.601Z"
   },
   {
    "duration": 71,
    "start_time": "2022-12-22T08:26:24.041Z"
   },
   {
    "duration": 19,
    "start_time": "2022-12-22T08:28:50.127Z"
   },
   {
    "duration": 25,
    "start_time": "2022-12-22T08:29:02.595Z"
   },
   {
    "duration": 22,
    "start_time": "2022-12-22T08:29:35.091Z"
   },
   {
    "duration": 27,
    "start_time": "2022-12-22T08:29:55.068Z"
   },
   {
    "duration": 25,
    "start_time": "2022-12-22T08:34:52.074Z"
   },
   {
    "duration": 11,
    "start_time": "2022-12-22T08:41:07.898Z"
   },
   {
    "duration": 20,
    "start_time": "2022-12-22T08:41:27.895Z"
   },
   {
    "duration": 38,
    "start_time": "2022-12-22T08:41:59.198Z"
   },
   {
    "duration": 29,
    "start_time": "2022-12-22T08:44:54.546Z"
   },
   {
    "duration": 39,
    "start_time": "2022-12-22T08:45:22.698Z"
   },
   {
    "duration": 20,
    "start_time": "2022-12-22T08:47:33.610Z"
   },
   {
    "duration": 17,
    "start_time": "2022-12-22T08:47:49.973Z"
   },
   {
    "duration": 5,
    "start_time": "2022-12-22T08:48:26.136Z"
   },
   {
    "duration": 3,
    "start_time": "2022-12-22T08:48:36.512Z"
   },
   {
    "duration": 42,
    "start_time": "2022-12-22T08:48:36.802Z"
   },
   {
    "duration": 12,
    "start_time": "2022-12-22T08:48:37.334Z"
   },
   {
    "duration": 5,
    "start_time": "2022-12-22T08:48:39.378Z"
   },
   {
    "duration": 5,
    "start_time": "2022-12-22T08:49:01.341Z"
   },
   {
    "duration": 4,
    "start_time": "2022-12-22T08:49:08.051Z"
   },
   {
    "duration": 4,
    "start_time": "2022-12-22T08:49:29.037Z"
   },
   {
    "duration": 5,
    "start_time": "2022-12-22T08:49:45.315Z"
   },
   {
    "duration": 21,
    "start_time": "2022-12-22T08:49:51.361Z"
   },
   {
    "duration": 4,
    "start_time": "2022-12-22T08:50:15.124Z"
   },
   {
    "duration": 7,
    "start_time": "2022-12-22T08:50:58.272Z"
   },
   {
    "duration": 4,
    "start_time": "2022-12-22T08:51:09.134Z"
   },
   {
    "duration": 4,
    "start_time": "2022-12-22T08:51:10.758Z"
   },
   {
    "duration": 18,
    "start_time": "2022-12-22T08:51:11.299Z"
   },
   {
    "duration": 8,
    "start_time": "2022-12-22T08:51:11.733Z"
   },
   {
    "duration": 6,
    "start_time": "2022-12-22T08:51:11.953Z"
   },
   {
    "duration": 4,
    "start_time": "2022-12-22T08:51:12.142Z"
   },
   {
    "duration": 4,
    "start_time": "2022-12-22T08:51:12.339Z"
   },
   {
    "duration": 4,
    "start_time": "2022-12-22T08:51:12.512Z"
   },
   {
    "duration": 39,
    "start_time": "2022-12-22T08:51:12.698Z"
   },
   {
    "duration": 8,
    "start_time": "2022-12-22T08:51:14.649Z"
   },
   {
    "duration": 19593,
    "start_time": "2022-12-22T08:51:22.357Z"
   },
   {
    "duration": 439,
    "start_time": "2022-12-22T08:54:01.103Z"
   },
   {
    "duration": 19317,
    "start_time": "2022-12-22T08:54:09.331Z"
   },
   {
    "duration": 164,
    "start_time": "2022-12-22T08:55:19.488Z"
   },
   {
    "duration": 167,
    "start_time": "2022-12-22T08:55:37.036Z"
   },
   {
    "duration": 20517,
    "start_time": "2022-12-22T08:56:48.051Z"
   },
   {
    "duration": 148,
    "start_time": "2022-12-22T08:57:25.534Z"
   },
   {
    "duration": 3206,
    "start_time": "2022-12-22T09:00:19.410Z"
   },
   {
    "duration": 3884,
    "start_time": "2022-12-22T09:00:36.313Z"
   },
   {
    "duration": 7347,
    "start_time": "2022-12-22T09:00:51.569Z"
   },
   {
    "duration": 34653,
    "start_time": "2022-12-22T09:01:07.777Z"
   },
   {
    "duration": 1603,
    "start_time": "2022-12-27T08:16:03.099Z"
   },
   {
    "duration": 82,
    "start_time": "2022-12-27T08:17:40.932Z"
   },
   {
    "duration": 18,
    "start_time": "2022-12-27T08:17:41.073Z"
   },
   {
    "duration": 15,
    "start_time": "2022-12-27T08:20:12.016Z"
   },
   {
    "duration": 22,
    "start_time": "2022-12-27T08:24:16.937Z"
   },
   {
    "duration": 5,
    "start_time": "2022-12-27T08:28:30.342Z"
   },
   {
    "duration": 4,
    "start_time": "2022-12-27T08:29:47.983Z"
   },
   {
    "duration": 4,
    "start_time": "2022-12-27T08:29:48.622Z"
   },
   {
    "duration": 25,
    "start_time": "2022-12-27T08:31:32.417Z"
   },
   {
    "duration": 18,
    "start_time": "2022-12-27T08:31:39.699Z"
   },
   {
    "duration": 19,
    "start_time": "2022-12-27T08:34:43.578Z"
   },
   {
    "duration": 9,
    "start_time": "2022-12-27T08:35:11.134Z"
   },
   {
    "duration": 6,
    "start_time": "2022-12-27T08:35:11.355Z"
   },
   {
    "duration": 6,
    "start_time": "2022-12-27T08:35:12.294Z"
   },
   {
    "duration": 5,
    "start_time": "2022-12-27T08:35:12.697Z"
   },
   {
    "duration": 5,
    "start_time": "2022-12-27T08:35:13.144Z"
   },
   {
    "duration": 47,
    "start_time": "2022-12-27T08:37:37.555Z"
   },
   {
    "duration": 124,
    "start_time": "2022-12-27T08:38:31.739Z"
   },
   {
    "duration": 75,
    "start_time": "2022-12-27T08:38:41.954Z"
   },
   {
    "duration": 7,
    "start_time": "2022-12-27T08:38:50.459Z"
   },
   {
    "duration": 7,
    "start_time": "2022-12-27T08:38:55.387Z"
   },
   {
    "duration": 7,
    "start_time": "2022-12-27T08:40:11.898Z"
   },
   {
    "duration": 6,
    "start_time": "2022-12-27T08:45:16.057Z"
   },
   {
    "duration": 20672,
    "start_time": "2022-12-27T08:50:34.492Z"
   },
   {
    "duration": 14935,
    "start_time": "2022-12-27T08:51:37.517Z"
   },
   {
    "duration": 9112,
    "start_time": "2022-12-27T08:51:52.454Z"
   },
   {
    "duration": 21236,
    "start_time": "2022-12-27T08:52:11.165Z"
   },
   {
    "duration": 27377,
    "start_time": "2022-12-27T08:53:12.721Z"
   },
   {
    "duration": 27364,
    "start_time": "2022-12-27T09:36:14.514Z"
   },
   {
    "duration": 27208,
    "start_time": "2022-12-27T09:36:53.612Z"
   },
   {
    "duration": 42,
    "start_time": "2022-12-27T09:39:23.115Z"
   },
   {
    "duration": 7,
    "start_time": "2022-12-27T09:39:27.846Z"
   },
   {
    "duration": 27784,
    "start_time": "2022-12-27T09:39:57.077Z"
   },
   {
    "duration": 30,
    "start_time": "2022-12-27T09:47:17.875Z"
   },
   {
    "duration": 3,
    "start_time": "2022-12-27T09:47:25.461Z"
   },
   {
    "duration": 295,
    "start_time": "2022-12-27T09:48:16.172Z"
   },
   {
    "duration": 27180,
    "start_time": "2022-12-27T09:48:17.016Z"
   },
   {
    "duration": 288,
    "start_time": "2022-12-27T09:49:29.687Z"
   },
   {
    "duration": 281,
    "start_time": "2022-12-27T09:50:22.088Z"
   },
   {
    "duration": 273,
    "start_time": "2022-12-27T09:51:14.690Z"
   },
   {
    "duration": 21943,
    "start_time": "2022-12-27T09:54:07.703Z"
   },
   {
    "duration": 70,
    "start_time": "2022-12-27T09:54:57.693Z"
   },
   {
    "duration": 0,
    "start_time": "2022-12-27T09:54:57.766Z"
   },
   {
    "duration": 21938,
    "start_time": "2022-12-27T09:55:16.525Z"
   },
   {
    "duration": 47,
    "start_time": "2022-12-27T09:55:38.464Z"
   },
   {
    "duration": 1472,
    "start_time": "2022-12-28T10:25:08.509Z"
   },
   {
    "duration": 155,
    "start_time": "2022-12-28T10:25:09.983Z"
   },
   {
    "duration": 20,
    "start_time": "2022-12-28T10:25:10.667Z"
   },
   {
    "duration": 13,
    "start_time": "2022-12-28T10:25:14.365Z"
   },
   {
    "duration": 12,
    "start_time": "2022-12-28T10:25:17.160Z"
   },
   {
    "duration": 6,
    "start_time": "2022-12-28T10:25:18.199Z"
   },
   {
    "duration": 11,
    "start_time": "2022-12-28T10:25:35.900Z"
   },
   {
    "duration": 4,
    "start_time": "2022-12-28T10:25:36.819Z"
   },
   {
    "duration": 4,
    "start_time": "2022-12-28T10:25:37.912Z"
   },
   {
    "duration": 4,
    "start_time": "2022-12-28T10:25:38.797Z"
   },
   {
    "duration": 19,
    "start_time": "2022-12-28T10:25:40.146Z"
   },
   {
    "duration": 9,
    "start_time": "2022-12-28T10:25:41.515Z"
   },
   {
    "duration": 6,
    "start_time": "2022-12-28T10:25:41.907Z"
   },
   {
    "duration": 4,
    "start_time": "2022-12-28T10:25:44.579Z"
   },
   {
    "duration": 4,
    "start_time": "2022-12-28T10:25:44.775Z"
   },
   {
    "duration": 4,
    "start_time": "2022-12-28T10:25:45.011Z"
   },
   {
    "duration": 49,
    "start_time": "2022-12-28T10:25:47.830Z"
   },
   {
    "duration": 7,
    "start_time": "2022-12-28T10:25:50.198Z"
   },
   {
    "duration": 18634,
    "start_time": "2022-12-28T10:25:51.943Z"
   },
   {
    "duration": 0,
    "start_time": "2022-12-28T10:26:10.579Z"
   },
   {
    "duration": 18338,
    "start_time": "2022-12-28T10:26:54.516Z"
   },
   {
    "duration": 85,
    "start_time": "2022-12-28T10:27:12.855Z"
   },
   {
    "duration": 23434,
    "start_time": "2022-12-28T10:27:27.413Z"
   },
   {
    "duration": 15,
    "start_time": "2022-12-28T10:31:49.788Z"
   },
   {
    "duration": 152,
    "start_time": "2022-12-28T10:37:35.268Z"
   },
   {
    "duration": 119,
    "start_time": "2022-12-28T10:37:50.524Z"
   },
   {
    "duration": 7,
    "start_time": "2022-12-28T10:38:02.014Z"
   },
   {
    "duration": 18846,
    "start_time": "2022-12-28T11:27:22.173Z"
   },
   {
    "duration": 24137,
    "start_time": "2022-12-28T11:27:42.344Z"
   },
   {
    "duration": 21249,
    "start_time": "2022-12-28T11:28:17.560Z"
   },
   {
    "duration": 34,
    "start_time": "2022-12-28T11:29:20.645Z"
   },
   {
    "duration": 3,
    "start_time": "2022-12-28T11:30:36.730Z"
   },
   {
    "duration": 9,
    "start_time": "2022-12-28T11:32:25.078Z"
   },
   {
    "duration": 9,
    "start_time": "2022-12-28T11:33:53.311Z"
   },
   {
    "duration": 4,
    "start_time": "2022-12-28T11:35:25.936Z"
   },
   {
    "duration": 5,
    "start_time": "2022-12-28T11:35:33.225Z"
   },
   {
    "duration": 11,
    "start_time": "2022-12-28T11:35:41.015Z"
   },
   {
    "duration": 4,
    "start_time": "2022-12-28T11:35:47.111Z"
   },
   {
    "duration": 10,
    "start_time": "2022-12-28T11:35:52.858Z"
   },
   {
    "duration": 26636,
    "start_time": "2022-12-28T11:36:02.217Z"
   },
   {
    "duration": 19112,
    "start_time": "2022-12-28T11:36:59.619Z"
   },
   {
    "duration": 18916,
    "start_time": "2022-12-28T11:37:18.733Z"
   },
   {
    "duration": 26389,
    "start_time": "2022-12-28T11:37:37.651Z"
   },
   {
    "duration": 33992,
    "start_time": "2022-12-28T11:38:04.042Z"
   },
   {
    "duration": 33,
    "start_time": "2022-12-28T11:38:51.464Z"
   },
   {
    "duration": 13,
    "start_time": "2022-12-28T11:41:11.628Z"
   },
   {
    "duration": 5,
    "start_time": "2022-12-28T11:41:26.251Z"
   },
   {
    "duration": 26795,
    "start_time": "2022-12-28T11:41:41.628Z"
   },
   {
    "duration": 11208,
    "start_time": "2022-12-28T11:42:32.207Z"
   },
   {
    "duration": 11304,
    "start_time": "2022-12-28T11:42:49.124Z"
   },
   {
    "duration": 21591,
    "start_time": "2022-12-28T11:46:05.612Z"
   },
   {
    "duration": 34,
    "start_time": "2022-12-28T11:48:02.742Z"
   },
   {
    "duration": 43,
    "start_time": "2022-12-28T11:52:55.526Z"
   },
   {
    "duration": 46,
    "start_time": "2022-12-28T11:53:04.497Z"
   },
   {
    "duration": 47,
    "start_time": "2022-12-28T11:53:22.616Z"
   },
   {
    "duration": 58,
    "start_time": "2022-12-28T11:53:46.350Z"
   },
   {
    "duration": 102,
    "start_time": "2022-12-28T11:53:58.860Z"
   },
   {
    "duration": 24337,
    "start_time": "2022-12-28T11:55:08.521Z"
   },
   {
    "duration": 83,
    "start_time": "2022-12-28T11:55:44.667Z"
   },
   {
    "duration": 10,
    "start_time": "2022-12-28T12:01:09.332Z"
   },
   {
    "duration": 24613,
    "start_time": "2022-12-28T12:01:13.267Z"
   },
   {
    "duration": 18777,
    "start_time": "2022-12-28T12:02:08.943Z"
   },
   {
    "duration": 13438,
    "start_time": "2022-12-28T12:02:39.021Z"
   },
   {
    "duration": 24059,
    "start_time": "2022-12-28T12:03:26.745Z"
   },
   {
    "duration": 22415,
    "start_time": "2022-12-28T12:04:01.230Z"
   },
   {
    "duration": 13241,
    "start_time": "2022-12-28T12:04:23.647Z"
   },
   {
    "duration": 8,
    "start_time": "2022-12-28T12:05:01.042Z"
   },
   {
    "duration": 11621,
    "start_time": "2022-12-28T12:05:01.922Z"
   },
   {
    "duration": 12880,
    "start_time": "2022-12-28T12:05:27.633Z"
   },
   {
    "duration": 23698,
    "start_time": "2022-12-28T12:05:50.251Z"
   },
   {
    "duration": 34,
    "start_time": "2022-12-28T12:06:36.428Z"
   },
   {
    "duration": 23450,
    "start_time": "2022-12-28T12:07:10.012Z"
   },
   {
    "duration": 42,
    "start_time": "2022-12-28T12:07:42.115Z"
   },
   {
    "duration": 9,
    "start_time": "2022-12-28T12:08:03.265Z"
   },
   {
    "duration": 24380,
    "start_time": "2022-12-28T12:08:04.230Z"
   },
   {
    "duration": 8,
    "start_time": "2022-12-28T12:08:36.780Z"
   },
   {
    "duration": 23008,
    "start_time": "2022-12-28T12:08:38.015Z"
   },
   {
    "duration": 23658,
    "start_time": "2022-12-28T12:09:04.376Z"
   },
   {
    "duration": 14884,
    "start_time": "2022-12-28T12:09:51.968Z"
   },
   {
    "duration": 48472,
    "start_time": "2022-12-28T12:10:20.277Z"
   },
   {
    "duration": 34,
    "start_time": "2022-12-28T12:11:29.735Z"
   },
   {
    "duration": 22786,
    "start_time": "2022-12-28T12:11:40.007Z"
   },
   {
    "duration": 40733,
    "start_time": "2022-12-28T12:12:07.246Z"
   },
   {
    "duration": 31,
    "start_time": "2022-12-28T12:13:14.616Z"
   },
   {
    "duration": 9,
    "start_time": "2022-12-28T12:13:28.774Z"
   },
   {
    "duration": 13266,
    "start_time": "2022-12-28T12:13:29.075Z"
   },
   {
    "duration": 31474,
    "start_time": "2022-12-28T12:13:50.530Z"
   },
   {
    "duration": 98,
    "start_time": "2022-12-28T12:14:52.983Z"
   },
   {
    "duration": 88,
    "start_time": "2022-12-28T12:15:34.912Z"
   },
   {
    "duration": 1414,
    "start_time": "2022-12-30T05:46:09.165Z"
   },
   {
    "duration": 81,
    "start_time": "2022-12-30T05:46:10.581Z"
   },
   {
    "duration": 17,
    "start_time": "2022-12-30T05:46:10.663Z"
   },
   {
    "duration": 12,
    "start_time": "2022-12-30T05:46:10.682Z"
   },
   {
    "duration": 4,
    "start_time": "2022-12-30T05:46:10.695Z"
   },
   {
    "duration": 3,
    "start_time": "2022-12-30T05:46:10.712Z"
   },
   {
    "duration": 4,
    "start_time": "2022-12-30T05:46:11.105Z"
   },
   {
    "duration": 18,
    "start_time": "2022-12-30T05:46:12.377Z"
   },
   {
    "duration": 8,
    "start_time": "2022-12-30T05:46:12.778Z"
   },
   {
    "duration": 6,
    "start_time": "2022-12-30T05:46:13.319Z"
   },
   {
    "duration": 4,
    "start_time": "2022-12-30T05:46:13.768Z"
   },
   {
    "duration": 4,
    "start_time": "2022-12-30T05:46:13.964Z"
   },
   {
    "duration": 4,
    "start_time": "2022-12-30T05:46:14.157Z"
   },
   {
    "duration": 35,
    "start_time": "2022-12-30T05:46:14.894Z"
   },
   {
    "duration": 7,
    "start_time": "2022-12-30T05:46:18.102Z"
   },
   {
    "duration": 118,
    "start_time": "2022-12-30T05:46:56.633Z"
   },
   {
    "duration": 32,
    "start_time": "2022-12-30T05:47:23.783Z"
   },
   {
    "duration": 22,
    "start_time": "2022-12-30T05:47:43.257Z"
   },
   {
    "duration": 4,
    "start_time": "2022-12-30T05:50:04.792Z"
   },
   {
    "duration": 55,
    "start_time": "2022-12-30T05:50:04.798Z"
   },
   {
    "duration": 13,
    "start_time": "2022-12-30T05:50:04.854Z"
   },
   {
    "duration": 13,
    "start_time": "2022-12-30T05:50:04.868Z"
   },
   {
    "duration": 6,
    "start_time": "2022-12-30T05:50:04.883Z"
   },
   {
    "duration": 6,
    "start_time": "2022-12-30T05:50:04.890Z"
   },
   {
    "duration": 12,
    "start_time": "2022-12-30T05:50:04.897Z"
   },
   {
    "duration": 38,
    "start_time": "2022-12-30T05:50:04.911Z"
   },
   {
    "duration": 7,
    "start_time": "2022-12-30T05:50:04.951Z"
   },
   {
    "duration": 6,
    "start_time": "2022-12-30T05:50:04.959Z"
   },
   {
    "duration": 5,
    "start_time": "2022-12-30T05:50:04.966Z"
   },
   {
    "duration": 13,
    "start_time": "2022-12-30T05:50:04.972Z"
   },
   {
    "duration": 14,
    "start_time": "2022-12-30T05:50:04.987Z"
   },
   {
    "duration": 42,
    "start_time": "2022-12-30T05:50:05.004Z"
   },
   {
    "duration": 6,
    "start_time": "2022-12-30T05:50:05.048Z"
   },
   {
    "duration": 19234,
    "start_time": "2022-12-30T05:50:05.055Z"
   },
   {
    "duration": 24720,
    "start_time": "2022-12-30T05:50:24.291Z"
   },
   {
    "duration": 15,
    "start_time": "2022-12-30T05:50:49.015Z"
   },
   {
    "duration": 0,
    "start_time": "2022-12-30T05:50:49.032Z"
   },
   {
    "duration": 0,
    "start_time": "2022-12-30T05:50:49.033Z"
   },
   {
    "duration": 0,
    "start_time": "2022-12-30T05:50:49.034Z"
   },
   {
    "duration": 0,
    "start_time": "2022-12-30T05:50:49.035Z"
   },
   {
    "duration": 0,
    "start_time": "2022-12-30T05:50:49.036Z"
   },
   {
    "duration": 0,
    "start_time": "2022-12-30T05:50:49.038Z"
   },
   {
    "duration": 0,
    "start_time": "2022-12-30T05:50:49.039Z"
   },
   {
    "duration": 0,
    "start_time": "2022-12-30T05:50:49.040Z"
   },
   {
    "duration": 0,
    "start_time": "2022-12-30T05:50:49.041Z"
   },
   {
    "duration": 0,
    "start_time": "2022-12-30T05:50:49.043Z"
   },
   {
    "duration": 0,
    "start_time": "2022-12-30T05:50:49.044Z"
   },
   {
    "duration": 0,
    "start_time": "2022-12-30T05:50:49.045Z"
   },
   {
    "duration": 0,
    "start_time": "2022-12-30T05:50:49.046Z"
   },
   {
    "duration": 23961,
    "start_time": "2022-12-30T05:51:17.848Z"
   },
   {
    "duration": 126,
    "start_time": "2022-12-30T05:51:41.811Z"
   },
   {
    "duration": 6,
    "start_time": "2022-12-30T05:51:41.938Z"
   },
   {
    "duration": 18626,
    "start_time": "2022-12-30T05:51:41.946Z"
   },
   {
    "duration": 20981,
    "start_time": "2022-12-30T05:52:00.574Z"
   },
   {
    "duration": 31,
    "start_time": "2022-12-30T05:52:21.556Z"
   },
   {
    "duration": 8,
    "start_time": "2022-12-30T05:52:21.588Z"
   },
   {
    "duration": 22,
    "start_time": "2022-12-30T05:52:21.598Z"
   },
   {
    "duration": 22729,
    "start_time": "2022-12-30T05:52:21.622Z"
   },
   {
    "duration": 40253,
    "start_time": "2022-12-30T05:52:44.354Z"
   },
   {
    "duration": 33,
    "start_time": "2022-12-30T05:53:24.608Z"
   },
   {
    "duration": 8,
    "start_time": "2022-12-30T05:53:24.643Z"
   },
   {
    "duration": 12553,
    "start_time": "2022-12-30T05:53:24.653Z"
   },
   {
    "duration": 29974,
    "start_time": "2022-12-30T05:53:37.207Z"
   },
   {
    "duration": 89,
    "start_time": "2022-12-30T05:54:07.183Z"
   },
   {
    "duration": 43,
    "start_time": "2022-12-30T05:54:07.273Z"
   },
   {
    "duration": 34,
    "start_time": "2022-12-30T05:54:15.324Z"
   },
   {
    "duration": 46,
    "start_time": "2022-12-30T05:54:19.342Z"
   },
   {
    "duration": 31,
    "start_time": "2022-12-30T05:54:24.801Z"
   },
   {
    "duration": 8,
    "start_time": "2022-12-30T05:54:51.620Z"
   },
   {
    "duration": 20958,
    "start_time": "2022-12-30T05:54:53.190Z"
   },
   {
    "duration": 9,
    "start_time": "2022-12-30T05:55:23.164Z"
   },
   {
    "duration": 25329,
    "start_time": "2022-12-30T05:55:23.464Z"
   },
   {
    "duration": 12,
    "start_time": "2022-12-30T05:55:58.414Z"
   },
   {
    "duration": 14734,
    "start_time": "2022-12-30T05:55:58.783Z"
   },
   {
    "duration": 29903,
    "start_time": "2022-12-30T05:56:21.865Z"
   },
   {
    "duration": 41,
    "start_time": "2022-12-30T05:57:06.947Z"
   },
   {
    "duration": 30,
    "start_time": "2022-12-30T05:57:14.526Z"
   },
   {
    "duration": 39,
    "start_time": "2022-12-30T05:57:20.173Z"
   },
   {
    "duration": 64773,
    "start_time": "2022-12-30T05:57:48.167Z"
   },
   {
    "duration": 87,
    "start_time": "2022-12-30T06:02:30.168Z"
   },
   {
    "duration": 85,
    "start_time": "2022-12-30T06:02:44.772Z"
   },
   {
    "duration": 89,
    "start_time": "2022-12-30T06:03:12.148Z"
   },
   {
    "duration": 93,
    "start_time": "2022-12-30T06:03:36.915Z"
   },
   {
    "duration": 110,
    "start_time": "2022-12-30T06:03:57.003Z"
   },
   {
    "duration": 94,
    "start_time": "2022-12-30T06:04:11.494Z"
   },
   {
    "duration": 93,
    "start_time": "2022-12-30T06:04:16.666Z"
   },
   {
    "duration": 46,
    "start_time": "2022-12-30T06:04:32.669Z"
   },
   {
    "duration": 112,
    "start_time": "2022-12-30T06:04:49.960Z"
   },
   {
    "duration": 199,
    "start_time": "2022-12-30T06:05:41.998Z"
   },
   {
    "duration": 192,
    "start_time": "2022-12-30T06:05:51.979Z"
   },
   {
    "duration": 181,
    "start_time": "2022-12-30T06:05:56.594Z"
   },
   {
    "duration": 149,
    "start_time": "2022-12-30T06:06:01.254Z"
   },
   {
    "duration": 146,
    "start_time": "2022-12-30T06:06:07.434Z"
   },
   {
    "duration": 1236,
    "start_time": "2022-12-30T06:06:14.131Z"
   },
   {
    "duration": 153,
    "start_time": "2022-12-30T06:06:20.384Z"
   },
   {
    "duration": 30,
    "start_time": "2022-12-30T06:06:31.652Z"
   },
   {
    "duration": 52,
    "start_time": "2022-12-30T06:06:58.013Z"
   },
   {
    "duration": 44,
    "start_time": "2022-12-30T06:08:00.308Z"
   },
   {
    "duration": 8,
    "start_time": "2022-12-30T06:08:10.593Z"
   },
   {
    "duration": 12691,
    "start_time": "2022-12-30T06:08:15.909Z"
   },
   {
    "duration": 24980,
    "start_time": "2022-12-30T06:09:00.856Z"
   },
   {
    "duration": 43,
    "start_time": "2022-12-30T06:09:36.795Z"
   },
   {
    "duration": 1535,
    "start_time": "2023-01-11T09:35:49.777Z"
   },
   {
    "duration": 379,
    "start_time": "2023-01-11T09:35:51.315Z"
   },
   {
    "duration": 21,
    "start_time": "2023-01-11T09:35:51.696Z"
   },
   {
    "duration": 20,
    "start_time": "2023-01-11T09:35:51.719Z"
   },
   {
    "duration": 5,
    "start_time": "2023-01-11T09:35:51.750Z"
   },
   {
    "duration": 3,
    "start_time": "2023-01-11T09:35:52.227Z"
   },
   {
    "duration": 4,
    "start_time": "2023-01-11T09:35:52.984Z"
   },
   {
    "duration": 19,
    "start_time": "2023-01-11T09:35:53.962Z"
   },
   {
    "duration": 10,
    "start_time": "2023-01-11T09:35:54.978Z"
   },
   {
    "duration": 7,
    "start_time": "2023-01-11T09:35:55.364Z"
   },
   {
    "duration": 3,
    "start_time": "2023-01-11T09:35:56.537Z"
   },
   {
    "duration": 4,
    "start_time": "2023-01-11T09:35:56.768Z"
   },
   {
    "duration": 4,
    "start_time": "2023-01-11T09:35:56.966Z"
   },
   {
    "duration": 42,
    "start_time": "2023-01-11T09:35:57.388Z"
   },
   {
    "duration": 8,
    "start_time": "2023-01-11T09:35:59.427Z"
   },
   {
    "duration": 20164,
    "start_time": "2023-01-11T09:36:14.385Z"
   },
   {
    "duration": 25881,
    "start_time": "2023-01-11T09:36:34.551Z"
   },
   {
    "duration": 159,
    "start_time": "2023-01-11T09:37:00.434Z"
   },
   {
    "duration": 8,
    "start_time": "2023-01-11T09:37:00.595Z"
   },
   {
    "duration": 19587,
    "start_time": "2023-01-11T09:37:00.604Z"
   },
   {
    "duration": 66838,
    "start_time": "2023-01-11T09:37:20.193Z"
   },
   {
    "duration": 35,
    "start_time": "2023-01-11T09:38:27.032Z"
   },
   {
    "duration": 8,
    "start_time": "2023-01-11T09:38:27.068Z"
   },
   {
    "duration": 7,
    "start_time": "2023-01-11T09:38:27.078Z"
   },
   {
    "duration": 24081,
    "start_time": "2023-01-11T09:38:27.088Z"
   },
   {
    "duration": 42675,
    "start_time": "2023-01-11T09:38:51.170Z"
   },
   {
    "duration": 32,
    "start_time": "2023-01-11T09:39:33.847Z"
   },
   {
    "duration": 8,
    "start_time": "2023-01-11T09:45:48.851Z"
   },
   {
    "duration": 7,
    "start_time": "2023-01-11T09:45:48.999Z"
   },
   {
    "duration": 24611,
    "start_time": "2023-01-11T09:45:49.386Z"
   },
   {
    "duration": 42245,
    "start_time": "2023-01-11T09:46:14.000Z"
   },
   {
    "duration": 32,
    "start_time": "2023-01-11T09:46:56.246Z"
   },
   {
    "duration": 42,
    "start_time": "2023-01-11T09:47:40.220Z"
   },
   {
    "duration": 9,
    "start_time": "2023-01-11T09:52:29.850Z"
   },
   {
    "duration": 12361,
    "start_time": "2023-01-11T09:52:30.048Z"
   },
   {
    "duration": 24590,
    "start_time": "2023-01-11T09:52:42.412Z"
   },
   {
    "duration": 47,
    "start_time": "2023-01-11T09:53:07.004Z"
   },
   {
    "duration": 34,
    "start_time": "2023-01-11T10:00:56.759Z"
   },
   {
    "duration": 37,
    "start_time": "2023-01-11T10:00:56.944Z"
   },
   {
    "duration": 1606,
    "start_time": "2023-01-11T10:24:48.084Z"
   },
   {
    "duration": 195,
    "start_time": "2023-01-11T10:24:51.207Z"
   },
   {
    "duration": 18,
    "start_time": "2023-01-11T10:24:51.404Z"
   },
   {
    "duration": 12,
    "start_time": "2023-01-11T10:24:51.423Z"
   },
   {
    "duration": 5,
    "start_time": "2023-01-11T10:24:51.437Z"
   },
   {
    "duration": 15,
    "start_time": "2023-01-11T10:24:51.443Z"
   },
   {
    "duration": 37,
    "start_time": "2023-01-11T10:24:51.459Z"
   },
   {
    "duration": 30,
    "start_time": "2023-01-11T10:24:51.498Z"
   },
   {
    "duration": 10,
    "start_time": "2023-01-11T10:24:51.530Z"
   },
   {
    "duration": 12,
    "start_time": "2023-01-11T10:24:51.542Z"
   },
   {
    "duration": 16,
    "start_time": "2023-01-11T10:24:51.558Z"
   },
   {
    "duration": 9,
    "start_time": "2023-01-11T10:24:51.576Z"
   },
   {
    "duration": 19,
    "start_time": "2023-01-11T10:24:51.587Z"
   },
   {
    "duration": 51,
    "start_time": "2023-01-11T10:24:51.608Z"
   },
   {
    "duration": 12,
    "start_time": "2023-01-11T10:24:51.660Z"
   },
   {
    "duration": 19131,
    "start_time": "2023-01-11T10:24:51.674Z"
   },
   {
    "duration": 22168,
    "start_time": "2023-01-11T10:25:10.807Z"
   },
   {
    "duration": 140,
    "start_time": "2023-01-11T10:25:32.978Z"
   },
   {
    "duration": 6,
    "start_time": "2023-01-11T10:25:33.120Z"
   },
   {
    "duration": 16669,
    "start_time": "2023-01-11T10:25:33.127Z"
   },
   {
    "duration": 57551,
    "start_time": "2023-01-11T10:25:49.798Z"
   },
   {
    "duration": 41,
    "start_time": "2023-01-11T10:26:47.352Z"
   },
   {
    "duration": 8,
    "start_time": "2023-01-11T10:26:47.394Z"
   },
   {
    "duration": 7,
    "start_time": "2023-01-11T10:26:47.404Z"
   },
   {
    "duration": 21178,
    "start_time": "2023-01-11T10:26:47.412Z"
   },
   {
    "duration": 37690,
    "start_time": "2023-01-11T10:27:08.591Z"
   },
   {
    "duration": 31,
    "start_time": "2023-01-11T10:27:46.282Z"
   },
   {
    "duration": 8,
    "start_time": "2023-01-11T10:27:46.315Z"
   },
   {
    "duration": 9734,
    "start_time": "2023-01-11T10:27:46.326Z"
   },
   {
    "duration": 19757,
    "start_time": "2023-01-11T10:27:56.062Z"
   },
   {
    "duration": 56,
    "start_time": "2023-01-11T10:28:15.821Z"
   },
   {
    "duration": 34,
    "start_time": "2023-01-11T10:28:15.879Z"
   },
   {
    "duration": 53,
    "start_time": "2023-01-11T10:28:15.915Z"
   },
   {
    "duration": 3,
    "start_time": "2023-01-11T10:31:37.018Z"
   },
   {
    "duration": 33,
    "start_time": "2023-01-11T10:31:37.505Z"
   },
   {
    "duration": 76,
    "start_time": "2023-01-11T10:36:18.483Z"
   },
   {
    "duration": 75,
    "start_time": "2023-01-11T10:41:56.604Z"
   },
   {
    "duration": 1766,
    "start_time": "2023-01-14T11:50:08.663Z"
   },
   {
    "duration": 474,
    "start_time": "2023-01-14T11:50:12.906Z"
   },
   {
    "duration": 27,
    "start_time": "2023-01-14T11:50:13.385Z"
   },
   {
    "duration": 13,
    "start_time": "2023-01-14T11:50:14.615Z"
   },
   {
    "duration": 4,
    "start_time": "2023-01-14T12:00:26.913Z"
   },
   {
    "duration": 50,
    "start_time": "2023-01-14T12:00:27.529Z"
   },
   {
    "duration": 20,
    "start_time": "2023-01-14T12:00:27.713Z"
   },
   {
    "duration": 13,
    "start_time": "2023-01-14T12:00:28.113Z"
   },
   {
    "duration": 4,
    "start_time": "2023-01-14T12:00:28.263Z"
   },
   {
    "duration": 4,
    "start_time": "2023-01-14T12:00:29.017Z"
   },
   {
    "duration": 5,
    "start_time": "2023-01-14T12:00:29.826Z"
   },
   {
    "duration": 30,
    "start_time": "2023-01-14T12:00:32.769Z"
   },
   {
    "duration": 8,
    "start_time": "2023-01-14T12:00:33.131Z"
   },
   {
    "duration": 15,
    "start_time": "2023-01-14T12:00:34.308Z"
   },
   {
    "duration": 4,
    "start_time": "2023-01-14T12:00:34.559Z"
   },
   {
    "duration": 7,
    "start_time": "2023-01-14T12:00:34.777Z"
   },
   {
    "duration": 132,
    "start_time": "2023-01-14T12:00:36.619Z"
   },
   {
    "duration": 13,
    "start_time": "2023-01-14T12:13:55.154Z"
   },
   {
    "duration": 26,
    "start_time": "2023-01-14T12:14:09.100Z"
   },
   {
    "duration": 18,
    "start_time": "2023-01-14T12:14:16.508Z"
   },
   {
    "duration": 21,
    "start_time": "2023-01-14T12:23:20.739Z"
   },
   {
    "duration": 18,
    "start_time": "2023-01-14T12:29:48.412Z"
   },
   {
    "duration": 91,
    "start_time": "2023-01-14T12:32:09.977Z"
   },
   {
    "duration": 98,
    "start_time": "2023-01-14T12:32:15.956Z"
   },
   {
    "duration": 15,
    "start_time": "2023-01-14T12:32:23.034Z"
   },
   {
    "duration": 22,
    "start_time": "2023-01-14T12:32:34.068Z"
   },
   {
    "duration": 6,
    "start_time": "2023-01-14T13:32:30.826Z"
   },
   {
    "duration": 47,
    "start_time": "2023-01-14T13:32:31.514Z"
   },
   {
    "duration": 20,
    "start_time": "2023-01-14T13:32:31.750Z"
   },
   {
    "duration": 31,
    "start_time": "2023-01-14T13:32:32.191Z"
   },
   {
    "duration": 9,
    "start_time": "2023-01-14T13:32:32.505Z"
   },
   {
    "duration": 11,
    "start_time": "2023-01-14T13:32:34.400Z"
   },
   {
    "duration": 9,
    "start_time": "2023-01-14T13:32:38.615Z"
   },
   {
    "duration": 9,
    "start_time": "2023-01-14T13:32:43.651Z"
   },
   {
    "duration": 18,
    "start_time": "2023-01-14T13:32:43.890Z"
   },
   {
    "duration": 4,
    "start_time": "2023-01-14T13:32:45.051Z"
   },
   {
    "duration": 4,
    "start_time": "2023-01-14T13:32:45.331Z"
   },
   {
    "duration": 4,
    "start_time": "2023-01-14T13:32:45.633Z"
   },
   {
    "duration": 10,
    "start_time": "2023-01-14T13:32:47.463Z"
   },
   {
    "duration": 14,
    "start_time": "2023-01-14T13:32:55.201Z"
   },
   {
    "duration": 19,
    "start_time": "2023-01-14T13:37:48.278Z"
   },
   {
    "duration": 33,
    "start_time": "2023-01-14T13:37:58.153Z"
   },
   {
    "duration": 16,
    "start_time": "2023-01-14T13:38:32.421Z"
   },
   {
    "duration": 39,
    "start_time": "2023-01-14T13:38:34.408Z"
   },
   {
    "duration": 22,
    "start_time": "2023-01-14T13:38:34.768Z"
   },
   {
    "duration": 11,
    "start_time": "2023-01-14T13:38:35.151Z"
   },
   {
    "duration": 6,
    "start_time": "2023-01-14T13:38:35.323Z"
   },
   {
    "duration": 4,
    "start_time": "2023-01-14T13:38:35.855Z"
   },
   {
    "duration": 11,
    "start_time": "2023-01-14T13:38:36.392Z"
   },
   {
    "duration": 11,
    "start_time": "2023-01-14T13:38:38.373Z"
   },
   {
    "duration": 11,
    "start_time": "2023-01-14T13:38:38.597Z"
   },
   {
    "duration": 3,
    "start_time": "2023-01-14T13:38:39.548Z"
   },
   {
    "duration": 4,
    "start_time": "2023-01-14T13:38:39.718Z"
   },
   {
    "duration": 4,
    "start_time": "2023-01-14T13:38:40.253Z"
   },
   {
    "duration": 10,
    "start_time": "2023-01-14T13:39:18.643Z"
   },
   {
    "duration": 44,
    "start_time": "2023-01-14T13:39:28.163Z"
   },
   {
    "duration": 34,
    "start_time": "2023-01-14T13:40:13.768Z"
   },
   {
    "duration": 12,
    "start_time": "2023-01-14T13:41:03.797Z"
   },
   {
    "duration": 7,
    "start_time": "2023-01-14T13:41:19.517Z"
   },
   {
    "duration": 6,
    "start_time": "2023-01-14T13:41:19.728Z"
   },
   {
    "duration": 7,
    "start_time": "2023-01-14T13:41:20.202Z"
   },
   {
    "duration": 4,
    "start_time": "2023-01-14T13:41:20.357Z"
   },
   {
    "duration": 5,
    "start_time": "2023-01-14T13:41:20.847Z"
   },
   {
    "duration": 47,
    "start_time": "2023-01-14T13:42:54.089Z"
   },
   {
    "duration": 1328,
    "start_time": "2023-01-14T13:43:54.108Z"
   },
   {
    "duration": 1331,
    "start_time": "2023-01-14T13:44:17.138Z"
   },
   {
    "duration": 8,
    "start_time": "2023-01-14T13:44:27.267Z"
   },
   {
    "duration": 11,
    "start_time": "2023-01-14T13:44:27.303Z"
   },
   {
    "duration": 4,
    "start_time": "2023-01-14T13:44:27.453Z"
   },
   {
    "duration": 4,
    "start_time": "2023-01-14T13:44:27.507Z"
   },
   {
    "duration": 3,
    "start_time": "2023-01-14T13:44:27.702Z"
   },
   {
    "duration": 18,
    "start_time": "2023-01-14T13:44:31.338Z"
   },
   {
    "duration": 13,
    "start_time": "2023-01-14T13:45:10.152Z"
   },
   {
    "duration": 6,
    "start_time": "2023-01-14T13:45:10.349Z"
   },
   {
    "duration": 4,
    "start_time": "2023-01-14T13:45:10.752Z"
   },
   {
    "duration": 4,
    "start_time": "2023-01-14T13:45:10.946Z"
   },
   {
    "duration": 3,
    "start_time": "2023-01-14T13:45:11.157Z"
   },
   {
    "duration": 52,
    "start_time": "2023-01-14T13:45:12.547Z"
   },
   {
    "duration": 7,
    "start_time": "2023-01-14T13:45:26.443Z"
   },
   {
    "duration": 7,
    "start_time": "2023-01-14T13:45:27.052Z"
   },
   {
    "duration": 4,
    "start_time": "2023-01-14T13:45:27.104Z"
   },
   {
    "duration": 6,
    "start_time": "2023-01-14T13:45:27.110Z"
   },
   {
    "duration": 4,
    "start_time": "2023-01-14T13:45:27.247Z"
   },
   {
    "duration": 34,
    "start_time": "2023-01-14T13:45:27.636Z"
   },
   {
    "duration": 25,
    "start_time": "2023-01-14T13:45:44.801Z"
   },
   {
    "duration": 7,
    "start_time": "2023-01-14T13:48:00.839Z"
   },
   {
    "duration": 17920,
    "start_time": "2023-01-14T13:49:18.853Z"
   },
   {
    "duration": 22673,
    "start_time": "2023-01-14T13:49:36.774Z"
   },
   {
    "duration": 167,
    "start_time": "2023-01-14T13:49:59.448Z"
   },
   {
    "duration": 6,
    "start_time": "2023-01-14T13:49:59.617Z"
   },
   {
    "duration": 4,
    "start_time": "2023-01-14T13:53:55.056Z"
   },
   {
    "duration": 683,
    "start_time": "2023-01-14T13:59:10.001Z"
   },
   {
    "duration": 21829,
    "start_time": "2023-01-14T13:59:25.758Z"
   },
   {
    "duration": 11,
    "start_time": "2023-01-14T14:02:08.940Z"
   },
   {
    "duration": 715,
    "start_time": "2023-01-14T14:02:32.490Z"
   },
   {
    "duration": 400,
    "start_time": "2023-01-14T14:04:34.782Z"
   },
   {
    "duration": 746,
    "start_time": "2023-01-14T14:05:40.211Z"
   },
   {
    "duration": 10,
    "start_time": "2023-01-14T14:09:17.496Z"
   },
   {
    "duration": 8,
    "start_time": "2023-01-14T14:09:28.406Z"
   },
   {
    "duration": 13,
    "start_time": "2023-01-14T14:09:28.446Z"
   },
   {
    "duration": 4,
    "start_time": "2023-01-15T13:08:01.512Z"
   },
   {
    "duration": 58,
    "start_time": "2023-01-15T13:08:01.518Z"
   },
   {
    "duration": 17,
    "start_time": "2023-01-15T13:08:01.578Z"
   },
   {
    "duration": 19,
    "start_time": "2023-01-15T13:08:01.596Z"
   },
   {
    "duration": 11,
    "start_time": "2023-01-15T13:08:01.616Z"
   },
   {
    "duration": 8,
    "start_time": "2023-01-15T13:08:21.396Z"
   },
   {
    "duration": 5,
    "start_time": "2023-01-15T13:08:23.741Z"
   },
   {
    "duration": 8,
    "start_time": "2023-01-15T13:08:55.257Z"
   },
   {
    "duration": 6,
    "start_time": "2023-01-15T13:08:55.457Z"
   },
   {
    "duration": 3,
    "start_time": "2023-01-15T13:08:56.632Z"
   },
   {
    "duration": 6,
    "start_time": "2023-01-15T13:08:56.810Z"
   },
   {
    "duration": 4,
    "start_time": "2023-01-15T13:08:57.066Z"
   },
   {
    "duration": 36,
    "start_time": "2023-01-15T13:09:00.521Z"
   },
   {
    "duration": 29,
    "start_time": "2023-01-15T13:09:01.462Z"
   },
   {
    "duration": 4,
    "start_time": "2023-01-15T13:09:02.906Z"
   },
   {
    "duration": 6,
    "start_time": "2023-01-15T13:09:05.399Z"
   },
   {
    "duration": 15921,
    "start_time": "2023-01-15T13:09:09.556Z"
   },
   {
    "duration": 20629,
    "start_time": "2023-01-15T13:09:46.063Z"
   },
   {
    "duration": 159,
    "start_time": "2023-01-15T13:10:06.694Z"
   },
   {
    "duration": 5,
    "start_time": "2023-01-15T13:10:06.855Z"
   },
   {
    "duration": 224,
    "start_time": "2023-01-15T13:10:06.862Z"
   },
   {
    "duration": 742,
    "start_time": "2023-01-15T13:10:07.178Z"
   },
   {
    "duration": 8,
    "start_time": "2023-01-15T13:10:07.921Z"
   },
   {
    "duration": 16164,
    "start_time": "2023-01-15T13:10:07.931Z"
   },
   {
    "duration": 49450,
    "start_time": "2023-01-15T13:11:25.731Z"
   },
   {
    "duration": 55,
    "start_time": "2023-01-15T13:12:15.183Z"
   },
   {
    "duration": 245,
    "start_time": "2023-01-15T13:12:15.240Z"
   },
   {
    "duration": 889,
    "start_time": "2023-01-15T13:12:15.487Z"
   },
   {
    "duration": 8,
    "start_time": "2023-01-15T13:12:16.378Z"
   },
   {
    "duration": 33,
    "start_time": "2023-01-15T13:12:16.388Z"
   },
   {
    "duration": 0,
    "start_time": "2023-01-15T13:12:16.423Z"
   },
   {
    "duration": 0,
    "start_time": "2023-01-15T13:12:16.424Z"
   },
   {
    "duration": 26,
    "start_time": "2023-01-15T13:14:38.577Z"
   },
   {
    "duration": 5,
    "start_time": "2023-01-15T13:14:53.817Z"
   },
   {
    "duration": 23,
    "start_time": "2023-01-15T13:15:01.997Z"
   },
   {
    "duration": 5,
    "start_time": "2023-01-15T13:16:01.122Z"
   },
   {
    "duration": 51,
    "start_time": "2023-01-15T13:16:01.636Z"
   },
   {
    "duration": 23,
    "start_time": "2023-01-15T13:16:01.797Z"
   },
   {
    "duration": 12,
    "start_time": "2023-01-15T13:16:02.157Z"
   },
   {
    "duration": 5,
    "start_time": "2023-01-15T13:16:02.307Z"
   },
   {
    "duration": 10,
    "start_time": "2023-01-15T13:16:03.587Z"
   },
   {
    "duration": 6,
    "start_time": "2023-01-15T13:16:03.960Z"
   },
   {
    "duration": 10,
    "start_time": "2023-01-15T13:16:11.041Z"
   },
   {
    "duration": 9,
    "start_time": "2023-01-15T13:16:11.477Z"
   },
   {
    "duration": 5,
    "start_time": "2023-01-15T13:16:13.316Z"
   },
   {
    "duration": 5,
    "start_time": "2023-01-15T13:16:13.576Z"
   },
   {
    "duration": 4,
    "start_time": "2023-01-15T13:16:14.521Z"
   },
   {
    "duration": 65,
    "start_time": "2023-01-15T13:16:17.302Z"
   },
   {
    "duration": 39,
    "start_time": "2023-01-15T13:16:18.699Z"
   },
   {
    "duration": 7,
    "start_time": "2023-01-15T13:16:23.461Z"
   },
   {
    "duration": 16198,
    "start_time": "2023-01-15T13:16:24.526Z"
   },
   {
    "duration": 20913,
    "start_time": "2023-01-15T13:16:40.726Z"
   },
   {
    "duration": 186,
    "start_time": "2023-01-15T13:17:01.641Z"
   },
   {
    "duration": 7,
    "start_time": "2023-01-15T13:17:01.829Z"
   },
   {
    "duration": 358,
    "start_time": "2023-01-15T13:17:01.837Z"
   },
   {
    "duration": 864,
    "start_time": "2023-01-15T13:17:02.198Z"
   },
   {
    "duration": 14,
    "start_time": "2023-01-15T13:17:03.064Z"
   },
   {
    "duration": 16198,
    "start_time": "2023-01-15T13:17:03.080Z"
   },
   {
    "duration": 49995,
    "start_time": "2023-01-15T13:17:19.280Z"
   },
   {
    "duration": 54,
    "start_time": "2023-01-15T13:18:09.277Z"
   },
   {
    "duration": 554,
    "start_time": "2023-01-15T13:18:09.333Z"
   },
   {
    "duration": 868,
    "start_time": "2023-01-15T13:18:09.889Z"
   },
   {
    "duration": 8,
    "start_time": "2023-01-15T13:18:10.759Z"
   },
   {
    "duration": 14,
    "start_time": "2023-01-15T13:18:10.778Z"
   },
   {
    "duration": 4,
    "start_time": "2023-01-15T13:28:11.442Z"
   },
   {
    "duration": 42,
    "start_time": "2023-01-15T13:28:12.062Z"
   },
   {
    "duration": 15,
    "start_time": "2023-01-15T13:28:12.237Z"
   },
   {
    "duration": 13,
    "start_time": "2023-01-15T13:28:12.856Z"
   },
   {
    "duration": 5,
    "start_time": "2023-01-15T13:28:13.197Z"
   },
   {
    "duration": 11,
    "start_time": "2023-01-15T13:28:31.593Z"
   },
   {
    "duration": 5,
    "start_time": "2023-01-15T13:28:33.314Z"
   },
   {
    "duration": 8,
    "start_time": "2023-01-15T13:28:35.357Z"
   },
   {
    "duration": 7,
    "start_time": "2023-01-15T13:28:35.717Z"
   },
   {
    "duration": 4,
    "start_time": "2023-01-15T13:28:36.557Z"
   },
   {
    "duration": 4,
    "start_time": "2023-01-15T13:28:36.757Z"
   },
   {
    "duration": 4,
    "start_time": "2023-01-15T13:28:36.992Z"
   },
   {
    "duration": 36,
    "start_time": "2023-01-15T13:28:37.782Z"
   },
   {
    "duration": 28,
    "start_time": "2023-01-15T13:28:38.713Z"
   },
   {
    "duration": 9,
    "start_time": "2023-01-15T13:28:53.977Z"
   },
   {
    "duration": 16,
    "start_time": "2023-01-15T13:28:56.637Z"
   },
   {
    "duration": 4,
    "start_time": "2023-01-15T13:29:04.097Z"
   },
   {
    "duration": 6,
    "start_time": "2023-01-15T13:29:08.622Z"
   },
   {
    "duration": 16190,
    "start_time": "2023-01-15T13:29:10.767Z"
   },
   {
    "duration": 20528,
    "start_time": "2023-01-15T13:29:26.959Z"
   },
   {
    "duration": 160,
    "start_time": "2023-01-15T13:29:47.489Z"
   },
   {
    "duration": 6,
    "start_time": "2023-01-15T13:29:47.651Z"
   },
   {
    "duration": 227,
    "start_time": "2023-01-15T13:29:47.659Z"
   },
   {
    "duration": 889,
    "start_time": "2023-01-15T13:29:47.888Z"
   },
   {
    "duration": 8,
    "start_time": "2023-01-15T13:29:48.779Z"
   },
   {
    "duration": 16059,
    "start_time": "2023-01-15T13:29:48.788Z"
   },
   {
    "duration": 51392,
    "start_time": "2023-01-15T13:30:04.848Z"
   },
   {
    "duration": 80,
    "start_time": "2023-01-15T13:30:56.244Z"
   },
   {
    "duration": 356,
    "start_time": "2023-01-15T13:30:56.326Z"
   },
   {
    "duration": 778,
    "start_time": "2023-01-15T13:30:56.685Z"
   },
   {
    "duration": 14,
    "start_time": "2023-01-15T13:30:57.464Z"
   },
   {
    "duration": 8,
    "start_time": "2023-01-15T13:30:57.479Z"
   },
   {
    "duration": 12,
    "start_time": "2023-01-15T13:30:57.488Z"
   },
   {
    "duration": 21530,
    "start_time": "2023-01-15T13:31:11.767Z"
   },
   {
    "duration": 43,
    "start_time": "2023-01-15T13:32:35.650Z"
   },
   {
    "duration": 183,
    "start_time": "2023-01-15T13:32:35.696Z"
   },
   {
    "duration": 1057,
    "start_time": "2023-01-15T13:32:35.882Z"
   },
   {
    "duration": 6,
    "start_time": "2023-01-15T13:32:36.941Z"
   },
   {
    "duration": 64283,
    "start_time": "2023-01-15T13:32:36.949Z"
   },
   {
    "duration": 7,
    "start_time": "2023-01-15T13:33:53.867Z"
   },
   {
    "duration": 20636,
    "start_time": "2023-01-15T13:33:57.689Z"
   },
   {
    "duration": 59912,
    "start_time": "2023-01-15T13:34:44.589Z"
   },
   {
    "duration": 51,
    "start_time": "2023-01-15T13:35:44.503Z"
   },
   {
    "duration": 8,
    "start_time": "2023-01-15T13:37:26.967Z"
   },
   {
    "duration": 10022,
    "start_time": "2023-01-15T13:37:43.690Z"
   },
   {
    "duration": 19611,
    "start_time": "2023-01-15T13:37:53.714Z"
   },
   {
    "duration": 41,
    "start_time": "2023-01-15T13:38:13.326Z"
   },
   {
    "duration": 186,
    "start_time": "2023-01-15T13:39:06.002Z"
   },
   {
    "duration": 899,
    "start_time": "2023-01-15T13:39:11.422Z"
   },
   {
    "duration": 5,
    "start_time": "2023-01-15T13:40:15.421Z"
   },
   {
    "duration": 3,
    "start_time": "2023-01-15T13:40:20.396Z"
   },
   {
    "duration": 6,
    "start_time": "2023-01-15T13:40:34.223Z"
   },
   {
    "duration": 23296,
    "start_time": "2023-01-15T13:40:36.422Z"
   },
   {
    "duration": 67450,
    "start_time": "2023-01-15T13:40:59.720Z"
   },
   {
    "duration": 34,
    "start_time": "2023-01-15T13:42:07.177Z"
   },
   {
    "duration": 281,
    "start_time": "2023-01-15T13:42:07.212Z"
   },
   {
    "duration": 1227,
    "start_time": "2023-01-15T13:42:07.499Z"
   },
   {
    "duration": 9,
    "start_time": "2023-01-15T13:42:08.728Z"
   },
   {
    "duration": 10289,
    "start_time": "2023-01-15T13:42:08.739Z"
   },
   {
    "duration": 19820,
    "start_time": "2023-01-15T13:42:19.030Z"
   },
   {
    "duration": 53,
    "start_time": "2023-01-15T13:42:38.852Z"
   },
   {
    "duration": 179,
    "start_time": "2023-01-15T13:42:38.907Z"
   },
   {
    "duration": 535,
    "start_time": "2023-01-15T13:42:39.090Z"
   },
   {
    "duration": 951,
    "start_time": "2023-01-15T13:42:39.627Z"
   },
   {
    "duration": 10,
    "start_time": "2023-01-15T13:42:40.580Z"
   },
   {
    "duration": 359,
    "start_time": "2023-01-15T13:42:54.201Z"
   },
   {
    "duration": 7,
    "start_time": "2023-01-15T13:42:54.563Z"
   },
   {
    "duration": 55,
    "start_time": "2023-01-15T13:44:44.919Z"
   },
   {
    "duration": 31,
    "start_time": "2023-01-15T13:44:46.345Z"
   },
   {
    "duration": 9,
    "start_time": "2023-01-15T13:50:14.103Z"
   },
   {
    "duration": 10648,
    "start_time": "2023-01-15T13:50:15.014Z"
   },
   {
    "duration": 70169,
    "start_time": "2023-01-15T13:50:25.953Z"
   },
   {
    "duration": 27901,
    "start_time": "2023-01-15T13:51:36.124Z"
   },
   {
    "duration": 1648,
    "start_time": "2023-03-10T13:04:29.197Z"
   },
   {
    "duration": 81,
    "start_time": "2023-03-10T13:04:31.500Z"
   },
   {
    "duration": 198,
    "start_time": "2023-03-10T13:05:23.170Z"
   }
  ],
  "kernelspec": {
   "display_name": "Python 3 (ipykernel)",
   "language": "python",
   "name": "python3"
  },
  "language_info": {
   "codemirror_mode": {
    "name": "ipython",
    "version": 3
   },
   "file_extension": ".py",
   "mimetype": "text/x-python",
   "name": "python",
   "nbconvert_exporter": "python",
   "pygments_lexer": "ipython3",
   "version": "3.9.16"
  },
  "toc": {
   "base_numbering": 1,
   "nav_menu": {},
   "number_sections": true,
   "sideBar": true,
   "skip_h1_title": true,
   "title_cell": "Содержание",
   "title_sidebar": "Contents",
   "toc_cell": true,
   "toc_position": {
    "height": "calc(100% - 180px)",
    "left": "10px",
    "top": "150px",
    "width": "179.825px"
   },
   "toc_section_display": true,
   "toc_window_display": true
  }
 },
 "nbformat": 4,
 "nbformat_minor": 2
}
